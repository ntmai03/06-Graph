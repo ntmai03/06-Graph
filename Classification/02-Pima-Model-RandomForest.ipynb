{
 "cells": [
  {
   "cell_type": "markdown",
   "metadata": {},
   "source": [
    "# Import package"
   ]
  },
  {
   "cell_type": "code",
   "execution_count": 1,
   "metadata": {},
   "outputs": [
    {
     "name": "stdout",
     "output_type": "stream",
     "text": [
      "Setup complete...\n"
     ]
    }
   ],
   "source": [
    "import warnings\n",
    "warnings.filterwarnings('ignore')\n",
    "\n",
    "import numpy as np\n",
    "import pandas as pd\n",
    "import matplotlib.pyplot as plt\n",
    "import seaborn as sns\n",
    "\n",
    "# plt.style.use('fivethirtyeight')\n",
    "sns.set(style = 'whitegrid',context = 'notebook')\n",
    "\n",
    "# generate classification report using predictions for categorical model\n",
    "from sklearn.metrics import confusion_matrix,classification_report, accuracy_score, roc_curve, roc_auc_score\n",
    "from sklearn import (metrics,  linear_model, preprocessing)\n",
    "from sklearn.model_selection import train_test_split, cross_val_score, GridSearchCV, RandomizedSearchCV, KFold, learning_curve, StratifiedKFold\n",
    "\n",
    "pd.set_option('display.max_rows', 500)\n",
    "pd.set_option('display.max_columns', 50)\n",
    "pd.set_option('display.width', 175)\n",
    "\n",
    "print(\"Setup complete...\")\n",
    "\n",
    "# Supress warnings\n",
    "import warnings\n",
    "warnings.filterwarnings(\"ignore\")"
   ]
  },
  {
   "cell_type": "markdown",
   "metadata": {},
   "source": [
    "# Import data"
   ]
  },
  {
   "cell_type": "code",
   "execution_count": 2,
   "metadata": {},
   "outputs": [
    {
     "data": {
      "text/plain": [
       "(768, 9)"
      ]
     },
     "execution_count": 2,
     "metadata": {},
     "output_type": "execute_result"
    }
   ],
   "source": [
    "df = pd.read_csv(\"diabetes.csv\")\n",
    "df.shape"
   ]
  },
  {
   "cell_type": "code",
   "execution_count": 3,
   "metadata": {},
   "outputs": [],
   "source": [
    "original_df = df.copy()"
   ]
  },
  {
   "cell_type": "code",
   "execution_count": 4,
   "metadata": {},
   "outputs": [],
   "source": [
    "df[['Glucose','BloodPressure','SkinThickness','Insulin','BMI']] = df[['Glucose','BloodPressure','SkinThickness','Insulin','BMI']].replace(0,np.NaN)"
   ]
  },
  {
   "cell_type": "code",
   "execution_count": 5,
   "metadata": {},
   "outputs": [
    {
     "data": {
      "text/plain": [
       "(768, 9)"
      ]
     },
     "execution_count": 5,
     "metadata": {},
     "output_type": "execute_result"
    }
   ],
   "source": [
    "df.shape"
   ]
  },
  {
   "cell_type": "code",
   "execution_count": 6,
   "metadata": {},
   "outputs": [
    {
     "data": {
      "text/html": [
       "<div>\n",
       "<style scoped>\n",
       "    .dataframe tbody tr th:only-of-type {\n",
       "        vertical-align: middle;\n",
       "    }\n",
       "\n",
       "    .dataframe tbody tr th {\n",
       "        vertical-align: top;\n",
       "    }\n",
       "\n",
       "    .dataframe thead th {\n",
       "        text-align: right;\n",
       "    }\n",
       "</style>\n",
       "<table border=\"1\" class=\"dataframe\">\n",
       "  <thead>\n",
       "    <tr style=\"text-align: right;\">\n",
       "      <th></th>\n",
       "      <th>Pregnancies</th>\n",
       "      <th>Glucose</th>\n",
       "      <th>BloodPressure</th>\n",
       "      <th>SkinThickness</th>\n",
       "      <th>Insulin</th>\n",
       "      <th>BMI</th>\n",
       "      <th>DiabetesPedigreeFunction</th>\n",
       "      <th>Age</th>\n",
       "      <th>Outcome</th>\n",
       "    </tr>\n",
       "  </thead>\n",
       "  <tbody>\n",
       "    <tr>\n",
       "      <th>0</th>\n",
       "      <td>6</td>\n",
       "      <td>148.0</td>\n",
       "      <td>72.0</td>\n",
       "      <td>35.0</td>\n",
       "      <td>NaN</td>\n",
       "      <td>33.6</td>\n",
       "      <td>0.627</td>\n",
       "      <td>50</td>\n",
       "      <td>1</td>\n",
       "    </tr>\n",
       "    <tr>\n",
       "      <th>1</th>\n",
       "      <td>1</td>\n",
       "      <td>85.0</td>\n",
       "      <td>66.0</td>\n",
       "      <td>29.0</td>\n",
       "      <td>NaN</td>\n",
       "      <td>26.6</td>\n",
       "      <td>0.351</td>\n",
       "      <td>31</td>\n",
       "      <td>0</td>\n",
       "    </tr>\n",
       "    <tr>\n",
       "      <th>2</th>\n",
       "      <td>8</td>\n",
       "      <td>183.0</td>\n",
       "      <td>64.0</td>\n",
       "      <td>NaN</td>\n",
       "      <td>NaN</td>\n",
       "      <td>23.3</td>\n",
       "      <td>0.672</td>\n",
       "      <td>32</td>\n",
       "      <td>1</td>\n",
       "    </tr>\n",
       "    <tr>\n",
       "      <th>3</th>\n",
       "      <td>1</td>\n",
       "      <td>89.0</td>\n",
       "      <td>66.0</td>\n",
       "      <td>23.0</td>\n",
       "      <td>94.0</td>\n",
       "      <td>28.1</td>\n",
       "      <td>0.167</td>\n",
       "      <td>21</td>\n",
       "      <td>0</td>\n",
       "    </tr>\n",
       "    <tr>\n",
       "      <th>4</th>\n",
       "      <td>0</td>\n",
       "      <td>137.0</td>\n",
       "      <td>40.0</td>\n",
       "      <td>35.0</td>\n",
       "      <td>168.0</td>\n",
       "      <td>43.1</td>\n",
       "      <td>2.288</td>\n",
       "      <td>33</td>\n",
       "      <td>1</td>\n",
       "    </tr>\n",
       "  </tbody>\n",
       "</table>\n",
       "</div>"
      ],
      "text/plain": [
       "   Pregnancies  Glucose  BloodPressure  SkinThickness  Insulin   BMI  DiabetesPedigreeFunction  Age  Outcome\n",
       "0            6    148.0           72.0           35.0      NaN  33.6                     0.627   50        1\n",
       "1            1     85.0           66.0           29.0      NaN  26.6                     0.351   31        0\n",
       "2            8    183.0           64.0            NaN      NaN  23.3                     0.672   32        1\n",
       "3            1     89.0           66.0           23.0     94.0  28.1                     0.167   21        0\n",
       "4            0    137.0           40.0           35.0    168.0  43.1                     2.288   33        1"
      ]
     },
     "execution_count": 6,
     "metadata": {},
     "output_type": "execute_result"
    }
   ],
   "source": [
    "df.head()"
   ]
  },
  {
   "cell_type": "markdown",
   "metadata": {},
   "source": [
    "# Data Preprocessing"
   ]
  },
  {
   "cell_type": "code",
   "execution_count": 7,
   "metadata": {},
   "outputs": [
    {
     "data": {
      "text/plain": [
       "Pregnancies                 0\n",
       "Glucose                     0\n",
       "BloodPressure               0\n",
       "SkinThickness               0\n",
       "Insulin                     0\n",
       "BMI                         0\n",
       "DiabetesPedigreeFunction    0\n",
       "Age                         0\n",
       "Outcome                     0\n",
       "dtype: int64"
      ]
     },
     "execution_count": 7,
     "metadata": {},
     "output_type": "execute_result"
    }
   ],
   "source": [
    "df = df.fillna(df.mean())\n",
    "df.isnull().sum()"
   ]
  },
  {
   "cell_type": "code",
   "execution_count": 8,
   "metadata": {},
   "outputs": [],
   "source": [
    "num_vars = [var for var in df.columns if df[var].dtypes != 'O']\n",
    "numdf = df[num_vars].drop(['Outcome'],axis=1)\n",
    "\n",
    "from sklearn.preprocessing import MinMaxScaler\n",
    "numdf_norm = pd.DataFrame(MinMaxScaler().fit_transform(numdf))\n",
    "numdf_norm.columns = numdf.columns"
   ]
  },
  {
   "cell_type": "code",
   "execution_count": 9,
   "metadata": {},
   "outputs": [
    {
     "name": "stdout",
     "output_type": "stream",
     "text": [
      "(768, 8)\n",
      "(768,)\n"
     ]
    }
   ],
   "source": [
    "X = numdf_norm\n",
    "print (X.shape)\n",
    "y = df['Outcome']\n",
    "print (y.shape)"
   ]
  },
  {
   "cell_type": "code",
   "execution_count": 26,
   "metadata": {},
   "outputs": [
    {
     "data": {
      "text/html": [
       "<div>\n",
       "<style scoped>\n",
       "    .dataframe tbody tr th:only-of-type {\n",
       "        vertical-align: middle;\n",
       "    }\n",
       "\n",
       "    .dataframe tbody tr th {\n",
       "        vertical-align: top;\n",
       "    }\n",
       "\n",
       "    .dataframe thead th {\n",
       "        text-align: right;\n",
       "    }\n",
       "</style>\n",
       "<table border=\"1\" class=\"dataframe\">\n",
       "  <thead>\n",
       "    <tr style=\"text-align: right;\">\n",
       "      <th></th>\n",
       "      <th>Pregnancies</th>\n",
       "      <th>Glucose</th>\n",
       "      <th>BloodPressure</th>\n",
       "      <th>SkinThickness</th>\n",
       "      <th>Insulin</th>\n",
       "      <th>BMI</th>\n",
       "      <th>DiabetesPedigreeFunction</th>\n",
       "      <th>Age</th>\n",
       "    </tr>\n",
       "  </thead>\n",
       "  <tbody>\n",
       "    <tr>\n",
       "      <th>0</th>\n",
       "      <td>0.352941</td>\n",
       "      <td>0.670968</td>\n",
       "      <td>0.489796</td>\n",
       "      <td>0.304348</td>\n",
       "      <td>0.186899</td>\n",
       "      <td>0.314928</td>\n",
       "      <td>0.234415</td>\n",
       "      <td>0.483333</td>\n",
       "    </tr>\n",
       "    <tr>\n",
       "      <th>1</th>\n",
       "      <td>0.058824</td>\n",
       "      <td>0.264516</td>\n",
       "      <td>0.428571</td>\n",
       "      <td>0.239130</td>\n",
       "      <td>0.106370</td>\n",
       "      <td>0.171779</td>\n",
       "      <td>0.116567</td>\n",
       "      <td>0.166667</td>\n",
       "    </tr>\n",
       "    <tr>\n",
       "      <th>2</th>\n",
       "      <td>0.470588</td>\n",
       "      <td>0.896774</td>\n",
       "      <td>0.408163</td>\n",
       "      <td>0.271739</td>\n",
       "      <td>0.186899</td>\n",
       "      <td>0.104294</td>\n",
       "      <td>0.253629</td>\n",
       "      <td>0.183333</td>\n",
       "    </tr>\n",
       "    <tr>\n",
       "      <th>3</th>\n",
       "      <td>0.058824</td>\n",
       "      <td>0.290323</td>\n",
       "      <td>0.428571</td>\n",
       "      <td>0.173913</td>\n",
       "      <td>0.096154</td>\n",
       "      <td>0.202454</td>\n",
       "      <td>0.038002</td>\n",
       "      <td>0.000000</td>\n",
       "    </tr>\n",
       "    <tr>\n",
       "      <th>4</th>\n",
       "      <td>0.000000</td>\n",
       "      <td>0.600000</td>\n",
       "      <td>0.163265</td>\n",
       "      <td>0.304348</td>\n",
       "      <td>0.185096</td>\n",
       "      <td>0.509202</td>\n",
       "      <td>0.943638</td>\n",
       "      <td>0.200000</td>\n",
       "    </tr>\n",
       "  </tbody>\n",
       "</table>\n",
       "</div>"
      ],
      "text/plain": [
       "   Pregnancies   Glucose  BloodPressure  SkinThickness   Insulin       BMI  DiabetesPedigreeFunction       Age\n",
       "0     0.352941  0.670968       0.489796       0.304348  0.186899  0.314928                  0.234415  0.483333\n",
       "1     0.058824  0.264516       0.428571       0.239130  0.106370  0.171779                  0.116567  0.166667\n",
       "2     0.470588  0.896774       0.408163       0.271739  0.186899  0.104294                  0.253629  0.183333\n",
       "3     0.058824  0.290323       0.428571       0.173913  0.096154  0.202454                  0.038002  0.000000\n",
       "4     0.000000  0.600000       0.163265       0.304348  0.185096  0.509202                  0.943638  0.200000"
      ]
     },
     "execution_count": 26,
     "metadata": {},
     "output_type": "execute_result"
    }
   ],
   "source": [
    "X.head()"
   ]
  },
  {
   "cell_type": "code",
   "execution_count": null,
   "metadata": {},
   "outputs": [],
   "source": []
  },
  {
   "cell_type": "markdown",
   "metadata": {},
   "source": [
    "## Spliting data into training and test set"
   ]
  },
  {
   "cell_type": "code",
   "execution_count": 10,
   "metadata": {},
   "outputs": [
    {
     "data": {
      "text/plain": [
       "((614, 8), (154, 8))"
      ]
     },
     "execution_count": 10,
     "metadata": {},
     "output_type": "execute_result"
    }
   ],
   "source": [
    "from sklearn.model_selection import train_test_split\n",
    "\n",
    "X_train, X_test, y_train, y_test = train_test_split(X, y, test_size=0.2, random_state=0, stratify = y)\n",
    "X_train.shape, X_test.shape"
   ]
  },
  {
   "cell_type": "markdown",
   "metadata": {},
   "source": [
    "# Train and perform cross validation"
   ]
  },
  {
   "cell_type": "markdown",
   "metadata": {},
   "source": [
    "### Train - Test split"
   ]
  },
  {
   "cell_type": "code",
   "execution_count": 11,
   "metadata": {},
   "outputs": [
    {
     "data": {
      "text/plain": [
       "RandomForestClassifier(bootstrap=True, ccp_alpha=0.0, class_weight=None,\n",
       "                       criterion='gini', max_depth=None, max_features='auto',\n",
       "                       max_leaf_nodes=None, max_samples=None,\n",
       "                       min_impurity_decrease=0.0, min_impurity_split=None,\n",
       "                       min_samples_leaf=1, min_samples_split=2,\n",
       "                       min_weight_fraction_leaf=0.0, n_estimators=100,\n",
       "                       n_jobs=None, oob_score=False, random_state=None,\n",
       "                       verbose=0, warm_start=False)"
      ]
     },
     "execution_count": 11,
     "metadata": {},
     "output_type": "execute_result"
    }
   ],
   "source": [
    "from sklearn import ensemble\n",
    "from sklearn.ensemble import RandomForestClassifier\n",
    "rf_model = RandomForestClassifier()  \n",
    "rf_model.fit(X_train, y_train) "
   ]
  },
  {
   "cell_type": "markdown",
   "metadata": {},
   "source": [
    "### Cross validation"
   ]
  },
  {
   "cell_type": "code",
   "execution_count": 12,
   "metadata": {},
   "outputs": [
    {
     "data": {
      "text/plain": [
       "array([0.74193548, 0.66129032, 0.69354839, 0.79032258, 0.68852459,\n",
       "       0.81967213, 0.78688525, 0.80327869, 0.75409836, 0.72131148])"
      ]
     },
     "execution_count": 12,
     "metadata": {},
     "output_type": "execute_result"
    }
   ],
   "source": [
    "from sklearn.ensemble import RandomForestClassifier\n",
    "model = RandomForestClassifier()\n",
    "\n",
    "kfold = KFold(n_splits = 10, random_state = 10)\n",
    "scores = cross_val_score(model,X_train,y_train,cv=kfold,scoring='accuracy')\n",
    "scores"
   ]
  },
  {
   "cell_type": "code",
   "execution_count": 13,
   "metadata": {},
   "outputs": [
    {
     "name": "stdout",
     "output_type": "stream",
     "text": [
      "Accuracy: 74.61% (+/- 10.25%)\n"
     ]
    }
   ],
   "source": [
    "print(\"Accuracy: %0.2f%% (+/- %0.2f%%)\" % (100*scores.mean(), 100*scores.std() * 2))"
   ]
  },
  {
   "cell_type": "code",
   "execution_count": 14,
   "metadata": {},
   "outputs": [
    {
     "data": {
      "image/png": "[encoded data removed]",
      "text/plain": [
       "<Figure size 216x432 with 1 Axes>"
      ]
     },
     "metadata": {
      "needs_background": "light"
     },
     "output_type": "display_data"
    }
   ],
   "source": [
    "plt.figure(figsize=(3,6))\n",
    "sns.boxplot(data=scores)\n",
    "plt.show()"
   ]
  },
  {
   "cell_type": "markdown",
   "metadata": {},
   "source": [
    "# Prediction"
   ]
  },
  {
   "cell_type": "code",
   "execution_count": 15,
   "metadata": {},
   "outputs": [],
   "source": [
    "model.fit(X_train, y_train)\n",
    "y_train_pred = model.predict(X_train)\n",
    "prob_train_pred = model.predict_proba(X_train)\n",
    "\n",
    "y_test_pred = model.predict(X_test)\n",
    "prob_test_pred = model.predict_proba(X_test)"
   ]
  },
  {
   "cell_type": "code",
   "execution_count": 16,
   "metadata": {},
   "outputs": [
    {
     "data": {
      "text/plain": [
       "{'bootstrap': True,\n",
       " 'ccp_alpha': 0.0,\n",
       " 'class_weight': None,\n",
       " 'criterion': 'gini',\n",
       " 'max_depth': None,\n",
       " 'max_features': 'auto',\n",
       " 'max_leaf_nodes': None,\n",
       " 'max_samples': None,\n",
       " 'min_impurity_decrease': 0.0,\n",
       " 'min_impurity_split': None,\n",
       " 'min_samples_leaf': 1,\n",
       " 'min_samples_split': 2,\n",
       " 'min_weight_fraction_leaf': 0.0,\n",
       " 'n_estimators': 100,\n",
       " 'n_jobs': None,\n",
       " 'oob_score': False,\n",
       " 'random_state': None,\n",
       " 'verbose': 0,\n",
       " 'warm_start': False}"
      ]
     },
     "execution_count": 16,
     "metadata": {},
     "output_type": "execute_result"
    }
   ],
   "source": [
    "# default parameters\n",
    "model.get_params()"
   ]
  },
  {
   "cell_type": "markdown",
   "metadata": {},
   "source": [
    "# Model Evaluation"
   ]
  },
  {
   "cell_type": "markdown",
   "metadata": {},
   "source": [
    "### Accuracy"
   ]
  },
  {
   "cell_type": "code",
   "execution_count": 17,
   "metadata": {},
   "outputs": [
    {
     "data": {
      "text/plain": [
       "1.0"
      ]
     },
     "execution_count": 17,
     "metadata": {},
     "output_type": "execute_result"
    }
   ],
   "source": [
    "accuracy_score(y_train, y_train_pred)"
   ]
  },
  {
   "cell_type": "code",
   "execution_count": 18,
   "metadata": {},
   "outputs": [
    {
     "data": {
      "text/plain": [
       "0.7987012987012987"
      ]
     },
     "execution_count": 18,
     "metadata": {},
     "output_type": "execute_result"
    }
   ],
   "source": [
    "accuracy_score(y_test, y_test_pred)"
   ]
  },
  {
   "cell_type": "markdown",
   "metadata": {},
   "source": [
    "### Confusion matrix"
   ]
  },
  {
   "cell_type": "code",
   "execution_count": 19,
   "metadata": {},
   "outputs": [
    {
     "data": {
      "image/png": "[encoded data removed]",
      "text/plain": [
       "<Figure size 432x288 with 2 Axes>"
      ]
     },
     "metadata": {
      "needs_background": "light"
     },
     "output_type": "display_data"
    }
   ],
   "source": [
    "cm_df = pd.DataFrame(confusion_matrix(y_train, y_train_pred))\n",
    "cm_df.index.name = 'Actual'\n",
    "cm_df.columns.name = 'Predicted'\n",
    "sns.heatmap(cm_df, annot=True, fmt=\"d\")\n",
    "plt.show()"
   ]
  },
  {
   "cell_type": "code",
   "execution_count": 39,
   "metadata": {},
   "outputs": [
    {
     "name": "stdout",
     "output_type": "stream",
     "text": [
      "              precision    recall  f1-score   support\n",
      "\n",
      "           0       0.99      1.00      1.00       393\n",
      "           1       1.00      0.99      1.00       221\n",
      "\n",
      "    accuracy                           1.00       614\n",
      "   macro avg       1.00      1.00      1.00       614\n",
      "weighted avg       1.00      1.00      1.00       614\n",
      "\n"
     ]
    }
   ],
   "source": [
    "print(classification_report(y_train, y_train_pred))"
   ]
  },
  {
   "cell_type": "code",
   "execution_count": 20,
   "metadata": {},
   "outputs": [
    {
     "data": {
      "image/png": "[encoded data removed]",
      "text/plain": [
       "<Figure size 432x288 with 2 Axes>"
      ]
     },
     "metadata": {
      "needs_background": "light"
     },
     "output_type": "display_data"
    }
   ],
   "source": [
    "cm_df = pd.DataFrame(confusion_matrix(y_test, y_test_pred))\n",
    "cm_df.index.name = 'Actual'\n",
    "cm_df.columns.name = 'Predicted'\n",
    "sns.heatmap(cm_df, annot=True, fmt=\"d\")\n",
    "plt.show()"
   ]
  },
  {
   "cell_type": "markdown",
   "metadata": {},
   "source": [
    "### Classification Report"
   ]
  },
  {
   "cell_type": "code",
   "execution_count": 40,
   "metadata": {},
   "outputs": [
    {
     "name": "stdout",
     "output_type": "stream",
     "text": [
      "              precision    recall  f1-score   support\n",
      "\n",
      "           0       0.94      0.91      0.92       107\n",
      "           1       0.80      0.87      0.84        47\n",
      "\n",
      "    accuracy                           0.90       154\n",
      "   macro avg       0.87      0.89      0.88       154\n",
      "weighted avg       0.90      0.90      0.90       154\n",
      "\n"
     ]
    }
   ],
   "source": [
    "print(classification_report(y_test, y_test_pred))"
   ]
  },
  {
   "cell_type": "markdown",
   "metadata": {},
   "source": [
    "### ROC AUC Score"
   ]
  },
  {
   "cell_type": "code",
   "execution_count": 21,
   "metadata": {},
   "outputs": [
    {
     "data": {
      "text/plain": [
       "1.0"
      ]
     },
     "execution_count": 21,
     "metadata": {},
     "output_type": "execute_result"
    }
   ],
   "source": [
    "roc_auc_score(y_train, prob_train_pred[:,1])"
   ]
  },
  {
   "cell_type": "code",
   "execution_count": 22,
   "metadata": {},
   "outputs": [
    {
     "data": {
      "text/plain": [
       "0.8611111111111112"
      ]
     },
     "execution_count": 22,
     "metadata": {},
     "output_type": "execute_result"
    }
   ],
   "source": [
    "roc_auc_score(y_test, prob_test_pred[:,1])"
   ]
  },
  {
   "cell_type": "markdown",
   "metadata": {},
   "source": [
    "### ROC Curve"
   ]
  },
  {
   "cell_type": "code",
   "execution_count": 23,
   "metadata": {},
   "outputs": [
    {
     "data": {
      "image/png": "[encoded data removed]",
      "text/plain": [
       "<Figure size 432x432 with 1 Axes>"
      ]
     },
     "metadata": {
      "needs_background": "light"
     },
     "output_type": "display_data"
    }
   ],
   "source": [
    "from sklearn.metrics import roc_curve\n",
    "\n",
    "fpr_train, tpr_train, threshold = roc_curve(y_train, prob_train_pred[:,1])\n",
    "fpr_test, tpr_test, threshold = roc_curve(y_test, prob_test_pred[:,1])\n",
    "\n",
    "plt.figure(figsize=(6,6))\n",
    "plt.title('ROC Curve Classifiers', fontsize=16)\n",
    "plt.plot(fpr_train, tpr_train, label= 'Train Score: {:.4f}'.format(roc_auc_score(y_train, prob_train_pred[:,1])))\n",
    "plt.plot(fpr_test, tpr_test, label= 'Test Score: {:.4f}'.format(roc_auc_score(y_test, prob_test_pred[:,1])))\n",
    "\n",
    "plt.plot([0, 1], [0, 1], 'k--')\n",
    "plt.axis([-0.01, 1, 0, 1])\n",
    "plt.xlabel('False Positive Rate', fontsize=16)\n",
    "plt.ylabel('True Positive Rate', fontsize=16)\n",
    "plt.annotate('Minimum ROC Score of 50% \\n (This is the minimum score to get)', xy=(0.5, 0.5), xytext=(0.6, 0.3),\n",
    "                arrowprops=dict(facecolor='#6E726D', shrink=0.05))\n",
    "plt.legend()\n",
    "        \n",
    "plt.show()\n"
   ]
  },
  {
   "cell_type": "markdown",
   "metadata": {},
   "source": [
    "### Precision-Recall curve"
   ]
  },
  {
   "cell_type": "code",
   "execution_count": 24,
   "metadata": {},
   "outputs": [
    {
     "data": {
      "text/plain": [
       "Text(0.5, 1.0, 'Precision-Recall curve: \\n Average Precision-Recall Score =0.77')"
      ]
     },
     "execution_count": 24,
     "metadata": {},
     "output_type": "execute_result"
    },
    {
     "data": {
      "image/png": "[encoded data removed]",
      "text/plain": [
       "<Figure size 432x288 with 1 Axes>"
      ]
     },
     "metadata": {
      "needs_background": "light"
     },
     "output_type": "display_data"
    }
   ],
   "source": [
    "from sklearn.metrics import precision_recall_curve\n",
    "from sklearn.metrics import average_precision_score\n",
    "\n",
    "y_score = prob_test_pred[:,1]\n",
    "precision, recall, threshold = precision_recall_curve(y_test,y_score)\n",
    "average_precision = average_precision_score(y_test, y_score)\n",
    "\n",
    "\n",
    "plt.step(recall, precision, color='#004a93', alpha=0.2,where='post')\n",
    "plt.fill_between(recall, precision, step='post', alpha=0.2, color='#48a6ff')\n",
    "plt.xlabel('Recall')\n",
    "plt.ylabel('Precision')\n",
    "plt.ylim([0.0, 1.05])\n",
    "plt.xlim([0.0, 1.0])\n",
    "plt.title('Precision-Recall curve: \\n Average Precision-Recall Score ={0:0.2f}'.format(average_precision), fontsize=16)"
   ]
  },
  {
   "cell_type": "code",
   "execution_count": 25,
   "metadata": {},
   "outputs": [
    {
     "data": {
      "image/png": "[encoded data removed]",
      "text/plain": [
       "<Figure size 576x360 with 1 Axes>"
      ]
     },
     "metadata": {
      "needs_background": "light"
     },
     "output_type": "display_data"
    }
   ],
   "source": [
    "plt.figure(figsize=(8,5))\n",
    "plt.plot(threshold, precision[1:], label=\"Precision\",linewidth=5)\n",
    "plt.plot(threshold, recall[1:], label=\"Recall\",linewidth=5)\n",
    "plt.title('Precision and recall for different threshold values')\n",
    "plt.xlabel('Threshold')\n",
    "plt.ylabel('Precision/Recall')\n",
    "plt.legend()\n",
    "plt.show()"
   ]
  },
  {
   "cell_type": "code",
   "execution_count": 26,
   "metadata": {},
   "outputs": [
    {
     "data": {
      "text/plain": [
       "Text(0.5, 1.0, 'Precision-Recall curve: \\n Average Precision-Recall Score =1.00')"
      ]
     },
     "execution_count": 26,
     "metadata": {},
     "output_type": "execute_result"
    },
    {
     "data": {
      "image/png": "[encoded data removed]",
      "text/plain": [
       "<Figure size 432x288 with 1 Axes>"
      ]
     },
     "metadata": {
      "needs_background": "light"
     },
     "output_type": "display_data"
    }
   ],
   "source": [
    "from sklearn.metrics import precision_recall_curve\n",
    "from sklearn.metrics import average_precision_score\n",
    "\n",
    "y_score = prob_train_pred[:,1]\n",
    "precision, recall, threshold = precision_recall_curve(y_train,y_score)\n",
    "average_precision = average_precision_score(y_train, y_score)\n",
    "\n",
    "\n",
    "plt.step(recall, precision, color='#004a93', alpha=0.2,where='post')\n",
    "plt.fill_between(recall, precision, step='post', alpha=0.2, color='#48a6ff')\n",
    "plt.xlabel('Recall')\n",
    "plt.ylabel('Precision')\n",
    "plt.ylim([0.0, 1.05])\n",
    "plt.xlim([0.0, 1.0])\n",
    "plt.title('Precision-Recall curve: \\n Average Precision-Recall Score ={0:0.2f}'.format(average_precision), fontsize=16)"
   ]
  },
  {
   "cell_type": "code",
   "execution_count": 27,
   "metadata": {},
   "outputs": [
    {
     "data": {
      "image/png": "[encoded data removed]",
      "text/plain": [
       "<Figure size 576x360 with 1 Axes>"
      ]
     },
     "metadata": {
      "needs_background": "light"
     },
     "output_type": "display_data"
    }
   ],
   "source": [
    "plt.figure(figsize=(8,5))\n",
    "plt.plot(threshold, precision[1:], label=\"Precision\",linewidth=5)\n",
    "plt.plot(threshold, recall[1:], label=\"Recall\",linewidth=5)\n",
    "plt.title('Precision and recall for different threshold values')\n",
    "plt.xlabel('Threshold')\n",
    "plt.ylabel('Precision/Recall')\n",
    "plt.legend()\n",
    "plt.show()"
   ]
  },
  {
   "cell_type": "markdown",
   "metadata": {},
   "source": [
    "### Summary"
   ]
  },
  {
   "cell_type": "code",
   "execution_count": 28,
   "metadata": {},
   "outputs": [],
   "source": [
    "def ModelEvaluation(model,X_train,y_train,X_test,y_test,name):\n",
    "    print('Model Evaluation of ' + name)\n",
    "\n",
    "    print('-----------------------------------------------------------')\n",
    "    print('Train set')\n",
    "    print('Accuracy: ', accuracy_score(y_train, y_train_pred))\n",
    "    print('ROC AUC Score: ', roc_auc_score(y_train, prob_train_pred[:,1]))\n",
    "    cm_df = pd.DataFrame(confusion_matrix(y_train,y_train_pred), index=model.classes_,columns=model.classes_)\n",
    "    cm_df.index.name = 'Predicted'\n",
    "    cm_df.columns.name = 'True'\n",
    "    print('Confusion matrix')\n",
    "    print(cm_df)\n",
    "    print(classification_report(y_train, y_train_pred))\n",
    "    \n",
    "    print('-----------------------------------------------------------')\n",
    "    print('Test set')\n",
    "    print('Accuracy: ', accuracy_score(y_test, y_test_pred))\n",
    "    print('ROC AUC Score: ', roc_auc_score(y_test, prob_test_pred[:,1]))\n",
    "    cm_df = pd.DataFrame(confusion_matrix(y_test,y_test_pred), index=model.classes_,columns=model.classes_)\n",
    "    cm_df.index.name = 'Predicted'\n",
    "    cm_df.columns.name = 'True'\n",
    "    print('Confusion matrix')\n",
    "    print(cm_df)\n",
    "    print(classification_report(y_test, y_test_pred))\n",
    "    "
   ]
  },
  {
   "cell_type": "code",
   "execution_count": 29,
   "metadata": {},
   "outputs": [
    {
     "name": "stdout",
     "output_type": "stream",
     "text": [
      "Model Evaluation of RF\n",
      "-----------------------------------------------------------\n",
      "Train set\n",
      "Accuracy:  1.0\n",
      "ROC AUC Score:  1.0\n",
      "Confusion matrix\n",
      "True         0    1\n",
      "Predicted          \n",
      "0          400    0\n",
      "1            0  214\n",
      "              precision    recall  f1-score   support\n",
      "\n",
      "           0       1.00      1.00      1.00       400\n",
      "           1       1.00      1.00      1.00       214\n",
      "\n",
      "    accuracy                           1.00       614\n",
      "   macro avg       1.00      1.00      1.00       614\n",
      "weighted avg       1.00      1.00      1.00       614\n",
      "\n",
      "-----------------------------------------------------------\n",
      "Test set\n",
      "Accuracy:  0.7987012987012987\n",
      "ROC AUC Score:  0.8611111111111112\n",
      "Confusion matrix\n",
      "True        0   1\n",
      "Predicted        \n",
      "0          91   9\n",
      "1          22  32\n",
      "              precision    recall  f1-score   support\n",
      "\n",
      "           0       0.81      0.91      0.85       100\n",
      "           1       0.78      0.59      0.67        54\n",
      "\n",
      "    accuracy                           0.80       154\n",
      "   macro avg       0.79      0.75      0.76       154\n",
      "weighted avg       0.80      0.80      0.79       154\n",
      "\n"
     ]
    }
   ],
   "source": [
    "ModelEvaluation(model,X_train,y_train,X_test,y_test,'RF')"
   ]
  },
  {
   "cell_type": "code",
   "execution_count": null,
   "metadata": {},
   "outputs": [],
   "source": []
  },
  {
   "cell_type": "markdown",
   "metadata": {},
   "source": [
    "# Tuning hyper-parameters"
   ]
  },
  {
   "cell_type": "code",
   "execution_count": 30,
   "metadata": {},
   "outputs": [
    {
     "name": "stdout",
     "output_type": "stream",
     "text": [
      "Fitting 10 folds for each of 32 candidates, totalling 320 fits\n",
      "[CV] bootstrap=True, max_depth=3, max_features=2, min_samples_leaf=3, min_samples_split=2, n_estimators=100 \n",
      "[CV]  bootstrap=True, max_depth=3, max_features=2, min_samples_leaf=3, min_samples_split=2, n_estimators=100, total=   0.1s\n",
      "[CV] bootstrap=True, max_depth=3, max_features=2, min_samples_leaf=3, min_samples_split=2, n_estimators=100 \n",
      "[CV]  bootstrap=True, max_depth=3, max_features=2, min_samples_leaf=3, min_samples_split=2, n_estimators=100, total=   0.1s\n",
      "[CV] bootstrap=True, max_depth=3, max_features=2, min_samples_leaf=3, min_samples_split=2, n_estimators=100 \n"
     ]
    },
    {
     "name": "stderr",
     "output_type": "stream",
     "text": [
      "[Parallel(n_jobs=1)]: Using backend SequentialBackend with 1 concurrent workers.\n",
      "[Parallel(n_jobs=1)]: Done   1 out of   1 | elapsed:    0.0s remaining:    0.0s\n"
     ]
    },
    {
     "name": "stdout",
     "output_type": "stream",
     "text": [
      "[CV]  bootstrap=True, max_depth=3, max_features=2, min_samples_leaf=3, min_samples_split=2, n_estimators=100, total=   0.1s\n",
      "[CV] bootstrap=True, max_depth=3, max_features=2, min_samples_leaf=3, min_samples_split=2, n_estimators=100 \n",
      "[CV]  bootstrap=True, max_depth=3, max_features=2, min_samples_leaf=3, min_samples_split=2, n_estimators=100, total=   0.1s\n",
      "[CV] bootstrap=True, max_depth=3, max_features=2, min_samples_leaf=3, min_samples_split=2, n_estimators=100 \n",
      "[CV]  bootstrap=True, max_depth=3, max_features=2, min_samples_leaf=3, min_samples_split=2, n_estimators=100, total=   0.1s\n",
      "[CV] bootstrap=True, max_depth=3, max_features=2, min_samples_leaf=3, min_samples_split=2, n_estimators=100 \n",
      "[CV]  bootstrap=True, max_depth=3, max_features=2, min_samples_leaf=3, min_samples_split=2, n_estimators=100, total=   0.1s\n",
      "[CV] bootstrap=True, max_depth=3, max_features=2, min_samples_leaf=3, min_samples_split=2, n_estimators=100 \n",
      "[CV]  bootstrap=True, max_depth=3, max_features=2, min_samples_leaf=3, min_samples_split=2, n_estimators=100, total=   0.1s\n",
      "[CV] bootstrap=True, max_depth=3, max_features=2, min_samples_leaf=3, min_samples_split=2, n_estimators=100 \n",
      "[CV]  bootstrap=True, max_depth=3, max_features=2, min_samples_leaf=3, min_samples_split=2, n_estimators=100, total=   0.1s\n",
      "[CV] bootstrap=True, max_depth=3, max_features=2, min_samples_leaf=3, min_samples_split=2, n_estimators=100 \n",
      "[CV]  bootstrap=True, max_depth=3, max_features=2, min_samples_leaf=3, min_samples_split=2, n_estimators=100, total=   0.1s\n",
      "[CV] bootstrap=True, max_depth=3, max_features=2, min_samples_leaf=3, min_samples_split=2, n_estimators=100 \n",
      "[CV]  bootstrap=True, max_depth=3, max_features=2, min_samples_leaf=3, min_samples_split=2, n_estimators=100, total=   0.1s\n",
      "[CV] bootstrap=True, max_depth=3, max_features=2, min_samples_leaf=3, min_samples_split=2, n_estimators=200 \n",
      "[CV]  bootstrap=True, max_depth=3, max_features=2, min_samples_leaf=3, min_samples_split=2, n_estimators=200, total=   0.2s\n",
      "[CV] bootstrap=True, max_depth=3, max_features=2, min_samples_leaf=3, min_samples_split=2, n_estimators=200 \n",
      "[CV]  bootstrap=True, max_depth=3, max_features=2, min_samples_leaf=3, min_samples_split=2, n_estimators=200, total=   0.3s\n",
      "[CV] bootstrap=True, max_depth=3, max_features=2, min_samples_leaf=3, min_samples_split=2, n_estimators=200 \n",
      "[CV]  bootstrap=True, max_depth=3, max_features=2, min_samples_leaf=3, min_samples_split=2, n_estimators=200, total=   0.3s\n",
      "[CV] bootstrap=True, max_depth=3, max_features=2, min_samples_leaf=3, min_samples_split=2, n_estimators=200 \n",
      "[CV]  bootstrap=True, max_depth=3, max_features=2, min_samples_leaf=3, min_samples_split=2, n_estimators=200, total=   0.3s\n",
      "[CV] bootstrap=True, max_depth=3, max_features=2, min_samples_leaf=3, min_samples_split=2, n_estimators=200 \n",
      "[CV]  bootstrap=True, max_depth=3, max_features=2, min_samples_leaf=3, min_samples_split=2, n_estimators=200, total=   0.4s\n",
      "[CV] bootstrap=True, max_depth=3, max_features=2, min_samples_leaf=3, min_samples_split=2, n_estimators=200 \n",
      "[CV]  bootstrap=True, max_depth=3, max_features=2, min_samples_leaf=3, min_samples_split=2, n_estimators=200, total=   0.3s\n",
      "[CV] bootstrap=True, max_depth=3, max_features=2, min_samples_leaf=3, min_samples_split=2, n_estimators=200 \n",
      "[CV]  bootstrap=True, max_depth=3, max_features=2, min_samples_leaf=3, min_samples_split=2, n_estimators=200, total=   0.3s\n",
      "[CV] bootstrap=True, max_depth=3, max_features=2, min_samples_leaf=3, min_samples_split=2, n_estimators=200 \n",
      "[CV]  bootstrap=True, max_depth=3, max_features=2, min_samples_leaf=3, min_samples_split=2, n_estimators=200, total=   0.4s\n",
      "[CV] bootstrap=True, max_depth=3, max_features=2, min_samples_leaf=3, min_samples_split=2, n_estimators=200 \n",
      "[CV]  bootstrap=True, max_depth=3, max_features=2, min_samples_leaf=3, min_samples_split=2, n_estimators=200, total=   0.4s\n",
      "[CV] bootstrap=True, max_depth=3, max_features=2, min_samples_leaf=3, min_samples_split=2, n_estimators=200 \n",
      "[CV]  bootstrap=True, max_depth=3, max_features=2, min_samples_leaf=3, min_samples_split=2, n_estimators=200, total=   0.3s\n",
      "[CV] bootstrap=True, max_depth=3, max_features=2, min_samples_leaf=3, min_samples_split=6, n_estimators=100 \n",
      "[CV]  bootstrap=True, max_depth=3, max_features=2, min_samples_leaf=3, min_samples_split=6, n_estimators=100, total=   0.1s\n",
      "[CV] bootstrap=True, max_depth=3, max_features=2, min_samples_leaf=3, min_samples_split=6, n_estimators=100 \n",
      "[CV]  bootstrap=True, max_depth=3, max_features=2, min_samples_leaf=3, min_samples_split=6, n_estimators=100, total=   0.1s\n",
      "[CV] bootstrap=True, max_depth=3, max_features=2, min_samples_leaf=3, min_samples_split=6, n_estimators=100 \n",
      "[CV]  bootstrap=True, max_depth=3, max_features=2, min_samples_leaf=3, min_samples_split=6, n_estimators=100, total=   0.1s\n",
      "[CV] bootstrap=True, max_depth=3, max_features=2, min_samples_leaf=3, min_samples_split=6, n_estimators=100 \n",
      "[CV]  bootstrap=True, max_depth=3, max_features=2, min_samples_leaf=3, min_samples_split=6, n_estimators=100, total=   0.2s\n",
      "[CV] bootstrap=True, max_depth=3, max_features=2, min_samples_leaf=3, min_samples_split=6, n_estimators=100 \n",
      "[CV]  bootstrap=True, max_depth=3, max_features=2, min_samples_leaf=3, min_samples_split=6, n_estimators=100, total=   0.2s\n",
      "[CV] bootstrap=True, max_depth=3, max_features=2, min_samples_leaf=3, min_samples_split=6, n_estimators=100 \n",
      "[CV]  bootstrap=True, max_depth=3, max_features=2, min_samples_leaf=3, min_samples_split=6, n_estimators=100, total=   0.2s\n",
      "[CV] bootstrap=True, max_depth=3, max_features=2, min_samples_leaf=3, min_samples_split=6, n_estimators=100 \n",
      "[CV]  bootstrap=True, max_depth=3, max_features=2, min_samples_leaf=3, min_samples_split=6, n_estimators=100, total=   0.2s\n",
      "[CV] bootstrap=True, max_depth=3, max_features=2, min_samples_leaf=3, min_samples_split=6, n_estimators=100 \n",
      "[CV]  bootstrap=True, max_depth=3, max_features=2, min_samples_leaf=3, min_samples_split=6, n_estimators=100, total=   0.2s\n",
      "[CV] bootstrap=True, max_depth=3, max_features=2, min_samples_leaf=3, min_samples_split=6, n_estimators=100 \n",
      "[CV]  bootstrap=True, max_depth=3, max_features=2, min_samples_leaf=3, min_samples_split=6, n_estimators=100, total=   0.2s\n",
      "[CV] bootstrap=True, max_depth=3, max_features=2, min_samples_leaf=3, min_samples_split=6, n_estimators=100 \n",
      "[CV]  bootstrap=True, max_depth=3, max_features=2, min_samples_leaf=3, min_samples_split=6, n_estimators=100, total=   0.2s\n",
      "[CV] bootstrap=True, max_depth=3, max_features=2, min_samples_leaf=3, min_samples_split=6, n_estimators=200 \n",
      "[CV]  bootstrap=True, max_depth=3, max_features=2, min_samples_leaf=3, min_samples_split=6, n_estimators=200, total=   0.4s\n",
      "[CV] bootstrap=True, max_depth=3, max_features=2, min_samples_leaf=3, min_samples_split=6, n_estimators=200 \n",
      "[CV]  bootstrap=True, max_depth=3, max_features=2, min_samples_leaf=3, min_samples_split=6, n_estimators=200, total=   0.4s\n",
      "[CV] bootstrap=True, max_depth=3, max_features=2, min_samples_leaf=3, min_samples_split=6, n_estimators=200 \n",
      "[CV]  bootstrap=True, max_depth=3, max_features=2, min_samples_leaf=3, min_samples_split=6, n_estimators=200, total=   0.4s\n",
      "[CV] bootstrap=True, max_depth=3, max_features=2, min_samples_leaf=3, min_samples_split=6, n_estimators=200 \n",
      "[CV]  bootstrap=True, max_depth=3, max_features=2, min_samples_leaf=3, min_samples_split=6, n_estimators=200, total=   0.4s\n",
      "[CV] bootstrap=True, max_depth=3, max_features=2, min_samples_leaf=3, min_samples_split=6, n_estimators=200 \n",
      "[CV]  bootstrap=True, max_depth=3, max_features=2, min_samples_leaf=3, min_samples_split=6, n_estimators=200, total=   0.4s\n",
      "[CV] bootstrap=True, max_depth=3, max_features=2, min_samples_leaf=3, min_samples_split=6, n_estimators=200 \n",
      "[CV]  bootstrap=True, max_depth=3, max_features=2, min_samples_leaf=3, min_samples_split=6, n_estimators=200, total=   0.3s\n",
      "[CV] bootstrap=True, max_depth=3, max_features=2, min_samples_leaf=3, min_samples_split=6, n_estimators=200 \n",
      "[CV]  bootstrap=True, max_depth=3, max_features=2, min_samples_leaf=3, min_samples_split=6, n_estimators=200, total=   0.4s\n",
      "[CV] bootstrap=True, max_depth=3, max_features=2, min_samples_leaf=3, min_samples_split=6, n_estimators=200 \n",
      "[CV]  bootstrap=True, max_depth=3, max_features=2, min_samples_leaf=3, min_samples_split=6, n_estimators=200, total=   0.4s\n",
      "[CV] bootstrap=True, max_depth=3, max_features=2, min_samples_leaf=3, min_samples_split=6, n_estimators=200 \n"
     ]
    },
    {
     "name": "stdout",
     "output_type": "stream",
     "text": [
      "[CV]  bootstrap=True, max_depth=3, max_features=2, min_samples_leaf=3, min_samples_split=6, n_estimators=200, total=   0.4s\n",
      "[CV] bootstrap=True, max_depth=3, max_features=2, min_samples_leaf=3, min_samples_split=6, n_estimators=200 \n",
      "[CV]  bootstrap=True, max_depth=3, max_features=2, min_samples_leaf=3, min_samples_split=6, n_estimators=200, total=   0.4s\n",
      "[CV] bootstrap=True, max_depth=3, max_features=2, min_samples_leaf=6, min_samples_split=2, n_estimators=100 \n",
      "[CV]  bootstrap=True, max_depth=3, max_features=2, min_samples_leaf=6, min_samples_split=2, n_estimators=100, total=   0.2s\n",
      "[CV] bootstrap=True, max_depth=3, max_features=2, min_samples_leaf=6, min_samples_split=2, n_estimators=100 \n",
      "[CV]  bootstrap=True, max_depth=3, max_features=2, min_samples_leaf=6, min_samples_split=2, n_estimators=100, total=   0.2s\n",
      "[CV] bootstrap=True, max_depth=3, max_features=2, min_samples_leaf=6, min_samples_split=2, n_estimators=100 \n",
      "[CV]  bootstrap=True, max_depth=3, max_features=2, min_samples_leaf=6, min_samples_split=2, n_estimators=100, total=   0.1s\n",
      "[CV] bootstrap=True, max_depth=3, max_features=2, min_samples_leaf=6, min_samples_split=2, n_estimators=100 \n",
      "[CV]  bootstrap=True, max_depth=3, max_features=2, min_samples_leaf=6, min_samples_split=2, n_estimators=100, total=   0.1s\n",
      "[CV] bootstrap=True, max_depth=3, max_features=2, min_samples_leaf=6, min_samples_split=2, n_estimators=100 \n",
      "[CV]  bootstrap=True, max_depth=3, max_features=2, min_samples_leaf=6, min_samples_split=2, n_estimators=100, total=   0.1s\n",
      "[CV] bootstrap=True, max_depth=3, max_features=2, min_samples_leaf=6, min_samples_split=2, n_estimators=100 \n",
      "[CV]  bootstrap=True, max_depth=3, max_features=2, min_samples_leaf=6, min_samples_split=2, n_estimators=100, total=   0.1s\n",
      "[CV] bootstrap=True, max_depth=3, max_features=2, min_samples_leaf=6, min_samples_split=2, n_estimators=100 \n",
      "[CV]  bootstrap=True, max_depth=3, max_features=2, min_samples_leaf=6, min_samples_split=2, n_estimators=100, total=   0.2s\n",
      "[CV] bootstrap=True, max_depth=3, max_features=2, min_samples_leaf=6, min_samples_split=2, n_estimators=100 \n",
      "[CV]  bootstrap=True, max_depth=3, max_features=2, min_samples_leaf=6, min_samples_split=2, n_estimators=100, total=   0.1s\n",
      "[CV] bootstrap=True, max_depth=3, max_features=2, min_samples_leaf=6, min_samples_split=2, n_estimators=100 \n",
      "[CV]  bootstrap=True, max_depth=3, max_features=2, min_samples_leaf=6, min_samples_split=2, n_estimators=100, total=   0.2s\n",
      "[CV] bootstrap=True, max_depth=3, max_features=2, min_samples_leaf=6, min_samples_split=2, n_estimators=100 \n",
      "[CV]  bootstrap=True, max_depth=3, max_features=2, min_samples_leaf=6, min_samples_split=2, n_estimators=100, total=   0.2s\n",
      "[CV] bootstrap=True, max_depth=3, max_features=2, min_samples_leaf=6, min_samples_split=2, n_estimators=200 \n",
      "[CV]  bootstrap=True, max_depth=3, max_features=2, min_samples_leaf=6, min_samples_split=2, n_estimators=200, total=   0.4s\n",
      "[CV] bootstrap=True, max_depth=3, max_features=2, min_samples_leaf=6, min_samples_split=2, n_estimators=200 \n",
      "[CV]  bootstrap=True, max_depth=3, max_features=2, min_samples_leaf=6, min_samples_split=2, n_estimators=200, total=   0.4s\n",
      "[CV] bootstrap=True, max_depth=3, max_features=2, min_samples_leaf=6, min_samples_split=2, n_estimators=200 \n",
      "[CV]  bootstrap=True, max_depth=3, max_features=2, min_samples_leaf=6, min_samples_split=2, n_estimators=200, total=   0.4s\n",
      "[CV] bootstrap=True, max_depth=3, max_features=2, min_samples_leaf=6, min_samples_split=2, n_estimators=200 \n",
      "[CV]  bootstrap=True, max_depth=3, max_features=2, min_samples_leaf=6, min_samples_split=2, n_estimators=200, total=   0.4s\n",
      "[CV] bootstrap=True, max_depth=3, max_features=2, min_samples_leaf=6, min_samples_split=2, n_estimators=200 \n",
      "[CV]  bootstrap=True, max_depth=3, max_features=2, min_samples_leaf=6, min_samples_split=2, n_estimators=200, total=   0.4s\n",
      "[CV] bootstrap=True, max_depth=3, max_features=2, min_samples_leaf=6, min_samples_split=2, n_estimators=200 \n",
      "[CV]  bootstrap=True, max_depth=3, max_features=2, min_samples_leaf=6, min_samples_split=2, n_estimators=200, total=   0.4s\n",
      "[CV] bootstrap=True, max_depth=3, max_features=2, min_samples_leaf=6, min_samples_split=2, n_estimators=200 \n",
      "[CV]  bootstrap=True, max_depth=3, max_features=2, min_samples_leaf=6, min_samples_split=2, n_estimators=200, total=   0.4s\n",
      "[CV] bootstrap=True, max_depth=3, max_features=2, min_samples_leaf=6, min_samples_split=2, n_estimators=200 \n",
      "[CV]  bootstrap=True, max_depth=3, max_features=2, min_samples_leaf=6, min_samples_split=2, n_estimators=200, total=   0.4s\n",
      "[CV] bootstrap=True, max_depth=3, max_features=2, min_samples_leaf=6, min_samples_split=2, n_estimators=200 \n",
      "[CV]  bootstrap=True, max_depth=3, max_features=2, min_samples_leaf=6, min_samples_split=2, n_estimators=200, total=   0.4s\n",
      "[CV] bootstrap=True, max_depth=3, max_features=2, min_samples_leaf=6, min_samples_split=2, n_estimators=200 \n",
      "[CV]  bootstrap=True, max_depth=3, max_features=2, min_samples_leaf=6, min_samples_split=2, n_estimators=200, total=   0.4s\n",
      "[CV] bootstrap=True, max_depth=3, max_features=2, min_samples_leaf=6, min_samples_split=6, n_estimators=100 \n",
      "[CV]  bootstrap=True, max_depth=3, max_features=2, min_samples_leaf=6, min_samples_split=6, n_estimators=100, total=   0.2s\n",
      "[CV] bootstrap=True, max_depth=3, max_features=2, min_samples_leaf=6, min_samples_split=6, n_estimators=100 \n",
      "[CV]  bootstrap=True, max_depth=3, max_features=2, min_samples_leaf=6, min_samples_split=6, n_estimators=100, total=   0.2s\n",
      "[CV] bootstrap=True, max_depth=3, max_features=2, min_samples_leaf=6, min_samples_split=6, n_estimators=100 \n",
      "[CV]  bootstrap=True, max_depth=3, max_features=2, min_samples_leaf=6, min_samples_split=6, n_estimators=100, total=   0.2s\n",
      "[CV] bootstrap=True, max_depth=3, max_features=2, min_samples_leaf=6, min_samples_split=6, n_estimators=100 \n",
      "[CV]  bootstrap=True, max_depth=3, max_features=2, min_samples_leaf=6, min_samples_split=6, n_estimators=100, total=   0.2s\n",
      "[CV] bootstrap=True, max_depth=3, max_features=2, min_samples_leaf=6, min_samples_split=6, n_estimators=100 \n",
      "[CV]  bootstrap=True, max_depth=3, max_features=2, min_samples_leaf=6, min_samples_split=6, n_estimators=100, total=   0.2s\n",
      "[CV] bootstrap=True, max_depth=3, max_features=2, min_samples_leaf=6, min_samples_split=6, n_estimators=100 \n",
      "[CV]  bootstrap=True, max_depth=3, max_features=2, min_samples_leaf=6, min_samples_split=6, n_estimators=100, total=   0.2s\n",
      "[CV] bootstrap=True, max_depth=3, max_features=2, min_samples_leaf=6, min_samples_split=6, n_estimators=100 \n",
      "[CV]  bootstrap=True, max_depth=3, max_features=2, min_samples_leaf=6, min_samples_split=6, n_estimators=100, total=   0.2s\n",
      "[CV] bootstrap=True, max_depth=3, max_features=2, min_samples_leaf=6, min_samples_split=6, n_estimators=100 \n",
      "[CV]  bootstrap=True, max_depth=3, max_features=2, min_samples_leaf=6, min_samples_split=6, n_estimators=100, total=   0.2s\n",
      "[CV] bootstrap=True, max_depth=3, max_features=2, min_samples_leaf=6, min_samples_split=6, n_estimators=100 \n",
      "[CV]  bootstrap=True, max_depth=3, max_features=2, min_samples_leaf=6, min_samples_split=6, n_estimators=100, total=   0.2s\n",
      "[CV] bootstrap=True, max_depth=3, max_features=2, min_samples_leaf=6, min_samples_split=6, n_estimators=100 \n",
      "[CV]  bootstrap=True, max_depth=3, max_features=2, min_samples_leaf=6, min_samples_split=6, n_estimators=100, total=   0.2s\n",
      "[CV] bootstrap=True, max_depth=3, max_features=2, min_samples_leaf=6, min_samples_split=6, n_estimators=200 \n",
      "[CV]  bootstrap=True, max_depth=3, max_features=2, min_samples_leaf=6, min_samples_split=6, n_estimators=200, total=   0.3s\n",
      "[CV] bootstrap=True, max_depth=3, max_features=2, min_samples_leaf=6, min_samples_split=6, n_estimators=200 \n",
      "[CV]  bootstrap=True, max_depth=3, max_features=2, min_samples_leaf=6, min_samples_split=6, n_estimators=200, total=   0.4s\n",
      "[CV] bootstrap=True, max_depth=3, max_features=2, min_samples_leaf=6, min_samples_split=6, n_estimators=200 \n",
      "[CV]  bootstrap=True, max_depth=3, max_features=2, min_samples_leaf=6, min_samples_split=6, n_estimators=200, total=   0.4s\n",
      "[CV] bootstrap=True, max_depth=3, max_features=2, min_samples_leaf=6, min_samples_split=6, n_estimators=200 \n",
      "[CV]  bootstrap=True, max_depth=3, max_features=2, min_samples_leaf=6, min_samples_split=6, n_estimators=200, total=   0.3s\n",
      "[CV] bootstrap=True, max_depth=3, max_features=2, min_samples_leaf=6, min_samples_split=6, n_estimators=200 \n"
     ]
    },
    {
     "name": "stdout",
     "output_type": "stream",
     "text": [
      "[CV]  bootstrap=True, max_depth=3, max_features=2, min_samples_leaf=6, min_samples_split=6, n_estimators=200, total=   0.4s\n",
      "[CV] bootstrap=True, max_depth=3, max_features=2, min_samples_leaf=6, min_samples_split=6, n_estimators=200 \n",
      "[CV]  bootstrap=True, max_depth=3, max_features=2, min_samples_leaf=6, min_samples_split=6, n_estimators=200, total=   0.4s\n",
      "[CV] bootstrap=True, max_depth=3, max_features=2, min_samples_leaf=6, min_samples_split=6, n_estimators=200 \n",
      "[CV]  bootstrap=True, max_depth=3, max_features=2, min_samples_leaf=6, min_samples_split=6, n_estimators=200, total=   0.4s\n",
      "[CV] bootstrap=True, max_depth=3, max_features=2, min_samples_leaf=6, min_samples_split=6, n_estimators=200 \n",
      "[CV]  bootstrap=True, max_depth=3, max_features=2, min_samples_leaf=6, min_samples_split=6, n_estimators=200, total=   0.4s\n",
      "[CV] bootstrap=True, max_depth=3, max_features=2, min_samples_leaf=6, min_samples_split=6, n_estimators=200 \n",
      "[CV]  bootstrap=True, max_depth=3, max_features=2, min_samples_leaf=6, min_samples_split=6, n_estimators=200, total=   0.4s\n",
      "[CV] bootstrap=True, max_depth=3, max_features=2, min_samples_leaf=6, min_samples_split=6, n_estimators=200 \n",
      "[CV]  bootstrap=True, max_depth=3, max_features=2, min_samples_leaf=6, min_samples_split=6, n_estimators=200, total=   0.4s\n",
      "[CV] bootstrap=True, max_depth=3, max_features=8, min_samples_leaf=3, min_samples_split=2, n_estimators=100 \n",
      "[CV]  bootstrap=True, max_depth=3, max_features=8, min_samples_leaf=3, min_samples_split=2, n_estimators=100, total=   0.2s\n",
      "[CV] bootstrap=True, max_depth=3, max_features=8, min_samples_leaf=3, min_samples_split=2, n_estimators=100 \n",
      "[CV]  bootstrap=True, max_depth=3, max_features=8, min_samples_leaf=3, min_samples_split=2, n_estimators=100, total=   0.3s\n",
      "[CV] bootstrap=True, max_depth=3, max_features=8, min_samples_leaf=3, min_samples_split=2, n_estimators=100 \n",
      "[CV]  bootstrap=True, max_depth=3, max_features=8, min_samples_leaf=3, min_samples_split=2, n_estimators=100, total=   0.2s\n",
      "[CV] bootstrap=True, max_depth=3, max_features=8, min_samples_leaf=3, min_samples_split=2, n_estimators=100 \n",
      "[CV]  bootstrap=True, max_depth=3, max_features=8, min_samples_leaf=3, min_samples_split=2, n_estimators=100, total=   0.1s\n",
      "[CV] bootstrap=True, max_depth=3, max_features=8, min_samples_leaf=3, min_samples_split=2, n_estimators=100 \n",
      "[CV]  bootstrap=True, max_depth=3, max_features=8, min_samples_leaf=3, min_samples_split=2, n_estimators=100, total=   0.1s\n",
      "[CV] bootstrap=True, max_depth=3, max_features=8, min_samples_leaf=3, min_samples_split=2, n_estimators=100 \n",
      "[CV]  bootstrap=True, max_depth=3, max_features=8, min_samples_leaf=3, min_samples_split=2, n_estimators=100, total=   0.2s\n",
      "[CV] bootstrap=True, max_depth=3, max_features=8, min_samples_leaf=3, min_samples_split=2, n_estimators=100 \n",
      "[CV]  bootstrap=True, max_depth=3, max_features=8, min_samples_leaf=3, min_samples_split=2, n_estimators=100, total=   0.3s\n",
      "[CV] bootstrap=True, max_depth=3, max_features=8, min_samples_leaf=3, min_samples_split=2, n_estimators=100 \n",
      "[CV]  bootstrap=True, max_depth=3, max_features=8, min_samples_leaf=3, min_samples_split=2, n_estimators=100, total=   0.3s\n",
      "[CV] bootstrap=True, max_depth=3, max_features=8, min_samples_leaf=3, min_samples_split=2, n_estimators=100 \n",
      "[CV]  bootstrap=True, max_depth=3, max_features=8, min_samples_leaf=3, min_samples_split=2, n_estimators=100, total=   0.2s\n",
      "[CV] bootstrap=True, max_depth=3, max_features=8, min_samples_leaf=3, min_samples_split=2, n_estimators=100 \n",
      "[CV]  bootstrap=True, max_depth=3, max_features=8, min_samples_leaf=3, min_samples_split=2, n_estimators=100, total=   0.3s\n",
      "[CV] bootstrap=True, max_depth=3, max_features=8, min_samples_leaf=3, min_samples_split=2, n_estimators=200 \n",
      "[CV]  bootstrap=True, max_depth=3, max_features=8, min_samples_leaf=3, min_samples_split=2, n_estimators=200, total=   0.5s\n",
      "[CV] bootstrap=True, max_depth=3, max_features=8, min_samples_leaf=3, min_samples_split=2, n_estimators=200 \n",
      "[CV]  bootstrap=True, max_depth=3, max_features=8, min_samples_leaf=3, min_samples_split=2, n_estimators=200, total=   0.5s\n",
      "[CV] bootstrap=True, max_depth=3, max_features=8, min_samples_leaf=3, min_samples_split=2, n_estimators=200 \n",
      "[CV]  bootstrap=True, max_depth=3, max_features=8, min_samples_leaf=3, min_samples_split=2, n_estimators=200, total=   0.5s\n",
      "[CV] bootstrap=True, max_depth=3, max_features=8, min_samples_leaf=3, min_samples_split=2, n_estimators=200 \n",
      "[CV]  bootstrap=True, max_depth=3, max_features=8, min_samples_leaf=3, min_samples_split=2, n_estimators=200, total=   0.5s\n",
      "[CV] bootstrap=True, max_depth=3, max_features=8, min_samples_leaf=3, min_samples_split=2, n_estimators=200 \n",
      "[CV]  bootstrap=True, max_depth=3, max_features=8, min_samples_leaf=3, min_samples_split=2, n_estimators=200, total=   0.5s\n",
      "[CV] bootstrap=True, max_depth=3, max_features=8, min_samples_leaf=3, min_samples_split=2, n_estimators=200 \n",
      "[CV]  bootstrap=True, max_depth=3, max_features=8, min_samples_leaf=3, min_samples_split=2, n_estimators=200, total=   0.5s\n",
      "[CV] bootstrap=True, max_depth=3, max_features=8, min_samples_leaf=3, min_samples_split=2, n_estimators=200 \n",
      "[CV]  bootstrap=True, max_depth=3, max_features=8, min_samples_leaf=3, min_samples_split=2, n_estimators=200, total=   0.5s\n",
      "[CV] bootstrap=True, max_depth=3, max_features=8, min_samples_leaf=3, min_samples_split=2, n_estimators=200 \n",
      "[CV]  bootstrap=True, max_depth=3, max_features=8, min_samples_leaf=3, min_samples_split=2, n_estimators=200, total=   0.3s\n",
      "[CV] bootstrap=True, max_depth=3, max_features=8, min_samples_leaf=3, min_samples_split=2, n_estimators=200 \n",
      "[CV]  bootstrap=True, max_depth=3, max_features=8, min_samples_leaf=3, min_samples_split=2, n_estimators=200, total=   0.4s\n",
      "[CV] bootstrap=True, max_depth=3, max_features=8, min_samples_leaf=3, min_samples_split=2, n_estimators=200 \n",
      "[CV]  bootstrap=True, max_depth=3, max_features=8, min_samples_leaf=3, min_samples_split=2, n_estimators=200, total=   0.5s\n",
      "[CV] bootstrap=True, max_depth=3, max_features=8, min_samples_leaf=3, min_samples_split=6, n_estimators=100 \n",
      "[CV]  bootstrap=True, max_depth=3, max_features=8, min_samples_leaf=3, min_samples_split=6, n_estimators=100, total=   0.3s\n",
      "[CV] bootstrap=True, max_depth=3, max_features=8, min_samples_leaf=3, min_samples_split=6, n_estimators=100 \n",
      "[CV]  bootstrap=True, max_depth=3, max_features=8, min_samples_leaf=3, min_samples_split=6, n_estimators=100, total=   0.3s\n",
      "[CV] bootstrap=True, max_depth=3, max_features=8, min_samples_leaf=3, min_samples_split=6, n_estimators=100 \n",
      "[CV]  bootstrap=True, max_depth=3, max_features=8, min_samples_leaf=3, min_samples_split=6, n_estimators=100, total=   0.2s\n",
      "[CV] bootstrap=True, max_depth=3, max_features=8, min_samples_leaf=3, min_samples_split=6, n_estimators=100 \n",
      "[CV]  bootstrap=True, max_depth=3, max_features=8, min_samples_leaf=3, min_samples_split=6, n_estimators=100, total=   0.3s\n",
      "[CV] bootstrap=True, max_depth=3, max_features=8, min_samples_leaf=3, min_samples_split=6, n_estimators=100 \n",
      "[CV]  bootstrap=True, max_depth=3, max_features=8, min_samples_leaf=3, min_samples_split=6, n_estimators=100, total=   0.3s\n",
      "[CV] bootstrap=True, max_depth=3, max_features=8, min_samples_leaf=3, min_samples_split=6, n_estimators=100 \n",
      "[CV]  bootstrap=True, max_depth=3, max_features=8, min_samples_leaf=3, min_samples_split=6, n_estimators=100, total=   0.3s\n",
      "[CV] bootstrap=True, max_depth=3, max_features=8, min_samples_leaf=3, min_samples_split=6, n_estimators=100 \n",
      "[CV]  bootstrap=True, max_depth=3, max_features=8, min_samples_leaf=3, min_samples_split=6, n_estimators=100, total=   0.3s\n",
      "[CV] bootstrap=True, max_depth=3, max_features=8, min_samples_leaf=3, min_samples_split=6, n_estimators=100 \n",
      "[CV]  bootstrap=True, max_depth=3, max_features=8, min_samples_leaf=3, min_samples_split=6, n_estimators=100, total=   0.3s\n",
      "[CV] bootstrap=True, max_depth=3, max_features=8, min_samples_leaf=3, min_samples_split=6, n_estimators=100 \n",
      "[CV]  bootstrap=True, max_depth=3, max_features=8, min_samples_leaf=3, min_samples_split=6, n_estimators=100, total=   0.3s\n",
      "[CV] bootstrap=True, max_depth=3, max_features=8, min_samples_leaf=3, min_samples_split=6, n_estimators=100 \n",
      "[CV]  bootstrap=True, max_depth=3, max_features=8, min_samples_leaf=3, min_samples_split=6, n_estimators=100, total=   0.2s\n",
      "[CV] bootstrap=True, max_depth=3, max_features=8, min_samples_leaf=3, min_samples_split=6, n_estimators=200 \n"
     ]
    },
    {
     "name": "stdout",
     "output_type": "stream",
     "text": [
      "[CV]  bootstrap=True, max_depth=3, max_features=8, min_samples_leaf=3, min_samples_split=6, n_estimators=200, total=   0.5s\n",
      "[CV] bootstrap=True, max_depth=3, max_features=8, min_samples_leaf=3, min_samples_split=6, n_estimators=200 \n",
      "[CV]  bootstrap=True, max_depth=3, max_features=8, min_samples_leaf=3, min_samples_split=6, n_estimators=200, total=   0.5s\n",
      "[CV] bootstrap=True, max_depth=3, max_features=8, min_samples_leaf=3, min_samples_split=6, n_estimators=200 \n",
      "[CV]  bootstrap=True, max_depth=3, max_features=8, min_samples_leaf=3, min_samples_split=6, n_estimators=200, total=   0.5s\n",
      "[CV] bootstrap=True, max_depth=3, max_features=8, min_samples_leaf=3, min_samples_split=6, n_estimators=200 \n",
      "[CV]  bootstrap=True, max_depth=3, max_features=8, min_samples_leaf=3, min_samples_split=6, n_estimators=200, total=   0.5s\n",
      "[CV] bootstrap=True, max_depth=3, max_features=8, min_samples_leaf=3, min_samples_split=6, n_estimators=200 \n",
      "[CV]  bootstrap=True, max_depth=3, max_features=8, min_samples_leaf=3, min_samples_split=6, n_estimators=200, total=   0.5s\n",
      "[CV] bootstrap=True, max_depth=3, max_features=8, min_samples_leaf=3, min_samples_split=6, n_estimators=200 \n",
      "[CV]  bootstrap=True, max_depth=3, max_features=8, min_samples_leaf=3, min_samples_split=6, n_estimators=200, total=   0.5s\n",
      "[CV] bootstrap=True, max_depth=3, max_features=8, min_samples_leaf=3, min_samples_split=6, n_estimators=200 \n",
      "[CV]  bootstrap=True, max_depth=3, max_features=8, min_samples_leaf=3, min_samples_split=6, n_estimators=200, total=   0.5s\n",
      "[CV] bootstrap=True, max_depth=3, max_features=8, min_samples_leaf=3, min_samples_split=6, n_estimators=200 \n",
      "[CV]  bootstrap=True, max_depth=3, max_features=8, min_samples_leaf=3, min_samples_split=6, n_estimators=200, total=   0.5s\n",
      "[CV] bootstrap=True, max_depth=3, max_features=8, min_samples_leaf=3, min_samples_split=6, n_estimators=200 \n",
      "[CV]  bootstrap=True, max_depth=3, max_features=8, min_samples_leaf=3, min_samples_split=6, n_estimators=200, total=   0.5s\n",
      "[CV] bootstrap=True, max_depth=3, max_features=8, min_samples_leaf=3, min_samples_split=6, n_estimators=200 \n",
      "[CV]  bootstrap=True, max_depth=3, max_features=8, min_samples_leaf=3, min_samples_split=6, n_estimators=200, total=   0.5s\n",
      "[CV] bootstrap=True, max_depth=3, max_features=8, min_samples_leaf=6, min_samples_split=2, n_estimators=100 \n",
      "[CV]  bootstrap=True, max_depth=3, max_features=8, min_samples_leaf=6, min_samples_split=2, n_estimators=100, total=   0.3s\n",
      "[CV] bootstrap=True, max_depth=3, max_features=8, min_samples_leaf=6, min_samples_split=2, n_estimators=100 \n",
      "[CV]  bootstrap=True, max_depth=3, max_features=8, min_samples_leaf=6, min_samples_split=2, n_estimators=100, total=   0.3s\n",
      "[CV] bootstrap=True, max_depth=3, max_features=8, min_samples_leaf=6, min_samples_split=2, n_estimators=100 \n",
      "[CV]  bootstrap=True, max_depth=3, max_features=8, min_samples_leaf=6, min_samples_split=2, n_estimators=100, total=   0.3s\n",
      "[CV] bootstrap=True, max_depth=3, max_features=8, min_samples_leaf=6, min_samples_split=2, n_estimators=100 \n",
      "[CV]  bootstrap=True, max_depth=3, max_features=8, min_samples_leaf=6, min_samples_split=2, n_estimators=100, total=   0.3s\n",
      "[CV] bootstrap=True, max_depth=3, max_features=8, min_samples_leaf=6, min_samples_split=2, n_estimators=100 \n",
      "[CV]  bootstrap=True, max_depth=3, max_features=8, min_samples_leaf=6, min_samples_split=2, n_estimators=100, total=   0.3s\n",
      "[CV] bootstrap=True, max_depth=3, max_features=8, min_samples_leaf=6, min_samples_split=2, n_estimators=100 \n",
      "[CV]  bootstrap=True, max_depth=3, max_features=8, min_samples_leaf=6, min_samples_split=2, n_estimators=100, total=   0.2s\n",
      "[CV] bootstrap=True, max_depth=3, max_features=8, min_samples_leaf=6, min_samples_split=2, n_estimators=100 \n",
      "[CV]  bootstrap=True, max_depth=3, max_features=8, min_samples_leaf=6, min_samples_split=2, n_estimators=100, total=   0.3s\n",
      "[CV] bootstrap=True, max_depth=3, max_features=8, min_samples_leaf=6, min_samples_split=2, n_estimators=100 \n",
      "[CV]  bootstrap=True, max_depth=3, max_features=8, min_samples_leaf=6, min_samples_split=2, n_estimators=100, total=   0.2s\n",
      "[CV] bootstrap=True, max_depth=3, max_features=8, min_samples_leaf=6, min_samples_split=2, n_estimators=100 \n",
      "[CV]  bootstrap=True, max_depth=3, max_features=8, min_samples_leaf=6, min_samples_split=2, n_estimators=100, total=   0.2s\n",
      "[CV] bootstrap=True, max_depth=3, max_features=8, min_samples_leaf=6, min_samples_split=2, n_estimators=100 \n",
      "[CV]  bootstrap=True, max_depth=3, max_features=8, min_samples_leaf=6, min_samples_split=2, n_estimators=100, total=   0.1s\n",
      "[CV] bootstrap=True, max_depth=3, max_features=8, min_samples_leaf=6, min_samples_split=2, n_estimators=200 \n",
      "[CV]  bootstrap=True, max_depth=3, max_features=8, min_samples_leaf=6, min_samples_split=2, n_estimators=200, total=   0.5s\n",
      "[CV] bootstrap=True, max_depth=3, max_features=8, min_samples_leaf=6, min_samples_split=2, n_estimators=200 \n",
      "[CV]  bootstrap=True, max_depth=3, max_features=8, min_samples_leaf=6, min_samples_split=2, n_estimators=200, total=   0.4s\n",
      "[CV] bootstrap=True, max_depth=3, max_features=8, min_samples_leaf=6, min_samples_split=2, n_estimators=200 \n",
      "[CV]  bootstrap=True, max_depth=3, max_features=8, min_samples_leaf=6, min_samples_split=2, n_estimators=200, total=   0.4s\n",
      "[CV] bootstrap=True, max_depth=3, max_features=8, min_samples_leaf=6, min_samples_split=2, n_estimators=200 \n",
      "[CV]  bootstrap=True, max_depth=3, max_features=8, min_samples_leaf=6, min_samples_split=2, n_estimators=200, total=   0.3s\n",
      "[CV] bootstrap=True, max_depth=3, max_features=8, min_samples_leaf=6, min_samples_split=2, n_estimators=200 \n",
      "[CV]  bootstrap=True, max_depth=3, max_features=8, min_samples_leaf=6, min_samples_split=2, n_estimators=200, total=   0.3s\n",
      "[CV] bootstrap=True, max_depth=3, max_features=8, min_samples_leaf=6, min_samples_split=2, n_estimators=200 \n",
      "[CV]  bootstrap=True, max_depth=3, max_features=8, min_samples_leaf=6, min_samples_split=2, n_estimators=200, total=   0.3s\n",
      "[CV] bootstrap=True, max_depth=3, max_features=8, min_samples_leaf=6, min_samples_split=2, n_estimators=200 \n",
      "[CV]  bootstrap=True, max_depth=3, max_features=8, min_samples_leaf=6, min_samples_split=2, n_estimators=200, total=   0.3s\n",
      "[CV] bootstrap=True, max_depth=3, max_features=8, min_samples_leaf=6, min_samples_split=2, n_estimators=200 \n",
      "[CV]  bootstrap=True, max_depth=3, max_features=8, min_samples_leaf=6, min_samples_split=2, n_estimators=200, total=   0.4s\n",
      "[CV] bootstrap=True, max_depth=3, max_features=8, min_samples_leaf=6, min_samples_split=2, n_estimators=200 \n",
      "[CV]  bootstrap=True, max_depth=3, max_features=8, min_samples_leaf=6, min_samples_split=2, n_estimators=200, total=   0.3s\n",
      "[CV] bootstrap=True, max_depth=3, max_features=8, min_samples_leaf=6, min_samples_split=2, n_estimators=200 \n",
      "[CV]  bootstrap=True, max_depth=3, max_features=8, min_samples_leaf=6, min_samples_split=2, n_estimators=200, total=   0.4s\n",
      "[CV] bootstrap=True, max_depth=3, max_features=8, min_samples_leaf=6, min_samples_split=6, n_estimators=100 \n",
      "[CV]  bootstrap=True, max_depth=3, max_features=8, min_samples_leaf=6, min_samples_split=6, n_estimators=100, total=   0.3s\n",
      "[CV] bootstrap=True, max_depth=3, max_features=8, min_samples_leaf=6, min_samples_split=6, n_estimators=100 \n",
      "[CV]  bootstrap=True, max_depth=3, max_features=8, min_samples_leaf=6, min_samples_split=6, n_estimators=100, total=   0.3s\n",
      "[CV] bootstrap=True, max_depth=3, max_features=8, min_samples_leaf=6, min_samples_split=6, n_estimators=100 \n",
      "[CV]  bootstrap=True, max_depth=3, max_features=8, min_samples_leaf=6, min_samples_split=6, n_estimators=100, total=   0.3s\n",
      "[CV] bootstrap=True, max_depth=3, max_features=8, min_samples_leaf=6, min_samples_split=6, n_estimators=100 \n",
      "[CV]  bootstrap=True, max_depth=3, max_features=8, min_samples_leaf=6, min_samples_split=6, n_estimators=100, total=   0.2s\n",
      "[CV] bootstrap=True, max_depth=3, max_features=8, min_samples_leaf=6, min_samples_split=6, n_estimators=100 \n",
      "[CV]  bootstrap=True, max_depth=3, max_features=8, min_samples_leaf=6, min_samples_split=6, n_estimators=100, total=   0.2s\n",
      "[CV] bootstrap=True, max_depth=3, max_features=8, min_samples_leaf=6, min_samples_split=6, n_estimators=100 \n",
      "[CV]  bootstrap=True, max_depth=3, max_features=8, min_samples_leaf=6, min_samples_split=6, n_estimators=100, total=   0.2s\n",
      "[CV] bootstrap=True, max_depth=3, max_features=8, min_samples_leaf=6, min_samples_split=6, n_estimators=100 \n"
     ]
    },
    {
     "name": "stdout",
     "output_type": "stream",
     "text": [
      "[CV]  bootstrap=True, max_depth=3, max_features=8, min_samples_leaf=6, min_samples_split=6, n_estimators=100, total=   0.2s\n",
      "[CV] bootstrap=True, max_depth=3, max_features=8, min_samples_leaf=6, min_samples_split=6, n_estimators=100 \n",
      "[CV]  bootstrap=True, max_depth=3, max_features=8, min_samples_leaf=6, min_samples_split=6, n_estimators=100, total=   0.2s\n",
      "[CV] bootstrap=True, max_depth=3, max_features=8, min_samples_leaf=6, min_samples_split=6, n_estimators=100 \n",
      "[CV]  bootstrap=True, max_depth=3, max_features=8, min_samples_leaf=6, min_samples_split=6, n_estimators=100, total=   0.2s\n",
      "[CV] bootstrap=True, max_depth=3, max_features=8, min_samples_leaf=6, min_samples_split=6, n_estimators=100 \n",
      "[CV]  bootstrap=True, max_depth=3, max_features=8, min_samples_leaf=6, min_samples_split=6, n_estimators=100, total=   0.2s\n",
      "[CV] bootstrap=True, max_depth=3, max_features=8, min_samples_leaf=6, min_samples_split=6, n_estimators=200 \n",
      "[CV]  bootstrap=True, max_depth=3, max_features=8, min_samples_leaf=6, min_samples_split=6, n_estimators=200, total=   0.5s\n",
      "[CV] bootstrap=True, max_depth=3, max_features=8, min_samples_leaf=6, min_samples_split=6, n_estimators=200 \n",
      "[CV]  bootstrap=True, max_depth=3, max_features=8, min_samples_leaf=6, min_samples_split=6, n_estimators=200, total=   0.5s\n",
      "[CV] bootstrap=True, max_depth=3, max_features=8, min_samples_leaf=6, min_samples_split=6, n_estimators=200 \n",
      "[CV]  bootstrap=True, max_depth=3, max_features=8, min_samples_leaf=6, min_samples_split=6, n_estimators=200, total=   0.5s\n",
      "[CV] bootstrap=True, max_depth=3, max_features=8, min_samples_leaf=6, min_samples_split=6, n_estimators=200 \n",
      "[CV]  bootstrap=True, max_depth=3, max_features=8, min_samples_leaf=6, min_samples_split=6, n_estimators=200, total=   0.5s\n",
      "[CV] bootstrap=True, max_depth=3, max_features=8, min_samples_leaf=6, min_samples_split=6, n_estimators=200 \n",
      "[CV]  bootstrap=True, max_depth=3, max_features=8, min_samples_leaf=6, min_samples_split=6, n_estimators=200, total=   0.5s\n",
      "[CV] bootstrap=True, max_depth=3, max_features=8, min_samples_leaf=6, min_samples_split=6, n_estimators=200 \n",
      "[CV]  bootstrap=True, max_depth=3, max_features=8, min_samples_leaf=6, min_samples_split=6, n_estimators=200, total=   0.5s\n",
      "[CV] bootstrap=True, max_depth=3, max_features=8, min_samples_leaf=6, min_samples_split=6, n_estimators=200 \n",
      "[CV]  bootstrap=True, max_depth=3, max_features=8, min_samples_leaf=6, min_samples_split=6, n_estimators=200, total=   0.5s\n",
      "[CV] bootstrap=True, max_depth=3, max_features=8, min_samples_leaf=6, min_samples_split=6, n_estimators=200 \n",
      "[CV]  bootstrap=True, max_depth=3, max_features=8, min_samples_leaf=6, min_samples_split=6, n_estimators=200, total=   0.5s\n",
      "[CV] bootstrap=True, max_depth=3, max_features=8, min_samples_leaf=6, min_samples_split=6, n_estimators=200 \n",
      "[CV]  bootstrap=True, max_depth=3, max_features=8, min_samples_leaf=6, min_samples_split=6, n_estimators=200, total=   0.5s\n",
      "[CV] bootstrap=True, max_depth=3, max_features=8, min_samples_leaf=6, min_samples_split=6, n_estimators=200 \n",
      "[CV]  bootstrap=True, max_depth=3, max_features=8, min_samples_leaf=6, min_samples_split=6, n_estimators=200, total=   0.5s\n",
      "[CV] bootstrap=True, max_depth=8, max_features=2, min_samples_leaf=3, min_samples_split=2, n_estimators=100 \n",
      "[CV]  bootstrap=True, max_depth=8, max_features=2, min_samples_leaf=3, min_samples_split=2, n_estimators=100, total=   0.2s\n",
      "[CV] bootstrap=True, max_depth=8, max_features=2, min_samples_leaf=3, min_samples_split=2, n_estimators=100 \n",
      "[CV]  bootstrap=True, max_depth=8, max_features=2, min_samples_leaf=3, min_samples_split=2, n_estimators=100, total=   0.2s\n",
      "[CV] bootstrap=True, max_depth=8, max_features=2, min_samples_leaf=3, min_samples_split=2, n_estimators=100 \n",
      "[CV]  bootstrap=True, max_depth=8, max_features=2, min_samples_leaf=3, min_samples_split=2, n_estimators=100, total=   0.2s\n",
      "[CV] bootstrap=True, max_depth=8, max_features=2, min_samples_leaf=3, min_samples_split=2, n_estimators=100 \n",
      "[CV]  bootstrap=True, max_depth=8, max_features=2, min_samples_leaf=3, min_samples_split=2, n_estimators=100, total=   0.2s\n",
      "[CV] bootstrap=True, max_depth=8, max_features=2, min_samples_leaf=3, min_samples_split=2, n_estimators=100 \n",
      "[CV]  bootstrap=True, max_depth=8, max_features=2, min_samples_leaf=3, min_samples_split=2, n_estimators=100, total=   0.2s\n",
      "[CV] bootstrap=True, max_depth=8, max_features=2, min_samples_leaf=3, min_samples_split=2, n_estimators=100 \n",
      "[CV]  bootstrap=True, max_depth=8, max_features=2, min_samples_leaf=3, min_samples_split=2, n_estimators=100, total=   0.2s\n",
      "[CV] bootstrap=True, max_depth=8, max_features=2, min_samples_leaf=3, min_samples_split=2, n_estimators=100 \n",
      "[CV]  bootstrap=True, max_depth=8, max_features=2, min_samples_leaf=3, min_samples_split=2, n_estimators=100, total=   0.2s\n",
      "[CV] bootstrap=True, max_depth=8, max_features=2, min_samples_leaf=3, min_samples_split=2, n_estimators=100 \n",
      "[CV]  bootstrap=True, max_depth=8, max_features=2, min_samples_leaf=3, min_samples_split=2, n_estimators=100, total=   0.2s\n",
      "[CV] bootstrap=True, max_depth=8, max_features=2, min_samples_leaf=3, min_samples_split=2, n_estimators=100 \n",
      "[CV]  bootstrap=True, max_depth=8, max_features=2, min_samples_leaf=3, min_samples_split=2, n_estimators=100, total=   0.2s\n",
      "[CV] bootstrap=True, max_depth=8, max_features=2, min_samples_leaf=3, min_samples_split=2, n_estimators=100 \n",
      "[CV]  bootstrap=True, max_depth=8, max_features=2, min_samples_leaf=3, min_samples_split=2, n_estimators=100, total=   0.2s\n",
      "[CV] bootstrap=True, max_depth=8, max_features=2, min_samples_leaf=3, min_samples_split=2, n_estimators=200 \n",
      "[CV]  bootstrap=True, max_depth=8, max_features=2, min_samples_leaf=3, min_samples_split=2, n_estimators=200, total=   0.4s\n",
      "[CV] bootstrap=True, max_depth=8, max_features=2, min_samples_leaf=3, min_samples_split=2, n_estimators=200 \n",
      "[CV]  bootstrap=True, max_depth=8, max_features=2, min_samples_leaf=3, min_samples_split=2, n_estimators=200, total=   0.4s\n",
      "[CV] bootstrap=True, max_depth=8, max_features=2, min_samples_leaf=3, min_samples_split=2, n_estimators=200 \n",
      "[CV]  bootstrap=True, max_depth=8, max_features=2, min_samples_leaf=3, min_samples_split=2, n_estimators=200, total=   0.4s\n",
      "[CV] bootstrap=True, max_depth=8, max_features=2, min_samples_leaf=3, min_samples_split=2, n_estimators=200 \n",
      "[CV]  bootstrap=True, max_depth=8, max_features=2, min_samples_leaf=3, min_samples_split=2, n_estimators=200, total=   0.4s\n",
      "[CV] bootstrap=True, max_depth=8, max_features=2, min_samples_leaf=3, min_samples_split=2, n_estimators=200 \n",
      "[CV]  bootstrap=True, max_depth=8, max_features=2, min_samples_leaf=3, min_samples_split=2, n_estimators=200, total=   0.4s\n",
      "[CV] bootstrap=True, max_depth=8, max_features=2, min_samples_leaf=3, min_samples_split=2, n_estimators=200 \n",
      "[CV]  bootstrap=True, max_depth=8, max_features=2, min_samples_leaf=3, min_samples_split=2, n_estimators=200, total=   0.4s\n",
      "[CV] bootstrap=True, max_depth=8, max_features=2, min_samples_leaf=3, min_samples_split=2, n_estimators=200 \n",
      "[CV]  bootstrap=True, max_depth=8, max_features=2, min_samples_leaf=3, min_samples_split=2, n_estimators=200, total=   0.3s\n",
      "[CV] bootstrap=True, max_depth=8, max_features=2, min_samples_leaf=3, min_samples_split=2, n_estimators=200 \n",
      "[CV]  bootstrap=True, max_depth=8, max_features=2, min_samples_leaf=3, min_samples_split=2, n_estimators=200, total=   0.2s\n",
      "[CV] bootstrap=True, max_depth=8, max_features=2, min_samples_leaf=3, min_samples_split=2, n_estimators=200 \n",
      "[CV]  bootstrap=True, max_depth=8, max_features=2, min_samples_leaf=3, min_samples_split=2, n_estimators=200, total=   0.4s\n",
      "[CV] bootstrap=True, max_depth=8, max_features=2, min_samples_leaf=3, min_samples_split=2, n_estimators=200 \n",
      "[CV]  bootstrap=True, max_depth=8, max_features=2, min_samples_leaf=3, min_samples_split=2, n_estimators=200, total=   0.4s\n",
      "[CV] bootstrap=True, max_depth=8, max_features=2, min_samples_leaf=3, min_samples_split=6, n_estimators=100 \n",
      "[CV]  bootstrap=True, max_depth=8, max_features=2, min_samples_leaf=3, min_samples_split=6, n_estimators=100, total=   0.2s\n",
      "[CV] bootstrap=True, max_depth=8, max_features=2, min_samples_leaf=3, min_samples_split=6, n_estimators=100 \n",
      "[CV]  bootstrap=True, max_depth=8, max_features=2, min_samples_leaf=3, min_samples_split=6, n_estimators=100, total=   0.2s\n",
      "[CV] bootstrap=True, max_depth=8, max_features=2, min_samples_leaf=3, min_samples_split=6, n_estimators=100 \n"
     ]
    },
    {
     "name": "stdout",
     "output_type": "stream",
     "text": [
      "[CV]  bootstrap=True, max_depth=8, max_features=2, min_samples_leaf=3, min_samples_split=6, n_estimators=100, total=   0.2s\n",
      "[CV] bootstrap=True, max_depth=8, max_features=2, min_samples_leaf=3, min_samples_split=6, n_estimators=100 \n",
      "[CV]  bootstrap=True, max_depth=8, max_features=2, min_samples_leaf=3, min_samples_split=6, n_estimators=100, total=   0.2s\n",
      "[CV] bootstrap=True, max_depth=8, max_features=2, min_samples_leaf=3, min_samples_split=6, n_estimators=100 \n",
      "[CV]  bootstrap=True, max_depth=8, max_features=2, min_samples_leaf=3, min_samples_split=6, n_estimators=100, total=   0.2s\n",
      "[CV] bootstrap=True, max_depth=8, max_features=2, min_samples_leaf=3, min_samples_split=6, n_estimators=100 \n",
      "[CV]  bootstrap=True, max_depth=8, max_features=2, min_samples_leaf=3, min_samples_split=6, n_estimators=100, total=   0.2s\n",
      "[CV] bootstrap=True, max_depth=8, max_features=2, min_samples_leaf=3, min_samples_split=6, n_estimators=100 \n",
      "[CV]  bootstrap=True, max_depth=8, max_features=2, min_samples_leaf=3, min_samples_split=6, n_estimators=100, total=   0.2s\n",
      "[CV] bootstrap=True, max_depth=8, max_features=2, min_samples_leaf=3, min_samples_split=6, n_estimators=100 \n",
      "[CV]  bootstrap=True, max_depth=8, max_features=2, min_samples_leaf=3, min_samples_split=6, n_estimators=100, total=   0.2s\n",
      "[CV] bootstrap=True, max_depth=8, max_features=2, min_samples_leaf=3, min_samples_split=6, n_estimators=100 \n",
      "[CV]  bootstrap=True, max_depth=8, max_features=2, min_samples_leaf=3, min_samples_split=6, n_estimators=100, total=   0.2s\n",
      "[CV] bootstrap=True, max_depth=8, max_features=2, min_samples_leaf=3, min_samples_split=6, n_estimators=100 \n",
      "[CV]  bootstrap=True, max_depth=8, max_features=2, min_samples_leaf=3, min_samples_split=6, n_estimators=100, total=   0.2s\n",
      "[CV] bootstrap=True, max_depth=8, max_features=2, min_samples_leaf=3, min_samples_split=6, n_estimators=200 \n",
      "[CV]  bootstrap=True, max_depth=8, max_features=2, min_samples_leaf=3, min_samples_split=6, n_estimators=200, total=   0.4s\n",
      "[CV] bootstrap=True, max_depth=8, max_features=2, min_samples_leaf=3, min_samples_split=6, n_estimators=200 \n",
      "[CV]  bootstrap=True, max_depth=8, max_features=2, min_samples_leaf=3, min_samples_split=6, n_estimators=200, total=   0.4s\n",
      "[CV] bootstrap=True, max_depth=8, max_features=2, min_samples_leaf=3, min_samples_split=6, n_estimators=200 \n",
      "[CV]  bootstrap=True, max_depth=8, max_features=2, min_samples_leaf=3, min_samples_split=6, n_estimators=200, total=   0.4s\n",
      "[CV] bootstrap=True, max_depth=8, max_features=2, min_samples_leaf=3, min_samples_split=6, n_estimators=200 \n",
      "[CV]  bootstrap=True, max_depth=8, max_features=2, min_samples_leaf=3, min_samples_split=6, n_estimators=200, total=   0.4s\n",
      "[CV] bootstrap=True, max_depth=8, max_features=2, min_samples_leaf=3, min_samples_split=6, n_estimators=200 \n",
      "[CV]  bootstrap=True, max_depth=8, max_features=2, min_samples_leaf=3, min_samples_split=6, n_estimators=200, total=   0.4s\n",
      "[CV] bootstrap=True, max_depth=8, max_features=2, min_samples_leaf=3, min_samples_split=6, n_estimators=200 \n",
      "[CV]  bootstrap=True, max_depth=8, max_features=2, min_samples_leaf=3, min_samples_split=6, n_estimators=200, total=   0.3s\n",
      "[CV] bootstrap=True, max_depth=8, max_features=2, min_samples_leaf=3, min_samples_split=6, n_estimators=200 \n",
      "[CV]  bootstrap=True, max_depth=8, max_features=2, min_samples_leaf=3, min_samples_split=6, n_estimators=200, total=   0.2s\n",
      "[CV] bootstrap=True, max_depth=8, max_features=2, min_samples_leaf=3, min_samples_split=6, n_estimators=200 \n",
      "[CV]  bootstrap=True, max_depth=8, max_features=2, min_samples_leaf=3, min_samples_split=6, n_estimators=200, total=   0.3s\n",
      "[CV] bootstrap=True, max_depth=8, max_features=2, min_samples_leaf=3, min_samples_split=6, n_estimators=200 \n",
      "[CV]  bootstrap=True, max_depth=8, max_features=2, min_samples_leaf=3, min_samples_split=6, n_estimators=200, total=   0.4s\n",
      "[CV] bootstrap=True, max_depth=8, max_features=2, min_samples_leaf=3, min_samples_split=6, n_estimators=200 \n",
      "[CV]  bootstrap=True, max_depth=8, max_features=2, min_samples_leaf=3, min_samples_split=6, n_estimators=200, total=   0.4s\n",
      "[CV] bootstrap=True, max_depth=8, max_features=2, min_samples_leaf=6, min_samples_split=2, n_estimators=100 \n",
      "[CV]  bootstrap=True, max_depth=8, max_features=2, min_samples_leaf=6, min_samples_split=2, n_estimators=100, total=   0.2s\n",
      "[CV] bootstrap=True, max_depth=8, max_features=2, min_samples_leaf=6, min_samples_split=2, n_estimators=100 \n",
      "[CV]  bootstrap=True, max_depth=8, max_features=2, min_samples_leaf=6, min_samples_split=2, n_estimators=100, total=   0.2s\n",
      "[CV] bootstrap=True, max_depth=8, max_features=2, min_samples_leaf=6, min_samples_split=2, n_estimators=100 \n",
      "[CV]  bootstrap=True, max_depth=8, max_features=2, min_samples_leaf=6, min_samples_split=2, n_estimators=100, total=   0.2s\n",
      "[CV] bootstrap=True, max_depth=8, max_features=2, min_samples_leaf=6, min_samples_split=2, n_estimators=100 \n",
      "[CV]  bootstrap=True, max_depth=8, max_features=2, min_samples_leaf=6, min_samples_split=2, n_estimators=100, total=   0.2s\n",
      "[CV] bootstrap=True, max_depth=8, max_features=2, min_samples_leaf=6, min_samples_split=2, n_estimators=100 \n",
      "[CV]  bootstrap=True, max_depth=8, max_features=2, min_samples_leaf=6, min_samples_split=2, n_estimators=100, total=   0.2s\n",
      "[CV] bootstrap=True, max_depth=8, max_features=2, min_samples_leaf=6, min_samples_split=2, n_estimators=100 \n",
      "[CV]  bootstrap=True, max_depth=8, max_features=2, min_samples_leaf=6, min_samples_split=2, n_estimators=100, total=   0.2s\n",
      "[CV] bootstrap=True, max_depth=8, max_features=2, min_samples_leaf=6, min_samples_split=2, n_estimators=100 \n",
      "[CV]  bootstrap=True, max_depth=8, max_features=2, min_samples_leaf=6, min_samples_split=2, n_estimators=100, total=   0.2s\n",
      "[CV] bootstrap=True, max_depth=8, max_features=2, min_samples_leaf=6, min_samples_split=2, n_estimators=100 \n",
      "[CV]  bootstrap=True, max_depth=8, max_features=2, min_samples_leaf=6, min_samples_split=2, n_estimators=100, total=   0.2s\n",
      "[CV] bootstrap=True, max_depth=8, max_features=2, min_samples_leaf=6, min_samples_split=2, n_estimators=100 \n",
      "[CV]  bootstrap=True, max_depth=8, max_features=2, min_samples_leaf=6, min_samples_split=2, n_estimators=100, total=   0.2s\n",
      "[CV] bootstrap=True, max_depth=8, max_features=2, min_samples_leaf=6, min_samples_split=2, n_estimators=100 \n",
      "[CV]  bootstrap=True, max_depth=8, max_features=2, min_samples_leaf=6, min_samples_split=2, n_estimators=100, total=   0.2s\n",
      "[CV] bootstrap=True, max_depth=8, max_features=2, min_samples_leaf=6, min_samples_split=2, n_estimators=200 \n",
      "[CV]  bootstrap=True, max_depth=8, max_features=2, min_samples_leaf=6, min_samples_split=2, n_estimators=200, total=   0.4s\n",
      "[CV] bootstrap=True, max_depth=8, max_features=2, min_samples_leaf=6, min_samples_split=2, n_estimators=200 \n",
      "[CV]  bootstrap=True, max_depth=8, max_features=2, min_samples_leaf=6, min_samples_split=2, n_estimators=200, total=   0.4s\n",
      "[CV] bootstrap=True, max_depth=8, max_features=2, min_samples_leaf=6, min_samples_split=2, n_estimators=200 \n",
      "[CV]  bootstrap=True, max_depth=8, max_features=2, min_samples_leaf=6, min_samples_split=2, n_estimators=200, total=   0.4s\n",
      "[CV] bootstrap=True, max_depth=8, max_features=2, min_samples_leaf=6, min_samples_split=2, n_estimators=200 \n",
      "[CV]  bootstrap=True, max_depth=8, max_features=2, min_samples_leaf=6, min_samples_split=2, n_estimators=200, total=   0.4s\n",
      "[CV] bootstrap=True, max_depth=8, max_features=2, min_samples_leaf=6, min_samples_split=2, n_estimators=200 \n",
      "[CV]  bootstrap=True, max_depth=8, max_features=2, min_samples_leaf=6, min_samples_split=2, n_estimators=200, total=   0.4s\n",
      "[CV] bootstrap=True, max_depth=8, max_features=2, min_samples_leaf=6, min_samples_split=2, n_estimators=200 \n",
      "[CV]  bootstrap=True, max_depth=8, max_features=2, min_samples_leaf=6, min_samples_split=2, n_estimators=200, total=   0.4s\n",
      "[CV] bootstrap=True, max_depth=8, max_features=2, min_samples_leaf=6, min_samples_split=2, n_estimators=200 \n",
      "[CV]  bootstrap=True, max_depth=8, max_features=2, min_samples_leaf=6, min_samples_split=2, n_estimators=200, total=   0.4s\n",
      "[CV] bootstrap=True, max_depth=8, max_features=2, min_samples_leaf=6, min_samples_split=2, n_estimators=200 \n",
      "[CV]  bootstrap=True, max_depth=8, max_features=2, min_samples_leaf=6, min_samples_split=2, n_estimators=200, total=   0.4s\n",
      "[CV] bootstrap=True, max_depth=8, max_features=2, min_samples_leaf=6, min_samples_split=2, n_estimators=200 \n"
     ]
    },
    {
     "name": "stdout",
     "output_type": "stream",
     "text": [
      "[CV]  bootstrap=True, max_depth=8, max_features=2, min_samples_leaf=6, min_samples_split=2, n_estimators=200, total=   0.4s\n",
      "[CV] bootstrap=True, max_depth=8, max_features=2, min_samples_leaf=6, min_samples_split=2, n_estimators=200 \n",
      "[CV]  bootstrap=True, max_depth=8, max_features=2, min_samples_leaf=6, min_samples_split=2, n_estimators=200, total=   0.4s\n",
      "[CV] bootstrap=True, max_depth=8, max_features=2, min_samples_leaf=6, min_samples_split=6, n_estimators=100 \n",
      "[CV]  bootstrap=True, max_depth=8, max_features=2, min_samples_leaf=6, min_samples_split=6, n_estimators=100, total=   0.2s\n",
      "[CV] bootstrap=True, max_depth=8, max_features=2, min_samples_leaf=6, min_samples_split=6, n_estimators=100 \n",
      "[CV]  bootstrap=True, max_depth=8, max_features=2, min_samples_leaf=6, min_samples_split=6, n_estimators=100, total=   0.2s\n",
      "[CV] bootstrap=True, max_depth=8, max_features=2, min_samples_leaf=6, min_samples_split=6, n_estimators=100 \n",
      "[CV]  bootstrap=True, max_depth=8, max_features=2, min_samples_leaf=6, min_samples_split=6, n_estimators=100, total=   0.2s\n",
      "[CV] bootstrap=True, max_depth=8, max_features=2, min_samples_leaf=6, min_samples_split=6, n_estimators=100 \n",
      "[CV]  bootstrap=True, max_depth=8, max_features=2, min_samples_leaf=6, min_samples_split=6, n_estimators=100, total=   0.2s\n",
      "[CV] bootstrap=True, max_depth=8, max_features=2, min_samples_leaf=6, min_samples_split=6, n_estimators=100 \n",
      "[CV]  bootstrap=True, max_depth=8, max_features=2, min_samples_leaf=6, min_samples_split=6, n_estimators=100, total=   0.2s\n",
      "[CV] bootstrap=True, max_depth=8, max_features=2, min_samples_leaf=6, min_samples_split=6, n_estimators=100 \n",
      "[CV]  bootstrap=True, max_depth=8, max_features=2, min_samples_leaf=6, min_samples_split=6, n_estimators=100, total=   0.2s\n",
      "[CV] bootstrap=True, max_depth=8, max_features=2, min_samples_leaf=6, min_samples_split=6, n_estimators=100 \n",
      "[CV]  bootstrap=True, max_depth=8, max_features=2, min_samples_leaf=6, min_samples_split=6, n_estimators=100, total=   0.2s\n",
      "[CV] bootstrap=True, max_depth=8, max_features=2, min_samples_leaf=6, min_samples_split=6, n_estimators=100 \n",
      "[CV]  bootstrap=True, max_depth=8, max_features=2, min_samples_leaf=6, min_samples_split=6, n_estimators=100, total=   0.2s\n",
      "[CV] bootstrap=True, max_depth=8, max_features=2, min_samples_leaf=6, min_samples_split=6, n_estimators=100 \n",
      "[CV]  bootstrap=True, max_depth=8, max_features=2, min_samples_leaf=6, min_samples_split=6, n_estimators=100, total=   0.2s\n",
      "[CV] bootstrap=True, max_depth=8, max_features=2, min_samples_leaf=6, min_samples_split=6, n_estimators=100 \n",
      "[CV]  bootstrap=True, max_depth=8, max_features=2, min_samples_leaf=6, min_samples_split=6, n_estimators=100, total=   0.2s\n",
      "[CV] bootstrap=True, max_depth=8, max_features=2, min_samples_leaf=6, min_samples_split=6, n_estimators=200 \n",
      "[CV]  bootstrap=True, max_depth=8, max_features=2, min_samples_leaf=6, min_samples_split=6, n_estimators=200, total=   0.4s\n",
      "[CV] bootstrap=True, max_depth=8, max_features=2, min_samples_leaf=6, min_samples_split=6, n_estimators=200 \n",
      "[CV]  bootstrap=True, max_depth=8, max_features=2, min_samples_leaf=6, min_samples_split=6, n_estimators=200, total=   0.3s\n",
      "[CV] bootstrap=True, max_depth=8, max_features=2, min_samples_leaf=6, min_samples_split=6, n_estimators=200 \n",
      "[CV]  bootstrap=True, max_depth=8, max_features=2, min_samples_leaf=6, min_samples_split=6, n_estimators=200, total=   0.2s\n",
      "[CV] bootstrap=True, max_depth=8, max_features=2, min_samples_leaf=6, min_samples_split=6, n_estimators=200 \n",
      "[CV]  bootstrap=True, max_depth=8, max_features=2, min_samples_leaf=6, min_samples_split=6, n_estimators=200, total=   0.4s\n",
      "[CV] bootstrap=True, max_depth=8, max_features=2, min_samples_leaf=6, min_samples_split=6, n_estimators=200 \n",
      "[CV]  bootstrap=True, max_depth=8, max_features=2, min_samples_leaf=6, min_samples_split=6, n_estimators=200, total=   0.4s\n",
      "[CV] bootstrap=True, max_depth=8, max_features=2, min_samples_leaf=6, min_samples_split=6, n_estimators=200 \n",
      "[CV]  bootstrap=True, max_depth=8, max_features=2, min_samples_leaf=6, min_samples_split=6, n_estimators=200, total=   0.4s\n",
      "[CV] bootstrap=True, max_depth=8, max_features=2, min_samples_leaf=6, min_samples_split=6, n_estimators=200 \n",
      "[CV]  bootstrap=True, max_depth=8, max_features=2, min_samples_leaf=6, min_samples_split=6, n_estimators=200, total=   0.4s\n",
      "[CV] bootstrap=True, max_depth=8, max_features=2, min_samples_leaf=6, min_samples_split=6, n_estimators=200 \n",
      "[CV]  bootstrap=True, max_depth=8, max_features=2, min_samples_leaf=6, min_samples_split=6, n_estimators=200, total=   0.4s\n",
      "[CV] bootstrap=True, max_depth=8, max_features=2, min_samples_leaf=6, min_samples_split=6, n_estimators=200 \n",
      "[CV]  bootstrap=True, max_depth=8, max_features=2, min_samples_leaf=6, min_samples_split=6, n_estimators=200, total=   0.4s\n",
      "[CV] bootstrap=True, max_depth=8, max_features=2, min_samples_leaf=6, min_samples_split=6, n_estimators=200 \n",
      "[CV]  bootstrap=True, max_depth=8, max_features=2, min_samples_leaf=6, min_samples_split=6, n_estimators=200, total=   0.4s\n",
      "[CV] bootstrap=True, max_depth=8, max_features=8, min_samples_leaf=3, min_samples_split=2, n_estimators=100 \n",
      "[CV]  bootstrap=True, max_depth=8, max_features=8, min_samples_leaf=3, min_samples_split=2, n_estimators=100, total=   0.3s\n",
      "[CV] bootstrap=True, max_depth=8, max_features=8, min_samples_leaf=3, min_samples_split=2, n_estimators=100 \n",
      "[CV]  bootstrap=True, max_depth=8, max_features=8, min_samples_leaf=3, min_samples_split=2, n_estimators=100, total=   0.3s\n",
      "[CV] bootstrap=True, max_depth=8, max_features=8, min_samples_leaf=3, min_samples_split=2, n_estimators=100 \n",
      "[CV]  bootstrap=True, max_depth=8, max_features=8, min_samples_leaf=3, min_samples_split=2, n_estimators=100, total=   0.4s\n",
      "[CV] bootstrap=True, max_depth=8, max_features=8, min_samples_leaf=3, min_samples_split=2, n_estimators=100 \n",
      "[CV]  bootstrap=True, max_depth=8, max_features=8, min_samples_leaf=3, min_samples_split=2, n_estimators=100, total=   0.3s\n",
      "[CV] bootstrap=True, max_depth=8, max_features=8, min_samples_leaf=3, min_samples_split=2, n_estimators=100 \n",
      "[CV]  bootstrap=True, max_depth=8, max_features=8, min_samples_leaf=3, min_samples_split=2, n_estimators=100, total=   0.3s\n",
      "[CV] bootstrap=True, max_depth=8, max_features=8, min_samples_leaf=3, min_samples_split=2, n_estimators=100 \n",
      "[CV]  bootstrap=True, max_depth=8, max_features=8, min_samples_leaf=3, min_samples_split=2, n_estimators=100, total=   0.3s\n",
      "[CV] bootstrap=True, max_depth=8, max_features=8, min_samples_leaf=3, min_samples_split=2, n_estimators=100 \n",
      "[CV]  bootstrap=True, max_depth=8, max_features=8, min_samples_leaf=3, min_samples_split=2, n_estimators=100, total=   0.2s\n",
      "[CV] bootstrap=True, max_depth=8, max_features=8, min_samples_leaf=3, min_samples_split=2, n_estimators=100 \n",
      "[CV]  bootstrap=True, max_depth=8, max_features=8, min_samples_leaf=3, min_samples_split=2, n_estimators=100, total=   0.3s\n",
      "[CV] bootstrap=True, max_depth=8, max_features=8, min_samples_leaf=3, min_samples_split=2, n_estimators=100 \n",
      "[CV]  bootstrap=True, max_depth=8, max_features=8, min_samples_leaf=3, min_samples_split=2, n_estimators=100, total=   0.3s\n",
      "[CV] bootstrap=True, max_depth=8, max_features=8, min_samples_leaf=3, min_samples_split=2, n_estimators=100 \n",
      "[CV]  bootstrap=True, max_depth=8, max_features=8, min_samples_leaf=3, min_samples_split=2, n_estimators=100, total=   0.3s\n",
      "[CV] bootstrap=True, max_depth=8, max_features=8, min_samples_leaf=3, min_samples_split=2, n_estimators=200 \n",
      "[CV]  bootstrap=True, max_depth=8, max_features=8, min_samples_leaf=3, min_samples_split=2, n_estimators=200, total=   0.7s\n",
      "[CV] bootstrap=True, max_depth=8, max_features=8, min_samples_leaf=3, min_samples_split=2, n_estimators=200 \n",
      "[CV]  bootstrap=True, max_depth=8, max_features=8, min_samples_leaf=3, min_samples_split=2, n_estimators=200, total=   0.7s\n",
      "[CV] bootstrap=True, max_depth=8, max_features=8, min_samples_leaf=3, min_samples_split=2, n_estimators=200 \n",
      "[CV]  bootstrap=True, max_depth=8, max_features=8, min_samples_leaf=3, min_samples_split=2, n_estimators=200, total=   0.7s\n",
      "[CV] bootstrap=True, max_depth=8, max_features=8, min_samples_leaf=3, min_samples_split=2, n_estimators=200 \n",
      "[CV]  bootstrap=True, max_depth=8, max_features=8, min_samples_leaf=3, min_samples_split=2, n_estimators=200, total=   0.7s\n",
      "[CV] bootstrap=True, max_depth=8, max_features=8, min_samples_leaf=3, min_samples_split=2, n_estimators=200 \n"
     ]
    },
    {
     "name": "stdout",
     "output_type": "stream",
     "text": [
      "[CV]  bootstrap=True, max_depth=8, max_features=8, min_samples_leaf=3, min_samples_split=2, n_estimators=200, total=   0.7s\n",
      "[CV] bootstrap=True, max_depth=8, max_features=8, min_samples_leaf=3, min_samples_split=2, n_estimators=200 \n",
      "[CV]  bootstrap=True, max_depth=8, max_features=8, min_samples_leaf=3, min_samples_split=2, n_estimators=200, total=   0.7s\n",
      "[CV] bootstrap=True, max_depth=8, max_features=8, min_samples_leaf=3, min_samples_split=2, n_estimators=200 \n",
      "[CV]  bootstrap=True, max_depth=8, max_features=8, min_samples_leaf=3, min_samples_split=2, n_estimators=200, total=   0.7s\n",
      "[CV] bootstrap=True, max_depth=8, max_features=8, min_samples_leaf=3, min_samples_split=2, n_estimators=200 \n",
      "[CV]  bootstrap=True, max_depth=8, max_features=8, min_samples_leaf=3, min_samples_split=2, n_estimators=200, total=   0.7s\n",
      "[CV] bootstrap=True, max_depth=8, max_features=8, min_samples_leaf=3, min_samples_split=2, n_estimators=200 \n",
      "[CV]  bootstrap=True, max_depth=8, max_features=8, min_samples_leaf=3, min_samples_split=2, n_estimators=200, total=   0.6s\n",
      "[CV] bootstrap=True, max_depth=8, max_features=8, min_samples_leaf=3, min_samples_split=2, n_estimators=200 \n",
      "[CV]  bootstrap=True, max_depth=8, max_features=8, min_samples_leaf=3, min_samples_split=2, n_estimators=200, total=   0.7s\n",
      "[CV] bootstrap=True, max_depth=8, max_features=8, min_samples_leaf=3, min_samples_split=6, n_estimators=100 \n",
      "[CV]  bootstrap=True, max_depth=8, max_features=8, min_samples_leaf=3, min_samples_split=6, n_estimators=100, total=   0.3s\n",
      "[CV] bootstrap=True, max_depth=8, max_features=8, min_samples_leaf=3, min_samples_split=6, n_estimators=100 \n",
      "[CV]  bootstrap=True, max_depth=8, max_features=8, min_samples_leaf=3, min_samples_split=6, n_estimators=100, total=   0.3s\n",
      "[CV] bootstrap=True, max_depth=8, max_features=8, min_samples_leaf=3, min_samples_split=6, n_estimators=100 \n",
      "[CV]  bootstrap=True, max_depth=8, max_features=8, min_samples_leaf=3, min_samples_split=6, n_estimators=100, total=   0.3s\n",
      "[CV] bootstrap=True, max_depth=8, max_features=8, min_samples_leaf=3, min_samples_split=6, n_estimators=100 \n",
      "[CV]  bootstrap=True, max_depth=8, max_features=8, min_samples_leaf=3, min_samples_split=6, n_estimators=100, total=   0.3s\n",
      "[CV] bootstrap=True, max_depth=8, max_features=8, min_samples_leaf=3, min_samples_split=6, n_estimators=100 \n",
      "[CV]  bootstrap=True, max_depth=8, max_features=8, min_samples_leaf=3, min_samples_split=6, n_estimators=100, total=   0.3s\n",
      "[CV] bootstrap=True, max_depth=8, max_features=8, min_samples_leaf=3, min_samples_split=6, n_estimators=100 \n",
      "[CV]  bootstrap=True, max_depth=8, max_features=8, min_samples_leaf=3, min_samples_split=6, n_estimators=100, total=   0.3s\n",
      "[CV] bootstrap=True, max_depth=8, max_features=8, min_samples_leaf=3, min_samples_split=6, n_estimators=100 \n",
      "[CV]  bootstrap=True, max_depth=8, max_features=8, min_samples_leaf=3, min_samples_split=6, n_estimators=100, total=   0.3s\n",
      "[CV] bootstrap=True, max_depth=8, max_features=8, min_samples_leaf=3, min_samples_split=6, n_estimators=100 \n",
      "[CV]  bootstrap=True, max_depth=8, max_features=8, min_samples_leaf=3, min_samples_split=6, n_estimators=100, total=   0.2s\n",
      "[CV] bootstrap=True, max_depth=8, max_features=8, min_samples_leaf=3, min_samples_split=6, n_estimators=100 \n",
      "[CV]  bootstrap=True, max_depth=8, max_features=8, min_samples_leaf=3, min_samples_split=6, n_estimators=100, total=   0.1s\n",
      "[CV] bootstrap=True, max_depth=8, max_features=8, min_samples_leaf=3, min_samples_split=6, n_estimators=100 \n",
      "[CV]  bootstrap=True, max_depth=8, max_features=8, min_samples_leaf=3, min_samples_split=6, n_estimators=100, total=   0.3s\n",
      "[CV] bootstrap=True, max_depth=8, max_features=8, min_samples_leaf=3, min_samples_split=6, n_estimators=200 \n",
      "[CV]  bootstrap=True, max_depth=8, max_features=8, min_samples_leaf=3, min_samples_split=6, n_estimators=200, total=   0.7s\n",
      "[CV] bootstrap=True, max_depth=8, max_features=8, min_samples_leaf=3, min_samples_split=6, n_estimators=200 \n",
      "[CV]  bootstrap=True, max_depth=8, max_features=8, min_samples_leaf=3, min_samples_split=6, n_estimators=200, total=   0.7s\n",
      "[CV] bootstrap=True, max_depth=8, max_features=8, min_samples_leaf=3, min_samples_split=6, n_estimators=200 \n",
      "[CV]  bootstrap=True, max_depth=8, max_features=8, min_samples_leaf=3, min_samples_split=6, n_estimators=200, total=   0.7s\n",
      "[CV] bootstrap=True, max_depth=8, max_features=8, min_samples_leaf=3, min_samples_split=6, n_estimators=200 \n",
      "[CV]  bootstrap=True, max_depth=8, max_features=8, min_samples_leaf=3, min_samples_split=6, n_estimators=200, total=   0.7s\n",
      "[CV] bootstrap=True, max_depth=8, max_features=8, min_samples_leaf=3, min_samples_split=6, n_estimators=200 \n",
      "[CV]  bootstrap=True, max_depth=8, max_features=8, min_samples_leaf=3, min_samples_split=6, n_estimators=200, total=   0.7s\n",
      "[CV] bootstrap=True, max_depth=8, max_features=8, min_samples_leaf=3, min_samples_split=6, n_estimators=200 \n",
      "[CV]  bootstrap=True, max_depth=8, max_features=8, min_samples_leaf=3, min_samples_split=6, n_estimators=200, total=   0.7s\n",
      "[CV] bootstrap=True, max_depth=8, max_features=8, min_samples_leaf=3, min_samples_split=6, n_estimators=200 \n",
      "[CV]  bootstrap=True, max_depth=8, max_features=8, min_samples_leaf=3, min_samples_split=6, n_estimators=200, total=   0.7s\n",
      "[CV] bootstrap=True, max_depth=8, max_features=8, min_samples_leaf=3, min_samples_split=6, n_estimators=200 \n",
      "[CV]  bootstrap=True, max_depth=8, max_features=8, min_samples_leaf=3, min_samples_split=6, n_estimators=200, total=   0.4s\n",
      "[CV] bootstrap=True, max_depth=8, max_features=8, min_samples_leaf=3, min_samples_split=6, n_estimators=200 \n",
      "[CV]  bootstrap=True, max_depth=8, max_features=8, min_samples_leaf=3, min_samples_split=6, n_estimators=200, total=   0.4s\n",
      "[CV] bootstrap=True, max_depth=8, max_features=8, min_samples_leaf=3, min_samples_split=6, n_estimators=200 \n",
      "[CV]  bootstrap=True, max_depth=8, max_features=8, min_samples_leaf=3, min_samples_split=6, n_estimators=200, total=   0.6s\n",
      "[CV] bootstrap=True, max_depth=8, max_features=8, min_samples_leaf=6, min_samples_split=2, n_estimators=100 \n",
      "[CV]  bootstrap=True, max_depth=8, max_features=8, min_samples_leaf=6, min_samples_split=2, n_estimators=100, total=   0.3s\n",
      "[CV] bootstrap=True, max_depth=8, max_features=8, min_samples_leaf=6, min_samples_split=2, n_estimators=100 \n",
      "[CV]  bootstrap=True, max_depth=8, max_features=8, min_samples_leaf=6, min_samples_split=2, n_estimators=100, total=   0.2s\n",
      "[CV] bootstrap=True, max_depth=8, max_features=8, min_samples_leaf=6, min_samples_split=2, n_estimators=100 \n",
      "[CV]  bootstrap=True, max_depth=8, max_features=8, min_samples_leaf=6, min_samples_split=2, n_estimators=100, total=   0.3s\n",
      "[CV] bootstrap=True, max_depth=8, max_features=8, min_samples_leaf=6, min_samples_split=2, n_estimators=100 \n",
      "[CV]  bootstrap=True, max_depth=8, max_features=8, min_samples_leaf=6, min_samples_split=2, n_estimators=100, total=   0.3s\n",
      "[CV] bootstrap=True, max_depth=8, max_features=8, min_samples_leaf=6, min_samples_split=2, n_estimators=100 \n",
      "[CV]  bootstrap=True, max_depth=8, max_features=8, min_samples_leaf=6, min_samples_split=2, n_estimators=100, total=   0.4s\n",
      "[CV] bootstrap=True, max_depth=8, max_features=8, min_samples_leaf=6, min_samples_split=2, n_estimators=100 \n",
      "[CV]  bootstrap=True, max_depth=8, max_features=8, min_samples_leaf=6, min_samples_split=2, n_estimators=100, total=   0.3s\n",
      "[CV] bootstrap=True, max_depth=8, max_features=8, min_samples_leaf=6, min_samples_split=2, n_estimators=100 \n",
      "[CV]  bootstrap=True, max_depth=8, max_features=8, min_samples_leaf=6, min_samples_split=2, n_estimators=100, total=   0.3s\n",
      "[CV] bootstrap=True, max_depth=8, max_features=8, min_samples_leaf=6, min_samples_split=2, n_estimators=100 \n",
      "[CV]  bootstrap=True, max_depth=8, max_features=8, min_samples_leaf=6, min_samples_split=2, n_estimators=100, total=   0.3s\n",
      "[CV] bootstrap=True, max_depth=8, max_features=8, min_samples_leaf=6, min_samples_split=2, n_estimators=100 \n",
      "[CV]  bootstrap=True, max_depth=8, max_features=8, min_samples_leaf=6, min_samples_split=2, n_estimators=100, total=   0.2s\n",
      "[CV] bootstrap=True, max_depth=8, max_features=8, min_samples_leaf=6, min_samples_split=2, n_estimators=100 \n",
      "[CV]  bootstrap=True, max_depth=8, max_features=8, min_samples_leaf=6, min_samples_split=2, n_estimators=100, total=   0.2s\n",
      "[CV] bootstrap=True, max_depth=8, max_features=8, min_samples_leaf=6, min_samples_split=2, n_estimators=200 \n"
     ]
    },
    {
     "name": "stdout",
     "output_type": "stream",
     "text": [
      "[CV]  bootstrap=True, max_depth=8, max_features=8, min_samples_leaf=6, min_samples_split=2, n_estimators=200, total=   0.3s\n",
      "[CV] bootstrap=True, max_depth=8, max_features=8, min_samples_leaf=6, min_samples_split=2, n_estimators=200 \n",
      "[CV]  bootstrap=True, max_depth=8, max_features=8, min_samples_leaf=6, min_samples_split=2, n_estimators=200, total=   0.3s\n",
      "[CV] bootstrap=True, max_depth=8, max_features=8, min_samples_leaf=6, min_samples_split=2, n_estimators=200 \n",
      "[CV]  bootstrap=True, max_depth=8, max_features=8, min_samples_leaf=6, min_samples_split=2, n_estimators=200, total=   0.3s\n",
      "[CV] bootstrap=True, max_depth=8, max_features=8, min_samples_leaf=6, min_samples_split=2, n_estimators=200 \n",
      "[CV]  bootstrap=True, max_depth=8, max_features=8, min_samples_leaf=6, min_samples_split=2, n_estimators=200, total=   0.3s\n",
      "[CV] bootstrap=True, max_depth=8, max_features=8, min_samples_leaf=6, min_samples_split=2, n_estimators=200 \n",
      "[CV]  bootstrap=True, max_depth=8, max_features=8, min_samples_leaf=6, min_samples_split=2, n_estimators=200, total=   0.4s\n",
      "[CV] bootstrap=True, max_depth=8, max_features=8, min_samples_leaf=6, min_samples_split=2, n_estimators=200 \n",
      "[CV]  bootstrap=True, max_depth=8, max_features=8, min_samples_leaf=6, min_samples_split=2, n_estimators=200, total=   0.3s\n",
      "[CV] bootstrap=True, max_depth=8, max_features=8, min_samples_leaf=6, min_samples_split=2, n_estimators=200 \n",
      "[CV]  bootstrap=True, max_depth=8, max_features=8, min_samples_leaf=6, min_samples_split=2, n_estimators=200, total=   0.4s\n",
      "[CV] bootstrap=True, max_depth=8, max_features=8, min_samples_leaf=6, min_samples_split=2, n_estimators=200 \n",
      "[CV]  bootstrap=True, max_depth=8, max_features=8, min_samples_leaf=6, min_samples_split=2, n_estimators=200, total=   0.3s\n",
      "[CV] bootstrap=True, max_depth=8, max_features=8, min_samples_leaf=6, min_samples_split=2, n_estimators=200 \n",
      "[CV]  bootstrap=True, max_depth=8, max_features=8, min_samples_leaf=6, min_samples_split=2, n_estimators=200, total=   0.3s\n",
      "[CV] bootstrap=True, max_depth=8, max_features=8, min_samples_leaf=6, min_samples_split=2, n_estimators=200 \n",
      "[CV]  bootstrap=True, max_depth=8, max_features=8, min_samples_leaf=6, min_samples_split=2, n_estimators=200, total=   0.4s\n",
      "[CV] bootstrap=True, max_depth=8, max_features=8, min_samples_leaf=6, min_samples_split=6, n_estimators=100 \n",
      "[CV]  bootstrap=True, max_depth=8, max_features=8, min_samples_leaf=6, min_samples_split=6, n_estimators=100, total=   0.2s\n",
      "[CV] bootstrap=True, max_depth=8, max_features=8, min_samples_leaf=6, min_samples_split=6, n_estimators=100 \n",
      "[CV]  bootstrap=True, max_depth=8, max_features=8, min_samples_leaf=6, min_samples_split=6, n_estimators=100, total=   0.2s\n",
      "[CV] bootstrap=True, max_depth=8, max_features=8, min_samples_leaf=6, min_samples_split=6, n_estimators=100 \n",
      "[CV]  bootstrap=True, max_depth=8, max_features=8, min_samples_leaf=6, min_samples_split=6, n_estimators=100, total=   0.2s\n",
      "[CV] bootstrap=True, max_depth=8, max_features=8, min_samples_leaf=6, min_samples_split=6, n_estimators=100 \n",
      "[CV]  bootstrap=True, max_depth=8, max_features=8, min_samples_leaf=6, min_samples_split=6, n_estimators=100, total=   0.2s\n",
      "[CV] bootstrap=True, max_depth=8, max_features=8, min_samples_leaf=6, min_samples_split=6, n_estimators=100 \n",
      "[CV]  bootstrap=True, max_depth=8, max_features=8, min_samples_leaf=6, min_samples_split=6, n_estimators=100, total=   0.2s\n",
      "[CV] bootstrap=True, max_depth=8, max_features=8, min_samples_leaf=6, min_samples_split=6, n_estimators=100 \n",
      "[CV]  bootstrap=True, max_depth=8, max_features=8, min_samples_leaf=6, min_samples_split=6, n_estimators=100, total=   0.2s\n",
      "[CV] bootstrap=True, max_depth=8, max_features=8, min_samples_leaf=6, min_samples_split=6, n_estimators=100 \n",
      "[CV]  bootstrap=True, max_depth=8, max_features=8, min_samples_leaf=6, min_samples_split=6, n_estimators=100, total=   0.2s\n",
      "[CV] bootstrap=True, max_depth=8, max_features=8, min_samples_leaf=6, min_samples_split=6, n_estimators=100 \n",
      "[CV]  bootstrap=True, max_depth=8, max_features=8, min_samples_leaf=6, min_samples_split=6, n_estimators=100, total=   0.1s\n",
      "[CV] bootstrap=True, max_depth=8, max_features=8, min_samples_leaf=6, min_samples_split=6, n_estimators=100 \n",
      "[CV]  bootstrap=True, max_depth=8, max_features=8, min_samples_leaf=6, min_samples_split=6, n_estimators=100, total=   0.2s\n",
      "[CV] bootstrap=True, max_depth=8, max_features=8, min_samples_leaf=6, min_samples_split=6, n_estimators=100 \n",
      "[CV]  bootstrap=True, max_depth=8, max_features=8, min_samples_leaf=6, min_samples_split=6, n_estimators=100, total=   0.2s\n",
      "[CV] bootstrap=True, max_depth=8, max_features=8, min_samples_leaf=6, min_samples_split=6, n_estimators=200 \n",
      "[CV]  bootstrap=True, max_depth=8, max_features=8, min_samples_leaf=6, min_samples_split=6, n_estimators=200, total=   0.3s\n",
      "[CV] bootstrap=True, max_depth=8, max_features=8, min_samples_leaf=6, min_samples_split=6, n_estimators=200 \n",
      "[CV]  bootstrap=True, max_depth=8, max_features=8, min_samples_leaf=6, min_samples_split=6, n_estimators=200, total=   0.4s\n",
      "[CV] bootstrap=True, max_depth=8, max_features=8, min_samples_leaf=6, min_samples_split=6, n_estimators=200 \n",
      "[CV]  bootstrap=True, max_depth=8, max_features=8, min_samples_leaf=6, min_samples_split=6, n_estimators=200, total=   0.3s\n",
      "[CV] bootstrap=True, max_depth=8, max_features=8, min_samples_leaf=6, min_samples_split=6, n_estimators=200 \n",
      "[CV]  bootstrap=True, max_depth=8, max_features=8, min_samples_leaf=6, min_samples_split=6, n_estimators=200, total=   0.3s\n",
      "[CV] bootstrap=True, max_depth=8, max_features=8, min_samples_leaf=6, min_samples_split=6, n_estimators=200 \n",
      "[CV]  bootstrap=True, max_depth=8, max_features=8, min_samples_leaf=6, min_samples_split=6, n_estimators=200, total=   0.3s\n",
      "[CV] bootstrap=True, max_depth=8, max_features=8, min_samples_leaf=6, min_samples_split=6, n_estimators=200 \n",
      "[CV]  bootstrap=True, max_depth=8, max_features=8, min_samples_leaf=6, min_samples_split=6, n_estimators=200, total=   0.4s\n",
      "[CV] bootstrap=True, max_depth=8, max_features=8, min_samples_leaf=6, min_samples_split=6, n_estimators=200 \n",
      "[CV]  bootstrap=True, max_depth=8, max_features=8, min_samples_leaf=6, min_samples_split=6, n_estimators=200, total=   0.3s\n",
      "[CV] bootstrap=True, max_depth=8, max_features=8, min_samples_leaf=6, min_samples_split=6, n_estimators=200 \n",
      "[CV]  bootstrap=True, max_depth=8, max_features=8, min_samples_leaf=6, min_samples_split=6, n_estimators=200, total=   0.3s\n",
      "[CV] bootstrap=True, max_depth=8, max_features=8, min_samples_leaf=6, min_samples_split=6, n_estimators=200 \n",
      "[CV]  bootstrap=True, max_depth=8, max_features=8, min_samples_leaf=6, min_samples_split=6, n_estimators=200, total=   0.3s\n",
      "[CV] bootstrap=True, max_depth=8, max_features=8, min_samples_leaf=6, min_samples_split=6, n_estimators=200 \n",
      "[CV]  bootstrap=True, max_depth=8, max_features=8, min_samples_leaf=6, min_samples_split=6, n_estimators=200, total=   0.3s\n"
     ]
    },
    {
     "name": "stderr",
     "output_type": "stream",
     "text": [
      "[Parallel(n_jobs=1)]: Done 320 out of 320 | elapsed:  1.7min finished\n"
     ]
    },
    {
     "data": {
      "text/plain": [
       "GridSearchCV(cv=10, error_score=nan,\n",
       "             estimator=RandomForestClassifier(bootstrap=True, ccp_alpha=0.0,\n",
       "                                              class_weight=None,\n",
       "                                              criterion='gini', max_depth=None,\n",
       "                                              max_features='auto',\n",
       "                                              max_leaf_nodes=None,\n",
       "                                              max_samples=None,\n",
       "                                              min_impurity_decrease=0.0,\n",
       "                                              min_impurity_split=None,\n",
       "                                              min_samples_leaf=1,\n",
       "                                              min_samples_split=2,\n",
       "                                              min_weight_fraction_leaf=0.0,\n",
       "                                              n_estimators=100, n_jobs=None,\n",
       "                                              oob_score=False,\n",
       "                                              random_state=None, verbose=0,\n",
       "                                              warm_start=False),\n",
       "             iid='deprecated', n_jobs=1,\n",
       "             param_grid={'bootstrap': [True], 'max_depth': [3, 8],\n",
       "                         'max_features': [2, 8], 'min_samples_leaf': [3, 6],\n",
       "                         'min_samples_split': [2, 6],\n",
       "                         'n_estimators': [100, 200]},\n",
       "             pre_dispatch='2*n_jobs', refit=True, return_train_score=False,\n",
       "             scoring=None, verbose=2)"
      ]
     },
     "execution_count": 30,
     "metadata": {},
     "output_type": "execute_result"
    }
   ],
   "source": [
    "param_grid = {\n",
    "    'bootstrap': [True],\n",
    "    'max_depth': [3, 8],\n",
    "    'max_features': [2, 8],\n",
    "    'min_samples_leaf': [3, 6],\n",
    "    'min_samples_split': [2, 6],\n",
    "    'n_estimators': [100, 200]\n",
    "}\n",
    "\n",
    "# Create a based model\n",
    "rf = RandomForestClassifier()\n",
    "# Instantiate the grid search model\n",
    "grid_search = GridSearchCV(estimator = rf, param_grid = param_grid, cv = 10, n_jobs = 1, verbose = 2)\n",
    "grid_search.fit(X_train, y_train)\n"
   ]
  },
  {
   "cell_type": "code",
   "execution_count": 31,
   "metadata": {},
   "outputs": [],
   "source": [
    "best_model = grid_search.best_estimator_"
   ]
  },
  {
   "cell_type": "code",
   "execution_count": 32,
   "metadata": {},
   "outputs": [
    {
     "name": "stdout",
     "output_type": "stream",
     "text": [
      "Accuracy: 76.55% (+/- 9.18%)\n"
     ]
    }
   ],
   "source": [
    "scores = cross_val_score(best_model, X_train, y_train, cv=10)\n",
    "print(\"Accuracy: %0.2f%% (+/- %0.2f%%)\" % (100*scores.mean(), 100*scores.std() * 2))"
   ]
  },
  {
   "cell_type": "code",
   "execution_count": 33,
   "metadata": {},
   "outputs": [
    {
     "data": {
      "text/plain": [
       "array([0.77419355, 0.67741935, 0.75806452, 0.85483871, 0.72131148,\n",
       "       0.80327869, 0.78688525, 0.75409836, 0.78688525, 0.73770492])"
      ]
     },
     "execution_count": 33,
     "metadata": {},
     "output_type": "execute_result"
    }
   ],
   "source": [
    "scores"
   ]
  },
  {
   "cell_type": "code",
   "execution_count": 34,
   "metadata": {},
   "outputs": [
    {
     "data": {
      "image/png": "[encoded data removed]",
      "text/plain": [
       "<Figure size 216x432 with 1 Axes>"
      ]
     },
     "metadata": {
      "needs_background": "light"
     },
     "output_type": "display_data"
    }
   ],
   "source": [
    "plt.figure(figsize=(3,6))\n",
    "sns.boxplot(data=scores)\n",
    "plt.show()"
   ]
  },
  {
   "cell_type": "code",
   "execution_count": 35,
   "metadata": {},
   "outputs": [],
   "source": [
    "model = best_model\n",
    "\n",
    "model.fit(X_train, y_train)\n",
    "y_train_pred = model.predict(X_train)\n",
    "prob_train_pred = model.predict_proba(X_train)\n",
    "\n",
    "y_test_pred = model.predict(X_test)\n",
    "prob_test_pred = model.predict_proba(X_test)"
   ]
  },
  {
   "cell_type": "code",
   "execution_count": 36,
   "metadata": {},
   "outputs": [
    {
     "name": "stdout",
     "output_type": "stream",
     "text": [
      "Model Evaluation of RF\n",
      "-----------------------------------------------------------\n",
      "Train set\n",
      "Accuracy:  0.9381107491856677\n",
      "ROC AUC Score:  0.9874065420560747\n",
      "Confusion matrix\n",
      "True         0    1\n",
      "Predicted          \n",
      "0          386   14\n",
      "1           24  190\n",
      "              precision    recall  f1-score   support\n",
      "\n",
      "           0       0.94      0.96      0.95       400\n",
      "           1       0.93      0.89      0.91       214\n",
      "\n",
      "    accuracy                           0.94       614\n",
      "   macro avg       0.94      0.93      0.93       614\n",
      "weighted avg       0.94      0.94      0.94       614\n",
      "\n",
      "-----------------------------------------------------------\n",
      "Test set\n",
      "Accuracy:  0.7727272727272727\n",
      "ROC AUC Score:  0.8640740740740742\n",
      "Confusion matrix\n",
      "True        0   1\n",
      "Predicted        \n",
      "0          87  13\n",
      "1          22  32\n",
      "              precision    recall  f1-score   support\n",
      "\n",
      "           0       0.80      0.87      0.83       100\n",
      "           1       0.71      0.59      0.65        54\n",
      "\n",
      "    accuracy                           0.77       154\n",
      "   macro avg       0.75      0.73      0.74       154\n",
      "weighted avg       0.77      0.77      0.77       154\n",
      "\n"
     ]
    }
   ],
   "source": [
    "ModelEvaluation(model,X_train,y_train,X_test,y_test,'RF')"
   ]
  },
  {
   "cell_type": "code",
   "execution_count": 37,
   "metadata": {},
   "outputs": [
    {
     "data": {
      "image/png": "[encoded data removed]",
      "text/plain": [
       "<Figure size 432x432 with 1 Axes>"
      ]
     },
     "metadata": {
      "needs_background": "light"
     },
     "output_type": "display_data"
    }
   ],
   "source": [
    "from sklearn.metrics import roc_curve\n",
    "\n",
    "fpr_train, tpr_train, threshold = roc_curve(y_train, prob_train_pred[:,1])\n",
    "fpr_test, tpr_test, threshold = roc_curve(y_test, prob_test_pred[:,1])\n",
    "\n",
    "plt.figure(figsize=(6,6))\n",
    "plt.title('ROC Curve Classifiers', fontsize=16)\n",
    "plt.plot(fpr_train, tpr_train, label= 'Train Score: {:.4f}'.format(roc_auc_score(y_train, prob_train_pred[:,1])))\n",
    "plt.plot(fpr_test, tpr_test, label= 'Test Score: {:.4f}'.format(roc_auc_score(y_test, prob_test_pred[:,1])))\n",
    "\n",
    "plt.plot([0, 1], [0, 1], 'k--')\n",
    "plt.axis([-0.01, 1, 0, 1])\n",
    "plt.xlabel('False Positive Rate', fontsize=16)\n",
    "plt.ylabel('True Positive Rate', fontsize=16)\n",
    "plt.annotate('Minimum ROC Score of 50% \\n (This is the minimum score to get)', xy=(0.5, 0.5), xytext=(0.6, 0.3),\n",
    "                arrowprops=dict(facecolor='#6E726D', shrink=0.05))\n",
    "plt.legend()\n",
    "        \n",
    "plt.show()\n"
   ]
  },
  {
   "cell_type": "code",
   "execution_count": null,
   "metadata": {},
   "outputs": [],
   "source": []
  },
  {
   "cell_type": "code",
   "execution_count": null,
   "metadata": {},
   "outputs": [],
   "source": []
  },
  {
   "cell_type": "code",
   "execution_count": null,
   "metadata": {},
   "outputs": [],
   "source": []
  },
  {
   "cell_type": "code",
   "execution_count": null,
   "metadata": {},
   "outputs": [],
   "source": []
  },
  {
   "cell_type": "code",
   "execution_count": null,
   "metadata": {},
   "outputs": [],
   "source": []
  },
  {
   "cell_type": "code",
   "execution_count": null,
   "metadata": {},
   "outputs": [],
   "source": []
  },
  {
   "cell_type": "code",
   "execution_count": null,
   "metadata": {},
   "outputs": [],
   "source": []
  },
  {
   "cell_type": "code",
   "execution_count": null,
   "metadata": {},
   "outputs": [],
   "source": []
  },
  {
   "cell_type": "code",
   "execution_count": null,
   "metadata": {},
   "outputs": [],
   "source": []
  },
  {
   "cell_type": "code",
   "execution_count": null,
   "metadata": {},
   "outputs": [],
   "source": []
  },
  {
   "cell_type": "code",
   "execution_count": null,
   "metadata": {},
   "outputs": [],
   "source": []
  },
  {
   "cell_type": "code",
   "execution_count": null,
   "metadata": {},
   "outputs": [],
   "source": []
  },
  {
   "cell_type": "code",
   "execution_count": null,
   "metadata": {},
   "outputs": [],
   "source": []
  },
  {
   "cell_type": "code",
   "execution_count": null,
   "metadata": {},
   "outputs": [],
   "source": []
  },
  {
   "cell_type": "code",
   "execution_count": null,
   "metadata": {},
   "outputs": [],
   "source": []
  },
  {
   "cell_type": "code",
   "execution_count": null,
   "metadata": {},
   "outputs": [],
   "source": []
  },
  {
   "cell_type": "code",
   "execution_count": null,
   "metadata": {},
   "outputs": [],
   "source": []
  },
  {
   "cell_type": "code",
   "execution_count": null,
   "metadata": {},
   "outputs": [],
   "source": []
  }
 ],
 "metadata": {
  "kernelspec": {
   "display_name": "Python 3",
   "language": "python",
   "name": "python3"
  },
  "language_info": {
   "codemirror_mode": {
    "name": "ipython",
    "version": 3
   },
   "file_extension": ".py",
   "mimetype": "text/x-python",
   "name": "python",
   "nbconvert_exporter": "python",
   "pygments_lexer": "ipython3",
   "version": "3.7.3"
  }
 },
 "nbformat": 4,
 "nbformat_minor": 2
}
