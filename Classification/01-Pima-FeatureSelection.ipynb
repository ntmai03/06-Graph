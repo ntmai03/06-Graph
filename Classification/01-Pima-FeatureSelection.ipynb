{
 "cells": [
  {
   "cell_type": "markdown",
   "metadata": {},
   "source": [
    "# Import package"
   ]
  },
  {
   "cell_type": "code",
   "execution_count": 1,
   "metadata": {},
   "outputs": [],
   "source": [
    "import warnings\n",
    "warnings.filterwarnings('ignore')\n",
    "\n",
    "import numpy as np\n",
    "import pandas as pd\n",
    "import matplotlib.pyplot as plt\n",
    "import seaborn as sns\n",
    "\n",
    "# plt.style.use('fivethirtyeight')\n",
    "sns.set(style = 'whitegrid',context = 'notebook')\n",
    "\n",
    "# generate classification report using predictions for categorical model\n",
    "from sklearn.metrics import classification_report, accuracy_score\n",
    "from sklearn import (metrics,  linear_model, preprocessing)\n",
    "from sklearn.metrics import confusion_matrix, roc_curve, roc_auc_score\n",
    "from sklearn.model_selection import train_test_split"
   ]
  },
  {
   "cell_type": "markdown",
   "metadata": {},
   "source": [
    "# Import data"
   ]
  },
  {
   "cell_type": "code",
   "execution_count": 2,
   "metadata": {},
   "outputs": [
    {
     "data": {
      "text/plain": [
       "(768, 9)"
      ]
     },
     "execution_count": 2,
     "metadata": {},
     "output_type": "execute_result"
    }
   ],
   "source": [
    "df = pd.read_csv(\"diabetes.csv\")\n",
    "df.shape"
   ]
  },
  {
   "cell_type": "code",
   "execution_count": 3,
   "metadata": {},
   "outputs": [],
   "source": [
    "original_df = df.copy()"
   ]
  },
  {
   "cell_type": "code",
   "execution_count": 4,
   "metadata": {},
   "outputs": [
    {
     "name": "stdout",
     "output_type": "stream",
     "text": [
      "Blood pressure:  35\n",
      "Plasma glucose levels:  5\n",
      "BMI:  11\n",
      "Insulin:  374\n",
      "Skin Fold Thickness:  227\n"
     ]
    }
   ],
   "source": [
    "# Blood pressure\n",
    "print('Blood pressure: ',df[df.BloodPressure==0].shape[0])\n",
    "# Plasma glucose levels\n",
    "print('Plasma glucose levels: ', df[df.Glucose == 0].shape[0])\n",
    "# BMI \n",
    "print('BMI: ',df[df.BMI == 0].shape[0])\n",
    "# Insulin\n",
    "print('Insulin: ',df[df.Insulin == 0].shape[0])\n",
    "# Skin Fold Thickness\n",
    "print('Skin Fold Thickness: ',df[df.SkinThickness == 0].shape[0])\n",
    "\n",
    "\n",
    "df = df[df.BloodPressure>0]\n",
    "df = df[df.Glucose>0]\n",
    "df = df[df.BMI>0]\n",
    "df = df[df.Insulin>0]\n",
    "df = df[df.SkinThickness>0]"
   ]
  },
  {
   "cell_type": "code",
   "execution_count": 5,
   "metadata": {},
   "outputs": [
    {
     "data": {
      "text/plain": [
       "(392, 9)"
      ]
     },
     "execution_count": 5,
     "metadata": {},
     "output_type": "execute_result"
    }
   ],
   "source": [
    "df.shape"
   ]
  },
  {
   "cell_type": "code",
   "execution_count": 6,
   "metadata": {},
   "outputs": [
    {
     "data": {
      "text/html": [
       "<div>\n",
       "<style scoped>\n",
       "    .dataframe tbody tr th:only-of-type {\n",
       "        vertical-align: middle;\n",
       "    }\n",
       "\n",
       "    .dataframe tbody tr th {\n",
       "        vertical-align: top;\n",
       "    }\n",
       "\n",
       "    .dataframe thead th {\n",
       "        text-align: right;\n",
       "    }\n",
       "</style>\n",
       "<table border=\"1\" class=\"dataframe\">\n",
       "  <thead>\n",
       "    <tr style=\"text-align: right;\">\n",
       "      <th></th>\n",
       "      <th>count</th>\n",
       "      <th>mean</th>\n",
       "      <th>std</th>\n",
       "      <th>min</th>\n",
       "      <th>25%</th>\n",
       "      <th>50%</th>\n",
       "      <th>75%</th>\n",
       "      <th>max</th>\n",
       "    </tr>\n",
       "  </thead>\n",
       "  <tbody>\n",
       "    <tr>\n",
       "      <th>Pregnancies</th>\n",
       "      <td>392.0</td>\n",
       "      <td>3.301020</td>\n",
       "      <td>3.211424</td>\n",
       "      <td>0.000</td>\n",
       "      <td>1.00000</td>\n",
       "      <td>2.0000</td>\n",
       "      <td>5.000</td>\n",
       "      <td>17.00</td>\n",
       "    </tr>\n",
       "    <tr>\n",
       "      <th>Glucose</th>\n",
       "      <td>392.0</td>\n",
       "      <td>122.627551</td>\n",
       "      <td>30.860781</td>\n",
       "      <td>56.000</td>\n",
       "      <td>99.00000</td>\n",
       "      <td>119.0000</td>\n",
       "      <td>143.000</td>\n",
       "      <td>198.00</td>\n",
       "    </tr>\n",
       "    <tr>\n",
       "      <th>BloodPressure</th>\n",
       "      <td>392.0</td>\n",
       "      <td>70.663265</td>\n",
       "      <td>12.496092</td>\n",
       "      <td>24.000</td>\n",
       "      <td>62.00000</td>\n",
       "      <td>70.0000</td>\n",
       "      <td>78.000</td>\n",
       "      <td>110.00</td>\n",
       "    </tr>\n",
       "    <tr>\n",
       "      <th>SkinThickness</th>\n",
       "      <td>392.0</td>\n",
       "      <td>29.145408</td>\n",
       "      <td>10.516424</td>\n",
       "      <td>7.000</td>\n",
       "      <td>21.00000</td>\n",
       "      <td>29.0000</td>\n",
       "      <td>37.000</td>\n",
       "      <td>63.00</td>\n",
       "    </tr>\n",
       "    <tr>\n",
       "      <th>Insulin</th>\n",
       "      <td>392.0</td>\n",
       "      <td>156.056122</td>\n",
       "      <td>118.841690</td>\n",
       "      <td>14.000</td>\n",
       "      <td>76.75000</td>\n",
       "      <td>125.5000</td>\n",
       "      <td>190.000</td>\n",
       "      <td>846.00</td>\n",
       "    </tr>\n",
       "    <tr>\n",
       "      <th>BMI</th>\n",
       "      <td>392.0</td>\n",
       "      <td>33.086224</td>\n",
       "      <td>7.027659</td>\n",
       "      <td>18.200</td>\n",
       "      <td>28.40000</td>\n",
       "      <td>33.2000</td>\n",
       "      <td>37.100</td>\n",
       "      <td>67.10</td>\n",
       "    </tr>\n",
       "    <tr>\n",
       "      <th>DiabetesPedigreeFunction</th>\n",
       "      <td>392.0</td>\n",
       "      <td>0.523046</td>\n",
       "      <td>0.345488</td>\n",
       "      <td>0.085</td>\n",
       "      <td>0.26975</td>\n",
       "      <td>0.4495</td>\n",
       "      <td>0.687</td>\n",
       "      <td>2.42</td>\n",
       "    </tr>\n",
       "    <tr>\n",
       "      <th>Age</th>\n",
       "      <td>392.0</td>\n",
       "      <td>30.864796</td>\n",
       "      <td>10.200777</td>\n",
       "      <td>21.000</td>\n",
       "      <td>23.00000</td>\n",
       "      <td>27.0000</td>\n",
       "      <td>36.000</td>\n",
       "      <td>81.00</td>\n",
       "    </tr>\n",
       "    <tr>\n",
       "      <th>Outcome</th>\n",
       "      <td>392.0</td>\n",
       "      <td>0.331633</td>\n",
       "      <td>0.471401</td>\n",
       "      <td>0.000</td>\n",
       "      <td>0.00000</td>\n",
       "      <td>0.0000</td>\n",
       "      <td>1.000</td>\n",
       "      <td>1.00</td>\n",
       "    </tr>\n",
       "  </tbody>\n",
       "</table>\n",
       "</div>"
      ],
      "text/plain": [
       "                          count        mean         std     min       25%  \\\n",
       "Pregnancies               392.0    3.301020    3.211424   0.000   1.00000   \n",
       "Glucose                   392.0  122.627551   30.860781  56.000  99.00000   \n",
       "BloodPressure             392.0   70.663265   12.496092  24.000  62.00000   \n",
       "SkinThickness             392.0   29.145408   10.516424   7.000  21.00000   \n",
       "Insulin                   392.0  156.056122  118.841690  14.000  76.75000   \n",
       "BMI                       392.0   33.086224    7.027659  18.200  28.40000   \n",
       "DiabetesPedigreeFunction  392.0    0.523046    0.345488   0.085   0.26975   \n",
       "Age                       392.0   30.864796   10.200777  21.000  23.00000   \n",
       "Outcome                   392.0    0.331633    0.471401   0.000   0.00000   \n",
       "\n",
       "                               50%      75%     max  \n",
       "Pregnancies                 2.0000    5.000   17.00  \n",
       "Glucose                   119.0000  143.000  198.00  \n",
       "BloodPressure              70.0000   78.000  110.00  \n",
       "SkinThickness              29.0000   37.000   63.00  \n",
       "Insulin                   125.5000  190.000  846.00  \n",
       "BMI                        33.2000   37.100   67.10  \n",
       "DiabetesPedigreeFunction    0.4495    0.687    2.42  \n",
       "Age                        27.0000   36.000   81.00  \n",
       "Outcome                     0.0000    1.000    1.00  "
      ]
     },
     "execution_count": 6,
     "metadata": {},
     "output_type": "execute_result"
    }
   ],
   "source": [
    "df[['Glucose','BloodPressure','SkinThickness','Insulin','BMI']] = df[['Glucose','BloodPressure','SkinThickness','Insulin','BMI']].replace(0,np.NaN)\n",
    "df = df.fillna(df.mean())\n",
    "df.describe().T"
   ]
  },
  {
   "cell_type": "code",
   "execution_count": null,
   "metadata": {},
   "outputs": [],
   "source": []
  },
  {
   "cell_type": "markdown",
   "metadata": {},
   "source": [
    "## Numerical variables"
   ]
  },
  {
   "cell_type": "markdown",
   "metadata": {},
   "source": [
    "#### Create a sub-dataframe to store all numeric variables"
   ]
  },
  {
   "cell_type": "code",
   "execution_count": 8,
   "metadata": {},
   "outputs": [
    {
     "name": "stdout",
     "output_type": "stream",
     "text": [
      "Num of numerical variables 8\n",
      "['Pregnancies', 'Glucose', 'BloodPressure', 'SkinThickness', 'Insulin', 'BMI', 'DiabetesPedigreeFunction', 'Age']\n",
      "(392, 8)\n"
     ]
    },
    {
     "data": {
      "text/html": [
       "<div>\n",
       "<style scoped>\n",
       "    .dataframe tbody tr th:only-of-type {\n",
       "        vertical-align: middle;\n",
       "    }\n",
       "\n",
       "    .dataframe tbody tr th {\n",
       "        vertical-align: top;\n",
       "    }\n",
       "\n",
       "    .dataframe thead th {\n",
       "        text-align: right;\n",
       "    }\n",
       "</style>\n",
       "<table border=\"1\" class=\"dataframe\">\n",
       "  <thead>\n",
       "    <tr style=\"text-align: right;\">\n",
       "      <th></th>\n",
       "      <th>Pregnancies</th>\n",
       "      <th>Glucose</th>\n",
       "      <th>BloodPressure</th>\n",
       "      <th>SkinThickness</th>\n",
       "      <th>Insulin</th>\n",
       "      <th>BMI</th>\n",
       "      <th>DiabetesPedigreeFunction</th>\n",
       "      <th>Age</th>\n",
       "    </tr>\n",
       "  </thead>\n",
       "  <tbody>\n",
       "    <tr>\n",
       "      <th>3</th>\n",
       "      <td>1</td>\n",
       "      <td>89</td>\n",
       "      <td>66</td>\n",
       "      <td>23</td>\n",
       "      <td>94</td>\n",
       "      <td>28.1</td>\n",
       "      <td>0.167</td>\n",
       "      <td>21</td>\n",
       "    </tr>\n",
       "    <tr>\n",
       "      <th>4</th>\n",
       "      <td>0</td>\n",
       "      <td>137</td>\n",
       "      <td>40</td>\n",
       "      <td>35</td>\n",
       "      <td>168</td>\n",
       "      <td>43.1</td>\n",
       "      <td>2.288</td>\n",
       "      <td>33</td>\n",
       "    </tr>\n",
       "    <tr>\n",
       "      <th>6</th>\n",
       "      <td>3</td>\n",
       "      <td>78</td>\n",
       "      <td>50</td>\n",
       "      <td>32</td>\n",
       "      <td>88</td>\n",
       "      <td>31.0</td>\n",
       "      <td>0.248</td>\n",
       "      <td>26</td>\n",
       "    </tr>\n",
       "    <tr>\n",
       "      <th>8</th>\n",
       "      <td>2</td>\n",
       "      <td>197</td>\n",
       "      <td>70</td>\n",
       "      <td>45</td>\n",
       "      <td>543</td>\n",
       "      <td>30.5</td>\n",
       "      <td>0.158</td>\n",
       "      <td>53</td>\n",
       "    </tr>\n",
       "    <tr>\n",
       "      <th>13</th>\n",
       "      <td>1</td>\n",
       "      <td>189</td>\n",
       "      <td>60</td>\n",
       "      <td>23</td>\n",
       "      <td>846</td>\n",
       "      <td>30.1</td>\n",
       "      <td>0.398</td>\n",
       "      <td>59</td>\n",
       "    </tr>\n",
       "  </tbody>\n",
       "</table>\n",
       "</div>"
      ],
      "text/plain": [
       "    Pregnancies  Glucose  BloodPressure  SkinThickness  Insulin   BMI  \\\n",
       "3             1       89             66             23       94  28.1   \n",
       "4             0      137             40             35      168  43.1   \n",
       "6             3       78             50             32       88  31.0   \n",
       "8             2      197             70             45      543  30.5   \n",
       "13            1      189             60             23      846  30.1   \n",
       "\n",
       "    DiabetesPedigreeFunction  Age  \n",
       "3                      0.167   21  \n",
       "4                      2.288   33  \n",
       "6                      0.248   26  \n",
       "8                      0.158   53  \n",
       "13                     0.398   59  "
      ]
     },
     "execution_count": 8,
     "metadata": {},
     "output_type": "execute_result"
    }
   ],
   "source": [
    "target_var = 'Outcome'\n",
    "num_vars = [var for var in df.columns if df[var].dtypes != 'O' and var != target_var]\n",
    "print('Num of numerical variables',len(num_vars))\n",
    "numdf = df[num_vars]\n",
    "print(num_vars)\n",
    "print(numdf.shape)\n",
    "numdf.head()"
   ]
  },
  {
   "cell_type": "markdown",
   "metadata": {},
   "source": [
    "#### Scaling dataset"
   ]
  },
  {
   "cell_type": "code",
   "execution_count": 9,
   "metadata": {},
   "outputs": [
    {
     "data": {
      "text/html": [
       "<div>\n",
       "<style scoped>\n",
       "    .dataframe tbody tr th:only-of-type {\n",
       "        vertical-align: middle;\n",
       "    }\n",
       "\n",
       "    .dataframe tbody tr th {\n",
       "        vertical-align: top;\n",
       "    }\n",
       "\n",
       "    .dataframe thead th {\n",
       "        text-align: right;\n",
       "    }\n",
       "</style>\n",
       "<table border=\"1\" class=\"dataframe\">\n",
       "  <thead>\n",
       "    <tr style=\"text-align: right;\">\n",
       "      <th></th>\n",
       "      <th>Pregnancies</th>\n",
       "      <th>Glucose</th>\n",
       "      <th>BloodPressure</th>\n",
       "      <th>SkinThickness</th>\n",
       "      <th>Insulin</th>\n",
       "      <th>BMI</th>\n",
       "      <th>DiabetesPedigreeFunction</th>\n",
       "      <th>Age</th>\n",
       "    </tr>\n",
       "  </thead>\n",
       "  <tbody>\n",
       "    <tr>\n",
       "      <th>0</th>\n",
       "      <td>-0.717427</td>\n",
       "      <td>-1.091046</td>\n",
       "      <td>-0.373655</td>\n",
       "      <td>-0.585110</td>\n",
       "      <td>-0.522842</td>\n",
       "      <td>-0.710421</td>\n",
       "      <td>-1.031876</td>\n",
       "      <td>-0.968299</td>\n",
       "    </tr>\n",
       "    <tr>\n",
       "      <th>1</th>\n",
       "      <td>-1.029213</td>\n",
       "      <td>0.466314</td>\n",
       "      <td>-2.456964</td>\n",
       "      <td>0.557421</td>\n",
       "      <td>0.100631</td>\n",
       "      <td>1.426730</td>\n",
       "      <td>5.115111</td>\n",
       "      <td>0.209585</td>\n",
       "    </tr>\n",
       "    <tr>\n",
       "      <th>2</th>\n",
       "      <td>-0.093854</td>\n",
       "      <td>-1.447941</td>\n",
       "      <td>-1.655691</td>\n",
       "      <td>0.271788</td>\n",
       "      <td>-0.573394</td>\n",
       "      <td>-0.297238</td>\n",
       "      <td>-0.797126</td>\n",
       "      <td>-0.477514</td>\n",
       "    </tr>\n",
       "    <tr>\n",
       "      <th>3</th>\n",
       "      <td>-0.405640</td>\n",
       "      <td>2.413014</td>\n",
       "      <td>-0.053146</td>\n",
       "      <td>1.509530</td>\n",
       "      <td>3.260122</td>\n",
       "      <td>-0.368477</td>\n",
       "      <td>-1.057960</td>\n",
       "      <td>2.172726</td>\n",
       "    </tr>\n",
       "    <tr>\n",
       "      <th>4</th>\n",
       "      <td>-0.717427</td>\n",
       "      <td>2.153454</td>\n",
       "      <td>-0.854419</td>\n",
       "      <td>-0.585110</td>\n",
       "      <td>5.812990</td>\n",
       "      <td>-0.425468</td>\n",
       "      <td>-0.362402</td>\n",
       "      <td>2.761668</td>\n",
       "    </tr>\n",
       "  </tbody>\n",
       "</table>\n",
       "</div>"
      ],
      "text/plain": [
       "   Pregnancies   Glucose  BloodPressure  SkinThickness   Insulin       BMI  \\\n",
       "0    -0.717427 -1.091046      -0.373655      -0.585110 -0.522842 -0.710421   \n",
       "1    -1.029213  0.466314      -2.456964       0.557421  0.100631  1.426730   \n",
       "2    -0.093854 -1.447941      -1.655691       0.271788 -0.573394 -0.297238   \n",
       "3    -0.405640  2.413014      -0.053146       1.509530  3.260122 -0.368477   \n",
       "4    -0.717427  2.153454      -0.854419      -0.585110  5.812990 -0.425468   \n",
       "\n",
       "   DiabetesPedigreeFunction       Age  \n",
       "0                 -1.031876 -0.968299  \n",
       "1                  5.115111  0.209585  \n",
       "2                 -0.797126 -0.477514  \n",
       "3                 -1.057960  2.172726  \n",
       "4                 -0.362402  2.761668  "
      ]
     },
     "execution_count": 9,
     "metadata": {},
     "output_type": "execute_result"
    }
   ],
   "source": [
    "from sklearn.preprocessing import StandardScaler\n",
    "numdf_norm = pd.DataFrame(StandardScaler().fit_transform(numdf))\n",
    "numdf_norm.columns = numdf.columns\n",
    "numdf_norm.head()"
   ]
  },
  {
   "cell_type": "code",
   "execution_count": 10,
   "metadata": {},
   "outputs": [
    {
     "data": {
      "text/html": [
       "<div>\n",
       "<style scoped>\n",
       "    .dataframe tbody tr th:only-of-type {\n",
       "        vertical-align: middle;\n",
       "    }\n",
       "\n",
       "    .dataframe tbody tr th {\n",
       "        vertical-align: top;\n",
       "    }\n",
       "\n",
       "    .dataframe thead th {\n",
       "        text-align: right;\n",
       "    }\n",
       "</style>\n",
       "<table border=\"1\" class=\"dataframe\">\n",
       "  <thead>\n",
       "    <tr style=\"text-align: right;\">\n",
       "      <th></th>\n",
       "      <th>Pregnancies</th>\n",
       "      <th>Glucose</th>\n",
       "      <th>BloodPressure</th>\n",
       "      <th>SkinThickness</th>\n",
       "      <th>Insulin</th>\n",
       "      <th>BMI</th>\n",
       "      <th>DiabetesPedigreeFunction</th>\n",
       "      <th>Age</th>\n",
       "    </tr>\n",
       "  </thead>\n",
       "  <tbody>\n",
       "    <tr>\n",
       "      <th>count</th>\n",
       "      <td>3.920000e+02</td>\n",
       "      <td>3.920000e+02</td>\n",
       "      <td>3.920000e+02</td>\n",
       "      <td>3.920000e+02</td>\n",
       "      <td>3.920000e+02</td>\n",
       "      <td>3.920000e+02</td>\n",
       "      <td>3.920000e+02</td>\n",
       "      <td>3.920000e+02</td>\n",
       "    </tr>\n",
       "    <tr>\n",
       "      <th>mean</th>\n",
       "      <td>-4.021726e-17</td>\n",
       "      <td>3.129583e-17</td>\n",
       "      <td>-4.641624e-16</td>\n",
       "      <td>1.042250e-16</td>\n",
       "      <td>6.485742e-17</td>\n",
       "      <td>1.543550e-16</td>\n",
       "      <td>3.880116e-17</td>\n",
       "      <td>1.028089e-16</td>\n",
       "    </tr>\n",
       "    <tr>\n",
       "      <th>std</th>\n",
       "      <td>1.001278e+00</td>\n",
       "      <td>1.001278e+00</td>\n",
       "      <td>1.001278e+00</td>\n",
       "      <td>1.001278e+00</td>\n",
       "      <td>1.001278e+00</td>\n",
       "      <td>1.001278e+00</td>\n",
       "      <td>1.001278e+00</td>\n",
       "      <td>1.001278e+00</td>\n",
       "    </tr>\n",
       "    <tr>\n",
       "      <th>min</th>\n",
       "      <td>-1.029213e+00</td>\n",
       "      <td>-2.161731e+00</td>\n",
       "      <td>-3.739001e+00</td>\n",
       "      <td>-2.108484e+00</td>\n",
       "      <td>-1.196867e+00</td>\n",
       "      <td>-2.120941e+00</td>\n",
       "      <td>-1.269525e+00</td>\n",
       "      <td>-9.682991e-01</td>\n",
       "    </tr>\n",
       "    <tr>\n",
       "      <th>25%</th>\n",
       "      <td>-7.174265e-01</td>\n",
       "      <td>-7.665958e-01</td>\n",
       "      <td>-6.941640e-01</td>\n",
       "      <td>-7.755315e-01</td>\n",
       "      <td>-6.681786e-01</td>\n",
       "      <td>-6.676780e-01</td>\n",
       "      <td>-7.340909e-01</td>\n",
       "      <td>-7.719850e-01</td>\n",
       "    </tr>\n",
       "    <tr>\n",
       "      <th>50%</th>\n",
       "      <td>-4.056403e-01</td>\n",
       "      <td>-1.176959e-01</td>\n",
       "      <td>-5.314565e-02</td>\n",
       "      <td>-1.384444e-02</td>\n",
       "      <td>-2.574448e-01</td>\n",
       "      <td>1.621036e-02</td>\n",
       "      <td>-2.131475e-01</td>\n",
       "      <td>-3.793569e-01</td>\n",
       "    </tr>\n",
       "    <tr>\n",
       "      <th>75%</th>\n",
       "      <td>5.297185e-01</td>\n",
       "      <td>6.609841e-01</td>\n",
       "      <td>5.878727e-01</td>\n",
       "      <td>7.478426e-01</td>\n",
       "      <td>2.859877e-01</td>\n",
       "      <td>5.718696e-01</td>\n",
       "      <td>4.751644e-01</td>\n",
       "      <td>5.040564e-01</td>\n",
       "    </tr>\n",
       "    <tr>\n",
       "      <th>max</th>\n",
       "      <td>4.271153e+00</td>\n",
       "      <td>2.445459e+00</td>\n",
       "      <td>3.151946e+00</td>\n",
       "      <td>3.223325e+00</td>\n",
       "      <td>5.812990e+00</td>\n",
       "      <td>4.846172e+00</td>\n",
       "      <td>5.497667e+00</td>\n",
       "      <td>4.921123e+00</td>\n",
       "    </tr>\n",
       "  </tbody>\n",
       "</table>\n",
       "</div>"
      ],
      "text/plain": [
       "        Pregnancies       Glucose  BloodPressure  SkinThickness       Insulin  \\\n",
       "count  3.920000e+02  3.920000e+02   3.920000e+02   3.920000e+02  3.920000e+02   \n",
       "mean  -4.021726e-17  3.129583e-17  -4.641624e-16   1.042250e-16  6.485742e-17   \n",
       "std    1.001278e+00  1.001278e+00   1.001278e+00   1.001278e+00  1.001278e+00   \n",
       "min   -1.029213e+00 -2.161731e+00  -3.739001e+00  -2.108484e+00 -1.196867e+00   \n",
       "25%   -7.174265e-01 -7.665958e-01  -6.941640e-01  -7.755315e-01 -6.681786e-01   \n",
       "50%   -4.056403e-01 -1.176959e-01  -5.314565e-02  -1.384444e-02 -2.574448e-01   \n",
       "75%    5.297185e-01  6.609841e-01   5.878727e-01   7.478426e-01  2.859877e-01   \n",
       "max    4.271153e+00  2.445459e+00   3.151946e+00   3.223325e+00  5.812990e+00   \n",
       "\n",
       "                BMI  DiabetesPedigreeFunction           Age  \n",
       "count  3.920000e+02              3.920000e+02  3.920000e+02  \n",
       "mean   1.543550e-16              3.880116e-17  1.028089e-16  \n",
       "std    1.001278e+00              1.001278e+00  1.001278e+00  \n",
       "min   -2.120941e+00             -1.269525e+00 -9.682991e-01  \n",
       "25%   -6.676780e-01             -7.340909e-01 -7.719850e-01  \n",
       "50%    1.621036e-02             -2.131475e-01 -3.793569e-01  \n",
       "75%    5.718696e-01              4.751644e-01  5.040564e-01  \n",
       "max    4.846172e+00              5.497667e+00  4.921123e+00  "
      ]
     },
     "execution_count": 10,
     "metadata": {},
     "output_type": "execute_result"
    }
   ],
   "source": [
    "numdf_norm.describe()"
   ]
  },
  {
   "cell_type": "code",
   "execution_count": 11,
   "metadata": {},
   "outputs": [
    {
     "data": {
      "text/html": [
       "<div>\n",
       "<style scoped>\n",
       "    .dataframe tbody tr th:only-of-type {\n",
       "        vertical-align: middle;\n",
       "    }\n",
       "\n",
       "    .dataframe tbody tr th {\n",
       "        vertical-align: top;\n",
       "    }\n",
       "\n",
       "    .dataframe thead th {\n",
       "        text-align: right;\n",
       "    }\n",
       "</style>\n",
       "<table border=\"1\" class=\"dataframe\">\n",
       "  <thead>\n",
       "    <tr style=\"text-align: right;\">\n",
       "      <th></th>\n",
       "      <th>Pregnancies</th>\n",
       "      <th>Glucose</th>\n",
       "      <th>BloodPressure</th>\n",
       "      <th>SkinThickness</th>\n",
       "      <th>Insulin</th>\n",
       "      <th>BMI</th>\n",
       "      <th>DiabetesPedigreeFunction</th>\n",
       "      <th>Age</th>\n",
       "    </tr>\n",
       "  </thead>\n",
       "  <tbody>\n",
       "    <tr>\n",
       "      <th>0</th>\n",
       "      <td>0.058824</td>\n",
       "      <td>0.232394</td>\n",
       "      <td>0.488372</td>\n",
       "      <td>0.285714</td>\n",
       "      <td>0.096154</td>\n",
       "      <td>0.202454</td>\n",
       "      <td>0.035118</td>\n",
       "      <td>0.000000</td>\n",
       "    </tr>\n",
       "    <tr>\n",
       "      <th>1</th>\n",
       "      <td>0.000000</td>\n",
       "      <td>0.570423</td>\n",
       "      <td>0.186047</td>\n",
       "      <td>0.500000</td>\n",
       "      <td>0.185096</td>\n",
       "      <td>0.509202</td>\n",
       "      <td>0.943469</td>\n",
       "      <td>0.200000</td>\n",
       "    </tr>\n",
       "    <tr>\n",
       "      <th>2</th>\n",
       "      <td>0.176471</td>\n",
       "      <td>0.154930</td>\n",
       "      <td>0.302326</td>\n",
       "      <td>0.446429</td>\n",
       "      <td>0.088942</td>\n",
       "      <td>0.261759</td>\n",
       "      <td>0.069807</td>\n",
       "      <td>0.083333</td>\n",
       "    </tr>\n",
       "    <tr>\n",
       "      <th>3</th>\n",
       "      <td>0.117647</td>\n",
       "      <td>0.992958</td>\n",
       "      <td>0.534884</td>\n",
       "      <td>0.678571</td>\n",
       "      <td>0.635817</td>\n",
       "      <td>0.251534</td>\n",
       "      <td>0.031263</td>\n",
       "      <td>0.533333</td>\n",
       "    </tr>\n",
       "    <tr>\n",
       "      <th>4</th>\n",
       "      <td>0.058824</td>\n",
       "      <td>0.936620</td>\n",
       "      <td>0.418605</td>\n",
       "      <td>0.285714</td>\n",
       "      <td>1.000000</td>\n",
       "      <td>0.243354</td>\n",
       "      <td>0.134047</td>\n",
       "      <td>0.633333</td>\n",
       "    </tr>\n",
       "  </tbody>\n",
       "</table>\n",
       "</div>"
      ],
      "text/plain": [
       "   Pregnancies   Glucose  BloodPressure  SkinThickness   Insulin       BMI  \\\n",
       "0     0.058824  0.232394       0.488372       0.285714  0.096154  0.202454   \n",
       "1     0.000000  0.570423       0.186047       0.500000  0.185096  0.509202   \n",
       "2     0.176471  0.154930       0.302326       0.446429  0.088942  0.261759   \n",
       "3     0.117647  0.992958       0.534884       0.678571  0.635817  0.251534   \n",
       "4     0.058824  0.936620       0.418605       0.285714  1.000000  0.243354   \n",
       "\n",
       "   DiabetesPedigreeFunction       Age  \n",
       "0                  0.035118  0.000000  \n",
       "1                  0.943469  0.200000  \n",
       "2                  0.069807  0.083333  \n",
       "3                  0.031263  0.533333  \n",
       "4                  0.134047  0.633333  "
      ]
     },
     "execution_count": 11,
     "metadata": {},
     "output_type": "execute_result"
    }
   ],
   "source": [
    "from sklearn.preprocessing import MinMaxScaler\n",
    "numdf_norm = pd.DataFrame(MinMaxScaler().fit_transform(numdf))\n",
    "numdf_norm.columns = numdf.columns\n",
    "numdf_norm.head()"
   ]
  },
  {
   "cell_type": "code",
   "execution_count": 12,
   "metadata": {},
   "outputs": [
    {
     "data": {
      "text/html": [
       "<div>\n",
       "<style scoped>\n",
       "    .dataframe tbody tr th:only-of-type {\n",
       "        vertical-align: middle;\n",
       "    }\n",
       "\n",
       "    .dataframe tbody tr th {\n",
       "        vertical-align: top;\n",
       "    }\n",
       "\n",
       "    .dataframe thead th {\n",
       "        text-align: right;\n",
       "    }\n",
       "</style>\n",
       "<table border=\"1\" class=\"dataframe\">\n",
       "  <thead>\n",
       "    <tr style=\"text-align: right;\">\n",
       "      <th></th>\n",
       "      <th>Pregnancies</th>\n",
       "      <th>Glucose</th>\n",
       "      <th>BloodPressure</th>\n",
       "      <th>SkinThickness</th>\n",
       "      <th>Insulin</th>\n",
       "      <th>BMI</th>\n",
       "      <th>DiabetesPedigreeFunction</th>\n",
       "      <th>Age</th>\n",
       "    </tr>\n",
       "  </thead>\n",
       "  <tbody>\n",
       "    <tr>\n",
       "      <th>count</th>\n",
       "      <td>392.000000</td>\n",
       "      <td>392.000000</td>\n",
       "      <td>392.000000</td>\n",
       "      <td>392.000000</td>\n",
       "      <td>392.000000</td>\n",
       "      <td>392.000000</td>\n",
       "      <td>392.000000</td>\n",
       "      <td>392.000000</td>\n",
       "    </tr>\n",
       "    <tr>\n",
       "      <th>mean</th>\n",
       "      <td>0.194178</td>\n",
       "      <td>0.469208</td>\n",
       "      <td>0.542596</td>\n",
       "      <td>0.395454</td>\n",
       "      <td>0.170741</td>\n",
       "      <td>0.304422</td>\n",
       "      <td>0.187600</td>\n",
       "      <td>0.164413</td>\n",
       "    </tr>\n",
       "    <tr>\n",
       "      <th>std</th>\n",
       "      <td>0.188907</td>\n",
       "      <td>0.217329</td>\n",
       "      <td>0.145303</td>\n",
       "      <td>0.187793</td>\n",
       "      <td>0.142839</td>\n",
       "      <td>0.143715</td>\n",
       "      <td>0.147961</td>\n",
       "      <td>0.170013</td>\n",
       "    </tr>\n",
       "    <tr>\n",
       "      <th>min</th>\n",
       "      <td>0.000000</td>\n",
       "      <td>0.000000</td>\n",
       "      <td>0.000000</td>\n",
       "      <td>0.000000</td>\n",
       "      <td>0.000000</td>\n",
       "      <td>0.000000</td>\n",
       "      <td>0.000000</td>\n",
       "      <td>0.000000</td>\n",
       "    </tr>\n",
       "    <tr>\n",
       "      <th>25%</th>\n",
       "      <td>0.058824</td>\n",
       "      <td>0.302817</td>\n",
       "      <td>0.441860</td>\n",
       "      <td>0.250000</td>\n",
       "      <td>0.075421</td>\n",
       "      <td>0.208589</td>\n",
       "      <td>0.079122</td>\n",
       "      <td>0.033333</td>\n",
       "    </tr>\n",
       "    <tr>\n",
       "      <th>50%</th>\n",
       "      <td>0.117647</td>\n",
       "      <td>0.443662</td>\n",
       "      <td>0.534884</td>\n",
       "      <td>0.392857</td>\n",
       "      <td>0.134014</td>\n",
       "      <td>0.306748</td>\n",
       "      <td>0.156103</td>\n",
       "      <td>0.100000</td>\n",
       "    </tr>\n",
       "    <tr>\n",
       "      <th>75%</th>\n",
       "      <td>0.294118</td>\n",
       "      <td>0.612676</td>\n",
       "      <td>0.627907</td>\n",
       "      <td>0.535714</td>\n",
       "      <td>0.211538</td>\n",
       "      <td>0.386503</td>\n",
       "      <td>0.257816</td>\n",
       "      <td>0.250000</td>\n",
       "    </tr>\n",
       "    <tr>\n",
       "      <th>max</th>\n",
       "      <td>1.000000</td>\n",
       "      <td>1.000000</td>\n",
       "      <td>1.000000</td>\n",
       "      <td>1.000000</td>\n",
       "      <td>1.000000</td>\n",
       "      <td>1.000000</td>\n",
       "      <td>1.000000</td>\n",
       "      <td>1.000000</td>\n",
       "    </tr>\n",
       "  </tbody>\n",
       "</table>\n",
       "</div>"
      ],
      "text/plain": [
       "       Pregnancies     Glucose  BloodPressure  SkinThickness     Insulin  \\\n",
       "count   392.000000  392.000000     392.000000     392.000000  392.000000   \n",
       "mean      0.194178    0.469208       0.542596       0.395454    0.170741   \n",
       "std       0.188907    0.217329       0.145303       0.187793    0.142839   \n",
       "min       0.000000    0.000000       0.000000       0.000000    0.000000   \n",
       "25%       0.058824    0.302817       0.441860       0.250000    0.075421   \n",
       "50%       0.117647    0.443662       0.534884       0.392857    0.134014   \n",
       "75%       0.294118    0.612676       0.627907       0.535714    0.211538   \n",
       "max       1.000000    1.000000       1.000000       1.000000    1.000000   \n",
       "\n",
       "              BMI  DiabetesPedigreeFunction         Age  \n",
       "count  392.000000                392.000000  392.000000  \n",
       "mean     0.304422                  0.187600    0.164413  \n",
       "std      0.143715                  0.147961    0.170013  \n",
       "min      0.000000                  0.000000    0.000000  \n",
       "25%      0.208589                  0.079122    0.033333  \n",
       "50%      0.306748                  0.156103    0.100000  \n",
       "75%      0.386503                  0.257816    0.250000  \n",
       "max      1.000000                  1.000000    1.000000  "
      ]
     },
     "execution_count": 12,
     "metadata": {},
     "output_type": "execute_result"
    }
   ],
   "source": [
    "numdf_norm.describe()"
   ]
  },
  {
   "cell_type": "markdown",
   "metadata": {},
   "source": [
    "## Combine all predictors (numeric ones and dummy variables generated above)"
   ]
  },
  {
   "cell_type": "code",
   "execution_count": 14,
   "metadata": {},
   "outputs": [
    {
     "name": "stdout",
     "output_type": "stream",
     "text": [
      "(392, 8)\n",
      "(392,)\n"
     ]
    }
   ],
   "source": [
    "X = numdf_norm\n",
    "print (X.shape)\n",
    "y = df['Outcome']\n",
    "print (y.shape)"
   ]
  },
  {
   "cell_type": "code",
   "execution_count": 142,
   "metadata": {},
   "outputs": [
    {
     "data": {
      "text/html": [
       "<div>\n",
       "<style scoped>\n",
       "    .dataframe tbody tr th:only-of-type {\n",
       "        vertical-align: middle;\n",
       "    }\n",
       "\n",
       "    .dataframe tbody tr th {\n",
       "        vertical-align: top;\n",
       "    }\n",
       "\n",
       "    .dataframe thead th {\n",
       "        text-align: right;\n",
       "    }\n",
       "</style>\n",
       "<table border=\"1\" class=\"dataframe\">\n",
       "  <thead>\n",
       "    <tr style=\"text-align: right;\">\n",
       "      <th></th>\n",
       "      <th>Pregnancies</th>\n",
       "      <th>Glucose</th>\n",
       "      <th>BloodPressure</th>\n",
       "      <th>SkinThickness</th>\n",
       "      <th>Insulin</th>\n",
       "      <th>BMI</th>\n",
       "      <th>DiabetesPedigreeFunction</th>\n",
       "      <th>Age</th>\n",
       "    </tr>\n",
       "  </thead>\n",
       "  <tbody>\n",
       "    <tr>\n",
       "      <td>0</td>\n",
       "      <td>0.058824</td>\n",
       "      <td>0.232394</td>\n",
       "      <td>0.488372</td>\n",
       "      <td>0.285714</td>\n",
       "      <td>0.096154</td>\n",
       "      <td>0.202454</td>\n",
       "      <td>0.035118</td>\n",
       "      <td>0.000000</td>\n",
       "    </tr>\n",
       "    <tr>\n",
       "      <td>1</td>\n",
       "      <td>0.000000</td>\n",
       "      <td>0.570423</td>\n",
       "      <td>0.186047</td>\n",
       "      <td>0.500000</td>\n",
       "      <td>0.185096</td>\n",
       "      <td>0.509202</td>\n",
       "      <td>0.943469</td>\n",
       "      <td>0.200000</td>\n",
       "    </tr>\n",
       "    <tr>\n",
       "      <td>2</td>\n",
       "      <td>0.176471</td>\n",
       "      <td>0.154930</td>\n",
       "      <td>0.302326</td>\n",
       "      <td>0.446429</td>\n",
       "      <td>0.088942</td>\n",
       "      <td>0.261759</td>\n",
       "      <td>0.069807</td>\n",
       "      <td>0.083333</td>\n",
       "    </tr>\n",
       "    <tr>\n",
       "      <td>3</td>\n",
       "      <td>0.117647</td>\n",
       "      <td>0.992958</td>\n",
       "      <td>0.534884</td>\n",
       "      <td>0.678571</td>\n",
       "      <td>0.635817</td>\n",
       "      <td>0.251534</td>\n",
       "      <td>0.031263</td>\n",
       "      <td>0.533333</td>\n",
       "    </tr>\n",
       "    <tr>\n",
       "      <td>4</td>\n",
       "      <td>0.058824</td>\n",
       "      <td>0.936620</td>\n",
       "      <td>0.418605</td>\n",
       "      <td>0.285714</td>\n",
       "      <td>1.000000</td>\n",
       "      <td>0.243354</td>\n",
       "      <td>0.134047</td>\n",
       "      <td>0.633333</td>\n",
       "    </tr>\n",
       "  </tbody>\n",
       "</table>\n",
       "</div>"
      ],
      "text/plain": [
       "   Pregnancies   Glucose  BloodPressure  SkinThickness   Insulin       BMI  \\\n",
       "0     0.058824  0.232394       0.488372       0.285714  0.096154  0.202454   \n",
       "1     0.000000  0.570423       0.186047       0.500000  0.185096  0.509202   \n",
       "2     0.176471  0.154930       0.302326       0.446429  0.088942  0.261759   \n",
       "3     0.117647  0.992958       0.534884       0.678571  0.635817  0.251534   \n",
       "4     0.058824  0.936620       0.418605       0.285714  1.000000  0.243354   \n",
       "\n",
       "   DiabetesPedigreeFunction       Age  \n",
       "0                  0.035118  0.000000  \n",
       "1                  0.943469  0.200000  \n",
       "2                  0.069807  0.083333  \n",
       "3                  0.031263  0.533333  \n",
       "4                  0.134047  0.633333  "
      ]
     },
     "execution_count": 142,
     "metadata": {},
     "output_type": "execute_result"
    }
   ],
   "source": [
    "X.head()"
   ]
  },
  {
   "cell_type": "code",
   "execution_count": null,
   "metadata": {},
   "outputs": [],
   "source": []
  },
  {
   "cell_type": "markdown",
   "metadata": {},
   "source": [
    "## Spliting data into training and test set"
   ]
  },
  {
   "cell_type": "code",
   "execution_count": 15,
   "metadata": {},
   "outputs": [
    {
     "data": {
      "text/plain": [
       "((313, 8), (79, 8))"
      ]
     },
     "execution_count": 15,
     "metadata": {},
     "output_type": "execute_result"
    }
   ],
   "source": [
    "from sklearn.model_selection import train_test_split\n",
    "\n",
    "X_train, X_test, y_train, y_test = train_test_split(X, y, test_size=0.2, random_state=0)\n",
    "X_train.shape, X_test.shape"
   ]
  },
  {
   "cell_type": "code",
   "execution_count": 16,
   "metadata": {},
   "outputs": [],
   "source": [
    "# I keep a copy of the dataset with all the variables\n",
    "# to measure the performance of machine learning models\n",
    "# at the end of the notebook\n",
    "\n",
    "X_train_original = X_train.copy()\n",
    "X_test_original = X_test.copy()"
   ]
  },
  {
   "cell_type": "markdown",
   "metadata": {},
   "source": [
    "# Feature Selection"
   ]
  },
  {
   "cell_type": "markdown",
   "metadata": {},
   "source": [
    "## Filter"
   ]
  },
  {
   "cell_type": "markdown",
   "metadata": {},
   "source": [
    "### Basic Filter"
   ]
  },
  {
   "cell_type": "markdown",
   "metadata": {},
   "source": [
    "#### Remove constant features for numerical variables"
   ]
  },
  {
   "cell_type": "code",
   "execution_count": 17,
   "metadata": {},
   "outputs": [
    {
     "data": {
      "text/plain": [
       "((313, 8), (79, 8))"
      ]
     },
     "execution_count": 17,
     "metadata": {},
     "output_type": "execute_result"
    }
   ],
   "source": [
    "# remove constant features\n",
    "constant_features = [feat for feat in X_train.columns if X_train[feat].std() == 0]\n",
    "\n",
    "X_train.drop(labels=constant_features, axis=1, inplace=True)\n",
    "X_test.drop(labels=constant_features, axis=1, inplace=True)\n",
    "\n",
    "X_train.shape, X_test.shape"
   ]
  },
  {
   "cell_type": "markdown",
   "metadata": {},
   "source": [
    "#### Remove duplicated features"
   ]
  },
  {
   "cell_type": "code",
   "execution_count": 18,
   "metadata": {},
   "outputs": [
    {
     "name": "stdout",
     "output_type": "stream",
     "text": [
      "0\n"
     ]
    },
    {
     "data": {
      "text/plain": [
       "0"
      ]
     },
     "execution_count": 18,
     "metadata": {},
     "output_type": "execute_result"
    }
   ],
   "source": [
    "# check for duplicated features in the training set\n",
    "duplicated_feat = []\n",
    "for i in range(0, len(X_train.columns)):\n",
    "    if i % 10 == 0:  # this helps me understand how the loop is going\n",
    "        print(i)\n",
    "\n",
    "    col_1 = X_train.columns[i]\n",
    "\n",
    "    for col_2 in X_train.columns[i + 1:]:\n",
    "        if X_train[col_1].equals(X_train[col_2]):\n",
    "            duplicated_feat.append(col_2)\n",
    "            \n",
    "len(duplicated_feat)"
   ]
  },
  {
   "cell_type": "code",
   "execution_count": 19,
   "metadata": {},
   "outputs": [
    {
     "data": {
      "text/plain": [
       "((313, 8), (79, 8))"
      ]
     },
     "execution_count": 19,
     "metadata": {},
     "output_type": "execute_result"
    }
   ],
   "source": [
    "X_train.drop(labels=duplicated_feat, axis=1, inplace=True)\n",
    "X_test.drop(labels=duplicated_feat, axis=1, inplace=True)\n",
    "\n",
    "X_train.shape, X_test.shape"
   ]
  },
  {
   "cell_type": "code",
   "execution_count": 20,
   "metadata": {},
   "outputs": [],
   "source": [
    "# I keep a copy of the dataset except constant and duplicated variables\n",
    "# to measure the performance of machine learning models\n",
    "# at the end of the notebook\n",
    "\n",
    "X_train_basic_filter = X_train.copy()\n",
    "X_test_basic_filter = X_test.copy()"
   ]
  },
  {
   "cell_type": "markdown",
   "metadata": {},
   "source": [
    "### Pearson Correlation"
   ]
  },
  {
   "cell_type": "code",
   "execution_count": 21,
   "metadata": {},
   "outputs": [
    {
     "data": {
      "text/plain": [
       "array([0.257, 0.516, 0.193, 0.256, 0.301, 0.27 , 0.209, 0.351])"
      ]
     },
     "execution_count": 21,
     "metadata": {},
     "output_type": "execute_result"
    }
   ],
   "source": [
    "cor_list = []\n",
    "feature_name = X_train.columns.tolist()\n",
    "\n",
    "for i in X.columns.tolist():\n",
    "    cor = np.corrcoef(X[i], y)[0, 1]\n",
    "    cor_list.append(cor)\n",
    "cor_list = [0 if np.isnan(i) else i for i in cor_list]\n",
    "cor_list = np.round(np.abs(cor_list),3)\n",
    "cor_list"
   ]
  },
  {
   "cell_type": "code",
   "execution_count": 22,
   "metadata": {},
   "outputs": [
    {
     "data": {
      "text/plain": [
       "array([False,  True, False, False,  True, False, False,  True])"
      ]
     },
     "execution_count": 22,
     "metadata": {},
     "output_type": "execute_result"
    }
   ],
   "source": [
    "cor_support = cor_list > cor_list.mean()\n",
    "cor_support"
   ]
  },
  {
   "cell_type": "code",
   "execution_count": 23,
   "metadata": {},
   "outputs": [],
   "source": [
    "#get feature importances from the model\n",
    "headers = [\"name\", \"score\"]\n",
    "values = sorted(zip(feature_name, cor_list), key=lambda x: x[1] * -1)\n",
    "corr_features = pd.DataFrame(values, columns = headers)"
   ]
  },
  {
   "cell_type": "code",
   "execution_count": 24,
   "metadata": {},
   "outputs": [
    {
     "data": {
      "text/html": [
       "<div>\n",
       "<style scoped>\n",
       "    .dataframe tbody tr th:only-of-type {\n",
       "        vertical-align: middle;\n",
       "    }\n",
       "\n",
       "    .dataframe tbody tr th {\n",
       "        vertical-align: top;\n",
       "    }\n",
       "\n",
       "    .dataframe thead th {\n",
       "        text-align: right;\n",
       "    }\n",
       "</style>\n",
       "<table border=\"1\" class=\"dataframe\">\n",
       "  <thead>\n",
       "    <tr style=\"text-align: right;\">\n",
       "      <th></th>\n",
       "      <th>name</th>\n",
       "      <th>score</th>\n",
       "    </tr>\n",
       "  </thead>\n",
       "  <tbody>\n",
       "    <tr>\n",
       "      <th>0</th>\n",
       "      <td>Glucose</td>\n",
       "      <td>0.516</td>\n",
       "    </tr>\n",
       "    <tr>\n",
       "      <th>1</th>\n",
       "      <td>Age</td>\n",
       "      <td>0.351</td>\n",
       "    </tr>\n",
       "    <tr>\n",
       "      <th>2</th>\n",
       "      <td>Insulin</td>\n",
       "      <td>0.301</td>\n",
       "    </tr>\n",
       "    <tr>\n",
       "      <th>3</th>\n",
       "      <td>BMI</td>\n",
       "      <td>0.270</td>\n",
       "    </tr>\n",
       "    <tr>\n",
       "      <th>4</th>\n",
       "      <td>Pregnancies</td>\n",
       "      <td>0.257</td>\n",
       "    </tr>\n",
       "    <tr>\n",
       "      <th>5</th>\n",
       "      <td>SkinThickness</td>\n",
       "      <td>0.256</td>\n",
       "    </tr>\n",
       "    <tr>\n",
       "      <th>6</th>\n",
       "      <td>DiabetesPedigreeFunction</td>\n",
       "      <td>0.209</td>\n",
       "    </tr>\n",
       "    <tr>\n",
       "      <th>7</th>\n",
       "      <td>BloodPressure</td>\n",
       "      <td>0.193</td>\n",
       "    </tr>\n",
       "  </tbody>\n",
       "</table>\n",
       "</div>"
      ],
      "text/plain": [
       "                       name  score\n",
       "0                   Glucose  0.516\n",
       "1                       Age  0.351\n",
       "2                   Insulin  0.301\n",
       "3                       BMI  0.270\n",
       "4               Pregnancies  0.257\n",
       "5             SkinThickness  0.256\n",
       "6  DiabetesPedigreeFunction  0.209\n",
       "7             BloodPressure  0.193"
      ]
     },
     "execution_count": 24,
     "metadata": {},
     "output_type": "execute_result"
    }
   ],
   "source": [
    "corr_features"
   ]
  },
  {
   "cell_type": "markdown",
   "metadata": {},
   "source": [
    "### Single AUC of each variable  "
   ]
  },
  {
   "cell_type": "code",
   "execution_count": 25,
   "metadata": {},
   "outputs": [
    {
     "data": {
      "text/plain": [
       "array([False,  True, False, False,  True, False, False,  True])"
      ]
     },
     "execution_count": 25,
     "metadata": {},
     "output_type": "execute_result"
    }
   ],
   "source": [
    "auc_list = []\n",
    "feature_name = X_train.columns.tolist()\n",
    "\n",
    "for i in X.columns.tolist():\n",
    "        fpr, tpr, thresholds = metrics.roc_curve(np.array(y_train), np.array(X_train[i]))\n",
    "        if metrics.auc(fpr, tpr)+0>0.5:\n",
    "             z=metrics.auc(fpr, tpr)+0\n",
    "        else:       \n",
    "            z=1-metrics.auc(fpr, tpr)+0\n",
    "        auc_list.append(z)\n",
    "\n",
    "auc_support = np.array(auc_list) > np.array(auc_list).mean()\n",
    "auc_support"
   ]
  },
  {
   "cell_type": "code",
   "execution_count": 26,
   "metadata": {},
   "outputs": [
    {
     "data": {
      "text/html": [
       "<div>\n",
       "<style scoped>\n",
       "    .dataframe tbody tr th:only-of-type {\n",
       "        vertical-align: middle;\n",
       "    }\n",
       "\n",
       "    .dataframe tbody tr th {\n",
       "        vertical-align: top;\n",
       "    }\n",
       "\n",
       "    .dataframe thead th {\n",
       "        text-align: right;\n",
       "    }\n",
       "</style>\n",
       "<table border=\"1\" class=\"dataframe\">\n",
       "  <thead>\n",
       "    <tr style=\"text-align: right;\">\n",
       "      <th></th>\n",
       "      <th>name</th>\n",
       "      <th>score</th>\n",
       "    </tr>\n",
       "  </thead>\n",
       "  <tbody>\n",
       "    <tr>\n",
       "      <th>0</th>\n",
       "      <td>Glucose</td>\n",
       "      <td>0.813049</td>\n",
       "    </tr>\n",
       "    <tr>\n",
       "      <th>1</th>\n",
       "      <td>Age</td>\n",
       "      <td>0.735096</td>\n",
       "    </tr>\n",
       "    <tr>\n",
       "      <th>2</th>\n",
       "      <td>Insulin</td>\n",
       "      <td>0.715339</td>\n",
       "    </tr>\n",
       "    <tr>\n",
       "      <th>3</th>\n",
       "      <td>SkinThickness</td>\n",
       "      <td>0.659158</td>\n",
       "    </tr>\n",
       "    <tr>\n",
       "      <th>4</th>\n",
       "      <td>BMI</td>\n",
       "      <td>0.654212</td>\n",
       "    </tr>\n",
       "    <tr>\n",
       "      <th>5</th>\n",
       "      <td>BloodPressure</td>\n",
       "      <td>0.621749</td>\n",
       "    </tr>\n",
       "    <tr>\n",
       "      <th>6</th>\n",
       "      <td>DiabetesPedigreeFunction</td>\n",
       "      <td>0.606181</td>\n",
       "    </tr>\n",
       "    <tr>\n",
       "      <th>7</th>\n",
       "      <td>Pregnancies</td>\n",
       "      <td>0.603800</td>\n",
       "    </tr>\n",
       "  </tbody>\n",
       "</table>\n",
       "</div>"
      ],
      "text/plain": [
       "                       name     score\n",
       "0                   Glucose  0.813049\n",
       "1                       Age  0.735096\n",
       "2                   Insulin  0.715339\n",
       "3             SkinThickness  0.659158\n",
       "4                       BMI  0.654212\n",
       "5             BloodPressure  0.621749\n",
       "6  DiabetesPedigreeFunction  0.606181\n",
       "7               Pregnancies  0.603800"
      ]
     },
     "execution_count": 26,
     "metadata": {},
     "output_type": "execute_result"
    }
   ],
   "source": [
    "headers = [\"name\",\"score\"]\n",
    "values = sorted(zip(feature_name, auc_list), key=lambda x: x[1] * -1)\n",
    "auc_features = pd.DataFrame(values, columns = headers)\n",
    "auc_features"
   ]
  },
  {
   "cell_type": "code",
   "execution_count": 27,
   "metadata": {},
   "outputs": [],
   "source": [
    "from sklearn.tree import DecisionTreeClassifier\n",
    "\n",
    "roc_values = []\n",
    "for feature in X_train.columns:\n",
    "    clf = DecisionTreeClassifier()\n",
    "    clf.fit(X_train[feature].to_frame(), y_train)\n",
    "    y_scored = clf.predict_proba(X_test[feature].to_frame())\n",
    "    roc_values.append(roc_auc_score(y_test, y_scored[:, 1]))"
   ]
  },
  {
   "cell_type": "code",
   "execution_count": 28,
   "metadata": {
    "scrolled": true
   },
   "outputs": [
    {
     "data": {
      "text/plain": [
       "array([ True, False, False, False,  True, False, False,  True])"
      ]
     },
     "execution_count": 28,
     "metadata": {},
     "output_type": "execute_result"
    }
   ],
   "source": [
    "rocauc_support = roc_values > np.array(roc_values).mean()\n",
    "rocauc_support"
   ]
  },
  {
   "cell_type": "code",
   "execution_count": 29,
   "metadata": {},
   "outputs": [
    {
     "data": {
      "text/html": [
       "<div>\n",
       "<style scoped>\n",
       "    .dataframe tbody tr th:only-of-type {\n",
       "        vertical-align: middle;\n",
       "    }\n",
       "\n",
       "    .dataframe tbody tr th {\n",
       "        vertical-align: top;\n",
       "    }\n",
       "\n",
       "    .dataframe thead th {\n",
       "        text-align: right;\n",
       "    }\n",
       "</style>\n",
       "<table border=\"1\" class=\"dataframe\">\n",
       "  <thead>\n",
       "    <tr style=\"text-align: right;\">\n",
       "      <th></th>\n",
       "      <th>name</th>\n",
       "      <th>score</th>\n",
       "    </tr>\n",
       "  </thead>\n",
       "  <tbody>\n",
       "    <tr>\n",
       "      <th>0</th>\n",
       "      <td>Insulin</td>\n",
       "      <td>0.762593</td>\n",
       "    </tr>\n",
       "    <tr>\n",
       "      <th>1</th>\n",
       "      <td>Pregnancies</td>\n",
       "      <td>0.729630</td>\n",
       "    </tr>\n",
       "    <tr>\n",
       "      <th>2</th>\n",
       "      <td>Age</td>\n",
       "      <td>0.714444</td>\n",
       "    </tr>\n",
       "    <tr>\n",
       "      <th>3</th>\n",
       "      <td>Glucose</td>\n",
       "      <td>0.612963</td>\n",
       "    </tr>\n",
       "    <tr>\n",
       "      <th>4</th>\n",
       "      <td>SkinThickness</td>\n",
       "      <td>0.544074</td>\n",
       "    </tr>\n",
       "    <tr>\n",
       "      <th>5</th>\n",
       "      <td>BloodPressure</td>\n",
       "      <td>0.535556</td>\n",
       "    </tr>\n",
       "    <tr>\n",
       "      <th>6</th>\n",
       "      <td>BMI</td>\n",
       "      <td>0.530370</td>\n",
       "    </tr>\n",
       "    <tr>\n",
       "      <th>7</th>\n",
       "      <td>DiabetesPedigreeFunction</td>\n",
       "      <td>0.493333</td>\n",
       "    </tr>\n",
       "  </tbody>\n",
       "</table>\n",
       "</div>"
      ],
      "text/plain": [
       "                       name     score\n",
       "0                   Insulin  0.762593\n",
       "1               Pregnancies  0.729630\n",
       "2                       Age  0.714444\n",
       "3                   Glucose  0.612963\n",
       "4             SkinThickness  0.544074\n",
       "5             BloodPressure  0.535556\n",
       "6                       BMI  0.530370\n",
       "7  DiabetesPedigreeFunction  0.493333"
      ]
     },
     "execution_count": 29,
     "metadata": {},
     "output_type": "execute_result"
    }
   ],
   "source": [
    "headers = [\"name\",\"score\"]\n",
    "values = sorted(zip(feature_name, roc_values), key=lambda x: x[1] * -1)\n",
    "rocauc_features = pd.DataFrame(values, columns = headers)\n",
    "rocauc_features"
   ]
  },
  {
   "cell_type": "code",
   "execution_count": 30,
   "metadata": {
    "scrolled": true
   },
   "outputs": [
    {
     "data": {
      "text/plain": [
       "<matplotlib.axes._subplots.AxesSubplot at 0x28a7dd76c88>"
      ]
     },
     "execution_count": 30,
     "metadata": {},
     "output_type": "execute_result"
    },
    {
     "data": {
      "image/png": "[encoded data removed]",
      "text/plain": [
       "<Figure size 576x288 with 1 Axes>"
      ]
     },
     "metadata": {
      "needs_background": "light"
     },
     "output_type": "display_data"
    }
   ],
   "source": [
    "\n",
    "rocauc_features.sort_values('score',ascending=False).plot.bar(figsize=(8, 4),x='name')"
   ]
  },
  {
   "cell_type": "markdown",
   "metadata": {},
   "source": [
    "### Chi-2"
   ]
  },
  {
   "cell_type": "code",
   "execution_count": 31,
   "metadata": {},
   "outputs": [
    {
     "data": {
      "text/plain": [
       "array([ True,  True, False, False,  True, False, False,  True])"
      ]
     },
     "execution_count": 31,
     "metadata": {},
     "output_type": "execute_result"
    }
   ],
   "source": [
    "from sklearn.feature_selection import SelectKBest\n",
    "from sklearn.feature_selection import chi2\n",
    "\n",
    "chi_selector = SelectKBest(chi2, k=4)\n",
    "chi_selector.fit(X_train, y_train)\n",
    "# check which one is selected\n",
    "chi_support = chi_selector.get_support(indices=False)\n",
    "chi_support"
   ]
  },
  {
   "cell_type": "code",
   "execution_count": 32,
   "metadata": {},
   "outputs": [
    {
     "data": {
      "text/plain": [
       "['Pregnancies', 'Glucose', 'Insulin', 'Age']"
      ]
     },
     "execution_count": 32,
     "metadata": {},
     "output_type": "execute_result"
    }
   ],
   "source": [
    "chi_selector.get_support(indices=True)\n",
    "chi_feature = X_train.loc[:,chi_support].columns.tolist()\n",
    "chi_feature"
   ]
  },
  {
   "cell_type": "code",
   "execution_count": 33,
   "metadata": {},
   "outputs": [
    {
     "data": {
      "text/html": [
       "<div>\n",
       "<style scoped>\n",
       "    .dataframe tbody tr th:only-of-type {\n",
       "        vertical-align: middle;\n",
       "    }\n",
       "\n",
       "    .dataframe tbody tr th {\n",
       "        vertical-align: top;\n",
       "    }\n",
       "\n",
       "    .dataframe thead th {\n",
       "        text-align: right;\n",
       "    }\n",
       "</style>\n",
       "<table border=\"1\" class=\"dataframe\">\n",
       "  <thead>\n",
       "    <tr style=\"text-align: right;\">\n",
       "      <th></th>\n",
       "      <th>name</th>\n",
       "      <th>score</th>\n",
       "      <th>pvalue</th>\n",
       "    </tr>\n",
       "  </thead>\n",
       "  <tbody>\n",
       "    <tr>\n",
       "      <th>0</th>\n",
       "      <td>Glucose</td>\n",
       "      <td>8.652027</td>\n",
       "      <td>0.003267</td>\n",
       "    </tr>\n",
       "    <tr>\n",
       "      <th>1</th>\n",
       "      <td>Age</td>\n",
       "      <td>5.961969</td>\n",
       "      <td>0.014618</td>\n",
       "    </tr>\n",
       "    <tr>\n",
       "      <th>2</th>\n",
       "      <td>Insulin</td>\n",
       "      <td>3.268818</td>\n",
       "      <td>0.070608</td>\n",
       "    </tr>\n",
       "    <tr>\n",
       "      <th>3</th>\n",
       "      <td>Pregnancies</td>\n",
       "      <td>2.208744</td>\n",
       "      <td>0.137230</td>\n",
       "    </tr>\n",
       "    <tr>\n",
       "      <th>4</th>\n",
       "      <td>SkinThickness</td>\n",
       "      <td>1.943367</td>\n",
       "      <td>0.163303</td>\n",
       "    </tr>\n",
       "    <tr>\n",
       "      <th>5</th>\n",
       "      <td>BMI</td>\n",
       "      <td>1.398085</td>\n",
       "      <td>0.237044</td>\n",
       "    </tr>\n",
       "    <tr>\n",
       "      <th>6</th>\n",
       "      <td>DiabetesPedigreeFunction</td>\n",
       "      <td>1.235495</td>\n",
       "      <td>0.266341</td>\n",
       "    </tr>\n",
       "    <tr>\n",
       "      <th>7</th>\n",
       "      <td>BloodPressure</td>\n",
       "      <td>0.403310</td>\n",
       "      <td>0.525385</td>\n",
       "    </tr>\n",
       "  </tbody>\n",
       "</table>\n",
       "</div>"
      ],
      "text/plain": [
       "                       name     score    pvalue\n",
       "0                   Glucose  8.652027  0.003267\n",
       "1                       Age  5.961969  0.014618\n",
       "2                   Insulin  3.268818  0.070608\n",
       "3               Pregnancies  2.208744  0.137230\n",
       "4             SkinThickness  1.943367  0.163303\n",
       "5                       BMI  1.398085  0.237044\n",
       "6  DiabetesPedigreeFunction  1.235495  0.266341\n",
       "7             BloodPressure  0.403310  0.525385"
      ]
     },
     "execution_count": 33,
     "metadata": {},
     "output_type": "execute_result"
    }
   ],
   "source": [
    "# Variable Importance\n",
    "feature_list = X_train.columns\n",
    "# Get numerical feature importance\n",
    "importance_list = list(chi_selector.scores_)\n",
    "# p value\n",
    "pvalue_list = list(chi_selector.pvalues_)\n",
    "\n",
    "#get feature importances from the model\n",
    "headers = [\"name\", \"score\", \"pvalue\"]\n",
    "# values = sorted(zip(feature_list, cor_list, pvalue_list), key=lambda x: x[1] * -1)\n",
    "values = sorted(zip(feature_list, importance_list, pvalue_list))\n",
    "values = sorted(values, key = lambda x: x[1], reverse = True)\n",
    "chi_features = pd.DataFrame(values, columns = headers)\n",
    "chi_features"
   ]
  },
  {
   "cell_type": "markdown",
   "metadata": {},
   "source": [
    "#### f_classif"
   ]
  },
  {
   "cell_type": "code",
   "execution_count": 34,
   "metadata": {},
   "outputs": [
    {
     "data": {
      "text/plain": [
       "['Glucose', 'SkinThickness', 'Insulin', 'Age']"
      ]
     },
     "execution_count": 34,
     "metadata": {},
     "output_type": "execute_result"
    }
   ],
   "source": [
    "from sklearn.feature_selection import SelectKBest\n",
    "from sklearn.feature_selection import f_classif\n",
    "\n",
    "\n",
    "f_selector = SelectKBest(f_classif, k=4)\n",
    "f_selector.fit_transform(X_train, y_train)\n",
    "f_support = f_selector.get_support()\n",
    "f_feature = X_train.loc[:,f_support].columns.tolist()\n",
    "f_feature"
   ]
  },
  {
   "cell_type": "code",
   "execution_count": 35,
   "metadata": {},
   "outputs": [
    {
     "data": {
      "text/html": [
       "<div>\n",
       "<style scoped>\n",
       "    .dataframe tbody tr th:only-of-type {\n",
       "        vertical-align: middle;\n",
       "    }\n",
       "\n",
       "    .dataframe tbody tr th {\n",
       "        vertical-align: top;\n",
       "    }\n",
       "\n",
       "    .dataframe thead th {\n",
       "        text-align: right;\n",
       "    }\n",
       "</style>\n",
       "<table border=\"1\" class=\"dataframe\">\n",
       "  <thead>\n",
       "    <tr style=\"text-align: right;\">\n",
       "      <th></th>\n",
       "      <th>name</th>\n",
       "      <th>score</th>\n",
       "      <th>pvalue</th>\n",
       "    </tr>\n",
       "  </thead>\n",
       "  <tbody>\n",
       "    <tr>\n",
       "      <th>0</th>\n",
       "      <td>Glucose</td>\n",
       "      <td>116.888441</td>\n",
       "      <td>2.430595e-23</td>\n",
       "    </tr>\n",
       "    <tr>\n",
       "      <th>1</th>\n",
       "      <td>Age</td>\n",
       "      <td>38.048639</td>\n",
       "      <td>2.144241e-09</td>\n",
       "    </tr>\n",
       "    <tr>\n",
       "      <th>2</th>\n",
       "      <td>Insulin</td>\n",
       "      <td>27.677456</td>\n",
       "      <td>2.673716e-07</td>\n",
       "    </tr>\n",
       "    <tr>\n",
       "      <th>3</th>\n",
       "      <td>SkinThickness</td>\n",
       "      <td>23.174005</td>\n",
       "      <td>2.313267e-06</td>\n",
       "    </tr>\n",
       "    <tr>\n",
       "      <th>4</th>\n",
       "      <td>BMI</td>\n",
       "      <td>21.508855</td>\n",
       "      <td>5.193793e-06</td>\n",
       "    </tr>\n",
       "    <tr>\n",
       "      <th>5</th>\n",
       "      <td>Pregnancies</td>\n",
       "      <td>13.429519</td>\n",
       "      <td>2.911321e-04</td>\n",
       "    </tr>\n",
       "    <tr>\n",
       "      <th>6</th>\n",
       "      <td>BloodPressure</td>\n",
       "      <td>11.412659</td>\n",
       "      <td>8.222645e-04</td>\n",
       "    </tr>\n",
       "    <tr>\n",
       "      <th>7</th>\n",
       "      <td>DiabetesPedigreeFunction</td>\n",
       "      <td>10.759381</td>\n",
       "      <td>1.155296e-03</td>\n",
       "    </tr>\n",
       "  </tbody>\n",
       "</table>\n",
       "</div>"
      ],
      "text/plain": [
       "                       name       score        pvalue\n",
       "0                   Glucose  116.888441  2.430595e-23\n",
       "1                       Age   38.048639  2.144241e-09\n",
       "2                   Insulin   27.677456  2.673716e-07\n",
       "3             SkinThickness   23.174005  2.313267e-06\n",
       "4                       BMI   21.508855  5.193793e-06\n",
       "5               Pregnancies   13.429519  2.911321e-04\n",
       "6             BloodPressure   11.412659  8.222645e-04\n",
       "7  DiabetesPedigreeFunction   10.759381  1.155296e-03"
      ]
     },
     "execution_count": 35,
     "metadata": {},
     "output_type": "execute_result"
    }
   ],
   "source": [
    "# Variable Importance\n",
    "feature_list = X_train.columns\n",
    "# Get numerical feature importance\n",
    "importance_list = list(f_selector.scores_)\n",
    "# p value\n",
    "pvalue_list = list(f_selector.pvalues_)\n",
    "\n",
    "#get feature importances from the model\n",
    "headers = [\"name\", \"score\", \"pvalue\"]\n",
    "values = sorted(zip(feature_list, importance_list, pvalue_list))\n",
    "values = sorted(values, key = lambda x: x[1], reverse = True)\n",
    "f_features = pd.DataFrame(values, columns = headers)\n",
    "f_features"
   ]
  },
  {
   "cell_type": "code",
   "execution_count": null,
   "metadata": {},
   "outputs": [],
   "source": []
  },
  {
   "cell_type": "markdown",
   "metadata": {},
   "source": [
    "### Examining correlated features"
   ]
  },
  {
   "cell_type": "code",
   "execution_count": 36,
   "metadata": {},
   "outputs": [
    {
     "data": {
      "image/png": "[encoded data removed]",
      "text/plain": [
       "<Figure size 432x432 with 2 Axes>"
      ]
     },
     "metadata": {
      "needs_background": "light"
     },
     "output_type": "display_data"
    }
   ],
   "source": [
    "# Correlation matrix\n",
    "cormat = X_train.corr()\n",
    "fig, ax = plt.subplots()\n",
    "fig.set_size_inches(6,6)\n",
    "sns.heatmap(cormat, annot = True)\n",
    "plt.show()"
   ]
  },
  {
   "cell_type": "code",
   "execution_count": 37,
   "metadata": {},
   "outputs": [
    {
     "data": {
      "text/html": [
       "<div>\n",
       "<style scoped>\n",
       "    .dataframe tbody tr th:only-of-type {\n",
       "        vertical-align: middle;\n",
       "    }\n",
       "\n",
       "    .dataframe tbody tr th {\n",
       "        vertical-align: top;\n",
       "    }\n",
       "\n",
       "    .dataframe thead th {\n",
       "        text-align: right;\n",
       "    }\n",
       "</style>\n",
       "<table border=\"1\" class=\"dataframe\">\n",
       "  <thead>\n",
       "    <tr style=\"text-align: right;\">\n",
       "      <th></th>\n",
       "      <th>Pregnancies</th>\n",
       "      <th>Glucose</th>\n",
       "      <th>BloodPressure</th>\n",
       "      <th>SkinThickness</th>\n",
       "      <th>Insulin</th>\n",
       "      <th>BMI</th>\n",
       "      <th>DiabetesPedigreeFunction</th>\n",
       "      <th>Age</th>\n",
       "    </tr>\n",
       "  </thead>\n",
       "  <tbody>\n",
       "    <tr>\n",
       "      <th>Pregnancies</th>\n",
       "      <td>1.000000</td>\n",
       "      <td>0.185808</td>\n",
       "      <td>0.202589</td>\n",
       "      <td>0.123185</td>\n",
       "      <td>0.058311</td>\n",
       "      <td>-0.035769</td>\n",
       "      <td>0.009676</td>\n",
       "      <td>0.655426</td>\n",
       "    </tr>\n",
       "    <tr>\n",
       "      <th>Glucose</th>\n",
       "      <td>0.185808</td>\n",
       "      <td>1.000000</td>\n",
       "      <td>0.198283</td>\n",
       "      <td>0.175339</td>\n",
       "      <td>0.567717</td>\n",
       "      <td>0.204807</td>\n",
       "      <td>0.114756</td>\n",
       "      <td>0.326173</td>\n",
       "    </tr>\n",
       "    <tr>\n",
       "      <th>BloodPressure</th>\n",
       "      <td>0.202589</td>\n",
       "      <td>0.198283</td>\n",
       "      <td>1.000000</td>\n",
       "      <td>0.213741</td>\n",
       "      <td>0.073679</td>\n",
       "      <td>0.333915</td>\n",
       "      <td>0.007383</td>\n",
       "      <td>0.301155</td>\n",
       "    </tr>\n",
       "    <tr>\n",
       "      <th>SkinThickness</th>\n",
       "      <td>0.123185</td>\n",
       "      <td>0.175339</td>\n",
       "      <td>0.213741</td>\n",
       "      <td>1.000000</td>\n",
       "      <td>0.164546</td>\n",
       "      <td>0.641496</td>\n",
       "      <td>0.175475</td>\n",
       "      <td>0.179684</td>\n",
       "    </tr>\n",
       "    <tr>\n",
       "      <th>Insulin</th>\n",
       "      <td>0.058311</td>\n",
       "      <td>0.567717</td>\n",
       "      <td>0.073679</td>\n",
       "      <td>0.164546</td>\n",
       "      <td>1.000000</td>\n",
       "      <td>0.230716</td>\n",
       "      <td>0.115153</td>\n",
       "      <td>0.211024</td>\n",
       "    </tr>\n",
       "    <tr>\n",
       "      <th>BMI</th>\n",
       "      <td>-0.035769</td>\n",
       "      <td>0.204807</td>\n",
       "      <td>0.333915</td>\n",
       "      <td>0.641496</td>\n",
       "      <td>0.230716</td>\n",
       "      <td>1.000000</td>\n",
       "      <td>0.157281</td>\n",
       "      <td>0.055452</td>\n",
       "    </tr>\n",
       "    <tr>\n",
       "      <th>DiabetesPedigreeFunction</th>\n",
       "      <td>0.009676</td>\n",
       "      <td>0.114756</td>\n",
       "      <td>0.007383</td>\n",
       "      <td>0.175475</td>\n",
       "      <td>0.115153</td>\n",
       "      <td>0.157281</td>\n",
       "      <td>1.000000</td>\n",
       "      <td>0.066986</td>\n",
       "    </tr>\n",
       "    <tr>\n",
       "      <th>Age</th>\n",
       "      <td>0.655426</td>\n",
       "      <td>0.326173</td>\n",
       "      <td>0.301155</td>\n",
       "      <td>0.179684</td>\n",
       "      <td>0.211024</td>\n",
       "      <td>0.055452</td>\n",
       "      <td>0.066986</td>\n",
       "      <td>1.000000</td>\n",
       "    </tr>\n",
       "  </tbody>\n",
       "</table>\n",
       "</div>"
      ],
      "text/plain": [
       "                          Pregnancies   Glucose  BloodPressure  SkinThickness  \\\n",
       "Pregnancies                  1.000000  0.185808       0.202589       0.123185   \n",
       "Glucose                      0.185808  1.000000       0.198283       0.175339   \n",
       "BloodPressure                0.202589  0.198283       1.000000       0.213741   \n",
       "SkinThickness                0.123185  0.175339       0.213741       1.000000   \n",
       "Insulin                      0.058311  0.567717       0.073679       0.164546   \n",
       "BMI                         -0.035769  0.204807       0.333915       0.641496   \n",
       "DiabetesPedigreeFunction     0.009676  0.114756       0.007383       0.175475   \n",
       "Age                          0.655426  0.326173       0.301155       0.179684   \n",
       "\n",
       "                           Insulin       BMI  DiabetesPedigreeFunction  \\\n",
       "Pregnancies               0.058311 -0.035769                  0.009676   \n",
       "Glucose                   0.567717  0.204807                  0.114756   \n",
       "BloodPressure             0.073679  0.333915                  0.007383   \n",
       "SkinThickness             0.164546  0.641496                  0.175475   \n",
       "Insulin                   1.000000  0.230716                  0.115153   \n",
       "BMI                       0.230716  1.000000                  0.157281   \n",
       "DiabetesPedigreeFunction  0.115153  0.157281                  1.000000   \n",
       "Age                       0.211024  0.055452                  0.066986   \n",
       "\n",
       "                               Age  \n",
       "Pregnancies               0.655426  \n",
       "Glucose                   0.326173  \n",
       "BloodPressure             0.301155  \n",
       "SkinThickness             0.179684  \n",
       "Insulin                   0.211024  \n",
       "BMI                       0.055452  \n",
       "DiabetesPedigreeFunction  0.066986  \n",
       "Age                       1.000000  "
      ]
     },
     "execution_count": 37,
     "metadata": {},
     "output_type": "execute_result"
    }
   ],
   "source": [
    "corrmat = X_train.corr()\n",
    "corrmat"
   ]
  },
  {
   "cell_type": "code",
   "execution_count": 38,
   "metadata": {},
   "outputs": [],
   "source": [
    "# it will remove the first feature that is correlated with anything else\n",
    "# without any other insight.\n",
    "\n",
    "def correlation(dataset, threshold):\n",
    "    col_corr = set()  # Set of all the names of correlated columns\n",
    "    corr_matrix = dataset.corr()\n",
    "    for i in range(len(corr_matrix.columns)):\n",
    "        for j in range(i):\n",
    "            if abs(corr_matrix.iloc[i,j]) > threshold:\n",
    "                colname = corr_matrix.columns[i]\n",
    "                col_corr.add(colname)\n",
    "    \n",
    "    return col_corr"
   ]
  },
  {
   "cell_type": "code",
   "execution_count": 39,
   "metadata": {},
   "outputs": [
    {
     "data": {
      "text/plain": [
       "3"
      ]
     },
     "execution_count": 39,
     "metadata": {},
     "output_type": "execute_result"
    }
   ],
   "source": [
    "corr_features = correlation(X_train, 0.5)\n",
    "len(set(corr_features))"
   ]
  },
  {
   "cell_type": "code",
   "execution_count": 40,
   "metadata": {},
   "outputs": [
    {
     "data": {
      "text/plain": [
       "((313, 8), (79, 8))"
      ]
     },
     "execution_count": 40,
     "metadata": {},
     "output_type": "execute_result"
    }
   ],
   "source": [
    "# removed correlated  features\n",
    "# X_train.drop(labels=corr_features, axis=1, inplace=True)\n",
    "# X_test.drop(labels=corr_features, axis=1, inplace=True)\n",
    "\n",
    "X_train.shape, X_test.shape"
   ]
  },
  {
   "cell_type": "code",
   "execution_count": 41,
   "metadata": {},
   "outputs": [],
   "source": [
    "# keep a copy of the dataset at  this stage\n",
    "X_train_corr = X_train.copy()\n",
    "X_test_corr = X_test.copy()"
   ]
  },
  {
   "cell_type": "code",
   "execution_count": null,
   "metadata": {},
   "outputs": [],
   "source": []
  },
  {
   "cell_type": "markdown",
   "metadata": {},
   "source": [
    "### Approach 2: Identify groups of highly correlated features"
   ]
  },
  {
   "cell_type": "code",
   "execution_count": 42,
   "metadata": {},
   "outputs": [
    {
     "data": {
      "text/html": [
       "<div>\n",
       "<style scoped>\n",
       "    .dataframe tbody tr th:only-of-type {\n",
       "        vertical-align: middle;\n",
       "    }\n",
       "\n",
       "    .dataframe tbody tr th {\n",
       "        vertical-align: top;\n",
       "    }\n",
       "\n",
       "    .dataframe thead th {\n",
       "        text-align: right;\n",
       "    }\n",
       "</style>\n",
       "<table border=\"1\" class=\"dataframe\">\n",
       "  <thead>\n",
       "    <tr style=\"text-align: right;\">\n",
       "      <th></th>\n",
       "      <th>Pregnancies</th>\n",
       "      <th>Glucose</th>\n",
       "      <th>BloodPressure</th>\n",
       "      <th>SkinThickness</th>\n",
       "      <th>Insulin</th>\n",
       "      <th>BMI</th>\n",
       "      <th>DiabetesPedigreeFunction</th>\n",
       "      <th>Age</th>\n",
       "    </tr>\n",
       "  </thead>\n",
       "  <tbody>\n",
       "    <tr>\n",
       "      <th>Pregnancies</th>\n",
       "      <td>1.000000</td>\n",
       "      <td>0.185808</td>\n",
       "      <td>0.202589</td>\n",
       "      <td>0.123185</td>\n",
       "      <td>0.058311</td>\n",
       "      <td>-0.035769</td>\n",
       "      <td>0.009676</td>\n",
       "      <td>0.655426</td>\n",
       "    </tr>\n",
       "    <tr>\n",
       "      <th>Glucose</th>\n",
       "      <td>0.185808</td>\n",
       "      <td>1.000000</td>\n",
       "      <td>0.198283</td>\n",
       "      <td>0.175339</td>\n",
       "      <td>0.567717</td>\n",
       "      <td>0.204807</td>\n",
       "      <td>0.114756</td>\n",
       "      <td>0.326173</td>\n",
       "    </tr>\n",
       "    <tr>\n",
       "      <th>BloodPressure</th>\n",
       "      <td>0.202589</td>\n",
       "      <td>0.198283</td>\n",
       "      <td>1.000000</td>\n",
       "      <td>0.213741</td>\n",
       "      <td>0.073679</td>\n",
       "      <td>0.333915</td>\n",
       "      <td>0.007383</td>\n",
       "      <td>0.301155</td>\n",
       "    </tr>\n",
       "    <tr>\n",
       "      <th>SkinThickness</th>\n",
       "      <td>0.123185</td>\n",
       "      <td>0.175339</td>\n",
       "      <td>0.213741</td>\n",
       "      <td>1.000000</td>\n",
       "      <td>0.164546</td>\n",
       "      <td>0.641496</td>\n",
       "      <td>0.175475</td>\n",
       "      <td>0.179684</td>\n",
       "    </tr>\n",
       "    <tr>\n",
       "      <th>Insulin</th>\n",
       "      <td>0.058311</td>\n",
       "      <td>0.567717</td>\n",
       "      <td>0.073679</td>\n",
       "      <td>0.164546</td>\n",
       "      <td>1.000000</td>\n",
       "      <td>0.230716</td>\n",
       "      <td>0.115153</td>\n",
       "      <td>0.211024</td>\n",
       "    </tr>\n",
       "    <tr>\n",
       "      <th>BMI</th>\n",
       "      <td>-0.035769</td>\n",
       "      <td>0.204807</td>\n",
       "      <td>0.333915</td>\n",
       "      <td>0.641496</td>\n",
       "      <td>0.230716</td>\n",
       "      <td>1.000000</td>\n",
       "      <td>0.157281</td>\n",
       "      <td>0.055452</td>\n",
       "    </tr>\n",
       "    <tr>\n",
       "      <th>DiabetesPedigreeFunction</th>\n",
       "      <td>0.009676</td>\n",
       "      <td>0.114756</td>\n",
       "      <td>0.007383</td>\n",
       "      <td>0.175475</td>\n",
       "      <td>0.115153</td>\n",
       "      <td>0.157281</td>\n",
       "      <td>1.000000</td>\n",
       "      <td>0.066986</td>\n",
       "    </tr>\n",
       "    <tr>\n",
       "      <th>Age</th>\n",
       "      <td>0.655426</td>\n",
       "      <td>0.326173</td>\n",
       "      <td>0.301155</td>\n",
       "      <td>0.179684</td>\n",
       "      <td>0.211024</td>\n",
       "      <td>0.055452</td>\n",
       "      <td>0.066986</td>\n",
       "      <td>1.000000</td>\n",
       "    </tr>\n",
       "  </tbody>\n",
       "</table>\n",
       "</div>"
      ],
      "text/plain": [
       "                          Pregnancies   Glucose  BloodPressure  SkinThickness  \\\n",
       "Pregnancies                  1.000000  0.185808       0.202589       0.123185   \n",
       "Glucose                      0.185808  1.000000       0.198283       0.175339   \n",
       "BloodPressure                0.202589  0.198283       1.000000       0.213741   \n",
       "SkinThickness                0.123185  0.175339       0.213741       1.000000   \n",
       "Insulin                      0.058311  0.567717       0.073679       0.164546   \n",
       "BMI                         -0.035769  0.204807       0.333915       0.641496   \n",
       "DiabetesPedigreeFunction     0.009676  0.114756       0.007383       0.175475   \n",
       "Age                          0.655426  0.326173       0.301155       0.179684   \n",
       "\n",
       "                           Insulin       BMI  DiabetesPedigreeFunction  \\\n",
       "Pregnancies               0.058311 -0.035769                  0.009676   \n",
       "Glucose                   0.567717  0.204807                  0.114756   \n",
       "BloodPressure             0.073679  0.333915                  0.007383   \n",
       "SkinThickness             0.164546  0.641496                  0.175475   \n",
       "Insulin                   1.000000  0.230716                  0.115153   \n",
       "BMI                       0.230716  1.000000                  0.157281   \n",
       "DiabetesPedigreeFunction  0.115153  0.157281                  1.000000   \n",
       "Age                       0.211024  0.055452                  0.066986   \n",
       "\n",
       "                               Age  \n",
       "Pregnancies               0.655426  \n",
       "Glucose                   0.326173  \n",
       "BloodPressure             0.301155  \n",
       "SkinThickness             0.179684  \n",
       "Insulin                   0.211024  \n",
       "BMI                       0.055452  \n",
       "DiabetesPedigreeFunction  0.066986  \n",
       "Age                       1.000000  "
      ]
     },
     "execution_count": 42,
     "metadata": {},
     "output_type": "execute_result"
    }
   ],
   "source": [
    "corrmat = X_train.corr()\n",
    "corrmat"
   ]
  },
  {
   "cell_type": "code",
   "execution_count": 43,
   "metadata": {},
   "outputs": [
    {
     "data": {
      "text/plain": [
       "Pregnancies               Pregnancies                 1.000000\n",
       "                          Glucose                     0.185808\n",
       "                          BloodPressure               0.202589\n",
       "                          SkinThickness               0.123185\n",
       "                          Insulin                     0.058311\n",
       "                          BMI                         0.035769\n",
       "                          DiabetesPedigreeFunction    0.009676\n",
       "                          Age                         0.655426\n",
       "Glucose                   Pregnancies                 0.185808\n",
       "                          Glucose                     1.000000\n",
       "                          BloodPressure               0.198283\n",
       "                          SkinThickness               0.175339\n",
       "                          Insulin                     0.567717\n",
       "                          BMI                         0.204807\n",
       "                          DiabetesPedigreeFunction    0.114756\n",
       "                          Age                         0.326173\n",
       "BloodPressure             Pregnancies                 0.202589\n",
       "                          Glucose                     0.198283\n",
       "                          BloodPressure               1.000000\n",
       "                          SkinThickness               0.213741\n",
       "                          Insulin                     0.073679\n",
       "                          BMI                         0.333915\n",
       "                          DiabetesPedigreeFunction    0.007383\n",
       "                          Age                         0.301155\n",
       "SkinThickness             Pregnancies                 0.123185\n",
       "                          Glucose                     0.175339\n",
       "                          BloodPressure               0.213741\n",
       "                          SkinThickness               1.000000\n",
       "                          Insulin                     0.164546\n",
       "                          BMI                         0.641496\n",
       "                                                        ...   \n",
       "Insulin                   BloodPressure               0.073679\n",
       "                          SkinThickness               0.164546\n",
       "                          Insulin                     1.000000\n",
       "                          BMI                         0.230716\n",
       "                          DiabetesPedigreeFunction    0.115153\n",
       "                          Age                         0.211024\n",
       "BMI                       Pregnancies                 0.035769\n",
       "                          Glucose                     0.204807\n",
       "                          BloodPressure               0.333915\n",
       "                          SkinThickness               0.641496\n",
       "                          Insulin                     0.230716\n",
       "                          BMI                         1.000000\n",
       "                          DiabetesPedigreeFunction    0.157281\n",
       "                          Age                         0.055452\n",
       "DiabetesPedigreeFunction  Pregnancies                 0.009676\n",
       "                          Glucose                     0.114756\n",
       "                          BloodPressure               0.007383\n",
       "                          SkinThickness               0.175475\n",
       "                          Insulin                     0.115153\n",
       "                          BMI                         0.157281\n",
       "                          DiabetesPedigreeFunction    1.000000\n",
       "                          Age                         0.066986\n",
       "Age                       Pregnancies                 0.655426\n",
       "                          Glucose                     0.326173\n",
       "                          BloodPressure               0.301155\n",
       "                          SkinThickness               0.179684\n",
       "                          Insulin                     0.211024\n",
       "                          BMI                         0.055452\n",
       "                          DiabetesPedigreeFunction    0.066986\n",
       "                          Age                         1.000000\n",
       "Length: 64, dtype: float64"
      ]
     },
     "execution_count": 43,
     "metadata": {},
     "output_type": "execute_result"
    }
   ],
   "source": [
    "corrmat = corrmat.abs().unstack()\n",
    "corrmat"
   ]
  },
  {
   "cell_type": "code",
   "execution_count": 44,
   "metadata": {},
   "outputs": [
    {
     "data": {
      "text/plain": [
       "Age                       Age                         1.000000\n",
       "DiabetesPedigreeFunction  DiabetesPedigreeFunction    1.000000\n",
       "Glucose                   Glucose                     1.000000\n",
       "BloodPressure             BloodPressure               1.000000\n",
       "SkinThickness             SkinThickness               1.000000\n",
       "Insulin                   Insulin                     1.000000\n",
       "BMI                       BMI                         1.000000\n",
       "Pregnancies               Pregnancies                 1.000000\n",
       "                          Age                         0.655426\n",
       "Age                       Pregnancies                 0.655426\n",
       "SkinThickness             BMI                         0.641496\n",
       "BMI                       SkinThickness               0.641496\n",
       "Glucose                   Insulin                     0.567717\n",
       "Insulin                   Glucose                     0.567717\n",
       "BloodPressure             BMI                         0.333915\n",
       "BMI                       BloodPressure               0.333915\n",
       "Age                       Glucose                     0.326173\n",
       "Glucose                   Age                         0.326173\n",
       "BloodPressure             Age                         0.301155\n",
       "Age                       BloodPressure               0.301155\n",
       "BMI                       Insulin                     0.230716\n",
       "Insulin                   BMI                         0.230716\n",
       "SkinThickness             BloodPressure               0.213741\n",
       "BloodPressure             SkinThickness               0.213741\n",
       "Insulin                   Age                         0.211024\n",
       "Age                       Insulin                     0.211024\n",
       "Glucose                   BMI                         0.204807\n",
       "BMI                       Glucose                     0.204807\n",
       "Pregnancies               BloodPressure               0.202589\n",
       "BloodPressure             Pregnancies                 0.202589\n",
       "                                                        ...   \n",
       "Age                       SkinThickness               0.179684\n",
       "SkinThickness             Age                         0.179684\n",
       "DiabetesPedigreeFunction  SkinThickness               0.175475\n",
       "SkinThickness             DiabetesPedigreeFunction    0.175475\n",
       "Glucose                   SkinThickness               0.175339\n",
       "SkinThickness             Glucose                     0.175339\n",
       "                          Insulin                     0.164546\n",
       "Insulin                   SkinThickness               0.164546\n",
       "DiabetesPedigreeFunction  BMI                         0.157281\n",
       "BMI                       DiabetesPedigreeFunction    0.157281\n",
       "SkinThickness             Pregnancies                 0.123185\n",
       "Pregnancies               SkinThickness               0.123185\n",
       "DiabetesPedigreeFunction  Insulin                     0.115153\n",
       "Insulin                   DiabetesPedigreeFunction    0.115153\n",
       "Glucose                   DiabetesPedigreeFunction    0.114756\n",
       "DiabetesPedigreeFunction  Glucose                     0.114756\n",
       "BloodPressure             Insulin                     0.073679\n",
       "Insulin                   BloodPressure               0.073679\n",
       "DiabetesPedigreeFunction  Age                         0.066986\n",
       "Age                       DiabetesPedigreeFunction    0.066986\n",
       "Pregnancies               Insulin                     0.058311\n",
       "Insulin                   Pregnancies                 0.058311\n",
       "Age                       BMI                         0.055452\n",
       "BMI                       Age                         0.055452\n",
       "                          Pregnancies                 0.035769\n",
       "Pregnancies               BMI                         0.035769\n",
       "DiabetesPedigreeFunction  Pregnancies                 0.009676\n",
       "Pregnancies               DiabetesPedigreeFunction    0.009676\n",
       "DiabetesPedigreeFunction  BloodPressure               0.007383\n",
       "BloodPressure             DiabetesPedigreeFunction    0.007383\n",
       "Length: 64, dtype: float64"
      ]
     },
     "execution_count": 44,
     "metadata": {},
     "output_type": "execute_result"
    }
   ],
   "source": [
    "corrmat = corrmat.sort_values(ascending=False)\n",
    "corrmat"
   ]
  },
  {
   "cell_type": "code",
   "execution_count": 45,
   "metadata": {},
   "outputs": [
    {
     "data": {
      "text/html": [
       "<div>\n",
       "<style scoped>\n",
       "    .dataframe tbody tr th:only-of-type {\n",
       "        vertical-align: middle;\n",
       "    }\n",
       "\n",
       "    .dataframe tbody tr th {\n",
       "        vertical-align: top;\n",
       "    }\n",
       "\n",
       "    .dataframe thead th {\n",
       "        text-align: right;\n",
       "    }\n",
       "</style>\n",
       "<table border=\"1\" class=\"dataframe\">\n",
       "  <thead>\n",
       "    <tr style=\"text-align: right;\">\n",
       "      <th></th>\n",
       "      <th>feature1</th>\n",
       "      <th>feature2</th>\n",
       "      <th>corr</th>\n",
       "    </tr>\n",
       "  </thead>\n",
       "  <tbody>\n",
       "    <tr>\n",
       "      <th>0</th>\n",
       "      <td>Age</td>\n",
       "      <td>Age</td>\n",
       "      <td>1.0</td>\n",
       "    </tr>\n",
       "    <tr>\n",
       "      <th>1</th>\n",
       "      <td>DiabetesPedigreeFunction</td>\n",
       "      <td>DiabetesPedigreeFunction</td>\n",
       "      <td>1.0</td>\n",
       "    </tr>\n",
       "    <tr>\n",
       "      <th>2</th>\n",
       "      <td>Glucose</td>\n",
       "      <td>Glucose</td>\n",
       "      <td>1.0</td>\n",
       "    </tr>\n",
       "    <tr>\n",
       "      <th>3</th>\n",
       "      <td>BloodPressure</td>\n",
       "      <td>BloodPressure</td>\n",
       "      <td>1.0</td>\n",
       "    </tr>\n",
       "    <tr>\n",
       "      <th>4</th>\n",
       "      <td>SkinThickness</td>\n",
       "      <td>SkinThickness</td>\n",
       "      <td>1.0</td>\n",
       "    </tr>\n",
       "  </tbody>\n",
       "</table>\n",
       "</div>"
      ],
      "text/plain": [
       "                   feature1                  feature2  corr\n",
       "0                       Age                       Age   1.0\n",
       "1  DiabetesPedigreeFunction  DiabetesPedigreeFunction   1.0\n",
       "2                   Glucose                   Glucose   1.0\n",
       "3             BloodPressure             BloodPressure   1.0\n",
       "4             SkinThickness             SkinThickness   1.0"
      ]
     },
     "execution_count": 45,
     "metadata": {},
     "output_type": "execute_result"
    }
   ],
   "source": [
    "corrmat = pd.DataFrame(corrmat).reset_index()\n",
    "corrmat.columns = ['feature1', 'feature2', 'corr']\n",
    "corrmat.head()"
   ]
  },
  {
   "cell_type": "code",
   "execution_count": 46,
   "metadata": {},
   "outputs": [
    {
     "name": "stdout",
     "output_type": "stream",
     "text": [
      "found 1 correlated groups\n",
      "out of 8 total features\n"
     ]
    }
   ],
   "source": [
    "# find groups of correlated features\n",
    "\n",
    "grouped_feature_ls = []\n",
    "correlated_groups = []\n",
    "\n",
    "for feature in corrmat.feature1.unique():\n",
    "    if feature not in grouped_feature_ls:\n",
    "\n",
    "        # find all features correlated to a single feature\n",
    "        correlated_block = corrmat[corrmat.feature1 == feature]\n",
    "        grouped_feature_ls = grouped_feature_ls + list(\n",
    "            correlated_block.feature2.unique()) + [feature]\n",
    "\n",
    "        # append the block of features to the list\n",
    "        correlated_groups.append(correlated_block)\n",
    "\n",
    "print('found {} correlated groups'.format(len(correlated_groups)))\n",
    "print('out of {} total features'.format(X_train.shape[1]))"
   ]
  },
  {
   "cell_type": "code",
   "execution_count": 47,
   "metadata": {},
   "outputs": [
    {
     "name": "stdout",
     "output_type": "stream",
     "text": [
      "   feature1                  feature2      corr\n",
      "0       Age                       Age  1.000000\n",
      "9       Age               Pregnancies  0.655426\n",
      "16      Age                   Glucose  0.326173\n",
      "19      Age             BloodPressure  0.301155\n",
      "25      Age                   Insulin  0.211024\n",
      "34      Age             SkinThickness  0.179684\n",
      "53      Age  DiabetesPedigreeFunction  0.066986\n",
      "56      Age                       BMI  0.055452\n",
      "\n"
     ]
    }
   ],
   "source": [
    "# now we can visualise each group. We see that some groups contain\n",
    "# only 2 correlated features, some other groups present several features \n",
    "# that are correlated among themselves.\n",
    "\n",
    "for group in correlated_groups:\n",
    "    print(group)\n",
    "    print()"
   ]
  },
  {
   "cell_type": "code",
   "execution_count": 48,
   "metadata": {},
   "outputs": [
    {
     "data": {
      "text/html": [
       "<div>\n",
       "<style scoped>\n",
       "    .dataframe tbody tr th:only-of-type {\n",
       "        vertical-align: middle;\n",
       "    }\n",
       "\n",
       "    .dataframe tbody tr th {\n",
       "        vertical-align: top;\n",
       "    }\n",
       "\n",
       "    .dataframe thead th {\n",
       "        text-align: right;\n",
       "    }\n",
       "</style>\n",
       "<table border=\"1\" class=\"dataframe\">\n",
       "  <thead>\n",
       "    <tr style=\"text-align: right;\">\n",
       "      <th></th>\n",
       "      <th>feature1</th>\n",
       "      <th>feature2</th>\n",
       "      <th>corr</th>\n",
       "    </tr>\n",
       "  </thead>\n",
       "  <tbody>\n",
       "    <tr>\n",
       "      <th>0</th>\n",
       "      <td>Age</td>\n",
       "      <td>Age</td>\n",
       "      <td>1.000000</td>\n",
       "    </tr>\n",
       "    <tr>\n",
       "      <th>9</th>\n",
       "      <td>Age</td>\n",
       "      <td>Pregnancies</td>\n",
       "      <td>0.655426</td>\n",
       "    </tr>\n",
       "    <tr>\n",
       "      <th>16</th>\n",
       "      <td>Age</td>\n",
       "      <td>Glucose</td>\n",
       "      <td>0.326173</td>\n",
       "    </tr>\n",
       "    <tr>\n",
       "      <th>19</th>\n",
       "      <td>Age</td>\n",
       "      <td>BloodPressure</td>\n",
       "      <td>0.301155</td>\n",
       "    </tr>\n",
       "    <tr>\n",
       "      <th>25</th>\n",
       "      <td>Age</td>\n",
       "      <td>Insulin</td>\n",
       "      <td>0.211024</td>\n",
       "    </tr>\n",
       "    <tr>\n",
       "      <th>34</th>\n",
       "      <td>Age</td>\n",
       "      <td>SkinThickness</td>\n",
       "      <td>0.179684</td>\n",
       "    </tr>\n",
       "    <tr>\n",
       "      <th>53</th>\n",
       "      <td>Age</td>\n",
       "      <td>DiabetesPedigreeFunction</td>\n",
       "      <td>0.066986</td>\n",
       "    </tr>\n",
       "    <tr>\n",
       "      <th>56</th>\n",
       "      <td>Age</td>\n",
       "      <td>BMI</td>\n",
       "      <td>0.055452</td>\n",
       "    </tr>\n",
       "  </tbody>\n",
       "</table>\n",
       "</div>"
      ],
      "text/plain": [
       "   feature1                  feature2      corr\n",
       "0       Age                       Age  1.000000\n",
       "9       Age               Pregnancies  0.655426\n",
       "16      Age                   Glucose  0.326173\n",
       "19      Age             BloodPressure  0.301155\n",
       "25      Age                   Insulin  0.211024\n",
       "34      Age             SkinThickness  0.179684\n",
       "53      Age  DiabetesPedigreeFunction  0.066986\n",
       "56      Age                       BMI  0.055452"
      ]
     },
     "execution_count": 48,
     "metadata": {},
     "output_type": "execute_result"
    }
   ],
   "source": [
    "group = correlated_groups[0]\n",
    "group"
   ]
  },
  {
   "cell_type": "code",
   "execution_count": null,
   "metadata": {},
   "outputs": [],
   "source": []
  },
  {
   "cell_type": "code",
   "execution_count": null,
   "metadata": {},
   "outputs": [],
   "source": []
  },
  {
   "cell_type": "markdown",
   "metadata": {},
   "source": [
    "### Wrapper"
   ]
  },
  {
   "cell_type": "markdown",
   "metadata": {},
   "source": [
    "#### Recursive feature elimination with cross validation and Logistic Regression"
   ]
  },
  {
   "cell_type": "code",
   "execution_count": 49,
   "metadata": {},
   "outputs": [
    {
     "data": {
      "text/plain": [
       "RFECV(cv=10,\n",
       "      estimator=LogisticRegression(C=1.0, class_weight=None, dual=False,\n",
       "                                   fit_intercept=True, intercept_scaling=1,\n",
       "                                   l1_ratio=None, max_iter=100,\n",
       "                                   multi_class='auto', n_jobs=None,\n",
       "                                   penalty='l2', random_state=None,\n",
       "                                   solver='lbfgs', tol=0.0001, verbose=0,\n",
       "                                   warm_start=False),\n",
       "      min_features_to_select=1, n_jobs=None, scoring='accuracy', step=1,\n",
       "      verbose=0)"
      ]
     },
     "execution_count": 49,
     "metadata": {},
     "output_type": "execute_result"
    }
   ],
   "source": [
    "strat_k_fold = 10\n",
    "# Feature Selection\n",
    "from sklearn.feature_selection import RFECV\n",
    "from sklearn.linear_model import LogisticRegression\n",
    "\n",
    "logreg_model = LogisticRegression()\n",
    "rfecv = RFECV(estimator=logreg_model, step=1, cv=strat_k_fold, scoring='accuracy')\n",
    "rfecv.fit(X_train, y_train)"
   ]
  },
  {
   "cell_type": "code",
   "execution_count": 50,
   "metadata": {},
   "outputs": [
    {
     "data": {
      "text/plain": [
       "[<matplotlib.lines.Line2D at 0x28a7e064978>]"
      ]
     },
     "execution_count": 50,
     "metadata": {},
     "output_type": "execute_result"
    },
    {
     "data": {
      "image/png": "[encoded data removed]",
      "text/plain": [
       "<Figure size 432x288 with 1 Axes>"
      ]
     },
     "metadata": {
      "needs_background": "light"
     },
     "output_type": "display_data"
    }
   ],
   "source": [
    "# plot grid_scores_\n",
    "plt.figure()\n",
    "plt.title('Logistic Regression CV score vs No of Features')\n",
    "plt.xlabel(\"Number of features selected\")\n",
    "plt.ylabel(\"Cross validation score (nb of correct classifications)\")\n",
    "plt.plot(range(1, len(rfecv.grid_scores_) + 1), rfecv.grid_scores_)"
   ]
  },
  {
   "cell_type": "code",
   "execution_count": 51,
   "metadata": {},
   "outputs": [
    {
     "name": "stdout",
     "output_type": "stream",
     "text": [
      "['Glucose', 'SkinThickness', 'BMI', 'DiabetesPedigreeFunction', 'Age']\n"
     ]
    }
   ],
   "source": [
    "feature_importance = list(zip(X.columns, rfecv.support_))\n",
    "rfecv_features = []\n",
    "for key,value in enumerate(feature_importance):\n",
    "    if(value[1]) == True:\n",
    "        rfecv_features.append(value[0])        \n",
    "print(rfecv_features)"
   ]
  },
  {
   "cell_type": "code",
   "execution_count": 52,
   "metadata": {},
   "outputs": [
    {
     "data": {
      "text/plain": [
       "[('Pregnancies', False),\n",
       " ('Glucose', True),\n",
       " ('BloodPressure', False),\n",
       " ('SkinThickness', True),\n",
       " ('Insulin', False),\n",
       " ('BMI', True),\n",
       " ('DiabetesPedigreeFunction', True),\n",
       " ('Age', True)]"
      ]
     },
     "execution_count": 52,
     "metadata": {},
     "output_type": "execute_result"
    }
   ],
   "source": [
    "feature_importance"
   ]
  },
  {
   "cell_type": "markdown",
   "metadata": {},
   "source": [
    "### Recursive feature elimination (RFE) with random forest"
   ]
  },
  {
   "cell_type": "code",
   "execution_count": 53,
   "metadata": {},
   "outputs": [
    {
     "name": "stdout",
     "output_type": "stream",
     "text": [
      "Fitting estimator with 8 features.\n"
     ]
    },
    {
     "data": {
      "text/plain": [
       "RFE(estimator=RandomForestClassifier(bootstrap=True, ccp_alpha=0.0,\n",
       "                                     class_weight=None, criterion='gini',\n",
       "                                     max_depth=None, max_features='auto',\n",
       "                                     max_leaf_nodes=None, max_samples=None,\n",
       "                                     min_impurity_decrease=0.0,\n",
       "                                     min_impurity_split=None,\n",
       "                                     min_samples_leaf=1, min_samples_split=2,\n",
       "                                     min_weight_fraction_leaf=0.0,\n",
       "                                     n_estimators=100, n_jobs=None,\n",
       "                                     oob_score=False, random_state=None,\n",
       "                                     verbose=0, warm_start=False),\n",
       "    n_features_to_select=4, step=10, verbose=5)"
      ]
     },
     "execution_count": 53,
     "metadata": {},
     "output_type": "execute_result"
    }
   ],
   "source": [
    "from sklearn.feature_selection import RFE\n",
    "from sklearn.ensemble import RandomForestClassifier\n",
    "rfe_selector = RFE(estimator=RandomForestClassifier(), n_features_to_select=4, step=10, verbose=5)\n",
    "rfe_selector.fit(X_train, y_train)"
   ]
  },
  {
   "cell_type": "code",
   "execution_count": 54,
   "metadata": {},
   "outputs": [
    {
     "name": "stdout",
     "output_type": "stream",
     "text": [
      "4 selected features\n"
     ]
    }
   ],
   "source": [
    "rfe_support = rfe_selector.get_support()\n",
    "rfe_feature = X_train.loc[:,rfe_support].columns.tolist()\n",
    "print(str(len(rfe_feature)), 'selected features')"
   ]
  },
  {
   "cell_type": "code",
   "execution_count": 55,
   "metadata": {},
   "outputs": [
    {
     "data": {
      "text/plain": [
       "['Glucose', 'Insulin', 'BMI', 'Age']"
      ]
     },
     "execution_count": 55,
     "metadata": {},
     "output_type": "execute_result"
    }
   ],
   "source": [
    "rfe_feature"
   ]
  },
  {
   "cell_type": "markdown",
   "metadata": {},
   "source": [
    "# Embeded"
   ]
  },
  {
   "cell_type": "markdown",
   "metadata": {},
   "source": [
    "#### Lasso"
   ]
  },
  {
   "cell_type": "code",
   "execution_count": 60,
   "metadata": {},
   "outputs": [
    {
     "data": {
      "text/plain": [
       "['Glucose', 'Age']"
      ]
     },
     "execution_count": 60,
     "metadata": {},
     "output_type": "execute_result"
    }
   ],
   "source": [
    "from sklearn.feature_selection import SelectFromModel\n",
    "from sklearn.linear_model import LogisticRegression\n",
    "\n",
    "embeded_lr_selector = SelectFromModel(LogisticRegression(penalty=\"l2\"), '1.25*median')\n",
    "embeded_lr_selector.fit(X_train, y_train)\n",
    "\n",
    "embeded_lr_support = embeded_lr_selector.get_support()\n",
    "embeded_lr_feature = X_train.loc[:,embeded_lr_support].columns.tolist()\n",
    "embeded_lr_feature"
   ]
  },
  {
   "cell_type": "markdown",
   "metadata": {},
   "source": [
    "#### Random Forest"
   ]
  },
  {
   "cell_type": "code",
   "execution_count": 61,
   "metadata": {},
   "outputs": [
    {
     "data": {
      "text/plain": [
       "['Glucose', 'Insulin', 'Age']"
      ]
     },
     "execution_count": 61,
     "metadata": {},
     "output_type": "execute_result"
    }
   ],
   "source": [
    "from sklearn.feature_selection import SelectFromModel\n",
    "from sklearn.ensemble import RandomForestClassifier\n",
    "\n",
    "embeded_rf_selector = SelectFromModel(RandomForestClassifier(n_estimators=100), threshold='1.25*median')\n",
    "embeded_rf_selector.fit(X_train, y_train)\n",
    "\n",
    "embeded_rf_support = embeded_rf_selector.get_support()\n",
    "embeded_rf_feature = X_train.loc[:,embeded_rf_support].columns.tolist()\n",
    "embeded_rf_feature"
   ]
  },
  {
   "cell_type": "markdown",
   "metadata": {},
   "source": [
    "#### LightGBM"
   ]
  },
  {
   "cell_type": "code",
   "execution_count": 62,
   "metadata": {},
   "outputs": [
    {
     "data": {
      "text/plain": [
       "['Pregnancies',\n",
       " 'Glucose',\n",
       " 'BloodPressure',\n",
       " 'SkinThickness',\n",
       " 'Insulin',\n",
       " 'BMI',\n",
       " 'DiabetesPedigreeFunction',\n",
       " 'Age']"
      ]
     },
     "execution_count": 62,
     "metadata": {},
     "output_type": "execute_result"
    }
   ],
   "source": [
    "from sklearn.feature_selection import SelectFromModel\n",
    "from lightgbm import LGBMClassifier\n",
    "\n",
    "lgbc=LGBMClassifier(n_estimators=500, learning_rate=0.05, num_leaves=32, colsample_bytree=0.2,\n",
    "            reg_alpha=3, reg_lambda=1, min_split_gain=0.01, min_child_weight=40)\n",
    "\n",
    "embeded_lgb_selector = SelectFromModel(lgbc, threshold='1.25*median')\n",
    "embeded_lgb_selector.fit(X_train, y_train)\n",
    "\n",
    "embeded_lgb_support = embeded_lgb_selector.get_support()\n",
    "embeded_lgb_feature = X_train.loc[:,embeded_lgb_support].columns.tolist()\n",
    "embeded_lgb_feature"
   ]
  },
  {
   "cell_type": "markdown",
   "metadata": {},
   "source": [
    "### Gradient Boosted trees importance"
   ]
  },
  {
   "cell_type": "code",
   "execution_count": 63,
   "metadata": {},
   "outputs": [
    {
     "data": {
      "text/plain": [
       "['Glucose', 'DiabetesPedigreeFunction', 'Age']"
      ]
     },
     "execution_count": 63,
     "metadata": {},
     "output_type": "execute_result"
    }
   ],
   "source": [
    "from sklearn.feature_selection import SelectFromModel\n",
    "from sklearn.ensemble import GradientBoostingClassifier\n",
    "\n",
    "embeded_gbt_selector = SelectFromModel(GradientBoostingClassifier())\n",
    "embeded_gbt_selector.fit(X_train, y_train)\n",
    "\n",
    "embeded_gbt_support = embeded_gbt_selector.get_support()\n",
    "embeded_gbt_feature = X_train.loc[:,embeded_gbt_support].columns.tolist()\n",
    "embeded_gbt_feature"
   ]
  },
  {
   "cell_type": "code",
   "execution_count": null,
   "metadata": {},
   "outputs": [],
   "source": []
  },
  {
   "cell_type": "markdown",
   "metadata": {},
   "source": [
    "### Tree based feature selection and random forest classification"
   ]
  },
  {
   "cell_type": "code",
   "execution_count": 66,
   "metadata": {},
   "outputs": [
    {
     "name": "stdout",
     "output_type": "stream",
     "text": [
      "Feature ranking:\n",
      "1. feature 1 (0.240887)\n",
      "2. feature 4 (0.143605)\n",
      "3. feature 7 (0.140381)\n",
      "4. feature 6 (0.114376)\n",
      "5. feature 5 (0.113814)\n",
      "6. feature 3 (0.090739)\n",
      "7. feature 0 (0.082688)\n",
      "8. feature 2 (0.073511)\n"
     ]
    },
    {
     "data": {
      "image/png": "[encoded data removed]",
      "text/plain": [
       "<Figure size 576x432 with 1 Axes>"
      ]
     },
     "metadata": {
      "needs_background": "light"
     },
     "output_type": "display_data"
    }
   ],
   "source": [
    "clf_rf_5 = RandomForestClassifier()      \n",
    "clr_rf_5 = clf_rf_5.fit(X,y)\n",
    "importances = clr_rf_5.feature_importances_\n",
    "std = np.std([tree.feature_importances_ for tree in clr_rf_5.estimators_],axis=0)\n",
    "indices = np.argsort(importances)[::-1]\n",
    "\n",
    "# Print the feature ranking\n",
    "print(\"Feature ranking:\")\n",
    "\n",
    "for f in range(X.shape[1]):\n",
    "    print(\"%d. feature %d (%f)\" % (f + 1, indices[f], importances[indices[f]]))\n",
    "\n",
    "# Plot the feature importances of the forest\n",
    "\n",
    "plt.figure(1, figsize=(8, 6))\n",
    "plt.title(\"Feature importances\")\n",
    "plt.bar(range(X.shape[1]), importances[indices],\n",
    "       color=\"g\", yerr=std[indices], align=\"center\")\n",
    "plt.xticks(range(X.shape[1]), X.columns[indices],rotation=90)\n",
    "plt.xlim([-1, X.shape[1]])\n",
    "plt.show()"
   ]
  },
  {
   "cell_type": "code",
   "execution_count": 67,
   "metadata": {
    "scrolled": true
   },
   "outputs": [
    {
     "data": {
      "text/html": [
       "<div>\n",
       "<style scoped>\n",
       "    .dataframe tbody tr th:only-of-type {\n",
       "        vertical-align: middle;\n",
       "    }\n",
       "\n",
       "    .dataframe tbody tr th {\n",
       "        vertical-align: top;\n",
       "    }\n",
       "\n",
       "    .dataframe thead th {\n",
       "        text-align: right;\n",
       "    }\n",
       "</style>\n",
       "<table border=\"1\" class=\"dataframe\">\n",
       "  <thead>\n",
       "    <tr style=\"text-align: right;\">\n",
       "      <th></th>\n",
       "      <th>Feature</th>\n",
       "      <th>Pearson</th>\n",
       "      <th>ROC-AUC</th>\n",
       "      <th>Chi-2</th>\n",
       "      <th>RFE</th>\n",
       "      <th>Logistics</th>\n",
       "      <th>Random Forest</th>\n",
       "      <th>LightGBM</th>\n",
       "      <th>Gradient Boosting Trees</th>\n",
       "      <th>Total</th>\n",
       "    </tr>\n",
       "  </thead>\n",
       "  <tbody>\n",
       "    <tr>\n",
       "      <th>1</th>\n",
       "      <td>Age</td>\n",
       "      <td>True</td>\n",
       "      <td>True</td>\n",
       "      <td>True</td>\n",
       "      <td>True</td>\n",
       "      <td>True</td>\n",
       "      <td>True</td>\n",
       "      <td>True</td>\n",
       "      <td>True</td>\n",
       "      <td>8</td>\n",
       "    </tr>\n",
       "    <tr>\n",
       "      <th>2</th>\n",
       "      <td>Glucose</td>\n",
       "      <td>True</td>\n",
       "      <td>False</td>\n",
       "      <td>True</td>\n",
       "      <td>True</td>\n",
       "      <td>True</td>\n",
       "      <td>True</td>\n",
       "      <td>True</td>\n",
       "      <td>True</td>\n",
       "      <td>7</td>\n",
       "    </tr>\n",
       "    <tr>\n",
       "      <th>3</th>\n",
       "      <td>Insulin</td>\n",
       "      <td>True</td>\n",
       "      <td>True</td>\n",
       "      <td>True</td>\n",
       "      <td>True</td>\n",
       "      <td>False</td>\n",
       "      <td>True</td>\n",
       "      <td>True</td>\n",
       "      <td>False</td>\n",
       "      <td>6</td>\n",
       "    </tr>\n",
       "    <tr>\n",
       "      <th>4</th>\n",
       "      <td>Pregnancies</td>\n",
       "      <td>False</td>\n",
       "      <td>True</td>\n",
       "      <td>True</td>\n",
       "      <td>False</td>\n",
       "      <td>False</td>\n",
       "      <td>False</td>\n",
       "      <td>True</td>\n",
       "      <td>False</td>\n",
       "      <td>3</td>\n",
       "    </tr>\n",
       "    <tr>\n",
       "      <th>5</th>\n",
       "      <td>DiabetesPedigreeFunction</td>\n",
       "      <td>False</td>\n",
       "      <td>False</td>\n",
       "      <td>False</td>\n",
       "      <td>False</td>\n",
       "      <td>False</td>\n",
       "      <td>False</td>\n",
       "      <td>True</td>\n",
       "      <td>True</td>\n",
       "      <td>2</td>\n",
       "    </tr>\n",
       "    <tr>\n",
       "      <th>6</th>\n",
       "      <td>BMI</td>\n",
       "      <td>False</td>\n",
       "      <td>False</td>\n",
       "      <td>False</td>\n",
       "      <td>True</td>\n",
       "      <td>False</td>\n",
       "      <td>False</td>\n",
       "      <td>True</td>\n",
       "      <td>False</td>\n",
       "      <td>2</td>\n",
       "    </tr>\n",
       "    <tr>\n",
       "      <th>7</th>\n",
       "      <td>SkinThickness</td>\n",
       "      <td>False</td>\n",
       "      <td>False</td>\n",
       "      <td>False</td>\n",
       "      <td>False</td>\n",
       "      <td>False</td>\n",
       "      <td>False</td>\n",
       "      <td>True</td>\n",
       "      <td>False</td>\n",
       "      <td>1</td>\n",
       "    </tr>\n",
       "    <tr>\n",
       "      <th>8</th>\n",
       "      <td>BloodPressure</td>\n",
       "      <td>False</td>\n",
       "      <td>False</td>\n",
       "      <td>False</td>\n",
       "      <td>False</td>\n",
       "      <td>False</td>\n",
       "      <td>False</td>\n",
       "      <td>True</td>\n",
       "      <td>False</td>\n",
       "      <td>1</td>\n",
       "    </tr>\n",
       "  </tbody>\n",
       "</table>\n",
       "</div>"
      ],
      "text/plain": [
       "                    Feature  Pearson  ROC-AUC  Chi-2    RFE  Logistics  \\\n",
       "1                       Age     True     True   True   True       True   \n",
       "2                   Glucose     True    False   True   True       True   \n",
       "3                   Insulin     True     True   True   True      False   \n",
       "4               Pregnancies    False     True   True  False      False   \n",
       "5  DiabetesPedigreeFunction    False    False  False  False      False   \n",
       "6                       BMI    False    False  False   True      False   \n",
       "7             SkinThickness    False    False  False  False      False   \n",
       "8             BloodPressure    False    False  False  False      False   \n",
       "\n",
       "   Random Forest  LightGBM  Gradient Boosting Trees  Total  \n",
       "1           True      True                     True      8  \n",
       "2           True      True                     True      7  \n",
       "3           True      True                    False      6  \n",
       "4          False      True                    False      3  \n",
       "5          False      True                     True      2  \n",
       "6          False      True                    False      2  \n",
       "7          False      True                    False      1  \n",
       "8          False      True                    False      1  "
      ]
     },
     "execution_count": 67,
     "metadata": {},
     "output_type": "execute_result"
    }
   ],
   "source": [
    "pd.set_option('display.max_rows', None)\n",
    "# put all selection together\n",
    "feature_selection_df = pd.DataFrame({'Feature':feature_name, 'Pearson':cor_support, 'ROC-AUC':rocauc_support, 'Chi-2':chi_support, 'RFE':rfe_support, 'Logistics':embeded_lr_support,\n",
    "                                    'Random Forest':embeded_rf_support,'LightGBM':embeded_lgb_support,'Gradient Boosting Trees':embeded_gbt_support})\n",
    "# count the selected times for each feature\n",
    "feature_selection_df['Total'] = np.sum(feature_selection_df, axis=1)\n",
    "# display the top 100\n",
    "feature_selection_df = feature_selection_df.sort_values(['Total','Feature'] , ascending=False)\n",
    "feature_selection_df.index = range(1, len(feature_selection_df)+1)\n",
    "feature_selection_df.head(100)"
   ]
  },
  {
   "cell_type": "code",
   "execution_count": null,
   "metadata": {},
   "outputs": [],
   "source": []
  }
 ],
 "metadata": {
  "kernelspec": {
   "display_name": "Python 3",
   "language": "python",
   "name": "python3"
  },
  "language_info": {
   "codemirror_mode": {
    "name": "ipython",
    "version": 3
   },
   "file_extension": ".py",
   "mimetype": "text/x-python",
   "name": "python",
   "nbconvert_exporter": "python",
   "pygments_lexer": "ipython3",
   "version": "3.7.3"
  }
 },
 "nbformat": 4,
 "nbformat_minor": 2
}
