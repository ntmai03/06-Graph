{
 "cells": [
  {
   "cell_type": "markdown",
   "metadata": {},
   "source": [
    "http://localhost:8888/notebooks/0-MyCollection/00-CreditCardScore/02-CreditCardApproval-LogisticRegression.ipynb"
   ]
  },
  {
   "cell_type": "markdown",
   "metadata": {},
   "source": [
    "# 1. Import library"
   ]
  },
  {
   "cell_type": "code",
   "execution_count": 58,
   "metadata": {},
   "outputs": [],
   "source": [
    "# to handle datasets\n",
    "import pandas as pd\n",
    "import numpy as np\n",
    "import matplotlib.pyplot as plt\n",
    "import seaborn as sns\n",
    "\n",
    "# for text / string processing\n",
    "import re\n",
    "\n",
    "# for plotting\n",
    "import matplotlib.pyplot as plt\n",
    "\n",
    "# to divide train and test set\n",
    "from sklearn.model_selection import train_test_split\n",
    "# Modelling Helpers:\n",
    "# from sklearn.preprocessing import Imputer, Normalizer, scale\n",
    "from sklearn.model_selection import train_test_split\n",
    "from sklearn.feature_selection import RFECV\n",
    "from sklearn.model_selection import GridSearchCV, KFold, cross_val_score, ShuffleSplit, cross_validate\n",
    "from sklearn import model_selection\n",
    "from sklearn.model_selection import train_test_split\n",
    "\n",
    "# feature scaling\n",
    "from sklearn.preprocessing import MinMaxScaler\n",
    "\n",
    "# for tree binarisation\n",
    "from sklearn.tree import DecisionTreeClassifier\n",
    "from sklearn.model_selection import cross_val_score\n",
    "\n",
    "\n",
    "# Classification\n",
    "from sklearn.tree import DecisionTreeClassifier\n",
    "from sklearn.neighbors import KNeighborsClassifier\n",
    "from sklearn.naive_bayes import GaussianNB\n",
    "from lightgbm import LGBMClassifier\n",
    "from sklearn.svm import SVC, LinearSVC\n",
    "from sklearn.ensemble import RandomForestClassifier, GradientBoostingClassifier, AdaBoostClassifier\n",
    "from sklearn.discriminant_analysis import LinearDiscriminantAnalysis, QuadraticDiscriminantAnalysis\n",
    "from xgboost import XGBClassifier\n",
    "from sklearn.neural_network import MLPClassifier\n",
    "# Evaluation metrics for Classification\n",
    "from sklearn.metrics import accuracy_score, confusion_matrix, precision_score, recall_score, f1_score, classification_report, roc_auc_score, roc_curve, precision_recall_curve, average_precision_score\n",
    "\n",
    "# Regression\n",
    "from sklearn.linear_model import LinearRegression,Ridge,Lasso,RidgeCV,ElasticNet,LogisticRegression\n",
    "from sklearn.ensemble import RandomForestRegressor,BaggingRegressor,GradientBoostingRegressor,AdaBoostRegressor\n",
    "from sklearn.svm import SVR\n",
    "from sklearn.neighbors import KNeighborsRegressor\n",
    "from sklearn.neural_network import MLPRegressor\n",
    "from xgboost import XGBRegressor\n",
    "# Evaluation metrics for Regression \n",
    "from sklearn.metrics import mean_squared_log_error, mean_squared_error, r2_score, mean_absolute_error\n",
    "from sklearn.metrics import (confusion_matrix, classification_report, accuracy_score, roc_auc_score, auc,\n",
    "                             precision_score, recall_score, roc_curve, precision_recall_curve,\n",
    "                             precision_recall_fscore_support, f1_score,\n",
    "                             precision_recall_fscore_support)\n",
    "\n",
    "# to evaluate the models\n",
    "from sklearn.metrics import roc_auc_score\n",
    "from sklearn import metrics\n",
    "\n",
    "pd.pandas.set_option('display.max_columns', None)\n",
    "\n",
    "import warnings\n",
    "warnings.filterwarnings('ignore')"
   ]
  },
  {
   "cell_type": "markdown",
   "metadata": {},
   "source": [
    "# 2. Load data"
   ]
  },
  {
   "cell_type": "code",
   "execution_count": 59,
   "metadata": {},
   "outputs": [
    {
     "data": {
      "text/plain": [
       "((668, 17), (223, 17))"
      ]
     },
     "execution_count": 59,
     "metadata": {},
     "output_type": "execute_result"
    }
   ],
   "source": [
    "# load dataset\n",
    "train_df = pd.read_csv('preprocessed_Train.csv')\n",
    "test_df = pd.read_csv('preprocessed_Test.csv')\n",
    "(train_df.shape, test_df.shape)"
   ]
  },
  {
   "cell_type": "code",
   "execution_count": 60,
   "metadata": {},
   "outputs": [
    {
     "data": {
      "text/html": [
       "<div>\n",
       "<style scoped>\n",
       "    .dataframe tbody tr th:only-of-type {\n",
       "        vertical-align: middle;\n",
       "    }\n",
       "\n",
       "    .dataframe tbody tr th {\n",
       "        vertical-align: top;\n",
       "    }\n",
       "\n",
       "    .dataframe thead th {\n",
       "        text-align: right;\n",
       "    }\n",
       "</style>\n",
       "<table border=\"1\" class=\"dataframe\">\n",
       "  <thead>\n",
       "    <tr style=\"text-align: right;\">\n",
       "      <th></th>\n",
       "      <th>Survived</th>\n",
       "      <th>Pclass</th>\n",
       "      <th>Sex</th>\n",
       "      <th>Age</th>\n",
       "      <th>SibSp</th>\n",
       "      <th>Parch</th>\n",
       "      <th>Fare</th>\n",
       "      <th>Embarked</th>\n",
       "      <th>Cabin_numerical</th>\n",
       "      <th>Cabin_categorical</th>\n",
       "      <th>Ticket_numerical</th>\n",
       "      <th>Ticket_categorical</th>\n",
       "      <th>Title</th>\n",
       "      <th>Family_size</th>\n",
       "      <th>is_mother</th>\n",
       "      <th>Age_NA</th>\n",
       "      <th>Ticket_numerical_NA</th>\n",
       "    </tr>\n",
       "  </thead>\n",
       "  <tbody>\n",
       "    <tr>\n",
       "      <th>0</th>\n",
       "      <td>0</td>\n",
       "      <td>1</td>\n",
       "      <td>1</td>\n",
       "      <td>31.0</td>\n",
       "      <td>1</td>\n",
       "      <td>0</td>\n",
       "      <td>0.500000</td>\n",
       "      <td>0.345603</td>\n",
       "      <td>71.000000</td>\n",
       "      <td>0.720930</td>\n",
       "      <td>0.421687</td>\n",
       "      <td>0.342857</td>\n",
       "      <td>0.153646</td>\n",
       "      <td>2</td>\n",
       "      <td>0</td>\n",
       "      <td>0</td>\n",
       "      <td>0</td>\n",
       "    </tr>\n",
       "    <tr>\n",
       "      <th>1</th>\n",
       "      <td>1</td>\n",
       "      <td>2</td>\n",
       "      <td>0</td>\n",
       "      <td>18.0</td>\n",
       "      <td>0</td>\n",
       "      <td>2</td>\n",
       "      <td>0.416667</td>\n",
       "      <td>0.345603</td>\n",
       "      <td>157.888732</td>\n",
       "      <td>0.304348</td>\n",
       "      <td>0.279070</td>\n",
       "      <td>0.382114</td>\n",
       "      <td>0.706767</td>\n",
       "      <td>3</td>\n",
       "      <td>0</td>\n",
       "      <td>0</td>\n",
       "      <td>0</td>\n",
       "    </tr>\n",
       "    <tr>\n",
       "      <th>2</th>\n",
       "      <td>0</td>\n",
       "      <td>3</td>\n",
       "      <td>0</td>\n",
       "      <td>9.0</td>\n",
       "      <td>3</td>\n",
       "      <td>2</td>\n",
       "      <td>0.450000</td>\n",
       "      <td>0.345603</td>\n",
       "      <td>157.888732</td>\n",
       "      <td>0.304348</td>\n",
       "      <td>0.123457</td>\n",
       "      <td>0.382114</td>\n",
       "      <td>0.706767</td>\n",
       "      <td>6</td>\n",
       "      <td>0</td>\n",
       "      <td>0</td>\n",
       "      <td>0</td>\n",
       "    </tr>\n",
       "    <tr>\n",
       "      <th>3</th>\n",
       "      <td>1</td>\n",
       "      <td>2</td>\n",
       "      <td>0</td>\n",
       "      <td>22.0</td>\n",
       "      <td>1</td>\n",
       "      <td>1</td>\n",
       "      <td>0.450000</td>\n",
       "      <td>0.345603</td>\n",
       "      <td>157.888732</td>\n",
       "      <td>0.304348</td>\n",
       "      <td>0.279070</td>\n",
       "      <td>0.382114</td>\n",
       "      <td>0.795918</td>\n",
       "      <td>3</td>\n",
       "      <td>1</td>\n",
       "      <td>0</td>\n",
       "      <td>0</td>\n",
       "    </tr>\n",
       "    <tr>\n",
       "      <th>4</th>\n",
       "      <td>0</td>\n",
       "      <td>3</td>\n",
       "      <td>1</td>\n",
       "      <td>19.0</td>\n",
       "      <td>0</td>\n",
       "      <td>0</td>\n",
       "      <td>0.212500</td>\n",
       "      <td>0.345603</td>\n",
       "      <td>157.888732</td>\n",
       "      <td>0.304348</td>\n",
       "      <td>0.279070</td>\n",
       "      <td>0.382114</td>\n",
       "      <td>0.153646</td>\n",
       "      <td>1</td>\n",
       "      <td>0</td>\n",
       "      <td>0</td>\n",
       "      <td>0</td>\n",
       "    </tr>\n",
       "  </tbody>\n",
       "</table>\n",
       "</div>"
      ],
      "text/plain": [
       "   Survived  Pclass  Sex   Age  SibSp  Parch      Fare  Embarked  \\\n",
       "0         0       1    1  31.0      1      0  0.500000  0.345603   \n",
       "1         1       2    0  18.0      0      2  0.416667  0.345603   \n",
       "2         0       3    0   9.0      3      2  0.450000  0.345603   \n",
       "3         1       2    0  22.0      1      1  0.450000  0.345603   \n",
       "4         0       3    1  19.0      0      0  0.212500  0.345603   \n",
       "\n",
       "   Cabin_numerical  Cabin_categorical  Ticket_numerical  Ticket_categorical  \\\n",
       "0        71.000000           0.720930          0.421687            0.342857   \n",
       "1       157.888732           0.304348          0.279070            0.382114   \n",
       "2       157.888732           0.304348          0.123457            0.382114   \n",
       "3       157.888732           0.304348          0.279070            0.382114   \n",
       "4       157.888732           0.304348          0.279070            0.382114   \n",
       "\n",
       "      Title  Family_size  is_mother  Age_NA  Ticket_numerical_NA  \n",
       "0  0.153646            2          0       0                    0  \n",
       "1  0.706767            3          0       0                    0  \n",
       "2  0.706767            6          0       0                    0  \n",
       "3  0.795918            3          1       0                    0  \n",
       "4  0.153646            1          0       0                    0  "
      ]
     },
     "execution_count": 60,
     "metadata": {},
     "output_type": "execute_result"
    }
   ],
   "source": [
    "train_df.head()"
   ]
  },
  {
   "cell_type": "markdown",
   "metadata": {},
   "source": [
    "# 3. Data Preparation"
   ]
  },
  {
   "cell_type": "code",
   "execution_count": 61,
   "metadata": {},
   "outputs": [
    {
     "data": {
      "text/plain": [
       "['Pclass',\n",
       " 'Sex',\n",
       " 'Age',\n",
       " 'SibSp',\n",
       " 'Parch',\n",
       " 'Fare',\n",
       " 'Embarked',\n",
       " 'Cabin_numerical',\n",
       " 'Cabin_categorical',\n",
       " 'Ticket_numerical',\n",
       " 'Ticket_categorical',\n",
       " 'Title',\n",
       " 'Family_size',\n",
       " 'is_mother',\n",
       " 'Age_NA',\n",
       " 'Ticket_numerical_NA']"
      ]
     },
     "execution_count": 61,
     "metadata": {},
     "output_type": "execute_result"
    }
   ],
   "source": [
    "training_vars = [var for var in X_train.columns if var not in ['PassengerId', 'Survived']]\n",
    "training_vars"
   ]
  },
  {
   "cell_type": "code",
   "execution_count": 62,
   "metadata": {},
   "outputs": [],
   "source": [
    "X_train = train_df[training_vars]\n",
    "y_train = train_df['Survived']\n",
    "X_test = test_df[training_vars]\n",
    "y_test = test_df['Survived']"
   ]
  },
  {
   "cell_type": "code",
   "execution_count": 63,
   "metadata": {},
   "outputs": [
    {
     "data": {
      "text/plain": [
       "MinMaxScaler(copy=True, feature_range=(0, 1))"
      ]
     },
     "execution_count": 63,
     "metadata": {},
     "output_type": "execute_result"
    }
   ],
   "source": [
    "# fit scaler\n",
    "scaler = MinMaxScaler() # create an instance\n",
    "scaler.fit(X_train[training_vars]) #  fit  the scaler to the train set and then transform it"
   ]
  },
  {
   "cell_type": "code",
   "execution_count": 64,
   "metadata": {},
   "outputs": [],
   "source": [
    "X_train = pd.DataFrame(scaler.transform(X_train[training_vars]),columns=training_vars)\n",
    "X_test = pd.DataFrame(scaler.transform(X_test[training_vars]),columns=training_vars)"
   ]
  },
  {
   "cell_type": "code",
   "execution_count": 65,
   "metadata": {},
   "outputs": [
    {
     "data": {
      "text/html": [
       "<div>\n",
       "<style scoped>\n",
       "    .dataframe tbody tr th:only-of-type {\n",
       "        vertical-align: middle;\n",
       "    }\n",
       "\n",
       "    .dataframe tbody tr th {\n",
       "        vertical-align: top;\n",
       "    }\n",
       "\n",
       "    .dataframe thead th {\n",
       "        text-align: right;\n",
       "    }\n",
       "</style>\n",
       "<table border=\"1\" class=\"dataframe\">\n",
       "  <thead>\n",
       "    <tr style=\"text-align: right;\">\n",
       "      <th></th>\n",
       "      <th>Pclass</th>\n",
       "      <th>Sex</th>\n",
       "      <th>Age</th>\n",
       "      <th>SibSp</th>\n",
       "      <th>Parch</th>\n",
       "      <th>Fare</th>\n",
       "      <th>Embarked</th>\n",
       "      <th>Cabin_numerical</th>\n",
       "      <th>Cabin_categorical</th>\n",
       "      <th>Ticket_numerical</th>\n",
       "      <th>Ticket_categorical</th>\n",
       "      <th>Title</th>\n",
       "      <th>Family_size</th>\n",
       "      <th>is_mother</th>\n",
       "      <th>Age_NA</th>\n",
       "      <th>Ticket_numerical_NA</th>\n",
       "    </tr>\n",
       "  </thead>\n",
       "  <tbody>\n",
       "    <tr>\n",
       "      <th>count</th>\n",
       "      <td>668.000000</td>\n",
       "      <td>668.000000</td>\n",
       "      <td>668.000000</td>\n",
       "      <td>668.000000</td>\n",
       "      <td>668.000000</td>\n",
       "      <td>668.000000</td>\n",
       "      <td>668.000000</td>\n",
       "      <td>668.000000</td>\n",
       "      <td>668.000000</td>\n",
       "      <td>668.000000</td>\n",
       "      <td>668.000000</td>\n",
       "      <td>668.000000</td>\n",
       "      <td>668.000000</td>\n",
       "      <td>668.000000</td>\n",
       "      <td>668.000000</td>\n",
       "      <td>668.000000</td>\n",
       "    </tr>\n",
       "    <tr>\n",
       "      <th>mean</th>\n",
       "      <td>0.649701</td>\n",
       "      <td>0.648204</td>\n",
       "      <td>0.407217</td>\n",
       "      <td>0.118263</td>\n",
       "      <td>0.165419</td>\n",
       "      <td>0.420659</td>\n",
       "      <td>0.201604</td>\n",
       "      <td>0.850257</td>\n",
       "      <td>0.177012</td>\n",
       "      <td>0.537077</td>\n",
       "      <td>0.567536</td>\n",
       "      <td>0.357461</td>\n",
       "      <td>0.139222</td>\n",
       "      <td>0.068862</td>\n",
       "      <td>0.203593</td>\n",
       "      <td>0.004491</td>\n",
       "    </tr>\n",
       "    <tr>\n",
       "      <th>std</th>\n",
       "      <td>0.420662</td>\n",
       "      <td>0.477889</td>\n",
       "      <td>0.197311</td>\n",
       "      <td>0.225467</td>\n",
       "      <td>0.323889</td>\n",
       "      <td>0.300766</td>\n",
       "      <td>0.385105</td>\n",
       "      <td>0.297637</td>\n",
       "      <td>0.350903</td>\n",
       "      <td>0.300230</td>\n",
       "      <td>0.173565</td>\n",
       "      <td>0.435625</td>\n",
       "      <td>0.236045</td>\n",
       "      <td>0.253410</td>\n",
       "      <td>0.402971</td>\n",
       "      <td>0.066915</td>\n",
       "    </tr>\n",
       "    <tr>\n",
       "      <th>min</th>\n",
       "      <td>0.000000</td>\n",
       "      <td>0.000000</td>\n",
       "      <td>0.000000</td>\n",
       "      <td>0.000000</td>\n",
       "      <td>0.000000</td>\n",
       "      <td>0.000000</td>\n",
       "      <td>0.000000</td>\n",
       "      <td>0.000000</td>\n",
       "      <td>0.000000</td>\n",
       "      <td>0.000000</td>\n",
       "      <td>0.000000</td>\n",
       "      <td>0.000000</td>\n",
       "      <td>0.000000</td>\n",
       "      <td>0.000000</td>\n",
       "      <td>0.000000</td>\n",
       "      <td>0.000000</td>\n",
       "    </tr>\n",
       "    <tr>\n",
       "      <th>25%</th>\n",
       "      <td>0.500000</td>\n",
       "      <td>0.000000</td>\n",
       "      <td>0.269771</td>\n",
       "      <td>0.000000</td>\n",
       "      <td>0.000000</td>\n",
       "      <td>0.144608</td>\n",
       "      <td>0.000000</td>\n",
       "      <td>1.000000</td>\n",
       "      <td>0.000000</td>\n",
       "      <td>0.321723</td>\n",
       "      <td>0.565577</td>\n",
       "      <td>0.000000</td>\n",
       "      <td>0.000000</td>\n",
       "      <td>0.000000</td>\n",
       "      <td>0.000000</td>\n",
       "      <td>0.000000</td>\n",
       "    </tr>\n",
       "    <tr>\n",
       "      <th>50%</th>\n",
       "      <td>1.000000</td>\n",
       "      <td>1.000000</td>\n",
       "      <td>0.393772</td>\n",
       "      <td>0.000000</td>\n",
       "      <td>0.000000</td>\n",
       "      <td>0.441860</td>\n",
       "      <td>0.000000</td>\n",
       "      <td>1.000000</td>\n",
       "      <td>0.000000</td>\n",
       "      <td>0.483136</td>\n",
       "      <td>0.565577</td>\n",
       "      <td>0.000000</td>\n",
       "      <td>0.000000</td>\n",
       "      <td>0.000000</td>\n",
       "      <td>0.000000</td>\n",
       "      <td>0.000000</td>\n",
       "    </tr>\n",
       "    <tr>\n",
       "      <th>75%</th>\n",
       "      <td>1.000000</td>\n",
       "      <td>1.000000</td>\n",
       "      <td>0.517773</td>\n",
       "      <td>0.250000</td>\n",
       "      <td>0.000000</td>\n",
       "      <td>0.537500</td>\n",
       "      <td>0.194021</td>\n",
       "      <td>1.000000</td>\n",
       "      <td>0.000000</td>\n",
       "      <td>0.772260</td>\n",
       "      <td>0.565577</td>\n",
       "      <td>0.861194</td>\n",
       "      <td>0.166667</td>\n",
       "      <td>0.000000</td>\n",
       "      <td>0.000000</td>\n",
       "      <td>0.000000</td>\n",
       "    </tr>\n",
       "    <tr>\n",
       "      <th>max</th>\n",
       "      <td>1.000000</td>\n",
       "      <td>1.000000</td>\n",
       "      <td>1.000000</td>\n",
       "      <td>1.000000</td>\n",
       "      <td>1.000000</td>\n",
       "      <td>1.000000</td>\n",
       "      <td>1.000000</td>\n",
       "      <td>1.000000</td>\n",
       "      <td>1.000000</td>\n",
       "      <td>1.000000</td>\n",
       "      <td>1.000000</td>\n",
       "      <td>1.000000</td>\n",
       "      <td>1.000000</td>\n",
       "      <td>1.000000</td>\n",
       "      <td>1.000000</td>\n",
       "      <td>1.000000</td>\n",
       "    </tr>\n",
       "  </tbody>\n",
       "</table>\n",
       "</div>"
      ],
      "text/plain": [
       "           Pclass         Sex         Age       SibSp       Parch        Fare  \\\n",
       "count  668.000000  668.000000  668.000000  668.000000  668.000000  668.000000   \n",
       "mean     0.649701    0.648204    0.407217    0.118263    0.165419    0.420659   \n",
       "std      0.420662    0.477889    0.197311    0.225467    0.323889    0.300766   \n",
       "min      0.000000    0.000000    0.000000    0.000000    0.000000    0.000000   \n",
       "25%      0.500000    0.000000    0.269771    0.000000    0.000000    0.144608   \n",
       "50%      1.000000    1.000000    0.393772    0.000000    0.000000    0.441860   \n",
       "75%      1.000000    1.000000    0.517773    0.250000    0.000000    0.537500   \n",
       "max      1.000000    1.000000    1.000000    1.000000    1.000000    1.000000   \n",
       "\n",
       "         Embarked  Cabin_numerical  Cabin_categorical  Ticket_numerical  \\\n",
       "count  668.000000       668.000000         668.000000        668.000000   \n",
       "mean     0.201604         0.850257           0.177012          0.537077   \n",
       "std      0.385105         0.297637           0.350903          0.300230   \n",
       "min      0.000000         0.000000           0.000000          0.000000   \n",
       "25%      0.000000         1.000000           0.000000          0.321723   \n",
       "50%      0.000000         1.000000           0.000000          0.483136   \n",
       "75%      0.194021         1.000000           0.000000          0.772260   \n",
       "max      1.000000         1.000000           1.000000          1.000000   \n",
       "\n",
       "       Ticket_categorical       Title  Family_size   is_mother      Age_NA  \\\n",
       "count          668.000000  668.000000   668.000000  668.000000  668.000000   \n",
       "mean             0.567536    0.357461     0.139222    0.068862    0.203593   \n",
       "std              0.173565    0.435625     0.236045    0.253410    0.402971   \n",
       "min              0.000000    0.000000     0.000000    0.000000    0.000000   \n",
       "25%              0.565577    0.000000     0.000000    0.000000    0.000000   \n",
       "50%              0.565577    0.000000     0.000000    0.000000    0.000000   \n",
       "75%              0.565577    0.861194     0.166667    0.000000    0.000000   \n",
       "max              1.000000    1.000000     1.000000    1.000000    1.000000   \n",
       "\n",
       "       Ticket_numerical_NA  \n",
       "count           668.000000  \n",
       "mean              0.004491  \n",
       "std               0.066915  \n",
       "min               0.000000  \n",
       "25%               0.000000  \n",
       "50%               0.000000  \n",
       "75%               0.000000  \n",
       "max               1.000000  "
      ]
     },
     "execution_count": 65,
     "metadata": {},
     "output_type": "execute_result"
    }
   ],
   "source": [
    "X_train.describe()"
   ]
  },
  {
   "cell_type": "code",
   "execution_count": 66,
   "metadata": {},
   "outputs": [
    {
     "data": {
      "text/html": [
       "<div>\n",
       "<style scoped>\n",
       "    .dataframe tbody tr th:only-of-type {\n",
       "        vertical-align: middle;\n",
       "    }\n",
       "\n",
       "    .dataframe tbody tr th {\n",
       "        vertical-align: top;\n",
       "    }\n",
       "\n",
       "    .dataframe thead th {\n",
       "        text-align: right;\n",
       "    }\n",
       "</style>\n",
       "<table border=\"1\" class=\"dataframe\">\n",
       "  <thead>\n",
       "    <tr style=\"text-align: right;\">\n",
       "      <th></th>\n",
       "      <th>Pclass</th>\n",
       "      <th>Sex</th>\n",
       "      <th>Age</th>\n",
       "      <th>SibSp</th>\n",
       "      <th>Parch</th>\n",
       "      <th>Fare</th>\n",
       "      <th>Embarked</th>\n",
       "      <th>Cabin_numerical</th>\n",
       "      <th>Cabin_categorical</th>\n",
       "      <th>Ticket_numerical</th>\n",
       "      <th>Ticket_categorical</th>\n",
       "      <th>Title</th>\n",
       "      <th>Family_size</th>\n",
       "      <th>is_mother</th>\n",
       "      <th>Age_NA</th>\n",
       "      <th>Ticket_numerical_NA</th>\n",
       "    </tr>\n",
       "  </thead>\n",
       "  <tbody>\n",
       "    <tr>\n",
       "      <th>count</th>\n",
       "      <td>223.000000</td>\n",
       "      <td>223.000000</td>\n",
       "      <td>223.000000</td>\n",
       "      <td>223.000000</td>\n",
       "      <td>223.000000</td>\n",
       "      <td>223.000000</td>\n",
       "      <td>223.000000</td>\n",
       "      <td>223.000000</td>\n",
       "      <td>223.000000</td>\n",
       "      <td>223.000000</td>\n",
       "      <td>223.000000</td>\n",
       "      <td>223.000000</td>\n",
       "      <td>223.000000</td>\n",
       "      <td>223.000000</td>\n",
       "      <td>223.000000</td>\n",
       "      <td>223.000000</td>\n",
       "    </tr>\n",
       "    <tr>\n",
       "      <th>mean</th>\n",
       "      <td>0.668161</td>\n",
       "      <td>0.645740</td>\n",
       "      <td>0.406176</td>\n",
       "      <td>0.131166</td>\n",
       "      <td>0.195067</td>\n",
       "      <td>0.428087</td>\n",
       "      <td>0.216450</td>\n",
       "      <td>0.830670</td>\n",
       "      <td>0.118402</td>\n",
       "      <td>0.522291</td>\n",
       "      <td>0.553289</td>\n",
       "      <td>0.345238</td>\n",
       "      <td>0.159940</td>\n",
       "      <td>0.080717</td>\n",
       "      <td>0.183857</td>\n",
       "      <td>0.004484</td>\n",
       "    </tr>\n",
       "    <tr>\n",
       "      <th>std</th>\n",
       "      <td>0.410690</td>\n",
       "      <td>0.479365</td>\n",
       "      <td>0.207786</td>\n",
       "      <td>0.232262</td>\n",
       "      <td>0.353646</td>\n",
       "      <td>0.278005</td>\n",
       "      <td>0.393531</td>\n",
       "      <td>0.333742</td>\n",
       "      <td>0.295223</td>\n",
       "      <td>0.308579</td>\n",
       "      <td>0.183407</td>\n",
       "      <td>0.437591</td>\n",
       "      <td>0.252772</td>\n",
       "      <td>0.273014</td>\n",
       "      <td>0.388239</td>\n",
       "      <td>0.066965</td>\n",
       "    </tr>\n",
       "    <tr>\n",
       "      <th>min</th>\n",
       "      <td>0.000000</td>\n",
       "      <td>0.000000</td>\n",
       "      <td>0.004547</td>\n",
       "      <td>0.000000</td>\n",
       "      <td>0.000000</td>\n",
       "      <td>0.000000</td>\n",
       "      <td>0.000000</td>\n",
       "      <td>0.000000</td>\n",
       "      <td>0.000000</td>\n",
       "      <td>0.000000</td>\n",
       "      <td>0.000000</td>\n",
       "      <td>0.000000</td>\n",
       "      <td>0.000000</td>\n",
       "      <td>0.000000</td>\n",
       "      <td>0.000000</td>\n",
       "      <td>0.000000</td>\n",
       "    </tr>\n",
       "    <tr>\n",
       "      <th>25%</th>\n",
       "      <td>0.500000</td>\n",
       "      <td>0.000000</td>\n",
       "      <td>0.283549</td>\n",
       "      <td>0.000000</td>\n",
       "      <td>0.000000</td>\n",
       "      <td>0.144608</td>\n",
       "      <td>0.000000</td>\n",
       "      <td>1.000000</td>\n",
       "      <td>0.000000</td>\n",
       "      <td>0.321723</td>\n",
       "      <td>0.565577</td>\n",
       "      <td>0.000000</td>\n",
       "      <td>0.000000</td>\n",
       "      <td>0.000000</td>\n",
       "      <td>0.000000</td>\n",
       "      <td>0.000000</td>\n",
       "    </tr>\n",
       "    <tr>\n",
       "      <th>50%</th>\n",
       "      <td>1.000000</td>\n",
       "      <td>1.000000</td>\n",
       "      <td>0.379994</td>\n",
       "      <td>0.000000</td>\n",
       "      <td>0.000000</td>\n",
       "      <td>0.479167</td>\n",
       "      <td>0.000000</td>\n",
       "      <td>1.000000</td>\n",
       "      <td>0.000000</td>\n",
       "      <td>0.616578</td>\n",
       "      <td>0.565577</td>\n",
       "      <td>0.000000</td>\n",
       "      <td>0.000000</td>\n",
       "      <td>0.000000</td>\n",
       "      <td>0.000000</td>\n",
       "      <td>0.000000</td>\n",
       "    </tr>\n",
       "    <tr>\n",
       "      <th>75%</th>\n",
       "      <td>1.000000</td>\n",
       "      <td>1.000000</td>\n",
       "      <td>0.524662</td>\n",
       "      <td>0.250000</td>\n",
       "      <td>0.500000</td>\n",
       "      <td>0.625000</td>\n",
       "      <td>0.194021</td>\n",
       "      <td>1.000000</td>\n",
       "      <td>0.000000</td>\n",
       "      <td>0.766032</td>\n",
       "      <td>0.565577</td>\n",
       "      <td>0.861194</td>\n",
       "      <td>0.250000</td>\n",
       "      <td>0.000000</td>\n",
       "      <td>0.000000</td>\n",
       "      <td>0.000000</td>\n",
       "    </tr>\n",
       "    <tr>\n",
       "      <th>max</th>\n",
       "      <td>1.000000</td>\n",
       "      <td>1.000000</td>\n",
       "      <td>1.000000</td>\n",
       "      <td>1.000000</td>\n",
       "      <td>1.000000</td>\n",
       "      <td>1.000000</td>\n",
       "      <td>1.000000</td>\n",
       "      <td>1.000000</td>\n",
       "      <td>1.000000</td>\n",
       "      <td>1.000000</td>\n",
       "      <td>1.000000</td>\n",
       "      <td>1.000000</td>\n",
       "      <td>1.000000</td>\n",
       "      <td>1.000000</td>\n",
       "      <td>1.000000</td>\n",
       "      <td>1.000000</td>\n",
       "    </tr>\n",
       "  </tbody>\n",
       "</table>\n",
       "</div>"
      ],
      "text/plain": [
       "           Pclass         Sex         Age       SibSp       Parch        Fare  \\\n",
       "count  223.000000  223.000000  223.000000  223.000000  223.000000  223.000000   \n",
       "mean     0.668161    0.645740    0.406176    0.131166    0.195067    0.428087   \n",
       "std      0.410690    0.479365    0.207786    0.232262    0.353646    0.278005   \n",
       "min      0.000000    0.000000    0.004547    0.000000    0.000000    0.000000   \n",
       "25%      0.500000    0.000000    0.283549    0.000000    0.000000    0.144608   \n",
       "50%      1.000000    1.000000    0.379994    0.000000    0.000000    0.479167   \n",
       "75%      1.000000    1.000000    0.524662    0.250000    0.500000    0.625000   \n",
       "max      1.000000    1.000000    1.000000    1.000000    1.000000    1.000000   \n",
       "\n",
       "         Embarked  Cabin_numerical  Cabin_categorical  Ticket_numerical  \\\n",
       "count  223.000000       223.000000         223.000000        223.000000   \n",
       "mean     0.216450         0.830670           0.118402          0.522291   \n",
       "std      0.393531         0.333742           0.295223          0.308579   \n",
       "min      0.000000         0.000000           0.000000          0.000000   \n",
       "25%      0.000000         1.000000           0.000000          0.321723   \n",
       "50%      0.000000         1.000000           0.000000          0.616578   \n",
       "75%      0.194021         1.000000           0.000000          0.766032   \n",
       "max      1.000000         1.000000           1.000000          1.000000   \n",
       "\n",
       "       Ticket_categorical       Title  Family_size   is_mother      Age_NA  \\\n",
       "count          223.000000  223.000000   223.000000  223.000000  223.000000   \n",
       "mean             0.553289    0.345238     0.159940    0.080717    0.183857   \n",
       "std              0.183407    0.437591     0.252772    0.273014    0.388239   \n",
       "min              0.000000    0.000000     0.000000    0.000000    0.000000   \n",
       "25%              0.565577    0.000000     0.000000    0.000000    0.000000   \n",
       "50%              0.565577    0.000000     0.000000    0.000000    0.000000   \n",
       "75%              0.565577    0.861194     0.250000    0.000000    0.000000   \n",
       "max              1.000000    1.000000     1.000000    1.000000    1.000000   \n",
       "\n",
       "       Ticket_numerical_NA  \n",
       "count           223.000000  \n",
       "mean              0.004484  \n",
       "std               0.066965  \n",
       "min               0.000000  \n",
       "25%               0.000000  \n",
       "50%               0.000000  \n",
       "75%               0.000000  \n",
       "max               1.000000  "
      ]
     },
     "execution_count": 66,
     "metadata": {},
     "output_type": "execute_result"
    }
   ],
   "source": [
    "X_test.describe()"
   ]
  },
  {
   "cell_type": "markdown",
   "metadata": {},
   "source": [
    "# 4. Logistic Regression"
   ]
  },
  {
   "cell_type": "markdown",
   "metadata": {},
   "source": [
    "### 4.1. Train logistic regrssion using statsmodel"
   ]
  },
  {
   "cell_type": "code",
   "execution_count": 101,
   "metadata": {},
   "outputs": [
    {
     "name": "stdout",
     "output_type": "stream",
     "text": [
      "Optimization terminated successfully.\n",
      "         Current function value: 0.394179\n",
      "         Iterations 7\n"
     ]
    }
   ],
   "source": [
    "import statsmodels.api as sm\n",
    "\n",
    "X_train_const = sm.add_constant(X_train)\n",
    "model = sm.Logit(y_train, X_train_const)\n",
    "result = model.fit()"
   ]
  },
  {
   "cell_type": "code",
   "execution_count": 102,
   "metadata": {},
   "outputs": [
    {
     "data": {
      "text/html": [
       "<table class=\"simpletable\">\n",
       "<caption>Logit Regression Results</caption>\n",
       "<tr>\n",
       "  <th>Dep. Variable:</th>       <td>Survived</td>     <th>  No. Observations:  </th>  <td>   668</td>  \n",
       "</tr>\n",
       "<tr>\n",
       "  <th>Model:</th>                 <td>Logit</td>      <th>  Df Residuals:      </th>  <td>   651</td>  \n",
       "</tr>\n",
       "<tr>\n",
       "  <th>Method:</th>                 <td>MLE</td>       <th>  Df Model:          </th>  <td>    16</td>  \n",
       "</tr>\n",
       "<tr>\n",
       "  <th>Date:</th>            <td>Mon, 14 Sep 2020</td> <th>  Pseudo R-squ.:     </th>  <td>0.4078</td>  \n",
       "</tr>\n",
       "<tr>\n",
       "  <th>Time:</th>                <td>06:45:41</td>     <th>  Log-Likelihood:    </th> <td> -263.31</td> \n",
       "</tr>\n",
       "<tr>\n",
       "  <th>converged:</th>             <td>True</td>       <th>  LL-Null:           </th> <td> -444.64</td> \n",
       "</tr>\n",
       "<tr>\n",
       "  <th>Covariance Type:</th>     <td>nonrobust</td>    <th>  LLR p-value:       </th> <td>2.371e-67</td>\n",
       "</tr>\n",
       "</table>\n",
       "<table class=\"simpletable\">\n",
       "<tr>\n",
       "           <td></td>              <th>coef</th>     <th>std err</th>      <th>z</th>      <th>P>|z|</th>  <th>[0.025</th>    <th>0.975]</th>  \n",
       "</tr>\n",
       "<tr>\n",
       "  <th>const</th>               <td>   -1.5939</td> <td>    1.287</td> <td>   -1.238</td> <td> 0.216</td> <td>   -4.117</td> <td>    0.929</td>\n",
       "</tr>\n",
       "<tr>\n",
       "  <th>Pclass</th>              <td>   -0.9957</td> <td>    0.600</td> <td>   -1.659</td> <td> 0.097</td> <td>   -2.172</td> <td>    0.181</td>\n",
       "</tr>\n",
       "<tr>\n",
       "  <th>Sex</th>                 <td>    0.6778</td> <td>    0.623</td> <td>    1.088</td> <td> 0.277</td> <td>   -0.544</td> <td>    1.899</td>\n",
       "</tr>\n",
       "<tr>\n",
       "  <th>Age</th>                 <td>   -2.4413</td> <td>    0.675</td> <td>   -3.616</td> <td> 0.000</td> <td>   -3.765</td> <td>   -1.118</td>\n",
       "</tr>\n",
       "<tr>\n",
       "  <th>SibSp</th>               <td>   -0.5123</td> <td>    1.792</td> <td>   -0.286</td> <td> 0.775</td> <td>   -4.025</td> <td>    3.001</td>\n",
       "</tr>\n",
       "<tr>\n",
       "  <th>Parch</th>               <td>    0.3049</td> <td>    1.069</td> <td>    0.285</td> <td> 0.775</td> <td>   -1.790</td> <td>    2.400</td>\n",
       "</tr>\n",
       "<tr>\n",
       "  <th>Fare</th>                <td>    0.1855</td> <td>    0.730</td> <td>    0.254</td> <td> 0.799</td> <td>   -1.245</td> <td>    1.616</td>\n",
       "</tr>\n",
       "<tr>\n",
       "  <th>Embarked</th>            <td>    0.1799</td> <td>    0.323</td> <td>    0.556</td> <td> 0.578</td> <td>   -0.454</td> <td>    0.814</td>\n",
       "</tr>\n",
       "<tr>\n",
       "  <th>Cabin_numerical</th>     <td>   -0.3527</td> <td>    0.689</td> <td>   -0.512</td> <td> 0.609</td> <td>   -1.704</td> <td>    0.999</td>\n",
       "</tr>\n",
       "<tr>\n",
       "  <th>Cabin_categorical</th>   <td>    1.0256</td> <td>    0.629</td> <td>    1.629</td> <td> 0.103</td> <td>   -0.208</td> <td>    2.259</td>\n",
       "</tr>\n",
       "<tr>\n",
       "  <th>Ticket_numerical</th>    <td>    1.1270</td> <td>    0.571</td> <td>    1.974</td> <td> 0.048</td> <td>    0.008</td> <td>    2.246</td>\n",
       "</tr>\n",
       "<tr>\n",
       "  <th>Ticket_categorical</th>  <td>    0.5045</td> <td>    0.811</td> <td>    0.622</td> <td> 0.534</td> <td>   -1.085</td> <td>    2.094</td>\n",
       "</tr>\n",
       "<tr>\n",
       "  <th>Title</th>               <td>    4.4198</td> <td>    0.759</td> <td>    5.827</td> <td> 0.000</td> <td>    2.933</td> <td>    5.907</td>\n",
       "</tr>\n",
       "<tr>\n",
       "  <th>Family_size</th>         <td>   -2.8342</td> <td>    2.613</td> <td>   -1.084</td> <td> 0.278</td> <td>   -7.956</td> <td>    2.288</td>\n",
       "</tr>\n",
       "<tr>\n",
       "  <th>is_mother</th>           <td>    0.3360</td> <td>    0.570</td> <td>    0.590</td> <td> 0.555</td> <td>   -0.781</td> <td>    1.453</td>\n",
       "</tr>\n",
       "<tr>\n",
       "  <th>Age_NA</th>              <td>   -0.1127</td> <td>    0.292</td> <td>   -0.386</td> <td> 0.700</td> <td>   -0.686</td> <td>    0.460</td>\n",
       "</tr>\n",
       "<tr>\n",
       "  <th>Ticket_numerical_NA</th> <td>    1.9202</td> <td>    1.256</td> <td>    1.529</td> <td> 0.126</td> <td>   -0.542</td> <td>    4.382</td>\n",
       "</tr>\n",
       "</table>"
      ],
      "text/plain": [
       "<class 'statsmodels.iolib.summary.Summary'>\n",
       "\"\"\"\n",
       "                           Logit Regression Results                           \n",
       "==============================================================================\n",
       "Dep. Variable:               Survived   No. Observations:                  668\n",
       "Model:                          Logit   Df Residuals:                      651\n",
       "Method:                           MLE   Df Model:                           16\n",
       "Date:                Mon, 14 Sep 2020   Pseudo R-squ.:                  0.4078\n",
       "Time:                        06:45:41   Log-Likelihood:                -263.31\n",
       "converged:                       True   LL-Null:                       -444.64\n",
       "Covariance Type:            nonrobust   LLR p-value:                 2.371e-67\n",
       "=======================================================================================\n",
       "                          coef    std err          z      P>|z|      [0.025      0.975]\n",
       "---------------------------------------------------------------------------------------\n",
       "const                  -1.5939      1.287     -1.238      0.216      -4.117       0.929\n",
       "Pclass                 -0.9957      0.600     -1.659      0.097      -2.172       0.181\n",
       "Sex                     0.6778      0.623      1.088      0.277      -0.544       1.899\n",
       "Age                    -2.4413      0.675     -3.616      0.000      -3.765      -1.118\n",
       "SibSp                  -0.5123      1.792     -0.286      0.775      -4.025       3.001\n",
       "Parch                   0.3049      1.069      0.285      0.775      -1.790       2.400\n",
       "Fare                    0.1855      0.730      0.254      0.799      -1.245       1.616\n",
       "Embarked                0.1799      0.323      0.556      0.578      -0.454       0.814\n",
       "Cabin_numerical        -0.3527      0.689     -0.512      0.609      -1.704       0.999\n",
       "Cabin_categorical       1.0256      0.629      1.629      0.103      -0.208       2.259\n",
       "Ticket_numerical        1.1270      0.571      1.974      0.048       0.008       2.246\n",
       "Ticket_categorical      0.5045      0.811      0.622      0.534      -1.085       2.094\n",
       "Title                   4.4198      0.759      5.827      0.000       2.933       5.907\n",
       "Family_size            -2.8342      2.613     -1.084      0.278      -7.956       2.288\n",
       "is_mother               0.3360      0.570      0.590      0.555      -0.781       1.453\n",
       "Age_NA                 -0.1127      0.292     -0.386      0.700      -0.686       0.460\n",
       "Ticket_numerical_NA     1.9202      1.256      1.529      0.126      -0.542       4.382\n",
       "=======================================================================================\n",
       "\"\"\""
      ]
     },
     "execution_count": 102,
     "metadata": {},
     "output_type": "execute_result"
    }
   ],
   "source": [
    "result.summary()"
   ]
  },
  {
   "cell_type": "code",
   "execution_count": 103,
   "metadata": {
    "scrolled": true
   },
   "outputs": [
    {
     "data": {
      "text/html": [
       "<table class=\"simpletable\">\n",
       "<tr>\n",
       "        <td>Model:</td>              <td>Logit</td>      <td>Pseudo R-squared:</td>    <td>0.408</td>  \n",
       "</tr>\n",
       "<tr>\n",
       "  <td>Dependent Variable:</td>     <td>Survived</td>           <td>AIC:</td>         <td>560.6233</td> \n",
       "</tr>\n",
       "<tr>\n",
       "         <td>Date:</td>        <td>2020-09-14 06:45</td>       <td>BIC:</td>         <td>637.1962</td> \n",
       "</tr>\n",
       "<tr>\n",
       "   <td>No. Observations:</td>         <td>668</td>        <td>Log-Likelihood:</td>    <td>-263.31</td> \n",
       "</tr>\n",
       "<tr>\n",
       "       <td>Df Model:</td>             <td>16</td>            <td>LL-Null:</td>        <td>-444.64</td> \n",
       "</tr>\n",
       "<tr>\n",
       "     <td>Df Residuals:</td>           <td>651</td>         <td>LLR p-value:</td>    <td>2.3713e-67</td>\n",
       "</tr>\n",
       "<tr>\n",
       "      <td>Converged:</td>           <td>1.0000</td>           <td>Scale:</td>         <td>1.0000</td>  \n",
       "</tr>\n",
       "<tr>\n",
       "    <td>No. Iterations:</td>        <td>7.0000</td>              <td></td>               <td></td>     \n",
       "</tr>\n",
       "</table>\n",
       "<table class=\"simpletable\">\n",
       "<tr>\n",
       "           <td></td>            <th>Coef.</th>  <th>Std.Err.</th>    <th>z</th>     <th>P>|z|</th> <th>[0.025</th>  <th>0.975]</th> \n",
       "</tr>\n",
       "<tr>\n",
       "  <th>const</th>               <td>-1.5939</td>  <td>1.2873</td>  <td>-1.2381</td> <td>0.2157</td> <td>-4.1170</td> <td>0.9293</td> \n",
       "</tr>\n",
       "<tr>\n",
       "  <th>Pclass</th>              <td>-0.9957</td>  <td>0.6002</td>  <td>-1.6591</td> <td>0.0971</td> <td>-2.1720</td> <td>0.1806</td> \n",
       "</tr>\n",
       "<tr>\n",
       "  <th>Sex</th>                 <td>0.6778</td>   <td>0.6232</td>  <td>1.0876</td>  <td>0.2768</td> <td>-0.5436</td> <td>1.8992</td> \n",
       "</tr>\n",
       "<tr>\n",
       "  <th>Age</th>                 <td>-2.4413</td>  <td>0.6752</td>  <td>-3.6157</td> <td>0.0003</td> <td>-3.7647</td> <td>-1.1179</td>\n",
       "</tr>\n",
       "<tr>\n",
       "  <th>SibSp</th>               <td>-0.5123</td>  <td>1.7924</td>  <td>-0.2858</td> <td>0.7750</td> <td>-4.0253</td> <td>3.0008</td> \n",
       "</tr>\n",
       "<tr>\n",
       "  <th>Parch</th>               <td>0.3049</td>   <td>1.0690</td>  <td>0.2852</td>  <td>0.7755</td> <td>-1.7903</td> <td>2.4001</td> \n",
       "</tr>\n",
       "<tr>\n",
       "  <th>Fare</th>                <td>0.1855</td>   <td>0.7301</td>  <td>0.2541</td>  <td>0.7994</td> <td>-1.2454</td> <td>1.6164</td> \n",
       "</tr>\n",
       "<tr>\n",
       "  <th>Embarked</th>            <td>0.1799</td>   <td>0.3234</td>  <td>0.5564</td>  <td>0.5780</td> <td>-0.4539</td> <td>0.8137</td> \n",
       "</tr>\n",
       "<tr>\n",
       "  <th>Cabin_numerical</th>     <td>-0.3527</td>  <td>0.6894</td>  <td>-0.5116</td> <td>0.6090</td> <td>-1.7038</td> <td>0.9985</td> \n",
       "</tr>\n",
       "<tr>\n",
       "  <th>Cabin_categorical</th>   <td>1.0256</td>   <td>0.6295</td>  <td>1.6292</td>  <td>0.1033</td> <td>-0.2082</td> <td>2.2594</td> \n",
       "</tr>\n",
       "<tr>\n",
       "  <th>Ticket_numerical</th>    <td>1.1270</td>   <td>0.5708</td>  <td>1.9744</td>  <td>0.0483</td> <td>0.0082</td>  <td>2.2458</td> \n",
       "</tr>\n",
       "<tr>\n",
       "  <th>Ticket_categorical</th>  <td>0.5045</td>   <td>0.8109</td>  <td>0.6222</td>  <td>0.5338</td> <td>-1.0847</td> <td>2.0938</td> \n",
       "</tr>\n",
       "<tr>\n",
       "  <th>Title</th>               <td>4.4198</td>   <td>0.7586</td>  <td>5.8265</td>  <td>0.0000</td> <td>2.9330</td>  <td>5.9065</td> \n",
       "</tr>\n",
       "<tr>\n",
       "  <th>Family_size</th>         <td>-2.8342</td>  <td>2.6135</td>  <td>-1.0844</td> <td>0.2782</td> <td>-7.9565</td> <td>2.2881</td> \n",
       "</tr>\n",
       "<tr>\n",
       "  <th>is_mother</th>           <td>0.3360</td>   <td>0.5698</td>  <td>0.5897</td>  <td>0.5554</td> <td>-0.7808</td> <td>1.4528</td> \n",
       "</tr>\n",
       "<tr>\n",
       "  <th>Age_NA</th>              <td>-0.1127</td>  <td>0.2924</td>  <td>-0.3857</td> <td>0.6997</td> <td>-0.6858</td> <td>0.4603</td> \n",
       "</tr>\n",
       "<tr>\n",
       "  <th>Ticket_numerical_NA</th> <td>1.9202</td>   <td>1.2561</td>  <td>1.5287</td>  <td>0.1263</td> <td>-0.5417</td> <td>4.3822</td> \n",
       "</tr>\n",
       "</table>"
      ],
      "text/plain": [
       "<class 'statsmodels.iolib.summary2.Summary'>\n",
       "\"\"\"\n",
       "                          Results: Logit\n",
       "===================================================================\n",
       "Model:                Logit            Pseudo R-squared: 0.408     \n",
       "Dependent Variable:   Survived         AIC:              560.6233  \n",
       "Date:                 2020-09-14 06:45 BIC:              637.1962  \n",
       "No. Observations:     668              Log-Likelihood:   -263.31   \n",
       "Df Model:             16               LL-Null:          -444.64   \n",
       "Df Residuals:         651              LLR p-value:      2.3713e-67\n",
       "Converged:            1.0000           Scale:            1.0000    \n",
       "No. Iterations:       7.0000                                       \n",
       "-------------------------------------------------------------------\n",
       "                     Coef.  Std.Err.    z    P>|z|   [0.025  0.975]\n",
       "-------------------------------------------------------------------\n",
       "const               -1.5939   1.2873 -1.2381 0.2157 -4.1170  0.9293\n",
       "Pclass              -0.9957   0.6002 -1.6591 0.0971 -2.1720  0.1806\n",
       "Sex                  0.6778   0.6232  1.0876 0.2768 -0.5436  1.8992\n",
       "Age                 -2.4413   0.6752 -3.6157 0.0003 -3.7647 -1.1179\n",
       "SibSp               -0.5123   1.7924 -0.2858 0.7750 -4.0253  3.0008\n",
       "Parch                0.3049   1.0690  0.2852 0.7755 -1.7903  2.4001\n",
       "Fare                 0.1855   0.7301  0.2541 0.7994 -1.2454  1.6164\n",
       "Embarked             0.1799   0.3234  0.5564 0.5780 -0.4539  0.8137\n",
       "Cabin_numerical     -0.3527   0.6894 -0.5116 0.6090 -1.7038  0.9985\n",
       "Cabin_categorical    1.0256   0.6295  1.6292 0.1033 -0.2082  2.2594\n",
       "Ticket_numerical     1.1270   0.5708  1.9744 0.0483  0.0082  2.2458\n",
       "Ticket_categorical   0.5045   0.8109  0.6222 0.5338 -1.0847  2.0938\n",
       "Title                4.4198   0.7586  5.8265 0.0000  2.9330  5.9065\n",
       "Family_size         -2.8342   2.6135 -1.0844 0.2782 -7.9565  2.2881\n",
       "is_mother            0.3360   0.5698  0.5897 0.5554 -0.7808  1.4528\n",
       "Age_NA              -0.1127   0.2924 -0.3857 0.6997 -0.6858  0.4603\n",
       "Ticket_numerical_NA  1.9202   1.2561  1.5287 0.1263 -0.5417  4.3822\n",
       "===================================================================\n",
       "\n",
       "\"\"\""
      ]
     },
     "execution_count": 103,
     "metadata": {},
     "output_type": "execute_result"
    }
   ],
   "source": [
    "result.summary2()"
   ]
  },
  {
   "cell_type": "markdown",
   "metadata": {},
   "source": [
    "### 4.2. Train and perform cross validation"
   ]
  },
  {
   "cell_type": "code",
   "execution_count": 104,
   "metadata": {},
   "outputs": [
    {
     "data": {
      "text/plain": [
       "array([0.88059701, 0.82089552, 0.79104478, 0.7761194 , 0.8358209 ,\n",
       "       0.88059701, 0.7761194 , 0.86567164, 0.77272727, 0.8030303 ])"
      ]
     },
     "execution_count": 104,
     "metadata": {},
     "output_type": "execute_result"
    }
   ],
   "source": [
    "from sklearn.linear_model import LogisticRegression\n",
    "\n",
    "model = LogisticRegression()\n",
    "kfold = KFold(n_splits = 10, random_state = 10)\n",
    "scores = cross_val_score(model, X_train, y_train, cv=kfold, scoring='accuracy')\n",
    "scores"
   ]
  },
  {
   "cell_type": "code",
   "execution_count": 105,
   "metadata": {},
   "outputs": [
    {
     "name": "stdout",
     "output_type": "stream",
     "text": [
      "Accuracy: 82.03% (+/- 4.11%)\n"
     ]
    }
   ],
   "source": [
    "print(\"Accuracy: %0.2f%% (+/- %0.2f%%)\" % (100*scores.mean(), 100*scores.std()))"
   ]
  },
  {
   "cell_type": "code",
   "execution_count": 106,
   "metadata": {},
   "outputs": [
    {
     "data": {
      "text/plain": [
       "count    10.000000\n",
       "mean      0.820262\n",
       "std       0.043324\n",
       "min       0.772727\n",
       "25%       0.779851\n",
       "50%       0.811963\n",
       "75%       0.858209\n",
       "max       0.880597\n",
       "dtype: float64"
      ]
     },
     "execution_count": 106,
     "metadata": {},
     "output_type": "execute_result"
    }
   ],
   "source": [
    "pd.Series(scores).describe()"
   ]
  },
  {
   "cell_type": "code",
   "execution_count": 107,
   "metadata": {
    "scrolled": true
   },
   "outputs": [
    {
     "data": {
      "image/png": "[encoded data removed]",
      "text/plain": [
       "<Figure size 504x144 with 1 Axes>"
      ]
     },
     "metadata": {
      "needs_background": "light"
     },
     "output_type": "display_data"
    }
   ],
   "source": [
    "plt.figure(figsize=(7,2))\n",
    "sns.boxplot(data=scores, orient='h')\n",
    "plt.show()"
   ]
  },
  {
   "cell_type": "markdown",
   "metadata": {},
   "source": [
    "### 4.3. Train logistic regression using sklearn"
   ]
  },
  {
   "cell_type": "markdown",
   "metadata": {},
   "source": [
    "#### Train model"
   ]
  },
  {
   "cell_type": "code",
   "execution_count": 108,
   "metadata": {},
   "outputs": [
    {
     "data": {
      "text/plain": [
       "LogisticRegression(C=1.0, class_weight=None, dual=False, fit_intercept=True,\n",
       "                   intercept_scaling=1, l1_ratio=None, max_iter=100,\n",
       "                   multi_class='auto', n_jobs=None, penalty='l2',\n",
       "                   random_state=None, solver='lbfgs', tol=0.0001, verbose=0,\n",
       "                   warm_start=False)"
      ]
     },
     "execution_count": 108,
     "metadata": {},
     "output_type": "execute_result"
    }
   ],
   "source": [
    "from sklearn.linear_model import LogisticRegression\n",
    "\n",
    "model = LogisticRegression()\n",
    "model.fit(X_train, y_train)"
   ]
  },
  {
   "cell_type": "markdown",
   "metadata": {},
   "source": [
    "#### Prediction"
   ]
  },
  {
   "cell_type": "code",
   "execution_count": 109,
   "metadata": {},
   "outputs": [],
   "source": [
    "y_train_pred = model.predict(X_train)\n",
    "prob_train_pred = model.predict_proba(X_train)\n",
    "\n",
    "y_test_pred = model.predict(X_test)\n",
    "prob_test_pred = model.predict_proba(X_test)"
   ]
  },
  {
   "cell_type": "markdown",
   "metadata": {},
   "source": [
    "### 4.3. Model Interpretation"
   ]
  },
  {
   "cell_type": "markdown",
   "metadata": {},
   "source": [
    "#### intercept and coefficients"
   ]
  },
  {
   "cell_type": "code",
   "execution_count": 110,
   "metadata": {},
   "outputs": [
    {
     "data": {
      "text/plain": [
       "array([-0.51356703])"
      ]
     },
     "execution_count": 110,
     "metadata": {},
     "output_type": "execute_result"
    }
   ],
   "source": [
    "model.intercept_"
   ]
  },
  {
   "cell_type": "code",
   "execution_count": 111,
   "metadata": {},
   "outputs": [
    {
     "data": {
      "text/plain": [
       "array([[-0.93765934, -0.36914003, -1.75995088, -0.97017625, -0.07121692,\n",
       "         0.18275863,  0.23733402, -0.41287695,  0.75443547,  0.93891385,\n",
       "         0.39898386,  2.94824583, -1.06045718,  0.1064367 , -0.14050291,\n",
       "         0.57970806]])"
      ]
     },
     "execution_count": 111,
     "metadata": {},
     "output_type": "execute_result"
    }
   ],
   "source": [
    "model.coef_"
   ]
  },
  {
   "cell_type": "code",
   "execution_count": 114,
   "metadata": {},
   "outputs": [
    {
     "data": {
      "text/plain": [
       "[('Pclass', -0.9376593379522897),\n",
       " ('Sex', -0.3691400262433488),\n",
       " ('Age', -1.7599508825652557),\n",
       " ('SibSp', -0.9701762503565775),\n",
       " ('Parch', -0.07121691940382173),\n",
       " ('Fare', 0.18275862928090456),\n",
       " ('Embarked', 0.23733401842437735),\n",
       " ('Cabin_numerical', -0.41287695286262727),\n",
       " ('Cabin_categorical', 0.7544354740236136),\n",
       " ('Ticket_numerical', 0.9389138494797722),\n",
       " ('Ticket_categorical', 0.398983862004697),\n",
       " ('Title', 2.9482458302483776),\n",
       " ('Family_size', -1.060457179806875),\n",
       " ('is_mother', 0.10643669806217422),\n",
       " ('Age_NA', -0.14050290683681252),\n",
       " ('Ticket_numerical_NA', 0.5797080611207098)]"
      ]
     },
     "execution_count": 114,
     "metadata": {},
     "output_type": "execute_result"
    }
   ],
   "source": [
    "feature_names = X_train.columns.values\n",
    "coefficient_list = list(model.coef_[0])\n",
    "feature_coefficient = [(feature, coefficient) for feature, coefficient in zip(feature_names, coefficient_list)]\n",
    "feature_coefficient"
   ]
  },
  {
   "cell_type": "code",
   "execution_count": 115,
   "metadata": {},
   "outputs": [
    {
     "data": {
      "text/html": [
       "<div>\n",
       "<style scoped>\n",
       "    .dataframe tbody tr th:only-of-type {\n",
       "        vertical-align: middle;\n",
       "    }\n",
       "\n",
       "    .dataframe tbody tr th {\n",
       "        vertical-align: top;\n",
       "    }\n",
       "\n",
       "    .dataframe thead th {\n",
       "        text-align: right;\n",
       "    }\n",
       "</style>\n",
       "<table border=\"1\" class=\"dataframe\">\n",
       "  <thead>\n",
       "    <tr style=\"text-align: right;\">\n",
       "      <th></th>\n",
       "      <th>name</th>\n",
       "      <th>score</th>\n",
       "    </tr>\n",
       "  </thead>\n",
       "  <tbody>\n",
       "    <tr>\n",
       "      <th>0</th>\n",
       "      <td>Title</td>\n",
       "      <td>2.948246</td>\n",
       "    </tr>\n",
       "    <tr>\n",
       "      <th>1</th>\n",
       "      <td>Age</td>\n",
       "      <td>1.759951</td>\n",
       "    </tr>\n",
       "    <tr>\n",
       "      <th>2</th>\n",
       "      <td>Family_size</td>\n",
       "      <td>1.060457</td>\n",
       "    </tr>\n",
       "    <tr>\n",
       "      <th>3</th>\n",
       "      <td>SibSp</td>\n",
       "      <td>0.970176</td>\n",
       "    </tr>\n",
       "    <tr>\n",
       "      <th>4</th>\n",
       "      <td>Ticket_numerical</td>\n",
       "      <td>0.938914</td>\n",
       "    </tr>\n",
       "    <tr>\n",
       "      <th>5</th>\n",
       "      <td>Pclass</td>\n",
       "      <td>0.937659</td>\n",
       "    </tr>\n",
       "    <tr>\n",
       "      <th>6</th>\n",
       "      <td>Cabin_categorical</td>\n",
       "      <td>0.754435</td>\n",
       "    </tr>\n",
       "    <tr>\n",
       "      <th>7</th>\n",
       "      <td>Ticket_numerical_NA</td>\n",
       "      <td>0.579708</td>\n",
       "    </tr>\n",
       "    <tr>\n",
       "      <th>8</th>\n",
       "      <td>Cabin_numerical</td>\n",
       "      <td>0.412877</td>\n",
       "    </tr>\n",
       "    <tr>\n",
       "      <th>9</th>\n",
       "      <td>Ticket_categorical</td>\n",
       "      <td>0.398984</td>\n",
       "    </tr>\n",
       "    <tr>\n",
       "      <th>10</th>\n",
       "      <td>Sex</td>\n",
       "      <td>0.369140</td>\n",
       "    </tr>\n",
       "    <tr>\n",
       "      <th>11</th>\n",
       "      <td>Embarked</td>\n",
       "      <td>0.237334</td>\n",
       "    </tr>\n",
       "    <tr>\n",
       "      <th>12</th>\n",
       "      <td>Fare</td>\n",
       "      <td>0.182759</td>\n",
       "    </tr>\n",
       "    <tr>\n",
       "      <th>13</th>\n",
       "      <td>Age_NA</td>\n",
       "      <td>0.140503</td>\n",
       "    </tr>\n",
       "    <tr>\n",
       "      <th>14</th>\n",
       "      <td>is_mother</td>\n",
       "      <td>0.106437</td>\n",
       "    </tr>\n",
       "    <tr>\n",
       "      <th>15</th>\n",
       "      <td>Parch</td>\n",
       "      <td>0.071217</td>\n",
       "    </tr>\n",
       "  </tbody>\n",
       "</table>\n",
       "</div>"
      ],
      "text/plain": [
       "                   name     score\n",
       "0                 Title  2.948246\n",
       "1                   Age  1.759951\n",
       "2           Family_size  1.060457\n",
       "3                 SibSp  0.970176\n",
       "4      Ticket_numerical  0.938914\n",
       "5                Pclass  0.937659\n",
       "6     Cabin_categorical  0.754435\n",
       "7   Ticket_numerical_NA  0.579708\n",
       "8       Cabin_numerical  0.412877\n",
       "9    Ticket_categorical  0.398984\n",
       "10                  Sex  0.369140\n",
       "11             Embarked  0.237334\n",
       "12                 Fare  0.182759\n",
       "13               Age_NA  0.140503\n",
       "14            is_mother  0.106437\n",
       "15                Parch  0.071217"
      ]
     },
     "execution_count": 115,
     "metadata": {},
     "output_type": "execute_result"
    }
   ],
   "source": [
    "#get feature importances from the model\n",
    "headers = [\"name\", \"score\"]\n",
    "coefficient_list = np.abs(list(model.coef_[0]))\n",
    "values = sorted(zip(feature_names, coefficient_list), key=lambda x: x[1] * -1)\n",
    "feature_importances = pd.DataFrame(values, columns = headers)\n",
    "feature_importances"
   ]
  },
  {
   "cell_type": "markdown",
   "metadata": {},
   "source": [
    "#### Summary table"
   ]
  },
  {
   "cell_type": "code",
   "execution_count": 116,
   "metadata": {},
   "outputs": [],
   "source": [
    "def LogisticSummaryTable(classifier, X):\n",
    "    feature_name = X.columns.values\n",
    "    summary_table = pd.DataFrame(columns=['feature_name'], data = feature_name)\n",
    "    summary_table['Coefficient'] = np.transpose(classifier.coef_)\n",
    "    summary_table.index = summary_table.index + 1\n",
    "    summary_table.loc[0] = ['Intercept', classifier.intercept_[0]]\n",
    "    summary_table = summary_table.sort_index()\n",
    "    summary_table['Odds_ratio'] = np.exp(summary_table.Coefficient)\n",
    "    summary_table.sort_values('Odds_ratio', ascending = False)\n",
    "\n",
    "    return summary_table"
   ]
  },
  {
   "cell_type": "code",
   "execution_count": 117,
   "metadata": {
    "scrolled": true
   },
   "outputs": [
    {
     "data": {
      "text/html": [
       "<div>\n",
       "<style scoped>\n",
       "    .dataframe tbody tr th:only-of-type {\n",
       "        vertical-align: middle;\n",
       "    }\n",
       "\n",
       "    .dataframe tbody tr th {\n",
       "        vertical-align: top;\n",
       "    }\n",
       "\n",
       "    .dataframe thead th {\n",
       "        text-align: right;\n",
       "    }\n",
       "</style>\n",
       "<table border=\"1\" class=\"dataframe\">\n",
       "  <thead>\n",
       "    <tr style=\"text-align: right;\">\n",
       "      <th></th>\n",
       "      <th>feature_name</th>\n",
       "      <th>Coefficient</th>\n",
       "      <th>Odds_ratio</th>\n",
       "    </tr>\n",
       "  </thead>\n",
       "  <tbody>\n",
       "    <tr>\n",
       "      <th>0</th>\n",
       "      <td>Intercept</td>\n",
       "      <td>-0.513567</td>\n",
       "      <td>0.598357</td>\n",
       "    </tr>\n",
       "    <tr>\n",
       "      <th>1</th>\n",
       "      <td>Pclass</td>\n",
       "      <td>-0.937659</td>\n",
       "      <td>0.391543</td>\n",
       "    </tr>\n",
       "    <tr>\n",
       "      <th>2</th>\n",
       "      <td>Sex</td>\n",
       "      <td>-0.369140</td>\n",
       "      <td>0.691329</td>\n",
       "    </tr>\n",
       "    <tr>\n",
       "      <th>3</th>\n",
       "      <td>Age</td>\n",
       "      <td>-1.759951</td>\n",
       "      <td>0.172053</td>\n",
       "    </tr>\n",
       "    <tr>\n",
       "      <th>4</th>\n",
       "      <td>SibSp</td>\n",
       "      <td>-0.970176</td>\n",
       "      <td>0.379016</td>\n",
       "    </tr>\n",
       "    <tr>\n",
       "      <th>5</th>\n",
       "      <td>Parch</td>\n",
       "      <td>-0.071217</td>\n",
       "      <td>0.931260</td>\n",
       "    </tr>\n",
       "    <tr>\n",
       "      <th>6</th>\n",
       "      <td>Fare</td>\n",
       "      <td>0.182759</td>\n",
       "      <td>1.200525</td>\n",
       "    </tr>\n",
       "    <tr>\n",
       "      <th>7</th>\n",
       "      <td>Embarked</td>\n",
       "      <td>0.237334</td>\n",
       "      <td>1.267865</td>\n",
       "    </tr>\n",
       "    <tr>\n",
       "      <th>8</th>\n",
       "      <td>Cabin_numerical</td>\n",
       "      <td>-0.412877</td>\n",
       "      <td>0.661744</td>\n",
       "    </tr>\n",
       "    <tr>\n",
       "      <th>9</th>\n",
       "      <td>Cabin_categorical</td>\n",
       "      <td>0.754435</td>\n",
       "      <td>2.126411</td>\n",
       "    </tr>\n",
       "    <tr>\n",
       "      <th>10</th>\n",
       "      <td>Ticket_numerical</td>\n",
       "      <td>0.938914</td>\n",
       "      <td>2.557202</td>\n",
       "    </tr>\n",
       "    <tr>\n",
       "      <th>11</th>\n",
       "      <td>Ticket_categorical</td>\n",
       "      <td>0.398984</td>\n",
       "      <td>1.490310</td>\n",
       "    </tr>\n",
       "    <tr>\n",
       "      <th>12</th>\n",
       "      <td>Title</td>\n",
       "      <td>2.948246</td>\n",
       "      <td>19.072468</td>\n",
       "    </tr>\n",
       "    <tr>\n",
       "      <th>13</th>\n",
       "      <td>Family_size</td>\n",
       "      <td>-1.060457</td>\n",
       "      <td>0.346297</td>\n",
       "    </tr>\n",
       "    <tr>\n",
       "      <th>14</th>\n",
       "      <td>is_mother</td>\n",
       "      <td>0.106437</td>\n",
       "      <td>1.112308</td>\n",
       "    </tr>\n",
       "    <tr>\n",
       "      <th>15</th>\n",
       "      <td>Age_NA</td>\n",
       "      <td>-0.140503</td>\n",
       "      <td>0.868921</td>\n",
       "    </tr>\n",
       "    <tr>\n",
       "      <th>16</th>\n",
       "      <td>Ticket_numerical_NA</td>\n",
       "      <td>0.579708</td>\n",
       "      <td>1.785517</td>\n",
       "    </tr>\n",
       "  </tbody>\n",
       "</table>\n",
       "</div>"
      ],
      "text/plain": [
       "           feature_name  Coefficient  Odds_ratio\n",
       "0             Intercept    -0.513567    0.598357\n",
       "1                Pclass    -0.937659    0.391543\n",
       "2                   Sex    -0.369140    0.691329\n",
       "3                   Age    -1.759951    0.172053\n",
       "4                 SibSp    -0.970176    0.379016\n",
       "5                 Parch    -0.071217    0.931260\n",
       "6                  Fare     0.182759    1.200525\n",
       "7              Embarked     0.237334    1.267865\n",
       "8       Cabin_numerical    -0.412877    0.661744\n",
       "9     Cabin_categorical     0.754435    2.126411\n",
       "10     Ticket_numerical     0.938914    2.557202\n",
       "11   Ticket_categorical     0.398984    1.490310\n",
       "12                Title     2.948246   19.072468\n",
       "13          Family_size    -1.060457    0.346297\n",
       "14            is_mother     0.106437    1.112308\n",
       "15               Age_NA    -0.140503    0.868921\n",
       "16  Ticket_numerical_NA     0.579708    1.785517"
      ]
     },
     "execution_count": 117,
     "metadata": {},
     "output_type": "execute_result"
    }
   ],
   "source": [
    "LogisticSummaryTable(model, X_train)"
   ]
  },
  {
   "cell_type": "markdown",
   "metadata": {},
   "source": [
    "### Creating Summary Table"
   ]
  },
  {
   "cell_type": "code",
   "execution_count": 79,
   "metadata": {},
   "outputs": [
    {
     "data": {
      "text/plain": [
       "array([-0.51356703])"
      ]
     },
     "execution_count": 79,
     "metadata": {},
     "output_type": "execute_result"
    }
   ],
   "source": [
    "model.intercept_"
   ]
  },
  {
   "cell_type": "code",
   "execution_count": 80,
   "metadata": {},
   "outputs": [
    {
     "data": {
      "text/plain": [
       "array([[-0.93765934, -0.36914003, -1.75995088, -0.97017625, -0.07121692,\n",
       "         0.18275863,  0.23733402, -0.41287695,  0.75443547,  0.93891385,\n",
       "         0.39898386,  2.94824583, -1.06045718,  0.1064367 , -0.14050291,\n",
       "         0.57970806]])"
      ]
     },
     "execution_count": 80,
     "metadata": {},
     "output_type": "execute_result"
    }
   ],
   "source": [
    "model.coef_"
   ]
  },
  {
   "cell_type": "code",
   "execution_count": 81,
   "metadata": {},
   "outputs": [
    {
     "data": {
      "text/plain": [
       "Index(['Pclass', 'Sex', 'Age', 'SibSp', 'Parch', 'Fare', 'Embarked',\n",
       "       'Cabin_numerical', 'Cabin_categorical', 'Ticket_numerical',\n",
       "       'Ticket_categorical', 'Title', 'Family_size', 'is_mother', 'Age_NA',\n",
       "       'Ticket_numerical_NA'],\n",
       "      dtype='object')"
      ]
     },
     "execution_count": 81,
     "metadata": {},
     "output_type": "execute_result"
    }
   ],
   "source": [
    "X_train.columns"
   ]
  },
  {
   "cell_type": "code",
   "execution_count": 82,
   "metadata": {},
   "outputs": [
    {
     "data": {
      "text/html": [
       "<div>\n",
       "<style scoped>\n",
       "    .dataframe tbody tr th:only-of-type {\n",
       "        vertical-align: middle;\n",
       "    }\n",
       "\n",
       "    .dataframe tbody tr th {\n",
       "        vertical-align: top;\n",
       "    }\n",
       "\n",
       "    .dataframe thead th {\n",
       "        text-align: right;\n",
       "    }\n",
       "</style>\n",
       "<table border=\"1\" class=\"dataframe\">\n",
       "  <thead>\n",
       "    <tr style=\"text-align: right;\">\n",
       "      <th></th>\n",
       "      <th>FeatureName</th>\n",
       "      <th>Coefficient</th>\n",
       "    </tr>\n",
       "  </thead>\n",
       "  <tbody>\n",
       "    <tr>\n",
       "      <th>0</th>\n",
       "      <td>Intercep</td>\n",
       "      <td>-0.513567</td>\n",
       "    </tr>\n",
       "    <tr>\n",
       "      <th>1</th>\n",
       "      <td>Pclass</td>\n",
       "      <td>-0.937659</td>\n",
       "    </tr>\n",
       "    <tr>\n",
       "      <th>2</th>\n",
       "      <td>Sex</td>\n",
       "      <td>-0.369140</td>\n",
       "    </tr>\n",
       "    <tr>\n",
       "      <th>3</th>\n",
       "      <td>Age</td>\n",
       "      <td>-1.759951</td>\n",
       "    </tr>\n",
       "    <tr>\n",
       "      <th>4</th>\n",
       "      <td>SibSp</td>\n",
       "      <td>-0.970176</td>\n",
       "    </tr>\n",
       "    <tr>\n",
       "      <th>5</th>\n",
       "      <td>Parch</td>\n",
       "      <td>-0.071217</td>\n",
       "    </tr>\n",
       "    <tr>\n",
       "      <th>6</th>\n",
       "      <td>Fare</td>\n",
       "      <td>0.182759</td>\n",
       "    </tr>\n",
       "    <tr>\n",
       "      <th>7</th>\n",
       "      <td>Embarked</td>\n",
       "      <td>0.237334</td>\n",
       "    </tr>\n",
       "    <tr>\n",
       "      <th>8</th>\n",
       "      <td>Cabin_numerical</td>\n",
       "      <td>-0.412877</td>\n",
       "    </tr>\n",
       "    <tr>\n",
       "      <th>9</th>\n",
       "      <td>Cabin_categorical</td>\n",
       "      <td>0.754435</td>\n",
       "    </tr>\n",
       "    <tr>\n",
       "      <th>10</th>\n",
       "      <td>Ticket_numerical</td>\n",
       "      <td>0.938914</td>\n",
       "    </tr>\n",
       "    <tr>\n",
       "      <th>11</th>\n",
       "      <td>Ticket_categorical</td>\n",
       "      <td>0.398984</td>\n",
       "    </tr>\n",
       "    <tr>\n",
       "      <th>12</th>\n",
       "      <td>Title</td>\n",
       "      <td>2.948246</td>\n",
       "    </tr>\n",
       "    <tr>\n",
       "      <th>13</th>\n",
       "      <td>Family_size</td>\n",
       "      <td>-1.060457</td>\n",
       "    </tr>\n",
       "    <tr>\n",
       "      <th>14</th>\n",
       "      <td>is_mother</td>\n",
       "      <td>0.106437</td>\n",
       "    </tr>\n",
       "    <tr>\n",
       "      <th>15</th>\n",
       "      <td>Age_NA</td>\n",
       "      <td>-0.140503</td>\n",
       "    </tr>\n",
       "    <tr>\n",
       "      <th>16</th>\n",
       "      <td>Ticket_numerical_NA</td>\n",
       "      <td>0.579708</td>\n",
       "    </tr>\n",
       "  </tbody>\n",
       "</table>\n",
       "</div>"
      ],
      "text/plain": [
       "            FeatureName  Coefficient\n",
       "0              Intercep    -0.513567\n",
       "1                Pclass    -0.937659\n",
       "2                   Sex    -0.369140\n",
       "3                   Age    -1.759951\n",
       "4                 SibSp    -0.970176\n",
       "5                 Parch    -0.071217\n",
       "6                  Fare     0.182759\n",
       "7              Embarked     0.237334\n",
       "8       Cabin_numerical    -0.412877\n",
       "9     Cabin_categorical     0.754435\n",
       "10     Ticket_numerical     0.938914\n",
       "11   Ticket_categorical     0.398984\n",
       "12                Title     2.948246\n",
       "13          Family_size    -1.060457\n",
       "14            is_mother     0.106437\n",
       "15               Age_NA    -0.140503\n",
       "16  Ticket_numerical_NA     0.579708"
      ]
     },
     "execution_count": 82,
     "metadata": {},
     "output_type": "execute_result"
    }
   ],
   "source": [
    "summary_table = pd.DataFrame(columns=['FeatureName'], data=X_train.columns)\n",
    "summary_table['Coefficient'] = np.transpose(model.coef_)\n",
    "summary_table.index = summary_table.index + 1\n",
    "summary_table.loc[0] = ['Intercep', model.intercept_[0]]\n",
    "summary_table = summary_table.sort_index()\n",
    "summary_table"
   ]
  },
  {
   "cell_type": "markdown",
   "metadata": {},
   "source": [
    "### Interpreting the coefficients"
   ]
  },
  {
   "cell_type": "code",
   "execution_count": 83,
   "metadata": {},
   "outputs": [
    {
     "data": {
      "text/html": [
       "<div>\n",
       "<style scoped>\n",
       "    .dataframe tbody tr th:only-of-type {\n",
       "        vertical-align: middle;\n",
       "    }\n",
       "\n",
       "    .dataframe tbody tr th {\n",
       "        vertical-align: top;\n",
       "    }\n",
       "\n",
       "    .dataframe thead th {\n",
       "        text-align: right;\n",
       "    }\n",
       "</style>\n",
       "<table border=\"1\" class=\"dataframe\">\n",
       "  <thead>\n",
       "    <tr style=\"text-align: right;\">\n",
       "      <th></th>\n",
       "      <th>FeatureName</th>\n",
       "      <th>Coefficient</th>\n",
       "      <th>Odds_ratio</th>\n",
       "    </tr>\n",
       "  </thead>\n",
       "  <tbody>\n",
       "    <tr>\n",
       "      <th>0</th>\n",
       "      <td>Intercep</td>\n",
       "      <td>-0.513567</td>\n",
       "      <td>0.598357</td>\n",
       "    </tr>\n",
       "    <tr>\n",
       "      <th>1</th>\n",
       "      <td>Pclass</td>\n",
       "      <td>-0.937659</td>\n",
       "      <td>0.391543</td>\n",
       "    </tr>\n",
       "    <tr>\n",
       "      <th>2</th>\n",
       "      <td>Sex</td>\n",
       "      <td>-0.369140</td>\n",
       "      <td>0.691329</td>\n",
       "    </tr>\n",
       "    <tr>\n",
       "      <th>3</th>\n",
       "      <td>Age</td>\n",
       "      <td>-1.759951</td>\n",
       "      <td>0.172053</td>\n",
       "    </tr>\n",
       "    <tr>\n",
       "      <th>4</th>\n",
       "      <td>SibSp</td>\n",
       "      <td>-0.970176</td>\n",
       "      <td>0.379016</td>\n",
       "    </tr>\n",
       "    <tr>\n",
       "      <th>5</th>\n",
       "      <td>Parch</td>\n",
       "      <td>-0.071217</td>\n",
       "      <td>0.931260</td>\n",
       "    </tr>\n",
       "    <tr>\n",
       "      <th>6</th>\n",
       "      <td>Fare</td>\n",
       "      <td>0.182759</td>\n",
       "      <td>1.200525</td>\n",
       "    </tr>\n",
       "    <tr>\n",
       "      <th>7</th>\n",
       "      <td>Embarked</td>\n",
       "      <td>0.237334</td>\n",
       "      <td>1.267865</td>\n",
       "    </tr>\n",
       "    <tr>\n",
       "      <th>8</th>\n",
       "      <td>Cabin_numerical</td>\n",
       "      <td>-0.412877</td>\n",
       "      <td>0.661744</td>\n",
       "    </tr>\n",
       "    <tr>\n",
       "      <th>9</th>\n",
       "      <td>Cabin_categorical</td>\n",
       "      <td>0.754435</td>\n",
       "      <td>2.126411</td>\n",
       "    </tr>\n",
       "    <tr>\n",
       "      <th>10</th>\n",
       "      <td>Ticket_numerical</td>\n",
       "      <td>0.938914</td>\n",
       "      <td>2.557202</td>\n",
       "    </tr>\n",
       "    <tr>\n",
       "      <th>11</th>\n",
       "      <td>Ticket_categorical</td>\n",
       "      <td>0.398984</td>\n",
       "      <td>1.490310</td>\n",
       "    </tr>\n",
       "    <tr>\n",
       "      <th>12</th>\n",
       "      <td>Title</td>\n",
       "      <td>2.948246</td>\n",
       "      <td>19.072468</td>\n",
       "    </tr>\n",
       "    <tr>\n",
       "      <th>13</th>\n",
       "      <td>Family_size</td>\n",
       "      <td>-1.060457</td>\n",
       "      <td>0.346297</td>\n",
       "    </tr>\n",
       "    <tr>\n",
       "      <th>14</th>\n",
       "      <td>is_mother</td>\n",
       "      <td>0.106437</td>\n",
       "      <td>1.112308</td>\n",
       "    </tr>\n",
       "    <tr>\n",
       "      <th>15</th>\n",
       "      <td>Age_NA</td>\n",
       "      <td>-0.140503</td>\n",
       "      <td>0.868921</td>\n",
       "    </tr>\n",
       "    <tr>\n",
       "      <th>16</th>\n",
       "      <td>Ticket_numerical_NA</td>\n",
       "      <td>0.579708</td>\n",
       "      <td>1.785517</td>\n",
       "    </tr>\n",
       "  </tbody>\n",
       "</table>\n",
       "</div>"
      ],
      "text/plain": [
       "            FeatureName  Coefficient  Odds_ratio\n",
       "0              Intercep    -0.513567    0.598357\n",
       "1                Pclass    -0.937659    0.391543\n",
       "2                   Sex    -0.369140    0.691329\n",
       "3                   Age    -1.759951    0.172053\n",
       "4                 SibSp    -0.970176    0.379016\n",
       "5                 Parch    -0.071217    0.931260\n",
       "6                  Fare     0.182759    1.200525\n",
       "7              Embarked     0.237334    1.267865\n",
       "8       Cabin_numerical    -0.412877    0.661744\n",
       "9     Cabin_categorical     0.754435    2.126411\n",
       "10     Ticket_numerical     0.938914    2.557202\n",
       "11   Ticket_categorical     0.398984    1.490310\n",
       "12                Title     2.948246   19.072468\n",
       "13          Family_size    -1.060457    0.346297\n",
       "14            is_mother     0.106437    1.112308\n",
       "15               Age_NA    -0.140503    0.868921\n",
       "16  Ticket_numerical_NA     0.579708    1.785517"
      ]
     },
     "execution_count": 83,
     "metadata": {},
     "output_type": "execute_result"
    }
   ],
   "source": [
    "summary_table['Odds_ratio'] = np.exp(summary_table.Coefficient)\n",
    "summary_table"
   ]
  },
  {
   "cell_type": "code",
   "execution_count": 84,
   "metadata": {},
   "outputs": [
    {
     "data": {
      "text/html": [
       "<div>\n",
       "<style scoped>\n",
       "    .dataframe tbody tr th:only-of-type {\n",
       "        vertical-align: middle;\n",
       "    }\n",
       "\n",
       "    .dataframe tbody tr th {\n",
       "        vertical-align: top;\n",
       "    }\n",
       "\n",
       "    .dataframe thead th {\n",
       "        text-align: right;\n",
       "    }\n",
       "</style>\n",
       "<table border=\"1\" class=\"dataframe\">\n",
       "  <thead>\n",
       "    <tr style=\"text-align: right;\">\n",
       "      <th></th>\n",
       "      <th>FeatureName</th>\n",
       "      <th>Coefficient</th>\n",
       "      <th>Odds_ratio</th>\n",
       "    </tr>\n",
       "  </thead>\n",
       "  <tbody>\n",
       "    <tr>\n",
       "      <th>3</th>\n",
       "      <td>Age</td>\n",
       "      <td>-1.759951</td>\n",
       "      <td>0.172053</td>\n",
       "    </tr>\n",
       "    <tr>\n",
       "      <th>13</th>\n",
       "      <td>Family_size</td>\n",
       "      <td>-1.060457</td>\n",
       "      <td>0.346297</td>\n",
       "    </tr>\n",
       "    <tr>\n",
       "      <th>4</th>\n",
       "      <td>SibSp</td>\n",
       "      <td>-0.970176</td>\n",
       "      <td>0.379016</td>\n",
       "    </tr>\n",
       "    <tr>\n",
       "      <th>1</th>\n",
       "      <td>Pclass</td>\n",
       "      <td>-0.937659</td>\n",
       "      <td>0.391543</td>\n",
       "    </tr>\n",
       "    <tr>\n",
       "      <th>0</th>\n",
       "      <td>Intercep</td>\n",
       "      <td>-0.513567</td>\n",
       "      <td>0.598357</td>\n",
       "    </tr>\n",
       "    <tr>\n",
       "      <th>8</th>\n",
       "      <td>Cabin_numerical</td>\n",
       "      <td>-0.412877</td>\n",
       "      <td>0.661744</td>\n",
       "    </tr>\n",
       "    <tr>\n",
       "      <th>2</th>\n",
       "      <td>Sex</td>\n",
       "      <td>-0.369140</td>\n",
       "      <td>0.691329</td>\n",
       "    </tr>\n",
       "    <tr>\n",
       "      <th>15</th>\n",
       "      <td>Age_NA</td>\n",
       "      <td>-0.140503</td>\n",
       "      <td>0.868921</td>\n",
       "    </tr>\n",
       "    <tr>\n",
       "      <th>5</th>\n",
       "      <td>Parch</td>\n",
       "      <td>-0.071217</td>\n",
       "      <td>0.931260</td>\n",
       "    </tr>\n",
       "    <tr>\n",
       "      <th>14</th>\n",
       "      <td>is_mother</td>\n",
       "      <td>0.106437</td>\n",
       "      <td>1.112308</td>\n",
       "    </tr>\n",
       "    <tr>\n",
       "      <th>6</th>\n",
       "      <td>Fare</td>\n",
       "      <td>0.182759</td>\n",
       "      <td>1.200525</td>\n",
       "    </tr>\n",
       "    <tr>\n",
       "      <th>7</th>\n",
       "      <td>Embarked</td>\n",
       "      <td>0.237334</td>\n",
       "      <td>1.267865</td>\n",
       "    </tr>\n",
       "    <tr>\n",
       "      <th>11</th>\n",
       "      <td>Ticket_categorical</td>\n",
       "      <td>0.398984</td>\n",
       "      <td>1.490310</td>\n",
       "    </tr>\n",
       "    <tr>\n",
       "      <th>16</th>\n",
       "      <td>Ticket_numerical_NA</td>\n",
       "      <td>0.579708</td>\n",
       "      <td>1.785517</td>\n",
       "    </tr>\n",
       "    <tr>\n",
       "      <th>9</th>\n",
       "      <td>Cabin_categorical</td>\n",
       "      <td>0.754435</td>\n",
       "      <td>2.126411</td>\n",
       "    </tr>\n",
       "    <tr>\n",
       "      <th>10</th>\n",
       "      <td>Ticket_numerical</td>\n",
       "      <td>0.938914</td>\n",
       "      <td>2.557202</td>\n",
       "    </tr>\n",
       "    <tr>\n",
       "      <th>12</th>\n",
       "      <td>Title</td>\n",
       "      <td>2.948246</td>\n",
       "      <td>19.072468</td>\n",
       "    </tr>\n",
       "  </tbody>\n",
       "</table>\n",
       "</div>"
      ],
      "text/plain": [
       "            FeatureName  Coefficient  Odds_ratio\n",
       "3                   Age    -1.759951    0.172053\n",
       "13          Family_size    -1.060457    0.346297\n",
       "4                 SibSp    -0.970176    0.379016\n",
       "1                Pclass    -0.937659    0.391543\n",
       "0              Intercep    -0.513567    0.598357\n",
       "8       Cabin_numerical    -0.412877    0.661744\n",
       "2                   Sex    -0.369140    0.691329\n",
       "15               Age_NA    -0.140503    0.868921\n",
       "5                 Parch    -0.071217    0.931260\n",
       "14            is_mother     0.106437    1.112308\n",
       "6                  Fare     0.182759    1.200525\n",
       "7              Embarked     0.237334    1.267865\n",
       "11   Ticket_categorical     0.398984    1.490310\n",
       "16  Ticket_numerical_NA     0.579708    1.785517\n",
       "9     Cabin_categorical     0.754435    2.126411\n",
       "10     Ticket_numerical     0.938914    2.557202\n",
       "12                Title     2.948246   19.072468"
      ]
     },
     "execution_count": 84,
     "metadata": {},
     "output_type": "execute_result"
    }
   ],
   "source": [
    "summary_table.sort_values('Odds_ratio', ascending=True)"
   ]
  },
  {
   "cell_type": "markdown",
   "metadata": {},
   "source": [
    "### Performance Evaluation"
   ]
  },
  {
   "cell_type": "markdown",
   "metadata": {},
   "source": [
    "#### Accuracy"
   ]
  },
  {
   "cell_type": "code",
   "execution_count": 118,
   "metadata": {},
   "outputs": [
    {
     "data": {
      "text/plain": [
       "0.8308383233532934"
      ]
     },
     "execution_count": 118,
     "metadata": {},
     "output_type": "execute_result"
    }
   ],
   "source": [
    "accuracy_score(y_train, y_train_pred)"
   ]
  },
  {
   "cell_type": "code",
   "execution_count": 119,
   "metadata": {},
   "outputs": [
    {
     "data": {
      "text/plain": [
       "0.8161434977578476"
      ]
     },
     "execution_count": 119,
     "metadata": {},
     "output_type": "execute_result"
    }
   ],
   "source": [
    "accuracy_score(y_test, y_test_pred)"
   ]
  },
  {
   "cell_type": "markdown",
   "metadata": {},
   "source": [
    "#### Confusion matrix & Classification Report"
   ]
  },
  {
   "cell_type": "code",
   "execution_count": 120,
   "metadata": {},
   "outputs": [
    {
     "data": {
      "image/png": "[encoded data removed]",
      "text/plain": [
       "<Figure size 432x288 with 2 Axes>"
      ]
     },
     "metadata": {
      "needs_background": "light"
     },
     "output_type": "display_data"
    }
   ],
   "source": [
    "from sklearn.metrics import confusion_matrix\n",
    "cm = confusion_matrix(y_train, y_train_pred)\n",
    "cm_df = pd.DataFrame(cm)\n",
    "cm_df.columns = ['Predicted 0', 'Predicted 1']\n",
    "cm_df = cm_df.rename(index={0: 'Actual 0',1:'Actual 1'})\n",
    "sns.heatmap(cm_df, annot=True, fmt=\"d\")\n",
    "plt.show()"
   ]
  },
  {
   "cell_type": "code",
   "execution_count": 121,
   "metadata": {
    "scrolled": true
   },
   "outputs": [
    {
     "name": "stdout",
     "output_type": "stream",
     "text": [
      "              precision    recall  f1-score   support\n",
      "\n",
      "           0       0.85      0.88      0.86       412\n",
      "           1       0.79      0.75      0.77       256\n",
      "\n",
      "    accuracy                           0.83       668\n",
      "   macro avg       0.82      0.82      0.82       668\n",
      "weighted avg       0.83      0.83      0.83       668\n",
      "\n"
     ]
    }
   ],
   "source": [
    "from sklearn.metrics import classification_report\n",
    "print(classification_report(y_train, y_train_pred))"
   ]
  },
  {
   "cell_type": "code",
   "execution_count": 122,
   "metadata": {
    "scrolled": true
   },
   "outputs": [
    {
     "data": {
      "image/png": "[encoded data removed]",
      "text/plain": [
       "<Figure size 432x288 with 2 Axes>"
      ]
     },
     "metadata": {
      "needs_background": "light"
     },
     "output_type": "display_data"
    }
   ],
   "source": [
    "from sklearn.metrics import confusion_matrix\n",
    "cm = confusion_matrix(y_test, y_test_pred)\n",
    "cm_df = pd.DataFrame(cm)\n",
    "cm_df.columns = ['Predicted 0', 'Predicted 1']\n",
    "cm_df = cm_df.rename(index={0: 'Actual 0',1:'Actual 1'})\n",
    "sns.heatmap(cm_df, annot=True, fmt=\"d\")\n",
    "plt.show()"
   ]
  },
  {
   "cell_type": "code",
   "execution_count": 123,
   "metadata": {
    "scrolled": true
   },
   "outputs": [
    {
     "name": "stdout",
     "output_type": "stream",
     "text": [
      "              precision    recall  f1-score   support\n",
      "\n",
      "           0       0.82      0.90      0.86       137\n",
      "           1       0.81      0.69      0.74        86\n",
      "\n",
      "    accuracy                           0.82       223\n",
      "   macro avg       0.81      0.79      0.80       223\n",
      "weighted avg       0.82      0.82      0.81       223\n",
      "\n"
     ]
    }
   ],
   "source": [
    "print(classification_report(y_test, y_test_pred))"
   ]
  },
  {
   "cell_type": "markdown",
   "metadata": {},
   "source": [
    "#### ROC AUC Score"
   ]
  },
  {
   "cell_type": "code",
   "execution_count": 124,
   "metadata": {},
   "outputs": [
    {
     "data": {
      "text/plain": [
       "0.8864627578883495"
      ]
     },
     "execution_count": 124,
     "metadata": {},
     "output_type": "execute_result"
    }
   ],
   "source": [
    "roc_auc_score(y_train, prob_train_pred[:,1])"
   ]
  },
  {
   "cell_type": "code",
   "execution_count": 125,
   "metadata": {},
   "outputs": [
    {
     "data": {
      "text/plain": [
       "0.8554150398913597"
      ]
     },
     "execution_count": 125,
     "metadata": {},
     "output_type": "execute_result"
    }
   ],
   "source": [
    "roc_auc_score(y_test, prob_test_pred[:,1])"
   ]
  },
  {
   "cell_type": "markdown",
   "metadata": {},
   "source": [
    "#### ROC Curve"
   ]
  },
  {
   "cell_type": "code",
   "execution_count": 126,
   "metadata": {},
   "outputs": [
    {
     "data": {
      "image/png": "[encoded data removed]",
      "text/plain": [
       "<Figure size 432x432 with 1 Axes>"
      ]
     },
     "metadata": {
      "needs_background": "light"
     },
     "output_type": "display_data"
    }
   ],
   "source": [
    "from sklearn.metrics import roc_curve\n",
    "\n",
    "fpr_train, tpr_train, threshold = roc_curve(y_train, prob_train_pred[:,1])\n",
    "fpr_test, tpr_test, threshold = roc_curve(y_test, prob_test_pred[:,1])\n",
    "\n",
    "plt.figure(figsize=(6,6))\n",
    "plt.title('ROC Curve Classifiers', fontsize=16)\n",
    "plt.plot(fpr_train, tpr_train, label= 'Train Score: {:.4f}'.format(roc_auc_score(y_train, prob_train_pred[:,1])))\n",
    "plt.plot(fpr_test, tpr_test, label= 'Test Score: {:.4f}'.format(roc_auc_score(y_test, prob_test_pred[:,1])))\n",
    "\n",
    "plt.plot([0, 1], [0, 1], 'k--')\n",
    "plt.axis([-0.01, 1, 0, 1])\n",
    "plt.xlabel('False Positive Rate', fontsize=16)\n",
    "plt.ylabel('True Positive Rate', fontsize=16)\n",
    "plt.annotate('Minimum ROC Score of 50% \\n (This is the minimum score to get)', xy=(0.5, 0.5), xytext=(0.6, 0.3),\n",
    "                arrowprops=dict(facecolor='#6E726D', shrink=0.05))\n",
    "plt.legend()\n",
    "        \n",
    "plt.show()"
   ]
  },
  {
   "cell_type": "markdown",
   "metadata": {},
   "source": [
    "#### Precision-Recall curve"
   ]
  },
  {
   "cell_type": "code",
   "execution_count": 127,
   "metadata": {},
   "outputs": [
    {
     "data": {
      "image/png": "[encoded data removed]",
      "text/plain": [
       "<Figure size 432x288 with 1 Axes>"
      ]
     },
     "metadata": {
      "needs_background": "light"
     },
     "output_type": "display_data"
    }
   ],
   "source": [
    "from sklearn.metrics import precision_recall_curve\n",
    "from sklearn.metrics import average_precision_score\n",
    "\n",
    "y_score = prob_test_pred[:,1]\n",
    "precision, recall, threshold = precision_recall_curve(y_test,y_score)\n",
    "average_precision = average_precision_score(y_test, y_score)\n",
    "\n",
    "\n",
    "plt.step(recall, precision, color='#004a93', alpha=0.2,where='post')\n",
    "plt.fill_between(recall, precision, step='post', alpha=0.2, color='#48a6ff')\n",
    "plt.xlabel('Recall')\n",
    "plt.ylabel('Precision')\n",
    "plt.ylim([0.0, 1.05])\n",
    "plt.xlim([0.0, 1.0])\n",
    "plt.title('Precision-Recall curve: \\n Average Precision-Recall Score ={0:0.2f}'.format(average_precision), fontsize=16)\n",
    "plt.show()"
   ]
  },
  {
   "cell_type": "code",
   "execution_count": 128,
   "metadata": {},
   "outputs": [
    {
     "data": {
      "image/png": "[encoded data removed]",
      "text/plain": [
       "<Figure size 576x360 with 1 Axes>"
      ]
     },
     "metadata": {
      "needs_background": "light"
     },
     "output_type": "display_data"
    }
   ],
   "source": [
    "plt.figure(figsize=(8,5))\n",
    "plt.plot(threshold, precision[1:], label=\"Precision\",linewidth=5)\n",
    "plt.plot(threshold, recall[1:], label=\"Recall\",linewidth=5)\n",
    "plt.title('Precision and recall for different threshold values')\n",
    "plt.xlabel('Threshold')\n",
    "plt.ylabel('Precision/Recall')\n",
    "plt.legend()\n",
    "plt.show()"
   ]
  },
  {
   "cell_type": "code",
   "execution_count": 129,
   "metadata": {},
   "outputs": [
    {
     "data": {
      "text/plain": [
       "Text(0.5, 1.0, 'Precision-Recall curve: \\n Average Precision-Recall Score =0.86')"
      ]
     },
     "execution_count": 129,
     "metadata": {},
     "output_type": "execute_result"
    },
    {
     "data": {
      "image/png": "[encoded data removed]",
      "text/plain": [
       "<Figure size 432x288 with 1 Axes>"
      ]
     },
     "metadata": {
      "needs_background": "light"
     },
     "output_type": "display_data"
    }
   ],
   "source": [
    "from sklearn.metrics import precision_recall_curve\n",
    "from sklearn.metrics import average_precision_score\n",
    "\n",
    "y_score = prob_train_pred[:,1]\n",
    "precision, recall, threshold = precision_recall_curve(y_train,y_score)\n",
    "average_precision = average_precision_score(y_train, y_score)\n",
    "\n",
    "\n",
    "plt.step(recall, precision, color='#004a93', alpha=0.2,where='post')\n",
    "plt.fill_between(recall, precision, step='post', alpha=0.2, color='#48a6ff')\n",
    "plt.xlabel('Recall')\n",
    "plt.ylabel('Precision')\n",
    "plt.ylim([0.0, 1.05])\n",
    "plt.xlim([0.0, 1.0])\n",
    "plt.title('Precision-Recall curve: \\n Average Precision-Recall Score ={0:0.2f}'.format(average_precision), fontsize=16)"
   ]
  },
  {
   "cell_type": "code",
   "execution_count": 130,
   "metadata": {},
   "outputs": [
    {
     "data": {
      "image/png": "[encoded data removed]",
      "text/plain": [
       "<Figure size 576x360 with 1 Axes>"
      ]
     },
     "metadata": {
      "needs_background": "light"
     },
     "output_type": "display_data"
    }
   ],
   "source": [
    "plt.figure(figsize=(8,5))\n",
    "plt.plot(threshold, precision[1:], label=\"Precision\",linewidth=5)\n",
    "plt.plot(threshold, recall[1:], label=\"Recall\",linewidth=5)\n",
    "plt.title('Precision and recall for different threshold values')\n",
    "plt.xlabel('Threshold')\n",
    "plt.ylabel('Precision/Recall')\n",
    "plt.legend()\n",
    "plt.show()"
   ]
  },
  {
   "cell_type": "markdown",
   "metadata": {},
   "source": [
    "#### Summary"
   ]
  },
  {
   "cell_type": "code",
   "execution_count": 131,
   "metadata": {
    "scrolled": true
   },
   "outputs": [
    {
     "name": "stdout",
     "output_type": "stream",
     "text": [
      "Model Evaluation of Logistic Regression\n",
      "-----------------------------------------------------------\n",
      "Train set\n",
      "Accuracy:  0.8308383233532934\n",
      "ROC AUC Score:  0.8864627578883495\n",
      "Confusion matrix\n",
      "Predicted    0    1\n",
      "Actual             \n",
      "0          362   50\n",
      "1           63  193\n",
      "              precision    recall  f1-score   support\n",
      "\n",
      "           0       0.85      0.88      0.86       412\n",
      "           1       0.79      0.75      0.77       256\n",
      "\n",
      "    accuracy                           0.83       668\n",
      "   macro avg       0.82      0.82      0.82       668\n",
      "weighted avg       0.83      0.83      0.83       668\n",
      "\n",
      "-----------------------------------------------------------\n",
      "Test set\n",
      "Accuracy:  0.8161434977578476\n",
      "ROC AUC Score:  0.8554150398913597\n",
      "Confusion matrix\n",
      "Predicted    0   1\n",
      "Actual            \n",
      "0          123  14\n",
      "1           27  59\n",
      "              precision    recall  f1-score   support\n",
      "\n",
      "           0       0.82      0.90      0.86       137\n",
      "           1       0.81      0.69      0.74        86\n",
      "\n",
      "    accuracy                           0.82       223\n",
      "   macro avg       0.81      0.79      0.80       223\n",
      "weighted avg       0.82      0.82      0.81       223\n",
      "\n"
     ]
    }
   ],
   "source": [
    "def ModelEvaluation(model,X_train,y_train,X_test,y_test,name):\n",
    "    print('Model Evaluation of ' + name)\n",
    "\n",
    "    print('-----------------------------------------------------------')\n",
    "    print('Train set')\n",
    "    print('Accuracy: ', accuracy_score(y_train, y_train_pred))\n",
    "    print('ROC AUC Score: ', roc_auc_score(y_train, prob_train_pred[:,1]))\n",
    "    cm_df = pd.DataFrame(confusion_matrix(y_train,y_train_pred), index=model.classes_,columns=model.classes_)\n",
    "    cm_df.index.name = 'Actual'\n",
    "    cm_df.columns.name = 'Predicted'\n",
    "    print('Confusion matrix')\n",
    "    print(cm_df)\n",
    "    print(classification_report(y_train, y_train_pred))\n",
    "    \n",
    "    print('-----------------------------------------------------------')\n",
    "    print('Test set')\n",
    "    print('Accuracy: ', accuracy_score(y_test, y_test_pred))\n",
    "    print('ROC AUC Score: ', roc_auc_score(y_test, prob_test_pred[:,1]))\n",
    "    cm_df = pd.DataFrame(confusion_matrix(y_test,y_test_pred), index=model.classes_,columns=model.classes_)\n",
    "    cm_df.index.name = 'Actual'\n",
    "    cm_df.columns.name = 'Predicted'\n",
    "    print('Confusion matrix')\n",
    "    print(cm_df)\n",
    "    print(classification_report(y_test, y_test_pred))\n",
    "    \n",
    "ModelEvaluation(model,X_train,y_train,X_test,y_test,'Logistic Regression')"
   ]
  },
  {
   "cell_type": "code",
   "execution_count": null,
   "metadata": {},
   "outputs": [],
   "source": []
  },
  {
   "cell_type": "markdown",
   "metadata": {},
   "source": [
    "### 4.5. Tuning hyper-parameters"
   ]
  },
  {
   "cell_type": "markdown",
   "metadata": {},
   "source": [
    "#### Apply Grid search and KFold Cross Validation"
   ]
  },
  {
   "cell_type": "code",
   "execution_count": 132,
   "metadata": {},
   "outputs": [
    {
     "name": "stdout",
     "output_type": "stream",
     "text": [
      "Fitting 10 folds for each of 28 candidates, totalling 280 fits\n",
      "[CV] C=0.001, multi_class=ovr, penalty=l1, solver=liblinear ..........\n",
      "[CV]  C=0.001, multi_class=ovr, penalty=l1, solver=liblinear, total=   0.0s\n",
      "[CV] C=0.001, multi_class=ovr, penalty=l1, solver=liblinear ..........\n",
      "[CV]  C=0.001, multi_class=ovr, penalty=l1, solver=liblinear, total=   0.0s\n",
      "[CV] C=0.001, multi_class=ovr, penalty=l1, solver=liblinear ..........\n",
      "[CV]  C=0.001, multi_class=ovr, penalty=l1, solver=liblinear, total=   0.0s\n",
      "[CV] C=0.001, multi_class=ovr, penalty=l1, solver=liblinear ..........\n",
      "[CV]  C=0.001, multi_class=ovr, penalty=l1, solver=liblinear, total=   0.0s\n",
      "[CV] C=0.001, multi_class=ovr, penalty=l1, solver=liblinear ..........\n",
      "[CV]  C=0.001, multi_class=ovr, penalty=l1, solver=liblinear, total=   0.0s\n",
      "[CV] C=0.001, multi_class=ovr, penalty=l1, solver=liblinear ..........\n",
      "[CV]  C=0.001, multi_class=ovr, penalty=l1, solver=liblinear, total=   0.0s\n",
      "[CV] C=0.001, multi_class=ovr, penalty=l1, solver=liblinear ..........\n",
      "[CV]  C=0.001, multi_class=ovr, penalty=l1, solver=liblinear, total=   0.0s\n",
      "[CV] C=0.001, multi_class=ovr, penalty=l1, solver=liblinear ..........\n",
      "[CV]  C=0.001, multi_class=ovr, penalty=l1, solver=liblinear, total=   0.0s\n",
      "[CV] C=0.001, multi_class=ovr, penalty=l1, solver=liblinear ..........\n",
      "[CV]  C=0.001, multi_class=ovr, penalty=l1, solver=liblinear, total=   0.0s\n",
      "[CV] C=0.001, multi_class=ovr, penalty=l1, solver=liblinear ..........\n",
      "[CV]  C=0.001, multi_class=ovr, penalty=l1, solver=liblinear, total=   0.0s\n",
      "[CV] C=0.01, multi_class=ovr, penalty=l1, solver=liblinear ...........\n",
      "[CV]  C=0.01, multi_class=ovr, penalty=l1, solver=liblinear, total=   0.0s\n",
      "[CV] C=0.01, multi_class=ovr, penalty=l1, solver=liblinear ...........\n",
      "[CV]  C=0.01, multi_class=ovr, penalty=l1, solver=liblinear, total=   0.0s\n",
      "[CV] C=0.01, multi_class=ovr, penalty=l1, solver=liblinear ...........\n",
      "[CV]  C=0.01, multi_class=ovr, penalty=l1, solver=liblinear, total=   0.0s\n",
      "[CV] C=0.01, multi_class=ovr, penalty=l1, solver=liblinear ...........\n",
      "[CV]  C=0.01, multi_class=ovr, penalty=l1, solver=liblinear, total=   0.0s\n",
      "[CV] C=0.01, multi_class=ovr, penalty=l1, solver=liblinear ...........\n",
      "[CV]  C=0.01, multi_class=ovr, penalty=l1, solver=liblinear, total=   0.0s\n",
      "[CV] C=0.01, multi_class=ovr, penalty=l1, solver=liblinear ...........\n",
      "[CV]  C=0.01, multi_class=ovr, penalty=l1, solver=liblinear, total=   0.0s\n",
      "[CV] C=0.01, multi_class=ovr, penalty=l1, solver=liblinear ...........\n",
      "[CV]  C=0.01, multi_class=ovr, penalty=l1, solver=liblinear, total=   0.0s\n",
      "[CV] C=0.01, multi_class=ovr, penalty=l1, solver=liblinear ...........\n",
      "[CV]  C=0.01, multi_class=ovr, penalty=l1, solver=liblinear, total=   0.0s\n",
      "[CV] C=0.01, multi_class=ovr, penalty=l1, solver=liblinear ...........\n",
      "[CV]  C=0.01, multi_class=ovr, penalty=l1, solver=liblinear, total=   0.0s\n",
      "[CV] C=0.01, multi_class=ovr, penalty=l1, solver=liblinear ...........\n",
      "[CV]  C=0.01, multi_class=ovr, penalty=l1, solver=liblinear, total=   0.0s\n",
      "[CV] C=0.1, multi_class=ovr, penalty=l1, solver=liblinear ............\n",
      "[CV]  C=0.1, multi_class=ovr, penalty=l1, solver=liblinear, total=   0.0s\n",
      "[CV] C=0.1, multi_class=ovr, penalty=l1, solver=liblinear ............\n",
      "[CV]  C=0.1, multi_class=ovr, penalty=l1, solver=liblinear, total=   0.0s\n",
      "[CV] C=0.1, multi_class=ovr, penalty=l1, solver=liblinear ............\n",
      "[CV]  C=0.1, multi_class=ovr, penalty=l1, solver=liblinear, total=   0.0s\n",
      "[CV] C=0.1, multi_class=ovr, penalty=l1, solver=liblinear ............\n",
      "[CV]  C=0.1, multi_class=ovr, penalty=l1, solver=liblinear, total=   0.0s\n",
      "[CV] C=0.1, multi_class=ovr, penalty=l1, solver=liblinear ............\n",
      "[CV]  C=0.1, multi_class=ovr, penalty=l1, solver=liblinear, total=   0.0s\n",
      "[CV] C=0.1, multi_class=ovr, penalty=l1, solver=liblinear ............\n",
      "[CV]  C=0.1, multi_class=ovr, penalty=l1, solver=liblinear, total=   0.0s\n",
      "[CV] C=0.1, multi_class=ovr, penalty=l1, solver=liblinear ............\n",
      "[CV]  C=0.1, multi_class=ovr, penalty=l1, solver=liblinear, total=   0.0s\n",
      "[CV] C=0.1, multi_class=ovr, penalty=l1, solver=liblinear ............\n",
      "[CV]  C=0.1, multi_class=ovr, penalty=l1, solver=liblinear, total=   0.0s\n",
      "[CV] C=0.1, multi_class=ovr, penalty=l1, solver=liblinear ............\n",
      "[CV]  C=0.1, multi_class=ovr, penalty=l1, solver=liblinear, total=   0.0s\n",
      "[CV] C=0.1, multi_class=ovr, penalty=l1, solver=liblinear ............\n",
      "[CV]  C=0.1, multi_class=ovr, penalty=l1, solver=liblinear, total=   0.0s\n",
      "[CV] C=1, multi_class=ovr, penalty=l1, solver=liblinear ..............\n",
      "[CV]  C=1, multi_class=ovr, penalty=l1, solver=liblinear, total=   0.0s\n",
      "[CV] C=1, multi_class=ovr, penalty=l1, solver=liblinear ..............\n",
      "[CV]  C=1, multi_class=ovr, penalty=l1, solver=liblinear, total=   0.0s\n",
      "[CV] C=1, multi_class=ovr, penalty=l1, solver=liblinear ..............\n",
      "[CV]  C=1, multi_class=ovr, penalty=l1, solver=liblinear, total=   0.0s\n",
      "[CV] C=1, multi_class=ovr, penalty=l1, solver=liblinear ..............\n",
      "[CV]  C=1, multi_class=ovr, penalty=l1, solver=liblinear, total=   0.0s\n",
      "[CV] C=1, multi_class=ovr, penalty=l1, solver=liblinear ..............\n",
      "[CV]  C=1, multi_class=ovr, penalty=l1, solver=liblinear, total=   0.0s\n",
      "[CV] C=1, multi_class=ovr, penalty=l1, solver=liblinear ..............\n",
      "[CV]  C=1, multi_class=ovr, penalty=l1, solver=liblinear, total=   0.0s\n",
      "[CV] C=1, multi_class=ovr, penalty=l1, solver=liblinear ..............\n",
      "[CV]  C=1, multi_class=ovr, penalty=l1, solver=liblinear, total=   0.0s\n",
      "[CV] C=1, multi_class=ovr, penalty=l1, solver=liblinear ..............\n",
      "[CV]  C=1, multi_class=ovr, penalty=l1, solver=liblinear, total=   0.0s\n",
      "[CV] C=1, multi_class=ovr, penalty=l1, solver=liblinear ..............\n",
      "[CV]  C=1, multi_class=ovr, penalty=l1, solver=liblinear, total=   0.0s\n",
      "[CV] C=1, multi_class=ovr, penalty=l1, solver=liblinear ..............\n",
      "[CV]  C=1, multi_class=ovr, penalty=l1, solver=liblinear, total=   0.0s\n",
      "[CV] C=10, multi_class=ovr, penalty=l1, solver=liblinear .............\n",
      "[CV]  C=10, multi_class=ovr, penalty=l1, solver=liblinear, total=   0.0s\n",
      "[CV] C=10, multi_class=ovr, penalty=l1, solver=liblinear .............\n",
      "[CV]  C=10, multi_class=ovr, penalty=l1, solver=liblinear, total=   0.0s\n",
      "[CV] C=10, multi_class=ovr, penalty=l1, solver=liblinear .............\n",
      "[CV]  C=10, multi_class=ovr, penalty=l1, solver=liblinear, total=   0.0s\n",
      "[CV] C=10, multi_class=ovr, penalty=l1, solver=liblinear .............\n",
      "[CV]  C=10, multi_class=ovr, penalty=l1, solver=liblinear, total=   0.0s\n",
      "[CV] C=10, multi_class=ovr, penalty=l1, solver=liblinear .............\n",
      "[CV]  C=10, multi_class=ovr, penalty=l1, solver=liblinear, total=   0.0s\n",
      "[CV] C=10, multi_class=ovr, penalty=l1, solver=liblinear .............\n"
     ]
    },
    {
     "name": "stderr",
     "output_type": "stream",
     "text": [
      "[Parallel(n_jobs=1)]: Using backend SequentialBackend with 1 concurrent workers.\n",
      "[Parallel(n_jobs=1)]: Done   1 out of   1 | elapsed:    0.0s remaining:    0.0s\n"
     ]
    },
    {
     "name": "stdout",
     "output_type": "stream",
     "text": [
      "[CV]  C=10, multi_class=ovr, penalty=l1, solver=liblinear, total=   0.0s\n",
      "[CV] C=10, multi_class=ovr, penalty=l1, solver=liblinear .............\n",
      "[CV]  C=10, multi_class=ovr, penalty=l1, solver=liblinear, total=   0.0s\n",
      "[CV] C=10, multi_class=ovr, penalty=l1, solver=liblinear .............\n",
      "[CV]  C=10, multi_class=ovr, penalty=l1, solver=liblinear, total=   0.0s\n",
      "[CV] C=10, multi_class=ovr, penalty=l1, solver=liblinear .............\n",
      "[CV]  C=10, multi_class=ovr, penalty=l1, solver=liblinear, total=   0.0s\n",
      "[CV] C=10, multi_class=ovr, penalty=l1, solver=liblinear .............\n",
      "[CV]  C=10, multi_class=ovr, penalty=l1, solver=liblinear, total=   0.0s\n",
      "[CV] C=100, multi_class=ovr, penalty=l1, solver=liblinear ............\n",
      "[CV]  C=100, multi_class=ovr, penalty=l1, solver=liblinear, total=   0.0s\n",
      "[CV] C=100, multi_class=ovr, penalty=l1, solver=liblinear ............\n",
      "[CV]  C=100, multi_class=ovr, penalty=l1, solver=liblinear, total=   0.0s\n",
      "[CV] C=100, multi_class=ovr, penalty=l1, solver=liblinear ............\n",
      "[CV]  C=100, multi_class=ovr, penalty=l1, solver=liblinear, total=   0.0s\n",
      "[CV] C=100, multi_class=ovr, penalty=l1, solver=liblinear ............\n",
      "[CV]  C=100, multi_class=ovr, penalty=l1, solver=liblinear, total=   0.0s\n",
      "[CV] C=100, multi_class=ovr, penalty=l1, solver=liblinear ............\n",
      "[CV]  C=100, multi_class=ovr, penalty=l1, solver=liblinear, total=   0.0s\n",
      "[CV] C=100, multi_class=ovr, penalty=l1, solver=liblinear ............\n",
      "[CV]  C=100, multi_class=ovr, penalty=l1, solver=liblinear, total=   0.0s\n",
      "[CV] C=100, multi_class=ovr, penalty=l1, solver=liblinear ............\n",
      "[CV]  C=100, multi_class=ovr, penalty=l1, solver=liblinear, total=   0.0s\n",
      "[CV] C=100, multi_class=ovr, penalty=l1, solver=liblinear ............\n",
      "[CV]  C=100, multi_class=ovr, penalty=l1, solver=liblinear, total=   0.0s\n",
      "[CV] C=100, multi_class=ovr, penalty=l1, solver=liblinear ............\n",
      "[CV]  C=100, multi_class=ovr, penalty=l1, solver=liblinear, total=   0.0s\n",
      "[CV] C=100, multi_class=ovr, penalty=l1, solver=liblinear ............\n",
      "[CV]  C=100, multi_class=ovr, penalty=l1, solver=liblinear, total=   0.0s\n",
      "[CV] C=1000, multi_class=ovr, penalty=l1, solver=liblinear ...........\n",
      "[CV]  C=1000, multi_class=ovr, penalty=l1, solver=liblinear, total=   0.0s\n",
      "[CV] C=1000, multi_class=ovr, penalty=l1, solver=liblinear ...........\n",
      "[CV]  C=1000, multi_class=ovr, penalty=l1, solver=liblinear, total=   0.0s\n",
      "[CV] C=1000, multi_class=ovr, penalty=l1, solver=liblinear ...........\n",
      "[CV]  C=1000, multi_class=ovr, penalty=l1, solver=liblinear, total=   0.0s\n",
      "[CV] C=1000, multi_class=ovr, penalty=l1, solver=liblinear ...........\n",
      "[CV]  C=1000, multi_class=ovr, penalty=l1, solver=liblinear, total=   0.0s\n",
      "[CV] C=1000, multi_class=ovr, penalty=l1, solver=liblinear ...........\n",
      "[CV]  C=1000, multi_class=ovr, penalty=l1, solver=liblinear, total=   0.0s\n",
      "[CV] C=1000, multi_class=ovr, penalty=l1, solver=liblinear ...........\n",
      "[CV]  C=1000, multi_class=ovr, penalty=l1, solver=liblinear, total=   0.0s\n",
      "[CV] C=1000, multi_class=ovr, penalty=l1, solver=liblinear ...........\n",
      "[CV]  C=1000, multi_class=ovr, penalty=l1, solver=liblinear, total=   0.0s\n",
      "[CV] C=1000, multi_class=ovr, penalty=l1, solver=liblinear ...........\n",
      "[CV]  C=1000, multi_class=ovr, penalty=l1, solver=liblinear, total=   0.0s\n",
      "[CV] C=1000, multi_class=ovr, penalty=l1, solver=liblinear ...........\n",
      "[CV]  C=1000, multi_class=ovr, penalty=l1, solver=liblinear, total=   0.0s\n",
      "[CV] C=1000, multi_class=ovr, penalty=l1, solver=liblinear ...........\n",
      "[CV]  C=1000, multi_class=ovr, penalty=l1, solver=liblinear, total=   0.0s\n",
      "[CV] C=0.001, multi_class=ovr, penalty=l2, solver=liblinear ..........\n",
      "[CV]  C=0.001, multi_class=ovr, penalty=l2, solver=liblinear, total=   0.0s\n",
      "[CV] C=0.001, multi_class=ovr, penalty=l2, solver=liblinear ..........\n",
      "[CV]  C=0.001, multi_class=ovr, penalty=l2, solver=liblinear, total=   0.0s\n",
      "[CV] C=0.001, multi_class=ovr, penalty=l2, solver=liblinear ..........\n",
      "[CV]  C=0.001, multi_class=ovr, penalty=l2, solver=liblinear, total=   0.0s\n",
      "[CV] C=0.001, multi_class=ovr, penalty=l2, solver=liblinear ..........\n",
      "[CV]  C=0.001, multi_class=ovr, penalty=l2, solver=liblinear, total=   0.0s\n",
      "[CV] C=0.001, multi_class=ovr, penalty=l2, solver=liblinear ..........\n",
      "[CV]  C=0.001, multi_class=ovr, penalty=l2, solver=liblinear, total=   0.0s\n",
      "[CV] C=0.001, multi_class=ovr, penalty=l2, solver=liblinear ..........\n",
      "[CV]  C=0.001, multi_class=ovr, penalty=l2, solver=liblinear, total=   0.0s\n",
      "[CV] C=0.001, multi_class=ovr, penalty=l2, solver=liblinear ..........\n",
      "[CV]  C=0.001, multi_class=ovr, penalty=l2, solver=liblinear, total=   0.0s\n",
      "[CV] C=0.001, multi_class=ovr, penalty=l2, solver=liblinear ..........\n",
      "[CV]  C=0.001, multi_class=ovr, penalty=l2, solver=liblinear, total=   0.0s\n",
      "[CV] C=0.001, multi_class=ovr, penalty=l2, solver=liblinear ..........\n",
      "[CV]  C=0.001, multi_class=ovr, penalty=l2, solver=liblinear, total=   0.0s\n",
      "[CV] C=0.001, multi_class=ovr, penalty=l2, solver=liblinear ..........\n",
      "[CV]  C=0.001, multi_class=ovr, penalty=l2, solver=liblinear, total=   0.0s\n",
      "[CV] C=0.001, multi_class=ovr, penalty=l2, solver=newton-cg ..........\n",
      "[CV]  C=0.001, multi_class=ovr, penalty=l2, solver=newton-cg, total=   0.0s\n",
      "[CV] C=0.001, multi_class=ovr, penalty=l2, solver=newton-cg ..........\n",
      "[CV]  C=0.001, multi_class=ovr, penalty=l2, solver=newton-cg, total=   0.0s\n",
      "[CV] C=0.001, multi_class=ovr, penalty=l2, solver=newton-cg ..........\n",
      "[CV]  C=0.001, multi_class=ovr, penalty=l2, solver=newton-cg, total=   0.0s\n",
      "[CV] C=0.001, multi_class=ovr, penalty=l2, solver=newton-cg ..........\n",
      "[CV]  C=0.001, multi_class=ovr, penalty=l2, solver=newton-cg, total=   0.0s\n",
      "[CV] C=0.001, multi_class=ovr, penalty=l2, solver=newton-cg ..........\n",
      "[CV]  C=0.001, multi_class=ovr, penalty=l2, solver=newton-cg, total=   0.0s\n",
      "[CV] C=0.001, multi_class=ovr, penalty=l2, solver=newton-cg ..........\n",
      "[CV]  C=0.001, multi_class=ovr, penalty=l2, solver=newton-cg, total=   0.0s\n",
      "[CV] C=0.001, multi_class=ovr, penalty=l2, solver=newton-cg ..........\n",
      "[CV]  C=0.001, multi_class=ovr, penalty=l2, solver=newton-cg, total=   0.0s\n",
      "[CV] C=0.001, multi_class=ovr, penalty=l2, solver=newton-cg ..........\n",
      "[CV]  C=0.001, multi_class=ovr, penalty=l2, solver=newton-cg, total=   0.0s\n",
      "[CV] C=0.001, multi_class=ovr, penalty=l2, solver=newton-cg ..........\n",
      "[CV]  C=0.001, multi_class=ovr, penalty=l2, solver=newton-cg, total=   0.0s\n",
      "[CV] C=0.001, multi_class=ovr, penalty=l2, solver=newton-cg ..........\n",
      "[CV]  C=0.001, multi_class=ovr, penalty=l2, solver=newton-cg, total=   0.0s\n",
      "[CV] C=0.001, multi_class=ovr, penalty=l2, solver=lbfgs ..............\n",
      "[CV]  C=0.001, multi_class=ovr, penalty=l2, solver=lbfgs, total=   0.0s\n",
      "[CV] C=0.001, multi_class=ovr, penalty=l2, solver=lbfgs ..............\n",
      "[CV]  C=0.001, multi_class=ovr, penalty=l2, solver=lbfgs, total=   0.0s\n",
      "[CV] C=0.001, multi_class=ovr, penalty=l2, solver=lbfgs ..............\n",
      "[CV]  C=0.001, multi_class=ovr, penalty=l2, solver=lbfgs, total=   0.0s\n",
      "[CV] C=0.001, multi_class=ovr, penalty=l2, solver=lbfgs ..............\n",
      "[CV]  C=0.001, multi_class=ovr, penalty=l2, solver=lbfgs, total=   0.0s\n",
      "[CV] C=0.001, multi_class=ovr, penalty=l2, solver=lbfgs ..............\n",
      "[CV]  C=0.001, multi_class=ovr, penalty=l2, solver=lbfgs, total=   0.0s\n",
      "[CV] C=0.001, multi_class=ovr, penalty=l2, solver=lbfgs ..............\n",
      "[CV]  C=0.001, multi_class=ovr, penalty=l2, solver=lbfgs, total=   0.0s\n",
      "[CV] C=0.001, multi_class=ovr, penalty=l2, solver=lbfgs ..............\n",
      "[CV]  C=0.001, multi_class=ovr, penalty=l2, solver=lbfgs, total=   0.0s\n",
      "[CV] C=0.001, multi_class=ovr, penalty=l2, solver=lbfgs ..............\n",
      "[CV]  C=0.001, multi_class=ovr, penalty=l2, solver=lbfgs, total=   0.0s\n",
      "[CV] C=0.001, multi_class=ovr, penalty=l2, solver=lbfgs ..............\n",
      "[CV]  C=0.001, multi_class=ovr, penalty=l2, solver=lbfgs, total=   0.0s\n",
      "[CV] C=0.001, multi_class=ovr, penalty=l2, solver=lbfgs ..............\n",
      "[CV]  C=0.001, multi_class=ovr, penalty=l2, solver=lbfgs, total=   0.0s\n",
      "[CV] C=0.01, multi_class=ovr, penalty=l2, solver=liblinear ...........\n",
      "[CV]  C=0.01, multi_class=ovr, penalty=l2, solver=liblinear, total=   0.0s\n",
      "[CV] C=0.01, multi_class=ovr, penalty=l2, solver=liblinear ...........\n",
      "[CV]  C=0.01, multi_class=ovr, penalty=l2, solver=liblinear, total=   0.0s\n",
      "[CV] C=0.01, multi_class=ovr, penalty=l2, solver=liblinear ...........\n",
      "[CV]  C=0.01, multi_class=ovr, penalty=l2, solver=liblinear, total=   0.0s\n",
      "[CV] C=0.01, multi_class=ovr, penalty=l2, solver=liblinear ...........\n",
      "[CV]  C=0.01, multi_class=ovr, penalty=l2, solver=liblinear, total=   0.0s\n",
      "[CV] C=0.01, multi_class=ovr, penalty=l2, solver=liblinear ...........\n",
      "[CV]  C=0.01, multi_class=ovr, penalty=l2, solver=liblinear, total=   0.0s\n",
      "[CV] C=0.01, multi_class=ovr, penalty=l2, solver=liblinear ...........\n",
      "[CV]  C=0.01, multi_class=ovr, penalty=l2, solver=liblinear, total=   0.0s\n",
      "[CV] C=0.01, multi_class=ovr, penalty=l2, solver=liblinear ...........\n",
      "[CV]  C=0.01, multi_class=ovr, penalty=l2, solver=liblinear, total=   0.0s\n",
      "[CV] C=0.01, multi_class=ovr, penalty=l2, solver=liblinear ...........\n",
      "[CV]  C=0.01, multi_class=ovr, penalty=l2, solver=liblinear, total=   0.0s\n",
      "[CV] C=0.01, multi_class=ovr, penalty=l2, solver=liblinear ...........\n",
      "[CV]  C=0.01, multi_class=ovr, penalty=l2, solver=liblinear, total=   0.0s\n",
      "[CV] C=0.01, multi_class=ovr, penalty=l2, solver=liblinear ...........\n",
      "[CV]  C=0.01, multi_class=ovr, penalty=l2, solver=liblinear, total=   0.0s\n",
      "[CV] C=0.01, multi_class=ovr, penalty=l2, solver=newton-cg ...........\n",
      "[CV]  C=0.01, multi_class=ovr, penalty=l2, solver=newton-cg, total=   0.0s\n",
      "[CV] C=0.01, multi_class=ovr, penalty=l2, solver=newton-cg ...........\n",
      "[CV]  C=0.01, multi_class=ovr, penalty=l2, solver=newton-cg, total=   0.0s\n",
      "[CV] C=0.01, multi_class=ovr, penalty=l2, solver=newton-cg ...........\n",
      "[CV]  C=0.01, multi_class=ovr, penalty=l2, solver=newton-cg, total=   0.0s\n",
      "[CV] C=0.01, multi_class=ovr, penalty=l2, solver=newton-cg ...........\n"
     ]
    },
    {
     "name": "stdout",
     "output_type": "stream",
     "text": [
      "[CV]  C=0.01, multi_class=ovr, penalty=l2, solver=newton-cg, total=   0.0s\n",
      "[CV] C=0.01, multi_class=ovr, penalty=l2, solver=newton-cg ...........\n",
      "[CV]  C=0.01, multi_class=ovr, penalty=l2, solver=newton-cg, total=   0.0s\n",
      "[CV] C=0.01, multi_class=ovr, penalty=l2, solver=newton-cg ...........\n",
      "[CV]  C=0.01, multi_class=ovr, penalty=l2, solver=newton-cg, total=   0.0s\n",
      "[CV] C=0.01, multi_class=ovr, penalty=l2, solver=newton-cg ...........\n",
      "[CV]  C=0.01, multi_class=ovr, penalty=l2, solver=newton-cg, total=   0.0s\n",
      "[CV] C=0.01, multi_class=ovr, penalty=l2, solver=newton-cg ...........\n",
      "[CV]  C=0.01, multi_class=ovr, penalty=l2, solver=newton-cg, total=   0.0s\n",
      "[CV] C=0.01, multi_class=ovr, penalty=l2, solver=newton-cg ...........\n",
      "[CV]  C=0.01, multi_class=ovr, penalty=l2, solver=newton-cg, total=   0.0s\n",
      "[CV] C=0.01, multi_class=ovr, penalty=l2, solver=newton-cg ...........\n",
      "[CV]  C=0.01, multi_class=ovr, penalty=l2, solver=newton-cg, total=   0.0s\n",
      "[CV] C=0.01, multi_class=ovr, penalty=l2, solver=lbfgs ...............\n",
      "[CV]  C=0.01, multi_class=ovr, penalty=l2, solver=lbfgs, total=   0.0s\n",
      "[CV] C=0.01, multi_class=ovr, penalty=l2, solver=lbfgs ...............\n",
      "[CV]  C=0.01, multi_class=ovr, penalty=l2, solver=lbfgs, total=   0.0s\n",
      "[CV] C=0.01, multi_class=ovr, penalty=l2, solver=lbfgs ...............\n",
      "[CV]  C=0.01, multi_class=ovr, penalty=l2, solver=lbfgs, total=   0.0s\n",
      "[CV] C=0.01, multi_class=ovr, penalty=l2, solver=lbfgs ...............\n",
      "[CV]  C=0.01, multi_class=ovr, penalty=l2, solver=lbfgs, total=   0.0s\n",
      "[CV] C=0.01, multi_class=ovr, penalty=l2, solver=lbfgs ...............\n",
      "[CV]  C=0.01, multi_class=ovr, penalty=l2, solver=lbfgs, total=   0.0s\n",
      "[CV] C=0.01, multi_class=ovr, penalty=l2, solver=lbfgs ...............\n",
      "[CV]  C=0.01, multi_class=ovr, penalty=l2, solver=lbfgs, total=   0.0s\n",
      "[CV] C=0.01, multi_class=ovr, penalty=l2, solver=lbfgs ...............\n",
      "[CV]  C=0.01, multi_class=ovr, penalty=l2, solver=lbfgs, total=   0.0s\n",
      "[CV] C=0.01, multi_class=ovr, penalty=l2, solver=lbfgs ...............\n",
      "[CV]  C=0.01, multi_class=ovr, penalty=l2, solver=lbfgs, total=   0.0s\n",
      "[CV] C=0.01, multi_class=ovr, penalty=l2, solver=lbfgs ...............\n",
      "[CV]  C=0.01, multi_class=ovr, penalty=l2, solver=lbfgs, total=   0.0s\n",
      "[CV] C=0.01, multi_class=ovr, penalty=l2, solver=lbfgs ...............\n",
      "[CV]  C=0.01, multi_class=ovr, penalty=l2, solver=lbfgs, total=   0.0s\n",
      "[CV] C=0.1, multi_class=ovr, penalty=l2, solver=liblinear ............\n",
      "[CV]  C=0.1, multi_class=ovr, penalty=l2, solver=liblinear, total=   0.0s\n",
      "[CV] C=0.1, multi_class=ovr, penalty=l2, solver=liblinear ............\n",
      "[CV]  C=0.1, multi_class=ovr, penalty=l2, solver=liblinear, total=   0.0s\n",
      "[CV] C=0.1, multi_class=ovr, penalty=l2, solver=liblinear ............\n",
      "[CV]  C=0.1, multi_class=ovr, penalty=l2, solver=liblinear, total=   0.0s\n",
      "[CV] C=0.1, multi_class=ovr, penalty=l2, solver=liblinear ............\n",
      "[CV]  C=0.1, multi_class=ovr, penalty=l2, solver=liblinear, total=   0.0s\n",
      "[CV] C=0.1, multi_class=ovr, penalty=l2, solver=liblinear ............\n",
      "[CV]  C=0.1, multi_class=ovr, penalty=l2, solver=liblinear, total=   0.0s\n",
      "[CV] C=0.1, multi_class=ovr, penalty=l2, solver=liblinear ............\n",
      "[CV]  C=0.1, multi_class=ovr, penalty=l2, solver=liblinear, total=   0.0s\n",
      "[CV] C=0.1, multi_class=ovr, penalty=l2, solver=liblinear ............\n",
      "[CV]  C=0.1, multi_class=ovr, penalty=l2, solver=liblinear, total=   0.0s\n",
      "[CV] C=0.1, multi_class=ovr, penalty=l2, solver=liblinear ............\n",
      "[CV]  C=0.1, multi_class=ovr, penalty=l2, solver=liblinear, total=   0.0s\n",
      "[CV] C=0.1, multi_class=ovr, penalty=l2, solver=liblinear ............\n",
      "[CV]  C=0.1, multi_class=ovr, penalty=l2, solver=liblinear, total=   0.0s\n",
      "[CV] C=0.1, multi_class=ovr, penalty=l2, solver=liblinear ............\n",
      "[CV]  C=0.1, multi_class=ovr, penalty=l2, solver=liblinear, total=   0.0s\n",
      "[CV] C=0.1, multi_class=ovr, penalty=l2, solver=newton-cg ............\n",
      "[CV]  C=0.1, multi_class=ovr, penalty=l2, solver=newton-cg, total=   0.0s\n",
      "[CV] C=0.1, multi_class=ovr, penalty=l2, solver=newton-cg ............\n",
      "[CV]  C=0.1, multi_class=ovr, penalty=l2, solver=newton-cg, total=   0.0s\n",
      "[CV] C=0.1, multi_class=ovr, penalty=l2, solver=newton-cg ............\n",
      "[CV]  C=0.1, multi_class=ovr, penalty=l2, solver=newton-cg, total=   0.0s\n",
      "[CV] C=0.1, multi_class=ovr, penalty=l2, solver=newton-cg ............\n",
      "[CV]  C=0.1, multi_class=ovr, penalty=l2, solver=newton-cg, total=   0.0s\n",
      "[CV] C=0.1, multi_class=ovr, penalty=l2, solver=newton-cg ............\n",
      "[CV]  C=0.1, multi_class=ovr, penalty=l2, solver=newton-cg, total=   0.0s\n",
      "[CV] C=0.1, multi_class=ovr, penalty=l2, solver=newton-cg ............\n",
      "[CV]  C=0.1, multi_class=ovr, penalty=l2, solver=newton-cg, total=   0.0s\n",
      "[CV] C=0.1, multi_class=ovr, penalty=l2, solver=newton-cg ............\n",
      "[CV]  C=0.1, multi_class=ovr, penalty=l2, solver=newton-cg, total=   0.0s\n",
      "[CV] C=0.1, multi_class=ovr, penalty=l2, solver=newton-cg ............\n",
      "[CV]  C=0.1, multi_class=ovr, penalty=l2, solver=newton-cg, total=   0.0s\n",
      "[CV] C=0.1, multi_class=ovr, penalty=l2, solver=newton-cg ............\n",
      "[CV]  C=0.1, multi_class=ovr, penalty=l2, solver=newton-cg, total=   0.0s\n",
      "[CV] C=0.1, multi_class=ovr, penalty=l2, solver=newton-cg ............\n",
      "[CV]  C=0.1, multi_class=ovr, penalty=l2, solver=newton-cg, total=   0.0s\n",
      "[CV] C=0.1, multi_class=ovr, penalty=l2, solver=lbfgs ................\n",
      "[CV] . C=0.1, multi_class=ovr, penalty=l2, solver=lbfgs, total=   0.0s\n",
      "[CV] C=0.1, multi_class=ovr, penalty=l2, solver=lbfgs ................\n",
      "[CV] . C=0.1, multi_class=ovr, penalty=l2, solver=lbfgs, total=   0.0s\n",
      "[CV] C=0.1, multi_class=ovr, penalty=l2, solver=lbfgs ................\n",
      "[CV] . C=0.1, multi_class=ovr, penalty=l2, solver=lbfgs, total=   0.0s\n",
      "[CV] C=0.1, multi_class=ovr, penalty=l2, solver=lbfgs ................\n",
      "[CV] . C=0.1, multi_class=ovr, penalty=l2, solver=lbfgs, total=   0.0s\n",
      "[CV] C=0.1, multi_class=ovr, penalty=l2, solver=lbfgs ................\n",
      "[CV] . C=0.1, multi_class=ovr, penalty=l2, solver=lbfgs, total=   0.0s\n",
      "[CV] C=0.1, multi_class=ovr, penalty=l2, solver=lbfgs ................\n",
      "[CV] . C=0.1, multi_class=ovr, penalty=l2, solver=lbfgs, total=   0.0s\n",
      "[CV] C=0.1, multi_class=ovr, penalty=l2, solver=lbfgs ................\n",
      "[CV] . C=0.1, multi_class=ovr, penalty=l2, solver=lbfgs, total=   0.0s\n",
      "[CV] C=0.1, multi_class=ovr, penalty=l2, solver=lbfgs ................\n",
      "[CV] . C=0.1, multi_class=ovr, penalty=l2, solver=lbfgs, total=   0.0s\n",
      "[CV] C=0.1, multi_class=ovr, penalty=l2, solver=lbfgs ................\n",
      "[CV] . C=0.1, multi_class=ovr, penalty=l2, solver=lbfgs, total=   0.0s\n",
      "[CV] C=0.1, multi_class=ovr, penalty=l2, solver=lbfgs ................\n",
      "[CV] . C=0.1, multi_class=ovr, penalty=l2, solver=lbfgs, total=   0.0s\n",
      "[CV] C=1, multi_class=ovr, penalty=l2, solver=liblinear ..............\n",
      "[CV]  C=1, multi_class=ovr, penalty=l2, solver=liblinear, total=   0.0s\n",
      "[CV] C=1, multi_class=ovr, penalty=l2, solver=liblinear ..............\n",
      "[CV]  C=1, multi_class=ovr, penalty=l2, solver=liblinear, total=   0.0s\n",
      "[CV] C=1, multi_class=ovr, penalty=l2, solver=liblinear ..............\n",
      "[CV]  C=1, multi_class=ovr, penalty=l2, solver=liblinear, total=   0.0s\n",
      "[CV] C=1, multi_class=ovr, penalty=l2, solver=liblinear ..............\n",
      "[CV]  C=1, multi_class=ovr, penalty=l2, solver=liblinear, total=   0.0s\n",
      "[CV] C=1, multi_class=ovr, penalty=l2, solver=liblinear ..............\n",
      "[CV]  C=1, multi_class=ovr, penalty=l2, solver=liblinear, total=   0.0s\n",
      "[CV] C=1, multi_class=ovr, penalty=l2, solver=liblinear ..............\n",
      "[CV]  C=1, multi_class=ovr, penalty=l2, solver=liblinear, total=   0.0s\n",
      "[CV] C=1, multi_class=ovr, penalty=l2, solver=liblinear ..............\n",
      "[CV]  C=1, multi_class=ovr, penalty=l2, solver=liblinear, total=   0.0s\n",
      "[CV] C=1, multi_class=ovr, penalty=l2, solver=liblinear ..............\n",
      "[CV]  C=1, multi_class=ovr, penalty=l2, solver=liblinear, total=   0.0s\n",
      "[CV] C=1, multi_class=ovr, penalty=l2, solver=liblinear ..............\n",
      "[CV]  C=1, multi_class=ovr, penalty=l2, solver=liblinear, total=   0.0s\n",
      "[CV] C=1, multi_class=ovr, penalty=l2, solver=liblinear ..............\n",
      "[CV]  C=1, multi_class=ovr, penalty=l2, solver=liblinear, total=   0.0s\n",
      "[CV] C=1, multi_class=ovr, penalty=l2, solver=newton-cg ..............\n",
      "[CV]  C=1, multi_class=ovr, penalty=l2, solver=newton-cg, total=   0.0s\n",
      "[CV] C=1, multi_class=ovr, penalty=l2, solver=newton-cg ..............\n",
      "[CV]  C=1, multi_class=ovr, penalty=l2, solver=newton-cg, total=   0.0s\n",
      "[CV] C=1, multi_class=ovr, penalty=l2, solver=newton-cg ..............\n",
      "[CV]  C=1, multi_class=ovr, penalty=l2, solver=newton-cg, total=   0.0s\n",
      "[CV] C=1, multi_class=ovr, penalty=l2, solver=newton-cg ..............\n",
      "[CV]  C=1, multi_class=ovr, penalty=l2, solver=newton-cg, total=   0.0s\n",
      "[CV] C=1, multi_class=ovr, penalty=l2, solver=newton-cg ..............\n",
      "[CV]  C=1, multi_class=ovr, penalty=l2, solver=newton-cg, total=   0.0s\n",
      "[CV] C=1, multi_class=ovr, penalty=l2, solver=newton-cg ..............\n"
     ]
    },
    {
     "name": "stdout",
     "output_type": "stream",
     "text": [
      "[CV]  C=1, multi_class=ovr, penalty=l2, solver=newton-cg, total=   0.0s\n",
      "[CV] C=1, multi_class=ovr, penalty=l2, solver=newton-cg ..............\n",
      "[CV]  C=1, multi_class=ovr, penalty=l2, solver=newton-cg, total=   0.0s\n",
      "[CV] C=1, multi_class=ovr, penalty=l2, solver=newton-cg ..............\n",
      "[CV]  C=1, multi_class=ovr, penalty=l2, solver=newton-cg, total=   0.0s\n",
      "[CV] C=1, multi_class=ovr, penalty=l2, solver=newton-cg ..............\n",
      "[CV]  C=1, multi_class=ovr, penalty=l2, solver=newton-cg, total=   0.0s\n",
      "[CV] C=1, multi_class=ovr, penalty=l2, solver=newton-cg ..............\n",
      "[CV]  C=1, multi_class=ovr, penalty=l2, solver=newton-cg, total=   0.0s\n",
      "[CV] C=1, multi_class=ovr, penalty=l2, solver=lbfgs ..................\n",
      "[CV] ... C=1, multi_class=ovr, penalty=l2, solver=lbfgs, total=   0.0s\n",
      "[CV] C=1, multi_class=ovr, penalty=l2, solver=lbfgs ..................\n",
      "[CV] ... C=1, multi_class=ovr, penalty=l2, solver=lbfgs, total=   0.0s\n",
      "[CV] C=1, multi_class=ovr, penalty=l2, solver=lbfgs ..................\n",
      "[CV] ... C=1, multi_class=ovr, penalty=l2, solver=lbfgs, total=   0.0s\n",
      "[CV] C=1, multi_class=ovr, penalty=l2, solver=lbfgs ..................\n",
      "[CV] ... C=1, multi_class=ovr, penalty=l2, solver=lbfgs, total=   0.0s\n",
      "[CV] C=1, multi_class=ovr, penalty=l2, solver=lbfgs ..................\n",
      "[CV] ... C=1, multi_class=ovr, penalty=l2, solver=lbfgs, total=   0.0s\n",
      "[CV] C=1, multi_class=ovr, penalty=l2, solver=lbfgs ..................\n",
      "[CV] ... C=1, multi_class=ovr, penalty=l2, solver=lbfgs, total=   0.0s\n",
      "[CV] C=1, multi_class=ovr, penalty=l2, solver=lbfgs ..................\n",
      "[CV] ... C=1, multi_class=ovr, penalty=l2, solver=lbfgs, total=   0.0s\n",
      "[CV] C=1, multi_class=ovr, penalty=l2, solver=lbfgs ..................\n",
      "[CV] ... C=1, multi_class=ovr, penalty=l2, solver=lbfgs, total=   0.0s\n",
      "[CV] C=1, multi_class=ovr, penalty=l2, solver=lbfgs ..................\n",
      "[CV] ... C=1, multi_class=ovr, penalty=l2, solver=lbfgs, total=   0.0s\n",
      "[CV] C=1, multi_class=ovr, penalty=l2, solver=lbfgs ..................\n",
      "[CV] ... C=1, multi_class=ovr, penalty=l2, solver=lbfgs, total=   0.0s\n",
      "[CV] C=10, multi_class=ovr, penalty=l2, solver=liblinear .............\n",
      "[CV]  C=10, multi_class=ovr, penalty=l2, solver=liblinear, total=   0.0s\n",
      "[CV] C=10, multi_class=ovr, penalty=l2, solver=liblinear .............\n",
      "[CV]  C=10, multi_class=ovr, penalty=l2, solver=liblinear, total=   0.0s\n",
      "[CV] C=10, multi_class=ovr, penalty=l2, solver=liblinear .............\n",
      "[CV]  C=10, multi_class=ovr, penalty=l2, solver=liblinear, total=   0.0s\n",
      "[CV] C=10, multi_class=ovr, penalty=l2, solver=liblinear .............\n",
      "[CV]  C=10, multi_class=ovr, penalty=l2, solver=liblinear, total=   0.0s\n",
      "[CV] C=10, multi_class=ovr, penalty=l2, solver=liblinear .............\n",
      "[CV]  C=10, multi_class=ovr, penalty=l2, solver=liblinear, total=   0.0s\n",
      "[CV] C=10, multi_class=ovr, penalty=l2, solver=liblinear .............\n",
      "[CV]  C=10, multi_class=ovr, penalty=l2, solver=liblinear, total=   0.0s\n",
      "[CV] C=10, multi_class=ovr, penalty=l2, solver=liblinear .............\n",
      "[CV]  C=10, multi_class=ovr, penalty=l2, solver=liblinear, total=   0.0s\n",
      "[CV] C=10, multi_class=ovr, penalty=l2, solver=liblinear .............\n",
      "[CV]  C=10, multi_class=ovr, penalty=l2, solver=liblinear, total=   0.0s\n",
      "[CV] C=10, multi_class=ovr, penalty=l2, solver=liblinear .............\n",
      "[CV]  C=10, multi_class=ovr, penalty=l2, solver=liblinear, total=   0.0s\n",
      "[CV] C=10, multi_class=ovr, penalty=l2, solver=liblinear .............\n",
      "[CV]  C=10, multi_class=ovr, penalty=l2, solver=liblinear, total=   0.0s\n",
      "[CV] C=10, multi_class=ovr, penalty=l2, solver=newton-cg .............\n",
      "[CV]  C=10, multi_class=ovr, penalty=l2, solver=newton-cg, total=   0.0s\n",
      "[CV] C=10, multi_class=ovr, penalty=l2, solver=newton-cg .............\n",
      "[CV]  C=10, multi_class=ovr, penalty=l2, solver=newton-cg, total=   0.0s\n",
      "[CV] C=10, multi_class=ovr, penalty=l2, solver=newton-cg .............\n",
      "[CV]  C=10, multi_class=ovr, penalty=l2, solver=newton-cg, total=   0.0s\n",
      "[CV] C=10, multi_class=ovr, penalty=l2, solver=newton-cg .............\n",
      "[CV]  C=10, multi_class=ovr, penalty=l2, solver=newton-cg, total=   0.0s\n",
      "[CV] C=10, multi_class=ovr, penalty=l2, solver=newton-cg .............\n",
      "[CV]  C=10, multi_class=ovr, penalty=l2, solver=newton-cg, total=   0.0s\n",
      "[CV] C=10, multi_class=ovr, penalty=l2, solver=newton-cg .............\n",
      "[CV]  C=10, multi_class=ovr, penalty=l2, solver=newton-cg, total=   0.0s\n",
      "[CV] C=10, multi_class=ovr, penalty=l2, solver=newton-cg .............\n",
      "[CV]  C=10, multi_class=ovr, penalty=l2, solver=newton-cg, total=   0.0s\n",
      "[CV] C=10, multi_class=ovr, penalty=l2, solver=newton-cg .............\n",
      "[CV]  C=10, multi_class=ovr, penalty=l2, solver=newton-cg, total=   0.0s\n",
      "[CV] C=10, multi_class=ovr, penalty=l2, solver=newton-cg .............\n",
      "[CV]  C=10, multi_class=ovr, penalty=l2, solver=newton-cg, total=   0.0s\n",
      "[CV] C=10, multi_class=ovr, penalty=l2, solver=newton-cg .............\n",
      "[CV]  C=10, multi_class=ovr, penalty=l2, solver=newton-cg, total=   0.0s\n",
      "[CV] C=10, multi_class=ovr, penalty=l2, solver=lbfgs .................\n",
      "[CV] .. C=10, multi_class=ovr, penalty=l2, solver=lbfgs, total=   0.0s\n",
      "[CV] C=10, multi_class=ovr, penalty=l2, solver=lbfgs .................\n",
      "[CV] .. C=10, multi_class=ovr, penalty=l2, solver=lbfgs, total=   0.0s\n",
      "[CV] C=10, multi_class=ovr, penalty=l2, solver=lbfgs .................\n",
      "[CV] .. C=10, multi_class=ovr, penalty=l2, solver=lbfgs, total=   0.0s\n",
      "[CV] C=10, multi_class=ovr, penalty=l2, solver=lbfgs .................\n",
      "[CV] .. C=10, multi_class=ovr, penalty=l2, solver=lbfgs, total=   0.0s\n",
      "[CV] C=10, multi_class=ovr, penalty=l2, solver=lbfgs .................\n",
      "[CV] .. C=10, multi_class=ovr, penalty=l2, solver=lbfgs, total=   0.0s\n",
      "[CV] C=10, multi_class=ovr, penalty=l2, solver=lbfgs .................\n",
      "[CV] .. C=10, multi_class=ovr, penalty=l2, solver=lbfgs, total=   0.0s\n",
      "[CV] C=10, multi_class=ovr, penalty=l2, solver=lbfgs .................\n",
      "[CV] .. C=10, multi_class=ovr, penalty=l2, solver=lbfgs, total=   0.0s\n",
      "[CV] C=10, multi_class=ovr, penalty=l2, solver=lbfgs .................\n",
      "[CV] .. C=10, multi_class=ovr, penalty=l2, solver=lbfgs, total=   0.0s\n",
      "[CV] C=10, multi_class=ovr, penalty=l2, solver=lbfgs .................\n",
      "[CV] .. C=10, multi_class=ovr, penalty=l2, solver=lbfgs, total=   0.0s\n",
      "[CV] C=10, multi_class=ovr, penalty=l2, solver=lbfgs .................\n",
      "[CV] .. C=10, multi_class=ovr, penalty=l2, solver=lbfgs, total=   0.0s\n",
      "[CV] C=100, multi_class=ovr, penalty=l2, solver=liblinear ............\n",
      "[CV]  C=100, multi_class=ovr, penalty=l2, solver=liblinear, total=   0.0s\n",
      "[CV] C=100, multi_class=ovr, penalty=l2, solver=liblinear ............\n",
      "[CV]  C=100, multi_class=ovr, penalty=l2, solver=liblinear, total=   0.0s\n",
      "[CV] C=100, multi_class=ovr, penalty=l2, solver=liblinear ............\n",
      "[CV]  C=100, multi_class=ovr, penalty=l2, solver=liblinear, total=   0.0s\n",
      "[CV] C=100, multi_class=ovr, penalty=l2, solver=liblinear ............\n",
      "[CV]  C=100, multi_class=ovr, penalty=l2, solver=liblinear, total=   0.0s\n",
      "[CV] C=100, multi_class=ovr, penalty=l2, solver=liblinear ............\n",
      "[CV]  C=100, multi_class=ovr, penalty=l2, solver=liblinear, total=   0.0s\n",
      "[CV] C=100, multi_class=ovr, penalty=l2, solver=liblinear ............\n",
      "[CV]  C=100, multi_class=ovr, penalty=l2, solver=liblinear, total=   0.0s\n",
      "[CV] C=100, multi_class=ovr, penalty=l2, solver=liblinear ............\n",
      "[CV]  C=100, multi_class=ovr, penalty=l2, solver=liblinear, total=   0.0s\n",
      "[CV] C=100, multi_class=ovr, penalty=l2, solver=liblinear ............\n",
      "[CV]  C=100, multi_class=ovr, penalty=l2, solver=liblinear, total=   0.0s\n",
      "[CV] C=100, multi_class=ovr, penalty=l2, solver=liblinear ............\n",
      "[CV]  C=100, multi_class=ovr, penalty=l2, solver=liblinear, total=   0.0s\n",
      "[CV] C=100, multi_class=ovr, penalty=l2, solver=liblinear ............\n",
      "[CV]  C=100, multi_class=ovr, penalty=l2, solver=liblinear, total=   0.0s\n",
      "[CV] C=100, multi_class=ovr, penalty=l2, solver=newton-cg ............\n",
      "[CV]  C=100, multi_class=ovr, penalty=l2, solver=newton-cg, total=   0.0s\n",
      "[CV] C=100, multi_class=ovr, penalty=l2, solver=newton-cg ............\n",
      "[CV]  C=100, multi_class=ovr, penalty=l2, solver=newton-cg, total=   0.0s\n",
      "[CV] C=100, multi_class=ovr, penalty=l2, solver=newton-cg ............\n",
      "[CV]  C=100, multi_class=ovr, penalty=l2, solver=newton-cg, total=   0.0s\n",
      "[CV] C=100, multi_class=ovr, penalty=l2, solver=newton-cg ............\n",
      "[CV]  C=100, multi_class=ovr, penalty=l2, solver=newton-cg, total=   0.0s\n",
      "[CV] C=100, multi_class=ovr, penalty=l2, solver=newton-cg ............\n"
     ]
    },
    {
     "name": "stdout",
     "output_type": "stream",
     "text": [
      "[CV]  C=100, multi_class=ovr, penalty=l2, solver=newton-cg, total=   0.0s\n",
      "[CV] C=100, multi_class=ovr, penalty=l2, solver=newton-cg ............\n",
      "[CV]  C=100, multi_class=ovr, penalty=l2, solver=newton-cg, total=   0.0s\n",
      "[CV] C=100, multi_class=ovr, penalty=l2, solver=newton-cg ............\n",
      "[CV]  C=100, multi_class=ovr, penalty=l2, solver=newton-cg, total=   0.0s\n",
      "[CV] C=100, multi_class=ovr, penalty=l2, solver=newton-cg ............\n",
      "[CV]  C=100, multi_class=ovr, penalty=l2, solver=newton-cg, total=   0.0s\n",
      "[CV] C=100, multi_class=ovr, penalty=l2, solver=newton-cg ............\n",
      "[CV]  C=100, multi_class=ovr, penalty=l2, solver=newton-cg, total=   0.0s\n",
      "[CV] C=100, multi_class=ovr, penalty=l2, solver=newton-cg ............\n",
      "[CV]  C=100, multi_class=ovr, penalty=l2, solver=newton-cg, total=   0.0s\n",
      "[CV] C=100, multi_class=ovr, penalty=l2, solver=lbfgs ................\n",
      "[CV] . C=100, multi_class=ovr, penalty=l2, solver=lbfgs, total=   0.0s\n",
      "[CV] C=100, multi_class=ovr, penalty=l2, solver=lbfgs ................\n",
      "[CV] . C=100, multi_class=ovr, penalty=l2, solver=lbfgs, total=   0.0s\n",
      "[CV] C=100, multi_class=ovr, penalty=l2, solver=lbfgs ................\n",
      "[CV] . C=100, multi_class=ovr, penalty=l2, solver=lbfgs, total=   0.1s\n",
      "[CV] C=100, multi_class=ovr, penalty=l2, solver=lbfgs ................\n",
      "[CV] . C=100, multi_class=ovr, penalty=l2, solver=lbfgs, total=   0.1s\n",
      "[CV] C=100, multi_class=ovr, penalty=l2, solver=lbfgs ................\n",
      "[CV] . C=100, multi_class=ovr, penalty=l2, solver=lbfgs, total=   0.0s\n",
      "[CV] C=100, multi_class=ovr, penalty=l2, solver=lbfgs ................\n",
      "[CV] . C=100, multi_class=ovr, penalty=l2, solver=lbfgs, total=   0.1s\n",
      "[CV] C=100, multi_class=ovr, penalty=l2, solver=lbfgs ................\n",
      "[CV] . C=100, multi_class=ovr, penalty=l2, solver=lbfgs, total=   0.1s\n",
      "[CV] C=100, multi_class=ovr, penalty=l2, solver=lbfgs ................\n",
      "[CV] . C=100, multi_class=ovr, penalty=l2, solver=lbfgs, total=   0.1s\n",
      "[CV] C=100, multi_class=ovr, penalty=l2, solver=lbfgs ................\n",
      "[CV] . C=100, multi_class=ovr, penalty=l2, solver=lbfgs, total=   0.0s\n",
      "[CV] C=100, multi_class=ovr, penalty=l2, solver=lbfgs ................\n",
      "[CV] . C=100, multi_class=ovr, penalty=l2, solver=lbfgs, total=   0.0s\n",
      "[CV] C=1000, multi_class=ovr, penalty=l2, solver=liblinear ...........\n",
      "[CV]  C=1000, multi_class=ovr, penalty=l2, solver=liblinear, total=   0.0s\n",
      "[CV] C=1000, multi_class=ovr, penalty=l2, solver=liblinear ...........\n",
      "[CV]  C=1000, multi_class=ovr, penalty=l2, solver=liblinear, total=   0.0s\n",
      "[CV] C=1000, multi_class=ovr, penalty=l2, solver=liblinear ...........\n",
      "[CV]  C=1000, multi_class=ovr, penalty=l2, solver=liblinear, total=   0.0s\n",
      "[CV] C=1000, multi_class=ovr, penalty=l2, solver=liblinear ...........\n",
      "[CV]  C=1000, multi_class=ovr, penalty=l2, solver=liblinear, total=   0.0s\n",
      "[CV] C=1000, multi_class=ovr, penalty=l2, solver=liblinear ...........\n",
      "[CV]  C=1000, multi_class=ovr, penalty=l2, solver=liblinear, total=   0.0s\n",
      "[CV] C=1000, multi_class=ovr, penalty=l2, solver=liblinear ...........\n",
      "[CV]  C=1000, multi_class=ovr, penalty=l2, solver=liblinear, total=   0.0s\n",
      "[CV] C=1000, multi_class=ovr, penalty=l2, solver=liblinear ...........\n",
      "[CV]  C=1000, multi_class=ovr, penalty=l2, solver=liblinear, total=   0.0s\n",
      "[CV] C=1000, multi_class=ovr, penalty=l2, solver=liblinear ...........\n",
      "[CV]  C=1000, multi_class=ovr, penalty=l2, solver=liblinear, total=   0.0s\n",
      "[CV] C=1000, multi_class=ovr, penalty=l2, solver=liblinear ...........\n",
      "[CV]  C=1000, multi_class=ovr, penalty=l2, solver=liblinear, total=   0.0s\n",
      "[CV] C=1000, multi_class=ovr, penalty=l2, solver=liblinear ...........\n",
      "[CV]  C=1000, multi_class=ovr, penalty=l2, solver=liblinear, total=   0.0s\n",
      "[CV] C=1000, multi_class=ovr, penalty=l2, solver=newton-cg ...........\n",
      "[CV]  C=1000, multi_class=ovr, penalty=l2, solver=newton-cg, total=   0.0s\n",
      "[CV] C=1000, multi_class=ovr, penalty=l2, solver=newton-cg ...........\n",
      "[CV]  C=1000, multi_class=ovr, penalty=l2, solver=newton-cg, total=   0.0s\n",
      "[CV] C=1000, multi_class=ovr, penalty=l2, solver=newton-cg ...........\n",
      "[CV]  C=1000, multi_class=ovr, penalty=l2, solver=newton-cg, total=   0.0s\n",
      "[CV] C=1000, multi_class=ovr, penalty=l2, solver=newton-cg ...........\n",
      "[CV]  C=1000, multi_class=ovr, penalty=l2, solver=newton-cg, total=   0.1s\n",
      "[CV] C=1000, multi_class=ovr, penalty=l2, solver=newton-cg ...........\n",
      "[CV]  C=1000, multi_class=ovr, penalty=l2, solver=newton-cg, total=   0.0s\n",
      "[CV] C=1000, multi_class=ovr, penalty=l2, solver=newton-cg ...........\n",
      "[CV]  C=1000, multi_class=ovr, penalty=l2, solver=newton-cg, total=   0.0s\n",
      "[CV] C=1000, multi_class=ovr, penalty=l2, solver=newton-cg ...........\n",
      "[CV]  C=1000, multi_class=ovr, penalty=l2, solver=newton-cg, total=   0.0s\n",
      "[CV] C=1000, multi_class=ovr, penalty=l2, solver=newton-cg ...........\n",
      "[CV]  C=1000, multi_class=ovr, penalty=l2, solver=newton-cg, total=   0.0s\n",
      "[CV] C=1000, multi_class=ovr, penalty=l2, solver=newton-cg ...........\n",
      "[CV]  C=1000, multi_class=ovr, penalty=l2, solver=newton-cg, total=   0.0s\n",
      "[CV] C=1000, multi_class=ovr, penalty=l2, solver=newton-cg ...........\n",
      "[CV]  C=1000, multi_class=ovr, penalty=l2, solver=newton-cg, total=   0.1s\n",
      "[CV] C=1000, multi_class=ovr, penalty=l2, solver=lbfgs ...............\n",
      "[CV]  C=1000, multi_class=ovr, penalty=l2, solver=lbfgs, total=   0.0s\n",
      "[CV] C=1000, multi_class=ovr, penalty=l2, solver=lbfgs ...............\n",
      "[CV]  C=1000, multi_class=ovr, penalty=l2, solver=lbfgs, total=   0.0s\n",
      "[CV] C=1000, multi_class=ovr, penalty=l2, solver=lbfgs ...............\n",
      "[CV]  C=1000, multi_class=ovr, penalty=l2, solver=lbfgs, total=   0.0s\n",
      "[CV] C=1000, multi_class=ovr, penalty=l2, solver=lbfgs ...............\n",
      "[CV]  C=1000, multi_class=ovr, penalty=l2, solver=lbfgs, total=   0.0s\n",
      "[CV] C=1000, multi_class=ovr, penalty=l2, solver=lbfgs ...............\n",
      "[CV]  C=1000, multi_class=ovr, penalty=l2, solver=lbfgs, total=   0.0s\n",
      "[CV] C=1000, multi_class=ovr, penalty=l2, solver=lbfgs ...............\n",
      "[CV]  C=1000, multi_class=ovr, penalty=l2, solver=lbfgs, total=   0.0s\n",
      "[CV] C=1000, multi_class=ovr, penalty=l2, solver=lbfgs ...............\n",
      "[CV]  C=1000, multi_class=ovr, penalty=l2, solver=lbfgs, total=   0.0s\n",
      "[CV] C=1000, multi_class=ovr, penalty=l2, solver=lbfgs ...............\n",
      "[CV]  C=1000, multi_class=ovr, penalty=l2, solver=lbfgs, total=   0.0s\n",
      "[CV] C=1000, multi_class=ovr, penalty=l2, solver=lbfgs ...............\n",
      "[CV]  C=1000, multi_class=ovr, penalty=l2, solver=lbfgs, total=   0.0s\n",
      "[CV] C=1000, multi_class=ovr, penalty=l2, solver=lbfgs ...............\n",
      "[CV]  C=1000, multi_class=ovr, penalty=l2, solver=lbfgs, total=   0.0s\n"
     ]
    },
    {
     "name": "stderr",
     "output_type": "stream",
     "text": [
      "[Parallel(n_jobs=1)]: Done 280 out of 280 | elapsed:    4.5s finished\n"
     ]
    },
    {
     "data": {
      "text/plain": [
       "GridSearchCV(cv=10, error_score=nan,\n",
       "             estimator=LogisticRegression(C=1.0, class_weight=None, dual=False,\n",
       "                                          fit_intercept=True,\n",
       "                                          intercept_scaling=1, l1_ratio=None,\n",
       "                                          max_iter=100, multi_class='auto',\n",
       "                                          n_jobs=None, penalty='l2',\n",
       "                                          random_state=None, solver='lbfgs',\n",
       "                                          tol=0.0001, verbose=0,\n",
       "                                          warm_start=False),\n",
       "             iid='deprecated', n_jobs=None,\n",
       "             param_grid=[{'C': [0.001, 0.01, 0.1, 1, 10, 100, 1000],\n",
       "                          'multi_class': ['ovr'], 'penalty': ['l1'],\n",
       "                          'solver': ['liblinear']},\n",
       "                         {'C': [0.001, 0.01, 0.1, 1, 10, 100, 1000],\n",
       "                          'multi_class': ['ovr'], 'penalty': ['l2'],\n",
       "                          'solver': ['liblinear', 'newton-cg', 'lbfgs']}],\n",
       "             pre_dispatch='2*n_jobs', refit=True, return_train_score=False,\n",
       "             scoring=None, verbose=2)"
      ]
     },
     "execution_count": 132,
     "metadata": {},
     "output_type": "execute_result"
    }
   ],
   "source": [
    "# Specify parameters\n",
    "c_values = [0.001, 0.01, 0.1, 1, 10, 100, 1000]\n",
    "params = [\n",
    "    {'C': c_values, 'penalty': ['l1'], 'solver' : ['liblinear'], 'multi_class' : ['ovr']},\n",
    "    {'C': c_values, 'penalty': ['l2'], 'solver' : ['liblinear', 'newton-cg', 'lbfgs'], 'multi_class' : ['ovr']}\n",
    "]\n",
    "\n",
    "grid_search = GridSearchCV(LogisticRegression(), params, cv = 10, verbose = 2)\n",
    "grid_search.fit(X_train, y_train)"
   ]
  },
  {
   "cell_type": "markdown",
   "metadata": {},
   "source": [
    "#### Best model"
   ]
  },
  {
   "cell_type": "code",
   "execution_count": 133,
   "metadata": {},
   "outputs": [
    {
     "data": {
      "text/plain": [
       "{'C': 1, 'multi_class': 'ovr', 'penalty': 'l1', 'solver': 'liblinear'}"
      ]
     },
     "execution_count": 133,
     "metadata": {},
     "output_type": "execute_result"
    }
   ],
   "source": [
    "grid_search.best_params_"
   ]
  },
  {
   "cell_type": "code",
   "execution_count": 134,
   "metadata": {},
   "outputs": [
    {
     "data": {
      "text/plain": [
       "LogisticRegression(C=1, class_weight=None, dual=False, fit_intercept=True,\n",
       "                   intercept_scaling=1, l1_ratio=None, max_iter=100,\n",
       "                   multi_class='ovr', n_jobs=None, penalty='l1',\n",
       "                   random_state=None, solver='liblinear', tol=0.0001, verbose=0,\n",
       "                   warm_start=False)"
      ]
     },
     "execution_count": 134,
     "metadata": {},
     "output_type": "execute_result"
    }
   ],
   "source": [
    "best_model = grid_search.best_estimator_\n",
    "best_model"
   ]
  },
  {
   "cell_type": "markdown",
   "metadata": {},
   "source": [
    "#### Rerun with the best model"
   ]
  },
  {
   "cell_type": "code",
   "execution_count": 135,
   "metadata": {},
   "outputs": [
    {
     "name": "stdout",
     "output_type": "stream",
     "text": [
      "Accuracy: 82.17% (+/- 7.97%)\n"
     ]
    }
   ],
   "source": [
    "scores = cross_val_score(model, X_train, y_train, cv=10)\n",
    "print(\"Accuracy: %0.2f%% (+/- %0.2f%%)\" % (100*scores.mean(), 100*scores.std() * 2))"
   ]
  },
  {
   "cell_type": "code",
   "execution_count": 136,
   "metadata": {},
   "outputs": [
    {
     "name": "stdout",
     "output_type": "stream",
     "text": [
      "Accuracy: 82.92% (+/- 6.62%)\n"
     ]
    }
   ],
   "source": [
    "scores = cross_val_score(best_model, X_train, y_train, cv=10)\n",
    "print(\"Accuracy: %0.2f%% (+/- %0.2f%%)\" % (100*scores.mean(), 100*scores.std() * 2))"
   ]
  },
  {
   "cell_type": "code",
   "execution_count": 137,
   "metadata": {},
   "outputs": [
    {
     "data": {
      "text/plain": [
       "array([0.86567164, 0.85074627, 0.82089552, 0.80597015, 0.85074627,\n",
       "       0.86567164, 0.80597015, 0.86567164, 0.77272727, 0.78787879])"
      ]
     },
     "execution_count": 137,
     "metadata": {},
     "output_type": "execute_result"
    }
   ],
   "source": [
    "scores"
   ]
  },
  {
   "cell_type": "code",
   "execution_count": 138,
   "metadata": {},
   "outputs": [
    {
     "data": {
      "image/png": "[encoded data removed]",
      "text/plain": [
       "<Figure size 432x144 with 1 Axes>"
      ]
     },
     "metadata": {
      "needs_background": "light"
     },
     "output_type": "display_data"
    }
   ],
   "source": [
    "plt.figure(figsize=(6,2))\n",
    "sns.boxplot(data=scores, orient='h')\n",
    "plt.show()"
   ]
  },
  {
   "cell_type": "code",
   "execution_count": 139,
   "metadata": {},
   "outputs": [],
   "source": [
    "best_model.fit(X_train, y_train)\n",
    "y_train_pred = best_model.predict(X_train)\n",
    "prob_train_pred = best_model.predict_proba(X_train)\n",
    "\n",
    "y_test_pred = best_model.predict(X_test)\n",
    "prob_test_pred = best_model.predict_proba(X_test)"
   ]
  },
  {
   "cell_type": "code",
   "execution_count": 140,
   "metadata": {},
   "outputs": [
    {
     "data": {
      "text/html": [
       "<div>\n",
       "<style scoped>\n",
       "    .dataframe tbody tr th:only-of-type {\n",
       "        vertical-align: middle;\n",
       "    }\n",
       "\n",
       "    .dataframe tbody tr th {\n",
       "        vertical-align: top;\n",
       "    }\n",
       "\n",
       "    .dataframe thead th {\n",
       "        text-align: right;\n",
       "    }\n",
       "</style>\n",
       "<table border=\"1\" class=\"dataframe\">\n",
       "  <thead>\n",
       "    <tr style=\"text-align: right;\">\n",
       "      <th></th>\n",
       "      <th>feature_name</th>\n",
       "      <th>Coefficient</th>\n",
       "      <th>Odds_ratio</th>\n",
       "    </tr>\n",
       "  </thead>\n",
       "  <tbody>\n",
       "    <tr>\n",
       "      <th>0</th>\n",
       "      <td>Intercept</td>\n",
       "      <td>0.000000</td>\n",
       "      <td>1.000000</td>\n",
       "    </tr>\n",
       "    <tr>\n",
       "      <th>1</th>\n",
       "      <td>Pclass</td>\n",
       "      <td>-1.379802</td>\n",
       "      <td>0.251628</td>\n",
       "    </tr>\n",
       "    <tr>\n",
       "      <th>2</th>\n",
       "      <td>Sex</td>\n",
       "      <td>0.000000</td>\n",
       "      <td>1.000000</td>\n",
       "    </tr>\n",
       "    <tr>\n",
       "      <th>3</th>\n",
       "      <td>Age</td>\n",
       "      <td>-2.104914</td>\n",
       "      <td>0.121856</td>\n",
       "    </tr>\n",
       "    <tr>\n",
       "      <th>4</th>\n",
       "      <td>SibSp</td>\n",
       "      <td>-0.970313</td>\n",
       "      <td>0.378964</td>\n",
       "    </tr>\n",
       "    <tr>\n",
       "      <th>5</th>\n",
       "      <td>Parch</td>\n",
       "      <td>0.000000</td>\n",
       "      <td>1.000000</td>\n",
       "    </tr>\n",
       "    <tr>\n",
       "      <th>6</th>\n",
       "      <td>Fare</td>\n",
       "      <td>0.000000</td>\n",
       "      <td>1.000000</td>\n",
       "    </tr>\n",
       "    <tr>\n",
       "      <th>7</th>\n",
       "      <td>Embarked</td>\n",
       "      <td>0.219659</td>\n",
       "      <td>1.245652</td>\n",
       "    </tr>\n",
       "    <tr>\n",
       "      <th>8</th>\n",
       "      <td>Cabin_numerical</td>\n",
       "      <td>-0.498966</td>\n",
       "      <td>0.607158</td>\n",
       "    </tr>\n",
       "    <tr>\n",
       "      <th>9</th>\n",
       "      <td>Cabin_categorical</td>\n",
       "      <td>0.629534</td>\n",
       "      <td>1.876736</td>\n",
       "    </tr>\n",
       "    <tr>\n",
       "      <th>10</th>\n",
       "      <td>Ticket_numerical</td>\n",
       "      <td>0.721760</td>\n",
       "      <td>2.058053</td>\n",
       "    </tr>\n",
       "    <tr>\n",
       "      <th>11</th>\n",
       "      <td>Ticket_categorical</td>\n",
       "      <td>0.000000</td>\n",
       "      <td>1.000000</td>\n",
       "    </tr>\n",
       "    <tr>\n",
       "      <th>12</th>\n",
       "      <td>Title</td>\n",
       "      <td>3.515069</td>\n",
       "      <td>33.618249</td>\n",
       "    </tr>\n",
       "    <tr>\n",
       "      <th>13</th>\n",
       "      <td>Family_size</td>\n",
       "      <td>-1.305856</td>\n",
       "      <td>0.270941</td>\n",
       "    </tr>\n",
       "    <tr>\n",
       "      <th>14</th>\n",
       "      <td>is_mother</td>\n",
       "      <td>0.000000</td>\n",
       "      <td>1.000000</td>\n",
       "    </tr>\n",
       "    <tr>\n",
       "      <th>15</th>\n",
       "      <td>Age_NA</td>\n",
       "      <td>-0.065549</td>\n",
       "      <td>0.936553</td>\n",
       "    </tr>\n",
       "    <tr>\n",
       "      <th>16</th>\n",
       "      <td>Ticket_numerical_NA</td>\n",
       "      <td>0.000000</td>\n",
       "      <td>1.000000</td>\n",
       "    </tr>\n",
       "  </tbody>\n",
       "</table>\n",
       "</div>"
      ],
      "text/plain": [
       "           feature_name  Coefficient  Odds_ratio\n",
       "0             Intercept     0.000000    1.000000\n",
       "1                Pclass    -1.379802    0.251628\n",
       "2                   Sex     0.000000    1.000000\n",
       "3                   Age    -2.104914    0.121856\n",
       "4                 SibSp    -0.970313    0.378964\n",
       "5                 Parch     0.000000    1.000000\n",
       "6                  Fare     0.000000    1.000000\n",
       "7              Embarked     0.219659    1.245652\n",
       "8       Cabin_numerical    -0.498966    0.607158\n",
       "9     Cabin_categorical     0.629534    1.876736\n",
       "10     Ticket_numerical     0.721760    2.058053\n",
       "11   Ticket_categorical     0.000000    1.000000\n",
       "12                Title     3.515069   33.618249\n",
       "13          Family_size    -1.305856    0.270941\n",
       "14            is_mother     0.000000    1.000000\n",
       "15               Age_NA    -0.065549    0.936553\n",
       "16  Ticket_numerical_NA     0.000000    1.000000"
      ]
     },
     "execution_count": 140,
     "metadata": {},
     "output_type": "execute_result"
    }
   ],
   "source": [
    "LogisticSummaryTable(best_model, X_train)"
   ]
  },
  {
   "cell_type": "code",
   "execution_count": 141,
   "metadata": {},
   "outputs": [
    {
     "data": {
      "text/html": [
       "<div>\n",
       "<style scoped>\n",
       "    .dataframe tbody tr th:only-of-type {\n",
       "        vertical-align: middle;\n",
       "    }\n",
       "\n",
       "    .dataframe tbody tr th {\n",
       "        vertical-align: top;\n",
       "    }\n",
       "\n",
       "    .dataframe thead th {\n",
       "        text-align: right;\n",
       "    }\n",
       "</style>\n",
       "<table border=\"1\" class=\"dataframe\">\n",
       "  <thead>\n",
       "    <tr style=\"text-align: right;\">\n",
       "      <th></th>\n",
       "      <th>name</th>\n",
       "      <th>score</th>\n",
       "    </tr>\n",
       "  </thead>\n",
       "  <tbody>\n",
       "    <tr>\n",
       "      <th>0</th>\n",
       "      <td>Title</td>\n",
       "      <td>3.515069</td>\n",
       "    </tr>\n",
       "    <tr>\n",
       "      <th>1</th>\n",
       "      <td>Age</td>\n",
       "      <td>2.104914</td>\n",
       "    </tr>\n",
       "    <tr>\n",
       "      <th>2</th>\n",
       "      <td>Pclass</td>\n",
       "      <td>1.379802</td>\n",
       "    </tr>\n",
       "    <tr>\n",
       "      <th>3</th>\n",
       "      <td>Family_size</td>\n",
       "      <td>1.305856</td>\n",
       "    </tr>\n",
       "    <tr>\n",
       "      <th>4</th>\n",
       "      <td>SibSp</td>\n",
       "      <td>0.970313</td>\n",
       "    </tr>\n",
       "    <tr>\n",
       "      <th>5</th>\n",
       "      <td>Ticket_numerical</td>\n",
       "      <td>0.721760</td>\n",
       "    </tr>\n",
       "    <tr>\n",
       "      <th>6</th>\n",
       "      <td>Cabin_categorical</td>\n",
       "      <td>0.629534</td>\n",
       "    </tr>\n",
       "    <tr>\n",
       "      <th>7</th>\n",
       "      <td>Cabin_numerical</td>\n",
       "      <td>0.498966</td>\n",
       "    </tr>\n",
       "    <tr>\n",
       "      <th>8</th>\n",
       "      <td>Embarked</td>\n",
       "      <td>0.219659</td>\n",
       "    </tr>\n",
       "    <tr>\n",
       "      <th>9</th>\n",
       "      <td>Age_NA</td>\n",
       "      <td>0.065549</td>\n",
       "    </tr>\n",
       "    <tr>\n",
       "      <th>10</th>\n",
       "      <td>Sex</td>\n",
       "      <td>0.000000</td>\n",
       "    </tr>\n",
       "    <tr>\n",
       "      <th>11</th>\n",
       "      <td>Parch</td>\n",
       "      <td>0.000000</td>\n",
       "    </tr>\n",
       "    <tr>\n",
       "      <th>12</th>\n",
       "      <td>Fare</td>\n",
       "      <td>0.000000</td>\n",
       "    </tr>\n",
       "    <tr>\n",
       "      <th>13</th>\n",
       "      <td>Ticket_categorical</td>\n",
       "      <td>0.000000</td>\n",
       "    </tr>\n",
       "    <tr>\n",
       "      <th>14</th>\n",
       "      <td>is_mother</td>\n",
       "      <td>0.000000</td>\n",
       "    </tr>\n",
       "    <tr>\n",
       "      <th>15</th>\n",
       "      <td>Ticket_numerical_NA</td>\n",
       "      <td>0.000000</td>\n",
       "    </tr>\n",
       "  </tbody>\n",
       "</table>\n",
       "</div>"
      ],
      "text/plain": [
       "                   name     score\n",
       "0                 Title  3.515069\n",
       "1                   Age  2.104914\n",
       "2                Pclass  1.379802\n",
       "3           Family_size  1.305856\n",
       "4                 SibSp  0.970313\n",
       "5      Ticket_numerical  0.721760\n",
       "6     Cabin_categorical  0.629534\n",
       "7       Cabin_numerical  0.498966\n",
       "8              Embarked  0.219659\n",
       "9                Age_NA  0.065549\n",
       "10                  Sex  0.000000\n",
       "11                Parch  0.000000\n",
       "12                 Fare  0.000000\n",
       "13   Ticket_categorical  0.000000\n",
       "14            is_mother  0.000000\n",
       "15  Ticket_numerical_NA  0.000000"
      ]
     },
     "execution_count": 141,
     "metadata": {},
     "output_type": "execute_result"
    }
   ],
   "source": [
    "#get feature importances from the model\n",
    "headers = [\"name\", \"score\"]\n",
    "coefficient_list = np.abs(list(best_model.coef_[0]))\n",
    "values = sorted(zip(feature_names, coefficient_list), key=lambda x: x[1] * -1)\n",
    "feature_importances = pd.DataFrame(values, columns = headers)\n",
    "feature_importances"
   ]
  },
  {
   "cell_type": "code",
   "execution_count": null,
   "metadata": {},
   "outputs": [],
   "source": []
  },
  {
   "cell_type": "code",
   "execution_count": 142,
   "metadata": {},
   "outputs": [
    {
     "name": "stdout",
     "output_type": "stream",
     "text": [
      "Model Evaluation of LogisticRegression\n",
      "-----------------------------------------------------------\n",
      "Train set\n",
      "Accuracy:  0.8338323353293413\n",
      "ROC AUC Score:  0.8856426350121357\n",
      "Confusion matrix\n",
      "Predicted    0    1\n",
      "Actual             \n",
      "0          362   50\n",
      "1           61  195\n",
      "              precision    recall  f1-score   support\n",
      "\n",
      "           0       0.86      0.88      0.87       412\n",
      "           1       0.80      0.76      0.78       256\n",
      "\n",
      "    accuracy                           0.83       668\n",
      "   macro avg       0.83      0.82      0.82       668\n",
      "weighted avg       0.83      0.83      0.83       668\n",
      "\n",
      "-----------------------------------------------------------\n",
      "Test set\n",
      "Accuracy:  0.8161434977578476\n",
      "ROC AUC Score:  0.855839416058394\n",
      "Confusion matrix\n",
      "Predicted    0   1\n",
      "Actual            \n",
      "0          123  14\n",
      "1           27  59\n",
      "              precision    recall  f1-score   support\n",
      "\n",
      "           0       0.82      0.90      0.86       137\n",
      "           1       0.81      0.69      0.74        86\n",
      "\n",
      "    accuracy                           0.82       223\n",
      "   macro avg       0.81      0.79      0.80       223\n",
      "weighted avg       0.82      0.82      0.81       223\n",
      "\n"
     ]
    }
   ],
   "source": [
    "ModelEvaluation(best_model,X_train,y_train,X_test,y_test,'LogisticRegression')"
   ]
  },
  {
   "cell_type": "code",
   "execution_count": 143,
   "metadata": {},
   "outputs": [
    {
     "data": {
      "image/png": "[encoded data removed]",
      "text/plain": [
       "<Figure size 432x432 with 1 Axes>"
      ]
     },
     "metadata": {
      "needs_background": "light"
     },
     "output_type": "display_data"
    }
   ],
   "source": [
    "from sklearn.metrics import roc_curve\n",
    "\n",
    "fpr_train, tpr_train, threshold = roc_curve(y_train, prob_train_pred[:,1])\n",
    "fpr_test, tpr_test, threshold = roc_curve(y_test, prob_test_pred[:,1])\n",
    "\n",
    "plt.figure(figsize=(6,6))\n",
    "plt.title('ROC Curve Classifiers', fontsize=16)\n",
    "plt.plot(fpr_train, tpr_train, label= 'Train Score: {:.4f}'.format(roc_auc_score(y_train, prob_train_pred[:,1])))\n",
    "plt.plot(fpr_test, tpr_test, label= 'Test Score: {:.4f}'.format(roc_auc_score(y_test, prob_test_pred[:,1])))\n",
    "\n",
    "plt.plot([0, 1], [0, 1], 'k--')\n",
    "plt.axis([-0.01, 1, 0, 1])\n",
    "plt.xlabel('False Positive Rate', fontsize=16)\n",
    "plt.ylabel('True Positive Rate', fontsize=16)\n",
    "plt.annotate('Minimum ROC Score of 50% \\n (This is the minimum score to get)', xy=(0.5, 0.5), xytext=(0.6, 0.3),\n",
    "                arrowprops=dict(facecolor='#6E726D', shrink=0.05))\n",
    "plt.legend()\n",
    "        \n",
    "plt.show()"
   ]
  },
  {
   "cell_type": "code",
   "execution_count": 144,
   "metadata": {},
   "outputs": [
    {
     "data": {
      "text/html": [
       "<div>\n",
       "<style scoped>\n",
       "    .dataframe tbody tr th:only-of-type {\n",
       "        vertical-align: middle;\n",
       "    }\n",
       "\n",
       "    .dataframe tbody tr th {\n",
       "        vertical-align: top;\n",
       "    }\n",
       "\n",
       "    .dataframe thead th {\n",
       "        text-align: right;\n",
       "    }\n",
       "</style>\n",
       "<table border=\"1\" class=\"dataframe\">\n",
       "  <thead>\n",
       "    <tr style=\"text-align: right;\">\n",
       "      <th></th>\n",
       "      <th>precision</th>\n",
       "      <th>recall</th>\n",
       "      <th>threshold</th>\n",
       "    </tr>\n",
       "  </thead>\n",
       "  <tbody>\n",
       "    <tr>\n",
       "      <th>0</th>\n",
       "      <td>0.398148</td>\n",
       "      <td>1.000000</td>\n",
       "      <td>-3.397638</td>\n",
       "    </tr>\n",
       "    <tr>\n",
       "      <th>1</th>\n",
       "      <td>0.395349</td>\n",
       "      <td>0.988372</td>\n",
       "      <td>-3.345653</td>\n",
       "    </tr>\n",
       "    <tr>\n",
       "      <th>2</th>\n",
       "      <td>0.397196</td>\n",
       "      <td>0.988372</td>\n",
       "      <td>-3.298288</td>\n",
       "    </tr>\n",
       "    <tr>\n",
       "      <th>3</th>\n",
       "      <td>0.399061</td>\n",
       "      <td>0.988372</td>\n",
       "      <td>-3.258650</td>\n",
       "    </tr>\n",
       "    <tr>\n",
       "      <th>4</th>\n",
       "      <td>0.400943</td>\n",
       "      <td>0.988372</td>\n",
       "      <td>-3.159346</td>\n",
       "    </tr>\n",
       "    <tr>\n",
       "      <th>5</th>\n",
       "      <td>0.402844</td>\n",
       "      <td>0.988372</td>\n",
       "      <td>-3.142644</td>\n",
       "    </tr>\n",
       "  </tbody>\n",
       "</table>\n",
       "</div>"
      ],
      "text/plain": [
       "   precision    recall  threshold\n",
       "0   0.398148  1.000000  -3.397638\n",
       "1   0.395349  0.988372  -3.345653\n",
       "2   0.397196  0.988372  -3.298288\n",
       "3   0.399061  0.988372  -3.258650\n",
       "4   0.400943  0.988372  -3.159346\n",
       "5   0.402844  0.988372  -3.142644"
      ]
     },
     "execution_count": 144,
     "metadata": {},
     "output_type": "execute_result"
    }
   ],
   "source": [
    "y_score = best_model.decision_function(X_test)\n",
    "precision, recall, threshold = precision_recall_curve(y_test,y_score)\n",
    "average_precision = average_precision_score(y_test, y_score)\n",
    "\n",
    "precision_recall_df = pd.DataFrame([precision[0:len(threshold)],recall[0:len(threshold)],threshold]).T\n",
    "precision_recall_df.columns = ['precision','recall','threshold']\n",
    "precision_recall_df.head(6)"
   ]
  },
  {
   "cell_type": "code",
   "execution_count": 145,
   "metadata": {},
   "outputs": [
    {
     "data": {
      "text/plain": [
       "Text(0.5, 1.0, 'Precision-Recall curve: \\n Average Precision-Recall Score =0.83')"
      ]
     },
     "execution_count": 145,
     "metadata": {},
     "output_type": "execute_result"
    },
    {
     "data": {
      "image/png": "[encoded data removed]",
      "text/plain": [
       "<Figure size 432x288 with 1 Axes>"
      ]
     },
     "metadata": {
      "needs_background": "light"
     },
     "output_type": "display_data"
    }
   ],
   "source": [
    "plt.step(recall, precision, color='#004a93', alpha=0.2,where='post')\n",
    "plt.fill_between(recall, precision, step='post', alpha=0.2, color='#48a6ff')\n",
    "plt.xlabel('Recall')\n",
    "plt.ylabel('Precision')\n",
    "plt.ylim([0.0, 1.05])\n",
    "plt.xlim([0.0, 1.0])\n",
    "plt.title('Precision-Recall curve: \\n Average Precision-Recall Score ={0:0.2f}'.format(average_precision), fontsize=16)"
   ]
  },
  {
   "cell_type": "code",
   "execution_count": 146,
   "metadata": {
    "scrolled": true
   },
   "outputs": [
    {
     "data": {
      "image/png": "[encoded data removed]",
      "text/plain": [
       "<Figure size 576x360 with 1 Axes>"
      ]
     },
     "metadata": {},
     "output_type": "display_data"
    }
   ],
   "source": [
    "sns.set(style = 'whitegrid',context = 'notebook')\n",
    "plt.figure(figsize=(8,5))\n",
    "plt.plot(threshold, precision[1:], label=\"Precision\",linewidth=5)\n",
    "plt.plot(threshold, recall[1:], label=\"Recall\",linewidth=5)\n",
    "plt.title('Precision and recall for different threshold values')\n",
    "plt.xlabel('Threshold')\n",
    "plt.ylabel('Precision/Recall')\n",
    "plt.legend()\n",
    "plt.show()"
   ]
  },
  {
   "cell_type": "code",
   "execution_count": null,
   "metadata": {},
   "outputs": [],
   "source": []
  },
  {
   "cell_type": "code",
   "execution_count": null,
   "metadata": {},
   "outputs": [],
   "source": []
  },
  {
   "cell_type": "code",
   "execution_count": null,
   "metadata": {},
   "outputs": [],
   "source": []
  },
  {
   "cell_type": "code",
   "execution_count": null,
   "metadata": {},
   "outputs": [],
   "source": []
  },
  {
   "cell_type": "code",
   "execution_count": null,
   "metadata": {},
   "outputs": [],
   "source": []
  },
  {
   "cell_type": "code",
   "execution_count": null,
   "metadata": {},
   "outputs": [],
   "source": []
  },
  {
   "cell_type": "markdown",
   "metadata": {},
   "source": [
    "#### Score"
   ]
  },
  {
   "cell_type": "code",
   "execution_count": 85,
   "metadata": {},
   "outputs": [
    {
     "data": {
      "text/plain": [
       "0.8308383233532934"
      ]
     },
     "execution_count": 85,
     "metadata": {},
     "output_type": "execute_result"
    }
   ],
   "source": [
    "model.score(X_train, y_train)"
   ]
  },
  {
   "cell_type": "code",
   "execution_count": 86,
   "metadata": {},
   "outputs": [
    {
     "data": {
      "text/plain": [
       "0.8308383233532934"
      ]
     },
     "execution_count": 86,
     "metadata": {},
     "output_type": "execute_result"
    }
   ],
   "source": [
    "accuracy_score(y_train, y_train_pred)"
   ]
  },
  {
   "cell_type": "code",
   "execution_count": 87,
   "metadata": {},
   "outputs": [
    {
     "data": {
      "text/plain": [
       "0.8161434977578476"
      ]
     },
     "execution_count": 87,
     "metadata": {},
     "output_type": "execute_result"
    }
   ],
   "source": [
    "accuracy_score(y_test, y_test_pred)"
   ]
  },
  {
   "cell_type": "markdown",
   "metadata": {},
   "source": [
    "#### Confusion matrix "
   ]
  },
  {
   "cell_type": "code",
   "execution_count": null,
   "metadata": {},
   "outputs": [],
   "source": []
  },
  {
   "cell_type": "markdown",
   "metadata": {},
   "source": [
    "#### Classification Report"
   ]
  },
  {
   "cell_type": "code",
   "execution_count": 91,
   "metadata": {},
   "outputs": [
    {
     "name": "stdout",
     "output_type": "stream",
     "text": [
      "              precision    recall  f1-score   support\n",
      "\n",
      "           0       0.85      0.88      0.86       412\n",
      "           1       0.79      0.75      0.77       256\n",
      "\n",
      "    accuracy                           0.83       668\n",
      "   macro avg       0.82      0.82      0.82       668\n",
      "weighted avg       0.83      0.83      0.83       668\n",
      "\n"
     ]
    }
   ],
   "source": [
    "print(classification_report(y_train, y_train_pred))"
   ]
  },
  {
   "cell_type": "code",
   "execution_count": 92,
   "metadata": {},
   "outputs": [
    {
     "name": "stdout",
     "output_type": "stream",
     "text": [
      "---------------------------------------------------------------------------------------------------------\n",
      "Recall Score: 0.75\n",
      "Precision Score: 0.79\n",
      "F1 Score: 0.77\n",
      "Accuracy Score: 0.83\n",
      "---------------------------------------------------------------------------------------------------------\n"
     ]
    }
   ],
   "source": [
    "from sklearn.metrics import recall_score, precision_score, f1_score, accuracy_score\n",
    "\n",
    "print('---' * 35)\n",
    "print('Recall Score: {:.2f}'.format(recall_score(y_train, y_train_pred)))\n",
    "print('Precision Score: {:.2f}'.format(precision_score(y_train, y_train_pred)))\n",
    "print('F1 Score: {:.2f}'.format(f1_score(y_train, y_train_pred)))\n",
    "print('Accuracy Score: {:.2f}'.format(accuracy_score(y_train, y_train_pred)))\n",
    "print('---' * 35)"
   ]
  },
  {
   "cell_type": "code",
   "execution_count": 93,
   "metadata": {
    "scrolled": false
   },
   "outputs": [
    {
     "name": "stdout",
     "output_type": "stream",
     "text": [
      "              precision    recall  f1-score   support\n",
      "\n",
      "           0       0.82      0.90      0.86       137\n",
      "           1       0.81      0.69      0.74        86\n",
      "\n",
      "    accuracy                           0.82       223\n",
      "   macro avg       0.81      0.79      0.80       223\n",
      "weighted avg       0.82      0.82      0.81       223\n",
      "\n"
     ]
    }
   ],
   "source": [
    "print(classification_report(y_test, y_test_pred))"
   ]
  },
  {
   "cell_type": "code",
   "execution_count": null,
   "metadata": {},
   "outputs": [],
   "source": []
  },
  {
   "cell_type": "code",
   "execution_count": null,
   "metadata": {},
   "outputs": [],
   "source": []
  },
  {
   "cell_type": "markdown",
   "metadata": {},
   "source": [
    "### ROC Curve"
   ]
  },
  {
   "cell_type": "code",
   "execution_count": 94,
   "metadata": {},
   "outputs": [
    {
     "name": "stdout",
     "output_type": "stream",
     "text": [
      "Logistic Regression:  0.8162735133495146\n"
     ]
    },
    {
     "data": {
      "image/png": "[encoded data removed]",
      "text/plain": [
       "<Figure size 432x288 with 1 Axes>"
      ]
     },
     "metadata": {
      "needs_background": "light"
     },
     "output_type": "display_data"
    }
   ],
   "source": [
    "log_fpr, log_tpr, log_thresold = roc_curve(y_train, y_train_pred)\n",
    "from sklearn.metrics import roc_auc_score\n",
    "\n",
    "print('Logistic Regression: ', roc_auc_score(y_train, y_train_pred))\n",
    "\n",
    "def logistic_roc_curve(log_fpr, log_tpr):\n",
    "    plt.figure(figsize=(6,4))\n",
    "    plt.title('Logistic Regression ROC Curve', fontsize=16)\n",
    "    plt.plot(log_fpr, log_tpr, 'b-', linewidth=2)\n",
    "    plt.plot([0, 1], [0, 1], 'r--')\n",
    "    plt.xlabel('False Positive Rate', fontsize=16)\n",
    "    plt.ylabel('True Positive Rate', fontsize=16)\n",
    "    plt.axis([-0.01,1,0,1])\n",
    "    \n",
    "    \n",
    "logistic_roc_curve(log_fpr, log_tpr)\n",
    "plt.show()"
   ]
  },
  {
   "cell_type": "markdown",
   "metadata": {},
   "source": [
    "### Precision Recall curve"
   ]
  },
  {
   "cell_type": "code",
   "execution_count": 95,
   "metadata": {},
   "outputs": [],
   "source": [
    "from sklearn.metrics import precision_recall_curve\n",
    "\n",
    "precision, recall, threshold = precision_recall_curve(y_train, y_train_pred)"
   ]
  },
  {
   "cell_type": "code",
   "execution_count": 96,
   "metadata": {},
   "outputs": [
    {
     "name": "stdout",
     "output_type": "stream",
     "text": [
      "Average precision-recall score: 0.68\n"
     ]
    }
   ],
   "source": [
    "from sklearn.metrics import average_precision_score\n",
    "\n",
    "average_precision = average_precision_score(y_test, y_test_pred)\n",
    "\n",
    "print('Average precision-recall score: {0:0.2f}'.format(average_precision))"
   ]
  },
  {
   "cell_type": "code",
   "execution_count": 97,
   "metadata": {
    "scrolled": true
   },
   "outputs": [
    {
     "data": {
      "text/plain": [
       "Text(0.5, 1.0, 'UnderSampling Precision-Recall curve: \\n Average Precision-Recall Score =0.68')"
      ]
     },
     "execution_count": 97,
     "metadata": {},
     "output_type": "execute_result"
    },
    {
     "data": {
      "image/png": "[encoded data removed]",
      "text/plain": [
       "<Figure size 864x432 with 1 Axes>"
      ]
     },
     "metadata": {
      "needs_background": "light"
     },
     "output_type": "display_data"
    }
   ],
   "source": [
    "from sklearn.metrics import precision_recall_curve\n",
    "import matplotlib.pyplot as plt\n",
    "\n",
    "fig = plt.figure(figsize=(12,6))\n",
    "\n",
    "precision, recall, _ = precision_recall_curve(y_train, y_train_pred)\n",
    "\n",
    "plt.step(recall, precision, color='#004a93', alpha=0.2,\n",
    "         where='post')\n",
    "plt.fill_between(recall, precision, step='post', alpha=0.2,\n",
    "                 color='#48a6ff')\n",
    "\n",
    "plt.xlabel('Recall')\n",
    "plt.ylabel('Precision')\n",
    "plt.ylim([0.0, 1.05])\n",
    "plt.xlim([0.0, 1.0])\n",
    "plt.title('UnderSampling Precision-Recall curve: \\n Average Precision-Recall Score ={0:0.2f}'.format(average_precision), fontsize=16)"
   ]
  },
  {
   "cell_type": "code",
   "execution_count": null,
   "metadata": {},
   "outputs": [],
   "source": []
  },
  {
   "cell_type": "code",
   "execution_count": null,
   "metadata": {},
   "outputs": [],
   "source": []
  },
  {
   "cell_type": "code",
   "execution_count": null,
   "metadata": {},
   "outputs": [],
   "source": []
  },
  {
   "cell_type": "markdown",
   "metadata": {},
   "source": [
    "### Model Evaluation"
   ]
  },
  {
   "cell_type": "code",
   "execution_count": 98,
   "metadata": {},
   "outputs": [
    {
     "name": "stdout",
     "output_type": "stream",
     "text": [
      "Logistic Regression\n",
      "==========================================================\n",
      "Train set\n",
      "Accuracy:  0.8308383233532934\n",
      "ROC AUC Score:  0.8162735133495146\n",
      "Confusion matrix\n",
      "True         0    1\n",
      "Predicted          \n",
      "0          362   50\n",
      "1           63  193\n",
      "              precision    recall  f1-score   support\n",
      "\n",
      "           0       0.85      0.88      0.86       412\n",
      "           1       0.79      0.75      0.77       256\n",
      "\n",
      "    accuracy                           0.83       668\n",
      "   macro avg       0.82      0.82      0.82       668\n",
      "weighted avg       0.83      0.83      0.83       668\n",
      "\n",
      "----------------------------------------------------------\n",
      "Test set\n",
      "Accuracy:  0.8161434977578476\n",
      "ROC AUC Score:  0.7919283653030045\n",
      "Confusion matrix\n",
      "True         0   1\n",
      "Predicted         \n",
      "0          123  14\n",
      "1           27  59\n",
      "              precision    recall  f1-score   support\n",
      "\n",
      "           0       0.82      0.90      0.86       137\n",
      "           1       0.81      0.69      0.74        86\n",
      "\n",
      "    accuracy                           0.82       223\n",
      "   macro avg       0.81      0.79      0.80       223\n",
      "weighted avg       0.82      0.82      0.81       223\n",
      "\n",
      "==========================================================\n"
     ]
    }
   ],
   "source": [
    "def ModelEvaluation(name,model):\n",
    "    \n",
    "        print(name)\n",
    "        model.fit(X_train[training_vars], y_train)\n",
    "        \n",
    "        print('==========================================================')\n",
    "        print('Train set')\n",
    "        y_train_pred = model.predict(X_train[training_vars])\n",
    "        print('Accuracy: ', accuracy_score(y_train, list(y_train_pred)))\n",
    "        print('ROC AUC Score: ', roc_auc_score(y_train, list(y_train_pred)))\n",
    "        cm_df = pd.DataFrame(confusion_matrix(y_train,list(y_train_pred)), index=model.classes_,columns=model.classes_)\n",
    "        cm_df.index.name = 'Predicted'\n",
    "        cm_df.columns.name = 'True'\n",
    "        print('Confusion matrix')\n",
    "        print(cm_df)\n",
    "        print(classification_report(y_train, list(y_train_pred)))\n",
    "  \n",
    "        print('----------------------------------------------------------')\n",
    "        print('Test set')\n",
    "        y_test_pred = model.predict(X_test[training_vars])\n",
    "        print('Accuracy: ', accuracy_score(y_test, list(y_test_pred)))\n",
    "        print('ROC AUC Score: ', roc_auc_score(y_test, list(y_test_pred)))\n",
    "        cm_df = pd.DataFrame(confusion_matrix(y_test,list(y_test_pred)), index=model.classes_,columns=model.classes_)\n",
    "        cm_df.index.name = 'Predicted'\n",
    "        cm_df.columns.name = 'True'\n",
    "        print('Confusion matrix')\n",
    "        print(cm_df)\n",
    "        print(classification_report(y_test, list(y_test_pred)))\n",
    "        print('==========================================================')\n",
    "    \n",
    "ModelEvaluation('Logistic Regression',model)"
   ]
  },
  {
   "cell_type": "code",
   "execution_count": 99,
   "metadata": {},
   "outputs": [
    {
     "name": "stdout",
     "output_type": "stream",
     "text": [
      "Train score:  0.8308383233532934\n",
      "Test score:  0.8161434977578476\n"
     ]
    }
   ],
   "source": [
    "print('Train score: ', model.score(X_train, y_train))\n",
    "print('Test score: ', model.score(X_test, y_test))"
   ]
  },
  {
   "cell_type": "code",
   "execution_count": 100,
   "metadata": {},
   "outputs": [
    {
     "name": "stdout",
     "output_type": "stream",
     "text": [
      "Train Accuracy:  0.8308383233532934\n"
     ]
    }
   ],
   "source": [
    "y_train_pred = model.predict(X_train[training_vars])\n",
    "print('Train Accuracy: ', accuracy_score(y_train, list(y_train_pred)))"
   ]
  },
  {
   "cell_type": "code",
   "execution_count": 74,
   "metadata": {},
   "outputs": [
    {
     "name": "stdout",
     "output_type": "stream",
     "text": [
      "Test Accuracy:  0.8161434977578476\n"
     ]
    }
   ],
   "source": [
    "y_test_pred = model.predict(X_test[training_vars])\n",
    "print('Test Accuracy: ', accuracy_score(y_test, list(y_test_pred)))"
   ]
  },
  {
   "cell_type": "code",
   "execution_count": 67,
   "metadata": {},
   "outputs": [
    {
     "name": "stdout",
     "output_type": "stream",
     "text": [
      "Logit train roc-auc: 0.8729805066747572\n",
      "Logit test roc-auc: 0.8428535053471398\n"
     ]
    }
   ],
   "source": [
    "model = LogisticRegression()\n",
    "model.fit(X_train, y_train)\n",
    "\n",
    "pred = model.predict_proba(scaler.transform(X_train))\n",
    "print('Logit train roc-auc: {}'.format(roc_auc_score(y_train, pred[:,1])))\n",
    "pred = model.predict_proba(scaler.transform(X_test))\n",
    "print('Logit test roc-auc: {}'.format(roc_auc_score(y_test, pred[:,1])))"
   ]
  },
  {
   "cell_type": "markdown",
   "metadata": {},
   "source": [
    "### Select threshold for maximum accuracy"
   ]
  },
  {
   "cell_type": "code",
   "execution_count": 68,
   "metadata": {
    "scrolled": true
   },
   "outputs": [
    {
     "data": {
      "text/plain": [
       "array([1.99977561, 0.99977561, 0.99761836, 0.99750114, 0.99588481,\n",
       "       0.99382872, 0.98868351, 0.98766301, 0.97585885, 0.97537531,\n",
       "       0.97228414, 0.97104241, 0.96813636, 0.96732903, 0.96714427,\n",
       "       0.96411049, 0.95434452, 0.95106386, 0.9508521 , 0.9460704 ,\n",
       "       0.93971361, 0.93736297, 0.93679707, 0.92791028, 0.91725218,\n",
       "       0.91090027, 0.90751562, 0.89018755, 0.88628097, 0.88388265,\n",
       "       0.86784922, 0.86516247, 0.85765376, 0.84867175, 0.83449191,\n",
       "       0.82930178, 0.81254761, 0.80272663, 0.79866104, 0.76297332,\n",
       "       0.7561073 , 0.70937879, 0.67848858, 0.59337192, 0.5143524 ,\n",
       "       0.48988038, 0.46614578, 0.46550365, 0.4552492 , 0.42229639,\n",
       "       0.412629  , 0.40904812, 0.40875146, 0.39669353, 0.39557466,\n",
       "       0.3153883 , 0.31385664, 0.19959692, 0.19814973, 0.1897073 ,\n",
       "       0.18410068, 0.17473504, 0.16534234, 0.16523064, 0.16476616,\n",
       "       0.15868203, 0.15854827, 0.09566608, 0.09512515, 0.09506766,\n",
       "       0.09486665, 0.09480929, 0.09118374, 0.08754125, 0.08336741])"
      ]
     },
     "execution_count": 68,
     "metadata": {},
     "output_type": "execute_result"
    }
   ],
   "source": [
    "tpr, tpr, thresholds = metrics.roc_curve(y_test, pred[:,1])\n",
    "thresholds"
   ]
  },
  {
   "cell_type": "code",
   "execution_count": 69,
   "metadata": {},
   "outputs": [
    {
     "data": {
      "text/html": [
       "<div>\n",
       "<style scoped>\n",
       "    .dataframe tbody tr th:only-of-type {\n",
       "        vertical-align: middle;\n",
       "    }\n",
       "\n",
       "    .dataframe tbody tr th {\n",
       "        vertical-align: top;\n",
       "    }\n",
       "\n",
       "    .dataframe thead th {\n",
       "        text-align: right;\n",
       "    }\n",
       "</style>\n",
       "<table border=\"1\" class=\"dataframe\">\n",
       "  <thead>\n",
       "    <tr style=\"text-align: right;\">\n",
       "      <th></th>\n",
       "      <th>thresholds</th>\n",
       "      <th>accuracy</th>\n",
       "    </tr>\n",
       "  </thead>\n",
       "  <tbody>\n",
       "    <tr>\n",
       "      <th>21</th>\n",
       "      <td>0.937363</td>\n",
       "      <td>0.802691</td>\n",
       "    </tr>\n",
       "    <tr>\n",
       "      <th>20</th>\n",
       "      <td>0.939714</td>\n",
       "      <td>0.798206</td>\n",
       "    </tr>\n",
       "    <tr>\n",
       "      <th>22</th>\n",
       "      <td>0.936797</td>\n",
       "      <td>0.798206</td>\n",
       "    </tr>\n",
       "    <tr>\n",
       "      <th>27</th>\n",
       "      <td>0.890188</td>\n",
       "      <td>0.793722</td>\n",
       "    </tr>\n",
       "    <tr>\n",
       "      <th>31</th>\n",
       "      <td>0.865162</td>\n",
       "      <td>0.793722</td>\n",
       "    </tr>\n",
       "  </tbody>\n",
       "</table>\n",
       "</div>"
      ],
      "text/plain": [
       "    thresholds  accuracy\n",
       "21    0.937363  0.802691\n",
       "20    0.939714  0.798206\n",
       "22    0.936797  0.798206\n",
       "27    0.890188  0.793722\n",
       "31    0.865162  0.793722"
      ]
     },
     "execution_count": 69,
     "metadata": {},
     "output_type": "execute_result"
    }
   ],
   "source": [
    "accuracy_ls = []\n",
    "for thres in thresholds:\n",
    "    y_pred = np.where(pred[:,1]>thres,1,0)\n",
    "    accuracy_ls.append(metrics.accuracy_score(y_test, y_pred, normalize=True))\n",
    "    \n",
    "accuracy_ls = pd.concat([pd.Series(thresholds), pd.Series(accuracy_ls)],\n",
    "                        axis=1)\n",
    "accuracy_ls.columns = ['thresholds', 'accuracy']\n",
    "accuracy_ls.sort_values(by='accuracy', ascending=False, inplace=True)\n",
    "accuracy_ls.head()"
   ]
  },
  {
   "cell_type": "code",
   "execution_count": 70,
   "metadata": {},
   "outputs": [
    {
     "data": {
      "text/plain": [
       "<matplotlib.axes._subplots.AxesSubplot at 0x22a2b6a0e80>"
      ]
     },
     "execution_count": 70,
     "metadata": {},
     "output_type": "execute_result"
    },
    {
     "data": {
      "image/png": "[encoded data removed]",
      "text/plain": [
       "<Figure size 864x432 with 1 Axes>"
      ]
     },
     "metadata": {
      "needs_background": "light"
     },
     "output_type": "display_data"
    }
   ],
   "source": [
    "importance = pd.Series(np.abs(logit_model.coef_.ravel()))\n",
    "importance.index = training_vars\n",
    "importance.sort_values(inplace=True, ascending=False)\n",
    "importance.plot.bar(figsize=(12,6))"
   ]
  },
  {
   "cell_type": "code",
   "execution_count": null,
   "metadata": {},
   "outputs": [],
   "source": []
  }
 ],
 "metadata": {
  "kernelspec": {
   "display_name": "Python 3",
   "language": "python",
   "name": "python3"
  },
  "language_info": {
   "codemirror_mode": {
    "name": "ipython",
    "version": 3
   },
   "file_extension": ".py",
   "mimetype": "text/x-python",
   "name": "python",
   "nbconvert_exporter": "python",
   "pygments_lexer": "ipython3",
   "version": "3.7.3"
  }
 },
 "nbformat": 4,
 "nbformat_minor": 2
}
