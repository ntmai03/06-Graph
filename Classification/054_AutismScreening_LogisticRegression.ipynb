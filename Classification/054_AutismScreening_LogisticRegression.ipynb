{
 "cells": [
  {
   "cell_type": "markdown",
   "metadata": {},
   "source": [
    "# Import libraries"
   ]
  },
  {
   "cell_type": "code",
   "execution_count": 1,
   "metadata": {},
   "outputs": [
    {
     "name": "stdout",
     "output_type": "stream",
     "text": [
      "Setup complete...\n"
     ]
    }
   ],
   "source": [
    "# General\n",
    "import numpy as np\n",
    "import pandas as pd\n",
    "import seaborn as sns\n",
    "import matplotlib.pyplot as plt\n",
    "\n",
    "# Supress warnings\n",
    "import warnings\n",
    "warnings.filterwarnings(\"ignore\")\n",
    "\n",
    "# Classification\n",
    "from sklearn.tree import DecisionTreeClassifier\n",
    "from sklearn.neighbors import KNeighborsClassifier\n",
    "from sklearn.naive_bayes import GaussianNB\n",
    "from sklearn.svm import SVC, LinearSVC\n",
    "from sklearn.ensemble import RandomForestClassifier, GradientBoostingClassifier\n",
    "from sklearn.discriminant_analysis import LinearDiscriminantAnalysis, QuadraticDiscriminantAnalysis\n",
    "from xgboost import XGBClassifier\n",
    "\n",
    "# Regression\n",
    "from sklearn.linear_model import LinearRegression,Ridge,Lasso,RidgeCV,ElasticNet,LogisticRegression\n",
    "from sklearn.ensemble import RandomForestRegressor,BaggingRegressor,GradientBoostingRegressor,AdaBoostRegressor\n",
    "from sklearn.svm import SVR\n",
    "from sklearn.neighbors import KNeighborsRegressor\n",
    "from sklearn.neural_network import MLPRegressor\n",
    "from xgboost import XGBRegressor\n",
    "\n",
    "# Modelling Helpers:\n",
    "from sklearn.preprocessing import Imputer, Normalizer, scale\n",
    "from sklearn.model_selection import train_test_split\n",
    "from sklearn.feature_selection import RFECV\n",
    "from sklearn.model_selection import GridSearchCV, KFold, cross_val_score, ShuffleSplit, cross_validate\n",
    "\n",
    "# Preprocessing\n",
    "from sklearn.preprocessing import MinMaxScaler, StandardScaler, Imputer, LabelEncoder\n",
    "\n",
    "# Evaluation metrics for Regression \n",
    "from sklearn.metrics import mean_squared_log_error, mean_squared_error, r2_score, mean_absolute_error\n",
    "# Evaluation metrics for Classification\n",
    "from sklearn.metrics import accuracy_score, precision_score, recall_score, f1_score, classification_report\n",
    "\n",
    "print(\"Setup complete...\")"
   ]
  },
  {
   "cell_type": "markdown",
   "metadata": {},
   "source": [
    "# Load data"
   ]
  },
  {
   "cell_type": "code",
   "execution_count": 2,
   "metadata": {},
   "outputs": [
    {
     "data": {
      "text/plain": [
       "(1054, 19)"
      ]
     },
     "execution_count": 2,
     "metadata": {},
     "output_type": "execute_result"
    }
   ],
   "source": [
    "data = pd.read_csv('Toddler Autism dataset July 2018.csv')\n",
    "data.shape"
   ]
  },
  {
   "cell_type": "markdown",
   "metadata": {},
   "source": [
    "# Data Preparation"
   ]
  },
  {
   "cell_type": "code",
   "execution_count": 3,
   "metadata": {},
   "outputs": [
    {
     "data": {
      "text/plain": [
       "Index(['Case_No', 'A1', 'A2', 'A3', 'A4', 'A5', 'A6', 'A7', 'A8', 'A9', 'A10',\n",
       "       'Age_Mons', 'Qchat-10-Score', 'Sex', 'Ethnicity', 'Jaundice',\n",
       "       'Family_mem_with_ASD', 'Who completed the test', 'Class/ASD Traits '],\n",
       "      dtype='object')"
      ]
     },
     "execution_count": 3,
     "metadata": {},
     "output_type": "execute_result"
    }
   ],
   "source": [
    "data.columns"
   ]
  },
  {
   "cell_type": "markdown",
   "metadata": {},
   "source": [
    "### Remove unnesscary columns"
   ]
  },
  {
   "cell_type": "code",
   "execution_count": 4,
   "metadata": {},
   "outputs": [],
   "source": [
    "data.drop(['Case_No','Who completed the test','Qchat-10-Score'],axis=1, inplace=True)"
   ]
  },
  {
   "cell_type": "code",
   "execution_count": 5,
   "metadata": {},
   "outputs": [
    {
     "data": {
      "text/html": [
       "<div>\n",
       "<style scoped>\n",
       "    .dataframe tbody tr th:only-of-type {\n",
       "        vertical-align: middle;\n",
       "    }\n",
       "\n",
       "    .dataframe tbody tr th {\n",
       "        vertical-align: top;\n",
       "    }\n",
       "\n",
       "    .dataframe thead th {\n",
       "        text-align: right;\n",
       "    }\n",
       "</style>\n",
       "<table border=\"1\" class=\"dataframe\">\n",
       "  <thead>\n",
       "    <tr style=\"text-align: right;\">\n",
       "      <th></th>\n",
       "      <th>A1</th>\n",
       "      <th>A2</th>\n",
       "      <th>A3</th>\n",
       "      <th>A4</th>\n",
       "      <th>A5</th>\n",
       "      <th>A6</th>\n",
       "      <th>A7</th>\n",
       "      <th>A8</th>\n",
       "      <th>A9</th>\n",
       "      <th>A10</th>\n",
       "      <th>Age_Mons</th>\n",
       "      <th>Sex</th>\n",
       "      <th>Ethnicity</th>\n",
       "      <th>Jaundice</th>\n",
       "      <th>Family_mem_with_ASD</th>\n",
       "      <th>Class/ASD Traits</th>\n",
       "    </tr>\n",
       "  </thead>\n",
       "  <tbody>\n",
       "    <tr>\n",
       "      <th>0</th>\n",
       "      <td>0</td>\n",
       "      <td>0</td>\n",
       "      <td>0</td>\n",
       "      <td>0</td>\n",
       "      <td>0</td>\n",
       "      <td>0</td>\n",
       "      <td>1</td>\n",
       "      <td>1</td>\n",
       "      <td>0</td>\n",
       "      <td>1</td>\n",
       "      <td>28</td>\n",
       "      <td>f</td>\n",
       "      <td>middle eastern</td>\n",
       "      <td>yes</td>\n",
       "      <td>no</td>\n",
       "      <td>No</td>\n",
       "    </tr>\n",
       "    <tr>\n",
       "      <th>1</th>\n",
       "      <td>1</td>\n",
       "      <td>1</td>\n",
       "      <td>0</td>\n",
       "      <td>0</td>\n",
       "      <td>0</td>\n",
       "      <td>1</td>\n",
       "      <td>1</td>\n",
       "      <td>0</td>\n",
       "      <td>0</td>\n",
       "      <td>0</td>\n",
       "      <td>36</td>\n",
       "      <td>m</td>\n",
       "      <td>White European</td>\n",
       "      <td>yes</td>\n",
       "      <td>no</td>\n",
       "      <td>Yes</td>\n",
       "    </tr>\n",
       "    <tr>\n",
       "      <th>2</th>\n",
       "      <td>1</td>\n",
       "      <td>0</td>\n",
       "      <td>0</td>\n",
       "      <td>0</td>\n",
       "      <td>0</td>\n",
       "      <td>0</td>\n",
       "      <td>1</td>\n",
       "      <td>1</td>\n",
       "      <td>0</td>\n",
       "      <td>1</td>\n",
       "      <td>36</td>\n",
       "      <td>m</td>\n",
       "      <td>middle eastern</td>\n",
       "      <td>yes</td>\n",
       "      <td>no</td>\n",
       "      <td>Yes</td>\n",
       "    </tr>\n",
       "    <tr>\n",
       "      <th>3</th>\n",
       "      <td>1</td>\n",
       "      <td>1</td>\n",
       "      <td>1</td>\n",
       "      <td>1</td>\n",
       "      <td>1</td>\n",
       "      <td>1</td>\n",
       "      <td>1</td>\n",
       "      <td>1</td>\n",
       "      <td>1</td>\n",
       "      <td>1</td>\n",
       "      <td>24</td>\n",
       "      <td>m</td>\n",
       "      <td>Hispanic</td>\n",
       "      <td>no</td>\n",
       "      <td>no</td>\n",
       "      <td>Yes</td>\n",
       "    </tr>\n",
       "    <tr>\n",
       "      <th>4</th>\n",
       "      <td>1</td>\n",
       "      <td>1</td>\n",
       "      <td>0</td>\n",
       "      <td>1</td>\n",
       "      <td>1</td>\n",
       "      <td>1</td>\n",
       "      <td>1</td>\n",
       "      <td>1</td>\n",
       "      <td>1</td>\n",
       "      <td>1</td>\n",
       "      <td>20</td>\n",
       "      <td>f</td>\n",
       "      <td>White European</td>\n",
       "      <td>no</td>\n",
       "      <td>yes</td>\n",
       "      <td>Yes</td>\n",
       "    </tr>\n",
       "  </tbody>\n",
       "</table>\n",
       "</div>"
      ],
      "text/plain": [
       "   A1  A2  A3  A4  A5  A6  A7  A8  A9  A10  Age_Mons Sex       Ethnicity  \\\n",
       "0   0   0   0   0   0   0   1   1   0    1        28   f  middle eastern   \n",
       "1   1   1   0   0   0   1   1   0   0    0        36   m  White European   \n",
       "2   1   0   0   0   0   0   1   1   0    1        36   m  middle eastern   \n",
       "3   1   1   1   1   1   1   1   1   1    1        24   m        Hispanic   \n",
       "4   1   1   0   1   1   1   1   1   1    1        20   f  White European   \n",
       "\n",
       "  Jaundice Family_mem_with_ASD Class/ASD Traits   \n",
       "0      yes                  no                No  \n",
       "1      yes                  no               Yes  \n",
       "2      yes                  no               Yes  \n",
       "3       no                  no               Yes  \n",
       "4       no                 yes               Yes  "
      ]
     },
     "execution_count": 5,
     "metadata": {},
     "output_type": "execute_result"
    }
   ],
   "source": [
    "data.head()"
   ]
  },
  {
   "cell_type": "markdown",
   "metadata": {},
   "source": [
    "### One hot coding"
   ]
  },
  {
   "cell_type": "code",
   "execution_count": 6,
   "metadata": {},
   "outputs": [
    {
     "data": {
      "text/html": [
       "<div>\n",
       "<style scoped>\n",
       "    .dataframe tbody tr th:only-of-type {\n",
       "        vertical-align: middle;\n",
       "    }\n",
       "\n",
       "    .dataframe tbody tr th {\n",
       "        vertical-align: top;\n",
       "    }\n",
       "\n",
       "    .dataframe thead th {\n",
       "        text-align: right;\n",
       "    }\n",
       "</style>\n",
       "<table border=\"1\" class=\"dataframe\">\n",
       "  <thead>\n",
       "    <tr style=\"text-align: right;\">\n",
       "      <th></th>\n",
       "      <th>A1</th>\n",
       "      <th>A2</th>\n",
       "      <th>A3</th>\n",
       "      <th>A4</th>\n",
       "      <th>A5</th>\n",
       "      <th>A6</th>\n",
       "      <th>A7</th>\n",
       "      <th>A8</th>\n",
       "      <th>A9</th>\n",
       "      <th>A10</th>\n",
       "      <th>Age_Mons</th>\n",
       "      <th>Sex</th>\n",
       "      <th>Ethnicity</th>\n",
       "      <th>Jaundice</th>\n",
       "      <th>Family_mem_with_ASD</th>\n",
       "      <th>Class/ASD Traits</th>\n",
       "    </tr>\n",
       "  </thead>\n",
       "  <tbody>\n",
       "    <tr>\n",
       "      <th>0</th>\n",
       "      <td>0</td>\n",
       "      <td>0</td>\n",
       "      <td>0</td>\n",
       "      <td>0</td>\n",
       "      <td>0</td>\n",
       "      <td>0</td>\n",
       "      <td>1</td>\n",
       "      <td>1</td>\n",
       "      <td>0</td>\n",
       "      <td>1</td>\n",
       "      <td>28</td>\n",
       "      <td>0</td>\n",
       "      <td>8</td>\n",
       "      <td>1</td>\n",
       "      <td>0</td>\n",
       "      <td>0</td>\n",
       "    </tr>\n",
       "    <tr>\n",
       "      <th>1</th>\n",
       "      <td>1</td>\n",
       "      <td>1</td>\n",
       "      <td>0</td>\n",
       "      <td>0</td>\n",
       "      <td>0</td>\n",
       "      <td>1</td>\n",
       "      <td>1</td>\n",
       "      <td>0</td>\n",
       "      <td>0</td>\n",
       "      <td>0</td>\n",
       "      <td>36</td>\n",
       "      <td>1</td>\n",
       "      <td>5</td>\n",
       "      <td>1</td>\n",
       "      <td>0</td>\n",
       "      <td>1</td>\n",
       "    </tr>\n",
       "    <tr>\n",
       "      <th>2</th>\n",
       "      <td>1</td>\n",
       "      <td>0</td>\n",
       "      <td>0</td>\n",
       "      <td>0</td>\n",
       "      <td>0</td>\n",
       "      <td>0</td>\n",
       "      <td>1</td>\n",
       "      <td>1</td>\n",
       "      <td>0</td>\n",
       "      <td>1</td>\n",
       "      <td>36</td>\n",
       "      <td>1</td>\n",
       "      <td>8</td>\n",
       "      <td>1</td>\n",
       "      <td>0</td>\n",
       "      <td>1</td>\n",
       "    </tr>\n",
       "    <tr>\n",
       "      <th>3</th>\n",
       "      <td>1</td>\n",
       "      <td>1</td>\n",
       "      <td>1</td>\n",
       "      <td>1</td>\n",
       "      <td>1</td>\n",
       "      <td>1</td>\n",
       "      <td>1</td>\n",
       "      <td>1</td>\n",
       "      <td>1</td>\n",
       "      <td>1</td>\n",
       "      <td>24</td>\n",
       "      <td>1</td>\n",
       "      <td>0</td>\n",
       "      <td>0</td>\n",
       "      <td>0</td>\n",
       "      <td>1</td>\n",
       "    </tr>\n",
       "    <tr>\n",
       "      <th>4</th>\n",
       "      <td>1</td>\n",
       "      <td>1</td>\n",
       "      <td>0</td>\n",
       "      <td>1</td>\n",
       "      <td>1</td>\n",
       "      <td>1</td>\n",
       "      <td>1</td>\n",
       "      <td>1</td>\n",
       "      <td>1</td>\n",
       "      <td>1</td>\n",
       "      <td>20</td>\n",
       "      <td>0</td>\n",
       "      <td>5</td>\n",
       "      <td>0</td>\n",
       "      <td>1</td>\n",
       "      <td>1</td>\n",
       "    </tr>\n",
       "  </tbody>\n",
       "</table>\n",
       "</div>"
      ],
      "text/plain": [
       "   A1  A2  A3  A4  A5  A6  A7  A8  A9  A10  Age_Mons  Sex  Ethnicity  \\\n",
       "0   0   0   0   0   0   0   1   1   0    1        28    0          8   \n",
       "1   1   1   0   0   0   1   1   0   0    0        36    1          5   \n",
       "2   1   0   0   0   0   0   1   1   0    1        36    1          8   \n",
       "3   1   1   1   1   1   1   1   1   1    1        24    1          0   \n",
       "4   1   1   0   1   1   1   1   1   1    1        20    0          5   \n",
       "\n",
       "   Jaundice  Family_mem_with_ASD  Class/ASD Traits   \n",
       "0         1                    0                  0  \n",
       "1         1                    0                  1  \n",
       "2         1                    0                  1  \n",
       "3         0                    0                  1  \n",
       "4         0                    1                  1  "
      ]
     },
     "execution_count": 6,
     "metadata": {},
     "output_type": "execute_result"
    }
   ],
   "source": [
    "le = LabelEncoder()\n",
    "columns = ['Ethnicity','Family_mem_with_ASD','Class/ASD Traits ','Sex','Jaundice']\n",
    "for col in columns:\n",
    "    data[col] = le.fit_transform(data[col])\n",
    "data.head()"
   ]
  },
  {
   "cell_type": "markdown",
   "metadata": {},
   "source": [
    "### Split data into X & Y"
   ]
  },
  {
   "cell_type": "code",
   "execution_count": 7,
   "metadata": {},
   "outputs": [],
   "source": [
    "X = data.drop(['Class/ASD Traits '], axis = 1)\n",
    "Y = data['Class/ASD Traits ']"
   ]
  },
  {
   "cell_type": "markdown",
   "metadata": {},
   "source": [
    "### Split data into train - test set"
   ]
  },
  {
   "cell_type": "code",
   "execution_count": 8,
   "metadata": {},
   "outputs": [],
   "source": [
    "x_train, x_test, y_train, y_test = train_test_split(X, Y, test_size = 0.2, random_state = 7)"
   ]
  },
  {
   "cell_type": "markdown",
   "metadata": {},
   "source": [
    "# Logistic Regression"
   ]
  },
  {
   "cell_type": "markdown",
   "metadata": {},
   "source": [
    "### Initialize models"
   ]
  },
  {
   "cell_type": "code",
   "execution_count": 9,
   "metadata": {},
   "outputs": [
    {
     "data": {
      "text/plain": [
       "LogisticRegression(C=1.0, class_weight=None, dual=False, fit_intercept=True,\n",
       "          intercept_scaling=1, max_iter=100, multi_class='warn',\n",
       "          n_jobs=None, penalty='l2', random_state=None, solver='warn',\n",
       "          tol=0.0001, verbose=0, warm_start=False)"
      ]
     },
     "execution_count": 9,
     "metadata": {},
     "output_type": "execute_result"
    }
   ],
   "source": [
    "logmodel = LogisticRegression()\n",
    "logmodel.fit(x_train, y_train)"
   ]
  },
  {
   "cell_type": "markdown",
   "metadata": {},
   "source": [
    "### Evaluation metrics"
   ]
  },
  {
   "cell_type": "code",
   "execution_count": 19,
   "metadata": {},
   "outputs": [
    {
     "data": {
      "text/plain": [
       "0.9893238434163701"
      ]
     },
     "execution_count": 19,
     "metadata": {},
     "output_type": "execute_result"
    }
   ],
   "source": [
    "logmodel.score(x_train, y_train)"
   ]
  },
  {
   "cell_type": "code",
   "execution_count": 20,
   "metadata": {},
   "outputs": [
    {
     "data": {
      "text/plain": [
       "0.9715639810426541"
      ]
     },
     "execution_count": 20,
     "metadata": {},
     "output_type": "execute_result"
    }
   ],
   "source": [
    "logmodel.score(x_test, y_test)"
   ]
  },
  {
   "cell_type": "code",
   "execution_count": null,
   "metadata": {},
   "outputs": [],
   "source": []
  },
  {
   "cell_type": "markdown",
   "metadata": {},
   "source": [
    "### Creating Summary Table"
   ]
  },
  {
   "cell_type": "markdown",
   "metadata": {},
   "source": [
    "#### Find the intercept and coefficients"
   ]
  },
  {
   "cell_type": "code",
   "execution_count": 21,
   "metadata": {},
   "outputs": [
    {
     "data": {
      "text/plain": [
       "array([-3.37139183])"
      ]
     },
     "execution_count": 21,
     "metadata": {},
     "output_type": "execute_result"
    }
   ],
   "source": [
    "logmodel.intercept_"
   ]
  },
  {
   "cell_type": "code",
   "execution_count": 22,
   "metadata": {},
   "outputs": [
    {
     "data": {
      "text/plain": [
       "array([[ 1.94256662,  2.61569425,  1.75426844,  2.01204493,  1.81842255,\n",
       "         2.14192351,  2.02282381,  2.52951468,  2.7222153 ,  1.78158316,\n",
       "        -0.0561083 , -0.12934953, -0.32711568,  0.31666977, -0.10667457]])"
      ]
     },
     "execution_count": 22,
     "metadata": {},
     "output_type": "execute_result"
    }
   ],
   "source": [
    "logmodel.coef_"
   ]
  },
  {
   "cell_type": "code",
   "execution_count": 26,
   "metadata": {},
   "outputs": [
    {
     "data": {
      "text/plain": [
       "array(['A1', 'A2', 'A3', 'A4', 'A5', 'A6', 'A7', 'A8', 'A9', 'A10',\n",
       "       'Age_Mons', 'Sex', 'Ethnicity', 'Jaundice', 'Family_mem_with_ASD'],\n",
       "      dtype=object)"
      ]
     },
     "execution_count": 26,
     "metadata": {},
     "output_type": "execute_result"
    }
   ],
   "source": [
    "feature_name = X.columns.values\n",
    "feature_name"
   ]
  },
  {
   "cell_type": "code",
   "execution_count": 27,
   "metadata": {},
   "outputs": [],
   "source": [
    "summary_table = pd.DataFrame(columns=['feature_name'], data = feature_name)\n",
    "summary_table['Coefficient'] = np.transpose(logmodel.coef_)"
   ]
  },
  {
   "cell_type": "code",
   "execution_count": 28,
   "metadata": {},
   "outputs": [
    {
     "data": {
      "text/html": [
       "<div>\n",
       "<style scoped>\n",
       "    .dataframe tbody tr th:only-of-type {\n",
       "        vertical-align: middle;\n",
       "    }\n",
       "\n",
       "    .dataframe tbody tr th {\n",
       "        vertical-align: top;\n",
       "    }\n",
       "\n",
       "    .dataframe thead th {\n",
       "        text-align: right;\n",
       "    }\n",
       "</style>\n",
       "<table border=\"1\" class=\"dataframe\">\n",
       "  <thead>\n",
       "    <tr style=\"text-align: right;\">\n",
       "      <th></th>\n",
       "      <th>feature_name</th>\n",
       "      <th>Coefficient</th>\n",
       "    </tr>\n",
       "  </thead>\n",
       "  <tbody>\n",
       "    <tr>\n",
       "      <th>0</th>\n",
       "      <td>A1</td>\n",
       "      <td>1.942567</td>\n",
       "    </tr>\n",
       "    <tr>\n",
       "      <th>1</th>\n",
       "      <td>A2</td>\n",
       "      <td>2.615694</td>\n",
       "    </tr>\n",
       "    <tr>\n",
       "      <th>2</th>\n",
       "      <td>A3</td>\n",
       "      <td>1.754268</td>\n",
       "    </tr>\n",
       "    <tr>\n",
       "      <th>3</th>\n",
       "      <td>A4</td>\n",
       "      <td>2.012045</td>\n",
       "    </tr>\n",
       "    <tr>\n",
       "      <th>4</th>\n",
       "      <td>A5</td>\n",
       "      <td>1.818423</td>\n",
       "    </tr>\n",
       "    <tr>\n",
       "      <th>5</th>\n",
       "      <td>A6</td>\n",
       "      <td>2.141924</td>\n",
       "    </tr>\n",
       "    <tr>\n",
       "      <th>6</th>\n",
       "      <td>A7</td>\n",
       "      <td>2.022824</td>\n",
       "    </tr>\n",
       "    <tr>\n",
       "      <th>7</th>\n",
       "      <td>A8</td>\n",
       "      <td>2.529515</td>\n",
       "    </tr>\n",
       "    <tr>\n",
       "      <th>8</th>\n",
       "      <td>A9</td>\n",
       "      <td>2.722215</td>\n",
       "    </tr>\n",
       "    <tr>\n",
       "      <th>9</th>\n",
       "      <td>A10</td>\n",
       "      <td>1.781583</td>\n",
       "    </tr>\n",
       "    <tr>\n",
       "      <th>10</th>\n",
       "      <td>Age_Mons</td>\n",
       "      <td>-0.056108</td>\n",
       "    </tr>\n",
       "    <tr>\n",
       "      <th>11</th>\n",
       "      <td>Sex</td>\n",
       "      <td>-0.129350</td>\n",
       "    </tr>\n",
       "    <tr>\n",
       "      <th>12</th>\n",
       "      <td>Ethnicity</td>\n",
       "      <td>-0.327116</td>\n",
       "    </tr>\n",
       "    <tr>\n",
       "      <th>13</th>\n",
       "      <td>Jaundice</td>\n",
       "      <td>0.316670</td>\n",
       "    </tr>\n",
       "    <tr>\n",
       "      <th>14</th>\n",
       "      <td>Family_mem_with_ASD</td>\n",
       "      <td>-0.106675</td>\n",
       "    </tr>\n",
       "  </tbody>\n",
       "</table>\n",
       "</div>"
      ],
      "text/plain": [
       "           feature_name  Coefficient\n",
       "0                    A1     1.942567\n",
       "1                    A2     2.615694\n",
       "2                    A3     1.754268\n",
       "3                    A4     2.012045\n",
       "4                    A5     1.818423\n",
       "5                    A6     2.141924\n",
       "6                    A7     2.022824\n",
       "7                    A8     2.529515\n",
       "8                    A9     2.722215\n",
       "9                   A10     1.781583\n",
       "10             Age_Mons    -0.056108\n",
       "11                  Sex    -0.129350\n",
       "12            Ethnicity    -0.327116\n",
       "13             Jaundice     0.316670\n",
       "14  Family_mem_with_ASD    -0.106675"
      ]
     },
     "execution_count": 28,
     "metadata": {},
     "output_type": "execute_result"
    }
   ],
   "source": [
    "summary_table"
   ]
  },
  {
   "cell_type": "code",
   "execution_count": 30,
   "metadata": {},
   "outputs": [
    {
     "data": {
      "text/html": [
       "<div>\n",
       "<style scoped>\n",
       "    .dataframe tbody tr th:only-of-type {\n",
       "        vertical-align: middle;\n",
       "    }\n",
       "\n",
       "    .dataframe tbody tr th {\n",
       "        vertical-align: top;\n",
       "    }\n",
       "\n",
       "    .dataframe thead th {\n",
       "        text-align: right;\n",
       "    }\n",
       "</style>\n",
       "<table border=\"1\" class=\"dataframe\">\n",
       "  <thead>\n",
       "    <tr style=\"text-align: right;\">\n",
       "      <th></th>\n",
       "      <th>feature_name</th>\n",
       "      <th>Coefficient</th>\n",
       "    </tr>\n",
       "  </thead>\n",
       "  <tbody>\n",
       "    <tr>\n",
       "      <th>0</th>\n",
       "      <td>Intercept</td>\n",
       "      <td>-3.371392</td>\n",
       "    </tr>\n",
       "    <tr>\n",
       "      <th>2</th>\n",
       "      <td>A1</td>\n",
       "      <td>1.942567</td>\n",
       "    </tr>\n",
       "    <tr>\n",
       "      <th>3</th>\n",
       "      <td>A2</td>\n",
       "      <td>2.615694</td>\n",
       "    </tr>\n",
       "    <tr>\n",
       "      <th>4</th>\n",
       "      <td>A3</td>\n",
       "      <td>1.754268</td>\n",
       "    </tr>\n",
       "    <tr>\n",
       "      <th>5</th>\n",
       "      <td>A4</td>\n",
       "      <td>2.012045</td>\n",
       "    </tr>\n",
       "    <tr>\n",
       "      <th>6</th>\n",
       "      <td>A5</td>\n",
       "      <td>1.818423</td>\n",
       "    </tr>\n",
       "    <tr>\n",
       "      <th>7</th>\n",
       "      <td>A6</td>\n",
       "      <td>2.141924</td>\n",
       "    </tr>\n",
       "    <tr>\n",
       "      <th>8</th>\n",
       "      <td>A7</td>\n",
       "      <td>2.022824</td>\n",
       "    </tr>\n",
       "    <tr>\n",
       "      <th>9</th>\n",
       "      <td>A8</td>\n",
       "      <td>2.529515</td>\n",
       "    </tr>\n",
       "    <tr>\n",
       "      <th>10</th>\n",
       "      <td>A9</td>\n",
       "      <td>2.722215</td>\n",
       "    </tr>\n",
       "    <tr>\n",
       "      <th>11</th>\n",
       "      <td>A10</td>\n",
       "      <td>1.781583</td>\n",
       "    </tr>\n",
       "    <tr>\n",
       "      <th>12</th>\n",
       "      <td>Age_Mons</td>\n",
       "      <td>-0.056108</td>\n",
       "    </tr>\n",
       "    <tr>\n",
       "      <th>13</th>\n",
       "      <td>Sex</td>\n",
       "      <td>-0.129350</td>\n",
       "    </tr>\n",
       "    <tr>\n",
       "      <th>14</th>\n",
       "      <td>Ethnicity</td>\n",
       "      <td>-0.327116</td>\n",
       "    </tr>\n",
       "    <tr>\n",
       "      <th>15</th>\n",
       "      <td>Jaundice</td>\n",
       "      <td>0.316670</td>\n",
       "    </tr>\n",
       "    <tr>\n",
       "      <th>16</th>\n",
       "      <td>Family_mem_with_ASD</td>\n",
       "      <td>-0.106675</td>\n",
       "    </tr>\n",
       "  </tbody>\n",
       "</table>\n",
       "</div>"
      ],
      "text/plain": [
       "           feature_name  Coefficient\n",
       "0             Intercept    -3.371392\n",
       "2                    A1     1.942567\n",
       "3                    A2     2.615694\n",
       "4                    A3     1.754268\n",
       "5                    A4     2.012045\n",
       "6                    A5     1.818423\n",
       "7                    A6     2.141924\n",
       "8                    A7     2.022824\n",
       "9                    A8     2.529515\n",
       "10                   A9     2.722215\n",
       "11                  A10     1.781583\n",
       "12             Age_Mons    -0.056108\n",
       "13                  Sex    -0.129350\n",
       "14            Ethnicity    -0.327116\n",
       "15             Jaundice     0.316670\n",
       "16  Family_mem_with_ASD    -0.106675"
      ]
     },
     "execution_count": 30,
     "metadata": {},
     "output_type": "execute_result"
    }
   ],
   "source": [
    "summary_table.index = summary_table.index + 1\n",
    "summary_table.loc[0] = ['Intercept', logmodel.intercept_[0]]\n",
    "summary_table = summary_table.sort_index()\n",
    "summary_table"
   ]
  },
  {
   "cell_type": "code",
   "execution_count": 31,
   "metadata": {},
   "outputs": [
    {
     "data": {
      "text/html": [
       "<div>\n",
       "<style scoped>\n",
       "    .dataframe tbody tr th:only-of-type {\n",
       "        vertical-align: middle;\n",
       "    }\n",
       "\n",
       "    .dataframe tbody tr th {\n",
       "        vertical-align: top;\n",
       "    }\n",
       "\n",
       "    .dataframe thead th {\n",
       "        text-align: right;\n",
       "    }\n",
       "</style>\n",
       "<table border=\"1\" class=\"dataframe\">\n",
       "  <thead>\n",
       "    <tr style=\"text-align: right;\">\n",
       "      <th></th>\n",
       "      <th>feature_name</th>\n",
       "      <th>Coefficient</th>\n",
       "      <th>Odds_ratio</th>\n",
       "    </tr>\n",
       "  </thead>\n",
       "  <tbody>\n",
       "    <tr>\n",
       "      <th>0</th>\n",
       "      <td>Intercept</td>\n",
       "      <td>-3.371392</td>\n",
       "      <td>0.034342</td>\n",
       "    </tr>\n",
       "    <tr>\n",
       "      <th>2</th>\n",
       "      <td>A1</td>\n",
       "      <td>1.942567</td>\n",
       "      <td>6.976634</td>\n",
       "    </tr>\n",
       "    <tr>\n",
       "      <th>3</th>\n",
       "      <td>A2</td>\n",
       "      <td>2.615694</td>\n",
       "      <td>13.676708</td>\n",
       "    </tr>\n",
       "    <tr>\n",
       "      <th>4</th>\n",
       "      <td>A3</td>\n",
       "      <td>1.754268</td>\n",
       "      <td>5.779218</td>\n",
       "    </tr>\n",
       "    <tr>\n",
       "      <th>5</th>\n",
       "      <td>A4</td>\n",
       "      <td>2.012045</td>\n",
       "      <td>7.478595</td>\n",
       "    </tr>\n",
       "    <tr>\n",
       "      <th>6</th>\n",
       "      <td>A5</td>\n",
       "      <td>1.818423</td>\n",
       "      <td>6.162130</td>\n",
       "    </tr>\n",
       "    <tr>\n",
       "      <th>7</th>\n",
       "      <td>A6</td>\n",
       "      <td>2.141924</td>\n",
       "      <td>8.515802</td>\n",
       "    </tr>\n",
       "    <tr>\n",
       "      <th>8</th>\n",
       "      <td>A7</td>\n",
       "      <td>2.022824</td>\n",
       "      <td>7.559642</td>\n",
       "    </tr>\n",
       "    <tr>\n",
       "      <th>9</th>\n",
       "      <td>A8</td>\n",
       "      <td>2.529515</td>\n",
       "      <td>12.547415</td>\n",
       "    </tr>\n",
       "    <tr>\n",
       "      <th>10</th>\n",
       "      <td>A9</td>\n",
       "      <td>2.722215</td>\n",
       "      <td>15.213988</td>\n",
       "    </tr>\n",
       "    <tr>\n",
       "      <th>11</th>\n",
       "      <td>A10</td>\n",
       "      <td>1.781583</td>\n",
       "      <td>5.939252</td>\n",
       "    </tr>\n",
       "    <tr>\n",
       "      <th>12</th>\n",
       "      <td>Age_Mons</td>\n",
       "      <td>-0.056108</td>\n",
       "      <td>0.945437</td>\n",
       "    </tr>\n",
       "    <tr>\n",
       "      <th>13</th>\n",
       "      <td>Sex</td>\n",
       "      <td>-0.129350</td>\n",
       "      <td>0.878667</td>\n",
       "    </tr>\n",
       "    <tr>\n",
       "      <th>14</th>\n",
       "      <td>Ethnicity</td>\n",
       "      <td>-0.327116</td>\n",
       "      <td>0.721000</td>\n",
       "    </tr>\n",
       "    <tr>\n",
       "      <th>15</th>\n",
       "      <td>Jaundice</td>\n",
       "      <td>0.316670</td>\n",
       "      <td>1.372549</td>\n",
       "    </tr>\n",
       "    <tr>\n",
       "      <th>16</th>\n",
       "      <td>Family_mem_with_ASD</td>\n",
       "      <td>-0.106675</td>\n",
       "      <td>0.898818</td>\n",
       "    </tr>\n",
       "  </tbody>\n",
       "</table>\n",
       "</div>"
      ],
      "text/plain": [
       "           feature_name  Coefficient  Odds_ratio\n",
       "0             Intercept    -3.371392    0.034342\n",
       "2                    A1     1.942567    6.976634\n",
       "3                    A2     2.615694   13.676708\n",
       "4                    A3     1.754268    5.779218\n",
       "5                    A4     2.012045    7.478595\n",
       "6                    A5     1.818423    6.162130\n",
       "7                    A6     2.141924    8.515802\n",
       "8                    A7     2.022824    7.559642\n",
       "9                    A8     2.529515   12.547415\n",
       "10                   A9     2.722215   15.213988\n",
       "11                  A10     1.781583    5.939252\n",
       "12             Age_Mons    -0.056108    0.945437\n",
       "13                  Sex    -0.129350    0.878667\n",
       "14            Ethnicity    -0.327116    0.721000\n",
       "15             Jaundice     0.316670    1.372549\n",
       "16  Family_mem_with_ASD    -0.106675    0.898818"
      ]
     },
     "execution_count": 31,
     "metadata": {},
     "output_type": "execute_result"
    }
   ],
   "source": [
    "summary_table['Odds_ratio'] = np.exp(summary_table.Coefficient)\n",
    "summary_table"
   ]
  },
  {
   "cell_type": "code",
   "execution_count": 32,
   "metadata": {},
   "outputs": [
    {
     "data": {
      "text/html": [
       "<div>\n",
       "<style scoped>\n",
       "    .dataframe tbody tr th:only-of-type {\n",
       "        vertical-align: middle;\n",
       "    }\n",
       "\n",
       "    .dataframe tbody tr th {\n",
       "        vertical-align: top;\n",
       "    }\n",
       "\n",
       "    .dataframe thead th {\n",
       "        text-align: right;\n",
       "    }\n",
       "</style>\n",
       "<table border=\"1\" class=\"dataframe\">\n",
       "  <thead>\n",
       "    <tr style=\"text-align: right;\">\n",
       "      <th></th>\n",
       "      <th>feature_name</th>\n",
       "      <th>Coefficient</th>\n",
       "      <th>Odds_ratio</th>\n",
       "    </tr>\n",
       "  </thead>\n",
       "  <tbody>\n",
       "    <tr>\n",
       "      <th>10</th>\n",
       "      <td>A9</td>\n",
       "      <td>2.722215</td>\n",
       "      <td>15.213988</td>\n",
       "    </tr>\n",
       "    <tr>\n",
       "      <th>3</th>\n",
       "      <td>A2</td>\n",
       "      <td>2.615694</td>\n",
       "      <td>13.676708</td>\n",
       "    </tr>\n",
       "    <tr>\n",
       "      <th>9</th>\n",
       "      <td>A8</td>\n",
       "      <td>2.529515</td>\n",
       "      <td>12.547415</td>\n",
       "    </tr>\n",
       "    <tr>\n",
       "      <th>7</th>\n",
       "      <td>A6</td>\n",
       "      <td>2.141924</td>\n",
       "      <td>8.515802</td>\n",
       "    </tr>\n",
       "    <tr>\n",
       "      <th>8</th>\n",
       "      <td>A7</td>\n",
       "      <td>2.022824</td>\n",
       "      <td>7.559642</td>\n",
       "    </tr>\n",
       "    <tr>\n",
       "      <th>5</th>\n",
       "      <td>A4</td>\n",
       "      <td>2.012045</td>\n",
       "      <td>7.478595</td>\n",
       "    </tr>\n",
       "    <tr>\n",
       "      <th>2</th>\n",
       "      <td>A1</td>\n",
       "      <td>1.942567</td>\n",
       "      <td>6.976634</td>\n",
       "    </tr>\n",
       "    <tr>\n",
       "      <th>6</th>\n",
       "      <td>A5</td>\n",
       "      <td>1.818423</td>\n",
       "      <td>6.162130</td>\n",
       "    </tr>\n",
       "    <tr>\n",
       "      <th>11</th>\n",
       "      <td>A10</td>\n",
       "      <td>1.781583</td>\n",
       "      <td>5.939252</td>\n",
       "    </tr>\n",
       "    <tr>\n",
       "      <th>4</th>\n",
       "      <td>A3</td>\n",
       "      <td>1.754268</td>\n",
       "      <td>5.779218</td>\n",
       "    </tr>\n",
       "    <tr>\n",
       "      <th>15</th>\n",
       "      <td>Jaundice</td>\n",
       "      <td>0.316670</td>\n",
       "      <td>1.372549</td>\n",
       "    </tr>\n",
       "    <tr>\n",
       "      <th>12</th>\n",
       "      <td>Age_Mons</td>\n",
       "      <td>-0.056108</td>\n",
       "      <td>0.945437</td>\n",
       "    </tr>\n",
       "    <tr>\n",
       "      <th>16</th>\n",
       "      <td>Family_mem_with_ASD</td>\n",
       "      <td>-0.106675</td>\n",
       "      <td>0.898818</td>\n",
       "    </tr>\n",
       "    <tr>\n",
       "      <th>13</th>\n",
       "      <td>Sex</td>\n",
       "      <td>-0.129350</td>\n",
       "      <td>0.878667</td>\n",
       "    </tr>\n",
       "    <tr>\n",
       "      <th>14</th>\n",
       "      <td>Ethnicity</td>\n",
       "      <td>-0.327116</td>\n",
       "      <td>0.721000</td>\n",
       "    </tr>\n",
       "    <tr>\n",
       "      <th>0</th>\n",
       "      <td>Intercept</td>\n",
       "      <td>-3.371392</td>\n",
       "      <td>0.034342</td>\n",
       "    </tr>\n",
       "  </tbody>\n",
       "</table>\n",
       "</div>"
      ],
      "text/plain": [
       "           feature_name  Coefficient  Odds_ratio\n",
       "10                   A9     2.722215   15.213988\n",
       "3                    A2     2.615694   13.676708\n",
       "9                    A8     2.529515   12.547415\n",
       "7                    A6     2.141924    8.515802\n",
       "8                    A7     2.022824    7.559642\n",
       "5                    A4     2.012045    7.478595\n",
       "2                    A1     1.942567    6.976634\n",
       "6                    A5     1.818423    6.162130\n",
       "11                  A10     1.781583    5.939252\n",
       "4                    A3     1.754268    5.779218\n",
       "15             Jaundice     0.316670    1.372549\n",
       "12             Age_Mons    -0.056108    0.945437\n",
       "16  Family_mem_with_ASD    -0.106675    0.898818\n",
       "13                  Sex    -0.129350    0.878667\n",
       "14            Ethnicity    -0.327116    0.721000\n",
       "0             Intercept    -3.371392    0.034342"
      ]
     },
     "execution_count": 32,
     "metadata": {},
     "output_type": "execute_result"
    }
   ],
   "source": [
    "summary_table.sort_values('Odds_ratio', ascending = False)"
   ]
  },
  {
   "cell_type": "code",
   "execution_count": 38,
   "metadata": {},
   "outputs": [],
   "source": [
    "pred_log = logmodel.predict(x_test)"
   ]
  },
  {
   "cell_type": "code",
   "execution_count": 39,
   "metadata": {},
   "outputs": [
    {
     "name": "stdout",
     "output_type": "stream",
     "text": [
      "[[ 57   5]\n",
      " [  1 148]]\n",
      "              precision    recall  f1-score   support\n",
      "\n",
      "           0       0.98      0.92      0.95        62\n",
      "           1       0.97      0.99      0.98       149\n",
      "\n",
      "   micro avg       0.97      0.97      0.97       211\n",
      "   macro avg       0.98      0.96      0.97       211\n",
      "weighted avg       0.97      0.97      0.97       211\n",
      "\n"
     ]
    }
   ],
   "source": [
    "from sklearn.metrics import classification_report, confusion_matrix\n",
    "print(confusion_matrix(y_test, pred_log))\n",
    "print(classification_report(y_test, pred_log))"
   ]
  },
  {
   "cell_type": "markdown",
   "metadata": {},
   "source": [
    "### Interpreting Coefficients "
   ]
  },
  {
   "cell_type": "code",
   "execution_count": null,
   "metadata": {},
   "outputs": [],
   "source": []
  },
  {
   "cell_type": "markdown",
   "metadata": {},
   "source": [
    "### Backward elimination"
   ]
  },
  {
   "cell_type": "markdown",
   "metadata": {},
   "source": [
    "The idea is that we can simplify our model by removing all features which have close to no contribution to the model. When we have the p-values, we get rid of all coefficients with p-values > 0.05"
   ]
  },
  {
   "cell_type": "code",
   "execution_count": null,
   "metadata": {},
   "outputs": [],
   "source": []
  },
  {
   "cell_type": "markdown",
   "metadata": {},
   "source": [
    "### Testing the model"
   ]
  },
  {
   "cell_type": "code",
   "execution_count": 34,
   "metadata": {},
   "outputs": [
    {
     "data": {
      "text/plain": [
       "array([[2.93222281e-01, 7.06777719e-01],\n",
       "       [9.92460518e-01, 7.53948164e-03],\n",
       "       [9.89573445e-01, 1.04265545e-02],\n",
       "       [3.64689509e-05, 9.99963531e-01],\n",
       "       [3.75946866e-01, 6.24053134e-01],\n",
       "       [2.04580953e-07, 9.99999795e-01],\n",
       "       [1.57420117e-03, 9.98425799e-01],\n",
       "       [5.47060833e-05, 9.99945294e-01],\n",
       "       [8.83244223e-04, 9.99116756e-01],\n",
       "       [3.96141738e-06, 9.99996039e-01],\n",
       "       [3.72872158e-07, 9.99999627e-01],\n",
       "       [1.18057149e-06, 9.99998819e-01],\n",
       "       [5.54572594e-01, 4.45427406e-01],\n",
       "       [2.42076561e-03, 9.97579234e-01],\n",
       "       [5.01685785e-04, 9.99498314e-01],\n",
       "       [5.67320127e-05, 9.99943268e-01],\n",
       "       [5.30259179e-01, 4.69740821e-01],\n",
       "       [9.14243204e-05, 9.99908576e-01],\n",
       "       [6.62455443e-04, 9.99337545e-01],\n",
       "       [4.25795145e-05, 9.99957420e-01],\n",
       "       [6.98459283e-05, 9.99930154e-01],\n",
       "       [8.38257252e-01, 1.61742748e-01],\n",
       "       [9.95174353e-01, 4.82564668e-03],\n",
       "       [2.69097429e-03, 9.97309026e-01],\n",
       "       [5.13843381e-01, 4.86156619e-01],\n",
       "       [7.86498894e-03, 9.92135011e-01],\n",
       "       [5.80002389e-01, 4.19997611e-01],\n",
       "       [1.32963186e-06, 9.99998670e-01],\n",
       "       [5.06455036e-05, 9.99949354e-01],\n",
       "       [4.80256171e-03, 9.95197438e-01],\n",
       "       [9.96485868e-01, 3.51413206e-03],\n",
       "       [4.21502257e-07, 9.99999578e-01],\n",
       "       [4.29496228e-03, 9.95705038e-01],\n",
       "       [8.75727875e-01, 1.24272125e-01],\n",
       "       [1.18503771e-02, 9.88149623e-01],\n",
       "       [1.51064537e-01, 8.48935463e-01],\n",
       "       [9.95882697e-01, 4.11730268e-03],\n",
       "       [1.59271060e-02, 9.84072894e-01],\n",
       "       [1.71391500e-03, 9.98286085e-01],\n",
       "       [9.93369242e-01, 6.63075786e-03],\n",
       "       [1.28721391e-04, 9.99871279e-01],\n",
       "       [9.95499070e-01, 4.50093044e-03],\n",
       "       [8.82932424e-01, 1.17067576e-01],\n",
       "       [7.60454445e-02, 9.23954555e-01],\n",
       "       [3.30799678e-01, 6.69200322e-01],\n",
       "       [2.08116448e-02, 9.79188355e-01],\n",
       "       [2.70884004e-03, 9.97291160e-01],\n",
       "       [8.44794066e-01, 1.55205934e-01],\n",
       "       [1.51865213e-01, 8.48134787e-01],\n",
       "       [9.37412786e-01, 6.25872136e-02],\n",
       "       [1.75426420e-04, 9.99824574e-01],\n",
       "       [1.46868434e-03, 9.98531316e-01],\n",
       "       [9.93499558e-01, 6.50044234e-03],\n",
       "       [9.66396138e-01, 3.36038616e-02],\n",
       "       [9.86068334e-01, 1.39316662e-02],\n",
       "       [3.34222348e-02, 9.66577765e-01],\n",
       "       [2.08724405e-02, 9.79127560e-01],\n",
       "       [3.36585005e-04, 9.99663415e-01],\n",
       "       [6.82201971e-06, 9.99993178e-01],\n",
       "       [2.61942864e-01, 7.38057136e-01],\n",
       "       [4.63868911e-03, 9.95361311e-01],\n",
       "       [9.86751229e-01, 1.32487710e-02],\n",
       "       [1.06436464e-03, 9.98935635e-01],\n",
       "       [2.39211219e-04, 9.99760789e-01],\n",
       "       [5.04497539e-02, 9.49550246e-01],\n",
       "       [4.79639635e-03, 9.95203604e-01],\n",
       "       [6.69316875e-06, 9.99993307e-01],\n",
       "       [9.90965467e-01, 9.03453289e-03],\n",
       "       [1.54573423e-04, 9.99845427e-01],\n",
       "       [1.13143629e-05, 9.99988686e-01],\n",
       "       [6.91198227e-07, 9.99999309e-01],\n",
       "       [3.35915930e-04, 9.99664084e-01],\n",
       "       [6.85440551e-03, 9.93145594e-01],\n",
       "       [9.49873301e-01, 5.01266991e-02],\n",
       "       [3.74354768e-04, 9.99625645e-01],\n",
       "       [3.49310678e-01, 6.50689322e-01],\n",
       "       [1.59126782e-06, 9.99998409e-01],\n",
       "       [2.59990592e-01, 7.40009408e-01],\n",
       "       [5.55388132e-05, 9.99944461e-01],\n",
       "       [8.82431330e-01, 1.17568670e-01],\n",
       "       [1.62608386e-03, 9.98373916e-01],\n",
       "       [6.55113735e-06, 9.99993449e-01],\n",
       "       [8.20379844e-01, 1.79620156e-01],\n",
       "       [4.61527331e-06, 9.99995385e-01],\n",
       "       [9.53589912e-01, 4.64100879e-02],\n",
       "       [6.36452842e-01, 3.63547158e-01],\n",
       "       [1.47708050e-05, 9.99985229e-01],\n",
       "       [7.57686630e-05, 9.99924231e-01],\n",
       "       [9.95410003e-01, 4.58999699e-03],\n",
       "       [1.79319322e-04, 9.99820681e-01],\n",
       "       [7.24619128e-01, 2.75380872e-01],\n",
       "       [4.01653083e-03, 9.95983469e-01],\n",
       "       [1.81097486e-02, 9.81890251e-01],\n",
       "       [9.99202749e-01, 7.97250716e-04],\n",
       "       [8.23100564e-01, 1.76899436e-01],\n",
       "       [9.51447798e-01, 4.85522017e-02],\n",
       "       [3.16369752e-04, 9.99683630e-01],\n",
       "       [2.31294765e-03, 9.97687052e-01],\n",
       "       [4.00126966e-07, 9.99999600e-01],\n",
       "       [1.87149409e-06, 9.99998129e-01],\n",
       "       [4.75391125e-03, 9.95246089e-01],\n",
       "       [1.10882282e-02, 9.88911772e-01],\n",
       "       [5.42864993e-07, 9.99999457e-01],\n",
       "       [8.29618444e-01, 1.70381556e-01],\n",
       "       [2.64596087e-04, 9.99735404e-01],\n",
       "       [1.13637709e-05, 9.99988636e-01],\n",
       "       [2.29062600e-02, 9.77093740e-01],\n",
       "       [1.20180909e-05, 9.99987982e-01],\n",
       "       [1.64874542e-01, 8.35125458e-01],\n",
       "       [4.66691642e-07, 9.99999533e-01],\n",
       "       [3.99457227e-06, 9.99996005e-01],\n",
       "       [8.64714016e-01, 1.35285984e-01],\n",
       "       [9.99348067e-01, 6.51933000e-04],\n",
       "       [7.24712118e-06, 9.99992753e-01],\n",
       "       [8.52110449e-01, 1.47889551e-01],\n",
       "       [1.00371346e-01, 8.99628654e-01],\n",
       "       [9.92868964e-01, 7.13103646e-03],\n",
       "       [9.83919098e-01, 1.60809020e-02],\n",
       "       [9.96277145e-01, 3.72285486e-03],\n",
       "       [2.67428853e-06, 9.99997326e-01],\n",
       "       [2.59503202e-01, 7.40496798e-01],\n",
       "       [2.76781690e-03, 9.97232183e-01],\n",
       "       [3.33415785e-04, 9.99666584e-01],\n",
       "       [4.81264422e-01, 5.18735578e-01],\n",
       "       [1.18308818e-01, 8.81691182e-01],\n",
       "       [2.82461234e-07, 9.99999718e-01],\n",
       "       [1.01595640e-05, 9.99989840e-01],\n",
       "       [5.19619101e-04, 9.99480381e-01],\n",
       "       [1.19933240e-04, 9.99880067e-01],\n",
       "       [3.30408373e-02, 9.66959163e-01],\n",
       "       [4.00585430e-03, 9.95994146e-01],\n",
       "       [6.01609492e-03, 9.93983905e-01],\n",
       "       [1.52756892e-01, 8.47243108e-01],\n",
       "       [2.21929187e-06, 9.99997781e-01],\n",
       "       [2.64299783e-04, 9.99735700e-01],\n",
       "       [6.86862611e-08, 9.99999931e-01],\n",
       "       [3.72267272e-04, 9.99627733e-01],\n",
       "       [4.92599480e-05, 9.99950740e-01],\n",
       "       [3.49397723e-05, 9.99965060e-01],\n",
       "       [1.62120636e-04, 9.99837879e-01],\n",
       "       [5.34169613e-04, 9.99465830e-01],\n",
       "       [1.64949493e-01, 8.35050507e-01],\n",
       "       [2.34238546e-06, 9.99997658e-01],\n",
       "       [6.33615892e-01, 3.66384108e-01],\n",
       "       [6.44596848e-05, 9.99935540e-01],\n",
       "       [3.54698404e-05, 9.99964530e-01],\n",
       "       [1.45198971e-05, 9.99985480e-01],\n",
       "       [2.25036143e-07, 9.99999775e-01],\n",
       "       [5.14090791e-04, 9.99485909e-01],\n",
       "       [5.50916476e-05, 9.99944908e-01],\n",
       "       [1.16562278e-01, 8.83437722e-01],\n",
       "       [9.97842693e-01, 2.15730664e-03],\n",
       "       [3.80320089e-01, 6.19679911e-01],\n",
       "       [4.06655489e-04, 9.99593345e-01],\n",
       "       [3.51226793e-01, 6.48773207e-01],\n",
       "       [8.03623918e-01, 1.96376082e-01],\n",
       "       [8.29095914e-02, 9.17090409e-01],\n",
       "       [5.38220594e-01, 4.61779406e-01],\n",
       "       [9.94036153e-01, 5.96384660e-03],\n",
       "       [2.63640754e-03, 9.97363592e-01],\n",
       "       [2.27045247e-01, 7.72954753e-01],\n",
       "       [1.85842268e-01, 8.14157732e-01],\n",
       "       [9.59877350e-01, 4.01226503e-02],\n",
       "       [5.75377110e-07, 9.99999425e-01],\n",
       "       [3.74699864e-04, 9.99625300e-01],\n",
       "       [9.55286512e-01, 4.47134876e-02],\n",
       "       [7.92754903e-05, 9.99920725e-01],\n",
       "       [5.17993050e-01, 4.82006950e-01],\n",
       "       [7.68502967e-04, 9.99231497e-01],\n",
       "       [2.18643953e-03, 9.97813560e-01],\n",
       "       [4.84580316e-02, 9.51541968e-01],\n",
       "       [4.29795791e-04, 9.99570204e-01],\n",
       "       [9.78693794e-01, 2.13062061e-02],\n",
       "       [1.18806899e-06, 9.99998812e-01],\n",
       "       [4.86957476e-02, 9.51304252e-01],\n",
       "       [2.37466165e-03, 9.97625338e-01],\n",
       "       [2.36940517e-03, 9.97630595e-01],\n",
       "       [9.36469565e-08, 9.99999906e-01],\n",
       "       [5.82716481e-01, 4.17283519e-01],\n",
       "       [1.18572119e-03, 9.98814279e-01],\n",
       "       [9.50250260e-01, 4.97497403e-02],\n",
       "       [9.95499070e-01, 4.50093044e-03],\n",
       "       [4.16863042e-04, 9.99583137e-01],\n",
       "       [1.69090054e-03, 9.98309099e-01],\n",
       "       [3.27608370e-02, 9.67239163e-01],\n",
       "       [9.90238235e-01, 9.76176499e-03],\n",
       "       [2.56098896e-02, 9.74390110e-01],\n",
       "       [3.72388530e-03, 9.96276115e-01],\n",
       "       [5.23365434e-03, 9.94766346e-01],\n",
       "       [1.99196250e-05, 9.99980080e-01],\n",
       "       [6.21097035e-01, 3.78902965e-01],\n",
       "       [1.02240265e-03, 9.98977597e-01],\n",
       "       [2.74170033e-01, 7.25829967e-01],\n",
       "       [8.58032421e-01, 1.41967579e-01],\n",
       "       [1.14734311e-04, 9.99885266e-01],\n",
       "       [9.98920246e-01, 1.07975382e-03],\n",
       "       [5.71280892e-01, 4.28719108e-01],\n",
       "       [9.97010394e-01, 2.98960644e-03],\n",
       "       [5.06944485e-02, 9.49305552e-01],\n",
       "       [2.60428408e-01, 7.39571592e-01],\n",
       "       [4.91804359e-01, 5.08195641e-01],\n",
       "       [9.98920246e-01, 1.07975382e-03],\n",
       "       [8.50224236e-01, 1.49775764e-01],\n",
       "       [1.08094149e-03, 9.98919059e-01],\n",
       "       [1.90696854e-05, 9.99980930e-01],\n",
       "       [2.65240903e-01, 7.34759097e-01],\n",
       "       [9.73568316e-06, 9.99990264e-01],\n",
       "       [5.16167629e-02, 9.48383237e-01],\n",
       "       [3.83664819e-05, 9.99961634e-01],\n",
       "       [1.60335924e-07, 9.99999840e-01],\n",
       "       [2.62829977e-04, 9.99737170e-01]])"
      ]
     },
     "execution_count": 34,
     "metadata": {},
     "output_type": "execute_result"
    }
   ],
   "source": [
    "predicted_proba = logmodel.predict_proba(x_test)\n",
    "predicted_proba"
   ]
  },
  {
   "cell_type": "code",
   "execution_count": 36,
   "metadata": {},
   "outputs": [
    {
     "data": {
      "text/plain": [
       "(211, 2)"
      ]
     },
     "execution_count": 36,
     "metadata": {},
     "output_type": "execute_result"
    }
   ],
   "source": [
    "predicted_proba.shape"
   ]
  },
  {
   "cell_type": "code",
   "execution_count": 37,
   "metadata": {},
   "outputs": [
    {
     "data": {
      "text/plain": [
       "array([7.06777719e-01, 7.53948164e-03, 1.04265545e-02, 9.99963531e-01,\n",
       "       6.24053134e-01, 9.99999795e-01, 9.98425799e-01, 9.99945294e-01,\n",
       "       9.99116756e-01, 9.99996039e-01, 9.99999627e-01, 9.99998819e-01,\n",
       "       4.45427406e-01, 9.97579234e-01, 9.99498314e-01, 9.99943268e-01,\n",
       "       4.69740821e-01, 9.99908576e-01, 9.99337545e-01, 9.99957420e-01,\n",
       "       9.99930154e-01, 1.61742748e-01, 4.82564668e-03, 9.97309026e-01,\n",
       "       4.86156619e-01, 9.92135011e-01, 4.19997611e-01, 9.99998670e-01,\n",
       "       9.99949354e-01, 9.95197438e-01, 3.51413206e-03, 9.99999578e-01,\n",
       "       9.95705038e-01, 1.24272125e-01, 9.88149623e-01, 8.48935463e-01,\n",
       "       4.11730268e-03, 9.84072894e-01, 9.98286085e-01, 6.63075786e-03,\n",
       "       9.99871279e-01, 4.50093044e-03, 1.17067576e-01, 9.23954555e-01,\n",
       "       6.69200322e-01, 9.79188355e-01, 9.97291160e-01, 1.55205934e-01,\n",
       "       8.48134787e-01, 6.25872136e-02, 9.99824574e-01, 9.98531316e-01,\n",
       "       6.50044234e-03, 3.36038616e-02, 1.39316662e-02, 9.66577765e-01,\n",
       "       9.79127560e-01, 9.99663415e-01, 9.99993178e-01, 7.38057136e-01,\n",
       "       9.95361311e-01, 1.32487710e-02, 9.98935635e-01, 9.99760789e-01,\n",
       "       9.49550246e-01, 9.95203604e-01, 9.99993307e-01, 9.03453289e-03,\n",
       "       9.99845427e-01, 9.99988686e-01, 9.99999309e-01, 9.99664084e-01,\n",
       "       9.93145594e-01, 5.01266991e-02, 9.99625645e-01, 6.50689322e-01,\n",
       "       9.99998409e-01, 7.40009408e-01, 9.99944461e-01, 1.17568670e-01,\n",
       "       9.98373916e-01, 9.99993449e-01, 1.79620156e-01, 9.99995385e-01,\n",
       "       4.64100879e-02, 3.63547158e-01, 9.99985229e-01, 9.99924231e-01,\n",
       "       4.58999699e-03, 9.99820681e-01, 2.75380872e-01, 9.95983469e-01,\n",
       "       9.81890251e-01, 7.97250716e-04, 1.76899436e-01, 4.85522017e-02,\n",
       "       9.99683630e-01, 9.97687052e-01, 9.99999600e-01, 9.99998129e-01,\n",
       "       9.95246089e-01, 9.88911772e-01, 9.99999457e-01, 1.70381556e-01,\n",
       "       9.99735404e-01, 9.99988636e-01, 9.77093740e-01, 9.99987982e-01,\n",
       "       8.35125458e-01, 9.99999533e-01, 9.99996005e-01, 1.35285984e-01,\n",
       "       6.51933000e-04, 9.99992753e-01, 1.47889551e-01, 8.99628654e-01,\n",
       "       7.13103646e-03, 1.60809020e-02, 3.72285486e-03, 9.99997326e-01,\n",
       "       7.40496798e-01, 9.97232183e-01, 9.99666584e-01, 5.18735578e-01,\n",
       "       8.81691182e-01, 9.99999718e-01, 9.99989840e-01, 9.99480381e-01,\n",
       "       9.99880067e-01, 9.66959163e-01, 9.95994146e-01, 9.93983905e-01,\n",
       "       8.47243108e-01, 9.99997781e-01, 9.99735700e-01, 9.99999931e-01,\n",
       "       9.99627733e-01, 9.99950740e-01, 9.99965060e-01, 9.99837879e-01,\n",
       "       9.99465830e-01, 8.35050507e-01, 9.99997658e-01, 3.66384108e-01,\n",
       "       9.99935540e-01, 9.99964530e-01, 9.99985480e-01, 9.99999775e-01,\n",
       "       9.99485909e-01, 9.99944908e-01, 8.83437722e-01, 2.15730664e-03,\n",
       "       6.19679911e-01, 9.99593345e-01, 6.48773207e-01, 1.96376082e-01,\n",
       "       9.17090409e-01, 4.61779406e-01, 5.96384660e-03, 9.97363592e-01,\n",
       "       7.72954753e-01, 8.14157732e-01, 4.01226503e-02, 9.99999425e-01,\n",
       "       9.99625300e-01, 4.47134876e-02, 9.99920725e-01, 4.82006950e-01,\n",
       "       9.99231497e-01, 9.97813560e-01, 9.51541968e-01, 9.99570204e-01,\n",
       "       2.13062061e-02, 9.99998812e-01, 9.51304252e-01, 9.97625338e-01,\n",
       "       9.97630595e-01, 9.99999906e-01, 4.17283519e-01, 9.98814279e-01,\n",
       "       4.97497403e-02, 4.50093044e-03, 9.99583137e-01, 9.98309099e-01,\n",
       "       9.67239163e-01, 9.76176499e-03, 9.74390110e-01, 9.96276115e-01,\n",
       "       9.94766346e-01, 9.99980080e-01, 3.78902965e-01, 9.98977597e-01,\n",
       "       7.25829967e-01, 1.41967579e-01, 9.99885266e-01, 1.07975382e-03,\n",
       "       4.28719108e-01, 2.98960644e-03, 9.49305552e-01, 7.39571592e-01,\n",
       "       5.08195641e-01, 1.07975382e-03, 1.49775764e-01, 9.98919059e-01,\n",
       "       9.99980930e-01, 7.34759097e-01, 9.99990264e-01, 9.48383237e-01,\n",
       "       9.99961634e-01, 9.99999840e-01, 9.99737170e-01])"
      ]
     },
     "execution_count": 37,
     "metadata": {},
     "output_type": "execute_result"
    }
   ],
   "source": [
    "predicted_proba[:,1]"
   ]
  },
  {
   "cell_type": "code",
   "execution_count": null,
   "metadata": {},
   "outputs": [],
   "source": []
  },
  {
   "cell_type": "code",
   "execution_count": null,
   "metadata": {},
   "outputs": [],
   "source": []
  },
  {
   "cell_type": "code",
   "execution_count": null,
   "metadata": {},
   "outputs": [],
   "source": []
  },
  {
   "cell_type": "code",
   "execution_count": null,
   "metadata": {},
   "outputs": [],
   "source": []
  },
  {
   "cell_type": "code",
   "execution_count": null,
   "metadata": {},
   "outputs": [],
   "source": []
  },
  {
   "cell_type": "code",
   "execution_count": null,
   "metadata": {},
   "outputs": [],
   "source": []
  },
  {
   "cell_type": "code",
   "execution_count": null,
   "metadata": {},
   "outputs": [],
   "source": []
  },
  {
   "cell_type": "code",
   "execution_count": null,
   "metadata": {},
   "outputs": [],
   "source": []
  },
  {
   "cell_type": "markdown",
   "metadata": {},
   "source": [
    "### Tuning parameters for LR"
   ]
  },
  {
   "cell_type": "markdown",
   "metadata": {},
   "source": [
    "For better parameters we will apply GridSearch"
   ]
  },
  {
   "cell_type": "code",
   "execution_count": 10,
   "metadata": {},
   "outputs": [],
   "source": [
    "from sklearn.model_selection import GridSearchCV\n",
    "param_grid = {'C': [0.01,0.1,1,10,100,1000]}"
   ]
  },
  {
   "cell_type": "code",
   "execution_count": 11,
   "metadata": {},
   "outputs": [],
   "source": [
    "grid_log = GridSearchCV(LogisticRegression(), param_grid, refit=True)"
   ]
  },
  {
   "cell_type": "markdown",
   "metadata": {},
   "source": [
    "### Train - Test Split"
   ]
  },
  {
   "cell_type": "code",
   "execution_count": 12,
   "metadata": {},
   "outputs": [
    {
     "data": {
      "text/plain": [
       "LogisticRegression(C=100, class_weight=None, dual=False, fit_intercept=True,\n",
       "          intercept_scaling=1, max_iter=100, multi_class='warn',\n",
       "          n_jobs=None, penalty='l2', random_state=None, solver='warn',\n",
       "          tol=0.0001, verbose=0, warm_start=False)"
      ]
     },
     "execution_count": 12,
     "metadata": {},
     "output_type": "execute_result"
    }
   ],
   "source": [
    "grid_log.fit(x_train, y_train)\n",
    "grid_log.best_estimator_"
   ]
  },
  {
   "cell_type": "code",
   "execution_count": 13,
   "metadata": {},
   "outputs": [],
   "source": [
    "pred_log = grid_log.predict(x_test)"
   ]
  },
  {
   "cell_type": "markdown",
   "metadata": {},
   "source": [
    "### Evaluation Metrics"
   ]
  },
  {
   "cell_type": "code",
   "execution_count": 15,
   "metadata": {},
   "outputs": [
    {
     "data": {
      "text/plain": [
       "GridSearchCV(cv='warn', error_score='raise-deprecating',\n",
       "       estimator=LogisticRegression(C=1.0, class_weight=None, dual=False, fit_intercept=True,\n",
       "          intercept_scaling=1, max_iter=100, multi_class='warn',\n",
       "          n_jobs=None, penalty='l2', random_state=None, solver='warn',\n",
       "          tol=0.0001, verbose=0, warm_start=False),\n",
       "       fit_params=None, iid='warn', n_jobs=None,\n",
       "       param_grid={'C': [0.01, 0.1, 1, 10, 100, 1000]},\n",
       "       pre_dispatch='2*n_jobs', refit=True, return_train_score='warn',\n",
       "       scoring=None, verbose=0)"
      ]
     },
     "execution_count": 15,
     "metadata": {},
     "output_type": "execute_result"
    }
   ],
   "source": [
    "grid_log.fit(x_train, y_train)"
   ]
  },
  {
   "cell_type": "code",
   "execution_count": 16,
   "metadata": {},
   "outputs": [
    {
     "name": "stdout",
     "output_type": "stream",
     "text": [
      "[[ 62   0]\n",
      " [  0 149]]\n",
      "              precision    recall  f1-score   support\n",
      "\n",
      "           0       1.00      1.00      1.00        62\n",
      "           1       1.00      1.00      1.00       149\n",
      "\n",
      "   micro avg       1.00      1.00      1.00       211\n",
      "   macro avg       1.00      1.00      1.00       211\n",
      "weighted avg       1.00      1.00      1.00       211\n",
      "\n"
     ]
    }
   ],
   "source": [
    "from sklearn.metrics import classification_report, confusion_matrix\n",
    "print(confusion_matrix(y_test, pred_log))\n",
    "print(classification_report(y_test, pred_log))"
   ]
  },
  {
   "cell_type": "code",
   "execution_count": null,
   "metadata": {},
   "outputs": [],
   "source": []
  }
 ],
 "metadata": {
  "kernelspec": {
   "display_name": "Python 3",
   "language": "python",
   "name": "python3"
  },
  "language_info": {
   "codemirror_mode": {
    "name": "ipython",
    "version": 3
   },
   "file_extension": ".py",
   "mimetype": "text/x-python",
   "name": "python",
   "nbconvert_exporter": "python",
   "pygments_lexer": "ipython3",
   "version": "3.7.6"
  }
 },
 "nbformat": 4,
 "nbformat_minor": 2
}
