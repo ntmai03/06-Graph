{
 "cells": [
  {
   "cell_type": "markdown",
   "metadata": {},
   "source": [
    "# Import package"
   ]
  },
  {
   "cell_type": "code",
   "execution_count": 169,
   "metadata": {},
   "outputs": [],
   "source": [
    "import warnings\n",
    "warnings.filterwarnings('ignore')\n",
    "\n",
    "import numpy as np\n",
    "import pandas as pd\n",
    "import matplotlib.pyplot as plt\n",
    "import seaborn as sns\n",
    "\n",
    "# plt.style.use('fivethirtyeight')\n",
    "sns.set(style = 'whitegrid',context = 'notebook')\n",
    "\n",
    "# generate classification report using predictions for categorical model\n",
    "from sklearn.metrics import confusion_matrix,classification_report, accuracy_score, roc_curve, roc_auc_score\n",
    "from sklearn import (metrics,  linear_model, preprocessing)\n",
    "from sklearn.model_selection import train_test_split, cross_val_score, GridSearchCV, RandomizedSearchCV, KFold, learning_curve, StratifiedKFold\n",
    "\n",
    "pd.set_option('display.max_rows', 500)\n",
    "pd.set_option('display.max_columns', 50)\n",
    "pd.set_option('display.width', 175)"
   ]
  },
  {
   "cell_type": "markdown",
   "metadata": {},
   "source": [
    "# Import data"
   ]
  },
  {
   "cell_type": "code",
   "execution_count": 170,
   "metadata": {},
   "outputs": [
    {
     "data": {
      "text/plain": [
       "(768, 9)"
      ]
     },
     "execution_count": 170,
     "metadata": {},
     "output_type": "execute_result"
    }
   ],
   "source": [
    "df = pd.read_csv(\"diabetes.csv\")\n",
    "df.shape"
   ]
  },
  {
   "cell_type": "code",
   "execution_count": 171,
   "metadata": {},
   "outputs": [],
   "source": [
    "original_df = df.copy()"
   ]
  },
  {
   "cell_type": "code",
   "execution_count": 172,
   "metadata": {},
   "outputs": [],
   "source": [
    "df[['Glucose','BloodPressure','SkinThickness','Insulin','BMI']] = df[['Glucose','BloodPressure','SkinThickness','Insulin','BMI']].replace(0,np.NaN)"
   ]
  },
  {
   "cell_type": "code",
   "execution_count": 173,
   "metadata": {},
   "outputs": [
    {
     "data": {
      "text/plain": [
       "(768, 9)"
      ]
     },
     "execution_count": 173,
     "metadata": {},
     "output_type": "execute_result"
    }
   ],
   "source": [
    "df.shape"
   ]
  },
  {
   "cell_type": "code",
   "execution_count": 174,
   "metadata": {},
   "outputs": [
    {
     "data": {
      "text/html": [
       "<div>\n",
       "<style scoped>\n",
       "    .dataframe tbody tr th:only-of-type {\n",
       "        vertical-align: middle;\n",
       "    }\n",
       "\n",
       "    .dataframe tbody tr th {\n",
       "        vertical-align: top;\n",
       "    }\n",
       "\n",
       "    .dataframe thead th {\n",
       "        text-align: right;\n",
       "    }\n",
       "</style>\n",
       "<table border=\"1\" class=\"dataframe\">\n",
       "  <thead>\n",
       "    <tr style=\"text-align: right;\">\n",
       "      <th></th>\n",
       "      <th>Pregnancies</th>\n",
       "      <th>Glucose</th>\n",
       "      <th>BloodPressure</th>\n",
       "      <th>SkinThickness</th>\n",
       "      <th>Insulin</th>\n",
       "      <th>BMI</th>\n",
       "      <th>DiabetesPedigreeFunction</th>\n",
       "      <th>Age</th>\n",
       "      <th>Outcome</th>\n",
       "    </tr>\n",
       "  </thead>\n",
       "  <tbody>\n",
       "    <tr>\n",
       "      <th>0</th>\n",
       "      <td>6</td>\n",
       "      <td>148.0</td>\n",
       "      <td>72.0</td>\n",
       "      <td>35.0</td>\n",
       "      <td>NaN</td>\n",
       "      <td>33.6</td>\n",
       "      <td>0.627</td>\n",
       "      <td>50</td>\n",
       "      <td>1</td>\n",
       "    </tr>\n",
       "    <tr>\n",
       "      <th>1</th>\n",
       "      <td>1</td>\n",
       "      <td>85.0</td>\n",
       "      <td>66.0</td>\n",
       "      <td>29.0</td>\n",
       "      <td>NaN</td>\n",
       "      <td>26.6</td>\n",
       "      <td>0.351</td>\n",
       "      <td>31</td>\n",
       "      <td>0</td>\n",
       "    </tr>\n",
       "    <tr>\n",
       "      <th>2</th>\n",
       "      <td>8</td>\n",
       "      <td>183.0</td>\n",
       "      <td>64.0</td>\n",
       "      <td>NaN</td>\n",
       "      <td>NaN</td>\n",
       "      <td>23.3</td>\n",
       "      <td>0.672</td>\n",
       "      <td>32</td>\n",
       "      <td>1</td>\n",
       "    </tr>\n",
       "    <tr>\n",
       "      <th>3</th>\n",
       "      <td>1</td>\n",
       "      <td>89.0</td>\n",
       "      <td>66.0</td>\n",
       "      <td>23.0</td>\n",
       "      <td>94.0</td>\n",
       "      <td>28.1</td>\n",
       "      <td>0.167</td>\n",
       "      <td>21</td>\n",
       "      <td>0</td>\n",
       "    </tr>\n",
       "    <tr>\n",
       "      <th>4</th>\n",
       "      <td>0</td>\n",
       "      <td>137.0</td>\n",
       "      <td>40.0</td>\n",
       "      <td>35.0</td>\n",
       "      <td>168.0</td>\n",
       "      <td>43.1</td>\n",
       "      <td>2.288</td>\n",
       "      <td>33</td>\n",
       "      <td>1</td>\n",
       "    </tr>\n",
       "  </tbody>\n",
       "</table>\n",
       "</div>"
      ],
      "text/plain": [
       "   Pregnancies  Glucose  BloodPressure  SkinThickness  Insulin   BMI  DiabetesPedigreeFunction  Age  Outcome\n",
       "0            6    148.0           72.0           35.0      NaN  33.6                     0.627   50        1\n",
       "1            1     85.0           66.0           29.0      NaN  26.6                     0.351   31        0\n",
       "2            8    183.0           64.0            NaN      NaN  23.3                     0.672   32        1\n",
       "3            1     89.0           66.0           23.0     94.0  28.1                     0.167   21        0\n",
       "4            0    137.0           40.0           35.0    168.0  43.1                     2.288   33        1"
      ]
     },
     "execution_count": 174,
     "metadata": {},
     "output_type": "execute_result"
    }
   ],
   "source": [
    "df.head()"
   ]
  },
  {
   "cell_type": "code",
   "execution_count": 175,
   "metadata": {},
   "outputs": [
    {
     "data": {
      "text/html": [
       "<div>\n",
       "<style scoped>\n",
       "    .dataframe tbody tr th:only-of-type {\n",
       "        vertical-align: middle;\n",
       "    }\n",
       "\n",
       "    .dataframe tbody tr th {\n",
       "        vertical-align: top;\n",
       "    }\n",
       "\n",
       "    .dataframe thead th {\n",
       "        text-align: right;\n",
       "    }\n",
       "</style>\n",
       "<table border=\"1\" class=\"dataframe\">\n",
       "  <thead>\n",
       "    <tr style=\"text-align: right;\">\n",
       "      <th></th>\n",
       "      <th>Pregnancies</th>\n",
       "      <th>Glucose</th>\n",
       "      <th>BloodPressure</th>\n",
       "      <th>SkinThickness</th>\n",
       "      <th>Insulin</th>\n",
       "      <th>BMI</th>\n",
       "      <th>DiabetesPedigreeFunction</th>\n",
       "      <th>Age</th>\n",
       "      <th>Outcome</th>\n",
       "    </tr>\n",
       "  </thead>\n",
       "  <tbody>\n",
       "    <tr>\n",
       "      <th>Pregnancies</th>\n",
       "      <td>1.000000</td>\n",
       "      <td>0.128135</td>\n",
       "      <td>0.214178</td>\n",
       "      <td>0.100239</td>\n",
       "      <td>0.082171</td>\n",
       "      <td>0.021719</td>\n",
       "      <td>-0.033523</td>\n",
       "      <td>0.544341</td>\n",
       "      <td>0.221898</td>\n",
       "    </tr>\n",
       "    <tr>\n",
       "      <th>Glucose</th>\n",
       "      <td>0.128135</td>\n",
       "      <td>1.000000</td>\n",
       "      <td>0.223192</td>\n",
       "      <td>0.228043</td>\n",
       "      <td>0.581186</td>\n",
       "      <td>0.232771</td>\n",
       "      <td>0.137246</td>\n",
       "      <td>0.267136</td>\n",
       "      <td>0.494650</td>\n",
       "    </tr>\n",
       "    <tr>\n",
       "      <th>BloodPressure</th>\n",
       "      <td>0.214178</td>\n",
       "      <td>0.223192</td>\n",
       "      <td>1.000000</td>\n",
       "      <td>0.226839</td>\n",
       "      <td>0.098272</td>\n",
       "      <td>0.289230</td>\n",
       "      <td>-0.002805</td>\n",
       "      <td>0.330107</td>\n",
       "      <td>0.170589</td>\n",
       "    </tr>\n",
       "    <tr>\n",
       "      <th>SkinThickness</th>\n",
       "      <td>0.100239</td>\n",
       "      <td>0.228043</td>\n",
       "      <td>0.226839</td>\n",
       "      <td>1.000000</td>\n",
       "      <td>0.184888</td>\n",
       "      <td>0.648214</td>\n",
       "      <td>0.115016</td>\n",
       "      <td>0.166816</td>\n",
       "      <td>0.259491</td>\n",
       "    </tr>\n",
       "    <tr>\n",
       "      <th>Insulin</th>\n",
       "      <td>0.082171</td>\n",
       "      <td>0.581186</td>\n",
       "      <td>0.098272</td>\n",
       "      <td>0.184888</td>\n",
       "      <td>1.000000</td>\n",
       "      <td>0.228050</td>\n",
       "      <td>0.130395</td>\n",
       "      <td>0.220261</td>\n",
       "      <td>0.303454</td>\n",
       "    </tr>\n",
       "    <tr>\n",
       "      <th>BMI</th>\n",
       "      <td>0.021719</td>\n",
       "      <td>0.232771</td>\n",
       "      <td>0.289230</td>\n",
       "      <td>0.648214</td>\n",
       "      <td>0.228050</td>\n",
       "      <td>1.000000</td>\n",
       "      <td>0.155382</td>\n",
       "      <td>0.025841</td>\n",
       "      <td>0.313680</td>\n",
       "    </tr>\n",
       "    <tr>\n",
       "      <th>DiabetesPedigreeFunction</th>\n",
       "      <td>-0.033523</td>\n",
       "      <td>0.137246</td>\n",
       "      <td>-0.002805</td>\n",
       "      <td>0.115016</td>\n",
       "      <td>0.130395</td>\n",
       "      <td>0.155382</td>\n",
       "      <td>1.000000</td>\n",
       "      <td>0.033561</td>\n",
       "      <td>0.173844</td>\n",
       "    </tr>\n",
       "    <tr>\n",
       "      <th>Age</th>\n",
       "      <td>0.544341</td>\n",
       "      <td>0.267136</td>\n",
       "      <td>0.330107</td>\n",
       "      <td>0.166816</td>\n",
       "      <td>0.220261</td>\n",
       "      <td>0.025841</td>\n",
       "      <td>0.033561</td>\n",
       "      <td>1.000000</td>\n",
       "      <td>0.238356</td>\n",
       "    </tr>\n",
       "    <tr>\n",
       "      <th>Outcome</th>\n",
       "      <td>0.221898</td>\n",
       "      <td>0.494650</td>\n",
       "      <td>0.170589</td>\n",
       "      <td>0.259491</td>\n",
       "      <td>0.303454</td>\n",
       "      <td>0.313680</td>\n",
       "      <td>0.173844</td>\n",
       "      <td>0.238356</td>\n",
       "      <td>1.000000</td>\n",
       "    </tr>\n",
       "  </tbody>\n",
       "</table>\n",
       "</div>"
      ],
      "text/plain": [
       "                          Pregnancies   Glucose  BloodPressure  SkinThickness   Insulin       BMI  DiabetesPedigreeFunction       Age   Outcome\n",
       "Pregnancies                  1.000000  0.128135       0.214178       0.100239  0.082171  0.021719                 -0.033523  0.544341  0.221898\n",
       "Glucose                      0.128135  1.000000       0.223192       0.228043  0.581186  0.232771                  0.137246  0.267136  0.494650\n",
       "BloodPressure                0.214178  0.223192       1.000000       0.226839  0.098272  0.289230                 -0.002805  0.330107  0.170589\n",
       "SkinThickness                0.100239  0.228043       0.226839       1.000000  0.184888  0.648214                  0.115016  0.166816  0.259491\n",
       "Insulin                      0.082171  0.581186       0.098272       0.184888  1.000000  0.228050                  0.130395  0.220261  0.303454\n",
       "BMI                          0.021719  0.232771       0.289230       0.648214  0.228050  1.000000                  0.155382  0.025841  0.313680\n",
       "DiabetesPedigreeFunction    -0.033523  0.137246      -0.002805       0.115016  0.130395  0.155382                  1.000000  0.033561  0.173844\n",
       "Age                          0.544341  0.267136       0.330107       0.166816  0.220261  0.025841                  0.033561  1.000000  0.238356\n",
       "Outcome                      0.221898  0.494650       0.170589       0.259491  0.303454  0.313680                  0.173844  0.238356  1.000000"
      ]
     },
     "execution_count": 175,
     "metadata": {},
     "output_type": "execute_result"
    }
   ],
   "source": [
    "df.corr()"
   ]
  },
  {
   "cell_type": "code",
   "execution_count": 176,
   "metadata": {},
   "outputs": [
    {
     "data": {
      "text/plain": [
       "count    763.000000\n",
       "mean     121.686763\n",
       "std       30.535641\n",
       "min       44.000000\n",
       "25%       99.000000\n",
       "50%      117.000000\n",
       "75%      141.000000\n",
       "max      199.000000\n",
       "Name: Glucose, dtype: float64"
      ]
     },
     "execution_count": 176,
     "metadata": {},
     "output_type": "execute_result"
    }
   ],
   "source": [
    "df.Glucose.describe()"
   ]
  },
  {
   "cell_type": "markdown",
   "metadata": {},
   "source": [
    "# Preprocessing data"
   ]
  },
  {
   "cell_type": "markdown",
   "metadata": {},
   "source": [
    "## Examing missing data"
   ]
  },
  {
   "cell_type": "code",
   "execution_count": 177,
   "metadata": {},
   "outputs": [
    {
     "data": {
      "text/plain": [
       "Pregnancies                   0\n",
       "Glucose                       5\n",
       "BloodPressure                35\n",
       "SkinThickness               227\n",
       "Insulin                     374\n",
       "BMI                          11\n",
       "DiabetesPedigreeFunction      0\n",
       "Age                           0\n",
       "Outcome                       0\n",
       "dtype: int64"
      ]
     },
     "execution_count": 177,
     "metadata": {},
     "output_type": "execute_result"
    }
   ],
   "source": [
    "df.isnull().sum()"
   ]
  },
  {
   "cell_type": "code",
   "execution_count": 178,
   "metadata": {},
   "outputs": [
    {
     "data": {
      "text/html": [
       "<div>\n",
       "<style scoped>\n",
       "    .dataframe tbody tr th:only-of-type {\n",
       "        vertical-align: middle;\n",
       "    }\n",
       "\n",
       "    .dataframe tbody tr th {\n",
       "        vertical-align: top;\n",
       "    }\n",
       "\n",
       "    .dataframe thead th {\n",
       "        text-align: right;\n",
       "    }\n",
       "</style>\n",
       "<table border=\"1\" class=\"dataframe\">\n",
       "  <thead>\n",
       "    <tr style=\"text-align: right;\">\n",
       "      <th></th>\n",
       "      <th>Count</th>\n",
       "      <th>Percentage</th>\n",
       "    </tr>\n",
       "  </thead>\n",
       "  <tbody>\n",
       "    <tr>\n",
       "      <th>Insulin</th>\n",
       "      <td>374</td>\n",
       "      <td>48.697917</td>\n",
       "    </tr>\n",
       "    <tr>\n",
       "      <th>SkinThickness</th>\n",
       "      <td>227</td>\n",
       "      <td>29.557292</td>\n",
       "    </tr>\n",
       "    <tr>\n",
       "      <th>BloodPressure</th>\n",
       "      <td>35</td>\n",
       "      <td>4.557292</td>\n",
       "    </tr>\n",
       "    <tr>\n",
       "      <th>BMI</th>\n",
       "      <td>11</td>\n",
       "      <td>1.432292</td>\n",
       "    </tr>\n",
       "    <tr>\n",
       "      <th>Glucose</th>\n",
       "      <td>5</td>\n",
       "      <td>0.651042</td>\n",
       "    </tr>\n",
       "    <tr>\n",
       "      <th>Pregnancies</th>\n",
       "      <td>0</td>\n",
       "      <td>0.000000</td>\n",
       "    </tr>\n",
       "    <tr>\n",
       "      <th>DiabetesPedigreeFunction</th>\n",
       "      <td>0</td>\n",
       "      <td>0.000000</td>\n",
       "    </tr>\n",
       "    <tr>\n",
       "      <th>Age</th>\n",
       "      <td>0</td>\n",
       "      <td>0.000000</td>\n",
       "    </tr>\n",
       "    <tr>\n",
       "      <th>Outcome</th>\n",
       "      <td>0</td>\n",
       "      <td>0.000000</td>\n",
       "    </tr>\n",
       "  </tbody>\n",
       "</table>\n",
       "</div>"
      ],
      "text/plain": [
       "                          Count  Percentage\n",
       "Insulin                     374   48.697917\n",
       "SkinThickness               227   29.557292\n",
       "BloodPressure                35    4.557292\n",
       "BMI                          11    1.432292\n",
       "Glucose                       5    0.651042\n",
       "Pregnancies                   0    0.000000\n",
       "DiabetesPedigreeFunction      0    0.000000\n",
       "Age                           0    0.000000\n",
       "Outcome                       0    0.000000"
      ]
     },
     "execution_count": 178,
     "metadata": {},
     "output_type": "execute_result"
    }
   ],
   "source": [
    "miss_val_df = pd.DataFrame(df.isnull().sum(),columns=['Count'])\n",
    "miss_val_df['Percentage'] = 100 * df.isnull().mean()\n",
    "miss_val_df.sort_values('Percentage', ascending=False)"
   ]
  },
  {
   "cell_type": "code",
   "execution_count": 179,
   "metadata": {},
   "outputs": [
    {
     "data": {
      "text/plain": [
       "<matplotlib.axes._subplots.AxesSubplot at 0x2b2f4d56a58>"
      ]
     },
     "execution_count": 179,
     "metadata": {},
     "output_type": "execute_result"
    },
    {
     "data": {
      "image/png": "[encoded data removed]",
      "text/plain": [
       "<Figure size 1008x360 with 2 Axes>"
      ]
     },
     "metadata": {},
     "output_type": "display_data"
    }
   ],
   "source": [
    "df_c0 = df.loc[df.Outcome == 0]\n",
    "df_c1 = df.loc[df.Outcome == 1]\n",
    "\n",
    "import missingno as msno\n",
    "\n",
    "f, ax = plt.subplots(1,2,figsize=(14,5))\n",
    "msno.matrix(df_c0, figsize=(7,5), ax=ax[0])\n",
    "msno.matrix(df_c1, figsize=(7,5), ax=ax[1])"
   ]
  },
  {
   "cell_type": "code",
   "execution_count": 180,
   "metadata": {},
   "outputs": [
    {
     "data": {
      "text/plain": [
       "((537, 8), (231, 8))"
      ]
     },
     "execution_count": 180,
     "metadata": {},
     "output_type": "execute_result"
    }
   ],
   "source": [
    "X_train, X_test, y_train, y_test = train_test_split(df.drop(['Outcome'],axis=1),df.Outcome, test_size = 0.3, random_state = 0, stratify = df.Outcome)\n",
    "\n",
    "X_train.shape, X_test.shape"
   ]
  },
  {
   "cell_type": "code",
   "execution_count": 181,
   "metadata": {},
   "outputs": [
    {
     "data": {
      "text/plain": [
       "(0.34823091247672255, 0.35064935064935066)"
      ]
     },
     "execution_count": 181,
     "metadata": {},
     "output_type": "execute_result"
    }
   ],
   "source": [
    "y_train.mean(), y_test.mean()"
   ]
  },
  {
   "cell_type": "code",
   "execution_count": 182,
   "metadata": {},
   "outputs": [
    {
     "data": {
      "text/plain": [
       "Pregnancies                 0.000000\n",
       "Glucose                     0.005587\n",
       "BloodPressure               0.044693\n",
       "SkinThickness               0.316574\n",
       "Insulin                     0.525140\n",
       "BMI                         0.013035\n",
       "DiabetesPedigreeFunction    0.000000\n",
       "Age                         0.000000\n",
       "dtype: float64"
      ]
     },
     "execution_count": 182,
     "metadata": {},
     "output_type": "execute_result"
    }
   ],
   "source": [
    "X_train.isnull().mean()"
   ]
  },
  {
   "cell_type": "code",
   "execution_count": null,
   "metadata": {},
   "outputs": [],
   "source": []
  },
  {
   "cell_type": "markdown",
   "metadata": {},
   "source": [
    "#### Glucose"
   ]
  },
  {
   "cell_type": "code",
   "execution_count": 183,
   "metadata": {},
   "outputs": [],
   "source": [
    "X_train['Glucose_median'] = X_train['Glucose']\n",
    "X_train['Glucose_mean'] = X_train['Glucose']\n",
    "X_test['Glucose_median'] = X_test['Glucose']\n",
    "X_test['Glucose_mean'] = X_test['Glucose']\n",
    "\n",
    "\n",
    "X_train['Glucose_median'] = X_train['Glucose'].fillna(X_train['Glucose'].median())\n",
    "X_train['Glucose_mean'] = X_train['Glucose'].fillna(X_train['Glucose'].mean())\n",
    "X_test['Glucose_median'] = X_test['Glucose'].fillna(X_train['Glucose'].median())\n",
    "X_test['Glucose_mean'] = X_test['Glucose'].fillna(X_train['Glucose'].mean())\n"
   ]
  },
  {
   "cell_type": "code",
   "execution_count": 184,
   "metadata": {},
   "outputs": [
    {
     "name": "stdout",
     "output_type": "stream",
     "text": [
      "Original variable variance:  910.6646148224672\n",
      "Variance after median imputation:  905.7299535840363\n",
      "Variance after mean imputation:  905.5676113812966\n"
     ]
    }
   ],
   "source": [
    "print('Original variable variance: ', X_train['Glucose'].var())\n",
    "print('Variance after median imputation: ', X_train['Glucose_median'].var())\n",
    "print('Variance after mean imputation: ', X_train['Glucose_mean'].var())"
   ]
  },
  {
   "cell_type": "code",
   "execution_count": 185,
   "metadata": {},
   "outputs": [
    {
     "data": {
      "text/plain": [
       "<matplotlib.legend.Legend at 0x2b2832595c0>"
      ]
     },
     "execution_count": 185,
     "metadata": {},
     "output_type": "execute_result"
    },
    {
     "data": {
      "image/png": "[encoded data removed]",
      "text/plain": [
       "<Figure size 432x288 with 1 Axes>"
      ]
     },
     "metadata": {},
     "output_type": "display_data"
    }
   ],
   "source": [
    "# we can see that the distribution has changed \n",
    "# with now more values accumulating towards the median\n",
    "# or median\n",
    "\n",
    "fig = plt.figure()\n",
    "ax = fig.add_subplot(111)\n",
    "\n",
    "# original variable distribution\n",
    "X_train['Glucose'].plot(kind='kde', ax=ax)\n",
    "\n",
    "# variable imputed with the median\n",
    "X_train['Glucose_median'].plot(kind='kde', ax=ax, color='red')\n",
    "\n",
    "# variable imputed with the mean\n",
    "X_train['Glucose_mean'].plot(kind='kde', ax=ax, color='green')\n",
    "\n",
    "# add legends\n",
    "lines, labels = ax.get_legend_handles_labels()\n",
    "ax.legend(lines, labels, loc='best')"
   ]
  },
  {
   "cell_type": "code",
   "execution_count": 186,
   "metadata": {
    "scrolled": true
   },
   "outputs": [
    {
     "data": {
      "text/html": [
       "<div>\n",
       "<style scoped>\n",
       "    .dataframe tbody tr th:only-of-type {\n",
       "        vertical-align: middle;\n",
       "    }\n",
       "\n",
       "    .dataframe tbody tr th {\n",
       "        vertical-align: top;\n",
       "    }\n",
       "\n",
       "    .dataframe thead th {\n",
       "        text-align: right;\n",
       "    }\n",
       "</style>\n",
       "<table border=\"1\" class=\"dataframe\">\n",
       "  <thead>\n",
       "    <tr style=\"text-align: right;\">\n",
       "      <th></th>\n",
       "      <th>Pregnancies</th>\n",
       "      <th>Glucose</th>\n",
       "      <th>BloodPressure</th>\n",
       "      <th>SkinThickness</th>\n",
       "      <th>Insulin</th>\n",
       "      <th>BMI</th>\n",
       "      <th>DiabetesPedigreeFunction</th>\n",
       "      <th>Age</th>\n",
       "      <th>Glucose_median</th>\n",
       "      <th>Glucose_mean</th>\n",
       "    </tr>\n",
       "  </thead>\n",
       "  <tbody>\n",
       "    <tr>\n",
       "      <th>Pregnancies</th>\n",
       "      <td>11.799119</td>\n",
       "      <td>10.653632</td>\n",
       "      <td>8.131031</td>\n",
       "      <td>2.720128</td>\n",
       "      <td>28.296017</td>\n",
       "      <td>-0.001955</td>\n",
       "      <td>-0.097052</td>\n",
       "      <td>21.639807</td>\n",
       "      <td>10.595073</td>\n",
       "      <td>10.594003</td>\n",
       "    </tr>\n",
       "    <tr>\n",
       "      <th>Glucose</th>\n",
       "      <td>10.653632</td>\n",
       "      <td>910.664615</td>\n",
       "      <td>71.082156</td>\n",
       "      <td>74.655254</td>\n",
       "      <td>2088.461455</td>\n",
       "      <td>43.917901</td>\n",
       "      <td>1.546626</td>\n",
       "      <td>91.534822</td>\n",
       "      <td>910.664615</td>\n",
       "      <td>910.664615</td>\n",
       "    </tr>\n",
       "    <tr>\n",
       "      <th>BloodPressure</th>\n",
       "      <td>8.131031</td>\n",
       "      <td>71.082156</td>\n",
       "      <td>152.281524</td>\n",
       "      <td>32.203997</td>\n",
       "      <td>93.689162</td>\n",
       "      <td>22.772129</td>\n",
       "      <td>-0.117432</td>\n",
       "      <td>49.348581</td>\n",
       "      <td>70.615874</td>\n",
       "      <td>70.663804</td>\n",
       "    </tr>\n",
       "    <tr>\n",
       "      <th>SkinThickness</th>\n",
       "      <td>2.720128</td>\n",
       "      <td>74.655254</td>\n",
       "      <td>32.203997</td>\n",
       "      <td>117.552508</td>\n",
       "      <td>198.237564</td>\n",
       "      <td>49.386498</td>\n",
       "      <td>0.548667</td>\n",
       "      <td>18.833832</td>\n",
       "      <td>73.988766</td>\n",
       "      <td>74.046061</td>\n",
       "    </tr>\n",
       "    <tr>\n",
       "      <th>Insulin</th>\n",
       "      <td>28.296017</td>\n",
       "      <td>2088.461455</td>\n",
       "      <td>93.689162</td>\n",
       "      <td>198.237564</td>\n",
       "      <td>14383.971190</td>\n",
       "      <td>168.845591</td>\n",
       "      <td>8.105779</td>\n",
       "      <td>306.025382</td>\n",
       "      <td>2083.423854</td>\n",
       "      <td>2080.637677</td>\n",
       "    </tr>\n",
       "    <tr>\n",
       "      <th>BMI</th>\n",
       "      <td>-0.001955</td>\n",
       "      <td>43.917901</td>\n",
       "      <td>22.772129</td>\n",
       "      <td>49.386498</td>\n",
       "      <td>168.845591</td>\n",
       "      <td>46.836729</td>\n",
       "      <td>0.437426</td>\n",
       "      <td>0.194940</td>\n",
       "      <td>43.557531</td>\n",
       "      <td>43.664307</td>\n",
       "    </tr>\n",
       "    <tr>\n",
       "      <th>DiabetesPedigreeFunction</th>\n",
       "      <td>-0.097052</td>\n",
       "      <td>1.546626</td>\n",
       "      <td>-0.117432</td>\n",
       "      <td>0.548667</td>\n",
       "      <td>8.105779</td>\n",
       "      <td>0.437426</td>\n",
       "      <td>0.116864</td>\n",
       "      <td>0.021697</td>\n",
       "      <td>1.538453</td>\n",
       "      <td>1.537970</td>\n",
       "    </tr>\n",
       "    <tr>\n",
       "      <th>Age</th>\n",
       "      <td>21.639807</td>\n",
       "      <td>91.534822</td>\n",
       "      <td>49.348581</td>\n",
       "      <td>18.833832</td>\n",
       "      <td>306.025382</td>\n",
       "      <td>0.194940</td>\n",
       "      <td>0.021697</td>\n",
       "      <td>144.373454</td>\n",
       "      <td>91.048056</td>\n",
       "      <td>91.022500</td>\n",
       "    </tr>\n",
       "    <tr>\n",
       "      <th>Glucose_median</th>\n",
       "      <td>10.595073</td>\n",
       "      <td>910.664615</td>\n",
       "      <td>70.615874</td>\n",
       "      <td>73.988766</td>\n",
       "      <td>2083.423854</td>\n",
       "      <td>43.557531</td>\n",
       "      <td>1.538453</td>\n",
       "      <td>91.048056</td>\n",
       "      <td>905.729954</td>\n",
       "      <td>905.567611</td>\n",
       "    </tr>\n",
       "    <tr>\n",
       "      <th>Glucose_mean</th>\n",
       "      <td>10.594003</td>\n",
       "      <td>910.664615</td>\n",
       "      <td>70.663804</td>\n",
       "      <td>74.046061</td>\n",
       "      <td>2080.637677</td>\n",
       "      <td>43.664307</td>\n",
       "      <td>1.537970</td>\n",
       "      <td>91.022500</td>\n",
       "      <td>905.567611</td>\n",
       "      <td>905.567611</td>\n",
       "    </tr>\n",
       "  </tbody>\n",
       "</table>\n",
       "</div>"
      ],
      "text/plain": [
       "                          Pregnancies      Glucose  BloodPressure  SkinThickness       Insulin         BMI  DiabetesPedigreeFunction         Age  Glucose_median  \\\n",
       "Pregnancies                 11.799119    10.653632       8.131031       2.720128     28.296017   -0.001955                 -0.097052   21.639807       10.595073   \n",
       "Glucose                     10.653632   910.664615      71.082156      74.655254   2088.461455   43.917901                  1.546626   91.534822      910.664615   \n",
       "BloodPressure                8.131031    71.082156     152.281524      32.203997     93.689162   22.772129                 -0.117432   49.348581       70.615874   \n",
       "SkinThickness                2.720128    74.655254      32.203997     117.552508    198.237564   49.386498                  0.548667   18.833832       73.988766   \n",
       "Insulin                     28.296017  2088.461455      93.689162     198.237564  14383.971190  168.845591                  8.105779  306.025382     2083.423854   \n",
       "BMI                         -0.001955    43.917901      22.772129      49.386498    168.845591   46.836729                  0.437426    0.194940       43.557531   \n",
       "DiabetesPedigreeFunction    -0.097052     1.546626      -0.117432       0.548667      8.105779    0.437426                  0.116864    0.021697        1.538453   \n",
       "Age                         21.639807    91.534822      49.348581      18.833832    306.025382    0.194940                  0.021697  144.373454       91.048056   \n",
       "Glucose_median              10.595073   910.664615      70.615874      73.988766   2083.423854   43.557531                  1.538453   91.048056      905.729954   \n",
       "Glucose_mean                10.594003   910.664615      70.663804      74.046061   2080.637677   43.664307                  1.537970   91.022500      905.567611   \n",
       "\n",
       "                          Glucose_mean  \n",
       "Pregnancies                  10.594003  \n",
       "Glucose                     910.664615  \n",
       "BloodPressure                70.663804  \n",
       "SkinThickness                74.046061  \n",
       "Insulin                    2080.637677  \n",
       "BMI                          43.664307  \n",
       "DiabetesPedigreeFunction      1.537970  \n",
       "Age                          91.022500  \n",
       "Glucose_median              905.567611  \n",
       "Glucose_mean                905.567611  "
      ]
     },
     "execution_count": 186,
     "metadata": {},
     "output_type": "execute_result"
    }
   ],
   "source": [
    "X_train.cov()"
   ]
  },
  {
   "cell_type": "markdown",
   "metadata": {},
   "source": [
    "#### BMI"
   ]
  },
  {
   "cell_type": "code",
   "execution_count": null,
   "metadata": {},
   "outputs": [],
   "source": []
  },
  {
   "cell_type": "code",
   "execution_count": 187,
   "metadata": {},
   "outputs": [],
   "source": [
    "X_train['BMI_median'] = X_train['BMI']\n",
    "X_train['BMI_mean'] = X_train['BMI']\n",
    "X_test['BMI_median'] = X_test['BMI']\n",
    "X_test['BMI_mean'] = X_test['BMI']\n",
    "\n",
    "X_train['BMI_median'] = X_train['BMI'].fillna(X_train['BMI'].median())\n",
    "X_train['BMI_mean'] = X_train['BMI'].fillna(X_train['BMI'].mean())\n",
    "X_test['BMI_median'] = X_test['BMI'].fillna(X_train['BMI'].median())\n",
    "X_test['BMI_mean'] = X_test['BMI'].fillna(X_train['BMI'].mean())"
   ]
  },
  {
   "cell_type": "code",
   "execution_count": 188,
   "metadata": {},
   "outputs": [
    {
     "name": "stdout",
     "output_type": "stream",
     "text": [
      "Original variable variance:  46.8367286442915\n",
      "Variance after median imputation:  46.22676062772732\n",
      "Variance after mean imputation:  46.22505494931008\n"
     ]
    }
   ],
   "source": [
    "print('Original variable variance: ', X_train['BMI'].var())\n",
    "print('Variance after median imputation: ', X_train['BMI_median'].var())\n",
    "print('Variance after mean imputation: ', X_train['BMI_mean'].var())"
   ]
  },
  {
   "cell_type": "code",
   "execution_count": 189,
   "metadata": {},
   "outputs": [
    {
     "data": {
      "text/plain": [
       "<matplotlib.legend.Legend at 0x2b2832a9ef0>"
      ]
     },
     "execution_count": 189,
     "metadata": {},
     "output_type": "execute_result"
    },
    {
     "data": {
      "image/png": "[encoded data removed]",
      "text/plain": [
       "<Figure size 432x288 with 1 Axes>"
      ]
     },
     "metadata": {},
     "output_type": "display_data"
    }
   ],
   "source": [
    "# we can see that the distribution has changed \n",
    "# with now more values accumulating towards the median\n",
    "# or median\n",
    "\n",
    "fig = plt.figure()\n",
    "ax = fig.add_subplot(111)\n",
    "\n",
    "# original variable distribution\n",
    "X_train['BMI'].plot(kind='kde', ax=ax)\n",
    "\n",
    "# variable imputed with the median\n",
    "X_train['BMI_median'].plot(kind='kde', ax=ax, color='red')\n",
    "\n",
    "# variable imputed with the mean\n",
    "X_train['BMI_mean'].plot(kind='kde', ax=ax, color='green')\n",
    "\n",
    "# add legends\n",
    "lines, labels = ax.get_legend_handles_labels()\n",
    "ax.legend(lines, labels, loc='best')"
   ]
  },
  {
   "cell_type": "code",
   "execution_count": 190,
   "metadata": {
    "scrolled": false
   },
   "outputs": [
    {
     "data": {
      "text/html": [
       "<div>\n",
       "<style scoped>\n",
       "    .dataframe tbody tr th:only-of-type {\n",
       "        vertical-align: middle;\n",
       "    }\n",
       "\n",
       "    .dataframe tbody tr th {\n",
       "        vertical-align: top;\n",
       "    }\n",
       "\n",
       "    .dataframe thead th {\n",
       "        text-align: right;\n",
       "    }\n",
       "</style>\n",
       "<table border=\"1\" class=\"dataframe\">\n",
       "  <thead>\n",
       "    <tr style=\"text-align: right;\">\n",
       "      <th></th>\n",
       "      <th>Pregnancies</th>\n",
       "      <th>Glucose</th>\n",
       "      <th>BloodPressure</th>\n",
       "      <th>SkinThickness</th>\n",
       "      <th>Insulin</th>\n",
       "      <th>BMI</th>\n",
       "      <th>DiabetesPedigreeFunction</th>\n",
       "      <th>Age</th>\n",
       "      <th>Glucose_median</th>\n",
       "      <th>Glucose_mean</th>\n",
       "      <th>BMI_median</th>\n",
       "      <th>BMI_mean</th>\n",
       "    </tr>\n",
       "  </thead>\n",
       "  <tbody>\n",
       "    <tr>\n",
       "      <th>Pregnancies</th>\n",
       "      <td>11.799119</td>\n",
       "      <td>10.653632</td>\n",
       "      <td>8.131031</td>\n",
       "      <td>2.720128</td>\n",
       "      <td>28.296017</td>\n",
       "      <td>-0.001955</td>\n",
       "      <td>-0.097052</td>\n",
       "      <td>21.639807</td>\n",
       "      <td>10.595073</td>\n",
       "      <td>10.594003</td>\n",
       "      <td>-0.003119</td>\n",
       "      <td>-0.001929</td>\n",
       "    </tr>\n",
       "    <tr>\n",
       "      <th>Glucose</th>\n",
       "      <td>10.653632</td>\n",
       "      <td>910.664615</td>\n",
       "      <td>71.082156</td>\n",
       "      <td>74.655254</td>\n",
       "      <td>2088.461455</td>\n",
       "      <td>43.917901</td>\n",
       "      <td>1.546626</td>\n",
       "      <td>91.534822</td>\n",
       "      <td>910.664615</td>\n",
       "      <td>910.664615</td>\n",
       "      <td>43.419070</td>\n",
       "      <td>43.336620</td>\n",
       "    </tr>\n",
       "    <tr>\n",
       "      <th>BloodPressure</th>\n",
       "      <td>8.131031</td>\n",
       "      <td>71.082156</td>\n",
       "      <td>152.281524</td>\n",
       "      <td>32.203997</td>\n",
       "      <td>93.689162</td>\n",
       "      <td>22.772129</td>\n",
       "      <td>-0.117432</td>\n",
       "      <td>49.348581</td>\n",
       "      <td>70.615874</td>\n",
       "      <td>70.663804</td>\n",
       "      <td>22.623877</td>\n",
       "      <td>22.636342</td>\n",
       "    </tr>\n",
       "    <tr>\n",
       "      <th>SkinThickness</th>\n",
       "      <td>2.720128</td>\n",
       "      <td>74.655254</td>\n",
       "      <td>32.203997</td>\n",
       "      <td>117.552508</td>\n",
       "      <td>198.237564</td>\n",
       "      <td>49.386498</td>\n",
       "      <td>0.548667</td>\n",
       "      <td>18.833832</td>\n",
       "      <td>73.988766</td>\n",
       "      <td>74.046061</td>\n",
       "      <td>49.150574</td>\n",
       "      <td>49.137244</td>\n",
       "    </tr>\n",
       "    <tr>\n",
       "      <th>Insulin</th>\n",
       "      <td>28.296017</td>\n",
       "      <td>2088.461455</td>\n",
       "      <td>93.689162</td>\n",
       "      <td>198.237564</td>\n",
       "      <td>14383.971190</td>\n",
       "      <td>168.845591</td>\n",
       "      <td>8.105779</td>\n",
       "      <td>306.025382</td>\n",
       "      <td>2083.423854</td>\n",
       "      <td>2080.637677</td>\n",
       "      <td>168.440922</td>\n",
       "      <td>168.347780</td>\n",
       "    </tr>\n",
       "    <tr>\n",
       "      <th>BMI</th>\n",
       "      <td>-0.001955</td>\n",
       "      <td>43.917901</td>\n",
       "      <td>22.772129</td>\n",
       "      <td>49.386498</td>\n",
       "      <td>168.845591</td>\n",
       "      <td>46.836729</td>\n",
       "      <td>0.437426</td>\n",
       "      <td>0.194940</td>\n",
       "      <td>43.557531</td>\n",
       "      <td>43.664307</td>\n",
       "      <td>46.836729</td>\n",
       "      <td>46.836729</td>\n",
       "    </tr>\n",
       "    <tr>\n",
       "      <th>DiabetesPedigreeFunction</th>\n",
       "      <td>-0.097052</td>\n",
       "      <td>1.546626</td>\n",
       "      <td>-0.117432</td>\n",
       "      <td>0.548667</td>\n",
       "      <td>8.105779</td>\n",
       "      <td>0.437426</td>\n",
       "      <td>0.116864</td>\n",
       "      <td>0.021697</td>\n",
       "      <td>1.538453</td>\n",
       "      <td>1.537970</td>\n",
       "      <td>0.431533</td>\n",
       "      <td>0.431713</td>\n",
       "    </tr>\n",
       "    <tr>\n",
       "      <th>Age</th>\n",
       "      <td>21.639807</td>\n",
       "      <td>91.534822</td>\n",
       "      <td>49.348581</td>\n",
       "      <td>18.833832</td>\n",
       "      <td>306.025382</td>\n",
       "      <td>0.194940</td>\n",
       "      <td>0.021697</td>\n",
       "      <td>144.373454</td>\n",
       "      <td>91.048056</td>\n",
       "      <td>91.022500</td>\n",
       "      <td>0.222201</td>\n",
       "      <td>0.192394</td>\n",
       "    </tr>\n",
       "    <tr>\n",
       "      <th>Glucose_median</th>\n",
       "      <td>10.595073</td>\n",
       "      <td>910.664615</td>\n",
       "      <td>70.615874</td>\n",
       "      <td>73.988766</td>\n",
       "      <td>2083.423854</td>\n",
       "      <td>43.557531</td>\n",
       "      <td>1.538453</td>\n",
       "      <td>91.048056</td>\n",
       "      <td>905.729954</td>\n",
       "      <td>905.567611</td>\n",
       "      <td>43.070527</td>\n",
       "      <td>42.988682</td>\n",
       "    </tr>\n",
       "    <tr>\n",
       "      <th>Glucose_mean</th>\n",
       "      <td>10.594003</td>\n",
       "      <td>910.664615</td>\n",
       "      <td>70.663804</td>\n",
       "      <td>74.046061</td>\n",
       "      <td>2080.637677</td>\n",
       "      <td>43.664307</td>\n",
       "      <td>1.537970</td>\n",
       "      <td>91.022500</td>\n",
       "      <td>905.567611</td>\n",
       "      <td>905.567611</td>\n",
       "      <td>43.176053</td>\n",
       "      <td>43.094064</td>\n",
       "    </tr>\n",
       "    <tr>\n",
       "      <th>BMI_median</th>\n",
       "      <td>-0.003119</td>\n",
       "      <td>43.419070</td>\n",
       "      <td>22.623877</td>\n",
       "      <td>49.150574</td>\n",
       "      <td>168.440922</td>\n",
       "      <td>46.836729</td>\n",
       "      <td>0.431533</td>\n",
       "      <td>0.222201</td>\n",
       "      <td>43.070527</td>\n",
       "      <td>43.176053</td>\n",
       "      <td>46.226761</td>\n",
       "      <td>46.225055</td>\n",
       "    </tr>\n",
       "    <tr>\n",
       "      <th>BMI_mean</th>\n",
       "      <td>-0.001929</td>\n",
       "      <td>43.336620</td>\n",
       "      <td>22.636342</td>\n",
       "      <td>49.137244</td>\n",
       "      <td>168.347780</td>\n",
       "      <td>46.836729</td>\n",
       "      <td>0.431713</td>\n",
       "      <td>0.192394</td>\n",
       "      <td>42.988682</td>\n",
       "      <td>43.094064</td>\n",
       "      <td>46.225055</td>\n",
       "      <td>46.225055</td>\n",
       "    </tr>\n",
       "  </tbody>\n",
       "</table>\n",
       "</div>"
      ],
      "text/plain": [
       "                          Pregnancies      Glucose  BloodPressure  SkinThickness       Insulin         BMI  DiabetesPedigreeFunction         Age  Glucose_median  \\\n",
       "Pregnancies                 11.799119    10.653632       8.131031       2.720128     28.296017   -0.001955                 -0.097052   21.639807       10.595073   \n",
       "Glucose                     10.653632   910.664615      71.082156      74.655254   2088.461455   43.917901                  1.546626   91.534822      910.664615   \n",
       "BloodPressure                8.131031    71.082156     152.281524      32.203997     93.689162   22.772129                 -0.117432   49.348581       70.615874   \n",
       "SkinThickness                2.720128    74.655254      32.203997     117.552508    198.237564   49.386498                  0.548667   18.833832       73.988766   \n",
       "Insulin                     28.296017  2088.461455      93.689162     198.237564  14383.971190  168.845591                  8.105779  306.025382     2083.423854   \n",
       "BMI                         -0.001955    43.917901      22.772129      49.386498    168.845591   46.836729                  0.437426    0.194940       43.557531   \n",
       "DiabetesPedigreeFunction    -0.097052     1.546626      -0.117432       0.548667      8.105779    0.437426                  0.116864    0.021697        1.538453   \n",
       "Age                         21.639807    91.534822      49.348581      18.833832    306.025382    0.194940                  0.021697  144.373454       91.048056   \n",
       "Glucose_median              10.595073   910.664615      70.615874      73.988766   2083.423854   43.557531                  1.538453   91.048056      905.729954   \n",
       "Glucose_mean                10.594003   910.664615      70.663804      74.046061   2080.637677   43.664307                  1.537970   91.022500      905.567611   \n",
       "BMI_median                  -0.003119    43.419070      22.623877      49.150574    168.440922   46.836729                  0.431533    0.222201       43.070527   \n",
       "BMI_mean                    -0.001929    43.336620      22.636342      49.137244    168.347780   46.836729                  0.431713    0.192394       42.988682   \n",
       "\n",
       "                          Glucose_mean  BMI_median    BMI_mean  \n",
       "Pregnancies                  10.594003   -0.003119   -0.001929  \n",
       "Glucose                     910.664615   43.419070   43.336620  \n",
       "BloodPressure                70.663804   22.623877   22.636342  \n",
       "SkinThickness                74.046061   49.150574   49.137244  \n",
       "Insulin                    2080.637677  168.440922  168.347780  \n",
       "BMI                          43.664307   46.836729   46.836729  \n",
       "DiabetesPedigreeFunction      1.537970    0.431533    0.431713  \n",
       "Age                          91.022500    0.222201    0.192394  \n",
       "Glucose_median              905.567611   43.070527   42.988682  \n",
       "Glucose_mean                905.567611   43.176053   43.094064  \n",
       "BMI_median                   43.176053   46.226761   46.225055  \n",
       "BMI_mean                     43.094064   46.225055   46.225055  "
      ]
     },
     "execution_count": 190,
     "metadata": {},
     "output_type": "execute_result"
    }
   ],
   "source": [
    "X_train.cov()"
   ]
  },
  {
   "cell_type": "markdown",
   "metadata": {},
   "source": [
    "#### BloodPressure"
   ]
  },
  {
   "cell_type": "code",
   "execution_count": null,
   "metadata": {},
   "outputs": [],
   "source": []
  },
  {
   "cell_type": "code",
   "execution_count": 191,
   "metadata": {},
   "outputs": [],
   "source": [
    "X_train['BloodPressure_median'] = X_train['BloodPressure']\n",
    "X_train['BloodPressure_mean'] = X_train['BloodPressure']\n",
    "X_test['BloodPressure_median'] = X_test['BloodPressure']\n",
    "X_test['BloodPressure_mean'] = X_test['BloodPressure']\n",
    "\n",
    "X_train['BloodPressure_median'] = X_train['BloodPressure'].fillna(X_train['BloodPressure'].median())\n",
    "X_train['BloodPressure_mean'] = X_train['BloodPressure'].fillna(X_train['BloodPressure'].mean())\n",
    "X_test['BloodPressure_median'] = X_test['BloodPressure'].fillna(X_train['BloodPressure'].median())\n",
    "X_test['BloodPressure_mean'] = X_test['BloodPressure'].fillna(X_train['BloodPressure'].mean())"
   ]
  },
  {
   "cell_type": "code",
   "execution_count": 192,
   "metadata": {},
   "outputs": [
    {
     "name": "stdout",
     "output_type": "stream",
     "text": [
      "Original variable variance:  152.281524122807\n",
      "Variance after median imputation:  145.47302593179364\n",
      "Variance after mean imputation:  145.46294841581556\n"
     ]
    }
   ],
   "source": [
    "print('Original variable variance: ', X_train['BloodPressure'].var())\n",
    "print('Variance after median imputation: ', X_train['BloodPressure_median'].var())\n",
    "print('Variance after mean imputation: ', X_train['BloodPressure_mean'].var())"
   ]
  },
  {
   "cell_type": "code",
   "execution_count": 193,
   "metadata": {},
   "outputs": [
    {
     "data": {
      "text/plain": [
       "<matplotlib.legend.Legend at 0x2b28334a198>"
      ]
     },
     "execution_count": 193,
     "metadata": {},
     "output_type": "execute_result"
    },
    {
     "data": {
      "image/png": "[encoded data removed]",
      "text/plain": [
       "<Figure size 432x288 with 1 Axes>"
      ]
     },
     "metadata": {},
     "output_type": "display_data"
    }
   ],
   "source": [
    "# we can see that the distribution has changed \n",
    "# with now more values accumulating towards the median\n",
    "# or median\n",
    "\n",
    "fig = plt.figure()\n",
    "ax = fig.add_subplot(111)\n",
    "\n",
    "# original variable distribution\n",
    "X_train['BloodPressure'].plot(kind='kde', ax=ax)\n",
    "\n",
    "# variable imputed with the median\n",
    "X_train['BloodPressure_median'].plot(kind='kde', ax=ax, color='red')\n",
    "\n",
    "# variable imputed with the mean\n",
    "X_train['BloodPressure_mean'].plot(kind='kde', ax=ax, color='green')\n",
    "\n",
    "# add legends\n",
    "lines, labels = ax.get_legend_handles_labels()\n",
    "ax.legend(lines, labels, loc='best')"
   ]
  },
  {
   "cell_type": "code",
   "execution_count": 194,
   "metadata": {
    "scrolled": true
   },
   "outputs": [
    {
     "data": {
      "text/html": [
       "<div>\n",
       "<style scoped>\n",
       "    .dataframe tbody tr th:only-of-type {\n",
       "        vertical-align: middle;\n",
       "    }\n",
       "\n",
       "    .dataframe tbody tr th {\n",
       "        vertical-align: top;\n",
       "    }\n",
       "\n",
       "    .dataframe thead th {\n",
       "        text-align: right;\n",
       "    }\n",
       "</style>\n",
       "<table border=\"1\" class=\"dataframe\">\n",
       "  <thead>\n",
       "    <tr style=\"text-align: right;\">\n",
       "      <th></th>\n",
       "      <th>Pregnancies</th>\n",
       "      <th>Glucose</th>\n",
       "      <th>BloodPressure</th>\n",
       "      <th>SkinThickness</th>\n",
       "      <th>Insulin</th>\n",
       "      <th>BMI</th>\n",
       "      <th>DiabetesPedigreeFunction</th>\n",
       "      <th>Age</th>\n",
       "      <th>Glucose_median</th>\n",
       "      <th>Glucose_mean</th>\n",
       "      <th>BMI_median</th>\n",
       "      <th>BMI_mean</th>\n",
       "      <th>BloodPressure_median</th>\n",
       "      <th>BloodPressure_mean</th>\n",
       "    </tr>\n",
       "  </thead>\n",
       "  <tbody>\n",
       "    <tr>\n",
       "      <th>Pregnancies</th>\n",
       "      <td>11.799119</td>\n",
       "      <td>10.653632</td>\n",
       "      <td>8.131031</td>\n",
       "      <td>2.720128</td>\n",
       "      <td>28.296017</td>\n",
       "      <td>-0.001955</td>\n",
       "      <td>-0.097052</td>\n",
       "      <td>21.639807</td>\n",
       "      <td>10.595073</td>\n",
       "      <td>10.594003</td>\n",
       "      <td>-0.003119</td>\n",
       "      <td>-0.001929</td>\n",
       "      <td>7.755951</td>\n",
       "      <td>7.766955</td>\n",
       "    </tr>\n",
       "    <tr>\n",
       "      <th>Glucose</th>\n",
       "      <td>10.653632</td>\n",
       "      <td>910.664615</td>\n",
       "      <td>71.082156</td>\n",
       "      <td>74.655254</td>\n",
       "      <td>2088.461455</td>\n",
       "      <td>43.917901</td>\n",
       "      <td>1.546626</td>\n",
       "      <td>91.534822</td>\n",
       "      <td>910.664615</td>\n",
       "      <td>910.664615</td>\n",
       "      <td>43.419070</td>\n",
       "      <td>43.336620</td>\n",
       "      <td>67.976769</td>\n",
       "      <td>67.879677</td>\n",
       "    </tr>\n",
       "    <tr>\n",
       "      <th>BloodPressure</th>\n",
       "      <td>8.131031</td>\n",
       "      <td>71.082156</td>\n",
       "      <td>152.281524</td>\n",
       "      <td>32.203997</td>\n",
       "      <td>93.689162</td>\n",
       "      <td>22.772129</td>\n",
       "      <td>-0.117432</td>\n",
       "      <td>49.348581</td>\n",
       "      <td>70.615874</td>\n",
       "      <td>70.663804</td>\n",
       "      <td>22.623877</td>\n",
       "      <td>22.636342</td>\n",
       "      <td>152.281524</td>\n",
       "      <td>152.281524</td>\n",
       "    </tr>\n",
       "    <tr>\n",
       "      <th>SkinThickness</th>\n",
       "      <td>2.720128</td>\n",
       "      <td>74.655254</td>\n",
       "      <td>32.203997</td>\n",
       "      <td>117.552508</td>\n",
       "      <td>198.237564</td>\n",
       "      <td>49.386498</td>\n",
       "      <td>0.548667</td>\n",
       "      <td>18.833832</td>\n",
       "      <td>73.988766</td>\n",
       "      <td>74.046061</td>\n",
       "      <td>49.150574</td>\n",
       "      <td>49.137244</td>\n",
       "      <td>32.019044</td>\n",
       "      <td>32.010541</td>\n",
       "    </tr>\n",
       "    <tr>\n",
       "      <th>Insulin</th>\n",
       "      <td>28.296017</td>\n",
       "      <td>2088.461455</td>\n",
       "      <td>93.689162</td>\n",
       "      <td>198.237564</td>\n",
       "      <td>14383.971190</td>\n",
       "      <td>168.845591</td>\n",
       "      <td>8.105779</td>\n",
       "      <td>306.025382</td>\n",
       "      <td>2083.423854</td>\n",
       "      <td>2080.637677</td>\n",
       "      <td>168.440922</td>\n",
       "      <td>168.347780</td>\n",
       "      <td>93.689162</td>\n",
       "      <td>93.689162</td>\n",
       "    </tr>\n",
       "    <tr>\n",
       "      <th>BMI</th>\n",
       "      <td>-0.001955</td>\n",
       "      <td>43.917901</td>\n",
       "      <td>22.772129</td>\n",
       "      <td>49.386498</td>\n",
       "      <td>168.845591</td>\n",
       "      <td>46.836729</td>\n",
       "      <td>0.437426</td>\n",
       "      <td>0.194940</td>\n",
       "      <td>43.557531</td>\n",
       "      <td>43.664307</td>\n",
       "      <td>46.836729</td>\n",
       "      <td>46.836729</td>\n",
       "      <td>21.941081</td>\n",
       "      <td>21.908898</td>\n",
       "    </tr>\n",
       "    <tr>\n",
       "      <th>DiabetesPedigreeFunction</th>\n",
       "      <td>-0.097052</td>\n",
       "      <td>1.546626</td>\n",
       "      <td>-0.117432</td>\n",
       "      <td>0.548667</td>\n",
       "      <td>8.105779</td>\n",
       "      <td>0.437426</td>\n",
       "      <td>0.116864</td>\n",
       "      <td>0.021697</td>\n",
       "      <td>1.538453</td>\n",
       "      <td>1.537970</td>\n",
       "      <td>0.431533</td>\n",
       "      <td>0.431713</td>\n",
       "      <td>-0.110612</td>\n",
       "      <td>-0.112174</td>\n",
       "    </tr>\n",
       "    <tr>\n",
       "      <th>Age</th>\n",
       "      <td>21.639807</td>\n",
       "      <td>91.534822</td>\n",
       "      <td>49.348581</td>\n",
       "      <td>18.833832</td>\n",
       "      <td>306.025382</td>\n",
       "      <td>0.194940</td>\n",
       "      <td>0.021697</td>\n",
       "      <td>144.373454</td>\n",
       "      <td>91.048056</td>\n",
       "      <td>91.022500</td>\n",
       "      <td>0.222201</td>\n",
       "      <td>0.192394</td>\n",
       "      <td>47.178146</td>\n",
       "      <td>47.138943</td>\n",
       "    </tr>\n",
       "    <tr>\n",
       "      <th>Glucose_median</th>\n",
       "      <td>10.595073</td>\n",
       "      <td>910.664615</td>\n",
       "      <td>70.615874</td>\n",
       "      <td>73.988766</td>\n",
       "      <td>2083.423854</td>\n",
       "      <td>43.557531</td>\n",
       "      <td>1.538453</td>\n",
       "      <td>91.048056</td>\n",
       "      <td>905.729954</td>\n",
       "      <td>905.567611</td>\n",
       "      <td>43.070527</td>\n",
       "      <td>42.988682</td>\n",
       "      <td>67.549862</td>\n",
       "      <td>67.453969</td>\n",
       "    </tr>\n",
       "    <tr>\n",
       "      <th>Glucose_mean</th>\n",
       "      <td>10.594003</td>\n",
       "      <td>910.664615</td>\n",
       "      <td>70.663804</td>\n",
       "      <td>74.046061</td>\n",
       "      <td>2080.637677</td>\n",
       "      <td>43.664307</td>\n",
       "      <td>1.537970</td>\n",
       "      <td>91.022500</td>\n",
       "      <td>905.567611</td>\n",
       "      <td>905.567611</td>\n",
       "      <td>43.176053</td>\n",
       "      <td>43.094064</td>\n",
       "      <td>67.596302</td>\n",
       "      <td>67.499753</td>\n",
       "    </tr>\n",
       "    <tr>\n",
       "      <th>BMI_median</th>\n",
       "      <td>-0.003119</td>\n",
       "      <td>43.419070</td>\n",
       "      <td>22.623877</td>\n",
       "      <td>49.150574</td>\n",
       "      <td>168.440922</td>\n",
       "      <td>46.836729</td>\n",
       "      <td>0.431533</td>\n",
       "      <td>0.222201</td>\n",
       "      <td>43.070527</td>\n",
       "      <td>43.176053</td>\n",
       "      <td>46.226761</td>\n",
       "      <td>46.225055</td>\n",
       "      <td>21.643845</td>\n",
       "      <td>21.610868</td>\n",
       "    </tr>\n",
       "    <tr>\n",
       "      <th>BMI_mean</th>\n",
       "      <td>-0.001929</td>\n",
       "      <td>43.336620</td>\n",
       "      <td>22.636342</td>\n",
       "      <td>49.137244</td>\n",
       "      <td>168.347780</td>\n",
       "      <td>46.836729</td>\n",
       "      <td>0.431713</td>\n",
       "      <td>0.192394</td>\n",
       "      <td>42.988682</td>\n",
       "      <td>43.094064</td>\n",
       "      <td>46.225055</td>\n",
       "      <td>46.225055</td>\n",
       "      <td>21.654537</td>\n",
       "      <td>21.622775</td>\n",
       "    </tr>\n",
       "    <tr>\n",
       "      <th>BloodPressure_median</th>\n",
       "      <td>7.755951</td>\n",
       "      <td>67.976769</td>\n",
       "      <td>152.281524</td>\n",
       "      <td>32.019044</td>\n",
       "      <td>93.689162</td>\n",
       "      <td>21.941081</td>\n",
       "      <td>-0.110612</td>\n",
       "      <td>47.178146</td>\n",
       "      <td>67.549862</td>\n",
       "      <td>67.596302</td>\n",
       "      <td>21.643845</td>\n",
       "      <td>21.654537</td>\n",
       "      <td>145.473026</td>\n",
       "      <td>145.462948</td>\n",
       "    </tr>\n",
       "    <tr>\n",
       "      <th>BloodPressure_mean</th>\n",
       "      <td>7.766955</td>\n",
       "      <td>67.879677</td>\n",
       "      <td>152.281524</td>\n",
       "      <td>32.010541</td>\n",
       "      <td>93.689162</td>\n",
       "      <td>21.908898</td>\n",
       "      <td>-0.112174</td>\n",
       "      <td>47.138943</td>\n",
       "      <td>67.453969</td>\n",
       "      <td>67.499753</td>\n",
       "      <td>21.610868</td>\n",
       "      <td>21.622775</td>\n",
       "      <td>145.462948</td>\n",
       "      <td>145.462948</td>\n",
       "    </tr>\n",
       "  </tbody>\n",
       "</table>\n",
       "</div>"
      ],
      "text/plain": [
       "                          Pregnancies      Glucose  BloodPressure  SkinThickness       Insulin         BMI  DiabetesPedigreeFunction         Age  Glucose_median  \\\n",
       "Pregnancies                 11.799119    10.653632       8.131031       2.720128     28.296017   -0.001955                 -0.097052   21.639807       10.595073   \n",
       "Glucose                     10.653632   910.664615      71.082156      74.655254   2088.461455   43.917901                  1.546626   91.534822      910.664615   \n",
       "BloodPressure                8.131031    71.082156     152.281524      32.203997     93.689162   22.772129                 -0.117432   49.348581       70.615874   \n",
       "SkinThickness                2.720128    74.655254      32.203997     117.552508    198.237564   49.386498                  0.548667   18.833832       73.988766   \n",
       "Insulin                     28.296017  2088.461455      93.689162     198.237564  14383.971190  168.845591                  8.105779  306.025382     2083.423854   \n",
       "BMI                         -0.001955    43.917901      22.772129      49.386498    168.845591   46.836729                  0.437426    0.194940       43.557531   \n",
       "DiabetesPedigreeFunction    -0.097052     1.546626      -0.117432       0.548667      8.105779    0.437426                  0.116864    0.021697        1.538453   \n",
       "Age                         21.639807    91.534822      49.348581      18.833832    306.025382    0.194940                  0.021697  144.373454       91.048056   \n",
       "Glucose_median              10.595073   910.664615      70.615874      73.988766   2083.423854   43.557531                  1.538453   91.048056      905.729954   \n",
       "Glucose_mean                10.594003   910.664615      70.663804      74.046061   2080.637677   43.664307                  1.537970   91.022500      905.567611   \n",
       "BMI_median                  -0.003119    43.419070      22.623877      49.150574    168.440922   46.836729                  0.431533    0.222201       43.070527   \n",
       "BMI_mean                    -0.001929    43.336620      22.636342      49.137244    168.347780   46.836729                  0.431713    0.192394       42.988682   \n",
       "BloodPressure_median         7.755951    67.976769     152.281524      32.019044     93.689162   21.941081                 -0.110612   47.178146       67.549862   \n",
       "BloodPressure_mean           7.766955    67.879677     152.281524      32.010541     93.689162   21.908898                 -0.112174   47.138943       67.453969   \n",
       "\n",
       "                          Glucose_mean  BMI_median    BMI_mean  BloodPressure_median  BloodPressure_mean  \n",
       "Pregnancies                  10.594003   -0.003119   -0.001929              7.755951            7.766955  \n",
       "Glucose                     910.664615   43.419070   43.336620             67.976769           67.879677  \n",
       "BloodPressure                70.663804   22.623877   22.636342            152.281524          152.281524  \n",
       "SkinThickness                74.046061   49.150574   49.137244             32.019044           32.010541  \n",
       "Insulin                    2080.637677  168.440922  168.347780             93.689162           93.689162  \n",
       "BMI                          43.664307   46.836729   46.836729             21.941081           21.908898  \n",
       "DiabetesPedigreeFunction      1.537970    0.431533    0.431713             -0.110612           -0.112174  \n",
       "Age                          91.022500    0.222201    0.192394             47.178146           47.138943  \n",
       "Glucose_median              905.567611   43.070527   42.988682             67.549862           67.453969  \n",
       "Glucose_mean                905.567611   43.176053   43.094064             67.596302           67.499753  \n",
       "BMI_median                   43.176053   46.226761   46.225055             21.643845           21.610868  \n",
       "BMI_mean                     43.094064   46.225055   46.225055             21.654537           21.622775  \n",
       "BloodPressure_median         67.596302   21.643845   21.654537            145.473026          145.462948  \n",
       "BloodPressure_mean           67.499753   21.610868   21.622775            145.462948          145.462948  "
      ]
     },
     "execution_count": 194,
     "metadata": {},
     "output_type": "execute_result"
    }
   ],
   "source": [
    "X_train.cov()"
   ]
  },
  {
   "cell_type": "markdown",
   "metadata": {},
   "source": [
    "#### SkinThickness"
   ]
  },
  {
   "cell_type": "code",
   "execution_count": null,
   "metadata": {},
   "outputs": [],
   "source": []
  },
  {
   "cell_type": "code",
   "execution_count": 195,
   "metadata": {},
   "outputs": [],
   "source": [
    "X_train['SkinThickness_median'] = X_train['SkinThickness']\n",
    "X_train['SkinThickness_mean'] = X_train['SkinThickness']\n",
    "\n",
    "X_train['SkinThickness_median'] = X_train['SkinThickness'].fillna(X_train['SkinThickness'].median())\n",
    "X_train['SkinThickness_mean'] = X_train['SkinThickness'].fillna(X_train['SkinThickness'].mean())\n",
    "\n",
    "X_train['SkinThickness_random'] = X_train['SkinThickness'].copy()\n",
    "X_test['SkinThickness_random'] = X_test['SkinThickness'].copy()\n",
    "random_sample_train = X_train['SkinThickness'].dropna().sample(X_train['SkinThickness'].isnull().sum(), random_state=0)\n",
    "random_sample_test = X_train['SkinThickness'].dropna().sample(X_test['SkinThickness'].isnull().sum(), random_state=0)\n",
    "# pandas needs to have the same index in order to merge datasets\n",
    "random_sample_train.index = X_train[X_train['SkinThickness'].isnull()].index\n",
    "random_sample_test.index = X_test[X_test['SkinThickness'].isnull()].index\n",
    "\n",
    "# replace the NA in the newly created variable\n",
    "X_train.loc[X_train['SkinThickness'].isnull(), 'SkinThickness_random'] = random_sample_train\n",
    "X_test.loc[X_test['SkinThickness'].isnull(), 'SkinThickness_random'] = random_sample_test"
   ]
  },
  {
   "cell_type": "code",
   "execution_count": 196,
   "metadata": {},
   "outputs": [
    {
     "name": "stdout",
     "output_type": "stream",
     "text": [
      "Original variable variance:  117.55250815205244\n",
      "Variance after median imputation:  80.28783457016586\n",
      "Variance after mean imputation:  80.26906340233442\n",
      "Variance after random sampling imputation:  121.06926957391791\n"
     ]
    }
   ],
   "source": [
    "print('Original variable variance: ', X_train['SkinThickness'].var())\n",
    "print('Variance after median imputation: ', X_train['SkinThickness_median'].var())\n",
    "print('Variance after mean imputation: ', X_train['SkinThickness_mean'].var())\n",
    "print('Variance after random sampling imputation: ', X_train['SkinThickness_random'].var())"
   ]
  },
  {
   "cell_type": "code",
   "execution_count": 197,
   "metadata": {},
   "outputs": [
    {
     "data": {
      "text/plain": [
       "0"
      ]
     },
     "execution_count": 197,
     "metadata": {},
     "output_type": "execute_result"
    }
   ],
   "source": [
    "X_test['SkinThickness_random'].isnull().sum()"
   ]
  },
  {
   "cell_type": "code",
   "execution_count": 198,
   "metadata": {},
   "outputs": [
    {
     "data": {
      "text/plain": [
       "<matplotlib.legend.Legend at 0x2b283580cf8>"
      ]
     },
     "execution_count": 198,
     "metadata": {},
     "output_type": "execute_result"
    },
    {
     "data": {
      "image/png": "[encoded data removed]",
      "text/plain": [
       "<Figure size 432x288 with 1 Axes>"
      ]
     },
     "metadata": {},
     "output_type": "display_data"
    }
   ],
   "source": [
    "# we can see that the distribution has changed \n",
    "# with now more values accumulating towards the median\n",
    "# or median\n",
    "\n",
    "fig = plt.figure()\n",
    "ax = fig.add_subplot(111)\n",
    "\n",
    "# original variable distribution\n",
    "X_train['SkinThickness'].plot(kind='kde', ax=ax)\n",
    "\n",
    "# variable imputed with the median\n",
    "X_train['SkinThickness_median'].plot(kind='kde', ax=ax, color='red')\n",
    "\n",
    "# variable imputed with the mean\n",
    "X_train['SkinThickness_mean'].plot(kind='kde', ax=ax, color='green')\n",
    "\n",
    "# variable imputed with the mean\n",
    "X_train['SkinThickness_random'].plot(kind='kde', ax=ax, color='black')\n",
    "\n",
    "# add legends\n",
    "lines, labels = ax.get_legend_handles_labels()\n",
    "ax.legend(lines, labels, loc='best')"
   ]
  },
  {
   "cell_type": "code",
   "execution_count": 199,
   "metadata": {
    "scrolled": false
   },
   "outputs": [
    {
     "data": {
      "text/html": [
       "<div>\n",
       "<style scoped>\n",
       "    .dataframe tbody tr th:only-of-type {\n",
       "        vertical-align: middle;\n",
       "    }\n",
       "\n",
       "    .dataframe tbody tr th {\n",
       "        vertical-align: top;\n",
       "    }\n",
       "\n",
       "    .dataframe thead th {\n",
       "        text-align: right;\n",
       "    }\n",
       "</style>\n",
       "<table border=\"1\" class=\"dataframe\">\n",
       "  <thead>\n",
       "    <tr style=\"text-align: right;\">\n",
       "      <th></th>\n",
       "      <th>Pregnancies</th>\n",
       "      <th>Glucose</th>\n",
       "      <th>BloodPressure</th>\n",
       "      <th>SkinThickness</th>\n",
       "      <th>Insulin</th>\n",
       "      <th>BMI</th>\n",
       "      <th>DiabetesPedigreeFunction</th>\n",
       "      <th>Age</th>\n",
       "      <th>Glucose_median</th>\n",
       "      <th>Glucose_mean</th>\n",
       "      <th>BMI_median</th>\n",
       "      <th>BMI_mean</th>\n",
       "      <th>BloodPressure_median</th>\n",
       "      <th>BloodPressure_mean</th>\n",
       "      <th>SkinThickness_median</th>\n",
       "      <th>SkinThickness_mean</th>\n",
       "      <th>SkinThickness_random</th>\n",
       "    </tr>\n",
       "  </thead>\n",
       "  <tbody>\n",
       "    <tr>\n",
       "      <th>Pregnancies</th>\n",
       "      <td>11.799119</td>\n",
       "      <td>10.653632</td>\n",
       "      <td>8.131031</td>\n",
       "      <td>2.720128</td>\n",
       "      <td>28.296017</td>\n",
       "      <td>-0.001955</td>\n",
       "      <td>-0.097052</td>\n",
       "      <td>21.639807</td>\n",
       "      <td>10.595073</td>\n",
       "      <td>10.594003</td>\n",
       "      <td>-0.003119</td>\n",
       "      <td>-0.001929</td>\n",
       "      <td>7.755951</td>\n",
       "      <td>7.766955</td>\n",
       "      <td>1.938099</td>\n",
       "      <td>1.857401</td>\n",
       "      <td>3.544276</td>\n",
       "    </tr>\n",
       "    <tr>\n",
       "      <th>Glucose</th>\n",
       "      <td>10.653632</td>\n",
       "      <td>910.664615</td>\n",
       "      <td>71.082156</td>\n",
       "      <td>74.655254</td>\n",
       "      <td>2088.461455</td>\n",
       "      <td>43.917901</td>\n",
       "      <td>1.546626</td>\n",
       "      <td>91.534822</td>\n",
       "      <td>910.664615</td>\n",
       "      <td>910.664615</td>\n",
       "      <td>43.419070</td>\n",
       "      <td>43.336620</td>\n",
       "      <td>67.976769</td>\n",
       "      <td>67.879677</td>\n",
       "      <td>50.897717</td>\n",
       "      <td>50.845888</td>\n",
       "      <td>57.206611</td>\n",
       "    </tr>\n",
       "    <tr>\n",
       "      <th>BloodPressure</th>\n",
       "      <td>8.131031</td>\n",
       "      <td>71.082156</td>\n",
       "      <td>152.281524</td>\n",
       "      <td>32.203997</td>\n",
       "      <td>93.689162</td>\n",
       "      <td>22.772129</td>\n",
       "      <td>-0.117432</td>\n",
       "      <td>49.348581</td>\n",
       "      <td>70.615874</td>\n",
       "      <td>70.663804</td>\n",
       "      <td>22.623877</td>\n",
       "      <td>22.636342</td>\n",
       "      <td>152.281524</td>\n",
       "      <td>152.281524</td>\n",
       "      <td>23.091843</td>\n",
       "      <td>22.882535</td>\n",
       "      <td>31.681229</td>\n",
       "    </tr>\n",
       "    <tr>\n",
       "      <th>SkinThickness</th>\n",
       "      <td>2.720128</td>\n",
       "      <td>74.655254</td>\n",
       "      <td>32.203997</td>\n",
       "      <td>117.552508</td>\n",
       "      <td>198.237564</td>\n",
       "      <td>49.386498</td>\n",
       "      <td>0.548667</td>\n",
       "      <td>18.833832</td>\n",
       "      <td>73.988766</td>\n",
       "      <td>74.046061</td>\n",
       "      <td>49.150574</td>\n",
       "      <td>49.137244</td>\n",
       "      <td>32.019044</td>\n",
       "      <td>32.010541</td>\n",
       "      <td>117.552508</td>\n",
       "      <td>117.552508</td>\n",
       "      <td>117.552508</td>\n",
       "    </tr>\n",
       "    <tr>\n",
       "      <th>Insulin</th>\n",
       "      <td>28.296017</td>\n",
       "      <td>2088.461455</td>\n",
       "      <td>93.689162</td>\n",
       "      <td>198.237564</td>\n",
       "      <td>14383.971190</td>\n",
       "      <td>168.845591</td>\n",
       "      <td>8.105779</td>\n",
       "      <td>306.025382</td>\n",
       "      <td>2083.423854</td>\n",
       "      <td>2080.637677</td>\n",
       "      <td>168.440922</td>\n",
       "      <td>168.347780</td>\n",
       "      <td>93.689162</td>\n",
       "      <td>93.689162</td>\n",
       "      <td>198.237564</td>\n",
       "      <td>198.237564</td>\n",
       "      <td>198.237564</td>\n",
       "    </tr>\n",
       "    <tr>\n",
       "      <th>BMI</th>\n",
       "      <td>-0.001955</td>\n",
       "      <td>43.917901</td>\n",
       "      <td>22.772129</td>\n",
       "      <td>49.386498</td>\n",
       "      <td>168.845591</td>\n",
       "      <td>46.836729</td>\n",
       "      <td>0.437426</td>\n",
       "      <td>0.194940</td>\n",
       "      <td>43.557531</td>\n",
       "      <td>43.664307</td>\n",
       "      <td>46.836729</td>\n",
       "      <td>46.836729</td>\n",
       "      <td>21.941081</td>\n",
       "      <td>21.908898</td>\n",
       "      <td>33.882410</td>\n",
       "      <td>33.996657</td>\n",
       "      <td>36.037723</td>\n",
       "    </tr>\n",
       "    <tr>\n",
       "      <th>DiabetesPedigreeFunction</th>\n",
       "      <td>-0.097052</td>\n",
       "      <td>1.546626</td>\n",
       "      <td>-0.117432</td>\n",
       "      <td>0.548667</td>\n",
       "      <td>8.105779</td>\n",
       "      <td>0.437426</td>\n",
       "      <td>0.116864</td>\n",
       "      <td>0.021697</td>\n",
       "      <td>1.538453</td>\n",
       "      <td>1.537970</td>\n",
       "      <td>0.431533</td>\n",
       "      <td>0.431713</td>\n",
       "      <td>-0.110612</td>\n",
       "      <td>-0.112174</td>\n",
       "      <td>0.367837</td>\n",
       "      <td>0.374649</td>\n",
       "      <td>0.296506</td>\n",
       "    </tr>\n",
       "    <tr>\n",
       "      <th>Age</th>\n",
       "      <td>21.639807</td>\n",
       "      <td>91.534822</td>\n",
       "      <td>49.348581</td>\n",
       "      <td>18.833832</td>\n",
       "      <td>306.025382</td>\n",
       "      <td>0.194940</td>\n",
       "      <td>0.021697</td>\n",
       "      <td>144.373454</td>\n",
       "      <td>91.048056</td>\n",
       "      <td>91.022500</td>\n",
       "      <td>0.222201</td>\n",
       "      <td>0.192394</td>\n",
       "      <td>47.178146</td>\n",
       "      <td>47.138943</td>\n",
       "      <td>13.211394</td>\n",
       "      <td>12.860415</td>\n",
       "      <td>16.848808</td>\n",
       "    </tr>\n",
       "    <tr>\n",
       "      <th>Glucose_median</th>\n",
       "      <td>10.595073</td>\n",
       "      <td>910.664615</td>\n",
       "      <td>70.615874</td>\n",
       "      <td>73.988766</td>\n",
       "      <td>2083.423854</td>\n",
       "      <td>43.557531</td>\n",
       "      <td>1.538453</td>\n",
       "      <td>91.048056</td>\n",
       "      <td>905.729954</td>\n",
       "      <td>905.567611</td>\n",
       "      <td>43.070527</td>\n",
       "      <td>42.988682</td>\n",
       "      <td>67.549862</td>\n",
       "      <td>67.453969</td>\n",
       "      <td>50.576534</td>\n",
       "      <td>50.522180</td>\n",
       "      <td>56.847077</td>\n",
       "    </tr>\n",
       "    <tr>\n",
       "      <th>Glucose_mean</th>\n",
       "      <td>10.594003</td>\n",
       "      <td>910.664615</td>\n",
       "      <td>70.663804</td>\n",
       "      <td>74.046061</td>\n",
       "      <td>2080.637677</td>\n",
       "      <td>43.664307</td>\n",
       "      <td>1.537970</td>\n",
       "      <td>91.022500</td>\n",
       "      <td>905.567611</td>\n",
       "      <td>905.567611</td>\n",
       "      <td>43.176053</td>\n",
       "      <td>43.094064</td>\n",
       "      <td>67.596302</td>\n",
       "      <td>67.499753</td>\n",
       "      <td>50.612842</td>\n",
       "      <td>50.561303</td>\n",
       "      <td>56.886425</td>\n",
       "    </tr>\n",
       "    <tr>\n",
       "      <th>BMI_median</th>\n",
       "      <td>-0.003119</td>\n",
       "      <td>43.419070</td>\n",
       "      <td>22.623877</td>\n",
       "      <td>49.150574</td>\n",
       "      <td>168.440922</td>\n",
       "      <td>46.836729</td>\n",
       "      <td>0.431533</td>\n",
       "      <td>0.222201</td>\n",
       "      <td>43.070527</td>\n",
       "      <td>43.176053</td>\n",
       "      <td>46.226761</td>\n",
       "      <td>46.225055</td>\n",
       "      <td>21.643845</td>\n",
       "      <td>21.610868</td>\n",
       "      <td>33.448462</td>\n",
       "      <td>33.561773</td>\n",
       "      <td>35.559539</td>\n",
       "    </tr>\n",
       "    <tr>\n",
       "      <th>BMI_mean</th>\n",
       "      <td>-0.001929</td>\n",
       "      <td>43.336620</td>\n",
       "      <td>22.636342</td>\n",
       "      <td>49.137244</td>\n",
       "      <td>168.347780</td>\n",
       "      <td>46.836729</td>\n",
       "      <td>0.431713</td>\n",
       "      <td>0.192394</td>\n",
       "      <td>42.988682</td>\n",
       "      <td>43.094064</td>\n",
       "      <td>46.225055</td>\n",
       "      <td>46.225055</td>\n",
       "      <td>21.654537</td>\n",
       "      <td>21.622775</td>\n",
       "      <td>33.439916</td>\n",
       "      <td>33.552670</td>\n",
       "      <td>35.567081</td>\n",
       "    </tr>\n",
       "    <tr>\n",
       "      <th>BloodPressure_median</th>\n",
       "      <td>7.755951</td>\n",
       "      <td>67.976769</td>\n",
       "      <td>152.281524</td>\n",
       "      <td>32.019044</td>\n",
       "      <td>93.689162</td>\n",
       "      <td>21.941081</td>\n",
       "      <td>-0.110612</td>\n",
       "      <td>47.178146</td>\n",
       "      <td>67.549862</td>\n",
       "      <td>67.596302</td>\n",
       "      <td>21.643845</td>\n",
       "      <td>21.654537</td>\n",
       "      <td>145.473026</td>\n",
       "      <td>145.462948</td>\n",
       "      <td>22.059847</td>\n",
       "      <td>21.863750</td>\n",
       "      <td>30.296861</td>\n",
       "    </tr>\n",
       "    <tr>\n",
       "      <th>BloodPressure_mean</th>\n",
       "      <td>7.766955</td>\n",
       "      <td>67.879677</td>\n",
       "      <td>152.281524</td>\n",
       "      <td>32.010541</td>\n",
       "      <td>93.689162</td>\n",
       "      <td>21.908898</td>\n",
       "      <td>-0.112174</td>\n",
       "      <td>47.138943</td>\n",
       "      <td>67.453969</td>\n",
       "      <td>67.499753</td>\n",
       "      <td>21.610868</td>\n",
       "      <td>21.622775</td>\n",
       "      <td>145.462948</td>\n",
       "      <td>145.462948</td>\n",
       "      <td>22.057879</td>\n",
       "      <td>21.857944</td>\n",
       "      <td>30.262667</td>\n",
       "    </tr>\n",
       "    <tr>\n",
       "      <th>SkinThickness_median</th>\n",
       "      <td>1.938099</td>\n",
       "      <td>50.897717</td>\n",
       "      <td>23.091843</td>\n",
       "      <td>117.552508</td>\n",
       "      <td>198.237564</td>\n",
       "      <td>33.882410</td>\n",
       "      <td>0.367837</td>\n",
       "      <td>13.211394</td>\n",
       "      <td>50.576534</td>\n",
       "      <td>50.612842</td>\n",
       "      <td>33.448462</td>\n",
       "      <td>33.439916</td>\n",
       "      <td>22.059847</td>\n",
       "      <td>22.057879</td>\n",
       "      <td>80.287835</td>\n",
       "      <td>80.269063</td>\n",
       "      <td>80.267573</td>\n",
       "    </tr>\n",
       "    <tr>\n",
       "      <th>SkinThickness_mean</th>\n",
       "      <td>1.857401</td>\n",
       "      <td>50.845888</td>\n",
       "      <td>22.882535</td>\n",
       "      <td>117.552508</td>\n",
       "      <td>198.237564</td>\n",
       "      <td>33.996657</td>\n",
       "      <td>0.374649</td>\n",
       "      <td>12.860415</td>\n",
       "      <td>50.522180</td>\n",
       "      <td>50.561303</td>\n",
       "      <td>33.561773</td>\n",
       "      <td>33.552670</td>\n",
       "      <td>21.863750</td>\n",
       "      <td>21.857944</td>\n",
       "      <td>80.269063</td>\n",
       "      <td>80.269063</td>\n",
       "      <td>80.269063</td>\n",
       "    </tr>\n",
       "    <tr>\n",
       "      <th>SkinThickness_random</th>\n",
       "      <td>3.544276</td>\n",
       "      <td>57.206611</td>\n",
       "      <td>31.681229</td>\n",
       "      <td>117.552508</td>\n",
       "      <td>198.237564</td>\n",
       "      <td>36.037723</td>\n",
       "      <td>0.296506</td>\n",
       "      <td>16.848808</td>\n",
       "      <td>56.847077</td>\n",
       "      <td>56.886425</td>\n",
       "      <td>35.559539</td>\n",
       "      <td>35.567081</td>\n",
       "      <td>30.296861</td>\n",
       "      <td>30.262667</td>\n",
       "      <td>80.267573</td>\n",
       "      <td>80.269063</td>\n",
       "      <td>121.069270</td>\n",
       "    </tr>\n",
       "  </tbody>\n",
       "</table>\n",
       "</div>"
      ],
      "text/plain": [
       "                          Pregnancies      Glucose  BloodPressure  SkinThickness       Insulin         BMI  DiabetesPedigreeFunction         Age  Glucose_median  \\\n",
       "Pregnancies                 11.799119    10.653632       8.131031       2.720128     28.296017   -0.001955                 -0.097052   21.639807       10.595073   \n",
       "Glucose                     10.653632   910.664615      71.082156      74.655254   2088.461455   43.917901                  1.546626   91.534822      910.664615   \n",
       "BloodPressure                8.131031    71.082156     152.281524      32.203997     93.689162   22.772129                 -0.117432   49.348581       70.615874   \n",
       "SkinThickness                2.720128    74.655254      32.203997     117.552508    198.237564   49.386498                  0.548667   18.833832       73.988766   \n",
       "Insulin                     28.296017  2088.461455      93.689162     198.237564  14383.971190  168.845591                  8.105779  306.025382     2083.423854   \n",
       "BMI                         -0.001955    43.917901      22.772129      49.386498    168.845591   46.836729                  0.437426    0.194940       43.557531   \n",
       "DiabetesPedigreeFunction    -0.097052     1.546626      -0.117432       0.548667      8.105779    0.437426                  0.116864    0.021697        1.538453   \n",
       "Age                         21.639807    91.534822      49.348581      18.833832    306.025382    0.194940                  0.021697  144.373454       91.048056   \n",
       "Glucose_median              10.595073   910.664615      70.615874      73.988766   2083.423854   43.557531                  1.538453   91.048056      905.729954   \n",
       "Glucose_mean                10.594003   910.664615      70.663804      74.046061   2080.637677   43.664307                  1.537970   91.022500      905.567611   \n",
       "BMI_median                  -0.003119    43.419070      22.623877      49.150574    168.440922   46.836729                  0.431533    0.222201       43.070527   \n",
       "BMI_mean                    -0.001929    43.336620      22.636342      49.137244    168.347780   46.836729                  0.431713    0.192394       42.988682   \n",
       "BloodPressure_median         7.755951    67.976769     152.281524      32.019044     93.689162   21.941081                 -0.110612   47.178146       67.549862   \n",
       "BloodPressure_mean           7.766955    67.879677     152.281524      32.010541     93.689162   21.908898                 -0.112174   47.138943       67.453969   \n",
       "SkinThickness_median         1.938099    50.897717      23.091843     117.552508    198.237564   33.882410                  0.367837   13.211394       50.576534   \n",
       "SkinThickness_mean           1.857401    50.845888      22.882535     117.552508    198.237564   33.996657                  0.374649   12.860415       50.522180   \n",
       "SkinThickness_random         3.544276    57.206611      31.681229     117.552508    198.237564   36.037723                  0.296506   16.848808       56.847077   \n",
       "\n",
       "                          Glucose_mean  BMI_median    BMI_mean  BloodPressure_median  BloodPressure_mean  SkinThickness_median  SkinThickness_mean  SkinThickness_random  \n",
       "Pregnancies                  10.594003   -0.003119   -0.001929              7.755951            7.766955              1.938099            1.857401              3.544276  \n",
       "Glucose                     910.664615   43.419070   43.336620             67.976769           67.879677             50.897717           50.845888             57.206611  \n",
       "BloodPressure                70.663804   22.623877   22.636342            152.281524          152.281524             23.091843           22.882535             31.681229  \n",
       "SkinThickness                74.046061   49.150574   49.137244             32.019044           32.010541            117.552508          117.552508            117.552508  \n",
       "Insulin                    2080.637677  168.440922  168.347780             93.689162           93.689162            198.237564          198.237564            198.237564  \n",
       "BMI                          43.664307   46.836729   46.836729             21.941081           21.908898             33.882410           33.996657             36.037723  \n",
       "DiabetesPedigreeFunction      1.537970    0.431533    0.431713             -0.110612           -0.112174              0.367837            0.374649              0.296506  \n",
       "Age                          91.022500    0.222201    0.192394             47.178146           47.138943             13.211394           12.860415             16.848808  \n",
       "Glucose_median              905.567611   43.070527   42.988682             67.549862           67.453969             50.576534           50.522180             56.847077  \n",
       "Glucose_mean                905.567611   43.176053   43.094064             67.596302           67.499753             50.612842           50.561303             56.886425  \n",
       "BMI_median                   43.176053   46.226761   46.225055             21.643845           21.610868             33.448462           33.561773             35.559539  \n",
       "BMI_mean                     43.094064   46.225055   46.225055             21.654537           21.622775             33.439916           33.552670             35.567081  \n",
       "BloodPressure_median         67.596302   21.643845   21.654537            145.473026          145.462948             22.059847           21.863750             30.296861  \n",
       "BloodPressure_mean           67.499753   21.610868   21.622775            145.462948          145.462948             22.057879           21.857944             30.262667  \n",
       "SkinThickness_median         50.612842   33.448462   33.439916             22.059847           22.057879             80.287835           80.269063             80.267573  \n",
       "SkinThickness_mean           50.561303   33.561773   33.552670             21.863750           21.857944             80.269063           80.269063             80.269063  \n",
       "SkinThickness_random         56.886425   35.559539   35.567081             30.296861           30.262667             80.267573           80.269063            121.069270  "
      ]
     },
     "execution_count": 199,
     "metadata": {},
     "output_type": "execute_result"
    }
   ],
   "source": [
    "X_train.cov()"
   ]
  },
  {
   "cell_type": "markdown",
   "metadata": {},
   "source": [
    "#### Insulin"
   ]
  },
  {
   "cell_type": "code",
   "execution_count": 232,
   "metadata": {},
   "outputs": [],
   "source": [
    "X_train['Insulin_median'] = X_train['Insulin']\n",
    "X_train['Insulin_mean'] = X_train['Insulin']\n",
    "\n",
    "X_train['Insulin_median'] = X_train['Insulin'].fillna(X_train['Insulin'].median())\n",
    "X_train['Insulin_mean'] = X_train['Insulin'].fillna(X_train['Insulin'].mean())\n",
    "\n",
    "X_train['Insulin_random'] = X_train['Insulin'].copy()\n",
    "X_train['Insulin_random'] = X_train['Insulin'].fillna(-1)\n",
    "X_test['Insulin_random'] = X_test['Insulin'].copy()\n",
    "X_test['Insulin_random'] = X_test['Insulin'].fillna(-1)"
   ]
  },
  {
   "cell_type": "code",
   "execution_count": 233,
   "metadata": {
    "scrolled": true
   },
   "outputs": [
    {
     "data": {
      "text/plain": [
       "<matplotlib.legend.Legend at 0x2b283859080>"
      ]
     },
     "execution_count": 233,
     "metadata": {},
     "output_type": "execute_result"
    },
    {
     "data": {
      "image/png": "[encoded data removed]",
      "text/plain": [
       "<Figure size 432x288 with 1 Axes>"
      ]
     },
     "metadata": {},
     "output_type": "display_data"
    }
   ],
   "source": [
    "# we can see that the distribution has changed \n",
    "# with now more values accumulating towards the median\n",
    "# or median\n",
    "\n",
    "fig = plt.figure()\n",
    "ax = fig.add_subplot(111)\n",
    "\n",
    "# original variable distribution\n",
    "X_train['Insulin'].plot(kind='kde', ax=ax)\n",
    "\n",
    "# variable imputed with the median\n",
    "X_train['Insulin_median'].plot(kind='kde', ax=ax, color='red')\n",
    "\n",
    "# variable imputed with the mean\n",
    "X_train['Insulin_mean'].plot(kind='kde', ax=ax, color='green')\n",
    "\n",
    "# variable imputed with the mean\n",
    "X_train['Insulin_random'].plot(kind='kde', ax=ax, color='black')\n",
    "\n",
    "# add legends\n",
    "lines, labels = ax.get_legend_handles_labels()\n",
    "ax.legend(lines, labels, loc='best')"
   ]
  },
  {
   "cell_type": "code",
   "execution_count": null,
   "metadata": {},
   "outputs": [],
   "source": [
    "\n"
   ]
  },
  {
   "cell_type": "code",
   "execution_count": null,
   "metadata": {},
   "outputs": [],
   "source": []
  },
  {
   "cell_type": "code",
   "execution_count": 124,
   "metadata": {
    "scrolled": false
   },
   "outputs": [
    {
     "data": {
      "text/html": [
       "<div>\n",
       "<style scoped>\n",
       "    .dataframe tbody tr th:only-of-type {\n",
       "        vertical-align: middle;\n",
       "    }\n",
       "\n",
       "    .dataframe tbody tr th {\n",
       "        vertical-align: top;\n",
       "    }\n",
       "\n",
       "    .dataframe thead th {\n",
       "        text-align: right;\n",
       "    }\n",
       "</style>\n",
       "<table border=\"1\" class=\"dataframe\">\n",
       "  <thead>\n",
       "    <tr style=\"text-align: right;\">\n",
       "      <th></th>\n",
       "      <th>Pregnancies</th>\n",
       "      <th>Glucose</th>\n",
       "      <th>BloodPressure</th>\n",
       "      <th>SkinThickness</th>\n",
       "      <th>Insulin</th>\n",
       "      <th>BMI</th>\n",
       "      <th>DiabetesPedigreeFunction</th>\n",
       "      <th>Age</th>\n",
       "      <th>Glucose_median</th>\n",
       "      <th>Glucose_mean</th>\n",
       "      <th>BMI_median</th>\n",
       "      <th>BMI_mean</th>\n",
       "      <th>BloodPressure_median</th>\n",
       "      <th>BloodPressure_mean</th>\n",
       "      <th>SkinThickness_median</th>\n",
       "      <th>SkinThickness_mean</th>\n",
       "      <th>SkinThickness_random</th>\n",
       "      <th>Insulin_median</th>\n",
       "      <th>Insulin_mean</th>\n",
       "      <th>Insulin_random</th>\n",
       "    </tr>\n",
       "  </thead>\n",
       "  <tbody>\n",
       "    <tr>\n",
       "      <th>Pregnancies</th>\n",
       "      <td>11.799119</td>\n",
       "      <td>10.653632</td>\n",
       "      <td>8.131031</td>\n",
       "      <td>2.720128</td>\n",
       "      <td>28.296017</td>\n",
       "      <td>-0.001955</td>\n",
       "      <td>-0.097052</td>\n",
       "      <td>21.639807</td>\n",
       "      <td>10.595073</td>\n",
       "      <td>10.594003</td>\n",
       "      <td>-0.003119</td>\n",
       "      <td>-0.001929</td>\n",
       "      <td>7.755951</td>\n",
       "      <td>7.766955</td>\n",
       "      <td>1.938099</td>\n",
       "      <td>1.857401</td>\n",
       "      <td>3.544276</td>\n",
       "      <td>4.957152</td>\n",
       "      <td>13.408933</td>\n",
       "      <td>-31.719743</td>\n",
       "    </tr>\n",
       "    <tr>\n",
       "      <th>Glucose</th>\n",
       "      <td>10.653632</td>\n",
       "      <td>910.664615</td>\n",
       "      <td>71.082156</td>\n",
       "      <td>74.655254</td>\n",
       "      <td>2088.461455</td>\n",
       "      <td>43.917901</td>\n",
       "      <td>1.546626</td>\n",
       "      <td>91.534822</td>\n",
       "      <td>910.664615</td>\n",
       "      <td>910.664615</td>\n",
       "      <td>43.419070</td>\n",
       "      <td>43.336620</td>\n",
       "      <td>67.976769</td>\n",
       "      <td>67.879677</td>\n",
       "      <td>50.897717</td>\n",
       "      <td>50.845888</td>\n",
       "      <td>57.206611</td>\n",
       "      <td>1002.211965</td>\n",
       "      <td>991.523396</td>\n",
       "      <td>1048.595506</td>\n",
       "    </tr>\n",
       "    <tr>\n",
       "      <th>BloodPressure</th>\n",
       "      <td>8.131031</td>\n",
       "      <td>71.082156</td>\n",
       "      <td>152.281524</td>\n",
       "      <td>32.203997</td>\n",
       "      <td>93.689162</td>\n",
       "      <td>22.772129</td>\n",
       "      <td>-0.117432</td>\n",
       "      <td>49.348581</td>\n",
       "      <td>70.615874</td>\n",
       "      <td>70.663804</td>\n",
       "      <td>22.623877</td>\n",
       "      <td>22.636342</td>\n",
       "      <td>152.281524</td>\n",
       "      <td>152.281524</td>\n",
       "      <td>23.091843</td>\n",
       "      <td>22.882535</td>\n",
       "      <td>31.681229</td>\n",
       "      <td>12.068839</td>\n",
       "      <td>46.478608</td>\n",
       "      <td>-137.253941</td>\n",
       "    </tr>\n",
       "    <tr>\n",
       "      <th>SkinThickness</th>\n",
       "      <td>2.720128</td>\n",
       "      <td>74.655254</td>\n",
       "      <td>32.203997</td>\n",
       "      <td>117.552508</td>\n",
       "      <td>198.237564</td>\n",
       "      <td>49.386498</td>\n",
       "      <td>0.548667</td>\n",
       "      <td>18.833832</td>\n",
       "      <td>73.988766</td>\n",
       "      <td>74.046061</td>\n",
       "      <td>49.150574</td>\n",
       "      <td>49.137244</td>\n",
       "      <td>32.019044</td>\n",
       "      <td>32.010541</td>\n",
       "      <td>117.552508</td>\n",
       "      <td>117.552508</td>\n",
       "      <td>117.552508</td>\n",
       "      <td>133.770038</td>\n",
       "      <td>137.574703</td>\n",
       "      <td>117.259518</td>\n",
       "    </tr>\n",
       "    <tr>\n",
       "      <th>Insulin</th>\n",
       "      <td>28.296017</td>\n",
       "      <td>2088.461455</td>\n",
       "      <td>93.689162</td>\n",
       "      <td>198.237564</td>\n",
       "      <td>14383.971190</td>\n",
       "      <td>168.845591</td>\n",
       "      <td>8.105779</td>\n",
       "      <td>306.025382</td>\n",
       "      <td>2083.423854</td>\n",
       "      <td>2080.637677</td>\n",
       "      <td>168.440922</td>\n",
       "      <td>168.347780</td>\n",
       "      <td>93.689162</td>\n",
       "      <td>93.689162</td>\n",
       "      <td>198.237564</td>\n",
       "      <td>198.237564</td>\n",
       "      <td>198.237564</td>\n",
       "      <td>14383.971190</td>\n",
       "      <td>14383.971190</td>\n",
       "      <td>14383.971190</td>\n",
       "    </tr>\n",
       "    <tr>\n",
       "      <th>BMI</th>\n",
       "      <td>-0.001955</td>\n",
       "      <td>43.917901</td>\n",
       "      <td>22.772129</td>\n",
       "      <td>49.386498</td>\n",
       "      <td>168.845591</td>\n",
       "      <td>46.836729</td>\n",
       "      <td>0.437426</td>\n",
       "      <td>0.194940</td>\n",
       "      <td>43.557531</td>\n",
       "      <td>43.664307</td>\n",
       "      <td>46.836729</td>\n",
       "      <td>46.836729</td>\n",
       "      <td>21.941081</td>\n",
       "      <td>21.908898</td>\n",
       "      <td>33.882410</td>\n",
       "      <td>33.996657</td>\n",
       "      <td>36.037723</td>\n",
       "      <td>89.921785</td>\n",
       "      <td>80.832393</td>\n",
       "      <td>129.365623</td>\n",
       "    </tr>\n",
       "    <tr>\n",
       "      <th>DiabetesPedigreeFunction</th>\n",
       "      <td>-0.097052</td>\n",
       "      <td>1.546626</td>\n",
       "      <td>-0.117432</td>\n",
       "      <td>0.548667</td>\n",
       "      <td>8.105779</td>\n",
       "      <td>0.437426</td>\n",
       "      <td>0.116864</td>\n",
       "      <td>0.021697</td>\n",
       "      <td>1.538453</td>\n",
       "      <td>1.537970</td>\n",
       "      <td>0.431533</td>\n",
       "      <td>0.431713</td>\n",
       "      <td>-0.110612</td>\n",
       "      <td>-0.112174</td>\n",
       "      <td>0.367837</td>\n",
       "      <td>0.374649</td>\n",
       "      <td>0.296506</td>\n",
       "      <td>4.702580</td>\n",
       "      <td>3.841171</td>\n",
       "      <td>8.440701</td>\n",
       "    </tr>\n",
       "    <tr>\n",
       "      <th>Age</th>\n",
       "      <td>21.639807</td>\n",
       "      <td>91.534822</td>\n",
       "      <td>49.348581</td>\n",
       "      <td>18.833832</td>\n",
       "      <td>306.025382</td>\n",
       "      <td>0.194940</td>\n",
       "      <td>0.021697</td>\n",
       "      <td>144.373454</td>\n",
       "      <td>91.048056</td>\n",
       "      <td>91.022500</td>\n",
       "      <td>0.222201</td>\n",
       "      <td>0.192394</td>\n",
       "      <td>47.178146</td>\n",
       "      <td>47.138943</td>\n",
       "      <td>13.211394</td>\n",
       "      <td>12.860415</td>\n",
       "      <td>16.848808</td>\n",
       "      <td>108.097724</td>\n",
       "      <td>145.019491</td>\n",
       "      <td>-52.125990</td>\n",
       "    </tr>\n",
       "    <tr>\n",
       "      <th>Glucose_median</th>\n",
       "      <td>10.595073</td>\n",
       "      <td>910.664615</td>\n",
       "      <td>70.615874</td>\n",
       "      <td>73.988766</td>\n",
       "      <td>2083.423854</td>\n",
       "      <td>43.557531</td>\n",
       "      <td>1.538453</td>\n",
       "      <td>91.048056</td>\n",
       "      <td>905.729954</td>\n",
       "      <td>905.567611</td>\n",
       "      <td>43.070527</td>\n",
       "      <td>42.988682</td>\n",
       "      <td>67.549862</td>\n",
       "      <td>67.453969</td>\n",
       "      <td>50.576534</td>\n",
       "      <td>50.522180</td>\n",
       "      <td>56.847077</td>\n",
       "      <td>998.047100</td>\n",
       "      <td>987.294140</td>\n",
       "      <td>1044.710070</td>\n",
       "    </tr>\n",
       "    <tr>\n",
       "      <th>Glucose_mean</th>\n",
       "      <td>10.594003</td>\n",
       "      <td>910.664615</td>\n",
       "      <td>70.663804</td>\n",
       "      <td>74.046061</td>\n",
       "      <td>2080.637677</td>\n",
       "      <td>43.664307</td>\n",
       "      <td>1.537970</td>\n",
       "      <td>91.022500</td>\n",
       "      <td>905.567611</td>\n",
       "      <td>905.567611</td>\n",
       "      <td>43.176053</td>\n",
       "      <td>43.094064</td>\n",
       "      <td>67.596302</td>\n",
       "      <td>67.499753</td>\n",
       "      <td>50.612842</td>\n",
       "      <td>50.561303</td>\n",
       "      <td>56.886425</td>\n",
       "      <td>996.602570</td>\n",
       "      <td>985.973825</td>\n",
       "      <td>1042.726501</td>\n",
       "    </tr>\n",
       "    <tr>\n",
       "      <th>BMI_median</th>\n",
       "      <td>-0.003119</td>\n",
       "      <td>43.419070</td>\n",
       "      <td>22.623877</td>\n",
       "      <td>49.150574</td>\n",
       "      <td>168.440922</td>\n",
       "      <td>46.836729</td>\n",
       "      <td>0.431533</td>\n",
       "      <td>0.222201</td>\n",
       "      <td>43.070527</td>\n",
       "      <td>43.176053</td>\n",
       "      <td>46.226761</td>\n",
       "      <td>46.225055</td>\n",
       "      <td>21.643845</td>\n",
       "      <td>21.610868</td>\n",
       "      <td>33.448462</td>\n",
       "      <td>33.561773</td>\n",
       "      <td>35.559539</td>\n",
       "      <td>88.837369</td>\n",
       "      <td>79.820885</td>\n",
       "      <td>127.964818</td>\n",
       "    </tr>\n",
       "    <tr>\n",
       "      <th>BMI_mean</th>\n",
       "      <td>-0.001929</td>\n",
       "      <td>43.336620</td>\n",
       "      <td>22.636342</td>\n",
       "      <td>49.137244</td>\n",
       "      <td>168.347780</td>\n",
       "      <td>46.836729</td>\n",
       "      <td>0.431713</td>\n",
       "      <td>0.192394</td>\n",
       "      <td>42.988682</td>\n",
       "      <td>43.094064</td>\n",
       "      <td>46.225055</td>\n",
       "      <td>46.225055</td>\n",
       "      <td>21.654537</td>\n",
       "      <td>21.622775</td>\n",
       "      <td>33.439916</td>\n",
       "      <td>33.552670</td>\n",
       "      <td>35.567081</td>\n",
       "      <td>88.747434</td>\n",
       "      <td>79.776746</td>\n",
       "      <td>127.676147</td>\n",
       "    </tr>\n",
       "    <tr>\n",
       "      <th>BloodPressure_median</th>\n",
       "      <td>7.755951</td>\n",
       "      <td>67.976769</td>\n",
       "      <td>152.281524</td>\n",
       "      <td>32.019044</td>\n",
       "      <td>93.689162</td>\n",
       "      <td>21.941081</td>\n",
       "      <td>-0.110612</td>\n",
       "      <td>47.178146</td>\n",
       "      <td>67.549862</td>\n",
       "      <td>67.596302</td>\n",
       "      <td>21.643845</td>\n",
       "      <td>21.654537</td>\n",
       "      <td>145.473026</td>\n",
       "      <td>145.462948</td>\n",
       "      <td>22.059847</td>\n",
       "      <td>21.863750</td>\n",
       "      <td>30.296861</td>\n",
       "      <td>11.828098</td>\n",
       "      <td>44.397476</td>\n",
       "      <td>-129.508224</td>\n",
       "    </tr>\n",
       "    <tr>\n",
       "      <th>BloodPressure_mean</th>\n",
       "      <td>7.766955</td>\n",
       "      <td>67.879677</td>\n",
       "      <td>152.281524</td>\n",
       "      <td>32.010541</td>\n",
       "      <td>93.689162</td>\n",
       "      <td>21.908898</td>\n",
       "      <td>-0.112174</td>\n",
       "      <td>47.138943</td>\n",
       "      <td>67.453969</td>\n",
       "      <td>67.499753</td>\n",
       "      <td>21.610868</td>\n",
       "      <td>21.622775</td>\n",
       "      <td>145.462948</td>\n",
       "      <td>145.462948</td>\n",
       "      <td>22.057879</td>\n",
       "      <td>21.857944</td>\n",
       "      <td>30.262667</td>\n",
       "      <td>11.528443</td>\n",
       "      <td>44.397476</td>\n",
       "      <td>-131.108242</td>\n",
       "    </tr>\n",
       "    <tr>\n",
       "      <th>SkinThickness_median</th>\n",
       "      <td>1.938099</td>\n",
       "      <td>50.897717</td>\n",
       "      <td>23.091843</td>\n",
       "      <td>117.552508</td>\n",
       "      <td>198.237564</td>\n",
       "      <td>33.882410</td>\n",
       "      <td>0.367837</td>\n",
       "      <td>13.211394</td>\n",
       "      <td>50.576534</td>\n",
       "      <td>50.612842</td>\n",
       "      <td>33.448462</td>\n",
       "      <td>33.439916</td>\n",
       "      <td>22.059847</td>\n",
       "      <td>22.057879</td>\n",
       "      <td>80.287835</td>\n",
       "      <td>80.269063</td>\n",
       "      <td>80.267573</td>\n",
       "      <td>90.056106</td>\n",
       "      <td>93.940935</td>\n",
       "      <td>73.197709</td>\n",
       "    </tr>\n",
       "    <tr>\n",
       "      <th>SkinThickness_mean</th>\n",
       "      <td>1.857401</td>\n",
       "      <td>50.845888</td>\n",
       "      <td>22.882535</td>\n",
       "      <td>117.552508</td>\n",
       "      <td>198.237564</td>\n",
       "      <td>33.996657</td>\n",
       "      <td>0.374649</td>\n",
       "      <td>12.860415</td>\n",
       "      <td>50.522180</td>\n",
       "      <td>50.561303</td>\n",
       "      <td>33.561773</td>\n",
       "      <td>33.552670</td>\n",
       "      <td>21.863750</td>\n",
       "      <td>21.857944</td>\n",
       "      <td>80.269063</td>\n",
       "      <td>80.269063</td>\n",
       "      <td>80.269063</td>\n",
       "      <td>91.342973</td>\n",
       "      <td>93.940935</td>\n",
       "      <td>80.068999</td>\n",
       "    </tr>\n",
       "    <tr>\n",
       "      <th>SkinThickness_random</th>\n",
       "      <td>3.544276</td>\n",
       "      <td>57.206611</td>\n",
       "      <td>31.681229</td>\n",
       "      <td>117.552508</td>\n",
       "      <td>198.237564</td>\n",
       "      <td>36.037723</td>\n",
       "      <td>0.296506</td>\n",
       "      <td>16.848808</td>\n",
       "      <td>56.847077</td>\n",
       "      <td>56.886425</td>\n",
       "      <td>35.559539</td>\n",
       "      <td>35.567081</td>\n",
       "      <td>30.296861</td>\n",
       "      <td>30.262667</td>\n",
       "      <td>80.267573</td>\n",
       "      <td>80.269063</td>\n",
       "      <td>121.069270</td>\n",
       "      <td>91.445166</td>\n",
       "      <td>93.940935</td>\n",
       "      <td>80.614661</td>\n",
       "    </tr>\n",
       "    <tr>\n",
       "      <th>Insulin_median</th>\n",
       "      <td>4.957152</td>\n",
       "      <td>1002.211965</td>\n",
       "      <td>12.068839</td>\n",
       "      <td>133.770038</td>\n",
       "      <td>14383.971190</td>\n",
       "      <td>89.921785</td>\n",
       "      <td>4.702580</td>\n",
       "      <td>108.097724</td>\n",
       "      <td>998.047100</td>\n",
       "      <td>996.602570</td>\n",
       "      <td>88.837369</td>\n",
       "      <td>88.747434</td>\n",
       "      <td>11.828098</td>\n",
       "      <td>11.528443</td>\n",
       "      <td>90.056106</td>\n",
       "      <td>91.342973</td>\n",
       "      <td>91.445166</td>\n",
       "      <td>7026.906341</td>\n",
       "      <td>6816.284855</td>\n",
       "      <td>7940.908009</td>\n",
       "    </tr>\n",
       "    <tr>\n",
       "      <th>Insulin_mean</th>\n",
       "      <td>13.408933</td>\n",
       "      <td>991.523396</td>\n",
       "      <td>46.478608</td>\n",
       "      <td>137.574703</td>\n",
       "      <td>14383.971190</td>\n",
       "      <td>80.832393</td>\n",
       "      <td>3.841171</td>\n",
       "      <td>145.019491</td>\n",
       "      <td>987.294140</td>\n",
       "      <td>985.973825</td>\n",
       "      <td>79.820885</td>\n",
       "      <td>79.776746</td>\n",
       "      <td>44.397476</td>\n",
       "      <td>44.397476</td>\n",
       "      <td>93.940935</td>\n",
       "      <td>93.940935</td>\n",
       "      <td>93.940935</td>\n",
       "      <td>6816.284855</td>\n",
       "      <td>6816.284855</td>\n",
       "      <td>6816.284855</td>\n",
       "    </tr>\n",
       "    <tr>\n",
       "      <th>Insulin_random</th>\n",
       "      <td>-31.719743</td>\n",
       "      <td>1048.595506</td>\n",
       "      <td>-137.253941</td>\n",
       "      <td>117.259518</td>\n",
       "      <td>14383.971190</td>\n",
       "      <td>129.365623</td>\n",
       "      <td>8.440701</td>\n",
       "      <td>-52.125990</td>\n",
       "      <td>1044.710070</td>\n",
       "      <td>1042.726501</td>\n",
       "      <td>127.964818</td>\n",
       "      <td>127.676147</td>\n",
       "      <td>-129.508224</td>\n",
       "      <td>-131.108242</td>\n",
       "      <td>73.197709</td>\n",
       "      <td>80.068999</td>\n",
       "      <td>80.614661</td>\n",
       "      <td>7940.908009</td>\n",
       "      <td>6816.284855</td>\n",
       "      <td>12821.262132</td>\n",
       "    </tr>\n",
       "  </tbody>\n",
       "</table>\n",
       "</div>"
      ],
      "text/plain": [
       "                          Pregnancies      Glucose  BloodPressure  SkinThickness       Insulin         BMI  DiabetesPedigreeFunction         Age  Glucose_median  \\\n",
       "Pregnancies                 11.799119    10.653632       8.131031       2.720128     28.296017   -0.001955                 -0.097052   21.639807       10.595073   \n",
       "Glucose                     10.653632   910.664615      71.082156      74.655254   2088.461455   43.917901                  1.546626   91.534822      910.664615   \n",
       "BloodPressure                8.131031    71.082156     152.281524      32.203997     93.689162   22.772129                 -0.117432   49.348581       70.615874   \n",
       "SkinThickness                2.720128    74.655254      32.203997     117.552508    198.237564   49.386498                  0.548667   18.833832       73.988766   \n",
       "Insulin                     28.296017  2088.461455      93.689162     198.237564  14383.971190  168.845591                  8.105779  306.025382     2083.423854   \n",
       "BMI                         -0.001955    43.917901      22.772129      49.386498    168.845591   46.836729                  0.437426    0.194940       43.557531   \n",
       "DiabetesPedigreeFunction    -0.097052     1.546626      -0.117432       0.548667      8.105779    0.437426                  0.116864    0.021697        1.538453   \n",
       "Age                         21.639807    91.534822      49.348581      18.833832    306.025382    0.194940                  0.021697  144.373454       91.048056   \n",
       "Glucose_median              10.595073   910.664615      70.615874      73.988766   2083.423854   43.557531                  1.538453   91.048056      905.729954   \n",
       "Glucose_mean                10.594003   910.664615      70.663804      74.046061   2080.637677   43.664307                  1.537970   91.022500      905.567611   \n",
       "BMI_median                  -0.003119    43.419070      22.623877      49.150574    168.440922   46.836729                  0.431533    0.222201       43.070527   \n",
       "BMI_mean                    -0.001929    43.336620      22.636342      49.137244    168.347780   46.836729                  0.431713    0.192394       42.988682   \n",
       "BloodPressure_median         7.755951    67.976769     152.281524      32.019044     93.689162   21.941081                 -0.110612   47.178146       67.549862   \n",
       "BloodPressure_mean           7.766955    67.879677     152.281524      32.010541     93.689162   21.908898                 -0.112174   47.138943       67.453969   \n",
       "SkinThickness_median         1.938099    50.897717      23.091843     117.552508    198.237564   33.882410                  0.367837   13.211394       50.576534   \n",
       "SkinThickness_mean           1.857401    50.845888      22.882535     117.552508    198.237564   33.996657                  0.374649   12.860415       50.522180   \n",
       "SkinThickness_random         3.544276    57.206611      31.681229     117.552508    198.237564   36.037723                  0.296506   16.848808       56.847077   \n",
       "Insulin_median               4.957152  1002.211965      12.068839     133.770038  14383.971190   89.921785                  4.702580  108.097724      998.047100   \n",
       "Insulin_mean                13.408933   991.523396      46.478608     137.574703  14383.971190   80.832393                  3.841171  145.019491      987.294140   \n",
       "Insulin_random             -31.719743  1048.595506    -137.253941     117.259518  14383.971190  129.365623                  8.440701  -52.125990     1044.710070   \n",
       "\n",
       "                          Glucose_mean  BMI_median    BMI_mean  BloodPressure_median  BloodPressure_mean  SkinThickness_median  SkinThickness_mean  SkinThickness_random  \\\n",
       "Pregnancies                  10.594003   -0.003119   -0.001929              7.755951            7.766955              1.938099            1.857401              3.544276   \n",
       "Glucose                     910.664615   43.419070   43.336620             67.976769           67.879677             50.897717           50.845888             57.206611   \n",
       "BloodPressure                70.663804   22.623877   22.636342            152.281524          152.281524             23.091843           22.882535             31.681229   \n",
       "SkinThickness                74.046061   49.150574   49.137244             32.019044           32.010541            117.552508          117.552508            117.552508   \n",
       "Insulin                    2080.637677  168.440922  168.347780             93.689162           93.689162            198.237564          198.237564            198.237564   \n",
       "BMI                          43.664307   46.836729   46.836729             21.941081           21.908898             33.882410           33.996657             36.037723   \n",
       "DiabetesPedigreeFunction      1.537970    0.431533    0.431713             -0.110612           -0.112174              0.367837            0.374649              0.296506   \n",
       "Age                          91.022500    0.222201    0.192394             47.178146           47.138943             13.211394           12.860415             16.848808   \n",
       "Glucose_median              905.567611   43.070527   42.988682             67.549862           67.453969             50.576534           50.522180             56.847077   \n",
       "Glucose_mean                905.567611   43.176053   43.094064             67.596302           67.499753             50.612842           50.561303             56.886425   \n",
       "BMI_median                   43.176053   46.226761   46.225055             21.643845           21.610868             33.448462           33.561773             35.559539   \n",
       "BMI_mean                     43.094064   46.225055   46.225055             21.654537           21.622775             33.439916           33.552670             35.567081   \n",
       "BloodPressure_median         67.596302   21.643845   21.654537            145.473026          145.462948             22.059847           21.863750             30.296861   \n",
       "BloodPressure_mean           67.499753   21.610868   21.622775            145.462948          145.462948             22.057879           21.857944             30.262667   \n",
       "SkinThickness_median         50.612842   33.448462   33.439916             22.059847           22.057879             80.287835           80.269063             80.267573   \n",
       "SkinThickness_mean           50.561303   33.561773   33.552670             21.863750           21.857944             80.269063           80.269063             80.269063   \n",
       "SkinThickness_random         56.886425   35.559539   35.567081             30.296861           30.262667             80.267573           80.269063            121.069270   \n",
       "Insulin_median              996.602570   88.837369   88.747434             11.828098           11.528443             90.056106           91.342973             91.445166   \n",
       "Insulin_mean                985.973825   79.820885   79.776746             44.397476           44.397476             93.940935           93.940935             93.940935   \n",
       "Insulin_random             1042.726501  127.964818  127.676147           -129.508224         -131.108242             73.197709           80.068999             80.614661   \n",
       "\n",
       "                          Insulin_median  Insulin_mean  Insulin_random  \n",
       "Pregnancies                     4.957152     13.408933      -31.719743  \n",
       "Glucose                      1002.211965    991.523396     1048.595506  \n",
       "BloodPressure                  12.068839     46.478608     -137.253941  \n",
       "SkinThickness                 133.770038    137.574703      117.259518  \n",
       "Insulin                     14383.971190  14383.971190    14383.971190  \n",
       "BMI                            89.921785     80.832393      129.365623  \n",
       "DiabetesPedigreeFunction        4.702580      3.841171        8.440701  \n",
       "Age                           108.097724    145.019491      -52.125990  \n",
       "Glucose_median                998.047100    987.294140     1044.710070  \n",
       "Glucose_mean                  996.602570    985.973825     1042.726501  \n",
       "BMI_median                     88.837369     79.820885      127.964818  \n",
       "BMI_mean                       88.747434     79.776746      127.676147  \n",
       "BloodPressure_median           11.828098     44.397476     -129.508224  \n",
       "BloodPressure_mean             11.528443     44.397476     -131.108242  \n",
       "SkinThickness_median           90.056106     93.940935       73.197709  \n",
       "SkinThickness_mean             91.342973     93.940935       80.068999  \n",
       "SkinThickness_random           91.445166     93.940935       80.614661  \n",
       "Insulin_median               7026.906341   6816.284855     7940.908009  \n",
       "Insulin_mean                 6816.284855   6816.284855     6816.284855  \n",
       "Insulin_random               7940.908009   6816.284855    12821.262132  "
      ]
     },
     "execution_count": 124,
     "metadata": {},
     "output_type": "execute_result"
    }
   ],
   "source": [
    "X_train.cov()"
   ]
  },
  {
   "cell_type": "code",
   "execution_count": null,
   "metadata": {},
   "outputs": [],
   "source": []
  },
  {
   "cell_type": "code",
   "execution_count": 125,
   "metadata": {},
   "outputs": [
    {
     "name": "stdout",
     "output_type": "stream",
     "text": [
      "<class 'pandas.core.frame.DataFrame'>\n",
      "RangeIndex: 768 entries, 0 to 767\n",
      "Data columns (total 9 columns):\n",
      " #   Column                    Non-Null Count  Dtype  \n",
      "---  ------                    --------------  -----  \n",
      " 0   Pregnancies               768 non-null    int64  \n",
      " 1   Glucose                   763 non-null    float64\n",
      " 2   BloodPressure             733 non-null    float64\n",
      " 3   SkinThickness             541 non-null    float64\n",
      " 4   Insulin                   394 non-null    float64\n",
      " 5   BMI                       757 non-null    float64\n",
      " 6   DiabetesPedigreeFunction  768 non-null    float64\n",
      " 7   Age                       768 non-null    int64  \n",
      " 8   Outcome                   768 non-null    int64  \n",
      "dtypes: float64(6), int64(3)\n",
      "memory usage: 54.1 KB\n"
     ]
    }
   ],
   "source": [
    "df.info()"
   ]
  },
  {
   "cell_type": "code",
   "execution_count": null,
   "metadata": {},
   "outputs": [],
   "source": []
  },
  {
   "cell_type": "code",
   "execution_count": 202,
   "metadata": {},
   "outputs": [],
   "source": [
    "selected_vars = ['Pregnancies','Glucose_mean','BMI_mean','BloodPressure_mean','SkinThickness_random','Insulin','DiabetesPedigreeFunction','Age']"
   ]
  },
  {
   "cell_type": "code",
   "execution_count": null,
   "metadata": {},
   "outputs": [],
   "source": []
  },
  {
   "cell_type": "raw",
   "metadata": {},
   "source": [
    "selected_vars = X_train.columns"
   ]
  },
  {
   "cell_type": "code",
   "execution_count": 205,
   "metadata": {},
   "outputs": [],
   "source": [
    "from sklearn.preprocessing import MinMaxScaler\n",
    "\n",
    "scaler = MinMaxScaler()\n",
    "scaler.fit(X_train[selected_vars])\n",
    "X_train = pd.DataFrame(scaler.transform(X_train[selected_vars]), columns = selected_vars)\n",
    "X_test = pd.DataFrame(scaler.transform(X_test[selected_vars]), columns = selected_vars)\n",
    "\n",
    "y_train = y_train.reset_index()\n",
    "y_test = y_test.reset_index()"
   ]
  },
  {
   "cell_type": "code",
   "execution_count": 206,
   "metadata": {},
   "outputs": [
    {
     "data": {
      "text/plain": [
       "Pregnancies                  0\n",
       "Glucose_mean                 0\n",
       "BMI_mean                     0\n",
       "BloodPressure_mean           0\n",
       "SkinThickness_random         0\n",
       "Insulin                     92\n",
       "DiabetesPedigreeFunction     0\n",
       "Age                          0\n",
       "dtype: int64"
      ]
     },
     "execution_count": 206,
     "metadata": {},
     "output_type": "execute_result"
    }
   ],
   "source": [
    "X_test.isnull().sum()"
   ]
  },
  {
   "cell_type": "code",
   "execution_count": 207,
   "metadata": {},
   "outputs": [
    {
     "data": {
      "text/html": [
       "<div>\n",
       "<style scoped>\n",
       "    .dataframe tbody tr th:only-of-type {\n",
       "        vertical-align: middle;\n",
       "    }\n",
       "\n",
       "    .dataframe tbody tr th {\n",
       "        vertical-align: top;\n",
       "    }\n",
       "\n",
       "    .dataframe thead th {\n",
       "        text-align: right;\n",
       "    }\n",
       "</style>\n",
       "<table border=\"1\" class=\"dataframe\">\n",
       "  <thead>\n",
       "    <tr style=\"text-align: right;\">\n",
       "      <th></th>\n",
       "      <th>Pregnancies</th>\n",
       "      <th>Glucose_mean</th>\n",
       "      <th>BMI_mean</th>\n",
       "      <th>BloodPressure_mean</th>\n",
       "      <th>SkinThickness_random</th>\n",
       "      <th>Insulin</th>\n",
       "      <th>DiabetesPedigreeFunction</th>\n",
       "      <th>Age</th>\n",
       "    </tr>\n",
       "  </thead>\n",
       "  <tbody>\n",
       "    <tr>\n",
       "      <th>count</th>\n",
       "      <td>231.000000</td>\n",
       "      <td>231.000000</td>\n",
       "      <td>231.000000</td>\n",
       "      <td>231.000000</td>\n",
       "      <td>231.000000</td>\n",
       "      <td>139.000000</td>\n",
       "      <td>231.000000</td>\n",
       "      <td>231.000000</td>\n",
       "    </tr>\n",
       "    <tr>\n",
       "      <th>mean</th>\n",
       "      <td>0.200153</td>\n",
       "      <td>0.505455</td>\n",
       "      <td>0.293598</td>\n",
       "      <td>0.492152</td>\n",
       "      <td>0.232684</td>\n",
       "      <td>0.173466</td>\n",
       "      <td>0.166744</td>\n",
       "      <td>0.180592</td>\n",
       "    </tr>\n",
       "    <tr>\n",
       "      <th>std</th>\n",
       "      <td>0.186806</td>\n",
       "      <td>0.201779</td>\n",
       "      <td>0.144442</td>\n",
       "      <td>0.124521</td>\n",
       "      <td>0.109322</td>\n",
       "      <td>0.140627</td>\n",
       "      <td>0.130722</td>\n",
       "      <td>0.184029</td>\n",
       "    </tr>\n",
       "    <tr>\n",
       "      <th>min</th>\n",
       "      <td>0.000000</td>\n",
       "      <td>0.077419</td>\n",
       "      <td>0.000000</td>\n",
       "      <td>0.061224</td>\n",
       "      <td>0.000000</td>\n",
       "      <td>0.004808</td>\n",
       "      <td>0.002989</td>\n",
       "      <td>0.000000</td>\n",
       "    </tr>\n",
       "    <tr>\n",
       "      <th>25%</th>\n",
       "      <td>0.058824</td>\n",
       "      <td>0.345161</td>\n",
       "      <td>0.190184</td>\n",
       "      <td>0.408163</td>\n",
       "      <td>0.152174</td>\n",
       "      <td>0.081731</td>\n",
       "      <td>0.073442</td>\n",
       "      <td>0.033333</td>\n",
       "    </tr>\n",
       "    <tr>\n",
       "      <th>50%</th>\n",
       "      <td>0.176471</td>\n",
       "      <td>0.490323</td>\n",
       "      <td>0.290670</td>\n",
       "      <td>0.489796</td>\n",
       "      <td>0.228261</td>\n",
       "      <td>0.134615</td>\n",
       "      <td>0.132792</td>\n",
       "      <td>0.116667</td>\n",
       "    </tr>\n",
       "    <tr>\n",
       "      <th>75%</th>\n",
       "      <td>0.294118</td>\n",
       "      <td>0.645161</td>\n",
       "      <td>0.381391</td>\n",
       "      <td>0.571429</td>\n",
       "      <td>0.315217</td>\n",
       "      <td>0.230769</td>\n",
       "      <td>0.234842</td>\n",
       "      <td>0.283333</td>\n",
       "    </tr>\n",
       "    <tr>\n",
       "      <th>max</th>\n",
       "      <td>0.823529</td>\n",
       "      <td>0.993548</td>\n",
       "      <td>0.799591</td>\n",
       "      <td>0.918367</td>\n",
       "      <td>0.532609</td>\n",
       "      <td>0.800481</td>\n",
       "      <td>0.727156</td>\n",
       "      <td>0.800000</td>\n",
       "    </tr>\n",
       "  </tbody>\n",
       "</table>\n",
       "</div>"
      ],
      "text/plain": [
       "       Pregnancies  Glucose_mean    BMI_mean  BloodPressure_mean  SkinThickness_random     Insulin  DiabetesPedigreeFunction         Age\n",
       "count   231.000000    231.000000  231.000000          231.000000            231.000000  139.000000                231.000000  231.000000\n",
       "mean      0.200153      0.505455    0.293598            0.492152              0.232684    0.173466                  0.166744    0.180592\n",
       "std       0.186806      0.201779    0.144442            0.124521              0.109322    0.140627                  0.130722    0.184029\n",
       "min       0.000000      0.077419    0.000000            0.061224              0.000000    0.004808                  0.002989    0.000000\n",
       "25%       0.058824      0.345161    0.190184            0.408163              0.152174    0.081731                  0.073442    0.033333\n",
       "50%       0.176471      0.490323    0.290670            0.489796              0.228261    0.134615                  0.132792    0.116667\n",
       "75%       0.294118      0.645161    0.381391            0.571429              0.315217    0.230769                  0.234842    0.283333\n",
       "max       0.823529      0.993548    0.799591            0.918367              0.532609    0.800481                  0.727156    0.800000"
      ]
     },
     "execution_count": 207,
     "metadata": {},
     "output_type": "execute_result"
    }
   ],
   "source": [
    "X_test.describe()"
   ]
  },
  {
   "cell_type": "code",
   "execution_count": 208,
   "metadata": {},
   "outputs": [
    {
     "data": {
      "text/plain": [
       "((537, 11), (231, 11), (768, 11))"
      ]
     },
     "execution_count": 208,
     "metadata": {},
     "output_type": "execute_result"
    }
   ],
   "source": [
    "train_df = pd.concat([X_train, y_train], axis = 1)\n",
    "test_df = pd.concat([X_test, y_test], axis = 1)\n",
    "Insulin_df = pd.concat([train_df, test_df],axis =0)\n",
    "\n",
    "train_df.shape, test_df.shape, Insulin_df.shape"
   ]
  },
  {
   "cell_type": "code",
   "execution_count": 209,
   "metadata": {},
   "outputs": [
    {
     "data": {
      "text/plain": [
       "((394, 8), (374, 8))"
      ]
     },
     "execution_count": 209,
     "metadata": {},
     "output_type": "execute_result"
    }
   ],
   "source": [
    "training_vars = ['Pregnancies','Glucose_mean','BMI_mean','BloodPressure_mean','DiabetesPedigreeFunction','SkinThickness_random','Age','Outcome','Insulin']\n",
    "train_df = Insulin_df.loc[Insulin_df.Insulin.isnull()==False,training_vars]\n",
    "test_df = Insulin_df.loc[Insulin_df.Insulin.isnull()==True,training_vars]\n",
    "\n",
    "X_train = train_df.drop(['Insulin'],axis=1)\n",
    "y_train = train_df.Insulin\n",
    "X_test = test_df.drop(['Insulin'],axis=1)\n",
    "y_test = test_df.Insulin\n",
    "\n",
    "X_train.shape, X_test.shape"
   ]
  },
  {
   "cell_type": "code",
   "execution_count": 211,
   "metadata": {},
   "outputs": [
    {
     "name": "stdout",
     "output_type": "stream",
     "text": [
      "[19:51:22] WARNING: C:/Jenkins/workspace/xgboost-win64_release_0.90/src/objective/regression_obj.cu:152: reg:linear is now deprecated in favor of reg:squarederror.\n"
     ]
    }
   ],
   "source": [
    "import xgboost as xgb\n",
    "\n",
    "xgb_model = xgb.XGBRegressor()\n",
    "xgb_model.fit(X_train, y_train)\n",
    "\n",
    "train_pred = xgb_model.predict(X_train)\n",
    "test_pred = xgb_model.predict(X_test)\n",
    "test_pred = pd.DataFrame(test_pred,columns=['Insulin'])\n",
    "test_pred.index = y_test.index"
   ]
  },
  {
   "cell_type": "code",
   "execution_count": 212,
   "metadata": {},
   "outputs": [
    {
     "data": {
      "text/plain": [
       "Int64Index([  0,   1,   2,   3,   5,   7,  12,  15,  16,  17,\n",
       "            ...\n",
       "            190, 197, 198, 204, 219, 221, 224, 227, 229, 230], dtype='int64', length=374)"
      ]
     },
     "execution_count": 212,
     "metadata": {},
     "output_type": "execute_result"
    }
   ],
   "source": [
    "test_pred.index"
   ]
  },
  {
   "cell_type": "code",
   "execution_count": 213,
   "metadata": {},
   "outputs": [
    {
     "data": {
      "text/plain": [
       "Int64Index([  0,   1,   2,   3,   5,   7,  12,  15,  16,  17,\n",
       "            ...\n",
       "            190, 197, 198, 204, 219, 221, 224, 227, 229, 230], dtype='int64', length=374)"
      ]
     },
     "execution_count": 213,
     "metadata": {},
     "output_type": "execute_result"
    }
   ],
   "source": [
    "X_test.index"
   ]
  },
  {
   "cell_type": "code",
   "execution_count": null,
   "metadata": {},
   "outputs": [],
   "source": []
  },
  {
   "cell_type": "code",
   "execution_count": 214,
   "metadata": {},
   "outputs": [
    {
     "data": {
      "text/html": [
       "<div>\n",
       "<style scoped>\n",
       "    .dataframe tbody tr th:only-of-type {\n",
       "        vertical-align: middle;\n",
       "    }\n",
       "\n",
       "    .dataframe tbody tr th {\n",
       "        vertical-align: top;\n",
       "    }\n",
       "\n",
       "    .dataframe thead th {\n",
       "        text-align: right;\n",
       "    }\n",
       "</style>\n",
       "<table border=\"1\" class=\"dataframe\">\n",
       "  <thead>\n",
       "    <tr style=\"text-align: right;\">\n",
       "      <th></th>\n",
       "      <th>Pregnancies</th>\n",
       "      <th>Glucose_mean</th>\n",
       "      <th>BMI_mean</th>\n",
       "      <th>BloodPressure_mean</th>\n",
       "      <th>DiabetesPedigreeFunction</th>\n",
       "      <th>SkinThickness_random</th>\n",
       "      <th>Age</th>\n",
       "      <th>Outcome</th>\n",
       "      <th>Insulin</th>\n",
       "    </tr>\n",
       "  </thead>\n",
       "  <tbody>\n",
       "    <tr>\n",
       "      <th>4</th>\n",
       "      <td>0.058824</td>\n",
       "      <td>0.303226</td>\n",
       "      <td>0.143149</td>\n",
       "      <td>0.306122</td>\n",
       "      <td>0.066610</td>\n",
       "      <td>0.195652</td>\n",
       "      <td>0.033333</td>\n",
       "      <td>0</td>\n",
       "      <td>0.103365</td>\n",
       "    </tr>\n",
       "    <tr>\n",
       "      <th>6</th>\n",
       "      <td>0.235294</td>\n",
       "      <td>0.522581</td>\n",
       "      <td>0.218814</td>\n",
       "      <td>0.469388</td>\n",
       "      <td>0.455167</td>\n",
       "      <td>0.119565</td>\n",
       "      <td>0.400000</td>\n",
       "      <td>1</td>\n",
       "      <td>0.129808</td>\n",
       "    </tr>\n",
       "    <tr>\n",
       "      <th>8</th>\n",
       "      <td>0.294118</td>\n",
       "      <td>0.419355</td>\n",
       "      <td>0.359918</td>\n",
       "      <td>0.387755</td>\n",
       "      <td>0.186166</td>\n",
       "      <td>0.369565</td>\n",
       "      <td>0.066667</td>\n",
       "      <td>1</td>\n",
       "      <td>0.138221</td>\n",
       "    </tr>\n",
       "    <tr>\n",
       "      <th>9</th>\n",
       "      <td>0.411765</td>\n",
       "      <td>0.922581</td>\n",
       "      <td>0.321063</td>\n",
       "      <td>0.265306</td>\n",
       "      <td>0.319385</td>\n",
       "      <td>0.282609</td>\n",
       "      <td>0.216667</td>\n",
       "      <td>1</td>\n",
       "      <td>0.454327</td>\n",
       "    </tr>\n",
       "    <tr>\n",
       "      <th>10</th>\n",
       "      <td>0.058824</td>\n",
       "      <td>0.419355</td>\n",
       "      <td>0.100204</td>\n",
       "      <td>0.142857</td>\n",
       "      <td>0.140478</td>\n",
       "      <td>0.119565</td>\n",
       "      <td>0.083333</td>\n",
       "      <td>0</td>\n",
       "      <td>0.127404</td>\n",
       "    </tr>\n",
       "  </tbody>\n",
       "</table>\n",
       "</div>"
      ],
      "text/plain": [
       "    Pregnancies  Glucose_mean  BMI_mean  BloodPressure_mean  DiabetesPedigreeFunction  SkinThickness_random       Age  Outcome   Insulin\n",
       "4      0.058824      0.303226  0.143149            0.306122                  0.066610              0.195652  0.033333        0  0.103365\n",
       "6      0.235294      0.522581  0.218814            0.469388                  0.455167              0.119565  0.400000        1  0.129808\n",
       "8      0.294118      0.419355  0.359918            0.387755                  0.186166              0.369565  0.066667        1  0.138221\n",
       "9      0.411765      0.922581  0.321063            0.265306                  0.319385              0.282609  0.216667        1  0.454327\n",
       "10     0.058824      0.419355  0.100204            0.142857                  0.140478              0.119565  0.083333        0  0.127404"
      ]
     },
     "execution_count": 214,
     "metadata": {},
     "output_type": "execute_result"
    }
   ],
   "source": [
    "train_df = pd.concat([X_train, y_train], axis = 1)\n",
    "test_df = pd.concat([X_test, test_pred], axis = 1)\n",
    "prediction_df = pd.concat([train_df, test_df],axis =0)\n",
    "prediction_df.head()"
   ]
  },
  {
   "cell_type": "code",
   "execution_count": 217,
   "metadata": {},
   "outputs": [],
   "source": [
    "prediction_df.shape\n",
    "\n",
    "# shuffle data\n",
    "from sklearn.utils import shuffle\n",
    "prediction_df = shuffle(prediction_df)"
   ]
  },
  {
   "cell_type": "code",
   "execution_count": null,
   "metadata": {},
   "outputs": [],
   "source": []
  },
  {
   "cell_type": "code",
   "execution_count": 218,
   "metadata": {},
   "outputs": [
    {
     "data": {
      "text/plain": [
       "((537, 8), (231, 8))"
      ]
     },
     "execution_count": 218,
     "metadata": {},
     "output_type": "execute_result"
    }
   ],
   "source": [
    "X_train, X_test, y_train, y_test = train_test_split(prediction_df.drop(['Outcome'],axis=1),prediction_df.Outcome, test_size = 0.3, random_state = 0, stratify = df.Outcome)\n",
    "\n",
    "X_train.shape, X_test.shape"
   ]
  },
  {
   "cell_type": "code",
   "execution_count": 219,
   "metadata": {},
   "outputs": [
    {
     "data": {
      "text/plain": [
       "(0.3407821229050279, 0.36796536796536794)"
      ]
     },
     "execution_count": 219,
     "metadata": {},
     "output_type": "execute_result"
    }
   ],
   "source": [
    "y_train.mean(), y_test.mean()"
   ]
  },
  {
   "cell_type": "code",
   "execution_count": null,
   "metadata": {},
   "outputs": [],
   "source": []
  },
  {
   "cell_type": "markdown",
   "metadata": {},
   "source": [
    "# Train and perform cross validation"
   ]
  },
  {
   "cell_type": "code",
   "execution_count": 220,
   "metadata": {},
   "outputs": [
    {
     "data": {
      "text/plain": [
       "array([0.68518519, 0.74074074, 0.72222222, 0.87037037, 0.81481481,\n",
       "       0.83333333, 0.72222222, 0.77358491, 0.71698113, 0.77358491])"
      ]
     },
     "execution_count": 220,
     "metadata": {},
     "output_type": "execute_result"
    }
   ],
   "source": [
    "from sklearn.linear_model import LogisticRegression\n",
    "model = LogisticRegression()\n",
    "\n",
    "kfold = KFold(n_splits = 10, random_state = 10)\n",
    "scores = cross_val_score(model,X_train,y_train,cv=kfold,scoring='accuracy')\n",
    "scores"
   ]
  },
  {
   "cell_type": "code",
   "execution_count": 221,
   "metadata": {},
   "outputs": [
    {
     "name": "stdout",
     "output_type": "stream",
     "text": [
      "Accuracy: 76.53% (+/- 11.19%)\n"
     ]
    }
   ],
   "source": [
    "print(\"Accuracy: %0.2f%% (+/- %0.2f%%)\" % (100*scores.mean(), 100*scores.std() * 2))"
   ]
  },
  {
   "cell_type": "code",
   "execution_count": 222,
   "metadata": {},
   "outputs": [
    {
     "data": {
      "image/png": "[encoded data removed]",
      "text/plain": [
       "<Figure size 216x432 with 1 Axes>"
      ]
     },
     "metadata": {},
     "output_type": "display_data"
    }
   ],
   "source": [
    "plt.figure(figsize=(3,6))\n",
    "sns.boxplot(data=scores)\n",
    "plt.show()"
   ]
  },
  {
   "cell_type": "code",
   "execution_count": null,
   "metadata": {},
   "outputs": [],
   "source": []
  },
  {
   "cell_type": "markdown",
   "metadata": {},
   "source": [
    "# Prediction"
   ]
  },
  {
   "cell_type": "code",
   "execution_count": 223,
   "metadata": {},
   "outputs": [],
   "source": [
    "model.fit(X_train, y_train)\n",
    "y_train_pred = model.predict(X_train)\n",
    "prob_train_pred = model.predict_proba(X_train)\n",
    "\n",
    "y_test_pred = model.predict(X_test)\n",
    "prob_test_pred = model.predict_proba(X_test)"
   ]
  },
  {
   "cell_type": "code",
   "execution_count": null,
   "metadata": {},
   "outputs": [],
   "source": []
  },
  {
   "cell_type": "markdown",
   "metadata": {},
   "source": [
    "# Model Interpretation"
   ]
  },
  {
   "cell_type": "code",
   "execution_count": 225,
   "metadata": {},
   "outputs": [
    {
     "data": {
      "text/plain": [
       "[('Pregnancies', 1.7948350088819371),\n",
       " ('Glucose_mean', 3.6049929376037873),\n",
       " ('BMI_mean', 2.750453875284689),\n",
       " ('BloodPressure_mean', 0.12707141628916757),\n",
       " ('DiabetesPedigreeFunction', 1.0356346080307377),\n",
       " ('SkinThickness_random', -0.5579467742037827),\n",
       " ('Age', 0.5960614879926275),\n",
       " ('Insulin', 0.96072057000783)]"
      ]
     },
     "execution_count": 225,
     "metadata": {},
     "output_type": "execute_result"
    }
   ],
   "source": [
    "feature_names = X_train.columns.values\n",
    "coefficient_list = list(model.coef_[0])\n",
    "feature_coefficient = [(feature, coefficient) for feature, coefficient in zip(feature_names, coefficient_list)]\n",
    "feature_coefficient"
   ]
  },
  {
   "cell_type": "code",
   "execution_count": null,
   "metadata": {},
   "outputs": [],
   "source": []
  },
  {
   "cell_type": "raw",
   "metadata": {},
   "source": [
    "#get feature importances from the model\n",
    "headers = [\"name\", \"score\"]\n",
    "coefficient_list = np.abs(list(model.coef_[0]))\n",
    "values = sorted(zip(feature_names, coefficient_list), key=lambda x: x[1] * -1)\n",
    "feature_importances = pd.DataFrame(values, columns = headers)\n",
    "feature_importances"
   ]
  },
  {
   "cell_type": "markdown",
   "metadata": {},
   "source": [
    "=> Important features from the model: Glucose, BMI, Insulin, SkinThickness"
   ]
  },
  {
   "cell_type": "markdown",
   "metadata": {},
   "source": [
    "# Model Evaluation"
   ]
  },
  {
   "cell_type": "markdown",
   "metadata": {},
   "source": [
    "### Accuracy"
   ]
  },
  {
   "cell_type": "code",
   "execution_count": 226,
   "metadata": {},
   "outputs": [
    {
     "data": {
      "text/plain": [
       "0.770949720670391"
      ]
     },
     "execution_count": 226,
     "metadata": {},
     "output_type": "execute_result"
    }
   ],
   "source": [
    "accuracy_score(y_train, y_train_pred)"
   ]
  },
  {
   "cell_type": "code",
   "execution_count": 227,
   "metadata": {},
   "outputs": [
    {
     "data": {
      "text/plain": [
       "0.7748917748917749"
      ]
     },
     "execution_count": 227,
     "metadata": {},
     "output_type": "execute_result"
    }
   ],
   "source": [
    "accuracy_score(y_test, y_test_pred)"
   ]
  },
  {
   "cell_type": "markdown",
   "metadata": {},
   "source": [
    "### Confusion matrix"
   ]
  },
  {
   "cell_type": "code",
   "execution_count": 228,
   "metadata": {},
   "outputs": [
    {
     "data": {
      "image/png": "[encoded data removed]",
      "text/plain": [
       "<Figure size 432x288 with 2 Axes>"
      ]
     },
     "metadata": {},
     "output_type": "display_data"
    }
   ],
   "source": [
    "cm_df = pd.DataFrame(confusion_matrix(y_train, y_train_pred))\n",
    "cm_df.index.name = 'Actual'\n",
    "cm_df.columns.name = 'Predicted'\n",
    "sns.heatmap(cm_df, annot=True, fmt=\"d\")\n",
    "plt.show()"
   ]
  },
  {
   "cell_type": "code",
   "execution_count": 229,
   "metadata": {},
   "outputs": [
    {
     "name": "stdout",
     "output_type": "stream",
     "text": [
      "              precision    recall  f1-score   support\n",
      "\n",
      "           0       0.79      0.89      0.84       354\n",
      "           1       0.72      0.54      0.62       183\n",
      "\n",
      "    accuracy                           0.77       537\n",
      "   macro avg       0.75      0.72      0.73       537\n",
      "weighted avg       0.76      0.77      0.76       537\n",
      "\n"
     ]
    }
   ],
   "source": [
    "print(classification_report(y_train, y_train_pred))"
   ]
  },
  {
   "cell_type": "code",
   "execution_count": 230,
   "metadata": {},
   "outputs": [
    {
     "data": {
      "image/png": "[encoded data removed]",
      "text/plain": [
       "<Figure size 432x288 with 2 Axes>"
      ]
     },
     "metadata": {},
     "output_type": "display_data"
    }
   ],
   "source": [
    "cm_df = pd.DataFrame(confusion_matrix(y_test, y_test_pred))\n",
    "cm_df.index.name = 'Actual'\n",
    "cm_df.columns.name = 'Predicted'\n",
    "sns.heatmap(cm_df, annot=True, fmt=\"d\")\n",
    "plt.show()"
   ]
  },
  {
   "cell_type": "markdown",
   "metadata": {},
   "source": [
    "### Classification Report"
   ]
  },
  {
   "cell_type": "code",
   "execution_count": 231,
   "metadata": {},
   "outputs": [
    {
     "name": "stdout",
     "output_type": "stream",
     "text": [
      "              precision    recall  f1-score   support\n",
      "\n",
      "           0       0.76      0.95      0.84       146\n",
      "           1       0.84      0.48      0.61        85\n",
      "\n",
      "    accuracy                           0.77       231\n",
      "   macro avg       0.80      0.71      0.73       231\n",
      "weighted avg       0.79      0.77      0.76       231\n",
      "\n"
     ]
    }
   ],
   "source": [
    "print(classification_report(y_test, y_test_pred))"
   ]
  },
  {
   "cell_type": "markdown",
   "metadata": {},
   "source": [
    "### ROC AUC Score"
   ]
  },
  {
   "cell_type": "code",
   "execution_count": 257,
   "metadata": {},
   "outputs": [
    {
     "data": {
      "text/plain": [
       "0.8350190985485104"
      ]
     },
     "execution_count": 257,
     "metadata": {},
     "output_type": "execute_result"
    }
   ],
   "source": [
    "roc_auc_score(y_train, prob_train_pred[:,1])"
   ]
  },
  {
   "cell_type": "code",
   "execution_count": 258,
   "metadata": {},
   "outputs": [
    {
     "data": {
      "text/plain": [
       "0.8529218106995885"
      ]
     },
     "execution_count": 258,
     "metadata": {},
     "output_type": "execute_result"
    }
   ],
   "source": [
    "roc_auc_score(y_test, prob_test_pred[:,1])"
   ]
  },
  {
   "cell_type": "markdown",
   "metadata": {},
   "source": [
    "### ROC Curve"
   ]
  },
  {
   "cell_type": "code",
   "execution_count": 259,
   "metadata": {},
   "outputs": [
    {
     "data": {
      "image/png": "[encoded data removed]",
      "text/plain": [
       "<Figure size 432x432 with 1 Axes>"
      ]
     },
     "metadata": {},
     "output_type": "display_data"
    }
   ],
   "source": [
    "from sklearn.metrics import roc_curve\n",
    "\n",
    "fpr_train, tpr_train, threshold = roc_curve(y_train, prob_train_pred[:,1])\n",
    "fpr_test, tpr_test, threshold = roc_curve(y_test, prob_test_pred[:,1])\n",
    "\n",
    "plt.figure(figsize=(6,6))\n",
    "plt.title('ROC Curve Classifiers', fontsize=16)\n",
    "plt.plot(fpr_train, tpr_train, label= 'Train Score: {:.4f}'.format(roc_auc_score(y_train, prob_train_pred[:,1])))\n",
    "plt.plot(fpr_test, tpr_test, label= 'Test Score: {:.4f}'.format(roc_auc_score(y_test, prob_test_pred[:,1])))\n",
    "\n",
    "plt.plot([0, 1], [0, 1], 'k--')\n",
    "plt.axis([-0.01, 1, 0, 1])\n",
    "plt.xlabel('False Positive Rate', fontsize=16)\n",
    "plt.ylabel('True Positive Rate', fontsize=16)\n",
    "plt.annotate('Minimum ROC Score of 50% \\n (This is the minimum score to get)', xy=(0.5, 0.5), xytext=(0.6, 0.3),\n",
    "                arrowprops=dict(facecolor='#6E726D', shrink=0.05))\n",
    "plt.legend()\n",
    "        \n",
    "plt.show()\n"
   ]
  },
  {
   "cell_type": "markdown",
   "metadata": {},
   "source": [
    "### Precision-Recall curve"
   ]
  },
  {
   "cell_type": "code",
   "execution_count": 26,
   "metadata": {
    "scrolled": true
   },
   "outputs": [
    {
     "data": {
      "text/plain": [
       "Text(0.5, 1.0, 'Precision-Recall curve: \\n Average Precision-Recall Score =0.77')"
      ]
     },
     "execution_count": 26,
     "metadata": {},
     "output_type": "execute_result"
    },
    {
     "data": {
      "image/png": "[encoded data removed]",
      "text/plain": [
       "<Figure size 432x288 with 1 Axes>"
      ]
     },
     "metadata": {
      "needs_background": "light"
     },
     "output_type": "display_data"
    }
   ],
   "source": [
    "from sklearn.metrics import precision_recall_curve\n",
    "from sklearn.metrics import average_precision_score\n",
    "\n",
    "y_score = prob_test_pred[:,1]\n",
    "precision, recall, threshold = precision_recall_curve(y_test,y_score)\n",
    "average_precision = average_precision_score(y_test, y_score)\n",
    "\n",
    "\n",
    "plt.step(recall, precision, color='#004a93', alpha=0.2,where='post')\n",
    "plt.fill_between(recall, precision, step='post', alpha=0.2, color='#48a6ff')\n",
    "plt.xlabel('Recall')\n",
    "plt.ylabel('Precision')\n",
    "plt.ylim([0.0, 1.05])\n",
    "plt.xlim([0.0, 1.0])\n",
    "plt.title('Precision-Recall curve: \\n Average Precision-Recall Score ={0:0.2f}'.format(average_precision), fontsize=16)"
   ]
  },
  {
   "cell_type": "code",
   "execution_count": 27,
   "metadata": {},
   "outputs": [
    {
     "data": {
      "image/png": "[encoded data removed]",
      "text/plain": [
       "<Figure size 576x360 with 1 Axes>"
      ]
     },
     "metadata": {
      "needs_background": "light"
     },
     "output_type": "display_data"
    }
   ],
   "source": [
    "plt.figure(figsize=(8,5))\n",
    "plt.plot(threshold, precision[1:], label=\"Precision\",linewidth=5)\n",
    "plt.plot(threshold, recall[1:], label=\"Recall\",linewidth=5)\n",
    "plt.title('Precision and recall for different threshold values')\n",
    "plt.xlabel('Threshold')\n",
    "plt.ylabel('Precision/Recall')\n",
    "plt.legend()\n",
    "plt.show()"
   ]
  },
  {
   "cell_type": "code",
   "execution_count": 28,
   "metadata": {},
   "outputs": [
    {
     "data": {
      "text/plain": [
       "Text(0.5, 1.0, 'Precision-Recall curve: \\n Average Precision-Recall Score =0.70')"
      ]
     },
     "execution_count": 28,
     "metadata": {},
     "output_type": "execute_result"
    },
    {
     "data": {
      "image/png": "[encoded data removed]",
      "text/plain": [
       "<Figure size 432x288 with 1 Axes>"
      ]
     },
     "metadata": {
      "needs_background": "light"
     },
     "output_type": "display_data"
    }
   ],
   "source": [
    "from sklearn.metrics import precision_recall_curve\n",
    "from sklearn.metrics import average_precision_score\n",
    "\n",
    "y_score = prob_train_pred[:,1]\n",
    "precision, recall, threshold = precision_recall_curve(y_train,y_score)\n",
    "average_precision = average_precision_score(y_train, y_score)\n",
    "\n",
    "\n",
    "plt.step(recall, precision, color='#004a93', alpha=0.2,where='post')\n",
    "plt.fill_between(recall, precision, step='post', alpha=0.2, color='#48a6ff')\n",
    "plt.xlabel('Recall')\n",
    "plt.ylabel('Precision')\n",
    "plt.ylim([0.0, 1.05])\n",
    "plt.xlim([0.0, 1.0])\n",
    "plt.title('Precision-Recall curve: \\n Average Precision-Recall Score ={0:0.2f}'.format(average_precision), fontsize=16)"
   ]
  },
  {
   "cell_type": "code",
   "execution_count": 29,
   "metadata": {},
   "outputs": [
    {
     "data": {
      "image/png": "[encoded data removed]",
      "text/plain": [
       "<Figure size 576x360 with 1 Axes>"
      ]
     },
     "metadata": {
      "needs_background": "light"
     },
     "output_type": "display_data"
    }
   ],
   "source": [
    "plt.figure(figsize=(8,5))\n",
    "plt.plot(threshold, precision[1:], label=\"Precision\",linewidth=5)\n",
    "plt.plot(threshold, recall[1:], label=\"Recall\",linewidth=5)\n",
    "plt.title('Precision and recall for different threshold values')\n",
    "plt.xlabel('Threshold')\n",
    "plt.ylabel('Precision/Recall')\n",
    "plt.legend()\n",
    "plt.show()"
   ]
  },
  {
   "cell_type": "code",
   "execution_count": null,
   "metadata": {},
   "outputs": [],
   "source": []
  },
  {
   "cell_type": "markdown",
   "metadata": {},
   "source": [
    "### Summary"
   ]
  },
  {
   "cell_type": "code",
   "execution_count": 30,
   "metadata": {},
   "outputs": [],
   "source": [
    "def ModelEvaluation(model,X_train,y_train,X_test,y_test,name):\n",
    "    print('Model Evaluation of ' + name)\n",
    "\n",
    "    print('-----------------------------------------------------------')\n",
    "    print('Train set')\n",
    "    print('Accuracy: ', accuracy_score(y_train, y_train_pred))\n",
    "    print('ROC AUC Score: ', roc_auc_score(y_train, prob_train_pred[:,1]))\n",
    "    cm_df = pd.DataFrame(confusion_matrix(y_train,y_train_pred), index=model.classes_,columns=model.classes_)\n",
    "    cm_df.index.name = 'Predicted'\n",
    "    cm_df.columns.name = 'True'\n",
    "    print('Confusion matrix')\n",
    "    print(cm_df)\n",
    "    print(classification_report(y_train, y_train_pred))\n",
    "    \n",
    "    print('-----------------------------------------------------------')\n",
    "    print('Test set')\n",
    "    print('Accuracy: ', accuracy_score(y_test, y_test_pred))\n",
    "    print('ROC AUC Score: ', roc_auc_score(y_test, prob_test_pred[:,1]))\n",
    "    cm_df = pd.DataFrame(confusion_matrix(y_test,y_test_pred), index=model.classes_,columns=model.classes_)\n",
    "    cm_df.index.name = 'Predicted'\n",
    "    cm_df.columns.name = 'True'\n",
    "    print('Confusion matrix')\n",
    "    print(cm_df)\n",
    "    print(classification_report(y_test, y_test_pred))\n",
    "    "
   ]
  },
  {
   "cell_type": "code",
   "execution_count": 31,
   "metadata": {},
   "outputs": [
    {
     "name": "stdout",
     "output_type": "stream",
     "text": [
      "Model Evaluation of DT\n",
      "-----------------------------------------------------------\n",
      "Train set\n",
      "Accuracy:  0.7671009771986971\n",
      "ROC AUC Score:  0.8365654205607477\n",
      "Confusion matrix\n",
      "True         0    1\n",
      "Predicted          \n",
      "0          356   44\n",
      "1           99  115\n",
      "              precision    recall  f1-score   support\n",
      "\n",
      "           0       0.78      0.89      0.83       400\n",
      "           1       0.72      0.54      0.62       214\n",
      "\n",
      "    accuracy                           0.77       614\n",
      "   macro avg       0.75      0.71      0.72       614\n",
      "weighted avg       0.76      0.77      0.76       614\n",
      "\n",
      "-----------------------------------------------------------\n",
      "Test set\n",
      "Accuracy:  0.7727272727272727\n",
      "ROC AUC Score:  0.8631481481481481\n",
      "Confusion matrix\n",
      "True        0   1\n",
      "Predicted        \n",
      "0          91   9\n",
      "1          26  28\n",
      "              precision    recall  f1-score   support\n",
      "\n",
      "           0       0.78      0.91      0.84       100\n",
      "           1       0.76      0.52      0.62        54\n",
      "\n",
      "    accuracy                           0.77       154\n",
      "   macro avg       0.77      0.71      0.73       154\n",
      "weighted avg       0.77      0.77      0.76       154\n",
      "\n"
     ]
    }
   ],
   "source": [
    "ModelEvaluation(model,X_train,y_train,X_test,y_test,'DT')"
   ]
  },
  {
   "cell_type": "code",
   "execution_count": null,
   "metadata": {},
   "outputs": [],
   "source": []
  },
  {
   "cell_type": "markdown",
   "metadata": {},
   "source": [
    "# Tuning hyper-parameters"
   ]
  },
  {
   "cell_type": "code",
   "execution_count": 32,
   "metadata": {},
   "outputs": [
    {
     "data": {
      "text/plain": [
       "LogisticRegression(C=1, class_weight=None, dual=False, fit_intercept=True,\n",
       "                   intercept_scaling=1, l1_ratio=None, max_iter=100,\n",
       "                   multi_class='ovr', n_jobs=None, penalty='l2',\n",
       "                   random_state=None, solver='newton-cg', tol=0.0001, verbose=0,\n",
       "                   warm_start=False)"
      ]
     },
     "execution_count": 32,
     "metadata": {},
     "output_type": "execute_result"
    }
   ],
   "source": [
    "# Specify parameters\n",
    "c_values = [0.001, 0.01, 0.1, 1, 10, 100, 1000]\n",
    "params = [\n",
    "    {'C': c_values, 'penalty': ['l1'], 'solver' : ['liblinear'], 'multi_class' : ['ovr']},\n",
    "    {'C': c_values, 'penalty': ['l2'], 'solver' : ['liblinear', 'newton-cg', 'lbfgs'], 'multi_class' : ['ovr']}\n",
    "]\n",
    "\n",
    "grid_search = GridSearchCV(LogisticRegression(), params, cv = 10)\n",
    "grid_search.fit(X_train, y_train)\n",
    "\n",
    "# tree best estimator\n",
    "best_model = grid_search.best_estimator_\n",
    "best_model"
   ]
  },
  {
   "cell_type": "code",
   "execution_count": 33,
   "metadata": {},
   "outputs": [
    {
     "name": "stdout",
     "output_type": "stream",
     "text": [
      "Accuracy: 76.71% (+/- 8.89%)\n"
     ]
    }
   ],
   "source": [
    "scores = cross_val_score(model, X_train, y_train, cv=10)\n",
    "print(\"Accuracy: %0.2f%% (+/- %0.2f%%)\" % (100*scores.mean(), 100*scores.std() * 2))"
   ]
  },
  {
   "cell_type": "code",
   "execution_count": 34,
   "metadata": {},
   "outputs": [
    {
     "name": "stdout",
     "output_type": "stream",
     "text": [
      "Accuracy: 76.71% (+/- 8.89%)\n"
     ]
    }
   ],
   "source": [
    "scores = cross_val_score(best_model, X_train, y_train, cv=10)\n",
    "print(\"Accuracy: %0.2f%% (+/- %0.2f%%)\" % (100*scores.mean(), 100*scores.std() * 2))"
   ]
  },
  {
   "cell_type": "code",
   "execution_count": 35,
   "metadata": {},
   "outputs": [
    {
     "data": {
      "text/plain": [
       "array([0.75806452, 0.80645161, 0.70967742, 0.80645161, 0.67213115,\n",
       "       0.75409836, 0.80327869, 0.7704918 , 0.81967213, 0.7704918 ])"
      ]
     },
     "execution_count": 35,
     "metadata": {},
     "output_type": "execute_result"
    }
   ],
   "source": [
    "scores"
   ]
  },
  {
   "cell_type": "code",
   "execution_count": 36,
   "metadata": {},
   "outputs": [
    {
     "data": {
      "image/png": "[encoded data removed]",
      "text/plain": [
       "<Figure size 216x432 with 1 Axes>"
      ]
     },
     "metadata": {
      "needs_background": "light"
     },
     "output_type": "display_data"
    }
   ],
   "source": [
    "plt.figure(figsize=(3,6))\n",
    "sns.boxplot(data=scores)\n",
    "plt.show()"
   ]
  },
  {
   "cell_type": "code",
   "execution_count": 37,
   "metadata": {},
   "outputs": [],
   "source": [
    "model = best_model\n",
    "\n",
    "model.fit(X_train, y_train)\n",
    "y_train_pred = model.predict(X_train)\n",
    "prob_train_pred = model.predict_proba(X_train)\n",
    "\n",
    "y_test_pred = model.predict(X_test)\n",
    "prob_test_pred = model.predict_proba(X_test)"
   ]
  },
  {
   "cell_type": "code",
   "execution_count": 38,
   "metadata": {},
   "outputs": [
    {
     "name": "stdout",
     "output_type": "stream",
     "text": [
      "Model Evaluation of DT\n",
      "-----------------------------------------------------------\n",
      "Train set\n",
      "Accuracy:  0.7671009771986971\n",
      "ROC AUC Score:  0.8365654205607477\n",
      "Confusion matrix\n",
      "True         0    1\n",
      "Predicted          \n",
      "0          356   44\n",
      "1           99  115\n",
      "              precision    recall  f1-score   support\n",
      "\n",
      "           0       0.78      0.89      0.83       400\n",
      "           1       0.72      0.54      0.62       214\n",
      "\n",
      "    accuracy                           0.77       614\n",
      "   macro avg       0.75      0.71      0.72       614\n",
      "weighted avg       0.76      0.77      0.76       614\n",
      "\n",
      "-----------------------------------------------------------\n",
      "Test set\n",
      "Accuracy:  0.7727272727272727\n",
      "ROC AUC Score:  0.8631481481481481\n",
      "Confusion matrix\n",
      "True        0   1\n",
      "Predicted        \n",
      "0          91   9\n",
      "1          26  28\n",
      "              precision    recall  f1-score   support\n",
      "\n",
      "           0       0.78      0.91      0.84       100\n",
      "           1       0.76      0.52      0.62        54\n",
      "\n",
      "    accuracy                           0.77       154\n",
      "   macro avg       0.77      0.71      0.73       154\n",
      "weighted avg       0.77      0.77      0.76       154\n",
      "\n"
     ]
    }
   ],
   "source": [
    "ModelEvaluation(model,X_train,y_train,X_test,y_test,'DT')"
   ]
  },
  {
   "cell_type": "code",
   "execution_count": 39,
   "metadata": {},
   "outputs": [
    {
     "data": {
      "image/png": "[encoded data removed]",
      "text/plain": [
       "<Figure size 432x432 with 1 Axes>"
      ]
     },
     "metadata": {
      "needs_background": "light"
     },
     "output_type": "display_data"
    }
   ],
   "source": [
    "from sklearn.metrics import roc_curve\n",
    "\n",
    "fpr_train, tpr_train, threshold = roc_curve(y_train, prob_train_pred[:,1])\n",
    "fpr_test, tpr_test, threshold = roc_curve(y_test, prob_test_pred[:,1])\n",
    "\n",
    "plt.figure(figsize=(6,6))\n",
    "plt.title('ROC Curve Classifiers', fontsize=16)\n",
    "plt.plot(fpr_train, tpr_train, label= 'Train Score: {:.4f}'.format(roc_auc_score(y_train, prob_train_pred[:,1])))\n",
    "plt.plot(fpr_test, tpr_test, label= 'Test Score: {:.4f}'.format(roc_auc_score(y_test, prob_test_pred[:,1])))\n",
    "\n",
    "plt.plot([0, 1], [0, 1], 'k--')\n",
    "plt.axis([-0.01, 1, 0, 1])\n",
    "plt.xlabel('False Positive Rate', fontsize=16)\n",
    "plt.ylabel('True Positive Rate', fontsize=16)\n",
    "plt.annotate('Minimum ROC Score of 50% \\n (This is the minimum score to get)', xy=(0.5, 0.5), xytext=(0.6, 0.3),\n",
    "                arrowprops=dict(facecolor='#6E726D', shrink=0.05))\n",
    "plt.legend()\n",
    "        \n",
    "plt.show()\n"
   ]
  },
  {
   "cell_type": "code",
   "execution_count": null,
   "metadata": {},
   "outputs": [],
   "source": []
  },
  {
   "cell_type": "code",
   "execution_count": null,
   "metadata": {},
   "outputs": [],
   "source": []
  },
  {
   "cell_type": "code",
   "execution_count": null,
   "metadata": {},
   "outputs": [],
   "source": []
  },
  {
   "cell_type": "code",
   "execution_count": null,
   "metadata": {},
   "outputs": [],
   "source": []
  }
 ],
 "metadata": {
  "kernelspec": {
   "display_name": "Python 3",
   "language": "python",
   "name": "python3"
  },
  "language_info": {
   "codemirror_mode": {
    "name": "ipython",
    "version": 3
   },
   "file_extension": ".py",
   "mimetype": "text/x-python",
   "name": "python",
   "nbconvert_exporter": "python",
   "pygments_lexer": "ipython3",
   "version": "3.7.3"
  }
 },
 "nbformat": 4,
 "nbformat_minor": 2
}
