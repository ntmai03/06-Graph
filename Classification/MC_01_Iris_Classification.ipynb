{
 "cells": [
  {
   "cell_type": "markdown",
   "metadata": {},
   "source": [
    "# Importing the libraries"
   ]
  },
  {
   "cell_type": "code",
   "execution_count": 2,
   "metadata": {},
   "outputs": [
    {
     "name": "stdout",
     "output_type": "stream",
     "text": [
      "Setup complete...\n"
     ]
    }
   ],
   "source": [
    "# Dataframe manipulation\n",
    "import numpy as np\n",
    "import pandas as pd\n",
    "\n",
    "# Visualization\n",
    "import seaborn as sns\n",
    "import matplotlib.pyplot as plt\n",
    "\n",
    "# Preprocessing\n",
    "from sklearn.preprocessing import MinMaxScaler, StandardScaler, LabelEncoder\n",
    "\n",
    "# Modelling Helpers:\n",
    "from sklearn.preprocessing import Normalizer, scale\n",
    "from sklearn.model_selection import train_test_split\n",
    "from sklearn.feature_selection import RFECV\n",
    "from sklearn.model_selection import GridSearchCV, KFold, cross_val_score, ShuffleSplit, cross_validate\n",
    "from sklearn import model_selection\n",
    "from sklearn.model_selection import train_test_split\n",
    "\n",
    "# Classification\n",
    "from sklearn.tree import DecisionTreeClassifier\n",
    "from sklearn.neighbors import KNeighborsClassifier\n",
    "from sklearn.naive_bayes import GaussianNB\n",
    "from lightgbm import LGBMClassifier\n",
    "from sklearn.svm import SVC, LinearSVC\n",
    "from sklearn.ensemble import RandomForestClassifier, GradientBoostingClassifier, AdaBoostClassifier\n",
    "from sklearn.discriminant_analysis import LinearDiscriminantAnalysis, QuadraticDiscriminantAnalysis\n",
    "from xgboost import XGBClassifier\n",
    "from sklearn.neural_network import MLPClassifier\n",
    "\n",
    "# Regression\n",
    "from sklearn.linear_model import LinearRegression,Ridge,Lasso,RidgeCV,ElasticNet,LogisticRegression\n",
    "from sklearn.ensemble import RandomForestRegressor,BaggingRegressor,GradientBoostingRegressor,AdaBoostRegressor\n",
    "from sklearn.svm import SVR\n",
    "from sklearn.neighbors import KNeighborsRegressor\n",
    "from sklearn.neural_network import MLPRegressor\n",
    "from xgboost import XGBRegressor\n",
    "\n",
    "# Evaluation metrics for Regression \n",
    "from sklearn.metrics import mean_squared_log_error, mean_squared_error, r2_score, mean_absolute_error\n",
    "# Evaluation metrics for Classification\n",
    "from sklearn.metrics import accuracy_score, confusion_matrix, precision_score, recall_score, f1_score, classification_report\n",
    "\n",
    "print(\"Setup complete...\")\n",
    "\n",
    "# Supress warnings\n",
    "import warnings\n",
    "warnings.filterwarnings(\"ignore\")"
   ]
  },
  {
   "cell_type": "markdown",
   "metadata": {},
   "source": [
    "# Common function"
   ]
  },
  {
   "cell_type": "code",
   "execution_count": 3,
   "metadata": {},
   "outputs": [],
   "source": [
    "#######################################################################\n",
    "### DefineTarget\n",
    "#######################################################################\n",
    "def DefineTarget(target_val):\n",
    "    if(target_val == 'Yes'):\n",
    "        target_val = 1\n",
    "    else:\n",
    "        target_val = 0\n",
    "    \n",
    "    return target_val\n",
    "\n",
    "\n",
    "#######################################################################\n",
    "### Descriptive Statistics\n",
    "#######################################################################\n",
    "def DescriptiveStatistics(df):\n",
    "    countvar = df.count()\n",
    "    meanvar = np.round(df.mean(),1)\n",
    "    minvar = df.min()\n",
    "    maxvar = df.max()\n",
    "    stdvar = np.round(df.std(),1)\n",
    "    statistics_df = pd.concat([meanvar,minvar,maxvar,stdvar,countvar],axis=1)\n",
    "    statistics_df = pd.DataFrame(statistics_df).reset_index()\n",
    "    orgname = list(statistics_df.columns.values)\n",
    "    statistics_df.rename(columns={orgname[0]:'variable',\n",
    "                                  orgname[1]:'mean',\n",
    "                                  orgname[2]:'min',\n",
    "                                  orgname[3]:'max',\n",
    "                                  orgname[4]:'std',\n",
    "                                  orgname[5]:'non_missing'},\n",
    "                                  inplace = True)\n",
    "    statistics_df['Total'] = df.shape[0]\n",
    "    statistics_df['miss_per'] = np.round(100*(statistics_df['Total'] - statistics_df['non_missing'])/statistics_df['Total'],1)\n",
    "    \n",
    "    return statistics_df\n",
    "\n",
    "\n",
    "#######################################################################\n",
    "### Check_Missing_Data\n",
    "#######################################################################\n",
    "def Check_Missing_Data(df):    \n",
    "    # count all missing values of each column\n",
    "    total = df.isnull().sum().sort_values(ascending=False)\n",
    "    # calculate percentage of null values for each column\n",
    "    percent = (df.isnull().sum()/df.isnull().count()).sort_values(ascending=False)\n",
    "    missing_data = pd.concat([total, percent], axis=1, keys=['Total', 'Percent'])\n",
    "    \n",
    "    return missing_data\n",
    "\n",
    "\n",
    "#######################################################################\n",
    "### Create dummy varibales\n",
    "#######################################################################\n",
    "def CreateDummyVar(df, categorical_list):\n",
    "    objdf_new = df.copy()\n",
    "    objdf_dummy =pd.DataFrame()\n",
    "    i = 0\n",
    "    for e in categorical_list:\n",
    "        i = i + 1\n",
    "        objdf_new[e]=objdf_new[e] + \"_\" + str(i)\n",
    "        varname= e \n",
    "        df_temp = pd.get_dummies(objdf_new[varname])\n",
    "        objdf_dummy = pd.concat([objdf_dummy, df_temp], axis=1)\n",
    "        \n",
    "    return objdf_dummy\n",
    "\n",
    "\n",
    "#######################################################################\n",
    "### ModelSelection\n",
    "#######################################################################\n",
    "def ModelSelection(X_train, y_train, X_test, y_test):\n",
    "    \n",
    "    # Import libraries\n",
    "    from sklearn.tree import DecisionTreeClassifier\n",
    "    from sklearn.neighbors import KNeighborsClassifier\n",
    "    from sklearn.naive_bayes import GaussianNB\n",
    "    from lightgbm import LGBMClassifier\n",
    "    from sklearn.svm import SVC, LinearSVC\n",
    "    from sklearn.ensemble import RandomForestClassifier, GradientBoostingClassifier, AdaBoostClassifier\n",
    "    from sklearn.discriminant_analysis import LinearDiscriminantAnalysis, QuadraticDiscriminantAnalysis\n",
    "    from xgboost import XGBClassifier\n",
    "    from sklearn.neural_network import MLPClassifier\n",
    "    \n",
    "    # Test options and evaluation metric\n",
    "    seed = 7\n",
    "    scoring = 'accuracy'\n",
    "    \n",
    "    # Initialize the classifier models with their default parameters and add them to the list\n",
    "    models = []\n",
    "    models.append(('KNN', KNeighborsClassifier()))\n",
    "    models.append(('SVC', SVC(kernel=\"linear\")))\n",
    "    models.append(('LSVC', SVC(kernel=\"rbf\")))\n",
    "    models.append(('LR', LogisticRegression()))\n",
    "    models.append(('DT', DecisionTreeClassifier()))\n",
    "    models.append(('GNB', GaussianNB()))\n",
    "    models.append(('RF', RandomForestClassifier()))\n",
    "    models.append(('GB', GradientBoostingClassifier()))\n",
    "    models.append(('LGB',LGBMClassifier()))\n",
    "    models.append(('ADA',AdaBoostClassifier()))\n",
    "    models.append(('QDA',QuadraticDiscriminantAnalysis()))\n",
    "    models.append(('NN',MLPClassifier()))\n",
    "    models.append(('XGB',XGBClassifier()))\n",
    "    \n",
    "    # Train model\n",
    "    # evaluate each model in turn\n",
    "    from sklearn import model_selection\n",
    "    from sklearn.model_selection import train_test_split\n",
    "    results = {}\n",
    "    names = []\n",
    "\n",
    "    for name, model in models:\n",
    "        kfold = model_selection.KFold(n_splits=10, random_state = seed)\n",
    "        cv_results = model_selection.cross_val_score(model, X_train, y_train, cv=kfold, scoring=scoring)\n",
    "        results[name] = cv_results\n",
    "        names.append(name)\n",
    "        msg = \"%s: %f (%f)\" % (name, cv_results.mean(), cv_results.std())\n",
    "        print(msg)\n",
    "    \n",
    "    results_df = pd.DataFrame(results)\n",
    "    print(results_df)\n",
    "    \n",
    "    plt.figure(figsize=(15,10))\n",
    "    sns.boxplot(data=results_df)\n",
    "    plt.show()\n",
    "    \n",
    "    # Make predictions on validation dataset\n",
    "    for name, model in models:\n",
    "        model.fit(X_train, y_train)\n",
    "        predictions = model.predict(X_test)\n",
    "        print(name)\n",
    "        print('Accuracy score: ',accuracy_score(y_test, predictions))\n",
    "        print(classification_report(y_test, predictions))"
   ]
  },
  {
   "cell_type": "markdown",
   "metadata": {},
   "source": [
    "# Importing the dataset"
   ]
  },
  {
   "cell_type": "code",
   "execution_count": 4,
   "metadata": {},
   "outputs": [
    {
     "name": "stdout",
     "output_type": "stream",
     "text": [
      "(150, 5)\n"
     ]
    },
    {
     "data": {
      "text/html": [
       "<div>\n",
       "<style scoped>\n",
       "    .dataframe tbody tr th:only-of-type {\n",
       "        vertical-align: middle;\n",
       "    }\n",
       "\n",
       "    .dataframe tbody tr th {\n",
       "        vertical-align: top;\n",
       "    }\n",
       "\n",
       "    .dataframe thead th {\n",
       "        text-align: right;\n",
       "    }\n",
       "</style>\n",
       "<table border=\"1\" class=\"dataframe\">\n",
       "  <thead>\n",
       "    <tr style=\"text-align: right;\">\n",
       "      <th></th>\n",
       "      <th>SepalLengthCm</th>\n",
       "      <th>SepalWidthCm</th>\n",
       "      <th>PetalLengthCm</th>\n",
       "      <th>PetalWidthCm</th>\n",
       "      <th>Species</th>\n",
       "    </tr>\n",
       "  </thead>\n",
       "  <tbody>\n",
       "    <tr>\n",
       "      <th>0</th>\n",
       "      <td>5.1</td>\n",
       "      <td>3.5</td>\n",
       "      <td>1.4</td>\n",
       "      <td>0.2</td>\n",
       "      <td>Iris-setosa</td>\n",
       "    </tr>\n",
       "    <tr>\n",
       "      <th>1</th>\n",
       "      <td>4.9</td>\n",
       "      <td>3.0</td>\n",
       "      <td>1.4</td>\n",
       "      <td>0.2</td>\n",
       "      <td>Iris-setosa</td>\n",
       "    </tr>\n",
       "    <tr>\n",
       "      <th>2</th>\n",
       "      <td>4.7</td>\n",
       "      <td>3.2</td>\n",
       "      <td>1.3</td>\n",
       "      <td>0.2</td>\n",
       "      <td>Iris-setosa</td>\n",
       "    </tr>\n",
       "    <tr>\n",
       "      <th>3</th>\n",
       "      <td>4.6</td>\n",
       "      <td>3.1</td>\n",
       "      <td>1.5</td>\n",
       "      <td>0.2</td>\n",
       "      <td>Iris-setosa</td>\n",
       "    </tr>\n",
       "    <tr>\n",
       "      <th>4</th>\n",
       "      <td>5.0</td>\n",
       "      <td>3.6</td>\n",
       "      <td>1.4</td>\n",
       "      <td>0.2</td>\n",
       "      <td>Iris-setosa</td>\n",
       "    </tr>\n",
       "  </tbody>\n",
       "</table>\n",
       "</div>"
      ],
      "text/plain": [
       "   SepalLengthCm  SepalWidthCm  PetalLengthCm  PetalWidthCm      Species\n",
       "0            5.1           3.5            1.4           0.2  Iris-setosa\n",
       "1            4.9           3.0            1.4           0.2  Iris-setosa\n",
       "2            4.7           3.2            1.3           0.2  Iris-setosa\n",
       "3            4.6           3.1            1.5           0.2  Iris-setosa\n",
       "4            5.0           3.6            1.4           0.2  Iris-setosa"
      ]
     },
     "execution_count": 4,
     "metadata": {},
     "output_type": "execute_result"
    }
   ],
   "source": [
    "dataset = pd.read_csv('iris.csv')\n",
    "print(dataset.shape)\n",
    "dataset.head()"
   ]
  },
  {
   "cell_type": "code",
   "execution_count": 5,
   "metadata": {},
   "outputs": [
    {
     "data": {
      "text/plain": [
       "Iris-versicolor    50\n",
       "Iris-setosa        50\n",
       "Iris-virginica     50\n",
       "Name: Species, dtype: int64"
      ]
     },
     "execution_count": 5,
     "metadata": {},
     "output_type": "execute_result"
    }
   ],
   "source": [
    "dataset['Species'].value_counts()"
   ]
  },
  {
   "cell_type": "markdown",
   "metadata": {},
   "source": [
    "#### reset index"
   ]
  },
  {
   "cell_type": "code",
   "execution_count": 6,
   "metadata": {},
   "outputs": [
    {
     "data": {
      "text/html": [
       "<div>\n",
       "<style scoped>\n",
       "    .dataframe tbody tr th:only-of-type {\n",
       "        vertical-align: middle;\n",
       "    }\n",
       "\n",
       "    .dataframe tbody tr th {\n",
       "        vertical-align: top;\n",
       "    }\n",
       "\n",
       "    .dataframe thead th {\n",
       "        text-align: right;\n",
       "    }\n",
       "</style>\n",
       "<table border=\"1\" class=\"dataframe\">\n",
       "  <thead>\n",
       "    <tr style=\"text-align: right;\">\n",
       "      <th></th>\n",
       "      <th>SepalLengthCm</th>\n",
       "      <th>SepalWidthCm</th>\n",
       "      <th>PetalLengthCm</th>\n",
       "      <th>PetalWidthCm</th>\n",
       "      <th>Species</th>\n",
       "    </tr>\n",
       "  </thead>\n",
       "  <tbody>\n",
       "    <tr>\n",
       "      <th>0</th>\n",
       "      <td>5.1</td>\n",
       "      <td>3.5</td>\n",
       "      <td>1.4</td>\n",
       "      <td>0.2</td>\n",
       "      <td>Iris-setosa</td>\n",
       "    </tr>\n",
       "    <tr>\n",
       "      <th>1</th>\n",
       "      <td>4.9</td>\n",
       "      <td>3.0</td>\n",
       "      <td>1.4</td>\n",
       "      <td>0.2</td>\n",
       "      <td>Iris-setosa</td>\n",
       "    </tr>\n",
       "    <tr>\n",
       "      <th>2</th>\n",
       "      <td>4.7</td>\n",
       "      <td>3.2</td>\n",
       "      <td>1.3</td>\n",
       "      <td>0.2</td>\n",
       "      <td>Iris-setosa</td>\n",
       "    </tr>\n",
       "    <tr>\n",
       "      <th>3</th>\n",
       "      <td>4.6</td>\n",
       "      <td>3.1</td>\n",
       "      <td>1.5</td>\n",
       "      <td>0.2</td>\n",
       "      <td>Iris-setosa</td>\n",
       "    </tr>\n",
       "    <tr>\n",
       "      <th>4</th>\n",
       "      <td>5.0</td>\n",
       "      <td>3.6</td>\n",
       "      <td>1.4</td>\n",
       "      <td>0.2</td>\n",
       "      <td>Iris-setosa</td>\n",
       "    </tr>\n",
       "  </tbody>\n",
       "</table>\n",
       "</div>"
      ],
      "text/plain": [
       "   SepalLengthCm  SepalWidthCm  PetalLengthCm  PetalWidthCm      Species\n",
       "0            5.1           3.5            1.4           0.2  Iris-setosa\n",
       "1            4.9           3.0            1.4           0.2  Iris-setosa\n",
       "2            4.7           3.2            1.3           0.2  Iris-setosa\n",
       "3            4.6           3.1            1.5           0.2  Iris-setosa\n",
       "4            5.0           3.6            1.4           0.2  Iris-setosa"
      ]
     },
     "execution_count": 6,
     "metadata": {},
     "output_type": "execute_result"
    }
   ],
   "source": [
    "dataset = dataset.reset_index(drop = True)\n",
    "dataset.shape\n",
    "dataset.head()"
   ]
  },
  {
   "cell_type": "code",
   "execution_count": null,
   "metadata": {},
   "outputs": [],
   "source": []
  },
  {
   "cell_type": "markdown",
   "metadata": {},
   "source": [
    "# Data Preprocessing"
   ]
  },
  {
   "cell_type": "markdown",
   "metadata": {},
   "source": [
    "### Numerical variables"
   ]
  },
  {
   "cell_type": "markdown",
   "metadata": {},
   "source": [
    "#### Scaling dataset"
   ]
  },
  {
   "cell_type": "code",
   "execution_count": 7,
   "metadata": {},
   "outputs": [
    {
     "ename": "NameError",
     "evalue": "name 'numdf' is not defined",
     "output_type": "error",
     "traceback": [
      "\u001b[1;31m---------------------------------------------------------------------------\u001b[0m",
      "\u001b[1;31mNameError\u001b[0m                                 Traceback (most recent call last)",
      "\u001b[1;32m<ipython-input-7-806219746c20>\u001b[0m in \u001b[0;36m<module>\u001b[1;34m\u001b[0m\n\u001b[1;32m----> 1\u001b[1;33m \u001b[0mnumdf\u001b[0m\u001b[1;33m.\u001b[0m\u001b[0mhead\u001b[0m\u001b[1;33m(\u001b[0m\u001b[1;33m)\u001b[0m\u001b[1;33m\u001b[0m\u001b[1;33m\u001b[0m\u001b[0m\n\u001b[0m",
      "\u001b[1;31mNameError\u001b[0m: name 'numdf' is not defined"
     ]
    }
   ],
   "source": [
    "numdf.head()"
   ]
  },
  {
   "cell_type": "code",
   "execution_count": 168,
   "metadata": {
    "scrolled": true
   },
   "outputs": [
    {
     "data": {
      "text/html": [
       "<div>\n",
       "<style scoped>\n",
       "    .dataframe tbody tr th:only-of-type {\n",
       "        vertical-align: middle;\n",
       "    }\n",
       "\n",
       "    .dataframe tbody tr th {\n",
       "        vertical-align: top;\n",
       "    }\n",
       "\n",
       "    .dataframe thead th {\n",
       "        text-align: right;\n",
       "    }\n",
       "</style>\n",
       "<table border=\"1\" class=\"dataframe\">\n",
       "  <thead>\n",
       "    <tr style=\"text-align: right;\">\n",
       "      <th></th>\n",
       "      <th>PetalWidthCm</th>\n",
       "      <th>PetalLengthCm</th>\n",
       "      <th>SepalWidthCm</th>\n",
       "      <th>SepalLengthCm</th>\n",
       "    </tr>\n",
       "  </thead>\n",
       "  <tbody>\n",
       "    <tr>\n",
       "      <th>0</th>\n",
       "      <td>-1.312977</td>\n",
       "      <td>-1.341272</td>\n",
       "      <td>1.032057</td>\n",
       "      <td>-0.900681</td>\n",
       "    </tr>\n",
       "    <tr>\n",
       "      <th>1</th>\n",
       "      <td>-1.312977</td>\n",
       "      <td>-1.341272</td>\n",
       "      <td>-0.124958</td>\n",
       "      <td>-1.143017</td>\n",
       "    </tr>\n",
       "    <tr>\n",
       "      <th>2</th>\n",
       "      <td>-1.312977</td>\n",
       "      <td>-1.398138</td>\n",
       "      <td>0.337848</td>\n",
       "      <td>-1.385353</td>\n",
       "    </tr>\n",
       "    <tr>\n",
       "      <th>3</th>\n",
       "      <td>-1.312977</td>\n",
       "      <td>-1.284407</td>\n",
       "      <td>0.106445</td>\n",
       "      <td>-1.506521</td>\n",
       "    </tr>\n",
       "    <tr>\n",
       "      <th>4</th>\n",
       "      <td>-1.312977</td>\n",
       "      <td>-1.341272</td>\n",
       "      <td>1.263460</td>\n",
       "      <td>-1.021849</td>\n",
       "    </tr>\n",
       "  </tbody>\n",
       "</table>\n",
       "</div>"
      ],
      "text/plain": [
       "   PetalWidthCm  PetalLengthCm  SepalWidthCm  SepalLengthCm\n",
       "0     -1.312977      -1.341272      1.032057      -0.900681\n",
       "1     -1.312977      -1.341272     -0.124958      -1.143017\n",
       "2     -1.312977      -1.398138      0.337848      -1.385353\n",
       "3     -1.312977      -1.284407      0.106445      -1.506521\n",
       "4     -1.312977      -1.341272      1.263460      -1.021849"
      ]
     },
     "execution_count": 168,
     "metadata": {},
     "output_type": "execute_result"
    }
   ],
   "source": [
    "from sklearn.preprocessing import StandardScaler\n",
    "numdf_norm = pd.DataFrame(StandardScaler().fit_transform(numdf))\n",
    "numdf_norm.columns = numdf.columns\n",
    "numdf_norm.head()"
   ]
  },
  {
   "cell_type": "code",
   "execution_count": 169,
   "metadata": {},
   "outputs": [],
   "source": [
    "#from sklearn.preprocessing import MinMaxScaler\n",
    "#numdf_norm = pd.DataFrame(MinMaxScaler().fit_transform(numdf))\n",
    "#numdf_norm.columns = numdf.columns\n",
    "#numdf_norm = numdf_norm.drop(['Target'],axis=1)\n",
    "#numdf_norm.head()"
   ]
  },
  {
   "cell_type": "markdown",
   "metadata": {},
   "source": [
    "### Categorical variables"
   ]
  },
  {
   "cell_type": "markdown",
   "metadata": {},
   "source": [
    "#### Create dummy varibales"
   ]
  },
  {
   "cell_type": "markdown",
   "metadata": {},
   "source": [
    "#### One hot coding"
   ]
  },
  {
   "cell_type": "markdown",
   "metadata": {},
   "source": [
    "### Combine all predictors"
   ]
  },
  {
   "cell_type": "code",
   "execution_count": 170,
   "metadata": {},
   "outputs": [
    {
     "name": "stdout",
     "output_type": "stream",
     "text": [
      "(150, 4)\n",
      "(150, 0)\n",
      "(150, 0)\n"
     ]
    }
   ],
   "source": [
    "print(numdf_norm.shape)\n",
    "print(objdf.shape)\n",
    "print(bindf.shape)"
   ]
  },
  {
   "cell_type": "code",
   "execution_count": 171,
   "metadata": {},
   "outputs": [
    {
     "name": "stdout",
     "output_type": "stream",
     "text": [
      "(150, 4)\n",
      "(150,)\n"
     ]
    }
   ],
   "source": [
    "X = pd.concat([numdf_norm,objdf,bindf], axis=1)\n",
    "print (X.shape)\n",
    "y = dataset['Species']\n",
    "print (y.shape)"
   ]
  },
  {
   "cell_type": "code",
   "execution_count": 172,
   "metadata": {},
   "outputs": [
    {
     "data": {
      "text/html": [
       "<div>\n",
       "<style scoped>\n",
       "    .dataframe tbody tr th:only-of-type {\n",
       "        vertical-align: middle;\n",
       "    }\n",
       "\n",
       "    .dataframe tbody tr th {\n",
       "        vertical-align: top;\n",
       "    }\n",
       "\n",
       "    .dataframe thead th {\n",
       "        text-align: right;\n",
       "    }\n",
       "</style>\n",
       "<table border=\"1\" class=\"dataframe\">\n",
       "  <thead>\n",
       "    <tr style=\"text-align: right;\">\n",
       "      <th></th>\n",
       "      <th>PetalWidthCm</th>\n",
       "      <th>PetalLengthCm</th>\n",
       "      <th>SepalWidthCm</th>\n",
       "      <th>SepalLengthCm</th>\n",
       "    </tr>\n",
       "  </thead>\n",
       "  <tbody>\n",
       "    <tr>\n",
       "      <th>0</th>\n",
       "      <td>-1.312977</td>\n",
       "      <td>-1.341272</td>\n",
       "      <td>1.032057</td>\n",
       "      <td>-0.900681</td>\n",
       "    </tr>\n",
       "    <tr>\n",
       "      <th>1</th>\n",
       "      <td>-1.312977</td>\n",
       "      <td>-1.341272</td>\n",
       "      <td>-0.124958</td>\n",
       "      <td>-1.143017</td>\n",
       "    </tr>\n",
       "    <tr>\n",
       "      <th>2</th>\n",
       "      <td>-1.312977</td>\n",
       "      <td>-1.398138</td>\n",
       "      <td>0.337848</td>\n",
       "      <td>-1.385353</td>\n",
       "    </tr>\n",
       "    <tr>\n",
       "      <th>3</th>\n",
       "      <td>-1.312977</td>\n",
       "      <td>-1.284407</td>\n",
       "      <td>0.106445</td>\n",
       "      <td>-1.506521</td>\n",
       "    </tr>\n",
       "    <tr>\n",
       "      <th>4</th>\n",
       "      <td>-1.312977</td>\n",
       "      <td>-1.341272</td>\n",
       "      <td>1.263460</td>\n",
       "      <td>-1.021849</td>\n",
       "    </tr>\n",
       "  </tbody>\n",
       "</table>\n",
       "</div>"
      ],
      "text/plain": [
       "   PetalWidthCm  PetalLengthCm  SepalWidthCm  SepalLengthCm\n",
       "0     -1.312977      -1.341272      1.032057      -0.900681\n",
       "1     -1.312977      -1.341272     -0.124958      -1.143017\n",
       "2     -1.312977      -1.398138      0.337848      -1.385353\n",
       "3     -1.312977      -1.284407      0.106445      -1.506521\n",
       "4     -1.312977      -1.341272      1.263460      -1.021849"
      ]
     },
     "execution_count": 172,
     "metadata": {},
     "output_type": "execute_result"
    }
   ],
   "source": [
    "X.head()"
   ]
  },
  {
   "cell_type": "markdown",
   "metadata": {},
   "source": [
    "### Save preprocessed data"
   ]
  },
  {
   "cell_type": "code",
   "execution_count": 173,
   "metadata": {},
   "outputs": [],
   "source": [
    "df = pd.concat([X,y],axis=1)\n",
    "df.to_csv('Iris-preprocessed.csv',index=False)"
   ]
  },
  {
   "cell_type": "code",
   "execution_count": 174,
   "metadata": {},
   "outputs": [
    {
     "data": {
      "text/html": [
       "<div>\n",
       "<style scoped>\n",
       "    .dataframe tbody tr th:only-of-type {\n",
       "        vertical-align: middle;\n",
       "    }\n",
       "\n",
       "    .dataframe tbody tr th {\n",
       "        vertical-align: top;\n",
       "    }\n",
       "\n",
       "    .dataframe thead th {\n",
       "        text-align: right;\n",
       "    }\n",
       "</style>\n",
       "<table border=\"1\" class=\"dataframe\">\n",
       "  <thead>\n",
       "    <tr style=\"text-align: right;\">\n",
       "      <th></th>\n",
       "      <th>PetalWidthCm</th>\n",
       "      <th>PetalLengthCm</th>\n",
       "      <th>SepalWidthCm</th>\n",
       "      <th>SepalLengthCm</th>\n",
       "    </tr>\n",
       "  </thead>\n",
       "  <tbody>\n",
       "    <tr>\n",
       "      <th>0</th>\n",
       "      <td>-1.312977</td>\n",
       "      <td>-1.341272</td>\n",
       "      <td>1.032057</td>\n",
       "      <td>-0.900681</td>\n",
       "    </tr>\n",
       "    <tr>\n",
       "      <th>1</th>\n",
       "      <td>-1.312977</td>\n",
       "      <td>-1.341272</td>\n",
       "      <td>-0.124958</td>\n",
       "      <td>-1.143017</td>\n",
       "    </tr>\n",
       "    <tr>\n",
       "      <th>2</th>\n",
       "      <td>-1.312977</td>\n",
       "      <td>-1.398138</td>\n",
       "      <td>0.337848</td>\n",
       "      <td>-1.385353</td>\n",
       "    </tr>\n",
       "    <tr>\n",
       "      <th>3</th>\n",
       "      <td>-1.312977</td>\n",
       "      <td>-1.284407</td>\n",
       "      <td>0.106445</td>\n",
       "      <td>-1.506521</td>\n",
       "    </tr>\n",
       "    <tr>\n",
       "      <th>4</th>\n",
       "      <td>-1.312977</td>\n",
       "      <td>-1.341272</td>\n",
       "      <td>1.263460</td>\n",
       "      <td>-1.021849</td>\n",
       "    </tr>\n",
       "  </tbody>\n",
       "</table>\n",
       "</div>"
      ],
      "text/plain": [
       "   PetalWidthCm  PetalLengthCm  SepalWidthCm  SepalLengthCm\n",
       "0     -1.312977      -1.341272      1.032057      -0.900681\n",
       "1     -1.312977      -1.341272     -0.124958      -1.143017\n",
       "2     -1.312977      -1.398138      0.337848      -1.385353\n",
       "3     -1.312977      -1.284407      0.106445      -1.506521\n",
       "4     -1.312977      -1.341272      1.263460      -1.021849"
      ]
     },
     "execution_count": 174,
     "metadata": {},
     "output_type": "execute_result"
    }
   ],
   "source": [
    "X.head()"
   ]
  },
  {
   "cell_type": "code",
   "execution_count": null,
   "metadata": {},
   "outputs": [],
   "source": []
  },
  {
   "cell_type": "markdown",
   "metadata": {},
   "source": [
    "# Splitting the dataset into the Training set and Test set"
   ]
  },
  {
   "cell_type": "code",
   "execution_count": 175,
   "metadata": {},
   "outputs": [],
   "source": [
    "from sklearn.model_selection import train_test_split\n",
    "X_train, X_test, y_train, y_test = train_test_split(X, y, test_size = 0.25, random_state = 0)"
   ]
  },
  {
   "cell_type": "code",
   "execution_count": 176,
   "metadata": {},
   "outputs": [],
   "source": [
    "# I keep a copy of the dataset with all the variables\n",
    "# to measure the performance of machine learning models\n",
    "# at the end of the notebook\n",
    "\n",
    "X_train_original = X_train.copy()\n",
    "X_test_original = X_test.copy()"
   ]
  },
  {
   "cell_type": "code",
   "execution_count": null,
   "metadata": {},
   "outputs": [],
   "source": []
  },
  {
   "cell_type": "code",
   "execution_count": null,
   "metadata": {},
   "outputs": [],
   "source": []
  },
  {
   "cell_type": "markdown",
   "metadata": {},
   "source": [
    "# Logistic Regression"
   ]
  },
  {
   "cell_type": "markdown",
   "metadata": {},
   "source": [
    "### Training model"
   ]
  },
  {
   "cell_type": "code",
   "execution_count": 184,
   "metadata": {},
   "outputs": [
    {
     "data": {
      "text/plain": [
       "LogisticRegression(C=1.0, class_weight=None, dual=False, fit_intercept=True,\n",
       "                   intercept_scaling=1, l1_ratio=None, max_iter=100,\n",
       "                   multi_class='warn', n_jobs=None, penalty='l2',\n",
       "                   random_state=None, solver='warn', tol=0.0001, verbose=0,\n",
       "                   warm_start=False)"
      ]
     },
     "execution_count": 184,
     "metadata": {},
     "output_type": "execute_result"
    }
   ],
   "source": [
    "classifier = LogisticRegression()\n",
    "classifier.fit(X_train, y_train)"
   ]
  },
  {
   "cell_type": "code",
   "execution_count": null,
   "metadata": {},
   "outputs": [],
   "source": []
  },
  {
   "cell_type": "markdown",
   "metadata": {},
   "source": [
    "### Applying k-Fold Cross Validation"
   ]
  },
  {
   "cell_type": "code",
   "execution_count": 185,
   "metadata": {},
   "outputs": [],
   "source": [
    "accuracies = cross_val_score(estimator = classifier, X = X_train, y = y_train, cv = 10)"
   ]
  },
  {
   "cell_type": "markdown",
   "metadata": {},
   "source": [
    "### Creating Summary Table"
   ]
  },
  {
   "cell_type": "markdown",
   "metadata": {},
   "source": [
    "#### Find the intercept and coefficients"
   ]
  },
  {
   "cell_type": "code",
   "execution_count": 186,
   "metadata": {},
   "outputs": [
    {
     "data": {
      "text/plain": [
       "array([-1.48880621, -1.00572389, -2.23513463])"
      ]
     },
     "execution_count": 186,
     "metadata": {},
     "output_type": "execute_result"
    }
   ],
   "source": [
    "classifier.intercept_"
   ]
  },
  {
   "cell_type": "code",
   "execution_count": 187,
   "metadata": {},
   "outputs": [
    {
     "data": {
      "text/plain": [
       "array([[-1.41822519, -1.5631516 ,  1.28807494, -0.79339466],\n",
       "       [-0.74777041,  0.65341284, -1.13846044,  0.0617203 ],\n",
       "       [ 2.38568433,  1.67227345, -0.08390407,  0.05238078]])"
      ]
     },
     "execution_count": 187,
     "metadata": {},
     "output_type": "execute_result"
    }
   ],
   "source": [
    "classifier.coef_"
   ]
  },
  {
   "cell_type": "markdown",
   "metadata": {},
   "source": [
    "#### Summary table"
   ]
  },
  {
   "cell_type": "code",
   "execution_count": 188,
   "metadata": {},
   "outputs": [
    {
     "data": {
      "text/plain": [
       "array(['PetalWidthCm', 'PetalLengthCm', 'SepalWidthCm', 'SepalLengthCm'],\n",
       "      dtype=object)"
      ]
     },
     "execution_count": 188,
     "metadata": {},
     "output_type": "execute_result"
    }
   ],
   "source": [
    "feature_name = X.columns.values\n",
    "feature_name"
   ]
  },
  {
   "cell_type": "code",
   "execution_count": 189,
   "metadata": {},
   "outputs": [
    {
     "ename": "ValueError",
     "evalue": "Wrong number of items passed 3, placement implies 1",
     "output_type": "error",
     "traceback": [
      "\u001b[1;31m---------------------------------------------------------------------------\u001b[0m",
      "\u001b[1;31mKeyError\u001b[0m                                  Traceback (most recent call last)",
      "\u001b[1;32mC:\\Anaconda3\\lib\\site-packages\\pandas\\core\\indexes\\base.py\u001b[0m in \u001b[0;36mget_loc\u001b[1;34m(self, key, method, tolerance)\u001b[0m\n\u001b[0;32m   2656\u001b[0m             \u001b[1;32mtry\u001b[0m\u001b[1;33m:\u001b[0m\u001b[1;33m\u001b[0m\u001b[1;33m\u001b[0m\u001b[0m\n\u001b[1;32m-> 2657\u001b[1;33m                 \u001b[1;32mreturn\u001b[0m \u001b[0mself\u001b[0m\u001b[1;33m.\u001b[0m\u001b[0m_engine\u001b[0m\u001b[1;33m.\u001b[0m\u001b[0mget_loc\u001b[0m\u001b[1;33m(\u001b[0m\u001b[0mkey\u001b[0m\u001b[1;33m)\u001b[0m\u001b[1;33m\u001b[0m\u001b[1;33m\u001b[0m\u001b[0m\n\u001b[0m\u001b[0;32m   2658\u001b[0m             \u001b[1;32mexcept\u001b[0m \u001b[0mKeyError\u001b[0m\u001b[1;33m:\u001b[0m\u001b[1;33m\u001b[0m\u001b[1;33m\u001b[0m\u001b[0m\n",
      "\u001b[1;32mpandas/_libs/index.pyx\u001b[0m in \u001b[0;36mpandas._libs.index.IndexEngine.get_loc\u001b[1;34m()\u001b[0m\n",
      "\u001b[1;32mpandas/_libs/index.pyx\u001b[0m in \u001b[0;36mpandas._libs.index.IndexEngine.get_loc\u001b[1;34m()\u001b[0m\n",
      "\u001b[1;32mpandas/_libs/hashtable_class_helper.pxi\u001b[0m in \u001b[0;36mpandas._libs.hashtable.PyObjectHashTable.get_item\u001b[1;34m()\u001b[0m\n",
      "\u001b[1;32mpandas/_libs/hashtable_class_helper.pxi\u001b[0m in \u001b[0;36mpandas._libs.hashtable.PyObjectHashTable.get_item\u001b[1;34m()\u001b[0m\n",
      "\u001b[1;31mKeyError\u001b[0m: 'Coefficient'",
      "\nDuring handling of the above exception, another exception occurred:\n",
      "\u001b[1;31mKeyError\u001b[0m                                  Traceback (most recent call last)",
      "\u001b[1;32mC:\\Anaconda3\\lib\\site-packages\\pandas\\core\\internals\\managers.py\u001b[0m in \u001b[0;36mset\u001b[1;34m(self, item, value)\u001b[0m\n\u001b[0;32m   1052\u001b[0m         \u001b[1;32mtry\u001b[0m\u001b[1;33m:\u001b[0m\u001b[1;33m\u001b[0m\u001b[1;33m\u001b[0m\u001b[0m\n\u001b[1;32m-> 1053\u001b[1;33m             \u001b[0mloc\u001b[0m \u001b[1;33m=\u001b[0m \u001b[0mself\u001b[0m\u001b[1;33m.\u001b[0m\u001b[0mitems\u001b[0m\u001b[1;33m.\u001b[0m\u001b[0mget_loc\u001b[0m\u001b[1;33m(\u001b[0m\u001b[0mitem\u001b[0m\u001b[1;33m)\u001b[0m\u001b[1;33m\u001b[0m\u001b[1;33m\u001b[0m\u001b[0m\n\u001b[0m\u001b[0;32m   1054\u001b[0m         \u001b[1;32mexcept\u001b[0m \u001b[0mKeyError\u001b[0m\u001b[1;33m:\u001b[0m\u001b[1;33m\u001b[0m\u001b[1;33m\u001b[0m\u001b[0m\n",
      "\u001b[1;32mC:\\Anaconda3\\lib\\site-packages\\pandas\\core\\indexes\\base.py\u001b[0m in \u001b[0;36mget_loc\u001b[1;34m(self, key, method, tolerance)\u001b[0m\n\u001b[0;32m   2658\u001b[0m             \u001b[1;32mexcept\u001b[0m \u001b[0mKeyError\u001b[0m\u001b[1;33m:\u001b[0m\u001b[1;33m\u001b[0m\u001b[1;33m\u001b[0m\u001b[0m\n\u001b[1;32m-> 2659\u001b[1;33m                 \u001b[1;32mreturn\u001b[0m \u001b[0mself\u001b[0m\u001b[1;33m.\u001b[0m\u001b[0m_engine\u001b[0m\u001b[1;33m.\u001b[0m\u001b[0mget_loc\u001b[0m\u001b[1;33m(\u001b[0m\u001b[0mself\u001b[0m\u001b[1;33m.\u001b[0m\u001b[0m_maybe_cast_indexer\u001b[0m\u001b[1;33m(\u001b[0m\u001b[0mkey\u001b[0m\u001b[1;33m)\u001b[0m\u001b[1;33m)\u001b[0m\u001b[1;33m\u001b[0m\u001b[1;33m\u001b[0m\u001b[0m\n\u001b[0m\u001b[0;32m   2660\u001b[0m         \u001b[0mindexer\u001b[0m \u001b[1;33m=\u001b[0m \u001b[0mself\u001b[0m\u001b[1;33m.\u001b[0m\u001b[0mget_indexer\u001b[0m\u001b[1;33m(\u001b[0m\u001b[1;33m[\u001b[0m\u001b[0mkey\u001b[0m\u001b[1;33m]\u001b[0m\u001b[1;33m,\u001b[0m \u001b[0mmethod\u001b[0m\u001b[1;33m=\u001b[0m\u001b[0mmethod\u001b[0m\u001b[1;33m,\u001b[0m \u001b[0mtolerance\u001b[0m\u001b[1;33m=\u001b[0m\u001b[0mtolerance\u001b[0m\u001b[1;33m)\u001b[0m\u001b[1;33m\u001b[0m\u001b[1;33m\u001b[0m\u001b[0m\n",
      "\u001b[1;32mpandas/_libs/index.pyx\u001b[0m in \u001b[0;36mpandas._libs.index.IndexEngine.get_loc\u001b[1;34m()\u001b[0m\n",
      "\u001b[1;32mpandas/_libs/index.pyx\u001b[0m in \u001b[0;36mpandas._libs.index.IndexEngine.get_loc\u001b[1;34m()\u001b[0m\n",
      "\u001b[1;32mpandas/_libs/hashtable_class_helper.pxi\u001b[0m in \u001b[0;36mpandas._libs.hashtable.PyObjectHashTable.get_item\u001b[1;34m()\u001b[0m\n",
      "\u001b[1;32mpandas/_libs/hashtable_class_helper.pxi\u001b[0m in \u001b[0;36mpandas._libs.hashtable.PyObjectHashTable.get_item\u001b[1;34m()\u001b[0m\n",
      "\u001b[1;31mKeyError\u001b[0m: 'Coefficient'",
      "\nDuring handling of the above exception, another exception occurred:\n",
      "\u001b[1;31mValueError\u001b[0m                                Traceback (most recent call last)",
      "\u001b[1;32m<ipython-input-189-9bfed5972727>\u001b[0m in \u001b[0;36m<module>\u001b[1;34m\u001b[0m\n\u001b[0;32m      1\u001b[0m \u001b[0msummary_table\u001b[0m \u001b[1;33m=\u001b[0m \u001b[0mpd\u001b[0m\u001b[1;33m.\u001b[0m\u001b[0mDataFrame\u001b[0m\u001b[1;33m(\u001b[0m\u001b[0mcolumns\u001b[0m\u001b[1;33m=\u001b[0m\u001b[1;33m[\u001b[0m\u001b[1;34m'feature_name'\u001b[0m\u001b[1;33m]\u001b[0m\u001b[1;33m,\u001b[0m \u001b[0mdata\u001b[0m \u001b[1;33m=\u001b[0m \u001b[0mfeature_name\u001b[0m\u001b[1;33m)\u001b[0m\u001b[1;33m\u001b[0m\u001b[1;33m\u001b[0m\u001b[0m\n\u001b[1;32m----> 2\u001b[1;33m \u001b[0msummary_table\u001b[0m\u001b[1;33m[\u001b[0m\u001b[1;34m'Coefficient'\u001b[0m\u001b[1;33m]\u001b[0m \u001b[1;33m=\u001b[0m \u001b[0mnp\u001b[0m\u001b[1;33m.\u001b[0m\u001b[0mtranspose\u001b[0m\u001b[1;33m(\u001b[0m\u001b[0mclassifier\u001b[0m\u001b[1;33m.\u001b[0m\u001b[0mcoef_\u001b[0m\u001b[1;33m)\u001b[0m\u001b[1;33m\u001b[0m\u001b[1;33m\u001b[0m\u001b[0m\n\u001b[0m\u001b[0;32m      3\u001b[0m \u001b[0msummary_table\u001b[0m\u001b[1;33m.\u001b[0m\u001b[0mindex\u001b[0m \u001b[1;33m=\u001b[0m \u001b[0msummary_table\u001b[0m\u001b[1;33m.\u001b[0m\u001b[0mindex\u001b[0m \u001b[1;33m+\u001b[0m \u001b[1;36m1\u001b[0m\u001b[1;33m\u001b[0m\u001b[1;33m\u001b[0m\u001b[0m\n\u001b[0;32m      4\u001b[0m \u001b[0msummary_table\u001b[0m\u001b[1;33m.\u001b[0m\u001b[0mloc\u001b[0m\u001b[1;33m[\u001b[0m\u001b[1;36m0\u001b[0m\u001b[1;33m]\u001b[0m \u001b[1;33m=\u001b[0m \u001b[1;33m[\u001b[0m\u001b[1;34m'Intercept'\u001b[0m\u001b[1;33m,\u001b[0m \u001b[0mclassifier\u001b[0m\u001b[1;33m.\u001b[0m\u001b[0mintercept_\u001b[0m\u001b[1;33m[\u001b[0m\u001b[1;36m0\u001b[0m\u001b[1;33m]\u001b[0m\u001b[1;33m]\u001b[0m\u001b[1;33m\u001b[0m\u001b[1;33m\u001b[0m\u001b[0m\n\u001b[0;32m      5\u001b[0m \u001b[0msummary_table\u001b[0m \u001b[1;33m=\u001b[0m \u001b[0msummary_table\u001b[0m\u001b[1;33m.\u001b[0m\u001b[0msort_index\u001b[0m\u001b[1;33m(\u001b[0m\u001b[1;33m)\u001b[0m\u001b[1;33m\u001b[0m\u001b[1;33m\u001b[0m\u001b[0m\n",
      "\u001b[1;32mC:\\Anaconda3\\lib\\site-packages\\pandas\\core\\frame.py\u001b[0m in \u001b[0;36m__setitem__\u001b[1;34m(self, key, value)\u001b[0m\n\u001b[0;32m   3368\u001b[0m         \u001b[1;32melse\u001b[0m\u001b[1;33m:\u001b[0m\u001b[1;33m\u001b[0m\u001b[1;33m\u001b[0m\u001b[0m\n\u001b[0;32m   3369\u001b[0m             \u001b[1;31m# set column\u001b[0m\u001b[1;33m\u001b[0m\u001b[1;33m\u001b[0m\u001b[1;33m\u001b[0m\u001b[0m\n\u001b[1;32m-> 3370\u001b[1;33m             \u001b[0mself\u001b[0m\u001b[1;33m.\u001b[0m\u001b[0m_set_item\u001b[0m\u001b[1;33m(\u001b[0m\u001b[0mkey\u001b[0m\u001b[1;33m,\u001b[0m \u001b[0mvalue\u001b[0m\u001b[1;33m)\u001b[0m\u001b[1;33m\u001b[0m\u001b[1;33m\u001b[0m\u001b[0m\n\u001b[0m\u001b[0;32m   3371\u001b[0m \u001b[1;33m\u001b[0m\u001b[0m\n\u001b[0;32m   3372\u001b[0m     \u001b[1;32mdef\u001b[0m \u001b[0m_setitem_slice\u001b[0m\u001b[1;33m(\u001b[0m\u001b[0mself\u001b[0m\u001b[1;33m,\u001b[0m \u001b[0mkey\u001b[0m\u001b[1;33m,\u001b[0m \u001b[0mvalue\u001b[0m\u001b[1;33m)\u001b[0m\u001b[1;33m:\u001b[0m\u001b[1;33m\u001b[0m\u001b[1;33m\u001b[0m\u001b[0m\n",
      "\u001b[1;32mC:\\Anaconda3\\lib\\site-packages\\pandas\\core\\frame.py\u001b[0m in \u001b[0;36m_set_item\u001b[1;34m(self, key, value)\u001b[0m\n\u001b[0;32m   3444\u001b[0m         \u001b[0mself\u001b[0m\u001b[1;33m.\u001b[0m\u001b[0m_ensure_valid_index\u001b[0m\u001b[1;33m(\u001b[0m\u001b[0mvalue\u001b[0m\u001b[1;33m)\u001b[0m\u001b[1;33m\u001b[0m\u001b[1;33m\u001b[0m\u001b[0m\n\u001b[0;32m   3445\u001b[0m         \u001b[0mvalue\u001b[0m \u001b[1;33m=\u001b[0m \u001b[0mself\u001b[0m\u001b[1;33m.\u001b[0m\u001b[0m_sanitize_column\u001b[0m\u001b[1;33m(\u001b[0m\u001b[0mkey\u001b[0m\u001b[1;33m,\u001b[0m \u001b[0mvalue\u001b[0m\u001b[1;33m)\u001b[0m\u001b[1;33m\u001b[0m\u001b[1;33m\u001b[0m\u001b[0m\n\u001b[1;32m-> 3446\u001b[1;33m         \u001b[0mNDFrame\u001b[0m\u001b[1;33m.\u001b[0m\u001b[0m_set_item\u001b[0m\u001b[1;33m(\u001b[0m\u001b[0mself\u001b[0m\u001b[1;33m,\u001b[0m \u001b[0mkey\u001b[0m\u001b[1;33m,\u001b[0m \u001b[0mvalue\u001b[0m\u001b[1;33m)\u001b[0m\u001b[1;33m\u001b[0m\u001b[1;33m\u001b[0m\u001b[0m\n\u001b[0m\u001b[0;32m   3447\u001b[0m \u001b[1;33m\u001b[0m\u001b[0m\n\u001b[0;32m   3448\u001b[0m         \u001b[1;31m# check if we are modifying a copy\u001b[0m\u001b[1;33m\u001b[0m\u001b[1;33m\u001b[0m\u001b[1;33m\u001b[0m\u001b[0m\n",
      "\u001b[1;32mC:\\Anaconda3\\lib\\site-packages\\pandas\\core\\generic.py\u001b[0m in \u001b[0;36m_set_item\u001b[1;34m(self, key, value)\u001b[0m\n\u001b[0;32m   3170\u001b[0m \u001b[1;33m\u001b[0m\u001b[0m\n\u001b[0;32m   3171\u001b[0m     \u001b[1;32mdef\u001b[0m \u001b[0m_set_item\u001b[0m\u001b[1;33m(\u001b[0m\u001b[0mself\u001b[0m\u001b[1;33m,\u001b[0m \u001b[0mkey\u001b[0m\u001b[1;33m,\u001b[0m \u001b[0mvalue\u001b[0m\u001b[1;33m)\u001b[0m\u001b[1;33m:\u001b[0m\u001b[1;33m\u001b[0m\u001b[1;33m\u001b[0m\u001b[0m\n\u001b[1;32m-> 3172\u001b[1;33m         \u001b[0mself\u001b[0m\u001b[1;33m.\u001b[0m\u001b[0m_data\u001b[0m\u001b[1;33m.\u001b[0m\u001b[0mset\u001b[0m\u001b[1;33m(\u001b[0m\u001b[0mkey\u001b[0m\u001b[1;33m,\u001b[0m \u001b[0mvalue\u001b[0m\u001b[1;33m)\u001b[0m\u001b[1;33m\u001b[0m\u001b[1;33m\u001b[0m\u001b[0m\n\u001b[0m\u001b[0;32m   3173\u001b[0m         \u001b[0mself\u001b[0m\u001b[1;33m.\u001b[0m\u001b[0m_clear_item_cache\u001b[0m\u001b[1;33m(\u001b[0m\u001b[1;33m)\u001b[0m\u001b[1;33m\u001b[0m\u001b[1;33m\u001b[0m\u001b[0m\n\u001b[0;32m   3174\u001b[0m \u001b[1;33m\u001b[0m\u001b[0m\n",
      "\u001b[1;32mC:\\Anaconda3\\lib\\site-packages\\pandas\\core\\internals\\managers.py\u001b[0m in \u001b[0;36mset\u001b[1;34m(self, item, value)\u001b[0m\n\u001b[0;32m   1054\u001b[0m         \u001b[1;32mexcept\u001b[0m \u001b[0mKeyError\u001b[0m\u001b[1;33m:\u001b[0m\u001b[1;33m\u001b[0m\u001b[1;33m\u001b[0m\u001b[0m\n\u001b[0;32m   1055\u001b[0m             \u001b[1;31m# This item wasn't present, just insert at end\u001b[0m\u001b[1;33m\u001b[0m\u001b[1;33m\u001b[0m\u001b[1;33m\u001b[0m\u001b[0m\n\u001b[1;32m-> 1056\u001b[1;33m             \u001b[0mself\u001b[0m\u001b[1;33m.\u001b[0m\u001b[0minsert\u001b[0m\u001b[1;33m(\u001b[0m\u001b[0mlen\u001b[0m\u001b[1;33m(\u001b[0m\u001b[0mself\u001b[0m\u001b[1;33m.\u001b[0m\u001b[0mitems\u001b[0m\u001b[1;33m)\u001b[0m\u001b[1;33m,\u001b[0m \u001b[0mitem\u001b[0m\u001b[1;33m,\u001b[0m \u001b[0mvalue\u001b[0m\u001b[1;33m)\u001b[0m\u001b[1;33m\u001b[0m\u001b[1;33m\u001b[0m\u001b[0m\n\u001b[0m\u001b[0;32m   1057\u001b[0m             \u001b[1;32mreturn\u001b[0m\u001b[1;33m\u001b[0m\u001b[1;33m\u001b[0m\u001b[0m\n\u001b[0;32m   1058\u001b[0m \u001b[1;33m\u001b[0m\u001b[0m\n",
      "\u001b[1;32mC:\\Anaconda3\\lib\\site-packages\\pandas\\core\\internals\\managers.py\u001b[0m in \u001b[0;36minsert\u001b[1;34m(self, loc, item, value, allow_duplicates)\u001b[0m\n\u001b[0;32m   1156\u001b[0m \u001b[1;33m\u001b[0m\u001b[0m\n\u001b[0;32m   1157\u001b[0m         block = make_block(values=value, ndim=self.ndim,\n\u001b[1;32m-> 1158\u001b[1;33m                            placement=slice(loc, loc + 1))\n\u001b[0m\u001b[0;32m   1159\u001b[0m \u001b[1;33m\u001b[0m\u001b[0m\n\u001b[0;32m   1160\u001b[0m         \u001b[1;32mfor\u001b[0m \u001b[0mblkno\u001b[0m\u001b[1;33m,\u001b[0m \u001b[0mcount\u001b[0m \u001b[1;32min\u001b[0m \u001b[0m_fast_count_smallints\u001b[0m\u001b[1;33m(\u001b[0m\u001b[0mself\u001b[0m\u001b[1;33m.\u001b[0m\u001b[0m_blknos\u001b[0m\u001b[1;33m[\u001b[0m\u001b[0mloc\u001b[0m\u001b[1;33m:\u001b[0m\u001b[1;33m]\u001b[0m\u001b[1;33m)\u001b[0m\u001b[1;33m:\u001b[0m\u001b[1;33m\u001b[0m\u001b[1;33m\u001b[0m\u001b[0m\n",
      "\u001b[1;32mC:\\Anaconda3\\lib\\site-packages\\pandas\\core\\internals\\blocks.py\u001b[0m in \u001b[0;36mmake_block\u001b[1;34m(values, placement, klass, ndim, dtype, fastpath)\u001b[0m\n\u001b[0;32m   3093\u001b[0m         \u001b[0mvalues\u001b[0m \u001b[1;33m=\u001b[0m \u001b[0mDatetimeArray\u001b[0m\u001b[1;33m.\u001b[0m\u001b[0m_simple_new\u001b[0m\u001b[1;33m(\u001b[0m\u001b[0mvalues\u001b[0m\u001b[1;33m,\u001b[0m \u001b[0mdtype\u001b[0m\u001b[1;33m=\u001b[0m\u001b[0mdtype\u001b[0m\u001b[1;33m)\u001b[0m\u001b[1;33m\u001b[0m\u001b[1;33m\u001b[0m\u001b[0m\n\u001b[0;32m   3094\u001b[0m \u001b[1;33m\u001b[0m\u001b[0m\n\u001b[1;32m-> 3095\u001b[1;33m     \u001b[1;32mreturn\u001b[0m \u001b[0mklass\u001b[0m\u001b[1;33m(\u001b[0m\u001b[0mvalues\u001b[0m\u001b[1;33m,\u001b[0m \u001b[0mndim\u001b[0m\u001b[1;33m=\u001b[0m\u001b[0mndim\u001b[0m\u001b[1;33m,\u001b[0m \u001b[0mplacement\u001b[0m\u001b[1;33m=\u001b[0m\u001b[0mplacement\u001b[0m\u001b[1;33m)\u001b[0m\u001b[1;33m\u001b[0m\u001b[1;33m\u001b[0m\u001b[0m\n\u001b[0m\u001b[0;32m   3096\u001b[0m \u001b[1;33m\u001b[0m\u001b[0m\n\u001b[0;32m   3097\u001b[0m \u001b[1;33m\u001b[0m\u001b[0m\n",
      "\u001b[1;32mC:\\Anaconda3\\lib\\site-packages\\pandas\\core\\internals\\blocks.py\u001b[0m in \u001b[0;36m__init__\u001b[1;34m(self, values, placement, ndim)\u001b[0m\n\u001b[0;32m     85\u001b[0m             raise ValueError(\n\u001b[0;32m     86\u001b[0m                 \u001b[1;34m'Wrong number of items passed {val}, placement implies '\u001b[0m\u001b[1;33m\u001b[0m\u001b[1;33m\u001b[0m\u001b[0m\n\u001b[1;32m---> 87\u001b[1;33m                 '{mgr}'.format(val=len(self.values), mgr=len(self.mgr_locs)))\n\u001b[0m\u001b[0;32m     88\u001b[0m \u001b[1;33m\u001b[0m\u001b[0m\n\u001b[0;32m     89\u001b[0m     \u001b[1;32mdef\u001b[0m \u001b[0m_check_ndim\u001b[0m\u001b[1;33m(\u001b[0m\u001b[0mself\u001b[0m\u001b[1;33m,\u001b[0m \u001b[0mvalues\u001b[0m\u001b[1;33m,\u001b[0m \u001b[0mndim\u001b[0m\u001b[1;33m)\u001b[0m\u001b[1;33m:\u001b[0m\u001b[1;33m\u001b[0m\u001b[1;33m\u001b[0m\u001b[0m\n",
      "\u001b[1;31mValueError\u001b[0m: Wrong number of items passed 3, placement implies 1"
     ]
    }
   ],
   "source": [
    "summary_table = pd.DataFrame(columns=['feature_name'], data = feature_name)\n",
    "summary_table['Coefficient'] = np.transpose(classifier.coef_)\n",
    "summary_table.index = summary_table.index + 1\n",
    "summary_table.loc[0] = ['Intercept', classifier.intercept_[0]]\n",
    "summary_table = summary_table.sort_index()\n",
    "summary_table['Odds_ratio'] = np.exp(summary_table.Coefficient)\n",
    "summary_table.sort_values('Odds_ratio', ascending = False)"
   ]
  },
  {
   "cell_type": "code",
   "execution_count": null,
   "metadata": {},
   "outputs": [],
   "source": []
  },
  {
   "cell_type": "markdown",
   "metadata": {},
   "source": [
    "### Predicting"
   ]
  },
  {
   "cell_type": "code",
   "execution_count": 190,
   "metadata": {},
   "outputs": [],
   "source": [
    "# Predicting the Train set results\n",
    "y_train_pred = classifier.predict(X_train)\n",
    "# Predicting the Test set results\n",
    "y_test_pred = classifier.predict(X_test)"
   ]
  },
  {
   "cell_type": "code",
   "execution_count": null,
   "metadata": {},
   "outputs": [],
   "source": []
  },
  {
   "cell_type": "markdown",
   "metadata": {},
   "source": [
    "### Calculate Probability"
   ]
  },
  {
   "cell_type": "code",
   "execution_count": 191,
   "metadata": {},
   "outputs": [
    {
     "data": {
      "text/plain": [
       "array([[2.92712074e-03, 2.17971121e-01, 7.79101759e-01],\n",
       "       [1.89958856e-02, 8.94922837e-01, 8.60812770e-02],\n",
       "       [9.80960316e-01, 1.86585530e-02, 3.81131321e-04],\n",
       "       [8.74767531e-04, 3.40793209e-01, 6.58332023e-01],\n",
       "       [8.77331825e-01, 1.22238667e-01, 4.29507982e-04]])"
      ]
     },
     "execution_count": 191,
     "metadata": {},
     "output_type": "execute_result"
    }
   ],
   "source": [
    "train_proba = classifier.predict_proba(X_train)\n",
    "test_proba = classifier.predict_proba(X_test)\n",
    "test_proba[0:5]"
   ]
  },
  {
   "cell_type": "markdown",
   "metadata": {},
   "source": [
    "### Evaluating model"
   ]
  },
  {
   "cell_type": "markdown",
   "metadata": {},
   "source": [
    "#### Overall Accuracy"
   ]
  },
  {
   "cell_type": "code",
   "execution_count": 192,
   "metadata": {},
   "outputs": [
    {
     "name": "stdout",
     "output_type": "stream",
     "text": [
      "0.9107142857142857\n",
      "0.8157894736842105\n"
     ]
    }
   ],
   "source": [
    "# On train set\n",
    "print(classifier.score(X_train, y_train))\n",
    "# On test set\n",
    "print(classifier.score(X_test, y_test))"
   ]
  },
  {
   "cell_type": "markdown",
   "metadata": {},
   "source": [
    "#### Confusion Matrix"
   ]
  },
  {
   "cell_type": "code",
   "execution_count": 193,
   "metadata": {},
   "outputs": [
    {
     "data": {
      "text/plain": [
       "<matplotlib.axes._subplots.AxesSubplot at 0x28fd72c36a0>"
      ]
     },
     "execution_count": 193,
     "metadata": {},
     "output_type": "execute_result"
    },
    {
     "data": {
      "image/png": "[encoded data removed]",
      "text/plain": [
       "<Figure size 432x288 with 2 Axes>"
      ]
     },
     "metadata": {
      "needs_background": "light"
     },
     "output_type": "display_data"
    }
   ],
   "source": [
    "# Training set\n",
    "cm = confusion_matrix(y_train, y_train_pred)\n",
    "sns.heatmap(cm, annot=True)"
   ]
  },
  {
   "cell_type": "code",
   "execution_count": 194,
   "metadata": {},
   "outputs": [
    {
     "data": {
      "text/plain": [
       "<matplotlib.axes._subplots.AxesSubplot at 0x28fd5ede860>"
      ]
     },
     "execution_count": 194,
     "metadata": {},
     "output_type": "execute_result"
    },
    {
     "data": {
      "image/png": "[encoded data removed]",
      "text/plain": [
       "<Figure size 432x288 with 2 Axes>"
      ]
     },
     "metadata": {
      "needs_background": "light"
     },
     "output_type": "display_data"
    }
   ],
   "source": [
    "# Test set\n",
    "cm = confusion_matrix(y_test, y_test_pred)\n",
    "sns.heatmap(cm, annot=True)"
   ]
  },
  {
   "cell_type": "markdown",
   "metadata": {},
   "source": [
    "#### Classification Report"
   ]
  },
  {
   "cell_type": "code",
   "execution_count": 195,
   "metadata": {},
   "outputs": [
    {
     "name": "stdout",
     "output_type": "stream",
     "text": [
      "                 precision    recall  f1-score   support\n",
      "\n",
      "    Iris-setosa       1.00      1.00      1.00        37\n",
      "Iris-versicolor       0.93      0.76      0.84        34\n",
      " Iris-virginica       0.83      0.95      0.89        41\n",
      "\n",
      "       accuracy                           0.91       112\n",
      "      macro avg       0.92      0.91      0.91       112\n",
      "   weighted avg       0.92      0.91      0.91       112\n",
      "\n"
     ]
    }
   ],
   "source": [
    "print(classification_report(y_train, y_train_pred))"
   ]
  },
  {
   "cell_type": "code",
   "execution_count": 196,
   "metadata": {},
   "outputs": [
    {
     "name": "stdout",
     "output_type": "stream",
     "text": [
      "                 precision    recall  f1-score   support\n",
      "\n",
      "    Iris-setosa       1.00      1.00      1.00        13\n",
      "Iris-versicolor       0.91      0.62      0.74        16\n",
      " Iris-virginica       0.57      0.89      0.70         9\n",
      "\n",
      "       accuracy                           0.82        38\n",
      "      macro avg       0.83      0.84      0.81        38\n",
      "   weighted avg       0.86      0.82      0.82        38\n",
      "\n"
     ]
    }
   ],
   "source": [
    "print(classification_report(y_test, y_test_pred))"
   ]
  },
  {
   "cell_type": "markdown",
   "metadata": {},
   "source": [
    "### Tuning hyper parameters"
   ]
  },
  {
   "cell_type": "markdown",
   "metadata": {},
   "source": [
    "#### Apply Grid Search"
   ]
  },
  {
   "cell_type": "code",
   "execution_count": 197,
   "metadata": {},
   "outputs": [],
   "source": [
    "params = {'C': [0.01,0.1,1,10,100,1000]}\n",
    "grid_clf = GridSearchCV(LogisticRegression(), params, refit=True, scoring = 'accuracy', cv = 10, verbose = 2)"
   ]
  },
  {
   "cell_type": "markdown",
   "metadata": {},
   "source": [
    "#### Train - Test Split"
   ]
  },
  {
   "cell_type": "code",
   "execution_count": 198,
   "metadata": {},
   "outputs": [
    {
     "name": "stdout",
     "output_type": "stream",
     "text": [
      "Fitting 10 folds for each of 6 candidates, totalling 60 fits\n",
      "[CV] C=0.01 ..........................................................\n",
      "[CV] ........................................... C=0.01, total=   0.0s\n",
      "[CV] C=0.01 ..........................................................\n",
      "[CV] ........................................... C=0.01, total=   0.0s\n",
      "[CV] C=0.01 ..........................................................\n",
      "[CV] ........................................... C=0.01, total=   0.0s\n",
      "[CV] C=0.01 ..........................................................\n",
      "[CV] ........................................... C=0.01, total=   0.0s\n",
      "[CV] C=0.01 ..........................................................\n",
      "[CV] ........................................... C=0.01, total=   0.0s\n",
      "[CV] C=0.01 ..........................................................\n",
      "[CV] ........................................... C=0.01, total=   0.0s\n",
      "[CV] C=0.01 ..........................................................\n",
      "[CV] ........................................... C=0.01, total=   0.0s\n",
      "[CV] C=0.01 ..........................................................\n",
      "[CV] ........................................... C=0.01, total=   0.0s\n",
      "[CV] C=0.01 ..........................................................\n",
      "[CV] ........................................... C=0.01, total=   0.0s\n",
      "[CV] C=0.01 ..........................................................\n",
      "[CV] ........................................... C=0.01, total=   0.0s\n",
      "[CV] C=0.1 ...........................................................\n",
      "[CV] ............................................ C=0.1, total=   0.0s\n",
      "[CV] C=0.1 ...........................................................\n",
      "[CV] ............................................ C=0.1, total=   0.0s\n",
      "[CV] C=0.1 ...........................................................\n",
      "[CV] ............................................ C=0.1, total=   0.0s\n",
      "[CV] C=0.1 ...........................................................\n",
      "[CV] ............................................ C=0.1, total=   0.0s\n",
      "[CV] C=0.1 ...........................................................\n",
      "[CV] ............................................ C=0.1, total=   0.0s\n",
      "[CV] C=0.1 ...........................................................\n",
      "[CV] ............................................ C=0.1, total=   0.0s\n",
      "[CV] C=0.1 ...........................................................\n",
      "[CV] ............................................ C=0.1, total=   0.0s\n",
      "[CV] C=0.1 ...........................................................\n",
      "[CV] ............................................ C=0.1, total=   0.0s\n",
      "[CV] C=0.1 ...........................................................\n",
      "[CV] ............................................ C=0.1, total=   0.0s\n",
      "[CV] C=0.1 ...........................................................\n",
      "[CV] ............................................ C=0.1, total=   0.0s\n",
      "[CV] C=1 .............................................................\n",
      "[CV] .............................................. C=1, total=   0.0s\n",
      "[CV] C=1 .............................................................\n",
      "[CV] .............................................. C=1, total=   0.0s\n",
      "[CV] C=1 .............................................................\n",
      "[CV] .............................................. C=1, total=   0.0s\n",
      "[CV] C=1 .............................................................\n",
      "[CV] .............................................. C=1, total=   0.0s\n",
      "[CV] C=1 .............................................................\n",
      "[CV] .............................................. C=1, total=   0.0s\n",
      "[CV] C=1 .............................................................\n",
      "[CV] .............................................. C=1, total=   0.0s\n",
      "[CV] C=1 .............................................................\n",
      "[CV] .............................................. C=1, total=   0.0s\n",
      "[CV] C=1 .............................................................\n",
      "[CV] .............................................. C=1, total=   0.0s\n",
      "[CV] C=1 .............................................................\n",
      "[CV] .............................................. C=1, total=   0.0s\n",
      "[CV] C=1 .............................................................\n",
      "[CV] .............................................. C=1, total=   0.0s\n",
      "[CV] C=10 ............................................................\n",
      "[CV] ............................................. C=10, total=   0.0s\n",
      "[CV] C=10 ............................................................\n",
      "[CV] ............................................. C=10, total=   0.0s\n",
      "[CV] C=10 ............................................................\n",
      "[CV] ............................................. C=10, total=   0.0s\n",
      "[CV] C=10 ............................................................\n",
      "[CV] ............................................. C=10, total=   0.0s\n",
      "[CV] C=10 ............................................................\n",
      "[CV] ............................................. C=10, total=   0.0s\n",
      "[CV] C=10 ............................................................\n",
      "[CV] ............................................. C=10, total=   0.0s\n",
      "[CV] C=10 ............................................................\n",
      "[CV] ............................................. C=10, total=   0.0s\n",
      "[CV] C=10 ............................................................\n"
     ]
    },
    {
     "name": "stderr",
     "output_type": "stream",
     "text": [
      "[Parallel(n_jobs=1)]: Using backend SequentialBackend with 1 concurrent workers.\n",
      "[Parallel(n_jobs=1)]: Done   1 out of   1 | elapsed:    0.0s remaining:    0.0s\n"
     ]
    },
    {
     "name": "stdout",
     "output_type": "stream",
     "text": [
      "[CV] ............................................. C=10, total=   0.0s\n",
      "[CV] C=10 ............................................................\n",
      "[CV] ............................................. C=10, total=   0.0s\n",
      "[CV] C=10 ............................................................\n",
      "[CV] ............................................. C=10, total=   0.0s\n",
      "[CV] C=100 ...........................................................\n",
      "[CV] ............................................ C=100, total=   0.0s\n",
      "[CV] C=100 ...........................................................\n",
      "[CV] ............................................ C=100, total=   0.0s\n",
      "[CV] C=100 ...........................................................\n",
      "[CV] ............................................ C=100, total=   0.0s\n",
      "[CV] C=100 ...........................................................\n",
      "[CV] ............................................ C=100, total=   0.0s\n",
      "[CV] C=100 ...........................................................\n",
      "[CV] ............................................ C=100, total=   0.0s\n",
      "[CV] C=100 ...........................................................\n",
      "[CV] ............................................ C=100, total=   0.0s\n",
      "[CV] C=100 ...........................................................\n",
      "[CV] ............................................ C=100, total=   0.0s\n",
      "[CV] C=100 ...........................................................\n",
      "[CV] ............................................ C=100, total=   0.0s\n",
      "[CV] C=100 ...........................................................\n",
      "[CV] ............................................ C=100, total=   0.0s\n",
      "[CV] C=100 ...........................................................\n",
      "[CV] ............................................ C=100, total=   0.0s\n",
      "[CV] C=1000 ..........................................................\n",
      "[CV] ........................................... C=1000, total=   0.0s\n",
      "[CV] C=1000 ..........................................................\n",
      "[CV] ........................................... C=1000, total=   0.0s\n",
      "[CV] C=1000 ..........................................................\n",
      "[CV] ........................................... C=1000, total=   0.0s\n",
      "[CV] C=1000 ..........................................................\n",
      "[CV] ........................................... C=1000, total=   0.0s\n",
      "[CV] C=1000 ..........................................................\n",
      "[CV] ........................................... C=1000, total=   0.0s\n",
      "[CV] C=1000 ..........................................................\n",
      "[CV] ........................................... C=1000, total=   0.0s\n",
      "[CV] C=1000 ..........................................................\n",
      "[CV] ........................................... C=1000, total=   0.0s\n",
      "[CV] C=1000 ..........................................................\n",
      "[CV] ........................................... C=1000, total=   0.0s\n",
      "[CV] C=1000 ..........................................................\n",
      "[CV] ........................................... C=1000, total=   0.0s\n",
      "[CV] C=1000 ..........................................................\n",
      "[CV] ........................................... C=1000, total=   0.0s\n"
     ]
    },
    {
     "name": "stderr",
     "output_type": "stream",
     "text": [
      "[Parallel(n_jobs=1)]: Done  60 out of  60 | elapsed:    0.2s finished\n"
     ]
    },
    {
     "data": {
      "text/plain": [
       "{'C': 100}"
      ]
     },
     "execution_count": 198,
     "metadata": {},
     "output_type": "execute_result"
    }
   ],
   "source": [
    "grid_clf.fit(X_train, y_train)\n",
    "grid_clf.best_params_"
   ]
  },
  {
   "cell_type": "markdown",
   "metadata": {},
   "source": [
    "#### Re-run with the best parameters"
   ]
  },
  {
   "cell_type": "code",
   "execution_count": 199,
   "metadata": {},
   "outputs": [
    {
     "data": {
      "text/plain": [
       "LogisticRegression(C=100, class_weight=None, dual=False, fit_intercept=True,\n",
       "                   intercept_scaling=1, l1_ratio=None, max_iter=100,\n",
       "                   multi_class='warn', n_jobs=None, penalty='l2',\n",
       "                   random_state=None, solver='warn', tol=0.0001, verbose=0,\n",
       "                   warm_start=False)"
      ]
     },
     "execution_count": 199,
     "metadata": {},
     "output_type": "execute_result"
    }
   ],
   "source": [
    "classifier = grid_clf.best_estimator_\n",
    "classifier.fit(X_train, y_train)"
   ]
  },
  {
   "cell_type": "markdown",
   "metadata": {},
   "source": [
    "#### Predicting"
   ]
  },
  {
   "cell_type": "code",
   "execution_count": 200,
   "metadata": {},
   "outputs": [],
   "source": [
    "# Predicting the Train set results\n",
    "y_train_pred = classifier.predict(X_train)\n",
    "# Predicting the Test set results\n",
    "y_test_pred = classifier.predict(X_test)"
   ]
  },
  {
   "cell_type": "markdown",
   "metadata": {},
   "source": [
    "#### Evaluation Metrics"
   ]
  },
  {
   "cell_type": "code",
   "execution_count": 201,
   "metadata": {},
   "outputs": [
    {
     "name": "stdout",
     "output_type": "stream",
     "text": [
      "[[37  0  0]\n",
      " [ 0 32  2]\n",
      " [ 0  1 40]]\n",
      "                 precision    recall  f1-score   support\n",
      "\n",
      "    Iris-setosa       1.00      1.00      1.00        37\n",
      "Iris-versicolor       0.97      0.94      0.96        34\n",
      " Iris-virginica       0.95      0.98      0.96        41\n",
      "\n",
      "       accuracy                           0.97       112\n",
      "      macro avg       0.97      0.97      0.97       112\n",
      "   weighted avg       0.97      0.97      0.97       112\n",
      "\n"
     ]
    }
   ],
   "source": [
    "print(confusion_matrix(y_train, y_train_pred))\n",
    "print(classification_report(y_train, y_train_pred))"
   ]
  },
  {
   "cell_type": "code",
   "execution_count": 202,
   "metadata": {},
   "outputs": [
    {
     "name": "stdout",
     "output_type": "stream",
     "text": [
      "[[13  0  0]\n",
      " [ 0 15  1]\n",
      " [ 0  0  9]]\n",
      "                 precision    recall  f1-score   support\n",
      "\n",
      "    Iris-setosa       1.00      1.00      1.00        13\n",
      "Iris-versicolor       1.00      0.94      0.97        16\n",
      " Iris-virginica       0.90      1.00      0.95         9\n",
      "\n",
      "       accuracy                           0.97        38\n",
      "      macro avg       0.97      0.98      0.97        38\n",
      "   weighted avg       0.98      0.97      0.97        38\n",
      "\n"
     ]
    }
   ],
   "source": [
    "print(confusion_matrix(y_test, y_test_pred))\n",
    "print(classification_report(y_test, y_test_pred))"
   ]
  },
  {
   "cell_type": "code",
   "execution_count": null,
   "metadata": {},
   "outputs": [],
   "source": []
  },
  {
   "cell_type": "markdown",
   "metadata": {},
   "source": [
    "# Random Forest"
   ]
  },
  {
   "cell_type": "markdown",
   "metadata": {},
   "source": [
    "### Training model"
   ]
  },
  {
   "cell_type": "code",
   "execution_count": 203,
   "metadata": {},
   "outputs": [],
   "source": [
    "classifier = RandomForestClassifier(n_estimators=20)"
   ]
  },
  {
   "cell_type": "markdown",
   "metadata": {},
   "source": [
    "#### Train - Test split"
   ]
  },
  {
   "cell_type": "code",
   "execution_count": 204,
   "metadata": {},
   "outputs": [
    {
     "data": {
      "text/plain": [
       "RandomForestClassifier(bootstrap=True, class_weight=None, criterion='gini',\n",
       "                       max_depth=None, max_features='auto', max_leaf_nodes=None,\n",
       "                       min_impurity_decrease=0.0, min_impurity_split=None,\n",
       "                       min_samples_leaf=1, min_samples_split=2,\n",
       "                       min_weight_fraction_leaf=0.0, n_estimators=20,\n",
       "                       n_jobs=None, oob_score=False, random_state=None,\n",
       "                       verbose=0, warm_start=False)"
      ]
     },
     "execution_count": 204,
     "metadata": {},
     "output_type": "execute_result"
    }
   ],
   "source": [
    "classifier.fit(X_train, y_train)"
   ]
  },
  {
   "cell_type": "markdown",
   "metadata": {},
   "source": [
    "#### Cross validation"
   ]
  },
  {
   "cell_type": "code",
   "execution_count": 205,
   "metadata": {},
   "outputs": [],
   "source": [
    "accuracies = cross_val_score(estimator = classifier, X = X_train, y = y_train, cv = 10)"
   ]
  },
  {
   "cell_type": "markdown",
   "metadata": {},
   "source": [
    "### Predict"
   ]
  },
  {
   "cell_type": "code",
   "execution_count": 88,
   "metadata": {},
   "outputs": [],
   "source": [
    "# Predicting the Train set results\n",
    "y_train_pred = grid_clf.predict(X_train)\n",
    "# Predicting the Test set results\n",
    "y_test_pred = grid_clf.predict(X_test)"
   ]
  },
  {
   "cell_type": "markdown",
   "metadata": {},
   "source": [
    "### Evaluating model"
   ]
  },
  {
   "cell_type": "markdown",
   "metadata": {},
   "source": [
    "#### Overal Accuracy"
   ]
  },
  {
   "cell_type": "code",
   "execution_count": 89,
   "metadata": {},
   "outputs": [
    {
     "name": "stdout",
     "output_type": "stream",
     "text": [
      "Train Accuracy: 0.9732142857142857\n",
      "Test Accuracy: 0.9736842105263158\n"
     ]
    }
   ],
   "source": [
    "# Train\n",
    "print(\"Train Accuracy:\", accuracy_score(y_train,y_train_pred))\n",
    "\n",
    "# Test\n",
    "print(\"Test Accuracy:\", accuracy_score(y_test,y_test_pred))"
   ]
  },
  {
   "cell_type": "code",
   "execution_count": 206,
   "metadata": {},
   "outputs": [
    {
     "name": "stdout",
     "output_type": "stream",
     "text": [
      "0.9448834498834499\n",
      "0.06383394555420618\n"
     ]
    }
   ],
   "source": [
    "# Validation set\n",
    "print(accuracies.mean())\n",
    "print(accuracies.std())"
   ]
  },
  {
   "cell_type": "markdown",
   "metadata": {},
   "source": [
    "#### Confusion Matrix"
   ]
  },
  {
   "cell_type": "code",
   "execution_count": 207,
   "metadata": {},
   "outputs": [
    {
     "data": {
      "text/plain": [
       "<matplotlib.axes._subplots.AxesSubplot at 0x28fd5b77a20>"
      ]
     },
     "execution_count": 207,
     "metadata": {},
     "output_type": "execute_result"
    },
    {
     "data": {
      "image/png": "[encoded data removed]",
      "text/plain": [
       "<Figure size 432x288 with 2 Axes>"
      ]
     },
     "metadata": {
      "needs_background": "light"
     },
     "output_type": "display_data"
    }
   ],
   "source": [
    "# Training set\n",
    "cm = confusion_matrix(y_train, y_train_pred)\n",
    "sns.heatmap(cm, annot=True)"
   ]
  },
  {
   "cell_type": "code",
   "execution_count": 208,
   "metadata": {},
   "outputs": [
    {
     "data": {
      "text/plain": [
       "<matplotlib.axes._subplots.AxesSubplot at 0x28fd4ac5208>"
      ]
     },
     "execution_count": 208,
     "metadata": {},
     "output_type": "execute_result"
    },
    {
     "data": {
      "image/png": "[encoded data removed]",
      "text/plain": [
       "<Figure size 432x288 with 2 Axes>"
      ]
     },
     "metadata": {
      "needs_background": "light"
     },
     "output_type": "display_data"
    }
   ],
   "source": [
    "# Training set\n",
    "cm = confusion_matrix(y_test,y_test_pred)\n",
    "sns.heatmap(cm, annot=True)"
   ]
  },
  {
   "cell_type": "markdown",
   "metadata": {},
   "source": [
    "#### Classification report"
   ]
  },
  {
   "cell_type": "code",
   "execution_count": 209,
   "metadata": {},
   "outputs": [
    {
     "name": "stdout",
     "output_type": "stream",
     "text": [
      "                 precision    recall  f1-score   support\n",
      "\n",
      "    Iris-setosa       1.00      1.00      1.00        37\n",
      "Iris-versicolor       0.97      0.94      0.96        34\n",
      " Iris-virginica       0.95      0.98      0.96        41\n",
      "\n",
      "       accuracy                           0.97       112\n",
      "      macro avg       0.97      0.97      0.97       112\n",
      "   weighted avg       0.97      0.97      0.97       112\n",
      "\n",
      "                 precision    recall  f1-score   support\n",
      "\n",
      "    Iris-setosa       1.00      1.00      1.00        13\n",
      "Iris-versicolor       1.00      0.94      0.97        16\n",
      " Iris-virginica       0.90      1.00      0.95         9\n",
      "\n",
      "       accuracy                           0.97        38\n",
      "      macro avg       0.97      0.98      0.97        38\n",
      "   weighted avg       0.98      0.97      0.97        38\n",
      "\n"
     ]
    }
   ],
   "source": [
    "# Train\n",
    "print(classification_report(y_train, y_train_pred))\n",
    "\n",
    "# Test\n",
    "print(classification_report(y_test,y_test_pred))"
   ]
  },
  {
   "cell_type": "code",
   "execution_count": null,
   "metadata": {},
   "outputs": [],
   "source": []
  },
  {
   "cell_type": "markdown",
   "metadata": {},
   "source": [
    "### Model Interpretation"
   ]
  },
  {
   "cell_type": "markdown",
   "metadata": {},
   "source": [
    "#### Important Features"
   ]
  },
  {
   "cell_type": "code",
   "execution_count": 211,
   "metadata": {},
   "outputs": [
    {
     "data": {
      "image/png": "[encoded data removed]",
      "text/plain": [
       "<Figure size 720x576 with 1 Axes>"
      ]
     },
     "metadata": {
      "needs_background": "light"
     },
     "output_type": "display_data"
    }
   ],
   "source": [
    "ax = (pd.Series(classifier.feature_importances_, index=X.columns)\n",
    "   .nlargest(20)\n",
    "   .plot(kind='barh', figsize=(10,8), color='lightgreen'))\n",
    "plt.show()"
   ]
  },
  {
   "cell_type": "markdown",
   "metadata": {},
   "source": [
    "### Tuning hyper parameters"
   ]
  },
  {
   "cell_type": "markdown",
   "metadata": {},
   "source": [
    "#### Apply RandomizedSearchCV"
   ]
  },
  {
   "cell_type": "code",
   "execution_count": 94,
   "metadata": {},
   "outputs": [],
   "source": [
    "from sklearn.model_selection import RandomizedSearchCV\n",
    "n_estimators = [int(x) for x in np.linspace(start=100, stop = 2000, num = 20)]\n",
    "max_features = ['auto', 'sqrt']\n",
    "max_depth = [int(x) for x in np.linspace(10, 110, num = 11)]\n",
    "max_depth.append(None)\n",
    "min_samples_split = [2, 5, 10]\n",
    "min_sample_leaf = [1, 2, 4]\n",
    "bootstrap = [True, False]\n",
    "\n",
    "param_grid = {'n_estimators' : n_estimators,\n",
    "               'max_features' : max_features,\n",
    "               'max_depth' : max_depth,\n",
    "               'min_samples_split' : min_samples_split,\n",
    "               'min_samples_leaf': min_sample_leaf,\n",
    "               'bootstrap' : bootstrap\n",
    "              }"
   ]
  },
  {
   "cell_type": "code",
   "execution_count": 95,
   "metadata": {},
   "outputs": [
    {
     "name": "stdout",
     "output_type": "stream",
     "text": [
      "Fitting 5 folds for each of 100 candidates, totalling 500 fits\n"
     ]
    },
    {
     "name": "stderr",
     "output_type": "stream",
     "text": [
      "[Parallel(n_jobs=-1)]: Using backend LokyBackend with 8 concurrent workers.\n",
      "[Parallel(n_jobs=-1)]: Done  25 tasks      | elapsed:    6.4s\n",
      "[Parallel(n_jobs=-1)]: Done 146 tasks      | elapsed:   30.7s\n",
      "[Parallel(n_jobs=-1)]: Done 349 tasks      | elapsed:  1.3min\n",
      "[Parallel(n_jobs=-1)]: Done 500 out of 500 | elapsed:  1.8min finished\n"
     ]
    },
    {
     "data": {
      "text/plain": [
       "{'n_estimators': 900,\n",
       " 'min_samples_split': 10,\n",
       " 'min_samples_leaf': 2,\n",
       " 'max_features': 'auto',\n",
       " 'max_depth': 40,\n",
       " 'bootstrap': False}"
      ]
     },
     "execution_count": 95,
     "metadata": {},
     "output_type": "execute_result"
    }
   ],
   "source": [
    "grid_clf = RandomizedSearchCV(estimator = RandomForestClassifier(), param_distributions = param_grid, n_iter = 100, cv=5, error_score= np.nan, \n",
    "                               verbose=2, random_state=42, n_jobs = -1)\n",
    "grid_clf.fit(X_train, y_train)\n",
    "grid_clf.best_params_"
   ]
  },
  {
   "cell_type": "markdown",
   "metadata": {},
   "source": [
    "#### Apply GridSearchCV"
   ]
  },
  {
   "cell_type": "code",
   "execution_count": 597,
   "metadata": {},
   "outputs": [],
   "source": [
    "from sklearn.model_selection import GridSearchCV\n",
    "\n",
    "param_grid = {\n",
    "    'bootstrap' : [True],\n",
    "    'max_depth' : [8, 10, 12, 14],\n",
    "    'max_features' : ['sqrt'],\n",
    "    'min_samples_leaf' : [1, 3, 4],\n",
    "    'min_samples_split' : [7, 10, 12],\n",
    "    'n_estimators' : [250, 275, 300, 325]\n",
    "}"
   ]
  },
  {
   "cell_type": "code",
   "execution_count": 598,
   "metadata": {},
   "outputs": [
    {
     "name": "stdout",
     "output_type": "stream",
     "text": [
      "Fitting 5 folds for each of 100 candidates, totalling 500 fits\n"
     ]
    },
    {
     "name": "stderr",
     "output_type": "stream",
     "text": [
      "[Parallel(n_jobs=-1)]: Using backend LokyBackend with 8 concurrent workers.\n",
      "[Parallel(n_jobs=-1)]: Done  25 tasks      | elapsed:    1.4s\n",
      "[Parallel(n_jobs=-1)]: Done 146 tasks      | elapsed:    7.3s\n",
      "[Parallel(n_jobs=-1)]: Done 349 tasks      | elapsed:   20.3s\n",
      "[Parallel(n_jobs=-1)]: Done 500 out of 500 | elapsed:   31.4s finished\n"
     ]
    },
    {
     "data": {
      "text/plain": [
       "{'n_estimators': 275,\n",
       " 'min_samples_split': 12,\n",
       " 'min_samples_leaf': 1,\n",
       " 'max_features': 'sqrt',\n",
       " 'max_depth': 14,\n",
       " 'bootstrap': True}"
      ]
     },
     "execution_count": 598,
     "metadata": {},
     "output_type": "execute_result"
    }
   ],
   "source": [
    "grid_clf = RandomizedSearchCV(estimator = RandomForestClassifier(), param_distributions = param_grid, n_iter = 100, cv=5, error_score= np.nan, \n",
    "                               verbose=2, random_state=42, n_jobs = -1)\n",
    "grid_clf.fit(X_train, y_train)\n",
    "grid_clf.best_params_"
   ]
  },
  {
   "cell_type": "markdown",
   "metadata": {},
   "source": [
    "#### Re-run model with best parameters"
   ]
  },
  {
   "cell_type": "code",
   "execution_count": 96,
   "metadata": {},
   "outputs": [
    {
     "data": {
      "text/plain": [
       "RandomForestClassifier(bootstrap=False, class_weight=None, criterion='gini',\n",
       "                       max_depth=40, max_features='auto', max_leaf_nodes=None,\n",
       "                       min_impurity_decrease=0.0, min_impurity_split=None,\n",
       "                       min_samples_leaf=2, min_samples_split=10,\n",
       "                       min_weight_fraction_leaf=0.0, n_estimators=900,\n",
       "                       n_jobs=None, oob_score=False, random_state=None,\n",
       "                       verbose=0, warm_start=False)"
      ]
     },
     "execution_count": 96,
     "metadata": {},
     "output_type": "execute_result"
    }
   ],
   "source": [
    "classifier = grid_clf.best_estimator_\n",
    "classifier.fit(X_train, y_train)"
   ]
  },
  {
   "cell_type": "markdown",
   "metadata": {},
   "source": [
    "#### Predicting"
   ]
  },
  {
   "cell_type": "code",
   "execution_count": 97,
   "metadata": {},
   "outputs": [],
   "source": [
    "# Predicting the Train set results\n",
    "y_train_pred = classifier.predict(X_train)\n",
    "# Predicting the Test set results\n",
    "y_test_pred = classifier.predict(X_test)"
   ]
  },
  {
   "cell_type": "markdown",
   "metadata": {},
   "source": [
    "#### Evaluation Metrics"
   ]
  },
  {
   "cell_type": "code",
   "execution_count": 98,
   "metadata": {},
   "outputs": [
    {
     "name": "stdout",
     "output_type": "stream",
     "text": [
      "[[37  0  0]\n",
      " [ 0 32  2]\n",
      " [ 0  0 41]]\n",
      "                 precision    recall  f1-score   support\n",
      "\n",
      "    Iris-setosa       1.00      1.00      1.00        37\n",
      "Iris-versicolor       1.00      0.94      0.97        34\n",
      " Iris-virginica       0.95      1.00      0.98        41\n",
      "\n",
      "       accuracy                           0.98       112\n",
      "      macro avg       0.98      0.98      0.98       112\n",
      "   weighted avg       0.98      0.98      0.98       112\n",
      "\n"
     ]
    }
   ],
   "source": [
    "print(confusion_matrix(y_train, y_train_pred))\n",
    "print(classification_report(y_train, y_train_pred))"
   ]
  },
  {
   "cell_type": "code",
   "execution_count": 99,
   "metadata": {},
   "outputs": [
    {
     "name": "stdout",
     "output_type": "stream",
     "text": [
      "[[13  0  0]\n",
      " [ 0 15  1]\n",
      " [ 0  0  9]]\n",
      "                 precision    recall  f1-score   support\n",
      "\n",
      "    Iris-setosa       1.00      1.00      1.00        13\n",
      "Iris-versicolor       1.00      0.94      0.97        16\n",
      " Iris-virginica       0.90      1.00      0.95         9\n",
      "\n",
      "       accuracy                           0.97        38\n",
      "      macro avg       0.97      0.98      0.97        38\n",
      "   weighted avg       0.98      0.97      0.97        38\n",
      "\n"
     ]
    }
   ],
   "source": [
    "print(confusion_matrix(y_test, y_test_pred))\n",
    "print(classification_report(y_test, y_test_pred))"
   ]
  },
  {
   "cell_type": "markdown",
   "metadata": {},
   "source": [
    "# SVM"
   ]
  },
  {
   "cell_type": "markdown",
   "metadata": {},
   "source": [
    "### Training model"
   ]
  },
  {
   "cell_type": "code",
   "execution_count": 100,
   "metadata": {},
   "outputs": [
    {
     "data": {
      "text/plain": [
       "SVC(C=1.0, cache_size=200, class_weight=None, coef0=0.0,\n",
       "    decision_function_shape='ovr', degree=3, gamma='auto_deprecated',\n",
       "    kernel='rbf', max_iter=-1, probability=False, random_state=None,\n",
       "    shrinking=True, tol=0.001, verbose=False)"
      ]
     },
     "execution_count": 100,
     "metadata": {},
     "output_type": "execute_result"
    }
   ],
   "source": [
    "from sklearn.svm import SVC\n",
    "classifier = SVC()\n",
    "classifier.fit(X_train, y_train)"
   ]
  },
  {
   "cell_type": "markdown",
   "metadata": {},
   "source": [
    "### Applying k-Fold Cross Validation"
   ]
  },
  {
   "cell_type": "code",
   "execution_count": 101,
   "metadata": {},
   "outputs": [],
   "source": [
    "accuracies = cross_val_score(estimator = classifier, X = X_train, y = y_train, cv = 10)"
   ]
  },
  {
   "cell_type": "markdown",
   "metadata": {},
   "source": [
    "### Predicting"
   ]
  },
  {
   "cell_type": "code",
   "execution_count": 102,
   "metadata": {},
   "outputs": [],
   "source": [
    "# Predicting the Train set results\n",
    "y_train_pred = classifier.predict(X_train)\n",
    "# Predicting the Test set results\n",
    "y_test_pred = classifier.predict(X_test)"
   ]
  },
  {
   "cell_type": "markdown",
   "metadata": {},
   "source": [
    "### Model Evaluation"
   ]
  },
  {
   "cell_type": "markdown",
   "metadata": {},
   "source": [
    "#### Overall Accuracy"
   ]
  },
  {
   "cell_type": "code",
   "execution_count": 103,
   "metadata": {},
   "outputs": [
    {
     "name": "stdout",
     "output_type": "stream",
     "text": [
      "0.9732142857142857\n",
      "0.9736842105263158\n"
     ]
    }
   ],
   "source": [
    "# On train set\n",
    "print(classifier.score(X_train, y_train))\n",
    "# On test set\n",
    "print(classifier.score(X_test, y_test))"
   ]
  },
  {
   "cell_type": "code",
   "execution_count": 104,
   "metadata": {
    "scrolled": true
   },
   "outputs": [
    {
     "name": "stdout",
     "output_type": "stream",
     "text": [
      "0.9556410256410256\n",
      "0.06334734610889475\n"
     ]
    }
   ],
   "source": [
    "# Validation set\n",
    "print(accuracies.mean())\n",
    "print(accuracies.std())"
   ]
  },
  {
   "cell_type": "markdown",
   "metadata": {},
   "source": [
    "#### Confusion Matrix"
   ]
  },
  {
   "cell_type": "code",
   "execution_count": 105,
   "metadata": {},
   "outputs": [
    {
     "name": "stdout",
     "output_type": "stream",
     "text": [
      "[[37  0  0]\n",
      " [ 0 33  1]\n",
      " [ 0  2 39]]\n"
     ]
    },
    {
     "data": {
      "text/plain": [
       "<matplotlib.axes._subplots.AxesSubplot at 0x28fbc43ffd0>"
      ]
     },
     "execution_count": 105,
     "metadata": {},
     "output_type": "execute_result"
    },
    {
     "data": {
      "image/png": "[encoded data removed]",
      "text/plain": [
       "<Figure size 432x288 with 2 Axes>"
      ]
     },
     "metadata": {
      "needs_background": "light"
     },
     "output_type": "display_data"
    }
   ],
   "source": [
    "# Training set\n",
    "cm = confusion_matrix(y_train, y_train_pred)\n",
    "print(cm)\n",
    "sns.heatmap(cm, annot=True)"
   ]
  },
  {
   "cell_type": "code",
   "execution_count": 106,
   "metadata": {},
   "outputs": [
    {
     "name": "stdout",
     "output_type": "stream",
     "text": [
      "[[13  0  0]\n",
      " [ 0 15  1]\n",
      " [ 0  0  9]]\n"
     ]
    },
    {
     "data": {
      "text/plain": [
       "<matplotlib.axes._subplots.AxesSubplot at 0x28fb9aff5c0>"
      ]
     },
     "execution_count": 106,
     "metadata": {},
     "output_type": "execute_result"
    },
    {
     "data": {
      "image/png": "[encoded data removed]",
      "text/plain": [
       "<Figure size 432x288 with 2 Axes>"
      ]
     },
     "metadata": {
      "needs_background": "light"
     },
     "output_type": "display_data"
    }
   ],
   "source": [
    "# Test set\n",
    "cm = confusion_matrix(y_test, y_test_pred)\n",
    "print(cm)\n",
    "sns.heatmap(cm, annot=True)"
   ]
  },
  {
   "cell_type": "markdown",
   "metadata": {},
   "source": [
    "#### Classification Report"
   ]
  },
  {
   "cell_type": "code",
   "execution_count": 107,
   "metadata": {},
   "outputs": [
    {
     "name": "stdout",
     "output_type": "stream",
     "text": [
      "                 precision    recall  f1-score   support\n",
      "\n",
      "    Iris-setosa       1.00      1.00      1.00        37\n",
      "Iris-versicolor       0.94      0.97      0.96        34\n",
      " Iris-virginica       0.97      0.95      0.96        41\n",
      "\n",
      "       accuracy                           0.97       112\n",
      "      macro avg       0.97      0.97      0.97       112\n",
      "   weighted avg       0.97      0.97      0.97       112\n",
      "\n"
     ]
    }
   ],
   "source": [
    "print(classification_report(y_train, y_train_pred))"
   ]
  },
  {
   "cell_type": "code",
   "execution_count": 108,
   "metadata": {},
   "outputs": [
    {
     "name": "stdout",
     "output_type": "stream",
     "text": [
      "                 precision    recall  f1-score   support\n",
      "\n",
      "    Iris-setosa       1.00      1.00      1.00        13\n",
      "Iris-versicolor       1.00      0.94      0.97        16\n",
      " Iris-virginica       0.90      1.00      0.95         9\n",
      "\n",
      "       accuracy                           0.97        38\n",
      "      macro avg       0.97      0.98      0.97        38\n",
      "   weighted avg       0.98      0.97      0.97        38\n",
      "\n"
     ]
    }
   ],
   "source": [
    "print(classification_report(y_test, y_test_pred))"
   ]
  },
  {
   "cell_type": "markdown",
   "metadata": {},
   "source": [
    "### Tuning hyper parameters"
   ]
  },
  {
   "cell_type": "markdown",
   "metadata": {},
   "source": [
    "#### Apply grid search"
   ]
  },
  {
   "cell_type": "code",
   "execution_count": 109,
   "metadata": {},
   "outputs": [],
   "source": [
    "params = {\n",
    "    'C': [0.1,0.8,0.9,1.1,1.2,1.3,1.4],\n",
    "    'kernel': ['linear', 'rbf'],\n",
    "    'gamma': [0.1,0.8,0.9,1.1,1.2,1.3,1.4]\n",
    "}\n",
    "\n",
    "grid_clf = GridSearchCV(SVC(), param_grid = params, scoring = 'accuracy', cv = 10, verbose = 2)"
   ]
  },
  {
   "cell_type": "markdown",
   "metadata": {},
   "source": [
    "#### Train model"
   ]
  },
  {
   "cell_type": "code",
   "execution_count": 110,
   "metadata": {},
   "outputs": [
    {
     "name": "stdout",
     "output_type": "stream",
     "text": [
      "Fitting 10 folds for each of 98 candidates, totalling 980 fits\n",
      "[CV] C=0.1, gamma=0.1, kernel=linear .................................\n",
      "[CV] .................. C=0.1, gamma=0.1, kernel=linear, total=   0.0s\n",
      "[CV] C=0.1, gamma=0.1, kernel=linear .................................\n",
      "[CV] .................. C=0.1, gamma=0.1, kernel=linear, total=   0.0s\n",
      "[CV] C=0.1, gamma=0.1, kernel=linear .................................\n",
      "[CV] .................. C=0.1, gamma=0.1, kernel=linear, total=   0.0s\n",
      "[CV] C=0.1, gamma=0.1, kernel=linear .................................\n",
      "[CV] .................. C=0.1, gamma=0.1, kernel=linear, total=   0.0s\n",
      "[CV] C=0.1, gamma=0.1, kernel=linear .................................\n",
      "[CV] .................. C=0.1, gamma=0.1, kernel=linear, total=   0.0s\n",
      "[CV] C=0.1, gamma=0.1, kernel=linear .................................\n",
      "[CV] .................. C=0.1, gamma=0.1, kernel=linear, total=   0.0s\n",
      "[CV] C=0.1, gamma=0.1, kernel=linear .................................\n",
      "[CV] .................. C=0.1, gamma=0.1, kernel=linear, total=   0.0s\n",
      "[CV] C=0.1, gamma=0.1, kernel=linear .................................\n",
      "[CV] .................. C=0.1, gamma=0.1, kernel=linear, total=   0.0s\n",
      "[CV] C=0.1, gamma=0.1, kernel=linear .................................\n",
      "[CV] .................. C=0.1, gamma=0.1, kernel=linear, total=   0.0s\n",
      "[CV] C=0.1, gamma=0.1, kernel=linear .................................\n",
      "[CV] .................. C=0.1, gamma=0.1, kernel=linear, total=   0.0s\n",
      "[CV] C=0.1, gamma=0.1, kernel=rbf ....................................\n",
      "[CV] ..................... C=0.1, gamma=0.1, kernel=rbf, total=   0.0s\n",
      "[CV] C=0.1, gamma=0.1, kernel=rbf ....................................\n",
      "[CV] ..................... C=0.1, gamma=0.1, kernel=rbf, total=   0.0s\n",
      "[CV] C=0.1, gamma=0.1, kernel=rbf ....................................\n",
      "[CV] ..................... C=0.1, gamma=0.1, kernel=rbf, total=   0.0s\n",
      "[CV] C=0.1, gamma=0.1, kernel=rbf ....................................\n",
      "[CV] ..................... C=0.1, gamma=0.1, kernel=rbf, total=   0.0s\n",
      "[CV] C=0.1, gamma=0.1, kernel=rbf ....................................\n",
      "[CV] ..................... C=0.1, gamma=0.1, kernel=rbf, total=   0.0s\n",
      "[CV] C=0.1, gamma=0.1, kernel=rbf ....................................\n",
      "[CV] ..................... C=0.1, gamma=0.1, kernel=rbf, total=   0.0s\n",
      "[CV] C=0.1, gamma=0.1, kernel=rbf ....................................\n",
      "[CV] ..................... C=0.1, gamma=0.1, kernel=rbf, total=   0.0s\n",
      "[CV] C=0.1, gamma=0.1, kernel=rbf ....................................\n",
      "[CV] ..................... C=0.1, gamma=0.1, kernel=rbf, total=   0.0s\n",
      "[CV] C=0.1, gamma=0.1, kernel=rbf ....................................\n",
      "[CV] ..................... C=0.1, gamma=0.1, kernel=rbf, total=   0.0s\n",
      "[CV] C=0.1, gamma=0.1, kernel=rbf ....................................\n",
      "[CV] ..................... C=0.1, gamma=0.1, kernel=rbf, total=   0.0s\n",
      "[CV] C=0.1, gamma=0.8, kernel=linear .................................\n",
      "[CV] .................. C=0.1, gamma=0.8, kernel=linear, total=   0.0s\n",
      "[CV] C=0.1, gamma=0.8, kernel=linear .................................\n",
      "[CV] .................. C=0.1, gamma=0.8, kernel=linear, total=   0.0s\n",
      "[CV] C=0.1, gamma=0.8, kernel=linear .................................\n",
      "[CV] .................. C=0.1, gamma=0.8, kernel=linear, total=   0.0s\n",
      "[CV] C=0.1, gamma=0.8, kernel=linear .................................\n",
      "[CV] .................. C=0.1, gamma=0.8, kernel=linear, total=   0.0s\n",
      "[CV] C=0.1, gamma=0.8, kernel=linear .................................\n",
      "[CV] .................. C=0.1, gamma=0.8, kernel=linear, total=   0.0s\n",
      "[CV] C=0.1, gamma=0.8, kernel=linear .................................\n",
      "[CV] .................. C=0.1, gamma=0.8, kernel=linear, total=   0.0s\n",
      "[CV] C=0.1, gamma=0.8, kernel=linear .................................\n",
      "[CV] .................. C=0.1, gamma=0.8, kernel=linear, total=   0.0s\n",
      "[CV] C=0.1, gamma=0.8, kernel=linear .................................\n",
      "[CV] .................. C=0.1, gamma=0.8, kernel=linear, total=   0.0s\n",
      "[CV] C=0.1, gamma=0.8, kernel=linear .................................\n",
      "[CV] .................. C=0.1, gamma=0.8, kernel=linear, total=   0.0s\n",
      "[CV] C=0.1, gamma=0.8, kernel=linear .................................\n",
      "[CV] .................. C=0.1, gamma=0.8, kernel=linear, total=   0.0s\n",
      "[CV] C=0.1, gamma=0.8, kernel=rbf ....................................\n",
      "[CV] ..................... C=0.1, gamma=0.8, kernel=rbf, total=   0.0s\n",
      "[CV] C=0.1, gamma=0.8, kernel=rbf ....................................\n",
      "[CV] ..................... C=0.1, gamma=0.8, kernel=rbf, total=   0.0s\n",
      "[CV] C=0.1, gamma=0.8, kernel=rbf ....................................\n",
      "[CV] ..................... C=0.1, gamma=0.8, kernel=rbf, total=   0.0s\n",
      "[CV] C=0.1, gamma=0.8, kernel=rbf ....................................\n",
      "[CV] ..................... C=0.1, gamma=0.8, kernel=rbf, total=   0.0s\n",
      "[CV] C=0.1, gamma=0.8, kernel=rbf ....................................\n",
      "[CV] ..................... C=0.1, gamma=0.8, kernel=rbf, total=   0.0s\n",
      "[CV] C=0.1, gamma=0.8, kernel=rbf ....................................\n",
      "[CV] ..................... C=0.1, gamma=0.8, kernel=rbf, total=   0.0s\n",
      "[CV] C=0.1, gamma=0.8, kernel=rbf ....................................\n",
      "[CV] ..................... C=0.1, gamma=0.8, kernel=rbf, total=   0.0s\n",
      "[CV] C=0.1, gamma=0.8, kernel=rbf ....................................\n",
      "[CV] ..................... C=0.1, gamma=0.8, kernel=rbf, total=   0.0s\n",
      "[CV] C=0.1, gamma=0.8, kernel=rbf ....................................\n",
      "[CV] ..................... C=0.1, gamma=0.8, kernel=rbf, total=   0.0s\n",
      "[CV] C=0.1, gamma=0.8, kernel=rbf ....................................\n",
      "[CV] ..................... C=0.1, gamma=0.8, kernel=rbf, total=   0.0s\n",
      "[CV] C=0.1, gamma=0.9, kernel=linear .................................\n",
      "[CV] .................. C=0.1, gamma=0.9, kernel=linear, total=   0.0s\n",
      "[CV] C=0.1, gamma=0.9, kernel=linear .................................\n",
      "[CV] .................. C=0.1, gamma=0.9, kernel=linear, total=   0.0s\n",
      "[CV] C=0.1, gamma=0.9, kernel=linear .................................\n",
      "[CV] .................. C=0.1, gamma=0.9, kernel=linear, total=   0.0s\n",
      "[CV] C=0.1, gamma=0.9, kernel=linear .................................\n",
      "[CV] .................. C=0.1, gamma=0.9, kernel=linear, total=   0.0s\n",
      "[CV] C=0.1, gamma=0.9, kernel=linear .................................\n",
      "[CV] .................. C=0.1, gamma=0.9, kernel=linear, total=   0.0s\n",
      "[CV] C=0.1, gamma=0.9, kernel=linear .................................\n",
      "[CV] .................. C=0.1, gamma=0.9, kernel=linear, total=   0.0s\n",
      "[CV] C=0.1, gamma=0.9, kernel=linear .................................\n",
      "[CV] .................. C=0.1, gamma=0.9, kernel=linear, total=   0.0s\n",
      "[CV] C=0.1, gamma=0.9, kernel=linear .................................\n",
      "[CV] .................. C=0.1, gamma=0.9, kernel=linear, total=   0.0s\n",
      "[CV] C=0.1, gamma=0.9, kernel=linear .................................\n",
      "[CV] .................. C=0.1, gamma=0.9, kernel=linear, total=   0.0s\n",
      "[CV] C=0.1, gamma=0.9, kernel=linear .................................\n",
      "[CV] .................. C=0.1, gamma=0.9, kernel=linear, total=   0.0s\n",
      "[CV] C=0.1, gamma=0.9, kernel=rbf ....................................\n",
      "[CV] ..................... C=0.1, gamma=0.9, kernel=rbf, total=   0.0s\n",
      "[CV] C=0.1, gamma=0.9, kernel=rbf ....................................\n",
      "[CV] ..................... C=0.1, gamma=0.9, kernel=rbf, total=   0.0s\n",
      "[CV] C=0.1, gamma=0.9, kernel=rbf ....................................\n"
     ]
    },
    {
     "name": "stderr",
     "output_type": "stream",
     "text": [
      "[Parallel(n_jobs=1)]: Using backend SequentialBackend with 1 concurrent workers.\n",
      "[Parallel(n_jobs=1)]: Done   1 out of   1 | elapsed:    0.0s remaining:    0.0s\n"
     ]
    },
    {
     "name": "stdout",
     "output_type": "stream",
     "text": [
      "[CV] ..................... C=0.1, gamma=0.9, kernel=rbf, total=   0.0s\n",
      "[CV] C=0.1, gamma=0.9, kernel=rbf ....................................\n",
      "[CV] ..................... C=0.1, gamma=0.9, kernel=rbf, total=   0.0s\n",
      "[CV] C=0.1, gamma=0.9, kernel=rbf ....................................\n",
      "[CV] ..................... C=0.1, gamma=0.9, kernel=rbf, total=   0.0s\n",
      "[CV] C=0.1, gamma=0.9, kernel=rbf ....................................\n",
      "[CV] ..................... C=0.1, gamma=0.9, kernel=rbf, total=   0.0s\n",
      "[CV] C=0.1, gamma=0.9, kernel=rbf ....................................\n",
      "[CV] ..................... C=0.1, gamma=0.9, kernel=rbf, total=   0.0s\n",
      "[CV] C=0.1, gamma=0.9, kernel=rbf ....................................\n",
      "[CV] ..................... C=0.1, gamma=0.9, kernel=rbf, total=   0.0s\n",
      "[CV] C=0.1, gamma=0.9, kernel=rbf ....................................\n",
      "[CV] ..................... C=0.1, gamma=0.9, kernel=rbf, total=   0.0s\n",
      "[CV] C=0.1, gamma=0.9, kernel=rbf ....................................\n",
      "[CV] ..................... C=0.1, gamma=0.9, kernel=rbf, total=   0.0s\n",
      "[CV] C=0.1, gamma=1.1, kernel=linear .................................\n",
      "[CV] .................. C=0.1, gamma=1.1, kernel=linear, total=   0.0s\n",
      "[CV] C=0.1, gamma=1.1, kernel=linear .................................\n",
      "[CV] .................. C=0.1, gamma=1.1, kernel=linear, total=   0.0s\n",
      "[CV] C=0.1, gamma=1.1, kernel=linear .................................\n",
      "[CV] .................. C=0.1, gamma=1.1, kernel=linear, total=   0.0s\n",
      "[CV] C=0.1, gamma=1.1, kernel=linear .................................\n",
      "[CV] .................. C=0.1, gamma=1.1, kernel=linear, total=   0.0s\n",
      "[CV] C=0.1, gamma=1.1, kernel=linear .................................\n",
      "[CV] .................. C=0.1, gamma=1.1, kernel=linear, total=   0.0s\n",
      "[CV] C=0.1, gamma=1.1, kernel=linear .................................\n",
      "[CV] .................. C=0.1, gamma=1.1, kernel=linear, total=   0.0s\n",
      "[CV] C=0.1, gamma=1.1, kernel=linear .................................\n",
      "[CV] .................. C=0.1, gamma=1.1, kernel=linear, total=   0.0s\n",
      "[CV] C=0.1, gamma=1.1, kernel=linear .................................\n",
      "[CV] .................. C=0.1, gamma=1.1, kernel=linear, total=   0.0s\n",
      "[CV] C=0.1, gamma=1.1, kernel=linear .................................\n",
      "[CV] .................. C=0.1, gamma=1.1, kernel=linear, total=   0.0s\n",
      "[CV] C=0.1, gamma=1.1, kernel=linear .................................\n",
      "[CV] .................. C=0.1, gamma=1.1, kernel=linear, total=   0.0s\n",
      "[CV] C=0.1, gamma=1.1, kernel=rbf ....................................\n",
      "[CV] ..................... C=0.1, gamma=1.1, kernel=rbf, total=   0.0s\n",
      "[CV] C=0.1, gamma=1.1, kernel=rbf ....................................\n",
      "[CV] ..................... C=0.1, gamma=1.1, kernel=rbf, total=   0.0s\n",
      "[CV] C=0.1, gamma=1.1, kernel=rbf ....................................\n",
      "[CV] ..................... C=0.1, gamma=1.1, kernel=rbf, total=   0.0s\n",
      "[CV] C=0.1, gamma=1.1, kernel=rbf ....................................\n",
      "[CV] ..................... C=0.1, gamma=1.1, kernel=rbf, total=   0.0s\n",
      "[CV] C=0.1, gamma=1.1, kernel=rbf ....................................\n",
      "[CV] ..................... C=0.1, gamma=1.1, kernel=rbf, total=   0.0s\n",
      "[CV] C=0.1, gamma=1.1, kernel=rbf ....................................\n",
      "[CV] ..................... C=0.1, gamma=1.1, kernel=rbf, total=   0.0s\n",
      "[CV] C=0.1, gamma=1.1, kernel=rbf ....................................\n",
      "[CV] ..................... C=0.1, gamma=1.1, kernel=rbf, total=   0.0s\n",
      "[CV] C=0.1, gamma=1.1, kernel=rbf ....................................\n",
      "[CV] ..................... C=0.1, gamma=1.1, kernel=rbf, total=   0.0s\n",
      "[CV] C=0.1, gamma=1.1, kernel=rbf ....................................\n",
      "[CV] ..................... C=0.1, gamma=1.1, kernel=rbf, total=   0.0s\n",
      "[CV] C=0.1, gamma=1.1, kernel=rbf ....................................\n",
      "[CV] ..................... C=0.1, gamma=1.1, kernel=rbf, total=   0.0s\n",
      "[CV] C=0.1, gamma=1.2, kernel=linear .................................\n",
      "[CV] .................. C=0.1, gamma=1.2, kernel=linear, total=   0.0s\n",
      "[CV] C=0.1, gamma=1.2, kernel=linear .................................\n",
      "[CV] .................. C=0.1, gamma=1.2, kernel=linear, total=   0.0s\n",
      "[CV] C=0.1, gamma=1.2, kernel=linear .................................\n",
      "[CV] .................. C=0.1, gamma=1.2, kernel=linear, total=   0.0s\n",
      "[CV] C=0.1, gamma=1.2, kernel=linear .................................\n",
      "[CV] .................. C=0.1, gamma=1.2, kernel=linear, total=   0.0s\n",
      "[CV] C=0.1, gamma=1.2, kernel=linear .................................\n",
      "[CV] .................. C=0.1, gamma=1.2, kernel=linear, total=   0.0s\n",
      "[CV] C=0.1, gamma=1.2, kernel=linear .................................\n",
      "[CV] .................. C=0.1, gamma=1.2, kernel=linear, total=   0.0s\n",
      "[CV] C=0.1, gamma=1.2, kernel=linear .................................\n",
      "[CV] .................. C=0.1, gamma=1.2, kernel=linear, total=   0.0s\n",
      "[CV] C=0.1, gamma=1.2, kernel=linear .................................\n",
      "[CV] .................. C=0.1, gamma=1.2, kernel=linear, total=   0.0s\n",
      "[CV] C=0.1, gamma=1.2, kernel=linear .................................\n",
      "[CV] .................. C=0.1, gamma=1.2, kernel=linear, total=   0.0s\n",
      "[CV] C=0.1, gamma=1.2, kernel=linear .................................\n",
      "[CV] .................. C=0.1, gamma=1.2, kernel=linear, total=   0.0s\n",
      "[CV] C=0.1, gamma=1.2, kernel=rbf ....................................\n",
      "[CV] ..................... C=0.1, gamma=1.2, kernel=rbf, total=   0.0s\n",
      "[CV] C=0.1, gamma=1.2, kernel=rbf ....................................\n",
      "[CV] ..................... C=0.1, gamma=1.2, kernel=rbf, total=   0.0s\n",
      "[CV] C=0.1, gamma=1.2, kernel=rbf ....................................\n",
      "[CV] ..................... C=0.1, gamma=1.2, kernel=rbf, total=   0.0s\n",
      "[CV] C=0.1, gamma=1.2, kernel=rbf ....................................\n",
      "[CV] ..................... C=0.1, gamma=1.2, kernel=rbf, total=   0.0s\n",
      "[CV] C=0.1, gamma=1.2, kernel=rbf ....................................\n",
      "[CV] ..................... C=0.1, gamma=1.2, kernel=rbf, total=   0.0s\n",
      "[CV] C=0.1, gamma=1.2, kernel=rbf ....................................\n",
      "[CV] ..................... C=0.1, gamma=1.2, kernel=rbf, total=   0.0s\n",
      "[CV] C=0.1, gamma=1.2, kernel=rbf ....................................\n",
      "[CV] ..................... C=0.1, gamma=1.2, kernel=rbf, total=   0.0s\n",
      "[CV] C=0.1, gamma=1.2, kernel=rbf ....................................\n",
      "[CV] ..................... C=0.1, gamma=1.2, kernel=rbf, total=   0.0s\n",
      "[CV] C=0.1, gamma=1.2, kernel=rbf ....................................\n",
      "[CV] ..................... C=0.1, gamma=1.2, kernel=rbf, total=   0.0s\n",
      "[CV] C=0.1, gamma=1.2, kernel=rbf ....................................\n",
      "[CV] ..................... C=0.1, gamma=1.2, kernel=rbf, total=   0.0s\n",
      "[CV] C=0.1, gamma=1.3, kernel=linear .................................\n",
      "[CV] .................. C=0.1, gamma=1.3, kernel=linear, total=   0.0s\n",
      "[CV] C=0.1, gamma=1.3, kernel=linear .................................\n",
      "[CV] .................. C=0.1, gamma=1.3, kernel=linear, total=   0.0s\n",
      "[CV] C=0.1, gamma=1.3, kernel=linear .................................\n",
      "[CV] .................. C=0.1, gamma=1.3, kernel=linear, total=   0.0s\n",
      "[CV] C=0.1, gamma=1.3, kernel=linear .................................\n",
      "[CV] .................. C=0.1, gamma=1.3, kernel=linear, total=   0.0s\n",
      "[CV] C=0.1, gamma=1.3, kernel=linear .................................\n",
      "[CV] .................. C=0.1, gamma=1.3, kernel=linear, total=   0.0s\n",
      "[CV] C=0.1, gamma=1.3, kernel=linear .................................\n",
      "[CV] .................. C=0.1, gamma=1.3, kernel=linear, total=   0.0s\n",
      "[CV] C=0.1, gamma=1.3, kernel=linear .................................\n",
      "[CV] .................. C=0.1, gamma=1.3, kernel=linear, total=   0.0s\n",
      "[CV] C=0.1, gamma=1.3, kernel=linear .................................\n",
      "[CV] .................. C=0.1, gamma=1.3, kernel=linear, total=   0.0s\n",
      "[CV] C=0.1, gamma=1.3, kernel=linear .................................\n",
      "[CV] .................. C=0.1, gamma=1.3, kernel=linear, total=   0.0s\n",
      "[CV] C=0.1, gamma=1.3, kernel=linear .................................\n",
      "[CV] .................. C=0.1, gamma=1.3, kernel=linear, total=   0.0s\n",
      "[CV] C=0.1, gamma=1.3, kernel=rbf ....................................\n",
      "[CV] ..................... C=0.1, gamma=1.3, kernel=rbf, total=   0.0s\n",
      "[CV] C=0.1, gamma=1.3, kernel=rbf ....................................\n",
      "[CV] ..................... C=0.1, gamma=1.3, kernel=rbf, total=   0.0s\n",
      "[CV] C=0.1, gamma=1.3, kernel=rbf ....................................\n",
      "[CV] ..................... C=0.1, gamma=1.3, kernel=rbf, total=   0.0s\n",
      "[CV] C=0.1, gamma=1.3, kernel=rbf ....................................\n",
      "[CV] ..................... C=0.1, gamma=1.3, kernel=rbf, total=   0.0s\n",
      "[CV] C=0.1, gamma=1.3, kernel=rbf ....................................\n",
      "[CV] ..................... C=0.1, gamma=1.3, kernel=rbf, total=   0.0s\n",
      "[CV] C=0.1, gamma=1.3, kernel=rbf ....................................\n",
      "[CV] ..................... C=0.1, gamma=1.3, kernel=rbf, total=   0.0s\n",
      "[CV] C=0.1, gamma=1.3, kernel=rbf ....................................\n",
      "[CV] ..................... C=0.1, gamma=1.3, kernel=rbf, total=   0.0s\n",
      "[CV] C=0.1, gamma=1.3, kernel=rbf ....................................\n",
      "[CV] ..................... C=0.1, gamma=1.3, kernel=rbf, total=   0.0s\n",
      "[CV] C=0.1, gamma=1.3, kernel=rbf ....................................\n",
      "[CV] ..................... C=0.1, gamma=1.3, kernel=rbf, total=   0.0s\n",
      "[CV] C=0.1, gamma=1.3, kernel=rbf ....................................\n",
      "[CV] ..................... C=0.1, gamma=1.3, kernel=rbf, total=   0.0s\n",
      "[CV] C=0.1, gamma=1.4, kernel=linear .................................\n",
      "[CV] .................. C=0.1, gamma=1.4, kernel=linear, total=   0.0s\n",
      "[CV] C=0.1, gamma=1.4, kernel=linear .................................\n",
      "[CV] .................. C=0.1, gamma=1.4, kernel=linear, total=   0.0s\n",
      "[CV] C=0.1, gamma=1.4, kernel=linear .................................\n",
      "[CV] .................. C=0.1, gamma=1.4, kernel=linear, total=   0.0s\n",
      "[CV] C=0.1, gamma=1.4, kernel=linear .................................\n",
      "[CV] .................. C=0.1, gamma=1.4, kernel=linear, total=   0.0s\n",
      "[CV] C=0.1, gamma=1.4, kernel=linear .................................\n",
      "[CV] .................. C=0.1, gamma=1.4, kernel=linear, total=   0.0s\n",
      "[CV] C=0.1, gamma=1.4, kernel=linear .................................\n",
      "[CV] .................. C=0.1, gamma=1.4, kernel=linear, total=   0.0s\n",
      "[CV] C=0.1, gamma=1.4, kernel=linear .................................\n",
      "[CV] .................. C=0.1, gamma=1.4, kernel=linear, total=   0.0s\n",
      "[CV] C=0.1, gamma=1.4, kernel=linear .................................\n",
      "[CV] .................. C=0.1, gamma=1.4, kernel=linear, total=   0.0s\n",
      "[CV] C=0.1, gamma=1.4, kernel=linear .................................\n",
      "[CV] .................. C=0.1, gamma=1.4, kernel=linear, total=   0.0s\n",
      "[CV] C=0.1, gamma=1.4, kernel=linear .................................\n",
      "[CV] .................. C=0.1, gamma=1.4, kernel=linear, total=   0.0s\n",
      "[CV] C=0.1, gamma=1.4, kernel=rbf ....................................\n",
      "[CV] ..................... C=0.1, gamma=1.4, kernel=rbf, total=   0.0s\n",
      "[CV] C=0.1, gamma=1.4, kernel=rbf ....................................\n",
      "[CV] ..................... C=0.1, gamma=1.4, kernel=rbf, total=   0.0s\n",
      "[CV] C=0.1, gamma=1.4, kernel=rbf ....................................\n",
      "[CV] ..................... C=0.1, gamma=1.4, kernel=rbf, total=   0.0s\n",
      "[CV] C=0.1, gamma=1.4, kernel=rbf ....................................\n",
      "[CV] ..................... C=0.1, gamma=1.4, kernel=rbf, total=   0.0s\n",
      "[CV] C=0.1, gamma=1.4, kernel=rbf ....................................\n",
      "[CV] ..................... C=0.1, gamma=1.4, kernel=rbf, total=   0.0s\n",
      "[CV] C=0.1, gamma=1.4, kernel=rbf ....................................\n",
      "[CV] ..................... C=0.1, gamma=1.4, kernel=rbf, total=   0.0s\n",
      "[CV] C=0.1, gamma=1.4, kernel=rbf ....................................\n",
      "[CV] ..................... C=0.1, gamma=1.4, kernel=rbf, total=   0.0s\n",
      "[CV] C=0.1, gamma=1.4, kernel=rbf ....................................\n",
      "[CV] ..................... C=0.1, gamma=1.4, kernel=rbf, total=   0.0s\n",
      "[CV] C=0.1, gamma=1.4, kernel=rbf ....................................\n",
      "[CV] ..................... C=0.1, gamma=1.4, kernel=rbf, total=   0.0s\n",
      "[CV] C=0.1, gamma=1.4, kernel=rbf ....................................\n",
      "[CV] ..................... C=0.1, gamma=1.4, kernel=rbf, total=   0.0s\n",
      "[CV] C=0.8, gamma=0.1, kernel=linear .................................\n",
      "[CV] .................. C=0.8, gamma=0.1, kernel=linear, total=   0.0s\n",
      "[CV] C=0.8, gamma=0.1, kernel=linear .................................\n",
      "[CV] .................. C=0.8, gamma=0.1, kernel=linear, total=   0.0s\n",
      "[CV] C=0.8, gamma=0.1, kernel=linear .................................\n",
      "[CV] .................. C=0.8, gamma=0.1, kernel=linear, total=   0.0s\n",
      "[CV] C=0.8, gamma=0.1, kernel=linear .................................\n",
      "[CV] .................. C=0.8, gamma=0.1, kernel=linear, total=   0.0s\n",
      "[CV] C=0.8, gamma=0.1, kernel=linear .................................\n",
      "[CV] .................. C=0.8, gamma=0.1, kernel=linear, total=   0.0s\n",
      "[CV] C=0.8, gamma=0.1, kernel=linear .................................\n",
      "[CV] .................. C=0.8, gamma=0.1, kernel=linear, total=   0.0s\n",
      "[CV] C=0.8, gamma=0.1, kernel=linear .................................\n",
      "[CV] .................. C=0.8, gamma=0.1, kernel=linear, total=   0.0s\n",
      "[CV] C=0.8, gamma=0.1, kernel=linear .................................\n",
      "[CV] .................. C=0.8, gamma=0.1, kernel=linear, total=   0.0s\n",
      "[CV] C=0.8, gamma=0.1, kernel=linear .................................\n",
      "[CV] .................. C=0.8, gamma=0.1, kernel=linear, total=   0.0s\n",
      "[CV] C=0.8, gamma=0.1, kernel=linear .................................\n",
      "[CV] .................. C=0.8, gamma=0.1, kernel=linear, total=   0.0s\n",
      "[CV] C=0.8, gamma=0.1, kernel=rbf ....................................\n"
     ]
    },
    {
     "name": "stdout",
     "output_type": "stream",
     "text": [
      "[CV] ..................... C=0.8, gamma=0.1, kernel=rbf, total=   0.0s\n",
      "[CV] C=0.8, gamma=0.1, kernel=rbf ....................................\n",
      "[CV] ..................... C=0.8, gamma=0.1, kernel=rbf, total=   0.0s\n",
      "[CV] C=0.8, gamma=0.1, kernel=rbf ....................................\n",
      "[CV] ..................... C=0.8, gamma=0.1, kernel=rbf, total=   0.0s\n",
      "[CV] C=0.8, gamma=0.1, kernel=rbf ....................................\n",
      "[CV] ..................... C=0.8, gamma=0.1, kernel=rbf, total=   0.0s\n",
      "[CV] C=0.8, gamma=0.1, kernel=rbf ....................................\n",
      "[CV] ..................... C=0.8, gamma=0.1, kernel=rbf, total=   0.0s\n",
      "[CV] C=0.8, gamma=0.1, kernel=rbf ....................................\n",
      "[CV] ..................... C=0.8, gamma=0.1, kernel=rbf, total=   0.0s\n",
      "[CV] C=0.8, gamma=0.1, kernel=rbf ....................................\n",
      "[CV] ..................... C=0.8, gamma=0.1, kernel=rbf, total=   0.0s\n",
      "[CV] C=0.8, gamma=0.1, kernel=rbf ....................................\n",
      "[CV] ..................... C=0.8, gamma=0.1, kernel=rbf, total=   0.0s\n",
      "[CV] C=0.8, gamma=0.1, kernel=rbf ....................................\n",
      "[CV] ..................... C=0.8, gamma=0.1, kernel=rbf, total=   0.0s\n",
      "[CV] C=0.8, gamma=0.1, kernel=rbf ....................................\n",
      "[CV] ..................... C=0.8, gamma=0.1, kernel=rbf, total=   0.0s\n",
      "[CV] C=0.8, gamma=0.8, kernel=linear .................................\n",
      "[CV] .................. C=0.8, gamma=0.8, kernel=linear, total=   0.0s\n",
      "[CV] C=0.8, gamma=0.8, kernel=linear .................................\n",
      "[CV] .................. C=0.8, gamma=0.8, kernel=linear, total=   0.0s\n",
      "[CV] C=0.8, gamma=0.8, kernel=linear .................................\n",
      "[CV] .................. C=0.8, gamma=0.8, kernel=linear, total=   0.0s\n",
      "[CV] C=0.8, gamma=0.8, kernel=linear .................................\n",
      "[CV] .................. C=0.8, gamma=0.8, kernel=linear, total=   0.0s\n",
      "[CV] C=0.8, gamma=0.8, kernel=linear .................................\n",
      "[CV] .................. C=0.8, gamma=0.8, kernel=linear, total=   0.0s\n",
      "[CV] C=0.8, gamma=0.8, kernel=linear .................................\n",
      "[CV] .................. C=0.8, gamma=0.8, kernel=linear, total=   0.0s\n",
      "[CV] C=0.8, gamma=0.8, kernel=linear .................................\n",
      "[CV] .................. C=0.8, gamma=0.8, kernel=linear, total=   0.0s\n",
      "[CV] C=0.8, gamma=0.8, kernel=linear .................................\n",
      "[CV] .................. C=0.8, gamma=0.8, kernel=linear, total=   0.0s\n",
      "[CV] C=0.8, gamma=0.8, kernel=linear .................................\n",
      "[CV] .................. C=0.8, gamma=0.8, kernel=linear, total=   0.0s\n",
      "[CV] C=0.8, gamma=0.8, kernel=linear .................................\n",
      "[CV] .................. C=0.8, gamma=0.8, kernel=linear, total=   0.0s\n",
      "[CV] C=0.8, gamma=0.8, kernel=rbf ....................................\n",
      "[CV] ..................... C=0.8, gamma=0.8, kernel=rbf, total=   0.0s\n",
      "[CV] C=0.8, gamma=0.8, kernel=rbf ....................................\n",
      "[CV] ..................... C=0.8, gamma=0.8, kernel=rbf, total=   0.0s\n",
      "[CV] C=0.8, gamma=0.8, kernel=rbf ....................................\n",
      "[CV] ..................... C=0.8, gamma=0.8, kernel=rbf, total=   0.0s\n",
      "[CV] C=0.8, gamma=0.8, kernel=rbf ....................................\n",
      "[CV] ..................... C=0.8, gamma=0.8, kernel=rbf, total=   0.0s\n",
      "[CV] C=0.8, gamma=0.8, kernel=rbf ....................................\n",
      "[CV] ..................... C=0.8, gamma=0.8, kernel=rbf, total=   0.0s\n",
      "[CV] C=0.8, gamma=0.8, kernel=rbf ....................................\n",
      "[CV] ..................... C=0.8, gamma=0.8, kernel=rbf, total=   0.0s\n",
      "[CV] C=0.8, gamma=0.8, kernel=rbf ....................................\n",
      "[CV] ..................... C=0.8, gamma=0.8, kernel=rbf, total=   0.0s\n",
      "[CV] C=0.8, gamma=0.8, kernel=rbf ....................................\n",
      "[CV] ..................... C=0.8, gamma=0.8, kernel=rbf, total=   0.0s\n",
      "[CV] C=0.8, gamma=0.8, kernel=rbf ....................................\n",
      "[CV] ..................... C=0.8, gamma=0.8, kernel=rbf, total=   0.0s\n",
      "[CV] C=0.8, gamma=0.8, kernel=rbf ....................................\n",
      "[CV] ..................... C=0.8, gamma=0.8, kernel=rbf, total=   0.0s\n",
      "[CV] C=0.8, gamma=0.9, kernel=linear .................................\n",
      "[CV] .................. C=0.8, gamma=0.9, kernel=linear, total=   0.0s\n",
      "[CV] C=0.8, gamma=0.9, kernel=linear .................................\n",
      "[CV] .................. C=0.8, gamma=0.9, kernel=linear, total=   0.0s\n",
      "[CV] C=0.8, gamma=0.9, kernel=linear .................................\n",
      "[CV] .................. C=0.8, gamma=0.9, kernel=linear, total=   0.0s\n",
      "[CV] C=0.8, gamma=0.9, kernel=linear .................................\n",
      "[CV] .................. C=0.8, gamma=0.9, kernel=linear, total=   0.0s\n",
      "[CV] C=0.8, gamma=0.9, kernel=linear .................................\n",
      "[CV] .................. C=0.8, gamma=0.9, kernel=linear, total=   0.0s\n",
      "[CV] C=0.8, gamma=0.9, kernel=linear .................................\n",
      "[CV] .................. C=0.8, gamma=0.9, kernel=linear, total=   0.0s\n",
      "[CV] C=0.8, gamma=0.9, kernel=linear .................................\n",
      "[CV] .................. C=0.8, gamma=0.9, kernel=linear, total=   0.0s\n",
      "[CV] C=0.8, gamma=0.9, kernel=linear .................................\n",
      "[CV] .................. C=0.8, gamma=0.9, kernel=linear, total=   0.0s\n",
      "[CV] C=0.8, gamma=0.9, kernel=linear .................................\n",
      "[CV] .................. C=0.8, gamma=0.9, kernel=linear, total=   0.0s\n",
      "[CV] C=0.8, gamma=0.9, kernel=linear .................................\n",
      "[CV] .................. C=0.8, gamma=0.9, kernel=linear, total=   0.0s\n",
      "[CV] C=0.8, gamma=0.9, kernel=rbf ....................................\n",
      "[CV] ..................... C=0.8, gamma=0.9, kernel=rbf, total=   0.0s\n",
      "[CV] C=0.8, gamma=0.9, kernel=rbf ....................................\n",
      "[CV] ..................... C=0.8, gamma=0.9, kernel=rbf, total=   0.0s\n",
      "[CV] C=0.8, gamma=0.9, kernel=rbf ....................................\n",
      "[CV] ..................... C=0.8, gamma=0.9, kernel=rbf, total=   0.0s\n",
      "[CV] C=0.8, gamma=0.9, kernel=rbf ....................................\n",
      "[CV] ..................... C=0.8, gamma=0.9, kernel=rbf, total=   0.0s\n",
      "[CV] C=0.8, gamma=0.9, kernel=rbf ....................................\n",
      "[CV] ..................... C=0.8, gamma=0.9, kernel=rbf, total=   0.0s\n",
      "[CV] C=0.8, gamma=0.9, kernel=rbf ....................................\n",
      "[CV] ..................... C=0.8, gamma=0.9, kernel=rbf, total=   0.0s\n",
      "[CV] C=0.8, gamma=0.9, kernel=rbf ....................................\n",
      "[CV] ..................... C=0.8, gamma=0.9, kernel=rbf, total=   0.0s\n",
      "[CV] C=0.8, gamma=0.9, kernel=rbf ....................................\n",
      "[CV] ..................... C=0.8, gamma=0.9, kernel=rbf, total=   0.0s\n",
      "[CV] C=0.8, gamma=0.9, kernel=rbf ....................................\n",
      "[CV] ..................... C=0.8, gamma=0.9, kernel=rbf, total=   0.0s\n",
      "[CV] C=0.8, gamma=0.9, kernel=rbf ....................................\n",
      "[CV] ..................... C=0.8, gamma=0.9, kernel=rbf, total=   0.0s\n",
      "[CV] C=0.8, gamma=1.1, kernel=linear .................................\n",
      "[CV] .................. C=0.8, gamma=1.1, kernel=linear, total=   0.0s\n",
      "[CV] C=0.8, gamma=1.1, kernel=linear .................................\n",
      "[CV] .................. C=0.8, gamma=1.1, kernel=linear, total=   0.0s\n",
      "[CV] C=0.8, gamma=1.1, kernel=linear .................................\n",
      "[CV] .................. C=0.8, gamma=1.1, kernel=linear, total=   0.0s\n",
      "[CV] C=0.8, gamma=1.1, kernel=linear .................................\n",
      "[CV] .................. C=0.8, gamma=1.1, kernel=linear, total=   0.0s\n",
      "[CV] C=0.8, gamma=1.1, kernel=linear .................................\n",
      "[CV] .................. C=0.8, gamma=1.1, kernel=linear, total=   0.0s\n",
      "[CV] C=0.8, gamma=1.1, kernel=linear .................................\n",
      "[CV] .................. C=0.8, gamma=1.1, kernel=linear, total=   0.0s\n",
      "[CV] C=0.8, gamma=1.1, kernel=linear .................................\n",
      "[CV] .................. C=0.8, gamma=1.1, kernel=linear, total=   0.0s\n",
      "[CV] C=0.8, gamma=1.1, kernel=linear .................................\n",
      "[CV] .................. C=0.8, gamma=1.1, kernel=linear, total=   0.0s\n",
      "[CV] C=0.8, gamma=1.1, kernel=linear .................................\n",
      "[CV] .................. C=0.8, gamma=1.1, kernel=linear, total=   0.0s\n",
      "[CV] C=0.8, gamma=1.1, kernel=linear .................................\n",
      "[CV] .................. C=0.8, gamma=1.1, kernel=linear, total=   0.0s\n",
      "[CV] C=0.8, gamma=1.1, kernel=rbf ....................................\n",
      "[CV] ..................... C=0.8, gamma=1.1, kernel=rbf, total=   0.0s\n",
      "[CV] C=0.8, gamma=1.1, kernel=rbf ....................................\n",
      "[CV] ..................... C=0.8, gamma=1.1, kernel=rbf, total=   0.0s\n",
      "[CV] C=0.8, gamma=1.1, kernel=rbf ....................................\n"
     ]
    },
    {
     "name": "stdout",
     "output_type": "stream",
     "text": [
      "[CV] ..................... C=0.8, gamma=1.1, kernel=rbf, total=   0.0s\n",
      "[CV] C=0.8, gamma=1.1, kernel=rbf ....................................\n",
      "[CV] ..................... C=0.8, gamma=1.1, kernel=rbf, total=   0.0s\n",
      "[CV] C=0.8, gamma=1.1, kernel=rbf ....................................\n",
      "[CV] ..................... C=0.8, gamma=1.1, kernel=rbf, total=   0.0s\n",
      "[CV] C=0.8, gamma=1.1, kernel=rbf ....................................\n",
      "[CV] ..................... C=0.8, gamma=1.1, kernel=rbf, total=   0.0s\n",
      "[CV] C=0.8, gamma=1.1, kernel=rbf ....................................\n",
      "[CV] ..................... C=0.8, gamma=1.1, kernel=rbf, total=   0.0s\n",
      "[CV] C=0.8, gamma=1.1, kernel=rbf ....................................\n",
      "[CV] ..................... C=0.8, gamma=1.1, kernel=rbf, total=   0.0s\n",
      "[CV] C=0.8, gamma=1.1, kernel=rbf ....................................\n",
      "[CV] ..................... C=0.8, gamma=1.1, kernel=rbf, total=   0.0s\n",
      "[CV] C=0.8, gamma=1.1, kernel=rbf ....................................\n",
      "[CV] ..................... C=0.8, gamma=1.1, kernel=rbf, total=   0.0s\n",
      "[CV] C=0.8, gamma=1.2, kernel=linear .................................\n",
      "[CV] .................. C=0.8, gamma=1.2, kernel=linear, total=   0.0s\n",
      "[CV] C=0.8, gamma=1.2, kernel=linear .................................\n",
      "[CV] .................. C=0.8, gamma=1.2, kernel=linear, total=   0.0s\n",
      "[CV] C=0.8, gamma=1.2, kernel=linear .................................\n",
      "[CV] .................. C=0.8, gamma=1.2, kernel=linear, total=   0.0s\n",
      "[CV] C=0.8, gamma=1.2, kernel=linear .................................\n",
      "[CV] .................. C=0.8, gamma=1.2, kernel=linear, total=   0.0s\n",
      "[CV] C=0.8, gamma=1.2, kernel=linear .................................\n",
      "[CV] .................. C=0.8, gamma=1.2, kernel=linear, total=   0.0s\n",
      "[CV] C=0.8, gamma=1.2, kernel=linear .................................\n",
      "[CV] .................. C=0.8, gamma=1.2, kernel=linear, total=   0.0s\n",
      "[CV] C=0.8, gamma=1.2, kernel=linear .................................\n",
      "[CV] .................. C=0.8, gamma=1.2, kernel=linear, total=   0.0s\n",
      "[CV] C=0.8, gamma=1.2, kernel=linear .................................\n",
      "[CV] .................. C=0.8, gamma=1.2, kernel=linear, total=   0.0s\n",
      "[CV] C=0.8, gamma=1.2, kernel=linear .................................\n",
      "[CV] .................. C=0.8, gamma=1.2, kernel=linear, total=   0.0s\n",
      "[CV] C=0.8, gamma=1.2, kernel=linear .................................\n",
      "[CV] .................. C=0.8, gamma=1.2, kernel=linear, total=   0.0s\n",
      "[CV] C=0.8, gamma=1.2, kernel=rbf ....................................\n",
      "[CV] ..................... C=0.8, gamma=1.2, kernel=rbf, total=   0.0s\n",
      "[CV] C=0.8, gamma=1.2, kernel=rbf ....................................\n",
      "[CV] ..................... C=0.8, gamma=1.2, kernel=rbf, total=   0.0s\n",
      "[CV] C=0.8, gamma=1.2, kernel=rbf ....................................\n",
      "[CV] ..................... C=0.8, gamma=1.2, kernel=rbf, total=   0.0s\n",
      "[CV] C=0.8, gamma=1.2, kernel=rbf ....................................\n",
      "[CV] ..................... C=0.8, gamma=1.2, kernel=rbf, total=   0.0s\n",
      "[CV] C=0.8, gamma=1.2, kernel=rbf ....................................\n",
      "[CV] ..................... C=0.8, gamma=1.2, kernel=rbf, total=   0.0s\n",
      "[CV] C=0.8, gamma=1.2, kernel=rbf ....................................\n",
      "[CV] ..................... C=0.8, gamma=1.2, kernel=rbf, total=   0.0s\n",
      "[CV] C=0.8, gamma=1.2, kernel=rbf ....................................\n",
      "[CV] ..................... C=0.8, gamma=1.2, kernel=rbf, total=   0.0s\n",
      "[CV] C=0.8, gamma=1.2, kernel=rbf ....................................\n",
      "[CV] ..................... C=0.8, gamma=1.2, kernel=rbf, total=   0.0s\n",
      "[CV] C=0.8, gamma=1.2, kernel=rbf ....................................\n",
      "[CV] ..................... C=0.8, gamma=1.2, kernel=rbf, total=   0.0s\n",
      "[CV] C=0.8, gamma=1.2, kernel=rbf ....................................\n",
      "[CV] ..................... C=0.8, gamma=1.2, kernel=rbf, total=   0.0s\n",
      "[CV] C=0.8, gamma=1.3, kernel=linear .................................\n",
      "[CV] .................. C=0.8, gamma=1.3, kernel=linear, total=   0.0s\n",
      "[CV] C=0.8, gamma=1.3, kernel=linear .................................\n",
      "[CV] .................. C=0.8, gamma=1.3, kernel=linear, total=   0.0s\n",
      "[CV] C=0.8, gamma=1.3, kernel=linear .................................\n",
      "[CV] .................. C=0.8, gamma=1.3, kernel=linear, total=   0.0s\n",
      "[CV] C=0.8, gamma=1.3, kernel=linear .................................\n",
      "[CV] .................. C=0.8, gamma=1.3, kernel=linear, total=   0.0s\n",
      "[CV] C=0.8, gamma=1.3, kernel=linear .................................\n",
      "[CV] .................. C=0.8, gamma=1.3, kernel=linear, total=   0.0s\n",
      "[CV] C=0.8, gamma=1.3, kernel=linear .................................\n",
      "[CV] .................. C=0.8, gamma=1.3, kernel=linear, total=   0.0s\n",
      "[CV] C=0.8, gamma=1.3, kernel=linear .................................\n",
      "[CV] .................. C=0.8, gamma=1.3, kernel=linear, total=   0.0s\n",
      "[CV] C=0.8, gamma=1.3, kernel=linear .................................\n",
      "[CV] .................. C=0.8, gamma=1.3, kernel=linear, total=   0.0s\n",
      "[CV] C=0.8, gamma=1.3, kernel=linear .................................\n",
      "[CV] .................. C=0.8, gamma=1.3, kernel=linear, total=   0.0s\n",
      "[CV] C=0.8, gamma=1.3, kernel=linear .................................\n",
      "[CV] .................. C=0.8, gamma=1.3, kernel=linear, total=   0.0s\n",
      "[CV] C=0.8, gamma=1.3, kernel=rbf ....................................\n",
      "[CV] ..................... C=0.8, gamma=1.3, kernel=rbf, total=   0.0s\n",
      "[CV] C=0.8, gamma=1.3, kernel=rbf ....................................\n",
      "[CV] ..................... C=0.8, gamma=1.3, kernel=rbf, total=   0.0s\n",
      "[CV] C=0.8, gamma=1.3, kernel=rbf ....................................\n",
      "[CV] ..................... C=0.8, gamma=1.3, kernel=rbf, total=   0.0s\n",
      "[CV] C=0.8, gamma=1.3, kernel=rbf ....................................\n",
      "[CV] ..................... C=0.8, gamma=1.3, kernel=rbf, total=   0.0s\n",
      "[CV] C=0.8, gamma=1.3, kernel=rbf ....................................\n",
      "[CV] ..................... C=0.8, gamma=1.3, kernel=rbf, total=   0.0s\n",
      "[CV] C=0.8, gamma=1.3, kernel=rbf ....................................\n",
      "[CV] ..................... C=0.8, gamma=1.3, kernel=rbf, total=   0.0s\n",
      "[CV] C=0.8, gamma=1.3, kernel=rbf ....................................\n",
      "[CV] ..................... C=0.8, gamma=1.3, kernel=rbf, total=   0.0s\n",
      "[CV] C=0.8, gamma=1.3, kernel=rbf ....................................\n",
      "[CV] ..................... C=0.8, gamma=1.3, kernel=rbf, total=   0.0s\n",
      "[CV] C=0.8, gamma=1.3, kernel=rbf ....................................\n",
      "[CV] ..................... C=0.8, gamma=1.3, kernel=rbf, total=   0.0s\n",
      "[CV] C=0.8, gamma=1.3, kernel=rbf ....................................\n",
      "[CV] ..................... C=0.8, gamma=1.3, kernel=rbf, total=   0.0s\n",
      "[CV] C=0.8, gamma=1.4, kernel=linear .................................\n",
      "[CV] .................. C=0.8, gamma=1.4, kernel=linear, total=   0.0s\n",
      "[CV] C=0.8, gamma=1.4, kernel=linear .................................\n",
      "[CV] .................. C=0.8, gamma=1.4, kernel=linear, total=   0.0s\n",
      "[CV] C=0.8, gamma=1.4, kernel=linear .................................\n",
      "[CV] .................. C=0.8, gamma=1.4, kernel=linear, total=   0.0s\n",
      "[CV] C=0.8, gamma=1.4, kernel=linear .................................\n",
      "[CV] .................. C=0.8, gamma=1.4, kernel=linear, total=   0.0s\n",
      "[CV] C=0.8, gamma=1.4, kernel=linear .................................\n",
      "[CV] .................. C=0.8, gamma=1.4, kernel=linear, total=   0.0s\n",
      "[CV] C=0.8, gamma=1.4, kernel=linear .................................\n",
      "[CV] .................. C=0.8, gamma=1.4, kernel=linear, total=   0.0s\n",
      "[CV] C=0.8, gamma=1.4, kernel=linear .................................\n",
      "[CV] .................. C=0.8, gamma=1.4, kernel=linear, total=   0.0s\n",
      "[CV] C=0.8, gamma=1.4, kernel=linear .................................\n",
      "[CV] .................. C=0.8, gamma=1.4, kernel=linear, total=   0.0s\n",
      "[CV] C=0.8, gamma=1.4, kernel=linear .................................\n",
      "[CV] .................. C=0.8, gamma=1.4, kernel=linear, total=   0.0s\n",
      "[CV] C=0.8, gamma=1.4, kernel=linear .................................\n",
      "[CV] .................. C=0.8, gamma=1.4, kernel=linear, total=   0.0s\n",
      "[CV] C=0.8, gamma=1.4, kernel=rbf ....................................\n",
      "[CV] ..................... C=0.8, gamma=1.4, kernel=rbf, total=   0.0s\n",
      "[CV] C=0.8, gamma=1.4, kernel=rbf ....................................\n",
      "[CV] ..................... C=0.8, gamma=1.4, kernel=rbf, total=   0.0s\n",
      "[CV] C=0.8, gamma=1.4, kernel=rbf ....................................\n",
      "[CV] ..................... C=0.8, gamma=1.4, kernel=rbf, total=   0.0s\n",
      "[CV] C=0.8, gamma=1.4, kernel=rbf ....................................\n",
      "[CV] ..................... C=0.8, gamma=1.4, kernel=rbf, total=   0.0s\n",
      "[CV] C=0.8, gamma=1.4, kernel=rbf ....................................\n",
      "[CV] ..................... C=0.8, gamma=1.4, kernel=rbf, total=   0.0s\n",
      "[CV] C=0.8, gamma=1.4, kernel=rbf ....................................\n",
      "[CV] ..................... C=0.8, gamma=1.4, kernel=rbf, total=   0.0s\n",
      "[CV] C=0.8, gamma=1.4, kernel=rbf ....................................\n",
      "[CV] ..................... C=0.8, gamma=1.4, kernel=rbf, total=   0.0s\n",
      "[CV] C=0.8, gamma=1.4, kernel=rbf ....................................\n",
      "[CV] ..................... C=0.8, gamma=1.4, kernel=rbf, total=   0.0s\n",
      "[CV] C=0.8, gamma=1.4, kernel=rbf ....................................\n",
      "[CV] ..................... C=0.8, gamma=1.4, kernel=rbf, total=   0.0s\n",
      "[CV] C=0.8, gamma=1.4, kernel=rbf ....................................\n",
      "[CV] ..................... C=0.8, gamma=1.4, kernel=rbf, total=   0.0s\n",
      "[CV] C=0.9, gamma=0.1, kernel=linear .................................\n",
      "[CV] .................. C=0.9, gamma=0.1, kernel=linear, total=   0.0s\n",
      "[CV] C=0.9, gamma=0.1, kernel=linear .................................\n",
      "[CV] .................. C=0.9, gamma=0.1, kernel=linear, total=   0.0s\n",
      "[CV] C=0.9, gamma=0.1, kernel=linear .................................\n",
      "[CV] .................. C=0.9, gamma=0.1, kernel=linear, total=   0.0s\n",
      "[CV] C=0.9, gamma=0.1, kernel=linear .................................\n",
      "[CV] .................. C=0.9, gamma=0.1, kernel=linear, total=   0.0s\n",
      "[CV] C=0.9, gamma=0.1, kernel=linear .................................\n",
      "[CV] .................. C=0.9, gamma=0.1, kernel=linear, total=   0.0s\n",
      "[CV] C=0.9, gamma=0.1, kernel=linear .................................\n",
      "[CV] .................. C=0.9, gamma=0.1, kernel=linear, total=   0.0s\n",
      "[CV] C=0.9, gamma=0.1, kernel=linear .................................\n",
      "[CV] .................. C=0.9, gamma=0.1, kernel=linear, total=   0.0s\n",
      "[CV] C=0.9, gamma=0.1, kernel=linear .................................\n",
      "[CV] .................. C=0.9, gamma=0.1, kernel=linear, total=   0.0s\n",
      "[CV] C=0.9, gamma=0.1, kernel=linear .................................\n",
      "[CV] .................. C=0.9, gamma=0.1, kernel=linear, total=   0.0s\n",
      "[CV] C=0.9, gamma=0.1, kernel=linear .................................\n",
      "[CV] .................. C=0.9, gamma=0.1, kernel=linear, total=   0.0s\n",
      "[CV] C=0.9, gamma=0.1, kernel=rbf ....................................\n",
      "[CV] ..................... C=0.9, gamma=0.1, kernel=rbf, total=   0.0s\n",
      "[CV] C=0.9, gamma=0.1, kernel=rbf ....................................\n",
      "[CV] ..................... C=0.9, gamma=0.1, kernel=rbf, total=   0.0s\n",
      "[CV] C=0.9, gamma=0.1, kernel=rbf ....................................\n",
      "[CV] ..................... C=0.9, gamma=0.1, kernel=rbf, total=   0.0s\n",
      "[CV] C=0.9, gamma=0.1, kernel=rbf ....................................\n",
      "[CV] ..................... C=0.9, gamma=0.1, kernel=rbf, total=   0.0s\n",
      "[CV] C=0.9, gamma=0.1, kernel=rbf ....................................\n",
      "[CV] ..................... C=0.9, gamma=0.1, kernel=rbf, total=   0.0s\n",
      "[CV] C=0.9, gamma=0.1, kernel=rbf ....................................\n",
      "[CV] ..................... C=0.9, gamma=0.1, kernel=rbf, total=   0.0s\n",
      "[CV] C=0.9, gamma=0.1, kernel=rbf ....................................\n",
      "[CV] ..................... C=0.9, gamma=0.1, kernel=rbf, total=   0.0s\n",
      "[CV] C=0.9, gamma=0.1, kernel=rbf ....................................\n",
      "[CV] ..................... C=0.9, gamma=0.1, kernel=rbf, total=   0.0s\n",
      "[CV] C=0.9, gamma=0.1, kernel=rbf ....................................\n",
      "[CV] ..................... C=0.9, gamma=0.1, kernel=rbf, total=   0.0s\n",
      "[CV] C=0.9, gamma=0.1, kernel=rbf ....................................\n",
      "[CV] ..................... C=0.9, gamma=0.1, kernel=rbf, total=   0.0s\n",
      "[CV] C=0.9, gamma=0.8, kernel=linear .................................\n",
      "[CV] .................. C=0.9, gamma=0.8, kernel=linear, total=   0.0s\n",
      "[CV] C=0.9, gamma=0.8, kernel=linear .................................\n",
      "[CV] .................. C=0.9, gamma=0.8, kernel=linear, total=   0.0s\n",
      "[CV] C=0.9, gamma=0.8, kernel=linear .................................\n",
      "[CV] .................. C=0.9, gamma=0.8, kernel=linear, total=   0.0s\n",
      "[CV] C=0.9, gamma=0.8, kernel=linear .................................\n",
      "[CV] .................. C=0.9, gamma=0.8, kernel=linear, total=   0.0s\n",
      "[CV] C=0.9, gamma=0.8, kernel=linear .................................\n",
      "[CV] .................. C=0.9, gamma=0.8, kernel=linear, total=   0.0s\n",
      "[CV] C=0.9, gamma=0.8, kernel=linear .................................\n"
     ]
    },
    {
     "name": "stdout",
     "output_type": "stream",
     "text": [
      "[CV] .................. C=0.9, gamma=0.8, kernel=linear, total=   0.0s\n",
      "[CV] C=0.9, gamma=0.8, kernel=linear .................................\n",
      "[CV] .................. C=0.9, gamma=0.8, kernel=linear, total=   0.0s\n",
      "[CV] C=0.9, gamma=0.8, kernel=linear .................................\n",
      "[CV] .................. C=0.9, gamma=0.8, kernel=linear, total=   0.0s\n",
      "[CV] C=0.9, gamma=0.8, kernel=linear .................................\n",
      "[CV] .................. C=0.9, gamma=0.8, kernel=linear, total=   0.0s\n",
      "[CV] C=0.9, gamma=0.8, kernel=linear .................................\n",
      "[CV] .................. C=0.9, gamma=0.8, kernel=linear, total=   0.0s\n",
      "[CV] C=0.9, gamma=0.8, kernel=rbf ....................................\n",
      "[CV] ..................... C=0.9, gamma=0.8, kernel=rbf, total=   0.0s\n",
      "[CV] C=0.9, gamma=0.8, kernel=rbf ....................................\n",
      "[CV] ..................... C=0.9, gamma=0.8, kernel=rbf, total=   0.0s\n",
      "[CV] C=0.9, gamma=0.8, kernel=rbf ....................................\n",
      "[CV] ..................... C=0.9, gamma=0.8, kernel=rbf, total=   0.0s\n",
      "[CV] C=0.9, gamma=0.8, kernel=rbf ....................................\n",
      "[CV] ..................... C=0.9, gamma=0.8, kernel=rbf, total=   0.0s\n",
      "[CV] C=0.9, gamma=0.8, kernel=rbf ....................................\n",
      "[CV] ..................... C=0.9, gamma=0.8, kernel=rbf, total=   0.0s\n",
      "[CV] C=0.9, gamma=0.8, kernel=rbf ....................................\n",
      "[CV] ..................... C=0.9, gamma=0.8, kernel=rbf, total=   0.0s\n",
      "[CV] C=0.9, gamma=0.8, kernel=rbf ....................................\n",
      "[CV] ..................... C=0.9, gamma=0.8, kernel=rbf, total=   0.0s\n",
      "[CV] C=0.9, gamma=0.8, kernel=rbf ....................................\n",
      "[CV] ..................... C=0.9, gamma=0.8, kernel=rbf, total=   0.0s\n",
      "[CV] C=0.9, gamma=0.8, kernel=rbf ....................................\n",
      "[CV] ..................... C=0.9, gamma=0.8, kernel=rbf, total=   0.0s\n",
      "[CV] C=0.9, gamma=0.8, kernel=rbf ....................................\n",
      "[CV] ..................... C=0.9, gamma=0.8, kernel=rbf, total=   0.0s\n",
      "[CV] C=0.9, gamma=0.9, kernel=linear .................................\n",
      "[CV] .................. C=0.9, gamma=0.9, kernel=linear, total=   0.0s\n",
      "[CV] C=0.9, gamma=0.9, kernel=linear .................................\n",
      "[CV] .................. C=0.9, gamma=0.9, kernel=linear, total=   0.0s\n",
      "[CV] C=0.9, gamma=0.9, kernel=linear .................................\n",
      "[CV] .................. C=0.9, gamma=0.9, kernel=linear, total=   0.0s\n",
      "[CV] C=0.9, gamma=0.9, kernel=linear .................................\n",
      "[CV] .................. C=0.9, gamma=0.9, kernel=linear, total=   0.0s\n",
      "[CV] C=0.9, gamma=0.9, kernel=linear .................................\n",
      "[CV] .................. C=0.9, gamma=0.9, kernel=linear, total=   0.0s\n",
      "[CV] C=0.9, gamma=0.9, kernel=linear .................................\n",
      "[CV] .................. C=0.9, gamma=0.9, kernel=linear, total=   0.0s\n",
      "[CV] C=0.9, gamma=0.9, kernel=linear .................................\n",
      "[CV] .................. C=0.9, gamma=0.9, kernel=linear, total=   0.0s\n",
      "[CV] C=0.9, gamma=0.9, kernel=linear .................................\n",
      "[CV] .................. C=0.9, gamma=0.9, kernel=linear, total=   0.0s\n",
      "[CV] C=0.9, gamma=0.9, kernel=linear .................................\n",
      "[CV] .................. C=0.9, gamma=0.9, kernel=linear, total=   0.0s\n",
      "[CV] C=0.9, gamma=0.9, kernel=linear .................................\n",
      "[CV] .................. C=0.9, gamma=0.9, kernel=linear, total=   0.0s\n",
      "[CV] C=0.9, gamma=0.9, kernel=rbf ....................................\n",
      "[CV] ..................... C=0.9, gamma=0.9, kernel=rbf, total=   0.0s\n",
      "[CV] C=0.9, gamma=0.9, kernel=rbf ....................................\n",
      "[CV] ..................... C=0.9, gamma=0.9, kernel=rbf, total=   0.0s\n",
      "[CV] C=0.9, gamma=0.9, kernel=rbf ....................................\n",
      "[CV] ..................... C=0.9, gamma=0.9, kernel=rbf, total=   0.0s\n",
      "[CV] C=0.9, gamma=0.9, kernel=rbf ....................................\n",
      "[CV] ..................... C=0.9, gamma=0.9, kernel=rbf, total=   0.0s\n",
      "[CV] C=0.9, gamma=0.9, kernel=rbf ....................................\n",
      "[CV] ..................... C=0.9, gamma=0.9, kernel=rbf, total=   0.0s\n",
      "[CV] C=0.9, gamma=0.9, kernel=rbf ....................................\n",
      "[CV] ..................... C=0.9, gamma=0.9, kernel=rbf, total=   0.0s\n",
      "[CV] C=0.9, gamma=0.9, kernel=rbf ....................................\n",
      "[CV] ..................... C=0.9, gamma=0.9, kernel=rbf, total=   0.0s\n",
      "[CV] C=0.9, gamma=0.9, kernel=rbf ....................................\n",
      "[CV] ..................... C=0.9, gamma=0.9, kernel=rbf, total=   0.0s\n",
      "[CV] C=0.9, gamma=0.9, kernel=rbf ....................................\n",
      "[CV] ..................... C=0.9, gamma=0.9, kernel=rbf, total=   0.0s\n",
      "[CV] C=0.9, gamma=0.9, kernel=rbf ....................................\n",
      "[CV] ..................... C=0.9, gamma=0.9, kernel=rbf, total=   0.0s\n",
      "[CV] C=0.9, gamma=1.1, kernel=linear .................................\n",
      "[CV] .................. C=0.9, gamma=1.1, kernel=linear, total=   0.0s\n",
      "[CV] C=0.9, gamma=1.1, kernel=linear .................................\n",
      "[CV] .................. C=0.9, gamma=1.1, kernel=linear, total=   0.0s\n",
      "[CV] C=0.9, gamma=1.1, kernel=linear .................................\n",
      "[CV] .................. C=0.9, gamma=1.1, kernel=linear, total=   0.0s\n",
      "[CV] C=0.9, gamma=1.1, kernel=linear .................................\n",
      "[CV] .................. C=0.9, gamma=1.1, kernel=linear, total=   0.0s\n",
      "[CV] C=0.9, gamma=1.1, kernel=linear .................................\n",
      "[CV] .................. C=0.9, gamma=1.1, kernel=linear, total=   0.0s\n",
      "[CV] C=0.9, gamma=1.1, kernel=linear .................................\n",
      "[CV] .................. C=0.9, gamma=1.1, kernel=linear, total=   0.0s\n",
      "[CV] C=0.9, gamma=1.1, kernel=linear .................................\n",
      "[CV] .................. C=0.9, gamma=1.1, kernel=linear, total=   0.0s\n",
      "[CV] C=0.9, gamma=1.1, kernel=linear .................................\n",
      "[CV] .................. C=0.9, gamma=1.1, kernel=linear, total=   0.0s\n",
      "[CV] C=0.9, gamma=1.1, kernel=linear .................................\n",
      "[CV] .................. C=0.9, gamma=1.1, kernel=linear, total=   0.0s\n",
      "[CV] C=0.9, gamma=1.1, kernel=linear .................................\n",
      "[CV] .................. C=0.9, gamma=1.1, kernel=linear, total=   0.0s\n",
      "[CV] C=0.9, gamma=1.1, kernel=rbf ....................................\n",
      "[CV] ..................... C=0.9, gamma=1.1, kernel=rbf, total=   0.0s\n",
      "[CV] C=0.9, gamma=1.1, kernel=rbf ....................................\n",
      "[CV] ..................... C=0.9, gamma=1.1, kernel=rbf, total=   0.0s\n",
      "[CV] C=0.9, gamma=1.1, kernel=rbf ....................................\n",
      "[CV] ..................... C=0.9, gamma=1.1, kernel=rbf, total=   0.0s\n",
      "[CV] C=0.9, gamma=1.1, kernel=rbf ....................................\n",
      "[CV] ..................... C=0.9, gamma=1.1, kernel=rbf, total=   0.0s\n",
      "[CV] C=0.9, gamma=1.1, kernel=rbf ....................................\n",
      "[CV] ..................... C=0.9, gamma=1.1, kernel=rbf, total=   0.0s\n",
      "[CV] C=0.9, gamma=1.1, kernel=rbf ....................................\n",
      "[CV] ..................... C=0.9, gamma=1.1, kernel=rbf, total=   0.0s\n",
      "[CV] C=0.9, gamma=1.1, kernel=rbf ....................................\n",
      "[CV] ..................... C=0.9, gamma=1.1, kernel=rbf, total=   0.0s\n",
      "[CV] C=0.9, gamma=1.1, kernel=rbf ....................................\n",
      "[CV] ..................... C=0.9, gamma=1.1, kernel=rbf, total=   0.0s\n",
      "[CV] C=0.9, gamma=1.1, kernel=rbf ....................................\n",
      "[CV] ..................... C=0.9, gamma=1.1, kernel=rbf, total=   0.0s\n",
      "[CV] C=0.9, gamma=1.1, kernel=rbf ....................................\n",
      "[CV] ..................... C=0.9, gamma=1.1, kernel=rbf, total=   0.0s\n",
      "[CV] C=0.9, gamma=1.2, kernel=linear .................................\n",
      "[CV] .................. C=0.9, gamma=1.2, kernel=linear, total=   0.0s\n",
      "[CV] C=0.9, gamma=1.2, kernel=linear .................................\n",
      "[CV] .................. C=0.9, gamma=1.2, kernel=linear, total=   0.0s\n",
      "[CV] C=0.9, gamma=1.2, kernel=linear .................................\n",
      "[CV] .................. C=0.9, gamma=1.2, kernel=linear, total=   0.0s\n",
      "[CV] C=0.9, gamma=1.2, kernel=linear .................................\n",
      "[CV] .................. C=0.9, gamma=1.2, kernel=linear, total=   0.0s\n",
      "[CV] C=0.9, gamma=1.2, kernel=linear .................................\n",
      "[CV] .................. C=0.9, gamma=1.2, kernel=linear, total=   0.0s\n",
      "[CV] C=0.9, gamma=1.2, kernel=linear .................................\n",
      "[CV] .................. C=0.9, gamma=1.2, kernel=linear, total=   0.0s\n",
      "[CV] C=0.9, gamma=1.2, kernel=linear .................................\n"
     ]
    },
    {
     "name": "stdout",
     "output_type": "stream",
     "text": [
      "[CV] .................. C=0.9, gamma=1.2, kernel=linear, total=   0.0s\n",
      "[CV] C=0.9, gamma=1.2, kernel=linear .................................\n",
      "[CV] .................. C=0.9, gamma=1.2, kernel=linear, total=   0.0s\n",
      "[CV] C=0.9, gamma=1.2, kernel=linear .................................\n",
      "[CV] .................. C=0.9, gamma=1.2, kernel=linear, total=   0.0s\n",
      "[CV] C=0.9, gamma=1.2, kernel=linear .................................\n",
      "[CV] .................. C=0.9, gamma=1.2, kernel=linear, total=   0.0s\n",
      "[CV] C=0.9, gamma=1.2, kernel=rbf ....................................\n",
      "[CV] ..................... C=0.9, gamma=1.2, kernel=rbf, total=   0.0s\n",
      "[CV] C=0.9, gamma=1.2, kernel=rbf ....................................\n",
      "[CV] ..................... C=0.9, gamma=1.2, kernel=rbf, total=   0.0s\n",
      "[CV] C=0.9, gamma=1.2, kernel=rbf ....................................\n",
      "[CV] ..................... C=0.9, gamma=1.2, kernel=rbf, total=   0.0s\n",
      "[CV] C=0.9, gamma=1.2, kernel=rbf ....................................\n",
      "[CV] ..................... C=0.9, gamma=1.2, kernel=rbf, total=   0.0s\n",
      "[CV] C=0.9, gamma=1.2, kernel=rbf ....................................\n",
      "[CV] ..................... C=0.9, gamma=1.2, kernel=rbf, total=   0.0s\n",
      "[CV] C=0.9, gamma=1.2, kernel=rbf ....................................\n",
      "[CV] ..................... C=0.9, gamma=1.2, kernel=rbf, total=   0.0s\n",
      "[CV] C=0.9, gamma=1.2, kernel=rbf ....................................\n",
      "[CV] ..................... C=0.9, gamma=1.2, kernel=rbf, total=   0.0s\n",
      "[CV] C=0.9, gamma=1.2, kernel=rbf ....................................\n",
      "[CV] ..................... C=0.9, gamma=1.2, kernel=rbf, total=   0.0s\n",
      "[CV] C=0.9, gamma=1.2, kernel=rbf ....................................\n",
      "[CV] ..................... C=0.9, gamma=1.2, kernel=rbf, total=   0.0s\n",
      "[CV] C=0.9, gamma=1.2, kernel=rbf ....................................\n",
      "[CV] ..................... C=0.9, gamma=1.2, kernel=rbf, total=   0.0s\n",
      "[CV] C=0.9, gamma=1.3, kernel=linear .................................\n",
      "[CV] .................. C=0.9, gamma=1.3, kernel=linear, total=   0.0s\n",
      "[CV] C=0.9, gamma=1.3, kernel=linear .................................\n",
      "[CV] .................. C=0.9, gamma=1.3, kernel=linear, total=   0.0s\n",
      "[CV] C=0.9, gamma=1.3, kernel=linear .................................\n",
      "[CV] .................. C=0.9, gamma=1.3, kernel=linear, total=   0.0s\n",
      "[CV] C=0.9, gamma=1.3, kernel=linear .................................\n",
      "[CV] .................. C=0.9, gamma=1.3, kernel=linear, total=   0.0s\n",
      "[CV] C=0.9, gamma=1.3, kernel=linear .................................\n",
      "[CV] .................. C=0.9, gamma=1.3, kernel=linear, total=   0.0s\n",
      "[CV] C=0.9, gamma=1.3, kernel=linear .................................\n",
      "[CV] .................. C=0.9, gamma=1.3, kernel=linear, total=   0.0s\n",
      "[CV] C=0.9, gamma=1.3, kernel=linear .................................\n",
      "[CV] .................. C=0.9, gamma=1.3, kernel=linear, total=   0.0s\n",
      "[CV] C=0.9, gamma=1.3, kernel=linear .................................\n",
      "[CV] .................. C=0.9, gamma=1.3, kernel=linear, total=   0.0s\n",
      "[CV] C=0.9, gamma=1.3, kernel=linear .................................\n",
      "[CV] .................. C=0.9, gamma=1.3, kernel=linear, total=   0.0s\n",
      "[CV] C=0.9, gamma=1.3, kernel=linear .................................\n",
      "[CV] .................. C=0.9, gamma=1.3, kernel=linear, total=   0.0s\n",
      "[CV] C=0.9, gamma=1.3, kernel=rbf ....................................\n",
      "[CV] ..................... C=0.9, gamma=1.3, kernel=rbf, total=   0.0s\n",
      "[CV] C=0.9, gamma=1.3, kernel=rbf ....................................\n",
      "[CV] ..................... C=0.9, gamma=1.3, kernel=rbf, total=   0.0s\n",
      "[CV] C=0.9, gamma=1.3, kernel=rbf ....................................\n",
      "[CV] ..................... C=0.9, gamma=1.3, kernel=rbf, total=   0.0s\n",
      "[CV] C=0.9, gamma=1.3, kernel=rbf ....................................\n",
      "[CV] ..................... C=0.9, gamma=1.3, kernel=rbf, total=   0.0s\n",
      "[CV] C=0.9, gamma=1.3, kernel=rbf ....................................\n",
      "[CV] ..................... C=0.9, gamma=1.3, kernel=rbf, total=   0.0s\n",
      "[CV] C=0.9, gamma=1.3, kernel=rbf ....................................\n",
      "[CV] ..................... C=0.9, gamma=1.3, kernel=rbf, total=   0.0s\n",
      "[CV] C=0.9, gamma=1.3, kernel=rbf ....................................\n",
      "[CV] ..................... C=0.9, gamma=1.3, kernel=rbf, total=   0.0s\n",
      "[CV] C=0.9, gamma=1.3, kernel=rbf ....................................\n",
      "[CV] ..................... C=0.9, gamma=1.3, kernel=rbf, total=   0.0s\n",
      "[CV] C=0.9, gamma=1.3, kernel=rbf ....................................\n",
      "[CV] ..................... C=0.9, gamma=1.3, kernel=rbf, total=   0.0s\n",
      "[CV] C=0.9, gamma=1.3, kernel=rbf ....................................\n",
      "[CV] ..................... C=0.9, gamma=1.3, kernel=rbf, total=   0.0s\n",
      "[CV] C=0.9, gamma=1.4, kernel=linear .................................\n",
      "[CV] .................. C=0.9, gamma=1.4, kernel=linear, total=   0.0s\n",
      "[CV] C=0.9, gamma=1.4, kernel=linear .................................\n",
      "[CV] .................. C=0.9, gamma=1.4, kernel=linear, total=   0.0s\n",
      "[CV] C=0.9, gamma=1.4, kernel=linear .................................\n",
      "[CV] .................. C=0.9, gamma=1.4, kernel=linear, total=   0.0s\n",
      "[CV] C=0.9, gamma=1.4, kernel=linear .................................\n",
      "[CV] .................. C=0.9, gamma=1.4, kernel=linear, total=   0.0s\n",
      "[CV] C=0.9, gamma=1.4, kernel=linear .................................\n",
      "[CV] .................. C=0.9, gamma=1.4, kernel=linear, total=   0.0s\n",
      "[CV] C=0.9, gamma=1.4, kernel=linear .................................\n",
      "[CV] .................. C=0.9, gamma=1.4, kernel=linear, total=   0.0s\n",
      "[CV] C=0.9, gamma=1.4, kernel=linear .................................\n",
      "[CV] .................. C=0.9, gamma=1.4, kernel=linear, total=   0.0s\n",
      "[CV] C=0.9, gamma=1.4, kernel=linear .................................\n",
      "[CV] .................. C=0.9, gamma=1.4, kernel=linear, total=   0.0s\n",
      "[CV] C=0.9, gamma=1.4, kernel=linear .................................\n",
      "[CV] .................. C=0.9, gamma=1.4, kernel=linear, total=   0.0s\n",
      "[CV] C=0.9, gamma=1.4, kernel=linear .................................\n",
      "[CV] .................. C=0.9, gamma=1.4, kernel=linear, total=   0.0s\n",
      "[CV] C=0.9, gamma=1.4, kernel=rbf ....................................\n",
      "[CV] ..................... C=0.9, gamma=1.4, kernel=rbf, total=   0.0s\n",
      "[CV] C=0.9, gamma=1.4, kernel=rbf ....................................\n",
      "[CV] ..................... C=0.9, gamma=1.4, kernel=rbf, total=   0.0s\n",
      "[CV] C=0.9, gamma=1.4, kernel=rbf ....................................\n",
      "[CV] ..................... C=0.9, gamma=1.4, kernel=rbf, total=   0.0s\n",
      "[CV] C=0.9, gamma=1.4, kernel=rbf ....................................\n",
      "[CV] ..................... C=0.9, gamma=1.4, kernel=rbf, total=   0.0s\n",
      "[CV] C=0.9, gamma=1.4, kernel=rbf ....................................\n",
      "[CV] ..................... C=0.9, gamma=1.4, kernel=rbf, total=   0.0s\n",
      "[CV] C=0.9, gamma=1.4, kernel=rbf ....................................\n",
      "[CV] ..................... C=0.9, gamma=1.4, kernel=rbf, total=   0.0s\n",
      "[CV] C=0.9, gamma=1.4, kernel=rbf ....................................\n",
      "[CV] ..................... C=0.9, gamma=1.4, kernel=rbf, total=   0.0s\n",
      "[CV] C=0.9, gamma=1.4, kernel=rbf ....................................\n",
      "[CV] ..................... C=0.9, gamma=1.4, kernel=rbf, total=   0.0s\n",
      "[CV] C=0.9, gamma=1.4, kernel=rbf ....................................\n",
      "[CV] ..................... C=0.9, gamma=1.4, kernel=rbf, total=   0.0s\n",
      "[CV] C=0.9, gamma=1.4, kernel=rbf ....................................\n",
      "[CV] ..................... C=0.9, gamma=1.4, kernel=rbf, total=   0.0s\n",
      "[CV] C=1.1, gamma=0.1, kernel=linear .................................\n",
      "[CV] .................. C=1.1, gamma=0.1, kernel=linear, total=   0.0s\n",
      "[CV] C=1.1, gamma=0.1, kernel=linear .................................\n",
      "[CV] .................. C=1.1, gamma=0.1, kernel=linear, total=   0.0s\n",
      "[CV] C=1.1, gamma=0.1, kernel=linear .................................\n",
      "[CV] .................. C=1.1, gamma=0.1, kernel=linear, total=   0.0s\n",
      "[CV] C=1.1, gamma=0.1, kernel=linear .................................\n",
      "[CV] .................. C=1.1, gamma=0.1, kernel=linear, total=   0.0s\n",
      "[CV] C=1.1, gamma=0.1, kernel=linear .................................\n",
      "[CV] .................. C=1.1, gamma=0.1, kernel=linear, total=   0.0s\n",
      "[CV] C=1.1, gamma=0.1, kernel=linear .................................\n",
      "[CV] .................. C=1.1, gamma=0.1, kernel=linear, total=   0.0s\n",
      "[CV] C=1.1, gamma=0.1, kernel=linear .................................\n",
      "[CV] .................. C=1.1, gamma=0.1, kernel=linear, total=   0.0s\n",
      "[CV] C=1.1, gamma=0.1, kernel=linear .................................\n",
      "[CV] .................. C=1.1, gamma=0.1, kernel=linear, total=   0.0s\n",
      "[CV] C=1.1, gamma=0.1, kernel=linear .................................\n",
      "[CV] .................. C=1.1, gamma=0.1, kernel=linear, total=   0.0s\n",
      "[CV] C=1.1, gamma=0.1, kernel=linear .................................\n",
      "[CV] .................. C=1.1, gamma=0.1, kernel=linear, total=   0.0s\n",
      "[CV] C=1.1, gamma=0.1, kernel=rbf ....................................\n",
      "[CV] ..................... C=1.1, gamma=0.1, kernel=rbf, total=   0.0s\n",
      "[CV] C=1.1, gamma=0.1, kernel=rbf ....................................\n",
      "[CV] ..................... C=1.1, gamma=0.1, kernel=rbf, total=   0.0s\n",
      "[CV] C=1.1, gamma=0.1, kernel=rbf ....................................\n",
      "[CV] ..................... C=1.1, gamma=0.1, kernel=rbf, total=   0.0s\n",
      "[CV] C=1.1, gamma=0.1, kernel=rbf ....................................\n",
      "[CV] ..................... C=1.1, gamma=0.1, kernel=rbf, total=   0.0s\n",
      "[CV] C=1.1, gamma=0.1, kernel=rbf ....................................\n",
      "[CV] ..................... C=1.1, gamma=0.1, kernel=rbf, total=   0.0s\n",
      "[CV] C=1.1, gamma=0.1, kernel=rbf ....................................\n",
      "[CV] ..................... C=1.1, gamma=0.1, kernel=rbf, total=   0.0s\n",
      "[CV] C=1.1, gamma=0.1, kernel=rbf ....................................\n",
      "[CV] ..................... C=1.1, gamma=0.1, kernel=rbf, total=   0.0s\n",
      "[CV] C=1.1, gamma=0.1, kernel=rbf ....................................\n",
      "[CV] ..................... C=1.1, gamma=0.1, kernel=rbf, total=   0.0s\n",
      "[CV] C=1.1, gamma=0.1, kernel=rbf ....................................\n",
      "[CV] ..................... C=1.1, gamma=0.1, kernel=rbf, total=   0.0s\n",
      "[CV] C=1.1, gamma=0.1, kernel=rbf ....................................\n",
      "[CV] ..................... C=1.1, gamma=0.1, kernel=rbf, total=   0.0s\n",
      "[CV] C=1.1, gamma=0.8, kernel=linear .................................\n",
      "[CV] .................. C=1.1, gamma=0.8, kernel=linear, total=   0.0s\n",
      "[CV] C=1.1, gamma=0.8, kernel=linear .................................\n",
      "[CV] .................. C=1.1, gamma=0.8, kernel=linear, total=   0.0s\n",
      "[CV] C=1.1, gamma=0.8, kernel=linear .................................\n",
      "[CV] .................. C=1.1, gamma=0.8, kernel=linear, total=   0.0s\n",
      "[CV] C=1.1, gamma=0.8, kernel=linear .................................\n"
     ]
    },
    {
     "name": "stdout",
     "output_type": "stream",
     "text": [
      "[CV] .................. C=1.1, gamma=0.8, kernel=linear, total=   0.0s\n",
      "[CV] C=1.1, gamma=0.8, kernel=linear .................................\n",
      "[CV] .................. C=1.1, gamma=0.8, kernel=linear, total=   0.0s\n",
      "[CV] C=1.1, gamma=0.8, kernel=linear .................................\n",
      "[CV] .................. C=1.1, gamma=0.8, kernel=linear, total=   0.0s\n",
      "[CV] C=1.1, gamma=0.8, kernel=linear .................................\n",
      "[CV] .................. C=1.1, gamma=0.8, kernel=linear, total=   0.0s\n",
      "[CV] C=1.1, gamma=0.8, kernel=linear .................................\n",
      "[CV] .................. C=1.1, gamma=0.8, kernel=linear, total=   0.0s\n",
      "[CV] C=1.1, gamma=0.8, kernel=linear .................................\n",
      "[CV] .................. C=1.1, gamma=0.8, kernel=linear, total=   0.0s\n",
      "[CV] C=1.1, gamma=0.8, kernel=linear .................................\n",
      "[CV] .................. C=1.1, gamma=0.8, kernel=linear, total=   0.0s\n",
      "[CV] C=1.1, gamma=0.8, kernel=rbf ....................................\n",
      "[CV] ..................... C=1.1, gamma=0.8, kernel=rbf, total=   0.0s\n",
      "[CV] C=1.1, gamma=0.8, kernel=rbf ....................................\n",
      "[CV] ..................... C=1.1, gamma=0.8, kernel=rbf, total=   0.0s\n",
      "[CV] C=1.1, gamma=0.8, kernel=rbf ....................................\n",
      "[CV] ..................... C=1.1, gamma=0.8, kernel=rbf, total=   0.0s\n",
      "[CV] C=1.1, gamma=0.8, kernel=rbf ....................................\n",
      "[CV] ..................... C=1.1, gamma=0.8, kernel=rbf, total=   0.0s\n",
      "[CV] C=1.1, gamma=0.8, kernel=rbf ....................................\n",
      "[CV] ..................... C=1.1, gamma=0.8, kernel=rbf, total=   0.0s\n",
      "[CV] C=1.1, gamma=0.8, kernel=rbf ....................................\n",
      "[CV] ..................... C=1.1, gamma=0.8, kernel=rbf, total=   0.0s\n",
      "[CV] C=1.1, gamma=0.8, kernel=rbf ....................................\n",
      "[CV] ..................... C=1.1, gamma=0.8, kernel=rbf, total=   0.0s\n",
      "[CV] C=1.1, gamma=0.8, kernel=rbf ....................................\n",
      "[CV] ..................... C=1.1, gamma=0.8, kernel=rbf, total=   0.0s\n",
      "[CV] C=1.1, gamma=0.8, kernel=rbf ....................................\n",
      "[CV] ..................... C=1.1, gamma=0.8, kernel=rbf, total=   0.0s\n",
      "[CV] C=1.1, gamma=0.8, kernel=rbf ....................................\n",
      "[CV] ..................... C=1.1, gamma=0.8, kernel=rbf, total=   0.0s\n",
      "[CV] C=1.1, gamma=0.9, kernel=linear .................................\n",
      "[CV] .................. C=1.1, gamma=0.9, kernel=linear, total=   0.0s\n",
      "[CV] C=1.1, gamma=0.9, kernel=linear .................................\n",
      "[CV] .................. C=1.1, gamma=0.9, kernel=linear, total=   0.0s\n",
      "[CV] C=1.1, gamma=0.9, kernel=linear .................................\n",
      "[CV] .................. C=1.1, gamma=0.9, kernel=linear, total=   0.0s\n",
      "[CV] C=1.1, gamma=0.9, kernel=linear .................................\n",
      "[CV] .................. C=1.1, gamma=0.9, kernel=linear, total=   0.0s\n",
      "[CV] C=1.1, gamma=0.9, kernel=linear .................................\n",
      "[CV] .................. C=1.1, gamma=0.9, kernel=linear, total=   0.0s\n",
      "[CV] C=1.1, gamma=0.9, kernel=linear .................................\n",
      "[CV] .................. C=1.1, gamma=0.9, kernel=linear, total=   0.0s\n",
      "[CV] C=1.1, gamma=0.9, kernel=linear .................................\n",
      "[CV] .................. C=1.1, gamma=0.9, kernel=linear, total=   0.0s\n",
      "[CV] C=1.1, gamma=0.9, kernel=linear .................................\n",
      "[CV] .................. C=1.1, gamma=0.9, kernel=linear, total=   0.0s\n",
      "[CV] C=1.1, gamma=0.9, kernel=linear .................................\n",
      "[CV] .................. C=1.1, gamma=0.9, kernel=linear, total=   0.0s\n",
      "[CV] C=1.1, gamma=0.9, kernel=linear .................................\n",
      "[CV] .................. C=1.1, gamma=0.9, kernel=linear, total=   0.0s\n",
      "[CV] C=1.1, gamma=0.9, kernel=rbf ....................................\n",
      "[CV] ..................... C=1.1, gamma=0.9, kernel=rbf, total=   0.0s\n",
      "[CV] C=1.1, gamma=0.9, kernel=rbf ....................................\n",
      "[CV] ..................... C=1.1, gamma=0.9, kernel=rbf, total=   0.0s\n",
      "[CV] C=1.1, gamma=0.9, kernel=rbf ....................................\n",
      "[CV] ..................... C=1.1, gamma=0.9, kernel=rbf, total=   0.0s\n",
      "[CV] C=1.1, gamma=0.9, kernel=rbf ....................................\n",
      "[CV] ..................... C=1.1, gamma=0.9, kernel=rbf, total=   0.0s\n",
      "[CV] C=1.1, gamma=0.9, kernel=rbf ....................................\n",
      "[CV] ..................... C=1.1, gamma=0.9, kernel=rbf, total=   0.0s\n",
      "[CV] C=1.1, gamma=0.9, kernel=rbf ....................................\n",
      "[CV] ..................... C=1.1, gamma=0.9, kernel=rbf, total=   0.0s\n",
      "[CV] C=1.1, gamma=0.9, kernel=rbf ....................................\n",
      "[CV] ..................... C=1.1, gamma=0.9, kernel=rbf, total=   0.0s\n",
      "[CV] C=1.1, gamma=0.9, kernel=rbf ....................................\n",
      "[CV] ..................... C=1.1, gamma=0.9, kernel=rbf, total=   0.0s\n",
      "[CV] C=1.1, gamma=0.9, kernel=rbf ....................................\n",
      "[CV] ..................... C=1.1, gamma=0.9, kernel=rbf, total=   0.0s\n",
      "[CV] C=1.1, gamma=0.9, kernel=rbf ....................................\n",
      "[CV] ..................... C=1.1, gamma=0.9, kernel=rbf, total=   0.0s\n",
      "[CV] C=1.1, gamma=1.1, kernel=linear .................................\n",
      "[CV] .................. C=1.1, gamma=1.1, kernel=linear, total=   0.0s\n",
      "[CV] C=1.1, gamma=1.1, kernel=linear .................................\n",
      "[CV] .................. C=1.1, gamma=1.1, kernel=linear, total=   0.0s\n",
      "[CV] C=1.1, gamma=1.1, kernel=linear .................................\n",
      "[CV] .................. C=1.1, gamma=1.1, kernel=linear, total=   0.0s\n",
      "[CV] C=1.1, gamma=1.1, kernel=linear .................................\n",
      "[CV] .................. C=1.1, gamma=1.1, kernel=linear, total=   0.0s\n",
      "[CV] C=1.1, gamma=1.1, kernel=linear .................................\n",
      "[CV] .................. C=1.1, gamma=1.1, kernel=linear, total=   0.0s\n",
      "[CV] C=1.1, gamma=1.1, kernel=linear .................................\n",
      "[CV] .................. C=1.1, gamma=1.1, kernel=linear, total=   0.0s\n",
      "[CV] C=1.1, gamma=1.1, kernel=linear .................................\n",
      "[CV] .................. C=1.1, gamma=1.1, kernel=linear, total=   0.0s\n",
      "[CV] C=1.1, gamma=1.1, kernel=linear .................................\n",
      "[CV] .................. C=1.1, gamma=1.1, kernel=linear, total=   0.0s\n",
      "[CV] C=1.1, gamma=1.1, kernel=linear .................................\n",
      "[CV] .................. C=1.1, gamma=1.1, kernel=linear, total=   0.0s\n",
      "[CV] C=1.1, gamma=1.1, kernel=linear .................................\n",
      "[CV] .................. C=1.1, gamma=1.1, kernel=linear, total=   0.0s\n",
      "[CV] C=1.1, gamma=1.1, kernel=rbf ....................................\n",
      "[CV] ..................... C=1.1, gamma=1.1, kernel=rbf, total=   0.0s\n",
      "[CV] C=1.1, gamma=1.1, kernel=rbf ....................................\n",
      "[CV] ..................... C=1.1, gamma=1.1, kernel=rbf, total=   0.0s\n",
      "[CV] C=1.1, gamma=1.1, kernel=rbf ....................................\n",
      "[CV] ..................... C=1.1, gamma=1.1, kernel=rbf, total=   0.0s\n",
      "[CV] C=1.1, gamma=1.1, kernel=rbf ....................................\n",
      "[CV] ..................... C=1.1, gamma=1.1, kernel=rbf, total=   0.0s\n",
      "[CV] C=1.1, gamma=1.1, kernel=rbf ....................................\n",
      "[CV] ..................... C=1.1, gamma=1.1, kernel=rbf, total=   0.0s\n",
      "[CV] C=1.1, gamma=1.1, kernel=rbf ....................................\n",
      "[CV] ..................... C=1.1, gamma=1.1, kernel=rbf, total=   0.0s\n",
      "[CV] C=1.1, gamma=1.1, kernel=rbf ....................................\n",
      "[CV] ..................... C=1.1, gamma=1.1, kernel=rbf, total=   0.0s\n",
      "[CV] C=1.1, gamma=1.1, kernel=rbf ....................................\n",
      "[CV] ..................... C=1.1, gamma=1.1, kernel=rbf, total=   0.0s\n",
      "[CV] C=1.1, gamma=1.1, kernel=rbf ....................................\n",
      "[CV] ..................... C=1.1, gamma=1.1, kernel=rbf, total=   0.0s\n",
      "[CV] C=1.1, gamma=1.1, kernel=rbf ....................................\n",
      "[CV] ..................... C=1.1, gamma=1.1, kernel=rbf, total=   0.0s\n",
      "[CV] C=1.1, gamma=1.2, kernel=linear .................................\n",
      "[CV] .................. C=1.1, gamma=1.2, kernel=linear, total=   0.0s\n",
      "[CV] C=1.1, gamma=1.2, kernel=linear .................................\n",
      "[CV] .................. C=1.1, gamma=1.2, kernel=linear, total=   0.0s\n",
      "[CV] C=1.1, gamma=1.2, kernel=linear .................................\n",
      "[CV] .................. C=1.1, gamma=1.2, kernel=linear, total=   0.0s\n",
      "[CV] C=1.1, gamma=1.2, kernel=linear .................................\n",
      "[CV] .................. C=1.1, gamma=1.2, kernel=linear, total=   0.0s\n",
      "[CV] C=1.1, gamma=1.2, kernel=linear .................................\n",
      "[CV] .................. C=1.1, gamma=1.2, kernel=linear, total=   0.0s\n",
      "[CV] C=1.1, gamma=1.2, kernel=linear .................................\n",
      "[CV] .................. C=1.1, gamma=1.2, kernel=linear, total=   0.0s\n",
      "[CV] C=1.1, gamma=1.2, kernel=linear .................................\n",
      "[CV] .................. C=1.1, gamma=1.2, kernel=linear, total=   0.0s\n",
      "[CV] C=1.1, gamma=1.2, kernel=linear .................................\n",
      "[CV] .................. C=1.1, gamma=1.2, kernel=linear, total=   0.0s\n",
      "[CV] C=1.1, gamma=1.2, kernel=linear .................................\n",
      "[CV] .................. C=1.1, gamma=1.2, kernel=linear, total=   0.0s\n",
      "[CV] C=1.1, gamma=1.2, kernel=linear .................................\n",
      "[CV] .................. C=1.1, gamma=1.2, kernel=linear, total=   0.0s\n",
      "[CV] C=1.1, gamma=1.2, kernel=rbf ....................................\n",
      "[CV] ..................... C=1.1, gamma=1.2, kernel=rbf, total=   0.0s\n",
      "[CV] C=1.1, gamma=1.2, kernel=rbf ....................................\n",
      "[CV] ..................... C=1.1, gamma=1.2, kernel=rbf, total=   0.0s\n",
      "[CV] C=1.1, gamma=1.2, kernel=rbf ....................................\n",
      "[CV] ..................... C=1.1, gamma=1.2, kernel=rbf, total=   0.0s\n",
      "[CV] C=1.1, gamma=1.2, kernel=rbf ....................................\n",
      "[CV] ..................... C=1.1, gamma=1.2, kernel=rbf, total=   0.0s\n",
      "[CV] C=1.1, gamma=1.2, kernel=rbf ....................................\n",
      "[CV] ..................... C=1.1, gamma=1.2, kernel=rbf, total=   0.0s\n",
      "[CV] C=1.1, gamma=1.2, kernel=rbf ....................................\n",
      "[CV] ..................... C=1.1, gamma=1.2, kernel=rbf, total=   0.0s\n",
      "[CV] C=1.1, gamma=1.2, kernel=rbf ....................................\n",
      "[CV] ..................... C=1.1, gamma=1.2, kernel=rbf, total=   0.0s\n",
      "[CV] C=1.1, gamma=1.2, kernel=rbf ....................................\n",
      "[CV] ..................... C=1.1, gamma=1.2, kernel=rbf, total=   0.0s\n",
      "[CV] C=1.1, gamma=1.2, kernel=rbf ....................................\n",
      "[CV] ..................... C=1.1, gamma=1.2, kernel=rbf, total=   0.0s\n",
      "[CV] C=1.1, gamma=1.2, kernel=rbf ....................................\n",
      "[CV] ..................... C=1.1, gamma=1.2, kernel=rbf, total=   0.0s\n",
      "[CV] C=1.1, gamma=1.3, kernel=linear .................................\n",
      "[CV] .................. C=1.1, gamma=1.3, kernel=linear, total=   0.0s\n",
      "[CV] C=1.1, gamma=1.3, kernel=linear .................................\n",
      "[CV] .................. C=1.1, gamma=1.3, kernel=linear, total=   0.0s\n",
      "[CV] C=1.1, gamma=1.3, kernel=linear .................................\n",
      "[CV] .................. C=1.1, gamma=1.3, kernel=linear, total=   0.0s\n",
      "[CV] C=1.1, gamma=1.3, kernel=linear .................................\n",
      "[CV] .................. C=1.1, gamma=1.3, kernel=linear, total=   0.0s\n",
      "[CV] C=1.1, gamma=1.3, kernel=linear .................................\n",
      "[CV] .................. C=1.1, gamma=1.3, kernel=linear, total=   0.0s\n",
      "[CV] C=1.1, gamma=1.3, kernel=linear .................................\n",
      "[CV] .................. C=1.1, gamma=1.3, kernel=linear, total=   0.0s\n",
      "[CV] C=1.1, gamma=1.3, kernel=linear .................................\n",
      "[CV] .................. C=1.1, gamma=1.3, kernel=linear, total=   0.0s\n",
      "[CV] C=1.1, gamma=1.3, kernel=linear .................................\n",
      "[CV] .................. C=1.1, gamma=1.3, kernel=linear, total=   0.0s\n",
      "[CV] C=1.1, gamma=1.3, kernel=linear .................................\n",
      "[CV] .................. C=1.1, gamma=1.3, kernel=linear, total=   0.0s\n",
      "[CV] C=1.1, gamma=1.3, kernel=linear .................................\n",
      "[CV] .................. C=1.1, gamma=1.3, kernel=linear, total=   0.0s\n",
      "[CV] C=1.1, gamma=1.3, kernel=rbf ....................................\n",
      "[CV] ..................... C=1.1, gamma=1.3, kernel=rbf, total=   0.0s\n",
      "[CV] C=1.1, gamma=1.3, kernel=rbf ....................................\n",
      "[CV] ..................... C=1.1, gamma=1.3, kernel=rbf, total=   0.0s\n",
      "[CV] C=1.1, gamma=1.3, kernel=rbf ....................................\n",
      "[CV] ..................... C=1.1, gamma=1.3, kernel=rbf, total=   0.0s\n",
      "[CV] C=1.1, gamma=1.3, kernel=rbf ....................................\n",
      "[CV] ..................... C=1.1, gamma=1.3, kernel=rbf, total=   0.0s\n",
      "[CV] C=1.1, gamma=1.3, kernel=rbf ....................................\n",
      "[CV] ..................... C=1.1, gamma=1.3, kernel=rbf, total=   0.0s\n",
      "[CV] C=1.1, gamma=1.3, kernel=rbf ....................................\n",
      "[CV] ..................... C=1.1, gamma=1.3, kernel=rbf, total=   0.0s\n",
      "[CV] C=1.1, gamma=1.3, kernel=rbf ....................................\n",
      "[CV] ..................... C=1.1, gamma=1.3, kernel=rbf, total=   0.0s\n",
      "[CV] C=1.1, gamma=1.3, kernel=rbf ....................................\n",
      "[CV] ..................... C=1.1, gamma=1.3, kernel=rbf, total=   0.0s\n",
      "[CV] C=1.1, gamma=1.3, kernel=rbf ....................................\n"
     ]
    },
    {
     "name": "stdout",
     "output_type": "stream",
     "text": [
      "[CV] ..................... C=1.1, gamma=1.3, kernel=rbf, total=   0.0s\n",
      "[CV] C=1.1, gamma=1.3, kernel=rbf ....................................\n",
      "[CV] ..................... C=1.1, gamma=1.3, kernel=rbf, total=   0.0s\n",
      "[CV] C=1.1, gamma=1.4, kernel=linear .................................\n",
      "[CV] .................. C=1.1, gamma=1.4, kernel=linear, total=   0.0s\n",
      "[CV] C=1.1, gamma=1.4, kernel=linear .................................\n",
      "[CV] .................. C=1.1, gamma=1.4, kernel=linear, total=   0.0s\n",
      "[CV] C=1.1, gamma=1.4, kernel=linear .................................\n",
      "[CV] .................. C=1.1, gamma=1.4, kernel=linear, total=   0.0s\n",
      "[CV] C=1.1, gamma=1.4, kernel=linear .................................\n",
      "[CV] .................. C=1.1, gamma=1.4, kernel=linear, total=   0.0s\n",
      "[CV] C=1.1, gamma=1.4, kernel=linear .................................\n",
      "[CV] .................. C=1.1, gamma=1.4, kernel=linear, total=   0.0s\n",
      "[CV] C=1.1, gamma=1.4, kernel=linear .................................\n",
      "[CV] .................. C=1.1, gamma=1.4, kernel=linear, total=   0.0s\n",
      "[CV] C=1.1, gamma=1.4, kernel=linear .................................\n",
      "[CV] .................. C=1.1, gamma=1.4, kernel=linear, total=   0.0s\n",
      "[CV] C=1.1, gamma=1.4, kernel=linear .................................\n",
      "[CV] .................. C=1.1, gamma=1.4, kernel=linear, total=   0.0s\n",
      "[CV] C=1.1, gamma=1.4, kernel=linear .................................\n",
      "[CV] .................. C=1.1, gamma=1.4, kernel=linear, total=   0.0s\n",
      "[CV] C=1.1, gamma=1.4, kernel=linear .................................\n",
      "[CV] .................. C=1.1, gamma=1.4, kernel=linear, total=   0.0s\n",
      "[CV] C=1.1, gamma=1.4, kernel=rbf ....................................\n",
      "[CV] ..................... C=1.1, gamma=1.4, kernel=rbf, total=   0.0s\n",
      "[CV] C=1.1, gamma=1.4, kernel=rbf ....................................\n",
      "[CV] ..................... C=1.1, gamma=1.4, kernel=rbf, total=   0.0s\n",
      "[CV] C=1.1, gamma=1.4, kernel=rbf ....................................\n",
      "[CV] ..................... C=1.1, gamma=1.4, kernel=rbf, total=   0.0s\n",
      "[CV] C=1.1, gamma=1.4, kernel=rbf ....................................\n",
      "[CV] ..................... C=1.1, gamma=1.4, kernel=rbf, total=   0.0s\n",
      "[CV] C=1.1, gamma=1.4, kernel=rbf ....................................\n",
      "[CV] ..................... C=1.1, gamma=1.4, kernel=rbf, total=   0.0s\n",
      "[CV] C=1.1, gamma=1.4, kernel=rbf ....................................\n",
      "[CV] ..................... C=1.1, gamma=1.4, kernel=rbf, total=   0.0s\n",
      "[CV] C=1.1, gamma=1.4, kernel=rbf ....................................\n",
      "[CV] ..................... C=1.1, gamma=1.4, kernel=rbf, total=   0.0s\n",
      "[CV] C=1.1, gamma=1.4, kernel=rbf ....................................\n",
      "[CV] ..................... C=1.1, gamma=1.4, kernel=rbf, total=   0.0s\n",
      "[CV] C=1.1, gamma=1.4, kernel=rbf ....................................\n",
      "[CV] ..................... C=1.1, gamma=1.4, kernel=rbf, total=   0.0s\n",
      "[CV] C=1.1, gamma=1.4, kernel=rbf ....................................\n",
      "[CV] ..................... C=1.1, gamma=1.4, kernel=rbf, total=   0.0s\n",
      "[CV] C=1.2, gamma=0.1, kernel=linear .................................\n",
      "[CV] .................. C=1.2, gamma=0.1, kernel=linear, total=   0.0s\n",
      "[CV] C=1.2, gamma=0.1, kernel=linear .................................\n",
      "[CV] .................. C=1.2, gamma=0.1, kernel=linear, total=   0.0s\n",
      "[CV] C=1.2, gamma=0.1, kernel=linear .................................\n",
      "[CV] .................. C=1.2, gamma=0.1, kernel=linear, total=   0.0s\n",
      "[CV] C=1.2, gamma=0.1, kernel=linear .................................\n",
      "[CV] .................. C=1.2, gamma=0.1, kernel=linear, total=   0.0s\n",
      "[CV] C=1.2, gamma=0.1, kernel=linear .................................\n",
      "[CV] .................. C=1.2, gamma=0.1, kernel=linear, total=   0.0s\n",
      "[CV] C=1.2, gamma=0.1, kernel=linear .................................\n",
      "[CV] .................. C=1.2, gamma=0.1, kernel=linear, total=   0.0s\n",
      "[CV] C=1.2, gamma=0.1, kernel=linear .................................\n",
      "[CV] .................. C=1.2, gamma=0.1, kernel=linear, total=   0.0s\n",
      "[CV] C=1.2, gamma=0.1, kernel=linear .................................\n",
      "[CV] .................. C=1.2, gamma=0.1, kernel=linear, total=   0.0s\n",
      "[CV] C=1.2, gamma=0.1, kernel=linear .................................\n",
      "[CV] .................. C=1.2, gamma=0.1, kernel=linear, total=   0.0s\n",
      "[CV] C=1.2, gamma=0.1, kernel=linear .................................\n",
      "[CV] .................. C=1.2, gamma=0.1, kernel=linear, total=   0.0s\n",
      "[CV] C=1.2, gamma=0.1, kernel=rbf ....................................\n",
      "[CV] ..................... C=1.2, gamma=0.1, kernel=rbf, total=   0.0s\n",
      "[CV] C=1.2, gamma=0.1, kernel=rbf ....................................\n",
      "[CV] ..................... C=1.2, gamma=0.1, kernel=rbf, total=   0.0s\n",
      "[CV] C=1.2, gamma=0.1, kernel=rbf ....................................\n",
      "[CV] ..................... C=1.2, gamma=0.1, kernel=rbf, total=   0.0s\n",
      "[CV] C=1.2, gamma=0.1, kernel=rbf ....................................\n",
      "[CV] ..................... C=1.2, gamma=0.1, kernel=rbf, total=   0.0s\n",
      "[CV] C=1.2, gamma=0.1, kernel=rbf ....................................\n",
      "[CV] ..................... C=1.2, gamma=0.1, kernel=rbf, total=   0.0s\n",
      "[CV] C=1.2, gamma=0.1, kernel=rbf ....................................\n",
      "[CV] ..................... C=1.2, gamma=0.1, kernel=rbf, total=   0.0s\n",
      "[CV] C=1.2, gamma=0.1, kernel=rbf ....................................\n",
      "[CV] ..................... C=1.2, gamma=0.1, kernel=rbf, total=   0.0s\n",
      "[CV] C=1.2, gamma=0.1, kernel=rbf ....................................\n",
      "[CV] ..................... C=1.2, gamma=0.1, kernel=rbf, total=   0.0s\n",
      "[CV] C=1.2, gamma=0.1, kernel=rbf ....................................\n",
      "[CV] ..................... C=1.2, gamma=0.1, kernel=rbf, total=   0.0s\n",
      "[CV] C=1.2, gamma=0.1, kernel=rbf ....................................\n",
      "[CV] ..................... C=1.2, gamma=0.1, kernel=rbf, total=   0.0s\n",
      "[CV] C=1.2, gamma=0.8, kernel=linear .................................\n",
      "[CV] .................. C=1.2, gamma=0.8, kernel=linear, total=   0.0s\n",
      "[CV] C=1.2, gamma=0.8, kernel=linear .................................\n",
      "[CV] .................. C=1.2, gamma=0.8, kernel=linear, total=   0.0s\n",
      "[CV] C=1.2, gamma=0.8, kernel=linear .................................\n",
      "[CV] .................. C=1.2, gamma=0.8, kernel=linear, total=   0.0s\n",
      "[CV] C=1.2, gamma=0.8, kernel=linear .................................\n",
      "[CV] .................. C=1.2, gamma=0.8, kernel=linear, total=   0.0s\n",
      "[CV] C=1.2, gamma=0.8, kernel=linear .................................\n",
      "[CV] .................. C=1.2, gamma=0.8, kernel=linear, total=   0.0s\n",
      "[CV] C=1.2, gamma=0.8, kernel=linear .................................\n",
      "[CV] .................. C=1.2, gamma=0.8, kernel=linear, total=   0.0s\n",
      "[CV] C=1.2, gamma=0.8, kernel=linear .................................\n",
      "[CV] .................. C=1.2, gamma=0.8, kernel=linear, total=   0.0s\n",
      "[CV] C=1.2, gamma=0.8, kernel=linear .................................\n",
      "[CV] .................. C=1.2, gamma=0.8, kernel=linear, total=   0.0s\n",
      "[CV] C=1.2, gamma=0.8, kernel=linear .................................\n",
      "[CV] .................. C=1.2, gamma=0.8, kernel=linear, total=   0.0s\n",
      "[CV] C=1.2, gamma=0.8, kernel=linear .................................\n",
      "[CV] .................. C=1.2, gamma=0.8, kernel=linear, total=   0.0s\n",
      "[CV] C=1.2, gamma=0.8, kernel=rbf ....................................\n",
      "[CV] ..................... C=1.2, gamma=0.8, kernel=rbf, total=   0.0s\n",
      "[CV] C=1.2, gamma=0.8, kernel=rbf ....................................\n",
      "[CV] ..................... C=1.2, gamma=0.8, kernel=rbf, total=   0.0s\n",
      "[CV] C=1.2, gamma=0.8, kernel=rbf ....................................\n",
      "[CV] ..................... C=1.2, gamma=0.8, kernel=rbf, total=   0.0s\n",
      "[CV] C=1.2, gamma=0.8, kernel=rbf ....................................\n",
      "[CV] ..................... C=1.2, gamma=0.8, kernel=rbf, total=   0.0s\n",
      "[CV] C=1.2, gamma=0.8, kernel=rbf ....................................\n",
      "[CV] ..................... C=1.2, gamma=0.8, kernel=rbf, total=   0.0s\n",
      "[CV] C=1.2, gamma=0.8, kernel=rbf ....................................\n",
      "[CV] ..................... C=1.2, gamma=0.8, kernel=rbf, total=   0.0s\n",
      "[CV] C=1.2, gamma=0.8, kernel=rbf ....................................\n",
      "[CV] ..................... C=1.2, gamma=0.8, kernel=rbf, total=   0.0s\n",
      "[CV] C=1.2, gamma=0.8, kernel=rbf ....................................\n",
      "[CV] ..................... C=1.2, gamma=0.8, kernel=rbf, total=   0.0s\n",
      "[CV] C=1.2, gamma=0.8, kernel=rbf ....................................\n",
      "[CV] ..................... C=1.2, gamma=0.8, kernel=rbf, total=   0.0s\n",
      "[CV] C=1.2, gamma=0.8, kernel=rbf ....................................\n",
      "[CV] ..................... C=1.2, gamma=0.8, kernel=rbf, total=   0.0s\n",
      "[CV] C=1.2, gamma=0.9, kernel=linear .................................\n",
      "[CV] .................. C=1.2, gamma=0.9, kernel=linear, total=   0.0s\n"
     ]
    },
    {
     "name": "stdout",
     "output_type": "stream",
     "text": [
      "[CV] C=1.2, gamma=0.9, kernel=linear .................................\n",
      "[CV] .................. C=1.2, gamma=0.9, kernel=linear, total=   0.0s\n",
      "[CV] C=1.2, gamma=0.9, kernel=linear .................................\n",
      "[CV] .................. C=1.2, gamma=0.9, kernel=linear, total=   0.0s\n",
      "[CV] C=1.2, gamma=0.9, kernel=linear .................................\n",
      "[CV] .................. C=1.2, gamma=0.9, kernel=linear, total=   0.0s\n",
      "[CV] C=1.2, gamma=0.9, kernel=linear .................................\n",
      "[CV] .................. C=1.2, gamma=0.9, kernel=linear, total=   0.0s\n",
      "[CV] C=1.2, gamma=0.9, kernel=linear .................................\n",
      "[CV] .................. C=1.2, gamma=0.9, kernel=linear, total=   0.0s\n",
      "[CV] C=1.2, gamma=0.9, kernel=linear .................................\n",
      "[CV] .................. C=1.2, gamma=0.9, kernel=linear, total=   0.0s\n",
      "[CV] C=1.2, gamma=0.9, kernel=linear .................................\n",
      "[CV] .................. C=1.2, gamma=0.9, kernel=linear, total=   0.0s\n",
      "[CV] C=1.2, gamma=0.9, kernel=linear .................................\n",
      "[CV] .................. C=1.2, gamma=0.9, kernel=linear, total=   0.0s\n",
      "[CV] C=1.2, gamma=0.9, kernel=linear .................................\n",
      "[CV] .................. C=1.2, gamma=0.9, kernel=linear, total=   0.0s\n",
      "[CV] C=1.2, gamma=0.9, kernel=rbf ....................................\n",
      "[CV] ..................... C=1.2, gamma=0.9, kernel=rbf, total=   0.0s\n",
      "[CV] C=1.2, gamma=0.9, kernel=rbf ....................................\n",
      "[CV] ..................... C=1.2, gamma=0.9, kernel=rbf, total=   0.0s\n",
      "[CV] C=1.2, gamma=0.9, kernel=rbf ....................................\n",
      "[CV] ..................... C=1.2, gamma=0.9, kernel=rbf, total=   0.0s\n",
      "[CV] C=1.2, gamma=0.9, kernel=rbf ....................................\n",
      "[CV] ..................... C=1.2, gamma=0.9, kernel=rbf, total=   0.0s\n",
      "[CV] C=1.2, gamma=0.9, kernel=rbf ....................................\n",
      "[CV] ..................... C=1.2, gamma=0.9, kernel=rbf, total=   0.0s\n",
      "[CV] C=1.2, gamma=0.9, kernel=rbf ....................................\n",
      "[CV] ..................... C=1.2, gamma=0.9, kernel=rbf, total=   0.0s\n",
      "[CV] C=1.2, gamma=0.9, kernel=rbf ....................................\n",
      "[CV] ..................... C=1.2, gamma=0.9, kernel=rbf, total=   0.0s\n",
      "[CV] C=1.2, gamma=0.9, kernel=rbf ....................................\n",
      "[CV] ..................... C=1.2, gamma=0.9, kernel=rbf, total=   0.0s\n",
      "[CV] C=1.2, gamma=0.9, kernel=rbf ....................................\n",
      "[CV] ..................... C=1.2, gamma=0.9, kernel=rbf, total=   0.0s\n",
      "[CV] C=1.2, gamma=0.9, kernel=rbf ....................................\n",
      "[CV] ..................... C=1.2, gamma=0.9, kernel=rbf, total=   0.0s\n",
      "[CV] C=1.2, gamma=1.1, kernel=linear .................................\n",
      "[CV] .................. C=1.2, gamma=1.1, kernel=linear, total=   0.0s\n",
      "[CV] C=1.2, gamma=1.1, kernel=linear .................................\n",
      "[CV] .................. C=1.2, gamma=1.1, kernel=linear, total=   0.0s\n",
      "[CV] C=1.2, gamma=1.1, kernel=linear .................................\n",
      "[CV] .................. C=1.2, gamma=1.1, kernel=linear, total=   0.0s\n",
      "[CV] C=1.2, gamma=1.1, kernel=linear .................................\n",
      "[CV] .................. C=1.2, gamma=1.1, kernel=linear, total=   0.0s\n",
      "[CV] C=1.2, gamma=1.1, kernel=linear .................................\n",
      "[CV] .................. C=1.2, gamma=1.1, kernel=linear, total=   0.0s\n",
      "[CV] C=1.2, gamma=1.1, kernel=linear .................................\n",
      "[CV] .................. C=1.2, gamma=1.1, kernel=linear, total=   0.0s\n",
      "[CV] C=1.2, gamma=1.1, kernel=linear .................................\n",
      "[CV] .................. C=1.2, gamma=1.1, kernel=linear, total=   0.0s\n",
      "[CV] C=1.2, gamma=1.1, kernel=linear .................................\n",
      "[CV] .................. C=1.2, gamma=1.1, kernel=linear, total=   0.0s\n",
      "[CV] C=1.2, gamma=1.1, kernel=linear .................................\n",
      "[CV] .................. C=1.2, gamma=1.1, kernel=linear, total=   0.0s\n",
      "[CV] C=1.2, gamma=1.1, kernel=linear .................................\n",
      "[CV] .................. C=1.2, gamma=1.1, kernel=linear, total=   0.0s\n",
      "[CV] C=1.2, gamma=1.1, kernel=rbf ....................................\n",
      "[CV] ..................... C=1.2, gamma=1.1, kernel=rbf, total=   0.0s\n",
      "[CV] C=1.2, gamma=1.1, kernel=rbf ....................................\n",
      "[CV] ..................... C=1.2, gamma=1.1, kernel=rbf, total=   0.0s\n",
      "[CV] C=1.2, gamma=1.1, kernel=rbf ....................................\n",
      "[CV] ..................... C=1.2, gamma=1.1, kernel=rbf, total=   0.0s\n",
      "[CV] C=1.2, gamma=1.1, kernel=rbf ....................................\n",
      "[CV] ..................... C=1.2, gamma=1.1, kernel=rbf, total=   0.0s\n",
      "[CV] C=1.2, gamma=1.1, kernel=rbf ....................................\n",
      "[CV] ..................... C=1.2, gamma=1.1, kernel=rbf, total=   0.0s\n",
      "[CV] C=1.2, gamma=1.1, kernel=rbf ....................................\n",
      "[CV] ..................... C=1.2, gamma=1.1, kernel=rbf, total=   0.0s\n",
      "[CV] C=1.2, gamma=1.1, kernel=rbf ....................................\n",
      "[CV] ..................... C=1.2, gamma=1.1, kernel=rbf, total=   0.0s\n",
      "[CV] C=1.2, gamma=1.1, kernel=rbf ....................................\n",
      "[CV] ..................... C=1.2, gamma=1.1, kernel=rbf, total=   0.0s\n",
      "[CV] C=1.2, gamma=1.1, kernel=rbf ....................................\n",
      "[CV] ..................... C=1.2, gamma=1.1, kernel=rbf, total=   0.0s\n",
      "[CV] C=1.2, gamma=1.1, kernel=rbf ....................................\n",
      "[CV] ..................... C=1.2, gamma=1.1, kernel=rbf, total=   0.0s\n",
      "[CV] C=1.2, gamma=1.2, kernel=linear .................................\n",
      "[CV] .................. C=1.2, gamma=1.2, kernel=linear, total=   0.0s\n",
      "[CV] C=1.2, gamma=1.2, kernel=linear .................................\n",
      "[CV] .................. C=1.2, gamma=1.2, kernel=linear, total=   0.0s\n",
      "[CV] C=1.2, gamma=1.2, kernel=linear .................................\n",
      "[CV] .................. C=1.2, gamma=1.2, kernel=linear, total=   0.0s\n",
      "[CV] C=1.2, gamma=1.2, kernel=linear .................................\n",
      "[CV] .................. C=1.2, gamma=1.2, kernel=linear, total=   0.0s\n",
      "[CV] C=1.2, gamma=1.2, kernel=linear .................................\n",
      "[CV] .................. C=1.2, gamma=1.2, kernel=linear, total=   0.0s\n",
      "[CV] C=1.2, gamma=1.2, kernel=linear .................................\n",
      "[CV] .................. C=1.2, gamma=1.2, kernel=linear, total=   0.0s\n",
      "[CV] C=1.2, gamma=1.2, kernel=linear .................................\n",
      "[CV] .................. C=1.2, gamma=1.2, kernel=linear, total=   0.0s\n",
      "[CV] C=1.2, gamma=1.2, kernel=linear .................................\n",
      "[CV] .................. C=1.2, gamma=1.2, kernel=linear, total=   0.0s\n",
      "[CV] C=1.2, gamma=1.2, kernel=linear .................................\n",
      "[CV] .................. C=1.2, gamma=1.2, kernel=linear, total=   0.0s\n",
      "[CV] C=1.2, gamma=1.2, kernel=linear .................................\n",
      "[CV] .................. C=1.2, gamma=1.2, kernel=linear, total=   0.0s\n",
      "[CV] C=1.2, gamma=1.2, kernel=rbf ....................................\n",
      "[CV] ..................... C=1.2, gamma=1.2, kernel=rbf, total=   0.0s\n",
      "[CV] C=1.2, gamma=1.2, kernel=rbf ....................................\n",
      "[CV] ..................... C=1.2, gamma=1.2, kernel=rbf, total=   0.0s\n",
      "[CV] C=1.2, gamma=1.2, kernel=rbf ....................................\n",
      "[CV] ..................... C=1.2, gamma=1.2, kernel=rbf, total=   0.0s\n",
      "[CV] C=1.2, gamma=1.2, kernel=rbf ....................................\n",
      "[CV] ..................... C=1.2, gamma=1.2, kernel=rbf, total=   0.0s\n",
      "[CV] C=1.2, gamma=1.2, kernel=rbf ....................................\n",
      "[CV] ..................... C=1.2, gamma=1.2, kernel=rbf, total=   0.0s\n",
      "[CV] C=1.2, gamma=1.2, kernel=rbf ....................................\n",
      "[CV] ..................... C=1.2, gamma=1.2, kernel=rbf, total=   0.0s\n",
      "[CV] C=1.2, gamma=1.2, kernel=rbf ....................................\n",
      "[CV] ..................... C=1.2, gamma=1.2, kernel=rbf, total=   0.0s\n",
      "[CV] C=1.2, gamma=1.2, kernel=rbf ....................................\n",
      "[CV] ..................... C=1.2, gamma=1.2, kernel=rbf, total=   0.0s\n",
      "[CV] C=1.2, gamma=1.2, kernel=rbf ....................................\n",
      "[CV] ..................... C=1.2, gamma=1.2, kernel=rbf, total=   0.0s\n",
      "[CV] C=1.2, gamma=1.2, kernel=rbf ....................................\n",
      "[CV] ..................... C=1.2, gamma=1.2, kernel=rbf, total=   0.0s\n",
      "[CV] C=1.2, gamma=1.3, kernel=linear .................................\n",
      "[CV] .................. C=1.2, gamma=1.3, kernel=linear, total=   0.0s\n",
      "[CV] C=1.2, gamma=1.3, kernel=linear .................................\n",
      "[CV] .................. C=1.2, gamma=1.3, kernel=linear, total=   0.0s\n",
      "[CV] C=1.2, gamma=1.3, kernel=linear .................................\n",
      "[CV] .................. C=1.2, gamma=1.3, kernel=linear, total=   0.0s\n",
      "[CV] C=1.2, gamma=1.3, kernel=linear .................................\n",
      "[CV] .................. C=1.2, gamma=1.3, kernel=linear, total=   0.0s\n",
      "[CV] C=1.2, gamma=1.3, kernel=linear .................................\n",
      "[CV] .................. C=1.2, gamma=1.3, kernel=linear, total=   0.0s\n",
      "[CV] C=1.2, gamma=1.3, kernel=linear .................................\n",
      "[CV] .................. C=1.2, gamma=1.3, kernel=linear, total=   0.0s\n",
      "[CV] C=1.2, gamma=1.3, kernel=linear .................................\n",
      "[CV] .................. C=1.2, gamma=1.3, kernel=linear, total=   0.0s\n",
      "[CV] C=1.2, gamma=1.3, kernel=linear .................................\n",
      "[CV] .................. C=1.2, gamma=1.3, kernel=linear, total=   0.0s\n",
      "[CV] C=1.2, gamma=1.3, kernel=linear .................................\n",
      "[CV] .................. C=1.2, gamma=1.3, kernel=linear, total=   0.0s\n",
      "[CV] C=1.2, gamma=1.3, kernel=linear .................................\n",
      "[CV] .................. C=1.2, gamma=1.3, kernel=linear, total=   0.0s\n",
      "[CV] C=1.2, gamma=1.3, kernel=rbf ....................................\n",
      "[CV] ..................... C=1.2, gamma=1.3, kernel=rbf, total=   0.0s\n",
      "[CV] C=1.2, gamma=1.3, kernel=rbf ....................................\n",
      "[CV] ..................... C=1.2, gamma=1.3, kernel=rbf, total=   0.0s\n",
      "[CV] C=1.2, gamma=1.3, kernel=rbf ....................................\n",
      "[CV] ..................... C=1.2, gamma=1.3, kernel=rbf, total=   0.0s\n",
      "[CV] C=1.2, gamma=1.3, kernel=rbf ....................................\n",
      "[CV] ..................... C=1.2, gamma=1.3, kernel=rbf, total=   0.0s\n",
      "[CV] C=1.2, gamma=1.3, kernel=rbf ....................................\n",
      "[CV] ..................... C=1.2, gamma=1.3, kernel=rbf, total=   0.0s\n",
      "[CV] C=1.2, gamma=1.3, kernel=rbf ....................................\n",
      "[CV] ..................... C=1.2, gamma=1.3, kernel=rbf, total=   0.0s\n",
      "[CV] C=1.2, gamma=1.3, kernel=rbf ....................................\n",
      "[CV] ..................... C=1.2, gamma=1.3, kernel=rbf, total=   0.0s\n",
      "[CV] C=1.2, gamma=1.3, kernel=rbf ....................................\n",
      "[CV] ..................... C=1.2, gamma=1.3, kernel=rbf, total=   0.0s\n",
      "[CV] C=1.2, gamma=1.3, kernel=rbf ....................................\n",
      "[CV] ..................... C=1.2, gamma=1.3, kernel=rbf, total=   0.0s\n",
      "[CV] C=1.2, gamma=1.3, kernel=rbf ....................................\n",
      "[CV] ..................... C=1.2, gamma=1.3, kernel=rbf, total=   0.0s\n",
      "[CV] C=1.2, gamma=1.4, kernel=linear .................................\n",
      "[CV] .................. C=1.2, gamma=1.4, kernel=linear, total=   0.0s\n",
      "[CV] C=1.2, gamma=1.4, kernel=linear .................................\n",
      "[CV] .................. C=1.2, gamma=1.4, kernel=linear, total=   0.0s\n",
      "[CV] C=1.2, gamma=1.4, kernel=linear .................................\n",
      "[CV] .................. C=1.2, gamma=1.4, kernel=linear, total=   0.0s\n",
      "[CV] C=1.2, gamma=1.4, kernel=linear .................................\n",
      "[CV] .................. C=1.2, gamma=1.4, kernel=linear, total=   0.0s\n",
      "[CV] C=1.2, gamma=1.4, kernel=linear .................................\n",
      "[CV] .................. C=1.2, gamma=1.4, kernel=linear, total=   0.0s\n",
      "[CV] C=1.2, gamma=1.4, kernel=linear .................................\n",
      "[CV] .................. C=1.2, gamma=1.4, kernel=linear, total=   0.0s\n",
      "[CV] C=1.2, gamma=1.4, kernel=linear .................................\n",
      "[CV] .................. C=1.2, gamma=1.4, kernel=linear, total=   0.0s\n",
      "[CV] C=1.2, gamma=1.4, kernel=linear .................................\n",
      "[CV] .................. C=1.2, gamma=1.4, kernel=linear, total=   0.0s\n",
      "[CV] C=1.2, gamma=1.4, kernel=linear .................................\n",
      "[CV] .................. C=1.2, gamma=1.4, kernel=linear, total=   0.0s\n",
      "[CV] C=1.2, gamma=1.4, kernel=linear .................................\n",
      "[CV] .................. C=1.2, gamma=1.4, kernel=linear, total=   0.0s\n",
      "[CV] C=1.2, gamma=1.4, kernel=rbf ....................................\n",
      "[CV] ..................... C=1.2, gamma=1.4, kernel=rbf, total=   0.0s\n",
      "[CV] C=1.2, gamma=1.4, kernel=rbf ....................................\n",
      "[CV] ..................... C=1.2, gamma=1.4, kernel=rbf, total=   0.0s\n",
      "[CV] C=1.2, gamma=1.4, kernel=rbf ....................................\n",
      "[CV] ..................... C=1.2, gamma=1.4, kernel=rbf, total=   0.0s\n",
      "[CV] C=1.2, gamma=1.4, kernel=rbf ....................................\n",
      "[CV] ..................... C=1.2, gamma=1.4, kernel=rbf, total=   0.0s\n",
      "[CV] C=1.2, gamma=1.4, kernel=rbf ....................................\n",
      "[CV] ..................... C=1.2, gamma=1.4, kernel=rbf, total=   0.0s\n",
      "[CV] C=1.2, gamma=1.4, kernel=rbf ....................................\n",
      "[CV] ..................... C=1.2, gamma=1.4, kernel=rbf, total=   0.0s\n",
      "[CV] C=1.2, gamma=1.4, kernel=rbf ....................................\n",
      "[CV] ..................... C=1.2, gamma=1.4, kernel=rbf, total=   0.0s\n",
      "[CV] C=1.2, gamma=1.4, kernel=rbf ....................................\n",
      "[CV] ..................... C=1.2, gamma=1.4, kernel=rbf, total=   0.0s\n",
      "[CV] C=1.2, gamma=1.4, kernel=rbf ....................................\n",
      "[CV] ..................... C=1.2, gamma=1.4, kernel=rbf, total=   0.0s\n",
      "[CV] C=1.2, gamma=1.4, kernel=rbf ....................................\n",
      "[CV] ..................... C=1.2, gamma=1.4, kernel=rbf, total=   0.0s\n",
      "[CV] C=1.3, gamma=0.1, kernel=linear .................................\n",
      "[CV] .................. C=1.3, gamma=0.1, kernel=linear, total=   0.0s\n",
      "[CV] C=1.3, gamma=0.1, kernel=linear .................................\n",
      "[CV] .................. C=1.3, gamma=0.1, kernel=linear, total=   0.0s\n",
      "[CV] C=1.3, gamma=0.1, kernel=linear .................................\n",
      "[CV] .................. C=1.3, gamma=0.1, kernel=linear, total=   0.0s\n",
      "[CV] C=1.3, gamma=0.1, kernel=linear .................................\n",
      "[CV] .................. C=1.3, gamma=0.1, kernel=linear, total=   0.0s\n",
      "[CV] C=1.3, gamma=0.1, kernel=linear .................................\n",
      "[CV] .................. C=1.3, gamma=0.1, kernel=linear, total=   0.0s\n",
      "[CV] C=1.3, gamma=0.1, kernel=linear .................................\n",
      "[CV] .................. C=1.3, gamma=0.1, kernel=linear, total=   0.0s\n",
      "[CV] C=1.3, gamma=0.1, kernel=linear .................................\n",
      "[CV] .................. C=1.3, gamma=0.1, kernel=linear, total=   0.0s\n",
      "[CV] C=1.3, gamma=0.1, kernel=linear .................................\n",
      "[CV] .................. C=1.3, gamma=0.1, kernel=linear, total=   0.0s\n",
      "[CV] C=1.3, gamma=0.1, kernel=linear .................................\n"
     ]
    },
    {
     "name": "stdout",
     "output_type": "stream",
     "text": [
      "[CV] .................. C=1.3, gamma=0.1, kernel=linear, total=   0.0s\n",
      "[CV] C=1.3, gamma=0.1, kernel=linear .................................\n",
      "[CV] .................. C=1.3, gamma=0.1, kernel=linear, total=   0.0s\n",
      "[CV] C=1.3, gamma=0.1, kernel=rbf ....................................\n",
      "[CV] ..................... C=1.3, gamma=0.1, kernel=rbf, total=   0.0s\n",
      "[CV] C=1.3, gamma=0.1, kernel=rbf ....................................\n",
      "[CV] ..................... C=1.3, gamma=0.1, kernel=rbf, total=   0.0s\n",
      "[CV] C=1.3, gamma=0.1, kernel=rbf ....................................\n",
      "[CV] ..................... C=1.3, gamma=0.1, kernel=rbf, total=   0.0s\n",
      "[CV] C=1.3, gamma=0.1, kernel=rbf ....................................\n",
      "[CV] ..................... C=1.3, gamma=0.1, kernel=rbf, total=   0.0s\n",
      "[CV] C=1.3, gamma=0.1, kernel=rbf ....................................\n",
      "[CV] ..................... C=1.3, gamma=0.1, kernel=rbf, total=   0.0s\n",
      "[CV] C=1.3, gamma=0.1, kernel=rbf ....................................\n",
      "[CV] ..................... C=1.3, gamma=0.1, kernel=rbf, total=   0.0s\n",
      "[CV] C=1.3, gamma=0.1, kernel=rbf ....................................\n",
      "[CV] ..................... C=1.3, gamma=0.1, kernel=rbf, total=   0.0s\n",
      "[CV] C=1.3, gamma=0.1, kernel=rbf ....................................\n",
      "[CV] ..................... C=1.3, gamma=0.1, kernel=rbf, total=   0.0s\n",
      "[CV] C=1.3, gamma=0.1, kernel=rbf ....................................\n",
      "[CV] ..................... C=1.3, gamma=0.1, kernel=rbf, total=   0.0s\n",
      "[CV] C=1.3, gamma=0.1, kernel=rbf ....................................\n",
      "[CV] ..................... C=1.3, gamma=0.1, kernel=rbf, total=   0.0s\n",
      "[CV] C=1.3, gamma=0.8, kernel=linear .................................\n",
      "[CV] .................. C=1.3, gamma=0.8, kernel=linear, total=   0.0s\n",
      "[CV] C=1.3, gamma=0.8, kernel=linear .................................\n",
      "[CV] .................. C=1.3, gamma=0.8, kernel=linear, total=   0.0s\n",
      "[CV] C=1.3, gamma=0.8, kernel=linear .................................\n",
      "[CV] .................. C=1.3, gamma=0.8, kernel=linear, total=   0.0s\n",
      "[CV] C=1.3, gamma=0.8, kernel=linear .................................\n",
      "[CV] .................. C=1.3, gamma=0.8, kernel=linear, total=   0.0s\n",
      "[CV] C=1.3, gamma=0.8, kernel=linear .................................\n",
      "[CV] .................. C=1.3, gamma=0.8, kernel=linear, total=   0.0s\n",
      "[CV] C=1.3, gamma=0.8, kernel=linear .................................\n",
      "[CV] .................. C=1.3, gamma=0.8, kernel=linear, total=   0.0s\n",
      "[CV] C=1.3, gamma=0.8, kernel=linear .................................\n",
      "[CV] .................. C=1.3, gamma=0.8, kernel=linear, total=   0.0s\n",
      "[CV] C=1.3, gamma=0.8, kernel=linear .................................\n",
      "[CV] .................. C=1.3, gamma=0.8, kernel=linear, total=   0.0s\n",
      "[CV] C=1.3, gamma=0.8, kernel=linear .................................\n",
      "[CV] .................. C=1.3, gamma=0.8, kernel=linear, total=   0.0s\n",
      "[CV] C=1.3, gamma=0.8, kernel=linear .................................\n",
      "[CV] .................. C=1.3, gamma=0.8, kernel=linear, total=   0.0s\n",
      "[CV] C=1.3, gamma=0.8, kernel=rbf ....................................\n",
      "[CV] ..................... C=1.3, gamma=0.8, kernel=rbf, total=   0.0s\n",
      "[CV] C=1.3, gamma=0.8, kernel=rbf ....................................\n",
      "[CV] ..................... C=1.3, gamma=0.8, kernel=rbf, total=   0.0s\n",
      "[CV] C=1.3, gamma=0.8, kernel=rbf ....................................\n",
      "[CV] ..................... C=1.3, gamma=0.8, kernel=rbf, total=   0.0s\n",
      "[CV] C=1.3, gamma=0.8, kernel=rbf ....................................\n",
      "[CV] ..................... C=1.3, gamma=0.8, kernel=rbf, total=   0.0s\n",
      "[CV] C=1.3, gamma=0.8, kernel=rbf ....................................\n",
      "[CV] ..................... C=1.3, gamma=0.8, kernel=rbf, total=   0.0s\n",
      "[CV] C=1.3, gamma=0.8, kernel=rbf ....................................\n",
      "[CV] ..................... C=1.3, gamma=0.8, kernel=rbf, total=   0.0s\n",
      "[CV] C=1.3, gamma=0.8, kernel=rbf ....................................\n",
      "[CV] ..................... C=1.3, gamma=0.8, kernel=rbf, total=   0.0s\n",
      "[CV] C=1.3, gamma=0.8, kernel=rbf ....................................\n",
      "[CV] ..................... C=1.3, gamma=0.8, kernel=rbf, total=   0.0s\n",
      "[CV] C=1.3, gamma=0.8, kernel=rbf ....................................\n",
      "[CV] ..................... C=1.3, gamma=0.8, kernel=rbf, total=   0.0s\n",
      "[CV] C=1.3, gamma=0.8, kernel=rbf ....................................\n",
      "[CV] ..................... C=1.3, gamma=0.8, kernel=rbf, total=   0.0s\n",
      "[CV] C=1.3, gamma=0.9, kernel=linear .................................\n",
      "[CV] .................. C=1.3, gamma=0.9, kernel=linear, total=   0.0s\n",
      "[CV] C=1.3, gamma=0.9, kernel=linear .................................\n",
      "[CV] .................. C=1.3, gamma=0.9, kernel=linear, total=   0.0s\n",
      "[CV] C=1.3, gamma=0.9, kernel=linear .................................\n",
      "[CV] .................. C=1.3, gamma=0.9, kernel=linear, total=   0.0s\n",
      "[CV] C=1.3, gamma=0.9, kernel=linear .................................\n",
      "[CV] .................. C=1.3, gamma=0.9, kernel=linear, total=   0.0s\n",
      "[CV] C=1.3, gamma=0.9, kernel=linear .................................\n",
      "[CV] .................. C=1.3, gamma=0.9, kernel=linear, total=   0.0s\n",
      "[CV] C=1.3, gamma=0.9, kernel=linear .................................\n",
      "[CV] .................. C=1.3, gamma=0.9, kernel=linear, total=   0.0s\n",
      "[CV] C=1.3, gamma=0.9, kernel=linear .................................\n",
      "[CV] .................. C=1.3, gamma=0.9, kernel=linear, total=   0.0s\n",
      "[CV] C=1.3, gamma=0.9, kernel=linear .................................\n",
      "[CV] .................. C=1.3, gamma=0.9, kernel=linear, total=   0.0s\n",
      "[CV] C=1.3, gamma=0.9, kernel=linear .................................\n",
      "[CV] .................. C=1.3, gamma=0.9, kernel=linear, total=   0.0s\n",
      "[CV] C=1.3, gamma=0.9, kernel=linear .................................\n",
      "[CV] .................. C=1.3, gamma=0.9, kernel=linear, total=   0.0s\n",
      "[CV] C=1.3, gamma=0.9, kernel=rbf ....................................\n",
      "[CV] ..................... C=1.3, gamma=0.9, kernel=rbf, total=   0.0s\n",
      "[CV] C=1.3, gamma=0.9, kernel=rbf ....................................\n",
      "[CV] ..................... C=1.3, gamma=0.9, kernel=rbf, total=   0.0s\n",
      "[CV] C=1.3, gamma=0.9, kernel=rbf ....................................\n",
      "[CV] ..................... C=1.3, gamma=0.9, kernel=rbf, total=   0.0s\n",
      "[CV] C=1.3, gamma=0.9, kernel=rbf ....................................\n",
      "[CV] ..................... C=1.3, gamma=0.9, kernel=rbf, total=   0.0s\n",
      "[CV] C=1.3, gamma=0.9, kernel=rbf ....................................\n",
      "[CV] ..................... C=1.3, gamma=0.9, kernel=rbf, total=   0.0s\n",
      "[CV] C=1.3, gamma=0.9, kernel=rbf ....................................\n",
      "[CV] ..................... C=1.3, gamma=0.9, kernel=rbf, total=   0.0s\n",
      "[CV] C=1.3, gamma=0.9, kernel=rbf ....................................\n",
      "[CV] ..................... C=1.3, gamma=0.9, kernel=rbf, total=   0.0s\n",
      "[CV] C=1.3, gamma=0.9, kernel=rbf ....................................\n",
      "[CV] ..................... C=1.3, gamma=0.9, kernel=rbf, total=   0.0s\n",
      "[CV] C=1.3, gamma=0.9, kernel=rbf ....................................\n",
      "[CV] ..................... C=1.3, gamma=0.9, kernel=rbf, total=   0.0s\n",
      "[CV] C=1.3, gamma=0.9, kernel=rbf ....................................\n",
      "[CV] ..................... C=1.3, gamma=0.9, kernel=rbf, total=   0.0s\n",
      "[CV] C=1.3, gamma=1.1, kernel=linear .................................\n",
      "[CV] .................. C=1.3, gamma=1.1, kernel=linear, total=   0.0s\n",
      "[CV] C=1.3, gamma=1.1, kernel=linear .................................\n",
      "[CV] .................. C=1.3, gamma=1.1, kernel=linear, total=   0.0s\n",
      "[CV] C=1.3, gamma=1.1, kernel=linear .................................\n",
      "[CV] .................. C=1.3, gamma=1.1, kernel=linear, total=   0.0s\n",
      "[CV] C=1.3, gamma=1.1, kernel=linear .................................\n",
      "[CV] .................. C=1.3, gamma=1.1, kernel=linear, total=   0.0s\n",
      "[CV] C=1.3, gamma=1.1, kernel=linear .................................\n",
      "[CV] .................. C=1.3, gamma=1.1, kernel=linear, total=   0.0s\n",
      "[CV] C=1.3, gamma=1.1, kernel=linear .................................\n",
      "[CV] .................. C=1.3, gamma=1.1, kernel=linear, total=   0.0s\n",
      "[CV] C=1.3, gamma=1.1, kernel=linear .................................\n",
      "[CV] .................. C=1.3, gamma=1.1, kernel=linear, total=   0.0s\n",
      "[CV] C=1.3, gamma=1.1, kernel=linear .................................\n",
      "[CV] .................. C=1.3, gamma=1.1, kernel=linear, total=   0.0s\n",
      "[CV] C=1.3, gamma=1.1, kernel=linear .................................\n"
     ]
    },
    {
     "name": "stdout",
     "output_type": "stream",
     "text": [
      "[CV] .................. C=1.3, gamma=1.1, kernel=linear, total=   0.0s\n",
      "[CV] C=1.3, gamma=1.1, kernel=linear .................................\n",
      "[CV] .................. C=1.3, gamma=1.1, kernel=linear, total=   0.0s\n",
      "[CV] C=1.3, gamma=1.1, kernel=rbf ....................................\n",
      "[CV] ..................... C=1.3, gamma=1.1, kernel=rbf, total=   0.0s\n",
      "[CV] C=1.3, gamma=1.1, kernel=rbf ....................................\n",
      "[CV] ..................... C=1.3, gamma=1.1, kernel=rbf, total=   0.0s\n",
      "[CV] C=1.3, gamma=1.1, kernel=rbf ....................................\n",
      "[CV] ..................... C=1.3, gamma=1.1, kernel=rbf, total=   0.0s\n",
      "[CV] C=1.3, gamma=1.1, kernel=rbf ....................................\n",
      "[CV] ..................... C=1.3, gamma=1.1, kernel=rbf, total=   0.0s\n",
      "[CV] C=1.3, gamma=1.1, kernel=rbf ....................................\n",
      "[CV] ..................... C=1.3, gamma=1.1, kernel=rbf, total=   0.0s\n",
      "[CV] C=1.3, gamma=1.1, kernel=rbf ....................................\n",
      "[CV] ..................... C=1.3, gamma=1.1, kernel=rbf, total=   0.0s\n",
      "[CV] C=1.3, gamma=1.1, kernel=rbf ....................................\n",
      "[CV] ..................... C=1.3, gamma=1.1, kernel=rbf, total=   0.0s\n",
      "[CV] C=1.3, gamma=1.1, kernel=rbf ....................................\n",
      "[CV] ..................... C=1.3, gamma=1.1, kernel=rbf, total=   0.0s\n",
      "[CV] C=1.3, gamma=1.1, kernel=rbf ....................................\n",
      "[CV] ..................... C=1.3, gamma=1.1, kernel=rbf, total=   0.0s\n",
      "[CV] C=1.3, gamma=1.1, kernel=rbf ....................................\n",
      "[CV] ..................... C=1.3, gamma=1.1, kernel=rbf, total=   0.0s\n",
      "[CV] C=1.3, gamma=1.2, kernel=linear .................................\n",
      "[CV] .................. C=1.3, gamma=1.2, kernel=linear, total=   0.0s\n",
      "[CV] C=1.3, gamma=1.2, kernel=linear .................................\n",
      "[CV] .................. C=1.3, gamma=1.2, kernel=linear, total=   0.0s\n",
      "[CV] C=1.3, gamma=1.2, kernel=linear .................................\n",
      "[CV] .................. C=1.3, gamma=1.2, kernel=linear, total=   0.0s\n",
      "[CV] C=1.3, gamma=1.2, kernel=linear .................................\n",
      "[CV] .................. C=1.3, gamma=1.2, kernel=linear, total=   0.0s\n",
      "[CV] C=1.3, gamma=1.2, kernel=linear .................................\n",
      "[CV] .................. C=1.3, gamma=1.2, kernel=linear, total=   0.0s\n",
      "[CV] C=1.3, gamma=1.2, kernel=linear .................................\n",
      "[CV] .................. C=1.3, gamma=1.2, kernel=linear, total=   0.0s\n",
      "[CV] C=1.3, gamma=1.2, kernel=linear .................................\n",
      "[CV] .................. C=1.3, gamma=1.2, kernel=linear, total=   0.0s\n",
      "[CV] C=1.3, gamma=1.2, kernel=linear .................................\n",
      "[CV] .................. C=1.3, gamma=1.2, kernel=linear, total=   0.0s\n",
      "[CV] C=1.3, gamma=1.2, kernel=linear .................................\n",
      "[CV] .................. C=1.3, gamma=1.2, kernel=linear, total=   0.0s\n",
      "[CV] C=1.3, gamma=1.2, kernel=linear .................................\n",
      "[CV] .................. C=1.3, gamma=1.2, kernel=linear, total=   0.0s\n",
      "[CV] C=1.3, gamma=1.2, kernel=rbf ....................................\n",
      "[CV] ..................... C=1.3, gamma=1.2, kernel=rbf, total=   0.0s\n",
      "[CV] C=1.3, gamma=1.2, kernel=rbf ....................................\n",
      "[CV] ..................... C=1.3, gamma=1.2, kernel=rbf, total=   0.0s\n",
      "[CV] C=1.3, gamma=1.2, kernel=rbf ....................................\n",
      "[CV] ..................... C=1.3, gamma=1.2, kernel=rbf, total=   0.0s\n",
      "[CV] C=1.3, gamma=1.2, kernel=rbf ....................................\n",
      "[CV] ..................... C=1.3, gamma=1.2, kernel=rbf, total=   0.0s\n",
      "[CV] C=1.3, gamma=1.2, kernel=rbf ....................................\n",
      "[CV] ..................... C=1.3, gamma=1.2, kernel=rbf, total=   0.0s\n",
      "[CV] C=1.3, gamma=1.2, kernel=rbf ....................................\n",
      "[CV] ..................... C=1.3, gamma=1.2, kernel=rbf, total=   0.0s\n",
      "[CV] C=1.3, gamma=1.2, kernel=rbf ....................................\n",
      "[CV] ..................... C=1.3, gamma=1.2, kernel=rbf, total=   0.0s\n",
      "[CV] C=1.3, gamma=1.2, kernel=rbf ....................................\n",
      "[CV] ..................... C=1.3, gamma=1.2, kernel=rbf, total=   0.0s\n",
      "[CV] C=1.3, gamma=1.2, kernel=rbf ....................................\n",
      "[CV] ..................... C=1.3, gamma=1.2, kernel=rbf, total=   0.0s\n",
      "[CV] C=1.3, gamma=1.2, kernel=rbf ....................................\n",
      "[CV] ..................... C=1.3, gamma=1.2, kernel=rbf, total=   0.0s\n",
      "[CV] C=1.3, gamma=1.3, kernel=linear .................................\n",
      "[CV] .................. C=1.3, gamma=1.3, kernel=linear, total=   0.0s\n",
      "[CV] C=1.3, gamma=1.3, kernel=linear .................................\n",
      "[CV] .................. C=1.3, gamma=1.3, kernel=linear, total=   0.0s\n",
      "[CV] C=1.3, gamma=1.3, kernel=linear .................................\n",
      "[CV] .................. C=1.3, gamma=1.3, kernel=linear, total=   0.0s\n",
      "[CV] C=1.3, gamma=1.3, kernel=linear .................................\n",
      "[CV] .................. C=1.3, gamma=1.3, kernel=linear, total=   0.0s\n",
      "[CV] C=1.3, gamma=1.3, kernel=linear .................................\n",
      "[CV] .................. C=1.3, gamma=1.3, kernel=linear, total=   0.0s\n",
      "[CV] C=1.3, gamma=1.3, kernel=linear .................................\n",
      "[CV] .................. C=1.3, gamma=1.3, kernel=linear, total=   0.0s\n",
      "[CV] C=1.3, gamma=1.3, kernel=linear .................................\n",
      "[CV] .................. C=1.3, gamma=1.3, kernel=linear, total=   0.0s\n",
      "[CV] C=1.3, gamma=1.3, kernel=linear .................................\n",
      "[CV] .................. C=1.3, gamma=1.3, kernel=linear, total=   0.0s\n",
      "[CV] C=1.3, gamma=1.3, kernel=linear .................................\n",
      "[CV] .................. C=1.3, gamma=1.3, kernel=linear, total=   0.0s\n",
      "[CV] C=1.3, gamma=1.3, kernel=linear .................................\n",
      "[CV] .................. C=1.3, gamma=1.3, kernel=linear, total=   0.0s\n",
      "[CV] C=1.3, gamma=1.3, kernel=rbf ....................................\n",
      "[CV] ..................... C=1.3, gamma=1.3, kernel=rbf, total=   0.0s\n",
      "[CV] C=1.3, gamma=1.3, kernel=rbf ....................................\n",
      "[CV] ..................... C=1.3, gamma=1.3, kernel=rbf, total=   0.0s\n",
      "[CV] C=1.3, gamma=1.3, kernel=rbf ....................................\n",
      "[CV] ..................... C=1.3, gamma=1.3, kernel=rbf, total=   0.0s\n",
      "[CV] C=1.3, gamma=1.3, kernel=rbf ....................................\n",
      "[CV] ..................... C=1.3, gamma=1.3, kernel=rbf, total=   0.0s\n",
      "[CV] C=1.3, gamma=1.3, kernel=rbf ....................................\n",
      "[CV] ..................... C=1.3, gamma=1.3, kernel=rbf, total=   0.0s\n",
      "[CV] C=1.3, gamma=1.3, kernel=rbf ....................................\n",
      "[CV] ..................... C=1.3, gamma=1.3, kernel=rbf, total=   0.0s\n",
      "[CV] C=1.3, gamma=1.3, kernel=rbf ....................................\n",
      "[CV] ..................... C=1.3, gamma=1.3, kernel=rbf, total=   0.0s\n",
      "[CV] C=1.3, gamma=1.3, kernel=rbf ....................................\n",
      "[CV] ..................... C=1.3, gamma=1.3, kernel=rbf, total=   0.0s\n",
      "[CV] C=1.3, gamma=1.3, kernel=rbf ....................................\n",
      "[CV] ..................... C=1.3, gamma=1.3, kernel=rbf, total=   0.0s\n",
      "[CV] C=1.3, gamma=1.3, kernel=rbf ....................................\n",
      "[CV] ..................... C=1.3, gamma=1.3, kernel=rbf, total=   0.0s\n",
      "[CV] C=1.3, gamma=1.4, kernel=linear .................................\n",
      "[CV] .................. C=1.3, gamma=1.4, kernel=linear, total=   0.0s\n",
      "[CV] C=1.3, gamma=1.4, kernel=linear .................................\n",
      "[CV] .................. C=1.3, gamma=1.4, kernel=linear, total=   0.0s\n",
      "[CV] C=1.3, gamma=1.4, kernel=linear .................................\n",
      "[CV] .................. C=1.3, gamma=1.4, kernel=linear, total=   0.0s\n",
      "[CV] C=1.3, gamma=1.4, kernel=linear .................................\n",
      "[CV] .................. C=1.3, gamma=1.4, kernel=linear, total=   0.0s\n",
      "[CV] C=1.3, gamma=1.4, kernel=linear .................................\n",
      "[CV] .................. C=1.3, gamma=1.4, kernel=linear, total=   0.0s\n",
      "[CV] C=1.3, gamma=1.4, kernel=linear .................................\n",
      "[CV] .................. C=1.3, gamma=1.4, kernel=linear, total=   0.0s\n",
      "[CV] C=1.3, gamma=1.4, kernel=linear .................................\n",
      "[CV] .................. C=1.3, gamma=1.4, kernel=linear, total=   0.0s\n",
      "[CV] C=1.3, gamma=1.4, kernel=linear .................................\n",
      "[CV] .................. C=1.3, gamma=1.4, kernel=linear, total=   0.0s\n",
      "[CV] C=1.3, gamma=1.4, kernel=linear .................................\n",
      "[CV] .................. C=1.3, gamma=1.4, kernel=linear, total=   0.0s\n",
      "[CV] C=1.3, gamma=1.4, kernel=linear .................................\n",
      "[CV] .................. C=1.3, gamma=1.4, kernel=linear, total=   0.0s\n",
      "[CV] C=1.3, gamma=1.4, kernel=rbf ....................................\n"
     ]
    },
    {
     "name": "stdout",
     "output_type": "stream",
     "text": [
      "[CV] ..................... C=1.3, gamma=1.4, kernel=rbf, total=   0.0s\n",
      "[CV] C=1.3, gamma=1.4, kernel=rbf ....................................\n",
      "[CV] ..................... C=1.3, gamma=1.4, kernel=rbf, total=   0.0s\n",
      "[CV] C=1.3, gamma=1.4, kernel=rbf ....................................\n",
      "[CV] ..................... C=1.3, gamma=1.4, kernel=rbf, total=   0.0s\n",
      "[CV] C=1.3, gamma=1.4, kernel=rbf ....................................\n",
      "[CV] ..................... C=1.3, gamma=1.4, kernel=rbf, total=   0.0s\n",
      "[CV] C=1.3, gamma=1.4, kernel=rbf ....................................\n",
      "[CV] ..................... C=1.3, gamma=1.4, kernel=rbf, total=   0.0s\n",
      "[CV] C=1.3, gamma=1.4, kernel=rbf ....................................\n",
      "[CV] ..................... C=1.3, gamma=1.4, kernel=rbf, total=   0.0s\n",
      "[CV] C=1.3, gamma=1.4, kernel=rbf ....................................\n",
      "[CV] ..................... C=1.3, gamma=1.4, kernel=rbf, total=   0.0s\n",
      "[CV] C=1.3, gamma=1.4, kernel=rbf ....................................\n",
      "[CV] ..................... C=1.3, gamma=1.4, kernel=rbf, total=   0.0s\n",
      "[CV] C=1.3, gamma=1.4, kernel=rbf ....................................\n",
      "[CV] ..................... C=1.3, gamma=1.4, kernel=rbf, total=   0.0s\n",
      "[CV] C=1.3, gamma=1.4, kernel=rbf ....................................\n",
      "[CV] ..................... C=1.3, gamma=1.4, kernel=rbf, total=   0.0s\n",
      "[CV] C=1.4, gamma=0.1, kernel=linear .................................\n",
      "[CV] .................. C=1.4, gamma=0.1, kernel=linear, total=   0.0s\n",
      "[CV] C=1.4, gamma=0.1, kernel=linear .................................\n",
      "[CV] .................. C=1.4, gamma=0.1, kernel=linear, total=   0.0s\n",
      "[CV] C=1.4, gamma=0.1, kernel=linear .................................\n",
      "[CV] .................. C=1.4, gamma=0.1, kernel=linear, total=   0.0s\n",
      "[CV] C=1.4, gamma=0.1, kernel=linear .................................\n",
      "[CV] .................. C=1.4, gamma=0.1, kernel=linear, total=   0.0s\n",
      "[CV] C=1.4, gamma=0.1, kernel=linear .................................\n",
      "[CV] .................. C=1.4, gamma=0.1, kernel=linear, total=   0.0s\n",
      "[CV] C=1.4, gamma=0.1, kernel=linear .................................\n",
      "[CV] .................. C=1.4, gamma=0.1, kernel=linear, total=   0.0s\n",
      "[CV] C=1.4, gamma=0.1, kernel=linear .................................\n",
      "[CV] .................. C=1.4, gamma=0.1, kernel=linear, total=   0.0s\n",
      "[CV] C=1.4, gamma=0.1, kernel=linear .................................\n",
      "[CV] .................. C=1.4, gamma=0.1, kernel=linear, total=   0.0s\n",
      "[CV] C=1.4, gamma=0.1, kernel=linear .................................\n",
      "[CV] .................. C=1.4, gamma=0.1, kernel=linear, total=   0.0s\n",
      "[CV] C=1.4, gamma=0.1, kernel=linear .................................\n",
      "[CV] .................. C=1.4, gamma=0.1, kernel=linear, total=   0.0s\n",
      "[CV] C=1.4, gamma=0.1, kernel=rbf ....................................\n",
      "[CV] ..................... C=1.4, gamma=0.1, kernel=rbf, total=   0.0s\n",
      "[CV] C=1.4, gamma=0.1, kernel=rbf ....................................\n",
      "[CV] ..................... C=1.4, gamma=0.1, kernel=rbf, total=   0.0s\n",
      "[CV] C=1.4, gamma=0.1, kernel=rbf ....................................\n",
      "[CV] ..................... C=1.4, gamma=0.1, kernel=rbf, total=   0.0s\n",
      "[CV] C=1.4, gamma=0.1, kernel=rbf ....................................\n",
      "[CV] ..................... C=1.4, gamma=0.1, kernel=rbf, total=   0.0s\n",
      "[CV] C=1.4, gamma=0.1, kernel=rbf ....................................\n",
      "[CV] ..................... C=1.4, gamma=0.1, kernel=rbf, total=   0.0s\n",
      "[CV] C=1.4, gamma=0.1, kernel=rbf ....................................\n",
      "[CV] ..................... C=1.4, gamma=0.1, kernel=rbf, total=   0.0s\n",
      "[CV] C=1.4, gamma=0.1, kernel=rbf ....................................\n",
      "[CV] ..................... C=1.4, gamma=0.1, kernel=rbf, total=   0.0s\n",
      "[CV] C=1.4, gamma=0.1, kernel=rbf ....................................\n",
      "[CV] ..................... C=1.4, gamma=0.1, kernel=rbf, total=   0.0s\n",
      "[CV] C=1.4, gamma=0.1, kernel=rbf ....................................\n",
      "[CV] ..................... C=1.4, gamma=0.1, kernel=rbf, total=   0.0s\n",
      "[CV] C=1.4, gamma=0.1, kernel=rbf ....................................\n",
      "[CV] ..................... C=1.4, gamma=0.1, kernel=rbf, total=   0.0s\n",
      "[CV] C=1.4, gamma=0.8, kernel=linear .................................\n",
      "[CV] .................. C=1.4, gamma=0.8, kernel=linear, total=   0.0s\n",
      "[CV] C=1.4, gamma=0.8, kernel=linear .................................\n",
      "[CV] .................. C=1.4, gamma=0.8, kernel=linear, total=   0.0s\n",
      "[CV] C=1.4, gamma=0.8, kernel=linear .................................\n",
      "[CV] .................. C=1.4, gamma=0.8, kernel=linear, total=   0.0s\n",
      "[CV] C=1.4, gamma=0.8, kernel=linear .................................\n",
      "[CV] .................. C=1.4, gamma=0.8, kernel=linear, total=   0.0s\n",
      "[CV] C=1.4, gamma=0.8, kernel=linear .................................\n",
      "[CV] .................. C=1.4, gamma=0.8, kernel=linear, total=   0.0s\n",
      "[CV] C=1.4, gamma=0.8, kernel=linear .................................\n",
      "[CV] .................. C=1.4, gamma=0.8, kernel=linear, total=   0.0s\n",
      "[CV] C=1.4, gamma=0.8, kernel=linear .................................\n",
      "[CV] .................. C=1.4, gamma=0.8, kernel=linear, total=   0.0s\n",
      "[CV] C=1.4, gamma=0.8, kernel=linear .................................\n",
      "[CV] .................. C=1.4, gamma=0.8, kernel=linear, total=   0.0s\n",
      "[CV] C=1.4, gamma=0.8, kernel=linear .................................\n",
      "[CV] .................. C=1.4, gamma=0.8, kernel=linear, total=   0.0s\n",
      "[CV] C=1.4, gamma=0.8, kernel=linear .................................\n",
      "[CV] .................. C=1.4, gamma=0.8, kernel=linear, total=   0.0s\n",
      "[CV] C=1.4, gamma=0.8, kernel=rbf ....................................\n",
      "[CV] ..................... C=1.4, gamma=0.8, kernel=rbf, total=   0.0s\n",
      "[CV] C=1.4, gamma=0.8, kernel=rbf ....................................\n",
      "[CV] ..................... C=1.4, gamma=0.8, kernel=rbf, total=   0.0s\n",
      "[CV] C=1.4, gamma=0.8, kernel=rbf ....................................\n",
      "[CV] ..................... C=1.4, gamma=0.8, kernel=rbf, total=   0.0s\n",
      "[CV] C=1.4, gamma=0.8, kernel=rbf ....................................\n",
      "[CV] ..................... C=1.4, gamma=0.8, kernel=rbf, total=   0.0s\n",
      "[CV] C=1.4, gamma=0.8, kernel=rbf ....................................\n",
      "[CV] ..................... C=1.4, gamma=0.8, kernel=rbf, total=   0.0s\n",
      "[CV] C=1.4, gamma=0.8, kernel=rbf ....................................\n",
      "[CV] ..................... C=1.4, gamma=0.8, kernel=rbf, total=   0.0s\n",
      "[CV] C=1.4, gamma=0.8, kernel=rbf ....................................\n",
      "[CV] ..................... C=1.4, gamma=0.8, kernel=rbf, total=   0.0s\n",
      "[CV] C=1.4, gamma=0.8, kernel=rbf ....................................\n",
      "[CV] ..................... C=1.4, gamma=0.8, kernel=rbf, total=   0.0s\n",
      "[CV] C=1.4, gamma=0.8, kernel=rbf ....................................\n",
      "[CV] ..................... C=1.4, gamma=0.8, kernel=rbf, total=   0.0s\n",
      "[CV] C=1.4, gamma=0.8, kernel=rbf ....................................\n",
      "[CV] ..................... C=1.4, gamma=0.8, kernel=rbf, total=   0.0s\n",
      "[CV] C=1.4, gamma=0.9, kernel=linear .................................\n",
      "[CV] .................. C=1.4, gamma=0.9, kernel=linear, total=   0.0s\n",
      "[CV] C=1.4, gamma=0.9, kernel=linear .................................\n",
      "[CV] .................. C=1.4, gamma=0.9, kernel=linear, total=   0.0s\n",
      "[CV] C=1.4, gamma=0.9, kernel=linear .................................\n",
      "[CV] .................. C=1.4, gamma=0.9, kernel=linear, total=   0.0s\n",
      "[CV] C=1.4, gamma=0.9, kernel=linear .................................\n",
      "[CV] .................. C=1.4, gamma=0.9, kernel=linear, total=   0.0s\n",
      "[CV] C=1.4, gamma=0.9, kernel=linear .................................\n",
      "[CV] .................. C=1.4, gamma=0.9, kernel=linear, total=   0.0s\n",
      "[CV] C=1.4, gamma=0.9, kernel=linear .................................\n",
      "[CV] .................. C=1.4, gamma=0.9, kernel=linear, total=   0.0s\n",
      "[CV] C=1.4, gamma=0.9, kernel=linear .................................\n",
      "[CV] .................. C=1.4, gamma=0.9, kernel=linear, total=   0.0s\n",
      "[CV] C=1.4, gamma=0.9, kernel=linear .................................\n",
      "[CV] .................. C=1.4, gamma=0.9, kernel=linear, total=   0.0s\n",
      "[CV] C=1.4, gamma=0.9, kernel=linear .................................\n",
      "[CV] .................. C=1.4, gamma=0.9, kernel=linear, total=   0.0s\n",
      "[CV] C=1.4, gamma=0.9, kernel=linear .................................\n",
      "[CV] .................. C=1.4, gamma=0.9, kernel=linear, total=   0.0s\n",
      "[CV] C=1.4, gamma=0.9, kernel=rbf ....................................\n",
      "[CV] ..................... C=1.4, gamma=0.9, kernel=rbf, total=   0.0s\n",
      "[CV] C=1.4, gamma=0.9, kernel=rbf ....................................\n"
     ]
    },
    {
     "name": "stdout",
     "output_type": "stream",
     "text": [
      "[CV] ..................... C=1.4, gamma=0.9, kernel=rbf, total=   0.0s\n",
      "[CV] C=1.4, gamma=0.9, kernel=rbf ....................................\n",
      "[CV] ..................... C=1.4, gamma=0.9, kernel=rbf, total=   0.0s\n",
      "[CV] C=1.4, gamma=0.9, kernel=rbf ....................................\n",
      "[CV] ..................... C=1.4, gamma=0.9, kernel=rbf, total=   0.0s\n",
      "[CV] C=1.4, gamma=0.9, kernel=rbf ....................................\n",
      "[CV] ..................... C=1.4, gamma=0.9, kernel=rbf, total=   0.0s\n",
      "[CV] C=1.4, gamma=0.9, kernel=rbf ....................................\n",
      "[CV] ..................... C=1.4, gamma=0.9, kernel=rbf, total=   0.0s\n",
      "[CV] C=1.4, gamma=0.9, kernel=rbf ....................................\n",
      "[CV] ..................... C=1.4, gamma=0.9, kernel=rbf, total=   0.0s\n",
      "[CV] C=1.4, gamma=0.9, kernel=rbf ....................................\n",
      "[CV] ..................... C=1.4, gamma=0.9, kernel=rbf, total=   0.0s\n",
      "[CV] C=1.4, gamma=0.9, kernel=rbf ....................................\n",
      "[CV] ..................... C=1.4, gamma=0.9, kernel=rbf, total=   0.0s\n",
      "[CV] C=1.4, gamma=0.9, kernel=rbf ....................................\n",
      "[CV] ..................... C=1.4, gamma=0.9, kernel=rbf, total=   0.0s\n",
      "[CV] C=1.4, gamma=1.1, kernel=linear .................................\n",
      "[CV] .................. C=1.4, gamma=1.1, kernel=linear, total=   0.0s\n",
      "[CV] C=1.4, gamma=1.1, kernel=linear .................................\n",
      "[CV] .................. C=1.4, gamma=1.1, kernel=linear, total=   0.0s\n",
      "[CV] C=1.4, gamma=1.1, kernel=linear .................................\n",
      "[CV] .................. C=1.4, gamma=1.1, kernel=linear, total=   0.0s\n",
      "[CV] C=1.4, gamma=1.1, kernel=linear .................................\n",
      "[CV] .................. C=1.4, gamma=1.1, kernel=linear, total=   0.0s\n",
      "[CV] C=1.4, gamma=1.1, kernel=linear .................................\n",
      "[CV] .................. C=1.4, gamma=1.1, kernel=linear, total=   0.0s\n",
      "[CV] C=1.4, gamma=1.1, kernel=linear .................................\n",
      "[CV] .................. C=1.4, gamma=1.1, kernel=linear, total=   0.0s\n",
      "[CV] C=1.4, gamma=1.1, kernel=linear .................................\n",
      "[CV] .................. C=1.4, gamma=1.1, kernel=linear, total=   0.0s\n",
      "[CV] C=1.4, gamma=1.1, kernel=linear .................................\n",
      "[CV] .................. C=1.4, gamma=1.1, kernel=linear, total=   0.0s\n",
      "[CV] C=1.4, gamma=1.1, kernel=linear .................................\n",
      "[CV] .................. C=1.4, gamma=1.1, kernel=linear, total=   0.0s\n",
      "[CV] C=1.4, gamma=1.1, kernel=linear .................................\n",
      "[CV] .................. C=1.4, gamma=1.1, kernel=linear, total=   0.0s\n",
      "[CV] C=1.4, gamma=1.1, kernel=rbf ....................................\n",
      "[CV] ..................... C=1.4, gamma=1.1, kernel=rbf, total=   0.0s\n",
      "[CV] C=1.4, gamma=1.1, kernel=rbf ....................................\n",
      "[CV] ..................... C=1.4, gamma=1.1, kernel=rbf, total=   0.0s\n",
      "[CV] C=1.4, gamma=1.1, kernel=rbf ....................................\n",
      "[CV] ..................... C=1.4, gamma=1.1, kernel=rbf, total=   0.0s\n",
      "[CV] C=1.4, gamma=1.1, kernel=rbf ....................................\n",
      "[CV] ..................... C=1.4, gamma=1.1, kernel=rbf, total=   0.0s\n",
      "[CV] C=1.4, gamma=1.1, kernel=rbf ....................................\n",
      "[CV] ..................... C=1.4, gamma=1.1, kernel=rbf, total=   0.0s\n",
      "[CV] C=1.4, gamma=1.1, kernel=rbf ....................................\n",
      "[CV] ..................... C=1.4, gamma=1.1, kernel=rbf, total=   0.0s\n",
      "[CV] C=1.4, gamma=1.1, kernel=rbf ....................................\n",
      "[CV] ..................... C=1.4, gamma=1.1, kernel=rbf, total=   0.0s\n",
      "[CV] C=1.4, gamma=1.1, kernel=rbf ....................................\n",
      "[CV] ..................... C=1.4, gamma=1.1, kernel=rbf, total=   0.0s\n",
      "[CV] C=1.4, gamma=1.1, kernel=rbf ....................................\n",
      "[CV] ..................... C=1.4, gamma=1.1, kernel=rbf, total=   0.0s\n",
      "[CV] C=1.4, gamma=1.1, kernel=rbf ....................................\n",
      "[CV] ..................... C=1.4, gamma=1.1, kernel=rbf, total=   0.0s\n",
      "[CV] C=1.4, gamma=1.2, kernel=linear .................................\n",
      "[CV] .................. C=1.4, gamma=1.2, kernel=linear, total=   0.0s\n",
      "[CV] C=1.4, gamma=1.2, kernel=linear .................................\n",
      "[CV] .................. C=1.4, gamma=1.2, kernel=linear, total=   0.0s\n",
      "[CV] C=1.4, gamma=1.2, kernel=linear .................................\n",
      "[CV] .................. C=1.4, gamma=1.2, kernel=linear, total=   0.0s\n",
      "[CV] C=1.4, gamma=1.2, kernel=linear .................................\n",
      "[CV] .................. C=1.4, gamma=1.2, kernel=linear, total=   0.0s\n",
      "[CV] C=1.4, gamma=1.2, kernel=linear .................................\n",
      "[CV] .................. C=1.4, gamma=1.2, kernel=linear, total=   0.0s\n",
      "[CV] C=1.4, gamma=1.2, kernel=linear .................................\n",
      "[CV] .................. C=1.4, gamma=1.2, kernel=linear, total=   0.0s\n",
      "[CV] C=1.4, gamma=1.2, kernel=linear .................................\n",
      "[CV] .................. C=1.4, gamma=1.2, kernel=linear, total=   0.0s\n",
      "[CV] C=1.4, gamma=1.2, kernel=linear .................................\n",
      "[CV] .................. C=1.4, gamma=1.2, kernel=linear, total=   0.0s\n",
      "[CV] C=1.4, gamma=1.2, kernel=linear .................................\n",
      "[CV] .................. C=1.4, gamma=1.2, kernel=linear, total=   0.0s\n",
      "[CV] C=1.4, gamma=1.2, kernel=linear .................................\n",
      "[CV] .................. C=1.4, gamma=1.2, kernel=linear, total=   0.0s\n",
      "[CV] C=1.4, gamma=1.2, kernel=rbf ....................................\n",
      "[CV] ..................... C=1.4, gamma=1.2, kernel=rbf, total=   0.0s\n",
      "[CV] C=1.4, gamma=1.2, kernel=rbf ....................................\n",
      "[CV] ..................... C=1.4, gamma=1.2, kernel=rbf, total=   0.0s\n",
      "[CV] C=1.4, gamma=1.2, kernel=rbf ....................................\n",
      "[CV] ..................... C=1.4, gamma=1.2, kernel=rbf, total=   0.0s\n",
      "[CV] C=1.4, gamma=1.2, kernel=rbf ....................................\n",
      "[CV] ..................... C=1.4, gamma=1.2, kernel=rbf, total=   0.0s\n",
      "[CV] C=1.4, gamma=1.2, kernel=rbf ....................................\n",
      "[CV] ..................... C=1.4, gamma=1.2, kernel=rbf, total=   0.0s\n",
      "[CV] C=1.4, gamma=1.2, kernel=rbf ....................................\n",
      "[CV] ..................... C=1.4, gamma=1.2, kernel=rbf, total=   0.0s\n",
      "[CV] C=1.4, gamma=1.2, kernel=rbf ....................................\n",
      "[CV] ..................... C=1.4, gamma=1.2, kernel=rbf, total=   0.0s\n",
      "[CV] C=1.4, gamma=1.2, kernel=rbf ....................................\n",
      "[CV] ..................... C=1.4, gamma=1.2, kernel=rbf, total=   0.0s\n",
      "[CV] C=1.4, gamma=1.2, kernel=rbf ....................................\n",
      "[CV] ..................... C=1.4, gamma=1.2, kernel=rbf, total=   0.0s\n",
      "[CV] C=1.4, gamma=1.2, kernel=rbf ....................................\n",
      "[CV] ..................... C=1.4, gamma=1.2, kernel=rbf, total=   0.0s\n",
      "[CV] C=1.4, gamma=1.3, kernel=linear .................................\n",
      "[CV] .................. C=1.4, gamma=1.3, kernel=linear, total=   0.0s\n",
      "[CV] C=1.4, gamma=1.3, kernel=linear .................................\n",
      "[CV] .................. C=1.4, gamma=1.3, kernel=linear, total=   0.0s\n",
      "[CV] C=1.4, gamma=1.3, kernel=linear .................................\n",
      "[CV] .................. C=1.4, gamma=1.3, kernel=linear, total=   0.0s\n",
      "[CV] C=1.4, gamma=1.3, kernel=linear .................................\n",
      "[CV] .................. C=1.4, gamma=1.3, kernel=linear, total=   0.0s\n",
      "[CV] C=1.4, gamma=1.3, kernel=linear .................................\n",
      "[CV] .................. C=1.4, gamma=1.3, kernel=linear, total=   0.0s\n",
      "[CV] C=1.4, gamma=1.3, kernel=linear .................................\n",
      "[CV] .................. C=1.4, gamma=1.3, kernel=linear, total=   0.0s\n",
      "[CV] C=1.4, gamma=1.3, kernel=linear .................................\n",
      "[CV] .................. C=1.4, gamma=1.3, kernel=linear, total=   0.0s\n",
      "[CV] C=1.4, gamma=1.3, kernel=linear .................................\n",
      "[CV] .................. C=1.4, gamma=1.3, kernel=linear, total=   0.0s\n",
      "[CV] C=1.4, gamma=1.3, kernel=linear .................................\n",
      "[CV] .................. C=1.4, gamma=1.3, kernel=linear, total=   0.0s\n",
      "[CV] C=1.4, gamma=1.3, kernel=linear .................................\n",
      "[CV] .................. C=1.4, gamma=1.3, kernel=linear, total=   0.0s\n",
      "[CV] C=1.4, gamma=1.3, kernel=rbf ....................................\n",
      "[CV] ..................... C=1.4, gamma=1.3, kernel=rbf, total=   0.0s\n",
      "[CV] C=1.4, gamma=1.3, kernel=rbf ....................................\n"
     ]
    },
    {
     "name": "stdout",
     "output_type": "stream",
     "text": [
      "[CV] ..................... C=1.4, gamma=1.3, kernel=rbf, total=   0.0s\n",
      "[CV] C=1.4, gamma=1.3, kernel=rbf ....................................\n",
      "[CV] ..................... C=1.4, gamma=1.3, kernel=rbf, total=   0.0s\n",
      "[CV] C=1.4, gamma=1.3, kernel=rbf ....................................\n",
      "[CV] ..................... C=1.4, gamma=1.3, kernel=rbf, total=   0.0s\n",
      "[CV] C=1.4, gamma=1.3, kernel=rbf ....................................\n",
      "[CV] ..................... C=1.4, gamma=1.3, kernel=rbf, total=   0.0s\n",
      "[CV] C=1.4, gamma=1.3, kernel=rbf ....................................\n",
      "[CV] ..................... C=1.4, gamma=1.3, kernel=rbf, total=   0.0s\n",
      "[CV] C=1.4, gamma=1.3, kernel=rbf ....................................\n",
      "[CV] ..................... C=1.4, gamma=1.3, kernel=rbf, total=   0.0s\n",
      "[CV] C=1.4, gamma=1.3, kernel=rbf ....................................\n",
      "[CV] ..................... C=1.4, gamma=1.3, kernel=rbf, total=   0.0s\n",
      "[CV] C=1.4, gamma=1.3, kernel=rbf ....................................\n",
      "[CV] ..................... C=1.4, gamma=1.3, kernel=rbf, total=   0.0s\n",
      "[CV] C=1.4, gamma=1.3, kernel=rbf ....................................\n",
      "[CV] ..................... C=1.4, gamma=1.3, kernel=rbf, total=   0.0s\n",
      "[CV] C=1.4, gamma=1.4, kernel=linear .................................\n",
      "[CV] .................. C=1.4, gamma=1.4, kernel=linear, total=   0.0s\n",
      "[CV] C=1.4, gamma=1.4, kernel=linear .................................\n",
      "[CV] .................. C=1.4, gamma=1.4, kernel=linear, total=   0.0s\n",
      "[CV] C=1.4, gamma=1.4, kernel=linear .................................\n",
      "[CV] .................. C=1.4, gamma=1.4, kernel=linear, total=   0.0s\n",
      "[CV] C=1.4, gamma=1.4, kernel=linear .................................\n",
      "[CV] .................. C=1.4, gamma=1.4, kernel=linear, total=   0.0s\n",
      "[CV] C=1.4, gamma=1.4, kernel=linear .................................\n",
      "[CV] .................. C=1.4, gamma=1.4, kernel=linear, total=   0.0s\n",
      "[CV] C=1.4, gamma=1.4, kernel=linear .................................\n",
      "[CV] .................. C=1.4, gamma=1.4, kernel=linear, total=   0.0s\n",
      "[CV] C=1.4, gamma=1.4, kernel=linear .................................\n",
      "[CV] .................. C=1.4, gamma=1.4, kernel=linear, total=   0.0s\n",
      "[CV] C=1.4, gamma=1.4, kernel=linear .................................\n",
      "[CV] .................. C=1.4, gamma=1.4, kernel=linear, total=   0.0s\n",
      "[CV] C=1.4, gamma=1.4, kernel=linear .................................\n",
      "[CV] .................. C=1.4, gamma=1.4, kernel=linear, total=   0.0s\n",
      "[CV] C=1.4, gamma=1.4, kernel=linear .................................\n",
      "[CV] .................. C=1.4, gamma=1.4, kernel=linear, total=   0.0s\n",
      "[CV] C=1.4, gamma=1.4, kernel=rbf ....................................\n",
      "[CV] ..................... C=1.4, gamma=1.4, kernel=rbf, total=   0.0s\n",
      "[CV] C=1.4, gamma=1.4, kernel=rbf ....................................\n",
      "[CV] ..................... C=1.4, gamma=1.4, kernel=rbf, total=   0.0s\n",
      "[CV] C=1.4, gamma=1.4, kernel=rbf ....................................\n",
      "[CV] ..................... C=1.4, gamma=1.4, kernel=rbf, total=   0.0s\n",
      "[CV] C=1.4, gamma=1.4, kernel=rbf ....................................\n",
      "[CV] ..................... C=1.4, gamma=1.4, kernel=rbf, total=   0.0s\n",
      "[CV] C=1.4, gamma=1.4, kernel=rbf ....................................\n",
      "[CV] ..................... C=1.4, gamma=1.4, kernel=rbf, total=   0.0s\n",
      "[CV] C=1.4, gamma=1.4, kernel=rbf ....................................\n",
      "[CV] ..................... C=1.4, gamma=1.4, kernel=rbf, total=   0.0s\n",
      "[CV] C=1.4, gamma=1.4, kernel=rbf ....................................\n",
      "[CV] ..................... C=1.4, gamma=1.4, kernel=rbf, total=   0.0s\n",
      "[CV] C=1.4, gamma=1.4, kernel=rbf ....................................\n",
      "[CV] ..................... C=1.4, gamma=1.4, kernel=rbf, total=   0.0s\n",
      "[CV] C=1.4, gamma=1.4, kernel=rbf ....................................\n",
      "[CV] ..................... C=1.4, gamma=1.4, kernel=rbf, total=   0.0s\n",
      "[CV] C=1.4, gamma=1.4, kernel=rbf ....................................\n",
      "[CV] ..................... C=1.4, gamma=1.4, kernel=rbf, total=   0.0s\n"
     ]
    },
    {
     "name": "stderr",
     "output_type": "stream",
     "text": [
      "[Parallel(n_jobs=1)]: Done 980 out of 980 | elapsed:    3.3s finished\n"
     ]
    },
    {
     "data": {
      "text/plain": [
       "{'C': 0.1, 'gamma': 0.1, 'kernel': 'linear'}"
      ]
     },
     "execution_count": 110,
     "metadata": {},
     "output_type": "execute_result"
    }
   ],
   "source": [
    "grid_clf.fit(X_train, y_train)\n",
    "grid_clf.best_params_"
   ]
  },
  {
   "cell_type": "markdown",
   "metadata": {},
   "source": [
    "#### Re-runing models with best parameters"
   ]
  },
  {
   "cell_type": "code",
   "execution_count": 111,
   "metadata": {},
   "outputs": [
    {
     "data": {
      "text/plain": [
       "SVC(C=0.1, cache_size=200, class_weight=None, coef0=0.0,\n",
       "    decision_function_shape='ovr', degree=3, gamma=0.1, kernel='linear',\n",
       "    max_iter=-1, probability=False, random_state=None, shrinking=True,\n",
       "    tol=0.001, verbose=False)"
      ]
     },
     "execution_count": 111,
     "metadata": {},
     "output_type": "execute_result"
    }
   ],
   "source": [
    "classifier = grid_clf.best_estimator_\n",
    "classifier.fit(X_train, y_train)"
   ]
  },
  {
   "cell_type": "markdown",
   "metadata": {},
   "source": [
    "#### Predicting"
   ]
  },
  {
   "cell_type": "code",
   "execution_count": 112,
   "metadata": {},
   "outputs": [],
   "source": [
    "# Predicting the Train set results\n",
    "y_train_pred = grid_clf.predict(X_train)\n",
    "# Predicting the Test set results\n",
    "y_test_pred = grid_clf.predict(X_test)"
   ]
  },
  {
   "cell_type": "markdown",
   "metadata": {},
   "source": [
    "#### Evaluation Metrics"
   ]
  },
  {
   "cell_type": "code",
   "execution_count": 113,
   "metadata": {},
   "outputs": [
    {
     "name": "stdout",
     "output_type": "stream",
     "text": [
      "[[37  0  0]\n",
      " [ 0 33  1]\n",
      " [ 0  2 39]]\n",
      "                 precision    recall  f1-score   support\n",
      "\n",
      "    Iris-setosa       1.00      1.00      1.00        37\n",
      "Iris-versicolor       0.94      0.97      0.96        34\n",
      " Iris-virginica       0.97      0.95      0.96        41\n",
      "\n",
      "       accuracy                           0.97       112\n",
      "      macro avg       0.97      0.97      0.97       112\n",
      "   weighted avg       0.97      0.97      0.97       112\n",
      "\n"
     ]
    }
   ],
   "source": [
    "print(confusion_matrix(y_train, y_train_pred))\n",
    "print(classification_report(y_train, y_train_pred))"
   ]
  },
  {
   "cell_type": "code",
   "execution_count": 114,
   "metadata": {},
   "outputs": [
    {
     "name": "stdout",
     "output_type": "stream",
     "text": [
      "[[13  0  0]\n",
      " [ 0 15  1]\n",
      " [ 0  0  9]]\n",
      "                 precision    recall  f1-score   support\n",
      "\n",
      "    Iris-setosa       1.00      1.00      1.00        13\n",
      "Iris-versicolor       1.00      0.94      0.97        16\n",
      " Iris-virginica       0.90      1.00      0.95         9\n",
      "\n",
      "       accuracy                           0.97        38\n",
      "      macro avg       0.97      0.98      0.97        38\n",
      "   weighted avg       0.98      0.97      0.97        38\n",
      "\n"
     ]
    }
   ],
   "source": [
    "print(confusion_matrix(y_test, y_test_pred))\n",
    "print(classification_report(y_test, y_test_pred))"
   ]
  },
  {
   "cell_type": "code",
   "execution_count": null,
   "metadata": {},
   "outputs": [],
   "source": []
  },
  {
   "cell_type": "markdown",
   "metadata": {},
   "source": [
    "# GaussianNB"
   ]
  },
  {
   "cell_type": "markdown",
   "metadata": {},
   "source": [
    "### Training model"
   ]
  },
  {
   "cell_type": "code",
   "execution_count": 115,
   "metadata": {},
   "outputs": [
    {
     "data": {
      "text/plain": [
       "GaussianNB(priors=None, var_smoothing=1e-09)"
      ]
     },
     "execution_count": 115,
     "metadata": {},
     "output_type": "execute_result"
    }
   ],
   "source": [
    "from sklearn.naive_bayes import GaussianNB \n",
    "classifier = GaussianNB()\n",
    "classifier.fit(X_train, y_train)"
   ]
  },
  {
   "cell_type": "markdown",
   "metadata": {},
   "source": [
    "### Predicting"
   ]
  },
  {
   "cell_type": "code",
   "execution_count": 116,
   "metadata": {},
   "outputs": [],
   "source": [
    "# On train set\n",
    "y_train_pred = classifier.predict(X_train)\n",
    "\n",
    "# On test set\n",
    "y_test_pred = classifier.predict(X_test)"
   ]
  },
  {
   "cell_type": "markdown",
   "metadata": {},
   "source": [
    "### Evaluating model"
   ]
  },
  {
   "cell_type": "markdown",
   "metadata": {},
   "source": [
    "#### Confusion Matrix"
   ]
  },
  {
   "cell_type": "code",
   "execution_count": 117,
   "metadata": {},
   "outputs": [
    {
     "data": {
      "text/plain": [
       "<matplotlib.axes._subplots.AxesSubplot at 0x28fb9bee7b8>"
      ]
     },
     "execution_count": 117,
     "metadata": {},
     "output_type": "execute_result"
    },
    {
     "data": {
      "image/png": "[encoded data removed]",
      "text/plain": [
       "<Figure size 432x288 with 2 Axes>"
      ]
     },
     "metadata": {
      "needs_background": "light"
     },
     "output_type": "display_data"
    }
   ],
   "source": [
    "# Training set\n",
    "cm = confusion_matrix(y_train, y_train_pred)\n",
    "sns.heatmap(cm, annot=True)"
   ]
  },
  {
   "cell_type": "code",
   "execution_count": 118,
   "metadata": {},
   "outputs": [
    {
     "data": {
      "text/plain": [
       "<matplotlib.axes._subplots.AxesSubplot at 0x28fb9fffba8>"
      ]
     },
     "execution_count": 118,
     "metadata": {},
     "output_type": "execute_result"
    },
    {
     "data": {
      "image/png": "[encoded data removed]",
      "text/plain": [
       "<Figure size 432x288 with 2 Axes>"
      ]
     },
     "metadata": {
      "needs_background": "light"
     },
     "output_type": "display_data"
    }
   ],
   "source": [
    "# Test set\n",
    "cm = confusion_matrix(y_test, y_test_pred)\n",
    "sns.heatmap(cm, annot=True)"
   ]
  },
  {
   "cell_type": "markdown",
   "metadata": {},
   "source": [
    "#### Classification Report"
   ]
  },
  {
   "cell_type": "code",
   "execution_count": 119,
   "metadata": {},
   "outputs": [
    {
     "name": "stdout",
     "output_type": "stream",
     "text": [
      "                 precision    recall  f1-score   support\n",
      "\n",
      "    Iris-setosa       1.00      1.00      1.00        37\n",
      "Iris-versicolor       0.91      0.91      0.91        34\n",
      " Iris-virginica       0.93      0.93      0.93        41\n",
      "\n",
      "       accuracy                           0.95       112\n",
      "      macro avg       0.95      0.95      0.95       112\n",
      "   weighted avg       0.95      0.95      0.95       112\n",
      "\n"
     ]
    }
   ],
   "source": [
    "print(classification_report(y_train, y_train_pred))"
   ]
  },
  {
   "cell_type": "code",
   "execution_count": 120,
   "metadata": {},
   "outputs": [
    {
     "name": "stdout",
     "output_type": "stream",
     "text": [
      "                 precision    recall  f1-score   support\n",
      "\n",
      "    Iris-setosa       1.00      1.00      1.00        13\n",
      "Iris-versicolor       1.00      1.00      1.00        16\n",
      " Iris-virginica       1.00      1.00      1.00         9\n",
      "\n",
      "       accuracy                           1.00        38\n",
      "      macro avg       1.00      1.00      1.00        38\n",
      "   weighted avg       1.00      1.00      1.00        38\n",
      "\n"
     ]
    }
   ],
   "source": [
    "print(classification_report(y_test, y_test_pred))"
   ]
  },
  {
   "cell_type": "code",
   "execution_count": null,
   "metadata": {},
   "outputs": [],
   "source": []
  },
  {
   "cell_type": "code",
   "execution_count": null,
   "metadata": {},
   "outputs": [],
   "source": []
  },
  {
   "cell_type": "markdown",
   "metadata": {},
   "source": [
    "# KNN"
   ]
  },
  {
   "cell_type": "markdown",
   "metadata": {},
   "source": [
    "### Training model"
   ]
  },
  {
   "cell_type": "code",
   "execution_count": 121,
   "metadata": {},
   "outputs": [],
   "source": [
    "from sklearn.neighbors import KNeighborsClassifier\n",
    "error_rate =[]\n",
    "\n",
    "for i in range (1,50):\n",
    "    classifier = KNeighborsClassifier(n_neighbors=i)\n",
    "    classifier.fit(X_train,y_train)\n",
    "    pred_i= classifier.predict(X_test)\n",
    "    error_rate.append(np.mean(pred_i != y_test))"
   ]
  },
  {
   "cell_type": "markdown",
   "metadata": {},
   "source": [
    "### Select k values"
   ]
  },
  {
   "cell_type": "code",
   "execution_count": 122,
   "metadata": {},
   "outputs": [
    {
     "data": {
      "text/plain": [
       "Text(0, 0.5, 'Error Rate')"
      ]
     },
     "execution_count": 122,
     "metadata": {},
     "output_type": "execute_result"
    },
    {
     "data": {
      "image/png": "[encoded data removed]",
      "text/plain": [
       "<Figure size 720x432 with 1 Axes>"
      ]
     },
     "metadata": {
      "needs_background": "light"
     },
     "output_type": "display_data"
    }
   ],
   "source": [
    "plt.figure(figsize=(10,6))\n",
    "plt.plot(range(1,50),error_rate,color='blue',linestyle='dashed',marker='o',markerfacecolor='red',markersize=10)\n",
    "plt.title('Error rate vs K-value')\n",
    "plt.xlabel('K')\n",
    "plt.ylabel('Error Rate')"
   ]
  },
  {
   "cell_type": "markdown",
   "metadata": {},
   "source": [
    "### select k = 3"
   ]
  },
  {
   "cell_type": "code",
   "execution_count": 123,
   "metadata": {},
   "outputs": [
    {
     "data": {
      "text/plain": [
       "KNeighborsClassifier(algorithm='auto', leaf_size=30, metric='minkowski',\n",
       "                     metric_params=None, n_jobs=None, n_neighbors=3, p=2,\n",
       "                     weights='uniform')"
      ]
     },
     "execution_count": 123,
     "metadata": {},
     "output_type": "execute_result"
    }
   ],
   "source": [
    "classifier = KNeighborsClassifier(n_neighbors=3)\n",
    "classifier.fit(X_train,y_train)"
   ]
  },
  {
   "cell_type": "markdown",
   "metadata": {},
   "source": [
    "### Predicting"
   ]
  },
  {
   "cell_type": "code",
   "execution_count": 124,
   "metadata": {},
   "outputs": [],
   "source": [
    "# Predicting the Train set results\n",
    "y_train_pred = classifier.predict(X_train)\n",
    "# Predicting the Test set results\n",
    "y_test_pred = classifier.predict(X_test)"
   ]
  },
  {
   "cell_type": "code",
   "execution_count": null,
   "metadata": {},
   "outputs": [],
   "source": []
  },
  {
   "cell_type": "markdown",
   "metadata": {},
   "source": [
    "### Evaluating model"
   ]
  },
  {
   "cell_type": "markdown",
   "metadata": {},
   "source": [
    "#### Accuracy score"
   ]
  },
  {
   "cell_type": "code",
   "execution_count": 125,
   "metadata": {},
   "outputs": [
    {
     "name": "stdout",
     "output_type": "stream",
     "text": [
      "0.9732142857142857\n",
      "0.9736842105263158\n"
     ]
    }
   ],
   "source": [
    "# On train set\n",
    "print(accuracy_score(y_train,y_train_pred))\n",
    "# On test set\n",
    "print(accuracy_score(y_test,y_test_pred))"
   ]
  },
  {
   "cell_type": "markdown",
   "metadata": {},
   "source": [
    "#### Confusion matrix"
   ]
  },
  {
   "cell_type": "code",
   "execution_count": 126,
   "metadata": {},
   "outputs": [
    {
     "data": {
      "text/plain": [
       "<matplotlib.axes._subplots.AxesSubplot at 0x28fb9bd0710>"
      ]
     },
     "execution_count": 126,
     "metadata": {},
     "output_type": "execute_result"
    },
    {
     "data": {
      "image/png": "[encoded data removed]",
      "text/plain": [
       "<Figure size 432x288 with 2 Axes>"
      ]
     },
     "metadata": {
      "needs_background": "light"
     },
     "output_type": "display_data"
    }
   ],
   "source": [
    "# Training set\n",
    "cm = confusion_matrix(y_train,y_train_pred)\n",
    "sns.heatmap(cm, annot=True)"
   ]
  },
  {
   "cell_type": "code",
   "execution_count": 127,
   "metadata": {},
   "outputs": [
    {
     "data": {
      "text/plain": [
       "<matplotlib.axes._subplots.AxesSubplot at 0x28fbb7aeac8>"
      ]
     },
     "execution_count": 127,
     "metadata": {},
     "output_type": "execute_result"
    },
    {
     "data": {
      "image/png": "[encoded data removed]",
      "text/plain": [
       "<Figure size 432x288 with 2 Axes>"
      ]
     },
     "metadata": {
      "needs_background": "light"
     },
     "output_type": "display_data"
    }
   ],
   "source": [
    "# Training set\n",
    "cm = confusion_matrix(y_test,y_test_pred)\n",
    "sns.heatmap(cm, annot=True)"
   ]
  },
  {
   "cell_type": "markdown",
   "metadata": {},
   "source": [
    "#### Classification report"
   ]
  },
  {
   "cell_type": "code",
   "execution_count": 128,
   "metadata": {},
   "outputs": [
    {
     "name": "stdout",
     "output_type": "stream",
     "text": [
      "                 precision    recall  f1-score   support\n",
      "\n",
      "    Iris-setosa       1.00      1.00      1.00        37\n",
      "Iris-versicolor       0.94      0.97      0.96        34\n",
      " Iris-virginica       0.97      0.95      0.96        41\n",
      "\n",
      "       accuracy                           0.97       112\n",
      "      macro avg       0.97      0.97      0.97       112\n",
      "   weighted avg       0.97      0.97      0.97       112\n",
      "\n"
     ]
    }
   ],
   "source": [
    "print(classification_report(y_train,y_train_pred))"
   ]
  },
  {
   "cell_type": "code",
   "execution_count": 129,
   "metadata": {},
   "outputs": [
    {
     "name": "stdout",
     "output_type": "stream",
     "text": [
      "                 precision    recall  f1-score   support\n",
      "\n",
      "    Iris-setosa       1.00      1.00      1.00        13\n",
      "Iris-versicolor       1.00      0.94      0.97        16\n",
      " Iris-virginica       0.90      1.00      0.95         9\n",
      "\n",
      "       accuracy                           0.97        38\n",
      "      macro avg       0.97      0.98      0.97        38\n",
      "   weighted avg       0.98      0.97      0.97        38\n",
      "\n"
     ]
    }
   ],
   "source": [
    "print(classification_report(y_test,y_test_pred))"
   ]
  },
  {
   "cell_type": "markdown",
   "metadata": {},
   "source": [
    "# Neural Network"
   ]
  },
  {
   "cell_type": "code",
   "execution_count": 130,
   "metadata": {},
   "outputs": [
    {
     "data": {
      "text/html": [
       "<div>\n",
       "<style scoped>\n",
       "    .dataframe tbody tr th:only-of-type {\n",
       "        vertical-align: middle;\n",
       "    }\n",
       "\n",
       "    .dataframe tbody tr th {\n",
       "        vertical-align: top;\n",
       "    }\n",
       "\n",
       "    .dataframe thead th {\n",
       "        text-align: right;\n",
       "    }\n",
       "</style>\n",
       "<table border=\"1\" class=\"dataframe\">\n",
       "  <thead>\n",
       "    <tr style=\"text-align: right;\">\n",
       "      <th></th>\n",
       "      <th>Iris-setosa</th>\n",
       "      <th>Iris-versicolor</th>\n",
       "      <th>Iris-virginica</th>\n",
       "    </tr>\n",
       "  </thead>\n",
       "  <tbody>\n",
       "    <tr>\n",
       "      <th>0</th>\n",
       "      <td>1</td>\n",
       "      <td>0</td>\n",
       "      <td>0</td>\n",
       "    </tr>\n",
       "    <tr>\n",
       "      <th>1</th>\n",
       "      <td>1</td>\n",
       "      <td>0</td>\n",
       "      <td>0</td>\n",
       "    </tr>\n",
       "    <tr>\n",
       "      <th>2</th>\n",
       "      <td>1</td>\n",
       "      <td>0</td>\n",
       "      <td>0</td>\n",
       "    </tr>\n",
       "  </tbody>\n",
       "</table>\n",
       "</div>"
      ],
      "text/plain": [
       "   Iris-setosa  Iris-versicolor  Iris-virginica\n",
       "0            1                0               0\n",
       "1            1                0               0\n",
       "2            1                0               0"
      ]
     },
     "execution_count": 130,
     "metadata": {},
     "output_type": "execute_result"
    }
   ],
   "source": [
    "# convert the class data to categorical values - one-hot-encoded vectors\n",
    "y1 = pd.get_dummies(y)\n",
    "y1.iloc[:3]"
   ]
  },
  {
   "cell_type": "code",
   "execution_count": 131,
   "metadata": {},
   "outputs": [],
   "source": [
    "X_train, X_test, y_train, y_test = train_test_split(X, y1, test_size = 0.3, random_state = 7)"
   ]
  },
  {
   "cell_type": "markdown",
   "metadata": {},
   "source": [
    "### Setup architecture of model"
   ]
  },
  {
   "cell_type": "code",
   "execution_count": 133,
   "metadata": {},
   "outputs": [
    {
     "name": "stdout",
     "output_type": "stream",
     "text": [
      "Model: \"sequential_2\"\n",
      "_________________________________________________________________\n",
      "Layer (type)                 Output Shape              Param #   \n",
      "=================================================================\n",
      "dense_4 (Dense)              (None, 8)                 40        \n",
      "_________________________________________________________________\n",
      "dense_5 (Dense)              (None, 4)                 36        \n",
      "_________________________________________________________________\n",
      "dense_6 (Dense)              (None, 3)                 15        \n",
      "=================================================================\n",
      "Total params: 91\n",
      "Trainable params: 91\n",
      "Non-trainable params: 0\n",
      "_________________________________________________________________\n",
      "None\n"
     ]
    }
   ],
   "source": [
    "# build a neural network using Keras\n",
    "from keras.models import Sequential\n",
    "from keras.layers import Dense\n",
    "from keras.optimizers import Adam\n",
    "\n",
    "# define a function to build the keras model\n",
    "def create_model(input_len, output_len):\n",
    "    # create model\n",
    "    model = Sequential()\n",
    "    model.add(Dense(8, input_dim = input_len, kernel_initializer='normal', activation='relu'))\n",
    "    model.add(Dense(4, kernel_initializer = 'normal', activation='relu'))\n",
    "    model.add(Dense(output_len, activation='sigmoid'))\n",
    "    \n",
    "    # compile model\n",
    "    adam = Adam(lr=0.001)\n",
    "    model.compile(loss='categorical_crossentropy', optimizer=adam, metrics=['accuracy'])\n",
    "    return model\n",
    "\n",
    "classifier = create_model(X.shape[1],3)\n",
    "\n",
    "print(classifier.summary())"
   ]
  },
  {
   "cell_type": "markdown",
   "metadata": {},
   "source": [
    "### Training model"
   ]
  },
  {
   "cell_type": "code",
   "execution_count": 134,
   "metadata": {},
   "outputs": [
    {
     "name": "stderr",
     "output_type": "stream",
     "text": [
      "WARNING: Logging before flag parsing goes to stderr.\n",
      "W1110 17:54:18.679335  7500 deprecation.py:323] From C:\\Anaconda3\\lib\\site-packages\\tensorflow\\python\\ops\\math_grad.py:1250: add_dispatch_support.<locals>.wrapper (from tensorflow.python.ops.array_ops) is deprecated and will be removed in a future version.\n",
      "Instructions for updating:\n",
      "Use tf.where in 2.0, which has the same broadcast rule as np.where\n",
      "W1110 17:54:19.024446  7500 deprecation_wrapper.py:119] From C:\\Anaconda3\\lib\\site-packages\\keras\\backend\\tensorflow_backend.py:422: The name tf.global_variables is deprecated. Please use tf.compat.v1.global_variables instead.\n",
      "\n"
     ]
    },
    {
     "name": "stdout",
     "output_type": "stream",
     "text": [
      "Epoch 1/50\n",
      "105/105 [==============================] - 0s 2ms/step - loss: 1.0973 - accuracy: 0.3524\n",
      "Epoch 2/50\n",
      "105/105 [==============================] - 0s 149us/step - loss: 1.0942 - accuracy: 0.3905\n",
      "Epoch 3/50\n",
      "105/105 [==============================] - 0s 149us/step - loss: 1.0903 - accuracy: 0.4381\n",
      "Epoch 4/50\n",
      "105/105 [==============================] - 0s 149us/step - loss: 1.0851 - accuracy: 0.5238\n",
      "Epoch 5/50\n",
      "105/105 [==============================] - 0s 149us/step - loss: 1.0782 - accuracy: 0.5429\n",
      "Epoch 6/50\n",
      "105/105 [==============================] - 0s 149us/step - loss: 1.0687 - accuracy: 0.5810\n",
      "Epoch 7/50\n",
      "105/105 [==============================] - 0s 149us/step - loss: 1.0561 - accuracy: 0.6381\n",
      "Epoch 8/50\n",
      "105/105 [==============================] - 0s 149us/step - loss: 1.0411 - accuracy: 0.6571\n",
      "Epoch 9/50\n",
      "105/105 [==============================] - 0s 149us/step - loss: 1.0216 - accuracy: 0.6667\n",
      "Epoch 10/50\n",
      "105/105 [==============================] - 0s 311us/step - loss: 1.0007 - accuracy: 0.6762\n",
      "Epoch 11/50\n",
      "105/105 [==============================] - 0s 149us/step - loss: 0.9770 - accuracy: 0.6762\n",
      "Epoch 12/50\n",
      "105/105 [==============================] - 0s 149us/step - loss: 0.9486 - accuracy: 0.6762\n",
      "Epoch 13/50\n",
      "105/105 [==============================] - 0s 305us/step - loss: 0.9161 - accuracy: 0.6762\n",
      "Epoch 14/50\n",
      "105/105 [==============================] - 0s 149us/step - loss: 0.8856 - accuracy: 0.6762\n",
      "Epoch 15/50\n",
      "105/105 [==============================] - 0s 149us/step - loss: 0.8530 - accuracy: 0.6762\n",
      "Epoch 16/50\n",
      "105/105 [==============================] - 0s 149us/step - loss: 0.8198 - accuracy: 0.7143\n",
      "Epoch 17/50\n",
      "105/105 [==============================] - 0s 149us/step - loss: 0.7894 - accuracy: 0.7238\n",
      "Epoch 18/50\n",
      "105/105 [==============================] - 0s 149us/step - loss: 0.7625 - accuracy: 0.7333\n",
      "Epoch 19/50\n",
      "105/105 [==============================] - 0s 149us/step - loss: 0.7381 - accuracy: 0.7429\n",
      "Epoch 20/50\n",
      "105/105 [==============================] - 0s 149us/step - loss: 0.7163 - accuracy: 0.7524\n",
      "Epoch 21/50\n",
      "105/105 [==============================] - 0s 298us/step - loss: 0.6965 - accuracy: 0.7619\n",
      "Epoch 22/50\n",
      "105/105 [==============================] - 0s 149us/step - loss: 0.6802 - accuracy: 0.7619\n",
      "Epoch 23/50\n",
      "105/105 [==============================] - 0s 149us/step - loss: 0.6639 - accuracy: 0.7619\n",
      "Epoch 24/50\n",
      "105/105 [==============================] - 0s 162us/step - loss: 0.6497 - accuracy: 0.7619\n",
      "Epoch 25/50\n",
      "105/105 [==============================] - 0s 149us/step - loss: 0.6367 - accuracy: 0.7714\n",
      "Epoch 26/50\n",
      "105/105 [==============================] - 0s 159us/step - loss: 0.6242 - accuracy: 0.7714\n",
      "Epoch 27/50\n",
      "105/105 [==============================] - 0s 149us/step - loss: 0.6124 - accuracy: 0.7810\n",
      "Epoch 28/50\n",
      "105/105 [==============================] - 0s 149us/step - loss: 0.6014 - accuracy: 0.7905\n",
      "Epoch 29/50\n",
      "105/105 [==============================] - 0s 149us/step - loss: 0.5911 - accuracy: 0.8000\n",
      "Epoch 30/50\n",
      "105/105 [==============================] - 0s 298us/step - loss: 0.5810 - accuracy: 0.8000\n",
      "Epoch 31/50\n",
      "105/105 [==============================] - 0s 149us/step - loss: 0.5712 - accuracy: 0.8095\n",
      "Epoch 32/50\n",
      "105/105 [==============================] - 0s 149us/step - loss: 0.5619 - accuracy: 0.8095\n",
      "Epoch 33/50\n",
      "105/105 [==============================] - 0s 149us/step - loss: 0.5529 - accuracy: 0.8095\n",
      "Epoch 34/50\n",
      "105/105 [==============================] - 0s 149us/step - loss: 0.5439 - accuracy: 0.8095\n",
      "Epoch 35/50\n",
      "105/105 [==============================] - 0s 149us/step - loss: 0.5348 - accuracy: 0.8095\n",
      "Epoch 36/50\n",
      "105/105 [==============================] - 0s 149us/step - loss: 0.5264 - accuracy: 0.8190\n",
      "Epoch 37/50\n",
      "105/105 [==============================] - 0s 161us/step - loss: 0.5181 - accuracy: 0.8286\n",
      "Epoch 38/50\n",
      "105/105 [==============================] - 0s 149us/step - loss: 0.5099 - accuracy: 0.8381\n",
      "Epoch 39/50\n",
      "105/105 [==============================] - 0s 149us/step - loss: 0.5021 - accuracy: 0.8476\n",
      "Epoch 40/50\n",
      "105/105 [==============================] - 0s 149us/step - loss: 0.4947 - accuracy: 0.8476\n",
      "Epoch 41/50\n",
      "105/105 [==============================] - 0s 149us/step - loss: 0.4872 - accuracy: 0.8571\n",
      "Epoch 42/50\n",
      "105/105 [==============================] - 0s 149us/step - loss: 0.4801 - accuracy: 0.8667\n",
      "Epoch 43/50\n",
      "105/105 [==============================] - 0s 149us/step - loss: 0.4736 - accuracy: 0.8667\n",
      "Epoch 44/50\n",
      "105/105 [==============================] - 0s 149us/step - loss: 0.4667 - accuracy: 0.8667\n",
      "Epoch 45/50\n",
      "105/105 [==============================] - 0s 0us/step - loss: 0.4600 - accuracy: 0.8667\n",
      "Epoch 46/50\n",
      "105/105 [==============================] - 0s 19us/step - loss: 0.4541 - accuracy: 0.8667\n",
      "Epoch 47/50\n",
      "105/105 [==============================] - 0s 149us/step - loss: 0.4483 - accuracy: 0.8667\n",
      "Epoch 48/50\n",
      "105/105 [==============================] - 0s 149us/step - loss: 0.4427 - accuracy: 0.8762\n",
      "Epoch 49/50\n",
      "105/105 [==============================] - 0s 149us/step - loss: 0.4371 - accuracy: 0.8762\n",
      "Epoch 50/50\n",
      "105/105 [==============================] - 0s 149us/step - loss: 0.4319 - accuracy: 0.8667\n"
     ]
    },
    {
     "data": {
      "text/plain": [
       "<keras.callbacks.callbacks.History at 0x28fca86c438>"
      ]
     },
     "execution_count": 134,
     "metadata": {},
     "output_type": "execute_result"
    }
   ],
   "source": [
    "# fit the model to the training data\n",
    "classifier.fit(X_train, y_train, epochs=50, batch_size=10, verbose=1)"
   ]
  },
  {
   "cell_type": "markdown",
   "metadata": {},
   "source": [
    "### Predicting"
   ]
  },
  {
   "cell_type": "code",
   "execution_count": 135,
   "metadata": {},
   "outputs": [],
   "source": [
    "# On train set\n",
    "y_train_pred = classifier.predict_classes(X_train)\n",
    "\n",
    "# On test set\n",
    "y_test_pred = classifier.predict_classes(X_test)"
   ]
  },
  {
   "cell_type": "markdown",
   "metadata": {},
   "source": [
    "### Evaluating models"
   ]
  },
  {
   "cell_type": "markdown",
   "metadata": {},
   "source": [
    "#### Accuracy score"
   ]
  },
  {
   "cell_type": "code",
   "execution_count": 136,
   "metadata": {},
   "outputs": [
    {
     "ename": "KeyError",
     "evalue": "\"None of [Int64Index([1], dtype='int64')] are in the [columns]\"",
     "output_type": "error",
     "traceback": [
      "\u001b[1;31m---------------------------------------------------------------------------\u001b[0m",
      "\u001b[1;31mKeyError\u001b[0m                                  Traceback (most recent call last)",
      "\u001b[1;32m<ipython-input-136-8a76d20bed91>\u001b[0m in \u001b[0;36m<module>\u001b[1;34m\u001b[0m\n\u001b[0;32m      1\u001b[0m \u001b[1;31m# On train set\u001b[0m\u001b[1;33m\u001b[0m\u001b[1;33m\u001b[0m\u001b[1;33m\u001b[0m\u001b[0m\n\u001b[1;32m----> 2\u001b[1;33m \u001b[0mprint\u001b[0m\u001b[1;33m(\u001b[0m\u001b[0maccuracy_score\u001b[0m\u001b[1;33m(\u001b[0m\u001b[0my_train\u001b[0m\u001b[1;33m[\u001b[0m\u001b[1;33m[\u001b[0m\u001b[1;36m1\u001b[0m\u001b[1;33m]\u001b[0m\u001b[1;33m]\u001b[0m\u001b[1;33m,\u001b[0m\u001b[0my_train_pred\u001b[0m\u001b[1;33m)\u001b[0m\u001b[1;33m)\u001b[0m\u001b[1;33m\u001b[0m\u001b[1;33m\u001b[0m\u001b[0m\n\u001b[0m\u001b[0;32m      3\u001b[0m \u001b[1;31m# On test set\u001b[0m\u001b[1;33m\u001b[0m\u001b[1;33m\u001b[0m\u001b[1;33m\u001b[0m\u001b[0m\n\u001b[0;32m      4\u001b[0m \u001b[0mprint\u001b[0m\u001b[1;33m(\u001b[0m\u001b[0maccuracy_score\u001b[0m\u001b[1;33m(\u001b[0m\u001b[0my_test\u001b[0m\u001b[1;33m[\u001b[0m\u001b[1;33m[\u001b[0m\u001b[1;36m1\u001b[0m\u001b[1;33m]\u001b[0m\u001b[1;33m]\u001b[0m\u001b[1;33m,\u001b[0m\u001b[0my_test_pred\u001b[0m\u001b[1;33m)\u001b[0m\u001b[1;33m)\u001b[0m\u001b[1;33m\u001b[0m\u001b[1;33m\u001b[0m\u001b[0m\n",
      "\u001b[1;32mC:\\Anaconda3\\lib\\site-packages\\pandas\\core\\frame.py\u001b[0m in \u001b[0;36m__getitem__\u001b[1;34m(self, key)\u001b[0m\n\u001b[0;32m   2932\u001b[0m                 \u001b[0mkey\u001b[0m \u001b[1;33m=\u001b[0m \u001b[0mlist\u001b[0m\u001b[1;33m(\u001b[0m\u001b[0mkey\u001b[0m\u001b[1;33m)\u001b[0m\u001b[1;33m\u001b[0m\u001b[1;33m\u001b[0m\u001b[0m\n\u001b[0;32m   2933\u001b[0m             indexer = self.loc._convert_to_indexer(key, axis=1,\n\u001b[1;32m-> 2934\u001b[1;33m                                                    raise_missing=True)\n\u001b[0m\u001b[0;32m   2935\u001b[0m \u001b[1;33m\u001b[0m\u001b[0m\n\u001b[0;32m   2936\u001b[0m         \u001b[1;31m# take() does not accept boolean indexers\u001b[0m\u001b[1;33m\u001b[0m\u001b[1;33m\u001b[0m\u001b[1;33m\u001b[0m\u001b[0m\n",
      "\u001b[1;32mC:\\Anaconda3\\lib\\site-packages\\pandas\\core\\indexing.py\u001b[0m in \u001b[0;36m_convert_to_indexer\u001b[1;34m(self, obj, axis, is_setter, raise_missing)\u001b[0m\n\u001b[0;32m   1352\u001b[0m                 kwargs = {'raise_missing': True if is_setter else\n\u001b[0;32m   1353\u001b[0m                           raise_missing}\n\u001b[1;32m-> 1354\u001b[1;33m                 \u001b[1;32mreturn\u001b[0m \u001b[0mself\u001b[0m\u001b[1;33m.\u001b[0m\u001b[0m_get_listlike_indexer\u001b[0m\u001b[1;33m(\u001b[0m\u001b[0mobj\u001b[0m\u001b[1;33m,\u001b[0m \u001b[0maxis\u001b[0m\u001b[1;33m,\u001b[0m \u001b[1;33m**\u001b[0m\u001b[0mkwargs\u001b[0m\u001b[1;33m)\u001b[0m\u001b[1;33m[\u001b[0m\u001b[1;36m1\u001b[0m\u001b[1;33m]\u001b[0m\u001b[1;33m\u001b[0m\u001b[1;33m\u001b[0m\u001b[0m\n\u001b[0m\u001b[0;32m   1355\u001b[0m         \u001b[1;32melse\u001b[0m\u001b[1;33m:\u001b[0m\u001b[1;33m\u001b[0m\u001b[1;33m\u001b[0m\u001b[0m\n\u001b[0;32m   1356\u001b[0m             \u001b[1;32mtry\u001b[0m\u001b[1;33m:\u001b[0m\u001b[1;33m\u001b[0m\u001b[1;33m\u001b[0m\u001b[0m\n",
      "\u001b[1;32mC:\\Anaconda3\\lib\\site-packages\\pandas\\core\\indexing.py\u001b[0m in \u001b[0;36m_get_listlike_indexer\u001b[1;34m(self, key, axis, raise_missing)\u001b[0m\n\u001b[0;32m   1159\u001b[0m         self._validate_read_indexer(keyarr, indexer,\n\u001b[0;32m   1160\u001b[0m                                     \u001b[0mo\u001b[0m\u001b[1;33m.\u001b[0m\u001b[0m_get_axis_number\u001b[0m\u001b[1;33m(\u001b[0m\u001b[0maxis\u001b[0m\u001b[1;33m)\u001b[0m\u001b[1;33m,\u001b[0m\u001b[1;33m\u001b[0m\u001b[1;33m\u001b[0m\u001b[0m\n\u001b[1;32m-> 1161\u001b[1;33m                                     raise_missing=raise_missing)\n\u001b[0m\u001b[0;32m   1162\u001b[0m         \u001b[1;32mreturn\u001b[0m \u001b[0mkeyarr\u001b[0m\u001b[1;33m,\u001b[0m \u001b[0mindexer\u001b[0m\u001b[1;33m\u001b[0m\u001b[1;33m\u001b[0m\u001b[0m\n\u001b[0;32m   1163\u001b[0m \u001b[1;33m\u001b[0m\u001b[0m\n",
      "\u001b[1;32mC:\\Anaconda3\\lib\\site-packages\\pandas\\core\\indexing.py\u001b[0m in \u001b[0;36m_validate_read_indexer\u001b[1;34m(self, key, indexer, axis, raise_missing)\u001b[0m\n\u001b[0;32m   1244\u001b[0m                 raise KeyError(\n\u001b[0;32m   1245\u001b[0m                     u\"None of [{key}] are in the [{axis}]\".format(\n\u001b[1;32m-> 1246\u001b[1;33m                         key=key, axis=self.obj._get_axis_name(axis)))\n\u001b[0m\u001b[0;32m   1247\u001b[0m \u001b[1;33m\u001b[0m\u001b[0m\n\u001b[0;32m   1248\u001b[0m             \u001b[1;31m# We (temporarily) allow for some missing keys with .loc, except in\u001b[0m\u001b[1;33m\u001b[0m\u001b[1;33m\u001b[0m\u001b[1;33m\u001b[0m\u001b[0m\n",
      "\u001b[1;31mKeyError\u001b[0m: \"None of [Int64Index([1], dtype='int64')] are in the [columns]\""
     ]
    }
   ],
   "source": [
    "# On train set\n",
    "print(accuracy_score(y_train[[1]],y_train_pred))\n",
    "# On test set\n",
    "print(accuracy_score(y_test[[1]],y_test_pred))"
   ]
  },
  {
   "cell_type": "markdown",
   "metadata": {},
   "source": [
    "#### Confusion matrix"
   ]
  },
  {
   "cell_type": "code",
   "execution_count": 640,
   "metadata": {},
   "outputs": [
    {
     "data": {
      "text/plain": [
       "<matplotlib.axes._subplots.AxesSubplot at 0x165ec040160>"
      ]
     },
     "execution_count": 640,
     "metadata": {},
     "output_type": "execute_result"
    },
    {
     "data": {
      "image/png": "[encoded data removed]",
      "text/plain": [
       "<Figure size 432x288 with 2 Axes>"
      ]
     },
     "metadata": {
      "needs_background": "light"
     },
     "output_type": "display_data"
    }
   ],
   "source": [
    "# Training set\n",
    "cm = confusion_matrix(y_train[[1]],y_train_pred)\n",
    "sns.heatmap(cm, annot=True)"
   ]
  },
  {
   "cell_type": "code",
   "execution_count": 641,
   "metadata": {},
   "outputs": [
    {
     "data": {
      "text/plain": [
       "<matplotlib.axes._subplots.AxesSubplot at 0x165ec0c54a8>"
      ]
     },
     "execution_count": 641,
     "metadata": {},
     "output_type": "execute_result"
    },
    {
     "data": {
      "image/png": "[encoded data removed]",
      "text/plain": [
       "<Figure size 432x288 with 2 Axes>"
      ]
     },
     "metadata": {
      "needs_background": "light"
     },
     "output_type": "display_data"
    }
   ],
   "source": [
    "# Training set\n",
    "cm = confusion_matrix(y_test[[1]],y_test_pred)\n",
    "sns.heatmap(cm, annot=True)"
   ]
  },
  {
   "cell_type": "markdown",
   "metadata": {},
   "source": [
    "#### Classification report"
   ]
  },
  {
   "cell_type": "code",
   "execution_count": 638,
   "metadata": {},
   "outputs": [
    {
     "name": "stdout",
     "output_type": "stream",
     "text": [
      "              precision    recall  f1-score   support\n",
      "\n",
      "           0       1.00      1.00      1.00       206\n",
      "           1       1.00      1.00      1.00       475\n",
      "\n",
      "    accuracy                           1.00       681\n",
      "   macro avg       1.00      1.00      1.00       681\n",
      "weighted avg       1.00      1.00      1.00       681\n",
      "\n"
     ]
    }
   ],
   "source": [
    "print(classification_report(y_train[[1]],y_train_pred))"
   ]
  },
  {
   "cell_type": "code",
   "execution_count": 639,
   "metadata": {},
   "outputs": [
    {
     "name": "stdout",
     "output_type": "stream",
     "text": [
      "              precision    recall  f1-score   support\n",
      "\n",
      "           0       1.00      1.00      1.00        77\n",
      "           1       1.00      1.00      1.00       215\n",
      "\n",
      "    accuracy                           1.00       292\n",
      "   macro avg       1.00      1.00      1.00       292\n",
      "weighted avg       1.00      1.00      1.00       292\n",
      "\n"
     ]
    }
   ],
   "source": [
    "print(classification_report(y_test[[1]],y_test_pred))"
   ]
  },
  {
   "cell_type": "markdown",
   "metadata": {},
   "source": [
    "# Visualising the results"
   ]
  },
  {
   "cell_type": "code",
   "execution_count": 85,
   "metadata": {},
   "outputs": [
    {
     "ename": "KeyError",
     "evalue": "\"None of [Int64Index([0], dtype='int64')] are in the [columns]\"",
     "output_type": "error",
     "traceback": [
      "\u001b[1;31m---------------------------------------------------------------------------\u001b[0m",
      "\u001b[1;31mKeyError\u001b[0m                                  Traceback (most recent call last)",
      "\u001b[1;32m<ipython-input-85-fda200bef948>\u001b[0m in \u001b[0;36m<module>\u001b[1;34m\u001b[0m\n\u001b[0;32m      3\u001b[0m \u001b[0mplt\u001b[0m\u001b[1;33m.\u001b[0m\u001b[0mfigure\u001b[0m\u001b[1;33m(\u001b[0m\u001b[0mfigsize\u001b[0m\u001b[1;33m=\u001b[0m\u001b[1;33m(\u001b[0m\u001b[1;36m10\u001b[0m \u001b[1;33m,\u001b[0m \u001b[1;36m10\u001b[0m \u001b[1;33m)\u001b[0m\u001b[1;33m)\u001b[0m\u001b[1;33m\u001b[0m\u001b[1;33m\u001b[0m\u001b[0m\n\u001b[0;32m      4\u001b[0m \u001b[0mh\u001b[0m \u001b[1;33m=\u001b[0m \u001b[1;36m.01\u001b[0m\u001b[1;33m\u001b[0m\u001b[1;33m\u001b[0m\u001b[0m\n\u001b[1;32m----> 5\u001b[1;33m \u001b[0mx_min\u001b[0m\u001b[1;33m,\u001b[0m \u001b[0mx_max\u001b[0m \u001b[1;33m=\u001b[0m \u001b[0mdataset\u001b[0m\u001b[1;33m[\u001b[0m\u001b[1;33m[\u001b[0m\u001b[1;36m0\u001b[0m\u001b[1;33m]\u001b[0m\u001b[1;33m]\u001b[0m\u001b[1;33m.\u001b[0m\u001b[0mmin\u001b[0m\u001b[1;33m(\u001b[0m\u001b[1;33m)\u001b[0m \u001b[1;33m-\u001b[0m \u001b[1;36m1\u001b[0m\u001b[1;33m,\u001b[0m \u001b[0mdataset\u001b[0m\u001b[1;33m[\u001b[0m\u001b[1;33m[\u001b[0m\u001b[1;36m0\u001b[0m\u001b[1;33m]\u001b[0m\u001b[1;33m]\u001b[0m\u001b[1;33m.\u001b[0m\u001b[0mmax\u001b[0m\u001b[1;33m(\u001b[0m\u001b[1;33m)\u001b[0m \u001b[1;33m+\u001b[0m \u001b[1;36m1\u001b[0m\u001b[1;33m\u001b[0m\u001b[1;33m\u001b[0m\u001b[0m\n\u001b[0m\u001b[0;32m      6\u001b[0m \u001b[0my_min\u001b[0m\u001b[1;33m,\u001b[0m \u001b[0my_max\u001b[0m \u001b[1;33m=\u001b[0m \u001b[0mdataset\u001b[0m\u001b[1;33m[\u001b[0m\u001b[1;33m[\u001b[0m\u001b[1;36m1\u001b[0m\u001b[1;33m]\u001b[0m\u001b[1;33m]\u001b[0m\u001b[1;33m.\u001b[0m\u001b[0mmin\u001b[0m\u001b[1;33m(\u001b[0m\u001b[1;33m)\u001b[0m \u001b[1;33m-\u001b[0m \u001b[1;36m1\u001b[0m\u001b[1;33m,\u001b[0m \u001b[0mdataset\u001b[0m\u001b[1;33m[\u001b[0m\u001b[1;33m[\u001b[0m\u001b[1;36m1\u001b[0m\u001b[1;33m]\u001b[0m\u001b[1;33m]\u001b[0m\u001b[1;33m.\u001b[0m\u001b[0mmax\u001b[0m\u001b[1;33m(\u001b[0m\u001b[1;33m)\u001b[0m \u001b[1;33m+\u001b[0m \u001b[1;36m1\u001b[0m\u001b[1;33m\u001b[0m\u001b[1;33m\u001b[0m\u001b[0m\n\u001b[0;32m      7\u001b[0m \u001b[0mxx\u001b[0m\u001b[1;33m,\u001b[0m \u001b[0myy\u001b[0m \u001b[1;33m=\u001b[0m \u001b[0mnp\u001b[0m\u001b[1;33m.\u001b[0m\u001b[0mmeshgrid\u001b[0m\u001b[1;33m(\u001b[0m\u001b[0mnp\u001b[0m\u001b[1;33m.\u001b[0m\u001b[0marange\u001b[0m\u001b[1;33m(\u001b[0m\u001b[0mx_min\u001b[0m\u001b[1;33m,\u001b[0m \u001b[0mx_max\u001b[0m\u001b[1;33m,\u001b[0m \u001b[0mh\u001b[0m\u001b[1;33m)\u001b[0m\u001b[1;33m,\u001b[0m \u001b[0mnp\u001b[0m\u001b[1;33m.\u001b[0m\u001b[0marange\u001b[0m\u001b[1;33m(\u001b[0m\u001b[0my_min\u001b[0m\u001b[1;33m,\u001b[0m \u001b[0my_max\u001b[0m\u001b[1;33m,\u001b[0m\u001b[0mh\u001b[0m\u001b[1;33m)\u001b[0m\u001b[1;33m)\u001b[0m\u001b[1;33m\u001b[0m\u001b[1;33m\u001b[0m\u001b[0m\n",
      "\u001b[1;32mC:\\Anaconda3\\lib\\site-packages\\pandas\\core\\frame.py\u001b[0m in \u001b[0;36m__getitem__\u001b[1;34m(self, key)\u001b[0m\n\u001b[0;32m   2932\u001b[0m                 \u001b[0mkey\u001b[0m \u001b[1;33m=\u001b[0m \u001b[0mlist\u001b[0m\u001b[1;33m(\u001b[0m\u001b[0mkey\u001b[0m\u001b[1;33m)\u001b[0m\u001b[1;33m\u001b[0m\u001b[1;33m\u001b[0m\u001b[0m\n\u001b[0;32m   2933\u001b[0m             indexer = self.loc._convert_to_indexer(key, axis=1,\n\u001b[1;32m-> 2934\u001b[1;33m                                                    raise_missing=True)\n\u001b[0m\u001b[0;32m   2935\u001b[0m \u001b[1;33m\u001b[0m\u001b[0m\n\u001b[0;32m   2936\u001b[0m         \u001b[1;31m# take() does not accept boolean indexers\u001b[0m\u001b[1;33m\u001b[0m\u001b[1;33m\u001b[0m\u001b[1;33m\u001b[0m\u001b[0m\n",
      "\u001b[1;32mC:\\Anaconda3\\lib\\site-packages\\pandas\\core\\indexing.py\u001b[0m in \u001b[0;36m_convert_to_indexer\u001b[1;34m(self, obj, axis, is_setter, raise_missing)\u001b[0m\n\u001b[0;32m   1352\u001b[0m                 kwargs = {'raise_missing': True if is_setter else\n\u001b[0;32m   1353\u001b[0m                           raise_missing}\n\u001b[1;32m-> 1354\u001b[1;33m                 \u001b[1;32mreturn\u001b[0m \u001b[0mself\u001b[0m\u001b[1;33m.\u001b[0m\u001b[0m_get_listlike_indexer\u001b[0m\u001b[1;33m(\u001b[0m\u001b[0mobj\u001b[0m\u001b[1;33m,\u001b[0m \u001b[0maxis\u001b[0m\u001b[1;33m,\u001b[0m \u001b[1;33m**\u001b[0m\u001b[0mkwargs\u001b[0m\u001b[1;33m)\u001b[0m\u001b[1;33m[\u001b[0m\u001b[1;36m1\u001b[0m\u001b[1;33m]\u001b[0m\u001b[1;33m\u001b[0m\u001b[1;33m\u001b[0m\u001b[0m\n\u001b[0m\u001b[0;32m   1355\u001b[0m         \u001b[1;32melse\u001b[0m\u001b[1;33m:\u001b[0m\u001b[1;33m\u001b[0m\u001b[1;33m\u001b[0m\u001b[0m\n\u001b[0;32m   1356\u001b[0m             \u001b[1;32mtry\u001b[0m\u001b[1;33m:\u001b[0m\u001b[1;33m\u001b[0m\u001b[1;33m\u001b[0m\u001b[0m\n",
      "\u001b[1;32mC:\\Anaconda3\\lib\\site-packages\\pandas\\core\\indexing.py\u001b[0m in \u001b[0;36m_get_listlike_indexer\u001b[1;34m(self, key, axis, raise_missing)\u001b[0m\n\u001b[0;32m   1159\u001b[0m         self._validate_read_indexer(keyarr, indexer,\n\u001b[0;32m   1160\u001b[0m                                     \u001b[0mo\u001b[0m\u001b[1;33m.\u001b[0m\u001b[0m_get_axis_number\u001b[0m\u001b[1;33m(\u001b[0m\u001b[0maxis\u001b[0m\u001b[1;33m)\u001b[0m\u001b[1;33m,\u001b[0m\u001b[1;33m\u001b[0m\u001b[1;33m\u001b[0m\u001b[0m\n\u001b[1;32m-> 1161\u001b[1;33m                                     raise_missing=raise_missing)\n\u001b[0m\u001b[0;32m   1162\u001b[0m         \u001b[1;32mreturn\u001b[0m \u001b[0mkeyarr\u001b[0m\u001b[1;33m,\u001b[0m \u001b[0mindexer\u001b[0m\u001b[1;33m\u001b[0m\u001b[1;33m\u001b[0m\u001b[0m\n\u001b[0;32m   1163\u001b[0m \u001b[1;33m\u001b[0m\u001b[0m\n",
      "\u001b[1;32mC:\\Anaconda3\\lib\\site-packages\\pandas\\core\\indexing.py\u001b[0m in \u001b[0;36m_validate_read_indexer\u001b[1;34m(self, key, indexer, axis, raise_missing)\u001b[0m\n\u001b[0;32m   1244\u001b[0m                 raise KeyError(\n\u001b[0;32m   1245\u001b[0m                     u\"None of [{key}] are in the [{axis}]\".format(\n\u001b[1;32m-> 1246\u001b[1;33m                         key=key, axis=self.obj._get_axis_name(axis)))\n\u001b[0m\u001b[0;32m   1247\u001b[0m \u001b[1;33m\u001b[0m\u001b[0m\n\u001b[0;32m   1248\u001b[0m             \u001b[1;31m# We (temporarily) allow for some missing keys with .loc, except in\u001b[0m\u001b[1;33m\u001b[0m\u001b[1;33m\u001b[0m\u001b[1;33m\u001b[0m\u001b[0m\n",
      "\u001b[1;31mKeyError\u001b[0m: \"None of [Int64Index([0], dtype='int64')] are in the [columns]\""
     ]
    },
    {
     "data": {
      "text/plain": [
       "<Figure size 720x720 with 0 Axes>"
      ]
     },
     "metadata": {},
     "output_type": "display_data"
    }
   ],
   "source": [
    "# visualization\n",
    "\n",
    "plt.figure(figsize=(10 , 10 ))\n",
    "h = .01 \n",
    "x_min, x_max = dataset[[0]].min() - 1, dataset[[0]].max() + 1\n",
    "y_min, y_max = dataset[[1]].min() - 1, dataset[[1]].max() + 1\n",
    "xx, yy = np.meshgrid(np.arange(x_min, x_max, h), np.arange(y_min, y_max,h))\n",
    "Z = clf.predict(np.c_[xx.ravel(), yy.ravel()])\n",
    "Z = Z.reshape(xx.shape)\n",
    "plt.pcolormesh(xx, yy, Z, cmap='PiYG')\n",
    "plt.scatter(iv[:, 0], iv[:, 1], c=dv, edgecolors='m', linewidth=0, cmap=plt.cm.Paired)\n",
    "plt.xlim(xx.min(), xx.max())\n",
    "plt.ylim(yy.min(), yy.max())\n",
    "plt.title(\"K-NN model\", fontsize='large')\n",
    "plt.xlabel('sepal length ')\n",
    "plt.ylabel('sepal width')\n",
    "plt.xticks(())\n",
    "plt.yticks(())\n",
    "plt.show()\n"
   ]
  },
  {
   "cell_type": "code",
   "execution_count": null,
   "metadata": {},
   "outputs": [],
   "source": []
  },
  {
   "cell_type": "code",
   "execution_count": null,
   "metadata": {},
   "outputs": [],
   "source": []
  },
  {
   "cell_type": "code",
   "execution_count": null,
   "metadata": {},
   "outputs": [],
   "source": []
  },
  {
   "cell_type": "code",
   "execution_count": null,
   "metadata": {},
   "outputs": [],
   "source": []
  }
 ],
 "metadata": {
  "kernelspec": {
   "display_name": "Python 3",
   "language": "python",
   "name": "python3"
  },
  "language_info": {
   "codemirror_mode": {
    "name": "ipython",
    "version": 3
   },
   "file_extension": ".py",
   "mimetype": "text/x-python",
   "name": "python",
   "nbconvert_exporter": "python",
   "pygments_lexer": "ipython3",
   "version": "3.7.3"
  }
 },
 "nbformat": 4,
 "nbformat_minor": 2
}
