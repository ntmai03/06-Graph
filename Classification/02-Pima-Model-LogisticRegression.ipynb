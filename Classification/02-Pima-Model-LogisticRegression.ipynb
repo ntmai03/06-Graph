{
 "cells": [
  {
   "cell_type": "markdown",
   "metadata": {},
   "source": [
    "# 1. Import package"
   ]
  },
  {
   "cell_type": "code",
   "execution_count": 1,
   "metadata": {},
   "outputs": [],
   "source": [
    "import warnings\n",
    "warnings.filterwarnings('ignore')\n",
    "\n",
    "import numpy as np\n",
    "import pandas as pd\n",
    "import matplotlib.pyplot as plt\n",
    "import seaborn as sns\n",
    "\n",
    "# plt.style.use('fivethirtyeight')\n",
    "sns.set(style = 'whitegrid',context = 'notebook')\n",
    "\n",
    "# generate classification report using predictions for categorical model\n",
    "from sklearn.metrics import confusion_matrix,classification_report, accuracy_score, roc_curve, roc_auc_score\n",
    "from sklearn import (metrics,  linear_model, preprocessing)\n",
    "from sklearn.model_selection import train_test_split, cross_val_score, GridSearchCV, RandomizedSearchCV, KFold, learning_curve, StratifiedKFold\n",
    "\n",
    "pd.set_option('display.max_rows', 500)\n",
    "pd.set_option('display.max_columns', 50)\n",
    "pd.set_option('display.width', 175)"
   ]
  },
  {
   "cell_type": "markdown",
   "metadata": {},
   "source": [
    "# 2. Import data"
   ]
  },
  {
   "cell_type": "code",
   "execution_count": 2,
   "metadata": {},
   "outputs": [
    {
     "data": {
      "text/plain": [
       "(768, 9)"
      ]
     },
     "execution_count": 2,
     "metadata": {},
     "output_type": "execute_result"
    }
   ],
   "source": [
    "df = pd.read_csv(\"diabetes.csv\")\n",
    "df.shape"
   ]
  },
  {
   "cell_type": "code",
   "execution_count": 3,
   "metadata": {},
   "outputs": [],
   "source": [
    "original_df = df.copy()"
   ]
  },
  {
   "cell_type": "code",
   "execution_count": 4,
   "metadata": {},
   "outputs": [],
   "source": [
    "df[['Glucose','BloodPressure','SkinThickness','Insulin','BMI']] = df[['Glucose','BloodPressure','SkinThickness','Insulin','BMI']].replace(0,np.NaN)"
   ]
  },
  {
   "cell_type": "code",
   "execution_count": 5,
   "metadata": {},
   "outputs": [
    {
     "data": {
      "text/plain": [
       "(768, 9)"
      ]
     },
     "execution_count": 5,
     "metadata": {},
     "output_type": "execute_result"
    }
   ],
   "source": [
    "df.shape"
   ]
  },
  {
   "cell_type": "code",
   "execution_count": 6,
   "metadata": {},
   "outputs": [
    {
     "data": {
      "text/html": [
       "<div>\n",
       "<style scoped>\n",
       "    .dataframe tbody tr th:only-of-type {\n",
       "        vertical-align: middle;\n",
       "    }\n",
       "\n",
       "    .dataframe tbody tr th {\n",
       "        vertical-align: top;\n",
       "    }\n",
       "\n",
       "    .dataframe thead th {\n",
       "        text-align: right;\n",
       "    }\n",
       "</style>\n",
       "<table border=\"1\" class=\"dataframe\">\n",
       "  <thead>\n",
       "    <tr style=\"text-align: right;\">\n",
       "      <th></th>\n",
       "      <th>Pregnancies</th>\n",
       "      <th>Glucose</th>\n",
       "      <th>BloodPressure</th>\n",
       "      <th>SkinThickness</th>\n",
       "      <th>Insulin</th>\n",
       "      <th>BMI</th>\n",
       "      <th>DiabetesPedigreeFunction</th>\n",
       "      <th>Age</th>\n",
       "      <th>Outcome</th>\n",
       "    </tr>\n",
       "  </thead>\n",
       "  <tbody>\n",
       "    <tr>\n",
       "      <th>0</th>\n",
       "      <td>6</td>\n",
       "      <td>148.0</td>\n",
       "      <td>72.0</td>\n",
       "      <td>35.0</td>\n",
       "      <td>NaN</td>\n",
       "      <td>33.6</td>\n",
       "      <td>0.627</td>\n",
       "      <td>50</td>\n",
       "      <td>1</td>\n",
       "    </tr>\n",
       "    <tr>\n",
       "      <th>1</th>\n",
       "      <td>1</td>\n",
       "      <td>85.0</td>\n",
       "      <td>66.0</td>\n",
       "      <td>29.0</td>\n",
       "      <td>NaN</td>\n",
       "      <td>26.6</td>\n",
       "      <td>0.351</td>\n",
       "      <td>31</td>\n",
       "      <td>0</td>\n",
       "    </tr>\n",
       "    <tr>\n",
       "      <th>2</th>\n",
       "      <td>8</td>\n",
       "      <td>183.0</td>\n",
       "      <td>64.0</td>\n",
       "      <td>NaN</td>\n",
       "      <td>NaN</td>\n",
       "      <td>23.3</td>\n",
       "      <td>0.672</td>\n",
       "      <td>32</td>\n",
       "      <td>1</td>\n",
       "    </tr>\n",
       "    <tr>\n",
       "      <th>3</th>\n",
       "      <td>1</td>\n",
       "      <td>89.0</td>\n",
       "      <td>66.0</td>\n",
       "      <td>23.0</td>\n",
       "      <td>94.0</td>\n",
       "      <td>28.1</td>\n",
       "      <td>0.167</td>\n",
       "      <td>21</td>\n",
       "      <td>0</td>\n",
       "    </tr>\n",
       "    <tr>\n",
       "      <th>4</th>\n",
       "      <td>0</td>\n",
       "      <td>137.0</td>\n",
       "      <td>40.0</td>\n",
       "      <td>35.0</td>\n",
       "      <td>168.0</td>\n",
       "      <td>43.1</td>\n",
       "      <td>2.288</td>\n",
       "      <td>33</td>\n",
       "      <td>1</td>\n",
       "    </tr>\n",
       "  </tbody>\n",
       "</table>\n",
       "</div>"
      ],
      "text/plain": [
       "   Pregnancies  Glucose  BloodPressure  SkinThickness  Insulin   BMI  DiabetesPedigreeFunction  Age  Outcome\n",
       "0            6    148.0           72.0           35.0      NaN  33.6                     0.627   50        1\n",
       "1            1     85.0           66.0           29.0      NaN  26.6                     0.351   31        0\n",
       "2            8    183.0           64.0            NaN      NaN  23.3                     0.672   32        1\n",
       "3            1     89.0           66.0           23.0     94.0  28.1                     0.167   21        0\n",
       "4            0    137.0           40.0           35.0    168.0  43.1                     2.288   33        1"
      ]
     },
     "execution_count": 6,
     "metadata": {},
     "output_type": "execute_result"
    }
   ],
   "source": [
    "df.head()"
   ]
  },
  {
   "cell_type": "markdown",
   "metadata": {},
   "source": [
    "# 3. Preprocessing data"
   ]
  },
  {
   "cell_type": "code",
   "execution_count": 7,
   "metadata": {},
   "outputs": [
    {
     "data": {
      "text/plain": [
       "Pregnancies                 0\n",
       "Glucose                     0\n",
       "BloodPressure               0\n",
       "SkinThickness               0\n",
       "Insulin                     0\n",
       "BMI                         0\n",
       "DiabetesPedigreeFunction    0\n",
       "Age                         0\n",
       "Outcome                     0\n",
       "dtype: int64"
      ]
     },
     "execution_count": 7,
     "metadata": {},
     "output_type": "execute_result"
    }
   ],
   "source": [
    "df = df.fillna(df.mean())\n",
    "df.isnull().sum()"
   ]
  },
  {
   "cell_type": "code",
   "execution_count": 8,
   "metadata": {},
   "outputs": [],
   "source": [
    "num_vars = [var for var in df.columns if df[var].dtypes != 'O']\n",
    "numdf = df[num_vars].drop(['Outcome'],axis=1)\n",
    "\n",
    "from sklearn.preprocessing import MinMaxScaler\n",
    "numdf_norm = pd.DataFrame(MinMaxScaler().fit_transform(numdf))\n",
    "numdf_norm.columns = numdf.columns"
   ]
  },
  {
   "cell_type": "code",
   "execution_count": 9,
   "metadata": {},
   "outputs": [
    {
     "name": "stdout",
     "output_type": "stream",
     "text": [
      "(768, 8)\n",
      "(768,)\n"
     ]
    }
   ],
   "source": [
    "X = numdf_norm\n",
    "print (X.shape)\n",
    "y = df['Outcome']\n",
    "print (y.shape)"
   ]
  },
  {
   "cell_type": "markdown",
   "metadata": {},
   "source": [
    "# 4. Predictive Model"
   ]
  },
  {
   "cell_type": "markdown",
   "metadata": {},
   "source": [
    "## 4.1. Spliting data into training and test set"
   ]
  },
  {
   "cell_type": "code",
   "execution_count": 11,
   "metadata": {},
   "outputs": [
    {
     "data": {
      "text/plain": [
       "((614, 8), (154, 8))"
      ]
     },
     "execution_count": 11,
     "metadata": {},
     "output_type": "execute_result"
    }
   ],
   "source": [
    "from sklearn.model_selection import train_test_split\n",
    "\n",
    "X_train, X_test, y_train, y_test = train_test_split(X, y, test_size=0.2, random_state=0, stratify = y)\n",
    "X_train.shape, X_test.shape"
   ]
  },
  {
   "cell_type": "markdown",
   "metadata": {},
   "source": [
    "## 4.2. Train logistic regression using statsmodel"
   ]
  },
  {
   "cell_type": "code",
   "execution_count": 15,
   "metadata": {},
   "outputs": [
    {
     "name": "stdout",
     "output_type": "stream",
     "text": [
      "Optimization terminated successfully.\n",
      "         Current function value: 0.475222\n",
      "         Iterations 6\n"
     ]
    }
   ],
   "source": [
    "import statsmodels.api as sm\n",
    "\n",
    "X_train_const = sm.add_constant(X_train)\n",
    "model = sm.Logit(y_train, X_train_const)\n",
    "result = model.fit()"
   ]
  },
  {
   "cell_type": "code",
   "execution_count": 16,
   "metadata": {},
   "outputs": [
    {
     "data": {
      "text/html": [
       "<table class=\"simpletable\">\n",
       "<caption>Logit Regression Results</caption>\n",
       "<tr>\n",
       "  <th>Dep. Variable:</th>        <td>Outcome</td>     <th>  No. Observations:  </th>  <td>   614</td>  \n",
       "</tr>\n",
       "<tr>\n",
       "  <th>Model:</th>                 <td>Logit</td>      <th>  Df Residuals:      </th>  <td>   605</td>  \n",
       "</tr>\n",
       "<tr>\n",
       "  <th>Method:</th>                 <td>MLE</td>       <th>  Df Model:          </th>  <td>     8</td>  \n",
       "</tr>\n",
       "<tr>\n",
       "  <th>Date:</th>            <td>Wed, 16 Sep 2020</td> <th>  Pseudo R-squ.:     </th>  <td>0.2650</td>  \n",
       "</tr>\n",
       "<tr>\n",
       "  <th>Time:</th>                <td>06:19:50</td>     <th>  Log-Likelihood:    </th> <td> -291.79</td> \n",
       "</tr>\n",
       "<tr>\n",
       "  <th>converged:</th>             <td>True</td>       <th>  LL-Null:           </th> <td> -396.97</td> \n",
       "</tr>\n",
       "<tr>\n",
       "  <th>Covariance Type:</th>     <td>nonrobust</td>    <th>  LLR p-value:       </th> <td>4.154e-41</td>\n",
       "</tr>\n",
       "</table>\n",
       "<table class=\"simpletable\">\n",
       "<tr>\n",
       "              <td></td>                <th>coef</th>     <th>std err</th>      <th>z</th>      <th>P>|z|</th>  <th>[0.025</th>    <th>0.975]</th>  \n",
       "</tr>\n",
       "<tr>\n",
       "  <th>const</th>                    <td>   -5.6483</td> <td>    0.602</td> <td>   -9.375</td> <td> 0.000</td> <td>   -6.829</td> <td>   -4.467</td>\n",
       "</tr>\n",
       "<tr>\n",
       "  <th>Pregnancies</th>              <td>    1.9870</td> <td>    0.584</td> <td>    3.401</td> <td> 0.001</td> <td>    0.842</td> <td>    3.132</td>\n",
       "</tr>\n",
       "<tr>\n",
       "  <th>Glucose</th>                  <td>    5.1972</td> <td>    0.653</td> <td>    7.958</td> <td> 0.000</td> <td>    3.917</td> <td>    6.477</td>\n",
       "</tr>\n",
       "<tr>\n",
       "  <th>BloodPressure</th>            <td>   -0.4275</td> <td>    0.916</td> <td>   -0.467</td> <td> 0.641</td> <td>   -2.224</td> <td>    1.369</td>\n",
       "</tr>\n",
       "<tr>\n",
       "  <th>SkinThickness</th>            <td>    0.4856</td> <td>    1.342</td> <td>    0.362</td> <td> 0.718</td> <td>   -2.145</td> <td>    3.116</td>\n",
       "</tr>\n",
       "<tr>\n",
       "  <th>Insulin</th>                  <td>    0.6007</td> <td>    1.156</td> <td>    0.520</td> <td> 0.603</td> <td>   -1.665</td> <td>    2.866</td>\n",
       "</tr>\n",
       "<tr>\n",
       "  <th>BMI</th>                      <td>    3.9872</td> <td>    0.968</td> <td>    4.119</td> <td> 0.000</td> <td>    2.090</td> <td>    5.885</td>\n",
       "</tr>\n",
       "<tr>\n",
       "  <th>DiabetesPedigreeFunction</th> <td>    1.9817</td> <td>    0.755</td> <td>    2.625</td> <td> 0.009</td> <td>    0.502</td> <td>    3.461</td>\n",
       "</tr>\n",
       "<tr>\n",
       "  <th>Age</th>                      <td>    1.0955</td> <td>    0.618</td> <td>    1.773</td> <td> 0.076</td> <td>   -0.116</td> <td>    2.307</td>\n",
       "</tr>\n",
       "</table>"
      ],
      "text/plain": [
       "<class 'statsmodels.iolib.summary.Summary'>\n",
       "\"\"\"\n",
       "                           Logit Regression Results                           \n",
       "==============================================================================\n",
       "Dep. Variable:                Outcome   No. Observations:                  614\n",
       "Model:                          Logit   Df Residuals:                      605\n",
       "Method:                           MLE   Df Model:                            8\n",
       "Date:                Wed, 16 Sep 2020   Pseudo R-squ.:                  0.2650\n",
       "Time:                        06:19:50   Log-Likelihood:                -291.79\n",
       "converged:                       True   LL-Null:                       -396.97\n",
       "Covariance Type:            nonrobust   LLR p-value:                 4.154e-41\n",
       "============================================================================================\n",
       "                               coef    std err          z      P>|z|      [0.025      0.975]\n",
       "--------------------------------------------------------------------------------------------\n",
       "const                       -5.6483      0.602     -9.375      0.000      -6.829      -4.467\n",
       "Pregnancies                  1.9870      0.584      3.401      0.001       0.842       3.132\n",
       "Glucose                      5.1972      0.653      7.958      0.000       3.917       6.477\n",
       "BloodPressure               -0.4275      0.916     -0.467      0.641      -2.224       1.369\n",
       "SkinThickness                0.4856      1.342      0.362      0.718      -2.145       3.116\n",
       "Insulin                      0.6007      1.156      0.520      0.603      -1.665       2.866\n",
       "BMI                          3.9872      0.968      4.119      0.000       2.090       5.885\n",
       "DiabetesPedigreeFunction     1.9817      0.755      2.625      0.009       0.502       3.461\n",
       "Age                          1.0955      0.618      1.773      0.076      -0.116       2.307\n",
       "============================================================================================\n",
       "\"\"\""
      ]
     },
     "execution_count": 16,
     "metadata": {},
     "output_type": "execute_result"
    }
   ],
   "source": [
    "result.summary()"
   ]
  },
  {
   "cell_type": "code",
   "execution_count": 17,
   "metadata": {},
   "outputs": [
    {
     "data": {
      "text/html": [
       "<table class=\"simpletable\">\n",
       "<tr>\n",
       "        <td>Model:</td>              <td>Logit</td>      <td>Pseudo R-squared:</td>    <td>0.265</td>  \n",
       "</tr>\n",
       "<tr>\n",
       "  <td>Dependent Variable:</td>      <td>Outcome</td>           <td>AIC:</td>         <td>601.5725</td> \n",
       "</tr>\n",
       "<tr>\n",
       "         <td>Date:</td>        <td>2020-09-16 06:20</td>       <td>BIC:</td>         <td>641.3525</td> \n",
       "</tr>\n",
       "<tr>\n",
       "   <td>No. Observations:</td>         <td>614</td>        <td>Log-Likelihood:</td>    <td>-291.79</td> \n",
       "</tr>\n",
       "<tr>\n",
       "       <td>Df Model:</td>              <td>8</td>            <td>LL-Null:</td>        <td>-396.97</td> \n",
       "</tr>\n",
       "<tr>\n",
       "     <td>Df Residuals:</td>           <td>605</td>         <td>LLR p-value:</td>    <td>4.1542e-41</td>\n",
       "</tr>\n",
       "<tr>\n",
       "      <td>Converged:</td>           <td>1.0000</td>           <td>Scale:</td>         <td>1.0000</td>  \n",
       "</tr>\n",
       "<tr>\n",
       "    <td>No. Iterations:</td>        <td>6.0000</td>              <td></td>               <td></td>     \n",
       "</tr>\n",
       "</table>\n",
       "<table class=\"simpletable\">\n",
       "<tr>\n",
       "              <td></td>              <th>Coef.</th>  <th>Std.Err.</th>    <th>z</th>     <th>P>|z|</th> <th>[0.025</th>  <th>0.975]</th> \n",
       "</tr>\n",
       "<tr>\n",
       "  <th>const</th>                    <td>-5.6483</td>  <td>0.6025</td>  <td>-9.3750</td> <td>0.0000</td> <td>-6.8291</td> <td>-4.4674</td>\n",
       "</tr>\n",
       "<tr>\n",
       "  <th>Pregnancies</th>              <td>1.9870</td>   <td>0.5843</td>  <td>3.4007</td>  <td>0.0007</td> <td>0.8418</td>  <td>3.1323</td> \n",
       "</tr>\n",
       "<tr>\n",
       "  <th>Glucose</th>                  <td>5.1972</td>   <td>0.6531</td>  <td>7.9580</td>  <td>0.0000</td> <td>3.9172</td>  <td>6.4772</td> \n",
       "</tr>\n",
       "<tr>\n",
       "  <th>BloodPressure</th>            <td>-0.4275</td>  <td>0.9164</td>  <td>-0.4665</td> <td>0.6408</td> <td>-2.2235</td> <td>1.3685</td> \n",
       "</tr>\n",
       "<tr>\n",
       "  <th>SkinThickness</th>            <td>0.4856</td>   <td>1.3423</td>  <td>0.3617</td>  <td>0.7175</td> <td>-2.1453</td> <td>3.1164</td> \n",
       "</tr>\n",
       "<tr>\n",
       "  <th>Insulin</th>                  <td>0.6007</td>   <td>1.1558</td>  <td>0.5197</td>  <td>0.6032</td> <td>-1.6646</td> <td>2.8661</td> \n",
       "</tr>\n",
       "<tr>\n",
       "  <th>BMI</th>                      <td>3.9872</td>   <td>0.9680</td>  <td>4.1188</td>  <td>0.0000</td> <td>2.0899</td>  <td>5.8845</td> \n",
       "</tr>\n",
       "<tr>\n",
       "  <th>DiabetesPedigreeFunction</th> <td>1.9817</td>   <td>0.7548</td>  <td>2.6255</td>  <td>0.0087</td> <td>0.5023</td>  <td>3.4610</td> \n",
       "</tr>\n",
       "<tr>\n",
       "  <th>Age</th>                      <td>1.0955</td>   <td>0.6180</td>  <td>1.7727</td>  <td>0.0763</td> <td>-0.1157</td> <td>2.3067</td> \n",
       "</tr>\n",
       "</table>"
      ],
      "text/plain": [
       "<class 'statsmodels.iolib.summary2.Summary'>\n",
       "\"\"\"\n",
       "                             Results: Logit\n",
       "========================================================================\n",
       "Model:                 Logit              Pseudo R-squared:   0.265     \n",
       "Dependent Variable:    Outcome            AIC:                601.5725  \n",
       "Date:                  2020-09-16 06:20   BIC:                641.3525  \n",
       "No. Observations:      614                Log-Likelihood:     -291.79   \n",
       "Df Model:              8                  LL-Null:            -396.97   \n",
       "Df Residuals:          605                LLR p-value:        4.1542e-41\n",
       "Converged:             1.0000             Scale:              1.0000    \n",
       "No. Iterations:        6.0000                                           \n",
       "------------------------------------------------------------------------\n",
       "                          Coef.  Std.Err.    z    P>|z|   [0.025  0.975]\n",
       "------------------------------------------------------------------------\n",
       "const                    -5.6483   0.6025 -9.3750 0.0000 -6.8291 -4.4674\n",
       "Pregnancies               1.9870   0.5843  3.4007 0.0007  0.8418  3.1323\n",
       "Glucose                   5.1972   0.6531  7.9580 0.0000  3.9172  6.4772\n",
       "BloodPressure            -0.4275   0.9164 -0.4665 0.6408 -2.2235  1.3685\n",
       "SkinThickness             0.4856   1.3423  0.3617 0.7175 -2.1453  3.1164\n",
       "Insulin                   0.6007   1.1558  0.5197 0.6032 -1.6646  2.8661\n",
       "BMI                       3.9872   0.9680  4.1188 0.0000  2.0899  5.8845\n",
       "DiabetesPedigreeFunction  1.9817   0.7548  2.6255 0.0087  0.5023  3.4610\n",
       "Age                       1.0955   0.6180  1.7727 0.0763 -0.1157  2.3067\n",
       "========================================================================\n",
       "\n",
       "\"\"\""
      ]
     },
     "execution_count": 17,
     "metadata": {},
     "output_type": "execute_result"
    }
   ],
   "source": [
    "result.summary2()"
   ]
  },
  {
   "cell_type": "markdown",
   "metadata": {},
   "source": [
    "#### Re-train, using only significant features"
   ]
  },
  {
   "cell_type": "code",
   "execution_count": 18,
   "metadata": {},
   "outputs": [
    {
     "name": "stdout",
     "output_type": "stream",
     "text": [
      "Optimization terminated successfully.\n",
      "         Current function value: 0.478269\n",
      "         Iterations 6\n"
     ]
    },
    {
     "data": {
      "text/html": [
       "<table class=\"simpletable\">\n",
       "<tr>\n",
       "        <td>Model:</td>              <td>Logit</td>      <td>Pseudo R-squared:</td>    <td>0.260</td>  \n",
       "</tr>\n",
       "<tr>\n",
       "  <td>Dependent Variable:</td>      <td>Outcome</td>           <td>AIC:</td>         <td>597.3141</td> \n",
       "</tr>\n",
       "<tr>\n",
       "         <td>Date:</td>        <td>2020-09-16 06:21</td>       <td>BIC:</td>         <td>619.4141</td> \n",
       "</tr>\n",
       "<tr>\n",
       "   <td>No. Observations:</td>         <td>614</td>        <td>Log-Likelihood:</td>    <td>-293.66</td> \n",
       "</tr>\n",
       "<tr>\n",
       "       <td>Df Model:</td>              <td>4</td>            <td>LL-Null:</td>        <td>-396.97</td> \n",
       "</tr>\n",
       "<tr>\n",
       "     <td>Df Residuals:</td>           <td>609</td>         <td>LLR p-value:</td>    <td>1.4098e-43</td>\n",
       "</tr>\n",
       "<tr>\n",
       "      <td>Converged:</td>           <td>1.0000</td>           <td>Scale:</td>         <td>1.0000</td>  \n",
       "</tr>\n",
       "<tr>\n",
       "    <td>No. Iterations:</td>        <td>6.0000</td>              <td></td>               <td></td>     \n",
       "</tr>\n",
       "</table>\n",
       "<table class=\"simpletable\">\n",
       "<tr>\n",
       "              <td></td>              <th>Coef.</th>  <th>Std.Err.</th>     <th>z</th>     <th>P>|z|</th> <th>[0.025</th>  <th>0.975]</th> \n",
       "</tr>\n",
       "<tr>\n",
       "  <th>const</th>                    <td>-5.6839</td>  <td>0.4660</td>  <td>-12.1972</td> <td>0.0000</td> <td>-6.5973</td> <td>-4.7706</td>\n",
       "</tr>\n",
       "<tr>\n",
       "  <th>Pregnancies</th>              <td>2.4978</td>   <td>0.5083</td>   <td>4.9137</td>  <td>0.0000</td> <td>1.5015</td>  <td>3.4941</td> \n",
       "</tr>\n",
       "<tr>\n",
       "  <th>Glucose</th>                  <td>5.5166</td>   <td>0.6028</td>   <td>9.1510</td>  <td>0.0000</td> <td>4.3351</td>  <td>6.6982</td> \n",
       "</tr>\n",
       "<tr>\n",
       "  <th>BMI</th>                      <td>3.9738</td>   <td>0.7933</td>   <td>5.0094</td>  <td>0.0000</td> <td>2.4190</td>  <td>5.5286</td> \n",
       "</tr>\n",
       "<tr>\n",
       "  <th>DiabetesPedigreeFunction</th> <td>2.0525</td>   <td>0.7501</td>   <td>2.7363</td>  <td>0.0062</td> <td>0.5824</td>  <td>3.5226</td> \n",
       "</tr>\n",
       "</table>"
      ],
      "text/plain": [
       "<class 'statsmodels.iolib.summary2.Summary'>\n",
       "\"\"\"\n",
       "                             Results: Logit\n",
       "=========================================================================\n",
       "Model:                  Logit              Pseudo R-squared:   0.260     \n",
       "Dependent Variable:     Outcome            AIC:                597.3141  \n",
       "Date:                   2020-09-16 06:21   BIC:                619.4141  \n",
       "No. Observations:       614                Log-Likelihood:     -293.66   \n",
       "Df Model:               4                  LL-Null:            -396.97   \n",
       "Df Residuals:           609                LLR p-value:        1.4098e-43\n",
       "Converged:              1.0000             Scale:              1.0000    \n",
       "No. Iterations:         6.0000                                           \n",
       "-------------------------------------------------------------------------\n",
       "                          Coef.  Std.Err.    z     P>|z|   [0.025  0.975]\n",
       "-------------------------------------------------------------------------\n",
       "const                    -5.6839   0.4660 -12.1972 0.0000 -6.5973 -4.7706\n",
       "Pregnancies               2.4978   0.5083   4.9137 0.0000  1.5015  3.4941\n",
       "Glucose                   5.5166   0.6028   9.1510 0.0000  4.3351  6.6982\n",
       "BMI                       3.9738   0.7933   5.0094 0.0000  2.4190  5.5286\n",
       "DiabetesPedigreeFunction  2.0525   0.7501   2.7363 0.0062  0.5824  3.5226\n",
       "=========================================================================\n",
       "\n",
       "\"\"\""
      ]
     },
     "execution_count": 18,
     "metadata": {},
     "output_type": "execute_result"
    }
   ],
   "source": [
    "X_train1 = X_train[['Pregnancies','Glucose','BMI','DiabetesPedigreeFunction']]\n",
    "X_train_all = sm.add_constant(X_train1)\n",
    "model = sm.Logit(y_train, X_train_all)\n",
    "result = model.fit()\n",
    "result.summary2()"
   ]
  },
  {
   "cell_type": "markdown",
   "metadata": {},
   "source": [
    "## Train logistic regression using sklearn"
   ]
  },
  {
   "cell_type": "markdown",
   "metadata": {},
   "source": [
    "#### Train model"
   ]
  },
  {
   "cell_type": "code",
   "execution_count": 23,
   "metadata": {},
   "outputs": [
    {
     "data": {
      "text/plain": [
       "LogisticRegression(C=1.0, class_weight=None, dual=False, fit_intercept=True,\n",
       "                   intercept_scaling=1, l1_ratio=None, max_iter=100,\n",
       "                   multi_class='auto', n_jobs=None, penalty='l2',\n",
       "                   random_state=None, solver='lbfgs', tol=0.0001, verbose=0,\n",
       "                   warm_start=False)"
      ]
     },
     "execution_count": 23,
     "metadata": {},
     "output_type": "execute_result"
    }
   ],
   "source": [
    "from sklearn.linear_model import LogisticRegression\n",
    "\n",
    "model = LogisticRegression()\n",
    "model.fit(X_train, y_train)"
   ]
  },
  {
   "cell_type": "markdown",
   "metadata": {},
   "source": [
    "#### Prediction"
   ]
  },
  {
   "cell_type": "code",
   "execution_count": 24,
   "metadata": {},
   "outputs": [],
   "source": [
    "y_train_pred = model.predict(X_train)\n",
    "prob_train_pred = model.predict_proba(X_train)\n",
    "\n",
    "y_test_pred = model.predict(X_test)\n",
    "prob_test_pred = model.predict_proba(X_test)"
   ]
  },
  {
   "cell_type": "code",
   "execution_count": null,
   "metadata": {},
   "outputs": [],
   "source": []
  },
  {
   "cell_type": "markdown",
   "metadata": {},
   "source": [
    "# Model Interpretation"
   ]
  },
  {
   "cell_type": "code",
   "execution_count": 25,
   "metadata": {},
   "outputs": [
    {
     "data": {
      "text/plain": [
       "[('Pregnancies', 1.471831945091771),\n",
       " ('Glucose', 3.9095138838811403),\n",
       " ('BloodPressure', 0.1879501013454197),\n",
       " ('SkinThickness', 0.7593965053256383),\n",
       " ('Insulin', 0.8095917827267364),\n",
       " ('BMI', 2.4284533600295157),\n",
       " ('DiabetesPedigreeFunction', 1.3554477963335316),\n",
       " ('Age', 1.0139112479269279)]"
      ]
     },
     "execution_count": 25,
     "metadata": {},
     "output_type": "execute_result"
    }
   ],
   "source": [
    "feature_names = X.columns.values\n",
    "coefficient_list = list(model.coef_[0])\n",
    "feature_coefficient = [(feature, coefficient) for feature, coefficient in zip(feature_names, coefficient_list)]\n",
    "feature_coefficient"
   ]
  },
  {
   "cell_type": "code",
   "execution_count": 26,
   "metadata": {},
   "outputs": [
    {
     "data": {
      "text/html": [
       "<div>\n",
       "<style scoped>\n",
       "    .dataframe tbody tr th:only-of-type {\n",
       "        vertical-align: middle;\n",
       "    }\n",
       "\n",
       "    .dataframe tbody tr th {\n",
       "        vertical-align: top;\n",
       "    }\n",
       "\n",
       "    .dataframe thead th {\n",
       "        text-align: right;\n",
       "    }\n",
       "</style>\n",
       "<table border=\"1\" class=\"dataframe\">\n",
       "  <thead>\n",
       "    <tr style=\"text-align: right;\">\n",
       "      <th></th>\n",
       "      <th>name</th>\n",
       "      <th>score</th>\n",
       "    </tr>\n",
       "  </thead>\n",
       "  <tbody>\n",
       "    <tr>\n",
       "      <th>0</th>\n",
       "      <td>Glucose</td>\n",
       "      <td>3.909514</td>\n",
       "    </tr>\n",
       "    <tr>\n",
       "      <th>1</th>\n",
       "      <td>BMI</td>\n",
       "      <td>2.428453</td>\n",
       "    </tr>\n",
       "    <tr>\n",
       "      <th>2</th>\n",
       "      <td>Pregnancies</td>\n",
       "      <td>1.471832</td>\n",
       "    </tr>\n",
       "    <tr>\n",
       "      <th>3</th>\n",
       "      <td>DiabetesPedigreeFunction</td>\n",
       "      <td>1.355448</td>\n",
       "    </tr>\n",
       "    <tr>\n",
       "      <th>4</th>\n",
       "      <td>Age</td>\n",
       "      <td>1.013911</td>\n",
       "    </tr>\n",
       "    <tr>\n",
       "      <th>5</th>\n",
       "      <td>Insulin</td>\n",
       "      <td>0.809592</td>\n",
       "    </tr>\n",
       "    <tr>\n",
       "      <th>6</th>\n",
       "      <td>SkinThickness</td>\n",
       "      <td>0.759397</td>\n",
       "    </tr>\n",
       "    <tr>\n",
       "      <th>7</th>\n",
       "      <td>BloodPressure</td>\n",
       "      <td>0.187950</td>\n",
       "    </tr>\n",
       "  </tbody>\n",
       "</table>\n",
       "</div>"
      ],
      "text/plain": [
       "                       name     score\n",
       "0                   Glucose  3.909514\n",
       "1                       BMI  2.428453\n",
       "2               Pregnancies  1.471832\n",
       "3  DiabetesPedigreeFunction  1.355448\n",
       "4                       Age  1.013911\n",
       "5                   Insulin  0.809592\n",
       "6             SkinThickness  0.759397\n",
       "7             BloodPressure  0.187950"
      ]
     },
     "execution_count": 26,
     "metadata": {},
     "output_type": "execute_result"
    }
   ],
   "source": [
    "#get feature importances from the model\n",
    "headers = [\"name\", \"score\"]\n",
    "coefficient_list = np.abs(list(model.coef_[0]))\n",
    "values = sorted(zip(feature_names, coefficient_list), key=lambda x: x[1] * -1)\n",
    "feature_importances = pd.DataFrame(values, columns = headers)\n",
    "feature_importances"
   ]
  },
  {
   "cell_type": "markdown",
   "metadata": {},
   "source": [
    "=> Important features from the model: Glucose, BMI, Insulin, SkinThickness"
   ]
  },
  {
   "cell_type": "markdown",
   "metadata": {},
   "source": [
    "# Model Evaluation"
   ]
  },
  {
   "cell_type": "markdown",
   "metadata": {},
   "source": [
    "### Accuracy"
   ]
  },
  {
   "cell_type": "code",
   "execution_count": 27,
   "metadata": {},
   "outputs": [
    {
     "data": {
      "text/plain": [
       "0.7671009771986971"
      ]
     },
     "execution_count": 27,
     "metadata": {},
     "output_type": "execute_result"
    }
   ],
   "source": [
    "accuracy_score(y_train, y_train_pred)"
   ]
  },
  {
   "cell_type": "code",
   "execution_count": 28,
   "metadata": {},
   "outputs": [
    {
     "data": {
      "text/plain": [
       "0.7727272727272727"
      ]
     },
     "execution_count": 28,
     "metadata": {},
     "output_type": "execute_result"
    }
   ],
   "source": [
    "accuracy_score(y_test, y_test_pred)"
   ]
  },
  {
   "cell_type": "markdown",
   "metadata": {},
   "source": [
    "### Confusion matrix"
   ]
  },
  {
   "cell_type": "code",
   "execution_count": 29,
   "metadata": {},
   "outputs": [
    {
     "data": {
      "image/png": "[encoded data removed]",
      "text/plain": [
       "<Figure size 432x288 with 2 Axes>"
      ]
     },
     "metadata": {
      "needs_background": "light"
     },
     "output_type": "display_data"
    }
   ],
   "source": [
    "cm_df = pd.DataFrame(confusion_matrix(y_train, y_train_pred))\n",
    "cm_df.index.name = 'Actual'\n",
    "cm_df.columns.name = 'Predicted'\n",
    "sns.heatmap(cm_df, annot=True, fmt=\"d\")\n",
    "plt.show()"
   ]
  },
  {
   "cell_type": "code",
   "execution_count": 30,
   "metadata": {},
   "outputs": [
    {
     "name": "stdout",
     "output_type": "stream",
     "text": [
      "              precision    recall  f1-score   support\n",
      "\n",
      "           0       0.78      0.89      0.83       400\n",
      "           1       0.72      0.54      0.62       214\n",
      "\n",
      "    accuracy                           0.77       614\n",
      "   macro avg       0.75      0.71      0.72       614\n",
      "weighted avg       0.76      0.77      0.76       614\n",
      "\n"
     ]
    }
   ],
   "source": [
    "print(classification_report(y_train, y_train_pred))"
   ]
  },
  {
   "cell_type": "code",
   "execution_count": 31,
   "metadata": {},
   "outputs": [
    {
     "data": {
      "image/png": "[encoded data removed]",
      "text/plain": [
       "<Figure size 432x288 with 2 Axes>"
      ]
     },
     "metadata": {
      "needs_background": "light"
     },
     "output_type": "display_data"
    }
   ],
   "source": [
    "cm_df = pd.DataFrame(confusion_matrix(y_test, y_test_pred))\n",
    "cm_df.index.name = 'Actual'\n",
    "cm_df.columns.name = 'Predicted'\n",
    "sns.heatmap(cm_df, annot=True, fmt=\"d\")\n",
    "plt.show()"
   ]
  },
  {
   "cell_type": "markdown",
   "metadata": {},
   "source": [
    "### Classification Report"
   ]
  },
  {
   "cell_type": "code",
   "execution_count": 32,
   "metadata": {},
   "outputs": [
    {
     "name": "stdout",
     "output_type": "stream",
     "text": [
      "              precision    recall  f1-score   support\n",
      "\n",
      "           0       0.78      0.91      0.84       100\n",
      "           1       0.76      0.52      0.62        54\n",
      "\n",
      "    accuracy                           0.77       154\n",
      "   macro avg       0.77      0.71      0.73       154\n",
      "weighted avg       0.77      0.77      0.76       154\n",
      "\n"
     ]
    }
   ],
   "source": [
    "print(classification_report(y_test, y_test_pred))"
   ]
  },
  {
   "cell_type": "markdown",
   "metadata": {},
   "source": [
    "### ROC AUC Score"
   ]
  },
  {
   "cell_type": "code",
   "execution_count": 33,
   "metadata": {},
   "outputs": [
    {
     "data": {
      "text/plain": [
       "0.8365654205607477"
      ]
     },
     "execution_count": 33,
     "metadata": {},
     "output_type": "execute_result"
    }
   ],
   "source": [
    "roc_auc_score(y_train, prob_train_pred[:,1])"
   ]
  },
  {
   "cell_type": "code",
   "execution_count": 34,
   "metadata": {},
   "outputs": [
    {
     "data": {
      "text/plain": [
       "0.8631481481481481"
      ]
     },
     "execution_count": 34,
     "metadata": {},
     "output_type": "execute_result"
    }
   ],
   "source": [
    "roc_auc_score(y_test, prob_test_pred[:,1])"
   ]
  },
  {
   "cell_type": "markdown",
   "metadata": {},
   "source": [
    "### ROC Curve"
   ]
  },
  {
   "cell_type": "code",
   "execution_count": 35,
   "metadata": {},
   "outputs": [
    {
     "data": {
      "image/png": "[encoded data removed]",
      "text/plain": [
       "<Figure size 432x432 with 1 Axes>"
      ]
     },
     "metadata": {
      "needs_background": "light"
     },
     "output_type": "display_data"
    }
   ],
   "source": [
    "from sklearn.metrics import roc_curve\n",
    "\n",
    "fpr_train, tpr_train, threshold = roc_curve(y_train, prob_train_pred[:,1])\n",
    "fpr_test, tpr_test, threshold = roc_curve(y_test, prob_test_pred[:,1])\n",
    "\n",
    "plt.figure(figsize=(6,6))\n",
    "plt.title('ROC Curve Classifiers', fontsize=16)\n",
    "plt.plot(fpr_train, tpr_train, label= 'Train Score: {:.4f}'.format(roc_auc_score(y_train, prob_train_pred[:,1])))\n",
    "plt.plot(fpr_test, tpr_test, label= 'Test Score: {:.4f}'.format(roc_auc_score(y_test, prob_test_pred[:,1])))\n",
    "\n",
    "plt.plot([0, 1], [0, 1], 'k--')\n",
    "plt.axis([-0.01, 1, 0, 1])\n",
    "plt.xlabel('False Positive Rate', fontsize=16)\n",
    "plt.ylabel('True Positive Rate', fontsize=16)\n",
    "plt.annotate('Minimum ROC Score of 50% \\n (This is the minimum score to get)', xy=(0.5, 0.5), xytext=(0.6, 0.3),\n",
    "                arrowprops=dict(facecolor='#6E726D', shrink=0.05))\n",
    "plt.legend()\n",
    "        \n",
    "plt.show()\n"
   ]
  },
  {
   "cell_type": "markdown",
   "metadata": {},
   "source": [
    "### Precision-Recall curve"
   ]
  },
  {
   "cell_type": "code",
   "execution_count": 36,
   "metadata": {
    "scrolled": true
   },
   "outputs": [
    {
     "data": {
      "text/plain": [
       "Text(0.5, 1.0, 'Precision-Recall curve: \\n Average Precision-Recall Score =0.77')"
      ]
     },
     "execution_count": 36,
     "metadata": {},
     "output_type": "execute_result"
    },
    {
     "data": {
      "image/png": "[encoded data removed]",
      "text/plain": [
       "<Figure size 432x288 with 1 Axes>"
      ]
     },
     "metadata": {
      "needs_background": "light"
     },
     "output_type": "display_data"
    }
   ],
   "source": [
    "from sklearn.metrics import precision_recall_curve\n",
    "from sklearn.metrics import average_precision_score\n",
    "\n",
    "y_score = prob_test_pred[:,1]\n",
    "precision, recall, threshold = precision_recall_curve(y_test,y_score)\n",
    "average_precision = average_precision_score(y_test, y_score)\n",
    "\n",
    "\n",
    "plt.step(recall, precision, color='#004a93', alpha=0.2,where='post')\n",
    "plt.fill_between(recall, precision, step='post', alpha=0.2, color='#48a6ff')\n",
    "plt.xlabel('Recall')\n",
    "plt.ylabel('Precision')\n",
    "plt.ylim([0.0, 1.05])\n",
    "plt.xlim([0.0, 1.0])\n",
    "plt.title('Precision-Recall curve: \\n Average Precision-Recall Score ={0:0.2f}'.format(average_precision), fontsize=16)"
   ]
  },
  {
   "cell_type": "code",
   "execution_count": 37,
   "metadata": {},
   "outputs": [
    {
     "data": {
      "image/png": "[encoded data removed]",
      "text/plain": [
       "<Figure size 576x360 with 1 Axes>"
      ]
     },
     "metadata": {
      "needs_background": "light"
     },
     "output_type": "display_data"
    }
   ],
   "source": [
    "plt.figure(figsize=(8,5))\n",
    "plt.plot(threshold, precision[1:], label=\"Precision\",linewidth=5)\n",
    "plt.plot(threshold, recall[1:], label=\"Recall\",linewidth=5)\n",
    "plt.title('Precision and recall for different threshold values')\n",
    "plt.xlabel('Threshold')\n",
    "plt.ylabel('Precision/Recall')\n",
    "plt.legend()\n",
    "plt.show()"
   ]
  },
  {
   "cell_type": "code",
   "execution_count": 38,
   "metadata": {},
   "outputs": [
    {
     "data": {
      "text/plain": [
       "Text(0.5, 1.0, 'Precision-Recall curve: \\n Average Precision-Recall Score =0.70')"
      ]
     },
     "execution_count": 38,
     "metadata": {},
     "output_type": "execute_result"
    },
    {
     "data": {
      "image/png": "[encoded data removed]",
      "text/plain": [
       "<Figure size 432x288 with 1 Axes>"
      ]
     },
     "metadata": {
      "needs_background": "light"
     },
     "output_type": "display_data"
    }
   ],
   "source": [
    "from sklearn.metrics import precision_recall_curve\n",
    "from sklearn.metrics import average_precision_score\n",
    "\n",
    "y_score = prob_train_pred[:,1]\n",
    "precision, recall, threshold = precision_recall_curve(y_train,y_score)\n",
    "average_precision = average_precision_score(y_train, y_score)\n",
    "\n",
    "\n",
    "plt.step(recall, precision, color='#004a93', alpha=0.2,where='post')\n",
    "plt.fill_between(recall, precision, step='post', alpha=0.2, color='#48a6ff')\n",
    "plt.xlabel('Recall')\n",
    "plt.ylabel('Precision')\n",
    "plt.ylim([0.0, 1.05])\n",
    "plt.xlim([0.0, 1.0])\n",
    "plt.title('Precision-Recall curve: \\n Average Precision-Recall Score ={0:0.2f}'.format(average_precision), fontsize=16)"
   ]
  },
  {
   "cell_type": "code",
   "execution_count": 39,
   "metadata": {},
   "outputs": [
    {
     "data": {
      "image/png": "[encoded data removed]",
      "text/plain": [
       "<Figure size 576x360 with 1 Axes>"
      ]
     },
     "metadata": {
      "needs_background": "light"
     },
     "output_type": "display_data"
    }
   ],
   "source": [
    "plt.figure(figsize=(8,5))\n",
    "plt.plot(threshold, precision[1:], label=\"Precision\",linewidth=5)\n",
    "plt.plot(threshold, recall[1:], label=\"Recall\",linewidth=5)\n",
    "plt.title('Precision and recall for different threshold values')\n",
    "plt.xlabel('Threshold')\n",
    "plt.ylabel('Precision/Recall')\n",
    "plt.legend()\n",
    "plt.show()"
   ]
  },
  {
   "cell_type": "code",
   "execution_count": null,
   "metadata": {},
   "outputs": [],
   "source": []
  },
  {
   "cell_type": "markdown",
   "metadata": {},
   "source": [
    "### Summary"
   ]
  },
  {
   "cell_type": "code",
   "execution_count": 40,
   "metadata": {},
   "outputs": [],
   "source": [
    "def ModelEvaluation(model,X_train,y_train,X_test,y_test,name):\n",
    "    print('Model Evaluation of ' + name)\n",
    "\n",
    "    print('-----------------------------------------------------------')\n",
    "    print('Train set')\n",
    "    print('Accuracy: ', accuracy_score(y_train, y_train_pred))\n",
    "    print('ROC AUC Score: ', roc_auc_score(y_train, prob_train_pred[:,1]))\n",
    "    cm_df = pd.DataFrame(confusion_matrix(y_train,y_train_pred), index=model.classes_,columns=model.classes_)\n",
    "    cm_df.index.name = 'Predicted'\n",
    "    cm_df.columns.name = 'True'\n",
    "    print('Confusion matrix')\n",
    "    print(cm_df)\n",
    "    print(classification_report(y_train, y_train_pred))\n",
    "    \n",
    "    print('-----------------------------------------------------------')\n",
    "    print('Test set')\n",
    "    print('Accuracy: ', accuracy_score(y_test, y_test_pred))\n",
    "    print('ROC AUC Score: ', roc_auc_score(y_test, prob_test_pred[:,1]))\n",
    "    cm_df = pd.DataFrame(confusion_matrix(y_test,y_test_pred), index=model.classes_,columns=model.classes_)\n",
    "    cm_df.index.name = 'Predicted'\n",
    "    cm_df.columns.name = 'True'\n",
    "    print('Confusion matrix')\n",
    "    print(cm_df)\n",
    "    print(classification_report(y_test, y_test_pred))\n",
    "    "
   ]
  },
  {
   "cell_type": "code",
   "execution_count": 41,
   "metadata": {},
   "outputs": [
    {
     "name": "stdout",
     "output_type": "stream",
     "text": [
      "Model Evaluation of DT\n",
      "-----------------------------------------------------------\n",
      "Train set\n",
      "Accuracy:  0.7671009771986971\n",
      "ROC AUC Score:  0.8365654205607477\n",
      "Confusion matrix\n",
      "True         0    1\n",
      "Predicted          \n",
      "0          356   44\n",
      "1           99  115\n",
      "              precision    recall  f1-score   support\n",
      "\n",
      "           0       0.78      0.89      0.83       400\n",
      "           1       0.72      0.54      0.62       214\n",
      "\n",
      "    accuracy                           0.77       614\n",
      "   macro avg       0.75      0.71      0.72       614\n",
      "weighted avg       0.76      0.77      0.76       614\n",
      "\n",
      "-----------------------------------------------------------\n",
      "Test set\n",
      "Accuracy:  0.7727272727272727\n",
      "ROC AUC Score:  0.8631481481481481\n",
      "Confusion matrix\n",
      "True        0   1\n",
      "Predicted        \n",
      "0          91   9\n",
      "1          26  28\n",
      "              precision    recall  f1-score   support\n",
      "\n",
      "           0       0.78      0.91      0.84       100\n",
      "           1       0.76      0.52      0.62        54\n",
      "\n",
      "    accuracy                           0.77       154\n",
      "   macro avg       0.77      0.71      0.73       154\n",
      "weighted avg       0.77      0.77      0.76       154\n",
      "\n"
     ]
    }
   ],
   "source": [
    "ModelEvaluation(model,X_train,y_train,X_test,y_test,'DT')"
   ]
  },
  {
   "cell_type": "markdown",
   "metadata": {},
   "source": [
    "## 4.3. Train and perform cross validation"
   ]
  },
  {
   "cell_type": "code",
   "execution_count": 19,
   "metadata": {},
   "outputs": [
    {
     "data": {
      "text/plain": [
       "array([0.75806452, 0.79032258, 0.70967742, 0.77419355, 0.68852459,\n",
       "       0.80327869, 0.7704918 , 0.81967213, 0.80327869, 0.7704918 ])"
      ]
     },
     "execution_count": 19,
     "metadata": {},
     "output_type": "execute_result"
    }
   ],
   "source": [
    "from sklearn.linear_model import LogisticRegression\n",
    "model = LogisticRegression()\n",
    "\n",
    "kfold = KFold(n_splits = 10, random_state = 10)\n",
    "scores = cross_val_score(model,X_train,y_train,cv=kfold,scoring='accuracy')\n",
    "scores"
   ]
  },
  {
   "cell_type": "code",
   "execution_count": 20,
   "metadata": {},
   "outputs": [
    {
     "name": "stdout",
     "output_type": "stream",
     "text": [
      "Accuracy: 76.88% (+/- 7.88%)\n"
     ]
    }
   ],
   "source": [
    "print(\"Accuracy: %0.2f%% (+/- %0.2f%%)\" % (100*scores.mean(), 100*scores.std() * 2))"
   ]
  },
  {
   "cell_type": "code",
   "execution_count": 22,
   "metadata": {
    "scrolled": true
   },
   "outputs": [
    {
     "data": {
      "image/png": "[encoded data removed]",
      "text/plain": [
       "<Figure size 504x144 with 1 Axes>"
      ]
     },
     "metadata": {
      "needs_background": "light"
     },
     "output_type": "display_data"
    }
   ],
   "source": [
    "plt.figure(figsize=(7,2))\n",
    "sns.boxplot(data=scores, orient='h')\n",
    "plt.show()"
   ]
  },
  {
   "cell_type": "code",
   "execution_count": null,
   "metadata": {},
   "outputs": [],
   "source": []
  },
  {
   "cell_type": "markdown",
   "metadata": {},
   "source": [
    "# Tuning hyper-parameters"
   ]
  },
  {
   "cell_type": "code",
   "execution_count": 32,
   "metadata": {},
   "outputs": [
    {
     "data": {
      "text/plain": [
       "LogisticRegression(C=1, class_weight=None, dual=False, fit_intercept=True,\n",
       "                   intercept_scaling=1, l1_ratio=None, max_iter=100,\n",
       "                   multi_class='ovr', n_jobs=None, penalty='l2',\n",
       "                   random_state=None, solver='newton-cg', tol=0.0001, verbose=0,\n",
       "                   warm_start=False)"
      ]
     },
     "execution_count": 32,
     "metadata": {},
     "output_type": "execute_result"
    }
   ],
   "source": [
    "# Specify parameters\n",
    "c_values = [0.001, 0.01, 0.1, 1, 10, 100, 1000]\n",
    "params = [\n",
    "    {'C': c_values, 'penalty': ['l1'], 'solver' : ['liblinear'], 'multi_class' : ['ovr']},\n",
    "    {'C': c_values, 'penalty': ['l2'], 'solver' : ['liblinear', 'newton-cg', 'lbfgs'], 'multi_class' : ['ovr']}\n",
    "]\n",
    "\n",
    "grid_search = GridSearchCV(LogisticRegression(), params, cv = 10)\n",
    "grid_search.fit(X_train, y_train)\n",
    "\n",
    "# tree best estimator\n",
    "best_model = grid_search.best_estimator_\n",
    "best_model"
   ]
  },
  {
   "cell_type": "code",
   "execution_count": 37,
   "metadata": {},
   "outputs": [],
   "source": [
    "model = best_model\n",
    "\n",
    "model.fit(X_train, y_train)\n",
    "y_train_pred = model.predict(X_train)\n",
    "prob_train_pred = model.predict_proba(X_train)\n",
    "\n",
    "y_test_pred = model.predict(X_test)\n",
    "prob_test_pred = model.predict_proba(X_test)"
   ]
  },
  {
   "cell_type": "code",
   "execution_count": 38,
   "metadata": {},
   "outputs": [
    {
     "name": "stdout",
     "output_type": "stream",
     "text": [
      "Model Evaluation of DT\n",
      "-----------------------------------------------------------\n",
      "Train set\n",
      "Accuracy:  0.7671009771986971\n",
      "ROC AUC Score:  0.8365654205607477\n",
      "Confusion matrix\n",
      "True         0    1\n",
      "Predicted          \n",
      "0          356   44\n",
      "1           99  115\n",
      "              precision    recall  f1-score   support\n",
      "\n",
      "           0       0.78      0.89      0.83       400\n",
      "           1       0.72      0.54      0.62       214\n",
      "\n",
      "    accuracy                           0.77       614\n",
      "   macro avg       0.75      0.71      0.72       614\n",
      "weighted avg       0.76      0.77      0.76       614\n",
      "\n",
      "-----------------------------------------------------------\n",
      "Test set\n",
      "Accuracy:  0.7727272727272727\n",
      "ROC AUC Score:  0.8631481481481481\n",
      "Confusion matrix\n",
      "True        0   1\n",
      "Predicted        \n",
      "0          91   9\n",
      "1          26  28\n",
      "              precision    recall  f1-score   support\n",
      "\n",
      "           0       0.78      0.91      0.84       100\n",
      "           1       0.76      0.52      0.62        54\n",
      "\n",
      "    accuracy                           0.77       154\n",
      "   macro avg       0.77      0.71      0.73       154\n",
      "weighted avg       0.77      0.77      0.76       154\n",
      "\n"
     ]
    }
   ],
   "source": [
    "ModelEvaluation(model,X_train,y_train,X_test,y_test,'DT')"
   ]
  },
  {
   "cell_type": "code",
   "execution_count": 39,
   "metadata": {},
   "outputs": [
    {
     "data": {
      "image/png": "[encoded data removed]",
      "text/plain": [
       "<Figure size 432x432 with 1 Axes>"
      ]
     },
     "metadata": {
      "needs_background": "light"
     },
     "output_type": "display_data"
    }
   ],
   "source": [
    "from sklearn.metrics import roc_curve\n",
    "\n",
    "fpr_train, tpr_train, threshold = roc_curve(y_train, prob_train_pred[:,1])\n",
    "fpr_test, tpr_test, threshold = roc_curve(y_test, prob_test_pred[:,1])\n",
    "\n",
    "plt.figure(figsize=(6,6))\n",
    "plt.title('ROC Curve Classifiers', fontsize=16)\n",
    "plt.plot(fpr_train, tpr_train, label= 'Train Score: {:.4f}'.format(roc_auc_score(y_train, prob_train_pred[:,1])))\n",
    "plt.plot(fpr_test, tpr_test, label= 'Test Score: {:.4f}'.format(roc_auc_score(y_test, prob_test_pred[:,1])))\n",
    "\n",
    "plt.plot([0, 1], [0, 1], 'k--')\n",
    "plt.axis([-0.01, 1, 0, 1])\n",
    "plt.xlabel('False Positive Rate', fontsize=16)\n",
    "plt.ylabel('True Positive Rate', fontsize=16)\n",
    "plt.annotate('Minimum ROC Score of 50% \\n (This is the minimum score to get)', xy=(0.5, 0.5), xytext=(0.6, 0.3),\n",
    "                arrowprops=dict(facecolor='#6E726D', shrink=0.05))\n",
    "plt.legend()\n",
    "        \n",
    "plt.show()\n"
   ]
  },
  {
   "cell_type": "code",
   "execution_count": null,
   "metadata": {},
   "outputs": [],
   "source": []
  },
  {
   "cell_type": "code",
   "execution_count": null,
   "metadata": {},
   "outputs": [],
   "source": []
  },
  {
   "cell_type": "code",
   "execution_count": null,
   "metadata": {},
   "outputs": [],
   "source": []
  },
  {
   "cell_type": "code",
   "execution_count": null,
   "metadata": {},
   "outputs": [],
   "source": []
  }
 ],
 "metadata": {
  "kernelspec": {
   "display_name": "Python 3",
   "language": "python",
   "name": "python3"
  },
  "language_info": {
   "codemirror_mode": {
    "name": "ipython",
    "version": 3
   },
   "file_extension": ".py",
   "mimetype": "text/x-python",
   "name": "python",
   "nbconvert_exporter": "python",
   "pygments_lexer": "ipython3",
   "version": "3.7.3"
  }
 },
 "nbformat": 4,
 "nbformat_minor": 2
}
