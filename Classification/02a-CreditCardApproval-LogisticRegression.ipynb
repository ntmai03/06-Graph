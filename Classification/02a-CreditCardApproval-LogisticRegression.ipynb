{
 "cells": [
  {
   "cell_type": "markdown",
   "metadata": {},
   "source": [
    "# 1. Import library"
   ]
  },
  {
   "cell_type": "code",
   "execution_count": 1,
   "metadata": {},
   "outputs": [
    {
     "name": "stdout",
     "output_type": "stream",
     "text": [
      "Setup complete...\n"
     ]
    }
   ],
   "source": [
    "# Dataframe manipulation\n",
    "import numpy as np\n",
    "import pandas as pd\n",
    "import math\n",
    "\n",
    "# Visualization\n",
    "import seaborn as sns\n",
    "import matplotlib.pyplot as plt\n",
    "from mpl_toolkits.mplot3d import Axes3D\n",
    "sns.set(style = 'whitegrid',context = 'notebook')\n",
    "\n",
    "# Preprocessing\n",
    "from sklearn.preprocessing import MinMaxScaler, StandardScaler, LabelEncoder\n",
    "\n",
    "# generate classification report using predictions for categorical model\n",
    "from sklearn.metrics import confusion_matrix,classification_report, accuracy_score, roc_curve, roc_auc_score\n",
    "from sklearn import (metrics,  linear_model, preprocessing)\n",
    "from sklearn.model_selection import train_test_split, cross_val_score, GridSearchCV, RandomizedSearchCV, KFold, learning_curve, StratifiedKFold\n",
    "\n",
    "# Configuration\n",
    "pd.set_option('display.max_rows', 500)\n",
    "pd.set_option('display.max_columns', None)\n",
    "pd.set_option('display.width', 500)\n",
    "\n",
    "# Supress warnings\n",
    "import warnings\n",
    "warnings.filterwarnings(\"ignore\")\n",
    "\n",
    "print(\"Setup complete...\")"
   ]
  },
  {
   "cell_type": "markdown",
   "metadata": {},
   "source": [
    "# 2. Import dataset"
   ]
  },
  {
   "cell_type": "code",
   "execution_count": 2,
   "metadata": {},
   "outputs": [
    {
     "name": "stdout",
     "output_type": "stream",
     "text": [
      "(690, 16)\n"
     ]
    },
    {
     "data": {
      "text/html": [
       "<div>\n",
       "<style scoped>\n",
       "    .dataframe tbody tr th:only-of-type {\n",
       "        vertical-align: middle;\n",
       "    }\n",
       "\n",
       "    .dataframe tbody tr th {\n",
       "        vertical-align: top;\n",
       "    }\n",
       "\n",
       "    .dataframe thead th {\n",
       "        text-align: right;\n",
       "    }\n",
       "</style>\n",
       "<table border=\"1\" class=\"dataframe\">\n",
       "  <thead>\n",
       "    <tr style=\"text-align: right;\">\n",
       "      <th></th>\n",
       "      <th>CustomerID</th>\n",
       "      <th>A1</th>\n",
       "      <th>A2</th>\n",
       "      <th>A3</th>\n",
       "      <th>A4</th>\n",
       "      <th>A5</th>\n",
       "      <th>A6</th>\n",
       "      <th>A7</th>\n",
       "      <th>A8</th>\n",
       "      <th>A9</th>\n",
       "      <th>A10</th>\n",
       "      <th>A11</th>\n",
       "      <th>A12</th>\n",
       "      <th>A13</th>\n",
       "      <th>A14</th>\n",
       "      <th>Class</th>\n",
       "    </tr>\n",
       "  </thead>\n",
       "  <tbody>\n",
       "    <tr>\n",
       "      <th>0</th>\n",
       "      <td>15776156</td>\n",
       "      <td>1</td>\n",
       "      <td>22.08</td>\n",
       "      <td>11.46</td>\n",
       "      <td>2</td>\n",
       "      <td>4</td>\n",
       "      <td>4</td>\n",
       "      <td>1.585</td>\n",
       "      <td>0</td>\n",
       "      <td>0</td>\n",
       "      <td>0</td>\n",
       "      <td>1</td>\n",
       "      <td>2</td>\n",
       "      <td>100</td>\n",
       "      <td>1213</td>\n",
       "      <td>0</td>\n",
       "    </tr>\n",
       "    <tr>\n",
       "      <th>1</th>\n",
       "      <td>15739548</td>\n",
       "      <td>0</td>\n",
       "      <td>22.67</td>\n",
       "      <td>7.00</td>\n",
       "      <td>2</td>\n",
       "      <td>8</td>\n",
       "      <td>4</td>\n",
       "      <td>0.165</td>\n",
       "      <td>0</td>\n",
       "      <td>0</td>\n",
       "      <td>0</td>\n",
       "      <td>0</td>\n",
       "      <td>2</td>\n",
       "      <td>160</td>\n",
       "      <td>1</td>\n",
       "      <td>0</td>\n",
       "    </tr>\n",
       "    <tr>\n",
       "      <th>2</th>\n",
       "      <td>15662854</td>\n",
       "      <td>0</td>\n",
       "      <td>29.58</td>\n",
       "      <td>1.75</td>\n",
       "      <td>1</td>\n",
       "      <td>4</td>\n",
       "      <td>4</td>\n",
       "      <td>1.250</td>\n",
       "      <td>0</td>\n",
       "      <td>0</td>\n",
       "      <td>0</td>\n",
       "      <td>1</td>\n",
       "      <td>2</td>\n",
       "      <td>280</td>\n",
       "      <td>1</td>\n",
       "      <td>0</td>\n",
       "    </tr>\n",
       "    <tr>\n",
       "      <th>3</th>\n",
       "      <td>15687688</td>\n",
       "      <td>0</td>\n",
       "      <td>21.67</td>\n",
       "      <td>11.50</td>\n",
       "      <td>1</td>\n",
       "      <td>5</td>\n",
       "      <td>3</td>\n",
       "      <td>0.000</td>\n",
       "      <td>1</td>\n",
       "      <td>1</td>\n",
       "      <td>11</td>\n",
       "      <td>1</td>\n",
       "      <td>2</td>\n",
       "      <td>0</td>\n",
       "      <td>1</td>\n",
       "      <td>1</td>\n",
       "    </tr>\n",
       "    <tr>\n",
       "      <th>4</th>\n",
       "      <td>15715750</td>\n",
       "      <td>1</td>\n",
       "      <td>20.17</td>\n",
       "      <td>8.17</td>\n",
       "      <td>2</td>\n",
       "      <td>6</td>\n",
       "      <td>4</td>\n",
       "      <td>1.960</td>\n",
       "      <td>1</td>\n",
       "      <td>1</td>\n",
       "      <td>14</td>\n",
       "      <td>0</td>\n",
       "      <td>2</td>\n",
       "      <td>60</td>\n",
       "      <td>159</td>\n",
       "      <td>1</td>\n",
       "    </tr>\n",
       "  </tbody>\n",
       "</table>\n",
       "</div>"
      ],
      "text/plain": [
       "   CustomerID  A1     A2     A3  A4  A5  A6     A7  A8  A9  A10  A11  A12  A13   A14  Class\n",
       "0    15776156   1  22.08  11.46   2   4   4  1.585   0   0    0    1    2  100  1213      0\n",
       "1    15739548   0  22.67   7.00   2   8   4  0.165   0   0    0    0    2  160     1      0\n",
       "2    15662854   0  29.58   1.75   1   4   4  1.250   0   0    0    1    2  280     1      0\n",
       "3    15687688   0  21.67  11.50   1   5   3  0.000   1   1   11    1    2    0     1      1\n",
       "4    15715750   1  20.17   8.17   2   6   4  1.960   1   1   14    0    2   60   159      1"
      ]
     },
     "execution_count": 2,
     "metadata": {},
     "output_type": "execute_result"
    }
   ],
   "source": [
    "df = pd.read_csv('Credit_Card_Applications.csv')\n",
    "print(df.shape)\n",
    "df.head()"
   ]
  },
  {
   "cell_type": "markdown",
   "metadata": {},
   "source": [
    "# 3. Data Preprocessing"
   ]
  },
  {
   "cell_type": "markdown",
   "metadata": {},
   "source": [
    "### Feature Scaling"
   ]
  },
  {
   "cell_type": "code",
   "execution_count": 3,
   "metadata": {},
   "outputs": [
    {
     "name": "stdout",
     "output_type": "stream",
     "text": [
      "(690, 14)\n"
     ]
    },
    {
     "data": {
      "text/html": [
       "<div>\n",
       "<style scoped>\n",
       "    .dataframe tbody tr th:only-of-type {\n",
       "        vertical-align: middle;\n",
       "    }\n",
       "\n",
       "    .dataframe tbody tr th {\n",
       "        vertical-align: top;\n",
       "    }\n",
       "\n",
       "    .dataframe thead th {\n",
       "        text-align: right;\n",
       "    }\n",
       "</style>\n",
       "<table border=\"1\" class=\"dataframe\">\n",
       "  <thead>\n",
       "    <tr style=\"text-align: right;\">\n",
       "      <th></th>\n",
       "      <th>A1</th>\n",
       "      <th>A2</th>\n",
       "      <th>A3</th>\n",
       "      <th>A4</th>\n",
       "      <th>A5</th>\n",
       "      <th>A6</th>\n",
       "      <th>A7</th>\n",
       "      <th>A8</th>\n",
       "      <th>A9</th>\n",
       "      <th>A10</th>\n",
       "      <th>A11</th>\n",
       "      <th>A12</th>\n",
       "      <th>A13</th>\n",
       "      <th>A14</th>\n",
       "    </tr>\n",
       "  </thead>\n",
       "  <tbody>\n",
       "    <tr>\n",
       "      <th>0</th>\n",
       "      <td>1.0</td>\n",
       "      <td>0.125263</td>\n",
       "      <td>0.409286</td>\n",
       "      <td>0.5</td>\n",
       "      <td>0.230769</td>\n",
       "      <td>0.375</td>\n",
       "      <td>0.055614</td>\n",
       "      <td>0.0</td>\n",
       "      <td>0.0</td>\n",
       "      <td>0.000000</td>\n",
       "      <td>1.0</td>\n",
       "      <td>0.5</td>\n",
       "      <td>0.05</td>\n",
       "      <td>0.01212</td>\n",
       "    </tr>\n",
       "    <tr>\n",
       "      <th>1</th>\n",
       "      <td>0.0</td>\n",
       "      <td>0.134135</td>\n",
       "      <td>0.250000</td>\n",
       "      <td>0.5</td>\n",
       "      <td>0.538462</td>\n",
       "      <td>0.375</td>\n",
       "      <td>0.005789</td>\n",
       "      <td>0.0</td>\n",
       "      <td>0.0</td>\n",
       "      <td>0.000000</td>\n",
       "      <td>0.0</td>\n",
       "      <td>0.5</td>\n",
       "      <td>0.08</td>\n",
       "      <td>0.00000</td>\n",
       "    </tr>\n",
       "    <tr>\n",
       "      <th>2</th>\n",
       "      <td>0.0</td>\n",
       "      <td>0.238045</td>\n",
       "      <td>0.062500</td>\n",
       "      <td>0.0</td>\n",
       "      <td>0.230769</td>\n",
       "      <td>0.375</td>\n",
       "      <td>0.043860</td>\n",
       "      <td>0.0</td>\n",
       "      <td>0.0</td>\n",
       "      <td>0.000000</td>\n",
       "      <td>1.0</td>\n",
       "      <td>0.5</td>\n",
       "      <td>0.14</td>\n",
       "      <td>0.00000</td>\n",
       "    </tr>\n",
       "    <tr>\n",
       "      <th>3</th>\n",
       "      <td>0.0</td>\n",
       "      <td>0.119098</td>\n",
       "      <td>0.410714</td>\n",
       "      <td>0.0</td>\n",
       "      <td>0.307692</td>\n",
       "      <td>0.250</td>\n",
       "      <td>0.000000</td>\n",
       "      <td>1.0</td>\n",
       "      <td>1.0</td>\n",
       "      <td>0.164179</td>\n",
       "      <td>1.0</td>\n",
       "      <td>0.5</td>\n",
       "      <td>0.00</td>\n",
       "      <td>0.00000</td>\n",
       "    </tr>\n",
       "    <tr>\n",
       "      <th>4</th>\n",
       "      <td>1.0</td>\n",
       "      <td>0.096541</td>\n",
       "      <td>0.291786</td>\n",
       "      <td>0.5</td>\n",
       "      <td>0.384615</td>\n",
       "      <td>0.375</td>\n",
       "      <td>0.068772</td>\n",
       "      <td>1.0</td>\n",
       "      <td>1.0</td>\n",
       "      <td>0.208955</td>\n",
       "      <td>0.0</td>\n",
       "      <td>0.5</td>\n",
       "      <td>0.03</td>\n",
       "      <td>0.00158</td>\n",
       "    </tr>\n",
       "  </tbody>\n",
       "</table>\n",
       "</div>"
      ],
      "text/plain": [
       "    A1        A2        A3   A4        A5     A6        A7   A8   A9       A10  A11  A12   A13      A14\n",
       "0  1.0  0.125263  0.409286  0.5  0.230769  0.375  0.055614  0.0  0.0  0.000000  1.0  0.5  0.05  0.01212\n",
       "1  0.0  0.134135  0.250000  0.5  0.538462  0.375  0.005789  0.0  0.0  0.000000  0.0  0.5  0.08  0.00000\n",
       "2  0.0  0.238045  0.062500  0.0  0.230769  0.375  0.043860  0.0  0.0  0.000000  1.0  0.5  0.14  0.00000\n",
       "3  0.0  0.119098  0.410714  0.0  0.307692  0.250  0.000000  1.0  1.0  0.164179  1.0  0.5  0.00  0.00000\n",
       "4  1.0  0.096541  0.291786  0.5  0.384615  0.375  0.068772  1.0  1.0  0.208955  0.0  0.5  0.03  0.00158"
      ]
     },
     "execution_count": 3,
     "metadata": {},
     "output_type": "execute_result"
    }
   ],
   "source": [
    "df = df.drop(['CustomerID'],axis =1)\n",
    "df = df.reset_index(drop=True)\n",
    "\n",
    "scaler = MinMaxScaler(feature_range = (0, 1))\n",
    "selected_features = [var for var in df.columns if var not in ['Class']]\n",
    "\n",
    "X_scaled = df[selected_features]\n",
    "X_scaled = pd.DataFrame(scaler.fit_transform(X_scaled))\n",
    "X_scaled.columns = selected_features\n",
    "print(X_scaled.shape)\n",
    "X_scaled.head()"
   ]
  },
  {
   "cell_type": "code",
   "execution_count": 7,
   "metadata": {},
   "outputs": [
    {
     "data": {
      "text/html": [
       "<div>\n",
       "<style scoped>\n",
       "    .dataframe tbody tr th:only-of-type {\n",
       "        vertical-align: middle;\n",
       "    }\n",
       "\n",
       "    .dataframe tbody tr th {\n",
       "        vertical-align: top;\n",
       "    }\n",
       "\n",
       "    .dataframe thead th {\n",
       "        text-align: right;\n",
       "    }\n",
       "</style>\n",
       "<table border=\"1\" class=\"dataframe\">\n",
       "  <thead>\n",
       "    <tr style=\"text-align: right;\">\n",
       "      <th></th>\n",
       "      <th>A1</th>\n",
       "      <th>A2</th>\n",
       "      <th>A3</th>\n",
       "      <th>A4</th>\n",
       "      <th>A5</th>\n",
       "      <th>A6</th>\n",
       "      <th>A7</th>\n",
       "      <th>A8</th>\n",
       "      <th>A9</th>\n",
       "      <th>A10</th>\n",
       "      <th>A11</th>\n",
       "      <th>A12</th>\n",
       "      <th>A13</th>\n",
       "      <th>A14</th>\n",
       "    </tr>\n",
       "  </thead>\n",
       "  <tbody>\n",
       "    <tr>\n",
       "      <th>count</th>\n",
       "      <td>690.000000</td>\n",
       "      <td>690.000000</td>\n",
       "      <td>690.000000</td>\n",
       "      <td>690.000000</td>\n",
       "      <td>690.000000</td>\n",
       "      <td>690.000000</td>\n",
       "      <td>690.000000</td>\n",
       "      <td>690.000000</td>\n",
       "      <td>690.000000</td>\n",
       "      <td>690.000000</td>\n",
       "      <td>690.000000</td>\n",
       "      <td>690.000000</td>\n",
       "      <td>690.000000</td>\n",
       "      <td>690.000000</td>\n",
       "    </tr>\n",
       "    <tr>\n",
       "      <th>mean</th>\n",
       "      <td>0.678261</td>\n",
       "      <td>0.267943</td>\n",
       "      <td>0.169954</td>\n",
       "      <td>0.383333</td>\n",
       "      <td>0.490190</td>\n",
       "      <td>0.461594</td>\n",
       "      <td>0.078014</td>\n",
       "      <td>0.523188</td>\n",
       "      <td>0.427536</td>\n",
       "      <td>0.035821</td>\n",
       "      <td>0.457971</td>\n",
       "      <td>0.464493</td>\n",
       "      <td>0.092007</td>\n",
       "      <td>0.010174</td>\n",
       "    </tr>\n",
       "    <tr>\n",
       "      <th>std</th>\n",
       "      <td>0.467482</td>\n",
       "      <td>0.178245</td>\n",
       "      <td>0.177792</td>\n",
       "      <td>0.215031</td>\n",
       "      <td>0.283328</td>\n",
       "      <td>0.249040</td>\n",
       "      <td>0.117422</td>\n",
       "      <td>0.499824</td>\n",
       "      <td>0.495080</td>\n",
       "      <td>0.072581</td>\n",
       "      <td>0.498592</td>\n",
       "      <td>0.149407</td>\n",
       "      <td>0.086080</td>\n",
       "      <td>0.052101</td>\n",
       "    </tr>\n",
       "    <tr>\n",
       "      <th>min</th>\n",
       "      <td>0.000000</td>\n",
       "      <td>0.000000</td>\n",
       "      <td>0.000000</td>\n",
       "      <td>0.000000</td>\n",
       "      <td>0.000000</td>\n",
       "      <td>0.000000</td>\n",
       "      <td>0.000000</td>\n",
       "      <td>0.000000</td>\n",
       "      <td>0.000000</td>\n",
       "      <td>0.000000</td>\n",
       "      <td>0.000000</td>\n",
       "      <td>0.000000</td>\n",
       "      <td>0.000000</td>\n",
       "      <td>0.000000</td>\n",
       "    </tr>\n",
       "    <tr>\n",
       "      <th>25%</th>\n",
       "      <td>0.000000</td>\n",
       "      <td>0.134135</td>\n",
       "      <td>0.035714</td>\n",
       "      <td>0.500000</td>\n",
       "      <td>0.230769</td>\n",
       "      <td>0.375000</td>\n",
       "      <td>0.005789</td>\n",
       "      <td>0.000000</td>\n",
       "      <td>0.000000</td>\n",
       "      <td>0.000000</td>\n",
       "      <td>0.000000</td>\n",
       "      <td>0.500000</td>\n",
       "      <td>0.040000</td>\n",
       "      <td>0.000000</td>\n",
       "    </tr>\n",
       "    <tr>\n",
       "      <th>50%</th>\n",
       "      <td>1.000000</td>\n",
       "      <td>0.223684</td>\n",
       "      <td>0.098214</td>\n",
       "      <td>0.500000</td>\n",
       "      <td>0.538462</td>\n",
       "      <td>0.375000</td>\n",
       "      <td>0.035088</td>\n",
       "      <td>1.000000</td>\n",
       "      <td>0.000000</td>\n",
       "      <td>0.000000</td>\n",
       "      <td>0.000000</td>\n",
       "      <td>0.500000</td>\n",
       "      <td>0.080000</td>\n",
       "      <td>0.000050</td>\n",
       "    </tr>\n",
       "    <tr>\n",
       "      <th>75%</th>\n",
       "      <td>1.000000</td>\n",
       "      <td>0.360263</td>\n",
       "      <td>0.257411</td>\n",
       "      <td>0.500000</td>\n",
       "      <td>0.692308</td>\n",
       "      <td>0.500000</td>\n",
       "      <td>0.092105</td>\n",
       "      <td>1.000000</td>\n",
       "      <td>1.000000</td>\n",
       "      <td>0.044776</td>\n",
       "      <td>1.000000</td>\n",
       "      <td>0.500000</td>\n",
       "      <td>0.136000</td>\n",
       "      <td>0.003955</td>\n",
       "    </tr>\n",
       "    <tr>\n",
       "      <th>max</th>\n",
       "      <td>1.000000</td>\n",
       "      <td>1.000000</td>\n",
       "      <td>1.000000</td>\n",
       "      <td>1.000000</td>\n",
       "      <td>1.000000</td>\n",
       "      <td>1.000000</td>\n",
       "      <td>1.000000</td>\n",
       "      <td>1.000000</td>\n",
       "      <td>1.000000</td>\n",
       "      <td>1.000000</td>\n",
       "      <td>1.000000</td>\n",
       "      <td>1.000000</td>\n",
       "      <td>1.000000</td>\n",
       "      <td>1.000000</td>\n",
       "    </tr>\n",
       "  </tbody>\n",
       "</table>\n",
       "</div>"
      ],
      "text/plain": [
       "               A1          A2          A3          A4          A5          A6          A7          A8          A9         A10         A11         A12         A13         A14\n",
       "count  690.000000  690.000000  690.000000  690.000000  690.000000  690.000000  690.000000  690.000000  690.000000  690.000000  690.000000  690.000000  690.000000  690.000000\n",
       "mean     0.678261    0.267943    0.169954    0.383333    0.490190    0.461594    0.078014    0.523188    0.427536    0.035821    0.457971    0.464493    0.092007    0.010174\n",
       "std      0.467482    0.178245    0.177792    0.215031    0.283328    0.249040    0.117422    0.499824    0.495080    0.072581    0.498592    0.149407    0.086080    0.052101\n",
       "min      0.000000    0.000000    0.000000    0.000000    0.000000    0.000000    0.000000    0.000000    0.000000    0.000000    0.000000    0.000000    0.000000    0.000000\n",
       "25%      0.000000    0.134135    0.035714    0.500000    0.230769    0.375000    0.005789    0.000000    0.000000    0.000000    0.000000    0.500000    0.040000    0.000000\n",
       "50%      1.000000    0.223684    0.098214    0.500000    0.538462    0.375000    0.035088    1.000000    0.000000    0.000000    0.000000    0.500000    0.080000    0.000050\n",
       "75%      1.000000    0.360263    0.257411    0.500000    0.692308    0.500000    0.092105    1.000000    1.000000    0.044776    1.000000    0.500000    0.136000    0.003955\n",
       "max      1.000000    1.000000    1.000000    1.000000    1.000000    1.000000    1.000000    1.000000    1.000000    1.000000    1.000000    1.000000    1.000000    1.000000"
      ]
     },
     "execution_count": 7,
     "metadata": {},
     "output_type": "execute_result"
    }
   ],
   "source": [
    "X_scaled.describe()"
   ]
  },
  {
   "cell_type": "markdown",
   "metadata": {},
   "source": [
    "### Split data into X & y"
   ]
  },
  {
   "cell_type": "code",
   "execution_count": 4,
   "metadata": {},
   "outputs": [],
   "source": [
    "X = X_scaled  #independent columns\n",
    "y = df['Class']    #target column i.e price range\n",
    "\n",
    "scaled_df = pd.concat([X,y],axis=1)"
   ]
  },
  {
   "cell_type": "markdown",
   "metadata": {},
   "source": [
    "### Split data into train and test set"
   ]
  },
  {
   "cell_type": "code",
   "execution_count": 5,
   "metadata": {},
   "outputs": [
    {
     "data": {
      "text/plain": [
       "((552, 14), (138, 14))"
      ]
     },
     "execution_count": 5,
     "metadata": {},
     "output_type": "execute_result"
    }
   ],
   "source": [
    "from sklearn.model_selection import train_test_split\n",
    "\n",
    "X_train, X_test, y_train, y_test = train_test_split(X, y, test_size=0.2, random_state=0, stratify = y)\n",
    "X_train.shape, X_test.shape"
   ]
  },
  {
   "cell_type": "code",
   "execution_count": 6,
   "metadata": {},
   "outputs": [
    {
     "name": "stdout",
     "output_type": "stream",
     "text": [
      "0.44565217391304346\n",
      "0.4420289855072464\n"
     ]
    }
   ],
   "source": [
    "print(y_train.sum()/len(y_train))\n",
    "print(y_test.sum()/len(y_test))"
   ]
  },
  {
   "cell_type": "markdown",
   "metadata": {},
   "source": [
    "# 4. Predictive Model"
   ]
  },
  {
   "cell_type": "markdown",
   "metadata": {},
   "source": [
    "### 4.1. Train logistic regrssion using statsmodel"
   ]
  },
  {
   "cell_type": "code",
   "execution_count": 25,
   "metadata": {},
   "outputs": [
    {
     "name": "stdout",
     "output_type": "stream",
     "text": [
      "Optimization terminated successfully.\n",
      "         Current function value: 0.308273\n",
      "         Iterations 9\n"
     ]
    }
   ],
   "source": [
    "import statsmodels.api as sm\n",
    "\n",
    "X_train_const = sm.add_constant(X_train)\n",
    "model = sm.Logit(y_train, X_train_const)\n",
    "result = model.fit()"
   ]
  },
  {
   "cell_type": "code",
   "execution_count": 26,
   "metadata": {},
   "outputs": [
    {
     "data": {
      "text/html": [
       "<table class=\"simpletable\">\n",
       "<caption>Logit Regression Results</caption>\n",
       "<tr>\n",
       "  <th>Dep. Variable:</th>         <td>Class</td>      <th>  No. Observations:  </th>  <td>   552</td>  \n",
       "</tr>\n",
       "<tr>\n",
       "  <th>Model:</th>                 <td>Logit</td>      <th>  Df Residuals:      </th>  <td>   537</td>  \n",
       "</tr>\n",
       "<tr>\n",
       "  <th>Method:</th>                 <td>MLE</td>       <th>  Df Model:          </th>  <td>    14</td>  \n",
       "</tr>\n",
       "<tr>\n",
       "  <th>Date:</th>            <td>Tue, 15 Sep 2020</td> <th>  Pseudo R-squ.:     </th>  <td>0.5514</td>  \n",
       "</tr>\n",
       "<tr>\n",
       "  <th>Time:</th>                <td>04:59:34</td>     <th>  Log-Likelihood:    </th> <td> -170.17</td> \n",
       "</tr>\n",
       "<tr>\n",
       "  <th>converged:</th>             <td>True</td>       <th>  LL-Null:           </th> <td> -379.35</td> \n",
       "</tr>\n",
       "<tr>\n",
       "  <th>Covariance Type:</th>     <td>nonrobust</td>    <th>  LLR p-value:       </th> <td>1.703e-80</td>\n",
       "</tr>\n",
       "</table>\n",
       "<table class=\"simpletable\">\n",
       "<tr>\n",
       "    <td></td>       <th>coef</th>     <th>std err</th>      <th>z</th>      <th>P>|z|</th>  <th>[0.025</th>    <th>0.975]</th>  \n",
       "</tr>\n",
       "<tr>\n",
       "  <th>const</th> <td>   -4.8691</td> <td>    0.759</td> <td>   -6.417</td> <td> 0.000</td> <td>   -6.356</td> <td>   -3.382</td>\n",
       "</tr>\n",
       "<tr>\n",
       "  <th>A1</th>    <td>   -0.0419</td> <td>    0.309</td> <td>   -0.136</td> <td> 0.892</td> <td>   -0.647</td> <td>    0.564</td>\n",
       "</tr>\n",
       "<tr>\n",
       "  <th>A2</th>    <td>   -0.4391</td> <td>    0.860</td> <td>   -0.511</td> <td> 0.610</td> <td>   -2.124</td> <td>    1.246</td>\n",
       "</tr>\n",
       "<tr>\n",
       "  <th>A3</th>    <td>   -0.7275</td> <td>    0.842</td> <td>   -0.863</td> <td> 0.388</td> <td>   -2.379</td> <td>    0.924</td>\n",
       "</tr>\n",
       "<tr>\n",
       "  <th>A4</th>    <td>    1.1187</td> <td>    0.682</td> <td>    1.641</td> <td> 0.101</td> <td>   -0.217</td> <td>    2.455</td>\n",
       "</tr>\n",
       "<tr>\n",
       "  <th>A5</th>    <td>    2.1845</td> <td>    0.593</td> <td>    3.682</td> <td> 0.000</td> <td>    1.022</td> <td>    3.347</td>\n",
       "</tr>\n",
       "<tr>\n",
       "  <th>A6</th>    <td>    0.3240</td> <td>    0.646</td> <td>    0.502</td> <td> 0.616</td> <td>   -0.942</td> <td>    1.590</td>\n",
       "</tr>\n",
       "<tr>\n",
       "  <th>A7</th>    <td>    1.5272</td> <td>    1.529</td> <td>    0.999</td> <td> 0.318</td> <td>   -1.469</td> <td>    4.523</td>\n",
       "</tr>\n",
       "<tr>\n",
       "  <th>A8</th>    <td>    3.5194</td> <td>    0.354</td> <td>    9.949</td> <td> 0.000</td> <td>    2.826</td> <td>    4.213</td>\n",
       "</tr>\n",
       "<tr>\n",
       "  <th>A9</th>    <td>    0.5044</td> <td>    0.394</td> <td>    1.282</td> <td> 0.200</td> <td>   -0.267</td> <td>    1.276</td>\n",
       "</tr>\n",
       "<tr>\n",
       "  <th>A10</th>   <td>    8.6992</td> <td>    4.298</td> <td>    2.024</td> <td> 0.043</td> <td>    0.276</td> <td>   17.122</td>\n",
       "</tr>\n",
       "<tr>\n",
       "  <th>A11</th>   <td>   -0.4024</td> <td>    0.294</td> <td>   -1.370</td> <td> 0.171</td> <td>   -0.978</td> <td>    0.173</td>\n",
       "</tr>\n",
       "<tr>\n",
       "  <th>A12</th>   <td>    1.4349</td> <td>    0.961</td> <td>    1.494</td> <td> 0.135</td> <td>   -0.448</td> <td>    3.318</td>\n",
       "</tr>\n",
       "<tr>\n",
       "  <th>A13</th>   <td>   -2.5941</td> <td>    1.857</td> <td>   -1.397</td> <td> 0.162</td> <td>   -6.233</td> <td>    1.045</td>\n",
       "</tr>\n",
       "<tr>\n",
       "  <th>A14</th>   <td>   39.4404</td> <td>   17.248</td> <td>    2.287</td> <td> 0.022</td> <td>    5.634</td> <td>   73.247</td>\n",
       "</tr>\n",
       "</table>"
      ],
      "text/plain": [
       "<class 'statsmodels.iolib.summary.Summary'>\n",
       "\"\"\"\n",
       "                           Logit Regression Results                           \n",
       "==============================================================================\n",
       "Dep. Variable:                  Class   No. Observations:                  552\n",
       "Model:                          Logit   Df Residuals:                      537\n",
       "Method:                           MLE   Df Model:                           14\n",
       "Date:                Tue, 15 Sep 2020   Pseudo R-squ.:                  0.5514\n",
       "Time:                        04:59:34   Log-Likelihood:                -170.17\n",
       "converged:                       True   LL-Null:                       -379.35\n",
       "Covariance Type:            nonrobust   LLR p-value:                 1.703e-80\n",
       "==============================================================================\n",
       "                 coef    std err          z      P>|z|      [0.025      0.975]\n",
       "------------------------------------------------------------------------------\n",
       "const         -4.8691      0.759     -6.417      0.000      -6.356      -3.382\n",
       "A1            -0.0419      0.309     -0.136      0.892      -0.647       0.564\n",
       "A2            -0.4391      0.860     -0.511      0.610      -2.124       1.246\n",
       "A3            -0.7275      0.842     -0.863      0.388      -2.379       0.924\n",
       "A4             1.1187      0.682      1.641      0.101      -0.217       2.455\n",
       "A5             2.1845      0.593      3.682      0.000       1.022       3.347\n",
       "A6             0.3240      0.646      0.502      0.616      -0.942       1.590\n",
       "A7             1.5272      1.529      0.999      0.318      -1.469       4.523\n",
       "A8             3.5194      0.354      9.949      0.000       2.826       4.213\n",
       "A9             0.5044      0.394      1.282      0.200      -0.267       1.276\n",
       "A10            8.6992      4.298      2.024      0.043       0.276      17.122\n",
       "A11           -0.4024      0.294     -1.370      0.171      -0.978       0.173\n",
       "A12            1.4349      0.961      1.494      0.135      -0.448       3.318\n",
       "A13           -2.5941      1.857     -1.397      0.162      -6.233       1.045\n",
       "A14           39.4404     17.248      2.287      0.022       5.634      73.247\n",
       "==============================================================================\n",
       "\"\"\""
      ]
     },
     "execution_count": 26,
     "metadata": {},
     "output_type": "execute_result"
    }
   ],
   "source": [
    "result.summary()"
   ]
  },
  {
   "cell_type": "code",
   "execution_count": 27,
   "metadata": {},
   "outputs": [
    {
     "data": {
      "text/html": [
       "<table class=\"simpletable\">\n",
       "<tr>\n",
       "        <td>Model:</td>              <td>Logit</td>      <td>Pseudo R-squared:</td>    <td>0.551</td>  \n",
       "</tr>\n",
       "<tr>\n",
       "  <td>Dependent Variable:</td>       <td>Class</td>            <td>AIC:</td>         <td>370.3329</td> \n",
       "</tr>\n",
       "<tr>\n",
       "         <td>Date:</td>        <td>2020-09-15 04:59</td>       <td>BIC:</td>         <td>435.0361</td> \n",
       "</tr>\n",
       "<tr>\n",
       "   <td>No. Observations:</td>         <td>552</td>        <td>Log-Likelihood:</td>    <td>-170.17</td> \n",
       "</tr>\n",
       "<tr>\n",
       "       <td>Df Model:</td>             <td>14</td>            <td>LL-Null:</td>        <td>-379.35</td> \n",
       "</tr>\n",
       "<tr>\n",
       "     <td>Df Residuals:</td>           <td>537</td>         <td>LLR p-value:</td>    <td>1.7029e-80</td>\n",
       "</tr>\n",
       "<tr>\n",
       "      <td>Converged:</td>           <td>1.0000</td>           <td>Scale:</td>         <td>1.0000</td>  \n",
       "</tr>\n",
       "<tr>\n",
       "    <td>No. Iterations:</td>        <td>9.0000</td>              <td></td>               <td></td>     \n",
       "</tr>\n",
       "</table>\n",
       "<table class=\"simpletable\">\n",
       "<tr>\n",
       "    <td></td>     <th>Coef.</th>  <th>Std.Err.</th>    <th>z</th>     <th>P>|z|</th> <th>[0.025</th>  <th>0.975]</th> \n",
       "</tr>\n",
       "<tr>\n",
       "  <th>const</th> <td>-4.8691</td>  <td>0.7588</td>  <td>-6.4171</td> <td>0.0000</td> <td>-6.3563</td> <td>-3.3819</td>\n",
       "</tr>\n",
       "<tr>\n",
       "  <th>A1</th>    <td>-0.0419</td>  <td>0.3090</td>  <td>-0.1356</td> <td>0.8922</td> <td>-0.6474</td> <td>0.5636</td> \n",
       "</tr>\n",
       "<tr>\n",
       "  <th>A2</th>    <td>-0.4391</td>  <td>0.8597</td>  <td>-0.5107</td> <td>0.6096</td> <td>-2.1241</td> <td>1.2460</td> \n",
       "</tr>\n",
       "<tr>\n",
       "  <th>A3</th>    <td>-0.7275</td>  <td>0.8425</td>  <td>-0.8635</td> <td>0.3879</td> <td>-2.3787</td> <td>0.9238</td> \n",
       "</tr>\n",
       "<tr>\n",
       "  <th>A4</th>    <td>1.1187</td>   <td>0.6817</td>  <td>1.6410</td>  <td>0.1008</td> <td>-0.2174</td> <td>2.4548</td> \n",
       "</tr>\n",
       "<tr>\n",
       "  <th>A5</th>    <td>2.1845</td>   <td>0.5932</td>  <td>3.6822</td>  <td>0.0002</td> <td>1.0217</td>  <td>3.3472</td> \n",
       "</tr>\n",
       "<tr>\n",
       "  <th>A6</th>    <td>0.3240</td>   <td>0.6459</td>  <td>0.5016</td>  <td>0.6159</td> <td>-0.9420</td> <td>1.5901</td> \n",
       "</tr>\n",
       "<tr>\n",
       "  <th>A7</th>    <td>1.5272</td>   <td>1.5287</td>  <td>0.9990</td>  <td>0.3178</td> <td>-1.4691</td> <td>4.5234</td> \n",
       "</tr>\n",
       "<tr>\n",
       "  <th>A8</th>    <td>3.5194</td>   <td>0.3538</td>  <td>9.9486</td>  <td>0.0000</td> <td>2.8261</td>  <td>4.2128</td> \n",
       "</tr>\n",
       "<tr>\n",
       "  <th>A9</th>    <td>0.5044</td>   <td>0.3935</td>  <td>1.2817</td>  <td>0.2000</td> <td>-0.2669</td> <td>1.2757</td> \n",
       "</tr>\n",
       "<tr>\n",
       "  <th>A10</th>   <td>8.6992</td>   <td>4.2975</td>  <td>2.0242</td>  <td>0.0429</td> <td>0.2762</td>  <td>17.1222</td>\n",
       "</tr>\n",
       "<tr>\n",
       "  <th>A11</th>   <td>-0.4024</td>  <td>0.2937</td>  <td>-1.3701</td> <td>0.1707</td> <td>-0.9781</td> <td>0.1733</td> \n",
       "</tr>\n",
       "<tr>\n",
       "  <th>A12</th>   <td>1.4349</td>   <td>0.9606</td>  <td>1.4938</td>  <td>0.1352</td> <td>-0.4478</td> <td>3.3175</td> \n",
       "</tr>\n",
       "<tr>\n",
       "  <th>A13</th>   <td>-2.5941</td>  <td>1.8567</td>  <td>-1.3971</td> <td>0.1624</td> <td>-6.2332</td> <td>1.0451</td> \n",
       "</tr>\n",
       "<tr>\n",
       "  <th>A14</th>   <td>39.4404</td>  <td>17.2485</td> <td>2.2866</td>  <td>0.0222</td> <td>5.6340</td>  <td>73.2468</td>\n",
       "</tr>\n",
       "</table>"
      ],
      "text/plain": [
       "<class 'statsmodels.iolib.summary2.Summary'>\n",
       "\"\"\"\n",
       "                         Results: Logit\n",
       "=================================================================\n",
       "Model:              Logit            Pseudo R-squared: 0.551     \n",
       "Dependent Variable: Class            AIC:              370.3329  \n",
       "Date:               2020-09-15 04:59 BIC:              435.0361  \n",
       "No. Observations:   552              Log-Likelihood:   -170.17   \n",
       "Df Model:           14               LL-Null:          -379.35   \n",
       "Df Residuals:       537              LLR p-value:      1.7029e-80\n",
       "Converged:          1.0000           Scale:            1.0000    \n",
       "No. Iterations:     9.0000                                       \n",
       "-------------------------------------------------------------------\n",
       "           Coef.    Std.Err.      z      P>|z|     [0.025    0.975]\n",
       "-------------------------------------------------------------------\n",
       "const     -4.8691     0.7588   -6.4171   0.0000   -6.3563   -3.3819\n",
       "A1        -0.0419     0.3090   -0.1356   0.8922   -0.6474    0.5636\n",
       "A2        -0.4391     0.8597   -0.5107   0.6096   -2.1241    1.2460\n",
       "A3        -0.7275     0.8425   -0.8635   0.3879   -2.3787    0.9238\n",
       "A4         1.1187     0.6817    1.6410   0.1008   -0.2174    2.4548\n",
       "A5         2.1845     0.5932    3.6822   0.0002    1.0217    3.3472\n",
       "A6         0.3240     0.6459    0.5016   0.6159   -0.9420    1.5901\n",
       "A7         1.5272     1.5287    0.9990   0.3178   -1.4691    4.5234\n",
       "A8         3.5194     0.3538    9.9486   0.0000    2.8261    4.2128\n",
       "A9         0.5044     0.3935    1.2817   0.2000   -0.2669    1.2757\n",
       "A10        8.6992     4.2975    2.0242   0.0429    0.2762   17.1222\n",
       "A11       -0.4024     0.2937   -1.3701   0.1707   -0.9781    0.1733\n",
       "A12        1.4349     0.9606    1.4938   0.1352   -0.4478    3.3175\n",
       "A13       -2.5941     1.8567   -1.3971   0.1624   -6.2332    1.0451\n",
       "A14       39.4404    17.2485    2.2866   0.0222    5.6340   73.2468\n",
       "=================================================================\n",
       "\n",
       "\"\"\""
      ]
     },
     "execution_count": 27,
     "metadata": {},
     "output_type": "execute_result"
    }
   ],
   "source": [
    "result.summary2()"
   ]
  },
  {
   "cell_type": "markdown",
   "metadata": {},
   "source": [
    "#### Retrain model, using only significant features"
   ]
  },
  {
   "cell_type": "code",
   "execution_count": 28,
   "metadata": {},
   "outputs": [
    {
     "name": "stdout",
     "output_type": "stream",
     "text": [
      "Optimization terminated successfully.\n",
      "         Current function value: 0.320263\n",
      "         Iterations 8\n"
     ]
    },
    {
     "data": {
      "text/html": [
       "<table class=\"simpletable\">\n",
       "<tr>\n",
       "        <td>Model:</td>              <td>Logit</td>      <td>Pseudo R-squared:</td>    <td>0.534</td>  \n",
       "</tr>\n",
       "<tr>\n",
       "  <td>Dependent Variable:</td>       <td>Class</td>            <td>AIC:</td>         <td>363.5699</td> \n",
       "</tr>\n",
       "<tr>\n",
       "         <td>Date:</td>        <td>2020-09-15 04:59</td>       <td>BIC:</td>         <td>385.1377</td> \n",
       "</tr>\n",
       "<tr>\n",
       "   <td>No. Observations:</td>         <td>552</td>        <td>Log-Likelihood:</td>    <td>-176.78</td> \n",
       "</tr>\n",
       "<tr>\n",
       "       <td>Df Model:</td>              <td>4</td>            <td>LL-Null:</td>        <td>-379.35</td> \n",
       "</tr>\n",
       "<tr>\n",
       "     <td>Df Residuals:</td>           <td>547</td>         <td>LLR p-value:</td>    <td>2.1670e-86</td>\n",
       "</tr>\n",
       "<tr>\n",
       "      <td>Converged:</td>           <td>1.0000</td>           <td>Scale:</td>         <td>1.0000</td>  \n",
       "</tr>\n",
       "<tr>\n",
       "    <td>No. Iterations:</td>        <td>8.0000</td>              <td></td>               <td></td>     \n",
       "</tr>\n",
       "</table>\n",
       "<table class=\"simpletable\">\n",
       "<tr>\n",
       "    <td></td>     <th>Coef.</th>  <th>Std.Err.</th>     <th>z</th>     <th>P>|z|</th> <th>[0.025</th>  <th>0.975]</th> \n",
       "</tr>\n",
       "<tr>\n",
       "  <th>const</th> <td>-4.1667</td>  <td>0.4025</td>  <td>-10.3519</td> <td>0.0000</td> <td>-4.9556</td> <td>-3.3778</td>\n",
       "</tr>\n",
       "<tr>\n",
       "  <th>A5</th>    <td>2.3530</td>   <td>0.5289</td>   <td>4.4488</td>  <td>0.0000</td> <td>1.3164</td>  <td>3.3897</td> \n",
       "</tr>\n",
       "<tr>\n",
       "  <th>A8</th>    <td>3.4054</td>   <td>0.3217</td>   <td>10.5859</td> <td>0.0000</td> <td>2.7749</td>  <td>4.0359</td> \n",
       "</tr>\n",
       "<tr>\n",
       "  <th>A10</th>   <td>13.9894</td>  <td>3.3247</td>   <td>4.2077</td>  <td>0.0000</td> <td>7.4731</td>  <td>20.5057</td>\n",
       "</tr>\n",
       "<tr>\n",
       "  <th>A14</th>   <td>42.6832</td>  <td>16.6470</td>  <td>2.5640</td>  <td>0.0103</td> <td>10.0558</td> <td>75.3106</td>\n",
       "</tr>\n",
       "</table>"
      ],
      "text/plain": [
       "<class 'statsmodels.iolib.summary2.Summary'>\n",
       "\"\"\"\n",
       "                         Results: Logit\n",
       "=================================================================\n",
       "Model:              Logit            Pseudo R-squared: 0.534     \n",
       "Dependent Variable: Class            AIC:              363.5699  \n",
       "Date:               2020-09-15 04:59 BIC:              385.1377  \n",
       "No. Observations:   552              Log-Likelihood:   -176.78   \n",
       "Df Model:           4                LL-Null:          -379.35   \n",
       "Df Residuals:       547              LLR p-value:      2.1670e-86\n",
       "Converged:          1.0000           Scale:            1.0000    \n",
       "No. Iterations:     8.0000                                       \n",
       "-------------------------------------------------------------------\n",
       "          Coef.    Std.Err.      z       P>|z|     [0.025    0.975]\n",
       "-------------------------------------------------------------------\n",
       "const    -4.1667     0.4025   -10.3519   0.0000   -4.9556   -3.3778\n",
       "A5        2.3530     0.5289     4.4488   0.0000    1.3164    3.3897\n",
       "A8        3.4054     0.3217    10.5859   0.0000    2.7749    4.0359\n",
       "A10      13.9894     3.3247     4.2077   0.0000    7.4731   20.5057\n",
       "A14      42.6832    16.6470     2.5640   0.0103   10.0558   75.3106\n",
       "=================================================================\n",
       "\n",
       "\"\"\""
      ]
     },
     "execution_count": 28,
     "metadata": {},
     "output_type": "execute_result"
    }
   ],
   "source": [
    "X_train1 = X_train[['A5','A8','A10','A14']]\n",
    "X_train_all = sm.add_constant(X_train1)\n",
    "model = sm.Logit(y_train, X_train_all)\n",
    "result = model.fit()\n",
    "result.summary2()"
   ]
  },
  {
   "cell_type": "code",
   "execution_count": 29,
   "metadata": {},
   "outputs": [],
   "source": [
    "y_train_pred = result.predict(X_train_all)"
   ]
  },
  {
   "cell_type": "markdown",
   "metadata": {},
   "source": [
    "### 4.2. Train and perform cross validation"
   ]
  },
  {
   "cell_type": "code",
   "execution_count": 14,
   "metadata": {},
   "outputs": [
    {
     "data": {
      "text/plain": [
       "array([0.80357143, 0.80357143, 0.89090909, 0.85454545, 0.90909091,\n",
       "       0.87272727, 0.87272727, 0.87272727, 0.94545455, 0.85454545])"
      ]
     },
     "execution_count": 14,
     "metadata": {},
     "output_type": "execute_result"
    }
   ],
   "source": [
    "from sklearn.linear_model import LogisticRegression\n",
    "\n",
    "model = LogisticRegression()\n",
    "kfold = KFold(n_splits = 10, random_state = 10)\n",
    "scores = cross_val_score(model, X_train, y_train, cv=kfold, scoring='accuracy')\n",
    "scores"
   ]
  },
  {
   "cell_type": "code",
   "execution_count": 15,
   "metadata": {},
   "outputs": [
    {
     "name": "stdout",
     "output_type": "stream",
     "text": [
      "Accuracy: 86.80% (+/- 4.12%)\n"
     ]
    }
   ],
   "source": [
    "print(\"Accuracy: %0.2f%% (+/- %0.2f%%)\" % (100*scores.mean(), 100*scores.std()))"
   ]
  },
  {
   "cell_type": "code",
   "execution_count": 16,
   "metadata": {},
   "outputs": [
    {
     "data": {
      "text/plain": [
       "count    10.000000\n",
       "mean      0.867987\n",
       "std       0.043389\n",
       "min       0.803571\n",
       "25%       0.854545\n",
       "50%       0.872727\n",
       "75%       0.886364\n",
       "max       0.945455\n",
       "dtype: float64"
      ]
     },
     "execution_count": 16,
     "metadata": {},
     "output_type": "execute_result"
    }
   ],
   "source": [
    "pd.Series(scores).describe()"
   ]
  },
  {
   "cell_type": "code",
   "execution_count": 17,
   "metadata": {},
   "outputs": [
    {
     "data": {
      "image/png": "[encoded data removed]",
      "text/plain": [
       "<Figure size 504x144 with 1 Axes>"
      ]
     },
     "metadata": {
      "needs_background": "light"
     },
     "output_type": "display_data"
    }
   ],
   "source": [
    "plt.figure(figsize=(7,2))\n",
    "sns.boxplot(data=scores, orient='h')\n",
    "plt.show()"
   ]
  },
  {
   "cell_type": "markdown",
   "metadata": {},
   "source": [
    "### 4.3. Train logistic regression using sklearn"
   ]
  },
  {
   "cell_type": "markdown",
   "metadata": {},
   "source": [
    "#### Train model"
   ]
  },
  {
   "cell_type": "code",
   "execution_count": 34,
   "metadata": {},
   "outputs": [
    {
     "data": {
      "text/plain": [
       "LogisticRegression(C=1.0, class_weight=None, dual=False, fit_intercept=True,\n",
       "                   intercept_scaling=1, l1_ratio=None, max_iter=100,\n",
       "                   multi_class='auto', n_jobs=None, penalty='l2',\n",
       "                   random_state=None, solver='lbfgs', tol=0.0001, verbose=0,\n",
       "                   warm_start=False)"
      ]
     },
     "execution_count": 34,
     "metadata": {},
     "output_type": "execute_result"
    }
   ],
   "source": [
    "from sklearn.linear_model import LogisticRegression\n",
    "\n",
    "model = LogisticRegression()\n",
    "model.fit(X_train, y_train)"
   ]
  },
  {
   "cell_type": "markdown",
   "metadata": {},
   "source": [
    "#### Prediction"
   ]
  },
  {
   "cell_type": "code",
   "execution_count": 35,
   "metadata": {},
   "outputs": [],
   "source": [
    "y_train_pred = model.predict(X_train)\n",
    "prob_train_pred = model.predict_proba(X_train)\n",
    "\n",
    "y_test_pred = model.predict(X_test)\n",
    "prob_test_pred = model.predict_proba(X_test)"
   ]
  },
  {
   "cell_type": "markdown",
   "metadata": {},
   "source": [
    "### 4.4. Model Interpretation"
   ]
  },
  {
   "cell_type": "markdown",
   "metadata": {},
   "source": [
    "#### intercept and coefficients"
   ]
  },
  {
   "cell_type": "code",
   "execution_count": 36,
   "metadata": {},
   "outputs": [
    {
     "data": {
      "text/plain": [
       "array([-4.37654947])"
      ]
     },
     "execution_count": 36,
     "metadata": {},
     "output_type": "execute_result"
    }
   ],
   "source": [
    "model.intercept_"
   ]
  },
  {
   "cell_type": "code",
   "execution_count": 37,
   "metadata": {},
   "outputs": [
    {
     "data": {
      "text/plain": [
       "array([[-0.09137432,  0.11647663,  0.04488628,  0.66244486,  1.7402642 ,\n",
       "         0.47289414,  0.67103042,  3.27578404,  1.16639074,  0.83183246,\n",
       "        -0.34413918,  0.87923544, -0.71671861,  0.50618876]])"
      ]
     },
     "execution_count": 37,
     "metadata": {},
     "output_type": "execute_result"
    }
   ],
   "source": [
    "model.coef_"
   ]
  },
  {
   "cell_type": "code",
   "execution_count": 38,
   "metadata": {},
   "outputs": [
    {
     "data": {
      "text/plain": [
       "[('A1', -0.09137432001356298),\n",
       " ('A2', 0.11647663382716296),\n",
       " ('A3', 0.04488627935076507),\n",
       " ('A4', 0.6624448612483903),\n",
       " ('A5', 1.7402642029586564),\n",
       " ('A6', 0.47289413984358664),\n",
       " ('A7', 0.6710304228606382),\n",
       " ('A8', 3.275784039730191),\n",
       " ('A9', 1.1663907429935876),\n",
       " ('A10', 0.8318324573802774),\n",
       " ('A11', -0.344139183645137),\n",
       " ('A12', 0.8792354376330818),\n",
       " ('A13', -0.7167186052441088),\n",
       " ('A14', 0.5061887592970667)]"
      ]
     },
     "execution_count": 38,
     "metadata": {},
     "output_type": "execute_result"
    }
   ],
   "source": [
    "feature_names = X.columns.values\n",
    "coefficient_list = list(model.coef_[0])\n",
    "feature_coefficient = [(feature, coefficient) for feature, coefficient in zip(feature_names, coefficient_list)]\n",
    "feature_coefficient"
   ]
  },
  {
   "cell_type": "code",
   "execution_count": 39,
   "metadata": {},
   "outputs": [
    {
     "data": {
      "text/html": [
       "<div>\n",
       "<style scoped>\n",
       "    .dataframe tbody tr th:only-of-type {\n",
       "        vertical-align: middle;\n",
       "    }\n",
       "\n",
       "    .dataframe tbody tr th {\n",
       "        vertical-align: top;\n",
       "    }\n",
       "\n",
       "    .dataframe thead th {\n",
       "        text-align: right;\n",
       "    }\n",
       "</style>\n",
       "<table border=\"1\" class=\"dataframe\">\n",
       "  <thead>\n",
       "    <tr style=\"text-align: right;\">\n",
       "      <th></th>\n",
       "      <th>name</th>\n",
       "      <th>score</th>\n",
       "    </tr>\n",
       "  </thead>\n",
       "  <tbody>\n",
       "    <tr>\n",
       "      <th>0</th>\n",
       "      <td>A8</td>\n",
       "      <td>3.275784</td>\n",
       "    </tr>\n",
       "    <tr>\n",
       "      <th>1</th>\n",
       "      <td>A5</td>\n",
       "      <td>1.740264</td>\n",
       "    </tr>\n",
       "    <tr>\n",
       "      <th>2</th>\n",
       "      <td>A9</td>\n",
       "      <td>1.166391</td>\n",
       "    </tr>\n",
       "    <tr>\n",
       "      <th>3</th>\n",
       "      <td>A12</td>\n",
       "      <td>0.879235</td>\n",
       "    </tr>\n",
       "    <tr>\n",
       "      <th>4</th>\n",
       "      <td>A10</td>\n",
       "      <td>0.831832</td>\n",
       "    </tr>\n",
       "    <tr>\n",
       "      <th>5</th>\n",
       "      <td>A13</td>\n",
       "      <td>0.716719</td>\n",
       "    </tr>\n",
       "    <tr>\n",
       "      <th>6</th>\n",
       "      <td>A7</td>\n",
       "      <td>0.671030</td>\n",
       "    </tr>\n",
       "    <tr>\n",
       "      <th>7</th>\n",
       "      <td>A4</td>\n",
       "      <td>0.662445</td>\n",
       "    </tr>\n",
       "    <tr>\n",
       "      <th>8</th>\n",
       "      <td>A14</td>\n",
       "      <td>0.506189</td>\n",
       "    </tr>\n",
       "    <tr>\n",
       "      <th>9</th>\n",
       "      <td>A6</td>\n",
       "      <td>0.472894</td>\n",
       "    </tr>\n",
       "    <tr>\n",
       "      <th>10</th>\n",
       "      <td>A11</td>\n",
       "      <td>0.344139</td>\n",
       "    </tr>\n",
       "    <tr>\n",
       "      <th>11</th>\n",
       "      <td>A2</td>\n",
       "      <td>0.116477</td>\n",
       "    </tr>\n",
       "    <tr>\n",
       "      <th>12</th>\n",
       "      <td>A1</td>\n",
       "      <td>0.091374</td>\n",
       "    </tr>\n",
       "    <tr>\n",
       "      <th>13</th>\n",
       "      <td>A3</td>\n",
       "      <td>0.044886</td>\n",
       "    </tr>\n",
       "  </tbody>\n",
       "</table>\n",
       "</div>"
      ],
      "text/plain": [
       "   name     score\n",
       "0    A8  3.275784\n",
       "1    A5  1.740264\n",
       "2    A9  1.166391\n",
       "3   A12  0.879235\n",
       "4   A10  0.831832\n",
       "5   A13  0.716719\n",
       "6    A7  0.671030\n",
       "7    A4  0.662445\n",
       "8   A14  0.506189\n",
       "9    A6  0.472894\n",
       "10  A11  0.344139\n",
       "11   A2  0.116477\n",
       "12   A1  0.091374\n",
       "13   A3  0.044886"
      ]
     },
     "execution_count": 39,
     "metadata": {},
     "output_type": "execute_result"
    }
   ],
   "source": [
    "#get feature importances from the model\n",
    "headers = [\"name\", \"score\"]\n",
    "coefficient_list = np.abs(list(model.coef_[0]))\n",
    "values = sorted(zip(feature_names, coefficient_list), key=lambda x: x[1] * -1)\n",
    "feature_importances = pd.DataFrame(values, columns = headers)\n",
    "feature_importances"
   ]
  },
  {
   "cell_type": "markdown",
   "metadata": {},
   "source": [
    "#### Summary table"
   ]
  },
  {
   "cell_type": "code",
   "execution_count": 40,
   "metadata": {},
   "outputs": [],
   "source": [
    "def LogisticSummaryTable(classifier, X):\n",
    "    feature_name = X.columns.values\n",
    "    summary_table = pd.DataFrame(columns=['feature_name'], data = feature_name)\n",
    "    summary_table['Coefficient'] = np.transpose(classifier.coef_)\n",
    "    summary_table.index = summary_table.index + 1\n",
    "    summary_table.loc[0] = ['Intercept', classifier.intercept_[0]]\n",
    "    summary_table = summary_table.sort_index()\n",
    "    summary_table['Odds_ratio'] = np.exp(summary_table.Coefficient)\n",
    "    summary_table.sort_values('Odds_ratio', ascending = False)\n",
    "\n",
    "    return summary_table"
   ]
  },
  {
   "cell_type": "code",
   "execution_count": 41,
   "metadata": {},
   "outputs": [
    {
     "data": {
      "text/html": [
       "<div>\n",
       "<style scoped>\n",
       "    .dataframe tbody tr th:only-of-type {\n",
       "        vertical-align: middle;\n",
       "    }\n",
       "\n",
       "    .dataframe tbody tr th {\n",
       "        vertical-align: top;\n",
       "    }\n",
       "\n",
       "    .dataframe thead th {\n",
       "        text-align: right;\n",
       "    }\n",
       "</style>\n",
       "<table border=\"1\" class=\"dataframe\">\n",
       "  <thead>\n",
       "    <tr style=\"text-align: right;\">\n",
       "      <th></th>\n",
       "      <th>feature_name</th>\n",
       "      <th>Coefficient</th>\n",
       "      <th>Odds_ratio</th>\n",
       "    </tr>\n",
       "  </thead>\n",
       "  <tbody>\n",
       "    <tr>\n",
       "      <th>0</th>\n",
       "      <td>Intercept</td>\n",
       "      <td>-4.376549</td>\n",
       "      <td>0.012569</td>\n",
       "    </tr>\n",
       "    <tr>\n",
       "      <th>1</th>\n",
       "      <td>A1</td>\n",
       "      <td>-0.091374</td>\n",
       "      <td>0.912676</td>\n",
       "    </tr>\n",
       "    <tr>\n",
       "      <th>2</th>\n",
       "      <td>A2</td>\n",
       "      <td>0.116477</td>\n",
       "      <td>1.123531</td>\n",
       "    </tr>\n",
       "    <tr>\n",
       "      <th>3</th>\n",
       "      <td>A3</td>\n",
       "      <td>0.044886</td>\n",
       "      <td>1.045909</td>\n",
       "    </tr>\n",
       "    <tr>\n",
       "      <th>4</th>\n",
       "      <td>A4</td>\n",
       "      <td>0.662445</td>\n",
       "      <td>1.939528</td>\n",
       "    </tr>\n",
       "    <tr>\n",
       "      <th>5</th>\n",
       "      <td>A5</td>\n",
       "      <td>1.740264</td>\n",
       "      <td>5.698849</td>\n",
       "    </tr>\n",
       "    <tr>\n",
       "      <th>6</th>\n",
       "      <td>A6</td>\n",
       "      <td>0.472894</td>\n",
       "      <td>1.604632</td>\n",
       "    </tr>\n",
       "    <tr>\n",
       "      <th>7</th>\n",
       "      <td>A7</td>\n",
       "      <td>0.671030</td>\n",
       "      <td>1.956252</td>\n",
       "    </tr>\n",
       "    <tr>\n",
       "      <th>8</th>\n",
       "      <td>A8</td>\n",
       "      <td>3.275784</td>\n",
       "      <td>26.463966</td>\n",
       "    </tr>\n",
       "    <tr>\n",
       "      <th>9</th>\n",
       "      <td>A9</td>\n",
       "      <td>1.166391</td>\n",
       "      <td>3.210385</td>\n",
       "    </tr>\n",
       "    <tr>\n",
       "      <th>10</th>\n",
       "      <td>A10</td>\n",
       "      <td>0.831832</td>\n",
       "      <td>2.297525</td>\n",
       "    </tr>\n",
       "    <tr>\n",
       "      <th>11</th>\n",
       "      <td>A11</td>\n",
       "      <td>-0.344139</td>\n",
       "      <td>0.708830</td>\n",
       "    </tr>\n",
       "    <tr>\n",
       "      <th>12</th>\n",
       "      <td>A12</td>\n",
       "      <td>0.879235</td>\n",
       "      <td>2.409057</td>\n",
       "    </tr>\n",
       "    <tr>\n",
       "      <th>13</th>\n",
       "      <td>A13</td>\n",
       "      <td>-0.716719</td>\n",
       "      <td>0.488352</td>\n",
       "    </tr>\n",
       "    <tr>\n",
       "      <th>14</th>\n",
       "      <td>A14</td>\n",
       "      <td>0.506189</td>\n",
       "      <td>1.658956</td>\n",
       "    </tr>\n",
       "  </tbody>\n",
       "</table>\n",
       "</div>"
      ],
      "text/plain": [
       "   feature_name  Coefficient  Odds_ratio\n",
       "0     Intercept    -4.376549    0.012569\n",
       "1            A1    -0.091374    0.912676\n",
       "2            A2     0.116477    1.123531\n",
       "3            A3     0.044886    1.045909\n",
       "4            A4     0.662445    1.939528\n",
       "5            A5     1.740264    5.698849\n",
       "6            A6     0.472894    1.604632\n",
       "7            A7     0.671030    1.956252\n",
       "8            A8     3.275784   26.463966\n",
       "9            A9     1.166391    3.210385\n",
       "10          A10     0.831832    2.297525\n",
       "11          A11    -0.344139    0.708830\n",
       "12          A12     0.879235    2.409057\n",
       "13          A13    -0.716719    0.488352\n",
       "14          A14     0.506189    1.658956"
      ]
     },
     "execution_count": 41,
     "metadata": {},
     "output_type": "execute_result"
    }
   ],
   "source": [
    "LogisticSummaryTable(model, X_train)"
   ]
  },
  {
   "cell_type": "markdown",
   "metadata": {},
   "source": [
    "### 4.4. Evaluation"
   ]
  },
  {
   "cell_type": "markdown",
   "metadata": {},
   "source": [
    "#### Accuracy"
   ]
  },
  {
   "cell_type": "code",
   "execution_count": 42,
   "metadata": {},
   "outputs": [
    {
     "data": {
      "text/plain": [
       "0.8677536231884058"
      ]
     },
     "execution_count": 42,
     "metadata": {},
     "output_type": "execute_result"
    }
   ],
   "source": [
    "accuracy_score(y_train, y_train_pred)"
   ]
  },
  {
   "cell_type": "code",
   "execution_count": 43,
   "metadata": {},
   "outputs": [
    {
     "data": {
      "text/plain": [
       "0.855072463768116"
      ]
     },
     "execution_count": 43,
     "metadata": {},
     "output_type": "execute_result"
    }
   ],
   "source": [
    "accuracy_score(y_test, y_test_pred)"
   ]
  },
  {
   "cell_type": "markdown",
   "metadata": {},
   "source": [
    "#### Confusion matrix & Classification Report"
   ]
  },
  {
   "cell_type": "code",
   "execution_count": 44,
   "metadata": {},
   "outputs": [
    {
     "data": {
      "image/png": "[encoded data removed]",
      "text/plain": [
       "<Figure size 432x288 with 2 Axes>"
      ]
     },
     "metadata": {
      "needs_background": "light"
     },
     "output_type": "display_data"
    }
   ],
   "source": [
    "from sklearn.metrics import confusion_matrix\n",
    "cm = confusion_matrix(y_train, y_train_pred)\n",
    "cm_df = pd.DataFrame(cm)\n",
    "cm_df.columns = ['Predicted 0', 'Predicted 1']\n",
    "cm_df = cm_df.rename(index={0: 'Actual 0',1:'Actual 1'})\n",
    "sns.heatmap(cm_df, annot=True, fmt=\"d\")\n",
    "plt.show()"
   ]
  },
  {
   "cell_type": "code",
   "execution_count": 45,
   "metadata": {
    "scrolled": true
   },
   "outputs": [
    {
     "name": "stdout",
     "output_type": "stream",
     "text": [
      "              precision    recall  f1-score   support\n",
      "\n",
      "           0       0.91      0.84      0.88       306\n",
      "           1       0.82      0.90      0.86       246\n",
      "\n",
      "    accuracy                           0.87       552\n",
      "   macro avg       0.87      0.87      0.87       552\n",
      "weighted avg       0.87      0.87      0.87       552\n",
      "\n"
     ]
    }
   ],
   "source": [
    "from sklearn.metrics import classification_report\n",
    "print(classification_report(y_train, y_train_pred))"
   ]
  },
  {
   "cell_type": "code",
   "execution_count": 46,
   "metadata": {
    "scrolled": true
   },
   "outputs": [
    {
     "data": {
      "image/png": "[encoded data removed]",
      "text/plain": [
       "<Figure size 432x288 with 2 Axes>"
      ]
     },
     "metadata": {
      "needs_background": "light"
     },
     "output_type": "display_data"
    }
   ],
   "source": [
    "from sklearn.metrics import confusion_matrix\n",
    "cm = confusion_matrix(y_test, y_test_pred)\n",
    "cm_df = pd.DataFrame(cm)\n",
    "cm_df.columns = ['Predicted 0', 'Predicted 1']\n",
    "cm_df = cm_df.rename(index={0: 'Actual 0',1:'Actual 1'})\n",
    "sns.heatmap(cm_df, annot=True, fmt=\"d\")\n",
    "plt.show()"
   ]
  },
  {
   "cell_type": "code",
   "execution_count": 47,
   "metadata": {
    "scrolled": true
   },
   "outputs": [
    {
     "name": "stdout",
     "output_type": "stream",
     "text": [
      "              precision    recall  f1-score   support\n",
      "\n",
      "           0       0.87      0.87      0.87        77\n",
      "           1       0.84      0.84      0.84        61\n",
      "\n",
      "    accuracy                           0.86       138\n",
      "   macro avg       0.85      0.85      0.85       138\n",
      "weighted avg       0.86      0.86      0.86       138\n",
      "\n"
     ]
    }
   ],
   "source": [
    "print(classification_report(y_test, y_test_pred))"
   ]
  },
  {
   "cell_type": "markdown",
   "metadata": {},
   "source": [
    "#### ROC AUC Score"
   ]
  },
  {
   "cell_type": "code",
   "execution_count": 48,
   "metadata": {},
   "outputs": [
    {
     "data": {
      "text/plain": [
       "0.9341357139061586"
      ]
     },
     "execution_count": 48,
     "metadata": {},
     "output_type": "execute_result"
    }
   ],
   "source": [
    "roc_auc_score(y_train, prob_train_pred[:,1])"
   ]
  },
  {
   "cell_type": "code",
   "execution_count": 49,
   "metadata": {},
   "outputs": [
    {
     "data": {
      "text/plain": [
       "0.9112199276133702"
      ]
     },
     "execution_count": 49,
     "metadata": {},
     "output_type": "execute_result"
    }
   ],
   "source": [
    "roc_auc_score(y_test, prob_test_pred[:,1])"
   ]
  },
  {
   "cell_type": "markdown",
   "metadata": {},
   "source": [
    "#### ROC Curve"
   ]
  },
  {
   "cell_type": "code",
   "execution_count": 50,
   "metadata": {},
   "outputs": [
    {
     "data": {
      "image/png": "[encoded data removed]",
      "text/plain": [
       "<Figure size 432x432 with 1 Axes>"
      ]
     },
     "metadata": {
      "needs_background": "light"
     },
     "output_type": "display_data"
    }
   ],
   "source": [
    "from sklearn.metrics import roc_curve\n",
    "\n",
    "fpr_train, tpr_train, threshold = roc_curve(y_train, prob_train_pred[:,1])\n",
    "fpr_test, tpr_test, threshold = roc_curve(y_test, prob_test_pred[:,1])\n",
    "\n",
    "plt.figure(figsize=(6,6))\n",
    "plt.title('ROC Curve Classifiers', fontsize=16)\n",
    "plt.plot(fpr_train, tpr_train, label= 'Train Score: {:.4f}'.format(roc_auc_score(y_train, prob_train_pred[:,1])))\n",
    "plt.plot(fpr_test, tpr_test, label= 'Test Score: {:.4f}'.format(roc_auc_score(y_test, prob_test_pred[:,1])))\n",
    "\n",
    "plt.plot([0, 1], [0, 1], 'k--')\n",
    "plt.axis([-0.01, 1, 0, 1])\n",
    "plt.xlabel('False Positive Rate', fontsize=16)\n",
    "plt.ylabel('True Positive Rate', fontsize=16)\n",
    "plt.annotate('Minimum ROC Score of 50% \\n (This is the minimum score to get)', xy=(0.5, 0.5), xytext=(0.6, 0.3),\n",
    "                arrowprops=dict(facecolor='#6E726D', shrink=0.05))\n",
    "plt.legend()\n",
    "        \n",
    "plt.show()"
   ]
  },
  {
   "cell_type": "markdown",
   "metadata": {},
   "source": [
    "#### Precision-Recall curve"
   ]
  },
  {
   "cell_type": "code",
   "execution_count": 51,
   "metadata": {},
   "outputs": [
    {
     "data": {
      "image/png": "[encoded data removed]",
      "text/plain": [
       "<Figure size 432x288 with 1 Axes>"
      ]
     },
     "metadata": {
      "needs_background": "light"
     },
     "output_type": "display_data"
    }
   ],
   "source": [
    "from sklearn.metrics import precision_recall_curve\n",
    "from sklearn.metrics import average_precision_score\n",
    "\n",
    "y_score = prob_test_pred[:,1]\n",
    "precision, recall, threshold = precision_recall_curve(y_test,y_score)\n",
    "average_precision = average_precision_score(y_test, y_score)\n",
    "\n",
    "\n",
    "plt.step(recall, precision, color='#004a93', alpha=0.2,where='post')\n",
    "plt.fill_between(recall, precision, step='post', alpha=0.2, color='#48a6ff')\n",
    "plt.xlabel('Recall')\n",
    "plt.ylabel('Precision')\n",
    "plt.ylim([0.0, 1.05])\n",
    "plt.xlim([0.0, 1.0])\n",
    "plt.title('Precision-Recall curve: \\n Average Precision-Recall Score ={0:0.2f}'.format(average_precision), fontsize=16)\n",
    "plt.show()"
   ]
  },
  {
   "cell_type": "code",
   "execution_count": 52,
   "metadata": {},
   "outputs": [
    {
     "data": {
      "image/png": "[encoded data removed]",
      "text/plain": [
       "<Figure size 576x360 with 1 Axes>"
      ]
     },
     "metadata": {
      "needs_background": "light"
     },
     "output_type": "display_data"
    }
   ],
   "source": [
    "plt.figure(figsize=(8,5))\n",
    "plt.plot(threshold, precision[1:], label=\"Precision\",linewidth=5)\n",
    "plt.plot(threshold, recall[1:], label=\"Recall\",linewidth=5)\n",
    "plt.title('Precision and recall for different threshold values')\n",
    "plt.xlabel('Threshold')\n",
    "plt.ylabel('Precision/Recall')\n",
    "plt.legend()\n",
    "plt.show()"
   ]
  },
  {
   "cell_type": "code",
   "execution_count": 53,
   "metadata": {},
   "outputs": [
    {
     "data": {
      "text/plain": [
       "Text(0.5, 1.0, 'Precision-Recall curve: \\n Average Precision-Recall Score =0.91')"
      ]
     },
     "execution_count": 53,
     "metadata": {},
     "output_type": "execute_result"
    },
    {
     "data": {
      "image/png": "[encoded data removed]",
      "text/plain": [
       "<Figure size 432x288 with 1 Axes>"
      ]
     },
     "metadata": {
      "needs_background": "light"
     },
     "output_type": "display_data"
    }
   ],
   "source": [
    "from sklearn.metrics import precision_recall_curve\n",
    "from sklearn.metrics import average_precision_score\n",
    "\n",
    "y_score = prob_train_pred[:,1]\n",
    "precision, recall, threshold = precision_recall_curve(y_train,y_score)\n",
    "average_precision = average_precision_score(y_train, y_score)\n",
    "\n",
    "\n",
    "plt.step(recall, precision, color='#004a93', alpha=0.2,where='post')\n",
    "plt.fill_between(recall, precision, step='post', alpha=0.2, color='#48a6ff')\n",
    "plt.xlabel('Recall')\n",
    "plt.ylabel('Precision')\n",
    "plt.ylim([0.0, 1.05])\n",
    "plt.xlim([0.0, 1.0])\n",
    "plt.title('Precision-Recall curve: \\n Average Precision-Recall Score ={0:0.2f}'.format(average_precision), fontsize=16)"
   ]
  },
  {
   "cell_type": "code",
   "execution_count": 54,
   "metadata": {},
   "outputs": [
    {
     "data": {
      "image/png": "[encoded data removed]",
      "text/plain": [
       "<Figure size 576x360 with 1 Axes>"
      ]
     },
     "metadata": {
      "needs_background": "light"
     },
     "output_type": "display_data"
    }
   ],
   "source": [
    "plt.figure(figsize=(8,5))\n",
    "plt.plot(threshold, precision[1:], label=\"Precision\",linewidth=5)\n",
    "plt.plot(threshold, recall[1:], label=\"Recall\",linewidth=5)\n",
    "plt.title('Precision and recall for different threshold values')\n",
    "plt.xlabel('Threshold')\n",
    "plt.ylabel('Precision/Recall')\n",
    "plt.legend()\n",
    "plt.show()"
   ]
  },
  {
   "cell_type": "markdown",
   "metadata": {},
   "source": [
    "#### Summary"
   ]
  },
  {
   "cell_type": "code",
   "execution_count": 55,
   "metadata": {},
   "outputs": [
    {
     "name": "stdout",
     "output_type": "stream",
     "text": [
      "Model Evaluation of Logistic Regression\n",
      "-----------------------------------------------------------\n",
      "Train set\n",
      "Accuracy:  0.8677536231884058\n",
      "ROC AUC Score:  0.9341357139061586\n",
      "Confusion matrix\n",
      "Predicted    0    1\n",
      "Actual             \n",
      "0          257   49\n",
      "1           24  222\n",
      "              precision    recall  f1-score   support\n",
      "\n",
      "           0       0.91      0.84      0.88       306\n",
      "           1       0.82      0.90      0.86       246\n",
      "\n",
      "    accuracy                           0.87       552\n",
      "   macro avg       0.87      0.87      0.87       552\n",
      "weighted avg       0.87      0.87      0.87       552\n",
      "\n",
      "-----------------------------------------------------------\n",
      "Test set\n",
      "Accuracy:  0.855072463768116\n",
      "ROC AUC Score:  0.9112199276133702\n",
      "Confusion matrix\n",
      "Predicted   0   1\n",
      "Actual           \n",
      "0          67  10\n",
      "1          10  51\n",
      "              precision    recall  f1-score   support\n",
      "\n",
      "           0       0.87      0.87      0.87        77\n",
      "           1       0.84      0.84      0.84        61\n",
      "\n",
      "    accuracy                           0.86       138\n",
      "   macro avg       0.85      0.85      0.85       138\n",
      "weighted avg       0.86      0.86      0.86       138\n",
      "\n"
     ]
    }
   ],
   "source": [
    "def ModelEvaluation(model,X_train,y_train,X_test,y_test,name):\n",
    "    print('Model Evaluation of ' + name)\n",
    "\n",
    "    print('-----------------------------------------------------------')\n",
    "    print('Train set')\n",
    "    print('Accuracy: ', accuracy_score(y_train, y_train_pred))\n",
    "    print('ROC AUC Score: ', roc_auc_score(y_train, prob_train_pred[:,1]))\n",
    "    cm_df = pd.DataFrame(confusion_matrix(y_train,y_train_pred), index=model.classes_,columns=model.classes_)\n",
    "    cm_df.index.name = 'Actual'\n",
    "    cm_df.columns.name = 'Predicted'\n",
    "    print('Confusion matrix')\n",
    "    print(cm_df)\n",
    "    print(classification_report(y_train, y_train_pred))\n",
    "    \n",
    "    print('-----------------------------------------------------------')\n",
    "    print('Test set')\n",
    "    print('Accuracy: ', accuracy_score(y_test, y_test_pred))\n",
    "    print('ROC AUC Score: ', roc_auc_score(y_test, prob_test_pred[:,1]))\n",
    "    cm_df = pd.DataFrame(confusion_matrix(y_test,y_test_pred), index=model.classes_,columns=model.classes_)\n",
    "    cm_df.index.name = 'Actual'\n",
    "    cm_df.columns.name = 'Predicted'\n",
    "    print('Confusion matrix')\n",
    "    print(cm_df)\n",
    "    print(classification_report(y_test, y_test_pred))\n",
    "    \n",
    "ModelEvaluation(model,X_train,y_train,X_test,y_test,'Logistic Regression')"
   ]
  },
  {
   "cell_type": "markdown",
   "metadata": {},
   "source": [
    "### 4.5. Tuning hyper-parameters"
   ]
  },
  {
   "cell_type": "markdown",
   "metadata": {},
   "source": [
    "#### Apply Grid search and KFold Cross Validation"
   ]
  },
  {
   "cell_type": "code",
   "execution_count": 56,
   "metadata": {},
   "outputs": [
    {
     "name": "stdout",
     "output_type": "stream",
     "text": [
      "Fitting 10 folds for each of 28 candidates, totalling 280 fits\n",
      "[CV] C=0.001, multi_class=ovr, penalty=l1, solver=liblinear ..........\n",
      "[CV]  C=0.001, multi_class=ovr, penalty=l1, solver=liblinear, total=   0.0s\n",
      "[CV] C=0.001, multi_class=ovr, penalty=l1, solver=liblinear ..........\n",
      "[CV]  C=0.001, multi_class=ovr, penalty=l1, solver=liblinear, total=   0.0s\n",
      "[CV] C=0.001, multi_class=ovr, penalty=l1, solver=liblinear ..........\n",
      "[CV]  C=0.001, multi_class=ovr, penalty=l1, solver=liblinear, total=   0.0s\n",
      "[CV] C=0.001, multi_class=ovr, penalty=l1, solver=liblinear ..........\n",
      "[CV]  C=0.001, multi_class=ovr, penalty=l1, solver=liblinear, total=   0.0s\n",
      "[CV] C=0.001, multi_class=ovr, penalty=l1, solver=liblinear ..........\n",
      "[CV]  C=0.001, multi_class=ovr, penalty=l1, solver=liblinear, total=   0.0s\n",
      "[CV] C=0.001, multi_class=ovr, penalty=l1, solver=liblinear ..........\n",
      "[CV]  C=0.001, multi_class=ovr, penalty=l1, solver=liblinear, total=   0.0s\n",
      "[CV] C=0.001, multi_class=ovr, penalty=l1, solver=liblinear ..........\n",
      "[CV]  C=0.001, multi_class=ovr, penalty=l1, solver=liblinear, total=   0.0s\n",
      "[CV] C=0.001, multi_class=ovr, penalty=l1, solver=liblinear ..........\n",
      "[CV]  C=0.001, multi_class=ovr, penalty=l1, solver=liblinear, total=   0.0s\n",
      "[CV] C=0.001, multi_class=ovr, penalty=l1, solver=liblinear ..........\n",
      "[CV]  C=0.001, multi_class=ovr, penalty=l1, solver=liblinear, total=   0.0s\n",
      "[CV] C=0.001, multi_class=ovr, penalty=l1, solver=liblinear ..........\n",
      "[CV]  C=0.001, multi_class=ovr, penalty=l1, solver=liblinear, total=   0.0s\n",
      "[CV] C=0.01, multi_class=ovr, penalty=l1, solver=liblinear ...........\n",
      "[CV]  C=0.01, multi_class=ovr, penalty=l1, solver=liblinear, total=   0.0s\n",
      "[CV] C=0.01, multi_class=ovr, penalty=l1, solver=liblinear ...........\n",
      "[CV]  C=0.01, multi_class=ovr, penalty=l1, solver=liblinear, total=   0.0s\n",
      "[CV] C=0.01, multi_class=ovr, penalty=l1, solver=liblinear ...........\n",
      "[CV]  C=0.01, multi_class=ovr, penalty=l1, solver=liblinear, total=   0.0s\n",
      "[CV] C=0.01, multi_class=ovr, penalty=l1, solver=liblinear ...........\n",
      "[CV]  C=0.01, multi_class=ovr, penalty=l1, solver=liblinear, total=   0.0s\n",
      "[CV] C=0.01, multi_class=ovr, penalty=l1, solver=liblinear ...........\n",
      "[CV]  C=0.01, multi_class=ovr, penalty=l1, solver=liblinear, total=   0.0s\n",
      "[CV] C=0.01, multi_class=ovr, penalty=l1, solver=liblinear ...........\n",
      "[CV]  C=0.01, multi_class=ovr, penalty=l1, solver=liblinear, total=   0.0s\n",
      "[CV] C=0.01, multi_class=ovr, penalty=l1, solver=liblinear ...........\n",
      "[CV]  C=0.01, multi_class=ovr, penalty=l1, solver=liblinear, total=   0.0s\n",
      "[CV] C=0.01, multi_class=ovr, penalty=l1, solver=liblinear ...........\n",
      "[CV]  C=0.01, multi_class=ovr, penalty=l1, solver=liblinear, total=   0.0s\n",
      "[CV] C=0.01, multi_class=ovr, penalty=l1, solver=liblinear ...........\n",
      "[CV]  C=0.01, multi_class=ovr, penalty=l1, solver=liblinear, total=   0.0s\n",
      "[CV] C=0.01, multi_class=ovr, penalty=l1, solver=liblinear ...........\n",
      "[CV]  C=0.01, multi_class=ovr, penalty=l1, solver=liblinear, total=   0.0s\n",
      "[CV] C=0.1, multi_class=ovr, penalty=l1, solver=liblinear ............\n",
      "[CV]  C=0.1, multi_class=ovr, penalty=l1, solver=liblinear, total=   0.0s\n",
      "[CV] C=0.1, multi_class=ovr, penalty=l1, solver=liblinear ............\n",
      "[CV]  C=0.1, multi_class=ovr, penalty=l1, solver=liblinear, total=   0.0s\n",
      "[CV] C=0.1, multi_class=ovr, penalty=l1, solver=liblinear ............\n",
      "[CV]  C=0.1, multi_class=ovr, penalty=l1, solver=liblinear, total=   0.0s\n",
      "[CV] C=0.1, multi_class=ovr, penalty=l1, solver=liblinear ............\n",
      "[CV]  C=0.1, multi_class=ovr, penalty=l1, solver=liblinear, total=   0.0s\n",
      "[CV] C=0.1, multi_class=ovr, penalty=l1, solver=liblinear ............\n",
      "[CV]  C=0.1, multi_class=ovr, penalty=l1, solver=liblinear, total=   0.0s\n",
      "[CV] C=0.1, multi_class=ovr, penalty=l1, solver=liblinear ............\n",
      "[CV]  C=0.1, multi_class=ovr, penalty=l1, solver=liblinear, total=   0.0s\n",
      "[CV] C=0.1, multi_class=ovr, penalty=l1, solver=liblinear ............\n",
      "[CV]  C=0.1, multi_class=ovr, penalty=l1, solver=liblinear, total=   0.0s\n",
      "[CV] C=0.1, multi_class=ovr, penalty=l1, solver=liblinear ............\n",
      "[CV]  C=0.1, multi_class=ovr, penalty=l1, solver=liblinear, total=   0.0s\n",
      "[CV] C=0.1, multi_class=ovr, penalty=l1, solver=liblinear ............\n",
      "[CV]  C=0.1, multi_class=ovr, penalty=l1, solver=liblinear, total=   0.0s\n",
      "[CV] C=0.1, multi_class=ovr, penalty=l1, solver=liblinear ............\n",
      "[CV]  C=0.1, multi_class=ovr, penalty=l1, solver=liblinear, total=   0.0s\n",
      "[CV] C=1, multi_class=ovr, penalty=l1, solver=liblinear ..............\n",
      "[CV]  C=1, multi_class=ovr, penalty=l1, solver=liblinear, total=   0.0s\n",
      "[CV] C=1, multi_class=ovr, penalty=l1, solver=liblinear ..............\n",
      "[CV]  C=1, multi_class=ovr, penalty=l1, solver=liblinear, total=   0.0s\n",
      "[CV] C=1, multi_class=ovr, penalty=l1, solver=liblinear ..............\n",
      "[CV]  C=1, multi_class=ovr, penalty=l1, solver=liblinear, total=   0.0s\n",
      "[CV] C=1, multi_class=ovr, penalty=l1, solver=liblinear ..............\n",
      "[CV]  C=1, multi_class=ovr, penalty=l1, solver=liblinear, total=   0.0s\n",
      "[CV] C=1, multi_class=ovr, penalty=l1, solver=liblinear ..............\n",
      "[CV]  C=1, multi_class=ovr, penalty=l1, solver=liblinear, total=   0.0s\n",
      "[CV] C=1, multi_class=ovr, penalty=l1, solver=liblinear ..............\n",
      "[CV]  C=1, multi_class=ovr, penalty=l1, solver=liblinear, total=   0.0s\n",
      "[CV] C=1, multi_class=ovr, penalty=l1, solver=liblinear ..............\n",
      "[CV]  C=1, multi_class=ovr, penalty=l1, solver=liblinear, total=   0.0s\n",
      "[CV] C=1, multi_class=ovr, penalty=l1, solver=liblinear ..............\n",
      "[CV]  C=1, multi_class=ovr, penalty=l1, solver=liblinear, total=   0.0s\n",
      "[CV] C=1, multi_class=ovr, penalty=l1, solver=liblinear ..............\n",
      "[CV]  C=1, multi_class=ovr, penalty=l1, solver=liblinear, total=   0.0s\n",
      "[CV] C=1, multi_class=ovr, penalty=l1, solver=liblinear ..............\n",
      "[CV]  C=1, multi_class=ovr, penalty=l1, solver=liblinear, total=   0.0s\n",
      "[CV] C=10, multi_class=ovr, penalty=l1, solver=liblinear .............\n",
      "[CV]  C=10, multi_class=ovr, penalty=l1, solver=liblinear, total=   0.0s\n",
      "[CV] C=10, multi_class=ovr, penalty=l1, solver=liblinear .............\n",
      "[CV]  C=10, multi_class=ovr, penalty=l1, solver=liblinear, total=   0.0s\n",
      "[CV] C=10, multi_class=ovr, penalty=l1, solver=liblinear .............\n",
      "[CV]  C=10, multi_class=ovr, penalty=l1, solver=liblinear, total=   0.0s\n",
      "[CV] C=10, multi_class=ovr, penalty=l1, solver=liblinear .............\n",
      "[CV]  C=10, multi_class=ovr, penalty=l1, solver=liblinear, total=   0.0s\n",
      "[CV] C=10, multi_class=ovr, penalty=l1, solver=liblinear .............\n",
      "[CV]  C=10, multi_class=ovr, penalty=l1, solver=liblinear, total=   0.0s\n",
      "[CV] C=10, multi_class=ovr, penalty=l1, solver=liblinear .............\n",
      "[CV]  C=10, multi_class=ovr, penalty=l1, solver=liblinear, total=   0.0s\n",
      "[CV] C=10, multi_class=ovr, penalty=l1, solver=liblinear .............\n",
      "[CV]  C=10, multi_class=ovr, penalty=l1, solver=liblinear, total=   0.0s\n",
      "[CV] C=10, multi_class=ovr, penalty=l1, solver=liblinear .............\n",
      "[CV]  C=10, multi_class=ovr, penalty=l1, solver=liblinear, total=   0.0s\n",
      "[CV] C=10, multi_class=ovr, penalty=l1, solver=liblinear .............\n",
      "[CV]  C=10, multi_class=ovr, penalty=l1, solver=liblinear, total=   0.0s\n",
      "[CV] C=10, multi_class=ovr, penalty=l1, solver=liblinear .............\n",
      "[CV]  C=10, multi_class=ovr, penalty=l1, solver=liblinear, total=   0.0s\n",
      "[CV] C=100, multi_class=ovr, penalty=l1, solver=liblinear ............\n",
      "[CV]  C=100, multi_class=ovr, penalty=l1, solver=liblinear, total=   0.0s\n",
      "[CV] C=100, multi_class=ovr, penalty=l1, solver=liblinear ............\n"
     ]
    },
    {
     "name": "stderr",
     "output_type": "stream",
     "text": [
      "[Parallel(n_jobs=1)]: Using backend SequentialBackend with 1 concurrent workers.\n",
      "[Parallel(n_jobs=1)]: Done   1 out of   1 | elapsed:    0.0s remaining:    0.0s\n"
     ]
    },
    {
     "name": "stdout",
     "output_type": "stream",
     "text": [
      "[CV]  C=100, multi_class=ovr, penalty=l1, solver=liblinear, total=   0.0s\n",
      "[CV] C=100, multi_class=ovr, penalty=l1, solver=liblinear ............\n",
      "[CV]  C=100, multi_class=ovr, penalty=l1, solver=liblinear, total=   0.0s\n",
      "[CV] C=100, multi_class=ovr, penalty=l1, solver=liblinear ............\n",
      "[CV]  C=100, multi_class=ovr, penalty=l1, solver=liblinear, total=   0.0s\n",
      "[CV] C=100, multi_class=ovr, penalty=l1, solver=liblinear ............\n",
      "[CV]  C=100, multi_class=ovr, penalty=l1, solver=liblinear, total=   0.0s\n",
      "[CV] C=100, multi_class=ovr, penalty=l1, solver=liblinear ............\n",
      "[CV]  C=100, multi_class=ovr, penalty=l1, solver=liblinear, total=   0.0s\n",
      "[CV] C=100, multi_class=ovr, penalty=l1, solver=liblinear ............\n",
      "[CV]  C=100, multi_class=ovr, penalty=l1, solver=liblinear, total=   0.0s\n",
      "[CV] C=100, multi_class=ovr, penalty=l1, solver=liblinear ............\n",
      "[CV]  C=100, multi_class=ovr, penalty=l1, solver=liblinear, total=   0.0s\n",
      "[CV] C=100, multi_class=ovr, penalty=l1, solver=liblinear ............\n",
      "[CV]  C=100, multi_class=ovr, penalty=l1, solver=liblinear, total=   0.0s\n",
      "[CV] C=100, multi_class=ovr, penalty=l1, solver=liblinear ............\n",
      "[CV]  C=100, multi_class=ovr, penalty=l1, solver=liblinear, total=   0.0s\n",
      "[CV] C=1000, multi_class=ovr, penalty=l1, solver=liblinear ...........\n",
      "[CV]  C=1000, multi_class=ovr, penalty=l1, solver=liblinear, total=   0.0s\n",
      "[CV] C=1000, multi_class=ovr, penalty=l1, solver=liblinear ...........\n",
      "[CV]  C=1000, multi_class=ovr, penalty=l1, solver=liblinear, total=   0.0s\n",
      "[CV] C=1000, multi_class=ovr, penalty=l1, solver=liblinear ...........\n",
      "[CV]  C=1000, multi_class=ovr, penalty=l1, solver=liblinear, total=   0.0s\n",
      "[CV] C=1000, multi_class=ovr, penalty=l1, solver=liblinear ...........\n",
      "[CV]  C=1000, multi_class=ovr, penalty=l1, solver=liblinear, total=   0.0s\n",
      "[CV] C=1000, multi_class=ovr, penalty=l1, solver=liblinear ...........\n",
      "[CV]  C=1000, multi_class=ovr, penalty=l1, solver=liblinear, total=   0.0s\n",
      "[CV] C=1000, multi_class=ovr, penalty=l1, solver=liblinear ...........\n",
      "[CV]  C=1000, multi_class=ovr, penalty=l1, solver=liblinear, total=   0.0s\n",
      "[CV] C=1000, multi_class=ovr, penalty=l1, solver=liblinear ...........\n",
      "[CV]  C=1000, multi_class=ovr, penalty=l1, solver=liblinear, total=   0.0s\n",
      "[CV] C=1000, multi_class=ovr, penalty=l1, solver=liblinear ...........\n",
      "[CV]  C=1000, multi_class=ovr, penalty=l1, solver=liblinear, total=   0.0s\n",
      "[CV] C=1000, multi_class=ovr, penalty=l1, solver=liblinear ...........\n",
      "[CV]  C=1000, multi_class=ovr, penalty=l1, solver=liblinear, total=   0.0s\n",
      "[CV] C=1000, multi_class=ovr, penalty=l1, solver=liblinear ...........\n",
      "[CV]  C=1000, multi_class=ovr, penalty=l1, solver=liblinear, total=   0.0s\n",
      "[CV] C=0.001, multi_class=ovr, penalty=l2, solver=liblinear ..........\n",
      "[CV]  C=0.001, multi_class=ovr, penalty=l2, solver=liblinear, total=   0.0s\n",
      "[CV] C=0.001, multi_class=ovr, penalty=l2, solver=liblinear ..........\n",
      "[CV]  C=0.001, multi_class=ovr, penalty=l2, solver=liblinear, total=   0.0s\n",
      "[CV] C=0.001, multi_class=ovr, penalty=l2, solver=liblinear ..........\n",
      "[CV]  C=0.001, multi_class=ovr, penalty=l2, solver=liblinear, total=   0.0s\n",
      "[CV] C=0.001, multi_class=ovr, penalty=l2, solver=liblinear ..........\n",
      "[CV]  C=0.001, multi_class=ovr, penalty=l2, solver=liblinear, total=   0.0s\n",
      "[CV] C=0.001, multi_class=ovr, penalty=l2, solver=liblinear ..........\n",
      "[CV]  C=0.001, multi_class=ovr, penalty=l2, solver=liblinear, total=   0.0s\n",
      "[CV] C=0.001, multi_class=ovr, penalty=l2, solver=liblinear ..........\n",
      "[CV]  C=0.001, multi_class=ovr, penalty=l2, solver=liblinear, total=   0.0s\n",
      "[CV] C=0.001, multi_class=ovr, penalty=l2, solver=liblinear ..........\n",
      "[CV]  C=0.001, multi_class=ovr, penalty=l2, solver=liblinear, total=   0.0s\n",
      "[CV] C=0.001, multi_class=ovr, penalty=l2, solver=liblinear ..........\n",
      "[CV]  C=0.001, multi_class=ovr, penalty=l2, solver=liblinear, total=   0.0s\n",
      "[CV] C=0.001, multi_class=ovr, penalty=l2, solver=liblinear ..........\n",
      "[CV]  C=0.001, multi_class=ovr, penalty=l2, solver=liblinear, total=   0.0s\n",
      "[CV] C=0.001, multi_class=ovr, penalty=l2, solver=liblinear ..........\n",
      "[CV]  C=0.001, multi_class=ovr, penalty=l2, solver=liblinear, total=   0.0s\n",
      "[CV] C=0.001, multi_class=ovr, penalty=l2, solver=newton-cg ..........\n",
      "[CV]  C=0.001, multi_class=ovr, penalty=l2, solver=newton-cg, total=   0.0s\n",
      "[CV] C=0.001, multi_class=ovr, penalty=l2, solver=newton-cg ..........\n",
      "[CV]  C=0.001, multi_class=ovr, penalty=l2, solver=newton-cg, total=   0.0s\n",
      "[CV] C=0.001, multi_class=ovr, penalty=l2, solver=newton-cg ..........\n",
      "[CV]  C=0.001, multi_class=ovr, penalty=l2, solver=newton-cg, total=   0.0s\n",
      "[CV] C=0.001, multi_class=ovr, penalty=l2, solver=newton-cg ..........\n",
      "[CV]  C=0.001, multi_class=ovr, penalty=l2, solver=newton-cg, total=   0.0s\n",
      "[CV] C=0.001, multi_class=ovr, penalty=l2, solver=newton-cg ..........\n",
      "[CV]  C=0.001, multi_class=ovr, penalty=l2, solver=newton-cg, total=   0.0s\n",
      "[CV] C=0.001, multi_class=ovr, penalty=l2, solver=newton-cg ..........\n",
      "[CV]  C=0.001, multi_class=ovr, penalty=l2, solver=newton-cg, total=   0.0s\n",
      "[CV] C=0.001, multi_class=ovr, penalty=l2, solver=newton-cg ..........\n",
      "[CV]  C=0.001, multi_class=ovr, penalty=l2, solver=newton-cg, total=   0.0s\n",
      "[CV] C=0.001, multi_class=ovr, penalty=l2, solver=newton-cg ..........\n",
      "[CV]  C=0.001, multi_class=ovr, penalty=l2, solver=newton-cg, total=   0.0s\n",
      "[CV] C=0.001, multi_class=ovr, penalty=l2, solver=newton-cg ..........\n",
      "[CV]  C=0.001, multi_class=ovr, penalty=l2, solver=newton-cg, total=   0.0s\n",
      "[CV] C=0.001, multi_class=ovr, penalty=l2, solver=newton-cg ..........\n",
      "[CV]  C=0.001, multi_class=ovr, penalty=l2, solver=newton-cg, total=   0.0s\n",
      "[CV] C=0.001, multi_class=ovr, penalty=l2, solver=lbfgs ..............\n",
      "[CV]  C=0.001, multi_class=ovr, penalty=l2, solver=lbfgs, total=   0.0s\n",
      "[CV] C=0.001, multi_class=ovr, penalty=l2, solver=lbfgs ..............\n",
      "[CV]  C=0.001, multi_class=ovr, penalty=l2, solver=lbfgs, total=   0.0s\n",
      "[CV] C=0.001, multi_class=ovr, penalty=l2, solver=lbfgs ..............\n",
      "[CV]  C=0.001, multi_class=ovr, penalty=l2, solver=lbfgs, total=   0.0s\n",
      "[CV] C=0.001, multi_class=ovr, penalty=l2, solver=lbfgs ..............\n",
      "[CV]  C=0.001, multi_class=ovr, penalty=l2, solver=lbfgs, total=   0.0s\n",
      "[CV] C=0.001, multi_class=ovr, penalty=l2, solver=lbfgs ..............\n",
      "[CV]  C=0.001, multi_class=ovr, penalty=l2, solver=lbfgs, total=   0.0s\n",
      "[CV] C=0.001, multi_class=ovr, penalty=l2, solver=lbfgs ..............\n",
      "[CV]  C=0.001, multi_class=ovr, penalty=l2, solver=lbfgs, total=   0.0s\n",
      "[CV] C=0.001, multi_class=ovr, penalty=l2, solver=lbfgs ..............\n",
      "[CV]  C=0.001, multi_class=ovr, penalty=l2, solver=lbfgs, total=   0.0s\n",
      "[CV] C=0.001, multi_class=ovr, penalty=l2, solver=lbfgs ..............\n",
      "[CV]  C=0.001, multi_class=ovr, penalty=l2, solver=lbfgs, total=   0.0s\n",
      "[CV] C=0.001, multi_class=ovr, penalty=l2, solver=lbfgs ..............\n",
      "[CV]  C=0.001, multi_class=ovr, penalty=l2, solver=lbfgs, total=   0.0s\n",
      "[CV] C=0.001, multi_class=ovr, penalty=l2, solver=lbfgs ..............\n",
      "[CV]  C=0.001, multi_class=ovr, penalty=l2, solver=lbfgs, total=   0.0s\n",
      "[CV] C=0.01, multi_class=ovr, penalty=l2, solver=liblinear ...........\n",
      "[CV]  C=0.01, multi_class=ovr, penalty=l2, solver=liblinear, total=   0.0s\n",
      "[CV] C=0.01, multi_class=ovr, penalty=l2, solver=liblinear ...........\n",
      "[CV]  C=0.01, multi_class=ovr, penalty=l2, solver=liblinear, total=   0.0s\n",
      "[CV] C=0.01, multi_class=ovr, penalty=l2, solver=liblinear ...........\n",
      "[CV]  C=0.01, multi_class=ovr, penalty=l2, solver=liblinear, total=   0.0s\n",
      "[CV] C=0.01, multi_class=ovr, penalty=l2, solver=liblinear ...........\n",
      "[CV]  C=0.01, multi_class=ovr, penalty=l2, solver=liblinear, total=   0.0s\n",
      "[CV] C=0.01, multi_class=ovr, penalty=l2, solver=liblinear ...........\n",
      "[CV]  C=0.01, multi_class=ovr, penalty=l2, solver=liblinear, total=   0.0s\n",
      "[CV] C=0.01, multi_class=ovr, penalty=l2, solver=liblinear ...........\n",
      "[CV]  C=0.01, multi_class=ovr, penalty=l2, solver=liblinear, total=   0.0s\n",
      "[CV] C=0.01, multi_class=ovr, penalty=l2, solver=liblinear ...........\n",
      "[CV]  C=0.01, multi_class=ovr, penalty=l2, solver=liblinear, total=   0.0s\n",
      "[CV] C=0.01, multi_class=ovr, penalty=l2, solver=liblinear ...........\n",
      "[CV]  C=0.01, multi_class=ovr, penalty=l2, solver=liblinear, total=   0.0s\n",
      "[CV] C=0.01, multi_class=ovr, penalty=l2, solver=liblinear ...........\n",
      "[CV]  C=0.01, multi_class=ovr, penalty=l2, solver=liblinear, total=   0.0s\n",
      "[CV] C=0.01, multi_class=ovr, penalty=l2, solver=liblinear ...........\n",
      "[CV]  C=0.01, multi_class=ovr, penalty=l2, solver=liblinear, total=   0.0s\n",
      "[CV] C=0.01, multi_class=ovr, penalty=l2, solver=newton-cg ...........\n",
      "[CV]  C=0.01, multi_class=ovr, penalty=l2, solver=newton-cg, total=   0.0s\n",
      "[CV] C=0.01, multi_class=ovr, penalty=l2, solver=newton-cg ...........\n",
      "[CV]  C=0.01, multi_class=ovr, penalty=l2, solver=newton-cg, total=   0.0s\n",
      "[CV] C=0.01, multi_class=ovr, penalty=l2, solver=newton-cg ...........\n",
      "[CV]  C=0.01, multi_class=ovr, penalty=l2, solver=newton-cg, total=   0.0s\n",
      "[CV] C=0.01, multi_class=ovr, penalty=l2, solver=newton-cg ...........\n",
      "[CV]  C=0.01, multi_class=ovr, penalty=l2, solver=newton-cg, total=   0.0s\n",
      "[CV] C=0.01, multi_class=ovr, penalty=l2, solver=newton-cg ...........\n",
      "[CV]  C=0.01, multi_class=ovr, penalty=l2, solver=newton-cg, total=   0.0s\n",
      "[CV] C=0.01, multi_class=ovr, penalty=l2, solver=newton-cg ...........\n",
      "[CV]  C=0.01, multi_class=ovr, penalty=l2, solver=newton-cg, total=   0.0s\n",
      "[CV] C=0.01, multi_class=ovr, penalty=l2, solver=newton-cg ...........\n",
      "[CV]  C=0.01, multi_class=ovr, penalty=l2, solver=newton-cg, total=   0.0s\n",
      "[CV] C=0.01, multi_class=ovr, penalty=l2, solver=newton-cg ...........\n",
      "[CV]  C=0.01, multi_class=ovr, penalty=l2, solver=newton-cg, total=   0.0s\n",
      "[CV] C=0.01, multi_class=ovr, penalty=l2, solver=newton-cg ...........\n",
      "[CV]  C=0.01, multi_class=ovr, penalty=l2, solver=newton-cg, total=   0.0s\n",
      "[CV] C=0.01, multi_class=ovr, penalty=l2, solver=newton-cg ...........\n",
      "[CV]  C=0.01, multi_class=ovr, penalty=l2, solver=newton-cg, total=   0.0s\n",
      "[CV] C=0.01, multi_class=ovr, penalty=l2, solver=lbfgs ...............\n",
      "[CV]  C=0.01, multi_class=ovr, penalty=l2, solver=lbfgs, total=   0.0s\n",
      "[CV] C=0.01, multi_class=ovr, penalty=l2, solver=lbfgs ...............\n",
      "[CV]  C=0.01, multi_class=ovr, penalty=l2, solver=lbfgs, total=   0.0s\n",
      "[CV] C=0.01, multi_class=ovr, penalty=l2, solver=lbfgs ...............\n",
      "[CV]  C=0.01, multi_class=ovr, penalty=l2, solver=lbfgs, total=   0.0s\n",
      "[CV] C=0.01, multi_class=ovr, penalty=l2, solver=lbfgs ...............\n",
      "[CV]  C=0.01, multi_class=ovr, penalty=l2, solver=lbfgs, total=   0.0s\n",
      "[CV] C=0.01, multi_class=ovr, penalty=l2, solver=lbfgs ...............\n",
      "[CV]  C=0.01, multi_class=ovr, penalty=l2, solver=lbfgs, total=   0.0s\n",
      "[CV] C=0.01, multi_class=ovr, penalty=l2, solver=lbfgs ...............\n",
      "[CV]  C=0.01, multi_class=ovr, penalty=l2, solver=lbfgs, total=   0.0s\n",
      "[CV] C=0.01, multi_class=ovr, penalty=l2, solver=lbfgs ...............\n",
      "[CV]  C=0.01, multi_class=ovr, penalty=l2, solver=lbfgs, total=   0.0s\n",
      "[CV] C=0.01, multi_class=ovr, penalty=l2, solver=lbfgs ...............\n",
      "[CV]  C=0.01, multi_class=ovr, penalty=l2, solver=lbfgs, total=   0.0s\n",
      "[CV] C=0.01, multi_class=ovr, penalty=l2, solver=lbfgs ...............\n",
      "[CV]  C=0.01, multi_class=ovr, penalty=l2, solver=lbfgs, total=   0.0s\n",
      "[CV] C=0.01, multi_class=ovr, penalty=l2, solver=lbfgs ...............\n",
      "[CV]  C=0.01, multi_class=ovr, penalty=l2, solver=lbfgs, total=   0.0s\n",
      "[CV] C=0.1, multi_class=ovr, penalty=l2, solver=liblinear ............\n",
      "[CV]  C=0.1, multi_class=ovr, penalty=l2, solver=liblinear, total=   0.0s\n",
      "[CV] C=0.1, multi_class=ovr, penalty=l2, solver=liblinear ............\n",
      "[CV]  C=0.1, multi_class=ovr, penalty=l2, solver=liblinear, total=   0.0s\n",
      "[CV] C=0.1, multi_class=ovr, penalty=l2, solver=liblinear ............\n",
      "[CV]  C=0.1, multi_class=ovr, penalty=l2, solver=liblinear, total=   0.0s\n",
      "[CV] C=0.1, multi_class=ovr, penalty=l2, solver=liblinear ............\n",
      "[CV]  C=0.1, multi_class=ovr, penalty=l2, solver=liblinear, total=   0.0s\n",
      "[CV] C=0.1, multi_class=ovr, penalty=l2, solver=liblinear ............\n",
      "[CV]  C=0.1, multi_class=ovr, penalty=l2, solver=liblinear, total=   0.0s\n",
      "[CV] C=0.1, multi_class=ovr, penalty=l2, solver=liblinear ............\n",
      "[CV]  C=0.1, multi_class=ovr, penalty=l2, solver=liblinear, total=   0.0s\n",
      "[CV] C=0.1, multi_class=ovr, penalty=l2, solver=liblinear ............\n",
      "[CV]  C=0.1, multi_class=ovr, penalty=l2, solver=liblinear, total=   0.0s\n",
      "[CV] C=0.1, multi_class=ovr, penalty=l2, solver=liblinear ............\n",
      "[CV]  C=0.1, multi_class=ovr, penalty=l2, solver=liblinear, total=   0.0s\n",
      "[CV] C=0.1, multi_class=ovr, penalty=l2, solver=liblinear ............\n",
      "[CV]  C=0.1, multi_class=ovr, penalty=l2, solver=liblinear, total=   0.0s\n",
      "[CV] C=0.1, multi_class=ovr, penalty=l2, solver=liblinear ............\n",
      "[CV]  C=0.1, multi_class=ovr, penalty=l2, solver=liblinear, total=   0.0s\n",
      "[CV] C=0.1, multi_class=ovr, penalty=l2, solver=newton-cg ............\n",
      "[CV]  C=0.1, multi_class=ovr, penalty=l2, solver=newton-cg, total=   0.0s\n",
      "[CV] C=0.1, multi_class=ovr, penalty=l2, solver=newton-cg ............\n",
      "[CV]  C=0.1, multi_class=ovr, penalty=l2, solver=newton-cg, total=   0.0s\n",
      "[CV] C=0.1, multi_class=ovr, penalty=l2, solver=newton-cg ............\n"
     ]
    },
    {
     "name": "stdout",
     "output_type": "stream",
     "text": [
      "[CV]  C=0.1, multi_class=ovr, penalty=l2, solver=newton-cg, total=   0.0s\n",
      "[CV] C=0.1, multi_class=ovr, penalty=l2, solver=newton-cg ............\n",
      "[CV]  C=0.1, multi_class=ovr, penalty=l2, solver=newton-cg, total=   0.0s\n",
      "[CV] C=0.1, multi_class=ovr, penalty=l2, solver=newton-cg ............\n",
      "[CV]  C=0.1, multi_class=ovr, penalty=l2, solver=newton-cg, total=   0.0s\n",
      "[CV] C=0.1, multi_class=ovr, penalty=l2, solver=newton-cg ............\n",
      "[CV]  C=0.1, multi_class=ovr, penalty=l2, solver=newton-cg, total=   0.0s\n",
      "[CV] C=0.1, multi_class=ovr, penalty=l2, solver=newton-cg ............\n",
      "[CV]  C=0.1, multi_class=ovr, penalty=l2, solver=newton-cg, total=   0.0s\n",
      "[CV] C=0.1, multi_class=ovr, penalty=l2, solver=newton-cg ............\n",
      "[CV]  C=0.1, multi_class=ovr, penalty=l2, solver=newton-cg, total=   0.0s\n",
      "[CV] C=0.1, multi_class=ovr, penalty=l2, solver=newton-cg ............\n",
      "[CV]  C=0.1, multi_class=ovr, penalty=l2, solver=newton-cg, total=   0.0s\n",
      "[CV] C=0.1, multi_class=ovr, penalty=l2, solver=newton-cg ............\n",
      "[CV]  C=0.1, multi_class=ovr, penalty=l2, solver=newton-cg, total=   0.0s\n",
      "[CV] C=0.1, multi_class=ovr, penalty=l2, solver=lbfgs ................\n",
      "[CV] . C=0.1, multi_class=ovr, penalty=l2, solver=lbfgs, total=   0.0s\n",
      "[CV] C=0.1, multi_class=ovr, penalty=l2, solver=lbfgs ................\n",
      "[CV] . C=0.1, multi_class=ovr, penalty=l2, solver=lbfgs, total=   0.0s\n",
      "[CV] C=0.1, multi_class=ovr, penalty=l2, solver=lbfgs ................\n",
      "[CV] . C=0.1, multi_class=ovr, penalty=l2, solver=lbfgs, total=   0.0s\n",
      "[CV] C=0.1, multi_class=ovr, penalty=l2, solver=lbfgs ................\n",
      "[CV] . C=0.1, multi_class=ovr, penalty=l2, solver=lbfgs, total=   0.0s\n",
      "[CV] C=0.1, multi_class=ovr, penalty=l2, solver=lbfgs ................\n",
      "[CV] . C=0.1, multi_class=ovr, penalty=l2, solver=lbfgs, total=   0.0s\n",
      "[CV] C=0.1, multi_class=ovr, penalty=l2, solver=lbfgs ................\n",
      "[CV] . C=0.1, multi_class=ovr, penalty=l2, solver=lbfgs, total=   0.0s\n",
      "[CV] C=0.1, multi_class=ovr, penalty=l2, solver=lbfgs ................\n",
      "[CV] . C=0.1, multi_class=ovr, penalty=l2, solver=lbfgs, total=   0.0s\n",
      "[CV] C=0.1, multi_class=ovr, penalty=l2, solver=lbfgs ................\n",
      "[CV] . C=0.1, multi_class=ovr, penalty=l2, solver=lbfgs, total=   0.0s\n",
      "[CV] C=0.1, multi_class=ovr, penalty=l2, solver=lbfgs ................\n",
      "[CV] . C=0.1, multi_class=ovr, penalty=l2, solver=lbfgs, total=   0.0s\n",
      "[CV] C=0.1, multi_class=ovr, penalty=l2, solver=lbfgs ................\n",
      "[CV] . C=0.1, multi_class=ovr, penalty=l2, solver=lbfgs, total=   0.0s\n",
      "[CV] C=1, multi_class=ovr, penalty=l2, solver=liblinear ..............\n",
      "[CV]  C=1, multi_class=ovr, penalty=l2, solver=liblinear, total=   0.0s\n",
      "[CV] C=1, multi_class=ovr, penalty=l2, solver=liblinear ..............\n",
      "[CV]  C=1, multi_class=ovr, penalty=l2, solver=liblinear, total=   0.0s\n",
      "[CV] C=1, multi_class=ovr, penalty=l2, solver=liblinear ..............\n",
      "[CV]  C=1, multi_class=ovr, penalty=l2, solver=liblinear, total=   0.0s\n",
      "[CV] C=1, multi_class=ovr, penalty=l2, solver=liblinear ..............\n",
      "[CV]  C=1, multi_class=ovr, penalty=l2, solver=liblinear, total=   0.0s\n",
      "[CV] C=1, multi_class=ovr, penalty=l2, solver=liblinear ..............\n",
      "[CV]  C=1, multi_class=ovr, penalty=l2, solver=liblinear, total=   0.0s\n",
      "[CV] C=1, multi_class=ovr, penalty=l2, solver=liblinear ..............\n",
      "[CV]  C=1, multi_class=ovr, penalty=l2, solver=liblinear, total=   0.0s\n",
      "[CV] C=1, multi_class=ovr, penalty=l2, solver=liblinear ..............\n",
      "[CV]  C=1, multi_class=ovr, penalty=l2, solver=liblinear, total=   0.0s\n",
      "[CV] C=1, multi_class=ovr, penalty=l2, solver=liblinear ..............\n",
      "[CV]  C=1, multi_class=ovr, penalty=l2, solver=liblinear, total=   0.0s\n",
      "[CV] C=1, multi_class=ovr, penalty=l2, solver=liblinear ..............\n",
      "[CV]  C=1, multi_class=ovr, penalty=l2, solver=liblinear, total=   0.0s\n",
      "[CV] C=1, multi_class=ovr, penalty=l2, solver=liblinear ..............\n",
      "[CV]  C=1, multi_class=ovr, penalty=l2, solver=liblinear, total=   0.0s\n",
      "[CV] C=1, multi_class=ovr, penalty=l2, solver=newton-cg ..............\n",
      "[CV]  C=1, multi_class=ovr, penalty=l2, solver=newton-cg, total=   0.0s\n",
      "[CV] C=1, multi_class=ovr, penalty=l2, solver=newton-cg ..............\n",
      "[CV]  C=1, multi_class=ovr, penalty=l2, solver=newton-cg, total=   0.0s\n",
      "[CV] C=1, multi_class=ovr, penalty=l2, solver=newton-cg ..............\n",
      "[CV]  C=1, multi_class=ovr, penalty=l2, solver=newton-cg, total=   0.0s\n",
      "[CV] C=1, multi_class=ovr, penalty=l2, solver=newton-cg ..............\n",
      "[CV]  C=1, multi_class=ovr, penalty=l2, solver=newton-cg, total=   0.0s\n",
      "[CV] C=1, multi_class=ovr, penalty=l2, solver=newton-cg ..............\n",
      "[CV]  C=1, multi_class=ovr, penalty=l2, solver=newton-cg, total=   0.0s\n",
      "[CV] C=1, multi_class=ovr, penalty=l2, solver=newton-cg ..............\n",
      "[CV]  C=1, multi_class=ovr, penalty=l2, solver=newton-cg, total=   0.0s\n",
      "[CV] C=1, multi_class=ovr, penalty=l2, solver=newton-cg ..............\n",
      "[CV]  C=1, multi_class=ovr, penalty=l2, solver=newton-cg, total=   0.0s\n",
      "[CV] C=1, multi_class=ovr, penalty=l2, solver=newton-cg ..............\n",
      "[CV]  C=1, multi_class=ovr, penalty=l2, solver=newton-cg, total=   0.0s\n",
      "[CV] C=1, multi_class=ovr, penalty=l2, solver=newton-cg ..............\n",
      "[CV]  C=1, multi_class=ovr, penalty=l2, solver=newton-cg, total=   0.0s\n",
      "[CV] C=1, multi_class=ovr, penalty=l2, solver=newton-cg ..............\n",
      "[CV]  C=1, multi_class=ovr, penalty=l2, solver=newton-cg, total=   0.0s\n",
      "[CV] C=1, multi_class=ovr, penalty=l2, solver=lbfgs ..................\n",
      "[CV] ... C=1, multi_class=ovr, penalty=l2, solver=lbfgs, total=   0.0s\n",
      "[CV] C=1, multi_class=ovr, penalty=l2, solver=lbfgs ..................\n",
      "[CV] ... C=1, multi_class=ovr, penalty=l2, solver=lbfgs, total=   0.0s\n",
      "[CV] C=1, multi_class=ovr, penalty=l2, solver=lbfgs ..................\n",
      "[CV] ... C=1, multi_class=ovr, penalty=l2, solver=lbfgs, total=   0.0s\n",
      "[CV] C=1, multi_class=ovr, penalty=l2, solver=lbfgs ..................\n",
      "[CV] ... C=1, multi_class=ovr, penalty=l2, solver=lbfgs, total=   0.0s\n",
      "[CV] C=1, multi_class=ovr, penalty=l2, solver=lbfgs ..................\n",
      "[CV] ... C=1, multi_class=ovr, penalty=l2, solver=lbfgs, total=   0.0s\n",
      "[CV] C=1, multi_class=ovr, penalty=l2, solver=lbfgs ..................\n",
      "[CV] ... C=1, multi_class=ovr, penalty=l2, solver=lbfgs, total=   0.0s\n",
      "[CV] C=1, multi_class=ovr, penalty=l2, solver=lbfgs ..................\n",
      "[CV] ... C=1, multi_class=ovr, penalty=l2, solver=lbfgs, total=   0.0s\n",
      "[CV] C=1, multi_class=ovr, penalty=l2, solver=lbfgs ..................\n",
      "[CV] ... C=1, multi_class=ovr, penalty=l2, solver=lbfgs, total=   0.0s\n",
      "[CV] C=1, multi_class=ovr, penalty=l2, solver=lbfgs ..................\n",
      "[CV] ... C=1, multi_class=ovr, penalty=l2, solver=lbfgs, total=   0.0s\n",
      "[CV] C=1, multi_class=ovr, penalty=l2, solver=lbfgs ..................\n",
      "[CV] ... C=1, multi_class=ovr, penalty=l2, solver=lbfgs, total=   0.0s\n",
      "[CV] C=10, multi_class=ovr, penalty=l2, solver=liblinear .............\n",
      "[CV]  C=10, multi_class=ovr, penalty=l2, solver=liblinear, total=   0.0s\n",
      "[CV] C=10, multi_class=ovr, penalty=l2, solver=liblinear .............\n",
      "[CV]  C=10, multi_class=ovr, penalty=l2, solver=liblinear, total=   0.0s\n",
      "[CV] C=10, multi_class=ovr, penalty=l2, solver=liblinear .............\n",
      "[CV]  C=10, multi_class=ovr, penalty=l2, solver=liblinear, total=   0.0s\n",
      "[CV] C=10, multi_class=ovr, penalty=l2, solver=liblinear .............\n",
      "[CV]  C=10, multi_class=ovr, penalty=l2, solver=liblinear, total=   0.0s\n",
      "[CV] C=10, multi_class=ovr, penalty=l2, solver=liblinear .............\n",
      "[CV]  C=10, multi_class=ovr, penalty=l2, solver=liblinear, total=   0.0s\n",
      "[CV] C=10, multi_class=ovr, penalty=l2, solver=liblinear .............\n",
      "[CV]  C=10, multi_class=ovr, penalty=l2, solver=liblinear, total=   0.0s\n",
      "[CV] C=10, multi_class=ovr, penalty=l2, solver=liblinear .............\n",
      "[CV]  C=10, multi_class=ovr, penalty=l2, solver=liblinear, total=   0.0s\n",
      "[CV] C=10, multi_class=ovr, penalty=l2, solver=liblinear .............\n",
      "[CV]  C=10, multi_class=ovr, penalty=l2, solver=liblinear, total=   0.0s\n",
      "[CV] C=10, multi_class=ovr, penalty=l2, solver=liblinear .............\n",
      "[CV]  C=10, multi_class=ovr, penalty=l2, solver=liblinear, total=   0.0s\n",
      "[CV] C=10, multi_class=ovr, penalty=l2, solver=liblinear .............\n",
      "[CV]  C=10, multi_class=ovr, penalty=l2, solver=liblinear, total=   0.0s\n",
      "[CV] C=10, multi_class=ovr, penalty=l2, solver=newton-cg .............\n",
      "[CV]  C=10, multi_class=ovr, penalty=l2, solver=newton-cg, total=   0.0s\n",
      "[CV] C=10, multi_class=ovr, penalty=l2, solver=newton-cg .............\n",
      "[CV]  C=10, multi_class=ovr, penalty=l2, solver=newton-cg, total=   0.0s\n",
      "[CV] C=10, multi_class=ovr, penalty=l2, solver=newton-cg .............\n",
      "[CV]  C=10, multi_class=ovr, penalty=l2, solver=newton-cg, total=   0.0s\n",
      "[CV] C=10, multi_class=ovr, penalty=l2, solver=newton-cg .............\n",
      "[CV]  C=10, multi_class=ovr, penalty=l2, solver=newton-cg, total=   0.0s\n",
      "[CV] C=10, multi_class=ovr, penalty=l2, solver=newton-cg .............\n",
      "[CV]  C=10, multi_class=ovr, penalty=l2, solver=newton-cg, total=   0.0s\n",
      "[CV] C=10, multi_class=ovr, penalty=l2, solver=newton-cg .............\n",
      "[CV]  C=10, multi_class=ovr, penalty=l2, solver=newton-cg, total=   0.0s\n",
      "[CV] C=10, multi_class=ovr, penalty=l2, solver=newton-cg .............\n"
     ]
    },
    {
     "name": "stdout",
     "output_type": "stream",
     "text": [
      "[CV]  C=10, multi_class=ovr, penalty=l2, solver=newton-cg, total=   0.0s\n",
      "[CV] C=10, multi_class=ovr, penalty=l2, solver=newton-cg .............\n",
      "[CV]  C=10, multi_class=ovr, penalty=l2, solver=newton-cg, total=   0.0s\n",
      "[CV] C=10, multi_class=ovr, penalty=l2, solver=newton-cg .............\n",
      "[CV]  C=10, multi_class=ovr, penalty=l2, solver=newton-cg, total=   0.0s\n",
      "[CV] C=10, multi_class=ovr, penalty=l2, solver=newton-cg .............\n",
      "[CV]  C=10, multi_class=ovr, penalty=l2, solver=newton-cg, total=   0.0s\n",
      "[CV] C=10, multi_class=ovr, penalty=l2, solver=lbfgs .................\n",
      "[CV] .. C=10, multi_class=ovr, penalty=l2, solver=lbfgs, total=   0.0s\n",
      "[CV] C=10, multi_class=ovr, penalty=l2, solver=lbfgs .................\n",
      "[CV] .. C=10, multi_class=ovr, penalty=l2, solver=lbfgs, total=   0.0s\n",
      "[CV] C=10, multi_class=ovr, penalty=l2, solver=lbfgs .................\n",
      "[CV] .. C=10, multi_class=ovr, penalty=l2, solver=lbfgs, total=   0.0s\n",
      "[CV] C=10, multi_class=ovr, penalty=l2, solver=lbfgs .................\n",
      "[CV] .. C=10, multi_class=ovr, penalty=l2, solver=lbfgs, total=   0.0s\n",
      "[CV] C=10, multi_class=ovr, penalty=l2, solver=lbfgs .................\n",
      "[CV] .. C=10, multi_class=ovr, penalty=l2, solver=lbfgs, total=   0.0s\n",
      "[CV] C=10, multi_class=ovr, penalty=l2, solver=lbfgs .................\n",
      "[CV] .. C=10, multi_class=ovr, penalty=l2, solver=lbfgs, total=   0.0s\n",
      "[CV] C=10, multi_class=ovr, penalty=l2, solver=lbfgs .................\n",
      "[CV] .. C=10, multi_class=ovr, penalty=l2, solver=lbfgs, total=   0.0s\n",
      "[CV] C=10, multi_class=ovr, penalty=l2, solver=lbfgs .................\n",
      "[CV] .. C=10, multi_class=ovr, penalty=l2, solver=lbfgs, total=   0.0s\n",
      "[CV] C=10, multi_class=ovr, penalty=l2, solver=lbfgs .................\n",
      "[CV] .. C=10, multi_class=ovr, penalty=l2, solver=lbfgs, total=   0.0s\n",
      "[CV] C=10, multi_class=ovr, penalty=l2, solver=lbfgs .................\n",
      "[CV] .. C=10, multi_class=ovr, penalty=l2, solver=lbfgs, total=   0.0s\n",
      "[CV] C=100, multi_class=ovr, penalty=l2, solver=liblinear ............\n",
      "[CV]  C=100, multi_class=ovr, penalty=l2, solver=liblinear, total=   0.0s\n",
      "[CV] C=100, multi_class=ovr, penalty=l2, solver=liblinear ............\n",
      "[CV]  C=100, multi_class=ovr, penalty=l2, solver=liblinear, total=   0.0s\n",
      "[CV] C=100, multi_class=ovr, penalty=l2, solver=liblinear ............\n",
      "[CV]  C=100, multi_class=ovr, penalty=l2, solver=liblinear, total=   0.0s\n",
      "[CV] C=100, multi_class=ovr, penalty=l2, solver=liblinear ............\n",
      "[CV]  C=100, multi_class=ovr, penalty=l2, solver=liblinear, total=   0.0s\n",
      "[CV] C=100, multi_class=ovr, penalty=l2, solver=liblinear ............\n",
      "[CV]  C=100, multi_class=ovr, penalty=l2, solver=liblinear, total=   0.0s\n",
      "[CV] C=100, multi_class=ovr, penalty=l2, solver=liblinear ............\n",
      "[CV]  C=100, multi_class=ovr, penalty=l2, solver=liblinear, total=   0.0s\n",
      "[CV] C=100, multi_class=ovr, penalty=l2, solver=liblinear ............\n",
      "[CV]  C=100, multi_class=ovr, penalty=l2, solver=liblinear, total=   0.0s\n",
      "[CV] C=100, multi_class=ovr, penalty=l2, solver=liblinear ............\n",
      "[CV]  C=100, multi_class=ovr, penalty=l2, solver=liblinear, total=   0.0s\n",
      "[CV] C=100, multi_class=ovr, penalty=l2, solver=liblinear ............\n",
      "[CV]  C=100, multi_class=ovr, penalty=l2, solver=liblinear, total=   0.0s\n",
      "[CV] C=100, multi_class=ovr, penalty=l2, solver=liblinear ............\n",
      "[CV]  C=100, multi_class=ovr, penalty=l2, solver=liblinear, total=   0.0s\n",
      "[CV] C=100, multi_class=ovr, penalty=l2, solver=newton-cg ............\n",
      "[CV]  C=100, multi_class=ovr, penalty=l2, solver=newton-cg, total=   0.0s\n",
      "[CV] C=100, multi_class=ovr, penalty=l2, solver=newton-cg ............\n",
      "[CV]  C=100, multi_class=ovr, penalty=l2, solver=newton-cg, total=   0.0s\n",
      "[CV] C=100, multi_class=ovr, penalty=l2, solver=newton-cg ............\n",
      "[CV]  C=100, multi_class=ovr, penalty=l2, solver=newton-cg, total=   0.0s\n",
      "[CV] C=100, multi_class=ovr, penalty=l2, solver=newton-cg ............\n",
      "[CV]  C=100, multi_class=ovr, penalty=l2, solver=newton-cg, total=   0.0s\n",
      "[CV] C=100, multi_class=ovr, penalty=l2, solver=newton-cg ............\n",
      "[CV]  C=100, multi_class=ovr, penalty=l2, solver=newton-cg, total=   0.0s\n",
      "[CV] C=100, multi_class=ovr, penalty=l2, solver=newton-cg ............\n",
      "[CV]  C=100, multi_class=ovr, penalty=l2, solver=newton-cg, total=   0.0s\n",
      "[CV] C=100, multi_class=ovr, penalty=l2, solver=newton-cg ............\n",
      "[CV]  C=100, multi_class=ovr, penalty=l2, solver=newton-cg, total=   0.0s\n",
      "[CV] C=100, multi_class=ovr, penalty=l2, solver=newton-cg ............\n",
      "[CV]  C=100, multi_class=ovr, penalty=l2, solver=newton-cg, total=   0.0s\n",
      "[CV] C=100, multi_class=ovr, penalty=l2, solver=newton-cg ............\n",
      "[CV]  C=100, multi_class=ovr, penalty=l2, solver=newton-cg, total=   0.0s\n",
      "[CV] C=100, multi_class=ovr, penalty=l2, solver=newton-cg ............\n",
      "[CV]  C=100, multi_class=ovr, penalty=l2, solver=newton-cg, total=   0.0s\n",
      "[CV] C=100, multi_class=ovr, penalty=l2, solver=lbfgs ................\n",
      "[CV] . C=100, multi_class=ovr, penalty=l2, solver=lbfgs, total=   0.0s\n",
      "[CV] C=100, multi_class=ovr, penalty=l2, solver=lbfgs ................\n",
      "[CV] . C=100, multi_class=ovr, penalty=l2, solver=lbfgs, total=   0.0s\n",
      "[CV] C=100, multi_class=ovr, penalty=l2, solver=lbfgs ................\n",
      "[CV] . C=100, multi_class=ovr, penalty=l2, solver=lbfgs, total=   0.0s\n",
      "[CV] C=100, multi_class=ovr, penalty=l2, solver=lbfgs ................\n",
      "[CV] . C=100, multi_class=ovr, penalty=l2, solver=lbfgs, total=   0.0s\n",
      "[CV] C=100, multi_class=ovr, penalty=l2, solver=lbfgs ................\n",
      "[CV] . C=100, multi_class=ovr, penalty=l2, solver=lbfgs, total=   0.0s\n",
      "[CV] C=100, multi_class=ovr, penalty=l2, solver=lbfgs ................\n",
      "[CV] . C=100, multi_class=ovr, penalty=l2, solver=lbfgs, total=   0.0s\n",
      "[CV] C=100, multi_class=ovr, penalty=l2, solver=lbfgs ................\n",
      "[CV] . C=100, multi_class=ovr, penalty=l2, solver=lbfgs, total=   0.0s\n",
      "[CV] C=100, multi_class=ovr, penalty=l2, solver=lbfgs ................\n",
      "[CV] . C=100, multi_class=ovr, penalty=l2, solver=lbfgs, total=   0.0s\n",
      "[CV] C=100, multi_class=ovr, penalty=l2, solver=lbfgs ................\n",
      "[CV] . C=100, multi_class=ovr, penalty=l2, solver=lbfgs, total=   0.0s\n",
      "[CV] C=100, multi_class=ovr, penalty=l2, solver=lbfgs ................\n",
      "[CV] . C=100, multi_class=ovr, penalty=l2, solver=lbfgs, total=   0.0s\n",
      "[CV] C=1000, multi_class=ovr, penalty=l2, solver=liblinear ...........\n",
      "[CV]  C=1000, multi_class=ovr, penalty=l2, solver=liblinear, total=   0.0s\n",
      "[CV] C=1000, multi_class=ovr, penalty=l2, solver=liblinear ...........\n",
      "[CV]  C=1000, multi_class=ovr, penalty=l2, solver=liblinear, total=   0.0s\n",
      "[CV] C=1000, multi_class=ovr, penalty=l2, solver=liblinear ...........\n",
      "[CV]  C=1000, multi_class=ovr, penalty=l2, solver=liblinear, total=   0.0s\n",
      "[CV] C=1000, multi_class=ovr, penalty=l2, solver=liblinear ...........\n",
      "[CV]  C=1000, multi_class=ovr, penalty=l2, solver=liblinear, total=   0.0s\n",
      "[CV] C=1000, multi_class=ovr, penalty=l2, solver=liblinear ...........\n",
      "[CV]  C=1000, multi_class=ovr, penalty=l2, solver=liblinear, total=   0.0s\n",
      "[CV] C=1000, multi_class=ovr, penalty=l2, solver=liblinear ...........\n",
      "[CV]  C=1000, multi_class=ovr, penalty=l2, solver=liblinear, total=   0.0s\n",
      "[CV] C=1000, multi_class=ovr, penalty=l2, solver=liblinear ...........\n",
      "[CV]  C=1000, multi_class=ovr, penalty=l2, solver=liblinear, total=   0.0s\n",
      "[CV] C=1000, multi_class=ovr, penalty=l2, solver=liblinear ...........\n",
      "[CV]  C=1000, multi_class=ovr, penalty=l2, solver=liblinear, total=   0.0s\n",
      "[CV] C=1000, multi_class=ovr, penalty=l2, solver=liblinear ...........\n",
      "[CV]  C=1000, multi_class=ovr, penalty=l2, solver=liblinear, total=   0.0s\n",
      "[CV] C=1000, multi_class=ovr, penalty=l2, solver=liblinear ...........\n",
      "[CV]  C=1000, multi_class=ovr, penalty=l2, solver=liblinear, total=   0.0s\n",
      "[CV] C=1000, multi_class=ovr, penalty=l2, solver=newton-cg ...........\n",
      "[CV]  C=1000, multi_class=ovr, penalty=l2, solver=newton-cg, total=   0.0s\n",
      "[CV] C=1000, multi_class=ovr, penalty=l2, solver=newton-cg ...........\n",
      "[CV]  C=1000, multi_class=ovr, penalty=l2, solver=newton-cg, total=   0.0s\n",
      "[CV] C=1000, multi_class=ovr, penalty=l2, solver=newton-cg ...........\n",
      "[CV]  C=1000, multi_class=ovr, penalty=l2, solver=newton-cg, total=   0.0s\n",
      "[CV] C=1000, multi_class=ovr, penalty=l2, solver=newton-cg ...........\n",
      "[CV]  C=1000, multi_class=ovr, penalty=l2, solver=newton-cg, total=   0.0s\n",
      "[CV] C=1000, multi_class=ovr, penalty=l2, solver=newton-cg ...........\n",
      "[CV]  C=1000, multi_class=ovr, penalty=l2, solver=newton-cg, total=   0.0s\n",
      "[CV] C=1000, multi_class=ovr, penalty=l2, solver=newton-cg ...........\n",
      "[CV]  C=1000, multi_class=ovr, penalty=l2, solver=newton-cg, total=   0.0s\n",
      "[CV] C=1000, multi_class=ovr, penalty=l2, solver=newton-cg ...........\n",
      "[CV]  C=1000, multi_class=ovr, penalty=l2, solver=newton-cg, total=   0.0s\n",
      "[CV] C=1000, multi_class=ovr, penalty=l2, solver=newton-cg ...........\n",
      "[CV]  C=1000, multi_class=ovr, penalty=l2, solver=newton-cg, total=   0.0s\n",
      "[CV] C=1000, multi_class=ovr, penalty=l2, solver=newton-cg ...........\n",
      "[CV]  C=1000, multi_class=ovr, penalty=l2, solver=newton-cg, total=   0.0s\n",
      "[CV] C=1000, multi_class=ovr, penalty=l2, solver=newton-cg ...........\n",
      "[CV]  C=1000, multi_class=ovr, penalty=l2, solver=newton-cg, total=   0.0s\n",
      "[CV] C=1000, multi_class=ovr, penalty=l2, solver=lbfgs ...............\n"
     ]
    },
    {
     "name": "stdout",
     "output_type": "stream",
     "text": [
      "[CV]  C=1000, multi_class=ovr, penalty=l2, solver=lbfgs, total=   0.0s\n",
      "[CV] C=1000, multi_class=ovr, penalty=l2, solver=lbfgs ...............\n",
      "[CV]  C=1000, multi_class=ovr, penalty=l2, solver=lbfgs, total=   0.0s\n",
      "[CV] C=1000, multi_class=ovr, penalty=l2, solver=lbfgs ...............\n",
      "[CV]  C=1000, multi_class=ovr, penalty=l2, solver=lbfgs, total=   0.0s\n",
      "[CV] C=1000, multi_class=ovr, penalty=l2, solver=lbfgs ...............\n",
      "[CV]  C=1000, multi_class=ovr, penalty=l2, solver=lbfgs, total=   0.0s\n",
      "[CV] C=1000, multi_class=ovr, penalty=l2, solver=lbfgs ...............\n",
      "[CV]  C=1000, multi_class=ovr, penalty=l2, solver=lbfgs, total=   0.0s\n",
      "[CV] C=1000, multi_class=ovr, penalty=l2, solver=lbfgs ...............\n",
      "[CV]  C=1000, multi_class=ovr, penalty=l2, solver=lbfgs, total=   0.0s\n",
      "[CV] C=1000, multi_class=ovr, penalty=l2, solver=lbfgs ...............\n",
      "[CV]  C=1000, multi_class=ovr, penalty=l2, solver=lbfgs, total=   0.0s\n",
      "[CV] C=1000, multi_class=ovr, penalty=l2, solver=lbfgs ...............\n",
      "[CV]  C=1000, multi_class=ovr, penalty=l2, solver=lbfgs, total=   0.0s\n",
      "[CV] C=1000, multi_class=ovr, penalty=l2, solver=lbfgs ...............\n",
      "[CV]  C=1000, multi_class=ovr, penalty=l2, solver=lbfgs, total=   0.0s\n",
      "[CV] C=1000, multi_class=ovr, penalty=l2, solver=lbfgs ...............\n",
      "[CV]  C=1000, multi_class=ovr, penalty=l2, solver=lbfgs, total=   0.0s\n"
     ]
    },
    {
     "name": "stderr",
     "output_type": "stream",
     "text": [
      "[Parallel(n_jobs=1)]: Done 280 out of 280 | elapsed:    1.8s finished\n"
     ]
    },
    {
     "data": {
      "text/plain": [
       "GridSearchCV(cv=10, error_score=nan,\n",
       "             estimator=LogisticRegression(C=1.0, class_weight=None, dual=False,\n",
       "                                          fit_intercept=True,\n",
       "                                          intercept_scaling=1, l1_ratio=None,\n",
       "                                          max_iter=100, multi_class='auto',\n",
       "                                          n_jobs=None, penalty='l2',\n",
       "                                          random_state=None, solver='lbfgs',\n",
       "                                          tol=0.0001, verbose=0,\n",
       "                                          warm_start=False),\n",
       "             iid='deprecated', n_jobs=None,\n",
       "             param_grid=[{'C': [0.001, 0.01, 0.1, 1, 10, 100, 1000],\n",
       "                          'multi_class': ['ovr'], 'penalty': ['l1'],\n",
       "                          'solver': ['liblinear']},\n",
       "                         {'C': [0.001, 0.01, 0.1, 1, 10, 100, 1000],\n",
       "                          'multi_class': ['ovr'], 'penalty': ['l2'],\n",
       "                          'solver': ['liblinear', 'newton-cg', 'lbfgs']}],\n",
       "             pre_dispatch='2*n_jobs', refit=True, return_train_score=False,\n",
       "             scoring=None, verbose=2)"
      ]
     },
     "execution_count": 56,
     "metadata": {},
     "output_type": "execute_result"
    }
   ],
   "source": [
    "# Specify parameters\n",
    "c_values = [0.001, 0.01, 0.1, 1, 10, 100, 1000]\n",
    "params = [\n",
    "    {'C': c_values, 'penalty': ['l1'], 'solver' : ['liblinear'], 'multi_class' : ['ovr']},\n",
    "    {'C': c_values, 'penalty': ['l2'], 'solver' : ['liblinear', 'newton-cg', 'lbfgs'], 'multi_class' : ['ovr']}\n",
    "]\n",
    "\n",
    "grid_search = GridSearchCV(LogisticRegression(), params, cv = 10, verbose = 2)\n",
    "grid_search.fit(X_train, y_train)"
   ]
  },
  {
   "cell_type": "markdown",
   "metadata": {},
   "source": [
    "#### Best model"
   ]
  },
  {
   "cell_type": "code",
   "execution_count": 57,
   "metadata": {},
   "outputs": [
    {
     "data": {
      "text/plain": [
       "{'C': 0.1, 'multi_class': 'ovr', 'penalty': 'l2', 'solver': 'newton-cg'}"
      ]
     },
     "execution_count": 57,
     "metadata": {},
     "output_type": "execute_result"
    }
   ],
   "source": [
    "grid_search.best_params_"
   ]
  },
  {
   "cell_type": "code",
   "execution_count": 58,
   "metadata": {},
   "outputs": [
    {
     "data": {
      "text/plain": [
       "LogisticRegression(C=0.1, class_weight=None, dual=False, fit_intercept=True,\n",
       "                   intercept_scaling=1, l1_ratio=None, max_iter=100,\n",
       "                   multi_class='ovr', n_jobs=None, penalty='l2',\n",
       "                   random_state=None, solver='newton-cg', tol=0.0001, verbose=0,\n",
       "                   warm_start=False)"
      ]
     },
     "execution_count": 58,
     "metadata": {},
     "output_type": "execute_result"
    }
   ],
   "source": [
    "best_model = grid_search.best_estimator_\n",
    "best_model"
   ]
  },
  {
   "cell_type": "markdown",
   "metadata": {},
   "source": [
    "#### Rerun with the best model"
   ]
  },
  {
   "cell_type": "code",
   "execution_count": 59,
   "metadata": {},
   "outputs": [
    {
     "name": "stdout",
     "output_type": "stream",
     "text": [
      "Accuracy: 86.25% (+/- 7.82%)\n"
     ]
    }
   ],
   "source": [
    "scores = cross_val_score(model, X_train, y_train, cv=10)\n",
    "print(\"Accuracy: %0.2f%% (+/- %0.2f%%)\" % (100*scores.mean(), 100*scores.std() * 2))"
   ]
  },
  {
   "cell_type": "code",
   "execution_count": 60,
   "metadata": {},
   "outputs": [
    {
     "name": "stdout",
     "output_type": "stream",
     "text": [
      "Accuracy: 86.79% (+/- 7.15%)\n"
     ]
    }
   ],
   "source": [
    "scores = cross_val_score(best_model, X_train, y_train, cv=10)\n",
    "print(\"Accuracy: %0.2f%% (+/- %0.2f%%)\" % (100*scores.mean(), 100*scores.std() * 2))"
   ]
  },
  {
   "cell_type": "code",
   "execution_count": 61,
   "metadata": {},
   "outputs": [
    {
     "data": {
      "text/plain": [
       "array([0.82142857, 0.83928571, 0.83636364, 0.83636364, 0.89090909,\n",
       "       0.89090909, 0.83636364, 0.92727273, 0.89090909, 0.90909091])"
      ]
     },
     "execution_count": 61,
     "metadata": {},
     "output_type": "execute_result"
    }
   ],
   "source": [
    "scores"
   ]
  },
  {
   "cell_type": "code",
   "execution_count": 62,
   "metadata": {},
   "outputs": [
    {
     "data": {
      "image/png": "[encoded data removed]",
      "text/plain": [
       "<Figure size 432x144 with 1 Axes>"
      ]
     },
     "metadata": {
      "needs_background": "light"
     },
     "output_type": "display_data"
    }
   ],
   "source": [
    "plt.figure(figsize=(6,2))\n",
    "sns.boxplot(data=scores, orient='h')\n",
    "plt.show()"
   ]
  },
  {
   "cell_type": "code",
   "execution_count": 63,
   "metadata": {},
   "outputs": [],
   "source": [
    "best_model.fit(X_train, y_train)\n",
    "y_train_pred = best_model.predict(X_train)\n",
    "prob_train_pred = best_model.predict_proba(X_train)\n",
    "\n",
    "y_test_pred = best_model.predict(X_test)\n",
    "prob_test_pred = best_model.predict_proba(X_test)"
   ]
  },
  {
   "cell_type": "code",
   "execution_count": 64,
   "metadata": {},
   "outputs": [
    {
     "data": {
      "text/html": [
       "<div>\n",
       "<style scoped>\n",
       "    .dataframe tbody tr th:only-of-type {\n",
       "        vertical-align: middle;\n",
       "    }\n",
       "\n",
       "    .dataframe tbody tr th {\n",
       "        vertical-align: top;\n",
       "    }\n",
       "\n",
       "    .dataframe thead th {\n",
       "        text-align: right;\n",
       "    }\n",
       "</style>\n",
       "<table border=\"1\" class=\"dataframe\">\n",
       "  <thead>\n",
       "    <tr style=\"text-align: right;\">\n",
       "      <th></th>\n",
       "      <th>feature_name</th>\n",
       "      <th>Coefficient</th>\n",
       "      <th>Odds_ratio</th>\n",
       "    </tr>\n",
       "  </thead>\n",
       "  <tbody>\n",
       "    <tr>\n",
       "      <th>0</th>\n",
       "      <td>Intercept</td>\n",
       "      <td>-2.663332</td>\n",
       "      <td>0.069716</td>\n",
       "    </tr>\n",
       "    <tr>\n",
       "      <th>1</th>\n",
       "      <td>A1</td>\n",
       "      <td>-0.066272</td>\n",
       "      <td>0.935876</td>\n",
       "    </tr>\n",
       "    <tr>\n",
       "      <th>2</th>\n",
       "      <td>A2</td>\n",
       "      <td>0.132002</td>\n",
       "      <td>1.141111</td>\n",
       "    </tr>\n",
       "    <tr>\n",
       "      <th>3</th>\n",
       "      <td>A3</td>\n",
       "      <td>0.153387</td>\n",
       "      <td>1.165776</td>\n",
       "    </tr>\n",
       "    <tr>\n",
       "      <th>4</th>\n",
       "      <td>A4</td>\n",
       "      <td>0.242230</td>\n",
       "      <td>1.274087</td>\n",
       "    </tr>\n",
       "    <tr>\n",
       "      <th>5</th>\n",
       "      <td>A5</td>\n",
       "      <td>0.805288</td>\n",
       "      <td>2.237341</td>\n",
       "    </tr>\n",
       "    <tr>\n",
       "      <th>6</th>\n",
       "      <td>A6</td>\n",
       "      <td>0.386301</td>\n",
       "      <td>1.471528</td>\n",
       "    </tr>\n",
       "    <tr>\n",
       "      <th>7</th>\n",
       "      <td>A7</td>\n",
       "      <td>0.244292</td>\n",
       "      <td>1.276717</td>\n",
       "    </tr>\n",
       "    <tr>\n",
       "      <th>8</th>\n",
       "      <td>A8</td>\n",
       "      <td>2.172775</td>\n",
       "      <td>8.782622</td>\n",
       "    </tr>\n",
       "    <tr>\n",
       "      <th>9</th>\n",
       "      <td>A9</td>\n",
       "      <td>0.967533</td>\n",
       "      <td>2.631443</td>\n",
       "    </tr>\n",
       "    <tr>\n",
       "      <th>10</th>\n",
       "      <td>A10</td>\n",
       "      <td>0.210487</td>\n",
       "      <td>1.234279</td>\n",
       "    </tr>\n",
       "    <tr>\n",
       "      <th>11</th>\n",
       "      <td>A11</td>\n",
       "      <td>-0.130309</td>\n",
       "      <td>0.877824</td>\n",
       "    </tr>\n",
       "    <tr>\n",
       "      <th>12</th>\n",
       "      <td>A12</td>\n",
       "      <td>0.184337</td>\n",
       "      <td>1.202421</td>\n",
       "    </tr>\n",
       "    <tr>\n",
       "      <th>13</th>\n",
       "      <td>A13</td>\n",
       "      <td>-0.120630</td>\n",
       "      <td>0.886361</td>\n",
       "    </tr>\n",
       "    <tr>\n",
       "      <th>14</th>\n",
       "      <td>A14</td>\n",
       "      <td>0.089371</td>\n",
       "      <td>1.093487</td>\n",
       "    </tr>\n",
       "  </tbody>\n",
       "</table>\n",
       "</div>"
      ],
      "text/plain": [
       "   feature_name  Coefficient  Odds_ratio\n",
       "0     Intercept    -2.663332    0.069716\n",
       "1            A1    -0.066272    0.935876\n",
       "2            A2     0.132002    1.141111\n",
       "3            A3     0.153387    1.165776\n",
       "4            A4     0.242230    1.274087\n",
       "5            A5     0.805288    2.237341\n",
       "6            A6     0.386301    1.471528\n",
       "7            A7     0.244292    1.276717\n",
       "8            A8     2.172775    8.782622\n",
       "9            A9     0.967533    2.631443\n",
       "10          A10     0.210487    1.234279\n",
       "11          A11    -0.130309    0.877824\n",
       "12          A12     0.184337    1.202421\n",
       "13          A13    -0.120630    0.886361\n",
       "14          A14     0.089371    1.093487"
      ]
     },
     "execution_count": 64,
     "metadata": {},
     "output_type": "execute_result"
    }
   ],
   "source": [
    "LogisticSummaryTable(best_model, X_train)"
   ]
  },
  {
   "cell_type": "code",
   "execution_count": 65,
   "metadata": {},
   "outputs": [
    {
     "data": {
      "text/html": [
       "<div>\n",
       "<style scoped>\n",
       "    .dataframe tbody tr th:only-of-type {\n",
       "        vertical-align: middle;\n",
       "    }\n",
       "\n",
       "    .dataframe tbody tr th {\n",
       "        vertical-align: top;\n",
       "    }\n",
       "\n",
       "    .dataframe thead th {\n",
       "        text-align: right;\n",
       "    }\n",
       "</style>\n",
       "<table border=\"1\" class=\"dataframe\">\n",
       "  <thead>\n",
       "    <tr style=\"text-align: right;\">\n",
       "      <th></th>\n",
       "      <th>name</th>\n",
       "      <th>score</th>\n",
       "    </tr>\n",
       "  </thead>\n",
       "  <tbody>\n",
       "    <tr>\n",
       "      <th>0</th>\n",
       "      <td>A8</td>\n",
       "      <td>2.172775</td>\n",
       "    </tr>\n",
       "    <tr>\n",
       "      <th>1</th>\n",
       "      <td>A9</td>\n",
       "      <td>0.967533</td>\n",
       "    </tr>\n",
       "    <tr>\n",
       "      <th>2</th>\n",
       "      <td>A5</td>\n",
       "      <td>0.805288</td>\n",
       "    </tr>\n",
       "    <tr>\n",
       "      <th>3</th>\n",
       "      <td>A6</td>\n",
       "      <td>0.386301</td>\n",
       "    </tr>\n",
       "    <tr>\n",
       "      <th>4</th>\n",
       "      <td>A7</td>\n",
       "      <td>0.244292</td>\n",
       "    </tr>\n",
       "    <tr>\n",
       "      <th>5</th>\n",
       "      <td>A4</td>\n",
       "      <td>0.242230</td>\n",
       "    </tr>\n",
       "    <tr>\n",
       "      <th>6</th>\n",
       "      <td>A10</td>\n",
       "      <td>0.210487</td>\n",
       "    </tr>\n",
       "    <tr>\n",
       "      <th>7</th>\n",
       "      <td>A12</td>\n",
       "      <td>0.184337</td>\n",
       "    </tr>\n",
       "    <tr>\n",
       "      <th>8</th>\n",
       "      <td>A3</td>\n",
       "      <td>0.153387</td>\n",
       "    </tr>\n",
       "    <tr>\n",
       "      <th>9</th>\n",
       "      <td>A2</td>\n",
       "      <td>0.132002</td>\n",
       "    </tr>\n",
       "    <tr>\n",
       "      <th>10</th>\n",
       "      <td>A11</td>\n",
       "      <td>0.130309</td>\n",
       "    </tr>\n",
       "    <tr>\n",
       "      <th>11</th>\n",
       "      <td>A13</td>\n",
       "      <td>0.120630</td>\n",
       "    </tr>\n",
       "    <tr>\n",
       "      <th>12</th>\n",
       "      <td>A14</td>\n",
       "      <td>0.089371</td>\n",
       "    </tr>\n",
       "    <tr>\n",
       "      <th>13</th>\n",
       "      <td>A1</td>\n",
       "      <td>0.066272</td>\n",
       "    </tr>\n",
       "  </tbody>\n",
       "</table>\n",
       "</div>"
      ],
      "text/plain": [
       "   name     score\n",
       "0    A8  2.172775\n",
       "1    A9  0.967533\n",
       "2    A5  0.805288\n",
       "3    A6  0.386301\n",
       "4    A7  0.244292\n",
       "5    A4  0.242230\n",
       "6   A10  0.210487\n",
       "7   A12  0.184337\n",
       "8    A3  0.153387\n",
       "9    A2  0.132002\n",
       "10  A11  0.130309\n",
       "11  A13  0.120630\n",
       "12  A14  0.089371\n",
       "13   A1  0.066272"
      ]
     },
     "execution_count": 65,
     "metadata": {},
     "output_type": "execute_result"
    }
   ],
   "source": [
    "#get feature importances from the model\n",
    "headers = [\"name\", \"score\"]\n",
    "coefficient_list = np.abs(list(best_model.coef_[0]))\n",
    "values = sorted(zip(feature_names, coefficient_list), key=lambda x: x[1] * -1)\n",
    "feature_importances = pd.DataFrame(values, columns = headers)\n",
    "feature_importances"
   ]
  },
  {
   "cell_type": "code",
   "execution_count": 66,
   "metadata": {},
   "outputs": [
    {
     "name": "stdout",
     "output_type": "stream",
     "text": [
      "Model Evaluation of LogisticRegression\n",
      "-----------------------------------------------------------\n",
      "Train set\n",
      "Accuracy:  0.8713768115942029\n",
      "ROC AUC Score:  0.9302965088474414\n",
      "Confusion matrix\n",
      "Predicted    0    1\n",
      "Actual             \n",
      "0          255   51\n",
      "1           20  226\n",
      "              precision    recall  f1-score   support\n",
      "\n",
      "           0       0.93      0.83      0.88       306\n",
      "           1       0.82      0.92      0.86       246\n",
      "\n",
      "    accuracy                           0.87       552\n",
      "   macro avg       0.87      0.88      0.87       552\n",
      "weighted avg       0.88      0.87      0.87       552\n",
      "\n",
      "-----------------------------------------------------------\n",
      "Test set\n",
      "Accuracy:  0.8478260869565217\n",
      "ROC AUC Score:  0.9012135405578029\n",
      "Confusion matrix\n",
      "Predicted   0   1\n",
      "Actual           \n",
      "0          66  11\n",
      "1          10  51\n",
      "              precision    recall  f1-score   support\n",
      "\n",
      "           0       0.87      0.86      0.86        77\n",
      "           1       0.82      0.84      0.83        61\n",
      "\n",
      "    accuracy                           0.85       138\n",
      "   macro avg       0.85      0.85      0.85       138\n",
      "weighted avg       0.85      0.85      0.85       138\n",
      "\n"
     ]
    }
   ],
   "source": [
    "ModelEvaluation(best_model,X_train,y_train,X_test,y_test,'LogisticRegression')"
   ]
  },
  {
   "cell_type": "code",
   "execution_count": 67,
   "metadata": {},
   "outputs": [
    {
     "data": {
      "image/png": "[encoded data removed]",
      "text/plain": [
       "<Figure size 432x432 with 1 Axes>"
      ]
     },
     "metadata": {
      "needs_background": "light"
     },
     "output_type": "display_data"
    }
   ],
   "source": [
    "from sklearn.metrics import roc_curve\n",
    "\n",
    "fpr_train, tpr_train, threshold = roc_curve(y_train, prob_train_pred[:,1])\n",
    "fpr_test, tpr_test, threshold = roc_curve(y_test, prob_test_pred[:,1])\n",
    "\n",
    "plt.figure(figsize=(6,6))\n",
    "plt.title('ROC Curve Classifiers', fontsize=16)\n",
    "plt.plot(fpr_train, tpr_train, label= 'Train Score: {:.4f}'.format(roc_auc_score(y_train, prob_train_pred[:,1])))\n",
    "plt.plot(fpr_test, tpr_test, label= 'Test Score: {:.4f}'.format(roc_auc_score(y_test, prob_test_pred[:,1])))\n",
    "\n",
    "plt.plot([0, 1], [0, 1], 'k--')\n",
    "plt.axis([-0.01, 1, 0, 1])\n",
    "plt.xlabel('False Positive Rate', fontsize=16)\n",
    "plt.ylabel('True Positive Rate', fontsize=16)\n",
    "plt.annotate('Minimum ROC Score of 50% \\n (This is the minimum score to get)', xy=(0.5, 0.5), xytext=(0.6, 0.3),\n",
    "                arrowprops=dict(facecolor='#6E726D', shrink=0.05))\n",
    "plt.legend()\n",
    "        \n",
    "plt.show()"
   ]
  },
  {
   "cell_type": "code",
   "execution_count": 68,
   "metadata": {},
   "outputs": [
    {
     "data": {
      "text/html": [
       "<div>\n",
       "<style scoped>\n",
       "    .dataframe tbody tr th:only-of-type {\n",
       "        vertical-align: middle;\n",
       "    }\n",
       "\n",
       "    .dataframe tbody tr th {\n",
       "        vertical-align: top;\n",
       "    }\n",
       "\n",
       "    .dataframe thead th {\n",
       "        text-align: right;\n",
       "    }\n",
       "</style>\n",
       "<table border=\"1\" class=\"dataframe\">\n",
       "  <thead>\n",
       "    <tr style=\"text-align: right;\">\n",
       "      <th></th>\n",
       "      <th>precision</th>\n",
       "      <th>recall</th>\n",
       "      <th>threshold</th>\n",
       "    </tr>\n",
       "  </thead>\n",
       "  <tbody>\n",
       "    <tr>\n",
       "      <th>0</th>\n",
       "      <td>0.488000</td>\n",
       "      <td>1.000000</td>\n",
       "      <td>-2.314489</td>\n",
       "    </tr>\n",
       "    <tr>\n",
       "      <th>1</th>\n",
       "      <td>0.483871</td>\n",
       "      <td>0.983607</td>\n",
       "      <td>-2.312307</td>\n",
       "    </tr>\n",
       "    <tr>\n",
       "      <th>2</th>\n",
       "      <td>0.487805</td>\n",
       "      <td>0.983607</td>\n",
       "      <td>-2.307595</td>\n",
       "    </tr>\n",
       "    <tr>\n",
       "      <th>3</th>\n",
       "      <td>0.491803</td>\n",
       "      <td>0.983607</td>\n",
       "      <td>-2.301821</td>\n",
       "    </tr>\n",
       "    <tr>\n",
       "      <th>4</th>\n",
       "      <td>0.495868</td>\n",
       "      <td>0.983607</td>\n",
       "      <td>-2.298880</td>\n",
       "    </tr>\n",
       "    <tr>\n",
       "      <th>5</th>\n",
       "      <td>0.500000</td>\n",
       "      <td>0.983607</td>\n",
       "      <td>-2.260202</td>\n",
       "    </tr>\n",
       "  </tbody>\n",
       "</table>\n",
       "</div>"
      ],
      "text/plain": [
       "   precision    recall  threshold\n",
       "0   0.488000  1.000000  -2.314489\n",
       "1   0.483871  0.983607  -2.312307\n",
       "2   0.487805  0.983607  -2.307595\n",
       "3   0.491803  0.983607  -2.301821\n",
       "4   0.495868  0.983607  -2.298880\n",
       "5   0.500000  0.983607  -2.260202"
      ]
     },
     "execution_count": 68,
     "metadata": {},
     "output_type": "execute_result"
    }
   ],
   "source": [
    "y_score = best_model.decision_function(X_test)\n",
    "precision, recall, threshold = precision_recall_curve(y_test,y_score)\n",
    "average_precision = average_precision_score(y_test, y_score)\n",
    "\n",
    "precision_recall_df = pd.DataFrame([precision[0:len(threshold)],recall[0:len(threshold)],threshold]).T\n",
    "precision_recall_df.columns = ['precision','recall','threshold']\n",
    "precision_recall_df.head(6)"
   ]
  },
  {
   "cell_type": "code",
   "execution_count": 69,
   "metadata": {},
   "outputs": [
    {
     "data": {
      "text/plain": [
       "Text(0.5, 1.0, 'Precision-Recall curve: \\n Average Precision-Recall Score =0.91')"
      ]
     },
     "execution_count": 69,
     "metadata": {},
     "output_type": "execute_result"
    },
    {
     "data": {
      "image/png": "[encoded data removed]",
      "text/plain": [
       "<Figure size 432x288 with 1 Axes>"
      ]
     },
     "metadata": {
      "needs_background": "light"
     },
     "output_type": "display_data"
    }
   ],
   "source": [
    "plt.step(recall, precision, color='#004a93', alpha=0.2,where='post')\n",
    "plt.fill_between(recall, precision, step='post', alpha=0.2, color='#48a6ff')\n",
    "plt.xlabel('Recall')\n",
    "plt.ylabel('Precision')\n",
    "plt.ylim([0.0, 1.05])\n",
    "plt.xlim([0.0, 1.0])\n",
    "plt.title('Precision-Recall curve: \\n Average Precision-Recall Score ={0:0.2f}'.format(average_precision), fontsize=16)"
   ]
  },
  {
   "cell_type": "code",
   "execution_count": 70,
   "metadata": {},
   "outputs": [
    {
     "data": {
      "image/png": "[encoded data removed]",
      "text/plain": [
       "<Figure size 576x360 with 1 Axes>"
      ]
     },
     "metadata": {},
     "output_type": "display_data"
    }
   ],
   "source": [
    "sns.set(style = 'whitegrid',context = 'notebook')\n",
    "plt.figure(figsize=(8,5))\n",
    "plt.plot(threshold, precision[1:], label=\"Precision\",linewidth=5)\n",
    "plt.plot(threshold, recall[1:], label=\"Recall\",linewidth=5)\n",
    "plt.title('Precision and recall for different threshold values')\n",
    "plt.xlabel('Threshold')\n",
    "plt.ylabel('Precision/Recall')\n",
    "plt.legend()\n",
    "plt.show()"
   ]
  },
  {
   "cell_type": "code",
   "execution_count": null,
   "metadata": {},
   "outputs": [],
   "source": []
  }
 ],
 "metadata": {
  "kernelspec": {
   "display_name": "Python 3",
   "language": "python",
   "name": "python3"
  },
  "language_info": {
   "codemirror_mode": {
    "name": "ipython",
    "version": 3
   },
   "file_extension": ".py",
   "mimetype": "text/x-python",
   "name": "python",
   "nbconvert_exporter": "python",
   "pygments_lexer": "ipython3",
   "version": "3.7.3"
  }
 },
 "nbformat": 4,
 "nbformat_minor": 2
}
