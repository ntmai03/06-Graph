{
 "cells": [
  {
   "cell_type": "markdown",
   "metadata": {},
   "source": [
    "# 1. Import library"
   ]
  },
  {
   "cell_type": "code",
   "execution_count": 219,
   "metadata": {},
   "outputs": [],
   "source": [
    "# to handle datasets\n",
    "import pandas as pd\n",
    "import numpy as np\n",
    "import matplotlib.pyplot as plt\n",
    "import seaborn as sns\n",
    "\n",
    "# for text / string processing\n",
    "import re\n",
    "\n",
    "# for plotting\n",
    "import matplotlib.pyplot as plt\n",
    "\n",
    "# to divide train and test set\n",
    "from sklearn.model_selection import train_test_split\n",
    "# Modelling Helpers:\n",
    "# from sklearn.preprocessing import Imputer, Normalizer, scale\n",
    "from sklearn.model_selection import train_test_split\n",
    "from sklearn.feature_selection import RFECV\n",
    "from sklearn.model_selection import GridSearchCV, KFold, cross_val_score, ShuffleSplit, cross_validate\n",
    "from sklearn import model_selection\n",
    "from sklearn.model_selection import train_test_split\n",
    "\n",
    "# feature scaling\n",
    "from sklearn.preprocessing import MinMaxScaler\n",
    "\n",
    "# for tree binarisation\n",
    "from sklearn.tree import DecisionTreeClassifier\n",
    "from sklearn.model_selection import cross_val_score\n",
    "\n",
    "\n",
    "# Classification\n",
    "from sklearn.tree import DecisionTreeClassifier\n",
    "from sklearn.neighbors import KNeighborsClassifier\n",
    "from sklearn.naive_bayes import GaussianNB\n",
    "from lightgbm import LGBMClassifier\n",
    "from sklearn.svm import SVC, LinearSVC\n",
    "from sklearn.ensemble import RandomForestClassifier, GradientBoostingClassifier, AdaBoostClassifier\n",
    "from sklearn.discriminant_analysis import LinearDiscriminantAnalysis, QuadraticDiscriminantAnalysis\n",
    "from xgboost import XGBClassifier \n",
    "from sklearn.neural_network import MLPClassifier\n",
    "# Evaluation metrics for Classification\n",
    "from sklearn.metrics import accuracy_score, confusion_matrix, precision_score, recall_score, f1_score, classification_report, roc_auc_score, roc_curve, precision_recall_curve, average_precision_score\n",
    "\n",
    "# Regression\n",
    "from sklearn.linear_model import LinearRegression,Ridge,Lasso,RidgeCV,ElasticNet,LogisticRegression\n",
    "from sklearn.ensemble import RandomForestRegressor,BaggingRegressor,GradientBoostingRegressor,AdaBoostRegressor\n",
    "from sklearn.svm import SVR\n",
    "from sklearn.neighbors import KNeighborsRegressor\n",
    "from sklearn.neural_network import MLPRegressor\n",
    "from xgboost import XGBRegressor\n",
    "# Evaluation metrics for Regression \n",
    "from sklearn.metrics import mean_squared_log_error, mean_squared_error, r2_score, mean_absolute_error\n",
    "from sklearn.metrics import (confusion_matrix, classification_report, accuracy_score, roc_auc_score, auc,\n",
    "                             precision_score, recall_score, roc_curve, precision_recall_curve,\n",
    "                             precision_recall_fscore_support, f1_score,\n",
    "                             precision_recall_fscore_support)\n",
    "\n",
    "# to evaluate the models\n",
    "from sklearn.metrics import roc_auc_score\n",
    "from sklearn import metrics\n",
    "\n",
    "pd.pandas.set_option('display.max_columns', None)\n",
    "\n",
    "import warnings\n",
    "warnings.filterwarnings('ignore')"
   ]
  },
  {
   "cell_type": "markdown",
   "metadata": {},
   "source": [
    "# 2. Import data"
   ]
  },
  {
   "cell_type": "code",
   "execution_count": 235,
   "metadata": {},
   "outputs": [
    {
     "data": {
      "text/html": [
       "<div>\n",
       "<style scoped>\n",
       "    .dataframe tbody tr th:only-of-type {\n",
       "        vertical-align: middle;\n",
       "    }\n",
       "\n",
       "    .dataframe tbody tr th {\n",
       "        vertical-align: top;\n",
       "    }\n",
       "\n",
       "    .dataframe thead th {\n",
       "        text-align: right;\n",
       "    }\n",
       "</style>\n",
       "<table border=\"1\" class=\"dataframe\">\n",
       "  <thead>\n",
       "    <tr style=\"text-align: right;\">\n",
       "      <th></th>\n",
       "      <th>PassengerId</th>\n",
       "      <th>Survived</th>\n",
       "      <th>Pclass</th>\n",
       "      <th>Name</th>\n",
       "      <th>Sex</th>\n",
       "      <th>Age</th>\n",
       "      <th>SibSp</th>\n",
       "      <th>Parch</th>\n",
       "      <th>Ticket</th>\n",
       "      <th>Fare</th>\n",
       "      <th>Cabin</th>\n",
       "      <th>Embarked</th>\n",
       "    </tr>\n",
       "  </thead>\n",
       "  <tbody>\n",
       "    <tr>\n",
       "      <th>0</th>\n",
       "      <td>1</td>\n",
       "      <td>0</td>\n",
       "      <td>3</td>\n",
       "      <td>Braund, Mr. Owen Harris</td>\n",
       "      <td>male</td>\n",
       "      <td>22.0</td>\n",
       "      <td>1</td>\n",
       "      <td>0</td>\n",
       "      <td>A/5 21171</td>\n",
       "      <td>7.2500</td>\n",
       "      <td>NaN</td>\n",
       "      <td>S</td>\n",
       "    </tr>\n",
       "    <tr>\n",
       "      <th>1</th>\n",
       "      <td>2</td>\n",
       "      <td>1</td>\n",
       "      <td>1</td>\n",
       "      <td>Cumings, Mrs. John Bradley (Florence Briggs Th...</td>\n",
       "      <td>female</td>\n",
       "      <td>38.0</td>\n",
       "      <td>1</td>\n",
       "      <td>0</td>\n",
       "      <td>PC 17599</td>\n",
       "      <td>71.2833</td>\n",
       "      <td>C85</td>\n",
       "      <td>C</td>\n",
       "    </tr>\n",
       "    <tr>\n",
       "      <th>2</th>\n",
       "      <td>3</td>\n",
       "      <td>1</td>\n",
       "      <td>3</td>\n",
       "      <td>Heikkinen, Miss. Laina</td>\n",
       "      <td>female</td>\n",
       "      <td>26.0</td>\n",
       "      <td>0</td>\n",
       "      <td>0</td>\n",
       "      <td>STON/O2. 3101282</td>\n",
       "      <td>7.9250</td>\n",
       "      <td>NaN</td>\n",
       "      <td>S</td>\n",
       "    </tr>\n",
       "    <tr>\n",
       "      <th>3</th>\n",
       "      <td>4</td>\n",
       "      <td>1</td>\n",
       "      <td>1</td>\n",
       "      <td>Futrelle, Mrs. Jacques Heath (Lily May Peel)</td>\n",
       "      <td>female</td>\n",
       "      <td>35.0</td>\n",
       "      <td>1</td>\n",
       "      <td>0</td>\n",
       "      <td>113803</td>\n",
       "      <td>53.1000</td>\n",
       "      <td>C123</td>\n",
       "      <td>S</td>\n",
       "    </tr>\n",
       "    <tr>\n",
       "      <th>4</th>\n",
       "      <td>5</td>\n",
       "      <td>0</td>\n",
       "      <td>3</td>\n",
       "      <td>Allen, Mr. William Henry</td>\n",
       "      <td>male</td>\n",
       "      <td>35.0</td>\n",
       "      <td>0</td>\n",
       "      <td>0</td>\n",
       "      <td>373450</td>\n",
       "      <td>8.0500</td>\n",
       "      <td>NaN</td>\n",
       "      <td>S</td>\n",
       "    </tr>\n",
       "  </tbody>\n",
       "</table>\n",
       "</div>"
      ],
      "text/plain": [
       "   PassengerId  Survived  Pclass  \\\n",
       "0            1         0       3   \n",
       "1            2         1       1   \n",
       "2            3         1       3   \n",
       "3            4         1       1   \n",
       "4            5         0       3   \n",
       "\n",
       "                                                Name     Sex   Age  SibSp  \\\n",
       "0                            Braund, Mr. Owen Harris    male  22.0      1   \n",
       "1  Cumings, Mrs. John Bradley (Florence Briggs Th...  female  38.0      1   \n",
       "2                             Heikkinen, Miss. Laina  female  26.0      0   \n",
       "3       Futrelle, Mrs. Jacques Heath (Lily May Peel)  female  35.0      1   \n",
       "4                           Allen, Mr. William Henry    male  35.0      0   \n",
       "\n",
       "   Parch            Ticket     Fare Cabin Embarked  \n",
       "0      0         A/5 21171   7.2500   NaN        S  \n",
       "1      0          PC 17599  71.2833   C85        C  \n",
       "2      0  STON/O2. 3101282   7.9250   NaN        S  \n",
       "3      0            113803  53.1000  C123        S  \n",
       "4      0            373450   8.0500   NaN        S  "
      ]
     },
     "execution_count": 235,
     "metadata": {},
     "output_type": "execute_result"
    }
   ],
   "source": [
    "# load dataset\n",
    "df = pd.read_csv('Train_Titanic.csv')\n",
    "df.head()"
   ]
  },
  {
   "cell_type": "markdown",
   "metadata": {},
   "source": [
    "# 3. Types of variables\n",
    "\n",
    "To find out what types of variables there are in this dataset"
   ]
  },
  {
   "cell_type": "markdown",
   "metadata": {},
   "source": [
    "## 3.1. Inspect the type of variables "
   ]
  },
  {
   "cell_type": "code",
   "execution_count": 236,
   "metadata": {},
   "outputs": [
    {
     "data": {
      "text/plain": [
       "PassengerId      int64\n",
       "Survived         int64\n",
       "Pclass           int64\n",
       "Name            object\n",
       "Sex             object\n",
       "Age            float64\n",
       "SibSp            int64\n",
       "Parch            int64\n",
       "Ticket          object\n",
       "Fare           float64\n",
       "Cabin           object\n",
       "Embarked        object\n",
       "dtype: object"
      ]
     },
     "execution_count": 236,
     "metadata": {},
     "output_type": "execute_result"
    }
   ],
   "source": [
    "df.dtypes"
   ]
  },
  {
   "cell_type": "markdown",
   "metadata": {},
   "source": [
    "There are a mixture of categorical and numerical variables. Numerical are those of type int and float. Categorical those of type object.\n",
    "+ Numerical vars may include: continous vars, discrete vars, sequence nunber (Id), or wrong format of categorical vars \n",
    "+ Categorical vars may include: text vars, datetime vars, or wrong format of numeric vars \n",
    "\n",
    "At this step, need to categorize to types of vars and have closer examination for problems they may have and clean data approriately"
   ]
  },
  {
   "cell_type": "markdown",
   "metadata": {},
   "source": [
    "## 3.2. Categorize type of variables"
   ]
  },
  {
   "cell_type": "code",
   "execution_count": 237,
   "metadata": {},
   "outputs": [
    {
     "name": "stdout",
     "output_type": "stream",
     "text": [
      "\n",
      "Target var:  ['Survived']\n",
      "\n",
      "Categorical vars:  ['Name', 'Sex', 'Ticket', 'Cabin', 'Embarked']\n",
      "There are 5 categorical variables\n",
      "\n",
      "Numerical vars:  ['PassengerId', 'Pclass', 'Age', 'SibSp', 'Parch', 'Fare']\n",
      "There are 6 numerical variables\n",
      "\n",
      "Discrete vars:  ['Pclass', 'SibSp', 'Parch']\n",
      "There are 3 numerical variables\n",
      "\n",
      "Continous vars:  ['PassengerId', 'Age', 'Fare']\n",
      "There are 3 numerical variables\n"
     ]
    }
   ],
   "source": [
    "## target\n",
    "target = ['Survived']\n",
    "print(\"\\nTarget var: \", target)\n",
    "\n",
    "## cat vars\n",
    "cat_vars = [var for var in df.columns if df[var].dtypes == 'O' if var not in target]\n",
    "print(\"\\nCategorical vars: \", cat_vars)\n",
    "print('There are {} categorical variables'.format(len(cat_vars)))\n",
    "\n",
    "num_vars = [var for var in df.columns if df[var].dtypes != 'O' if var not in target]\n",
    "print(\"\\nNumerical vars: \", num_vars)\n",
    "print('There are {} numerical variables'.format(len(num_vars)))\n",
    "\n",
    "dis_vars = [var for var in num_vars if len(df[var].unique()) < 30]\n",
    "print(\"\\nDiscrete vars: \", dis_vars)\n",
    "print('There are {} numerical variables'.format(len(dis_vars)))\n",
    "\n",
    "cont_vars = [var for var in num_vars if var not in dis_vars]\n",
    "print(\"\\nContinous vars: \", cont_vars)\n",
    "print('There are {} numerical variables'.format(len(cont_vars)))"
   ]
  },
  {
   "cell_type": "markdown",
   "metadata": {},
   "source": [
    "### 3.2.1. Target vars"
   ]
  },
  {
   "cell_type": "markdown",
   "metadata": {},
   "source": [
    "#### Check if there is row with missing labels or incorrect labels"
   ]
  },
  {
   "cell_type": "code",
   "execution_count": 238,
   "metadata": {},
   "outputs": [
    {
     "data": {
      "text/html": [
       "<div>\n",
       "<style scoped>\n",
       "    .dataframe tbody tr th:only-of-type {\n",
       "        vertical-align: middle;\n",
       "    }\n",
       "\n",
       "    .dataframe tbody tr th {\n",
       "        vertical-align: top;\n",
       "    }\n",
       "\n",
       "    .dataframe thead th {\n",
       "        text-align: right;\n",
       "    }\n",
       "</style>\n",
       "<table border=\"1\" class=\"dataframe\">\n",
       "  <thead>\n",
       "    <tr style=\"text-align: right;\">\n",
       "      <th></th>\n",
       "      <th>Survived</th>\n",
       "    </tr>\n",
       "  </thead>\n",
       "  <tbody>\n",
       "    <tr>\n",
       "      <th>count</th>\n",
       "      <td>891.000000</td>\n",
       "    </tr>\n",
       "    <tr>\n",
       "      <th>mean</th>\n",
       "      <td>0.383838</td>\n",
       "    </tr>\n",
       "    <tr>\n",
       "      <th>std</th>\n",
       "      <td>0.486592</td>\n",
       "    </tr>\n",
       "    <tr>\n",
       "      <th>min</th>\n",
       "      <td>0.000000</td>\n",
       "    </tr>\n",
       "    <tr>\n",
       "      <th>25%</th>\n",
       "      <td>0.000000</td>\n",
       "    </tr>\n",
       "    <tr>\n",
       "      <th>50%</th>\n",
       "      <td>0.000000</td>\n",
       "    </tr>\n",
       "    <tr>\n",
       "      <th>75%</th>\n",
       "      <td>1.000000</td>\n",
       "    </tr>\n",
       "    <tr>\n",
       "      <th>max</th>\n",
       "      <td>1.000000</td>\n",
       "    </tr>\n",
       "  </tbody>\n",
       "</table>\n",
       "</div>"
      ],
      "text/plain": [
       "         Survived\n",
       "count  891.000000\n",
       "mean     0.383838\n",
       "std      0.486592\n",
       "min      0.000000\n",
       "25%      0.000000\n",
       "50%      0.000000\n",
       "75%      1.000000\n",
       "max      1.000000"
      ]
     },
     "execution_count": 238,
     "metadata": {},
     "output_type": "execute_result"
    }
   ],
   "source": [
    "df[target].describe()"
   ]
  },
  {
   "cell_type": "markdown",
   "metadata": {},
   "source": [
    "### 3.2.2. Categorical vars"
   ]
  },
  {
   "cell_type": "markdown",
   "metadata": {},
   "source": [
    "#### View of categorical variables"
   ]
  },
  {
   "cell_type": "code",
   "execution_count": 239,
   "metadata": {},
   "outputs": [
    {
     "data": {
      "text/html": [
       "<div>\n",
       "<style scoped>\n",
       "    .dataframe tbody tr th:only-of-type {\n",
       "        vertical-align: middle;\n",
       "    }\n",
       "\n",
       "    .dataframe tbody tr th {\n",
       "        vertical-align: top;\n",
       "    }\n",
       "\n",
       "    .dataframe thead th {\n",
       "        text-align: right;\n",
       "    }\n",
       "</style>\n",
       "<table border=\"1\" class=\"dataframe\">\n",
       "  <thead>\n",
       "    <tr style=\"text-align: right;\">\n",
       "      <th></th>\n",
       "      <th>Name</th>\n",
       "      <th>Sex</th>\n",
       "      <th>Ticket</th>\n",
       "      <th>Cabin</th>\n",
       "      <th>Embarked</th>\n",
       "    </tr>\n",
       "  </thead>\n",
       "  <tbody>\n",
       "    <tr>\n",
       "      <th>0</th>\n",
       "      <td>Braund, Mr. Owen Harris</td>\n",
       "      <td>male</td>\n",
       "      <td>A/5 21171</td>\n",
       "      <td>NaN</td>\n",
       "      <td>S</td>\n",
       "    </tr>\n",
       "    <tr>\n",
       "      <th>1</th>\n",
       "      <td>Cumings, Mrs. John Bradley (Florence Briggs Th...</td>\n",
       "      <td>female</td>\n",
       "      <td>PC 17599</td>\n",
       "      <td>C85</td>\n",
       "      <td>C</td>\n",
       "    </tr>\n",
       "    <tr>\n",
       "      <th>2</th>\n",
       "      <td>Heikkinen, Miss. Laina</td>\n",
       "      <td>female</td>\n",
       "      <td>STON/O2. 3101282</td>\n",
       "      <td>NaN</td>\n",
       "      <td>S</td>\n",
       "    </tr>\n",
       "    <tr>\n",
       "      <th>3</th>\n",
       "      <td>Futrelle, Mrs. Jacques Heath (Lily May Peel)</td>\n",
       "      <td>female</td>\n",
       "      <td>113803</td>\n",
       "      <td>C123</td>\n",
       "      <td>S</td>\n",
       "    </tr>\n",
       "    <tr>\n",
       "      <th>4</th>\n",
       "      <td>Allen, Mr. William Henry</td>\n",
       "      <td>male</td>\n",
       "      <td>373450</td>\n",
       "      <td>NaN</td>\n",
       "      <td>S</td>\n",
       "    </tr>\n",
       "  </tbody>\n",
       "</table>\n",
       "</div>"
      ],
      "text/plain": [
       "                                                Name     Sex  \\\n",
       "0                            Braund, Mr. Owen Harris    male   \n",
       "1  Cumings, Mrs. John Bradley (Florence Briggs Th...  female   \n",
       "2                             Heikkinen, Miss. Laina  female   \n",
       "3       Futrelle, Mrs. Jacques Heath (Lily May Peel)  female   \n",
       "4                           Allen, Mr. William Henry    male   \n",
       "\n",
       "             Ticket Cabin Embarked  \n",
       "0         A/5 21171   NaN        S  \n",
       "1          PC 17599   C85        C  \n",
       "2  STON/O2. 3101282   NaN        S  \n",
       "3            113803  C123        S  \n",
       "4            373450   NaN        S  "
      ]
     },
     "execution_count": 239,
     "metadata": {},
     "output_type": "execute_result"
    }
   ],
   "source": [
    "df[cat_vars].head()"
   ]
  },
  {
   "cell_type": "markdown",
   "metadata": {},
   "source": [
    "**Mixed type of variables**: Cabin and Ticket (value contains both numbers and letters). We could extract the numerical part and then the non-numerical part and generate 2 variables out of them, to see if that adds value to our predictive models."
   ]
  },
  {
   "cell_type": "markdown",
   "metadata": {},
   "source": [
    "#### Inspect cardinality: number of labels"
   ]
  },
  {
   "cell_type": "code",
   "execution_count": 240,
   "metadata": {},
   "outputs": [
    {
     "name": "stdout",
     "output_type": "stream",
     "text": [
      "Name  contains  891  labels\n",
      "Sex  contains  2  labels\n",
      "Ticket  contains  681  labels\n",
      "Cabin  contains  148  labels\n",
      "Embarked  contains  4  labels\n"
     ]
    }
   ],
   "source": [
    "for var in cat_vars:\n",
    "    print(var, ' contains ', len(df[var].unique()), ' labels')"
   ]
  },
  {
   "cell_type": "markdown",
   "metadata": {},
   "source": [
    "+ **High cardinality**: The variables Name, Ticket and Cabin are highly cardinal, i.e., they contain a lot of labels. In addition, those variables are not usable as such, and they require some mannual preprocessing. "
   ]
  },
  {
   "cell_type": "markdown",
   "metadata": {},
   "source": [
    "#### Inspect unique values to check abnormal, special letters"
   ]
  },
  {
   "cell_type": "code",
   "execution_count": 241,
   "metadata": {},
   "outputs": [
    {
     "name": "stdout",
     "output_type": "stream",
     "text": [
      "Sex  values:  ['male' 'female']\n",
      "Embarked  values:  ['S' 'C' 'Q' nan]\n"
     ]
    }
   ],
   "source": [
    "removed_list = ['Ticket','Cabin','Name']\n",
    "selected_list = [e for e in cat_vars if e not in removed_list]\n",
    "\n",
    "for var in selected_list:\n",
    "    print(var, ' values: ', df[var].unique())"
   ]
  },
  {
   "cell_type": "markdown",
   "metadata": {},
   "source": [
    "### 3.2.3. Discrete variables"
   ]
  },
  {
   "cell_type": "markdown",
   "metadata": {},
   "source": [
    "#### View of discrete variables"
   ]
  },
  {
   "cell_type": "code",
   "execution_count": 242,
   "metadata": {},
   "outputs": [
    {
     "data": {
      "text/html": [
       "<div>\n",
       "<style scoped>\n",
       "    .dataframe tbody tr th:only-of-type {\n",
       "        vertical-align: middle;\n",
       "    }\n",
       "\n",
       "    .dataframe tbody tr th {\n",
       "        vertical-align: top;\n",
       "    }\n",
       "\n",
       "    .dataframe thead th {\n",
       "        text-align: right;\n",
       "    }\n",
       "</style>\n",
       "<table border=\"1\" class=\"dataframe\">\n",
       "  <thead>\n",
       "    <tr style=\"text-align: right;\">\n",
       "      <th></th>\n",
       "      <th>Pclass</th>\n",
       "      <th>SibSp</th>\n",
       "      <th>Parch</th>\n",
       "    </tr>\n",
       "  </thead>\n",
       "  <tbody>\n",
       "    <tr>\n",
       "      <th>0</th>\n",
       "      <td>3</td>\n",
       "      <td>1</td>\n",
       "      <td>0</td>\n",
       "    </tr>\n",
       "    <tr>\n",
       "      <th>1</th>\n",
       "      <td>1</td>\n",
       "      <td>1</td>\n",
       "      <td>0</td>\n",
       "    </tr>\n",
       "    <tr>\n",
       "      <th>2</th>\n",
       "      <td>3</td>\n",
       "      <td>0</td>\n",
       "      <td>0</td>\n",
       "    </tr>\n",
       "    <tr>\n",
       "      <th>3</th>\n",
       "      <td>1</td>\n",
       "      <td>1</td>\n",
       "      <td>0</td>\n",
       "    </tr>\n",
       "    <tr>\n",
       "      <th>4</th>\n",
       "      <td>3</td>\n",
       "      <td>0</td>\n",
       "      <td>0</td>\n",
       "    </tr>\n",
       "  </tbody>\n",
       "</table>\n",
       "</div>"
      ],
      "text/plain": [
       "   Pclass  SibSp  Parch\n",
       "0       3      1      0\n",
       "1       1      1      0\n",
       "2       3      0      0\n",
       "3       1      1      0\n",
       "4       3      0      0"
      ]
     },
     "execution_count": 242,
     "metadata": {},
     "output_type": "execute_result"
    }
   ],
   "source": [
    "df[dis_vars].head()"
   ]
  },
  {
   "cell_type": "markdown",
   "metadata": {},
   "source": [
    "=> Create new var 'FamilySize' = 'SibSp' + 'Parch'"
   ]
  },
  {
   "cell_type": "markdown",
   "metadata": {},
   "source": [
    "#### Visualise the values of the discrete variables"
   ]
  },
  {
   "cell_type": "code",
   "execution_count": 243,
   "metadata": {},
   "outputs": [
    {
     "name": "stdout",
     "output_type": "stream",
     "text": [
      "Pclass  values:  [3 1 2]\n",
      "SibSp  values:  [1 0 3 4 2 5 8]\n",
      "Parch  values:  [0 1 2 5 3 4 6]\n"
     ]
    }
   ],
   "source": [
    "for var in ['Pclass',  'SibSp', 'Parch']:\n",
    "    print(var, ' values: ', df[var].unique())"
   ]
  },
  {
   "cell_type": "markdown",
   "metadata": {},
   "source": [
    "=> There is no categorical vars with wrong format"
   ]
  },
  {
   "cell_type": "markdown",
   "metadata": {},
   "source": [
    "### 3.2.3. Continous variables"
   ]
  },
  {
   "cell_type": "markdown",
   "metadata": {},
   "source": [
    "#### View of continous variables"
   ]
  },
  {
   "cell_type": "code",
   "execution_count": 244,
   "metadata": {},
   "outputs": [
    {
     "data": {
      "text/html": [
       "<div>\n",
       "<style scoped>\n",
       "    .dataframe tbody tr th:only-of-type {\n",
       "        vertical-align: middle;\n",
       "    }\n",
       "\n",
       "    .dataframe tbody tr th {\n",
       "        vertical-align: top;\n",
       "    }\n",
       "\n",
       "    .dataframe thead th {\n",
       "        text-align: right;\n",
       "    }\n",
       "</style>\n",
       "<table border=\"1\" class=\"dataframe\">\n",
       "  <thead>\n",
       "    <tr style=\"text-align: right;\">\n",
       "      <th></th>\n",
       "      <th>PassengerId</th>\n",
       "      <th>Age</th>\n",
       "      <th>Fare</th>\n",
       "    </tr>\n",
       "  </thead>\n",
       "  <tbody>\n",
       "    <tr>\n",
       "      <th>0</th>\n",
       "      <td>1</td>\n",
       "      <td>22.0</td>\n",
       "      <td>7.2500</td>\n",
       "    </tr>\n",
       "    <tr>\n",
       "      <th>1</th>\n",
       "      <td>2</td>\n",
       "      <td>38.0</td>\n",
       "      <td>71.2833</td>\n",
       "    </tr>\n",
       "    <tr>\n",
       "      <th>2</th>\n",
       "      <td>3</td>\n",
       "      <td>26.0</td>\n",
       "      <td>7.9250</td>\n",
       "    </tr>\n",
       "    <tr>\n",
       "      <th>3</th>\n",
       "      <td>4</td>\n",
       "      <td>35.0</td>\n",
       "      <td>53.1000</td>\n",
       "    </tr>\n",
       "    <tr>\n",
       "      <th>4</th>\n",
       "      <td>5</td>\n",
       "      <td>35.0</td>\n",
       "      <td>8.0500</td>\n",
       "    </tr>\n",
       "  </tbody>\n",
       "</table>\n",
       "</div>"
      ],
      "text/plain": [
       "   PassengerId   Age     Fare\n",
       "0            1  22.0   7.2500\n",
       "1            2  38.0  71.2833\n",
       "2            3  26.0   7.9250\n",
       "3            4  35.0  53.1000\n",
       "4            5  35.0   8.0500"
      ]
     },
     "execution_count": 244,
     "metadata": {},
     "output_type": "execute_result"
    }
   ],
   "source": [
    "df[cont_vars].head()"
   ]
  },
  {
   "cell_type": "markdown",
   "metadata": {},
   "source": [
    "#### Check PassengerId"
   ]
  },
  {
   "cell_type": "code",
   "execution_count": 245,
   "metadata": {},
   "outputs": [
    {
     "name": "stdout",
     "output_type": "stream",
     "text": [
      "Number of PassengerId labels:  891\n",
      "Number  of passengers on the Titanic:  891\n"
     ]
    }
   ],
   "source": [
    "print('Number of PassengerId labels: ', len(df.PassengerId.unique()))\n",
    "print('Number  of passengers on the Titanic: ', len(df))"
   ]
  },
  {
   "cell_type": "markdown",
   "metadata": {},
   "source": [
    "=> PassengerId is a unique identifier for each of the passengers. Thus this is not a variable that we can use."
   ]
  },
  {
   "cell_type": "markdown",
   "metadata": {},
   "source": [
    "## 3.3. Summary\n",
    "\n",
    "### Overall\n",
    "+ Categorical variables: 5\n",
    "    - 2 Mixed type of variables:  Cabin, Ticket \n",
    "    - 3 categorical vars: Sex, Name, Embarked\n",
    "+ Numerical variables: 6\n",
    "    - 3 discrete: Pclass, SibSp and Parch\n",
    "    - 2 continuous: Fare and Age\n",
    "    - 1 sequence number: Id \n",
    "+ Binary target: 1 (Survived)\n",
    "\n",
    "### Problems\n",
    "+ Sequence number: PassengerId (it is a label for each of the passengers)  => redundant variable, and should be removed\n",
    "+ Mixed type of variable: Cabin and Ticket could be treated as mixed type of variables (numbers and strings)=> Mannual preprocessing (extract numerical part and non-numerical part)\n",
    "+ High cardinality: The variables Name, Ticket and Cabin are highly cardinal, i.e., they contain a lot of labels. In addition, those variables are not usable as such, and they require some mannual preprocessing. "
   ]
  },
  {
   "cell_type": "markdown",
   "metadata": {},
   "source": [
    "# 4. Data Cleaning"
   ]
  },
  {
   "cell_type": "markdown",
   "metadata": {},
   "source": [
    "### 4.2. Remove redundant rows"
   ]
  },
  {
   "cell_type": "markdown",
   "metadata": {},
   "source": [
    "### 4.1. Remove unneccessary cols"
   ]
  },
  {
   "cell_type": "code",
   "execution_count": 246,
   "metadata": {},
   "outputs": [
    {
     "name": "stdout",
     "output_type": "stream",
     "text": [
      "(891, 11)\n"
     ]
    }
   ],
   "source": [
    "removed_vars = ['PassengerId']\n",
    "seleveted_vars = [var for var in df.columns if var not in removed_vars]\n",
    "df = df[seleveted_vars]\n",
    "print(df.shape)"
   ]
  },
  {
   "cell_type": "markdown",
   "metadata": {},
   "source": [
    "### 4.3. Convert wrong format to right format"
   ]
  },
  {
   "cell_type": "code",
   "execution_count": null,
   "metadata": {},
   "outputs": [],
   "source": []
  },
  {
   "cell_type": "markdown",
   "metadata": {},
   "source": [
    "### 4.4. Re-define group of vars"
   ]
  },
  {
   "cell_type": "code",
   "execution_count": 247,
   "metadata": {},
   "outputs": [
    {
     "name": "stdout",
     "output_type": "stream",
     "text": [
      "\n",
      "Target var:  ['Survived']\n",
      "\n",
      "Categorical vars:  ['Name', 'Sex', 'Ticket', 'Cabin', 'Embarked']\n",
      "There are 5 categorical variables\n",
      "\n",
      "Numerical vars:  ['Pclass', 'Age', 'SibSp', 'Parch', 'Fare']\n",
      "There are 5 numerical variables\n",
      "\n",
      "Discrete vars:  ['Pclass', 'SibSp', 'Parch']\n",
      "There are 3 numerical variables\n",
      "\n",
      "Continous vars:  ['Age', 'Fare']\n",
      "There are 2 numerical variables\n"
     ]
    }
   ],
   "source": [
    "## target\n",
    "target = ['Survived']\n",
    "print(\"\\nTarget var: \", target)\n",
    "\n",
    "## cat vars\n",
    "cat_vars = [var for var in df.columns if df[var].dtypes == 'O' if var not in target]\n",
    "print(\"\\nCategorical vars: \", cat_vars)\n",
    "print('There are {} categorical variables'.format(len(cat_vars)))\n",
    "\n",
    "num_vars = [var for var in df.columns if df[var].dtypes != 'O' if var not in target]\n",
    "print(\"\\nNumerical vars: \", num_vars)\n",
    "print('There are {} numerical variables'.format(len(num_vars)))\n",
    "\n",
    "dis_vars = [var for var in num_vars if len(df[var].unique()) < 20]\n",
    "print(\"\\nDiscrete vars: \", dis_vars)\n",
    "print('There are {} numerical variables'.format(len(dis_vars)))\n",
    "\n",
    "cont_vars = [var for var in num_vars if var not in dis_vars]\n",
    "print(\"\\nContinous vars: \", cont_vars)\n",
    "print('There are {} numerical variables'.format(len(cont_vars)))"
   ]
  },
  {
   "cell_type": "code",
   "execution_count": 248,
   "metadata": {},
   "outputs": [
    {
     "data": {
      "text/plain": [
       "Index(['Survived', 'Pclass', 'Name', 'Sex', 'Age', 'SibSp', 'Parch', 'Ticket',\n",
       "       'Fare', 'Cabin', 'Embarked'],\n",
       "      dtype='object')"
      ]
     },
     "execution_count": 248,
     "metadata": {},
     "output_type": "execute_result"
    }
   ],
   "source": [
    "org_vars = df.columns\n",
    "org_vars"
   ]
  },
  {
   "cell_type": "markdown",
   "metadata": {},
   "source": [
    "### 4.5. Reset index"
   ]
  },
  {
   "cell_type": "code",
   "execution_count": 249,
   "metadata": {},
   "outputs": [
    {
     "data": {
      "text/plain": [
       "(891, 11)"
      ]
     },
     "execution_count": 249,
     "metadata": {},
     "output_type": "execute_result"
    }
   ],
   "source": [
    "df = df.reset_index(drop = True)\n",
    "df.shape"
   ]
  },
  {
   "cell_type": "markdown",
   "metadata": {},
   "source": [
    "# 5. Feature Engineering"
   ]
  },
  {
   "cell_type": "code",
   "execution_count": 250,
   "metadata": {},
   "outputs": [],
   "source": [
    "new_vars = []"
   ]
  },
  {
   "cell_type": "markdown",
   "metadata": {},
   "source": [
    "## 5.2. Pre-processing of mixed type of variables\n",
    "\n",
    "The variables Cabin and Ticket contain both numbers and letters => create 2 variables for each extracting the numerical and categorical part."
   ]
  },
  {
   "cell_type": "markdown",
   "metadata": {},
   "source": [
    "#### Cabin"
   ]
  },
  {
   "cell_type": "code",
   "execution_count": 251,
   "metadata": {},
   "outputs": [
    {
     "data": {
      "text/html": [
       "<div>\n",
       "<style scoped>\n",
       "    .dataframe tbody tr th:only-of-type {\n",
       "        vertical-align: middle;\n",
       "    }\n",
       "\n",
       "    .dataframe tbody tr th {\n",
       "        vertical-align: top;\n",
       "    }\n",
       "\n",
       "    .dataframe thead th {\n",
       "        text-align: right;\n",
       "    }\n",
       "</style>\n",
       "<table border=\"1\" class=\"dataframe\">\n",
       "  <thead>\n",
       "    <tr style=\"text-align: right;\">\n",
       "      <th></th>\n",
       "      <th>Cabin</th>\n",
       "      <th>Cabin_numerical</th>\n",
       "      <th>Cabin_categorical</th>\n",
       "    </tr>\n",
       "  </thead>\n",
       "  <tbody>\n",
       "    <tr>\n",
       "      <th>0</th>\n",
       "      <td>NaN</td>\n",
       "      <td>NaN</td>\n",
       "      <td>NaN</td>\n",
       "    </tr>\n",
       "    <tr>\n",
       "      <th>1</th>\n",
       "      <td>C85</td>\n",
       "      <td>85.0</td>\n",
       "      <td>C</td>\n",
       "    </tr>\n",
       "    <tr>\n",
       "      <th>2</th>\n",
       "      <td>NaN</td>\n",
       "      <td>NaN</td>\n",
       "      <td>NaN</td>\n",
       "    </tr>\n",
       "    <tr>\n",
       "      <th>3</th>\n",
       "      <td>C123</td>\n",
       "      <td>123.0</td>\n",
       "      <td>C</td>\n",
       "    </tr>\n",
       "    <tr>\n",
       "      <th>4</th>\n",
       "      <td>NaN</td>\n",
       "      <td>NaN</td>\n",
       "      <td>NaN</td>\n",
       "    </tr>\n",
       "  </tbody>\n",
       "</table>\n",
       "</div>"
      ],
      "text/plain": [
       "  Cabin  Cabin_numerical Cabin_categorical\n",
       "0   NaN              NaN               NaN\n",
       "1   C85             85.0                 C\n",
       "2   NaN              NaN               NaN\n",
       "3  C123            123.0                 C\n",
       "4   NaN              NaN               NaN"
      ]
     },
     "execution_count": 251,
     "metadata": {},
     "output_type": "execute_result"
    }
   ],
   "source": [
    "# Cabin\n",
    "df['Cabin_numerical'] = df.Cabin.str.extract('(\\d+)') # extracts number from string\n",
    "df['Cabin_numerical'] = df['Cabin_numerical'].astype('float') # parses the above variable to float type\n",
    "\n",
    "df['Cabin_categorical'] = df['Cabin'].str[0] # captures first letter of string (the letter of the cabin)\n",
    "\n",
    "df[['Cabin', 'Cabin_numerical', 'Cabin_categorical']].head()"
   ]
  },
  {
   "cell_type": "code",
   "execution_count": 252,
   "metadata": {},
   "outputs": [
    {
     "data": {
      "text/plain": [
       "array([nan, 'C', 'E', 'G', 'D', 'A', 'B', 'F', 'T'], dtype=object)"
      ]
     },
     "execution_count": 252,
     "metadata": {},
     "output_type": "execute_result"
    }
   ],
   "source": [
    "# Explore the ticket categorical part a bit further\n",
    "df.Cabin_categorical.unique()"
   ]
  },
  {
   "cell_type": "code",
   "execution_count": 253,
   "metadata": {},
   "outputs": [],
   "source": [
    "# drop the original variable\n",
    "df.drop(labels='Cabin', inplace=True, axis=1)"
   ]
  },
  {
   "cell_type": "markdown",
   "metadata": {},
   "source": [
    "#### Ticket"
   ]
  },
  {
   "cell_type": "code",
   "execution_count": 254,
   "metadata": {},
   "outputs": [
    {
     "data": {
      "text/html": [
       "<div>\n",
       "<style scoped>\n",
       "    .dataframe tbody tr th:only-of-type {\n",
       "        vertical-align: middle;\n",
       "    }\n",
       "\n",
       "    .dataframe tbody tr th {\n",
       "        vertical-align: top;\n",
       "    }\n",
       "\n",
       "    .dataframe thead th {\n",
       "        text-align: right;\n",
       "    }\n",
       "</style>\n",
       "<table border=\"1\" class=\"dataframe\">\n",
       "  <thead>\n",
       "    <tr style=\"text-align: right;\">\n",
       "      <th></th>\n",
       "      <th>Ticket</th>\n",
       "      <th>Ticket_numerical</th>\n",
       "      <th>Ticket_categorical</th>\n",
       "    </tr>\n",
       "  </thead>\n",
       "  <tbody>\n",
       "    <tr>\n",
       "      <th>0</th>\n",
       "      <td>A/5 21171</td>\n",
       "      <td>21171.0</td>\n",
       "      <td>A/5</td>\n",
       "    </tr>\n",
       "    <tr>\n",
       "      <th>1</th>\n",
       "      <td>PC 17599</td>\n",
       "      <td>17599.0</td>\n",
       "      <td>PC</td>\n",
       "    </tr>\n",
       "    <tr>\n",
       "      <th>2</th>\n",
       "      <td>STON/O2. 3101282</td>\n",
       "      <td>3101282.0</td>\n",
       "      <td>STON/O2.</td>\n",
       "    </tr>\n",
       "    <tr>\n",
       "      <th>3</th>\n",
       "      <td>113803</td>\n",
       "      <td>113803.0</td>\n",
       "      <td>NaN</td>\n",
       "    </tr>\n",
       "    <tr>\n",
       "      <th>4</th>\n",
       "      <td>373450</td>\n",
       "      <td>373450.0</td>\n",
       "      <td>NaN</td>\n",
       "    </tr>\n",
       "  </tbody>\n",
       "</table>\n",
       "</div>"
      ],
      "text/plain": [
       "             Ticket  Ticket_numerical Ticket_categorical\n",
       "0         A/5 21171           21171.0                A/5\n",
       "1          PC 17599           17599.0                 PC\n",
       "2  STON/O2. 3101282         3101282.0           STON/O2.\n",
       "3            113803          113803.0                NaN\n",
       "4            373450          373450.0                NaN"
      ]
     },
     "execution_count": 254,
     "metadata": {},
     "output_type": "execute_result"
    }
   ],
   "source": [
    "# extract the last bit of ticket as number\n",
    "df['Ticket_numerical'] = df.Ticket.apply(lambda s: s.split()[-1])\n",
    "df['Ticket_numerical'] = np.where(df.Ticket_numerical.str.isdigit(), df.Ticket_numerical, np.nan)\n",
    "df['Ticket_numerical'] = df['Ticket_numerical'].astype('float')\n",
    "\n",
    "# extract the first part of ticket as category\n",
    "df['Ticket_categorical'] = df.Ticket.apply(lambda s: s.split()[0])\n",
    "df['Ticket_categorical'] = np.where(df.Ticket_categorical.str.isdigit(), np.nan, df.Ticket_categorical)\n",
    "\n",
    "df[['Ticket', 'Ticket_numerical', 'Ticket_categorical']].head()"
   ]
  },
  {
   "cell_type": "code",
   "execution_count": 255,
   "metadata": {},
   "outputs": [
    {
     "data": {
      "text/plain": [
       "array(['A/5', 'PC', 'STON/O2.', nan, 'PP', 'A/5.', 'C.A.', 'A./5.',\n",
       "       'SC/Paris', 'S.C./A.4.', 'A/4.', 'CA', 'S.P.', 'S.O.C.', 'SO/C',\n",
       "       'W./C.', 'SOTON/OQ', 'W.E.P.', 'STON/O', 'A4.', 'C', 'SOTON/O.Q.',\n",
       "       'SC/PARIS', 'S.O.P.', 'A.5.', 'Fa', 'CA.', 'LINE', 'F.C.C.', 'W/C',\n",
       "       'SW/PP', 'SCO/W', 'P/PP', 'SC', 'SC/AH', 'A/S', 'A/4', 'WE/P',\n",
       "       'S.W./PP', 'S.O./P.P.', 'F.C.', 'SOTON/O2', 'S.C./PARIS',\n",
       "       'C.A./SOTON'], dtype=object)"
      ]
     },
     "execution_count": 255,
     "metadata": {},
     "output_type": "execute_result"
    }
   ],
   "source": [
    "# let's explore the ticket categorical part a bit further\n",
    "df.Ticket_categorical.unique()"
   ]
  },
  {
   "cell_type": "code",
   "execution_count": 256,
   "metadata": {},
   "outputs": [
    {
     "data": {
      "text/html": [
       "<div>\n",
       "<style scoped>\n",
       "    .dataframe tbody tr th:only-of-type {\n",
       "        vertical-align: middle;\n",
       "    }\n",
       "\n",
       "    .dataframe tbody tr th {\n",
       "        vertical-align: top;\n",
       "    }\n",
       "\n",
       "    .dataframe thead th {\n",
       "        text-align: right;\n",
       "    }\n",
       "</style>\n",
       "<table border=\"1\" class=\"dataframe\">\n",
       "  <thead>\n",
       "    <tr style=\"text-align: right;\">\n",
       "      <th></th>\n",
       "      <th>Ticket_categorical</th>\n",
       "      <th>Ticket_categorical</th>\n",
       "    </tr>\n",
       "  </thead>\n",
       "  <tbody>\n",
       "    <tr>\n",
       "      <th>0</th>\n",
       "      <td>A</td>\n",
       "      <td>A/5</td>\n",
       "    </tr>\n",
       "    <tr>\n",
       "      <th>1</th>\n",
       "      <td>PC</td>\n",
       "      <td>PC</td>\n",
       "    </tr>\n",
       "    <tr>\n",
       "      <th>2</th>\n",
       "      <td>STONO</td>\n",
       "      <td>STON/O2.</td>\n",
       "    </tr>\n",
       "    <tr>\n",
       "      <th>3</th>\n",
       "      <td>nan</td>\n",
       "      <td>NaN</td>\n",
       "    </tr>\n",
       "    <tr>\n",
       "      <th>4</th>\n",
       "      <td>nan</td>\n",
       "      <td>NaN</td>\n",
       "    </tr>\n",
       "    <tr>\n",
       "      <th>...</th>\n",
       "      <td>...</td>\n",
       "      <td>...</td>\n",
       "    </tr>\n",
       "    <tr>\n",
       "      <th>886</th>\n",
       "      <td>nan</td>\n",
       "      <td>NaN</td>\n",
       "    </tr>\n",
       "    <tr>\n",
       "      <th>887</th>\n",
       "      <td>nan</td>\n",
       "      <td>NaN</td>\n",
       "    </tr>\n",
       "    <tr>\n",
       "      <th>888</th>\n",
       "      <td>WC</td>\n",
       "      <td>W./C.</td>\n",
       "    </tr>\n",
       "    <tr>\n",
       "      <th>889</th>\n",
       "      <td>nan</td>\n",
       "      <td>NaN</td>\n",
       "    </tr>\n",
       "    <tr>\n",
       "      <th>890</th>\n",
       "      <td>nan</td>\n",
       "      <td>NaN</td>\n",
       "    </tr>\n",
       "  </tbody>\n",
       "</table>\n",
       "<p>891 rows × 2 columns</p>\n",
       "</div>"
      ],
      "text/plain": [
       "    Ticket_categorical Ticket_categorical\n",
       "0                    A                A/5\n",
       "1                   PC                 PC\n",
       "2                STONO           STON/O2.\n",
       "3                  nan                NaN\n",
       "4                  nan                NaN\n",
       "..                 ...                ...\n",
       "886                nan                NaN\n",
       "887                nan                NaN\n",
       "888                 WC              W./C.\n",
       "889                nan                NaN\n",
       "890                nan                NaN\n",
       "\n",
       "[891 rows x 2 columns]"
      ]
     },
     "execution_count": 256,
     "metadata": {},
     "output_type": "execute_result"
    }
   ],
   "source": [
    "# it contains several labels, some of them seem very similar apart from the punctuation\n",
    "# I will try to reduce this number of labels a bit further\n",
    "\n",
    "# remove non letter characters from string\n",
    "text = df.Ticket_categorical.apply(lambda x: re.sub(\"[^a-zA-Z]\", '', str(x)))\n",
    "\n",
    "# to visualise the output and compare with input\n",
    "pd.concat([text, df.Ticket_categorical], axis=1)"
   ]
  },
  {
   "cell_type": "code",
   "execution_count": 257,
   "metadata": {},
   "outputs": [
    {
     "data": {
      "text/plain": [
       "array(['A', 'PC', 'STONO', 'NAN', 'PP', 'CA', 'SCPARIS', 'SCA', 'SP',\n",
       "       'SOC', 'WC', 'SOTONOQ', 'WEP', 'C', 'SOP', 'FA', 'LINE', 'FCC',\n",
       "       'SWPP', 'SCOW', 'PPP', 'SC', 'SCAH', 'AS', 'SOPP', 'FC', 'SOTONO',\n",
       "       'CASOTON'], dtype=object)"
      ]
     },
     "execution_count": 257,
     "metadata": {},
     "output_type": "execute_result"
    }
   ],
   "source": [
    "# set to upper case: we reduce the number of labels quite a bit\n",
    "text = text.str.upper()\n",
    "text.unique()"
   ]
  },
  {
   "cell_type": "code",
   "execution_count": 258,
   "metadata": {},
   "outputs": [],
   "source": [
    "# process the variable in submission as well\n",
    "df['Ticket_categorical'] = text"
   ]
  },
  {
   "cell_type": "code",
   "execution_count": 259,
   "metadata": {},
   "outputs": [],
   "source": [
    "# drop the original variable\n",
    "df.drop(labels='Ticket', inplace=True, axis=1)"
   ]
  },
  {
   "cell_type": "markdown",
   "metadata": {},
   "source": [
    "## 5.3. Tailored preprocessing / Feature Generation\n",
    "\n",
    "The variable Name contains 891 different values, one for each of the passengers. We wouldn't be able to use this variable as is. However, we can extract some data from it, for example the title. See below."
   ]
  },
  {
   "cell_type": "markdown",
   "metadata": {},
   "source": [
    "### 5.3.1. Extract title from Name"
   ]
  },
  {
   "cell_type": "code",
   "execution_count": 260,
   "metadata": {},
   "outputs": [
    {
     "data": {
      "text/html": [
       "<div>\n",
       "<style scoped>\n",
       "    .dataframe tbody tr th:only-of-type {\n",
       "        vertical-align: middle;\n",
       "    }\n",
       "\n",
       "    .dataframe tbody tr th {\n",
       "        vertical-align: top;\n",
       "    }\n",
       "\n",
       "    .dataframe thead th {\n",
       "        text-align: right;\n",
       "    }\n",
       "</style>\n",
       "<table border=\"1\" class=\"dataframe\">\n",
       "  <thead>\n",
       "    <tr style=\"text-align: right;\">\n",
       "      <th></th>\n",
       "      <th>Name</th>\n",
       "      <th>Title</th>\n",
       "    </tr>\n",
       "  </thead>\n",
       "  <tbody>\n",
       "    <tr>\n",
       "      <th>0</th>\n",
       "      <td>Braund, Mr. Owen Harris</td>\n",
       "      <td>Mr</td>\n",
       "    </tr>\n",
       "    <tr>\n",
       "      <th>1</th>\n",
       "      <td>Cumings, Mrs. John Bradley (Florence Briggs Th...</td>\n",
       "      <td>Mrs</td>\n",
       "    </tr>\n",
       "    <tr>\n",
       "      <th>2</th>\n",
       "      <td>Heikkinen, Miss. Laina</td>\n",
       "      <td>Miss</td>\n",
       "    </tr>\n",
       "    <tr>\n",
       "      <th>3</th>\n",
       "      <td>Futrelle, Mrs. Jacques Heath (Lily May Peel)</td>\n",
       "      <td>Mrs</td>\n",
       "    </tr>\n",
       "    <tr>\n",
       "      <th>4</th>\n",
       "      <td>Allen, Mr. William Henry</td>\n",
       "      <td>Mr</td>\n",
       "    </tr>\n",
       "  </tbody>\n",
       "</table>\n",
       "</div>"
      ],
      "text/plain": [
       "                                                Name Title\n",
       "0                            Braund, Mr. Owen Harris    Mr\n",
       "1  Cumings, Mrs. John Bradley (Florence Briggs Th...   Mrs\n",
       "2                             Heikkinen, Miss. Laina  Miss\n",
       "3       Futrelle, Mrs. Jacques Heath (Lily May Peel)   Mrs\n",
       "4                           Allen, Mr. William Henry    Mr"
      ]
     },
     "execution_count": 260,
     "metadata": {},
     "output_type": "execute_result"
    }
   ],
   "source": [
    "def get_title(passenger):\n",
    "    # extracts the title from the name variable\n",
    "    line = passenger\n",
    "    if re.search('Mrs', line):\n",
    "        return 'Mrs'\n",
    "    elif re.search('Mr', line):\n",
    "        return 'Mr'\n",
    "    elif re.search('Miss', line):\n",
    "        return 'Miss'\n",
    "    elif re.search('Master', line):\n",
    "        return 'Master'\n",
    "    else:\n",
    "        return 'Other'\n",
    "    \n",
    "df['Title'] = df['Name'].apply(get_title)\n",
    "df[['Name', 'Title']].head()"
   ]
  },
  {
   "cell_type": "code",
   "execution_count": 261,
   "metadata": {},
   "outputs": [],
   "source": [
    "# drop the original variable\n",
    "df.drop(labels='Name', inplace=True, axis=1)"
   ]
  },
  {
   "cell_type": "markdown",
   "metadata": {},
   "source": [
    "### 5.3.2. Calculate family size"
   ]
  },
  {
   "cell_type": "code",
   "execution_count": 262,
   "metadata": {},
   "outputs": [
    {
     "name": "stdout",
     "output_type": "stream",
     "text": [
      "1     0.602694\n",
      "2     0.180696\n",
      "3     0.114478\n",
      "4     0.032548\n",
      "6     0.024691\n",
      "5     0.016835\n",
      "7     0.013468\n",
      "11    0.007856\n",
      "8     0.006734\n",
      "Name: Family_size, dtype: float64\n"
     ]
    },
    {
     "data": {
      "text/plain": [
       "<matplotlib.axes._subplots.AxesSubplot at 0x1b880a4dd30>"
      ]
     },
     "execution_count": 262,
     "metadata": {},
     "output_type": "execute_result"
    },
    {
     "data": {
      "image/png": "[encoded data removed]",
      "text/plain": [
       "<Figure size 432x288 with 1 Axes>"
      ]
     },
     "metadata": {
      "needs_background": "light"
     },
     "output_type": "display_data"
    }
   ],
   "source": [
    "# create a variable indicating family size (including the passenger)\n",
    "# sums siblings and parents\n",
    "df['Family_size'] = df['SibSp']+df['Parch']+1\n",
    "\n",
    "print(df.Family_size.value_counts()/ np.float(len(df)))\n",
    "(df.Family_size.value_counts() / np.float(len(df))).plot.bar()"
   ]
  },
  {
   "cell_type": "markdown",
   "metadata": {},
   "source": [
    "The new variable Family size is discrete, because it is the sum of 2 discrete variables. It takes a finite number of values, and large families were rare on the Titanic. In fact, families larger than 7 people were rare, so I will **cap family size at 7**."
   ]
  },
  {
   "cell_type": "markdown",
   "metadata": {},
   "source": [
    "### 5.3.3. Variable indicating if passenger was a mother"
   ]
  },
  {
   "cell_type": "code",
   "execution_count": 263,
   "metadata": {},
   "outputs": [
    {
     "data": {
      "text/html": [
       "<div>\n",
       "<style scoped>\n",
       "    .dataframe tbody tr th:only-of-type {\n",
       "        vertical-align: middle;\n",
       "    }\n",
       "\n",
       "    .dataframe tbody tr th {\n",
       "        vertical-align: top;\n",
       "    }\n",
       "\n",
       "    .dataframe thead th {\n",
       "        text-align: right;\n",
       "    }\n",
       "</style>\n",
       "<table border=\"1\" class=\"dataframe\">\n",
       "  <thead>\n",
       "    <tr style=\"text-align: right;\">\n",
       "      <th></th>\n",
       "      <th>Sex</th>\n",
       "      <th>Parch</th>\n",
       "      <th>Age</th>\n",
       "      <th>is_mother</th>\n",
       "    </tr>\n",
       "  </thead>\n",
       "  <tbody>\n",
       "    <tr>\n",
       "      <th>0</th>\n",
       "      <td>male</td>\n",
       "      <td>0</td>\n",
       "      <td>22.0</td>\n",
       "      <td>0</td>\n",
       "    </tr>\n",
       "    <tr>\n",
       "      <th>1</th>\n",
       "      <td>female</td>\n",
       "      <td>0</td>\n",
       "      <td>38.0</td>\n",
       "      <td>0</td>\n",
       "    </tr>\n",
       "    <tr>\n",
       "      <th>2</th>\n",
       "      <td>female</td>\n",
       "      <td>0</td>\n",
       "      <td>26.0</td>\n",
       "      <td>0</td>\n",
       "    </tr>\n",
       "    <tr>\n",
       "      <th>3</th>\n",
       "      <td>female</td>\n",
       "      <td>0</td>\n",
       "      <td>35.0</td>\n",
       "      <td>0</td>\n",
       "    </tr>\n",
       "    <tr>\n",
       "      <th>4</th>\n",
       "      <td>male</td>\n",
       "      <td>0</td>\n",
       "      <td>35.0</td>\n",
       "      <td>0</td>\n",
       "    </tr>\n",
       "  </tbody>\n",
       "</table>\n",
       "</div>"
      ],
      "text/plain": [
       "      Sex  Parch   Age  is_mother\n",
       "0    male      0  22.0          0\n",
       "1  female      0  38.0          0\n",
       "2  female      0  26.0          0\n",
       "3  female      0  35.0          0\n",
       "4    male      0  35.0          0"
      ]
     },
     "execution_count": 263,
     "metadata": {},
     "output_type": "execute_result"
    }
   ],
   "source": [
    "# variable indicating if passenger was a mother\n",
    "df['is_mother'] = np.where((df.Sex =='female')&(df.Parch>=1)&(df.Age>18),1,0)\n",
    "df[['Sex', 'Parch', 'Age', 'is_mother']].head()"
   ]
  },
  {
   "cell_type": "code",
   "execution_count": 264,
   "metadata": {},
   "outputs": [
    {
     "data": {
      "text/html": [
       "<div>\n",
       "<style scoped>\n",
       "    .dataframe tbody tr th:only-of-type {\n",
       "        vertical-align: middle;\n",
       "    }\n",
       "\n",
       "    .dataframe tbody tr th {\n",
       "        vertical-align: top;\n",
       "    }\n",
       "\n",
       "    .dataframe thead th {\n",
       "        text-align: right;\n",
       "    }\n",
       "</style>\n",
       "<table border=\"1\" class=\"dataframe\">\n",
       "  <thead>\n",
       "    <tr style=\"text-align: right;\">\n",
       "      <th></th>\n",
       "      <th>Sex</th>\n",
       "      <th>Parch</th>\n",
       "      <th>Age</th>\n",
       "      <th>is_mother</th>\n",
       "    </tr>\n",
       "  </thead>\n",
       "  <tbody>\n",
       "    <tr>\n",
       "      <th>8</th>\n",
       "      <td>female</td>\n",
       "      <td>2</td>\n",
       "      <td>27.0</td>\n",
       "      <td>1</td>\n",
       "    </tr>\n",
       "    <tr>\n",
       "      <th>25</th>\n",
       "      <td>female</td>\n",
       "      <td>5</td>\n",
       "      <td>38.0</td>\n",
       "      <td>1</td>\n",
       "    </tr>\n",
       "    <tr>\n",
       "      <th>88</th>\n",
       "      <td>female</td>\n",
       "      <td>2</td>\n",
       "      <td>23.0</td>\n",
       "      <td>1</td>\n",
       "    </tr>\n",
       "    <tr>\n",
       "      <th>98</th>\n",
       "      <td>female</td>\n",
       "      <td>1</td>\n",
       "      <td>34.0</td>\n",
       "      <td>1</td>\n",
       "    </tr>\n",
       "    <tr>\n",
       "      <th>136</th>\n",
       "      <td>female</td>\n",
       "      <td>2</td>\n",
       "      <td>19.0</td>\n",
       "      <td>1</td>\n",
       "    </tr>\n",
       "  </tbody>\n",
       "</table>\n",
       "</div>"
      ],
      "text/plain": [
       "        Sex  Parch   Age  is_mother\n",
       "8    female      2  27.0          1\n",
       "25   female      5  38.0          1\n",
       "88   female      2  23.0          1\n",
       "98   female      1  34.0          1\n",
       "136  female      2  19.0          1"
      ]
     },
     "execution_count": 264,
     "metadata": {},
     "output_type": "execute_result"
    }
   ],
   "source": [
    "df.loc[df.is_mother==1, ['Sex', 'Parch', 'Age', 'is_mother']].head()"
   ]
  },
  {
   "cell_type": "code",
   "execution_count": 265,
   "metadata": {},
   "outputs": [
    {
     "name": "stdout",
     "output_type": "stream",
     "text": [
      "there were 64 mothers in the Titanic\n"
     ]
    }
   ],
   "source": [
    "print('there were {} mothers in the Titanic'.format(df.is_mother.sum()))"
   ]
  },
  {
   "cell_type": "markdown",
   "metadata": {},
   "source": [
    "## 5.1. Feature Transformation"
   ]
  },
  {
   "cell_type": "markdown",
   "metadata": {},
   "source": [
    "### 5.1.1. Gaussian Transformation"
   ]
  },
  {
   "cell_type": "markdown",
   "metadata": {},
   "source": [
    "#### Log transaform"
   ]
  },
  {
   "cell_type": "code",
   "execution_count": null,
   "metadata": {},
   "outputs": [],
   "source": []
  },
  {
   "cell_type": "code",
   "execution_count": null,
   "metadata": {},
   "outputs": [],
   "source": []
  },
  {
   "cell_type": "markdown",
   "metadata": {},
   "source": [
    "## 5.4. Re-define group of vars"
   ]
  },
  {
   "cell_type": "code",
   "execution_count": 266,
   "metadata": {},
   "outputs": [
    {
     "name": "stdout",
     "output_type": "stream",
     "text": [
      "\n",
      "Target var:  ['Survived']\n",
      "\n",
      "Categorical vars:  ['Sex', 'Embarked', 'Cabin_categorical', 'Ticket_categorical', 'Title']\n",
      "There are 5 categorical variables\n",
      "\n",
      "Numerical vars:  ['Pclass', 'Age', 'SibSp', 'Parch', 'Fare', 'Cabin_numerical', 'Ticket_numerical', 'Family_size', 'is_mother']\n",
      "There are 9 numerical variables\n",
      "\n",
      "Discrete vars:  ['Pclass', 'SibSp', 'Parch', 'Family_size', 'is_mother']\n",
      "There are 5 numerical variables\n",
      "\n",
      "Continous vars:  ['Age', 'Fare', 'Cabin_numerical', 'Ticket_numerical']\n",
      "There are 4 numerical variables\n"
     ]
    }
   ],
   "source": [
    "## target\n",
    "target = ['Survived']\n",
    "print(\"\\nTarget var: \", target)\n",
    "\n",
    "## cat vars\n",
    "cat_vars = [var for var in df.columns if df[var].dtypes == 'O' if var not in target]\n",
    "print(\"\\nCategorical vars: \", cat_vars)\n",
    "print('There are {} categorical variables'.format(len(cat_vars)))\n",
    "\n",
    "num_vars = [var for var in df.columns if df[var].dtypes != 'O' if var not in target]\n",
    "print(\"\\nNumerical vars: \", num_vars)\n",
    "print('There are {} numerical variables'.format(len(num_vars)))\n",
    "\n",
    "dis_vars = [var for var in num_vars if len(df[var].unique()) < 20]\n",
    "print(\"\\nDiscrete vars: \", dis_vars)\n",
    "print('There are {} numerical variables'.format(len(dis_vars)))\n",
    "\n",
    "cont_vars = [var for var in num_vars if var not in dis_vars]\n",
    "print(\"\\nContinous vars: \", cont_vars)\n",
    "print('There are {} numerical variables'.format(len(cont_vars)))"
   ]
  },
  {
   "cell_type": "code",
   "execution_count": null,
   "metadata": {},
   "outputs": [],
   "source": []
  },
  {
   "cell_type": "markdown",
   "metadata": {},
   "source": [
    "# 7. Data Preprocessing"
   ]
  },
  {
   "cell_type": "markdown",
   "metadata": {},
   "source": [
    "## 7.1. Separate train and test set"
   ]
  },
  {
   "cell_type": "code",
   "execution_count": 267,
   "metadata": {},
   "outputs": [
    {
     "data": {
      "text/plain": [
       "((668, 15), (223, 15))"
      ]
     },
     "execution_count": 267,
     "metadata": {},
     "output_type": "execute_result"
    }
   ],
   "source": [
    "# Let's separate into train and test set\n",
    "\n",
    "X_train, X_test, y_train, y_test = train_test_split(df, df.Survived, test_size=0.25, random_state=0, stratify = df.Survived)\n",
    "X_train.shape, X_test.shape"
   ]
  },
  {
   "cell_type": "code",
   "execution_count": 268,
   "metadata": {},
   "outputs": [
    {
     "name": "stdout",
     "output_type": "stream",
     "text": [
      "0.38323353293413176\n",
      "0.38565022421524664\n"
     ]
    }
   ],
   "source": [
    "print(y_train.sum()/y_train.count())\n",
    "print(y_test.sum()/y_test.count())"
   ]
  },
  {
   "cell_type": "markdown",
   "metadata": {},
   "source": [
    "## 7.2. Engineering missing values"
   ]
  },
  {
   "cell_type": "markdown",
   "metadata": {},
   "source": [
    "### 7.2.1. Numerical variables"
   ]
  },
  {
   "cell_type": "markdown",
   "metadata": {},
   "source": [
    "#### Variables with missing data"
   ]
  },
  {
   "cell_type": "code",
   "execution_count": 269,
   "metadata": {},
   "outputs": [
    {
     "name": "stdout",
     "output_type": "stream",
     "text": [
      "Age 0.20359281437125748\n",
      "Cabin_numerical 0.7754491017964071\n",
      "Ticket_numerical 0.004491017964071856\n"
     ]
    }
   ],
   "source": [
    "for col in num_vars:\n",
    "    if X_train[col].isnull().mean()>0:\n",
    "        print(col, X_train[col].isnull().mean())"
   ]
  },
  {
   "cell_type": "markdown",
   "metadata": {},
   "source": [
    "- Age and ticket contains < 50% NA: create additional variable with NA + random sample imputation\n",
    "- Cabin_numerical contains > 50% NA: impute NA by value far in the distribution"
   ]
  },
  {
   "cell_type": "markdown",
   "metadata": {},
   "source": [
    "#### Define function"
   ]
  },
  {
   "cell_type": "code",
   "execution_count": 270,
   "metadata": {},
   "outputs": [],
   "source": [
    "def impute_na(X_train, df, variable):\n",
    "    # make temporary df copy\n",
    "    temp = df.copy()\n",
    "    \n",
    "    # extract random from train set to fill the na\n",
    "    random_sample = X_train[variable].dropna().sample(temp[variable].isnull().sum(), random_state=0)\n",
    "    \n",
    "    # pandas needs to have the same index in order to merge datasets\n",
    "    random_sample.index = temp[temp[variable].isnull()].index\n",
    "    temp.loc[temp[variable].isnull(), variable] = random_sample\n",
    "    return temp[variable]"
   ]
  },
  {
   "cell_type": "markdown",
   "metadata": {},
   "source": [
    "#### Examine mean of 2 classes before processing filling missing data"
   ]
  },
  {
   "cell_type": "code",
   "execution_count": 271,
   "metadata": {},
   "outputs": [
    {
     "name": "stdout",
     "output_type": "stream",
     "text": [
      "===============================================================\n",
      "Age\n",
      "===============================================================\n",
      "          count       mean        std   min   25%   50%   75%   max\n",
      "Survived                                                           \n",
      "0         315.0  30.580952  14.252130  1.00  21.0  29.0  39.0  74.0\n",
      "1         217.0  28.658618  14.758553  0.42  19.0  28.0  36.0  80.0\n",
      "===============================================================\n",
      "Ticket_numerical\n",
      "===============================================================\n",
      "          count           mean            std    min      25%       50%  \\\n",
      "Survived                                                                  \n",
      "0         410.0  376287.790244  754471.056224    3.0  17265.5  238794.5   \n",
      "1         255.0  226145.494118  595809.896335  751.0  14312.5   29750.0   \n",
      "\n",
      "               75%        max  \n",
      "Survived                       \n",
      "0         349232.5  3101317.0  \n",
      "1         237702.0  3101288.0  \n"
     ]
    }
   ],
   "source": [
    "for col in ['Age', 'Ticket_numerical']:\n",
    "    print('===============================================================')\n",
    "    print(col)\n",
    "    print('===============================================================')\n",
    "    print(X_train.groupby(target)[col].describe())"
   ]
  },
  {
   "cell_type": "code",
   "execution_count": 272,
   "metadata": {},
   "outputs": [],
   "source": [
    "# Age and ticket\n",
    "# add variable indicating missingness\n",
    "for df in [X_train, X_test]:\n",
    "    for var in ['Age', 'Ticket_numerical']:\n",
    "        df[var+'_NA'] = np.where(df[var].isnull(), 1, 0)\n",
    "    \n",
    "# replace by random sampling\n",
    "for df in [X_train, X_test]:\n",
    "    for var in ['Age', 'Ticket_numerical']:\n",
    "        df[var] = impute_na(X_train, df, var)\n",
    "    \n",
    "# Cabin numerical\n",
    "extreme = X_train.Cabin_numerical.mean() + X_train.Cabin_numerical.std()*3\n",
    "for df in [X_train, X_test]:\n",
    "    df.Cabin_numerical.fillna(extreme, inplace=True)"
   ]
  },
  {
   "cell_type": "markdown",
   "metadata": {},
   "source": [
    "#### Post check to evaluate mean"
   ]
  },
  {
   "cell_type": "code",
   "execution_count": 273,
   "metadata": {},
   "outputs": [
    {
     "name": "stdout",
     "output_type": "stream",
     "text": [
      "===============================================================\n",
      "Age\n",
      "===============================================================\n",
      "          count       mean        std   min   25%   50%    75%   max\n",
      "Survived                                                            \n",
      "0         412.0  30.846286  14.089622  0.67  21.0  29.0  39.00  74.0\n",
      "1         256.0  28.606133  14.705995  0.42  19.0  28.0  36.25  80.0\n",
      "===============================================================\n",
      "Ticket_numerical\n",
      "===============================================================\n",
      "          count           mean            std    min       25%       50%  \\\n",
      "Survived                                                                   \n",
      "0         412.0  375059.463592  752886.474185    3.0  16679.25  238794.5   \n",
      "1         256.0  226617.843750  594688.518787  751.0  14312.75   30388.0   \n",
      "\n",
      "                75%        max  \n",
      "Survived                        \n",
      "0         349231.50  3101317.0  \n",
      "1         238534.25  3101288.0  \n"
     ]
    }
   ],
   "source": [
    "for col in ['Age', 'Ticket_numerical']:\n",
    "    print('===============================================================')\n",
    "    print(col)\n",
    "    print('===============================================================')\n",
    "    print(X_train.groupby(target)[col].describe())"
   ]
  },
  {
   "cell_type": "markdown",
   "metadata": {},
   "source": [
    "### 7.2.2. Categorical variables"
   ]
  },
  {
   "cell_type": "markdown",
   "metadata": {},
   "source": [
    "#### Variables with missing data"
   ]
  },
  {
   "cell_type": "code",
   "execution_count": 274,
   "metadata": {},
   "outputs": [
    {
     "name": "stdout",
     "output_type": "stream",
     "text": [
      "Embarked 0.0029940119760479044\n",
      "Cabin_categorical 0.7709580838323353\n"
     ]
    }
   ],
   "source": [
    "# print variables with missing data\n",
    "for col in cat_vars:\n",
    "    if X_train[col].isnull().mean()>0:\n",
    "        print(col, X_train[col].isnull().mean())"
   ]
  },
  {
   "cell_type": "markdown",
   "metadata": {},
   "source": [
    "- Embarked NA imputed by most frequent category, because NA is low\n",
    "- Cabin_categorical imputed by 'Missing', because NA is high"
   ]
  },
  {
   "cell_type": "markdown",
   "metadata": {},
   "source": [
    "#### Filling missing data"
   ]
  },
  {
   "cell_type": "code",
   "execution_count": 275,
   "metadata": {},
   "outputs": [],
   "source": [
    "# add label indicating 'Missing' to Cabin categorical\n",
    "# or replace by most frequent label in Embarked\n",
    "\n",
    "for df in [X_train, X_test]:\n",
    "    df['Embarked'].fillna(X_train['Embarked'].mode()[0], inplace=True)\n",
    "    df['Cabin_categorical'].fillna('Missing', inplace=True)"
   ]
  },
  {
   "cell_type": "markdown",
   "metadata": {},
   "source": [
    "### 7.2.3. Recheck missing data"
   ]
  },
  {
   "cell_type": "code",
   "execution_count": 276,
   "metadata": {},
   "outputs": [
    {
     "data": {
      "text/plain": [
       "Survived               0\n",
       "Pclass                 0\n",
       "Sex                    0\n",
       "Age                    0\n",
       "SibSp                  0\n",
       "Parch                  0\n",
       "Fare                   0\n",
       "Embarked               0\n",
       "Cabin_numerical        0\n",
       "Cabin_categorical      0\n",
       "Ticket_numerical       0\n",
       "Ticket_categorical     0\n",
       "Title                  0\n",
       "Family_size            0\n",
       "is_mother              0\n",
       "Age_NA                 0\n",
       "Ticket_numerical_NA    0\n",
       "dtype: int64"
      ]
     },
     "execution_count": 276,
     "metadata": {},
     "output_type": "execute_result"
    }
   ],
   "source": [
    "# check absence of null values\n",
    "X_train.isnull().sum()"
   ]
  },
  {
   "cell_type": "code",
   "execution_count": 277,
   "metadata": {},
   "outputs": [
    {
     "data": {
      "text/plain": [
       "Survived               0\n",
       "Pclass                 0\n",
       "Sex                    0\n",
       "Age                    0\n",
       "SibSp                  0\n",
       "Parch                  0\n",
       "Fare                   0\n",
       "Embarked               0\n",
       "Cabin_numerical        0\n",
       "Cabin_categorical      0\n",
       "Ticket_numerical       0\n",
       "Ticket_categorical     0\n",
       "Title                  0\n",
       "Family_size            0\n",
       "is_mother              0\n",
       "Age_NA                 0\n",
       "Ticket_numerical_NA    0\n",
       "dtype: int64"
      ]
     },
     "execution_count": 277,
     "metadata": {},
     "output_type": "execute_result"
    }
   ],
   "source": [
    "X_test.isnull().sum()"
   ]
  },
  {
   "cell_type": "markdown",
   "metadata": {},
   "source": [
    "## 7.3. Handling outliers\n",
    "\n",
    "As I was analysing the outliers at the beginning of the notebook, I was taking a note on the preprocessing that I thought would be more convenient for each one of them. The notes are summarised here:\n",
    "\n",
    "- Age: top-coding (73)\n",
    "- Fare: equal frequency binning\n",
    "- Sibsp: top-coding (4)\n",
    "- Parch: top-coding (2)\n",
    "- Family Size: top-coding (7)\n",
    "- Ticket_number: equal frequency binning"
   ]
  },
  {
   "cell_type": "markdown",
   "metadata": {},
   "source": [
    "### 7.3.1. Top-coding method"
   ]
  },
  {
   "cell_type": "code",
   "execution_count": 278,
   "metadata": {},
   "outputs": [],
   "source": [
    "def top_code(df, variable, top):\n",
    "    return np.where(df[variable]>top, top, df[variable])\n",
    "\n",
    "for df in [X_train, X_test]:\n",
    "    df['Age'] = top_code(df, 'Age', 73)\n",
    "    df['SibSp'] = top_code(df, 'SibSp', 4)\n",
    "    df['Parch'] = top_code(df, 'Parch', 2)\n",
    "    df['Family_size'] = top_code(df, 'Family_size', 7)"
   ]
  },
  {
   "cell_type": "code",
   "execution_count": 279,
   "metadata": {},
   "outputs": [
    {
     "name": "stdout",
     "output_type": "stream",
     "text": [
      "Age  max value:  73.0\n",
      "SibSp  max value:  4\n",
      "Parch  max value:  2\n",
      "Family_size  max value:  7\n"
     ]
    }
   ],
   "source": [
    "# let's check that it worked\n",
    "for var in ['Age',  'SibSp', 'Parch', 'Family_size']:\n",
    "    print(var, ' max value: ', X_train[var].max())"
   ]
  },
  {
   "cell_type": "markdown",
   "metadata": {},
   "source": [
    "### 7.3.2. Equal frequency binning"
   ]
  },
  {
   "cell_type": "markdown",
   "metadata": {},
   "source": [
    "#### Fare"
   ]
  },
  {
   "cell_type": "code",
   "execution_count": 280,
   "metadata": {},
   "outputs": [],
   "source": [
    "# find quantiles and discretise train set\n",
    "X_train['Fare'], bins = pd.qcut(x=X_train['Fare'], q=8, retbins=True, precision=3, duplicates='raise')\n",
    "X_test['Fare'] = pd.cut(x = X_test['Fare'], bins=bins, include_lowest=True)"
   ]
  },
  {
   "cell_type": "code",
   "execution_count": 281,
   "metadata": {},
   "outputs": [
    {
     "data": {
      "text/plain": [
       "<matplotlib.axes._subplots.AxesSubplot at 0x1b880a5def0>"
      ]
     },
     "execution_count": 281,
     "metadata": {},
     "output_type": "execute_result"
    },
    {
     "data": {
      "image/png": "[encoded data removed]",
      "text/plain": [
       "<Figure size 864x432 with 1 Axes>"
      ]
     },
     "metadata": {
      "needs_background": "light"
     },
     "output_type": "display_data"
    }
   ],
   "source": [
    "t1 = X_train.groupby(['Fare'])['Fare'].count() / np.float(len(X_train))\n",
    "t2 = X_test.groupby(['Fare'])['Fare'].count() / np.float(len(X_test))\n",
    "\n",
    "temp = pd.concat([t1,t2], axis=1)\n",
    "temp.columns = ['train', 'test']\n",
    "temp.plot.bar(figsize=(12,6))"
   ]
  },
  {
   "cell_type": "code",
   "execution_count": 282,
   "metadata": {},
   "outputs": [
    {
     "data": {
      "text/plain": [
       "[(30.5, 70.456], (9.5, 14.454], (24.15, 30.5], (7.75, 7.925], (-0.001, 7.75], (14.454, 24.15], (70.456, 512.329], (7.925, 9.5]]\n",
       "Categories (8, interval[float64]): [(-0.001, 7.75] < (7.75, 7.925] < (7.925, 9.5] < (9.5, 14.454] < (14.454, 24.15] < (24.15, 30.5] < (30.5, 70.456] < (70.456, 512.329]]"
      ]
     },
     "execution_count": 282,
     "metadata": {},
     "output_type": "execute_result"
    }
   ],
   "source": [
    "# inspect the ticket bins in training set\n",
    "X_train.Fare.unique()"
   ]
  },
  {
   "cell_type": "markdown",
   "metadata": {},
   "source": [
    "#### Ticket_numerical"
   ]
  },
  {
   "cell_type": "code",
   "execution_count": 283,
   "metadata": {},
   "outputs": [],
   "source": [
    "# find quantiles and discretise train set\n",
    "X_train['Ticket_numerical'], bins = pd.qcut(x=X_train['Ticket_numerical'], q=8, retbins=True, precision=3, duplicates='raise')\n",
    "X_test['Ticket_numerical'] = pd.cut(x = X_test['Ticket_numerical'], bins=bins, include_lowest=True)"
   ]
  },
  {
   "cell_type": "code",
   "execution_count": 284,
   "metadata": {},
   "outputs": [
    {
     "data": {
      "text/plain": [
       "0"
      ]
     },
     "execution_count": 284,
     "metadata": {},
     "output_type": "execute_result"
    }
   ],
   "source": [
    "X_test.Ticket_numerical.isnull().sum()"
   ]
  },
  {
   "cell_type": "code",
   "execution_count": 285,
   "metadata": {},
   "outputs": [
    {
     "data": {
      "text/plain": [
       "[(2743.5, 14883.5], (248720.875, 347082.0], (347082.0, 366336.625], (111739.0, 248720.875], (2.999, 2743.5], (14883.5, 24579.125], (366336.625, 3101317.0], (24579.125, 111739.0]]\n",
       "Categories (8, interval[float64]): [(2.999, 2743.5] < (2743.5, 14883.5] < (14883.5, 24579.125] < (24579.125, 111739.0] < (111739.0, 248720.875] < (248720.875, 347082.0] < (347082.0, 366336.625] < (366336.625, 3101317.0]]"
      ]
     },
     "execution_count": 285,
     "metadata": {},
     "output_type": "execute_result"
    }
   ],
   "source": [
    "# inspect the ticket bins in training set\n",
    "X_train.Ticket_numerical.unique()"
   ]
  },
  {
   "cell_type": "markdown",
   "metadata": {},
   "source": [
    "## 7.4. Engineering rare labels in categorical variables"
   ]
  },
  {
   "cell_type": "code",
   "execution_count": 286,
   "metadata": {
    "scrolled": true
   },
   "outputs": [
    {
     "name": "stdout",
     "output_type": "stream",
     "text": [
      "Sex male      0.648204\n",
      "female    0.351796\n",
      "Name: Sex, dtype: float64\n",
      "\n",
      "Embarked S    0.732036\n",
      "C    0.185629\n",
      "Q    0.082335\n",
      "Name: Embarked, dtype: float64\n",
      "\n",
      "Cabin_categorical Missing    0.770958\n",
      "C          0.067365\n",
      "B          0.064371\n",
      "D          0.040419\n",
      "E          0.035928\n",
      "F          0.008982\n",
      "A          0.005988\n",
      "G          0.004491\n",
      "T          0.001497\n",
      "Name: Cabin_categorical, dtype: float64\n",
      "\n",
      "Ticket_categorical NAN        0.736527\n",
      "PC         0.068862\n",
      "CA         0.047904\n",
      "A          0.025449\n",
      "STONO      0.025449\n",
      "SOTONOQ    0.019461\n",
      "SCPARIS    0.013473\n",
      "WC         0.010479\n",
      "C          0.005988\n",
      "SOPP       0.004491\n",
      "LINE       0.004491\n",
      "SOC        0.004491\n",
      "WEP        0.002994\n",
      "FCC        0.002994\n",
      "PP         0.002994\n",
      "SOTONO     0.002994\n",
      "SWPP       0.002994\n",
      "PPP        0.002994\n",
      "CASOTON    0.001497\n",
      "SCOW       0.001497\n",
      "SCAH       0.001497\n",
      "AS         0.001497\n",
      "FA         0.001497\n",
      "FC         0.001497\n",
      "SOP        0.001497\n",
      "SCA        0.001497\n",
      "SP         0.001497\n",
      "SC         0.001497\n",
      "Name: Ticket_categorical, dtype: float64\n",
      "\n",
      "Title Mr        0.574850\n",
      "Miss      0.199102\n",
      "Mrs       0.146707\n",
      "Master    0.049401\n",
      "Other     0.029940\n",
      "Name: Title, dtype: float64\n",
      "\n"
     ]
    }
   ],
   "source": [
    "# find unfrequent labels in categorical variables\n",
    "for var in cat_vars:\n",
    "    print(var, X_train[var].value_counts()/np.float(len(X_train)))\n",
    "    print()"
   ]
  },
  {
   "cell_type": "code",
   "execution_count": 287,
   "metadata": {},
   "outputs": [],
   "source": [
    "def rare_imputation(variable, which='rare'):    \n",
    "    # find frequent labels\n",
    "    temp = X_train.groupby([variable])[variable].count()/np.float(len(X_train))\n",
    "    frequent_cat = [x for x in temp.loc[temp>0.01].index.values]\n",
    "    \n",
    "    # create new variables, with Rare labels imputed\n",
    "    if which=='frequent':\n",
    "        # find the most frequent category\n",
    "        mode_label = X_train.groupby(variable)[variable].count().sort_values().tail(1).index.values[0]\n",
    "        X_train[variable] = np.where(X_train[variable].isin(frequent_cat), X_train[variable], mode_label)\n",
    "        X_test[variable] = np.where(X_test[variable].isin(frequent_cat), X_test[variable], mode_label)\n",
    "        #submission[variable] = np.where(submission[variable].isin(frequent_cat), submission[variable], mode_label)\n",
    "    \n",
    "    else:\n",
    "        X_train[variable] = np.where(X_train[variable].isin(frequent_cat), X_train[variable], 'Rare')\n",
    "        X_test[variable] = np.where(X_test[variable].isin(frequent_cat), X_test[variable], 'Rare')\n",
    "        #submission[variable] = np.where(submission[variable].isin(frequent_cat), submission[variable], 'Rare')"
   ]
  },
  {
   "cell_type": "code",
   "execution_count": 288,
   "metadata": {},
   "outputs": [],
   "source": [
    "rare_imputation('Cabin_categorical', 'frequent')\n",
    "rare_imputation('Ticket_categorical', 'rare')"
   ]
  },
  {
   "cell_type": "code",
   "execution_count": 289,
   "metadata": {},
   "outputs": [
    {
     "name": "stdout",
     "output_type": "stream",
     "text": [
      "Sex male      0.648204\n",
      "female    0.351796\n",
      "Name: Sex, dtype: float64\n",
      "\n",
      "Embarked S    0.732036\n",
      "C    0.185629\n",
      "Q    0.082335\n",
      "Name: Embarked, dtype: float64\n",
      "\n",
      "Cabin_categorical Missing    0.791916\n",
      "C          0.067365\n",
      "B          0.064371\n",
      "D          0.040419\n",
      "E          0.035928\n",
      "Name: Cabin_categorical, dtype: float64\n",
      "\n",
      "Ticket_categorical NAN        0.736527\n",
      "PC         0.068862\n",
      "Rare       0.052395\n",
      "CA         0.047904\n",
      "A          0.025449\n",
      "STONO      0.025449\n",
      "SOTONOQ    0.019461\n",
      "SCPARIS    0.013473\n",
      "WC         0.010479\n",
      "Name: Ticket_categorical, dtype: float64\n",
      "\n",
      "Title Mr        0.574850\n",
      "Miss      0.199102\n",
      "Mrs       0.146707\n",
      "Master    0.049401\n",
      "Other     0.029940\n",
      "Name: Title, dtype: float64\n",
      "\n"
     ]
    }
   ],
   "source": [
    "# let's check that it worked\n",
    "for var in cat_vars:\n",
    "    print(var, X_train[var].value_counts()/np.float(len(X_train)))\n",
    "    print()"
   ]
  },
  {
   "cell_type": "markdown",
   "metadata": {},
   "source": [
    "# 8. Encode categorical variables"
   ]
  },
  {
   "cell_type": "code",
   "execution_count": 290,
   "metadata": {},
   "outputs": [
    {
     "data": {
      "text/plain": [
       "['Sex', 'Embarked', 'Cabin_categorical', 'Ticket_categorical', 'Title']"
      ]
     },
     "execution_count": 290,
     "metadata": {},
     "output_type": "execute_result"
    }
   ],
   "source": [
    "cat_vars"
   ]
  },
  {
   "cell_type": "markdown",
   "metadata": {},
   "source": [
    "- Sex: one hot encoding\n",
    "- Remaining variables: replace by risk probability"
   ]
  },
  {
   "cell_type": "markdown",
   "metadata": {},
   "source": [
    "### 8.1. One hot encoding"
   ]
  },
  {
   "cell_type": "code",
   "execution_count": 291,
   "metadata": {},
   "outputs": [],
   "source": [
    "for df in [X_train, X_test]:\n",
    "    df['Sex']  = pd.get_dummies(df.Sex, drop_first=True)"
   ]
  },
  {
   "cell_type": "code",
   "execution_count": 292,
   "metadata": {},
   "outputs": [
    {
     "data": {
      "text/plain": [
       "array([1, 0], dtype=uint8)"
      ]
     },
     "execution_count": 292,
     "metadata": {},
     "output_type": "execute_result"
    }
   ],
   "source": [
    "X_train.Sex.unique()"
   ]
  },
  {
   "cell_type": "code",
   "execution_count": 293,
   "metadata": {},
   "outputs": [
    {
     "data": {
      "text/plain": [
       "array([1, 0], dtype=uint8)"
      ]
     },
     "execution_count": 293,
     "metadata": {},
     "output_type": "execute_result"
    }
   ],
   "source": [
    "X_test.Sex.unique()"
   ]
  },
  {
   "cell_type": "code",
   "execution_count": 294,
   "metadata": {},
   "outputs": [
    {
     "data": {
      "text/plain": [
       "['Embarked', 'Cabin_categorical', 'Ticket_categorical', 'Title']"
      ]
     },
     "execution_count": 294,
     "metadata": {},
     "output_type": "execute_result"
    }
   ],
   "source": [
    "cat_vars = [var for var in cat_vars if var not in ['Sex']]\n",
    "cat_vars"
   ]
  },
  {
   "cell_type": "markdown",
   "metadata": {},
   "source": [
    "### 8.2. Replace by risk probability"
   ]
  },
  {
   "cell_type": "code",
   "execution_count": 295,
   "metadata": {},
   "outputs": [],
   "source": [
    "def encode_categorical_variables(var, target):\n",
    "        # make label to risk dictionary\n",
    "        ordered_labels = X_train.groupby([var])[target].mean().to_dict()\n",
    "        \n",
    "        # encode variables\n",
    "        X_train[var] = X_train[var].map(ordered_labels)\n",
    "        X_test[var] = X_test[var].map(ordered_labels)\n",
    "\n",
    "# enccode labels in categorical vars\n",
    "for var in cat_vars:\n",
    "    encode_categorical_variables(var, 'Survived')"
   ]
  },
  {
   "cell_type": "markdown",
   "metadata": {},
   "source": [
    "### 8.3. Parse discretised variables to object before encoding"
   ]
  },
  {
   "cell_type": "code",
   "execution_count": 296,
   "metadata": {},
   "outputs": [],
   "source": [
    "# parse discretised variables to object before encoding\n",
    "for df in [X_train, X_test]:\n",
    "    df.Fare = df.Fare.astype('O')\n",
    "    df.Ticket_numerical = df.Ticket_numerical.astype('O')"
   ]
  },
  {
   "cell_type": "code",
   "execution_count": 297,
   "metadata": {},
   "outputs": [
    {
     "name": "stdout",
     "output_type": "stream",
     "text": [
      "Fare\n",
      "Ticket_numerical\n"
     ]
    }
   ],
   "source": [
    "# encode labels\n",
    "for var in ['Fare', 'Ticket_numerical']:\n",
    "    print(var)\n",
    "    encode_categorical_variables(var, 'Survived')"
   ]
  },
  {
   "cell_type": "code",
   "execution_count": 298,
   "metadata": {},
   "outputs": [
    {
     "data": {
      "text/html": [
       "<div>\n",
       "<style scoped>\n",
       "    .dataframe tbody tr th:only-of-type {\n",
       "        vertical-align: middle;\n",
       "    }\n",
       "\n",
       "    .dataframe tbody tr th {\n",
       "        vertical-align: top;\n",
       "    }\n",
       "\n",
       "    .dataframe thead th {\n",
       "        text-align: right;\n",
       "    }\n",
       "</style>\n",
       "<table border=\"1\" class=\"dataframe\">\n",
       "  <thead>\n",
       "    <tr style=\"text-align: right;\">\n",
       "      <th></th>\n",
       "      <th>Survived</th>\n",
       "      <th>Pclass</th>\n",
       "      <th>Sex</th>\n",
       "      <th>Age</th>\n",
       "      <th>SibSp</th>\n",
       "      <th>Parch</th>\n",
       "      <th>Fare</th>\n",
       "      <th>Embarked</th>\n",
       "      <th>Cabin_numerical</th>\n",
       "      <th>Cabin_categorical</th>\n",
       "      <th>Ticket_numerical</th>\n",
       "      <th>Ticket_categorical</th>\n",
       "      <th>Title</th>\n",
       "      <th>Family_size</th>\n",
       "      <th>is_mother</th>\n",
       "      <th>Age_NA</th>\n",
       "      <th>Ticket_numerical_NA</th>\n",
       "    </tr>\n",
       "  </thead>\n",
       "  <tbody>\n",
       "    <tr>\n",
       "      <th>671</th>\n",
       "      <td>0</td>\n",
       "      <td>1</td>\n",
       "      <td>1</td>\n",
       "      <td>31.0</td>\n",
       "      <td>1</td>\n",
       "      <td>0</td>\n",
       "      <td>0.500000</td>\n",
       "      <td>0.345603</td>\n",
       "      <td>71.000000</td>\n",
       "      <td>0.720930</td>\n",
       "      <td>0.421687</td>\n",
       "      <td>0.342857</td>\n",
       "      <td>0.153646</td>\n",
       "      <td>2</td>\n",
       "      <td>0</td>\n",
       "      <td>0</td>\n",
       "      <td>0</td>\n",
       "    </tr>\n",
       "    <tr>\n",
       "      <th>417</th>\n",
       "      <td>1</td>\n",
       "      <td>2</td>\n",
       "      <td>0</td>\n",
       "      <td>18.0</td>\n",
       "      <td>0</td>\n",
       "      <td>2</td>\n",
       "      <td>0.416667</td>\n",
       "      <td>0.345603</td>\n",
       "      <td>157.888732</td>\n",
       "      <td>0.304348</td>\n",
       "      <td>0.279070</td>\n",
       "      <td>0.382114</td>\n",
       "      <td>0.706767</td>\n",
       "      <td>3</td>\n",
       "      <td>0</td>\n",
       "      <td>0</td>\n",
       "      <td>0</td>\n",
       "    </tr>\n",
       "    <tr>\n",
       "      <th>634</th>\n",
       "      <td>0</td>\n",
       "      <td>3</td>\n",
       "      <td>0</td>\n",
       "      <td>9.0</td>\n",
       "      <td>3</td>\n",
       "      <td>2</td>\n",
       "      <td>0.450000</td>\n",
       "      <td>0.345603</td>\n",
       "      <td>157.888732</td>\n",
       "      <td>0.304348</td>\n",
       "      <td>0.123457</td>\n",
       "      <td>0.382114</td>\n",
       "      <td>0.706767</td>\n",
       "      <td>6</td>\n",
       "      <td>0</td>\n",
       "      <td>0</td>\n",
       "      <td>0</td>\n",
       "    </tr>\n",
       "    <tr>\n",
       "      <th>323</th>\n",
       "      <td>1</td>\n",
       "      <td>2</td>\n",
       "      <td>0</td>\n",
       "      <td>22.0</td>\n",
       "      <td>1</td>\n",
       "      <td>1</td>\n",
       "      <td>0.450000</td>\n",
       "      <td>0.345603</td>\n",
       "      <td>157.888732</td>\n",
       "      <td>0.304348</td>\n",
       "      <td>0.279070</td>\n",
       "      <td>0.382114</td>\n",
       "      <td>0.795918</td>\n",
       "      <td>3</td>\n",
       "      <td>1</td>\n",
       "      <td>0</td>\n",
       "      <td>0</td>\n",
       "    </tr>\n",
       "    <tr>\n",
       "      <th>379</th>\n",
       "      <td>0</td>\n",
       "      <td>3</td>\n",
       "      <td>1</td>\n",
       "      <td>19.0</td>\n",
       "      <td>0</td>\n",
       "      <td>0</td>\n",
       "      <td>0.212500</td>\n",
       "      <td>0.345603</td>\n",
       "      <td>157.888732</td>\n",
       "      <td>0.304348</td>\n",
       "      <td>0.279070</td>\n",
       "      <td>0.382114</td>\n",
       "      <td>0.153646</td>\n",
       "      <td>1</td>\n",
       "      <td>0</td>\n",
       "      <td>0</td>\n",
       "      <td>0</td>\n",
       "    </tr>\n",
       "  </tbody>\n",
       "</table>\n",
       "</div>"
      ],
      "text/plain": [
       "     Survived  Pclass  Sex   Age  SibSp  Parch      Fare  Embarked  \\\n",
       "671         0       1    1  31.0      1      0  0.500000  0.345603   \n",
       "417         1       2    0  18.0      0      2  0.416667  0.345603   \n",
       "634         0       3    0   9.0      3      2  0.450000  0.345603   \n",
       "323         1       2    0  22.0      1      1  0.450000  0.345603   \n",
       "379         0       3    1  19.0      0      0  0.212500  0.345603   \n",
       "\n",
       "     Cabin_numerical  Cabin_categorical  Ticket_numerical  Ticket_categorical  \\\n",
       "671        71.000000           0.720930          0.421687            0.342857   \n",
       "417       157.888732           0.304348          0.279070            0.382114   \n",
       "634       157.888732           0.304348          0.123457            0.382114   \n",
       "323       157.888732           0.304348          0.279070            0.382114   \n",
       "379       157.888732           0.304348          0.279070            0.382114   \n",
       "\n",
       "        Title  Family_size  is_mother  Age_NA  Ticket_numerical_NA  \n",
       "671  0.153646            2          0       0                    0  \n",
       "417  0.706767            3          0       0                    0  \n",
       "634  0.706767            6          0       0                    0  \n",
       "323  0.795918            3          1       0                    0  \n",
       "379  0.153646            1          0       0                    0  "
      ]
     },
     "execution_count": 298,
     "metadata": {},
     "output_type": "execute_result"
    }
   ],
   "source": [
    "#let's inspect the dataset\n",
    "X_train.head()"
   ]
  },
  {
   "cell_type": "code",
   "execution_count": 299,
   "metadata": {},
   "outputs": [],
   "source": [
    "X_train.to_csv('preprocessed_Train.csv',index=False)\n",
    "X_test.to_csv('preprocessed_Test.csv',index=False)"
   ]
  },
  {
   "cell_type": "code",
   "execution_count": null,
   "metadata": {},
   "outputs": [],
   "source": []
  },
  {
   "cell_type": "code",
   "execution_count": null,
   "metadata": {},
   "outputs": [],
   "source": []
  },
  {
   "cell_type": "markdown",
   "metadata": {},
   "source": [
    "We can see that the labels how now been replaced by the survival probability.\n",
    "\n",
    "# 9. Feature scaling"
   ]
  },
  {
   "cell_type": "code",
   "execution_count": 202,
   "metadata": {},
   "outputs": [
    {
     "data": {
      "text/html": [
       "<div>\n",
       "<style scoped>\n",
       "    .dataframe tbody tr th:only-of-type {\n",
       "        vertical-align: middle;\n",
       "    }\n",
       "\n",
       "    .dataframe tbody tr th {\n",
       "        vertical-align: top;\n",
       "    }\n",
       "\n",
       "    .dataframe thead th {\n",
       "        text-align: right;\n",
       "    }\n",
       "</style>\n",
       "<table border=\"1\" class=\"dataframe\">\n",
       "  <thead>\n",
       "    <tr style=\"text-align: right;\">\n",
       "      <th></th>\n",
       "      <th>Survived</th>\n",
       "      <th>Pclass</th>\n",
       "      <th>Sex</th>\n",
       "      <th>Age</th>\n",
       "      <th>SibSp</th>\n",
       "      <th>Parch</th>\n",
       "      <th>Fare</th>\n",
       "      <th>Embarked</th>\n",
       "      <th>Cabin_numerical</th>\n",
       "      <th>Cabin_categorical</th>\n",
       "      <th>Ticket_numerical</th>\n",
       "      <th>Ticket_categorical</th>\n",
       "      <th>Title</th>\n",
       "      <th>Family_size</th>\n",
       "      <th>is_mother</th>\n",
       "      <th>Age_NA</th>\n",
       "      <th>Ticket_numerical_NA</th>\n",
       "    </tr>\n",
       "  </thead>\n",
       "  <tbody>\n",
       "    <tr>\n",
       "      <th>count</th>\n",
       "      <td>668.000000</td>\n",
       "      <td>668.000000</td>\n",
       "      <td>668.000000</td>\n",
       "      <td>668.000000</td>\n",
       "      <td>668.000000</td>\n",
       "      <td>668.000000</td>\n",
       "      <td>668.000000</td>\n",
       "      <td>668.000000</td>\n",
       "      <td>668.000000</td>\n",
       "      <td>668.000000</td>\n",
       "      <td>668.000000</td>\n",
       "      <td>668.000000</td>\n",
       "      <td>668.000000</td>\n",
       "      <td>668.000000</td>\n",
       "      <td>668.000000</td>\n",
       "      <td>668.000000</td>\n",
       "      <td>668.000000</td>\n",
       "    </tr>\n",
       "    <tr>\n",
       "      <th>mean</th>\n",
       "      <td>0.383234</td>\n",
       "      <td>2.299401</td>\n",
       "      <td>0.648204</td>\n",
       "      <td>29.975808</td>\n",
       "      <td>0.473054</td>\n",
       "      <td>0.330838</td>\n",
       "      <td>0.383234</td>\n",
       "      <td>0.383234</td>\n",
       "      <td>134.545454</td>\n",
       "      <td>0.383234</td>\n",
       "      <td>0.383234</td>\n",
       "      <td>0.383234</td>\n",
       "      <td>0.383234</td>\n",
       "      <td>1.835329</td>\n",
       "      <td>0.068862</td>\n",
       "      <td>0.203593</td>\n",
       "      <td>0.004491</td>\n",
       "    </tr>\n",
       "    <tr>\n",
       "      <th>std</th>\n",
       "      <td>0.486539</td>\n",
       "      <td>0.841324</td>\n",
       "      <td>0.477889</td>\n",
       "      <td>14.320838</td>\n",
       "      <td>0.901868</td>\n",
       "      <td>0.647779</td>\n",
       "      <td>0.171866</td>\n",
       "      <td>0.071882</td>\n",
       "      <td>46.398332</td>\n",
       "      <td>0.156381</td>\n",
       "      <td>0.145217</td>\n",
       "      <td>0.099212</td>\n",
       "      <td>0.279790</td>\n",
       "      <td>1.416272</td>\n",
       "      <td>0.253410</td>\n",
       "      <td>0.402971</td>\n",
       "      <td>0.066915</td>\n",
       "    </tr>\n",
       "    <tr>\n",
       "      <th>min</th>\n",
       "      <td>0.000000</td>\n",
       "      <td>1.000000</td>\n",
       "      <td>0.000000</td>\n",
       "      <td>0.420000</td>\n",
       "      <td>0.000000</td>\n",
       "      <td>0.000000</td>\n",
       "      <td>0.142857</td>\n",
       "      <td>0.345603</td>\n",
       "      <td>2.000000</td>\n",
       "      <td>0.304348</td>\n",
       "      <td>0.123457</td>\n",
       "      <td>0.058824</td>\n",
       "      <td>0.153646</td>\n",
       "      <td>1.000000</td>\n",
       "      <td>0.000000</td>\n",
       "      <td>0.000000</td>\n",
       "      <td>0.000000</td>\n",
       "    </tr>\n",
       "    <tr>\n",
       "      <th>25%</th>\n",
       "      <td>0.000000</td>\n",
       "      <td>2.000000</td>\n",
       "      <td>0.000000</td>\n",
       "      <td>20.000000</td>\n",
       "      <td>0.000000</td>\n",
       "      <td>0.000000</td>\n",
       "      <td>0.225490</td>\n",
       "      <td>0.345603</td>\n",
       "      <td>157.888732</td>\n",
       "      <td>0.304348</td>\n",
       "      <td>0.279070</td>\n",
       "      <td>0.382114</td>\n",
       "      <td>0.153646</td>\n",
       "      <td>1.000000</td>\n",
       "      <td>0.000000</td>\n",
       "      <td>0.000000</td>\n",
       "      <td>0.000000</td>\n",
       "    </tr>\n",
       "    <tr>\n",
       "      <th>50%</th>\n",
       "      <td>0.000000</td>\n",
       "      <td>3.000000</td>\n",
       "      <td>1.000000</td>\n",
       "      <td>29.000000</td>\n",
       "      <td>0.000000</td>\n",
       "      <td>0.000000</td>\n",
       "      <td>0.395349</td>\n",
       "      <td>0.345603</td>\n",
       "      <td>157.888732</td>\n",
       "      <td>0.304348</td>\n",
       "      <td>0.357143</td>\n",
       "      <td>0.382114</td>\n",
       "      <td>0.153646</td>\n",
       "      <td>1.000000</td>\n",
       "      <td>0.000000</td>\n",
       "      <td>0.000000</td>\n",
       "      <td>0.000000</td>\n",
       "    </tr>\n",
       "    <tr>\n",
       "      <th>75%</th>\n",
       "      <td>1.000000</td>\n",
       "      <td>3.000000</td>\n",
       "      <td>1.000000</td>\n",
       "      <td>38.000000</td>\n",
       "      <td>1.000000</td>\n",
       "      <td>0.000000</td>\n",
       "      <td>0.450000</td>\n",
       "      <td>0.381818</td>\n",
       "      <td>157.888732</td>\n",
       "      <td>0.304348</td>\n",
       "      <td>0.496988</td>\n",
       "      <td>0.382114</td>\n",
       "      <td>0.706767</td>\n",
       "      <td>2.000000</td>\n",
       "      <td>0.000000</td>\n",
       "      <td>0.000000</td>\n",
       "      <td>0.000000</td>\n",
       "    </tr>\n",
       "    <tr>\n",
       "      <th>max</th>\n",
       "      <td>1.000000</td>\n",
       "      <td>3.000000</td>\n",
       "      <td>1.000000</td>\n",
       "      <td>73.000000</td>\n",
       "      <td>4.000000</td>\n",
       "      <td>2.000000</td>\n",
       "      <td>0.714286</td>\n",
       "      <td>0.532258</td>\n",
       "      <td>157.888732</td>\n",
       "      <td>0.750000</td>\n",
       "      <td>0.607143</td>\n",
       "      <td>0.630435</td>\n",
       "      <td>0.795918</td>\n",
       "      <td>7.000000</td>\n",
       "      <td>1.000000</td>\n",
       "      <td>1.000000</td>\n",
       "      <td>1.000000</td>\n",
       "    </tr>\n",
       "  </tbody>\n",
       "</table>\n",
       "</div>"
      ],
      "text/plain": [
       "         Survived      Pclass         Sex         Age       SibSp       Parch  \\\n",
       "count  668.000000  668.000000  668.000000  668.000000  668.000000  668.000000   \n",
       "mean     0.383234    2.299401    0.648204   29.975808    0.473054    0.330838   \n",
       "std      0.486539    0.841324    0.477889   14.320838    0.901868    0.647779   \n",
       "min      0.000000    1.000000    0.000000    0.420000    0.000000    0.000000   \n",
       "25%      0.000000    2.000000    0.000000   20.000000    0.000000    0.000000   \n",
       "50%      0.000000    3.000000    1.000000   29.000000    0.000000    0.000000   \n",
       "75%      1.000000    3.000000    1.000000   38.000000    1.000000    0.000000   \n",
       "max      1.000000    3.000000    1.000000   73.000000    4.000000    2.000000   \n",
       "\n",
       "             Fare    Embarked  Cabin_numerical  Cabin_categorical  \\\n",
       "count  668.000000  668.000000       668.000000         668.000000   \n",
       "mean     0.383234    0.383234       134.545454           0.383234   \n",
       "std      0.171866    0.071882        46.398332           0.156381   \n",
       "min      0.142857    0.345603         2.000000           0.304348   \n",
       "25%      0.225490    0.345603       157.888732           0.304348   \n",
       "50%      0.395349    0.345603       157.888732           0.304348   \n",
       "75%      0.450000    0.381818       157.888732           0.304348   \n",
       "max      0.714286    0.532258       157.888732           0.750000   \n",
       "\n",
       "       Ticket_numerical  Ticket_categorical       Title  Family_size  \\\n",
       "count        668.000000          668.000000  668.000000   668.000000   \n",
       "mean           0.383234            0.383234    0.383234     1.835329   \n",
       "std            0.145217            0.099212    0.279790     1.416272   \n",
       "min            0.123457            0.058824    0.153646     1.000000   \n",
       "25%            0.279070            0.382114    0.153646     1.000000   \n",
       "50%            0.357143            0.382114    0.153646     1.000000   \n",
       "75%            0.496988            0.382114    0.706767     2.000000   \n",
       "max            0.607143            0.630435    0.795918     7.000000   \n",
       "\n",
       "        is_mother      Age_NA  Ticket_numerical_NA  \n",
       "count  668.000000  668.000000           668.000000  \n",
       "mean     0.068862    0.203593             0.004491  \n",
       "std      0.253410    0.402971             0.066915  \n",
       "min      0.000000    0.000000             0.000000  \n",
       "25%      0.000000    0.000000             0.000000  \n",
       "50%      0.000000    0.000000             0.000000  \n",
       "75%      0.000000    0.000000             0.000000  \n",
       "max      1.000000    1.000000             1.000000  "
      ]
     },
     "execution_count": 202,
     "metadata": {},
     "output_type": "execute_result"
    }
   ],
   "source": [
    "X_train.describe()"
   ]
  },
  {
   "cell_type": "code",
   "execution_count": 203,
   "metadata": {},
   "outputs": [],
   "source": [
    "variables_that_need_scaling = ['Pclass', 'Age', 'Sibsp', 'Parch', 'Cabin_numerical', 'Family_size']"
   ]
  },
  {
   "cell_type": "code",
   "execution_count": 204,
   "metadata": {},
   "outputs": [
    {
     "data": {
      "text/plain": [
       "['Pclass',\n",
       " 'Sex',\n",
       " 'Age',\n",
       " 'SibSp',\n",
       " 'Parch',\n",
       " 'Fare',\n",
       " 'Embarked',\n",
       " 'Cabin_numerical',\n",
       " 'Cabin_categorical',\n",
       " 'Ticket_numerical',\n",
       " 'Ticket_categorical',\n",
       " 'Title',\n",
       " 'Family_size',\n",
       " 'is_mother',\n",
       " 'Age_NA',\n",
       " 'Ticket_numerical_NA']"
      ]
     },
     "execution_count": 204,
     "metadata": {},
     "output_type": "execute_result"
    }
   ],
   "source": [
    "training_vars = [var for var in X_train.columns if var not in ['PassengerId', 'Survived']]\n",
    "training_vars"
   ]
  },
  {
   "cell_type": "code",
   "execution_count": 205,
   "metadata": {},
   "outputs": [
    {
     "data": {
      "text/plain": [
       "MinMaxScaler(copy=True, feature_range=(0, 1))"
      ]
     },
     "execution_count": 205,
     "metadata": {},
     "output_type": "execute_result"
    }
   ],
   "source": [
    "# fit scaler\n",
    "scaler = MinMaxScaler() # create an instance\n",
    "scaler.fit(X_train[training_vars]) #  fit  the scaler to the train set and then transform it"
   ]
  },
  {
   "cell_type": "code",
   "execution_count": null,
   "metadata": {},
   "outputs": [],
   "source": []
  },
  {
   "cell_type": "code",
   "execution_count": null,
   "metadata": {},
   "outputs": [],
   "source": []
  },
  {
   "cell_type": "markdown",
   "metadata": {},
   "source": [
    "The scaler is now ready, we can use it in a machine learning algorithm when required. See below.\n",
    "\n",
    "# 10. Machine Learning algorithm building"
   ]
  },
  {
   "cell_type": "code",
   "execution_count": 69,
   "metadata": {},
   "outputs": [
    {
     "ename": "NameError",
     "evalue": "name 'LogisticRegression' is not defined",
     "output_type": "error",
     "traceback": [
      "\u001b[1;31m---------------------------------------------------------------------------\u001b[0m",
      "\u001b[1;31mNameError\u001b[0m                                 Traceback (most recent call last)",
      "\u001b[1;32m<ipython-input-69-a44c4f265c50>\u001b[0m in \u001b[0;36m<module>\u001b[1;34m\u001b[0m\n\u001b[0;32m      3\u001b[0m \u001b[0mmodels\u001b[0m\u001b[1;33m.\u001b[0m\u001b[0mappend\u001b[0m\u001b[1;33m(\u001b[0m\u001b[1;33m(\u001b[0m\u001b[1;34m'SVC'\u001b[0m\u001b[1;33m,\u001b[0m \u001b[0mSVC\u001b[0m\u001b[1;33m(\u001b[0m\u001b[0mkernel\u001b[0m\u001b[1;33m=\u001b[0m\u001b[1;34m\"linear\"\u001b[0m\u001b[1;33m)\u001b[0m\u001b[1;33m)\u001b[0m\u001b[1;33m)\u001b[0m\u001b[1;33m\u001b[0m\u001b[1;33m\u001b[0m\u001b[0m\n\u001b[0;32m      4\u001b[0m \u001b[0mmodels\u001b[0m\u001b[1;33m.\u001b[0m\u001b[0mappend\u001b[0m\u001b[1;33m(\u001b[0m\u001b[1;33m(\u001b[0m\u001b[1;34m'LSVC'\u001b[0m\u001b[1;33m,\u001b[0m \u001b[0mSVC\u001b[0m\u001b[1;33m(\u001b[0m\u001b[0mkernel\u001b[0m\u001b[1;33m=\u001b[0m\u001b[1;34m\"rbf\"\u001b[0m\u001b[1;33m)\u001b[0m\u001b[1;33m)\u001b[0m\u001b[1;33m)\u001b[0m\u001b[1;33m\u001b[0m\u001b[1;33m\u001b[0m\u001b[0m\n\u001b[1;32m----> 5\u001b[1;33m \u001b[0mmodels\u001b[0m\u001b[1;33m.\u001b[0m\u001b[0mappend\u001b[0m\u001b[1;33m(\u001b[0m\u001b[1;33m(\u001b[0m\u001b[1;34m'LR'\u001b[0m\u001b[1;33m,\u001b[0m \u001b[0mLogisticRegression\u001b[0m\u001b[1;33m(\u001b[0m\u001b[1;33m)\u001b[0m\u001b[1;33m)\u001b[0m\u001b[1;33m)\u001b[0m\u001b[1;33m\u001b[0m\u001b[1;33m\u001b[0m\u001b[0m\n\u001b[0m\u001b[0;32m      6\u001b[0m \u001b[0mmodels\u001b[0m\u001b[1;33m.\u001b[0m\u001b[0mappend\u001b[0m\u001b[1;33m(\u001b[0m\u001b[1;33m(\u001b[0m\u001b[1;34m'DT'\u001b[0m\u001b[1;33m,\u001b[0m \u001b[0mDecisionTreeClassifier\u001b[0m\u001b[1;33m(\u001b[0m\u001b[1;33m)\u001b[0m\u001b[1;33m)\u001b[0m\u001b[1;33m)\u001b[0m\u001b[1;33m\u001b[0m\u001b[1;33m\u001b[0m\u001b[0m\n\u001b[0;32m      7\u001b[0m \u001b[0mmodels\u001b[0m\u001b[1;33m.\u001b[0m\u001b[0mappend\u001b[0m\u001b[1;33m(\u001b[0m\u001b[1;33m(\u001b[0m\u001b[1;34m'GNB'\u001b[0m\u001b[1;33m,\u001b[0m \u001b[0mGaussianNB\u001b[0m\u001b[1;33m(\u001b[0m\u001b[1;33m)\u001b[0m\u001b[1;33m)\u001b[0m\u001b[1;33m)\u001b[0m\u001b[1;33m\u001b[0m\u001b[1;33m\u001b[0m\u001b[0m\n",
      "\u001b[1;31mNameError\u001b[0m: name 'LogisticRegression' is not defined"
     ]
    }
   ],
   "source": [
    "models = []\n",
    "models.append(('KNN', KNeighborsClassifier()))\n",
    "models.append(('SVC', SVC(kernel=\"linear\")))\n",
    "models.append(('LSVC', SVC(kernel=\"rbf\")))\n",
    "models.append(('LR', LogisticRegression()))\n",
    "models.append(('DT', DecisionTreeClassifier()))\n",
    "models.append(('GNB', GaussianNB()))\n",
    "models.append(('RF', RandomForestClassifier()))\n",
    "models.append(('GB', GradientBoostingClassifier()))\n",
    "models.append(('LGB',LGBMClassifier()))\n",
    "models.append(('ADA',AdaBoostClassifier()))\n",
    "models.append(('QDA',QuadraticDiscriminantAnalysis()))\n",
    "models.append(('NN',MLPClassifier()))\n",
    "models.append(('XGB',XGBClassifier()))"
   ]
  },
  {
   "cell_type": "code",
   "execution_count": 671,
   "metadata": {},
   "outputs": [],
   "source": [
    "# Test options and evaluation metric\n",
    "seed = 9\n",
    "scoring = 'accuracy'"
   ]
  },
  {
   "cell_type": "code",
   "execution_count": 672,
   "metadata": {},
   "outputs": [
    {
     "data": {
      "text/html": [
       "<div>\n",
       "<style scoped>\n",
       "    .dataframe tbody tr th:only-of-type {\n",
       "        vertical-align: middle;\n",
       "    }\n",
       "\n",
       "    .dataframe tbody tr th {\n",
       "        vertical-align: top;\n",
       "    }\n",
       "\n",
       "    .dataframe thead th {\n",
       "        text-align: right;\n",
       "    }\n",
       "</style>\n",
       "<table border=\"1\" class=\"dataframe\">\n",
       "  <thead>\n",
       "    <tr style=\"text-align: right;\">\n",
       "      <th></th>\n",
       "      <th>Pclass</th>\n",
       "      <th>Sex</th>\n",
       "      <th>Age</th>\n",
       "      <th>SibSp</th>\n",
       "      <th>Parch</th>\n",
       "      <th>Fare</th>\n",
       "      <th>Embarked</th>\n",
       "      <th>Cabin_numerical</th>\n",
       "      <th>Cabin_categorical</th>\n",
       "      <th>Ticket_numerical</th>\n",
       "      <th>Ticket_categorical</th>\n",
       "      <th>Title</th>\n",
       "      <th>Family_size</th>\n",
       "      <th>is_mother</th>\n",
       "      <th>Age_NA</th>\n",
       "      <th>Ticket_numerical_NA</th>\n",
       "    </tr>\n",
       "  </thead>\n",
       "  <tbody>\n",
       "    <tr>\n",
       "      <th>671</th>\n",
       "      <td>1</td>\n",
       "      <td>0.184758</td>\n",
       "      <td>31.0</td>\n",
       "      <td>1</td>\n",
       "      <td>0</td>\n",
       "      <td>0.500000</td>\n",
       "      <td>0.345603</td>\n",
       "      <td>71.000000</td>\n",
       "      <td>0.720930</td>\n",
       "      <td>0.421687</td>\n",
       "      <td>0.342857</td>\n",
       "      <td>0.153646</td>\n",
       "      <td>2</td>\n",
       "      <td>0</td>\n",
       "      <td>0</td>\n",
       "      <td>0</td>\n",
       "    </tr>\n",
       "    <tr>\n",
       "      <th>417</th>\n",
       "      <td>2</td>\n",
       "      <td>0.748936</td>\n",
       "      <td>18.0</td>\n",
       "      <td>0</td>\n",
       "      <td>2</td>\n",
       "      <td>0.416667</td>\n",
       "      <td>0.345603</td>\n",
       "      <td>157.888732</td>\n",
       "      <td>0.304348</td>\n",
       "      <td>0.279070</td>\n",
       "      <td>0.382114</td>\n",
       "      <td>0.706767</td>\n",
       "      <td>3</td>\n",
       "      <td>0</td>\n",
       "      <td>0</td>\n",
       "      <td>0</td>\n",
       "    </tr>\n",
       "    <tr>\n",
       "      <th>634</th>\n",
       "      <td>3</td>\n",
       "      <td>0.748936</td>\n",
       "      <td>9.0</td>\n",
       "      <td>3</td>\n",
       "      <td>2</td>\n",
       "      <td>0.450000</td>\n",
       "      <td>0.345603</td>\n",
       "      <td>157.888732</td>\n",
       "      <td>0.304348</td>\n",
       "      <td>0.123457</td>\n",
       "      <td>0.382114</td>\n",
       "      <td>0.706767</td>\n",
       "      <td>6</td>\n",
       "      <td>0</td>\n",
       "      <td>0</td>\n",
       "      <td>0</td>\n",
       "    </tr>\n",
       "    <tr>\n",
       "      <th>323</th>\n",
       "      <td>2</td>\n",
       "      <td>0.748936</td>\n",
       "      <td>22.0</td>\n",
       "      <td>1</td>\n",
       "      <td>1</td>\n",
       "      <td>0.450000</td>\n",
       "      <td>0.345603</td>\n",
       "      <td>157.888732</td>\n",
       "      <td>0.304348</td>\n",
       "      <td>0.279070</td>\n",
       "      <td>0.382114</td>\n",
       "      <td>0.795918</td>\n",
       "      <td>3</td>\n",
       "      <td>1</td>\n",
       "      <td>0</td>\n",
       "      <td>0</td>\n",
       "    </tr>\n",
       "    <tr>\n",
       "      <th>379</th>\n",
       "      <td>3</td>\n",
       "      <td>0.184758</td>\n",
       "      <td>19.0</td>\n",
       "      <td>0</td>\n",
       "      <td>0</td>\n",
       "      <td>0.212500</td>\n",
       "      <td>0.345603</td>\n",
       "      <td>157.888732</td>\n",
       "      <td>0.304348</td>\n",
       "      <td>0.279070</td>\n",
       "      <td>0.382114</td>\n",
       "      <td>0.153646</td>\n",
       "      <td>1</td>\n",
       "      <td>0</td>\n",
       "      <td>0</td>\n",
       "      <td>0</td>\n",
       "    </tr>\n",
       "  </tbody>\n",
       "</table>\n",
       "</div>"
      ],
      "text/plain": [
       "     Pclass       Sex   Age  SibSp  Parch      Fare  Embarked  \\\n",
       "671       1  0.184758  31.0      1      0  0.500000  0.345603   \n",
       "417       2  0.748936  18.0      0      2  0.416667  0.345603   \n",
       "634       3  0.748936   9.0      3      2  0.450000  0.345603   \n",
       "323       2  0.748936  22.0      1      1  0.450000  0.345603   \n",
       "379       3  0.184758  19.0      0      0  0.212500  0.345603   \n",
       "\n",
       "     Cabin_numerical  Cabin_categorical  Ticket_numerical  Ticket_categorical  \\\n",
       "671        71.000000           0.720930          0.421687            0.342857   \n",
       "417       157.888732           0.304348          0.279070            0.382114   \n",
       "634       157.888732           0.304348          0.123457            0.382114   \n",
       "323       157.888732           0.304348          0.279070            0.382114   \n",
       "379       157.888732           0.304348          0.279070            0.382114   \n",
       "\n",
       "        Title  Family_size  is_mother  Age_NA  Ticket_numerical_NA  \n",
       "671  0.153646            2          0       0                    0  \n",
       "417  0.706767            3          0       0                    0  \n",
       "634  0.706767            6          0       0                    0  \n",
       "323  0.795918            3          1       0                    0  \n",
       "379  0.153646            1          0       0                    0  "
      ]
     },
     "execution_count": 672,
     "metadata": {},
     "output_type": "execute_result"
    }
   ],
   "source": [
    "X_train[training_vars].head()"
   ]
  },
  {
   "cell_type": "code",
   "execution_count": 673,
   "metadata": {},
   "outputs": [
    {
     "data": {
      "text/html": [
       "<div>\n",
       "<style scoped>\n",
       "    .dataframe tbody tr th:only-of-type {\n",
       "        vertical-align: middle;\n",
       "    }\n",
       "\n",
       "    .dataframe tbody tr th {\n",
       "        vertical-align: top;\n",
       "    }\n",
       "\n",
       "    .dataframe thead th {\n",
       "        text-align: right;\n",
       "    }\n",
       "</style>\n",
       "<table border=\"1\" class=\"dataframe\">\n",
       "  <thead>\n",
       "    <tr style=\"text-align: right;\">\n",
       "      <th></th>\n",
       "      <th>Pclass</th>\n",
       "      <th>Sex</th>\n",
       "      <th>Age</th>\n",
       "      <th>SibSp</th>\n",
       "      <th>Parch</th>\n",
       "      <th>Fare</th>\n",
       "      <th>Embarked</th>\n",
       "      <th>Cabin_numerical</th>\n",
       "      <th>Cabin_categorical</th>\n",
       "      <th>Ticket_numerical</th>\n",
       "      <th>Ticket_categorical</th>\n",
       "      <th>Title</th>\n",
       "      <th>Family_size</th>\n",
       "      <th>is_mother</th>\n",
       "      <th>Age_NA</th>\n",
       "      <th>Ticket_numerical_NA</th>\n",
       "    </tr>\n",
       "  </thead>\n",
       "  <tbody>\n",
       "    <tr>\n",
       "      <th>288</th>\n",
       "      <td>2</td>\n",
       "      <td>0.184758</td>\n",
       "      <td>42.0</td>\n",
       "      <td>0</td>\n",
       "      <td>0</td>\n",
       "      <td>0.416667</td>\n",
       "      <td>0.345603</td>\n",
       "      <td>157.888732</td>\n",
       "      <td>0.304348</td>\n",
       "      <td>0.493976</td>\n",
       "      <td>0.382114</td>\n",
       "      <td>0.153646</td>\n",
       "      <td>1</td>\n",
       "      <td>0</td>\n",
       "      <td>0</td>\n",
       "      <td>0</td>\n",
       "    </tr>\n",
       "    <tr>\n",
       "      <th>869</th>\n",
       "      <td>3</td>\n",
       "      <td>0.184758</td>\n",
       "      <td>4.0</td>\n",
       "      <td>1</td>\n",
       "      <td>1</td>\n",
       "      <td>0.416667</td>\n",
       "      <td>0.345603</td>\n",
       "      <td>157.888732</td>\n",
       "      <td>0.304348</td>\n",
       "      <td>0.123457</td>\n",
       "      <td>0.382114</td>\n",
       "      <td>0.575758</td>\n",
       "      <td>3</td>\n",
       "      <td>0</td>\n",
       "      <td>0</td>\n",
       "      <td>0</td>\n",
       "    </tr>\n",
       "    <tr>\n",
       "      <th>182</th>\n",
       "      <td>3</td>\n",
       "      <td>0.184758</td>\n",
       "      <td>9.0</td>\n",
       "      <td>4</td>\n",
       "      <td>2</td>\n",
       "      <td>0.500000</td>\n",
       "      <td>0.345603</td>\n",
       "      <td>157.888732</td>\n",
       "      <td>0.304348</td>\n",
       "      <td>0.279070</td>\n",
       "      <td>0.382114</td>\n",
       "      <td>0.575758</td>\n",
       "      <td>7</td>\n",
       "      <td>0</td>\n",
       "      <td>0</td>\n",
       "      <td>0</td>\n",
       "    </tr>\n",
       "    <tr>\n",
       "      <th>684</th>\n",
       "      <td>2</td>\n",
       "      <td>0.184758</td>\n",
       "      <td>60.0</td>\n",
       "      <td>1</td>\n",
       "      <td>1</td>\n",
       "      <td>0.500000</td>\n",
       "      <td>0.345603</td>\n",
       "      <td>157.888732</td>\n",
       "      <td>0.304348</td>\n",
       "      <td>0.506024</td>\n",
       "      <td>0.382114</td>\n",
       "      <td>0.153646</td>\n",
       "      <td>3</td>\n",
       "      <td>0</td>\n",
       "      <td>0</td>\n",
       "      <td>0</td>\n",
       "    </tr>\n",
       "    <tr>\n",
       "      <th>599</th>\n",
       "      <td>1</td>\n",
       "      <td>0.184758</td>\n",
       "      <td>49.0</td>\n",
       "      <td>1</td>\n",
       "      <td>0</td>\n",
       "      <td>0.500000</td>\n",
       "      <td>0.532258</td>\n",
       "      <td>20.000000</td>\n",
       "      <td>0.304348</td>\n",
       "      <td>0.607143</td>\n",
       "      <td>0.630435</td>\n",
       "      <td>0.153646</td>\n",
       "      <td>2</td>\n",
       "      <td>0</td>\n",
       "      <td>0</td>\n",
       "      <td>0</td>\n",
       "    </tr>\n",
       "  </tbody>\n",
       "</table>\n",
       "</div>"
      ],
      "text/plain": [
       "     Pclass       Sex   Age  SibSp  Parch      Fare  Embarked  \\\n",
       "288       2  0.184758  42.0      0      0  0.416667  0.345603   \n",
       "869       3  0.184758   4.0      1      1  0.416667  0.345603   \n",
       "182       3  0.184758   9.0      4      2  0.500000  0.345603   \n",
       "684       2  0.184758  60.0      1      1  0.500000  0.345603   \n",
       "599       1  0.184758  49.0      1      0  0.500000  0.532258   \n",
       "\n",
       "     Cabin_numerical  Cabin_categorical  Ticket_numerical  Ticket_categorical  \\\n",
       "288       157.888732           0.304348          0.493976            0.382114   \n",
       "869       157.888732           0.304348          0.123457            0.382114   \n",
       "182       157.888732           0.304348          0.279070            0.382114   \n",
       "684       157.888732           0.304348          0.506024            0.382114   \n",
       "599        20.000000           0.304348          0.607143            0.630435   \n",
       "\n",
       "        Title  Family_size  is_mother  Age_NA  Ticket_numerical_NA  \n",
       "288  0.153646            1          0       0                    0  \n",
       "869  0.575758            3          0       0                    0  \n",
       "182  0.575758            7          0       0                    0  \n",
       "684  0.153646            3          0       0                    0  \n",
       "599  0.153646            2          0       0                    0  "
      ]
     },
     "execution_count": 673,
     "metadata": {},
     "output_type": "execute_result"
    }
   ],
   "source": [
    "X_test[training_vars].head()"
   ]
  },
  {
   "cell_type": "code",
   "execution_count": 674,
   "metadata": {},
   "outputs": [
    {
     "data": {
      "text/plain": [
       "Survived               0\n",
       "Pclass                 0\n",
       "Sex                    0\n",
       "Age                    0\n",
       "SibSp                  0\n",
       "Parch                  0\n",
       "Fare                   0\n",
       "Embarked               0\n",
       "Cabin_numerical        0\n",
       "Cabin_categorical      0\n",
       "Ticket_numerical       0\n",
       "Ticket_categorical     0\n",
       "Title                  0\n",
       "Family_size            0\n",
       "is_mother              0\n",
       "Age_NA                 0\n",
       "Ticket_numerical_NA    0\n",
       "dtype: int64"
      ]
     },
     "execution_count": 674,
     "metadata": {},
     "output_type": "execute_result"
    }
   ],
   "source": [
    "X_test.isnull().sum()"
   ]
  },
  {
   "cell_type": "code",
   "execution_count": 675,
   "metadata": {},
   "outputs": [
    {
     "name": "stdout",
     "output_type": "stream",
     "text": [
      "KNN: 0.695997 (0.046076)\n",
      "SVC: 0.833740 (0.034185)\n",
      "LSVC: 0.685527 (0.054067)\n",
      "LR: 0.821777 (0.036073)\n",
      "DT: 0.787404 (0.042204)\n",
      "GNB: 0.767910 (0.049864)\n",
      "RF: 0.841271 (0.035032)\n",
      "GB: 0.826278 (0.028951)\n",
      "LGB: 0.812800 (0.044375)\n",
      "ADA: 0.809769 (0.031491)\n",
      "QDA: 0.742537 (0.138011)\n",
      "NN: 0.735075 (0.054510)\n",
      "XGB: 0.838195 (0.046248)\n"
     ]
    }
   ],
   "source": [
    "# evaluate each model in turn\n",
    "results = {}\n",
    "names = []\n",
    "\n",
    "for name, model in models:\n",
    "    kfold = model_selection.KFold(n_splits=10, random_state = seed)\n",
    "    cv_results = model_selection.cross_val_score(model, X_train[training_vars], y_train, cv=kfold, scoring=scoring)\n",
    "    results[name] = cv_results\n",
    "    names.append(name)\n",
    "    msg = \"%s: %f (%f)\" % (name, cv_results.mean(), cv_results.std())\n",
    "    print(msg)"
   ]
  },
  {
   "cell_type": "code",
   "execution_count": 676,
   "metadata": {},
   "outputs": [
    {
     "data": {
      "text/html": [
       "<div>\n",
       "<style scoped>\n",
       "    .dataframe tbody tr th:only-of-type {\n",
       "        vertical-align: middle;\n",
       "    }\n",
       "\n",
       "    .dataframe tbody tr th {\n",
       "        vertical-align: top;\n",
       "    }\n",
       "\n",
       "    .dataframe thead th {\n",
       "        text-align: right;\n",
       "    }\n",
       "</style>\n",
       "<table border=\"1\" class=\"dataframe\">\n",
       "  <thead>\n",
       "    <tr style=\"text-align: right;\">\n",
       "      <th></th>\n",
       "      <th>KNN</th>\n",
       "      <th>SVC</th>\n",
       "      <th>LSVC</th>\n",
       "      <th>LR</th>\n",
       "      <th>DT</th>\n",
       "      <th>GNB</th>\n",
       "      <th>RF</th>\n",
       "      <th>GB</th>\n",
       "      <th>LGB</th>\n",
       "      <th>ADA</th>\n",
       "      <th>QDA</th>\n",
       "      <th>NN</th>\n",
       "      <th>XGB</th>\n",
       "    </tr>\n",
       "  </thead>\n",
       "  <tbody>\n",
       "    <tr>\n",
       "      <th>0</th>\n",
       "      <td>0.731343</td>\n",
       "      <td>0.850746</td>\n",
       "      <td>0.701493</td>\n",
       "      <td>0.850746</td>\n",
       "      <td>0.880597</td>\n",
       "      <td>0.746269</td>\n",
       "      <td>0.940299</td>\n",
       "      <td>0.880597</td>\n",
       "      <td>0.910448</td>\n",
       "      <td>0.865672</td>\n",
       "      <td>0.597015</td>\n",
       "      <td>0.716418</td>\n",
       "      <td>0.940299</td>\n",
       "    </tr>\n",
       "    <tr>\n",
       "      <th>1</th>\n",
       "      <td>0.686567</td>\n",
       "      <td>0.865672</td>\n",
       "      <td>0.611940</td>\n",
       "      <td>0.835821</td>\n",
       "      <td>0.776119</td>\n",
       "      <td>0.641791</td>\n",
       "      <td>0.820896</td>\n",
       "      <td>0.820896</td>\n",
       "      <td>0.791045</td>\n",
       "      <td>0.820896</td>\n",
       "      <td>0.776119</td>\n",
       "      <td>0.641791</td>\n",
       "      <td>0.805970</td>\n",
       "    </tr>\n",
       "    <tr>\n",
       "      <th>2</th>\n",
       "      <td>0.731343</td>\n",
       "      <td>0.850746</td>\n",
       "      <td>0.761194</td>\n",
       "      <td>0.776119</td>\n",
       "      <td>0.776119</td>\n",
       "      <td>0.791045</td>\n",
       "      <td>0.835821</td>\n",
       "      <td>0.850746</td>\n",
       "      <td>0.791045</td>\n",
       "      <td>0.805970</td>\n",
       "      <td>0.805970</td>\n",
       "      <td>0.805970</td>\n",
       "      <td>0.835821</td>\n",
       "    </tr>\n",
       "    <tr>\n",
       "      <th>3</th>\n",
       "      <td>0.597015</td>\n",
       "      <td>0.805970</td>\n",
       "      <td>0.701493</td>\n",
       "      <td>0.805970</td>\n",
       "      <td>0.731343</td>\n",
       "      <td>0.776119</td>\n",
       "      <td>0.850746</td>\n",
       "      <td>0.805970</td>\n",
       "      <td>0.805970</td>\n",
       "      <td>0.776119</td>\n",
       "      <td>0.388060</td>\n",
       "      <td>0.686567</td>\n",
       "      <td>0.820896</td>\n",
       "    </tr>\n",
       "    <tr>\n",
       "      <th>4</th>\n",
       "      <td>0.716418</td>\n",
       "      <td>0.805970</td>\n",
       "      <td>0.671642</td>\n",
       "      <td>0.850746</td>\n",
       "      <td>0.761194</td>\n",
       "      <td>0.791045</td>\n",
       "      <td>0.805970</td>\n",
       "      <td>0.791045</td>\n",
       "      <td>0.761194</td>\n",
       "      <td>0.820896</td>\n",
       "      <td>0.850746</td>\n",
       "      <td>0.820896</td>\n",
       "      <td>0.791045</td>\n",
       "    </tr>\n",
       "    <tr>\n",
       "      <th>5</th>\n",
       "      <td>0.761194</td>\n",
       "      <td>0.895522</td>\n",
       "      <td>0.761194</td>\n",
       "      <td>0.880597</td>\n",
       "      <td>0.776119</td>\n",
       "      <td>0.791045</td>\n",
       "      <td>0.835821</td>\n",
       "      <td>0.850746</td>\n",
       "      <td>0.835821</td>\n",
       "      <td>0.820896</td>\n",
       "      <td>0.835821</td>\n",
       "      <td>0.746269</td>\n",
       "      <td>0.880597</td>\n",
       "    </tr>\n",
       "    <tr>\n",
       "      <th>6</th>\n",
       "      <td>0.686567</td>\n",
       "      <td>0.791045</td>\n",
       "      <td>0.611940</td>\n",
       "      <td>0.776119</td>\n",
       "      <td>0.850746</td>\n",
       "      <td>0.805970</td>\n",
       "      <td>0.835821</td>\n",
       "      <td>0.805970</td>\n",
       "      <td>0.820896</td>\n",
       "      <td>0.805970</td>\n",
       "      <td>0.820896</td>\n",
       "      <td>0.686567</td>\n",
       "      <td>0.850746</td>\n",
       "    </tr>\n",
       "    <tr>\n",
       "      <th>7</th>\n",
       "      <td>0.731343</td>\n",
       "      <td>0.865672</td>\n",
       "      <td>0.731343</td>\n",
       "      <td>0.850746</td>\n",
       "      <td>0.761194</td>\n",
       "      <td>0.835821</td>\n",
       "      <td>0.835821</td>\n",
       "      <td>0.850746</td>\n",
       "      <td>0.835821</td>\n",
       "      <td>0.835821</td>\n",
       "      <td>0.850746</td>\n",
       "      <td>0.746269</td>\n",
       "      <td>0.865672</td>\n",
       "    </tr>\n",
       "    <tr>\n",
       "      <th>8</th>\n",
       "      <td>0.666667</td>\n",
       "      <td>0.803030</td>\n",
       "      <td>0.621212</td>\n",
       "      <td>0.772727</td>\n",
       "      <td>0.772727</td>\n",
       "      <td>0.742424</td>\n",
       "      <td>0.833333</td>\n",
       "      <td>0.787879</td>\n",
       "      <td>0.742424</td>\n",
       "      <td>0.803030</td>\n",
       "      <td>0.742424</td>\n",
       "      <td>0.787879</td>\n",
       "      <td>0.772727</td>\n",
       "    </tr>\n",
       "    <tr>\n",
       "      <th>9</th>\n",
       "      <td>0.651515</td>\n",
       "      <td>0.803030</td>\n",
       "      <td>0.681818</td>\n",
       "      <td>0.818182</td>\n",
       "      <td>0.787879</td>\n",
       "      <td>0.757576</td>\n",
       "      <td>0.818182</td>\n",
       "      <td>0.818182</td>\n",
       "      <td>0.833333</td>\n",
       "      <td>0.742424</td>\n",
       "      <td>0.757576</td>\n",
       "      <td>0.712121</td>\n",
       "      <td>0.818182</td>\n",
       "    </tr>\n",
       "  </tbody>\n",
       "</table>\n",
       "</div>"
      ],
      "text/plain": [
       "        KNN       SVC      LSVC        LR        DT       GNB        RF  \\\n",
       "0  0.731343  0.850746  0.701493  0.850746  0.880597  0.746269  0.940299   \n",
       "1  0.686567  0.865672  0.611940  0.835821  0.776119  0.641791  0.820896   \n",
       "2  0.731343  0.850746  0.761194  0.776119  0.776119  0.791045  0.835821   \n",
       "3  0.597015  0.805970  0.701493  0.805970  0.731343  0.776119  0.850746   \n",
       "4  0.716418  0.805970  0.671642  0.850746  0.761194  0.791045  0.805970   \n",
       "5  0.761194  0.895522  0.761194  0.880597  0.776119  0.791045  0.835821   \n",
       "6  0.686567  0.791045  0.611940  0.776119  0.850746  0.805970  0.835821   \n",
       "7  0.731343  0.865672  0.731343  0.850746  0.761194  0.835821  0.835821   \n",
       "8  0.666667  0.803030  0.621212  0.772727  0.772727  0.742424  0.833333   \n",
       "9  0.651515  0.803030  0.681818  0.818182  0.787879  0.757576  0.818182   \n",
       "\n",
       "         GB       LGB       ADA       QDA        NN       XGB  \n",
       "0  0.880597  0.910448  0.865672  0.597015  0.716418  0.940299  \n",
       "1  0.820896  0.791045  0.820896  0.776119  0.641791  0.805970  \n",
       "2  0.850746  0.791045  0.805970  0.805970  0.805970  0.835821  \n",
       "3  0.805970  0.805970  0.776119  0.388060  0.686567  0.820896  \n",
       "4  0.791045  0.761194  0.820896  0.850746  0.820896  0.791045  \n",
       "5  0.850746  0.835821  0.820896  0.835821  0.746269  0.880597  \n",
       "6  0.805970  0.820896  0.805970  0.820896  0.686567  0.850746  \n",
       "7  0.850746  0.835821  0.835821  0.850746  0.746269  0.865672  \n",
       "8  0.787879  0.742424  0.803030  0.742424  0.787879  0.772727  \n",
       "9  0.818182  0.833333  0.742424  0.757576  0.712121  0.818182  "
      ]
     },
     "execution_count": 676,
     "metadata": {},
     "output_type": "execute_result"
    }
   ],
   "source": [
    "results_df = pd.DataFrame(results)\n",
    "results_df"
   ]
  },
  {
   "cell_type": "code",
   "execution_count": 677,
   "metadata": {},
   "outputs": [
    {
     "data": {
      "image/png": "[encoded data removed]",
      "text/plain": [
       "<Figure size 720x432 with 1 Axes>"
      ]
     },
     "metadata": {
      "needs_background": "light"
     },
     "output_type": "display_data"
    }
   ],
   "source": [
    "plt.figure(figsize=(10,6))\n",
    "sns.boxplot(data=results_df)\n",
    "plt.show()"
   ]
  },
  {
   "cell_type": "code",
   "execution_count": 678,
   "metadata": {},
   "outputs": [
    {
     "name": "stdout",
     "output_type": "stream",
     "text": [
      "KNN\n",
      "==========================================================\n",
      "Train set\n",
      "Accuracy:  0.8143712574850299\n",
      "ROC AUC Score:  0.7918310072815534\n",
      "Confusion matrix\n",
      "True         0    1\n",
      "Predicted          \n",
      "0          366   46\n",
      "1           78  178\n",
      "              precision    recall  f1-score   support\n",
      "\n",
      "           0       0.82      0.89      0.86       412\n",
      "           1       0.79      0.70      0.74       256\n",
      "\n",
      "    accuracy                           0.81       668\n",
      "   macro avg       0.81      0.79      0.80       668\n",
      "weighted avg       0.81      0.81      0.81       668\n",
      "\n",
      "----------------------------------------------------------\n",
      "Test set\n",
      "Accuracy:  0.6995515695067265\n",
      "ROC AUC Score:  0.6753946698353421\n",
      "Confusion matrix\n",
      "True         0   1\n",
      "Predicted         \n",
      "0          107  30\n",
      "1           37  49\n",
      "              precision    recall  f1-score   support\n",
      "\n",
      "           0       0.74      0.78      0.76       137\n",
      "           1       0.62      0.57      0.59        86\n",
      "\n",
      "    accuracy                           0.70       223\n",
      "   macro avg       0.68      0.68      0.68       223\n",
      "weighted avg       0.70      0.70      0.70       223\n",
      "\n",
      "==========================================================\n",
      "SVC\n",
      "==========================================================\n",
      "Train set\n",
      "Accuracy:  0.8383233532934131\n",
      "ROC AUC Score:  0.8201228762135923\n",
      "Confusion matrix\n",
      "True         0    1\n",
      "Predicted          \n",
      "0          370   42\n",
      "1           66  190\n",
      "              precision    recall  f1-score   support\n",
      "\n",
      "           0       0.85      0.90      0.87       412\n",
      "           1       0.82      0.74      0.78       256\n",
      "\n",
      "    accuracy                           0.84       668\n",
      "   macro avg       0.83      0.82      0.83       668\n",
      "weighted avg       0.84      0.84      0.84       668\n",
      "\n",
      "----------------------------------------------------------\n",
      "Test set\n",
      "Accuracy:  0.8071748878923767\n",
      "ROC AUC Score:  0.7846290952300118\n",
      "Confusion matrix\n",
      "True         0   1\n",
      "Predicted         \n",
      "0          121  16\n",
      "1           27  59\n",
      "              precision    recall  f1-score   support\n",
      "\n",
      "           0       0.82      0.88      0.85       137\n",
      "           1       0.79      0.69      0.73        86\n",
      "\n",
      "    accuracy                           0.81       223\n",
      "   macro avg       0.80      0.78      0.79       223\n",
      "weighted avg       0.81      0.81      0.80       223\n",
      "\n",
      "==========================================================\n",
      "LSVC\n",
      "==========================================================\n",
      "Train set\n",
      "Accuracy:  0.6841317365269461\n",
      "ROC AUC Score:  0.6233881978155341\n",
      "Confusion matrix\n",
      "True         0   1\n",
      "Predicted         \n",
      "0          364  48\n",
      "1          163  93\n",
      "              precision    recall  f1-score   support\n",
      "\n",
      "           0       0.69      0.88      0.78       412\n",
      "           1       0.66      0.36      0.47       256\n",
      "\n",
      "    accuracy                           0.68       668\n",
      "   macro avg       0.68      0.62      0.62       668\n",
      "weighted avg       0.68      0.68      0.66       668\n",
      "\n",
      "----------------------------------------------------------\n",
      "Test set\n",
      "Accuracy:  0.6995515695067265\n",
      "ROC AUC Score:  0.6407655746053301\n",
      "Confusion matrix\n",
      "True         0   1\n",
      "Predicted         \n",
      "0          123  14\n",
      "1           53  33\n",
      "              precision    recall  f1-score   support\n",
      "\n",
      "           0       0.70      0.90      0.79       137\n",
      "           1       0.70      0.38      0.50        86\n",
      "\n",
      "    accuracy                           0.70       223\n",
      "   macro avg       0.70      0.64      0.64       223\n",
      "weighted avg       0.70      0.70      0.67       223\n",
      "\n",
      "==========================================================\n",
      "LR\n",
      "==========================================================\n",
      "Train set\n",
      "Accuracy:  0.8293413173652695\n",
      "ROC AUC Score:  0.812841322815534\n",
      "Confusion matrix\n",
      "True         0    1\n",
      "Predicted          \n",
      "0          364   48\n",
      "1           66  190\n",
      "              precision    recall  f1-score   support\n",
      "\n",
      "           0       0.85      0.88      0.86       412\n",
      "           1       0.80      0.74      0.77       256\n",
      "\n",
      "    accuracy                           0.83       668\n",
      "   macro avg       0.82      0.81      0.82       668\n",
      "weighted avg       0.83      0.83      0.83       668\n",
      "\n",
      "----------------------------------------------------------\n",
      "Test set\n",
      "Accuracy:  0.8071748878923767\n",
      "ROC AUC Score:  0.7846290952300118\n",
      "Confusion matrix\n",
      "True         0   1\n",
      "Predicted         \n",
      "0          121  16\n",
      "1           27  59\n",
      "              precision    recall  f1-score   support\n",
      "\n",
      "           0       0.82      0.88      0.85       137\n",
      "           1       0.79      0.69      0.73        86\n",
      "\n",
      "    accuracy                           0.81       223\n",
      "   macro avg       0.80      0.78      0.79       223\n",
      "weighted avg       0.81      0.81      0.80       223\n",
      "\n",
      "==========================================================\n",
      "DT\n",
      "==========================================================\n",
      "Train set\n",
      "Accuracy:  0.9925149700598802\n",
      "ROC AUC Score:  0.990234375\n",
      "Confusion matrix\n",
      "True         0    1\n",
      "Predicted          \n",
      "0          412    0\n",
      "1            5  251\n",
      "              precision    recall  f1-score   support\n",
      "\n",
      "           0       0.99      1.00      0.99       412\n",
      "           1       1.00      0.98      0.99       256\n",
      "\n",
      "    accuracy                           0.99       668\n",
      "   macro avg       0.99      0.99      0.99       668\n",
      "weighted avg       0.99      0.99      0.99       668\n",
      "\n",
      "----------------------------------------------------------\n",
      "Test set\n",
      "Accuracy:  0.7982062780269058\n",
      "ROC AUC Score:  0.7816584620607706\n",
      "Confusion matrix\n",
      "True         0   1\n",
      "Predicted         \n",
      "0          117  20\n",
      "1           25  61\n",
      "              precision    recall  f1-score   support\n",
      "\n",
      "           0       0.82      0.85      0.84       137\n",
      "           1       0.75      0.71      0.73        86\n",
      "\n",
      "    accuracy                           0.80       223\n",
      "   macro avg       0.79      0.78      0.78       223\n",
      "weighted avg       0.80      0.80      0.80       223\n",
      "\n",
      "==========================================================\n",
      "GNB\n",
      "==========================================================\n",
      "Train set\n",
      "Accuracy:  0.7769461077844312\n",
      "ROC AUC Score:  0.7622307342233009\n",
      "Confusion matrix\n",
      "True         0    1\n",
      "Predicted          \n",
      "0          340   72\n",
      "1           77  179\n",
      "              precision    recall  f1-score   support\n",
      "\n",
      "           0       0.82      0.83      0.82       412\n",
      "           1       0.71      0.70      0.71       256\n",
      "\n",
      "    accuracy                           0.78       668\n",
      "   macro avg       0.76      0.76      0.76       668\n",
      "weighted avg       0.78      0.78      0.78       668\n",
      "\n",
      "----------------------------------------------------------\n",
      "Test set\n",
      "Accuracy:  0.7892376681614349\n",
      "ROC AUC Score:  0.7765235104396537\n",
      "Confusion matrix\n",
      "True         0   1\n",
      "Predicted         \n",
      "0          114  23\n",
      "1           24  62\n",
      "              precision    recall  f1-score   support\n",
      "\n",
      "           0       0.83      0.83      0.83       137\n",
      "           1       0.73      0.72      0.73        86\n",
      "\n",
      "    accuracy                           0.79       223\n",
      "   macro avg       0.78      0.78      0.78       223\n",
      "weighted avg       0.79      0.79      0.79       223\n",
      "\n",
      "==========================================================\n",
      "RF\n",
      "==========================================================\n",
      "Train set\n",
      "Accuracy:  0.9925149700598802\n",
      "ROC AUC Score:  0.990234375\n",
      "Confusion matrix\n",
      "True         0    1\n",
      "Predicted          \n",
      "0          412    0\n",
      "1            5  251\n",
      "              precision    recall  f1-score   support\n",
      "\n",
      "           0       0.99      1.00      0.99       412\n",
      "           1       1.00      0.98      0.99       256\n",
      "\n",
      "    accuracy                           0.99       668\n",
      "   macro avg       0.99      0.99      0.99       668\n",
      "weighted avg       0.99      0.99      0.99       668\n",
      "\n",
      "----------------------------------------------------------\n",
      "Test set\n",
      "Accuracy:  0.8251121076233184\n",
      "ROC AUC Score:  0.7992276353759973\n",
      "Confusion matrix\n",
      "True         0   1\n",
      "Predicted         \n",
      "0          125  12\n",
      "1           27  59\n",
      "              precision    recall  f1-score   support\n",
      "\n",
      "           0       0.82      0.91      0.87       137\n",
      "           1       0.83      0.69      0.75        86\n",
      "\n",
      "    accuracy                           0.83       223\n",
      "   macro avg       0.83      0.80      0.81       223\n",
      "weighted avg       0.83      0.83      0.82       223\n",
      "\n",
      "==========================================================\n",
      "GB\n",
      "==========================================================\n",
      "Train set\n",
      "Accuracy:  0.907185628742515\n",
      "ROC AUC Score:  0.8944364381067961\n",
      "Confusion matrix\n",
      "True         0    1\n",
      "Predicted          \n",
      "0          391   21\n",
      "1           41  215\n",
      "              precision    recall  f1-score   support\n",
      "\n",
      "           0       0.91      0.95      0.93       412\n",
      "           1       0.91      0.84      0.87       256\n",
      "\n",
      "    accuracy                           0.91       668\n",
      "   macro avg       0.91      0.89      0.90       668\n",
      "weighted avg       0.91      0.91      0.91       668\n",
      "\n",
      "----------------------------------------------------------\n",
      "Test set\n",
      "Accuracy:  0.8161434977578476\n",
      "ROC AUC Score:  0.7919283653030045\n",
      "Confusion matrix\n",
      "True         0   1\n",
      "Predicted         \n",
      "0          123  14\n",
      "1           27  59\n",
      "              precision    recall  f1-score   support\n",
      "\n",
      "           0       0.82      0.90      0.86       137\n",
      "           1       0.81      0.69      0.74        86\n",
      "\n",
      "    accuracy                           0.82       223\n",
      "   macro avg       0.81      0.79      0.80       223\n",
      "weighted avg       0.82      0.82      0.81       223\n",
      "\n",
      "==========================================================\n",
      "LGB\n",
      "==========================================================\n",
      "Train set\n"
     ]
    },
    {
     "name": "stdout",
     "output_type": "stream",
     "text": [
      "Accuracy:  0.9760479041916168\n",
      "ROC AUC Score:  0.9709685983009709\n",
      "Confusion matrix\n",
      "True         0    1\n",
      "Predicted          \n",
      "0          409    3\n",
      "1           13  243\n",
      "              precision    recall  f1-score   support\n",
      "\n",
      "           0       0.97      0.99      0.98       412\n",
      "           1       0.99      0.95      0.97       256\n",
      "\n",
      "    accuracy                           0.98       668\n",
      "   macro avg       0.98      0.97      0.97       668\n",
      "weighted avg       0.98      0.98      0.98       668\n",
      "\n",
      "----------------------------------------------------------\n",
      "Test set\n",
      "Accuracy:  0.8116591928251121\n",
      "ROC AUC Score:  0.7839500933627567\n",
      "Confusion matrix\n",
      "True         0   1\n",
      "Predicted         \n",
      "0          124  13\n",
      "1           29  57\n",
      "              precision    recall  f1-score   support\n",
      "\n",
      "           0       0.81      0.91      0.86       137\n",
      "           1       0.81      0.66      0.73        86\n",
      "\n",
      "    accuracy                           0.81       223\n",
      "   macro avg       0.81      0.78      0.79       223\n",
      "weighted avg       0.81      0.81      0.81       223\n",
      "\n",
      "==========================================================\n",
      "ADA\n",
      "==========================================================\n",
      "Train set\n",
      "Accuracy:  0.8517964071856288\n",
      "ROC AUC Score:  0.842138197815534\n",
      "Confusion matrix\n",
      "True         0    1\n",
      "Predicted          \n",
      "0          364   48\n",
      "1           51  205\n",
      "              precision    recall  f1-score   support\n",
      "\n",
      "           0       0.88      0.88      0.88       412\n",
      "           1       0.81      0.80      0.81       256\n",
      "\n",
      "    accuracy                           0.85       668\n",
      "   macro avg       0.84      0.84      0.84       668\n",
      "weighted avg       0.85      0.85      0.85       668\n",
      "\n",
      "----------------------------------------------------------\n",
      "Test set\n",
      "Accuracy:  0.7802690582959642\n",
      "ROC AUC Score:  0.7605669665591579\n",
      "Confusion matrix\n",
      "True         0   1\n",
      "Predicted         \n",
      "0          116  21\n",
      "1           28  58\n",
      "              precision    recall  f1-score   support\n",
      "\n",
      "           0       0.81      0.85      0.83       137\n",
      "           1       0.73      0.67      0.70        86\n",
      "\n",
      "    accuracy                           0.78       223\n",
      "   macro avg       0.77      0.76      0.76       223\n",
      "weighted avg       0.78      0.78      0.78       223\n",
      "\n",
      "==========================================================\n",
      "QDA\n",
      "==========================================================\n",
      "Train set\n",
      "Accuracy:  0.8308383233532934\n",
      "ROC AUC Score:  0.8184921116504854\n",
      "Confusion matrix\n",
      "True         0    1\n",
      "Predicted          \n",
      "0          359   53\n",
      "1           60  196\n",
      "              precision    recall  f1-score   support\n",
      "\n",
      "           0       0.86      0.87      0.86       412\n",
      "           1       0.79      0.77      0.78       256\n",
      "\n",
      "    accuracy                           0.83       668\n",
      "   macro avg       0.82      0.82      0.82       668\n",
      "weighted avg       0.83      0.83      0.83       668\n",
      "\n",
      "----------------------------------------------------------\n",
      "Test set\n",
      "Accuracy:  0.7847533632286996\n",
      "ROC AUC Score:  0.7707095569512816\n",
      "Confusion matrix\n",
      "True         0   1\n",
      "Predicted         \n",
      "0          114  23\n",
      "1           25  61\n",
      "              precision    recall  f1-score   support\n",
      "\n",
      "           0       0.82      0.83      0.83       137\n",
      "           1       0.73      0.71      0.72        86\n",
      "\n",
      "    accuracy                           0.78       223\n",
      "   macro avg       0.77      0.77      0.77       223\n",
      "weighted avg       0.78      0.78      0.78       223\n",
      "\n",
      "==========================================================\n",
      "NN\n",
      "==========================================================\n",
      "Train set\n",
      "Accuracy:  0.8338323353293413\n",
      "ROC AUC Score:  0.8223983616504854\n",
      "Confusion matrix\n",
      "True         0    1\n",
      "Predicted          \n",
      "0          359   53\n",
      "1           58  198\n",
      "              precision    recall  f1-score   support\n",
      "\n",
      "           0       0.86      0.87      0.87       412\n",
      "           1       0.79      0.77      0.78       256\n",
      "\n",
      "    accuracy                           0.83       668\n",
      "   macro avg       0.82      0.82      0.82       668\n",
      "weighted avg       0.83      0.83      0.83       668\n",
      "\n",
      "----------------------------------------------------------\n",
      "Test set\n",
      "Accuracy:  0.7713004484304933\n",
      "ROC AUC Score:  0.755432014938041\n",
      "Confusion matrix\n",
      "True         0   1\n",
      "Predicted         \n",
      "0          113  24\n",
      "1           27  59\n",
      "              precision    recall  f1-score   support\n",
      "\n",
      "           0       0.81      0.82      0.82       137\n",
      "           1       0.71      0.69      0.70        86\n",
      "\n",
      "    accuracy                           0.77       223\n",
      "   macro avg       0.76      0.76      0.76       223\n",
      "weighted avg       0.77      0.77      0.77       223\n",
      "\n",
      "==========================================================\n",
      "XGB\n",
      "==========================================================\n",
      "Train set\n",
      "Accuracy:  0.8922155688622755\n",
      "ROC AUC Score:  0.8786028519417476\n",
      "Confusion matrix\n",
      "True         0    1\n",
      "Predicted          \n",
      "0          386   26\n",
      "1           46  210\n",
      "              precision    recall  f1-score   support\n",
      "\n",
      "           0       0.89      0.94      0.91       412\n",
      "           1       0.89      0.82      0.85       256\n",
      "\n",
      "    accuracy                           0.89       668\n",
      "   macro avg       0.89      0.88      0.88       668\n",
      "weighted avg       0.89      0.89      0.89       668\n",
      "\n",
      "----------------------------------------------------------\n",
      "Test set\n",
      "Accuracy:  0.8251121076233184\n",
      "ROC AUC Score:  0.801391953827873\n",
      "Confusion matrix\n",
      "True         0   1\n",
      "Predicted         \n",
      "0          124  13\n",
      "1           26  60\n",
      "              precision    recall  f1-score   support\n",
      "\n",
      "           0       0.83      0.91      0.86       137\n",
      "           1       0.82      0.70      0.75        86\n",
      "\n",
      "    accuracy                           0.83       223\n",
      "   macro avg       0.82      0.80      0.81       223\n",
      "weighted avg       0.82      0.83      0.82       223\n",
      "\n",
      "==========================================================\n"
     ]
    }
   ],
   "source": [
    "def ModelEvaluation(models):\n",
    "    \n",
    "    for name,model in models:\n",
    "        print(name)\n",
    "        model.fit(X_train[training_vars], y_train)\n",
    "        \n",
    "        print('==========================================================')\n",
    "        print('Train set')\n",
    "        y_train_pred = model.predict(X_train[training_vars])\n",
    "        print('Accuracy: ', accuracy_score(y_train, list(y_train_pred)))\n",
    "        print('ROC AUC Score: ', roc_auc_score(y_train, list(y_train_pred)))\n",
    "        cm_df = pd.DataFrame(confusion_matrix(y_train,list(y_train_pred)), index=model.classes_,columns=model.classes_)\n",
    "        cm_df.index.name = 'Predicted'\n",
    "        cm_df.columns.name = 'True'\n",
    "        print('Confusion matrix')\n",
    "        print(cm_df)\n",
    "        print(classification_report(y_train, list(y_train_pred)))\n",
    "  \n",
    "        print('----------------------------------------------------------')\n",
    "        print('Test set')\n",
    "        y_test_pred = model.predict(X_test[training_vars])\n",
    "        print('Accuracy: ', accuracy_score(y_test, list(y_test_pred)))\n",
    "        print('ROC AUC Score: ', roc_auc_score(y_test, list(y_test_pred)))\n",
    "        cm_df = pd.DataFrame(confusion_matrix(y_test,list(y_test_pred)), index=model.classes_,columns=model.classes_)\n",
    "        cm_df.index.name = 'Predicted'\n",
    "        cm_df.columns.name = 'True'\n",
    "        print('Confusion matrix')\n",
    "        print(cm_df)\n",
    "        print(classification_report(y_test, list(y_test_pred)))\n",
    "        print('==========================================================')\n",
    "        \n",
    "ModelEvaluation(models)"
   ]
  },
  {
   "cell_type": "markdown",
   "metadata": {},
   "source": [
    "#### xgboost"
   ]
  },
  {
   "cell_type": "code",
   "execution_count": 221,
   "metadata": {},
   "outputs": [
    {
     "name": "stdout",
     "output_type": "stream",
     "text": [
      "Train Accuracy:  0.8922155688622755\n",
      "xgb train roc-auc: 0.9454784208131068\n",
      "Test Accuracy:  0.8251121076233184\n",
      "xgb test roc-auc: 0.872559837039552\n"
     ]
    }
   ],
   "source": [
    "xgb_model = XGBClassifier()\n",
    "\n",
    "eval_set = [(X_test[training_vars], y_test)]\n",
    "xgb_model.fit(X_train[training_vars], y_train, eval_metric=\"auc\", eval_set=eval_set, verbose=False)\n",
    "\n",
    "pred = xgb_model.predict_proba(X_train[training_vars])\n",
    "y_train_pred = xgb_model.predict(X_train[training_vars])\n",
    "print('Train Accuracy: ', accuracy_score(y_train, list(y_train_pred)))\n",
    "print('xgb train roc-auc: {}'.format(roc_auc_score(y_train, pred[:,1])))\n",
    "pred = xgb_model.predict_proba(X_test[training_vars])\n",
    "y_test_pred = xgb_model.predict(X_test[training_vars])\n",
    "print('Test Accuracy: ', accuracy_score(y_test, list(y_test_pred)))\n",
    "print('xgb test roc-auc: {}'.format(roc_auc_score(y_test, pred[:,1])))"
   ]
  },
  {
   "cell_type": "code",
   "execution_count": 222,
   "metadata": {},
   "outputs": [
    {
     "name": "stdout",
     "output_type": "stream",
     "text": [
      "              precision    recall  f1-score   support\n",
      "\n",
      "           0       0.89      0.94      0.91       412\n",
      "           1       0.89      0.82      0.85       256\n",
      "\n",
      "    accuracy                           0.89       668\n",
      "   macro avg       0.89      0.88      0.88       668\n",
      "weighted avg       0.89      0.89      0.89       668\n",
      "\n"
     ]
    }
   ],
   "source": [
    "print(classification_report(y_train, list(y_train_pred)))"
   ]
  },
  {
   "cell_type": "code",
   "execution_count": 223,
   "metadata": {},
   "outputs": [
    {
     "name": "stdout",
     "output_type": "stream",
     "text": [
      "              precision    recall  f1-score   support\n",
      "\n",
      "           0       0.83      0.91      0.86       137\n",
      "           1       0.82      0.70      0.75        86\n",
      "\n",
      "    accuracy                           0.83       223\n",
      "   macro avg       0.82      0.80      0.81       223\n",
      "weighted avg       0.82      0.83      0.82       223\n",
      "\n"
     ]
    }
   ],
   "source": [
    "print(classification_report(y_test, list(y_test_pred)))"
   ]
  },
  {
   "cell_type": "markdown",
   "metadata": {},
   "source": [
    "#### Random Forests"
   ]
  },
  {
   "cell_type": "code",
   "execution_count": 224,
   "metadata": {},
   "outputs": [
    {
     "name": "stdout",
     "output_type": "stream",
     "text": [
      "Train Accuracy:  0.9925149700598802\n",
      "RF train roc-auc: 0.9997060831310679\n",
      "Test Accuracy:  0.820627802690583\n",
      "RF test roc-auc: 0.8484128331352911\n"
     ]
    }
   ],
   "source": [
    "rf_model = RandomForestClassifier()\n",
    "rf_model.fit(X_train[training_vars], y_train)\n",
    "\n",
    "pred = rf_model.predict_proba(X_train[training_vars])\n",
    "y_train_pred = rf_model.predict(X_train[training_vars])\n",
    "print('Train Accuracy: ', accuracy_score(y_train, list(y_train_pred)))\n",
    "print('RF train roc-auc: {}'.format(roc_auc_score(y_train, pred[:,1])))\n",
    "\n",
    "pred = rf_model.predict_proba(X_test[training_vars])\n",
    "y_test_pred = rf_model.predict(X_test[training_vars])\n",
    "print('Test Accuracy: ', accuracy_score(y_test, list(y_test_pred)))\n",
    "print('RF test roc-auc: {}'.format(roc_auc_score(y_test, pred[:,1])))"
   ]
  },
  {
   "cell_type": "code",
   "execution_count": 225,
   "metadata": {},
   "outputs": [
    {
     "name": "stdout",
     "output_type": "stream",
     "text": [
      "              precision    recall  f1-score   support\n",
      "\n",
      "           0       0.99      1.00      0.99       412\n",
      "           1       1.00      0.98      0.99       256\n",
      "\n",
      "    accuracy                           0.99       668\n",
      "   macro avg       0.99      0.99      0.99       668\n",
      "weighted avg       0.99      0.99      0.99       668\n",
      "\n"
     ]
    }
   ],
   "source": [
    "print(classification_report(y_train, list(y_train_pred)))"
   ]
  },
  {
   "cell_type": "code",
   "execution_count": 226,
   "metadata": {},
   "outputs": [
    {
     "name": "stdout",
     "output_type": "stream",
     "text": [
      "              precision    recall  f1-score   support\n",
      "\n",
      "           0       0.82      0.91      0.86       137\n",
      "           1       0.82      0.69      0.75        86\n",
      "\n",
      "    accuracy                           0.82       223\n",
      "   macro avg       0.82      0.80      0.80       223\n",
      "weighted avg       0.82      0.82      0.82       223\n",
      "\n"
     ]
    }
   ],
   "source": [
    "print(classification_report(y_test, list(y_test_pred)))"
   ]
  },
  {
   "cell_type": "code",
   "execution_count": null,
   "metadata": {},
   "outputs": [],
   "source": []
  },
  {
   "cell_type": "markdown",
   "metadata": {},
   "source": [
    "#### Adaboost"
   ]
  },
  {
   "cell_type": "code",
   "execution_count": 227,
   "metadata": {},
   "outputs": [
    {
     "name": "stdout",
     "output_type": "stream",
     "text": [
      "Adaboost train roc-auc: 0.916091474514563\n",
      "Adaboost test roc-auc: 0.828509590901375\n"
     ]
    }
   ],
   "source": [
    "ada_model = AdaBoostClassifier()\n",
    "ada_model.fit(X_train[training_vars], y_train)\n",
    "\n",
    "pred = ada_model.predict_proba(X_train[training_vars])\n",
    "print('Adaboost train roc-auc: {}'.format(roc_auc_score(y_train, pred[:,1])))\n",
    "pred = ada_model.predict_proba(X_test[training_vars])\n",
    "print('Adaboost test roc-auc: {}'.format(roc_auc_score(y_test, pred[:,1])))"
   ]
  },
  {
   "cell_type": "markdown",
   "metadata": {},
   "source": [
    "#### Logistic regression"
   ]
  },
  {
   "cell_type": "code",
   "execution_count": 300,
   "metadata": {},
   "outputs": [
    {
     "name": "stdout",
     "output_type": "stream",
     "text": [
      "Logit train roc-auc: 0.8864817202669903\n",
      "Logit test roc-auc: 0.8554150398913597\n"
     ]
    }
   ],
   "source": [
    "logit_model = LogisticRegression()\n",
    "logit_model.fit(scaler.transform(X_train[training_vars]), y_train)\n",
    "\n",
    "pred = logit_model.predict_proba(scaler.transform(X_train[training_vars]))\n",
    "print('Logit train roc-auc: {}'.format(roc_auc_score(y_train, pred[:,1])))\n",
    "pred = logit_model.predict_proba(scaler.transform(X_test[training_vars]))\n",
    "print('Logit test roc-auc: {}'.format(roc_auc_score(y_test, pred[:,1])))"
   ]
  },
  {
   "cell_type": "markdown",
   "metadata": {},
   "source": [
    "### Select threshold for maximum accuracy"
   ]
  },
  {
   "cell_type": "code",
   "execution_count": 229,
   "metadata": {},
   "outputs": [
    {
     "name": "stdout",
     "output_type": "stream",
     "text": [
      "Ensemble test roc-auc: 0.8628840604311662\n"
     ]
    }
   ],
   "source": [
    "pred_ls = []\n",
    "for model in [xgb_model, rf_model, ada_model, logit_model]:\n",
    "    pred_ls.append(pd.Series(model.predict_proba(X_test[training_vars])[:,1]))\n",
    "\n",
    "final_pred = pd.concat(pred_ls, axis=1).mean(axis=1)\n",
    "print('Ensemble test roc-auc: {}'.format(roc_auc_score(y_test,final_pred)))"
   ]
  },
  {
   "cell_type": "code",
   "execution_count": 230,
   "metadata": {
    "scrolled": true
   },
   "outputs": [
    {
     "data": {
      "text/plain": [
       "array([1.62764507, 0.62764507, 0.56797012, 0.56417343, 0.55720727,\n",
       "       0.55507242, 0.5273123 , 0.52345745, 0.50687492, 0.49509633,\n",
       "       0.48707828, 0.48655351, 0.44224703, 0.40330573, 0.40217008,\n",
       "       0.3975981 , 0.3853011 , 0.38225886, 0.37639695, 0.37043703,\n",
       "       0.3699511 , 0.35846566, 0.34937294, 0.34445146, 0.33609891,\n",
       "       0.33282961, 0.3214561 , 0.31944167, 0.29679365, 0.27606078,\n",
       "       0.2708753 , 0.2638218 , 0.26340472, 0.25447466, 0.25334665,\n",
       "       0.24437294, 0.24168308, 0.22998787, 0.22953174, 0.22169593,\n",
       "       0.22030031, 0.20472615, 0.20382649, 0.20193098, 0.20142172,\n",
       "       0.19425281, 0.19382271, 0.18449286, 0.18327862, 0.18076118,\n",
       "       0.18027007, 0.15708435, 0.15543483, 0.15379603, 0.15359498,\n",
       "       0.15249702, 0.15213014, 0.15154638, 0.15089811, 0.14994438,\n",
       "       0.1491663 , 0.14635345, 0.14424247, 0.14097203, 0.14010905,\n",
       "       0.13696409, 0.13667641, 0.13415568, 0.13392765, 0.13292927,\n",
       "       0.13142765, 0.12919821, 0.12500112])"
      ]
     },
     "execution_count": 230,
     "metadata": {},
     "output_type": "execute_result"
    }
   ],
   "source": [
    "tpr, tpr, thresholds = metrics.roc_curve(y_test, final_pred)\n",
    "thresholds"
   ]
  },
  {
   "cell_type": "code",
   "execution_count": 231,
   "metadata": {
    "scrolled": true
   },
   "outputs": [
    {
     "data": {
      "text/html": [
       "<div>\n",
       "<style scoped>\n",
       "    .dataframe tbody tr th:only-of-type {\n",
       "        vertical-align: middle;\n",
       "    }\n",
       "\n",
       "    .dataframe tbody tr th {\n",
       "        vertical-align: top;\n",
       "    }\n",
       "\n",
       "    .dataframe thead th {\n",
       "        text-align: right;\n",
       "    }\n",
       "</style>\n",
       "<table border=\"1\" class=\"dataframe\">\n",
       "  <thead>\n",
       "    <tr style=\"text-align: right;\">\n",
       "      <th></th>\n",
       "      <th>thresholds</th>\n",
       "      <th>accuracy</th>\n",
       "    </tr>\n",
       "  </thead>\n",
       "  <tbody>\n",
       "    <tr>\n",
       "      <th>12</th>\n",
       "      <td>0.442247</td>\n",
       "      <td>0.838565</td>\n",
       "    </tr>\n",
       "    <tr>\n",
       "      <th>17</th>\n",
       "      <td>0.382259</td>\n",
       "      <td>0.829596</td>\n",
       "    </tr>\n",
       "    <tr>\n",
       "      <th>16</th>\n",
       "      <td>0.385301</td>\n",
       "      <td>0.825112</td>\n",
       "    </tr>\n",
       "    <tr>\n",
       "      <th>15</th>\n",
       "      <td>0.397598</td>\n",
       "      <td>0.825112</td>\n",
       "    </tr>\n",
       "    <tr>\n",
       "      <th>18</th>\n",
       "      <td>0.376397</td>\n",
       "      <td>0.825112</td>\n",
       "    </tr>\n",
       "  </tbody>\n",
       "</table>\n",
       "</div>"
      ],
      "text/plain": [
       "    thresholds  accuracy\n",
       "12    0.442247  0.838565\n",
       "17    0.382259  0.829596\n",
       "16    0.385301  0.825112\n",
       "15    0.397598  0.825112\n",
       "18    0.376397  0.825112"
      ]
     },
     "execution_count": 231,
     "metadata": {},
     "output_type": "execute_result"
    }
   ],
   "source": [
    "accuracy_ls = []\n",
    "for thres in thresholds:\n",
    "    y_pred = np.where(final_pred>thres,1,0)\n",
    "    accuracy_ls.append(metrics.accuracy_score(y_test, y_pred, normalize=True))\n",
    "    \n",
    "accuracy_ls = pd.concat([pd.Series(thresholds), pd.Series(accuracy_ls)],\n",
    "                        axis=1)\n",
    "accuracy_ls.columns = ['thresholds', 'accuracy']\n",
    "accuracy_ls.sort_values(by='accuracy', ascending=False, inplace=True)\n",
    "accuracy_ls.head()"
   ]
  },
  {
   "cell_type": "markdown",
   "metadata": {},
   "source": [
    "# 11. Feature importance"
   ]
  },
  {
   "cell_type": "code",
   "execution_count": 232,
   "metadata": {},
   "outputs": [
    {
     "data": {
      "text/plain": [
       "<matplotlib.axes._subplots.AxesSubplot at 0x1b8f1f03d30>"
      ]
     },
     "execution_count": 232,
     "metadata": {},
     "output_type": "execute_result"
    },
    {
     "data": {
      "image/png": "[encoded data removed]",
      "text/plain": [
       "<Figure size 864x432 with 1 Axes>"
      ]
     },
     "metadata": {
      "needs_background": "light"
     },
     "output_type": "display_data"
    }
   ],
   "source": [
    "importance = pd.Series(rf_model.feature_importances_)\n",
    "importance.index = training_vars\n",
    "importance.sort_values(inplace=True, ascending=False)\n",
    "importance.plot.bar(figsize=(12,6))"
   ]
  },
  {
   "cell_type": "code",
   "execution_count": 233,
   "metadata": {},
   "outputs": [
    {
     "data": {
      "text/plain": [
       "<matplotlib.axes._subplots.AxesSubplot at 0x1b8808ce0f0>"
      ]
     },
     "execution_count": 233,
     "metadata": {},
     "output_type": "execute_result"
    },
    {
     "data": {
      "image/png": "[encoded data removed]",
      "text/plain": [
       "<Figure size 864x432 with 1 Axes>"
      ]
     },
     "metadata": {
      "needs_background": "light"
     },
     "output_type": "display_data"
    }
   ],
   "source": [
    "importance = pd.Series(xgb_model.feature_importances_)\n",
    "importance.index = training_vars\n",
    "importance.sort_values(inplace=True, ascending=False)\n",
    "importance.plot.bar(figsize=(12,6))"
   ]
  },
  {
   "cell_type": "code",
   "execution_count": 234,
   "metadata": {},
   "outputs": [
    {
     "data": {
      "text/plain": [
       "<matplotlib.axes._subplots.AxesSubplot at 0x1b8808ab0b8>"
      ]
     },
     "execution_count": 234,
     "metadata": {},
     "output_type": "execute_result"
    },
    {
     "data": {
      "image/png": "[encoded data removed]",
      "text/plain": [
       "<Figure size 864x432 with 1 Axes>"
      ]
     },
     "metadata": {
      "needs_background": "light"
     },
     "output_type": "display_data"
    }
   ],
   "source": [
    "importance = pd.Series(np.abs(logit_model.coef_.ravel()))\n",
    "importance.index = training_vars\n",
    "importance.sort_values(inplace=True, ascending=False)\n",
    "importance.plot.bar(figsize=(12,6))"
   ]
  },
  {
   "cell_type": "code",
   "execution_count": null,
   "metadata": {},
   "outputs": [],
   "source": []
  },
  {
   "cell_type": "code",
   "execution_count": null,
   "metadata": {},
   "outputs": [],
   "source": []
  },
  {
   "cell_type": "code",
   "execution_count": null,
   "metadata": {},
   "outputs": [],
   "source": []
  },
  {
   "cell_type": "code",
   "execution_count": null,
   "metadata": {},
   "outputs": [],
   "source": []
  },
  {
   "cell_type": "code",
   "execution_count": null,
   "metadata": {},
   "outputs": [],
   "source": []
  },
  {
   "cell_type": "code",
   "execution_count": null,
   "metadata": {},
   "outputs": [],
   "source": []
  },
  {
   "cell_type": "code",
   "execution_count": null,
   "metadata": {},
   "outputs": [],
   "source": []
  },
  {
   "cell_type": "code",
   "execution_count": null,
   "metadata": {},
   "outputs": [],
   "source": []
  },
  {
   "cell_type": "code",
   "execution_count": null,
   "metadata": {},
   "outputs": [],
   "source": []
  },
  {
   "cell_type": "code",
   "execution_count": null,
   "metadata": {},
   "outputs": [],
   "source": []
  },
  {
   "cell_type": "code",
   "execution_count": null,
   "metadata": {},
   "outputs": [],
   "source": []
  },
  {
   "cell_type": "code",
   "execution_count": null,
   "metadata": {},
   "outputs": [],
   "source": []
  },
  {
   "cell_type": "code",
   "execution_count": null,
   "metadata": {},
   "outputs": [],
   "source": []
  },
  {
   "cell_type": "code",
   "execution_count": null,
   "metadata": {},
   "outputs": [],
   "source": []
  },
  {
   "cell_type": "code",
   "execution_count": null,
   "metadata": {},
   "outputs": [],
   "source": []
  },
  {
   "cell_type": "code",
   "execution_count": null,
   "metadata": {},
   "outputs": [],
   "source": []
  }
 ],
 "metadata": {
  "kernelspec": {
   "display_name": "Python 3",
   "language": "python",
   "name": "python3"
  },
  "language_info": {
   "codemirror_mode": {
    "name": "ipython",
    "version": 3
   },
   "file_extension": ".py",
   "mimetype": "text/x-python",
   "name": "python",
   "nbconvert_exporter": "python",
   "pygments_lexer": "ipython3",
   "version": "3.7.3"
  },
  "toc": {
   "nav_menu": {},
   "number_sections": true,
   "sideBar": true,
   "skip_h1_title": false,
   "toc_cell": false,
   "toc_position": {
    "height": "583px",
    "left": "0px",
    "right": "1324px",
    "top": "107px",
    "width": "326px"
   },
   "toc_section_display": "block",
   "toc_window_display": true
  }
 },
 "nbformat": 4,
 "nbformat_minor": 2
}
