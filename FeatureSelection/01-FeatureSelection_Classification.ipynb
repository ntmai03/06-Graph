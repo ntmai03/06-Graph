{
 "cells": [
  {
   "cell_type": "markdown",
   "metadata": {},
   "source": [
    "Todo:\n",
    "    \n",
    "    1. Review current notebook\n",
    "    2. Review the anlaysis of Credit card for understanding data and filling missing data\n",
    "    2. Add Logistic Regression using stats model\n",
    "    3. Add Feature Selection in Credit card analysis\n",
    "    4. Review and add methods of reference Feature Selection\n",
    "    5. Try with other datasets"
   ]
  },
  {
   "cell_type": "markdown",
   "metadata": {},
   "source": [
    "# 1. Import library"
   ]
  },
  {
   "cell_type": "code",
   "execution_count": 62,
   "metadata": {},
   "outputs": [
    {
     "name": "stdout",
     "output_type": "stream",
     "text": [
      "Setup complete...\n"
     ]
    }
   ],
   "source": [
    "import pandas as pd\n",
    "import numpy as np\n",
    "\n",
    "import matplotlib.pyplot as plt\n",
    "import seaborn as sns\n",
    "%matplotlib inline\n",
    "\n",
    "from sklearn.model_selection import train_test_split\n",
    "from sklearn.feature_selection import VarianceThreshold\n",
    "\n",
    "from sklearn.ensemble import RandomForestClassifier, RandomForestRegressor\n",
    "from sklearn.ensemble import GradientBoostingClassifier\n",
    "from sklearn.linear_model import Lasso, LogisticRegression\n",
    "from sklearn.tree import DecisionTreeClassifier\n",
    "import xgboost as xgb\n",
    "from sklearn.feature_selection import SelectFromModel\n",
    "from sklearn.preprocessing import StandardScaler\n",
    "\n",
    "from sklearn.feature_selection import RFE\n",
    "from sklearn.metrics import roc_auc_score\n",
    "\n",
    "# Evaluation metrics for Classification\n",
    "from sklearn.metrics import accuracy_score, confusion_matrix, precision_score, recall_score, f1_score, classification_report, roc_auc_score, roc_curve, precision_recall_curve, average_precision_score\n",
    "\n",
    "# Evaluation metrics for Regression \n",
    "from sklearn.metrics import mean_squared_log_error, mean_squared_error, r2_score, mean_absolute_error\n",
    "from sklearn.metrics import (confusion_matrix, classification_report, accuracy_score, roc_auc_score, auc,\n",
    "                             precision_score, recall_score, roc_curve, precision_recall_curve,\n",
    "                             precision_recall_fscore_support, f1_score,\n",
    "                             precision_recall_fscore_support)\n",
    "\n",
    "from sklearn.feature_selection import mutual_info_classif, mutual_info_regression\n",
    "from sklearn.feature_selection import SelectKBest, SelectPercentile\n",
    "from sklearn.feature_selection import f_classif, f_regression\n",
    "\n",
    "# Configuration\n",
    "pd.set_option('display.max_rows', 500)\n",
    "pd.set_option('display.max_columns', None)\n",
    "pd.set_option('display.width', 500)\n",
    "\n",
    "# Supress warnings\n",
    "import warnings\n",
    "warnings.filterwarnings(\"ignore\")\n",
    "\n",
    "print(\"Setup complete...\")"
   ]
  },
  {
   "cell_type": "markdown",
   "metadata": {},
   "source": [
    "# 2. Import data"
   ]
  },
  {
   "cell_type": "code",
   "execution_count": 7,
   "metadata": {},
   "outputs": [
    {
     "data": {
      "text/html": [
       "<div>\n",
       "<style scoped>\n",
       "    .dataframe tbody tr th:only-of-type {\n",
       "        vertical-align: middle;\n",
       "    }\n",
       "\n",
       "    .dataframe tbody tr th {\n",
       "        vertical-align: top;\n",
       "    }\n",
       "\n",
       "    .dataframe thead th {\n",
       "        text-align: right;\n",
       "    }\n",
       "</style>\n",
       "<table border=\"1\" class=\"dataframe\">\n",
       "  <thead>\n",
       "    <tr style=\"text-align: right;\">\n",
       "      <th></th>\n",
       "      <th>CustomerID</th>\n",
       "      <th>A1</th>\n",
       "      <th>A2</th>\n",
       "      <th>A3</th>\n",
       "      <th>A4</th>\n",
       "      <th>A5</th>\n",
       "      <th>A6</th>\n",
       "      <th>A7</th>\n",
       "      <th>A8</th>\n",
       "      <th>A9</th>\n",
       "      <th>A10</th>\n",
       "      <th>A11</th>\n",
       "      <th>A12</th>\n",
       "      <th>A13</th>\n",
       "      <th>A14</th>\n",
       "      <th>Class</th>\n",
       "    </tr>\n",
       "  </thead>\n",
       "  <tbody>\n",
       "    <tr>\n",
       "      <th>0</th>\n",
       "      <td>15776156</td>\n",
       "      <td>1</td>\n",
       "      <td>22.08</td>\n",
       "      <td>11.46</td>\n",
       "      <td>2</td>\n",
       "      <td>4</td>\n",
       "      <td>4</td>\n",
       "      <td>1.585</td>\n",
       "      <td>0</td>\n",
       "      <td>0</td>\n",
       "      <td>0</td>\n",
       "      <td>1</td>\n",
       "      <td>2</td>\n",
       "      <td>100</td>\n",
       "      <td>1213</td>\n",
       "      <td>0</td>\n",
       "    </tr>\n",
       "    <tr>\n",
       "      <th>1</th>\n",
       "      <td>15739548</td>\n",
       "      <td>0</td>\n",
       "      <td>22.67</td>\n",
       "      <td>7.00</td>\n",
       "      <td>2</td>\n",
       "      <td>8</td>\n",
       "      <td>4</td>\n",
       "      <td>0.165</td>\n",
       "      <td>0</td>\n",
       "      <td>0</td>\n",
       "      <td>0</td>\n",
       "      <td>0</td>\n",
       "      <td>2</td>\n",
       "      <td>160</td>\n",
       "      <td>1</td>\n",
       "      <td>0</td>\n",
       "    </tr>\n",
       "    <tr>\n",
       "      <th>2</th>\n",
       "      <td>15662854</td>\n",
       "      <td>0</td>\n",
       "      <td>29.58</td>\n",
       "      <td>1.75</td>\n",
       "      <td>1</td>\n",
       "      <td>4</td>\n",
       "      <td>4</td>\n",
       "      <td>1.250</td>\n",
       "      <td>0</td>\n",
       "      <td>0</td>\n",
       "      <td>0</td>\n",
       "      <td>1</td>\n",
       "      <td>2</td>\n",
       "      <td>280</td>\n",
       "      <td>1</td>\n",
       "      <td>0</td>\n",
       "    </tr>\n",
       "    <tr>\n",
       "      <th>3</th>\n",
       "      <td>15687688</td>\n",
       "      <td>0</td>\n",
       "      <td>21.67</td>\n",
       "      <td>11.50</td>\n",
       "      <td>1</td>\n",
       "      <td>5</td>\n",
       "      <td>3</td>\n",
       "      <td>0.000</td>\n",
       "      <td>1</td>\n",
       "      <td>1</td>\n",
       "      <td>11</td>\n",
       "      <td>1</td>\n",
       "      <td>2</td>\n",
       "      <td>0</td>\n",
       "      <td>1</td>\n",
       "      <td>1</td>\n",
       "    </tr>\n",
       "    <tr>\n",
       "      <th>4</th>\n",
       "      <td>15715750</td>\n",
       "      <td>1</td>\n",
       "      <td>20.17</td>\n",
       "      <td>8.17</td>\n",
       "      <td>2</td>\n",
       "      <td>6</td>\n",
       "      <td>4</td>\n",
       "      <td>1.960</td>\n",
       "      <td>1</td>\n",
       "      <td>1</td>\n",
       "      <td>14</td>\n",
       "      <td>0</td>\n",
       "      <td>2</td>\n",
       "      <td>60</td>\n",
       "      <td>159</td>\n",
       "      <td>1</td>\n",
       "    </tr>\n",
       "  </tbody>\n",
       "</table>\n",
       "</div>"
      ],
      "text/plain": [
       "   CustomerID  A1     A2     A3  A4  A5  A6     A7  A8  A9  A10  A11  A12  \\\n",
       "0    15776156   1  22.08  11.46   2   4   4  1.585   0   0    0    1    2   \n",
       "1    15739548   0  22.67   7.00   2   8   4  0.165   0   0    0    0    2   \n",
       "2    15662854   0  29.58   1.75   1   4   4  1.250   0   0    0    1    2   \n",
       "3    15687688   0  21.67  11.50   1   5   3  0.000   1   1   11    1    2   \n",
       "4    15715750   1  20.17   8.17   2   6   4  1.960   1   1   14    0    2   \n",
       "\n",
       "   A13   A14  Class  \n",
       "0  100  1213      0  \n",
       "1  160     1      0  \n",
       "2  280     1      0  \n",
       "3    0     1      1  \n",
       "4   60   159      1  "
      ]
     },
     "execution_count": 7,
     "metadata": {},
     "output_type": "execute_result"
    }
   ],
   "source": [
    "# load dataset\n",
    "df = pd.read_csv('../Data/Credit_Card_Applications.csv')\n",
    "df.head()"
   ]
  },
  {
   "cell_type": "markdown",
   "metadata": {},
   "source": [
    "# 3. Separate train set and test set\n",
    "\n",
    "In all feature selection procedures, it is goog practice to select the features by examining only the trainingset. And this is to avoid overfitting"
   ]
  },
  {
   "cell_type": "code",
   "execution_count": 8,
   "metadata": {},
   "outputs": [
    {
     "data": {
      "text/plain": [
       "((483, 14), (207, 14))"
      ]
     },
     "execution_count": 8,
     "metadata": {},
     "output_type": "execute_result"
    }
   ],
   "source": [
    "X = df.drop(['CustomerID','Class'], axis=1)\n",
    "y = df['Class']\n",
    "\n",
    "from sklearn.model_selection import train_test_split\n",
    "X_train, X_test, y_train, y_test = train_test_split(X, y, test_size = 0.3, random_state = 0, stratify = y)\n",
    "\n",
    "X_train.shape, X_test.shape"
   ]
  },
  {
   "cell_type": "code",
   "execution_count": 9,
   "metadata": {},
   "outputs": [
    {
     "data": {
      "text/plain": [
       "Index(['A1', 'A2', 'A3', 'A4', 'A5', 'A6', 'A7', 'A8', 'A9', 'A10', 'A11',\n",
       "       'A12', 'A13', 'A14'],\n",
       "      dtype='object')"
      ]
     },
     "execution_count": 9,
     "metadata": {},
     "output_type": "execute_result"
    }
   ],
   "source": [
    "# I keep a copy of the dataset with all the variables\n",
    "# to measure the performance of machine learning models\n",
    "# at the end of the notebook\n",
    "\n",
    "X_train_original = X_train.copy()\n",
    "X_test_original = X_test.copy()\n",
    "\n",
    "original_features = X_train_original.columns\n",
    "original_features"
   ]
  },
  {
   "cell_type": "markdown",
   "metadata": {},
   "source": [
    "# 4. Basic Filter"
   ]
  },
  {
   "cell_type": "markdown",
   "metadata": {},
   "source": [
    "### 4.1. Remove constant features\n",
    "\n",
    "Constant features are those that show the same value, just one value, for all the observations of the dataset. This is, the same value for all the rows of the dataset. These features provide no information that allows a machine learning model to discriminate or predict a target"
   ]
  },
  {
   "cell_type": "code",
   "execution_count": 10,
   "metadata": {},
   "outputs": [
    {
     "name": "stdout",
     "output_type": "stream",
     "text": [
      "[]\n",
      "\n",
      "['A1', 'A2', 'A3', 'A4', 'A5', 'A6', 'A7', 'A8', 'A9', 'A10', 'A11', 'A12', 'A13', 'A14']\n"
     ]
    }
   ],
   "source": [
    "# remove constant features\n",
    "constant_features = [\n",
    "    feat for feat in X_train.columns if X_train[feat].std() == 0\n",
    "]\n",
    "features_to_keep = [var for var in X_train.columns if var not in constant_features]\n",
    "\n",
    "print(constant_features)\n",
    "print()\n",
    "print(features_to_keep)"
   ]
  },
  {
   "cell_type": "markdown",
   "metadata": {},
   "source": [
    "### 4.2. Remove quasi-constant features\n",
    "\n",
    "Quasi-constant features are those that show the same value for the great majority of the observations of the dataset. In general, these features provide little if any information that allows a machine learning model to discriminate or predict a target. But there can be exceptions. So you should be careful when removing these type of features\n",
    "\n",
    "Variance threshold from sklearn is a simple baseline approach to feature selection. It removes all features which variance doesn’t meet some threshold. By default, it removes all zero-variance features, i.e., features that have the same value in all samples."
   ]
  },
  {
   "cell_type": "code",
   "execution_count": 11,
   "metadata": {},
   "outputs": [
    {
     "data": {
      "text/plain": [
       "14"
      ]
     },
     "execution_count": 11,
     "metadata": {},
     "output_type": "execute_result"
    }
   ],
   "source": [
    "# remove quasi-constant features\n",
    "sel = VarianceThreshold(threshold=0.01)  # 0.1 indicates 99% of observations approximately\n",
    "\n",
    "sel.fit(X_train)  # fit finds the features with low variance\n",
    "\n",
    "sum(sel.get_support()) # how many not quasi-constant?"
   ]
  },
  {
   "cell_type": "code",
   "execution_count": 14,
   "metadata": {},
   "outputs": [
    {
     "name": "stdout",
     "output_type": "stream",
     "text": [
      "[]\n",
      "\n",
      "Index(['A1', 'A2', 'A3', 'A4', 'A5', 'A6', 'A7', 'A8', 'A9', 'A10', 'A11',\n",
      "       'A12', 'A13', 'A14'],\n",
      "      dtype='object')\n"
     ]
    }
   ],
   "source": [
    "quasiconst_features = [x for x in X_train.columns if x not in X_train.columns[sel.get_support()]]\n",
    "features_to_keep = X_train.columns[sel.get_support()]\n",
    "\n",
    "print(quasiconst_features)\n",
    "print()\n",
    "print(features_to_keep)"
   ]
  },
  {
   "cell_type": "code",
   "execution_count": 15,
   "metadata": {},
   "outputs": [],
   "source": [
    "# sklearn transformations lead to numpy arrays\n",
    "# here I transform the arrays back to dataframes\n",
    "# please be mindful of getting the columns assigned\n",
    "# correctly\n",
    "\n",
    "X_train= pd.DataFrame(X_train)\n",
    "X_train.columns = features_to_keep\n",
    "\n",
    "X_test= pd.DataFrame(X_test)\n",
    "X_test.columns = features_to_keep"
   ]
  },
  {
   "cell_type": "markdown",
   "metadata": {},
   "source": [
    "### 4.3. Remove duplicated features\n",
    "\n",
    "Often datasets contain one or more features that show the same values across all the observations. This means that both features are in essence identical. In addition, it is not unusual to introduce duplicated features after performing **one hot encoding** of categorical variables, particularly when using several highly cardinal variables.\n",
    "\n",
    "Identifying and removing duplicated, and therefore redundant features, is an easy first step towards feature selection and more easily interpretable machine learning models.\n",
    "\n",
    "**Note**\n",
    "Finding duplicated features is a computationally costly operation in Python, therefore depending on the size of your dataset, you might not always be able to perform it."
   ]
  },
  {
   "cell_type": "code",
   "execution_count": 16,
   "metadata": {},
   "outputs": [
    {
     "name": "stdout",
     "output_type": "stream",
     "text": [
      "0\n",
      "10\n"
     ]
    },
    {
     "data": {
      "text/plain": [
       "0"
      ]
     },
     "execution_count": 16,
     "metadata": {},
     "output_type": "execute_result"
    }
   ],
   "source": [
    "# check for duplicated features in the training set\n",
    "duplicated_feat = []\n",
    "for i in range(0, len(X_train.columns)):\n",
    "    if i % 10 == 0:  # this helps me understand how the loop is going\n",
    "        print(i)\n",
    "\n",
    "    col_1 = X_train.columns[i]\n",
    "\n",
    "    for col_2 in X_train.columns[i + 1:]:\n",
    "        if X_train[col_1].equals(X_train[col_2]):\n",
    "            duplicated_feat.append(col_2)\n",
    "            \n",
    "len(duplicated_feat)"
   ]
  },
  {
   "cell_type": "code",
   "execution_count": 17,
   "metadata": {},
   "outputs": [
    {
     "data": {
      "text/plain": [
       "((483, 14), (207, 14))"
      ]
     },
     "execution_count": 17,
     "metadata": {},
     "output_type": "execute_result"
    }
   ],
   "source": [
    "# remove duplicated features\n",
    "X_train.drop(labels=duplicated_feat, axis=1, inplace=True)\n",
    "X_test.drop(labels=duplicated_feat, axis=1, inplace=True)\n",
    "\n",
    "X_train.shape, X_test.shape"
   ]
  },
  {
   "cell_type": "code",
   "execution_count": 19,
   "metadata": {},
   "outputs": [
    {
     "name": "stdout",
     "output_type": "stream",
     "text": [
      "Index(['A1', 'A2', 'A3', 'A4', 'A5', 'A6', 'A7', 'A8', 'A9', 'A10', 'A11',\n",
      "       'A12', 'A13', 'A14'],\n",
      "      dtype='object')\n"
     ]
    }
   ],
   "source": [
    "# I keep a copy of the dataset except constant and duplicated variables\n",
    "# to measure the performance of machine learning models\n",
    "# at the end of the notebook\n",
    "\n",
    "X_train_basic_filter = X_train.copy()\n",
    "X_test_basic_filter = X_test.copy()\n",
    "\n",
    "basic_filter = X_train.columns\n",
    "print(basic_filter)"
   ]
  },
  {
   "cell_type": "markdown",
   "metadata": {},
   "source": [
    "### 4.4. Remove correlated features\n",
    "\n",
    "Correlation Feature Selection evaluates subsets of features on the basis of the following hypothesis: \"Good feature subsets contain features highly correlated with the target, yet uncorrelated to each other\"."
   ]
  },
  {
   "cell_type": "markdown",
   "metadata": {},
   "source": [
    "#### Examining and removing related features"
   ]
  },
  {
   "cell_type": "code",
   "execution_count": 24,
   "metadata": {},
   "outputs": [
    {
     "data": {
      "image/png": "[encoded data removed]",
      "text/plain": [
       "<Figure size 1296x1296 with 2 Axes>"
      ]
     },
     "metadata": {
      "needs_background": "light"
     },
     "output_type": "display_data"
    }
   ],
   "source": [
    "# Correlation matrix\n",
    "corrmat = X_train.corr()\n",
    "fig, ax = plt.subplots()\n",
    "fig.set_size_inches(18,18)\n",
    "sns.heatmap(corrmat, annot = True)\n",
    "plt.show()"
   ]
  },
  {
   "cell_type": "code",
   "execution_count": 25,
   "metadata": {},
   "outputs": [
    {
     "data": {
      "text/html": [
       "<div>\n",
       "<style scoped>\n",
       "    .dataframe tbody tr th:only-of-type {\n",
       "        vertical-align: middle;\n",
       "    }\n",
       "\n",
       "    .dataframe tbody tr th {\n",
       "        vertical-align: top;\n",
       "    }\n",
       "\n",
       "    .dataframe thead th {\n",
       "        text-align: right;\n",
       "    }\n",
       "</style>\n",
       "<table border=\"1\" class=\"dataframe\">\n",
       "  <thead>\n",
       "    <tr style=\"text-align: right;\">\n",
       "      <th></th>\n",
       "      <th>A1</th>\n",
       "      <th>A2</th>\n",
       "      <th>A3</th>\n",
       "      <th>A4</th>\n",
       "      <th>A5</th>\n",
       "      <th>A6</th>\n",
       "      <th>A7</th>\n",
       "      <th>A8</th>\n",
       "      <th>A9</th>\n",
       "      <th>A10</th>\n",
       "      <th>A11</th>\n",
       "      <th>A12</th>\n",
       "      <th>A13</th>\n",
       "      <th>A14</th>\n",
       "    </tr>\n",
       "  </thead>\n",
       "  <tbody>\n",
       "    <tr>\n",
       "      <th>A1</th>\n",
       "      <td>1.000000</td>\n",
       "      <td>0.064092</td>\n",
       "      <td>-0.034419</td>\n",
       "      <td>-0.056035</td>\n",
       "      <td>0.052122</td>\n",
       "      <td>0.081357</td>\n",
       "      <td>0.119938</td>\n",
       "      <td>0.005873</td>\n",
       "      <td>-0.026625</td>\n",
       "      <td>-0.005575</td>\n",
       "      <td>0.064605</td>\n",
       "      <td>-0.079616</td>\n",
       "      <td>0.087648</td>\n",
       "      <td>-0.033836</td>\n",
       "    </tr>\n",
       "    <tr>\n",
       "      <th>A2</th>\n",
       "      <td>0.064092</td>\n",
       "      <td>1.000000</td>\n",
       "      <td>0.209161</td>\n",
       "      <td>0.112696</td>\n",
       "      <td>-0.116825</td>\n",
       "      <td>0.042025</td>\n",
       "      <td>0.420148</td>\n",
       "      <td>0.212950</td>\n",
       "      <td>0.080401</td>\n",
       "      <td>0.146167</td>\n",
       "      <td>0.099595</td>\n",
       "      <td>-0.020812</td>\n",
       "      <td>-0.092423</td>\n",
       "      <td>0.074419</td>\n",
       "    </tr>\n",
       "    <tr>\n",
       "      <th>A3</th>\n",
       "      <td>-0.034419</td>\n",
       "      <td>0.209161</td>\n",
       "      <td>1.000000</td>\n",
       "      <td>0.139341</td>\n",
       "      <td>0.053818</td>\n",
       "      <td>0.116925</td>\n",
       "      <td>0.325281</td>\n",
       "      <td>0.230706</td>\n",
       "      <td>0.202335</td>\n",
       "      <td>0.266226</td>\n",
       "      <td>-0.014541</td>\n",
       "      <td>0.086912</td>\n",
       "      <td>-0.254696</td>\n",
       "      <td>0.057420</td>\n",
       "    </tr>\n",
       "    <tr>\n",
       "      <th>A4</th>\n",
       "      <td>-0.056035</td>\n",
       "      <td>0.112696</td>\n",
       "      <td>0.139341</td>\n",
       "      <td>1.000000</td>\n",
       "      <td>0.068002</td>\n",
       "      <td>0.052846</td>\n",
       "      <td>0.111676</td>\n",
       "      <td>0.155727</td>\n",
       "      <td>0.187297</td>\n",
       "      <td>0.123932</td>\n",
       "      <td>-0.046445</td>\n",
       "      <td>-0.079857</td>\n",
       "      <td>-0.036469</td>\n",
       "      <td>0.028745</td>\n",
       "    </tr>\n",
       "    <tr>\n",
       "      <th>A5</th>\n",
       "      <td>0.052122</td>\n",
       "      <td>-0.116825</td>\n",
       "      <td>0.053818</td>\n",
       "      <td>0.068002</td>\n",
       "      <td>1.000000</td>\n",
       "      <td>0.400857</td>\n",
       "      <td>0.112981</td>\n",
       "      <td>0.312942</td>\n",
       "      <td>0.231790</td>\n",
       "      <td>0.175781</td>\n",
       "      <td>0.026789</td>\n",
       "      <td>0.052407</td>\n",
       "      <td>0.064992</td>\n",
       "      <td>0.131450</td>\n",
       "    </tr>\n",
       "    <tr>\n",
       "      <th>A6</th>\n",
       "      <td>0.081357</td>\n",
       "      <td>0.042025</td>\n",
       "      <td>0.116925</td>\n",
       "      <td>0.052846</td>\n",
       "      <td>0.400857</td>\n",
       "      <td>1.000000</td>\n",
       "      <td>0.278371</td>\n",
       "      <td>0.253953</td>\n",
       "      <td>0.106634</td>\n",
       "      <td>0.111790</td>\n",
       "      <td>0.104380</td>\n",
       "      <td>0.015318</td>\n",
       "      <td>0.060539</td>\n",
       "      <td>0.048678</td>\n",
       "    </tr>\n",
       "    <tr>\n",
       "      <th>A7</th>\n",
       "      <td>0.119938</td>\n",
       "      <td>0.420148</td>\n",
       "      <td>0.325281</td>\n",
       "      <td>0.111676</td>\n",
       "      <td>0.112981</td>\n",
       "      <td>0.278371</td>\n",
       "      <td>1.000000</td>\n",
       "      <td>0.345417</td>\n",
       "      <td>0.258419</td>\n",
       "      <td>0.273193</td>\n",
       "      <td>0.165560</td>\n",
       "      <td>0.009923</td>\n",
       "      <td>-0.122246</td>\n",
       "      <td>0.099566</td>\n",
       "    </tr>\n",
       "    <tr>\n",
       "      <th>A8</th>\n",
       "      <td>0.005873</td>\n",
       "      <td>0.212950</td>\n",
       "      <td>0.230706</td>\n",
       "      <td>0.155727</td>\n",
       "      <td>0.312942</td>\n",
       "      <td>0.253953</td>\n",
       "      <td>0.345417</td>\n",
       "      <td>1.000000</td>\n",
       "      <td>0.416006</td>\n",
       "      <td>0.365321</td>\n",
       "      <td>0.074629</td>\n",
       "      <td>0.011503</td>\n",
       "      <td>-0.061599</td>\n",
       "      <td>0.154355</td>\n",
       "    </tr>\n",
       "    <tr>\n",
       "      <th>A9</th>\n",
       "      <td>-0.026625</td>\n",
       "      <td>0.080401</td>\n",
       "      <td>0.202335</td>\n",
       "      <td>0.187297</td>\n",
       "      <td>0.231790</td>\n",
       "      <td>0.106634</td>\n",
       "      <td>0.258419</td>\n",
       "      <td>0.416006</td>\n",
       "      <td>1.000000</td>\n",
       "      <td>0.564463</td>\n",
       "      <td>0.011989</td>\n",
       "      <td>0.184185</td>\n",
       "      <td>0.006890</td>\n",
       "      <td>0.151216</td>\n",
       "    </tr>\n",
       "    <tr>\n",
       "      <th>A10</th>\n",
       "      <td>-0.005575</td>\n",
       "      <td>0.146167</td>\n",
       "      <td>0.266226</td>\n",
       "      <td>0.123932</td>\n",
       "      <td>0.175781</td>\n",
       "      <td>0.111790</td>\n",
       "      <td>0.273193</td>\n",
       "      <td>0.365321</td>\n",
       "      <td>0.564463</td>\n",
       "      <td>1.000000</td>\n",
       "      <td>0.003430</td>\n",
       "      <td>0.113567</td>\n",
       "      <td>-0.103589</td>\n",
       "      <td>0.094987</td>\n",
       "    </tr>\n",
       "    <tr>\n",
       "      <th>A11</th>\n",
       "      <td>0.064605</td>\n",
       "      <td>0.099595</td>\n",
       "      <td>-0.014541</td>\n",
       "      <td>-0.046445</td>\n",
       "      <td>0.026789</td>\n",
       "      <td>0.104380</td>\n",
       "      <td>0.165560</td>\n",
       "      <td>0.074629</td>\n",
       "      <td>0.011989</td>\n",
       "      <td>0.003430</td>\n",
       "      <td>1.000000</td>\n",
       "      <td>-0.056674</td>\n",
       "      <td>0.117577</td>\n",
       "      <td>-0.026858</td>\n",
       "    </tr>\n",
       "    <tr>\n",
       "      <th>A12</th>\n",
       "      <td>-0.079616</td>\n",
       "      <td>-0.020812</td>\n",
       "      <td>0.086912</td>\n",
       "      <td>-0.079857</td>\n",
       "      <td>0.052407</td>\n",
       "      <td>0.015318</td>\n",
       "      <td>0.009923</td>\n",
       "      <td>0.011503</td>\n",
       "      <td>0.184185</td>\n",
       "      <td>0.113567</td>\n",
       "      <td>-0.056674</td>\n",
       "      <td>1.000000</td>\n",
       "      <td>-0.111856</td>\n",
       "      <td>0.058236</td>\n",
       "    </tr>\n",
       "    <tr>\n",
       "      <th>A13</th>\n",
       "      <td>0.087648</td>\n",
       "      <td>-0.092423</td>\n",
       "      <td>-0.254696</td>\n",
       "      <td>-0.036469</td>\n",
       "      <td>0.064992</td>\n",
       "      <td>0.060539</td>\n",
       "      <td>-0.122246</td>\n",
       "      <td>-0.061599</td>\n",
       "      <td>0.006890</td>\n",
       "      <td>-0.103589</td>\n",
       "      <td>0.117577</td>\n",
       "      <td>-0.111856</td>\n",
       "      <td>1.000000</td>\n",
       "      <td>0.039520</td>\n",
       "    </tr>\n",
       "    <tr>\n",
       "      <th>A14</th>\n",
       "      <td>-0.033836</td>\n",
       "      <td>0.074419</td>\n",
       "      <td>0.057420</td>\n",
       "      <td>0.028745</td>\n",
       "      <td>0.131450</td>\n",
       "      <td>0.048678</td>\n",
       "      <td>0.099566</td>\n",
       "      <td>0.154355</td>\n",
       "      <td>0.151216</td>\n",
       "      <td>0.094987</td>\n",
       "      <td>-0.026858</td>\n",
       "      <td>0.058236</td>\n",
       "      <td>0.039520</td>\n",
       "      <td>1.000000</td>\n",
       "    </tr>\n",
       "  </tbody>\n",
       "</table>\n",
       "</div>"
      ],
      "text/plain": [
       "           A1        A2        A3        A4        A5        A6        A7  \\\n",
       "A1   1.000000  0.064092 -0.034419 -0.056035  0.052122  0.081357  0.119938   \n",
       "A2   0.064092  1.000000  0.209161  0.112696 -0.116825  0.042025  0.420148   \n",
       "A3  -0.034419  0.209161  1.000000  0.139341  0.053818  0.116925  0.325281   \n",
       "A4  -0.056035  0.112696  0.139341  1.000000  0.068002  0.052846  0.111676   \n",
       "A5   0.052122 -0.116825  0.053818  0.068002  1.000000  0.400857  0.112981   \n",
       "A6   0.081357  0.042025  0.116925  0.052846  0.400857  1.000000  0.278371   \n",
       "A7   0.119938  0.420148  0.325281  0.111676  0.112981  0.278371  1.000000   \n",
       "A8   0.005873  0.212950  0.230706  0.155727  0.312942  0.253953  0.345417   \n",
       "A9  -0.026625  0.080401  0.202335  0.187297  0.231790  0.106634  0.258419   \n",
       "A10 -0.005575  0.146167  0.266226  0.123932  0.175781  0.111790  0.273193   \n",
       "A11  0.064605  0.099595 -0.014541 -0.046445  0.026789  0.104380  0.165560   \n",
       "A12 -0.079616 -0.020812  0.086912 -0.079857  0.052407  0.015318  0.009923   \n",
       "A13  0.087648 -0.092423 -0.254696 -0.036469  0.064992  0.060539 -0.122246   \n",
       "A14 -0.033836  0.074419  0.057420  0.028745  0.131450  0.048678  0.099566   \n",
       "\n",
       "           A8        A9       A10       A11       A12       A13       A14  \n",
       "A1   0.005873 -0.026625 -0.005575  0.064605 -0.079616  0.087648 -0.033836  \n",
       "A2   0.212950  0.080401  0.146167  0.099595 -0.020812 -0.092423  0.074419  \n",
       "A3   0.230706  0.202335  0.266226 -0.014541  0.086912 -0.254696  0.057420  \n",
       "A4   0.155727  0.187297  0.123932 -0.046445 -0.079857 -0.036469  0.028745  \n",
       "A5   0.312942  0.231790  0.175781  0.026789  0.052407  0.064992  0.131450  \n",
       "A6   0.253953  0.106634  0.111790  0.104380  0.015318  0.060539  0.048678  \n",
       "A7   0.345417  0.258419  0.273193  0.165560  0.009923 -0.122246  0.099566  \n",
       "A8   1.000000  0.416006  0.365321  0.074629  0.011503 -0.061599  0.154355  \n",
       "A9   0.416006  1.000000  0.564463  0.011989  0.184185  0.006890  0.151216  \n",
       "A10  0.365321  0.564463  1.000000  0.003430  0.113567 -0.103589  0.094987  \n",
       "A11  0.074629  0.011989  0.003430  1.000000 -0.056674  0.117577 -0.026858  \n",
       "A12  0.011503  0.184185  0.113567 -0.056674  1.000000 -0.111856  0.058236  \n",
       "A13 -0.061599  0.006890 -0.103589  0.117577 -0.111856  1.000000  0.039520  \n",
       "A14  0.154355  0.151216  0.094987 -0.026858  0.058236  0.039520  1.000000  "
      ]
     },
     "execution_count": 25,
     "metadata": {},
     "output_type": "execute_result"
    }
   ],
   "source": [
    "corrmat"
   ]
  },
  {
   "cell_type": "markdown",
   "metadata": {},
   "source": [
    "#### Approach 1: Brute force approach"
   ]
  },
  {
   "cell_type": "code",
   "execution_count": 20,
   "metadata": {},
   "outputs": [
    {
     "name": "stdout",
     "output_type": "stream",
     "text": [
      "correlated features:  0\n"
     ]
    }
   ],
   "source": [
    "# find and remove correlated features\n",
    "def correlation(dataset, threshold):\n",
    "    col_corr = set()  # Set of all the names of correlated columns\n",
    "    corr_matrix = dataset.corr()\n",
    "    for i in range(len(corr_matrix.columns)):\n",
    "        for j in range(i):\n",
    "            if abs(corr_matrix.iloc[i, j]) > threshold: # we are interested in absolute coeff value\n",
    "                colname = corr_matrix.columns[i]  # getting the name of column\n",
    "                col_corr.add(colname)\n",
    "    return col_corr\n",
    "\n",
    "corr_features = correlation(X_train, 0.8)\n",
    "print('correlated features: ', len(set(corr_features)) )"
   ]
  },
  {
   "cell_type": "markdown",
   "metadata": {},
   "source": [
    "#### Approach 2: Identify groups of highly correlated features\n",
    "\n",
    "The second approach looks to identify groups of highly correlated features. And then, we can make further investigation within these groups to decide which feature we keep and which one we remove."
   ]
  },
  {
   "cell_type": "code",
   "execution_count": 26,
   "metadata": {},
   "outputs": [
    {
     "data": {
      "text/plain": [
       "A1   A1     1.000000\n",
       "     A2     0.064092\n",
       "     A3     0.034419\n",
       "     A4     0.056035\n",
       "     A5     0.052122\n",
       "              ...   \n",
       "A14  A10    0.094987\n",
       "     A11    0.026858\n",
       "     A12    0.058236\n",
       "     A13    0.039520\n",
       "     A14    1.000000\n",
       "Length: 196, dtype: float64"
      ]
     },
     "execution_count": 26,
     "metadata": {},
     "output_type": "execute_result"
    }
   ],
   "source": [
    "# build a dataframe with the correlation between features\n",
    "# remember that the absolute value of the correlation\n",
    "# coefficient is important and not the sign\n",
    "\n",
    "corrmat = X_train.corr()\n",
    "corrmat = corrmat.abs().unstack() # absolute value of corr coef\n",
    "corrmat"
   ]
  },
  {
   "cell_type": "code",
   "execution_count": 27,
   "metadata": {},
   "outputs": [
    {
     "data": {
      "text/plain": [
       "A14  A14    1.000000\n",
       "A13  A13    1.000000\n",
       "A2   A2     1.000000\n",
       "A3   A3     1.000000\n",
       "A4   A4     1.000000\n",
       "              ...   \n",
       "A8   A1     0.005873\n",
       "A1   A10    0.005575\n",
       "A10  A1     0.005575\n",
       "A11  A10    0.003430\n",
       "A10  A11    0.003430\n",
       "Length: 196, dtype: float64"
      ]
     },
     "execution_count": 27,
     "metadata": {},
     "output_type": "execute_result"
    }
   ],
   "source": [
    "corrmat = corrmat.sort_values(ascending=False)\n",
    "corrmat"
   ]
  },
  {
   "cell_type": "code",
   "execution_count": 28,
   "metadata": {},
   "outputs": [
    {
     "data": {
      "text/html": [
       "<div>\n",
       "<style scoped>\n",
       "    .dataframe tbody tr th:only-of-type {\n",
       "        vertical-align: middle;\n",
       "    }\n",
       "\n",
       "    .dataframe tbody tr th {\n",
       "        vertical-align: top;\n",
       "    }\n",
       "\n",
       "    .dataframe thead th {\n",
       "        text-align: right;\n",
       "    }\n",
       "</style>\n",
       "<table border=\"1\" class=\"dataframe\">\n",
       "  <thead>\n",
       "    <tr style=\"text-align: right;\">\n",
       "      <th></th>\n",
       "      <th>feature1</th>\n",
       "      <th>feature2</th>\n",
       "      <th>corr</th>\n",
       "    </tr>\n",
       "  </thead>\n",
       "  <tbody>\n",
       "    <tr>\n",
       "      <th>0</th>\n",
       "      <td>A14</td>\n",
       "      <td>A14</td>\n",
       "      <td>1.0</td>\n",
       "    </tr>\n",
       "    <tr>\n",
       "      <th>1</th>\n",
       "      <td>A13</td>\n",
       "      <td>A13</td>\n",
       "      <td>1.0</td>\n",
       "    </tr>\n",
       "    <tr>\n",
       "      <th>2</th>\n",
       "      <td>A2</td>\n",
       "      <td>A2</td>\n",
       "      <td>1.0</td>\n",
       "    </tr>\n",
       "    <tr>\n",
       "      <th>3</th>\n",
       "      <td>A3</td>\n",
       "      <td>A3</td>\n",
       "      <td>1.0</td>\n",
       "    </tr>\n",
       "    <tr>\n",
       "      <th>4</th>\n",
       "      <td>A4</td>\n",
       "      <td>A4</td>\n",
       "      <td>1.0</td>\n",
       "    </tr>\n",
       "  </tbody>\n",
       "</table>\n",
       "</div>"
      ],
      "text/plain": [
       "  feature1 feature2  corr\n",
       "0      A14      A14   1.0\n",
       "1      A13      A13   1.0\n",
       "2       A2       A2   1.0\n",
       "3       A3       A3   1.0\n",
       "4       A4       A4   1.0"
      ]
     },
     "execution_count": 28,
     "metadata": {},
     "output_type": "execute_result"
    }
   ],
   "source": [
    "corrmat = pd.DataFrame(corrmat).reset_index()\n",
    "corrmat.columns = ['feature1', 'feature2', 'corr']\n",
    "corrmat.head()"
   ]
  },
  {
   "cell_type": "code",
   "execution_count": 29,
   "metadata": {},
   "outputs": [
    {
     "name": "stdout",
     "output_type": "stream",
     "text": [
      "found 1 correlated groups\n",
      "out of 14 total features\n"
     ]
    }
   ],
   "source": [
    "# find groups of correlated features\n",
    "\n",
    "grouped_feature_ls = []\n",
    "correlated_groups = []\n",
    "\n",
    "for feature in corrmat.feature1.unique():\n",
    "    if feature not in grouped_feature_ls:\n",
    "\n",
    "        # find all features correlated to a single feature\n",
    "        correlated_block = corrmat[corrmat.feature1 == feature]\n",
    "        grouped_feature_ls = grouped_feature_ls + list(\n",
    "            correlated_block.feature2.unique()) + [feature]\n",
    "\n",
    "        # append the block of features to the list\n",
    "        correlated_groups.append(correlated_block)\n",
    "\n",
    "print('found {} correlated groups'.format(len(correlated_groups)))\n",
    "print('out of {} total features'.format(X_train.shape[1]))"
   ]
  },
  {
   "cell_type": "markdown",
   "metadata": {},
   "source": [
    "#### removed correlated  features"
   ]
  },
  {
   "cell_type": "code",
   "execution_count": 21,
   "metadata": {},
   "outputs": [
    {
     "data": {
      "text/plain": [
       "((483, 14), (207, 14))"
      ]
     },
     "execution_count": 21,
     "metadata": {},
     "output_type": "execute_result"
    }
   ],
   "source": [
    "X_train.drop(labels=corr_features, axis=1, inplace=True)\n",
    "X_test.drop(labels=corr_features, axis=1, inplace=True)\n",
    "\n",
    "X_train.shape, X_test.shape"
   ]
  },
  {
   "cell_type": "code",
   "execution_count": 22,
   "metadata": {},
   "outputs": [
    {
     "name": "stdout",
     "output_type": "stream",
     "text": [
      "Index(['A1', 'A2', 'A3', 'A4', 'A5', 'A6', 'A7', 'A8', 'A9', 'A10', 'A11',\n",
      "       'A12', 'A13', 'A14'],\n",
      "      dtype='object')\n"
     ]
    }
   ],
   "source": [
    "# keep a copy of the dataset at  this stage\n",
    "X_train_corr = X_train.copy()\n",
    "X_test_corr = X_test.copy()\n",
    "\n",
    "basic_filter = X_train.columns\n",
    "print(basic_filter)"
   ]
  },
  {
   "cell_type": "markdown",
   "metadata": {},
   "source": [
    "------------------------------------------------------------------------"
   ]
  },
  {
   "cell_type": "markdown",
   "metadata": {},
   "source": [
    "# 5. Filter method (Univariate Feature Selection)"
   ]
  },
  {
   "cell_type": "markdown",
   "metadata": {},
   "source": [
    "### 5.1. t-test"
   ]
  },
  {
   "cell_type": "code",
   "execution_count": 37,
   "metadata": {},
   "outputs": [
    {
     "data": {
      "text/html": [
       "<div>\n",
       "<style scoped>\n",
       "    .dataframe tbody tr th:only-of-type {\n",
       "        vertical-align: middle;\n",
       "    }\n",
       "\n",
       "    .dataframe tbody tr th {\n",
       "        vertical-align: top;\n",
       "    }\n",
       "\n",
       "    .dataframe thead th {\n",
       "        text-align: right;\n",
       "    }\n",
       "</style>\n",
       "<table border=\"1\" class=\"dataframe\">\n",
       "  <thead>\n",
       "    <tr style=\"text-align: right;\">\n",
       "      <th></th>\n",
       "      <th>Feature</th>\n",
       "      <th>t-stats</th>\n",
       "      <th>p-value</th>\n",
       "      <th>abs_t-stats</th>\n",
       "    </tr>\n",
       "  </thead>\n",
       "  <tbody>\n",
       "    <tr>\n",
       "      <th>7</th>\n",
       "      <td>A8</td>\n",
       "      <td>-27.2454</td>\n",
       "      <td>1.93682e-111</td>\n",
       "      <td>27.2454</td>\n",
       "    </tr>\n",
       "    <tr>\n",
       "      <th>8</th>\n",
       "      <td>A9</td>\n",
       "      <td>-13.5252</td>\n",
       "      <td>3.94126e-37</td>\n",
       "      <td>13.5252</td>\n",
       "    </tr>\n",
       "    <tr>\n",
       "      <th>9</th>\n",
       "      <td>A10</td>\n",
       "      <td>-11.667</td>\n",
       "      <td>7.95772e-29</td>\n",
       "      <td>11.667</td>\n",
       "    </tr>\n",
       "    <tr>\n",
       "      <th>4</th>\n",
       "      <td>A5</td>\n",
       "      <td>-10.5681</td>\n",
       "      <td>2.71089e-24</td>\n",
       "      <td>10.5681</td>\n",
       "    </tr>\n",
       "    <tr>\n",
       "      <th>6</th>\n",
       "      <td>A7</td>\n",
       "      <td>-8.93582</td>\n",
       "      <td>3.67105e-18</td>\n",
       "      <td>8.93582</td>\n",
       "    </tr>\n",
       "    <tr>\n",
       "      <th>5</th>\n",
       "      <td>A6</td>\n",
       "      <td>-6.67344</td>\n",
       "      <td>5.14413e-11</td>\n",
       "      <td>6.67344</td>\n",
       "    </tr>\n",
       "    <tr>\n",
       "      <th>2</th>\n",
       "      <td>A3</td>\n",
       "      <td>-5.52998</td>\n",
       "      <td>4.55168e-08</td>\n",
       "      <td>5.52998</td>\n",
       "    </tr>\n",
       "    <tr>\n",
       "      <th>3</th>\n",
       "      <td>A4</td>\n",
       "      <td>-5.19562</td>\n",
       "      <td>2.69162e-07</td>\n",
       "      <td>5.19562</td>\n",
       "    </tr>\n",
       "    <tr>\n",
       "      <th>13</th>\n",
       "      <td>A14</td>\n",
       "      <td>-4.68022</td>\n",
       "      <td>3.45203e-06</td>\n",
       "      <td>4.68022</td>\n",
       "    </tr>\n",
       "    <tr>\n",
       "      <th>1</th>\n",
       "      <td>A2</td>\n",
       "      <td>-4.29589</td>\n",
       "      <td>1.99058e-05</td>\n",
       "      <td>4.29589</td>\n",
       "    </tr>\n",
       "    <tr>\n",
       "      <th>11</th>\n",
       "      <td>A12</td>\n",
       "      <td>-3.04355</td>\n",
       "      <td>0.00242715</td>\n",
       "      <td>3.04355</td>\n",
       "    </tr>\n",
       "    <tr>\n",
       "      <th>12</th>\n",
       "      <td>A13</td>\n",
       "      <td>2.63545</td>\n",
       "      <td>0.00859175</td>\n",
       "      <td>2.63545</td>\n",
       "    </tr>\n",
       "    <tr>\n",
       "      <th>10</th>\n",
       "      <td>A11</td>\n",
       "      <td>-0.829926</td>\n",
       "      <td>0.406868</td>\n",
       "      <td>0.829926</td>\n",
       "    </tr>\n",
       "    <tr>\n",
       "      <th>0</th>\n",
       "      <td>A1</td>\n",
       "      <td>0.364552</td>\n",
       "      <td>0.715558</td>\n",
       "      <td>0.364552</td>\n",
       "    </tr>\n",
       "  </tbody>\n",
       "</table>\n",
       "</div>"
      ],
      "text/plain": [
       "   Feature   t-stats       p-value abs_t-stats\n",
       "7       A8  -27.2454  1.93682e-111     27.2454\n",
       "8       A9  -13.5252   3.94126e-37     13.5252\n",
       "9      A10   -11.667   7.95772e-29      11.667\n",
       "4       A5  -10.5681   2.71089e-24     10.5681\n",
       "6       A7  -8.93582   3.67105e-18     8.93582\n",
       "5       A6  -6.67344   5.14413e-11     6.67344\n",
       "2       A3  -5.52998   4.55168e-08     5.52998\n",
       "3       A4  -5.19562   2.69162e-07     5.19562\n",
       "13     A14  -4.68022   3.45203e-06     4.68022\n",
       "1       A2  -4.29589   1.99058e-05     4.29589\n",
       "11     A12  -3.04355    0.00242715     3.04355\n",
       "12     A13   2.63545    0.00859175     2.63545\n",
       "10     A11 -0.829926      0.406868    0.829926\n",
       "0       A1  0.364552      0.715558    0.364552"
      ]
     },
     "execution_count": 37,
     "metadata": {},
     "output_type": "execute_result"
    }
   ],
   "source": [
    "import scipy\n",
    "\n",
    "df0 = df[df['Class'] == 0]\n",
    "df1 = df[df['Class'] == 1]\n",
    "\n",
    "column_list = X_train.columns\n",
    "ttest_df = pd.DataFrame(columns = ['Feature','t-stats','p-value'])\n",
    "ttest_df['Feature'] = column_list\n",
    "\n",
    "for var in column_list:\n",
    "    result = scipy.stats.ttest_ind(df0[var], df1[var])\n",
    "    ttest_df.loc[ttest_df['Feature'] == var,'t-stats'] = result[0]\n",
    "    ttest_df.loc[ttest_df['Feature'] == var,'p-value'] = result[1]\n",
    "\n",
    "ttest_df['abs_t-stats'] = np.abs(ttest_df['t-stats'])\n",
    "ttest_df.sort_values('abs_t-stats',ascending = False)"
   ]
  },
  {
   "cell_type": "code",
   "execution_count": 39,
   "metadata": {},
   "outputs": [
    {
     "name": "stdout",
     "output_type": "stream",
     "text": [
      "['A2' 'A3' 'A4' 'A5' 'A6' 'A7' 'A8' 'A9' 'A10' 'A12' 'A13' 'A14']\n"
     ]
    }
   ],
   "source": [
    "ttest_features = ttest_df[ttest_df['p-value'] <= 0.05].Feature.values\n",
    "print(ttest_features)"
   ]
  },
  {
   "cell_type": "markdown",
   "metadata": {},
   "source": [
    "### 5.2. Whitney Test"
   ]
  },
  {
   "cell_type": "code",
   "execution_count": null,
   "metadata": {},
   "outputs": [],
   "source": []
  },
  {
   "cell_type": "markdown",
   "metadata": {},
   "source": [
    "### 5.3. Information Gain - Mutual Information\n",
    "\n",
    "Mutual information measures how much information a feature contributes to making the correct prediction on Y\n",
    "\n",
    "Mutual information measures the information that X and Y share: It measures how much knowing one of these variables reduces uncertainty about the other. For example, if X and Y are independent, then knowing X does not give any inforatmion about Y and vice versa, so their mutual information is zero. At the other extreme, if X is a deterministic function of Y and Y is a deterministic function of X then all information conveyed by X is shared with Y: knowing X determines the value of Y and vice versa. As a result, in this case the mutual information is the same as the uncertainty contained in Y (or X) alone, namely the entropy of Y (or X). Moreover, this mutual information is the same as the entropy of X and as the entropy of Y. (A very special case of this is when X and Y are the same random variable)"
   ]
  },
  {
   "cell_type": "code",
   "execution_count": 41,
   "metadata": {},
   "outputs": [
    {
     "data": {
      "text/plain": [
       "array([0.        , 0.00588705, 0.        , 0.02759334, 0.09518631,\n",
       "       0.        , 0.11924399, 0.31801741, 0.11861299, 0.13208366,\n",
       "       0.        , 0.        , 0.05394046, 0.11085726])"
      ]
     },
     "execution_count": 41,
     "metadata": {},
     "output_type": "execute_result"
    }
   ],
   "source": [
    "# Calculate the mutual information between the variables and the target.\n",
    "# This returns the mutual information value of each feature \n",
    "# The smaller the value the less information the feature has about the target\n",
    "\n",
    "from sklearn.feature_selection import mutual_info_classif, mutual_info_regression\n",
    "\n",
    "mi = mutual_info_classif(X_train, y_train)\n",
    "mi"
   ]
  },
  {
   "cell_type": "code",
   "execution_count": 44,
   "metadata": {},
   "outputs": [
    {
     "data": {
      "text/plain": [
       "A8     0.318017\n",
       "A10    0.132084\n",
       "A7     0.119244\n",
       "A9     0.118613\n",
       "A14    0.110857\n",
       "A5     0.095186\n",
       "A13    0.053940\n",
       "A4     0.027593\n",
       "A2     0.005887\n",
       "A12    0.000000\n",
       "A11    0.000000\n",
       "A6     0.000000\n",
       "A3     0.000000\n",
       "A1     0.000000\n",
       "dtype: float64"
      ]
     },
     "execution_count": 44,
     "metadata": {},
     "output_type": "execute_result"
    }
   ],
   "source": [
    "# Add variable names and order the features according to the MI for clearer visualization\n",
    "\n",
    "mi = pd.Series(mi)\n",
    "mi.index = X_train.columns\n",
    "mi.sort_values(ascending = False)"
   ]
  },
  {
   "cell_type": "code",
   "execution_count": 46,
   "metadata": {},
   "outputs": [
    {
     "data": {
      "text/plain": [
       "<matplotlib.axes._subplots.AxesSubplot at 0x1f54a0e0400>"
      ]
     },
     "execution_count": 46,
     "metadata": {},
     "output_type": "execute_result"
    },
    {
     "data": {
      "image/png": "[encoded data removed]",
      "text/plain": [
       "<Figure size 576x288 with 1 Axes>"
      ]
     },
     "metadata": {
      "needs_background": "light"
     },
     "output_type": "display_data"
    }
   ],
   "source": [
    "# Plot the ordered MI values per feature\n",
    "\n",
    "mi.sort_values(ascending = False).plot.bar(figsize=(8,4))"
   ]
  },
  {
   "cell_type": "markdown",
   "metadata": {},
   "source": [
    "Comparatively, we can see that there are a few features (left of the plot) that seem to contribute the most to predicting the target. There are also a few features with almost zero MI values on the right of the plot\n",
    "\n",
    "where to put the cut-off to select features is arbitrary. One could choose a certain value of MI after studying the plot above. An alternative and most frequent way of selecting features is to select the top 10, or top 20 features, or the features in the the top 10th percentile of the MI value distribution\n",
    "\n",
    "To do this, you can use mutual info in combination with SelectKBest or SelectPercentile from sklearn. SelectKBest allows you to determine how many features, and SelectPercentile the features within a certain percentile"
   ]
  },
  {
   "cell_type": "code",
   "execution_count": 51,
   "metadata": {},
   "outputs": [
    {
     "name": "stdout",
     "output_type": "stream",
     "text": [
      "Index(['A5', 'A6', 'A7', 'A8', 'A9', 'A10', 'A13', 'A14'], dtype='object')\n"
     ]
    }
   ],
   "source": [
    "# here I will select the top 10 features\n",
    "# which are shown below\n",
    "\n",
    "from sklearn.feature_selection import SelectKBest, SelectPercentile\n",
    "\n",
    "sel_ = SelectKBest(mutual_info_classif, k=8).fit(X_train, y_train)\n",
    "mi_features = X_train.columns[sel_.get_support()]\n",
    "print(mi_features)"
   ]
  },
  {
   "cell_type": "markdown",
   "metadata": {},
   "source": [
    "### 5.4. Pearson Correlation"
   ]
  },
  {
   "cell_type": "markdown",
   "metadata": {},
   "source": [
    "#### Calculate correlation"
   ]
  },
  {
   "cell_type": "code",
   "execution_count": 52,
   "metadata": {},
   "outputs": [
    {
     "data": {
      "text/plain": [
       "array([0.014, 0.162, 0.206, 0.194, 0.374, 0.247, 0.322, 0.72 , 0.458,\n",
       "       0.406, 0.032, 0.115, 0.1  , 0.176])"
      ]
     },
     "execution_count": 52,
     "metadata": {},
     "output_type": "execute_result"
    }
   ],
   "source": [
    "cor_list = []\n",
    "feature_name = X_train.columns.tolist()\n",
    "\n",
    "for i in X_train.columns.tolist():\n",
    "    cor = np.corrcoef(X[i], y)[0, 1]\n",
    "    cor_list.append(cor)\n",
    "cor_list = [0 if np.isnan(i) else i for i in cor_list]\n",
    "cor_list = np.round(np.abs(cor_list),3)\n",
    "cor_list"
   ]
  },
  {
   "cell_type": "markdown",
   "metadata": {},
   "source": [
    "#### Set feature importance"
   ]
  },
  {
   "cell_type": "code",
   "execution_count": 53,
   "metadata": {},
   "outputs": [
    {
     "data": {
      "text/plain": [
       "array([False, False, False, False,  True, False,  True,  True,  True,\n",
       "        True, False, False, False, False])"
      ]
     },
     "execution_count": 53,
     "metadata": {},
     "output_type": "execute_result"
    }
   ],
   "source": [
    "cor_support = cor_list > cor_list.mean()\n",
    "cor_support"
   ]
  },
  {
   "cell_type": "code",
   "execution_count": 57,
   "metadata": {},
   "outputs": [
    {
     "data": {
      "text/html": [
       "<div>\n",
       "<style scoped>\n",
       "    .dataframe tbody tr th:only-of-type {\n",
       "        vertical-align: middle;\n",
       "    }\n",
       "\n",
       "    .dataframe tbody tr th {\n",
       "        vertical-align: top;\n",
       "    }\n",
       "\n",
       "    .dataframe thead th {\n",
       "        text-align: right;\n",
       "    }\n",
       "</style>\n",
       "<table border=\"1\" class=\"dataframe\">\n",
       "  <thead>\n",
       "    <tr style=\"text-align: right;\">\n",
       "      <th></th>\n",
       "      <th>name</th>\n",
       "      <th>score</th>\n",
       "    </tr>\n",
       "  </thead>\n",
       "  <tbody>\n",
       "    <tr>\n",
       "      <th>0</th>\n",
       "      <td>A8</td>\n",
       "      <td>0.720</td>\n",
       "    </tr>\n",
       "    <tr>\n",
       "      <th>1</th>\n",
       "      <td>A9</td>\n",
       "      <td>0.458</td>\n",
       "    </tr>\n",
       "    <tr>\n",
       "      <th>2</th>\n",
       "      <td>A10</td>\n",
       "      <td>0.406</td>\n",
       "    </tr>\n",
       "    <tr>\n",
       "      <th>3</th>\n",
       "      <td>A5</td>\n",
       "      <td>0.374</td>\n",
       "    </tr>\n",
       "    <tr>\n",
       "      <th>4</th>\n",
       "      <td>A7</td>\n",
       "      <td>0.322</td>\n",
       "    </tr>\n",
       "    <tr>\n",
       "      <th>5</th>\n",
       "      <td>A6</td>\n",
       "      <td>0.247</td>\n",
       "    </tr>\n",
       "    <tr>\n",
       "      <th>6</th>\n",
       "      <td>A3</td>\n",
       "      <td>0.206</td>\n",
       "    </tr>\n",
       "    <tr>\n",
       "      <th>7</th>\n",
       "      <td>A4</td>\n",
       "      <td>0.194</td>\n",
       "    </tr>\n",
       "    <tr>\n",
       "      <th>8</th>\n",
       "      <td>A14</td>\n",
       "      <td>0.176</td>\n",
       "    </tr>\n",
       "    <tr>\n",
       "      <th>9</th>\n",
       "      <td>A2</td>\n",
       "      <td>0.162</td>\n",
       "    </tr>\n",
       "    <tr>\n",
       "      <th>10</th>\n",
       "      <td>A12</td>\n",
       "      <td>0.115</td>\n",
       "    </tr>\n",
       "    <tr>\n",
       "      <th>11</th>\n",
       "      <td>A13</td>\n",
       "      <td>0.100</td>\n",
       "    </tr>\n",
       "    <tr>\n",
       "      <th>12</th>\n",
       "      <td>A11</td>\n",
       "      <td>0.032</td>\n",
       "    </tr>\n",
       "    <tr>\n",
       "      <th>13</th>\n",
       "      <td>A1</td>\n",
       "      <td>0.014</td>\n",
       "    </tr>\n",
       "  </tbody>\n",
       "</table>\n",
       "</div>"
      ],
      "text/plain": [
       "   name  score\n",
       "0    A8  0.720\n",
       "1    A9  0.458\n",
       "2   A10  0.406\n",
       "3    A5  0.374\n",
       "4    A7  0.322\n",
       "5    A6  0.247\n",
       "6    A3  0.206\n",
       "7    A4  0.194\n",
       "8   A14  0.176\n",
       "9    A2  0.162\n",
       "10  A12  0.115\n",
       "11  A13  0.100\n",
       "12  A11  0.032\n",
       "13   A1  0.014"
      ]
     },
     "execution_count": 57,
     "metadata": {},
     "output_type": "execute_result"
    }
   ],
   "source": [
    "#get feature importances from the model\n",
    "headers = [\"name\", \"score\"]\n",
    "values = sorted(zip(feature_name, cor_list), key=lambda x: x[1] * -1)\n",
    "corr_features = pd.DataFrame(values, columns = headers)\n",
    "corr_features"
   ]
  },
  {
   "cell_type": "markdown",
   "metadata": {},
   "source": [
    "### 5.5 Single AUC for each variable"
   ]
  },
  {
   "cell_type": "code",
   "execution_count": 65,
   "metadata": {},
   "outputs": [
    {
     "data": {
      "text/plain": [
       "array([False, False, False, False,  True, False,  True,  True,  True,\n",
       "        True, False, False, False,  True])"
      ]
     },
     "execution_count": 65,
     "metadata": {},
     "output_type": "execute_result"
    }
   ],
   "source": [
    "auc_list = []\n",
    "feature_name = X_train.columns.tolist()\n",
    "\n",
    "for i in feature_name:\n",
    "        fpr, tpr, thresholds = roc_curve(np.array(y_train), np.array(X_train[i]))\n",
    "        if auc(fpr, tpr)+0>0.5:\n",
    "             z = auc(fpr, tpr)+0\n",
    "        else:       \n",
    "            z= 1 - auc(fpr, tpr)+0\n",
    "        auc_list.append(z)\n",
    "\n",
    "auc_support = np.array(auc_list) > np.array(auc_list).mean()\n",
    "auc_support"
   ]
  },
  {
   "cell_type": "code",
   "execution_count": 67,
   "metadata": {},
   "outputs": [
    {
     "data": {
      "text/html": [
       "<div>\n",
       "<style scoped>\n",
       "    .dataframe tbody tr th:only-of-type {\n",
       "        vertical-align: middle;\n",
       "    }\n",
       "\n",
       "    .dataframe tbody tr th {\n",
       "        vertical-align: top;\n",
       "    }\n",
       "\n",
       "    .dataframe thead th {\n",
       "        text-align: right;\n",
       "    }\n",
       "</style>\n",
       "<table border=\"1\" class=\"dataframe\">\n",
       "  <thead>\n",
       "    <tr style=\"text-align: right;\">\n",
       "      <th></th>\n",
       "      <th>name</th>\n",
       "      <th>score</th>\n",
       "    </tr>\n",
       "  </thead>\n",
       "  <tbody>\n",
       "    <tr>\n",
       "      <th>0</th>\n",
       "      <td>A8</td>\n",
       "      <td>0.865750</td>\n",
       "    </tr>\n",
       "    <tr>\n",
       "      <th>1</th>\n",
       "      <td>A10</td>\n",
       "      <td>0.772119</td>\n",
       "    </tr>\n",
       "    <tr>\n",
       "      <th>2</th>\n",
       "      <td>A7</td>\n",
       "      <td>0.734233</td>\n",
       "    </tr>\n",
       "    <tr>\n",
       "      <th>3</th>\n",
       "      <td>A9</td>\n",
       "      <td>0.734111</td>\n",
       "    </tr>\n",
       "    <tr>\n",
       "      <th>4</th>\n",
       "      <td>A5</td>\n",
       "      <td>0.713537</td>\n",
       "    </tr>\n",
       "    <tr>\n",
       "      <th>5</th>\n",
       "      <td>A14</td>\n",
       "      <td>0.659163</td>\n",
       "    </tr>\n",
       "    <tr>\n",
       "      <th>6</th>\n",
       "      <td>A3</td>\n",
       "      <td>0.629243</td>\n",
       "    </tr>\n",
       "    <tr>\n",
       "      <th>7</th>\n",
       "      <td>A6</td>\n",
       "      <td>0.626406</td>\n",
       "    </tr>\n",
       "    <tr>\n",
       "      <th>8</th>\n",
       "      <td>A2</td>\n",
       "      <td>0.592529</td>\n",
       "    </tr>\n",
       "    <tr>\n",
       "      <th>9</th>\n",
       "      <td>A13</td>\n",
       "      <td>0.571937</td>\n",
       "    </tr>\n",
       "    <tr>\n",
       "      <th>10</th>\n",
       "      <td>A4</td>\n",
       "      <td>0.565047</td>\n",
       "    </tr>\n",
       "    <tr>\n",
       "      <th>11</th>\n",
       "      <td>A12</td>\n",
       "      <td>0.527673</td>\n",
       "    </tr>\n",
       "    <tr>\n",
       "      <th>12</th>\n",
       "      <td>A1</td>\n",
       "      <td>0.505588</td>\n",
       "    </tr>\n",
       "    <tr>\n",
       "      <th>13</th>\n",
       "      <td>A11</td>\n",
       "      <td>0.503081</td>\n",
       "    </tr>\n",
       "  </tbody>\n",
       "</table>\n",
       "</div>"
      ],
      "text/plain": [
       "   name     score\n",
       "0    A8  0.865750\n",
       "1   A10  0.772119\n",
       "2    A7  0.734233\n",
       "3    A9  0.734111\n",
       "4    A5  0.713537\n",
       "5   A14  0.659163\n",
       "6    A3  0.629243\n",
       "7    A6  0.626406\n",
       "8    A2  0.592529\n",
       "9   A13  0.571937\n",
       "10   A4  0.565047\n",
       "11  A12  0.527673\n",
       "12   A1  0.505588\n",
       "13  A11  0.503081"
      ]
     },
     "execution_count": 67,
     "metadata": {},
     "output_type": "execute_result"
    }
   ],
   "source": [
    "headers = [\"name\",\"score\"]\n",
    "values = sorted(zip(feature_name, auc_list), key=lambda x: x[1] * -1)\n",
    "auc_features = pd.DataFrame(values, columns = headers)\n",
    "auc_features"
   ]
  },
  {
   "cell_type": "markdown",
   "metadata": {},
   "source": [
    "### 5.6. Univariate ROC-AUC or MSE\n",
    "\n",
    "This procedure works as follows:\n",
    "    + First, it builds one selection tree per feature, to predict the target\n",
    "    + Second, it makes predictions using the decision tree and the mentioned feature\n",
    "    + Third, it ranks the features according to the machine learning metric (roc-auc or mse)\n",
    "    + It selects the highest ranked features"
   ]
  },
  {
   "cell_type": "code",
   "execution_count": 69,
   "metadata": {},
   "outputs": [
    {
     "data": {
      "text/plain": [
       "array([False, False, False, False,  True, False, False,  True,  True,\n",
       "        True, False, False,  True,  True])"
      ]
     },
     "execution_count": 69,
     "metadata": {},
     "output_type": "execute_result"
    }
   ],
   "source": [
    "from sklearn.tree import DecisionTreeClassifier\n",
    "\n",
    "# loop to build a tree, make predictions and get the roc-auc for each feature of the train set\n",
    "roc_values = []\n",
    "for feature in X_train.columns:\n",
    "    clf = DecisionTreeClassifier()\n",
    "    clf.fit(X_train[feature].fillna(0).to_frame(), y_train)\n",
    "    y_scored = clf.predict_proba(X_test[feature].fillna(0).to_frame())\n",
    "    roc_values.append(roc_auc_score(y_test, y_scored[:, 1]))\n",
    "    \n",
    "rocauc_support = roc_values > np.array(roc_values).mean()\n",
    "rocauc_support"
   ]
  },
  {
   "cell_type": "code",
   "execution_count": 70,
   "metadata": {},
   "outputs": [
    {
     "data": {
      "text/plain": [
       "<matplotlib.axes._subplots.AxesSubplot at 0x1f54a1c7da0>"
      ]
     },
     "execution_count": 70,
     "metadata": {},
     "output_type": "execute_result"
    },
    {
     "data": {
      "image/png": "[encoded data removed]",
      "text/plain": [
       "<Figure size 576x288 with 1 Axes>"
      ]
     },
     "metadata": {
      "needs_background": "light"
     },
     "output_type": "display_data"
    }
   ],
   "source": [
    "# Add the variable names and order it for clearer visualisation\n",
    "roc_values = pd.Series(roc_values)\n",
    "roc_values.index = X_train.columns\n",
    "roc_values.sort_values(ascending=False).plot.bar(figsize=(8, 4))"
   ]
  },
  {
   "cell_type": "code",
   "execution_count": 71,
   "metadata": {},
   "outputs": [
    {
     "data": {
      "text/html": [
       "<div>\n",
       "<style scoped>\n",
       "    .dataframe tbody tr th:only-of-type {\n",
       "        vertical-align: middle;\n",
       "    }\n",
       "\n",
       "    .dataframe tbody tr th {\n",
       "        vertical-align: top;\n",
       "    }\n",
       "\n",
       "    .dataframe thead th {\n",
       "        text-align: right;\n",
       "    }\n",
       "</style>\n",
       "<table border=\"1\" class=\"dataframe\">\n",
       "  <thead>\n",
       "    <tr style=\"text-align: right;\">\n",
       "      <th></th>\n",
       "      <th>name</th>\n",
       "      <th>score</th>\n",
       "    </tr>\n",
       "  </thead>\n",
       "  <tbody>\n",
       "    <tr>\n",
       "      <th>0</th>\n",
       "      <td>A8</td>\n",
       "      <td>0.853261</td>\n",
       "    </tr>\n",
       "    <tr>\n",
       "      <th>1</th>\n",
       "      <td>A10</td>\n",
       "      <td>0.759263</td>\n",
       "    </tr>\n",
       "    <tr>\n",
       "      <th>2</th>\n",
       "      <td>A9</td>\n",
       "      <td>0.714130</td>\n",
       "    </tr>\n",
       "    <tr>\n",
       "      <th>3</th>\n",
       "      <td>A5</td>\n",
       "      <td>0.707183</td>\n",
       "    </tr>\n",
       "    <tr>\n",
       "      <th>4</th>\n",
       "      <td>A13</td>\n",
       "      <td>0.651938</td>\n",
       "    </tr>\n",
       "    <tr>\n",
       "      <th>5</th>\n",
       "      <td>A14</td>\n",
       "      <td>0.626229</td>\n",
       "    </tr>\n",
       "    <tr>\n",
       "      <th>6</th>\n",
       "      <td>A4</td>\n",
       "      <td>0.617391</td>\n",
       "    </tr>\n",
       "    <tr>\n",
       "      <th>7</th>\n",
       "      <td>A7</td>\n",
       "      <td>0.577836</td>\n",
       "    </tr>\n",
       "    <tr>\n",
       "      <th>8</th>\n",
       "      <td>A6</td>\n",
       "      <td>0.577174</td>\n",
       "    </tr>\n",
       "    <tr>\n",
       "      <th>9</th>\n",
       "      <td>A2</td>\n",
       "      <td>0.551276</td>\n",
       "    </tr>\n",
       "  </tbody>\n",
       "</table>\n",
       "</div>"
      ],
      "text/plain": [
       "  name     score\n",
       "0   A8  0.853261\n",
       "1  A10  0.759263\n",
       "2   A9  0.714130\n",
       "3   A5  0.707183\n",
       "4  A13  0.651938\n",
       "5  A14  0.626229\n",
       "6   A4  0.617391\n",
       "7   A7  0.577836\n",
       "8   A6  0.577174\n",
       "9   A2  0.551276"
      ]
     },
     "execution_count": 71,
     "metadata": {},
     "output_type": "execute_result"
    }
   ],
   "source": [
    "headers = [\"name\",\"score\"]\n",
    "values = sorted(zip(feature_name, roc_values), key=lambda x: x[1] * -1)\n",
    "rocauc_features = pd.DataFrame(values, columns = headers)\n",
    "rocauc_features[0:10]"
   ]
  },
  {
   "cell_type": "code",
   "execution_count": 73,
   "metadata": {},
   "outputs": [
    {
     "data": {
      "text/plain": [
       "14"
      ]
     },
     "execution_count": 73,
     "metadata": {},
     "output_type": "execute_result"
    }
   ],
   "source": [
    "# a roc auc value of 0.5 indicates random decision\n",
    "# let's check how many features show a roc-auc value\n",
    "# higher than random\n",
    "\n",
    "len(roc_values[roc_values > 0.5])"
   ]
  },
  {
   "cell_type": "markdown",
   "metadata": {},
   "source": [
    "### 5.7. Fisher Score\n",
    "\n",
    "Compute chi-squared stats between each non-negative feature and class. This score should be used to evaluate categorical variables in a classification task\n",
    "\n",
    "It compares the observed distribution of the different classes of target Y among the different categories of the feature, against the expected distribution of the target classes, regardless of the feature categories."
   ]
  },
  {
   "cell_type": "markdown",
   "metadata": {},
   "source": [
    "#### Chi-2"
   ]
  },
  {
   "cell_type": "code",
   "execution_count": 75,
   "metadata": {},
   "outputs": [
    {
     "data": {
      "text/plain": [
       "array([False,  True,  True, False,  True,  True,  True,  True,  True,\n",
       "        True, False, False,  True,  True])"
      ]
     },
     "execution_count": 75,
     "metadata": {},
     "output_type": "execute_result"
    }
   ],
   "source": [
    "from sklearn.feature_selection import SelectKBest\n",
    "from sklearn.feature_selection import chi2\n",
    "\n",
    "chi_selector = SelectKBest(chi2, k=10)\n",
    "chi_selector.fit(X_train, y_train)\n",
    "# check which one is selected\n",
    "chi_support = chi_selector.get_support(indices=False)\n",
    "chi_support"
   ]
  },
  {
   "cell_type": "code",
   "execution_count": 76,
   "metadata": {},
   "outputs": [
    {
     "data": {
      "text/plain": [
       "['A2', 'A3', 'A5', 'A6', 'A7', 'A8', 'A9', 'A10', 'A13', 'A14']"
      ]
     },
     "execution_count": 76,
     "metadata": {},
     "output_type": "execute_result"
    }
   ],
   "source": [
    "chi_selector.get_support(indices=True)\n",
    "chi_feature = X_train.loc[:,chi_support].columns.tolist()\n",
    "chi_feature[0:10]"
   ]
  },
  {
   "cell_type": "code",
   "execution_count": 79,
   "metadata": {},
   "outputs": [
    {
     "data": {
      "text/html": [
       "<div>\n",
       "<style scoped>\n",
       "    .dataframe tbody tr th:only-of-type {\n",
       "        vertical-align: middle;\n",
       "    }\n",
       "\n",
       "    .dataframe tbody tr th {\n",
       "        vertical-align: top;\n",
       "    }\n",
       "\n",
       "    .dataframe thead th {\n",
       "        text-align: right;\n",
       "    }\n",
       "</style>\n",
       "<table border=\"1\" class=\"dataframe\">\n",
       "  <thead>\n",
       "    <tr style=\"text-align: right;\">\n",
       "      <th></th>\n",
       "      <th>name</th>\n",
       "      <th>score</th>\n",
       "      <th>pvalue</th>\n",
       "    </tr>\n",
       "  </thead>\n",
       "  <tbody>\n",
       "    <tr>\n",
       "      <th>0</th>\n",
       "      <td>A14</td>\n",
       "      <td>284221.475916</td>\n",
       "      <td>0.000000e+00</td>\n",
       "    </tr>\n",
       "    <tr>\n",
       "      <th>1</th>\n",
       "      <td>A10</td>\n",
       "      <td>797.270012</td>\n",
       "      <td>2.116464e-175</td>\n",
       "    </tr>\n",
       "    <tr>\n",
       "      <th>2</th>\n",
       "      <td>A13</td>\n",
       "      <td>555.463724</td>\n",
       "      <td>8.154903e-123</td>\n",
       "    </tr>\n",
       "    <tr>\n",
       "      <th>3</th>\n",
       "      <td>A7</td>\n",
       "      <td>276.675841</td>\n",
       "      <td>3.981101e-62</td>\n",
       "    </tr>\n",
       "    <tr>\n",
       "      <th>4</th>\n",
       "      <td>A3</td>\n",
       "      <td>126.270488</td>\n",
       "      <td>2.683040e-29</td>\n",
       "    </tr>\n",
       "    <tr>\n",
       "      <th>5</th>\n",
       "      <td>A5</td>\n",
       "      <td>122.831040</td>\n",
       "      <td>1.518442e-28</td>\n",
       "    </tr>\n",
       "    <tr>\n",
       "      <th>6</th>\n",
       "      <td>A8</td>\n",
       "      <td>118.584506</td>\n",
       "      <td>1.291337e-27</td>\n",
       "    </tr>\n",
       "    <tr>\n",
       "      <th>7</th>\n",
       "      <td>A9</td>\n",
       "      <td>61.025043</td>\n",
       "      <td>5.635338e-15</td>\n",
       "    </tr>\n",
       "    <tr>\n",
       "      <th>8</th>\n",
       "      <td>A2</td>\n",
       "      <td>55.615484</td>\n",
       "      <td>8.812676e-14</td>\n",
       "    </tr>\n",
       "    <tr>\n",
       "      <th>9</th>\n",
       "      <td>A6</td>\n",
       "      <td>29.209631</td>\n",
       "      <td>6.495552e-08</td>\n",
       "    </tr>\n",
       "  </tbody>\n",
       "</table>\n",
       "</div>"
      ],
      "text/plain": [
       "  name          score         pvalue\n",
       "0  A14  284221.475916   0.000000e+00\n",
       "1  A10     797.270012  2.116464e-175\n",
       "2  A13     555.463724  8.154903e-123\n",
       "3   A7     276.675841   3.981101e-62\n",
       "4   A3     126.270488   2.683040e-29\n",
       "5   A5     122.831040   1.518442e-28\n",
       "6   A8     118.584506   1.291337e-27\n",
       "7   A9      61.025043   5.635338e-15\n",
       "8   A2      55.615484   8.812676e-14\n",
       "9   A6      29.209631   6.495552e-08"
      ]
     },
     "execution_count": 79,
     "metadata": {},
     "output_type": "execute_result"
    }
   ],
   "source": [
    "# Variable Importance\n",
    "feature_list = X_train.columns\n",
    "# Get numerical feature importance\n",
    "importance_list = list(chi_selector.scores_)\n",
    "# p value\n",
    "pvalue_list = list(chi_selector.pvalues_)\n",
    "\n",
    "#get feature importances from the model\n",
    "headers = [\"name\", \"score\", \"pvalue\"]\n",
    "# values = sorted(zip(feature_list, cor_list, pvalue_list), key=lambda x: x[1] * -1)\n",
    "values = sorted(zip(feature_list, importance_list, pvalue_list))\n",
    "values = sorted(values, key = lambda x: x[1], reverse = True)\n",
    "chi_features = pd.DataFrame(values, columns = headers)\n",
    "chi_features[0:10]"
   ]
  },
  {
   "cell_type": "markdown",
   "metadata": {},
   "source": [
    "### 5.8. Univariate feature selection\n",
    "\n",
    "Univariate feature selection works by selecting the best features based on univariate statistical tests (ANOVA). The methods based on F-test estimate the degree of linear dependency between two random variables. They assume a linear relationship between the feature and the target. These methods also assume that the variables follow a Gaussian distribution.\n",
    "\n",
    "These may not always be the case for the variables in your dataset, so if looking to implement these procedure, you will need to corroborate these assumptions.\n",
    "\n",
    "For the sake of the demonstration, I will assume that the variables show a linear relationship with the target, and that they are normally distributed. But when or if you choose to implement these selection procedure for your features, you will have to check that this is the case, to make sure you are implementing the right method."
   ]
  },
  {
   "cell_type": "markdown",
   "metadata": {},
   "source": [
    "#### f_classif"
   ]
  },
  {
   "cell_type": "code",
   "execution_count": 80,
   "metadata": {},
   "outputs": [],
   "source": [
    "# calculate the univariate statistical measure between\n",
    "# each of the variables and the target\n",
    "# similarly to chi2, the output is the array of f-scores\n",
    "# and an array of pvalues, which are the ones we will compare\n",
    "\n",
    "univariate = f_classif(X_train, y_train)"
   ]
  },
  {
   "cell_type": "code",
   "execution_count": 81,
   "metadata": {},
   "outputs": [],
   "source": [
    "# let's add the variable names and order it for clearer visualisation\n",
    "univariate = pd.Series(univariate[1])\n",
    "univariate.index = X_train.columns\n",
    "univariate.sort_values(ascending=False, inplace=True)"
   ]
  },
  {
   "cell_type": "code",
   "execution_count": 82,
   "metadata": {},
   "outputs": [
    {
     "data": {
      "text/plain": [
       "<matplotlib.axes._subplots.AxesSubplot at 0x1f54a6ee828>"
      ]
     },
     "execution_count": 82,
     "metadata": {},
     "output_type": "execute_result"
    },
    {
     "data": {
      "image/png": "[encoded data removed]",
      "text/plain": [
       "<Figure size 1440x576 with 1 Axes>"
      ]
     },
     "metadata": {
      "needs_background": "light"
     },
     "output_type": "display_data"
    }
   ],
   "source": [
    "# and now let's plot the p values\n",
    "univariate.sort_values(ascending=False).plot.bar(figsize=(20, 8))"
   ]
  },
  {
   "cell_type": "markdown",
   "metadata": {},
   "source": [
    "Remember that the lower the p_value, the most predictive the feature is in principle. There are a few features that do not seem to have predictive power according to this tests, which are those on the left with pvalues above 0.05. Given that typically in statistics one uses a pvalue of 0.05 as a cut-off, I am inclined to believe that those features with pvalue > 0.05 are indeed not important. However, keep in mind that this test assumes a linear relationship, so it might also be the case that the feature is related to the target but not in a linear manner.\n",
    "\n",
    "Further investigation is needed if we want to know the true nature of the relationship between feature and target.\n",
    "\n",
    "Similarly to what I mentioned in the previous lecture, in big datasets it is not unusual that the pvalues of the different features are really small. This does not say as much about the relevance of the feature. Mostly it indicates that it is a big the dataset.\n",
    "\n",
    "Once again, where we put the cut-off to select features is a bit arbitrary. One way is to select the top 10, 20 features. Alternatively, the top 10th percentile. For this, you can use anova in combination with SelectKBest or SelectPercentile from sklearn. See below."
   ]
  },
  {
   "cell_type": "code",
   "execution_count": 84,
   "metadata": {},
   "outputs": [
    {
     "data": {
      "text/plain": [
       "['A2', 'A3', 'A4', 'A5', 'A6', 'A7', 'A8', 'A9', 'A10', 'A14']"
      ]
     },
     "execution_count": 84,
     "metadata": {},
     "output_type": "execute_result"
    }
   ],
   "source": [
    "from sklearn.feature_selection import SelectKBest\n",
    "from sklearn.feature_selection import f_classif\n",
    "\n",
    "\n",
    "f_selector = SelectKBest(f_classif, k=10)\n",
    "f_selector.fit_transform(X_train, y_train)\n",
    "f_support = f_selector.get_support()\n",
    "f_feature = X_train.loc[:,f_support].columns.tolist()\n",
    "f_feature[0:10]"
   ]
  },
  {
   "cell_type": "code",
   "execution_count": 86,
   "metadata": {},
   "outputs": [
    {
     "data": {
      "text/html": [
       "<div>\n",
       "<style scoped>\n",
       "    .dataframe tbody tr th:only-of-type {\n",
       "        vertical-align: middle;\n",
       "    }\n",
       "\n",
       "    .dataframe tbody tr th {\n",
       "        vertical-align: top;\n",
       "    }\n",
       "\n",
       "    .dataframe thead th {\n",
       "        text-align: right;\n",
       "    }\n",
       "</style>\n",
       "<table border=\"1\" class=\"dataframe\">\n",
       "  <thead>\n",
       "    <tr style=\"text-align: right;\">\n",
       "      <th></th>\n",
       "      <th>name</th>\n",
       "      <th>score</th>\n",
       "      <th>pvalue</th>\n",
       "    </tr>\n",
       "  </thead>\n",
       "  <tbody>\n",
       "    <tr>\n",
       "      <th>0</th>\n",
       "      <td>A8</td>\n",
       "      <td>546.270914</td>\n",
       "      <td>2.771038e-81</td>\n",
       "    </tr>\n",
       "    <tr>\n",
       "      <th>1</th>\n",
       "      <td>A9</td>\n",
       "      <td>136.541699</td>\n",
       "      <td>6.107715e-28</td>\n",
       "    </tr>\n",
       "    <tr>\n",
       "      <th>2</th>\n",
       "      <td>A10</td>\n",
       "      <td>92.801320</td>\n",
       "      <td>3.353074e-20</td>\n",
       "    </tr>\n",
       "    <tr>\n",
       "      <th>3</th>\n",
       "      <td>A5</td>\n",
       "      <td>78.202112</td>\n",
       "      <td>1.770294e-17</td>\n",
       "    </tr>\n",
       "    <tr>\n",
       "      <th>4</th>\n",
       "      <td>A7</td>\n",
       "      <td>63.278479</td>\n",
       "      <td>1.294911e-14</td>\n",
       "    </tr>\n",
       "    <tr>\n",
       "      <th>5</th>\n",
       "      <td>A6</td>\n",
       "      <td>35.103591</td>\n",
       "      <td>5.962841e-09</td>\n",
       "    </tr>\n",
       "    <tr>\n",
       "      <th>6</th>\n",
       "      <td>A3</td>\n",
       "      <td>25.923890</td>\n",
       "      <td>5.106143e-07</td>\n",
       "    </tr>\n",
       "    <tr>\n",
       "      <th>7</th>\n",
       "      <td>A14</td>\n",
       "      <td>18.717831</td>\n",
       "      <td>1.844183e-05</td>\n",
       "    </tr>\n",
       "    <tr>\n",
       "      <th>8</th>\n",
       "      <td>A2</td>\n",
       "      <td>12.476739</td>\n",
       "      <td>4.517718e-04</td>\n",
       "    </tr>\n",
       "    <tr>\n",
       "      <th>9</th>\n",
       "      <td>A4</td>\n",
       "      <td>11.788217</td>\n",
       "      <td>6.475687e-04</td>\n",
       "    </tr>\n",
       "  </tbody>\n",
       "</table>\n",
       "</div>"
      ],
      "text/plain": [
       "  name       score        pvalue\n",
       "0   A8  546.270914  2.771038e-81\n",
       "1   A9  136.541699  6.107715e-28\n",
       "2  A10   92.801320  3.353074e-20\n",
       "3   A5   78.202112  1.770294e-17\n",
       "4   A7   63.278479  1.294911e-14\n",
       "5   A6   35.103591  5.962841e-09\n",
       "6   A3   25.923890  5.106143e-07\n",
       "7  A14   18.717831  1.844183e-05\n",
       "8   A2   12.476739  4.517718e-04\n",
       "9   A4   11.788217  6.475687e-04"
      ]
     },
     "execution_count": 86,
     "metadata": {},
     "output_type": "execute_result"
    }
   ],
   "source": [
    "# Variable Importance\n",
    "feature_list = X_train.columns\n",
    "# Get numerical feature importance\n",
    "importance_list = list(f_selector.scores_)\n",
    "# p value\n",
    "pvalue_list = list(f_selector.pvalues_)\n",
    "\n",
    "#get feature importances from the model\n",
    "headers = [\"name\", \"score\", \"pvalue\"]\n",
    "values = sorted(zip(feature_list, importance_list, pvalue_list))\n",
    "values = sorted(values, key = lambda x: x[1], reverse = True)\n",
    "f_features = pd.DataFrame(values, columns = headers)\n",
    "f_features[0:10]"
   ]
  },
  {
   "cell_type": "code",
   "execution_count": 85,
   "metadata": {},
   "outputs": [
    {
     "data": {
      "text/plain": [
       "array([False,  True,  True,  True,  True,  True,  True,  True,  True,\n",
       "        True, False, False, False,  True])"
      ]
     },
     "execution_count": 85,
     "metadata": {},
     "output_type": "execute_result"
    }
   ],
   "source": [
    "f_support"
   ]
  },
  {
   "cell_type": "markdown",
   "metadata": {},
   "source": [
    "--------------------------------------------------------------------------"
   ]
  },
  {
   "cell_type": "markdown",
   "metadata": {},
   "source": [
    "# 6. Wrapper Methods"
   ]
  },
  {
   "cell_type": "markdown",
   "metadata": {},
   "source": [
    "### 6.1. Step forward feature selection\n",
    "\n",
    "Sequential feature selection algorithms are a family of greedy search algorithms that are used to reduce an initial d-dimensional feature space to a k-dimensional feature subspace where k < d\n",
    "\n",
    "Step forward feature selection starts by evaluating all features individually and selects the one that generates the best performing algorithm, according to a pre-set evaluation criteria. In the second step, it evaluates all possble combinations of the selected feature and a second feature, and selects the pair that produce the best performing algorithm based on the same pre-set criteria\n",
    "\n",
    "The pre-set criteria can be the roc_auc for classification and the r squared for regression for example.\n",
    "\n",
    "This selection procedure is called greedy, because it evaluates all possible single, double, triple and so on feature combinations. Therefore, it is quite computationally expensive, and sometimes, if feature space is big, even unfeasible.\n",
    "\n",
    "There is a special package for python that implements this type of feature selection: mlxtend.\n",
    "\n",
    "In the mlxtend implementation of the step forward feature selection, the stopping criteria is an arbitrarily set number of features. So the search will finish when we reach the desired number of selected features.\n",
    "\n",
    "This is somewhat arbitrary because we may be selecting a subopimal number of features, or likewise, a high number of features."
   ]
  },
  {
   "cell_type": "raw",
   "metadata": {},
   "source": [
    "# step forward feature selection\n",
    "# I indicate that I want to select 10 features from\n",
    "# the total, and that I want to select those features\n",
    "# based on the optimal roc_auc\n",
    "\n",
    "sfs1 = SFS(RandomForestClassifier(n_jobs=4), \n",
    "           k_features=10, \n",
    "           forward=True, \n",
    "           floating=False, \n",
    "           verbose=2,\n",
    "           scoring='roc_auc',\n",
    "           cv=3)\n",
    "\n",
    "sfs1 = sfs1.fit(np.array(X_train), y_train)\n",
    "\n",
    "stepfw_support = X_train.columns[list(sfs1.k_feature_idx_)]\n",
    "stepfw_support"
   ]
  },
  {
   "cell_type": "markdown",
   "metadata": {},
   "source": [
    "### 6.2. Step backward"
   ]
  },
  {
   "cell_type": "raw",
   "metadata": {},
   "source": [
    "# step backward feature selection\n",
    "# I indicate that I want to select 15 features from\n",
    "# the total, and that I want to select those features\n",
    "# based on the optimal roc_auc\n",
    "\n",
    "sfs1 = SFS(RandomForestClassifier(n_jobs=4), \n",
    "           k_features=15, \n",
    "           forward=False, \n",
    "           floating=False, \n",
    "           verbose=2,\n",
    "           scoring='roc_auc',\n",
    "           cv=3)\n",
    "\n",
    "sfs1 = sfs1.fit(np.array(X_train, y_train)\n",
    "\n",
    "stepbw_support = X_train.columns[list(sfs2.k_feature_idx_)]\n",
    "stepbw_support"
   ]
  },
  {
   "cell_type": "markdown",
   "metadata": {},
   "source": [
    "### 6.3. Exhaustive feature selection\n",
    "\n",
    "n an exhaustive feature selection the best subset of features is selected, over all possible feature subsets, by optimizing a specified performance metric for a certain machine learning algorithm. For example, if the classifier is a logistic regression and the dataset consists of 4 features, the algorithm will evaluate all 15 feature combinations as follows:\n",
    "\n",
    "all possible combinations of 1 feature all possible combinations of 2 features all possible combinations of 3 features all the 4 features and select the one that results in the best performance (e.g., classification accuracy) of the logistic regression classifier.\n",
    "\n",
    "This is another greedy algorithm as it evaluates all possible feature combinations. It is quite computationally expensive, and sometimes, if feature space is big, even unfeasible.\n",
    "\n",
    "There is a special package for python that implements this type of feature selection: mlxtend.\n",
    "\n",
    "In the mlxtend implementation of the exhaustive feature selection, the stopping criteria is an arbitrarily set number of features. So the search will finish when we reach the desired number of selected features.\n",
    "\n",
    "This is somewhat arbitrary because we may be selecting a subopimal number of features, or likewise, a high number of features."
   ]
  },
  {
   "cell_type": "raw",
   "metadata": {},
   "source": [
    "# exhaustive feature selection\n",
    "# I indicate that I want to select 10 features from\n",
    "# the total, and that I want to select those features\n",
    "# based on the optimal roc_auc\n",
    "\n",
    "# in order to shorter search time for the demonstration\n",
    "# i will ask the algorithm to try all possible 1,2,3 and 4\n",
    "# feature combinations from a dataset of 4 features\n",
    "\n",
    "# if you have access to a multicore or distributed computer\n",
    "# system you can try more greedy searches\n",
    "\n",
    "efs1 = EFS(RandomForestClassifier(n_jobs=4, random_state=0), \n",
    "           min_features=1,\n",
    "           max_features=4, \n",
    "           scoring='roc_auc',\n",
    "           print_progress=True,\n",
    "           cv=2)\n",
    "\n",
    "efs1 = efs1.fit(np.array(X_train), y_train)"
   ]
  },
  {
   "cell_type": "raw",
   "metadata": {},
   "source": [
    "efs1.best_idx_\n",
    "\n",
    "exhaustive_support = X_train.columns[list(efs1.best_idx_)]\n",
    "exhaustive_support"
   ]
  },
  {
   "cell_type": "markdown",
   "metadata": {},
   "source": [
    "### 6.4. Recursive feature elimination with cross validation and Logistic Regression"
   ]
  },
  {
   "cell_type": "code",
   "execution_count": 159,
   "metadata": {},
   "outputs": [
    {
     "data": {
      "text/plain": [
       "RFECV(cv=10,\n",
       "      estimator=LogisticRegression(C=1.0, class_weight=None, dual=False,\n",
       "                                   fit_intercept=True, intercept_scaling=1,\n",
       "                                   l1_ratio=None, max_iter=100,\n",
       "                                   multi_class='auto', n_jobs=None,\n",
       "                                   penalty='l2', random_state=None,\n",
       "                                   solver='lbfgs', tol=0.0001, verbose=0,\n",
       "                                   warm_start=False),\n",
       "      min_features_to_select=1, n_jobs=None, scoring='accuracy', step=1,\n",
       "      verbose=0)"
      ]
     },
     "execution_count": 159,
     "metadata": {},
     "output_type": "execute_result"
    }
   ],
   "source": [
    "strat_k_fold = 10\n",
    "# Feature Selection\n",
    "from sklearn.feature_selection import RFECV\n",
    "from sklearn.linear_model import LogisticRegression\n",
    "\n",
    "logreg_model = LogisticRegression()\n",
    "rfecv = RFECV(estimator=logreg_model, step=1, cv=strat_k_fold, scoring='accuracy')\n",
    "rfecv.fit(X_train, y_train)"
   ]
  },
  {
   "cell_type": "code",
   "execution_count": 160,
   "metadata": {},
   "outputs": [
    {
     "data": {
      "text/plain": [
       "[<matplotlib.lines.Line2D at 0x1f54c716550>]"
      ]
     },
     "execution_count": 160,
     "metadata": {},
     "output_type": "execute_result"
    },
    {
     "data": {
      "image/png": "[encoded data removed]",
      "text/plain": [
       "<Figure size 432x288 with 1 Axes>"
      ]
     },
     "metadata": {
      "needs_background": "light"
     },
     "output_type": "display_data"
    }
   ],
   "source": [
    "# plot grid_scores_\n",
    "plt.figure()\n",
    "plt.title('Logistic Regression CV score vs No of Features')\n",
    "plt.xlabel(\"Number of features selected\")\n",
    "plt.ylabel(\"Cross validation score (nb of correct classifications)\")\n",
    "plt.plot(range(1, len(rfecv.grid_scores_) + 1), rfecv.grid_scores_)"
   ]
  },
  {
   "cell_type": "code",
   "execution_count": 161,
   "metadata": {},
   "outputs": [
    {
     "name": "stdout",
     "output_type": "stream",
     "text": [
      "['A4', 'A8', 'A9', 'A11', 'A12']\n"
     ]
    }
   ],
   "source": [
    "feature_importance = list(zip(X.columns, rfecv.support_))\n",
    "rfecv_features = []\n",
    "for key,value in enumerate(feature_importance):\n",
    "    if(value[1]) == True:\n",
    "        rfecv_features.append(value[0])        \n",
    "print(rfecv_features)"
   ]
  },
  {
   "cell_type": "code",
   "execution_count": 162,
   "metadata": {},
   "outputs": [
    {
     "data": {
      "text/plain": [
       "['A4', 'A8', 'A9', 'A11', 'A12']"
      ]
     },
     "execution_count": 162,
     "metadata": {},
     "output_type": "execute_result"
    }
   ],
   "source": [
    "rfecv_features[0:10]"
   ]
  },
  {
   "cell_type": "markdown",
   "metadata": {},
   "source": [
    "### 6.5. Recursive feature elimination (RFE) with random forest"
   ]
  },
  {
   "cell_type": "code",
   "execution_count": 164,
   "metadata": {},
   "outputs": [
    {
     "name": "stdout",
     "output_type": "stream",
     "text": [
      "Fitting estimator with 14 features.\n"
     ]
    },
    {
     "data": {
      "text/plain": [
       "RFE(estimator=RandomForestClassifier(bootstrap=True, ccp_alpha=0.0,\n",
       "                                     class_weight=None, criterion='gini',\n",
       "                                     max_depth=None, max_features='auto',\n",
       "                                     max_leaf_nodes=None, max_samples=None,\n",
       "                                     min_impurity_decrease=0.0,\n",
       "                                     min_impurity_split=None,\n",
       "                                     min_samples_leaf=1, min_samples_split=2,\n",
       "                                     min_weight_fraction_leaf=0.0,\n",
       "                                     n_estimators=100, n_jobs=None,\n",
       "                                     oob_score=False, random_state=None,\n",
       "                                     verbose=0, warm_start=False),\n",
       "    n_features_to_select=10, step=10, verbose=5)"
      ]
     },
     "execution_count": 164,
     "metadata": {},
     "output_type": "execute_result"
    }
   ],
   "source": [
    "from sklearn.feature_selection import RFE\n",
    "from sklearn.ensemble import RandomForestClassifier\n",
    "rfe_selector = RFE(estimator=RandomForestClassifier(), n_features_to_select=10, step=10, verbose=5)\n",
    "rfe_selector.fit(X_train, y_train)"
   ]
  },
  {
   "cell_type": "code",
   "execution_count": 165,
   "metadata": {},
   "outputs": [
    {
     "name": "stdout",
     "output_type": "stream",
     "text": [
      "10 selected features\n"
     ]
    }
   ],
   "source": [
    "rfe_support = rfe_selector.get_support()\n",
    "rfe_feature = X_train.loc[:,rfe_support].columns.tolist()\n",
    "print(str(len(rfe_feature)), 'selected features')"
   ]
  },
  {
   "cell_type": "code",
   "execution_count": 166,
   "metadata": {},
   "outputs": [
    {
     "data": {
      "text/plain": [
       "['A2', 'A3', 'A5', 'A6', 'A7', 'A8', 'A9', 'A10', 'A13', 'A14']"
      ]
     },
     "execution_count": 166,
     "metadata": {},
     "output_type": "execute_result"
    }
   ],
   "source": [
    "rfe_feature"
   ]
  },
  {
   "cell_type": "markdown",
   "metadata": {},
   "source": [
    "# 7. Embedded methods: Model-based selection techniques"
   ]
  },
  {
   "cell_type": "code",
   "execution_count": 91,
   "metadata": {},
   "outputs": [],
   "source": [
    "# linear models benefit from feature scaling\n",
    "\n",
    "scaler = StandardScaler()\n",
    "scaler.fit(X_train)\n",
    "scaled_X_train = scaler.transform(X_train)\n",
    "scaled_X_test = scaler.transform(X_test)"
   ]
  },
  {
   "cell_type": "markdown",
   "metadata": {},
   "source": [
    "### 7.1. Select features by the regression coefficients"
   ]
  },
  {
   "cell_type": "code",
   "execution_count": 104,
   "metadata": {},
   "outputs": [],
   "source": [
    "# select features using the coefficient of a non\n",
    "# regularised logistic regression\n",
    "\n",
    "# here I will do the model fitting and feature selection\n",
    "# altogether in one line of code\n",
    "\n",
    "# first I specify the Logistic Regression model, here I\n",
    "# select the Ridge Penalty (l2)(it is the default parameter in sklearn)\n",
    "\n",
    "# remember that here I want to evaluate the coefficient magnitud\n",
    "# itself and not whether lasso shrinks coefficients to zero\n",
    "\n",
    "# ideally, I want to avoid regularisation at all, so the coefficients\n",
    "# are not affected (modified) by the penalty of the regularisation\n",
    "\n",
    "# In order to do this in sklearn, I set the parameter C really by\n",
    "# this is basically like fitting a non regularised logistic regression\n",
    "\n",
    "# Then I use the selectFromModel object from sklearn\n",
    "# to automatically select the features\n",
    "from sklearn.feature_selection import SelectFromModel\n",
    "\n",
    "sel_ = SelectFromModel(LogisticRegression(C=1000))\n",
    "sel_.fit(scaled_X_train, y_train)\n",
    "\n",
    "# remove features with zero coefficient from dataset\n",
    "# and parse again as dataframe (output of sklearn is\n",
    "# numpy array)\n",
    "X_train_coef = pd.DataFrame(sel_.transform(X_train))\n",
    "X_test_coef = pd.DataFrame(sel_.transform(X_test))\n",
    "\n",
    "# add the columns name\n",
    "X_train_coef.columns = X_train.columns[(sel_.get_support())]\n",
    "X_test_coef.columns = X_train.columns[(sel_.get_support())]\n",
    "\n",
    "regression_support =  X_train.columns[(sel_.get_support())]"
   ]
  },
  {
   "cell_type": "code",
   "execution_count": 106,
   "metadata": {},
   "outputs": [
    {
     "data": {
      "text/plain": [
       "array([False, False, False, False,  True, False, False,  True, False,\n",
       "        True, False, False, False,  True])"
      ]
     },
     "execution_count": 106,
     "metadata": {},
     "output_type": "execute_result"
    }
   ],
   "source": [
    "# this command let's me visualise those features that were kept.\n",
    "\n",
    "# sklearn will select those features which coefficients are greater\n",
    "# than the mean of all the coefficients.\n",
    "\n",
    "# it compares absolute values of coefficients. More on this in a second.\n",
    "\n",
    "sel_.get_support()"
   ]
  },
  {
   "cell_type": "code",
   "execution_count": 107,
   "metadata": {},
   "outputs": [
    {
     "data": {
      "text/plain": [
       "0"
      ]
     },
     "execution_count": 107,
     "metadata": {},
     "output_type": "execute_result"
    }
   ],
   "source": [
    "# the number of features which coefficient was shrank to zero\n",
    "# is zero, as expected, because we are not making a regularised \n",
    "# regression (I set C too big, which is inversely proportional\n",
    "# to the penaly).\n",
    "\n",
    "np.sum(sel_.estimator_.coef_ == 0)"
   ]
  },
  {
   "cell_type": "code",
   "execution_count": 108,
   "metadata": {},
   "outputs": [
    {
     "data": {
      "text/plain": [
       "0.34738562810885226"
      ]
     },
     "execution_count": 108,
     "metadata": {},
     "output_type": "execute_result"
    }
   ],
   "source": [
    "# as select from model selects coefficients above the mean\n",
    "# of all coefficients, let's calculate first the mean\n",
    "\n",
    "sel_.estimator_.coef_.mean()"
   ]
  },
  {
   "cell_type": "code",
   "execution_count": 105,
   "metadata": {},
   "outputs": [
    {
     "name": "stdout",
     "output_type": "stream",
     "text": [
      "Index(['A5', 'A8', 'A10', 'A14'], dtype='object')\n"
     ]
    }
   ],
   "source": [
    "print(regression_support)"
   ]
  },
  {
   "cell_type": "code",
   "execution_count": 109,
   "metadata": {},
   "outputs": [
    {
     "data": {
      "text/plain": [
       "<matplotlib.axes._subplots.AxesSubplot at 0x1f54a4b7748>"
      ]
     },
     "execution_count": 109,
     "metadata": {},
     "output_type": "execute_result"
    },
    {
     "data": {
      "image/png": "[encoded data removed]",
      "text/plain": [
       "<Figure size 432x288 with 1 Axes>"
      ]
     },
     "metadata": {
      "needs_background": "light"
     },
     "output_type": "display_data"
    }
   ],
   "source": [
    "# and now let's plot the distribution of coefficients\n",
    "\n",
    "pd.Series(sel_.estimator_.coef_.ravel()).hist()"
   ]
  },
  {
   "cell_type": "markdown",
   "metadata": {},
   "source": [
    "As expected, some coefficients are positive and some are negative, suggesting that some features are negatively associated with the outcome (the more of the feature the less of the outcome) and viceversa.\n",
    "\n",
    "However, the absolute value of the coefficients inform about the importance of the feature on the outcome, and not the sign. Therefore, the feature selection is done filtering on absolute values of coefficients. See below."
   ]
  },
  {
   "cell_type": "code",
   "execution_count": 110,
   "metadata": {},
   "outputs": [
    {
     "data": {
      "text/plain": [
       "0.41401816768522537"
      ]
     },
     "execution_count": 110,
     "metadata": {},
     "output_type": "execute_result"
    }
   ],
   "source": [
    "# the feature importance is informed by the absolute value of\n",
    "# the coefficient, and not the sign.\n",
    "# therefore, let's recalculate the mean using the absolute values instead\n",
    "\n",
    "np.abs(sel_.estimator_.coef_).mean()"
   ]
  },
  {
   "cell_type": "code",
   "execution_count": 111,
   "metadata": {},
   "outputs": [
    {
     "data": {
      "text/plain": [
       "<matplotlib.axes._subplots.AxesSubplot at 0x1f54a8c3518>"
      ]
     },
     "execution_count": 111,
     "metadata": {},
     "output_type": "execute_result"
    },
    {
     "data": {
      "image/png": "[encoded data removed]",
      "text/plain": [
       "<Figure size 432x288 with 1 Axes>"
      ]
     },
     "metadata": {
      "needs_background": "light"
     },
     "output_type": "display_data"
    }
   ],
   "source": [
    "# and now let's plot the histogram of absolute coefficients\n",
    "\n",
    "pd.Series(np.abs(sel_.estimator_.coef_).ravel()).hist()"
   ]
  },
  {
   "cell_type": "code",
   "execution_count": 113,
   "metadata": {},
   "outputs": [
    {
     "name": "stdout",
     "output_type": "stream",
     "text": [
      "total features: 14\n",
      "selected features: 4\n",
      "features with coefficients greater than the mean coefficient: 4\n"
     ]
    }
   ],
   "source": [
    "# and now, let's compare the  amount of selected features\n",
    "# with the amount of features which coefficient is above the\n",
    "# mean coefficient, to make sure we understand the output of\n",
    "# sklearn\n",
    "\n",
    "print('total features: {}'.format((X_train.shape[1])))\n",
    "print('selected features: {}'.format(len(regression_support)))\n",
    "print('features with coefficients greater than the mean coefficient: {}'.format(\n",
    "    np.sum(np.abs(sel_.estimator_.coef_) > np.abs(sel_.estimator_.coef_).mean())))"
   ]
  },
  {
   "cell_type": "markdown",
   "metadata": {},
   "source": [
    "Therefore, we see how select from model works. It will select all the coefficients which absolute values are greater than the mean. You can of course select a different threshold. Visit the documentation in sklearn to learn how to change this parameter."
   ]
  },
  {
   "cell_type": "markdown",
   "metadata": {},
   "source": [
    "### 7.2. Lasso Regularization\n",
    "\n",
    "Regularization consists in adding a penalty to the different parameters of the machine learning model to reduce the freedom of the model and in other words to avoid overfitting. In linear model regularization, the penalty is applied over the coefficients that multiply each of the predictors. From the different types of regularization, Lasso or L1 has the property that is able to shrink some of the coefficients to zero. Therefore, that feature can be removed from the model"
   ]
  },
  {
   "cell_type": "code",
   "execution_count": 95,
   "metadata": {},
   "outputs": [
    {
     "data": {
      "text/plain": [
       "SelectFromModel(estimator=LogisticRegression(C=1, class_weight=None, dual=False,\n",
       "                                             fit_intercept=True,\n",
       "                                             intercept_scaling=1, l1_ratio=None,\n",
       "                                             max_iter=100, multi_class='auto',\n",
       "                                             n_jobs=None, penalty='l1',\n",
       "                                             random_state=None,\n",
       "                                             solver='liblinear', tol=0.0001,\n",
       "                                             verbose=0, warm_start=False),\n",
       "                max_features=None, norm_order=1, prefit=False, threshold=None)"
      ]
     },
     "execution_count": 95,
     "metadata": {},
     "output_type": "execute_result"
    }
   ],
   "source": [
    "# First, specify the Logistic Regression model and selection the Lasso (L1) penalty\n",
    "sel_ = SelectFromModel(LogisticRegression(C=1, penalty='l1',solver='liblinear'))\n",
    "\n",
    "# Second, use the selectFromModel object from sklearn, which will select\n",
    "# in theory the features which coefficients are non-zero\n",
    "sel_.fit(scaled_X_train, y_train)"
   ]
  },
  {
   "cell_type": "code",
   "execution_count": 96,
   "metadata": {},
   "outputs": [
    {
     "data": {
      "text/plain": [
       "array([ True, False, False,  True,  True,  True,  True,  True,  True,\n",
       "        True,  True,  True,  True,  True])"
      ]
     },
     "execution_count": 96,
     "metadata": {},
     "output_type": "execute_result"
    }
   ],
   "source": [
    "# visualize those features that were kept\n",
    "sel_.get_support()"
   ]
  },
  {
   "cell_type": "code",
   "execution_count": 97,
   "metadata": {},
   "outputs": [
    {
     "name": "stdout",
     "output_type": "stream",
     "text": [
      "total features: 14\n",
      "selected features: 12\n",
      "features with coefficients shrank to zero: 2\n"
     ]
    }
   ],
   "source": [
    "# Make a list with the selected features\n",
    "\n",
    "lasso_features = X_train.columns[(sel_.get_support())]\n",
    "\n",
    "print('total features: {}'.format((X_train.shape[1])))\n",
    "print('selected features: {}'.format(len(lasso_features)))\n",
    "print('features with coefficients shrank to zero: {}'.format(\n",
    "    np.sum(sel_.estimator_.coef_ == 0)))"
   ]
  },
  {
   "cell_type": "code",
   "execution_count": 98,
   "metadata": {},
   "outputs": [
    {
     "data": {
      "text/plain": [
       "Index(['A2', 'A3'], dtype='object')"
      ]
     },
     "execution_count": 98,
     "metadata": {},
     "output_type": "execute_result"
    }
   ],
   "source": [
    "# we can identify the removed features like this:\n",
    "removed_feats = X_train.columns[(sel_.estimator_.coef_ == 0).ravel().tolist()]\n",
    "removed_feats"
   ]
  },
  {
   "cell_type": "code",
   "execution_count": 99,
   "metadata": {},
   "outputs": [
    {
     "data": {
      "text/plain": [
       "Index(['A1', 'A4', 'A5', 'A6', 'A7', 'A8', 'A9', 'A10', 'A11', 'A12', 'A13', 'A14'], dtype='object')"
      ]
     },
     "execution_count": 99,
     "metadata": {},
     "output_type": "execute_result"
    }
   ],
   "source": [
    "lasso_features"
   ]
  },
  {
   "cell_type": "code",
   "execution_count": 100,
   "metadata": {},
   "outputs": [
    {
     "data": {
      "text/plain": [
       "<matplotlib.axes._subplots.AxesSubplot at 0x1f54a6dd978>"
      ]
     },
     "execution_count": 100,
     "metadata": {},
     "output_type": "execute_result"
    },
    {
     "data": {
      "image/png": "[encoded data removed]",
      "text/plain": [
       "<Figure size 432x288 with 1 Axes>"
      ]
     },
     "metadata": {
      "needs_background": "light"
     },
     "output_type": "display_data"
    }
   ],
   "source": [
    "# plot the distribution of coefficients\n",
    "pd.Series(sel_.estimator_.coef_.ravel()).hist()"
   ]
  },
  {
   "cell_type": "markdown",
   "metadata": {},
   "source": [
    "As expected, some coefficients are positive and some are negative, suggesting that some features are negatively associated with the outcome (the more of the feature the less of the outcome) and viceversa.\n",
    "\n",
    "However, the absolute value of the coefficients inform about the importance of the feature on the outcome, and not the sign. Therefore, the feature selection is done filtering on absolute values of coefficients. See below."
   ]
  },
  {
   "cell_type": "code",
   "execution_count": 101,
   "metadata": {},
   "outputs": [
    {
     "data": {
      "text/plain": [
       "0.36547451709361006"
      ]
     },
     "execution_count": 101,
     "metadata": {},
     "output_type": "execute_result"
    }
   ],
   "source": [
    "# the feature importance is informed by the absolute value of\n",
    "# the coefficient, and not the sign.\n",
    "# therefore, let's recalculate the mean using the absolute values instead\n",
    "\n",
    "np.abs(sel_.estimator_.coef_).mean()"
   ]
  },
  {
   "cell_type": "code",
   "execution_count": 102,
   "metadata": {},
   "outputs": [
    {
     "data": {
      "text/plain": [
       "<matplotlib.axes._subplots.AxesSubplot at 0x1f54a437cc0>"
      ]
     },
     "execution_count": 102,
     "metadata": {},
     "output_type": "execute_result"
    },
    {
     "data": {
      "image/png": "[encoded data removed]",
      "text/plain": [
       "<Figure size 432x288 with 1 Axes>"
      ]
     },
     "metadata": {
      "needs_background": "light"
     },
     "output_type": "display_data"
    }
   ],
   "source": [
    "# and now let's plot the histogram of absolute coefficients\n",
    "\n",
    "pd.Series(np.abs(sel_.estimator_.coef_).ravel()).hist()"
   ]
  },
  {
   "cell_type": "code",
   "execution_count": 103,
   "metadata": {},
   "outputs": [
    {
     "name": "stdout",
     "output_type": "stream",
     "text": [
      "total features: 14\n",
      "selected features: 12\n",
      "features with coefficients greater than the mean coefficient: 4\n"
     ]
    }
   ],
   "source": [
    "# and now, let's compare the  amount of selected features\n",
    "# with the amount of features which coefficient is above the\n",
    "# mean coefficient, to make sure we understand the output of\n",
    "# sklearn\n",
    "\n",
    "print('total features: {}'.format((X_train.shape[1])))\n",
    "print('selected features: {}'.format(len(lasso_features)))\n",
    "print('features with coefficients greater than the mean coefficient: {}'.format(\n",
    "    np.sum(np.abs(sel_.estimator_.coef_) > np.abs(sel_.estimator_.coef_).mean())))"
   ]
  },
  {
   "cell_type": "markdown",
   "metadata": {},
   "source": [
    "### 7.3. Regression coefficients are affected by regularisation\n",
    "\n",
    "As I mentioned previously, regularisation applies a penalty on the coefficients, in order to reduce their influence and create models that generalise better. This is very good to improve  model performance. However, it masks the true relationship between the predictor X and the outcome Y. Let's explore why.\n",
    "\n",
    "http://localhost:8888/notebooks/01-ML/02-General/FeatureSelection/08.3_Regression_coefficients_and_regularisation.ipynb"
   ]
  },
  {
   "cell_type": "code",
   "execution_count": 114,
   "metadata": {},
   "outputs": [],
   "source": [
    "# I build 4 different models, from a highly regularised one\n",
    "# to a non regularised one (C=1000)\n",
    "coefs_df = []\n",
    "for c in [1, 10, 100, 1000]:\n",
    "    logit = LogisticRegression(C=c, penalty='l2')\n",
    "    logit.fit(scaler.transform(X_train.fillna(0)), y_train)\n",
    "    \n",
    "    # store the coefficients of the variables in a list\n",
    "    coefs_df.append(pd.Series(logit.coef_.ravel()))"
   ]
  },
  {
   "cell_type": "code",
   "execution_count": 115,
   "metadata": {},
   "outputs": [
    {
     "data": {
      "text/html": [
       "<div>\n",
       "<style scoped>\n",
       "    .dataframe tbody tr th:only-of-type {\n",
       "        vertical-align: middle;\n",
       "    }\n",
       "\n",
       "    .dataframe tbody tr th {\n",
       "        vertical-align: top;\n",
       "    }\n",
       "\n",
       "    .dataframe thead th {\n",
       "        text-align: right;\n",
       "    }\n",
       "</style>\n",
       "<table border=\"1\" class=\"dataframe\">\n",
       "  <thead>\n",
       "    <tr style=\"text-align: right;\">\n",
       "      <th></th>\n",
       "      <th>1</th>\n",
       "      <th>10</th>\n",
       "      <th>100</th>\n",
       "      <th>1000</th>\n",
       "    </tr>\n",
       "  </thead>\n",
       "  <tbody>\n",
       "    <tr>\n",
       "      <th>A1</th>\n",
       "      <td>-0.074623</td>\n",
       "      <td>-0.080305</td>\n",
       "      <td>-0.081116</td>\n",
       "      <td>-0.081203</td>\n",
       "    </tr>\n",
       "    <tr>\n",
       "      <th>A2</th>\n",
       "      <td>-0.004121</td>\n",
       "      <td>-0.014420</td>\n",
       "      <td>-0.015727</td>\n",
       "      <td>-0.015863</td>\n",
       "    </tr>\n",
       "    <tr>\n",
       "      <th>A3</th>\n",
       "      <td>-0.024406</td>\n",
       "      <td>-0.039073</td>\n",
       "      <td>-0.041142</td>\n",
       "      <td>-0.041359</td>\n",
       "    </tr>\n",
       "    <tr>\n",
       "      <th>A4</th>\n",
       "      <td>0.118149</td>\n",
       "      <td>0.123714</td>\n",
       "      <td>0.124406</td>\n",
       "      <td>0.124475</td>\n",
       "    </tr>\n",
       "    <tr>\n",
       "      <th>A5</th>\n",
       "      <td>0.623057</td>\n",
       "      <td>0.643411</td>\n",
       "      <td>0.645779</td>\n",
       "      <td>0.646021</td>\n",
       "    </tr>\n",
       "  </tbody>\n",
       "</table>\n",
       "</div>"
      ],
      "text/plain": [
       "        1         10        100       1000\n",
       "A1 -0.074623 -0.080305 -0.081116 -0.081203\n",
       "A2 -0.004121 -0.014420 -0.015727 -0.015863\n",
       "A3 -0.024406 -0.039073 -0.041142 -0.041359\n",
       "A4  0.118149  0.123714  0.124406  0.124475\n",
       "A5  0.623057  0.643411  0.645779  0.646021"
      ]
     },
     "execution_count": 115,
     "metadata": {},
     "output_type": "execute_result"
    }
   ],
   "source": [
    "# now I create a dataframe with the coefficients for all\n",
    "# the variables for the 4 different logistic regression models\n",
    "\n",
    "coefs = pd.concat(coefs_df, axis=1)\n",
    "coefs.columns = [1, 10, 100, 1000]\n",
    "coefs.index = X_train.columns\n",
    "coefs.head()"
   ]
  },
  {
   "cell_type": "code",
   "execution_count": 116,
   "metadata": {},
   "outputs": [
    {
     "data": {
      "text/html": [
       "<div>\n",
       "<style scoped>\n",
       "    .dataframe tbody tr th:only-of-type {\n",
       "        vertical-align: middle;\n",
       "    }\n",
       "\n",
       "    .dataframe tbody tr th {\n",
       "        vertical-align: top;\n",
       "    }\n",
       "\n",
       "    .dataframe thead th {\n",
       "        text-align: right;\n",
       "    }\n",
       "</style>\n",
       "<table border=\"1\" class=\"dataframe\">\n",
       "  <thead>\n",
       "    <tr style=\"text-align: right;\">\n",
       "      <th></th>\n",
       "      <th>0.000000</th>\n",
       "      <th>2.302585</th>\n",
       "      <th>4.605170</th>\n",
       "      <th>6.907755</th>\n",
       "    </tr>\n",
       "  </thead>\n",
       "  <tbody>\n",
       "    <tr>\n",
       "      <th>A1</th>\n",
       "      <td>-0.074623</td>\n",
       "      <td>-0.080305</td>\n",
       "      <td>-0.081116</td>\n",
       "      <td>-0.081203</td>\n",
       "    </tr>\n",
       "    <tr>\n",
       "      <th>A2</th>\n",
       "      <td>-0.004121</td>\n",
       "      <td>-0.014420</td>\n",
       "      <td>-0.015727</td>\n",
       "      <td>-0.015863</td>\n",
       "    </tr>\n",
       "    <tr>\n",
       "      <th>A3</th>\n",
       "      <td>-0.024406</td>\n",
       "      <td>-0.039073</td>\n",
       "      <td>-0.041142</td>\n",
       "      <td>-0.041359</td>\n",
       "    </tr>\n",
       "    <tr>\n",
       "      <th>A4</th>\n",
       "      <td>0.118149</td>\n",
       "      <td>0.123714</td>\n",
       "      <td>0.124406</td>\n",
       "      <td>0.124475</td>\n",
       "    </tr>\n",
       "    <tr>\n",
       "      <th>A5</th>\n",
       "      <td>0.623057</td>\n",
       "      <td>0.643411</td>\n",
       "      <td>0.645779</td>\n",
       "      <td>0.646021</td>\n",
       "    </tr>\n",
       "  </tbody>\n",
       "</table>\n",
       "</div>"
      ],
      "text/plain": [
       "    0.000000  2.302585  4.605170  6.907755\n",
       "A1 -0.074623 -0.080305 -0.081116 -0.081203\n",
       "A2 -0.004121 -0.014420 -0.015727 -0.015863\n",
       "A3 -0.024406 -0.039073 -0.041142 -0.041359\n",
       "A4  0.118149  0.123714  0.124406  0.124475\n",
       "A5  0.623057  0.643411  0.645779  0.646021"
      ]
     },
     "execution_count": 116,
     "metadata": {},
     "output_type": "execute_result"
    }
   ],
   "source": [
    "coefs.columns = np.log([1, 10, 100, 1000])\n",
    "coefs.head()"
   ]
  },
  {
   "cell_type": "code",
   "execution_count": 117,
   "metadata": {},
   "outputs": [
    {
     "data": {
      "text/plain": [
       "<matplotlib.axes._subplots.AxesSubplot at 0x1f54a940358>"
      ]
     },
     "execution_count": 117,
     "metadata": {},
     "output_type": "execute_result"
    },
    {
     "data": {
      "image/png": "[encoded data removed]",
      "text/plain": [
       "<Figure size 1080x720 with 1 Axes>"
      ]
     },
     "metadata": {
      "needs_background": "light"
     },
     "output_type": "display_data"
    }
   ],
   "source": [
    "# plot the change in coefficients with the penalty\n",
    "coefs.T.plot(figsize=(15,10))"
   ]
  },
  {
   "cell_type": "code",
   "execution_count": 118,
   "metadata": {},
   "outputs": [
    {
     "data": {
      "text/plain": [
       "<matplotlib.axes._subplots.AxesSubplot at 0x1f54aa27940>"
      ]
     },
     "execution_count": 118,
     "metadata": {},
     "output_type": "execute_result"
    },
    {
     "data": {
      "image/png": "[encoded data removed]",
      "text/plain": [
       "<Figure size 864x576 with 1 Axes>"
      ]
     },
     "metadata": {
      "needs_background": "light"
     },
     "output_type": "display_data"
    }
   ],
   "source": [
    "# now I will plot only the first 10 features for better\n",
    "# visualisation\n",
    "\n",
    "temp = coefs.head(8)\n",
    "temp = temp.T\n",
    "temp.plot(figsize=(12,8))"
   ]
  },
  {
   "cell_type": "markdown",
   "metadata": {},
   "source": [
    "We can see that the relation among the coefficients is complex. Some features show bigger coefficients than others without regularisation, but when the penalty increases this relationship changes"
   ]
  },
  {
   "cell_type": "code",
   "execution_count": 120,
   "metadata": {},
   "outputs": [
    {
     "data": {
      "text/plain": [
       "<matplotlib.axes._subplots.AxesSubplot at 0x1f54ab5b898>"
      ]
     },
     "execution_count": 120,
     "metadata": {},
     "output_type": "execute_result"
    },
    {
     "data": {
      "image/png": "[encoded data removed]",
      "text/plain": [
       "<Figure size 864x576 with 1 Axes>"
      ]
     },
     "metadata": {
      "needs_background": "light"
     },
     "output_type": "display_data"
    }
   ],
   "source": [
    "# plot another 10 features for visualisation\n",
    "temp = coefs.tail(5)\n",
    "temp = temp.T\n",
    "temp.plot(figsize=(12,8))"
   ]
  },
  {
   "cell_type": "markdown",
   "metadata": {},
   "source": [
    "Same as before, the relationship between features, as inferred from the coefficients, changes depending on the level of regularisation."
   ]
  },
  {
   "cell_type": "code",
   "execution_count": null,
   "metadata": {},
   "outputs": [],
   "source": []
  },
  {
   "cell_type": "markdown",
   "metadata": {},
   "source": [
    "### 7.4. L2 Regularization"
   ]
  },
  {
   "cell_type": "code",
   "execution_count": 121,
   "metadata": {},
   "outputs": [
    {
     "data": {
      "text/plain": [
       "['A4', 'A5', 'A7', 'A8', 'A12']"
      ]
     },
     "execution_count": 121,
     "metadata": {},
     "output_type": "execute_result"
    }
   ],
   "source": [
    "from sklearn.feature_selection import SelectFromModel\n",
    "from sklearn.linear_model import LogisticRegression\n",
    "\n",
    "embeded_lr_selector = SelectFromModel(LogisticRegression(penalty=\"l2\"), '1.15*median')\n",
    "embeded_lr_selector.fit(X_train, y_train)\n",
    "\n",
    "embeded_lr_support = embeded_lr_selector.get_support()\n",
    "embeded_lr_feature = X_train.loc[:,embeded_lr_support].columns.tolist()\n",
    "embeded_lr_feature"
   ]
  },
  {
   "cell_type": "markdown",
   "metadata": {},
   "source": [
    "### 7.5. Select features by random forests derived importance \n",
    "\n",
    "Random forests are one the most popular machine learning algorithms. They are so successful because they provide in general a good predictive performance, low overfitting and easy interpretability. This interpretability is given by the fact that it is straightforward to derive the importance of each variable on the tree decision. In other words, it is easy to compute how much each variable is contributing to the decision.\n",
    "\n",
    "Random forests consist of 4-12 hundred decision trees, each of them built over a random extraction of the observations from the dataset and a random extraction of the features. Not every tree sees all the features or all the observations, and this guarantees that the trees are de-correlated and therefore less prone to over-fitting. Each tree is also a sequence of yes-no questions based on a single or combination of features. At each node (this is at each question), the three divides the dataset into 2 buckets, each of them hosting observations that are more similar among themselves and different from the ones in the other bucket. Therefore, the importance of each feature is derived by how \"pure\" each of the buckets is. \n",
    "\n",
    "For classification, the measure of impurity is either the Gini impurity or the information gain/entropy. For regression the  measure of impurity is variance. Therefore, when training a tree, it is possible to compute how much each feature decreases the impurity. The more a feature decreases the impurity, the more important the feature is. In random forests, the impurity decrease from each feature can be averaged across trees to determine the final importance of the variable.\n",
    "\n",
    "To give you a better intuition, features that are selected at the top of the trees are in general more important than features that are selected at the end nodes of the trees, as generally the top splits lead to bigger information gains.\n",
    "\n",
    "**Note**\n",
    "- Random Forests and decision trees in general give preference to features with high cardinality\n",
    "- Correlated features will be given equal or similar importance, but overall reduced importance compared to the same tree built without correlated counterparts.\n",
    "\n",
    "http://localhost:8888/notebooks/01-ML/02-General/FeatureSelection/09.2_Random_forest_importance.ipynb"
   ]
  },
  {
   "cell_type": "code",
   "execution_count": 122,
   "metadata": {},
   "outputs": [],
   "source": [
    "# select features using the impotance derived from\n",
    "# random forests\n",
    "\n",
    "sel_ = SelectFromModel(RandomForestClassifier(n_estimators=400))\n",
    "sel_.fit(scaled_X_train, y_train)\n",
    "\n",
    "# remove features with zero coefficient from dataset\n",
    "# and parse again as dataframe (output of sklearn is\n",
    "# numpy array)\n",
    "X_train_rf = pd.DataFrame(sel_.transform(X_train))\n",
    "X_test_rf = pd.DataFrame(sel_.transform(X_test))\n",
    "\n",
    "# add the columns name\n",
    "X_train_rf.columns = X_train.columns[(sel_.get_support())]\n",
    "X_test_rf.columns = X_train.columns[(sel_.get_support())]"
   ]
  },
  {
   "cell_type": "code",
   "execution_count": 123,
   "metadata": {},
   "outputs": [
    {
     "data": {
      "text/plain": [
       "((483, 7), (207, 7))"
      ]
     },
     "execution_count": 123,
     "metadata": {},
     "output_type": "execute_result"
    }
   ],
   "source": [
    "X_train_rf.shape, X_test_rf.shape"
   ]
  },
  {
   "cell_type": "code",
   "execution_count": 124,
   "metadata": {},
   "outputs": [
    {
     "data": {
      "text/plain": [
       "array([False,  True,  True, False,  True, False,  True,  True, False,\n",
       "        True, False, False, False,  True])"
      ]
     },
     "execution_count": 124,
     "metadata": {},
     "output_type": "execute_result"
    }
   ],
   "source": [
    "# this command let's me visualise those features that were selected.\n",
    "\n",
    "# sklearn will select those features which importance values\n",
    "# are greater than the mean of all the coefficients.\n",
    "\n",
    "sel_.get_support()"
   ]
  },
  {
   "cell_type": "code",
   "execution_count": 125,
   "metadata": {},
   "outputs": [
    {
     "data": {
      "text/plain": [
       "7"
      ]
     },
     "execution_count": 125,
     "metadata": {},
     "output_type": "execute_result"
    }
   ],
   "source": [
    "# let's make a list and count the selected features\n",
    "randomforest_feature = X_train.columns[(sel_.get_support())]\n",
    "len(randomforest_feature)"
   ]
  },
  {
   "cell_type": "code",
   "execution_count": 126,
   "metadata": {},
   "outputs": [
    {
     "data": {
      "text/plain": [
       "Index(['A2', 'A3', 'A5', 'A7', 'A8', 'A10', 'A14'], dtype='object')"
      ]
     },
     "execution_count": 126,
     "metadata": {},
     "output_type": "execute_result"
    }
   ],
   "source": [
    "randomforest_feature"
   ]
  },
  {
   "cell_type": "code",
   "execution_count": 127,
   "metadata": {},
   "outputs": [
    {
     "data": {
      "text/plain": [
       "<matplotlib.axes._subplots.AxesSubplot at 0x1f54b008710>"
      ]
     },
     "execution_count": 127,
     "metadata": {},
     "output_type": "execute_result"
    },
    {
     "data": {
      "image/png": "[encoded data removed]",
      "text/plain": [
       "<Figure size 432x288 with 1 Axes>"
      ]
     },
     "metadata": {
      "needs_background": "light"
     },
     "output_type": "display_data"
    }
   ],
   "source": [
    "# and now let's plot the distribution of importances\n",
    "\n",
    "pd.Series(sel_.estimator_.feature_importances_.ravel()).hist()"
   ]
  },
  {
   "cell_type": "code",
   "execution_count": 129,
   "metadata": {},
   "outputs": [
    {
     "name": "stdout",
     "output_type": "stream",
     "text": [
      "total features: 14\n",
      "selected features: 7\n",
      "features with coefficients greater than the mean coefficient: 7\n"
     ]
    }
   ],
   "source": [
    "# and now, let's compare the  amount of selected features\n",
    "# with the amount of features which importance is above the\n",
    "# mean importance, to make sure we understand the output of\n",
    "# sklearn\n",
    "\n",
    "print('total features: {}'.format((X_train.shape[1])))\n",
    "print('selected features: {}'.format(len(randomforest_feature)))\n",
    "print('features with coefficients greater than the mean coefficient: {}'.format(\n",
    "    np.sum(sel_.estimator_.feature_importances_ > sel_.estimator_.feature_importances_.mean())))"
   ]
  },
  {
   "cell_type": "markdown",
   "metadata": {},
   "source": [
    "Selecting features by using tree derived feature importance is a very srtaightforward, fast and generally accurate way of selecting good features for machine learning. In particular, if you are going to build tree methods.\n",
    "\n",
    "However, as I said, correlated features will show in a tree similar and lowered importance, compared to what their importance would be if the tree was built without correlated counterparts.\n",
    "\n",
    "In situations like this, it is better to select features recursively, rather than altogether like I am doing in this lecture.\n",
    "\n",
    "\n",
    "That is all for this lecture, I hope you enjoyed it and see you in the next one!"
   ]
  },
  {
   "cell_type": "markdown",
   "metadata": {},
   "source": [
    "Where we put the cut-off to select features is a bit arbitrary. One way is to select the top 10, 20 features. Alternatively, the top 10th percentile. For this, you can use mutual info in combination with SelectKBest or SelectPercentile from sklearn. See below."
   ]
  },
  {
   "cell_type": "code",
   "execution_count": 130,
   "metadata": {},
   "outputs": [
    {
     "data": {
      "text/plain": [
       "['A7', 'A8', 'A10']"
      ]
     },
     "execution_count": 130,
     "metadata": {},
     "output_type": "execute_result"
    }
   ],
   "source": [
    "from sklearn.feature_selection import SelectFromModel\n",
    "from sklearn.ensemble import RandomForestClassifier\n",
    "\n",
    "embeded_rf_selector = SelectFromModel(RandomForestClassifier(n_estimators=100), threshold='1.15*median')\n",
    "embeded_rf_selector.fit(X_train, y_train)\n",
    "\n",
    "embeded_rf_support = embeded_rf_selector.get_support()\n",
    "embeded_rf_feature = X_train.loc[:,embeded_rf_support].columns.tolist()\n",
    "embeded_rf_feature"
   ]
  },
  {
   "cell_type": "markdown",
   "metadata": {},
   "source": [
    "### 7.6. Recursive feature selection using random forests importance\n",
    "\n",
    "Random Forests assign equal or similar importance to features that are highly correlated. In addition, when features are correlated, the importance assigned is lower than the importance attributed to the feature itself, should the tree be built without the correlated counterparts.\n",
    "\n",
    "Therefore, instead of eliminating features based  on importance by brute force like we did in the previous lecture, we may get a better selection by removing one feature at a time, and recalculating the importance on each round.\n",
    "\n",
    "This method is an hybrid between embedded and wrapper methods: it is based on computation derived when fitting the model, but it also requires fitting several models.\n",
    "\n",
    "The cycle is as follows:\n",
    "\n",
    "- Build random forests using all features\n",
    "- Remove least important feature\n",
    "- Build random forests and recalculate importance\n",
    "- Repeat until a criteria is met\n",
    "\n",
    "In this situation, when a feature that is highly correlated to another one is removed, then, the importance of the remaining feature increases. This may lead to a better subset feature space selection. On the downside, building several random forests is quite time consuming, in particular if the dataset contains a high number of features."
   ]
  },
  {
   "cell_type": "code",
   "execution_count": 133,
   "metadata": {},
   "outputs": [
    {
     "data": {
      "text/plain": [
       "RFE(estimator=RandomForestClassifier(bootstrap=True, ccp_alpha=0.0,\n",
       "                                     class_weight=None, criterion='gini',\n",
       "                                     max_depth=None, max_features='auto',\n",
       "                                     max_leaf_nodes=None, max_samples=None,\n",
       "                                     min_impurity_decrease=0.0,\n",
       "                                     min_impurity_split=None,\n",
       "                                     min_samples_leaf=1, min_samples_split=2,\n",
       "                                     min_weight_fraction_leaf=0.0,\n",
       "                                     n_estimators=100, n_jobs=None,\n",
       "                                     oob_score=False, random_state=None,\n",
       "                                     verbose=0, warm_start=False),\n",
       "    n_features_to_select=10, step=1, verbose=0)"
      ]
     },
     "execution_count": 133,
     "metadata": {},
     "output_type": "execute_result"
    }
   ],
   "source": [
    "# first I specify the Random Forest instance, indicating the number of trees\n",
    "\n",
    "# Then I use the selectFromModel object from sklearn to automatically select the features\n",
    "\n",
    "# RFE will remove one feature at each iteration, the least  important.\n",
    "# then it will build another random forest and repeat till a criteria is met.\n",
    "\n",
    "# in sklearn the criteria to stop is an arbitrary number of features to select, that you need to decide before hand\n",
    "# not the best solution, but a solution\n",
    "\n",
    "sel_ = RFE(RandomForestClassifier(n_estimators=100), n_features_to_select=10)\n",
    "sel_.fit(X_train, y_train)"
   ]
  },
  {
   "cell_type": "code",
   "execution_count": 134,
   "metadata": {},
   "outputs": [
    {
     "data": {
      "text/plain": [
       "array([False,  True,  True, False,  True,  True,  True,  True,  True,\n",
       "        True, False, False,  True,  True])"
      ]
     },
     "execution_count": 134,
     "metadata": {},
     "output_type": "execute_result"
    }
   ],
   "source": [
    "# this command let's me visualise those features that were selected.\n",
    "sel_.get_support()"
   ]
  },
  {
   "cell_type": "code",
   "execution_count": 135,
   "metadata": {},
   "outputs": [
    {
     "data": {
      "text/plain": [
       "10"
      ]
     },
     "execution_count": 135,
     "metadata": {},
     "output_type": "execute_result"
    }
   ],
   "source": [
    "# let's add the variable names and order it for clearer visualisation\n",
    "selected_feat = X_train.columns[(sel_.get_support())]\n",
    "len(selected_feat)"
   ]
  },
  {
   "cell_type": "code",
   "execution_count": 136,
   "metadata": {},
   "outputs": [
    {
     "data": {
      "text/plain": [
       "Index(['A2', 'A3', 'A5', 'A6', 'A7', 'A8', 'A9', 'A10', 'A13', 'A14'], dtype='object')"
      ]
     },
     "execution_count": 136,
     "metadata": {},
     "output_type": "execute_result"
    }
   ],
   "source": [
    "# let's display the list of features\n",
    "selected_feat"
   ]
  },
  {
   "cell_type": "markdown",
   "metadata": {},
   "source": [
    "### 7.7. LightGBM"
   ]
  },
  {
   "cell_type": "code",
   "execution_count": 137,
   "metadata": {},
   "outputs": [
    {
     "data": {
      "text/plain": [
       "['A2', 'A3', 'A7', 'A9', 'A11', 'A14']"
      ]
     },
     "execution_count": 137,
     "metadata": {},
     "output_type": "execute_result"
    }
   ],
   "source": [
    "from sklearn.feature_selection import SelectFromModel\n",
    "from lightgbm import LGBMClassifier\n",
    "\n",
    "lgbc=LGBMClassifier(n_estimators=500, learning_rate=0.05, num_leaves=32, colsample_bytree=0.2,\n",
    "            reg_alpha=3, reg_lambda=1, min_split_gain=0.01, min_child_weight=40)\n",
    "\n",
    "embeded_lgb_selector = SelectFromModel(lgbc, threshold='1.15*median')\n",
    "embeded_lgb_selector.fit(X_train, y_train)\n",
    "\n",
    "embeded_lgb_support = embeded_lgb_selector.get_support()\n",
    "embeded_lgb_feature = X_train.loc[:,embeded_lgb_support].columns.tolist()\n",
    "embeded_lgb_feature"
   ]
  },
  {
   "cell_type": "markdown",
   "metadata": {},
   "source": [
    "### 7.8. Gradient Boosted trees importance\n",
    "\n",
    "Similarly to selecting features using Random Forests derived feature importance, you can select features based on the importance derived by gradient boosted trees. And you can do that in one go, or in a recursive manner, depending on how much time you have, how many features are in the dataset, and whether they are correlated or not.\n",
    "\n",
    "I will demonstrate how to select features using Gradient boosted trees derived importance using sklearn on a classification problem, using the Paribas claims dataset from Kaggle."
   ]
  },
  {
   "cell_type": "code",
   "execution_count": 139,
   "metadata": {},
   "outputs": [
    {
     "data": {
      "text/plain": [
       "SelectFromModel(estimator=GradientBoostingClassifier(ccp_alpha=0.0,\n",
       "                                                     criterion='friedman_mse',\n",
       "                                                     init=None,\n",
       "                                                     learning_rate=0.1,\n",
       "                                                     loss='deviance',\n",
       "                                                     max_depth=3,\n",
       "                                                     max_features=None,\n",
       "                                                     max_leaf_nodes=None,\n",
       "                                                     min_impurity_decrease=0.0,\n",
       "                                                     min_impurity_split=None,\n",
       "                                                     min_samples_leaf=1,\n",
       "                                                     min_samples_split=2,\n",
       "                                                     min_weight_fraction_leaf=0.0,\n",
       "                                                     n_estimators=100,\n",
       "                                                     n_iter_no_change=None,\n",
       "                                                     presort='deprecated',\n",
       "                                                     random_state=None,\n",
       "                                                     subsample=1.0, tol=0.0001,\n",
       "                                                     validation_fraction=0.1,\n",
       "                                                     verbose=0,\n",
       "                                                     warm_start=False),\n",
       "                max_features=None, norm_order=1, prefit=False, threshold=None)"
      ]
     },
     "execution_count": 139,
     "metadata": {},
     "output_type": "execute_result"
    }
   ],
   "source": [
    "# first I will select features all together in one go\n",
    "# by contemplating their importance after fitting only\n",
    "# 1 gradient boosted tree\n",
    "\n",
    "sel_ = SelectFromModel(GradientBoostingClassifier())\n",
    "sel_.fit(X_train, y_train)"
   ]
  },
  {
   "cell_type": "code",
   "execution_count": 140,
   "metadata": {},
   "outputs": [
    {
     "data": {
      "text/plain": [
       "1"
      ]
     },
     "execution_count": 140,
     "metadata": {},
     "output_type": "execute_result"
    }
   ],
   "source": [
    "# let's add the variable names and order it for clearer visualisation\n",
    "selected_feat = X_train.columns[(sel_.get_support())]\n",
    "len(selected_feat)"
   ]
  },
  {
   "cell_type": "code",
   "execution_count": 141,
   "metadata": {},
   "outputs": [
    {
     "data": {
      "text/plain": [
       "Index(['A8'], dtype='object')"
      ]
     },
     "execution_count": 141,
     "metadata": {},
     "output_type": "execute_result"
    }
   ],
   "source": [
    "selected_feat"
   ]
  },
  {
   "cell_type": "code",
   "execution_count": 143,
   "metadata": {},
   "outputs": [
    {
     "data": {
      "text/plain": [
       "RFE(estimator=GradientBoostingClassifier(ccp_alpha=0.0,\n",
       "                                         criterion='friedman_mse', init=None,\n",
       "                                         learning_rate=0.1, loss='deviance',\n",
       "                                         max_depth=3, max_features=None,\n",
       "                                         max_leaf_nodes=None,\n",
       "                                         min_impurity_decrease=0.0,\n",
       "                                         min_impurity_split=None,\n",
       "                                         min_samples_leaf=1,\n",
       "                                         min_samples_split=2,\n",
       "                                         min_weight_fraction_leaf=0.0,\n",
       "                                         n_estimators=100,\n",
       "                                         n_iter_no_change=None,\n",
       "                                         presort='deprecated',\n",
       "                                         random_state=None, subsample=1.0,\n",
       "                                         tol=0.0001, validation_fraction=0.1,\n",
       "                                         verbose=0, warm_start=False),\n",
       "    n_features_to_select=1, step=1, verbose=0)"
      ]
     },
     "execution_count": 143,
     "metadata": {},
     "output_type": "execute_result"
    }
   ],
   "source": [
    "# next I will select features recursively for comparison\n",
    "\n",
    "sel_ = RFE(GradientBoostingClassifier(), n_features_to_select=len(selected_feat))\n",
    "sel_.fit(X_train, y_train)"
   ]
  },
  {
   "cell_type": "code",
   "execution_count": 144,
   "metadata": {},
   "outputs": [
    {
     "data": {
      "text/plain": [
       "1"
      ]
     },
     "execution_count": 144,
     "metadata": {},
     "output_type": "execute_result"
    }
   ],
   "source": [
    "# let's add the variable names and order it for clearer visualisation\n",
    "selected_feat_rfe = X_train.columns[(sel_.get_support())]\n",
    "len(selected_feat_rfe)"
   ]
  },
  {
   "cell_type": "code",
   "execution_count": 145,
   "metadata": {},
   "outputs": [
    {
     "data": {
      "text/plain": [
       "Index(['A8'], dtype='object')"
      ]
     },
     "execution_count": 145,
     "metadata": {},
     "output_type": "execute_result"
    }
   ],
   "source": [
    "selected_feat_rfe"
   ]
  },
  {
   "cell_type": "code",
   "execution_count": 146,
   "metadata": {},
   "outputs": [
    {
     "data": {
      "text/plain": [
       "['A8']"
      ]
     },
     "execution_count": 146,
     "metadata": {},
     "output_type": "execute_result"
    }
   ],
   "source": [
    "from sklearn.feature_selection import SelectFromModel\n",
    "from sklearn.ensemble import GradientBoostingClassifier\n",
    "\n",
    "embeded_gbt_selector = SelectFromModel(GradientBoostingClassifier())\n",
    "embeded_gbt_selector.fit(X_train, y_train)\n",
    "\n",
    "embeded_gbt_support = embeded_gbt_selector.get_support()\n",
    "embeded_gbt_feature = X_train.loc[:,embeded_gbt_support].columns.tolist()\n",
    "embeded_gbt_feature"
   ]
  },
  {
   "cell_type": "markdown",
   "metadata": {},
   "source": [
    "### 7.9. Feature selection by random shuffling\n",
    "\n",
    "A popular method of feature selection consists in random shuffling the values of a specific variable and determining how that permutation affects the performance metric of the machine learning algorithm. In other words, the idea is to permute the values of each feature, one at the time, and measure how much the permutation decreases the accuracy, or the roc_auc, or the mse of the machine learning model. If the variables are important, this is, highly predictive, a random permutation of their values will decrease dramatically any of these metrics. Contrarily, non-important / non-predictive variables, should have little to no effect on the model performance metric we are assessing.\n",
    "\n",
    "I will demonstrate how to select features based on random shuffling using on a regression and classification problem. For classification I will use the Paribas claims dataset from Kaggle. For regression, the House Price dataset from Kaggle.\n",
    "\n",
    "**Note** For the demonstration, I will continue to use Random Forests, but this method is useful for any machine learning algorithm. In fact, the importance of the features are determined specifically for the algorithm used. Therefore, different algorithms may return different subsets of important features."
   ]
  },
  {
   "cell_type": "code",
   "execution_count": 147,
   "metadata": {},
   "outputs": [
    {
     "name": "stdout",
     "output_type": "stream",
     "text": [
      "train auc score:  0.9415133634154808\n",
      "test auc score:  0.9175803402646502\n"
     ]
    }
   ],
   "source": [
    "# The first step to determine feature importance by feature shuffling\n",
    "# is to build the machine learning model for which we want to \n",
    "# select features\n",
    "\n",
    "# In this case, I will build Random Forests, but remember that \n",
    "# you can use this procedure for any other machine learning algorithm\n",
    "\n",
    "# I build few and shallow trees to avoid overfitting\n",
    "rf = RandomForestClassifier(\n",
    "    n_estimators=50, max_depth=2, random_state=2909, n_jobs=4)\n",
    "\n",
    "rf.fit(X_train, y_train)\n",
    "\n",
    "# print roc-auc in train and testing sets\n",
    "print('train auc score: ',\n",
    "      roc_auc_score(y_train, (rf.predict_proba(X_train.fillna(0)))[:, 1]))\n",
    "print('test auc score: ',\n",
    "      roc_auc_score(y_test, (rf.predict_proba(X_test.fillna(0)))[:, 1]))"
   ]
  },
  {
   "cell_type": "code",
   "execution_count": 148,
   "metadata": {},
   "outputs": [],
   "source": [
    "# in this cell, I will shuffle one by one, each feature of the dataset\n",
    "# and then use the dataset with the shuffled variable to make predictions\n",
    "# using the random forests I trained in the previous cell\n",
    "\n",
    "# overall train roc-auc: using all the features\n",
    "train_auc = roc_auc_score(y_train, (rf.predict_proba(X_train.fillna(0)))[:, 1])\n",
    "\n",
    "# dictionary to capture the features and the drop in auc that they\n",
    "# cause when shuffled\n",
    "feature_dict = {}\n",
    "\n",
    "# selection  logic\n",
    "for feature in X_train.columns:\n",
    "    X_train_c = X_train.copy()\n",
    "    \n",
    "    # shuffle individual feature\n",
    "    X_train_c[feature] = X_train_c[feature].sample(frac=1).reset_index(\n",
    "        drop=True)\n",
    "    \n",
    "    # make prediction with shuffled feature and calculate roc-auc\n",
    "    shuff_auc = roc_auc_score(y_train,\n",
    "                              (rf.predict_proba(X_train_c.fillna(0)))[:, 1])\n",
    "    \n",
    "    # save the drop in roc-auc\n",
    "    feature_dict[feature] = (train_auc - shuff_auc)"
   ]
  },
  {
   "cell_type": "code",
   "execution_count": 149,
   "metadata": {},
   "outputs": [
    {
     "data": {
      "text/plain": [
       "{'A1': 0.0,\n",
       " 'A2': 0.0009979173897952665,\n",
       " 'A3': 0.003644567858382519,\n",
       " 'A4': -0.0006768483165566774,\n",
       " 'A5': 0.001735508503991734,\n",
       " 'A6': 0.0014925373134327957,\n",
       " 'A7': 0.0032540784449844873,\n",
       " 'A8': 0.17703922249219028,\n",
       " 'A9': 0.007427976397084368,\n",
       " 'A10': -0.0009718847622353088,\n",
       " 'A11': 0.0,\n",
       " 'A12': 0.0023950017355085507,\n",
       " 'A13': 0.0007636237417564251,\n",
       " 'A14': 0.0033582089552239847}"
      ]
     },
     "execution_count": 149,
     "metadata": {},
     "output_type": "execute_result"
    }
   ],
   "source": [
    "# let's have a look at the generated dictionary\n",
    "feature_dict"
   ]
  },
  {
   "cell_type": "code",
   "execution_count": 150,
   "metadata": {},
   "outputs": [
    {
     "data": {
      "text/html": [
       "<div>\n",
       "<style scoped>\n",
       "    .dataframe tbody tr th:only-of-type {\n",
       "        vertical-align: middle;\n",
       "    }\n",
       "\n",
       "    .dataframe tbody tr th {\n",
       "        vertical-align: top;\n",
       "    }\n",
       "\n",
       "    .dataframe thead th {\n",
       "        text-align: right;\n",
       "    }\n",
       "</style>\n",
       "<table border=\"1\" class=\"dataframe\">\n",
       "  <thead>\n",
       "    <tr style=\"text-align: right;\">\n",
       "      <th></th>\n",
       "      <th>feature</th>\n",
       "      <th>auc_drop</th>\n",
       "    </tr>\n",
       "  </thead>\n",
       "  <tbody>\n",
       "    <tr>\n",
       "      <th>0</th>\n",
       "      <td>A1</td>\n",
       "      <td>0.000000</td>\n",
       "    </tr>\n",
       "    <tr>\n",
       "      <th>1</th>\n",
       "      <td>A2</td>\n",
       "      <td>0.000998</td>\n",
       "    </tr>\n",
       "    <tr>\n",
       "      <th>2</th>\n",
       "      <td>A3</td>\n",
       "      <td>0.003645</td>\n",
       "    </tr>\n",
       "    <tr>\n",
       "      <th>3</th>\n",
       "      <td>A4</td>\n",
       "      <td>-0.000677</td>\n",
       "    </tr>\n",
       "    <tr>\n",
       "      <th>4</th>\n",
       "      <td>A5</td>\n",
       "      <td>0.001736</td>\n",
       "    </tr>\n",
       "  </tbody>\n",
       "</table>\n",
       "</div>"
      ],
      "text/plain": [
       "  feature  auc_drop\n",
       "0      A1  0.000000\n",
       "1      A2  0.000998\n",
       "2      A3  0.003645\n",
       "3      A4 -0.000677\n",
       "4      A5  0.001736"
      ]
     },
     "execution_count": 150,
     "metadata": {},
     "output_type": "execute_result"
    }
   ],
   "source": [
    "# Now I will transform the dictionary into a pandas dataframe\n",
    "# for easy manipulation\n",
    "\n",
    "feature_importance = pd.Series(feature_dict).reset_index()\n",
    "feature_importance.columns = ['feature', 'auc_drop']\n",
    "feature_importance.head()"
   ]
  },
  {
   "cell_type": "code",
   "execution_count": 152,
   "metadata": {},
   "outputs": [
    {
     "data": {
      "text/html": [
       "<div>\n",
       "<style scoped>\n",
       "    .dataframe tbody tr th:only-of-type {\n",
       "        vertical-align: middle;\n",
       "    }\n",
       "\n",
       "    .dataframe tbody tr th {\n",
       "        vertical-align: top;\n",
       "    }\n",
       "\n",
       "    .dataframe thead th {\n",
       "        text-align: right;\n",
       "    }\n",
       "</style>\n",
       "<table border=\"1\" class=\"dataframe\">\n",
       "  <thead>\n",
       "    <tr style=\"text-align: right;\">\n",
       "      <th></th>\n",
       "      <th>feature</th>\n",
       "      <th>auc_drop</th>\n",
       "    </tr>\n",
       "  </thead>\n",
       "  <tbody>\n",
       "    <tr>\n",
       "      <th>7</th>\n",
       "      <td>A8</td>\n",
       "      <td>0.177039</td>\n",
       "    </tr>\n",
       "    <tr>\n",
       "      <th>8</th>\n",
       "      <td>A9</td>\n",
       "      <td>0.007428</td>\n",
       "    </tr>\n",
       "    <tr>\n",
       "      <th>2</th>\n",
       "      <td>A3</td>\n",
       "      <td>0.003645</td>\n",
       "    </tr>\n",
       "    <tr>\n",
       "      <th>13</th>\n",
       "      <td>A14</td>\n",
       "      <td>0.003358</td>\n",
       "    </tr>\n",
       "    <tr>\n",
       "      <th>6</th>\n",
       "      <td>A7</td>\n",
       "      <td>0.003254</td>\n",
       "    </tr>\n",
       "    <tr>\n",
       "      <th>11</th>\n",
       "      <td>A12</td>\n",
       "      <td>0.002395</td>\n",
       "    </tr>\n",
       "    <tr>\n",
       "      <th>4</th>\n",
       "      <td>A5</td>\n",
       "      <td>0.001736</td>\n",
       "    </tr>\n",
       "    <tr>\n",
       "      <th>5</th>\n",
       "      <td>A6</td>\n",
       "      <td>0.001493</td>\n",
       "    </tr>\n",
       "    <tr>\n",
       "      <th>1</th>\n",
       "      <td>A2</td>\n",
       "      <td>0.000998</td>\n",
       "    </tr>\n",
       "    <tr>\n",
       "      <th>12</th>\n",
       "      <td>A13</td>\n",
       "      <td>0.000764</td>\n",
       "    </tr>\n",
       "  </tbody>\n",
       "</table>\n",
       "</div>"
      ],
      "text/plain": [
       "   feature  auc_drop\n",
       "7       A8  0.177039\n",
       "8       A9  0.007428\n",
       "2       A3  0.003645\n",
       "13     A14  0.003358\n",
       "6       A7  0.003254\n",
       "11     A12  0.002395\n",
       "4       A5  0.001736\n",
       "5       A6  0.001493\n",
       "1       A2  0.000998\n",
       "12     A13  0.000764"
      ]
     },
     "execution_count": 152,
     "metadata": {},
     "output_type": "execute_result"
    }
   ],
   "source": [
    "# Now I will sort the dataframe according to the drop in performance\n",
    "# caused by feature shuffling\n",
    "\n",
    "feature_importance.sort_values(by=['auc_drop'], ascending=False, inplace=True)\n",
    "\n",
    "# visualise the top 10 features that caused the major drop\n",
    "# in roc-auc (aka model performance)\n",
    "\n",
    "feature_importance.head(10)"
   ]
  },
  {
   "cell_type": "code",
   "execution_count": 153,
   "metadata": {},
   "outputs": [
    {
     "data": {
      "text/html": [
       "<div>\n",
       "<style scoped>\n",
       "    .dataframe tbody tr th:only-of-type {\n",
       "        vertical-align: middle;\n",
       "    }\n",
       "\n",
       "    .dataframe tbody tr th {\n",
       "        vertical-align: top;\n",
       "    }\n",
       "\n",
       "    .dataframe thead th {\n",
       "        text-align: right;\n",
       "    }\n",
       "</style>\n",
       "<table border=\"1\" class=\"dataframe\">\n",
       "  <thead>\n",
       "    <tr style=\"text-align: right;\">\n",
       "      <th></th>\n",
       "      <th>feature</th>\n",
       "      <th>auc_drop</th>\n",
       "    </tr>\n",
       "  </thead>\n",
       "  <tbody>\n",
       "    <tr>\n",
       "      <th>6</th>\n",
       "      <td>A7</td>\n",
       "      <td>0.003254</td>\n",
       "    </tr>\n",
       "    <tr>\n",
       "      <th>11</th>\n",
       "      <td>A12</td>\n",
       "      <td>0.002395</td>\n",
       "    </tr>\n",
       "    <tr>\n",
       "      <th>4</th>\n",
       "      <td>A5</td>\n",
       "      <td>0.001736</td>\n",
       "    </tr>\n",
       "    <tr>\n",
       "      <th>5</th>\n",
       "      <td>A6</td>\n",
       "      <td>0.001493</td>\n",
       "    </tr>\n",
       "    <tr>\n",
       "      <th>1</th>\n",
       "      <td>A2</td>\n",
       "      <td>0.000998</td>\n",
       "    </tr>\n",
       "    <tr>\n",
       "      <th>12</th>\n",
       "      <td>A13</td>\n",
       "      <td>0.000764</td>\n",
       "    </tr>\n",
       "    <tr>\n",
       "      <th>0</th>\n",
       "      <td>A1</td>\n",
       "      <td>0.000000</td>\n",
       "    </tr>\n",
       "    <tr>\n",
       "      <th>10</th>\n",
       "      <td>A11</td>\n",
       "      <td>0.000000</td>\n",
       "    </tr>\n",
       "    <tr>\n",
       "      <th>3</th>\n",
       "      <td>A4</td>\n",
       "      <td>-0.000677</td>\n",
       "    </tr>\n",
       "    <tr>\n",
       "      <th>9</th>\n",
       "      <td>A10</td>\n",
       "      <td>-0.000972</td>\n",
       "    </tr>\n",
       "  </tbody>\n",
       "</table>\n",
       "</div>"
      ],
      "text/plain": [
       "   feature  auc_drop\n",
       "6       A7  0.003254\n",
       "11     A12  0.002395\n",
       "4       A5  0.001736\n",
       "5       A6  0.001493\n",
       "1       A2  0.000998\n",
       "12     A13  0.000764\n",
       "0       A1  0.000000\n",
       "10     A11  0.000000\n",
       "3       A4 -0.000677\n",
       "9      A10 -0.000972"
      ]
     },
     "execution_count": 153,
     "metadata": {},
     "output_type": "execute_result"
    }
   ],
   "source": [
    "# visualise the features that caused virtually \n",
    "# no drop in performance\n",
    "\n",
    "feature_importance.tail(10)"
   ]
  },
  {
   "cell_type": "code",
   "execution_count": 154,
   "metadata": {},
   "outputs": [
    {
     "data": {
      "text/plain": [
       "14"
      ]
     },
     "execution_count": 154,
     "metadata": {},
     "output_type": "execute_result"
    }
   ],
   "source": [
    "# original number of features (rows in this case)\n",
    "feature_importance.shape[0]"
   ]
  },
  {
   "cell_type": "code",
   "execution_count": 155,
   "metadata": {},
   "outputs": [
    {
     "data": {
      "text/plain": [
       "10"
      ]
     },
     "execution_count": 155,
     "metadata": {},
     "output_type": "execute_result"
    }
   ],
   "source": [
    "# number of features that cause a drop in performance\n",
    "# when shuffled\n",
    "\n",
    "feature_importance[feature_importance.auc_drop>0].shape[0]"
   ]
  },
  {
   "cell_type": "code",
   "execution_count": 156,
   "metadata": {},
   "outputs": [
    {
     "data": {
      "text/plain": [
       "<matplotlib.axes._subplots.AxesSubplot at 0x1f54af69d68>"
      ]
     },
     "execution_count": 156,
     "metadata": {},
     "output_type": "execute_result"
    },
    {
     "data": {
      "image/png": "[encoded data removed]",
      "text/plain": [
       "<Figure size 1080x432 with 1 Axes>"
      ]
     },
     "metadata": {
      "needs_background": "light"
     },
     "output_type": "display_data"
    }
   ],
   "source": [
    "# and now let's plot the distribution of importances\n",
    "# for those features that are actually important\n",
    "\n",
    "# capture the important features in a series for visualisation\n",
    "temp = pd.Series(feature_importance[feature_importance.auc_drop>0]['auc_drop'])\n",
    "temp.index = pd.Series(feature_importance[feature_importance.auc_drop>0]['feature'])\n",
    "\n",
    "pd.Series(temp).plot.bar(figsize=(15,6))"
   ]
  },
  {
   "cell_type": "code",
   "execution_count": 157,
   "metadata": {},
   "outputs": [
    {
     "name": "stdout",
     "output_type": "stream",
     "text": [
      "train auc score:  0.9444810829573066\n",
      "test auc score:  0.9160680529300568\n"
     ]
    }
   ],
   "source": [
    "# Now let's build a random forests only with the 26 selected features\n",
    "\n",
    "# capture the 26 selected features\n",
    "selected_features = feature_importance[feature_importance.auc_drop>0]['feature']\n",
    "\n",
    "# train a new random forests using only the selected features\n",
    "rf = RandomForestClassifier(\n",
    "    n_estimators=50, max_depth=2, random_state=2909, n_jobs=4)\n",
    "\n",
    "rf.fit(X_train[selected_features].fillna(0), y_train)\n",
    "\n",
    "# print roc-auc in train and testing sets\n",
    "print('train auc score: ',\n",
    "      roc_auc_score(y_train, (rf.predict_proba(X_train[selected_features].fillna(0)))[:, 1]))\n",
    "print('test auc score: ',\n",
    "      roc_auc_score(y_test, (rf.predict_proba(X_test[selected_features].fillna(0)))[:, 1]))"
   ]
  },
  {
   "cell_type": "markdown",
   "metadata": {},
   "source": [
    "### 7.10. Tree based feature selection"
   ]
  },
  {
   "cell_type": "code",
   "execution_count": 158,
   "metadata": {},
   "outputs": [
    {
     "name": "stdout",
     "output_type": "stream",
     "text": [
      "Feature ranking:\n",
      "1. feature 7 (0.277549)\n",
      "2. feature 6 (0.107070)\n",
      "3. feature 9 (0.087541)\n",
      "4. feature 2 (0.082095)\n",
      "5. feature 4 (0.078023)\n",
      "6. feature 13 (0.075933)\n",
      "7. feature 12 (0.074457)\n",
      "8. feature 8 (0.071504)\n",
      "9. feature 1 (0.070717)\n",
      "10. feature 5 (0.027043)\n",
      "11. feature 10 (0.012707)\n",
      "12. feature 3 (0.012155)\n",
      "13. feature 11 (0.011966)\n",
      "14. feature 0 (0.011239)\n"
     ]
    },
    {
     "data": {
      "image/png": "[encoded data removed]",
      "text/plain": [
       "<Figure size 864x432 with 1 Axes>"
      ]
     },
     "metadata": {
      "needs_background": "light"
     },
     "output_type": "display_data"
    }
   ],
   "source": [
    "clf_rf_5 = RandomForestClassifier()      \n",
    "clr_rf_5 = clf_rf_5.fit(X_train,y_train)\n",
    "importances = clr_rf_5.feature_importances_\n",
    "std = np.std([tree.feature_importances_ for tree in clr_rf_5.estimators_],axis=0)\n",
    "indices = np.argsort(importances)[::-1]\n",
    "\n",
    "# Print the feature ranking\n",
    "print(\"Feature ranking:\")\n",
    "\n",
    "for f in range(X_train.shape[1]):\n",
    "    print(\"%d. feature %d (%f)\" % (f + 1, indices[f], importances[indices[f]]))\n",
    "\n",
    "# Plot the feature importances of the forest\n",
    "\n",
    "plt.figure(1, figsize=(12, 6))\n",
    "plt.title(\"Feature importances\")\n",
    "plt.bar(range(X_train.shape[1]), importances[indices],\n",
    "       color=\"g\", yerr=std[indices], align=\"center\")\n",
    "plt.xticks(range(X_train.shape[1]), X_train.columns[indices],rotation=90)\n",
    "plt.xlim([-1, X_train.shape[1]])\n",
    "plt.show()"
   ]
  },
  {
   "cell_type": "markdown",
   "metadata": {},
   "source": [
    "# 8. Hybrid methods"
   ]
  },
  {
   "cell_type": "markdown",
   "metadata": {},
   "source": [
    "### Hybrid Recursive Feature Elimination\n",
    "\n",
    "http://localhost:8888/notebooks/01-ML/02-General/FeatureSelection/11.02_Hybrid_Recursive_feature_elimination.ipynb\n",
    "\n",
    "This method consists of the following steps:\n",
    "\n",
    "1) Rank the features according to their importance derived from a machine learning algorithm: it can be tree importance, or LASSO / Ridge, or the linear / logistic regression coefficients.\n",
    "\n",
    "2) Remove one feature -the least important- and build a machine learning algorithm utilising the remaining features.\n",
    "\n",
    "3) Calculate a performance metric of your choice: roc-auc, mse, rmse, accuracy.\n",
    "\n",
    "4) If the metric decreases by more of an arbitrarily set threshold, then that feature is important and should be kept. Otherwise, we can remove that feature.\n",
    "\n",
    "5) Repeat steps 2-4 until all features have been removed (and therefore evaluated) and the drop in performance assessed.\n",
    "\n",
    "\n",
    "I call this a hybrid method because:\n",
    "\n",
    "- it combines the importance derived from the machine learning algorithm like embedded methods,\n",
    "- and it removes as well one feature at a time, and calculates a new metric based on the new subset of features and the machine learning algorithm of choice, like wrapper methods.\n",
    "\n",
    "The difference between this method and the step backwards feature selection we learned in previous lectures lies in that it does not remove all features first in order to determine which one to remove. It removes the least important one, based on the machine learning model derived important. And then, it makes an assessment as to whether that feature should be removed or not. So it removes each feature only once during selection, whereas step backward feature selection removes all the features at each step of selection.\n",
    "\n",
    "This method is therefore faster than wrapper methods and generally better than embedded methods. In practice it works extremely well. It does also account for correlations (depending on how stringent you set the arbitrary performance drop threshold). On the downside, the drop in performance assessed to decide whether the feature should be kept or removed, is set arbitrarily. The smaller the drop the more features will be selected, and vice versa.\n",
    "\n",
    "I will demonstrate how to select features using this method on a regression and classification problem. For classification I will use the Paribas claims dataset from Kaggle. For regression, the House Price dataset from Kaggle.\n",
    "\n",
    "**Note** For the demonstration, I will use XGBoost, but this method is useful for any machine learning algorithm. In fact, the importance of the features are determined specifically for the algorithm used. Therefore, different algorithms may return different subsets of important features"
   ]
  },
  {
   "cell_type": "code",
   "execution_count": 182,
   "metadata": {},
   "outputs": [
    {
     "name": "stdout",
     "output_type": "stream",
     "text": [
      "Test all features xgb ROC AUC=0.925824\n"
     ]
    }
   ],
   "source": [
    "# the first step of this procedure  consists in building\n",
    "# a machine learning algorithm using all the available features\n",
    "# and then determine the importance of the features according\n",
    "# to the algorithm\n",
    "\n",
    "# set the seed for reproducibility\n",
    "seed_val = 1000000000\n",
    "np.random.seed(seed_val)\n",
    "\n",
    "# build initial model using all the features\n",
    "model_all_features = xgb.XGBClassifier(\n",
    "    nthread=10, max_depth=4, n_estimators=500, learning_rate=0.05)\n",
    "\n",
    "model_all_features.fit(X_train, y_train)\n",
    "\n",
    "# calculate the roc-auc in the test set\n",
    "y_pred_test = model_all_features.predict_proba(X_test)[:, 1]\n",
    "auc_score_all = roc_auc_score(y_test, y_pred_test)\n",
    "print('Test all features xgb ROC AUC=%f' % (auc_score_all))"
   ]
  },
  {
   "cell_type": "code",
   "execution_count": 183,
   "metadata": {},
   "outputs": [
    {
     "data": {
      "text/plain": [
       "<matplotlib.axes._subplots.AxesSubplot at 0x2744ce6e748>"
      ]
     },
     "execution_count": 183,
     "metadata": {},
     "output_type": "execute_result"
    },
    {
     "data": {
      "image/png": "[encoded data removed]",
      "text/plain": [
       "<Figure size 576x360 with 1 Axes>"
      ]
     },
     "metadata": {
      "needs_background": "light"
     },
     "output_type": "display_data"
    }
   ],
   "source": [
    "# the second step consist of deriving the importance of \n",
    "# each feature and ranking them from the least to the most\n",
    "# important\n",
    "\n",
    "# get feature name and importance\n",
    "features = pd.Series(model_all_features.feature_importances_)\n",
    "features.index = X_train.columns\n",
    "\n",
    "# sort the features by importance\n",
    "features.sort_values(ascending=True, inplace=True)\n",
    "\n",
    "# plot\n",
    "features.plot.bar(figsize=(8,5))"
   ]
  },
  {
   "cell_type": "code",
   "execution_count": 184,
   "metadata": {},
   "outputs": [
    {
     "name": "stdout",
     "output_type": "stream",
     "text": [
      "['A11', 'A2', 'A1', 'A3', 'A4', 'A6', 'A7', 'A13', 'A10', 'A5', 'A14', 'A12', 'A9', 'A8']\n"
     ]
    }
   ],
   "source": [
    "# view the list of ordered features\n",
    "features = list(features.index)\n",
    "print(features)"
   ]
  },
  {
   "cell_type": "code",
   "execution_count": 185,
   "metadata": {},
   "outputs": [
    {
     "name": "stdout",
     "output_type": "stream",
     "text": [
      "doing recursive feature elimination\n",
      "\n",
      "testing feature:  A11  which is feature  1  out of  14\n",
      "New Test ROC AUC=0.9279184917158636\n",
      "All features Test ROC AUC=0.9258236526375928\n",
      "Drop in ROC AUC=-0.0020948390782707937\n",
      "remove:  A11\n",
      "\n",
      "testing feature:  A2  which is feature  2  out of  14\n",
      "New Test ROC AUC=0.930917920396115\n",
      "All features Test ROC AUC=0.9279184917158636\n",
      "Drop in ROC AUC=-0.0029994286802513814\n",
      "remove:  A2\n",
      "\n",
      "testing feature:  A1  which is feature  3  out of  14\n",
      "New Test ROC AUC=0.9314416301656827\n",
      "All features Test ROC AUC=0.930917920396115\n",
      "Drop in ROC AUC=-0.0005237097695677262\n",
      "remove:  A1\n",
      "\n",
      "testing feature:  A3  which is feature  4  out of  14\n",
      "New Test ROC AUC=0.9220148543134641\n",
      "All features Test ROC AUC=0.9314416301656827\n",
      "Drop in ROC AUC=0.009426775852218627\n",
      "keep:  A3\n",
      "\n",
      "testing feature:  A4  which is feature  5  out of  14\n",
      "New Test ROC AUC=0.9247762330984575\n",
      "All features Test ROC AUC=0.9314416301656827\n",
      "Drop in ROC AUC=0.006665397067225243\n",
      "keep:  A4\n",
      "\n",
      "testing feature:  A6  which is feature  6  out of  14\n",
      "New Test ROC AUC=0.929822890877928\n",
      "All features Test ROC AUC=0.9314416301656827\n",
      "Drop in ROC AUC=0.0016187392877546891\n",
      "keep:  A6\n",
      "\n",
      "testing feature:  A7  which is feature  7  out of  14\n",
      "New Test ROC AUC=0.9286802513806893\n",
      "All features Test ROC AUC=0.9314416301656827\n",
      "Drop in ROC AUC=0.0027613787849933846\n",
      "keep:  A7\n",
      "\n",
      "testing feature:  A13  which is feature  8  out of  14\n",
      "New Test ROC AUC=0.9196343553608836\n",
      "All features Test ROC AUC=0.9314416301656827\n",
      "Drop in ROC AUC=0.01180727480479915\n",
      "keep:  A13\n",
      "\n",
      "testing feature:  A10  which is feature  9  out of  14\n",
      "New Test ROC AUC=0.9281089316320702\n",
      "All features Test ROC AUC=0.9314416301656827\n",
      "Drop in ROC AUC=0.0033326985336125103\n",
      "keep:  A10\n",
      "\n",
      "testing feature:  A5  which is feature  10  out of  14\n",
      "New Test ROC AUC=0.9266806322605219\n",
      "All features Test ROC AUC=0.9314416301656827\n",
      "Drop in ROC AUC=0.004760997905160824\n",
      "keep:  A5\n",
      "\n",
      "testing feature:  A14  which is feature  11  out of  14\n",
      "New Test ROC AUC=0.9246810131403543\n",
      "All features Test ROC AUC=0.9314416301656827\n",
      "Drop in ROC AUC=0.006760617025328375\n",
      "keep:  A14\n",
      "\n",
      "testing feature:  A12  which is feature  12  out of  14\n",
      "New Test ROC AUC=0.9331555894115406\n",
      "All features Test ROC AUC=0.9314416301656827\n",
      "Drop in ROC AUC=-0.0017139592458579322\n",
      "remove:  A12\n",
      "\n",
      "testing feature:  A9  which is feature  13  out of  14\n",
      "New Test ROC AUC=0.9331555894115406\n",
      "All features Test ROC AUC=0.9331555894115406\n",
      "Drop in ROC AUC=0.0\n",
      "remove:  A9\n",
      "\n",
      "testing feature:  A8  which is feature  14  out of  14\n",
      "New Test ROC AUC=0.8665016187392878\n",
      "All features Test ROC AUC=0.9331555894115406\n",
      "Drop in ROC AUC=0.06665397067225287\n",
      "keep:  A8\n",
      "DONE!!\n",
      "total features to remove:  5\n",
      "total features to keep:  9\n"
     ]
    }
   ],
   "source": [
    "# the final step consists in removing one at a time\n",
    "# all the features, from the least to the most\n",
    "# important, and build an xgboost at each round.\n",
    "\n",
    "# once we build the model, we calculate the new roc-auc\n",
    "# if the new roc-auc is smaller than the original one\n",
    "# (with all the features), then that feature that was removed\n",
    "# was important, and we should keep it.\n",
    "# otherwise, we should remove the feature\n",
    "\n",
    "# recursive feature elimination:\n",
    "\n",
    "# first we arbitrarily set the drop in roc-auc\n",
    "# if the drop is below this threshold,\n",
    "# the feature will be removed\n",
    "tol = 0.0005\n",
    "\n",
    "print('doing recursive feature elimination')\n",
    "\n",
    "# we initialise a list where we will collect the\n",
    "# features we should remove\n",
    "features_to_remove = []\n",
    "\n",
    "# set a counter to know how far ahead the loop is going\n",
    "count = 1\n",
    "\n",
    "# now we loop over all the features, in order of importance:\n",
    "# remember that features is the list of ordered features\n",
    "# by importance\n",
    "for feature in features:\n",
    "    print()\n",
    "    print('testing feature: ', feature, ' which is feature ', count,\n",
    "          ' out of ', len(features))\n",
    "    count = count + 1\n",
    "\n",
    "    # initialise model\n",
    "    model_int = xgb.XGBClassifier(\n",
    "        nthread=10, max_depth=4, n_estimators=500, learning_rate=0.05)\n",
    "\n",
    "    # fit model with all variables minus the removed features\n",
    "    # and the feature to be evaluated\n",
    "    model_int.fit(\n",
    "        X_train.drop(features_to_remove + [feature], axis=1), y_train)\n",
    "\n",
    "    # make a prediction over the test set\n",
    "    y_pred_test = model_int.predict_proba(\n",
    "        X_test.drop(features_to_remove + [feature], axis=1))[:, 1]\n",
    "\n",
    "    # calculate the new roc-auc\n",
    "    auc_score_int = roc_auc_score(y_test, y_pred_test)\n",
    "    print('New Test ROC AUC={}'.format((auc_score_int)))\n",
    "\n",
    "    # print the original roc-auc with all the features\n",
    "    print('All features Test ROC AUC={}'.format((auc_score_all)))\n",
    "\n",
    "    # determine the drop in the roc-auc\n",
    "    diff_auc = auc_score_all - auc_score_int\n",
    "\n",
    "    # compare the drop in roc-auc with the tolerance\n",
    "    # we set previously\n",
    "    if diff_auc >= tol:\n",
    "        print('Drop in ROC AUC={}'.format(diff_auc))\n",
    "        print('keep: ', feature)\n",
    "        print\n",
    "    else:\n",
    "        print('Drop in ROC AUC={}'.format(diff_auc))\n",
    "        print('remove: ', feature)\n",
    "        print\n",
    "        # if the drop in the roc is small and we remove the\n",
    "        # feature, we need to set the new roc to the one based on\n",
    "        # the remaining features\n",
    "        auc_score_all = auc_score_int\n",
    "        \n",
    "        # and append the feature to remove to the collecting\n",
    "        # list\n",
    "        features_to_remove.append(feature)\n",
    "\n",
    "# now the loop is finished, we evaluated all the features\n",
    "print('DONE!!')\n",
    "print('total features to remove: ', len(features_to_remove))\n",
    "\n",
    "# determine the features to keep (those we won't remove)\n",
    "features_to_keep = [x for x in features if x not in features_to_remove]\n",
    "print('total features to keep: ', len(features_to_keep))"
   ]
  },
  {
   "cell_type": "code",
   "execution_count": 186,
   "metadata": {},
   "outputs": [
    {
     "name": "stdout",
     "output_type": "stream",
     "text": [
      "Test selected features ROC AUC=0.933156\n",
      "Test all features ROC AUC=0.933156\n"
     ]
    }
   ],
   "source": [
    "# capture the 56 selected features\n",
    "seed_val = 1000000000\n",
    "np.random.seed(seed_val)\n",
    "\n",
    "# build initial model\n",
    "final_xgb = xgb.XGBClassifier(\n",
    "    nthread=10, max_depth=4, n_estimators=500, learning_rate=0.05)\n",
    "\n",
    "# fit the model with the selected features\n",
    "final_xgb.fit(X_train[features_to_keep], y_train)\n",
    "\n",
    "# make predictions\n",
    "y_pred_test = final_xgb.predict_proba(X_test[features_to_keep])[:, 1]\n",
    "\n",
    "# calculate roc-auc\n",
    "auc_score_final = roc_auc_score(y_test, y_pred_test)\n",
    "print('Test selected features ROC AUC=%f' % (auc_score_final))\n",
    "print('Test all features ROC AUC=%f' % (auc_score_all))"
   ]
  },
  {
   "cell_type": "markdown",
   "metadata": {},
   "source": [
    "As you can see, the xgb model built with 56 features shows a similar performance than the one built with the total features (0.715 vs 0.713).\n",
    "\n",
    "We may not be able to get this right from the beginning though, as we did here. This method of feature selection does require that you try a few different tolerances / thresholds until you find the right number of features.\n",
    "\n",
    "Why don't you go ahead and try different values? Try with lower and bigger thresholds and get a feeling of how much this affects the number of selected features."
   ]
  },
  {
   "cell_type": "markdown",
   "metadata": {},
   "source": [
    "### Hybrid Recursive Feature Addition\n",
    "\n",
    "http://localhost:8888/notebooks/01-ML/02-General/FeatureSelection/11.03_Hybrid_Recursive_feature_addition.ipynb\n",
    "\n",
    "This method consists of the following steps:\n",
    "\n",
    "1) Rank the features according to their importance derived from a machine learning algorithm: it can be tree importance, or LASSO / Ridge, or the linear / logistic regression coefficients.\n",
    "\n",
    "2) Build a machine learning model with only 1 feature, the most important one, and calculate the model metric for performance.\n",
    "\n",
    "3) Add one feature -the most important- and build a machine learning algorithm utilising the added and any feature from previous rounds.\n",
    "\n",
    "4) Calculate a performance metric of your choice: roc-auc, mse, rmse, accuracy.\n",
    "\n",
    "5) If the metric increases by more than an arbitrarily set threshold, then that feature is important and should be kept. Otherwise, we can remove that feature.\n",
    "\n",
    "6) Repeat steps 2-5 until all features have been removed (and therefore evaluated) and the drop in performance assessed.\n",
    "\n",
    "\n",
    "I call this a hybrid method because:\n",
    "\n",
    "- it combines the importance derived from the machine learning algorithm like embedded methods,\n",
    "- and it adds as well one feature at a time, and calculates a new metric based on the new subset of features and the machine learning algorithm of choice, like wrapper methods.\n",
    "\n",
    "The difference between this method and the step forward feature selection we learned in previous lectures lies in that it does not add all possible features first, in order to determine which one to keep. It adds the most important one, based on the machine learning model derived important. And then, it makes an assessment as to whether that feature should be kept or not. And then it moves to the next feature.\n",
    "\n",
    "This method is therefore faster than wrapper methods and generally better than embedded methods. In practice it works extremely well. It does also account for correlations (depending on how stringent you set the arbitrary performance drop threshold). On the downside, the increase in performance assessed to decide whether the feature should be kept or removed, is set arbitrarily. The smaller the increase the more features will be selected, and vice versa.\n",
    "\n",
    "I will demonstrate how to select features using this method on a regression and classification problem. For classification I will use the Paribas claims dataset from Kaggle. For regression, the House Price dataset from Kaggle.\n",
    "\n",
    "**Note** For the demonstration, I will use XGBoost, but this method is useful for any machine learning algorithm. In fact, the importance of the features are determined specifically for the algorithm used. Therefore, different algorithms may return different subsets of important features."
   ]
  },
  {
   "cell_type": "code",
   "execution_count": 187,
   "metadata": {},
   "outputs": [
    {
     "name": "stdout",
     "output_type": "stream",
     "text": [
      "Test all features xgb ROC AUC=0.925824\n"
     ]
    }
   ],
   "source": [
    "# the first step of this procedure  consists in building\n",
    "# a machine learning algorithm using all the available features\n",
    "# and then determine the importance of the features according\n",
    "# to the algorithm\n",
    "\n",
    "# set the seed for reproducibility\n",
    "seed_val = 1000000000\n",
    "np.random.seed(seed_val)\n",
    "\n",
    "# build initial model using all the features\n",
    "model_all_features = xgb.XGBClassifier(\n",
    "    nthread=10, max_depth=4, n_estimators=500, learning_rate=0.05)\n",
    "\n",
    "model_all_features.fit(X_train, y_train)\n",
    "\n",
    "# calculate the roc-auc in the test set\n",
    "y_pred_test = model_all_features.predict_proba(X_test)[:, 1]\n",
    "auc_score_all = roc_auc_score(y_test, y_pred_test)\n",
    "print('Test all features xgb ROC AUC=%f' % (auc_score_all))"
   ]
  },
  {
   "cell_type": "code",
   "execution_count": 188,
   "metadata": {},
   "outputs": [
    {
     "data": {
      "text/plain": [
       "<matplotlib.axes._subplots.AxesSubplot at 0x2744cf0d470>"
      ]
     },
     "execution_count": 188,
     "metadata": {},
     "output_type": "execute_result"
    },
    {
     "data": {
      "image/png": "[encoded data removed]",
      "text/plain": [
       "<Figure size 576x360 with 1 Axes>"
      ]
     },
     "metadata": {
      "needs_background": "light"
     },
     "output_type": "display_data"
    }
   ],
   "source": [
    "# the second step consist of deriving the importance of \n",
    "# each feature and ranking them from the most to the least\n",
    "# important\n",
    "\n",
    "# get feature name and importance\n",
    "features = pd.Series(model_all_features.feature_importances_)\n",
    "features.index = X_train.columns\n",
    "\n",
    "# sort the features by importance\n",
    "features.sort_values(ascending=False, inplace=True)\n",
    "\n",
    "# plot\n",
    "features.plot.bar(figsize=(8,5))"
   ]
  },
  {
   "cell_type": "code",
   "execution_count": 189,
   "metadata": {},
   "outputs": [
    {
     "name": "stdout",
     "output_type": "stream",
     "text": [
      "['A8', 'A9', 'A12', 'A14', 'A5', 'A10', 'A13', 'A7', 'A6', 'A4', 'A3', 'A1', 'A2', 'A11']\n"
     ]
    }
   ],
   "source": [
    "# view the list of ordered features\n",
    "features = list(features.index)\n",
    "print(features)"
   ]
  },
  {
   "cell_type": "code",
   "execution_count": 190,
   "metadata": {},
   "outputs": [
    {
     "name": "stdout",
     "output_type": "stream",
     "text": [
      "Test one feature xgb ROC AUC=0.870310\n"
     ]
    }
   ],
   "source": [
    "# next, we need to build a machine learning\n",
    "# algorithm using only the most important feature\n",
    "\n",
    "# set the seed for reproducibility\n",
    "seed_val = 1000000000\n",
    "np.random.seed(seed_val)\n",
    "\n",
    "# build initial model using all the features\n",
    "model_one_feature = xgb.XGBClassifier(\n",
    "    nthread=10, max_depth=4, n_estimators=500, learning_rate=0.05)\n",
    "\n",
    "# train using only the most important feature\n",
    "model_one_feature.fit(X_train[features[0]].to_frame(), y_train)\n",
    "\n",
    "# calculate the roc-auc in the test set\n",
    "y_pred_test = model_one_feature.predict_proba(X_test[features[0]].to_frame())[:, 1]\n",
    "auc_score_first = roc_auc_score(y_test, y_pred_test)\n",
    "print('Test one feature xgb ROC AUC=%f' % (auc_score_first))"
   ]
  },
  {
   "cell_type": "code",
   "execution_count": 191,
   "metadata": {},
   "outputs": [
    {
     "name": "stdout",
     "output_type": "stream",
     "text": [
      "doing recursive feature addition\n",
      "\n",
      "testing feature:  A9  which is feature  1  out of  14\n",
      "New Test ROC AUC=0.8955437059607694\n",
      "All features Test ROC AUC=0.8703104170634165\n",
      "Increase in ROC AUC=0.02523328889735288\n",
      "keep:  A9\n",
      "\n",
      "testing feature:  A12  which is feature  2  out of  14\n",
      "New Test ROC AUC=0.9086840601790135\n",
      "All features Test ROC AUC=0.8955437059607694\n",
      "Increase in ROC AUC=0.01314035421824411\n",
      "keep:  A12\n",
      "\n",
      "testing feature:  A14  which is feature  3  out of  14\n",
      "New Test ROC AUC=0.9077794705770329\n",
      "All features Test ROC AUC=0.9086840601790135\n",
      "Increase in ROC AUC=-0.0009045896019805877\n",
      "remove:  A14\n",
      "\n",
      "testing feature:  A5  which is feature  4  out of  14\n",
      "New Test ROC AUC=0.9078270805560845\n",
      "All features Test ROC AUC=0.9086840601790135\n",
      "Increase in ROC AUC=-0.0008569796229289661\n",
      "remove:  A5\n",
      "\n",
      "testing feature:  A10  which is feature  5  out of  14\n",
      "New Test ROC AUC=0.9146829175395164\n",
      "All features Test ROC AUC=0.9086840601790135\n",
      "Increase in ROC AUC=0.005998857360502874\n",
      "keep:  A10\n",
      "\n",
      "testing feature:  A13  which is feature  6  out of  14\n",
      "New Test ROC AUC=0.8973528851647304\n",
      "All features Test ROC AUC=0.9146829175395164\n",
      "Increase in ROC AUC=-0.01733003237478592\n",
      "remove:  A13\n",
      "\n",
      "testing feature:  A7  which is feature  7  out of  14\n",
      "New Test ROC AUC=0.8850219005903637\n",
      "All features Test ROC AUC=0.9146829175395164\n",
      "Increase in ROC AUC=-0.029661016949152685\n",
      "remove:  A7\n",
      "\n",
      "testing feature:  A6  which is feature  8  out of  14\n",
      "New Test ROC AUC=0.8937345267568082\n",
      "All features Test ROC AUC=0.9146829175395164\n",
      "Increase in ROC AUC=-0.02094839078270816\n",
      "remove:  A6\n",
      "\n",
      "testing feature:  A4  which is feature  9  out of  14\n",
      "New Test ROC AUC=0.9223481241668254\n",
      "All features Test ROC AUC=0.9146829175395164\n",
      "Increase in ROC AUC=0.0076652066273090735\n",
      "keep:  A4\n",
      "\n",
      "testing feature:  A3  which is feature  10  out of  14\n",
      "New Test ROC AUC=0.9108265092363358\n",
      "All features Test ROC AUC=0.9223481241668254\n",
      "Increase in ROC AUC=-0.011521614930489643\n",
      "remove:  A3\n",
      "\n",
      "testing feature:  A1  which is feature  11  out of  14\n",
      "New Test ROC AUC=0.9155398971624452\n",
      "All features Test ROC AUC=0.9223481241668254\n",
      "Increase in ROC AUC=-0.0068082270043802184\n",
      "remove:  A1\n",
      "\n",
      "testing feature:  A2  which is feature  12  out of  14\n",
      "New Test ROC AUC=0.892068177490002\n",
      "All features Test ROC AUC=0.9223481241668254\n",
      "Increase in ROC AUC=-0.030279946676823433\n",
      "remove:  A2\n",
      "\n",
      "testing feature:  A11  which is feature  13  out of  14\n",
      "New Test ROC AUC=0.9218720243763092\n",
      "All features Test ROC AUC=0.9223481241668254\n",
      "Increase in ROC AUC=-0.00047609979051621565\n",
      "remove:  A11\n",
      "DONE!!\n",
      "total features to keep:  5\n"
     ]
    }
   ],
   "source": [
    "# the final step consists in adding one at a time\n",
    "# all the features, from the most to the least\n",
    "# important, and build an xgboost at each round.\n",
    "\n",
    "# once we build the model, we calculate the new roc-auc\n",
    "# if the new roc-auc is bigger than the original one\n",
    "# (with one feature), then that feature that was added\n",
    "# was important, and we should keep it.\n",
    "# otherwise, we should remove the feature\n",
    "\n",
    "# recursive feature addition:\n",
    "\n",
    "# first we arbitrarily set the increase in roc-auc\n",
    "# if the increase is above this threshold,\n",
    "# the feature will be kept\n",
    "tol = 0.001\n",
    "\n",
    "print('doing recursive feature addition')\n",
    "\n",
    "# we initialise a list where we will collect the\n",
    "# features we should keep\n",
    "features_to_keep = [features[0]]\n",
    "\n",
    "# set a counter to know how far ahead the loop is going\n",
    "count = 1\n",
    "\n",
    "# now we loop over all the features, in order of importance:\n",
    "# remember that features is the list of ordered features\n",
    "# by importance\n",
    "for feature in features[1:]:\n",
    "    print()\n",
    "    print('testing feature: ', feature, ' which is feature ', count,\n",
    "          ' out of ', len(features))\n",
    "    count = count + 1\n",
    "\n",
    "    # initialise model\n",
    "    model_int = xgb.XGBClassifier(\n",
    "        nthread=10, max_depth=4, n_estimators=500, learning_rate=0.05)\n",
    "\n",
    "    # fit model with the selected features\n",
    "    # and the feature to be evaluated\n",
    "    model_int.fit(\n",
    "        X_train[features_to_keep + [feature] ], y_train)\n",
    "\n",
    "    # make a prediction over the test set\n",
    "    y_pred_test = model_int.predict_proba(\n",
    "        X_test[features_to_keep + [feature] ])[:, 1]\n",
    "\n",
    "    # calculate the new roc-auc\n",
    "    auc_score_int = roc_auc_score(y_test, y_pred_test)\n",
    "    print('New Test ROC AUC={}'.format((auc_score_int)))\n",
    "\n",
    "    # print the original roc-auc with one feature\n",
    "    print('All features Test ROC AUC={}'.format((auc_score_first)))\n",
    "\n",
    "    # determine the increase in the roc-auc\n",
    "    diff_auc = auc_score_int - auc_score_first\n",
    "\n",
    "    # compare the increase in roc-auc with the tolerance\n",
    "    # we set previously\n",
    "    if diff_auc >= tol:\n",
    "        print('Increase in ROC AUC={}'.format(diff_auc))\n",
    "        print('keep: ', feature)\n",
    "        print\n",
    "        # if the increase in the roc is bigger than the threshold\n",
    "        # we keep the feature and re-adjust the roc-auc to the new value\n",
    "        # considering the added feature\n",
    "        auc_score_first = auc_score_int\n",
    "        \n",
    "        # and we append the feature to keep to the list\n",
    "        features_to_keep.append(feature)\n",
    "    else:\n",
    "        # we ignore the feature\n",
    "        print('Increase in ROC AUC={}'.format(diff_auc))\n",
    "        print('remove: ', feature)\n",
    "        print\n",
    "\n",
    "\n",
    "# now the loop is finished, we evaluated all the features\n",
    "print('DONE!!')\n",
    "print('total features to keep: ', len(features_to_keep))"
   ]
  },
  {
   "cell_type": "code",
   "execution_count": 192,
   "metadata": {},
   "outputs": [
    {
     "name": "stdout",
     "output_type": "stream",
     "text": [
      "Test selected features ROC AUC=0.922348\n"
     ]
    }
   ],
   "source": [
    "# capture the 8 selected features\n",
    "seed_val = 1000000000\n",
    "np.random.seed(seed_val)\n",
    "\n",
    "# build initial model\n",
    "final_xgb = xgb.XGBClassifier(\n",
    "    nthread=10, max_depth=4, n_estimators=500, learning_rate=0.05)\n",
    "\n",
    "# fit the model with the selected features\n",
    "final_xgb.fit(X_train[features_to_keep], y_train)\n",
    "\n",
    "# make predictions\n",
    "y_pred_test = final_xgb.predict_proba(X_test[features_to_keep])[:, 1]\n",
    "\n",
    "# calculate roc-auc\n",
    "auc_score_final = roc_auc_score(y_test, y_pred_test)\n",
    "print('Test selected features ROC AUC=%f' % (auc_score_final))"
   ]
  },
  {
   "cell_type": "markdown",
   "metadata": {},
   "source": [
    "# 10. Summary"
   ]
  },
  {
   "cell_type": "code",
   "execution_count": 167,
   "metadata": {},
   "outputs": [
    {
     "data": {
      "text/plain": [
       "14"
      ]
     },
     "execution_count": 167,
     "metadata": {},
     "output_type": "execute_result"
    }
   ],
   "source": [
    "len(feature_name)"
   ]
  },
  {
   "cell_type": "code",
   "execution_count": 168,
   "metadata": {},
   "outputs": [
    {
     "data": {
      "text/html": [
       "<div>\n",
       "<style scoped>\n",
       "    .dataframe tbody tr th:only-of-type {\n",
       "        vertical-align: middle;\n",
       "    }\n",
       "\n",
       "    .dataframe tbody tr th {\n",
       "        vertical-align: top;\n",
       "    }\n",
       "\n",
       "    .dataframe thead th {\n",
       "        text-align: right;\n",
       "    }\n",
       "</style>\n",
       "<table border=\"1\" class=\"dataframe\">\n",
       "  <thead>\n",
       "    <tr style=\"text-align: right;\">\n",
       "      <th></th>\n",
       "      <th>Feature</th>\n",
       "      <th>Pearson</th>\n",
       "      <th>ROC-AUC</th>\n",
       "      <th>RFE</th>\n",
       "      <th>Logistics</th>\n",
       "      <th>Random Forest</th>\n",
       "      <th>Gradient Boosting Trees</th>\n",
       "      <th>Total</th>\n",
       "    </tr>\n",
       "  </thead>\n",
       "  <tbody>\n",
       "    <tr>\n",
       "      <th>1</th>\n",
       "      <td>A8</td>\n",
       "      <td>True</td>\n",
       "      <td>True</td>\n",
       "      <td>True</td>\n",
       "      <td>True</td>\n",
       "      <td>True</td>\n",
       "      <td>True</td>\n",
       "      <td>6</td>\n",
       "    </tr>\n",
       "    <tr>\n",
       "      <th>2</th>\n",
       "      <td>A7</td>\n",
       "      <td>True</td>\n",
       "      <td>False</td>\n",
       "      <td>True</td>\n",
       "      <td>True</td>\n",
       "      <td>True</td>\n",
       "      <td>False</td>\n",
       "      <td>4</td>\n",
       "    </tr>\n",
       "    <tr>\n",
       "      <th>3</th>\n",
       "      <td>A5</td>\n",
       "      <td>True</td>\n",
       "      <td>True</td>\n",
       "      <td>True</td>\n",
       "      <td>True</td>\n",
       "      <td>False</td>\n",
       "      <td>False</td>\n",
       "      <td>4</td>\n",
       "    </tr>\n",
       "    <tr>\n",
       "      <th>4</th>\n",
       "      <td>A10</td>\n",
       "      <td>True</td>\n",
       "      <td>True</td>\n",
       "      <td>True</td>\n",
       "      <td>False</td>\n",
       "      <td>True</td>\n",
       "      <td>False</td>\n",
       "      <td>4</td>\n",
       "    </tr>\n",
       "    <tr>\n",
       "      <th>5</th>\n",
       "      <td>A9</td>\n",
       "      <td>True</td>\n",
       "      <td>True</td>\n",
       "      <td>True</td>\n",
       "      <td>False</td>\n",
       "      <td>False</td>\n",
       "      <td>False</td>\n",
       "      <td>3</td>\n",
       "    </tr>\n",
       "    <tr>\n",
       "      <th>6</th>\n",
       "      <td>A14</td>\n",
       "      <td>False</td>\n",
       "      <td>True</td>\n",
       "      <td>True</td>\n",
       "      <td>False</td>\n",
       "      <td>False</td>\n",
       "      <td>False</td>\n",
       "      <td>2</td>\n",
       "    </tr>\n",
       "    <tr>\n",
       "      <th>7</th>\n",
       "      <td>A13</td>\n",
       "      <td>False</td>\n",
       "      <td>True</td>\n",
       "      <td>True</td>\n",
       "      <td>False</td>\n",
       "      <td>False</td>\n",
       "      <td>False</td>\n",
       "      <td>2</td>\n",
       "    </tr>\n",
       "    <tr>\n",
       "      <th>8</th>\n",
       "      <td>A6</td>\n",
       "      <td>False</td>\n",
       "      <td>False</td>\n",
       "      <td>True</td>\n",
       "      <td>False</td>\n",
       "      <td>False</td>\n",
       "      <td>False</td>\n",
       "      <td>1</td>\n",
       "    </tr>\n",
       "    <tr>\n",
       "      <th>9</th>\n",
       "      <td>A4</td>\n",
       "      <td>False</td>\n",
       "      <td>False</td>\n",
       "      <td>False</td>\n",
       "      <td>True</td>\n",
       "      <td>False</td>\n",
       "      <td>False</td>\n",
       "      <td>1</td>\n",
       "    </tr>\n",
       "    <tr>\n",
       "      <th>10</th>\n",
       "      <td>A3</td>\n",
       "      <td>False</td>\n",
       "      <td>False</td>\n",
       "      <td>True</td>\n",
       "      <td>False</td>\n",
       "      <td>False</td>\n",
       "      <td>False</td>\n",
       "      <td>1</td>\n",
       "    </tr>\n",
       "    <tr>\n",
       "      <th>11</th>\n",
       "      <td>A2</td>\n",
       "      <td>False</td>\n",
       "      <td>False</td>\n",
       "      <td>True</td>\n",
       "      <td>False</td>\n",
       "      <td>False</td>\n",
       "      <td>False</td>\n",
       "      <td>1</td>\n",
       "    </tr>\n",
       "    <tr>\n",
       "      <th>12</th>\n",
       "      <td>A12</td>\n",
       "      <td>False</td>\n",
       "      <td>False</td>\n",
       "      <td>False</td>\n",
       "      <td>True</td>\n",
       "      <td>False</td>\n",
       "      <td>False</td>\n",
       "      <td>1</td>\n",
       "    </tr>\n",
       "    <tr>\n",
       "      <th>13</th>\n",
       "      <td>A11</td>\n",
       "      <td>False</td>\n",
       "      <td>False</td>\n",
       "      <td>False</td>\n",
       "      <td>False</td>\n",
       "      <td>False</td>\n",
       "      <td>False</td>\n",
       "      <td>0</td>\n",
       "    </tr>\n",
       "    <tr>\n",
       "      <th>14</th>\n",
       "      <td>A1</td>\n",
       "      <td>False</td>\n",
       "      <td>False</td>\n",
       "      <td>False</td>\n",
       "      <td>False</td>\n",
       "      <td>False</td>\n",
       "      <td>False</td>\n",
       "      <td>0</td>\n",
       "    </tr>\n",
       "  </tbody>\n",
       "</table>\n",
       "</div>"
      ],
      "text/plain": [
       "   Feature  Pearson  ROC-AUC    RFE  Logistics  Random Forest  Gradient Boosting Trees  Total\n",
       "1       A8     True     True   True       True           True                     True      6\n",
       "2       A7     True    False   True       True           True                    False      4\n",
       "3       A5     True     True   True       True          False                    False      4\n",
       "4      A10     True     True   True      False           True                    False      4\n",
       "5       A9     True     True   True      False          False                    False      3\n",
       "6      A14    False     True   True      False          False                    False      2\n",
       "7      A13    False     True   True      False          False                    False      2\n",
       "8       A6    False    False   True      False          False                    False      1\n",
       "9       A4    False    False  False       True          False                    False      1\n",
       "10      A3    False    False   True      False          False                    False      1\n",
       "11      A2    False    False   True      False          False                    False      1\n",
       "12     A12    False    False  False       True          False                    False      1\n",
       "13     A11    False    False  False      False          False                    False      0\n",
       "14      A1    False    False  False      False          False                    False      0"
      ]
     },
     "execution_count": 168,
     "metadata": {},
     "output_type": "execute_result"
    }
   ],
   "source": [
    "pd.set_option('display.max_rows', None)\n",
    "# put all selection together\n",
    "feature_selection_df = pd.DataFrame({'Feature':feature_name,\n",
    "                                     'Pearson':cor_support,\n",
    "                                    'ROC-AUC':rocauc_support,\n",
    "                                   # 'Chi-2':chi_support, \n",
    "                                    'RFE':rfe_support, \n",
    "                                    'Logistics':embeded_lr_support,\n",
    "                                    'Random Forest':embeded_rf_support,\n",
    "                           #         'LightGBM':embeded_lgb_support,\n",
    "                                    'Gradient Boosting Trees':embeded_gbt_support})\n",
    "# count the selected times for each feature\n",
    "feature_selection_df['Total'] = np.sum(feature_selection_df, axis=1)\n",
    "# display the top 100\n",
    "feature_selection_df = feature_selection_df.sort_values(['Total','Feature'] , ascending=False)\n",
    "feature_selection_df.index = range(1, len(feature_selection_df)+1)\n",
    "feature_selection_df.head(30)"
   ]
  },
  {
   "cell_type": "code",
   "execution_count": 169,
   "metadata": {},
   "outputs": [
    {
     "data": {
      "text/plain": [
       "array(['A8', 'A7', 'A5', 'A10', 'A9', 'A14', 'A13'], dtype=object)"
      ]
     },
     "execution_count": 169,
     "metadata": {},
     "output_type": "execute_result"
    }
   ],
   "source": [
    "np.array(feature_selection_df[feature_selection_df.Total > 1].Feature)"
   ]
  },
  {
   "cell_type": "markdown",
   "metadata": {},
   "source": [
    "# Compare the performance in Random Forest"
   ]
  },
  {
   "cell_type": "code",
   "execution_count": 105,
   "metadata": {},
   "outputs": [],
   "source": [
    "# create a function to build random forests and compare performance in train and test set\n",
    "\n",
    "def run_randomForests(X_train, X_test, y_train, y_test):\n",
    "    rf = RandomForestClassifier(n_estimators=200, random_state=39, max_depth=4)\n",
    "    rf.fit(X_train, y_train)\n",
    "    print('Train set')\n",
    "    pred = rf.predict_proba(X_train)\n",
    "    print('Random Forests roc-auc: {}'.format(roc_auc_score(y_train, pred[:,1])))\n",
    "    print('Test set')\n",
    "    pred = rf.predict_proba(X_test)\n",
    "    print('Random Forests roc-auc: {}'.format(roc_auc_score(y_test, pred[:,1])))"
   ]
  },
  {
   "cell_type": "code",
   "execution_count": 106,
   "metadata": {},
   "outputs": [
    {
     "name": "stdout",
     "output_type": "stream",
     "text": [
      "Train set\n",
      "Random Forests roc-auc: 0.9677687380993596\n",
      "Test set\n",
      "Random Forests roc-auc: 0.9318225099980956\n"
     ]
    }
   ],
   "source": [
    "# original\n",
    "run_randomForests(X_train_original,X_test_original,y_train, y_test)"
   ]
  },
  {
   "cell_type": "code",
   "execution_count": 108,
   "metadata": {},
   "outputs": [
    {
     "name": "stdout",
     "output_type": "stream",
     "text": [
      "Train set\n",
      "Random Forests roc-auc: 0.9677687380993596\n",
      "Test set\n",
      "Random Forests roc-auc: 0.9318225099980956\n"
     ]
    }
   ],
   "source": [
    "# filter methods - basic\n",
    "run_randomForests(X_train_basic_filter,X_test_basic_filter,y_train, y_test)"
   ]
  },
  {
   "cell_type": "code",
   "execution_count": 109,
   "metadata": {},
   "outputs": [
    {
     "name": "stdout",
     "output_type": "stream",
     "text": [
      "Train set\n",
      "Random Forests roc-auc: 0.9677687380993596\n",
      "Test set\n",
      "Random Forests roc-auc: 0.9318225099980956\n"
     ]
    }
   ],
   "source": [
    "# filter methods - correlation\n",
    "run_randomForests(X_train_corr,X_test_corr,y_train, y_test)"
   ]
  },
  {
   "cell_type": "code",
   "execution_count": 110,
   "metadata": {},
   "outputs": [
    {
     "name": "stdout",
     "output_type": "stream",
     "text": [
      "Train set\n",
      "Random Forests roc-auc: 0.9678899082568807\n",
      "Test set\n",
      "Random Forests roc-auc: 0.9292991811083603\n"
     ]
    }
   ],
   "source": [
    "# filter methods - univariate roc-auc\n",
    "run_randomForests(X_train[selected_feat.index],X_test_corr[selected_feat.index],y_train, y_test)"
   ]
  },
  {
   "cell_type": "code",
   "execution_count": 111,
   "metadata": {},
   "outputs": [
    {
     "name": "stdout",
     "output_type": "stream",
     "text": [
      "Train set\n",
      "Random Forests roc-auc: 0.9487450233685303\n",
      "Test set\n",
      "Random Forests roc-auc: 0.9175395162826128\n"
     ]
    }
   ],
   "source": [
    "# embedded methods - Logistic regression coefficients\n",
    "run_randomForests(X_train_coef,\n",
    "                  X_test_coef,\n",
    "                  y_train, y_test)"
   ]
  },
  {
   "cell_type": "markdown",
   "metadata": {},
   "source": [
    "Selecting features using the logistic regression coefficients gives a slightly worse performance than the univariate roc-auc (0.798 vs 0.795). However, keep in mind that the univariate model is using 90 features vs the only 28 used by the coefficients selection method. This means that many of those 90 features are still redundant, and we could potentially reduce the feature space further without loosing performance significantly."
   ]
  },
  {
   "cell_type": "code",
   "execution_count": 121,
   "metadata": {},
   "outputs": [
    {
     "name": "stdout",
     "output_type": "stream",
     "text": [
      "Train set\n",
      "Random Forests roc-auc: 0.966920546996711\n",
      "Test set\n",
      "Random Forests roc-auc: 0.9351552085317082\n"
     ]
    }
   ],
   "source": [
    "# embedded methods - Random forests\n",
    "run_randomForests(X_train_rf,\n",
    "                  X_test_rf,\n",
    "                  y_train, y_test)"
   ]
  },
  {
   "cell_type": "markdown",
   "metadata": {},
   "source": [
    "Well this was a big jump!! We can see how by selecting features using random forest importance, we reduce the feature space up to only 16 features, and yet the algorithm shows a greater predictive performance compared to the one using more features (0.813 vs 0.798)!!!\n",
    "\n",
    "We can see the power of feature selection now!"
   ]
  },
  {
   "cell_type": "code",
   "execution_count": null,
   "metadata": {},
   "outputs": [],
   "source": []
  },
  {
   "cell_type": "markdown",
   "metadata": {},
   "source": [
    "# Logistic Regression"
   ]
  },
  {
   "cell_type": "code",
   "execution_count": 112,
   "metadata": {},
   "outputs": [],
   "source": [
    "# create a function to build logistic regression and compare performance in train and test set\n",
    "\n",
    "def run_logistic(X_train, X_test, y_train, y_test):\n",
    "    # function to train and test the performance of logistic regression\n",
    "    logit = LogisticRegression(random_state=44)\n",
    "    logit.fit(X_train, y_train)\n",
    "    print('Train set')\n",
    "    pred = logit.predict_proba(X_train)\n",
    "    print('Logistic Regression roc-auc: {}'.format(roc_auc_score(y_train, pred[:,1])))\n",
    "    print('Test set')\n",
    "    pred = logit.predict_proba(X_test)\n",
    "    print('Logistic Regression roc-auc: {}'.format(roc_auc_score(y_test, pred[:,1])))"
   ]
  },
  {
   "cell_type": "code",
   "execution_count": 114,
   "metadata": {},
   "outputs": [
    {
     "name": "stdout",
     "output_type": "stream",
     "text": [
      "Train set\n",
      "Logistic Regression roc-auc: 0.9466678206681669\n",
      "Test set\n",
      "Logistic Regression roc-auc: 0.910207579508665\n"
     ]
    }
   ],
   "source": [
    "# original\n",
    "scaler = StandardScaler().fit(X_train_original)\n",
    "\n",
    "run_logistic(scaler.transform(X_train_original),scaler.transform(X_test_original),y_train, y_test)"
   ]
  },
  {
   "cell_type": "code",
   "execution_count": 115,
   "metadata": {},
   "outputs": [
    {
     "name": "stdout",
     "output_type": "stream",
     "text": [
      "Train set\n",
      "Logistic Regression roc-auc: 0.9466678206681669\n",
      "Test set\n",
      "Logistic Regression roc-auc: 0.910207579508665\n"
     ]
    }
   ],
   "source": [
    "# filter methods - basic\n",
    "scaler = StandardScaler().fit(X_train_basic_filter)\n",
    "\n",
    "run_logistic(scaler.transform(X_train_basic_filter),scaler.transform(X_test_basic_filter),y_train, y_test)"
   ]
  },
  {
   "cell_type": "code",
   "execution_count": 116,
   "metadata": {},
   "outputs": [
    {
     "name": "stdout",
     "output_type": "stream",
     "text": [
      "Train set\n",
      "Logistic Regression roc-auc: 0.9466678206681669\n",
      "Test set\n",
      "Logistic Regression roc-auc: 0.910207579508665\n"
     ]
    }
   ],
   "source": [
    "# filter methods - correlation\n",
    "scaler = StandardScaler().fit(X_train_corr)\n",
    "\n",
    "run_logistic(scaler.transform(X_train_corr),scaler.transform(X_test_corr),y_train, y_test)"
   ]
  },
  {
   "cell_type": "code",
   "execution_count": 117,
   "metadata": {},
   "outputs": [
    {
     "name": "stdout",
     "output_type": "stream",
     "text": [
      "Train set\n",
      "Logistic Regression roc-auc: 0.9466851306906698\n",
      "Test set\n",
      "Logistic Regression roc-auc: 0.9122071986288326\n"
     ]
    }
   ],
   "source": [
    "# filter methods - univariate roc-auc\n",
    "scaler = StandardScaler().fit(X_train[selected_feat.index])\n",
    "\n",
    "run_logistic(scaler.transform(X_train[selected_feat.index]),\n",
    "             scaler.transform(X_test_corr[selected_feat.index]),\n",
    "                  y_train, y_test)"
   ]
  },
  {
   "cell_type": "code",
   "execution_count": 118,
   "metadata": {},
   "outputs": [
    {
     "name": "stdout",
     "output_type": "stream",
     "text": [
      "Train set\n",
      "Random Forests roc-auc: 0.9487450233685303\n",
      "Test set\n",
      "Random Forests roc-auc: 0.9175395162826128\n"
     ]
    }
   ],
   "source": [
    "# embedded methods - Logistic regression coefficients\n",
    "run_randomForests(X_train_coef,\n",
    "                  X_test_coef,\n",
    "                  y_train, y_test)"
   ]
  },
  {
   "cell_type": "markdown",
   "metadata": {},
   "source": [
    "In this case, we can see that the selection of features using the feature coefficient led to a better performing logistic regression model (0.795 vs 0.794) compared to univariate feature selection. In addition, the new model has 28 vs 90 features, so it is a win-win :)\n",
    "\n",
    "That is all for this lecture. I hope you enjoyed it!"
   ]
  },
  {
   "cell_type": "code",
   "execution_count": 122,
   "metadata": {},
   "outputs": [
    {
     "name": "stdout",
     "output_type": "stream",
     "text": [
      "Train set\n",
      "Logistic Regression roc-auc: 0.938999480699325\n",
      "Test set\n",
      "Logistic Regression roc-auc: 0.9197295753189868\n"
     ]
    }
   ],
   "source": [
    "# embedded methods - Random Forests importance\n",
    "\n",
    "scaler = StandardScaler().fit(X_train_rf)\n",
    "\n",
    "run_logistic(\n",
    "    scaler.transform(X_train_rf), scaler.transform(X_test_rf), y_train, y_test)"
   ]
  },
  {
   "cell_type": "markdown",
   "metadata": {},
   "source": [
    "With Logistic regression we were not so lucky. This makes sense on the other hand, because selection of features by random forest importance, optimises feature selection for tree based methods, as it is able to capture non-linearities that linear regression can not.\n",
    "\n",
    "Therefore, if we are selecting features for a linear model, it is better to use selection procedures targeted to those models, like importance by regression coefficient or Lasso. And if we are selecting features for trees, it is better to use tree derived importance.\n",
    "\n",
    "That is all for this lecture. I hope you enjoyed it!"
   ]
  },
  {
   "cell_type": "markdown",
   "metadata": {},
   "source": [
    "# Compare performance using Gradient Boosting Tree"
   ]
  },
  {
   "cell_type": "code",
   "execution_count": 179,
   "metadata": {},
   "outputs": [],
   "source": [
    "# create a function to build gradient boosted trees\n",
    "# and compare performance in train and test set\n",
    "\n",
    "\n",
    "def run_gradientboosting(X_train, X_test, y_train, y_test):\n",
    "    rf = GradientBoostingClassifier(\n",
    "        n_estimators=200, random_state=39, max_depth=4)\n",
    "    rf.fit(X_train, y_train)\n",
    "    print('Train set')\n",
    "    pred = rf.predict_proba(X_train)\n",
    "    print('Random Forests roc-auc: {}'.format(\n",
    "        roc_auc_score(y_train, pred[:, 1])))\n",
    "    print('Test set')\n",
    "    pred = rf.predict_proba(X_test)\n",
    "    print('Random Forests roc-auc: {}'.format(\n",
    "        roc_auc_score(y_test, pred[:, 1])))"
   ]
  },
  {
   "cell_type": "code",
   "execution_count": 180,
   "metadata": {},
   "outputs": [
    {
     "name": "stdout",
     "output_type": "stream",
     "text": [
      "Train set\n",
      "Random Forests roc-auc: 0.8580491604639086\n",
      "Test set\n",
      "Random Forests roc-auc: 0.8703104170634165\n"
     ]
    }
   ],
   "source": [
    "# features selected recursively\n",
    "run_gradientboosting(X_train[selected_feat_rfe].fillna(0),\n",
    "                  X_test[selected_feat_rfe].fillna(0),\n",
    "                  y_train, y_test)# features selected altogether"
   ]
  },
  {
   "cell_type": "code",
   "execution_count": 181,
   "metadata": {},
   "outputs": [
    {
     "name": "stdout",
     "output_type": "stream",
     "text": [
      "Train set\n",
      "Random Forests roc-auc: 0.8580491604639086\n",
      "Test set\n",
      "Random Forests roc-auc: 0.8703104170634165\n"
     ]
    }
   ],
   "source": [
    "# features selected altogether\n",
    "run_gradientboosting(X_train[selected_feat].fillna(0),\n",
    "                  X_test[selected_feat].fillna(0),\n",
    "                  y_train, y_test)"
   ]
  },
  {
   "cell_type": "code",
   "execution_count": null,
   "metadata": {},
   "outputs": [],
   "source": []
  }
 ],
 "metadata": {
  "kernelspec": {
   "display_name": "Python 3",
   "language": "python",
   "name": "python3"
  },
  "language_info": {
   "codemirror_mode": {
    "name": "ipython",
    "version": 3
   },
   "file_extension": ".py",
   "mimetype": "text/x-python",
   "name": "python",
   "nbconvert_exporter": "python",
   "pygments_lexer": "ipython3",
   "version": "3.7.3"
  }
 },
 "nbformat": 4,
 "nbformat_minor": 2
}
